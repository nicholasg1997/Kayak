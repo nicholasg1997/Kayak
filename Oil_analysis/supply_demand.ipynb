{
 "cells": [
  {
   "cell_type": "markdown",
   "source": [
    "supply and demand analysis\n",
    "calculate changes in oil reserves, including the SPR, weekly and compared to last year\n",
    "determine if changes are in line with expectations\n",
    "if not in line with expectations determine if it is do to higher demand, lower production, more exports or a combination"
   ],
   "metadata": {
    "collapsed": false
   }
  },
  {
   "cell_type": "code",
   "execution_count": 1,
   "outputs": [],
   "source": [
    "import pandas as pd\n",
    "import USA_oil_data as oil\n",
    "import prices\n",
    "import FRED_oil_data as fred\n",
    "import matplotlib.pyplot as plt"
   ],
   "metadata": {
    "collapsed": false,
    "ExecuteTime": {
     "start_time": "2023-05-10T10:56:57.550992Z",
     "end_time": "2023-05-10T10:56:58.991753Z"
    }
   }
  },
  {
   "cell_type": "code",
   "execution_count": 2,
   "outputs": [],
   "source": [
    "weekly_stocks = oil.weekly_stocks()\n",
    "spr = oil.spr_reserves()"
   ],
   "metadata": {
    "collapsed": false,
    "ExecuteTime": {
     "start_time": "2023-05-10T10:56:58.992676Z",
     "end_time": "2023-05-10T10:57:01.613711Z"
    }
   }
  },
  {
   "cell_type": "code",
   "execution_count": 6,
   "outputs": [],
   "source": [],
   "metadata": {
    "collapsed": false,
    "ExecuteTime": {
     "start_time": "2023-05-10T11:02:26.049443Z",
     "end_time": "2023-05-10T11:02:26.054636Z"
    }
   }
  },
  {
   "cell_type": "code",
   "execution_count": 8,
   "outputs": [],
   "source": [],
   "metadata": {
    "collapsed": false,
    "ExecuteTime": {
     "start_time": "2023-05-10T11:09:12.168144Z",
     "end_time": "2023-05-10T11:09:12.173357Z"
    }
   }
  },
  {
   "cell_type": "code",
   "execution_count": null,
   "outputs": [],
   "source": [],
   "metadata": {
    "collapsed": false
   }
  }
 ],
 "metadata": {
  "kernelspec": {
   "display_name": "Python 3",
   "language": "python",
   "name": "python3"
  },
  "language_info": {
   "codemirror_mode": {
    "name": "ipython",
    "version": 2
   },
   "file_extension": ".py",
   "mimetype": "text/x-python",
   "name": "python",
   "nbconvert_exporter": "python",
   "pygments_lexer": "ipython2",
   "version": "2.7.6"
  }
 },
 "nbformat": 4,
 "nbformat_minor": 0
}
