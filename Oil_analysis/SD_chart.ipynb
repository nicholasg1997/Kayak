{
 "cells": [
  {
   "cell_type": "code",
   "execution_count": 1,
   "metadata": {
    "collapsed": true,
    "ExecuteTime": {
     "start_time": "2023-06-08T13:50:05.862914Z",
     "end_time": "2023-06-08T13:50:05.937630Z"
    }
   },
   "outputs": [],
   "source": [
    "import pandas as pd\n",
    "import USA_oil_data as oil\n",
    "import matplotlib.pyplot as plt\n",
    "import matplotlib.dates as mdates\n",
    "import seaborn as sns\n",
    "sns.set()"
   ]
  },
  {
   "cell_type": "markdown",
   "source": [
    "# monthly SD"
   ],
   "metadata": {
    "collapsed": false
   }
  },
  {
   "cell_type": "code",
   "execution_count": null,
   "outputs": [],
   "source": [
    "weekly_stocks = oil.weekly_stocks().to_frame() / 7\n",
    "weekly_stocks['change'] = weekly_stocks['stocks'].diff(-1)\n",
    "weekly_stocks['SD_change'] = weekly_stocks['change'].diff(-52)\n",
    "\n",
    "weekly_stocks['year'] = weekly_stocks.index.year\n",
    "weekly_stocks['month'] = weekly_stocks.index.month\n",
    "week_info = weekly_stocks.index.isocalendar()\n",
    "week_number = week_info['week']\n",
    "weekly_stocks = pd.merge(week_number, weekly_stocks, left_index=True, right_index=True)\n",
    "\n",
    "weekly_stocks = weekly_stocks[weekly_stocks['week'] <= 52]\n",
    "weekly_stocks = weekly_stocks[weekly_stocks['year'] >= 2018]\n",
    "\n",
    "grouped = weekly_stocks.groupby('year')"
   ],
   "metadata": {
    "collapsed": false,
    "ExecuteTime": {
     "start_time": "2023-06-06T10:12:30.860507Z",
     "end_time": "2023-06-06T10:12:32.861993Z"
    }
   }
  },
  {
   "cell_type": "code",
   "execution_count": null,
   "outputs": [],
   "source": [
    "pos = 0\n",
    "width = 0.15\n",
    "fig, ax = plt.subplots(figsize=(15,8))\n",
    "for name, group in grouped:\n",
    "    position = group['week']\n",
    "    data = group['SD_change']\n",
    "    data = data[:52]\n",
    "    ax.bar(position + pos * width, data, width=width, label=name)\n",
    "    pos += 1\n",
    "plt.legend()\n",
    "plt.xlabel('Week')\n",
    "plt.ylabel('MBBL/D')\n",
    "plt.title('weekly SD change (YOY)')\n",
    "plt.show()"
   ],
   "metadata": {
    "collapsed": false,
    "ExecuteTime": {
     "start_time": "2023-06-06T10:12:32.865438Z",
     "end_time": "2023-06-06T10:12:33.316726Z"
    }
   }
  },
  {
   "cell_type": "code",
   "execution_count": null,
   "outputs": [],
   "source": [
    "monthly_SD_data = []\n",
    "for name, group in grouped:\n",
    "    year = name\n",
    "    monthly_group = group.groupby('month')\n",
    "    for n, g in monthly_group:\n",
    "        week = n\n",
    "        data = g['SD_change'].sum()\n",
    "        monthly_SD_data.append([year, week, data])\n",
    "\n",
    "monthly_SD_df = pd.DataFrame(monthly_SD_data, columns=['year', 'month', 'SD_change'])\n",
    "\n",
    "grouped = monthly_SD_df.groupby('year')"
   ],
   "metadata": {
    "collapsed": false,
    "ExecuteTime": {
     "start_time": "2023-06-06T10:12:33.327035Z",
     "end_time": "2023-06-06T10:12:33.328753Z"
    }
   }
  },
  {
   "cell_type": "code",
   "execution_count": null,
   "outputs": [],
   "source": [
    "os = 0\n",
    "width = 0.15\n",
    "fig, ax = plt.subplots(figsize=(15,8))\n",
    "for name, group in grouped:\n",
    "    position = group['month']\n",
    "    data = group['SD_change'] / 7\n",
    "    ax.bar(position + pos * width, data, width=width, label=name)\n",
    "    pos += 1\n",
    "\n",
    "plt.legend()\n",
    "plt.xlabel('month')\n",
    "plt.ylabel('MBBL/D')\n",
    "plt.title('monthly SD change (YOY)')\n",
    "plt.show()"
   ],
   "metadata": {
    "collapsed": false,
    "ExecuteTime": {
     "start_time": "2023-06-06T10:12:33.339137Z",
     "end_time": "2023-06-06T10:12:33.586443Z"
    }
   }
  },
  {
   "cell_type": "code",
   "execution_count": null,
   "outputs": [],
   "source": [
    "monthly_SD_df['date'] = pd.to_datetime(monthly_SD_df['year'].astype(str) + '-' + monthly_SD_df['month'].astype(str) + '-1')"
   ],
   "metadata": {
    "collapsed": false,
    "ExecuteTime": {
     "start_time": "2023-06-06T10:12:33.586112Z",
     "end_time": "2023-06-06T10:12:33.591382Z"
    }
   }
  },
  {
   "cell_type": "code",
   "execution_count": null,
   "outputs": [],
   "source": [
    "monthly_SD_df.set_index('date', inplace=True)"
   ],
   "metadata": {
    "collapsed": false,
    "ExecuteTime": {
     "start_time": "2023-06-06T10:12:33.593238Z",
     "end_time": "2023-06-06T10:12:33.594892Z"
    }
   }
  },
  {
   "cell_type": "code",
   "execution_count": null,
   "outputs": [],
   "source": [
    "display(monthly_SD_df)"
   ],
   "metadata": {
    "collapsed": false,
    "ExecuteTime": {
     "start_time": "2023-06-06T10:12:33.597118Z",
     "end_time": "2023-06-06T10:12:33.603100Z"
    }
   }
  },
  {
   "cell_type": "code",
   "execution_count": null,
   "outputs": [],
   "source": [
    "#net imports\n",
    "imports, exports = oil.imports_exports(only_crude=False)\n",
    "imports_exports = pd.merge(imports, exports, on='period')\n",
    "imports_exports['year'] = imports_exports.index.year\n",
    "imports_exports = imports_exports[imports_exports['year'] > 2005]\n",
    "net_imports = imports_exports['imports'] - imports_exports['exports']\n",
    "net_imports.rename(\"net_imports\", inplace=True)\n",
    "net_imports = net_imports.groupby(pd.Grouper(freq='MS')).mean()\n",
    "\n",
    "#production\n",
    "production = oil.mbbl_production(daily=True)\n",
    "\n",
    "#product supplied (EIA uses product supplied to represent U.S. petroleum consumption)\n",
    "product_supplied = oil.monthly_product_supplied()\n",
    "product_supplied = product_supplied * -1\n",
    "\n",
    "#refinery/blender net inputs\n",
    "net_refinery = oil.refinery_net_input(daily=True)\n",
    "\n",
    "supply_demand = pd.merge(production, product_supplied, on='period')\n",
    "supply_demand = pd.merge(supply_demand, net_imports, on='period')\n",
    "#supply_demand = pd.merge(supply_demand, net_refinery, on='period')\n",
    "\n",
    "changes = supply_demand.diff(1)\n",
    "changes = supply_demand.diff(12)\n",
    "\n",
    "sd = monthly_SD_df['SD_change'].rename('SD')\n",
    "\n"
   ],
   "metadata": {
    "collapsed": false,
    "ExecuteTime": {
     "start_time": "2023-06-06T10:12:33.606253Z",
     "end_time": "2023-06-06T10:12:41.825738Z"
    }
   }
  },
  {
   "cell_type": "code",
   "execution_count": null,
   "outputs": [],
   "source": [
    "changes = changes[changes.index > '2017-12-01']\n",
    "fig, ax = plt.subplots(figsize=(10,5))\n",
    "changes.plot(kind='bar', stacked=True, ax=ax)\n",
    "plt.title('Change in Supply and Demand (YoY)')\n",
    "ax.set_xlabel('Month')\n",
    "ax.set_ylabel('Change (MBBL/D)')\n",
    "plt.xticks(rotation=85)\n",
    "plt.show()"
   ],
   "metadata": {
    "collapsed": false,
    "ExecuteTime": {
     "start_time": "2023-06-06T10:12:41.828116Z",
     "end_time": "2023-06-06T10:12:42.437758Z"
    }
   }
  },
  {
   "cell_type": "code",
   "execution_count": null,
   "outputs": [],
   "source": [
    "sd_data = sd[sd.index > '2017-12-01' ]\n",
    "ax = sd_data.plot.bar(ylabel=\"MBBL\", xlabel=\"Date\", figsize=(15,8),\n",
    "                 color='black', position=0, width=0.3)\n",
    "\n",
    "changes.plot.bar(stacked=True, sharex=True, ax=ax, position=1, width=0.3)\n",
    "\n",
    "\n",
    "plt.title('SD by Components')\n",
    "plt.legend(loc='upper center', bbox_to_anchor=(0.5, 0.05), ncol=5)\n",
    "plt.ylabel('YoY Change (MBBL/D)')\n",
    "plt.xlabel('date')\n",
    "plt.show()"
   ],
   "metadata": {
    "collapsed": false,
    "ExecuteTime": {
     "start_time": "2023-06-06T10:12:42.450058Z",
     "end_time": "2023-06-06T10:12:43.125832Z"
    }
   }
  },
  {
   "cell_type": "code",
   "execution_count": null,
   "outputs": [],
   "source": [],
   "metadata": {
    "collapsed": false,
    "ExecuteTime": {
     "start_time": "2023-06-06T10:12:43.129111Z",
     "end_time": "2023-06-06T10:12:43.130606Z"
    }
   }
  },
  {
   "cell_type": "markdown",
   "source": [
    "# weekly SD\n",
    "SD balance = (weekly change - last year's weekly change) / 7\n",
    "Factors = change in supply - change in consumption - change in net imports\n",
    "positive SD balance = increasing in stocks\n",
    "negative SD balance = decreasing in stocks\n",
    "\n",
    "Factors:\n",
    "-\n",
    "- U.S. Refiner Net Input of Crude Oil (Thousand Barrels per Day) [x] (refinery_inputs)\n",
    "- U.S. Net Imports of Crude Oil (Thousand Barrels per Day) [x] (net_imports)\n",
    "- U.S. Field Production of Crude Oil (Thousand Barrels per Day) [x] (production)\n",
    "- U.S. Product Supplied of Crude Oil and Petroleum Products (Thousand Barrels per Day) [x] (product_supplied)\n",
    "\n",
    "SD:\n",
    "- U.S. Ending Stocks of Crude Oil (Thousand Barrels) / 7 [x] (stocks)\n"
   ],
   "metadata": {
    "collapsed": false
   }
  },
  {
   "cell_type": "code",
   "execution_count": 44,
   "outputs": [],
   "source": [
    "stocks = oil.weekly_stocks().to_frame()\n",
    "#stocks = oil.ending_stocks(crude_only=True).rename('stocks').to_frame() / 7\n",
    "stocks = stocks.sort_index()\n",
    "stocks['change'] = stocks['stocks'].diff(1)\n",
    "stocks['Stock_change'] = stocks['change'].diff(52)"
   ],
   "metadata": {
    "collapsed": false,
    "ExecuteTime": {
     "start_time": "2023-06-08T13:11:20.398564Z",
     "end_time": "2023-06-08T13:11:22.830289Z"
    }
   }
  },
  {
   "cell_type": "code",
   "execution_count": 45,
   "outputs": [
    {
     "name": "stderr",
     "output_type": "stream",
     "text": [
      "/Users/nickgault/PycharmProjects/Kayak/Oil_analysis/USA_oil_data.py:34: FutureWarning: The default value of numeric_only in DataFrameGroupBy.sum is deprecated. In a future version, numeric_only will default to False. Either specify numeric_only or select only columns which should be valid for the function.\n",
      "  df = df.groupby('period').sum()['value']\n"
     ]
    }
   ],
   "source": [
    "product_supplied = oil.weekly_product_supplied() * -1"
   ],
   "metadata": {
    "collapsed": false,
    "ExecuteTime": {
     "start_time": "2023-06-08T13:11:22.831339Z",
     "end_time": "2023-06-08T13:11:24.384540Z"
    }
   }
  },
  {
   "cell_type": "code",
   "execution_count": 46,
   "outputs": [],
   "source": [
    "imports, exports = oil.imports_exports(crude_only=True)\n",
    "net_imports = imports - exports\n",
    "net_imports = net_imports.rename(\"net_imports\")"
   ],
   "metadata": {
    "collapsed": false,
    "ExecuteTime": {
     "start_time": "2023-06-08T13:11:24.384650Z",
     "end_time": "2023-06-08T13:11:28.850515Z"
    }
   }
  },
  {
   "cell_type": "code",
   "execution_count": 47,
   "outputs": [
    {
     "name": "stderr",
     "output_type": "stream",
     "text": [
      "/Users/nickgault/PycharmProjects/Kayak/Oil_analysis/USA_oil_data.py:34: FutureWarning: The default value of numeric_only in DataFrameGroupBy.sum is deprecated. In a future version, numeric_only will default to False. Either specify numeric_only or select only columns which should be valid for the function.\n",
      "  df = df.groupby('period').sum()['value']\n"
     ]
    }
   ],
   "source": [
    "refinery_inputs = oil.weekly_refinery_inputs()"
   ],
   "metadata": {
    "collapsed": false,
    "ExecuteTime": {
     "start_time": "2023-06-08T13:11:28.853719Z",
     "end_time": "2023-06-08T13:11:30.106461Z"
    }
   }
  },
  {
   "cell_type": "code",
   "execution_count": 48,
   "outputs": [],
   "source": [
    "production = oil.weekly_field_production().sort_index()"
   ],
   "metadata": {
    "collapsed": false,
    "ExecuteTime": {
     "start_time": "2023-06-08T13:11:30.108112Z",
     "end_time": "2023-06-08T13:11:36.826482Z"
    }
   }
  },
  {
   "cell_type": "code",
   "execution_count": 49,
   "outputs": [],
   "source": [
    "master_df = pd.merge(refinery_inputs, net_imports, on='period')\n",
    "#master_df = pd.merge(master_df, refinery_inputs, on='period')\n",
    "master_df = pd.merge(master_df, production, on='period')"
   ],
   "metadata": {
    "collapsed": false,
    "ExecuteTime": {
     "start_time": "2023-06-08T13:11:36.829308Z",
     "end_time": "2023-06-08T13:11:36.838729Z"
    }
   }
  },
  {
   "cell_type": "code",
   "execution_count": 50,
   "outputs": [
    {
     "data": {
      "text/plain": "            stocks   change  Stock_change\nperiod                                   \n2023-05-05  462584   2951.0       -5536.0\n2023-05-12  467624   5040.0        8434.0\n2023-05-19  455168 -12456.0      -11437.0\n2023-05-26  459657   4489.0        9557.0\n2023-06-02  459205   -452.0       -2477.0",
      "text/html": "<div>\n<style scoped>\n    .dataframe tbody tr th:only-of-type {\n        vertical-align: middle;\n    }\n\n    .dataframe tbody tr th {\n        vertical-align: top;\n    }\n\n    .dataframe thead th {\n        text-align: right;\n    }\n</style>\n<table border=\"1\" class=\"dataframe\">\n  <thead>\n    <tr style=\"text-align: right;\">\n      <th></th>\n      <th>stocks</th>\n      <th>change</th>\n      <th>Stock_change</th>\n    </tr>\n    <tr>\n      <th>period</th>\n      <th></th>\n      <th></th>\n      <th></th>\n    </tr>\n  </thead>\n  <tbody>\n    <tr>\n      <th>2023-05-05</th>\n      <td>462584</td>\n      <td>2951.0</td>\n      <td>-5536.0</td>\n    </tr>\n    <tr>\n      <th>2023-05-12</th>\n      <td>467624</td>\n      <td>5040.0</td>\n      <td>8434.0</td>\n    </tr>\n    <tr>\n      <th>2023-05-19</th>\n      <td>455168</td>\n      <td>-12456.0</td>\n      <td>-11437.0</td>\n    </tr>\n    <tr>\n      <th>2023-05-26</th>\n      <td>459657</td>\n      <td>4489.0</td>\n      <td>9557.0</td>\n    </tr>\n    <tr>\n      <th>2023-06-02</th>\n      <td>459205</td>\n      <td>-452.0</td>\n      <td>-2477.0</td>\n    </tr>\n  </tbody>\n</table>\n</div>"
     },
     "metadata": {},
     "output_type": "display_data"
    }
   ],
   "source": [
    "display(stocks.tail())"
   ],
   "metadata": {
    "collapsed": false,
    "ExecuteTime": {
     "start_time": "2023-06-08T13:11:36.844674Z",
     "end_time": "2023-06-08T13:11:36.858566Z"
    }
   }
  },
  {
   "cell_type": "code",
   "execution_count": 51,
   "outputs": [
    {
     "data": {
      "text/plain": "            weekly_refinery_inputs  net_imports  weekly_field_production\nperiod                                                                  \n2023-05-05                   15745       2677.0                    12300\n2023-05-12                   15990       2550.0                    12200\n2023-05-19                   16069       1301.0                    12300\n2023-05-26                   16166       2302.0                    12200\n2023-06-02                   16647       3925.0                    12400",
      "text/html": "<div>\n<style scoped>\n    .dataframe tbody tr th:only-of-type {\n        vertical-align: middle;\n    }\n\n    .dataframe tbody tr th {\n        vertical-align: top;\n    }\n\n    .dataframe thead th {\n        text-align: right;\n    }\n</style>\n<table border=\"1\" class=\"dataframe\">\n  <thead>\n    <tr style=\"text-align: right;\">\n      <th></th>\n      <th>weekly_refinery_inputs</th>\n      <th>net_imports</th>\n      <th>weekly_field_production</th>\n    </tr>\n    <tr>\n      <th>period</th>\n      <th></th>\n      <th></th>\n      <th></th>\n    </tr>\n  </thead>\n  <tbody>\n    <tr>\n      <th>2023-05-05</th>\n      <td>15745</td>\n      <td>2677.0</td>\n      <td>12300</td>\n    </tr>\n    <tr>\n      <th>2023-05-12</th>\n      <td>15990</td>\n      <td>2550.0</td>\n      <td>12200</td>\n    </tr>\n    <tr>\n      <th>2023-05-19</th>\n      <td>16069</td>\n      <td>1301.0</td>\n      <td>12300</td>\n    </tr>\n    <tr>\n      <th>2023-05-26</th>\n      <td>16166</td>\n      <td>2302.0</td>\n      <td>12200</td>\n    </tr>\n    <tr>\n      <th>2023-06-02</th>\n      <td>16647</td>\n      <td>3925.0</td>\n      <td>12400</td>\n    </tr>\n  </tbody>\n</table>\n</div>"
     },
     "metadata": {},
     "output_type": "display_data"
    }
   ],
   "source": [
    "display(master_df.tail())"
   ],
   "metadata": {
    "collapsed": false,
    "ExecuteTime": {
     "start_time": "2023-06-08T13:11:36.852598Z",
     "end_time": "2023-06-08T13:11:36.876748Z"
    }
   }
  },
  {
   "cell_type": "code",
   "execution_count": null,
   "outputs": [],
   "source": [
    "#change = master_df.diff(1)\n",
    "#changes = change.diff(52)\n",
    "changes = master_df.diff(52)"
   ],
   "metadata": {
    "collapsed": false,
    "ExecuteTime": {
     "start_time": "2023-06-08T09:53:26.749400Z",
     "end_time": "2023-06-08T09:53:26.750998Z"
    }
   }
  },
  {
   "cell_type": "code",
   "execution_count": null,
   "outputs": [],
   "source": [],
   "metadata": {
    "collapsed": false,
    "ExecuteTime": {
     "start_time": "2023-06-08T09:53:26.751878Z",
     "end_time": "2023-06-08T09:53:26.753435Z"
    }
   }
  },
  {
   "cell_type": "code",
   "execution_count": null,
   "outputs": [],
   "source": [
    "sd_data = stocks['Stock_change'].rename('Storage Injections')"
   ],
   "metadata": {
    "collapsed": false,
    "ExecuteTime": {
     "start_time": "2023-06-08T09:53:26.755199Z",
     "end_time": "2023-06-08T09:53:26.766004Z"
    }
   }
  },
  {
   "cell_type": "code",
   "execution_count": null,
   "outputs": [],
   "source": [
    "start_date = '2022-01-01'\n",
    "end_date = '2023-06-06'\n",
    "\n",
    "changes = changes[start_date:end_date]\n",
    "sd_data = sd_data[start_date:end_date]"
   ],
   "metadata": {
    "collapsed": false,
    "ExecuteTime": {
     "start_time": "2023-06-08T09:53:26.765092Z",
     "end_time": "2023-06-08T09:53:26.771740Z"
    }
   }
  },
  {
   "cell_type": "code",
   "execution_count": null,
   "outputs": [],
   "source": [
    "changes.rename(columns={'weekly_product_supplied': 'Consumption', 'net_imports': 'Net Imports', 'weekly_field_production': 'Production'}, inplace=True)"
   ],
   "metadata": {
    "collapsed": false,
    "ExecuteTime": {
     "start_time": "2023-06-08T09:53:26.771861Z",
     "end_time": "2023-06-08T09:53:26.773846Z"
    }
   }
  },
  {
   "cell_type": "code",
   "execution_count": null,
   "outputs": [],
   "source": [
    "sd_data.index = pd.to_datetime(sd_data.index)\n",
    "\n",
    "ax = sd_data.plot.bar(ylabel=\"MBBL\", xlabel=\"Date\", figsize=(15,8),\n",
    "                 color='black', position=0, width=0.3)\n",
    "\n",
    "changes.plot.bar(stacked=True, sharex=True, ax=ax, position=1, width=0.3)\n",
    "\n",
    "ax.xaxis.set_major_formatter(plt.FixedFormatter(sd_data.index.strftime('%Y-%m-%d')))\n",
    "\n",
    "plt.title('change in Storage Injections by Components (YOY)')\n",
    "plt.legend(loc='upper center', bbox_to_anchor=(0.5, 0.05), ncol=5)\n",
    "plt.ylabel('YoY Change (MBBL/D)')\n",
    "plt.xlabel('date')\n",
    "plt.show()"
   ],
   "metadata": {
    "collapsed": false,
    "ExecuteTime": {
     "start_time": "2023-06-08T09:53:26.773654Z",
     "end_time": "2023-06-08T09:53:27.583671Z"
    }
   }
  },
  {
   "cell_type": "code",
   "execution_count": null,
   "outputs": [],
   "source": [
    "sd_data = sd_data.to_frame()\n",
    "sd_data['year'] = sd_data.index.year\n",
    "\n",
    "week_info = sd_data.index.isocalendar()\n",
    "week_number = week_info['week']\n",
    "\n",
    "sd_data = pd.merge(week_number, sd_data, left_index=True, right_index=True)"
   ],
   "metadata": {
    "collapsed": false,
    "ExecuteTime": {
     "start_time": "2023-06-07T13:39:30.765112Z",
     "end_time": "2023-06-07T13:39:30.776486Z"
    }
   }
  },
  {
   "cell_type": "code",
   "execution_count": null,
   "outputs": [],
   "source": [
    "grouped = sd_data.groupby('year')"
   ],
   "metadata": {
    "collapsed": false,
    "ExecuteTime": {
     "start_time": "2023-06-06T13:24:43.831230Z",
     "end_time": "2023-06-06T13:24:43.838244Z"
    }
   }
  },
  {
   "cell_type": "code",
   "execution_count": null,
   "outputs": [],
   "source": [
    "fig, ax = plt.subplots(figsize=(15,5))\n",
    "i = 0\n",
    "week_sum = {i:0 for i in range(1, 53)}\n",
    "week_count = {i:0 for i in range(1, 53)}\n",
    "for name, group in grouped:\n",
    "    group = group[group['week'] < 53]\n",
    "    weeks = group['week']\n",
    "    data = group['SD']\n",
    "    for w, d in zip(weeks, data):\n",
    "        week_sum[w] += d\n",
    "        week_count[w] += 1\n",
    "\n",
    "    ax.bar(weeks + i * width, data, width=width, label=name)\n",
    "    i += 1\n",
    "\n",
    "means = []\n",
    "for s, count in zip(week_sum.values(), week_count.values()):\n",
    "    means.append(s/count)\n",
    "\n",
    "means_df = pd.DataFrame(means)\n",
    "plt.plot(means_df.index+1, means_df, 'ro')\n",
    "\n",
    "plt.xticks(range(1, 53))\n",
    "ax.set_ylabel('Stocks')\n",
    "ax.set_xlabel('Week')\n",
    "#move legend to bottom\n",
    "ax.legend(loc='upper center', bbox_to_anchor=(0.5, -0.05), fancybox=True, shadow=True, ncol=5)\n",
    "plt.title('Weekly Change in Crude Stocks')\n",
    "\n",
    "plt.show()\n"
   ],
   "metadata": {
    "collapsed": false,
    "ExecuteTime": {
     "start_time": "2023-06-06T13:24:44.114810Z",
     "end_time": "2023-06-06T13:24:44.681535Z"
    }
   }
  },
  {
   "cell_type": "code",
   "execution_count": null,
   "outputs": [],
   "source": [
    "print(product_supplied[-1])\n",
    "print(production[-1])\n",
    "print(net_imports[-1])"
   ],
   "metadata": {
    "collapsed": false,
    "ExecuteTime": {
     "start_time": "2023-06-06T13:24:49.155943Z",
     "end_time": "2023-06-06T13:24:49.164664Z"
    }
   }
  },
  {
   "cell_type": "code",
   "execution_count": null,
   "outputs": [],
   "source": [
    "i = 3\n",
    "print(production[-i] + net_imports[-i] - product_supplied[-i])\n",
    "print((stocks[i-1] - stocks[i]))"
   ],
   "metadata": {
    "collapsed": false,
    "ExecuteTime": {
     "start_time": "2023-06-06T09:34:45.057711Z",
     "end_time": "2023-06-06T09:34:45.061900Z"
    }
   }
  },
  {
   "cell_type": "code",
   "execution_count": null,
   "outputs": [],
   "source": [
    "display(stocks[0] - stocks[1])"
   ],
   "metadata": {
    "collapsed": false,
    "ExecuteTime": {
     "start_time": "2023-06-06T09:48:38.446044Z",
     "end_time": "2023-06-06T09:48:38.450866Z"
    }
   }
  },
  {
   "cell_type": "code",
   "execution_count": null,
   "outputs": [],
   "source": [
    "display(stocks[1])"
   ],
   "metadata": {
    "collapsed": false,
    "ExecuteTime": {
     "start_time": "2023-06-06T09:46:54.304785Z",
     "end_time": "2023-06-06T09:46:54.310650Z"
    }
   }
  },
  {
   "cell_type": "code",
   "execution_count": null,
   "outputs": [],
   "source": [
    "stocks = oil.weekly_stocks()"
   ],
   "metadata": {
    "collapsed": false,
    "ExecuteTime": {
     "start_time": "2023-06-06T13:24:50.943660Z",
     "end_time": "2023-06-06T13:24:52.256633Z"
    }
   }
  },
  {
   "cell_type": "code",
   "execution_count": null,
   "outputs": [],
   "source": [
    "display(stocks)"
   ],
   "metadata": {
    "collapsed": false,
    "ExecuteTime": {
     "start_time": "2023-06-06T13:24:52.260444Z",
     "end_time": "2023-06-06T13:24:52.263424Z"
    }
   }
  },
  {
   "cell_type": "code",
   "execution_count": null,
   "outputs": [],
   "source": [
    "net_imports[-1]"
   ],
   "metadata": {
    "collapsed": false,
    "ExecuteTime": {
     "start_time": "2023-06-06T13:24:52.265346Z",
     "end_time": "2023-06-06T13:24:52.272128Z"
    }
   }
  },
  {
   "cell_type": "markdown",
   "source": [
    "# changes compared to last week"
   ],
   "metadata": {
    "collapsed": false
   }
  },
  {
   "cell_type": "code",
   "execution_count": null,
   "outputs": [],
   "source": [
    "stocks = oil.weekly_stocks().sort_index() / 7\n",
    "stock_change = stocks.diff(1)\n",
    "stock_change = stock_change.rename('stock_change')"
   ],
   "metadata": {
    "collapsed": false,
    "ExecuteTime": {
     "start_time": "2023-06-08T10:24:08.750548Z",
     "end_time": "2023-06-08T10:24:11.766953Z"
    }
   }
  },
  {
   "cell_type": "code",
   "execution_count": null,
   "outputs": [],
   "source": [],
   "metadata": {
    "collapsed": false,
    "ExecuteTime": {
     "start_time": "2023-06-08T10:24:11.766882Z",
     "end_time": "2023-06-08T10:24:11.770718Z"
    }
   }
  },
  {
   "cell_type": "code",
   "execution_count": null,
   "outputs": [],
   "source": [
    "product_supplied = oil.weekly_product_supplied()\n",
    "production = oil.weekly_field_production().sort_index()\n",
    "imp, exp = oil.imports_exports(only_crude=True)\n",
    "net_imports = imp - exp\n",
    "net_imports = net_imports.rename('net_imports')"
   ],
   "metadata": {
    "collapsed": false,
    "ExecuteTime": {
     "start_time": "2023-06-08T10:24:11.772092Z",
     "end_time": "2023-06-08T10:24:18.159681Z"
    }
   }
  },
  {
   "cell_type": "code",
   "execution_count": null,
   "outputs": [],
   "source": [],
   "metadata": {
    "collapsed": false,
    "ExecuteTime": {
     "start_time": "2023-06-08T10:24:18.161770Z",
     "end_time": "2023-06-08T10:24:18.163951Z"
    }
   }
  },
  {
   "cell_type": "code",
   "execution_count": null,
   "outputs": [],
   "source": [],
   "metadata": {
    "collapsed": false,
    "ExecuteTime": {
     "start_time": "2023-06-08T10:24:18.165180Z",
     "end_time": "2023-06-08T10:24:18.167493Z"
    }
   }
  },
  {
   "cell_type": "code",
   "execution_count": null,
   "outputs": [],
   "source": [
    "master_df = pd.merge(production, net_imports, on='period')\n",
    "master_df = pd.merge(master_df, product_supplied, on='period')"
   ],
   "metadata": {
    "collapsed": false,
    "ExecuteTime": {
     "start_time": "2023-06-08T10:24:18.170713Z",
     "end_time": "2023-06-08T10:24:18.177157Z"
    }
   }
  },
  {
   "cell_type": "code",
   "execution_count": null,
   "outputs": [],
   "source": [
    "#master_df['prod_supplied'] = master_df['weekly_field_production'] + master_df['net_imports'] - master_df['stock_change']"
   ],
   "metadata": {
    "collapsed": false,
    "ExecuteTime": {
     "start_time": "2023-06-08T10:24:18.178201Z",
     "end_time": "2023-06-08T10:24:18.180416Z"
    }
   }
  },
  {
   "cell_type": "code",
   "execution_count": null,
   "outputs": [],
   "source": [
    "display(master_df.tail())"
   ],
   "metadata": {
    "collapsed": false,
    "ExecuteTime": {
     "start_time": "2023-06-08T10:24:18.184983Z",
     "end_time": "2023-06-08T10:24:18.196066Z"
    }
   }
  },
  {
   "cell_type": "code",
   "execution_count": null,
   "outputs": [],
   "source": [
    "display(stock_change.tail())"
   ],
   "metadata": {
    "collapsed": false,
    "ExecuteTime": {
     "start_time": "2023-06-08T10:24:18.189692Z",
     "end_time": "2023-06-08T10:24:18.196365Z"
    }
   }
  },
  {
   "cell_type": "code",
   "execution_count": null,
   "outputs": [],
   "source": [
    "stock_change[stock_change.index > start_date].plot.bar(figsize=(15,5))"
   ],
   "metadata": {
    "collapsed": false,
    "ExecuteTime": {
     "start_time": "2023-06-08T09:43:54.572677Z",
     "end_time": "2023-06-08T09:43:54.577544Z"
    }
   }
  },
  {
   "cell_type": "code",
   "execution_count": null,
   "outputs": [],
   "source": [
    "today = pd.to_datetime('today').date()"
   ],
   "metadata": {
    "collapsed": false,
    "ExecuteTime": {
     "start_time": "2023-06-08T10:56:48.356590Z",
     "end_time": "2023-06-08T10:56:48.372801Z"
    }
   }
  },
  {
   "cell_type": "code",
   "execution_count": null,
   "outputs": [],
   "source": [
    "print(today)"
   ],
   "metadata": {
    "collapsed": false,
    "ExecuteTime": {
     "start_time": "2023-06-08T10:56:52.800653Z",
     "end_time": "2023-06-08T10:56:52.826522Z"
    }
   }
  },
  {
   "cell_type": "markdown",
   "source": [
    "# new attempt"
   ],
   "metadata": {
    "collapsed": false
   }
  },
  {
   "cell_type": "markdown",
   "source": [
    "### supply\n",
    "- field production [x]\n",
    "- imports [x]\n",
    "- adjustments [must calculate]\n",
    "\n",
    "### disposition\n",
    "- stock change [x]\n",
    "- refinery and blender net input [x]\n",
    "- exports [x]"
   ],
   "metadata": {
    "collapsed": false
   }
  },
  {
   "cell_type": "code",
   "execution_count": 7,
   "outputs": [],
   "source": [
    "field_production = oil.monthly_field_production()\n",
    "imports = oil.monthly_imports()\n",
    "adjustments = oil.monthly_supply_adj()\n",
    "\n",
    "net_input = oil.monthly_net_input() * -1\n",
    "exports = oil.monthly_exports()\n",
    "stock_change = oil.monthly_stock_changes().sort_index()"
   ],
   "metadata": {
    "collapsed": false,
    "ExecuteTime": {
     "start_time": "2023-06-08T13:55:31.659864Z",
     "end_time": "2023-06-08T13:56:16.765684Z"
    }
   }
  },
  {
   "cell_type": "code",
   "execution_count": 13,
   "outputs": [],
   "source": [
    "net_imports = imports - exports\n",
    "net_imports = net_imports.rename('net_imports')"
   ],
   "metadata": {
    "collapsed": false,
    "ExecuteTime": {
     "start_time": "2023-06-08T13:56:35.141827Z",
     "end_time": "2023-06-08T13:56:35.163458Z"
    }
   }
  },
  {
   "cell_type": "code",
   "execution_count": 16,
   "outputs": [],
   "source": [
    "master_df = pd.merge(field_production, net_imports, on='period')\n",
    "master_df = pd.merge(master_df, adjustments, on='period')\n",
    "master_df = pd.merge(master_df, net_input, on='period')\n",
    "master_df = master_df.sort_index()"
   ],
   "metadata": {
    "collapsed": false,
    "ExecuteTime": {
     "start_time": "2023-06-08T13:56:45.907607Z",
     "end_time": "2023-06-08T13:56:45.918351Z"
    }
   }
  },
  {
   "cell_type": "code",
   "execution_count": 23,
   "outputs": [],
   "source": [
    "start_date = '2022-01-01'\n",
    "end_date = '2023-06-06'\n",
    "master_df = master_df[start_date:end_date]\n",
    "stock_change = stock_change[start_date:end_date]"
   ],
   "metadata": {
    "collapsed": false,
    "ExecuteTime": {
     "start_time": "2023-06-08T14:01:59.018206Z",
     "end_time": "2023-06-08T14:01:59.021382Z"
    }
   }
  },
  {
   "cell_type": "code",
   "execution_count": 24,
   "outputs": [
    {
     "data": {
      "text/plain": "<Figure size 1500x800 with 1 Axes>",
      "image/png": "[encoded data removed]"
     },
     "metadata": {},
     "output_type": "display_data"
    }
   ],
   "source": [
    "stock_change.index = pd.to_datetime(stock_change.index)\n",
    "\n",
    "ax = stock_change.plot.bar(ylabel=\"MBBL\", xlabel=\"Date\", figsize=(15,8),\n",
    "                 color='black', position=0, width=0.3)\n",
    "\n",
    "master_df.plot.bar(stacked=True, sharex=True, ax=ax, position=1, width=0.3)\n",
    "\n",
    "ax.xaxis.set_major_formatter(plt.FixedFormatter(stock_change.index.strftime('%Y-%m-%d')))\n",
    "\n",
    "plt.title('change in Storage Injections by Components (YOY)')\n",
    "plt.legend(loc='upper center', bbox_to_anchor=(0.5, 0.05), ncol=5)\n",
    "plt.ylabel('YoY Change (MBBL/D)')\n",
    "plt.xlabel('date')\n",
    "plt.show()"
   ],
   "metadata": {
    "collapsed": false,
    "ExecuteTime": {
     "start_time": "2023-06-08T14:01:59.858299Z",
     "end_time": "2023-06-08T14:02:00.139475Z"
    }
   }
  },
  {
   "cell_type": "code",
   "execution_count": 21,
   "outputs": [
    {
     "data": {
      "text/plain": "period\n2023-03-01    -236\n2023-02-01     448\n2023-01-01     961\n2022-12-01    -102\n2022-11-01   -1108\nName: monthly_stock_changes, dtype: int64"
     },
     "metadata": {},
     "output_type": "display_data"
    }
   ],
   "source": [],
   "metadata": {
    "collapsed": false,
    "ExecuteTime": {
     "start_time": "2023-06-08T13:59:48.100149Z",
     "end_time": "2023-06-08T13:59:48.106986Z"
    }
   }
  },
  {
   "cell_type": "code",
   "execution_count": 2,
   "outputs": [],
   "source": [],
   "metadata": {
    "collapsed": false,
    "ExecuteTime": {
     "start_time": "2023-06-08T13:53:36.794560Z",
     "end_time": "2023-06-08T13:53:36.795982Z"
    }
   }
  },
  {
   "cell_type": "code",
   "execution_count": null,
   "outputs": [],
   "source": [],
   "metadata": {
    "collapsed": false
   }
  }
 ],
 "metadata": {
  "kernelspec": {
   "display_name": "Python 3",
   "language": "python",
   "name": "python3"
  },
  "language_info": {
   "codemirror_mode": {
    "name": "ipython",
    "version": 2
   },
   "file_extension": ".py",
   "mimetype": "text/x-python",
   "name": "python",
   "nbconvert_exporter": "python",
   "pygments_lexer": "ipython2",
   "version": "2.7.6"
  }
 },
 "nbformat": 4,
 "nbformat_minor": 0
}
