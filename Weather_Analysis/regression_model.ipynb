{
 "cells": [
  {
   "cell_type": "code",
   "execution_count": null,
   "metadata": {
    "collapsed": true,
    "ExecuteTime": {
     "start_time": "2023-06-20T10:42:02.995605Z",
     "end_time": "2023-06-20T10:42:04.416349Z"
    }
   },
   "outputs": [],
   "source": [
    "import pandas as pd\n",
    "import numpy as np\n",
    "from sklearn import linear_model\n",
    "from sklearn import metrics\n",
    "from sklearn.metrics import mean_squared_error\n",
    "from sklearn.model_selection import train_test_split\n",
    "from datetime import datetime, time\n",
    "from prophet import Prophet\n",
    "import glob"
   ]
  },
  {
   "cell_type": "code",
   "execution_count": null,
   "outputs": [],
   "source": [
    "degree_days = 'gw_hdd'\n",
    "path = \"RawData\"\n",
    "\n",
    "def extract_date_time(filename):\n",
    "    \"\"\"\n",
    "    extract the date and time from the filename\n",
    "    :param filename:\n",
    "    :return:\n",
    "    \"\"\"\n",
    "    parts = filename.split('.')\n",
    "    date = parts[1]\n",
    "    time = parts[2]\n",
    "    return date, time\n",
    "\n",
    "def get_date(df, file):\n",
    "    \"\"\"get the date from the dataframe and the time from the filename and combine them into a datetime object\n",
    "    :param df: dataframe containing the date\n",
    "    :param file: filename containing the time\n",
    "    :return: datetime object\n",
    "    \"\"\"\n",
    "    # date_str = df[df.iloc[:, 2] == 1].iloc[0]['Date']\n",
    "    date_str = str(file.split('.')[1])\n",
    "    time_str = str(file.split('.')[2])\n",
    "    # date = datetime.strptime(date_str, '%Y-%m-%d')\n",
    "    date = datetime.strptime(date_str, '%Y%m%d')\n",
    "    time_value = time(int(time_str), 0)\n",
    "    combined_datetime = datetime.combine(date.date(), time_value)\n",
    "    return combined_datetime\n",
    "\n",
    "degree_days = degree_days\n",
    "ecmwf_files = glob.glob(path + f'/ecmwf.*.[01][02].{degree_days}.csv')\n",
    "ecmwf_sorted_files = sorted(ecmwf_files, key=lambda x: (x.split('.')[1], x.split('.')[2]))[3:]\n",
    "\n",
    "ecmwf_ens_files = glob.glob(path + f'/ecmwf-eps.*.[01][02].{degree_days}.csv')\n",
    "ecmwf_ens_sorted_files = sorted(ecmwf_ens_files, key=lambda x: (x.split('.')[1], x.split('.')[2]))[2:]\n",
    "\n",
    "gfs_ens_bc_files = glob.glob(path + f'/gfs-ens-bc.*.[01][02].{degree_days}.csv')\n",
    "gfs_ens_bc_sorted_files = sorted(gfs_ens_bc_files, key=lambda x: (x.split('.')[1], x.split('.')[2]))[2:]\n",
    "\n",
    "cmc_ens_files = glob.glob(path + f'/cmc-ens.*.[01][02].{degree_days}.csv')\n",
    "cmc_ens_sorted_files = sorted(cmc_ens_files, key=lambda x: (x.split('.')[1], x.split('.')[2]))[2:]\n",
    "for _ in range(2):\n",
    "    set1 = set((extract_date_time(filename) for filename in ecmwf_sorted_files))\n",
    "    set2 = set((extract_date_time(filename) for filename in ecmwf_ens_sorted_files))\n",
    "\n",
    "    ecmwf_sorted_files = [filename for filename in ecmwf_sorted_files if extract_date_time(filename) in set2]\n",
    "    ecmwf_ens_sorted_files = [filename for filename in ecmwf_ens_sorted_files if\n",
    "                              extract_date_time(filename) in set1]\n",
    "    cmc_ens_sorted_files = [filename for filename in cmc_ens_sorted_files if extract_date_time(filename) in set1]\n",
    "\n",
    "    master_set = set((extract_date_time(filename) for filename in cmc_ens_sorted_files))\n",
    "    gfs_ens_bc_sorted_files = [filename for filename in gfs_ens_bc_sorted_files if\n",
    "                               extract_date_time(filename) in master_set]\n",
    "\n",
    "    master_set = set((extract_date_time(filename) for filename in gfs_ens_bc_sorted_files))\n",
    "\n",
    "    ecmwf_sorted_files = [filename for filename in ecmwf_sorted_files if extract_date_time(filename) in master_set]\n",
    "    ecmwf_ens_sorted_files = [filename for filename in ecmwf_ens_sorted_files if\n",
    "                              extract_date_time(filename) in master_set]\n",
    "    gfs_ens_bc_sorted_files = [filename for filename in gfs_ens_bc_sorted_files if\n",
    "                               extract_date_time(filename) in master_set]\n",
    "    cmc_ens_sorted_files = [filename for filename in cmc_ens_sorted_files if\n",
    "                            extract_date_time(filename) in master_set]"
   ],
   "metadata": {
    "collapsed": false,
    "ExecuteTime": {
     "start_time": "2023-06-20T12:41:42.754942Z",
     "end_time": "2023-06-20T12:41:43.246145Z"
    }
   }
  },
  {
   "cell_type": "markdown",
   "source": [],
   "metadata": {
    "collapsed": false
   }
  },
  {
   "cell_type": "code",
   "execution_count": null,
   "outputs": [],
   "source": [
    "# y\n",
    "# euro ensemble - values to predict\n",
    "ecmwf_ens_9_14 = pd.DataFrame(columns=['ens(9,14)'])\n",
    "\n",
    "for i in range(1, len(ecmwf_ens_sorted_files)):\n",
    "    ecmwf_ens_df = pd.read_csv(ecmwf_ens_sorted_files[i])\n",
    "    ecmwf_ens_df = ecmwf_ens_df[ecmwf_ens_df[ecmwf_ens_df.columns[2]] >= 1]\n",
    "    prev_ecmwf_ens_df = pd.read_csv(ecmwf_ens_sorted_files[i - 1])\n",
    "    prev_ecmwf_ens_df = prev_ecmwf_ens_df[prev_ecmwf_ens_df[prev_ecmwf_ens_df.columns[2]] >= 1]\n",
    "\n",
    "    date = get_date(ecmwf_ens_df, ecmwf_ens_sorted_files[i])\n",
    "    prev_date = get_date(prev_ecmwf_ens_df, ecmwf_ens_sorted_files[i - 1])\n",
    "    d2 = str(date)[:10]\n",
    "    d1 = str(prev_date)[:10]\n",
    "\n",
    "    if d2 == d1:\n",
    "        offset = 1\n",
    "    else:\n",
    "        offset = 0\n",
    "\n",
    "    cur = ecmwf_ens_df['Value'].iloc[8:14].sum()\n",
    "    prev = prev_ecmwf_ens_df['Value'].iloc[(8+offset):(14+offset)].sum()\n",
    "    change = cur - prev\n",
    "\n",
    "    new_row = pd.DataFrame(change, columns=ecmwf_ens_9_14.columns, index=[date])\n",
    "    ecmwf_ens_9_14 = pd.concat([ecmwf_ens_9_14, new_row])"
   ],
   "metadata": {
    "collapsed": false,
    "ExecuteTime": {
     "start_time": "2023-06-20T12:41:43.807235Z",
     "end_time": "2023-06-20T12:41:51.156399Z"
    }
   }
  },
  {
   "cell_type": "code",
   "execution_count": null,
   "outputs": [],
   "source": [
    "# X1\n",
    "# euro ensemble day 8\n",
    "ecmwf_ens_8 = pd.DataFrame(columns=['ens(8)'])\n",
    "\n",
    "for i in range(1, len(ecmwf_ens_sorted_files)):\n",
    "    ecmwf_ens_df = pd.read_csv(ecmwf_ens_sorted_files[i])\n",
    "    ecmwf_ens_df = ecmwf_ens_df[ecmwf_ens_df[ecmwf_ens_df.columns[2]] >= 1]\n",
    "    prev_ecmwf_ens_df = pd.read_csv(ecmwf_ens_sorted_files[i - 1])\n",
    "    prev_ecmwf_ens_df = prev_ecmwf_ens_df[prev_ecmwf_ens_df[prev_ecmwf_ens_df.columns[2]] >= 1]\n",
    "\n",
    "    date = get_date(ecmwf_ens_df, ecmwf_ens_sorted_files[i])\n",
    "    prev_date = get_date(prev_ecmwf_ens_df, ecmwf_ens_sorted_files[i - 1])\n",
    "    d2 = str(date)[:10]\n",
    "    d1 = str(prev_date)[:10]\n",
    "\n",
    "    if d2 == d1:\n",
    "        offset = 1\n",
    "    else:\n",
    "        offset = 0\n",
    "\n",
    "    cur = ecmwf_ens_df['Value'].iloc[7:8].sum()\n",
    "    prev = prev_ecmwf_ens_df['Value'].iloc[(7+offset):(8+offset)].sum()\n",
    "    change = cur - prev\n",
    "\n",
    "    new_row = pd.DataFrame(change, columns=ecmwf_ens_8.columns, index=[date])\n",
    "    ecmwf_ens_8 = pd.concat([ecmwf_ens_8, new_row])"
   ],
   "metadata": {
    "collapsed": false,
    "ExecuteTime": {
     "start_time": "2023-06-20T13:15:58.005901Z",
     "end_time": "2023-06-20T13:16:05.631426Z"
    }
   }
  },
  {
   "cell_type": "code",
   "execution_count": null,
   "outputs": [],
   "source": [
    "# X2\n",
    "# ecmwf(9,10) - ecmwf_ens-1(9,10)\n",
    "\n",
    "ecmwf_9_10 = pd.DataFrame(columns=['ecmwf(9,10)'])\n",
    "\n",
    "for i in range(1, len(ecmwf_sorted_files)):\n",
    "    ecmwf_df = pd.read_csv(ecmwf_sorted_files[i])\n",
    "    ecmwf_df = ecmwf_df[ecmwf_df[ecmwf_df.columns[2]] >= 1]\n",
    "    prev_ecmwf_ens_df = pd.read_csv(ecmwf_ens_sorted_files[i-1])\n",
    "    prev_ecmwf_ens_df = prev_ecmwf_ens_df[prev_ecmwf_ens_df[prev_ecmwf_ens_df.columns[2]] >= 1]\n",
    "\n",
    "    date = get_date(ecmwf_df, ecmwf_sorted_files[i])\n",
    "    prev_date = get_date(prev_ecmwf_ens_df, ecmwf_sorted_files[i - 1])\n",
    "    d2 = str(date)[:10]\n",
    "    d1 = str(prev_date)[:10]\n",
    "\n",
    "    if d2 == d1:\n",
    "        offset = 1\n",
    "    else:\n",
    "        offset = 0\n",
    "\n",
    "    cur = ecmwf_df['Value'].iloc[8:10].sum()\n",
    "    prev = prev_ecmwf_ens_df['Value'].iloc[(8+offset):(10+offset)].sum()\n",
    "    change = cur - prev\n",
    "\n",
    "    new_row = pd.DataFrame(change, columns=ecmwf_9_10.columns, index=[date])\n",
    "    ecmwf_9_10 = pd.concat([ecmwf_9_10, new_row])"
   ],
   "metadata": {
    "collapsed": false,
    "ExecuteTime": {
     "start_time": "2023-06-20T13:16:05.635706Z",
     "end_time": "2023-06-20T13:16:13.447395Z"
    }
   }
  },
  {
   "cell_type": "code",
   "execution_count": null,
   "outputs": [],
   "source": [
    "# X3\n",
    "# gfs(11,14) - ecmwf_ens-1(11,14)\n",
    "\n",
    "gfs_11_14 = pd.DataFrame(columns=['gfs(11,14)'])\n",
    "\n",
    "for i in range(1, len(gfs_ens_bc_sorted_files)):\n",
    "    gfs_df = pd.read_csv(gfs_ens_bc_sorted_files[i])\n",
    "    gfs_df = gfs_df[gfs_df[gfs_df.columns[2]] >= 1]\n",
    "    prev_ecmwf_ens_df = pd.read_csv(ecmwf_ens_sorted_files[i-1])\n",
    "    prev_ecmwf_ens_df = prev_ecmwf_ens_df[prev_ecmwf_ens_df[prev_ecmwf_ens_df.columns[2]] >= 1]\n",
    "\n",
    "    date = get_date(gfs_df, gfs_ens_bc_sorted_files[i])\n",
    "    prev_date = get_date(prev_ecmwf_ens_df, ecmwf_ens_sorted_files[i - 1])\n",
    "    d2 = str(date)[:10]\n",
    "    d1 = str(prev_date)[:10]\n",
    "\n",
    "    if d2 == d1:\n",
    "        offset = 1\n",
    "    else:\n",
    "        offset = 0\n",
    "\n",
    "    cur = gfs_df['Value'].iloc[10:14].sum()\n",
    "    prev = prev_ecmwf_ens_df['Value'].iloc[(10+offset):(14+offset)].sum()\n",
    "    change = cur - prev\n",
    "\n",
    "    new_row = pd.DataFrame(change, columns=gfs_11_14.columns, index=[date])\n",
    "    gfs_11_14 = pd.concat([gfs_11_14, new_row])"
   ],
   "metadata": {
    "collapsed": false,
    "ExecuteTime": {
     "start_time": "2023-06-20T13:16:13.448822Z",
     "end_time": "2023-06-20T13:16:21.030216Z"
    }
   }
  },
  {
   "cell_type": "code",
   "execution_count": null,
   "outputs": [],
   "source": [
    "# X4\n",
    "# cmc(9,14) - gfs(9,14)\n",
    "\n",
    "cmc_9_14 = pd.DataFrame(columns=['cmc(9,14)'])\n",
    "\n",
    "for i in range(1, len(cmc_ens_sorted_files)):\n",
    "    cmc_df = pd.read_csv(cmc_ens_sorted_files[i])\n",
    "    cmc_df = cmc_df[cmc_df[cmc_df.columns[2]] >= 1]\n",
    "    gfs_df = pd.read_csv(gfs_ens_bc_sorted_files[i])\n",
    "    gfs_df = gfs_df[gfs_df[gfs_df.columns[2]] >= 1]\n",
    "\n",
    "    date = get_date(cmc_df, cmc_ens_sorted_files[i])\n",
    "\n",
    "    cmc = cmc_df['Value'].iloc[8:14].sum()\n",
    "    gfs = gfs_df['Value'].iloc[8:14].sum()\n",
    "    change = cmc - gfs\n",
    "\n",
    "    new_row = pd.DataFrame(change, columns=cmc_9_14.columns, index=[date])\n",
    "    cmc_9_14 = pd.concat([cmc_9_14, new_row])"
   ],
   "metadata": {
    "collapsed": false,
    "ExecuteTime": {
     "start_time": "2023-06-20T13:24:53.363356Z",
     "end_time": "2023-06-20T13:25:00.570626Z"
    }
   }
  },
  {
   "cell_type": "code",
   "execution_count": null,
   "outputs": [],
   "source": [
    "#testing"
   ],
   "metadata": {
    "collapsed": false
   }
  },
  {
   "cell_type": "code",
   "execution_count": null,
   "outputs": [],
   "source": [
    "i = 2\n",
    "\n",
    "d1 = ecmwf_ens_sorted_files[i].split('.')[1]\n",
    "d2 = ecmwf_ens_sorted_files[i - 1].split('.')[1]\n",
    "\n",
    "ecmwf_ens_df = pd.read_csv(ecmwf_ens_sorted_files[i])\n",
    "v1 = ecmwf_ens_df[ecmwf_ens_df[ecmwf_ens_df.columns[2]] >= 1]\n",
    "prev_ecmwf_ens_df = pd.read_csv(ecmwf_ens_sorted_files[i - 1])\n",
    "v2 = prev_ecmwf_ens_df[prev_ecmwf_ens_df[prev_ecmwf_ens_df.columns[2]] >= 1]"
   ],
   "metadata": {
    "collapsed": false,
    "ExecuteTime": {
     "start_time": "2023-06-20T13:16:28.494595Z",
     "end_time": "2023-06-20T13:16:28.512679Z"
    }
   }
  },
  {
   "cell_type": "code",
   "execution_count": null,
   "outputs": [],
   "source": [
    "print(ecmwf_ens_sorted_files[i])\n",
    "print(ecmwf_ens_sorted_files[i - 1])"
   ],
   "metadata": {
    "collapsed": false,
    "ExecuteTime": {
     "start_time": "2023-06-20T13:15:36.170467Z",
     "end_time": "2023-06-20T13:15:36.176416Z"
    }
   }
  },
  {
   "cell_type": "code",
   "execution_count": null,
   "outputs": [],
   "source": [
    "if d1 == d2:\n",
    "    offset = 1\n",
    "else:\n",
    "    offset = 0"
   ],
   "metadata": {
    "collapsed": false,
    "ExecuteTime": {
     "start_time": "2023-06-20T13:15:36.329253Z",
     "end_time": "2023-06-20T13:15:36.334229Z"
    }
   }
  },
  {
   "cell_type": "code",
   "execution_count": null,
   "outputs": [],
   "source": [
    "a = v1.iloc[7:8]"
   ],
   "metadata": {
    "collapsed": false,
    "ExecuteTime": {
     "start_time": "2023-06-20T13:15:36.487013Z",
     "end_time": "2023-06-20T13:15:36.491780Z"
    }
   }
  },
  {
   "cell_type": "code",
   "execution_count": null,
   "outputs": [],
   "source": [
    "b = v2.iloc[7+offset:8+offset]"
   ],
   "metadata": {
    "collapsed": false,
    "ExecuteTime": {
     "start_time": "2023-06-20T13:15:36.658840Z",
     "end_time": "2023-06-20T13:15:36.663582Z"
    }
   }
  },
  {
   "cell_type": "code",
   "execution_count": null,
   "outputs": [],
   "source": [
    "a['Value'].sum() - b['Value'].sum()"
   ],
   "metadata": {
    "collapsed": false,
    "ExecuteTime": {
     "start_time": "2023-06-20T13:15:36.832017Z",
     "end_time": "2023-06-20T13:15:36.836326Z"
    }
   }
  },
  {
   "cell_type": "code",
   "execution_count": null,
   "outputs": [],
   "source": [
    "display(a)"
   ],
   "metadata": {
    "collapsed": false,
    "ExecuteTime": {
     "start_time": "2023-06-20T13:15:37.336155Z",
     "end_time": "2023-06-20T13:15:37.338816Z"
    }
   }
  },
  {
   "cell_type": "code",
   "execution_count": null,
   "outputs": [],
   "source": [
    "display(b)"
   ],
   "metadata": {
    "collapsed": false,
    "ExecuteTime": {
     "start_time": "2023-06-20T13:15:37.800631Z",
     "end_time": "2023-06-20T13:15:37.808463Z"
    }
   }
  },
  {
   "cell_type": "code",
   "execution_count": null,
   "outputs": [],
   "source": [
    "display(v1)"
   ],
   "metadata": {
    "collapsed": false,
    "ExecuteTime": {
     "start_time": "2023-06-20T13:15:38.322001Z",
     "end_time": "2023-06-20T13:15:38.333409Z"
    }
   }
  },
  {
   "cell_type": "code",
   "execution_count": null,
   "outputs": [],
   "source": [
    "display(v2)"
   ],
   "metadata": {
    "collapsed": false,
    "ExecuteTime": {
     "start_time": "2023-06-20T13:15:38.765809Z",
     "end_time": "2023-06-20T13:15:38.773519Z"
    }
   }
  },
  {
   "cell_type": "code",
   "execution_count": null,
   "outputs": [],
   "source": [
    "display(ecmwf_ens_8.head())"
   ],
   "metadata": {
    "collapsed": false,
    "ExecuteTime": {
     "start_time": "2023-06-20T13:15:21.643786Z",
     "end_time": "2023-06-20T13:15:21.648652Z"
    }
   }
  },
  {
   "cell_type": "code",
   "execution_count": null,
   "outputs": [],
   "source": [
    "# combine ecmwf_ens_9_14, ecmwf_ens_8, ecmwf_9_10, gfs_11_14, cmc_9_14 into a single dataframe\n",
    "master_df = pd.concat([ecmwf_ens_9_14, ecmwf_ens_8, ecmwf_9_10, gfs_11_14, cmc_9_14], axis=1)"
   ],
   "metadata": {
    "collapsed": false,
    "ExecuteTime": {
     "start_time": "2023-06-20T13:16:28.501180Z",
     "end_time": "2023-06-20T13:16:28.514715Z"
    }
   }
  },
  {
   "cell_type": "code",
   "execution_count": null,
   "outputs": [],
   "source": [
    "data = master_df"
   ],
   "metadata": {
    "collapsed": false,
    "ExecuteTime": {
     "start_time": "2023-06-20T13:16:28.505131Z",
     "end_time": "2023-06-20T13:16:28.514846Z"
    }
   }
  },
  {
   "cell_type": "code",
   "execution_count": null,
   "outputs": [],
   "source": [
    "#get only noon forecast\n",
    "data['hour'] = data.index.hour\n",
    "data = data[data['hour'] == 12]\n",
    "data.drop('hour', axis=1, inplace=True)"
   ],
   "metadata": {
    "collapsed": false,
    "ExecuteTime": {
     "start_time": "2023-06-20T13:16:28.508687Z",
     "end_time": "2023-06-20T13:16:28.514958Z"
    }
   }
  },
  {
   "cell_type": "code",
   "execution_count": null,
   "outputs": [],
   "source": [
    "display(data.columns)"
   ],
   "metadata": {
    "collapsed": false,
    "ExecuteTime": {
     "start_time": "2023-06-20T13:16:28.514254Z",
     "end_time": "2023-06-20T13:16:28.518854Z"
    }
   }
  },
  {
   "cell_type": "code",
   "execution_count": null,
   "outputs": [],
   "source": [
    "# betas for hdd\n",
    "b1 = 0.76947604258751\n",
    "b2 = 0.6555933110283885\n",
    "b3 = 0.16964083221789059\n",
    "b4 = 0.06680336217511197"
   ],
   "metadata": {
    "collapsed": false,
    "ExecuteTime": {
     "start_time": "2023-06-20T13:16:28.520112Z",
     "end_time": "2023-06-20T13:16:28.543813Z"
    }
   }
  },
  {
   "cell_type": "markdown",
   "source": [
    "### model\n"
   ],
   "metadata": {
    "collapsed": false
   }
  },
  {
   "cell_type": "code",
   "execution_count": null,
   "outputs": [],
   "source": [
    "(b1*0.003) + (b2*0.088) + (b3*0.037) + (b4*-0.040)"
   ],
   "metadata": {
    "collapsed": false,
    "ExecuteTime": {
     "start_time": "2023-06-20T13:16:28.522764Z",
     "end_time": "2023-06-20T13:16:28.544246Z"
    }
   }
  },
  {
   "cell_type": "code",
   "execution_count": null,
   "outputs": [],
   "source": [
    "X = data[['ens(8)', 'ecmwf(9,10)', 'gfs(11,14)', 'cmc(9,14)']]"
   ],
   "metadata": {
    "collapsed": false,
    "ExecuteTime": {
     "start_time": "2023-06-20T13:20:08.632406Z",
     "end_time": "2023-06-20T13:20:08.638943Z"
    }
   }
  },
  {
   "cell_type": "code",
   "execution_count": null,
   "outputs": [],
   "source": [
    "X"
   ],
   "metadata": {
    "collapsed": false,
    "ExecuteTime": {
     "start_time": "2023-06-20T13:20:20.949994Z",
     "end_time": "2023-06-20T13:20:20.957929Z"
    }
   }
  },
  {
   "cell_type": "code",
   "execution_count": null,
   "outputs": [],
   "source": [
    "y = data['ens(9,14)']"
   ],
   "metadata": {
    "collapsed": false,
    "ExecuteTime": {
     "start_time": "2023-06-20T13:20:08.926753Z",
     "end_time": "2023-06-20T13:20:08.931398Z"
    }
   }
  },
  {
   "cell_type": "code",
   "execution_count": null,
   "outputs": [],
   "source": [
    "preds = (b1 * X.iloc[:,0]) + (b2 * X.iloc[:,1]) + (b3 * X.iloc[:,2]) + (b4 * X.iloc[:,3])"
   ],
   "metadata": {
    "collapsed": false,
    "ExecuteTime": {
     "start_time": "2023-06-20T13:20:09.113806Z",
     "end_time": "2023-06-20T13:20:09.117585Z"
    }
   }
  },
  {
   "cell_type": "code",
   "execution_count": null,
   "outputs": [],
   "source": [
    "preds[0]"
   ],
   "metadata": {
    "collapsed": false,
    "ExecuteTime": {
     "start_time": "2023-06-20T13:20:09.510908Z",
     "end_time": "2023-06-20T13:20:09.516101Z"
    }
   }
  },
  {
   "cell_type": "code",
   "execution_count": null,
   "outputs": [],
   "source": [
    "mse = mean_squared_error(y, preds)\n",
    "mse"
   ],
   "metadata": {
    "collapsed": false,
    "ExecuteTime": {
     "start_time": "2023-06-20T13:20:10.891682Z",
     "end_time": "2023-06-20T13:20:10.898296Z"
    }
   }
  },
  {
   "cell_type": "code",
   "execution_count": null,
   "outputs": [],
   "source": [
    "from sklearn.linear_model import LinearRegression\n",
    "train_len = 0.84\n",
    "train_X = X.iloc[:int(len(X)*train_len)]\n",
    "train_y = y.iloc[:int(len(y)*train_len)]\n",
    "test_X = X.iloc[int(len(X)*train_len):]\n",
    "test_y = y.iloc[int(len(y)*train_len):]"
   ],
   "metadata": {
    "collapsed": false,
    "ExecuteTime": {
     "start_time": "2023-06-20T13:19:23.259655Z",
     "end_time": "2023-06-20T13:19:23.265448Z"
    }
   }
  },
  {
   "cell_type": "code",
   "execution_count": null,
   "outputs": [],
   "source": [
    "reg = LinearRegression().fit(train_X, train_y)"
   ],
   "metadata": {
    "collapsed": false,
    "ExecuteTime": {
     "start_time": "2023-06-20T13:19:23.464039Z",
     "end_time": "2023-06-20T13:19:23.473200Z"
    }
   }
  },
  {
   "cell_type": "code",
   "execution_count": null,
   "outputs": [],
   "source": [
    "preds = reg.predict(test_X)\n",
    "mse = mean_squared_error(test_y, preds)"
   ],
   "metadata": {
    "collapsed": false,
    "ExecuteTime": {
     "start_time": "2023-06-20T13:19:23.657302Z",
     "end_time": "2023-06-20T13:19:23.661488Z"
    }
   }
  },
  {
   "cell_type": "code",
   "execution_count": null,
   "outputs": [],
   "source": [
    "mse"
   ],
   "metadata": {
    "collapsed": false,
    "ExecuteTime": {
     "start_time": "2023-06-20T13:19:23.858844Z",
     "end_time": "2023-06-20T13:19:23.864593Z"
    }
   }
  },
  {
   "cell_type": "code",
   "execution_count": null,
   "outputs": [],
   "source": [
    "reg.coef_"
   ],
   "metadata": {
    "collapsed": false,
    "ExecuteTime": {
     "start_time": "2023-06-20T13:19:24.971125Z",
     "end_time": "2023-06-20T13:19:24.977771Z"
    }
   }
  },
  {
   "cell_type": "code",
   "execution_count": null,
   "outputs": [],
   "source": [],
   "metadata": {
    "collapsed": false,
    "ExecuteTime": {
     "start_time": "2023-06-20T13:19:52.317185Z",
     "end_time": "2023-06-20T13:19:52.323574Z"
    }
   }
  },
  {
   "cell_type": "code",
   "execution_count": null,
   "outputs": [],
   "source": [],
   "metadata": {
    "collapsed": false,
    "ExecuteTime": {
     "start_time": "2023-06-20T13:19:50.363384Z",
     "end_time": "2023-06-20T13:19:50.368502Z"
    }
   }
  },
  {
   "cell_type": "code",
   "execution_count": null,
   "outputs": [],
   "source": [
    "errors = y - preds"
   ],
   "metadata": {
    "collapsed": false,
    "ExecuteTime": {
     "start_time": "2023-06-20T09:27:30.770426Z",
     "end_time": "2023-06-20T09:27:30.782862Z"
    }
   }
  },
  {
   "cell_type": "code",
   "execution_count": null,
   "outputs": [],
   "source": [
    "errors = errors.to_frame()\n",
    "errors['ds'] = errors.index\n",
    "errors.rename(columns={0:'y'}, inplace=True)\n",
    "errors.reset_index(drop=True, inplace=True)"
   ],
   "metadata": {
    "collapsed": false,
    "ExecuteTime": {
     "start_time": "2023-06-20T09:27:32.197723Z",
     "end_time": "2023-06-20T09:27:32.207107Z"
    }
   }
  },
  {
   "cell_type": "code",
   "execution_count": null,
   "outputs": [],
   "source": [
    "train_len = 0.85\n",
    "train_errors = errors.iloc[:int(len(errors)*train_len)]\n",
    "test_errors = errors.iloc[int(len(errors)*train_len):]"
   ],
   "metadata": {
    "collapsed": false,
    "ExecuteTime": {
     "start_time": "2023-06-20T09:27:32.456822Z",
     "end_time": "2023-06-20T09:27:32.469334Z"
    }
   }
  },
  {
   "cell_type": "code",
   "execution_count": null,
   "outputs": [],
   "source": [],
   "metadata": {
    "collapsed": false,
    "ExecuteTime": {
     "start_time": "2023-06-20T09:41:56.235029Z",
     "end_time": "2023-06-20T09:41:56.238794Z"
    }
   }
  },
  {
   "cell_type": "code",
   "execution_count": null,
   "outputs": [],
   "source": [],
   "metadata": {
    "collapsed": false,
    "ExecuteTime": {
     "start_time": "2023-06-20T09:41:58.047358Z",
     "end_time": "2023-06-20T09:41:58.050444Z"
    }
   }
  },
  {
   "cell_type": "code",
   "execution_count": null,
   "outputs": [],
   "source": [
    "m = Prophet()\n",
    "m.fit(train_errors)"
   ],
   "metadata": {
    "collapsed": false,
    "ExecuteTime": {
     "start_time": "2023-06-20T09:27:35.156483Z",
     "end_time": "2023-06-20T09:27:35.493064Z"
    }
   }
  },
  {
   "cell_type": "code",
   "execution_count": null,
   "outputs": [],
   "source": [
    "future = m.make_future_dataframe(periods=263)\n",
    "future.tail()"
   ],
   "metadata": {
    "collapsed": false,
    "ExecuteTime": {
     "start_time": "2023-06-20T09:27:37.647049Z",
     "end_time": "2023-06-20T09:27:37.660051Z"
    }
   }
  },
  {
   "cell_type": "code",
   "execution_count": null,
   "outputs": [],
   "source": [
    "forecast = m.predict(future)\n",
    "forecast[['ds', 'yhat', 'yhat_lower', 'yhat_upper']].tail()"
   ],
   "metadata": {
    "collapsed": false,
    "ExecuteTime": {
     "start_time": "2023-06-20T09:27:37.919897Z",
     "end_time": "2023-06-20T09:27:38.157952Z"
    }
   }
  },
  {
   "cell_type": "code",
   "execution_count": null,
   "outputs": [],
   "source": [
    "fig1 = m.plot(forecast)"
   ],
   "metadata": {
    "collapsed": false,
    "ExecuteTime": {
     "start_time": "2023-06-20T09:27:41.824297Z",
     "end_time": "2023-06-20T09:27:42.085481Z"
    }
   }
  },
  {
   "cell_type": "code",
   "execution_count": null,
   "outputs": [],
   "source": [
    "fig2 = m.plot_components(forecast)"
   ],
   "metadata": {
    "collapsed": false,
    "ExecuteTime": {
     "start_time": "2023-06-20T09:27:44.219469Z",
     "end_time": "2023-06-20T09:27:44.553247Z"
    }
   }
  },
  {
   "cell_type": "code",
   "execution_count": null,
   "outputs": [],
   "source": [],
   "metadata": {
    "collapsed": false,
    "ExecuteTime": {
     "start_time": "2023-06-20T09:28:18.004244Z",
     "end_time": "2023-06-20T09:28:18.009996Z"
    }
   }
  },
  {
   "cell_type": "code",
   "execution_count": null,
   "outputs": [],
   "source": [
    "forecasted_errors = forecast[['ds', 'yhat']]\n",
    "forecasted_errors.set_index('ds', inplace=True)"
   ],
   "metadata": {
    "collapsed": false,
    "ExecuteTime": {
     "start_time": "2023-06-20T09:28:21.929828Z",
     "end_time": "2023-06-20T09:28:21.938927Z"
    }
   }
  },
  {
   "cell_type": "code",
   "execution_count": null,
   "outputs": [],
   "source": [
    "# errors without adjustment\n",
    "((preds - y) **2).mean()"
   ],
   "metadata": {
    "collapsed": false,
    "ExecuteTime": {
     "start_time": "2023-06-20T09:28:23.610413Z",
     "end_time": "2023-06-20T09:28:23.619978Z"
    }
   }
  },
  {
   "cell_type": "code",
   "execution_count": null,
   "outputs": [],
   "source": [
    "(((preds + forecasted_errors['yhat']) - y)**2).mean()"
   ],
   "metadata": {
    "collapsed": false,
    "ExecuteTime": {
     "start_time": "2023-06-20T09:28:33.936161Z",
     "end_time": "2023-06-20T09:28:33.947119Z"
    }
   }
  },
  {
   "cell_type": "code",
   "execution_count": null,
   "outputs": [],
   "source": [
    "display(preds.tail())"
   ],
   "metadata": {
    "collapsed": false,
    "ExecuteTime": {
     "start_time": "2023-06-20T09:28:43.243719Z",
     "end_time": "2023-06-20T09:28:43.250567Z"
    }
   }
  },
  {
   "cell_type": "code",
   "execution_count": null,
   "outputs": [],
   "source": [
    "display(y.tail())"
   ],
   "metadata": {
    "collapsed": false,
    "ExecuteTime": {
     "start_time": "2023-06-20T09:28:48.572960Z",
     "end_time": "2023-06-20T09:28:48.580754Z"
    }
   }
  },
  {
   "cell_type": "code",
   "execution_count": null,
   "outputs": [],
   "source": [],
   "metadata": {
    "collapsed": false,
    "ExecuteTime": {
     "start_time": "2023-06-20T09:36:37.528706Z",
     "end_time": "2023-06-20T09:36:37.547370Z"
    }
   }
  },
  {
   "cell_type": "code",
   "execution_count": null,
   "outputs": [],
   "source": [],
   "metadata": {
    "collapsed": false,
    "ExecuteTime": {
     "start_time": "2023-06-20T09:34:32.554144Z",
     "end_time": "2023-06-20T09:34:32.562067Z"
    }
   }
  },
  {
   "cell_type": "code",
   "execution_count": null,
   "outputs": [],
   "source": [],
   "metadata": {
    "collapsed": false,
    "ExecuteTime": {
     "start_time": "2023-06-15T14:09:04.537938Z",
     "end_time": "2023-06-15T14:09:04.590713Z"
    }
   }
  },
  {
   "cell_type": "code",
   "execution_count": null,
   "outputs": [],
   "source": [],
   "metadata": {
    "collapsed": false,
    "ExecuteTime": {
     "start_time": "2023-06-15T14:09:04.759472Z",
     "end_time": "2023-06-15T14:09:04.767169Z"
    }
   }
  },
  {
   "cell_type": "code",
   "execution_count": null,
   "outputs": [],
   "source": [],
   "metadata": {
    "collapsed": false,
    "ExecuteTime": {
     "start_time": "2023-06-15T14:09:05.071387Z",
     "end_time": "2023-06-15T14:09:05.078795Z"
    }
   }
  },
  {
   "cell_type": "code",
   "execution_count": null,
   "outputs": [],
   "source": [],
   "metadata": {
    "collapsed": false,
    "ExecuteTime": {
     "start_time": "2023-06-15T14:09:05.122475Z",
     "end_time": "2023-06-15T14:09:05.142419Z"
    }
   }
  },
  {
   "cell_type": "code",
   "execution_count": null,
   "outputs": [],
   "source": [],
   "metadata": {
    "collapsed": false
   }
  }
 ],
 "metadata": {
  "kernelspec": {
   "display_name": "Python 3",
   "language": "python",
   "name": "python3"
  },
  "language_info": {
   "codemirror_mode": {
    "name": "ipython",
    "version": 2
   },
   "file_extension": ".py",
   "mimetype": "text/x-python",
   "name": "python",
   "nbconvert_exporter": "python",
   "pygments_lexer": "ipython2",
   "version": "2.7.6"
  }
 },
 "nbformat": 4,
 "nbformat_minor": 0
}
