{
 "cells": [
  {
   "cell_type": "code",
   "execution_count": null,
   "metadata": {
    "collapsed": true,
    "ExecuteTime": {
     "start_time": "2023-06-21T12:05:49.932438Z",
     "end_time": "2023-06-21T12:05:49.958170Z"
    }
   },
   "outputs": [],
   "source": [
    "import pandas as pd\n",
    "from sklearn.metrics import mean_squared_error\n",
    "from datetime import datetime, time\n",
    "from prophet import Prophet\n",
    "import glob\n",
    "import matplotlib.pyplot as plt\n",
    "\n",
    "from autogluon.tabular import TabularDataset, TabularPredictor"
   ]
  },
  {
   "cell_type": "code",
   "execution_count": null,
   "outputs": [],
   "source": [
    "# obtain and sort required raw data\n",
    "degree_days = 'ew_cdd'\n",
    "path = \"RawData\"\n",
    "\n",
    "def extract_date_time(filename):\n",
    "    \"\"\"\n",
    "    extract the date and time from the filename\n",
    "    :param filename:\n",
    "    :return:\n",
    "    \"\"\"\n",
    "    parts = filename.split('.')\n",
    "    date = parts[1]\n",
    "    time = parts[2]\n",
    "    return date, time\n",
    "\n",
    "def get_date(df, file):\n",
    "    \"\"\"get the date from the dataframe and the time from the filename and combine them into a datetime object\n",
    "    :param df: dataframe containing the date\n",
    "    :param file: filename containing the time\n",
    "    :return: datetime object\n",
    "    \"\"\"\n",
    "    # date_str = df[df.iloc[:, 2] == 1].iloc[0]['Date']\n",
    "    date_str = str(file.split('.')[1])\n",
    "    time_str = str(file.split('.')[2])\n",
    "    # date = datetime.strptime(date_str, '%Y-%m-%d')\n",
    "    date = datetime.strptime(date_str, '%Y%m%d')\n",
    "    time_value = time(int(time_str), 0)\n",
    "    combined_datetime = datetime.combine(date.date(), time_value)\n",
    "    return combined_datetime\n",
    "\n",
    "degree_days = degree_days\n",
    "ecmwf_files = glob.glob(path + f'/ecmwf.*.[01][02].{degree_days}.csv')\n",
    "ecmwf_sorted_files = sorted(ecmwf_files, key=lambda x: (x.split('.')[1], x.split('.')[2]))[3:]\n",
    "\n",
    "ecmwf_ens_files = glob.glob(path + f'/ecmwf-eps.*.[01][02].{degree_days}.csv')\n",
    "ecmwf_ens_sorted_files = sorted(ecmwf_ens_files, key=lambda x: (x.split('.')[1], x.split('.')[2]))[2:]\n",
    "\n",
    "gfs_ens_bc_files = glob.glob(path + f'/gfs-ens-bc.*.[01][02].{degree_days}.csv')\n",
    "gfs_ens_bc_sorted_files = sorted(gfs_ens_bc_files, key=lambda x: (x.split('.')[1], x.split('.')[2]))[2:]\n",
    "\n",
    "cmc_ens_files = glob.glob(path + f'/cmc-ens.*.[01][02].{degree_days}.csv')\n",
    "cmc_ens_sorted_files = sorted(cmc_ens_files, key=lambda x: (x.split('.')[1], x.split('.')[2]))[2:]\n",
    "for _ in range(2):\n",
    "    set1 = set((extract_date_time(filename) for filename in ecmwf_sorted_files))\n",
    "    set2 = set((extract_date_time(filename) for filename in ecmwf_ens_sorted_files))\n",
    "\n",
    "    ecmwf_sorted_files = [filename for filename in ecmwf_sorted_files if extract_date_time(filename) in set2]\n",
    "    ecmwf_ens_sorted_files = [filename for filename in ecmwf_ens_sorted_files if\n",
    "                              extract_date_time(filename) in set1]\n",
    "    cmc_ens_sorted_files = [filename for filename in cmc_ens_sorted_files if extract_date_time(filename) in set1]\n",
    "\n",
    "    master_set = set((extract_date_time(filename) for filename in cmc_ens_sorted_files))\n",
    "    gfs_ens_bc_sorted_files = [filename for filename in gfs_ens_bc_sorted_files if\n",
    "                               extract_date_time(filename) in master_set]\n",
    "\n",
    "    master_set = set((extract_date_time(filename) for filename in gfs_ens_bc_sorted_files))\n",
    "\n",
    "    ecmwf_sorted_files = [filename for filename in ecmwf_sorted_files if extract_date_time(filename) in master_set]\n",
    "    ecmwf_ens_sorted_files = [filename for filename in ecmwf_ens_sorted_files if\n",
    "                              extract_date_time(filename) in master_set]\n",
    "    gfs_ens_bc_sorted_files = [filename for filename in gfs_ens_bc_sorted_files if\n",
    "                               extract_date_time(filename) in master_set]\n",
    "    cmc_ens_sorted_files = [filename for filename in cmc_ens_sorted_files if\n",
    "                            extract_date_time(filename) in master_set]"
   ],
   "metadata": {
    "collapsed": false,
    "ExecuteTime": {
     "start_time": "2023-06-21T13:57:29.348048Z",
     "end_time": "2023-06-21T13:57:29.810088Z"
    }
   }
  },
  {
   "cell_type": "markdown",
   "source": [
    "### process raw data into individual components for model"
   ],
   "metadata": {
    "collapsed": false
   }
  },
  {
   "cell_type": "code",
   "execution_count": null,
   "outputs": [],
   "source": [
    "# y\n",
    "# euro ensemble - values to predict\n",
    "ecmwf_ens_9_14 = pd.DataFrame(columns=['ens(9,14)'])\n",
    "\n",
    "for i in range(1, len(ecmwf_ens_sorted_files)):\n",
    "    ecmwf_ens_df = pd.read_csv(ecmwf_ens_sorted_files[i])\n",
    "    ecmwf_ens_df = ecmwf_ens_df[ecmwf_ens_df[ecmwf_ens_df.columns[2]] >= 1]\n",
    "    prev_ecmwf_ens_df = pd.read_csv(ecmwf_ens_sorted_files[i - 1])\n",
    "    prev_ecmwf_ens_df = prev_ecmwf_ens_df[prev_ecmwf_ens_df[prev_ecmwf_ens_df.columns[2]] >= 1]\n",
    "\n",
    "    date = get_date(ecmwf_ens_df, ecmwf_ens_sorted_files[i])\n",
    "    prev_date = get_date(prev_ecmwf_ens_df, ecmwf_ens_sorted_files[i - 1])\n",
    "    d2 = str(date)[:10]\n",
    "    d1 = str(prev_date)[:10]\n",
    "\n",
    "    if d2 == d1:\n",
    "        offset = 1\n",
    "    else:\n",
    "        offset = 0\n",
    "\n",
    "    cur = ecmwf_ens_df['Value'].iloc[8:14].sum()\n",
    "    prev = prev_ecmwf_ens_df['Value'].iloc[(8+offset):(14+offset)].sum()\n",
    "    change = cur - prev\n",
    "\n",
    "    new_row = pd.DataFrame(change, columns=ecmwf_ens_9_14.columns, index=[date])\n",
    "    ecmwf_ens_9_14 = pd.concat([ecmwf_ens_9_14, new_row])"
   ],
   "metadata": {
    "collapsed": false,
    "ExecuteTime": {
     "start_time": "2023-06-21T13:57:29.814532Z",
     "end_time": "2023-06-21T13:57:38.160210Z"
    }
   }
  },
  {
   "cell_type": "code",
   "execution_count": null,
   "outputs": [],
   "source": [
    "# X1\n",
    "# euro ensemble day 8\n",
    "ecmwf_ens_8 = pd.DataFrame(columns=['ens(8)'])\n",
    "\n",
    "for i in range(1, len(ecmwf_ens_sorted_files)):\n",
    "    ecmwf_ens_df = pd.read_csv(ecmwf_ens_sorted_files[i])\n",
    "    ecmwf_ens_df = ecmwf_ens_df[ecmwf_ens_df[ecmwf_ens_df.columns[2]] >= 1]\n",
    "    prev_ecmwf_ens_df = pd.read_csv(ecmwf_ens_sorted_files[i - 1])\n",
    "    prev_ecmwf_ens_df = prev_ecmwf_ens_df[prev_ecmwf_ens_df[prev_ecmwf_ens_df.columns[2]] >= 1]\n",
    "\n",
    "    date = get_date(ecmwf_ens_df, ecmwf_ens_sorted_files[i])\n",
    "    prev_date = get_date(prev_ecmwf_ens_df, ecmwf_ens_sorted_files[i - 1])\n",
    "    d2 = str(date)[:10]\n",
    "    d1 = str(prev_date)[:10]\n",
    "\n",
    "    if d2 == d1:\n",
    "        offset = 1\n",
    "    else:\n",
    "        offset = 0\n",
    "\n",
    "    cur = ecmwf_ens_df['Value'].iloc[7:8].sum()\n",
    "    prev = prev_ecmwf_ens_df['Value'].iloc[(7+offset):(8+offset)].sum()\n",
    "    change = cur - prev\n",
    "\n",
    "    new_row = pd.DataFrame(change, columns=ecmwf_ens_8.columns, index=[date])\n",
    "    ecmwf_ens_8 = pd.concat([ecmwf_ens_8, new_row])"
   ],
   "metadata": {
    "collapsed": false,
    "ExecuteTime": {
     "start_time": "2023-06-21T13:57:38.164025Z",
     "end_time": "2023-06-21T13:57:45.073310Z"
    }
   }
  },
  {
   "cell_type": "code",
   "execution_count": null,
   "outputs": [],
   "source": [
    "# X2\n",
    "# ecmwf(9,10) - ecmwf_ens-1(9,10)\n",
    "\n",
    "ecmwf_9_10 = pd.DataFrame(columns=['ecmwf(9,10)'])\n",
    "\n",
    "for i in range(1, len(ecmwf_sorted_files)):\n",
    "    ecmwf_df = pd.read_csv(ecmwf_sorted_files[i])\n",
    "    ecmwf_df = ecmwf_df[ecmwf_df[ecmwf_df.columns[2]] >= 1]\n",
    "    prev_ecmwf_ens_df = pd.read_csv(ecmwf_ens_sorted_files[i-1])\n",
    "    prev_ecmwf_ens_df = prev_ecmwf_ens_df[prev_ecmwf_ens_df[prev_ecmwf_ens_df.columns[2]] >= 1]\n",
    "\n",
    "    date = get_date(ecmwf_df, ecmwf_sorted_files[i])\n",
    "    prev_date = get_date(prev_ecmwf_ens_df, ecmwf_sorted_files[i - 1])\n",
    "    d2 = str(date)[:10]\n",
    "    d1 = str(prev_date)[:10]\n",
    "\n",
    "    if d2 == d1:\n",
    "        offset = 1\n",
    "    else:\n",
    "        offset = 0\n",
    "\n",
    "    cur = ecmwf_df['Value'].iloc[8:10].sum()\n",
    "    prev = prev_ecmwf_ens_df['Value'].iloc[(8+offset):(10+offset)].sum()\n",
    "    change = cur - prev\n",
    "\n",
    "    new_row = pd.DataFrame(change, columns=ecmwf_9_10.columns, index=[date])\n",
    "    ecmwf_9_10 = pd.concat([ecmwf_9_10, new_row])"
   ],
   "metadata": {
    "collapsed": false,
    "ExecuteTime": {
     "start_time": "2023-06-21T13:57:45.077988Z",
     "end_time": "2023-06-21T13:57:52.404576Z"
    }
   }
  },
  {
   "cell_type": "code",
   "execution_count": null,
   "outputs": [],
   "source": [
    "# X3\n",
    "# gfs(11,14) - ecmwf_ens-1(11,14)\n",
    "\n",
    "gfs_11_14 = pd.DataFrame(columns=['gfs(11,14)'])\n",
    "\n",
    "for i in range(1, len(gfs_ens_bc_sorted_files)):\n",
    "    gfs_df = pd.read_csv(gfs_ens_bc_sorted_files[i])\n",
    "    gfs_df = gfs_df[gfs_df[gfs_df.columns[2]] >= 1]\n",
    "    prev_ecmwf_ens_df = pd.read_csv(ecmwf_ens_sorted_files[i-1])\n",
    "    prev_ecmwf_ens_df = prev_ecmwf_ens_df[prev_ecmwf_ens_df[prev_ecmwf_ens_df.columns[2]] >= 1]\n",
    "\n",
    "    date = get_date(gfs_df, gfs_ens_bc_sorted_files[i])\n",
    "    prev_date = get_date(prev_ecmwf_ens_df, ecmwf_ens_sorted_files[i - 1])\n",
    "    d2 = str(date)[:10]\n",
    "    d1 = str(prev_date)[:10]\n",
    "\n",
    "    if d2 == d1:\n",
    "        offset = 1\n",
    "    else:\n",
    "        offset = 0\n",
    "\n",
    "    cur = gfs_df['Value'].iloc[10:14].sum()\n",
    "    prev = prev_ecmwf_ens_df['Value'].iloc[(10+offset):(14+offset)].sum()\n",
    "    change = cur - prev\n",
    "\n",
    "    new_row = pd.DataFrame(change, columns=gfs_11_14.columns, index=[date])\n",
    "    gfs_11_14 = pd.concat([gfs_11_14, new_row])"
   ],
   "metadata": {
    "collapsed": false,
    "ExecuteTime": {
     "start_time": "2023-06-21T13:57:52.409182Z",
     "end_time": "2023-06-21T13:58:00.179162Z"
    }
   }
  },
  {
   "cell_type": "code",
   "execution_count": null,
   "outputs": [],
   "source": [
    "# X4\n",
    "# cmc(9,14) - gfs(9,14)\n",
    "\n",
    "cmc_9_14 = pd.DataFrame(columns=['cmc(9,14)'])\n",
    "\n",
    "for i in range(1, len(cmc_ens_sorted_files)):\n",
    "    cmc_df = pd.read_csv(cmc_ens_sorted_files[i])\n",
    "    cmc_df = cmc_df[cmc_df[cmc_df.columns[2]] >= 1]\n",
    "    gfs_df = pd.read_csv(gfs_ens_bc_sorted_files[i])\n",
    "    gfs_df = gfs_df[gfs_df[gfs_df.columns[2]] >= 1]\n",
    "\n",
    "    date = get_date(cmc_df, cmc_ens_sorted_files[i])\n",
    "\n",
    "    cmc = cmc_df['Value'].iloc[8:14].sum()\n",
    "    gfs = gfs_df['Value'].iloc[8:14].sum()\n",
    "    change = cmc - gfs\n",
    "\n",
    "    new_row = pd.DataFrame(change, columns=cmc_9_14.columns, index=[date])\n",
    "    cmc_9_14 = pd.concat([cmc_9_14, new_row])"
   ],
   "metadata": {
    "collapsed": false,
    "ExecuteTime": {
     "start_time": "2023-06-21T13:58:00.181973Z",
     "end_time": "2023-06-21T13:58:08.197641Z"
    }
   }
  },
  {
   "cell_type": "markdown",
   "source": [
    "# testing"
   ],
   "metadata": {
    "collapsed": false
   }
  },
  {
   "cell_type": "code",
   "execution_count": null,
   "outputs": [],
   "source": [
    "i = 0\n",
    "\n",
    "d1 = ecmwf_ens_sorted_files[i].split('.')[1]\n",
    "d2 = ecmwf_ens_sorted_files[i - 1].split('.')[1]\n",
    "\n",
    "ecmwf_ens_df = pd.read_csv(ecmwf_ens_sorted_files[i])\n",
    "v1 = ecmwf_ens_df[ecmwf_ens_df[ecmwf_ens_df.columns[2]] >= 1]\n",
    "prev_ecmwf_ens_df = pd.read_csv(ecmwf_ens_sorted_files[i - 1])\n",
    "v2 = prev_ecmwf_ens_df[prev_ecmwf_ens_df[prev_ecmwf_ens_df.columns[2]] >= 1]"
   ],
   "metadata": {
    "collapsed": false,
    "ExecuteTime": {
     "start_time": "2023-06-21T13:58:08.198905Z",
     "end_time": "2023-06-21T13:58:08.204136Z"
    }
   }
  },
  {
   "cell_type": "code",
   "execution_count": null,
   "outputs": [],
   "source": [
    "print(ecmwf_ens_sorted_files[i])\n",
    "print(ecmwf_ens_sorted_files[i - 1])"
   ],
   "metadata": {
    "collapsed": false,
    "ExecuteTime": {
     "start_time": "2023-06-21T13:58:08.204723Z",
     "end_time": "2023-06-21T13:58:08.208006Z"
    }
   }
  },
  {
   "cell_type": "code",
   "execution_count": null,
   "outputs": [],
   "source": [
    "if d1 == d2:\n",
    "    offset = 1\n",
    "else:\n",
    "    offset = 0"
   ],
   "metadata": {
    "collapsed": false,
    "ExecuteTime": {
     "start_time": "2023-06-21T13:58:08.208661Z",
     "end_time": "2023-06-21T13:58:08.211034Z"
    }
   }
  },
  {
   "cell_type": "code",
   "execution_count": null,
   "outputs": [],
   "source": [
    "a = v1.iloc[7:8]"
   ],
   "metadata": {
    "collapsed": false,
    "ExecuteTime": {
     "start_time": "2023-06-21T13:58:08.212104Z",
     "end_time": "2023-06-21T13:58:08.214458Z"
    }
   }
  },
  {
   "cell_type": "code",
   "execution_count": null,
   "outputs": [],
   "source": [
    "b = v2.iloc[7+offset:8+offset]"
   ],
   "metadata": {
    "collapsed": false,
    "ExecuteTime": {
     "start_time": "2023-06-21T13:58:08.217479Z",
     "end_time": "2023-06-21T13:58:08.240720Z"
    }
   }
  },
  {
   "cell_type": "code",
   "execution_count": null,
   "outputs": [],
   "source": [
    "a['Value'].sum() - b['Value'].sum()"
   ],
   "metadata": {
    "collapsed": false,
    "ExecuteTime": {
     "start_time": "2023-06-21T13:58:08.219802Z",
     "end_time": "2023-06-21T13:58:08.240911Z"
    }
   }
  },
  {
   "cell_type": "code",
   "execution_count": null,
   "outputs": [],
   "source": [
    "display(a)"
   ],
   "metadata": {
    "collapsed": false,
    "ExecuteTime": {
     "start_time": "2023-06-21T13:58:08.227828Z",
     "end_time": "2023-06-21T13:58:08.241069Z"
    }
   }
  },
  {
   "cell_type": "code",
   "execution_count": null,
   "outputs": [],
   "source": [
    "display(b)"
   ],
   "metadata": {
    "collapsed": false,
    "ExecuteTime": {
     "start_time": "2023-06-21T13:58:08.234026Z",
     "end_time": "2023-06-21T13:58:08.241119Z"
    }
   }
  },
  {
   "cell_type": "code",
   "execution_count": null,
   "outputs": [],
   "source": [
    "display(v1)"
   ],
   "metadata": {
    "collapsed": false,
    "ExecuteTime": {
     "start_time": "2023-06-21T13:58:08.241216Z",
     "end_time": "2023-06-21T13:58:08.253350Z"
    }
   }
  },
  {
   "cell_type": "code",
   "execution_count": null,
   "outputs": [],
   "source": [
    "display(v2)"
   ],
   "metadata": {
    "collapsed": false,
    "ExecuteTime": {
     "start_time": "2023-06-21T13:58:08.248755Z",
     "end_time": "2023-06-21T13:58:08.253449Z"
    }
   }
  },
  {
   "cell_type": "code",
   "execution_count": null,
   "outputs": [],
   "source": [
    "display(ecmwf_ens_8.head())"
   ],
   "metadata": {
    "collapsed": false,
    "ExecuteTime": {
     "start_time": "2023-06-21T13:58:08.255449Z",
     "end_time": "2023-06-21T13:58:08.263055Z"
    }
   }
  },
  {
   "cell_type": "markdown",
   "source": [
    "# model"
   ],
   "metadata": {
    "collapsed": false
   }
  },
  {
   "cell_type": "code",
   "execution_count": null,
   "outputs": [],
   "source": [
    "master_df = pd.concat([ecmwf_ens_9_14, ecmwf_ens_8, ecmwf_9_10, gfs_11_14, cmc_9_14], axis=1)"
   ],
   "metadata": {
    "collapsed": false,
    "ExecuteTime": {
     "start_time": "2023-06-21T13:58:21.105323Z",
     "end_time": "2023-06-21T13:58:21.133407Z"
    }
   }
  },
  {
   "cell_type": "code",
   "execution_count": null,
   "outputs": [],
   "source": [
    "data = master_df.copy()"
   ],
   "metadata": {
    "collapsed": false,
    "ExecuteTime": {
     "start_time": "2023-06-21T13:58:21.343893Z",
     "end_time": "2023-06-21T13:58:21.353280Z"
    }
   }
  },
  {
   "cell_type": "code",
   "execution_count": null,
   "outputs": [],
   "source": [
    "#get only noon forecast\n",
    "data['hour'] = data.index.hour\n",
    "data = data[data['hour'] == 12]\n",
    "data.drop('hour', axis=1, inplace=True)"
   ],
   "metadata": {
    "collapsed": false,
    "ExecuteTime": {
     "start_time": "2023-06-21T13:58:21.570294Z",
     "end_time": "2023-06-21T13:58:21.581024Z"
    }
   }
  },
  {
   "cell_type": "code",
   "execution_count": null,
   "outputs": [],
   "source": [
    "display(data.columns)"
   ],
   "metadata": {
    "collapsed": false,
    "ExecuteTime": {
     "start_time": "2023-06-21T13:58:21.789187Z",
     "end_time": "2023-06-21T13:58:21.805176Z"
    }
   }
  },
  {
   "cell_type": "code",
   "execution_count": null,
   "outputs": [],
   "source": [
    "if 'hdd' in degree_days:\n",
    "    print('getting betas for hdd')\n",
    "    b1 = 0.76947604258751\n",
    "    b2 = 0.6555933110283885\n",
    "    b3 = 0.16964083221789059\n",
    "    b4 = 0.06680336217511197\n",
    "\n",
    "else:\n",
    "    print('getting betas for cdd')\n",
    "    b1 = 1.7687808214521186\n",
    "    b2 =0.42218026473687276\n",
    "    b3 = 0.1128916050374201\n",
    "    b4 = 0.08538981339364801"
   ],
   "metadata": {
    "collapsed": false,
    "ExecuteTime": {
     "start_time": "2023-06-21T13:58:22.011635Z",
     "end_time": "2023-06-21T13:58:22.021711Z"
    }
   }
  },
  {
   "cell_type": "code",
   "execution_count": null,
   "outputs": [],
   "source": [
    "(b1*0.003) + (b2*0.088) + (b3*0.037) + (b4*-0.040)"
   ],
   "metadata": {
    "collapsed": false,
    "ExecuteTime": {
     "start_time": "2023-06-21T13:58:22.571729Z",
     "end_time": "2023-06-21T13:58:22.587829Z"
    }
   }
  },
  {
   "cell_type": "code",
   "execution_count": null,
   "outputs": [],
   "source": [
    "features = ['ens(8)', 'ecmwf(9,10)', 'gfs(11,14)', 'cmc(9,14)']\n",
    "X = data[features]"
   ],
   "metadata": {
    "collapsed": false,
    "ExecuteTime": {
     "start_time": "2023-06-21T13:58:23.145826Z",
     "end_time": "2023-06-21T13:58:23.161985Z"
    }
   }
  },
  {
   "cell_type": "code",
   "execution_count": null,
   "outputs": [],
   "source": [
    "X"
   ],
   "metadata": {
    "collapsed": false,
    "ExecuteTime": {
     "start_time": "2023-06-21T13:58:28.377275Z",
     "end_time": "2023-06-21T13:58:28.400769Z"
    }
   }
  },
  {
   "cell_type": "code",
   "execution_count": null,
   "outputs": [],
   "source": [
    "label = 'ens(9,14)'\n",
    "y = data[label]"
   ],
   "metadata": {
    "collapsed": false,
    "ExecuteTime": {
     "start_time": "2023-06-21T13:58:30.796669Z",
     "end_time": "2023-06-21T13:58:30.826743Z"
    }
   }
  },
  {
   "cell_type": "code",
   "execution_count": null,
   "outputs": [],
   "source": [
    "y"
   ],
   "metadata": {
    "collapsed": false,
    "ExecuteTime": {
     "start_time": "2023-06-21T13:58:31.348758Z",
     "end_time": "2023-06-21T13:58:31.370865Z"
    }
   }
  },
  {
   "cell_type": "code",
   "execution_count": null,
   "outputs": [],
   "source": [
    "regression_preds = (b1 * X.iloc[:,0]) + (b2 * X.iloc[:,1]) + (b3 * X.iloc[:,2]) + (b4 * X.iloc[:,3])"
   ],
   "metadata": {
    "collapsed": false,
    "ExecuteTime": {
     "start_time": "2023-06-21T13:58:31.948713Z",
     "end_time": "2023-06-21T13:58:31.957900Z"
    }
   }
  },
  {
   "cell_type": "code",
   "execution_count": null,
   "outputs": [],
   "source": [
    "y[-225:]"
   ],
   "metadata": {
    "collapsed": false,
    "ExecuteTime": {
     "start_time": "2023-06-21T13:58:32.292357Z",
     "end_time": "2023-06-21T13:58:32.306094Z"
    }
   }
  },
  {
   "cell_type": "code",
   "execution_count": null,
   "outputs": [],
   "source": [
    "mse = mean_squared_error(y[-225:], regression_preds[-225:])\n",
    "mse # mean squared error before any adjustments - benchmark to beat"
   ],
   "metadata": {
    "collapsed": false,
    "ExecuteTime": {
     "start_time": "2023-06-21T13:58:32.704512Z",
     "end_time": "2023-06-21T13:58:32.725268Z"
    }
   }
  },
  {
   "cell_type": "code",
   "execution_count": null,
   "outputs": [],
   "source": [
    "forecasting_errors = y - regression_preds"
   ],
   "metadata": {
    "collapsed": false,
    "ExecuteTime": {
     "start_time": "2023-06-21T13:58:32.966693Z",
     "end_time": "2023-06-21T13:58:32.984188Z"
    }
   }
  },
  {
   "cell_type": "code",
   "execution_count": null,
   "outputs": [],
   "source": [],
   "metadata": {
    "collapsed": false,
    "ExecuteTime": {
     "start_time": "2023-06-21T13:59:45.666843Z",
     "end_time": "2023-06-21T13:59:45.696561Z"
    }
   }
  },
  {
   "cell_type": "code",
   "execution_count": null,
   "outputs": [],
   "source": [
    "plt.plot(forecasting_errors)"
   ],
   "metadata": {
    "collapsed": false,
    "ExecuteTime": {
     "start_time": "2023-06-21T13:59:48.768913Z",
     "end_time": "2023-06-21T13:59:48.868149Z"
    }
   }
  },
  {
   "cell_type": "markdown",
   "source": [
    "### forecasting errors linear regression"
   ],
   "metadata": {
    "collapsed": false
   }
  },
  {
   "cell_type": "code",
   "execution_count": null,
   "outputs": [],
   "source": [
    "from sklearn.linear_model import LinearRegression\n",
    "from sklearn.model_selection import train_test_split\n",
    "from statsmodels.tsa.arima.model import ARIMA"
   ],
   "metadata": {
    "collapsed": false,
    "ExecuteTime": {
     "start_time": "2023-06-21T13:59:49.444068Z",
     "end_time": "2023-06-21T13:59:49.453270Z"
    }
   }
  },
  {
   "cell_type": "code",
   "execution_count": null,
   "outputs": [],
   "source": [
    "X_train, X_test, y_train, y_test = train_test_split(X, forecasting_errors, test_size=0.15, shuffle=False)"
   ],
   "metadata": {
    "collapsed": false,
    "ExecuteTime": {
     "start_time": "2023-06-21T13:59:49.811173Z",
     "end_time": "2023-06-21T13:59:49.821497Z"
    }
   }
  },
  {
   "cell_type": "code",
   "execution_count": null,
   "outputs": [],
   "source": [],
   "metadata": {
    "collapsed": false,
    "ExecuteTime": {
     "start_time": "2023-06-21T13:59:50.141780Z",
     "end_time": "2023-06-21T13:59:50.155695Z"
    }
   }
  },
  {
   "cell_type": "code",
   "execution_count": null,
   "outputs": [],
   "source": [
    "reg = LinearRegression().fit(X_train, y_train)\n",
    "reg.score(X_test, y_test)"
   ],
   "metadata": {
    "collapsed": false,
    "ExecuteTime": {
     "start_time": "2023-06-21T13:59:50.355258Z",
     "end_time": "2023-06-21T13:59:50.363137Z"
    }
   }
  },
  {
   "cell_type": "code",
   "execution_count": null,
   "outputs": [],
   "source": [
    "reg.coef_"
   ],
   "metadata": {
    "collapsed": false,
    "ExecuteTime": {
     "start_time": "2023-06-21T13:59:51.814587Z",
     "end_time": "2023-06-21T13:59:51.833716Z"
    }
   }
  },
  {
   "cell_type": "code",
   "execution_count": null,
   "outputs": [],
   "source": [
    "error_preds = reg.predict(X_test)\n",
    "(((error_preds[-225:] + regression_preds[-225:]) - y[-225:]) ** 2).mean() # mean squared error after adjustments(lin reg)"
   ],
   "metadata": {
    "collapsed": false,
    "ExecuteTime": {
     "start_time": "2023-06-21T13:59:53.318808Z",
     "end_time": "2023-06-21T13:59:53.340237Z"
    }
   }
  },
  {
   "cell_type": "code",
   "execution_count": null,
   "outputs": [],
   "source": [
    "import statsmodels.api as sm\n",
    "model = sm.OLS(y_train, X_train)\n",
    "results = model.fit()\n",
    "print(results.summary())"
   ],
   "metadata": {
    "collapsed": false,
    "ExecuteTime": {
     "start_time": "2023-06-21T14:01:03.280254Z",
     "end_time": "2023-06-21T14:01:03.296119Z"
    }
   }
  },
  {
   "cell_type": "code",
   "execution_count": null,
   "outputs": [],
   "source": [
    "fig = plt.figure(figsize=(12, 8))\n",
    "ax1 = fig.add_subplot(211)\n",
    "fig = sm.graphics.tsa.plot_acf(forecasting_errors.values.squeeze(), lags=40, ax=ax1)\n",
    "ax2 = fig.add_subplot(212)\n",
    "fig = sm.graphics.tsa.plot_pacf(forecasting_errors, lags=40, ax=ax2)"
   ],
   "metadata": {
    "collapsed": false,
    "ExecuteTime": {
     "start_time": "2023-06-21T14:01:03.485644Z",
     "end_time": "2023-06-21T14:01:03.719799Z"
    }
   }
  },
  {
   "cell_type": "code",
   "execution_count": null,
   "outputs": [],
   "source": [
    "mod = sm.tsa.statespace.SARIMAX(forecasting_errors, trend='c', order=(1,1,1))\n",
    "res = mod.fit(disp=False)\n",
    "print(res.summary())"
   ],
   "metadata": {
    "collapsed": false,
    "ExecuteTime": {
     "start_time": "2023-06-21T14:01:04.044031Z",
     "end_time": "2023-06-21T14:01:04.941151Z"
    }
   }
  },
  {
   "cell_type": "code",
   "execution_count": null,
   "outputs": [],
   "source": [
    "start_date = '2022-10-04'\n",
    "end_date = '2023-05-16'\n",
    "predict = res.predict(start=start_date, end=end_date)"
   ],
   "metadata": {
    "collapsed": false,
    "ExecuteTime": {
     "start_time": "2023-06-21T14:01:05.146953Z",
     "end_time": "2023-06-21T14:01:05.157957Z"
    }
   }
  },
  {
   "cell_type": "code",
   "execution_count": null,
   "outputs": [],
   "source": [
    "predict"
   ],
   "metadata": {
    "collapsed": false,
    "ExecuteTime": {
     "start_time": "2023-06-21T14:01:06.408964Z",
     "end_time": "2023-06-21T14:01:06.432110Z"
    }
   }
  },
  {
   "cell_type": "code",
   "execution_count": null,
   "outputs": [],
   "source": [
    "(((predict + regression_preds[-225:]) - y[-225:])** 2).mean() # mean squared error after adjustments(sarimax)"
   ],
   "metadata": {
    "collapsed": false,
    "ExecuteTime": {
     "start_time": "2023-06-21T14:01:06.842574Z",
     "end_time": "2023-06-21T14:01:06.866415Z"
    }
   }
  },
  {
   "cell_type": "code",
   "execution_count": null,
   "outputs": [],
   "source": [],
   "metadata": {
    "collapsed": false
   }
  },
  {
   "cell_type": "markdown",
   "source": [
    "### forecasting errors - prophet"
   ],
   "metadata": {
    "collapsed": false
   }
  },
  {
   "cell_type": "code",
   "execution_count": null,
   "outputs": [],
   "source": [
    "errors = forecasting_errors.to_frame()\n",
    "errors['ds'] = errors.index\n",
    "errors.rename(columns={0:'y'}, inplace=True)\n",
    "errors.reset_index(drop=True, inplace=True)"
   ],
   "metadata": {
    "collapsed": false,
    "ExecuteTime": {
     "start_time": "2023-06-21T14:01:13.151955Z",
     "end_time": "2023-06-21T14:01:13.173286Z"
    }
   }
  },
  {
   "cell_type": "code",
   "execution_count": null,
   "outputs": [],
   "source": [
    "train_len = 0.85\n",
    "train_errors = errors.iloc[:int(len(errors)*train_len)]\n",
    "test_errors = errors.iloc[int(len(errors)*train_len):]"
   ],
   "metadata": {
    "collapsed": false,
    "ExecuteTime": {
     "start_time": "2023-06-21T14:01:13.304699Z",
     "end_time": "2023-06-21T14:01:13.317892Z"
    }
   }
  },
  {
   "cell_type": "code",
   "execution_count": null,
   "outputs": [],
   "source": [
    "m = Prophet()\n",
    "m.fit(train_errors)"
   ],
   "metadata": {
    "collapsed": false,
    "ExecuteTime": {
     "start_time": "2023-06-21T14:01:13.506293Z",
     "end_time": "2023-06-21T14:01:13.699066Z"
    }
   }
  },
  {
   "cell_type": "code",
   "execution_count": null,
   "outputs": [],
   "source": [
    "future = m.make_future_dataframe(periods=263)\n",
    "future.tail()"
   ],
   "metadata": {
    "collapsed": false,
    "ExecuteTime": {
     "start_time": "2023-06-21T14:01:14.236739Z",
     "end_time": "2023-06-21T14:01:14.254345Z"
    }
   }
  },
  {
   "cell_type": "code",
   "execution_count": null,
   "outputs": [],
   "source": [
    "forecast = m.predict(future)\n",
    "forecast[['ds', 'yhat', 'yhat_lower', 'yhat_upper']].tail()"
   ],
   "metadata": {
    "collapsed": false,
    "ExecuteTime": {
     "start_time": "2023-06-21T14:01:14.766909Z",
     "end_time": "2023-06-21T14:01:14.995003Z"
    }
   }
  },
  {
   "cell_type": "code",
   "execution_count": null,
   "outputs": [],
   "source": [
    "fig1 = m.plot(forecast)"
   ],
   "metadata": {
    "collapsed": false,
    "ExecuteTime": {
     "start_time": "2023-06-21T14:01:15.135644Z",
     "end_time": "2023-06-21T14:01:15.292132Z"
    }
   }
  },
  {
   "cell_type": "code",
   "execution_count": null,
   "outputs": [],
   "source": [
    "fig2 = m.plot_components(forecast)"
   ],
   "metadata": {
    "collapsed": false,
    "ExecuteTime": {
     "start_time": "2023-06-21T14:01:15.595248Z",
     "end_time": "2023-06-21T14:01:15.935341Z"
    }
   }
  },
  {
   "cell_type": "code",
   "execution_count": null,
   "outputs": [],
   "source": [],
   "metadata": {
    "collapsed": false,
    "ExecuteTime": {
     "start_time": "2023-06-21T14:01:25.297288Z",
     "end_time": "2023-06-21T14:01:25.316801Z"
    }
   }
  },
  {
   "cell_type": "code",
   "execution_count": null,
   "outputs": [],
   "source": [
    "forecasted_errors = forecast[['ds', 'yhat']]\n",
    "forecasted_errors.set_index('ds', inplace=True)"
   ],
   "metadata": {
    "collapsed": false,
    "ExecuteTime": {
     "start_time": "2023-06-21T14:01:25.498616Z",
     "end_time": "2023-06-21T14:01:25.508973Z"
    }
   }
  },
  {
   "cell_type": "code",
   "execution_count": null,
   "outputs": [],
   "source": [
    "# errors without adjustment\n",
    "((regression_preds[-225:] - y[-225:]) **2).mean()"
   ],
   "metadata": {
    "collapsed": false,
    "ExecuteTime": {
     "start_time": "2023-06-21T14:01:25.757028Z",
     "end_time": "2023-06-21T14:01:25.771400Z"
    }
   }
  },
  {
   "cell_type": "code",
   "execution_count": null,
   "outputs": [],
   "source": [
    "# errors with prophet adjustment\n",
    "(((regression_preds[-225:] + forecasted_errors['yhat'][-225:]) - y[-225:])**2).mean()"
   ],
   "metadata": {
    "collapsed": false,
    "ExecuteTime": {
     "start_time": "2023-06-21T14:01:26.301054Z",
     "end_time": "2023-06-21T14:01:26.318479Z"
    }
   }
  },
  {
   "cell_type": "code",
   "execution_count": null,
   "outputs": [],
   "source": [],
   "metadata": {
    "collapsed": false,
    "ExecuteTime": {
     "start_time": "2023-06-21T14:01:47.913767Z",
     "end_time": "2023-06-21T14:01:47.937929Z"
    }
   }
  },
  {
   "cell_type": "code",
   "execution_count": null,
   "outputs": [],
   "source": [],
   "metadata": {
    "collapsed": false,
    "ExecuteTime": {
     "start_time": "2023-06-21T14:01:48.077899Z",
     "end_time": "2023-06-21T14:01:48.097380Z"
    }
   }
  },
  {
   "cell_type": "markdown",
   "source": [
    "### forecasting errors - autogluon"
   ],
   "metadata": {
    "collapsed": false
   }
  },
  {
   "cell_type": "code",
   "execution_count": null,
   "outputs": [],
   "source": [
    "data_df = data.copy()"
   ],
   "metadata": {
    "collapsed": false,
    "ExecuteTime": {
     "start_time": "2023-06-21T14:01:48.424717Z",
     "end_time": "2023-06-21T14:01:48.445786Z"
    }
   }
  },
  {
   "cell_type": "code",
   "execution_count": null,
   "outputs": [],
   "source": [
    "data_df['errors'] = forecasting_errors"
   ],
   "metadata": {
    "collapsed": false,
    "ExecuteTime": {
     "start_time": "2023-06-21T14:01:48.915205Z",
     "end_time": "2023-06-21T14:01:48.925392Z"
    }
   }
  },
  {
   "cell_type": "code",
   "execution_count": null,
   "outputs": [],
   "source": [
    "data_df.drop('ens(9,14)', axis=1, inplace=True)"
   ],
   "metadata": {
    "collapsed": false,
    "ExecuteTime": {
     "start_time": "2023-06-21T14:01:49.395821Z",
     "end_time": "2023-06-21T14:01:49.405975Z"
    }
   }
  },
  {
   "cell_type": "code",
   "execution_count": null,
   "outputs": [],
   "source": [
    "label = 'errors'\n",
    "features = ['ens(8)', 'ecmwf(9,10)', 'gfs(11,14)', 'cmc(9,14)']"
   ],
   "metadata": {
    "collapsed": false,
    "ExecuteTime": {
     "start_time": "2023-06-21T14:01:49.817470Z",
     "end_time": "2023-06-21T14:01:49.842448Z"
    }
   }
  },
  {
   "cell_type": "code",
   "execution_count": null,
   "outputs": [],
   "source": [
    "train_len = 0.85"
   ],
   "metadata": {
    "collapsed": false,
    "ExecuteTime": {
     "start_time": "2023-06-21T14:01:50.431739Z",
     "end_time": "2023-06-21T14:01:50.442463Z"
    }
   }
  },
  {
   "cell_type": "code",
   "execution_count": null,
   "outputs": [],
   "source": [
    "train_data = TabularDataset(data_df.iloc[:int(len(data_df)*train_len)])\n",
    "test_data = TabularDataset(data_df.iloc[int(len(data_df)*train_len):])"
   ],
   "metadata": {
    "collapsed": false,
    "ExecuteTime": {
     "start_time": "2023-06-21T14:01:50.702566Z",
     "end_time": "2023-06-21T14:01:50.714042Z"
    }
   }
  },
  {
   "cell_type": "code",
   "execution_count": null,
   "outputs": [],
   "source": [
    "train_data"
   ],
   "metadata": {
    "collapsed": false,
    "ExecuteTime": {
     "start_time": "2023-06-21T14:01:50.943162Z",
     "end_time": "2023-06-21T14:01:50.949027Z"
    }
   }
  },
  {
   "cell_type": "code",
   "execution_count": null,
   "outputs": [],
   "source": [
    "test_data"
   ],
   "metadata": {
    "collapsed": false,
    "ExecuteTime": {
     "start_time": "2023-06-21T14:01:51.547837Z",
     "end_time": "2023-06-21T14:01:51.553239Z"
    }
   }
  },
  {
   "cell_type": "code",
   "execution_count": null,
   "outputs": [],
   "source": [
    "predictor = TabularPredictor(label=label).fit(train_data, presets='best_quality')"
   ],
   "metadata": {
    "collapsed": false,
    "ExecuteTime": {
     "start_time": "2023-06-21T14:01:51.864046Z",
     "end_time": "2023-06-21T14:03:20.324523Z"
    }
   }
  },
  {
   "cell_type": "code",
   "execution_count": null,
   "outputs": [],
   "source": [
    "test_data_no_lab = test_data.drop(columns=[label])\n",
    "test_data_no_lab"
   ],
   "metadata": {
    "collapsed": false,
    "ExecuteTime": {
     "start_time": "2023-06-21T14:03:20.323248Z",
     "end_time": "2023-06-21T14:03:20.334655Z"
    }
   }
  },
  {
   "cell_type": "code",
   "execution_count": null,
   "outputs": [],
   "source": [
    "error_pred = predictor.predict(test_data_no_lab)\n",
    "error_pred.head()"
   ],
   "metadata": {
    "collapsed": false,
    "ExecuteTime": {
     "start_time": "2023-06-21T14:03:20.334086Z",
     "end_time": "2023-06-21T14:03:20.524805Z"
    }
   }
  },
  {
   "cell_type": "code",
   "execution_count": null,
   "outputs": [],
   "source": [
    "predictor.evaluate(test_data, silent=True)"
   ],
   "metadata": {
    "collapsed": false,
    "ExecuteTime": {
     "start_time": "2023-06-21T14:03:20.524898Z",
     "end_time": "2023-06-21T14:03:20.728280Z"
    }
   }
  },
  {
   "cell_type": "code",
   "execution_count": null,
   "outputs": [],
   "source": [
    "# MSE after autogluon adjustment\n",
    "(((error_pred[-225:] + regression_preds[-225:]) - y)**2).dropna().mean()"
   ],
   "metadata": {
    "collapsed": false,
    "ExecuteTime": {
     "start_time": "2023-06-21T14:03:20.730840Z",
     "end_time": "2023-06-21T14:03:20.739395Z"
    }
   }
  },
  {
   "cell_type": "code",
   "execution_count": null,
   "outputs": [],
   "source": [],
   "metadata": {
    "collapsed": false,
    "ExecuteTime": {
     "start_time": "2023-06-21T14:07:53.061329Z",
     "end_time": "2023-06-21T14:07:53.082174Z"
    }
   }
  },
  {
   "cell_type": "code",
   "execution_count": null,
   "outputs": [],
   "source": [
    "error_pred[-225:]"
   ],
   "metadata": {
    "collapsed": false,
    "ExecuteTime": {
     "start_time": "2023-06-21T14:03:20.748428Z",
     "end_time": "2023-06-21T14:03:20.802496Z"
    }
   }
  },
  {
   "cell_type": "code",
   "execution_count": null,
   "outputs": [],
   "source": [],
   "metadata": {
    "collapsed": false,
    "ExecuteTime": {
     "start_time": "2023-06-21T14:03:20.757233Z",
     "end_time": "2023-06-21T14:03:20.802635Z"
    }
   }
  },
  {
   "cell_type": "code",
   "execution_count": null,
   "outputs": [],
   "source": [
    "import xgboost as xgb"
   ],
   "metadata": {
    "collapsed": false,
    "ExecuteTime": {
     "start_time": "2023-06-21T14:03:20.760690Z",
     "end_time": "2023-06-21T14:03:20.802718Z"
    }
   }
  },
  {
   "cell_type": "code",
   "execution_count": null,
   "outputs": [],
   "source": [
    "label_df = train_data[label]\n",
    "train_data = train_data[features]"
   ],
   "metadata": {
    "collapsed": false,
    "ExecuteTime": {
     "start_time": "2023-06-21T14:03:20.770765Z",
     "end_time": "2023-06-21T14:03:20.803108Z"
    }
   }
  },
  {
   "cell_type": "code",
   "execution_count": null,
   "outputs": [],
   "source": [
    "dtrain = xgb.DMatrix(train_data, label=label_df)"
   ],
   "metadata": {
    "collapsed": false,
    "ExecuteTime": {
     "start_time": "2023-06-21T14:03:20.777080Z",
     "end_time": "2023-06-21T14:03:20.803151Z"
    }
   }
  },
  {
   "cell_type": "code",
   "execution_count": null,
   "outputs": [],
   "source": [
    "bst = xgb.train(params={'objective': 'reg:squarederror'}, dtrain=dtrain)"
   ],
   "metadata": {
    "collapsed": false,
    "ExecuteTime": {
     "start_time": "2023-06-21T14:03:20.783126Z",
     "end_time": "2023-06-21T14:03:20.841218Z"
    }
   }
  },
  {
   "cell_type": "code",
   "execution_count": null,
   "outputs": [],
   "source": [
    "test_data = test_data[features]"
   ],
   "metadata": {
    "collapsed": false,
    "ExecuteTime": {
     "start_time": "2023-06-21T14:03:20.829346Z",
     "end_time": "2023-06-21T14:03:20.841328Z"
    }
   }
  },
  {
   "cell_type": "code",
   "execution_count": null,
   "outputs": [],
   "source": [
    "dtest = xgb.DMatrix(test_data)\n",
    "ypred = bst.predict(dtest)"
   ],
   "metadata": {
    "collapsed": false,
    "ExecuteTime": {
     "start_time": "2023-06-21T14:03:20.833940Z",
     "end_time": "2023-06-21T14:03:20.841356Z"
    }
   }
  },
  {
   "cell_type": "code",
   "execution_count": null,
   "outputs": [],
   "source": [
    "# MSE after xgboost adjustment\n",
    "(((ypred[-225:] + regression_preds[-225:]) - y[-225:]) ** 2).mean()"
   ],
   "metadata": {
    "collapsed": false,
    "ExecuteTime": {
     "start_time": "2023-06-21T14:03:20.842202Z",
     "end_time": "2023-06-21T14:03:20.878224Z"
    }
   }
  },
  {
   "cell_type": "code",
   "execution_count": null,
   "outputs": [],
   "source": [
    "xgb.plot_importance(bst)"
   ],
   "metadata": {
    "collapsed": false,
    "ExecuteTime": {
     "start_time": "2023-06-21T14:03:20.863097Z",
     "end_time": "2023-06-21T14:03:20.968830Z"
    }
   }
  },
  {
   "cell_type": "code",
   "execution_count": null,
   "outputs": [],
   "source": [],
   "metadata": {
    "collapsed": false,
    "ExecuteTime": {
     "start_time": "2023-06-21T12:09:04.384372Z",
     "end_time": "2023-06-21T12:09:04.410712Z"
    }
   }
  },
  {
   "cell_type": "markdown",
   "source": [
    "### improving model through deep learning"
   ],
   "metadata": {
    "collapsed": false
   }
  },
  {
   "cell_type": "code",
   "execution_count": null,
   "outputs": [],
   "source": [
    "deep_preds = pd.read_pickle(\"predictions_cdd.pkl\")"
   ],
   "metadata": {
    "collapsed": false,
    "ExecuteTime": {
     "start_time": "2023-06-21T14:09:44.348530Z",
     "end_time": "2023-06-21T14:09:44.365532Z"
    }
   }
  },
  {
   "cell_type": "code",
   "execution_count": null,
   "outputs": [],
   "source": [
    "deep_preds = deep_preds.to_frame()"
   ],
   "metadata": {
    "collapsed": false,
    "ExecuteTime": {
     "start_time": "2023-06-21T14:09:45.865137Z",
     "end_time": "2023-06-21T14:09:45.876335Z"
    }
   }
  },
  {
   "cell_type": "code",
   "execution_count": null,
   "outputs": [],
   "source": [
    "deep_preds.rename(columns={0:'prediction'}, inplace=True)"
   ],
   "metadata": {
    "collapsed": false,
    "ExecuteTime": {
     "start_time": "2023-06-21T14:09:46.518085Z",
     "end_time": "2023-06-21T14:09:46.529077Z"
    }
   }
  },
  {
   "cell_type": "code",
   "execution_count": null,
   "outputs": [],
   "source": [
    "y = y.to_frame()"
   ],
   "metadata": {
    "collapsed": false,
    "ExecuteTime": {
     "start_time": "2023-06-21T14:09:47.092676Z",
     "end_time": "2023-06-21T14:09:47.103533Z"
    }
   }
  },
  {
   "cell_type": "code",
   "execution_count": null,
   "outputs": [],
   "source": [
    "#combine deep_pred and y\n",
    "deep_preds['y'] = y['ens(9,14)']"
   ],
   "metadata": {
    "collapsed": false,
    "ExecuteTime": {
     "start_time": "2023-06-21T14:09:48.399375Z",
     "end_time": "2023-06-21T14:09:48.420107Z"
    }
   }
  },
  {
   "cell_type": "code",
   "execution_count": null,
   "outputs": [],
   "source": [
    "deep_preds.dropna(inplace=True)"
   ],
   "metadata": {
    "collapsed": false,
    "ExecuteTime": {
     "start_time": "2023-06-21T14:09:49.005566Z",
     "end_time": "2023-06-21T14:09:49.012741Z"
    }
   }
  },
  {
   "cell_type": "code",
   "execution_count": null,
   "outputs": [],
   "source": [
    "# MSE of custom deep learning model\n",
    "((deep_preds[deep_preds.columns[0]][-225:] - deep_preds[deep_preds.columns[1]][-225:])**2).mean()"
   ],
   "metadata": {
    "collapsed": false,
    "ExecuteTime": {
     "start_time": "2023-06-21T14:09:49.954142Z",
     "end_time": "2023-06-21T14:09:49.973040Z"
    }
   }
  },
  {
   "cell_type": "code",
   "execution_count": null,
   "outputs": [],
   "source": [
    "display(deep_preds[-225:])"
   ],
   "metadata": {
    "collapsed": false,
    "ExecuteTime": {
     "start_time": "2023-06-21T14:09:51.039976Z",
     "end_time": "2023-06-21T14:09:51.058071Z"
    }
   }
  },
  {
   "cell_type": "code",
   "execution_count": null,
   "outputs": [],
   "source": [],
   "metadata": {
    "collapsed": false
   }
  },
  {
   "cell_type": "code",
   "execution_count": null,
   "outputs": [],
   "source": [],
   "metadata": {
    "collapsed": false
   }
  }
 ],
 "metadata": {
  "kernelspec": {
   "display_name": "Python 3",
   "language": "python",
   "name": "python3"
  },
  "language_info": {
   "codemirror_mode": {
    "name": "ipython",
    "version": 2
   },
   "file_extension": ".py",
   "mimetype": "text/x-python",
   "name": "python",
   "nbconvert_exporter": "python",
   "pygments_lexer": "ipython2",
   "version": "2.7.6"
  }
 },
 "nbformat": 4,
 "nbformat_minor": 0
}
