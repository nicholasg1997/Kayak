{
 "cells": [
  {
   "cell_type": "code",
   "execution_count": null,
   "metadata": {
    "collapsed": true,
    "ExecuteTime": {
     "start_time": "2023-07-04T09:01:02.134682Z",
     "end_time": "2023-07-04T09:01:07.461111Z"
    }
   },
   "outputs": [],
   "source": [
    "import pandas as pd\n",
    "from sklearn.metrics import mean_squared_error, mean_absolute_error, mean_absolute_percentage_error, r2_score\n",
    "from datetime import datetime, time\n",
    "from prophet import Prophet\n",
    "import glob\n",
    "from sklearn.linear_model import LinearRegression\n",
    "from sklearn.model_selection import train_test_split\n",
    "import statsmodels.api as sm\n",
    "\n",
    "\n",
    "import matplotlib.pyplot as plt\n",
    "\n",
    "import numpy as np\n",
    "import plotly.express as px\n",
    "import plotly.graph_objects as go\n",
    "import plotly.offline as pyo\n",
    "pyo.init_notebook_mode()"
   ]
  },
  {
   "cell_type": "code",
   "execution_count": null,
   "outputs": [],
   "source": [
    "def display_errors(y_true, y_pred, return_vals=False):\n",
    "    mse = mean_squared_error(y_true, y_pred)\n",
    "    print(f\"MSE: {round(mse, 3)}\")\n",
    "    rmse = mse ** 0.5\n",
    "    print(f\"RMSE: {round(rmse, 3)}\")\n",
    "    mae = mean_absolute_error(y_true, y_pred)\n",
    "    print(f\"MAE: {round(mae, 3)}\")\n",
    "    mape = mean_absolute_percentage_error(y_true, y_pred)\n",
    "    print(f\"MAPE: {round(mape, 3)}\")\n",
    "    r2 = r2_score(y_true, y_pred)\n",
    "    print(f\"R2: {round(r2, 3)}\")\n",
    "\n",
    "    if return_vals:\n",
    "        return [mse, rmse, mae, mape, r2]\n",
    "\n",
    "def plot_errors(y_true, y_pred, name='N/A'):\n",
    "    plt.scatter(y_true, y_pred, color='blue', marker='o', label=f'error adjusted predictions ({name}) vs actual degree days')\n",
    "    plt.xlabel('actual degree days')\n",
    "    plt.ylabel('predicted degree days')\n",
    "    plt.title(f'Prediction vs Actual ({name})')\n",
    "\n",
    "    max_value = max(max(y_true[-225:]), max(y_true[-225:]))\n",
    "    min_value = min(min(y_true[-225:]), min(y_true[-225:]))\n",
    "    plt.plot([min_value, max_value], [min_value, max_value], color='red', linestyle='--', label='Line of Equality')\n",
    "\n",
    "    plt.legend()\n"
   ],
   "metadata": {
    "collapsed": false,
    "ExecuteTime": {
     "start_time": "2023-07-04T09:01:07.460665Z",
     "end_time": "2023-07-04T09:01:07.461944Z"
    }
   }
  },
  {
   "cell_type": "code",
   "execution_count": null,
   "outputs": [],
   "source": [
    "# obtain and sort required raw data\n",
    "degree_days = 'gw_hdd' # 'gw_hdd', 'ew_cdd' or 'pw_cdd'\n",
    "path = \"RawData\"\n",
    "\n",
    "def extract_date_time(filename):\n",
    "    \"\"\"\n",
    "    extract the date and time from the filename\n",
    "    :param filename:\n",
    "    :return:\n",
    "    \"\"\"\n",
    "    parts = filename.split('.')\n",
    "    extracted_date = parts[1]\n",
    "    extracted_time = parts[2]\n",
    "    return extracted_date, extracted_time\n",
    "\n",
    "def get_date(file):\n",
    "    \"\"\"get the date from the dataframe and the time from the filename and combine them into a datetime object\n",
    "    :param file: filename containing the time\n",
    "    :return: datetime object\n",
    "    \"\"\"\n",
    "\n",
    "    date_str = str(file.split('.')[1])\n",
    "    time_str = str(file.split('.')[2])\n",
    "    date_value = datetime.strptime(date_str, '%Y%m%d')\n",
    "    time_value = time(int(time_str), 0)\n",
    "    combined_datetime = datetime.combine(date_value.date(), time_value)\n",
    "    return combined_datetime\n",
    "\n",
    "degree_days = degree_days\n",
    "ecmwf_files = glob.glob(path + f'/ecmwf.*.[01][02].{degree_days}.csv')\n",
    "ecmwf_sorted_files = sorted(ecmwf_files, key=lambda x: (x.split('.')[1], x.split('.')[2]))[3:]\n",
    "\n",
    "ecmwf_ens_files = glob.glob(path + f'/ecmwf-eps.*.[01][02].{degree_days}.csv')\n",
    "ecmwf_ens_sorted_files = sorted(ecmwf_ens_files, key=lambda x: (x.split('.')[1], x.split('.')[2]))[2:]\n",
    "\n",
    "gfs_ens_bc_files = glob.glob(path + f'/gfs-ens-bc.*.[01][02].{degree_days}.csv')\n",
    "gfs_ens_bc_sorted_files = sorted(gfs_ens_bc_files, key=lambda x: (x.split('.')[1], x.split('.')[2]))[2:]\n",
    "\n",
    "cmc_ens_files = glob.glob(path + f'/cmc-ens.*.[01][02].{degree_days}.csv')\n",
    "cmc_ens_sorted_files = sorted(cmc_ens_files, key=lambda x: (x.split('.')[1], x.split('.')[2]))[2:]\n",
    "for _ in range(2):\n",
    "    set1 = set((extract_date_time(filename) for filename in ecmwf_sorted_files))\n",
    "    set2 = set((extract_date_time(filename) for filename in ecmwf_ens_sorted_files))\n",
    "\n",
    "    ecmwf_sorted_files = [filename for filename in ecmwf_sorted_files if extract_date_time(filename) in set2]\n",
    "    ecmwf_ens_sorted_files = [filename for filename in ecmwf_ens_sorted_files if\n",
    "                              extract_date_time(filename) in set1]\n",
    "    cmc_ens_sorted_files = [filename for filename in cmc_ens_sorted_files if extract_date_time(filename) in set1]\n",
    "\n",
    "    master_set = set((extract_date_time(filename) for filename in cmc_ens_sorted_files))\n",
    "    gfs_ens_bc_sorted_files = [filename for filename in gfs_ens_bc_sorted_files if\n",
    "                               extract_date_time(filename) in master_set]\n",
    "\n",
    "    master_set = set((extract_date_time(filename) for filename in gfs_ens_bc_sorted_files))\n",
    "\n",
    "    ecmwf_sorted_files = [filename for filename in ecmwf_sorted_files if extract_date_time(filename) in master_set]\n",
    "    ecmwf_ens_sorted_files = [filename for filename in ecmwf_ens_sorted_files if\n",
    "                              extract_date_time(filename) in master_set]\n",
    "    gfs_ens_bc_sorted_files = [filename for filename in gfs_ens_bc_sorted_files if\n",
    "                               extract_date_time(filename) in master_set]\n",
    "    cmc_ens_sorted_files = [filename for filename in cmc_ens_sorted_files if\n",
    "                            extract_date_time(filename) in master_set]"
   ],
   "metadata": {
    "collapsed": false,
    "ExecuteTime": {
     "start_time": "2023-07-04T09:01:07.461019Z",
     "end_time": "2023-07-04T09:01:08.391735Z"
    }
   }
  },
  {
   "cell_type": "markdown",
   "source": [
    "### process raw data into individual components for model"
   ],
   "metadata": {
    "collapsed": false
   }
  },
  {
   "cell_type": "code",
   "execution_count": null,
   "outputs": [],
   "source": [
    "# y\n",
    "# euro ensemble - values to predict\n",
    "ecmwf_ens_9_14 = pd.DataFrame(columns=['ens(9,14)'])\n",
    "\n",
    "for i in range(1, len(ecmwf_ens_sorted_files)):\n",
    "    ecmwf_ens_df = pd.read_csv(ecmwf_ens_sorted_files[i])\n",
    "    ecmwf_ens_df = ecmwf_ens_df[ecmwf_ens_df[ecmwf_ens_df.columns[2]] >= 1]\n",
    "    prev_ecmwf_ens_df = pd.read_csv(ecmwf_ens_sorted_files[i - 1])\n",
    "    prev_ecmwf_ens_df = prev_ecmwf_ens_df[prev_ecmwf_ens_df[prev_ecmwf_ens_df.columns[2]] >= 1]\n",
    "\n",
    "    date = get_date(ecmwf_ens_sorted_files[i])\n",
    "    prev_date = get_date(ecmwf_ens_sorted_files[i - 1])\n",
    "    d2 = str(date)[:10]\n",
    "    d1 = str(prev_date)[:10]\n",
    "\n",
    "    if d2 == d1:\n",
    "        offset = 1\n",
    "    else:\n",
    "        offset = 0\n",
    "\n",
    "    cur = ecmwf_ens_df['Value'].iloc[8:14].sum()\n",
    "    prev = prev_ecmwf_ens_df['Value'].iloc[(8+offset):(14+offset)].sum()\n",
    "    change = cur - prev\n",
    "\n",
    "    new_row = pd.DataFrame(change, columns=ecmwf_ens_9_14.columns, index=[date])\n",
    "    ecmwf_ens_9_14 = pd.concat([ecmwf_ens_9_14, new_row])"
   ],
   "metadata": {
    "collapsed": false,
    "ExecuteTime": {
     "start_time": "2023-07-04T09:01:08.401389Z",
     "end_time": "2023-07-04T09:01:15.673200Z"
    }
   }
  },
  {
   "cell_type": "code",
   "execution_count": null,
   "outputs": [],
   "source": [
    "# X1\n",
    "# euro ensemble day 8\n",
    "ecmwf_ens_8 = pd.DataFrame(columns=['ens(8)'])\n",
    "\n",
    "for i in range(1, len(ecmwf_ens_sorted_files)):\n",
    "    ecmwf_ens_df = pd.read_csv(ecmwf_ens_sorted_files[i])\n",
    "    ecmwf_ens_df = ecmwf_ens_df[ecmwf_ens_df[ecmwf_ens_df.columns[2]] >= 1]\n",
    "    prev_ecmwf_ens_df = pd.read_csv(ecmwf_ens_sorted_files[i - 1])\n",
    "    prev_ecmwf_ens_df = prev_ecmwf_ens_df[prev_ecmwf_ens_df[prev_ecmwf_ens_df.columns[2]] >= 1]\n",
    "\n",
    "    date = get_date(ecmwf_ens_sorted_files[i])\n",
    "    prev_date = get_date(ecmwf_ens_sorted_files[i - 1])\n",
    "    d2 = str(date)[:10]\n",
    "    d1 = str(prev_date)[:10]\n",
    "\n",
    "    if d2 == d1:\n",
    "        offset = 1\n",
    "    else:\n",
    "        offset = 0\n",
    "\n",
    "    cur = ecmwf_ens_df['Value'].iloc[7:8].sum() #7-8 benchmark, 7-8 best results\n",
    "    prev = prev_ecmwf_ens_df['Value'].iloc[(7+offset):(8+offset)].sum() #7-8 benchmark, 7-8 best results\n",
    "    change = cur - prev\n",
    "\n",
    "    new_row = pd.DataFrame(change, columns=ecmwf_ens_8.columns, index=[date])\n",
    "    ecmwf_ens_8 = pd.concat([ecmwf_ens_8, new_row])"
   ],
   "metadata": {
    "collapsed": false,
    "ExecuteTime": {
     "start_time": "2023-07-04T09:01:15.678171Z",
     "end_time": "2023-07-04T09:01:22.429798Z"
    }
   }
  },
  {
   "cell_type": "code",
   "execution_count": null,
   "outputs": [],
   "source": [
    "# X2\n",
    "# ecmwf(9,10) - ecmwf_ens-1(9,10)\n",
    "\n",
    "ecmwf_9_10 = pd.DataFrame(columns=['ecmwf(9)'])\n",
    "\n",
    "for i in range(1, len(ecmwf_sorted_files)):\n",
    "    ecmwf_df = pd.read_csv(ecmwf_sorted_files[i])\n",
    "    ecmwf_df = ecmwf_df[ecmwf_df[ecmwf_df.columns[2]] >= 1]\n",
    "    prev_ecmwf_ens_df = pd.read_csv(ecmwf_ens_sorted_files[i-1])\n",
    "    prev_ecmwf_ens_df = prev_ecmwf_ens_df[prev_ecmwf_ens_df[prev_ecmwf_ens_df.columns[2]] >= 1]\n",
    "\n",
    "    date = get_date(ecmwf_sorted_files[i])\n",
    "    prev_date = get_date(ecmwf_sorted_files[i - 1])\n",
    "    d2 = str(date)[:10]\n",
    "    d1 = str(prev_date)[:10]\n",
    "\n",
    "    if d2 == d1:\n",
    "        offset = 1\n",
    "    else:\n",
    "        offset = 0\n",
    "\n",
    "    #cur = ecmwf_df['Value'].iloc[8:10].sum()\n",
    "    #prev = prev_ecmwf_ens_df['Value'].iloc[(8+offset):(10+offset)].sum()\n",
    "\n",
    "    cur = ecmwf_df['Value'].iloc[8:9].sum() #8-9 benchmark, 4-9 best results\n",
    "    prev = prev_ecmwf_ens_df['Value'].iloc[(8+offset):(9+offset)].sum() #8-9 benchmark, 4-9 best results\n",
    "\n",
    "    change = cur - prev\n",
    "\n",
    "    new_row = pd.DataFrame(change, columns=ecmwf_9_10.columns, index=[date])\n",
    "    ecmwf_9_10 = pd.concat([ecmwf_9_10, new_row])"
   ],
   "metadata": {
    "collapsed": false,
    "ExecuteTime": {
     "start_time": "2023-07-04T09:01:22.434691Z",
     "end_time": "2023-07-04T09:01:29.571559Z"
    }
   }
  },
  {
   "cell_type": "code",
   "execution_count": null,
   "outputs": [],
   "source": [
    "# X3\n",
    "# gfs(11,14) - ecmwf_ens-1(11,14)\n",
    "\n",
    "gfs_11_14 = pd.DataFrame(columns=['gfs(10,14)'])\n",
    "\n",
    "for i in range(1, len(gfs_ens_bc_sorted_files)):\n",
    "    gfs_df = pd.read_csv(gfs_ens_bc_sorted_files[i])\n",
    "    gfs_df = gfs_df[gfs_df[gfs_df.columns[2]] >= 1]\n",
    "    prev_ecmwf_ens_df = pd.read_csv(ecmwf_ens_sorted_files[i-1])\n",
    "    prev_ecmwf_ens_df = prev_ecmwf_ens_df[prev_ecmwf_ens_df[prev_ecmwf_ens_df.columns[2]] >= 1]\n",
    "\n",
    "    date = get_date(gfs_ens_bc_sorted_files[i])\n",
    "    prev_date = get_date(ecmwf_ens_sorted_files[i - 1])\n",
    "    d2 = str(date)[:10]\n",
    "    d1 = str(prev_date)[:10]\n",
    "\n",
    "    if d2 == d1:\n",
    "        offset = 1\n",
    "    else:\n",
    "        offset = 0\n",
    "\n",
    "    #cur = gfs_df['Value'].iloc[10:14].sum()\n",
    "    #prev = prev_ecmwf_ens_df['Value'].iloc[(10+offset):(14+offset)].sum()\n",
    "\n",
    "    cur = gfs_df['Value'].iloc[9:14].sum() # 9-14 benchmark, 9-16 best results\n",
    "    prev = prev_ecmwf_ens_df['Value'].iloc[(9+offset):(14+offset)].sum() # 9-14 benchmark, 9-16 best results\n",
    "\n",
    "    change = cur - prev\n",
    "\n",
    "    new_row = pd.DataFrame(change, columns=gfs_11_14.columns, index=[date])\n",
    "    gfs_11_14 = pd.concat([gfs_11_14, new_row])"
   ],
   "metadata": {
    "collapsed": false,
    "ExecuteTime": {
     "start_time": "2023-07-04T09:01:29.576207Z",
     "end_time": "2023-07-04T09:01:36.901545Z"
    }
   }
  },
  {
   "cell_type": "code",
   "execution_count": null,
   "outputs": [],
   "source": [
    "# X4\n",
    "# cmc(9,14) - gfs(9,14)\n",
    "\n",
    "cmc_9_14 = pd.DataFrame(columns=['cmc(9,15)'])\n",
    "\n",
    "for i in range(1, len(cmc_ens_sorted_files)):\n",
    "    cmc_df = pd.read_csv(cmc_ens_sorted_files[i])\n",
    "    cmc_df = cmc_df[cmc_df[cmc_df.columns[2]] >= 1]\n",
    "    gfs_df = pd.read_csv(gfs_ens_bc_sorted_files[i])\n",
    "    gfs_df = gfs_df[gfs_df[gfs_df.columns[2]] >= 1]\n",
    "\n",
    "    date = get_date(cmc_ens_sorted_files[i])\n",
    "\n",
    "    cmc = cmc_df['Value'].iloc[8:14].sum() #8-14 benchmark, 8-14 best results\n",
    "    gfs = gfs_df['Value'].iloc[8:14].sum() #8-14 benchmark, 8-14 best results\n",
    "    change = cmc - gfs\n",
    "\n",
    "    new_row = pd.DataFrame(change, columns=cmc_9_14.columns, index=[date])\n",
    "    cmc_9_14 = pd.concat([cmc_9_14, new_row])"
   ],
   "metadata": {
    "collapsed": false,
    "ExecuteTime": {
     "start_time": "2023-07-04T09:01:36.905049Z",
     "end_time": "2023-07-04T09:01:44.146161Z"
    }
   }
  },
  {
   "cell_type": "code",
   "execution_count": null,
   "outputs": [],
   "source": [
    "norms = pd.DataFrame(columns=['Date', 'Value'])\n",
    "for i in range(1, len(ecmwf_ens_sorted_files), 2):\n",
    "    ecmwf_ens_df = pd.read_csv(ecmwf_ens_sorted_files[i])\n",
    "    v1 = ecmwf_ens_df[ecmwf_ens_df[ecmwf_ens_df.columns[2]] == 2].iloc[:, :2]\n",
    "    norms = pd.concat([norms, v1]).drop_duplicates('Date')\n",
    "\n",
    "norms.reset_index(inplace=True)\n",
    "norms.drop(columns=['index'], inplace=True)\n",
    "norms['Date'] = pd.to_datetime(norms['Date']).dt.strftime('%Y-%m-%d 12:00:00')\n",
    "norms.set_index('Date', inplace=True)\n",
    "norms.rename_axis('', inplace=True)\n",
    "norms.rename(columns={'Value': 'norm'}, inplace=True)"
   ],
   "metadata": {
    "collapsed": false,
    "ExecuteTime": {
     "start_time": "2023-07-04T09:01:44.149885Z",
     "end_time": "2023-07-04T09:01:46.316826Z"
    }
   }
  },
  {
   "cell_type": "code",
   "execution_count": null,
   "outputs": [],
   "source": [],
   "metadata": {
    "collapsed": false,
    "ExecuteTime": {
     "start_time": "2023-07-04T09:01:46.317636Z",
     "end_time": "2023-07-04T09:01:46.319776Z"
    }
   }
  },
  {
   "cell_type": "markdown",
   "source": [
    "# testing"
   ],
   "metadata": {
    "collapsed": false
   }
  },
  {
   "cell_type": "code",
   "execution_count": null,
   "outputs": [],
   "source": [
    "i = 0\n",
    "\n",
    "d1 = gfs_ens_bc_sorted_files[i].split('.')[1]\n",
    "d2 = ecmwf_ens_sorted_files[i-1].split('.')[1]\n",
    "\n",
    "gfs_df = pd.read_csv(gfs_ens_bc_sorted_files[i])\n",
    "v1 = gfs_df[gfs_df[gfs_df.columns[2]] >= 1]\n",
    "prev_ecmwf_ens_df = pd.read_csv(ecmwf_ens_sorted_files[i-1])\n",
    "v2 = prev_ecmwf_ens_df[prev_ecmwf_ens_df[prev_ecmwf_ens_df.columns[2]] >= 1]"
   ],
   "metadata": {
    "collapsed": false,
    "ExecuteTime": {
     "start_time": "2023-07-04T09:01:46.322947Z",
     "end_time": "2023-07-04T09:01:46.327510Z"
    }
   }
  },
  {
   "cell_type": "code",
   "execution_count": null,
   "outputs": [],
   "source": [
    "print(ecmwf_ens_sorted_files[i])\n",
    "print(ecmwf_ens_sorted_files[i - 1])"
   ],
   "metadata": {
    "collapsed": false,
    "ExecuteTime": {
     "start_time": "2023-06-28T14:59:25.397174Z",
     "end_time": "2023-06-28T14:59:25.653029Z"
    }
   }
  },
  {
   "cell_type": "code",
   "execution_count": null,
   "outputs": [],
   "source": [
    "if d1 == d2:\n",
    "    offset = 1\n",
    "else:\n",
    "    offset = 0"
   ],
   "metadata": {
    "collapsed": false,
    "ExecuteTime": {
     "start_time": "2023-06-28T14:59:25.633592Z",
     "end_time": "2023-06-28T14:59:25.701763Z"
    }
   }
  },
  {
   "cell_type": "code",
   "execution_count": null,
   "outputs": [],
   "source": [
    "a = v1.iloc[9:14]"
   ],
   "metadata": {
    "collapsed": false,
    "ExecuteTime": {
     "start_time": "2023-06-28T14:59:25.960347Z",
     "end_time": "2023-06-28T14:59:26.002860Z"
    }
   }
  },
  {
   "cell_type": "code",
   "execution_count": null,
   "outputs": [],
   "source": [
    "b = v2.iloc[9+offset:14+offset]"
   ],
   "metadata": {
    "collapsed": false,
    "ExecuteTime": {
     "start_time": "2023-06-28T14:59:26.550620Z",
     "end_time": "2023-06-28T14:59:26.775693Z"
    }
   }
  },
  {
   "cell_type": "code",
   "execution_count": null,
   "outputs": [],
   "source": [
    "a['Value'].sum() - b['Value'].sum()"
   ],
   "metadata": {
    "collapsed": false,
    "ExecuteTime": {
     "start_time": "2023-06-28T14:59:26.760573Z",
     "end_time": "2023-06-28T14:59:26.989175Z"
    }
   }
  },
  {
   "cell_type": "code",
   "execution_count": null,
   "outputs": [],
   "source": [
    "display(a)"
   ],
   "metadata": {
    "collapsed": false,
    "ExecuteTime": {
     "start_time": "2023-06-28T14:59:26.962880Z",
     "end_time": "2023-06-28T14:59:27.027493Z"
    }
   }
  },
  {
   "cell_type": "code",
   "execution_count": null,
   "outputs": [],
   "source": [
    "display(b)"
   ],
   "metadata": {
    "collapsed": false,
    "ExecuteTime": {
     "start_time": "2023-06-28T14:59:27.219201Z",
     "end_time": "2023-06-28T14:59:27.304572Z"
    }
   }
  },
  {
   "cell_type": "code",
   "execution_count": null,
   "outputs": [],
   "source": [
    "display(v1)"
   ],
   "metadata": {
    "collapsed": false,
    "ExecuteTime": {
     "start_time": "2023-06-28T14:59:27.248344Z",
     "end_time": "2023-06-28T14:59:27.542351Z"
    }
   }
  },
  {
   "cell_type": "code",
   "execution_count": null,
   "outputs": [],
   "source": [
    "display(v2)"
   ],
   "metadata": {
    "collapsed": false,
    "ExecuteTime": {
     "start_time": "2023-06-28T14:59:27.500945Z",
     "end_time": "2023-06-28T14:59:27.590636Z"
    }
   }
  },
  {
   "cell_type": "code",
   "execution_count": null,
   "outputs": [],
   "source": [
    "display(ecmwf_ens_8.head())"
   ],
   "metadata": {
    "collapsed": false,
    "ExecuteTime": {
     "start_time": "2023-06-28T14:59:27.799067Z",
     "end_time": "2023-06-28T14:59:27.899732Z"
    }
   }
  },
  {
   "cell_type": "markdown",
   "source": [
    "# model"
   ],
   "metadata": {
    "collapsed": false
   }
  },
  {
   "cell_type": "code",
   "execution_count": null,
   "outputs": [],
   "source": [
    "master_df = pd.concat([ecmwf_ens_9_14, ecmwf_ens_8, ecmwf_9_10, gfs_11_14, cmc_9_14], axis=1)"
   ],
   "metadata": {
    "collapsed": false,
    "ExecuteTime": {
     "start_time": "2023-07-04T09:01:53.552621Z",
     "end_time": "2023-07-04T09:01:53.616454Z"
    }
   }
  },
  {
   "cell_type": "code",
   "execution_count": null,
   "outputs": [],
   "source": [
    "master_df"
   ],
   "metadata": {
    "collapsed": false,
    "ExecuteTime": {
     "start_time": "2023-07-04T09:01:55.754814Z",
     "end_time": "2023-07-04T09:01:55.807054Z"
    }
   }
  },
  {
   "cell_type": "code",
   "execution_count": null,
   "outputs": [],
   "source": [
    "data = master_df.copy()"
   ],
   "metadata": {
    "collapsed": false,
    "ExecuteTime": {
     "start_time": "2023-07-04T09:02:00.681299Z",
     "end_time": "2023-07-04T09:02:00.709574Z"
    }
   }
  },
  {
   "cell_type": "code",
   "execution_count": null,
   "outputs": [],
   "source": [
    "#get only noon forecast\n",
    "data['hour'] = data.index.hour\n",
    "data = data[data['hour'] == 12]\n",
    "data.drop('hour', axis=1, inplace=True)"
   ],
   "metadata": {
    "collapsed": false,
    "ExecuteTime": {
     "start_time": "2023-07-04T09:02:02.013548Z",
     "end_time": "2023-07-04T09:02:02.069948Z"
    }
   }
  },
  {
   "cell_type": "code",
   "execution_count": null,
   "outputs": [],
   "source": [
    "data.index = pd.to_datetime(data.index)\n",
    "norms.index = pd.to_datetime(norms.index)\n",
    "data = pd.merge(data, norms, left_index=True, right_index=True)\n",
    "data = data.dropna()"
   ],
   "metadata": {
    "collapsed": false,
    "ExecuteTime": {
     "start_time": "2023-07-04T09:02:02.023890Z",
     "end_time": "2023-07-04T09:02:02.070249Z"
    }
   }
  },
  {
   "cell_type": "code",
   "execution_count": null,
   "outputs": [],
   "source": [
    "display(data.columns)"
   ],
   "metadata": {
    "collapsed": false,
    "ExecuteTime": {
     "start_time": "2023-07-04T09:02:02.586278Z",
     "end_time": "2023-07-04T09:02:02.643191Z"
    }
   }
  },
  {
   "cell_type": "code",
   "execution_count": null,
   "outputs": [],
   "source": [
    "if 'hdd' in degree_days:\n",
    "    print('getting betas for hdd')\n",
    "    b1 = 0.76947604258751\n",
    "    b2 = 0.6555933110283885\n",
    "    b3 = 0.16964083221789059\n",
    "    b4 = 0.06680336217511197\n",
    "\n",
    "else:\n",
    "    print('getting betas for cdd')\n",
    "    b1 = 1.7687808214521186\n",
    "    b2 =0.42218026473687276\n",
    "    b3 = 0.1128916050374201\n",
    "    b4 = 0.08538981339364801"
   ],
   "metadata": {
    "collapsed": false,
    "ExecuteTime": {
     "start_time": "2023-07-04T09:02:03.564925Z",
     "end_time": "2023-07-04T09:02:03.624689Z"
    }
   }
  },
  {
   "cell_type": "code",
   "execution_count": null,
   "outputs": [],
   "source": [],
   "metadata": {
    "collapsed": false,
    "ExecuteTime": {
     "start_time": "2023-07-04T09:02:04.416869Z",
     "end_time": "2023-07-04T09:02:04.471434Z"
    }
   }
  },
  {
   "cell_type": "code",
   "execution_count": null,
   "outputs": [],
   "source": [
    "features = ['ens(8)', 'ecmwf(9)', 'gfs(10,14)', 'cmc(9,15)', 'norm']\n",
    "X = data[features]"
   ],
   "metadata": {
    "collapsed": false,
    "ExecuteTime": {
     "start_time": "2023-07-04T09:02:04.949554Z",
     "end_time": "2023-07-04T09:02:05.004897Z"
    }
   }
  },
  {
   "cell_type": "code",
   "execution_count": null,
   "outputs": [],
   "source": [
    "display(X)"
   ],
   "metadata": {
    "collapsed": false,
    "ExecuteTime": {
     "start_time": "2023-07-04T09:02:06.353355Z",
     "end_time": "2023-07-04T09:02:06.402782Z"
    }
   }
  },
  {
   "cell_type": "code",
   "execution_count": null,
   "outputs": [],
   "source": [],
   "metadata": {
    "collapsed": false,
    "ExecuteTime": {
     "start_time": "2023-07-04T09:02:08.066146Z",
     "end_time": "2023-07-04T09:02:08.122367Z"
    }
   }
  },
  {
   "cell_type": "code",
   "execution_count": null,
   "outputs": [],
   "source": [
    "label = 'ens(9,14)'\n",
    "y = data[label]"
   ],
   "metadata": {
    "collapsed": false,
    "ExecuteTime": {
     "start_time": "2023-07-04T09:02:08.492955Z",
     "end_time": "2023-07-04T09:02:08.548635Z"
    }
   }
  },
  {
   "cell_type": "code",
   "execution_count": null,
   "outputs": [],
   "source": [
    "y"
   ],
   "metadata": {
    "collapsed": false,
    "ExecuteTime": {
     "start_time": "2023-07-04T09:02:08.856447Z",
     "end_time": "2023-07-04T09:02:08.928290Z"
    }
   }
  },
  {
   "cell_type": "code",
   "execution_count": null,
   "outputs": [],
   "source": [
    "regression_preds = (b1 * X.iloc[:,0]) + (b2 * X.iloc[:,1]) + (b3 * X.iloc[:,2]) + (b4 * X.iloc[:,3])"
   ],
   "metadata": {
    "collapsed": false,
    "ExecuteTime": {
     "start_time": "2023-06-29T11:48:58.383605Z",
     "end_time": "2023-06-29T11:48:58.627921Z"
    }
   }
  },
  {
   "cell_type": "code",
   "execution_count": null,
   "outputs": [],
   "source": [
    "y[-225:]"
   ],
   "metadata": {
    "collapsed": false,
    "ExecuteTime": {
     "start_time": "2023-06-29T11:48:58.386833Z",
     "end_time": "2023-06-29T11:48:58.628100Z"
    }
   }
  },
  {
   "cell_type": "code",
   "execution_count": null,
   "outputs": [],
   "source": [
    "base_predictions_df = pd.DataFrame({'actual': y[-225:], 'prediction': regression_preds[-225:]})"
   ],
   "metadata": {
    "collapsed": false,
    "ExecuteTime": {
     "start_time": "2023-06-29T11:48:58.402762Z",
     "end_time": "2023-06-29T11:48:58.628142Z"
    }
   }
  },
  {
   "cell_type": "code",
   "execution_count": null,
   "outputs": [],
   "source": [
    "forecasting_errors = y - regression_preds\n",
    "mean_error = forecasting_errors[:-225].mean()"
   ],
   "metadata": {
    "collapsed": false,
    "ExecuteTime": {
     "start_time": "2023-06-29T11:48:58.409036Z",
     "end_time": "2023-06-29T11:48:58.629002Z"
    }
   }
  },
  {
   "cell_type": "code",
   "execution_count": null,
   "outputs": [],
   "source": [
    "print('errors before any adjustments (benchmark)')\n",
    "error_vals = display_errors(y[-225:], regression_preds[-225:] + mean_error, return_vals=True)"
   ],
   "metadata": {
    "collapsed": false,
    "ExecuteTime": {
     "start_time": "2023-06-29T11:48:58.419369Z",
     "end_time": "2023-06-29T11:48:58.717730Z"
    }
   }
  },
  {
   "cell_type": "code",
   "execution_count": null,
   "outputs": [],
   "source": [],
   "metadata": {
    "collapsed": false,
    "ExecuteTime": {
     "start_time": "2023-06-29T11:48:58.424305Z",
     "end_time": "2023-06-29T11:48:58.717894Z"
    }
   }
  },
  {
   "cell_type": "code",
   "execution_count": null,
   "outputs": [],
   "source": [
    "display_errors(y[:-225], regression_preds[:-225])"
   ],
   "metadata": {
    "collapsed": false,
    "ExecuteTime": {
     "start_time": "2023-06-29T11:48:58.438995Z",
     "end_time": "2023-06-29T11:48:58.717952Z"
    }
   }
  },
  {
   "cell_type": "code",
   "execution_count": null,
   "outputs": [],
   "source": [
    "fig = go.Figure(data=[go.Table(\n",
    "    header=dict(values=['metrics', 'error before adjustments'],\n",
    "                line_color='darkslategray',\n",
    "                fill_color='lightskyblue',\n",
    "                align='left'),\n",
    "    cells=dict(values=[[\"MSE\", \"RMSE\", \"MAE\", \"MAPE\", \"R2\"],\n",
    "                       error_vals], # 2nd column\n",
    "               line_color='darkslategray',\n",
    "               fill_color='darkcyan',\n",
    "               align='left'))\n",
    "])\n",
    "\n",
    "fig.update_layout(width=500, height=400)\n",
    "#fig.write_image('images/linear_regression_errors_before_adjustments_table.png')\n",
    "fig.show()"
   ],
   "metadata": {
    "collapsed": false,
    "ExecuteTime": {
     "start_time": "2023-06-29T09:19:07.641846Z",
     "end_time": "2023-06-29T09:19:07.723193Z"
    }
   }
  },
  {
   "cell_type": "code",
   "execution_count": null,
   "outputs": [],
   "source": [
    "fig = px.scatter(\n",
    "    base_predictions_df, x='actual', y='prediction',\n",
    "    marginal_x='histogram', marginal_y='histogram', trendline='ols',\n",
    "    title='Linear Regression Prediction (No Adjustments) vs Actual'\n",
    ")\n",
    "fig.update_traces(histnorm='probability', selector={'type':'histogram'})\n",
    "fig.add_shape(\n",
    "    type=\"line\", line=dict(dash='dash'),\n",
    "    x0=y[-225:].min(), y0=y[-225:].min(),\n",
    "    x1=y[-225:].max(), y1=y[-225:].max()\n",
    ")\n",
    "fig.show()\n",
    "#fig.write_image('images/linear_regression_prediction_vs_actual.png')"
   ],
   "metadata": {
    "collapsed": false,
    "ExecuteTime": {
     "start_time": "2023-06-29T09:19:07.955941Z",
     "end_time": "2023-06-29T09:19:08.267699Z"
    }
   }
  },
  {
   "cell_type": "code",
   "execution_count": null,
   "outputs": [],
   "source": [],
   "metadata": {
    "collapsed": false,
    "ExecuteTime": {
     "start_time": "2023-06-29T09:19:08.255989Z",
     "end_time": "2023-06-29T09:19:08.296661Z"
    }
   }
  },
  {
   "cell_type": "code",
   "execution_count": null,
   "outputs": [],
   "source": [],
   "metadata": {
    "collapsed": false,
    "ExecuteTime": {
     "start_time": "2023-06-29T09:29:49.094707Z",
     "end_time": "2023-06-29T09:29:49.132494Z"
    }
   }
  },
  {
   "cell_type": "code",
   "execution_count": null,
   "outputs": [],
   "source": [
    "forecasting_errors = y - regression_preds\n",
    "mean_error = forecasting_errors[:-225].mean()\n",
    "mean_error"
   ],
   "metadata": {
    "collapsed": false,
    "ExecuteTime": {
     "start_time": "2023-06-29T09:30:10.533536Z",
     "end_time": "2023-06-29T09:30:10.585803Z"
    }
   }
  },
  {
   "cell_type": "code",
   "execution_count": null,
   "outputs": [],
   "source": [
    "plt.plot(forecasting_errors[-225:])"
   ],
   "metadata": {
    "collapsed": false,
    "ExecuteTime": {
     "start_time": "2023-06-29T09:29:51.823426Z",
     "end_time": "2023-06-29T09:29:52.026522Z"
    }
   }
  },
  {
   "cell_type": "code",
   "execution_count": null,
   "outputs": [],
   "source": [
    "mean_error = forecasting_errors[:-225].mean()\n",
    "mse = mean_squared_error(y[-225:], regression_preds[-225:] + mean_error)\n",
    "print(mse)"
   ],
   "metadata": {
    "collapsed": false,
    "ExecuteTime": {
     "start_time": "2023-06-29T09:19:16.544517Z",
     "end_time": "2023-06-29T09:19:16.588052Z"
    }
   }
  },
  {
   "cell_type": "markdown",
   "source": [
    "# creating new lin reg model to predict degree days directly"
   ],
   "metadata": {
    "collapsed": false
   }
  },
  {
   "cell_type": "code",
   "execution_count": null,
   "outputs": [],
   "source": [
    "X_train, X_test, y_train, y_test = train_test_split(X, y, test_size=0.15, shuffle=False)"
   ],
   "metadata": {
    "collapsed": false,
    "ExecuteTime": {
     "start_time": "2023-07-04T09:02:20.042059Z",
     "end_time": "2023-07-04T09:02:20.097759Z"
    }
   }
  },
  {
   "cell_type": "code",
   "execution_count": null,
   "outputs": [],
   "source": [],
   "metadata": {
    "collapsed": false,
    "ExecuteTime": {
     "start_time": "2023-07-04T09:02:33.973628Z",
     "end_time": "2023-07-04T09:02:34.341079Z"
    }
   }
  },
  {
   "cell_type": "code",
   "execution_count": null,
   "outputs": [],
   "source": [
    "season_start = '2021-10-04 12:00:00'\n",
    "season_end = '2022-5-16 12:00:00'\n",
    "X_test = X.loc[season_start: season_end]\n",
    "y_test = y.loc[season_start: season_end]\n",
    "\n",
    "#remove X_test from dataframe to get X_train\n",
    "mask = (X.index >= season_start) & (X.index <= season_end)\n",
    "X_train = X.loc[~mask]\n",
    "y_train = y.loc[~mask]\n"
   ],
   "metadata": {
    "collapsed": false,
    "ExecuteTime": {
     "start_time": "2023-07-04T11:23:42.758394Z",
     "end_time": "2023-07-04T11:23:42.834012Z"
    }
   }
  },
  {
   "cell_type": "code",
   "execution_count": null,
   "outputs": [],
   "source": [],
   "metadata": {
    "collapsed": false,
    "ExecuteTime": {
     "start_time": "2023-07-04T10:43:32.678773Z",
     "end_time": "2023-07-04T10:43:32.760614Z"
    }
   }
  },
  {
   "cell_type": "code",
   "execution_count": null,
   "outputs": [],
   "source": [
    "y_test.describe()"
   ],
   "metadata": {
    "collapsed": false,
    "ExecuteTime": {
     "start_time": "2023-07-04T09:03:20.386157Z",
     "end_time": "2023-07-04T09:03:20.728522Z"
    }
   }
  },
  {
   "cell_type": "code",
   "execution_count": null,
   "outputs": [],
   "source": [
    "plt.plot(y_test)"
   ],
   "metadata": {
    "collapsed": false,
    "ExecuteTime": {
     "start_time": "2023-07-04T09:03:20.723561Z",
     "end_time": "2023-07-04T09:03:21.416781Z"
    }
   }
  },
  {
   "cell_type": "code",
   "execution_count": null,
   "outputs": [],
   "source": [],
   "metadata": {
    "collapsed": false,
    "ExecuteTime": {
     "start_time": "2023-07-04T09:03:21.058399Z",
     "end_time": "2023-07-04T09:03:21.432273Z"
    }
   }
  },
  {
   "cell_type": "code",
   "execution_count": null,
   "outputs": [],
   "source": [],
   "metadata": {
    "collapsed": false,
    "ExecuteTime": {
     "start_time": "2023-07-04T09:03:21.390331Z",
     "end_time": "2023-07-04T09:03:21.509709Z"
    }
   }
  },
  {
   "cell_type": "code",
   "execution_count": null,
   "outputs": [],
   "source": [
    "y_train.tail()"
   ],
   "metadata": {
    "collapsed": false,
    "ExecuteTime": {
     "start_time": "2023-07-04T09:03:21.825081Z",
     "end_time": "2023-07-04T09:03:21.887661Z"
    }
   }
  },
  {
   "cell_type": "code",
   "execution_count": null,
   "outputs": [],
   "source": [
    "model = LinearRegression(fit_intercept=True).fit(X_train, y_train)"
   ],
   "metadata": {
    "collapsed": false,
    "ExecuteTime": {
     "start_time": "2023-07-04T09:03:22.733893Z",
     "end_time": "2023-07-04T09:03:22.802446Z"
    }
   }
  },
  {
   "cell_type": "code",
   "execution_count": null,
   "outputs": [],
   "source": [
    "print(model.coef_)\n",
    "print(model.intercept_)"
   ],
   "metadata": {
    "collapsed": false,
    "ExecuteTime": {
     "start_time": "2023-07-04T09:03:23.359928Z",
     "end_time": "2023-07-04T09:03:23.418515Z"
    }
   }
  },
  {
   "cell_type": "code",
   "execution_count": null,
   "outputs": [],
   "source": [],
   "metadata": {
    "collapsed": false,
    "ExecuteTime": {
     "start_time": "2023-07-04T09:03:23.805412Z",
     "end_time": "2023-07-04T09:03:23.867204Z"
    }
   }
  },
  {
   "cell_type": "code",
   "execution_count": null,
   "outputs": [],
   "source": [
    "print(\"linear regression formula:\")\n",
    "print(f\"y = {model.intercept_} + {model.coef_[0]}*x1 + {model.coef_[1]}*x2 + {model.coef_[2]}*x3 + {model.coef_[3]}*x4\")"
   ],
   "metadata": {
    "collapsed": false,
    "ExecuteTime": {
     "start_time": "2023-07-04T09:03:24.179238Z",
     "end_time": "2023-07-04T09:03:24.254114Z"
    }
   }
  },
  {
   "cell_type": "code",
   "execution_count": null,
   "outputs": [],
   "source": [
    "preds = model.predict(X_test)"
   ],
   "metadata": {
    "collapsed": false,
    "ExecuteTime": {
     "start_time": "2023-07-04T09:03:36.776190Z",
     "end_time": "2023-07-04T09:03:36.844253Z"
    }
   }
  },
  {
   "cell_type": "code",
   "execution_count": null,
   "outputs": [],
   "source": [
    "mean_error = (y_train - model.predict(X_train)).mean()"
   ],
   "metadata": {
    "collapsed": false,
    "ExecuteTime": {
     "start_time": "2023-07-04T09:03:37.280614Z",
     "end_time": "2023-07-04T09:03:37.337771Z"
    }
   }
  },
  {
   "cell_type": "code",
   "execution_count": null,
   "outputs": [],
   "source": [
    "mean_error"
   ],
   "metadata": {
    "collapsed": false,
    "ExecuteTime": {
     "start_time": "2023-07-04T09:03:37.771401Z",
     "end_time": "2023-07-04T09:03:37.832196Z"
    }
   }
  },
  {
   "cell_type": "code",
   "execution_count": null,
   "outputs": [],
   "source": [
    "print('errors for new lin reg model:')\n",
    "error_vals_adj = display_errors(y_test, preds, return_vals=True)"
   ],
   "metadata": {
    "collapsed": false,
    "ExecuteTime": {
     "start_time": "2023-07-04T09:03:38.357246Z",
     "end_time": "2023-07-04T09:03:38.420342Z"
    }
   }
  },
  {
   "cell_type": "code",
   "execution_count": null,
   "outputs": [],
   "source": [
    "display_errors(y_train, model.predict(X_train))"
   ],
   "metadata": {
    "collapsed": false,
    "ExecuteTime": {
     "start_time": "2023-07-04T09:03:39.336481Z",
     "end_time": "2023-07-04T09:03:39.392316Z"
    }
   }
  },
  {
   "cell_type": "code",
   "execution_count": null,
   "outputs": [],
   "source": [],
   "metadata": {
    "collapsed": false,
    "ExecuteTime": {
     "start_time": "2023-07-04T09:03:42.131865Z",
     "end_time": "2023-07-04T09:03:42.504600Z"
    }
   }
  },
  {
   "cell_type": "code",
   "execution_count": null,
   "outputs": [],
   "source": [
    "plot_errors(y_test, preds, 'Linear Regression')"
   ],
   "metadata": {
    "collapsed": false,
    "ExecuteTime": {
     "start_time": "2023-07-04T09:03:42.500818Z",
     "end_time": "2023-07-04T09:03:42.704729Z"
    }
   }
  },
  {
   "cell_type": "code",
   "execution_count": null,
   "outputs": [],
   "source": [
    "model = sm.OLS(y_train, X_train)\n",
    "res = model.fit()\n",
    "print(res.summary())"
   ],
   "metadata": {
    "collapsed": false,
    "ExecuteTime": {
     "start_time": "2023-06-29T14:30:18.833100Z",
     "end_time": "2023-06-29T14:30:18.882176Z"
    }
   }
  },
  {
   "cell_type": "code",
   "execution_count": null,
   "outputs": [],
   "source": [
    "display_errors(y_test, res.predict(X_test))"
   ],
   "metadata": {
    "collapsed": false,
    "ExecuteTime": {
     "start_time": "2023-06-29T14:30:19.645198Z",
     "end_time": "2023-06-29T14:30:19.682251Z"
    }
   }
  },
  {
   "cell_type": "code",
   "execution_count": null,
   "outputs": [],
   "source": [
    "model_preds_df = pd.DataFrame({'actual': y[-225:], 'prediction': preds[-225:]})\n",
    "\n",
    "fig = px.scatter(\n",
    "    model_preds_df, x='actual', y='prediction',\n",
    "    marginal_x='histogram', marginal_y='histogram', trendline='ols',\n",
    "    title=\"adjusted model (linear regression) vs actual degree days\"\n",
    ")\n",
    "fig.update_traces(histnorm='probability', selector={'type':'histogram'})\n",
    "fig.add_shape(\n",
    "    type=\"line\", line=dict(dash='dash'),\n",
    "    x0=y_test.min(), y0=y_test.min(),\n",
    "    x1=y_test.max(), y1=y_test.max()\n",
    ")\n",
    "fig.show()\n",
    "fig.write_image('images/linear_regression_prediction_vs_actual_after_adj.png')"
   ],
   "metadata": {
    "collapsed": false,
    "ExecuteTime": {
     "start_time": "2023-06-27T14:55:18.739266Z",
     "end_time": "2023-06-27T14:55:18.960217Z"
    }
   }
  },
  {
   "cell_type": "code",
   "execution_count": null,
   "outputs": [],
   "source": [],
   "metadata": {
    "collapsed": false
   }
  },
  {
   "cell_type": "code",
   "execution_count": null,
   "outputs": [],
   "source": [],
   "metadata": {
    "collapsed": false
   }
  },
  {
   "cell_type": "code",
   "execution_count": null,
   "outputs": [],
   "source": [
    "snippet_train = X_train[-35:-30]\n",
    "fig = go.Figure(data=[go.Table(\n",
    "    header=dict(values=['date', 'ens(8)', 'ecmwf(9)', 'gfs(10,14)', 'cmc(9,15)'],\n",
    "                fill_color='paleturquoise',\n",
    "                align='left'),\n",
    "    cells=dict(values=[snippet_train.index, round(snippet_train['ens(8)'], 3), round(snippet_train['ecmwf(9)'], 3),\n",
    "                       round(snippet_train['gfs(10,14)'], 3), round(snippet_train['cmc(9,15)'], 3)],\n",
    "               fill_color='darkcyan',\n",
    "               align='left'))\n",
    "])\n",
    "fig.show()\n",
    "#fig.write_image('images/linear_regression_snippet_train.png')\n",
    "\n",
    "y_train_snippet = y_train[-35:-30]\n",
    "\n",
    "fig = go.Figure(data=[go.Table(\n",
    "    header=dict(values=['date', 'ens(9,14)'],\n",
    "                fill_color='paleturquoise',\n",
    "                align='left'),\n",
    "    cells=dict(values=[snippet_train.index, round(y_train_snippet, 3)],\n",
    "               fill_color='darkcyan',\n",
    "               align='left'))\n",
    "])\n",
    "fig.show()\n",
    "#fig.write_image('images/linear_regression_snippet_train_y.png')"
   ],
   "metadata": {
    "collapsed": false
   }
  },
  {
   "cell_type": "code",
   "execution_count": null,
   "outputs": [],
   "source": [],
   "metadata": {
    "collapsed": false
   }
  },
  {
   "cell_type": "markdown",
   "source": [
    "### forecasting errors linear regression"
   ],
   "metadata": {
    "collapsed": false
   }
  },
  {
   "cell_type": "code",
   "execution_count": null,
   "outputs": [],
   "source": [],
   "metadata": {
    "collapsed": false,
    "ExecuteTime": {
     "start_time": "2023-06-27T10:56:44.170999Z",
     "end_time": "2023-06-27T10:56:44.659911Z"
    }
   }
  },
  {
   "cell_type": "code",
   "execution_count": null,
   "outputs": [],
   "source": [
    "X_train, X_test, y_train, y_test = train_test_split(X, forecasting_errors,\n",
    "                                                    test_size=0.15, shuffle=False)"
   ],
   "metadata": {
    "collapsed": false,
    "ExecuteTime": {
     "start_time": "2023-06-27T10:56:44.174438Z",
     "end_time": "2023-06-27T10:56:44.659940Z"
    }
   }
  },
  {
   "cell_type": "code",
   "execution_count": null,
   "outputs": [],
   "source": [
    "display(y[-225:])"
   ],
   "metadata": {
    "collapsed": false,
    "ExecuteTime": {
     "start_time": "2023-06-27T13:19:55.561385Z",
     "end_time": "2023-06-27T13:19:55.584921Z"
    }
   }
  },
  {
   "cell_type": "code",
   "execution_count": null,
   "outputs": [],
   "source": [
    "reg = LinearRegression().fit(X_train, y_train)\n",
    "reg.score(X_test, y_test)"
   ],
   "metadata": {
    "collapsed": false,
    "ExecuteTime": {
     "start_time": "2023-06-27T10:56:44.183292Z",
     "end_time": "2023-06-27T10:56:44.660086Z"
    }
   }
  },
  {
   "cell_type": "code",
   "execution_count": null,
   "outputs": [],
   "source": [
    "print(reg.coef_)\n",
    "print(reg.intercept_)"
   ],
   "metadata": {
    "collapsed": false,
    "ExecuteTime": {
     "start_time": "2023-06-27T10:56:44.189402Z",
     "end_time": "2023-06-27T10:56:44.660136Z"
    }
   }
  },
  {
   "cell_type": "code",
   "execution_count": null,
   "outputs": [],
   "source": [
    "print(\"linear regression formula:\")\n",
    "print(f\"y = {reg.intercept_} + {reg.coef_[0]}*x1 + {reg.coef_[1]}*x2 + {reg.coef_[2]}*x3 + {reg.coef_[3]}*x4\")"
   ],
   "metadata": {
    "collapsed": false,
    "ExecuteTime": {
     "start_time": "2023-06-27T10:56:44.192704Z",
     "end_time": "2023-06-27T10:56:44.660185Z"
    }
   }
  },
  {
   "cell_type": "code",
   "execution_count": null,
   "outputs": [],
   "source": [
    "error_preds = reg.predict(X_test)"
   ],
   "metadata": {
    "collapsed": false,
    "ExecuteTime": {
     "start_time": "2023-06-27T10:56:44.195618Z",
     "end_time": "2023-06-27T10:56:44.660211Z"
    }
   }
  },
  {
   "cell_type": "code",
   "execution_count": null,
   "outputs": [],
   "source": [
    "print('errors for linear regression adjusted model:')\n",
    "error_vals_adj = display_errors(y[-225:], error_preds[-225:] + regression_preds[-225:], return_vals=True)"
   ],
   "metadata": {
    "collapsed": false,
    "ExecuteTime": {
     "start_time": "2023-06-27T12:25:39.753187Z",
     "end_time": "2023-06-27T12:25:39.782313Z"
    }
   }
  },
  {
   "cell_type": "code",
   "execution_count": null,
   "outputs": [],
   "source": [
    "fig = go.Figure(data=[go.Table(\n",
    "    header=dict(values=['metrics', 'error before adjustments'],\n",
    "                line_color='darkslategray',\n",
    "                fill_color='lightskyblue',\n",
    "                align='left'),\n",
    "    cells=dict(values=[[\"MSE\", \"RMSE\", \"MAE\", \"MAPE\", \"R2\"],\n",
    "                       error_vals_adj], # 2nd column\n",
    "               line_color='darkslategray',\n",
    "               fill_color='darkcyan',\n",
    "               align='left'))\n",
    "])\n",
    "\n",
    "fig.update_layout(width=500, height=400)\n",
    "fig.write_image('images/linear_regression_errors_after_adjustments_table.png')\n",
    "fig.show()"
   ],
   "metadata": {
    "collapsed": false,
    "ExecuteTime": {
     "start_time": "2023-06-27T12:26:38.026996Z",
     "end_time": "2023-06-27T12:26:38.073108Z"
    }
   }
  },
  {
   "cell_type": "code",
   "execution_count": null,
   "outputs": [],
   "source": [
    "plot_errors(y[-225:], error_preds[-225:] + regression_preds[-225:], 'Linear Regression')"
   ],
   "metadata": {
    "collapsed": false,
    "ExecuteTime": {
     "start_time": "2023-06-27T10:56:44.212196Z",
     "end_time": "2023-06-27T10:56:44.683319Z"
    }
   }
  },
  {
   "cell_type": "code",
   "execution_count": null,
   "outputs": [],
   "source": [
    "err_adjusted = y[-225:] - (error_preds[-225:] + regression_preds[-225:])\n",
    "err_no_adj = y[-225:] - regression_preds[-225:]\n",
    "\n",
    "plt.hist(err_adjusted, bins=20, alpha=0.5, label='adjusted', color='green')\n",
    "plt.hist(err_no_adj, bins=20, alpha=0.5, label='non-adjusted', color='blue')\n",
    "plt.xlabel('error')\n",
    "plt.ylabel('frequency')\n",
    "plt.title('Distribution of errors (adjusted and non-adjusted)')\n",
    "plt.legend()\n",
    "plt.show()"
   ],
   "metadata": {
    "collapsed": false,
    "ExecuteTime": {
     "start_time": "2023-06-27T12:03:35.573674Z",
     "end_time": "2023-06-27T12:03:35.736503Z"
    }
   }
  },
  {
   "cell_type": "code",
   "execution_count": null,
   "outputs": [],
   "source": [
    "colors = ['Positive' if c > 0 else 'Negative' for c in reg.coef_]\n",
    "\n",
    "fig = px.bar(\n",
    "    x=X_train.columns, y=reg.coef_, color=colors,\n",
    "    color_discrete_sequence=['green', 'red'],\n",
    "    labels=dict(x='Feature', y='Linear coefficient'),\n",
    "    title='Weight of each feature for error prediction'\n",
    ")\n",
    "fig.show()\n",
    "fig.write_image('images/linear_regression_coefficients.png')"
   ],
   "metadata": {
    "collapsed": false,
    "ExecuteTime": {
     "start_time": "2023-06-27T10:56:44.389071Z",
     "end_time": "2023-06-27T10:56:44.702133Z"
    }
   }
  },
  {
   "cell_type": "code",
   "execution_count": null,
   "outputs": [],
   "source": [
    "prediction_df = X_test.iloc[-225:].copy()\n",
    "prediction_df['actual'] = y[-225:]\n",
    "prediction_df['prediction'] = (error_preds[-225:] + regression_preds[-225:])"
   ],
   "metadata": {
    "collapsed": false,
    "ExecuteTime": {
     "start_time": "2023-06-27T10:56:44.457550Z",
     "end_time": "2023-06-27T10:56:44.702219Z"
    }
   }
  },
  {
   "cell_type": "code",
   "execution_count": null,
   "outputs": [],
   "source": [],
   "metadata": {
    "collapsed": false,
    "ExecuteTime": {
     "start_time": "2023-06-27T10:56:44.460314Z",
     "end_time": "2023-06-27T10:56:44.702252Z"
    }
   }
  },
  {
   "cell_type": "code",
   "execution_count": null,
   "outputs": [],
   "source": [
    "fig = px.scatter(\n",
    "    prediction_df, x='actual', y='prediction',\n",
    "    marginal_x='histogram', marginal_y='histogram', trendline='ols',\n",
    "    title=\"adjusted model (linear regression) vs actual degree days\"\n",
    ")\n",
    "fig.update_traces(histnorm='probability', selector={'type':'histogram'})\n",
    "fig.add_shape(\n",
    "    type=\"line\", line=dict(dash='dash'),\n",
    "    x0=y_test.min(), y0=y_test.min(),\n",
    "    x1=y_test.max(), y1=y_test.max()\n",
    ")\n",
    "fig.show()\n",
    "fig.write_image('images/linear_regression_prediction_vs_actual_after_adj.png')"
   ],
   "metadata": {
    "collapsed": false,
    "ExecuteTime": {
     "start_time": "2023-06-27T12:51:23.266793Z",
     "end_time": "2023-06-27T12:51:23.371175Z"
    }
   }
  },
  {
   "cell_type": "code",
   "execution_count": null,
   "outputs": [],
   "source": [],
   "metadata": {
    "collapsed": false,
    "ExecuteTime": {
     "start_time": "2023-06-27T10:53:58.913620Z",
     "end_time": "2023-06-27T10:53:58.929234Z"
    }
   }
  },
  {
   "cell_type": "code",
   "execution_count": null,
   "outputs": [],
   "source": [],
   "metadata": {
    "collapsed": false
   }
  },
  {
   "cell_type": "code",
   "execution_count": null,
   "outputs": [],
   "source": [
    "# remove 2 coefficients that are not statistically significant\n",
    "y_preds = (0.4549100528456273 * X.iloc[:,0]) + (-0.404531307635968 * X.iloc[:,1]) + reg.intercept_"
   ],
   "metadata": {
    "collapsed": false,
    "ExecuteTime": {
     "start_time": "2023-06-27T10:09:47.733453Z",
     "end_time": "2023-06-27T10:09:47.746192Z"
    }
   }
  },
  {
   "cell_type": "code",
   "execution_count": null,
   "outputs": [],
   "source": [],
   "metadata": {
    "collapsed": false,
    "ExecuteTime": {
     "start_time": "2023-06-27T09:18:10.301103Z",
     "end_time": "2023-06-27T09:18:10.318078Z"
    }
   }
  },
  {
   "cell_type": "code",
   "execution_count": null,
   "outputs": [],
   "source": [
    "mse_all_vals = mean_squared_error(forecasting_errors[-225:], error_preds[-225:])\n",
    "print(mse_all_vals)\n",
    "mse_2_coef = mean_squared_error(forecasting_errors[-225:], y_preds[-225:])\n",
    "print(mse_2_coef)"
   ],
   "metadata": {
    "collapsed": false,
    "ExecuteTime": {
     "start_time": "2023-06-27T09:01:21.025697Z",
     "end_time": "2023-06-27T09:01:21.035840Z"
    }
   }
  },
  {
   "cell_type": "code",
   "execution_count": null,
   "outputs": [],
   "source": [
    "plt.scatter(forecasting_errors[-225:], error_preds[-225:], color='blue', marker='o', label='predictions vs actual')\n",
    "plt.xlabel('actual error')\n",
    "plt.ylabel('predicted error')\n",
    "plt.title('Prediction vs Actual (Linear Regression)')\n",
    "\n",
    "max_value = max(max(y[-225:]), max(error_preds[-225:]))\n",
    "min_value = min(min(y[-225:]), min(error_preds[-225:]))\n",
    "plt.plot([min_value, max_value], [min_value, max_value], color='red', linestyle='--', label='Line of Equality')\n",
    "\n",
    "plt.legend()"
   ],
   "metadata": {
    "collapsed": false,
    "ExecuteTime": {
     "start_time": "2023-06-27T09:21:40.552822Z",
     "end_time": "2023-06-27T09:21:40.697183Z"
    }
   }
  },
  {
   "cell_type": "markdown",
   "source": [
    "### KNN"
   ],
   "metadata": {
    "collapsed": false
   }
  },
  {
   "cell_type": "code",
   "execution_count": null,
   "outputs": [],
   "source": [
    "from sklearn.neighbors import KNeighborsRegressor"
   ],
   "metadata": {
    "collapsed": false,
    "ExecuteTime": {
     "start_time": "2023-06-27T11:38:04.414872Z",
     "end_time": "2023-06-27T11:38:04.425797Z"
    }
   }
  },
  {
   "cell_type": "code",
   "execution_count": null,
   "outputs": [],
   "source": [
    "knn_dist = KNeighborsRegressor(2, weights='distance')\n",
    "knn_dist.fit(X_train, y_train)\n",
    "y_dist = knn_dist.predict(X_test)\n",
    "\n",
    "knn_uni = KNeighborsRegressor(2, weights='uniform')\n",
    "knn_uni.fit(X_train, y_train)\n",
    "y_uni = knn_uni.predict(X_test)"
   ],
   "metadata": {
    "collapsed": false,
    "ExecuteTime": {
     "start_time": "2023-06-27T11:45:54.286220Z",
     "end_time": "2023-06-27T11:45:54.295270Z"
    }
   }
  },
  {
   "cell_type": "code",
   "execution_count": null,
   "outputs": [],
   "source": [
    "fig = px.scatter(x=y_test[-225:], y=y_dist[-225:], opacity=0.65)\n",
    "X_range = np.linspace(y_test[-225:].min(), y_test[-225:].max(), 100)\n",
    "fig.add_traces(go.Scatter(x=X_range, y=y_dist[-225:], name='Weights: Distance'))\n",
    "fig.add_traces(go.Scatter(x=X_range, y=y_uni[-225:], name='Weights: Uniform'))"
   ],
   "metadata": {
    "collapsed": false,
    "ExecuteTime": {
     "start_time": "2023-06-27T11:45:55.053052Z",
     "end_time": "2023-06-27T11:45:55.079309Z"
    }
   }
  },
  {
   "cell_type": "code",
   "execution_count": null,
   "outputs": [],
   "source": [
    "print('errors for knn distance model:')\n",
    "display_errors(y_test[-225:], y_dist[-225:] + regression_preds[-225:])\n",
    "print('errors for knn uniform model:')\n",
    "display_errors(y_test[-225:], y_uni[-225:] + regression_preds[-225:])"
   ],
   "metadata": {
    "collapsed": false,
    "ExecuteTime": {
     "start_time": "2023-06-27T11:46:43.530964Z",
     "end_time": "2023-06-27T11:46:43.539990Z"
    }
   }
  },
  {
   "cell_type": "code",
   "execution_count": null,
   "outputs": [],
   "source": [],
   "metadata": {
    "collapsed": false,
    "ExecuteTime": {
     "start_time": "2023-06-27T11:46:05.015954Z",
     "end_time": "2023-06-27T11:46:05.051709Z"
    }
   }
  },
  {
   "cell_type": "code",
   "execution_count": null,
   "outputs": [],
   "source": [],
   "metadata": {
    "collapsed": false
   }
  },
  {
   "cell_type": "code",
   "execution_count": null,
   "outputs": [],
   "source": [],
   "metadata": {
    "collapsed": false
   }
  },
  {
   "cell_type": "code",
   "execution_count": null,
   "outputs": [],
   "source": [
    "model = sm.OLS(y_train, X_train)\n",
    "results = model.fit()\n",
    "print(results.summary())"
   ],
   "metadata": {
    "collapsed": false,
    "ExecuteTime": {
     "start_time": "2023-06-27T09:01:21.191305Z",
     "end_time": "2023-06-27T09:01:21.203534Z"
    }
   }
  },
  {
   "cell_type": "code",
   "execution_count": null,
   "outputs": [],
   "source": [
    "fig = plt.figure(figsize=(12, 8))\n",
    "ax1 = fig.add_subplot(211)\n",
    "fig = sm.graphics.tsa.plot_acf(forecasting_errors.values.squeeze(), lags=40, ax=ax1)\n",
    "ax2 = fig.add_subplot(212)\n",
    "fig = sm.graphics.tsa.plot_pacf(forecasting_errors, lags=40, ax=ax2)"
   ],
   "metadata": {
    "collapsed": false,
    "ExecuteTime": {
     "start_time": "2023-06-27T09:01:21.204167Z",
     "end_time": "2023-06-27T09:01:21.488497Z"
    }
   }
  },
  {
   "cell_type": "code",
   "execution_count": null,
   "outputs": [],
   "source": [
    "mod = sm.tsa.statespace.SARIMAX(forecasting_errors, trend='c', order=(1,1,1))\n",
    "res = mod.fit(disp=False)\n",
    "print(res.summary())"
   ],
   "metadata": {
    "collapsed": false,
    "ExecuteTime": {
     "start_time": "2023-06-27T09:01:21.458449Z",
     "end_time": "2023-06-27T09:01:21.714789Z"
    }
   }
  },
  {
   "cell_type": "code",
   "execution_count": null,
   "outputs": [],
   "source": [
    "start_date = '2022-10-04'\n",
    "end_date = '2023-05-16'\n",
    "predict = res.predict(start=start_date, end=end_date)"
   ],
   "metadata": {
    "collapsed": false,
    "ExecuteTime": {
     "start_time": "2023-06-27T09:01:21.716603Z",
     "end_time": "2023-06-27T09:01:21.722020Z"
    }
   }
  },
  {
   "cell_type": "code",
   "execution_count": null,
   "outputs": [],
   "source": [
    "predict"
   ],
   "metadata": {
    "collapsed": false,
    "ExecuteTime": {
     "start_time": "2023-06-27T09:01:21.722158Z",
     "end_time": "2023-06-27T09:01:21.726531Z"
    }
   }
  },
  {
   "cell_type": "code",
   "execution_count": null,
   "outputs": [],
   "source": [
    "mse_SM = mean_squared_error(y[-225:], predict + regression_preds[-225:])\n",
    "print(f\"MSE after adjustment (SARIMAX): {mse_SM}\") # MSE after adjustments (sarimax)"
   ],
   "metadata": {
    "collapsed": false,
    "ExecuteTime": {
     "start_time": "2023-06-27T09:01:21.728687Z",
     "end_time": "2023-06-27T09:01:21.731805Z"
    }
   }
  },
  {
   "cell_type": "code",
   "execution_count": null,
   "outputs": [],
   "source": [],
   "metadata": {
    "collapsed": false,
    "ExecuteTime": {
     "start_time": "2023-06-27T09:01:21.732826Z",
     "end_time": "2023-06-27T09:01:21.753335Z"
    }
   }
  },
  {
   "cell_type": "code",
   "execution_count": null,
   "outputs": [],
   "source": [],
   "metadata": {
    "collapsed": false,
    "ExecuteTime": {
     "start_time": "2023-07-04T10:29:37.749446Z",
     "end_time": "2023-07-04T10:29:37.823799Z"
    }
   }
  },
  {
   "cell_type": "markdown",
   "source": [
    "### forecasting errors - prophet"
   ],
   "metadata": {
    "collapsed": false
   }
  },
  {
   "cell_type": "code",
   "execution_count": null,
   "outputs": [],
   "source": [
    "errors = y.to_frame()\n",
    "errors['ds'] = errors.index\n",
    "errors.rename(columns={'ens(9,14)':'y'}, inplace=True)\n",
    "errors.reset_index(drop=True, inplace=True)"
   ],
   "metadata": {
    "collapsed": false,
    "ExecuteTime": {
     "start_time": "2023-07-04T10:30:14.787937Z",
     "end_time": "2023-07-04T10:30:14.864519Z"
    }
   }
  },
  {
   "cell_type": "code",
   "execution_count": null,
   "outputs": [],
   "source": [
    "errors"
   ],
   "metadata": {
    "collapsed": false,
    "ExecuteTime": {
     "start_time": "2023-07-04T10:30:15.356509Z",
     "end_time": "2023-07-04T10:30:15.453492Z"
    }
   }
  },
  {
   "cell_type": "code",
   "execution_count": null,
   "outputs": [],
   "source": [
    "train_len = 0.85\n",
    "train_errors = errors.iloc[:int(len(errors)*train_len)]\n",
    "test_errors = errors.iloc[int(len(errors)*train_len):]"
   ],
   "metadata": {
    "collapsed": false,
    "ExecuteTime": {
     "start_time": "2023-07-04T10:30:16.867517Z",
     "end_time": "2023-07-04T10:30:16.903867Z"
    }
   }
  },
  {
   "cell_type": "code",
   "execution_count": null,
   "outputs": [],
   "source": [
    "m = Prophet()\n",
    "m.fit(train_errors)"
   ],
   "metadata": {
    "collapsed": false,
    "ExecuteTime": {
     "start_time": "2023-07-04T10:30:17.622761Z",
     "end_time": "2023-07-04T10:30:17.938748Z"
    }
   }
  },
  {
   "cell_type": "code",
   "execution_count": null,
   "outputs": [],
   "source": [
    "future = m.make_future_dataframe(periods=263)\n",
    "future.tail()"
   ],
   "metadata": {
    "collapsed": false,
    "ExecuteTime": {
     "start_time": "2023-07-04T10:30:19.625953Z",
     "end_time": "2023-07-04T10:30:19.686922Z"
    }
   }
  },
  {
   "cell_type": "code",
   "execution_count": null,
   "outputs": [],
   "source": [
    "forecast = m.predict(future)\n",
    "forecast[['ds', 'yhat', 'yhat_lower', 'yhat_upper']].tail()"
   ],
   "metadata": {
    "collapsed": false,
    "ExecuteTime": {
     "start_time": "2023-07-04T10:30:20.292506Z",
     "end_time": "2023-07-04T10:30:20.529427Z"
    }
   }
  },
  {
   "cell_type": "code",
   "execution_count": null,
   "outputs": [],
   "source": [
    "fig1 = m.plot(forecast)"
   ],
   "metadata": {
    "collapsed": false,
    "ExecuteTime": {
     "start_time": "2023-07-04T10:30:21.336635Z",
     "end_time": "2023-07-04T10:30:21.754214Z"
    }
   }
  },
  {
   "cell_type": "code",
   "execution_count": null,
   "outputs": [],
   "source": [
    "fig2 = m.plot_components(forecast)"
   ],
   "metadata": {
    "collapsed": false,
    "ExecuteTime": {
     "start_time": "2023-07-04T10:30:22.215223Z",
     "end_time": "2023-07-04T10:30:22.576706Z"
    }
   }
  },
  {
   "cell_type": "code",
   "execution_count": null,
   "outputs": [],
   "source": [],
   "metadata": {
    "collapsed": false,
    "ExecuteTime": {
     "start_time": "2023-07-04T10:30:42.633975Z",
     "end_time": "2023-07-04T10:30:42.706209Z"
    }
   }
  },
  {
   "cell_type": "code",
   "execution_count": null,
   "outputs": [],
   "source": [
    "forecasted_errors = forecast[['ds', 'yhat']]\n",
    "forecasted_errors.set_index('ds', inplace=True)"
   ],
   "metadata": {
    "collapsed": false,
    "ExecuteTime": {
     "start_time": "2023-07-04T10:31:23.777656Z",
     "end_time": "2023-07-04T10:31:23.840594Z"
    }
   }
  },
  {
   "cell_type": "code",
   "execution_count": null,
   "outputs": [],
   "source": [
    "display_errors(y[-225:], forecasted_errors['yhat'][-225:])"
   ],
   "metadata": {
    "collapsed": false,
    "ExecuteTime": {
     "start_time": "2023-07-04T10:31:53.825367Z",
     "end_time": "2023-07-04T10:31:53.861209Z"
    }
   }
  },
  {
   "cell_type": "code",
   "execution_count": null,
   "outputs": [],
   "source": [
    "trend_vals = forecast[['yearly', 'weekly', 'yhat', 'ds']]\n",
    "trend_vals.set_index('ds', inplace=True)"
   ],
   "metadata": {
    "collapsed": false,
    "ExecuteTime": {
     "start_time": "2023-07-04T10:38:15.403263Z",
     "end_time": "2023-07-04T10:38:15.478862Z"
    }
   }
  },
  {
   "cell_type": "code",
   "execution_count": null,
   "outputs": [],
   "source": [
    "# errors without adjustment\n",
    "((regression_preds[-225:] - y[-225:]) **2).mean()"
   ],
   "metadata": {
    "collapsed": false,
    "ExecuteTime": {
     "start_time": "2023-06-21T14:21:38.360385Z",
     "end_time": "2023-06-21T14:21:38.378774Z"
    }
   }
  },
  {
   "cell_type": "code",
   "execution_count": null,
   "outputs": [],
   "source": [
    "# errors with prophet adjustment\n",
    "(((regression_preds[-225:] + forecasted_errors['yhat'][-225:]) - y[-225:])**2).mean()"
   ],
   "metadata": {
    "collapsed": false,
    "ExecuteTime": {
     "start_time": "2023-06-21T14:21:38.636222Z",
     "end_time": "2023-06-21T14:21:38.661468Z"
    }
   }
  },
  {
   "cell_type": "code",
   "execution_count": null,
   "outputs": [],
   "source": [
    "trend_vals"
   ],
   "metadata": {
    "collapsed": false,
    "ExecuteTime": {
     "start_time": "2023-07-04T10:38:26.614231Z",
     "end_time": "2023-07-04T10:38:26.692098Z"
    }
   }
  },
  {
   "cell_type": "markdown",
   "source": [
    "# Deep Learning with trend values"
   ],
   "metadata": {
    "collapsed": false
   }
  },
  {
   "cell_type": "code",
   "execution_count": null,
   "outputs": [],
   "source": [],
   "metadata": {
    "collapsed": false,
    "ExecuteTime": {
     "start_time": "2023-07-04T13:28:05.370123Z",
     "end_time": "2023-07-04T13:28:05.448035Z"
    }
   }
  },
  {
   "cell_type": "code",
   "execution_count": null,
   "outputs": [],
   "source": [],
   "metadata": {
    "collapsed": false,
    "ExecuteTime": {
     "start_time": "2023-07-04T13:28:56.167219Z",
     "end_time": "2023-07-04T13:28:56.208366Z"
    }
   }
  },
  {
   "cell_type": "code",
   "execution_count": null,
   "outputs": [],
   "source": [
    "from autogluon.tabular import TabularDataset, TabularPredictor\n",
    "\n",
    "path = 'autogluon_models/'\n",
    "train = TabularDataset(pd.concat([X_train, trend_vals, y_train], axis=1))\n",
    "test = TabularDataset(pd.concat([X_test, trend_vals, y_test], axis=1))\n",
    "test = test.dropna()\n",
    "label = 'ens(9,14)'\n",
    "y_test = test[label]\n",
    "test_data_nolab = test.drop(labels=[label], axis=1)\n",
    "train = train.dropna()\n",
    "display(train.head)"
   ],
   "metadata": {
    "collapsed": false,
    "ExecuteTime": {
     "start_time": "2023-07-04T13:28:59.960013Z",
     "end_time": "2023-07-04T13:29:00.045484Z"
    }
   }
  },
  {
   "cell_type": "code",
   "execution_count": null,
   "outputs": [],
   "source": [
    "test"
   ],
   "metadata": {
    "collapsed": false,
    "ExecuteTime": {
     "start_time": "2023-07-04T13:32:32.322224Z",
     "end_time": "2023-07-04T13:32:32.403253Z"
    }
   }
  },
  {
   "cell_type": "code",
   "execution_count": null,
   "outputs": [],
   "source": [
    "predictor = TabularPredictor(label=label, path=path).fit(train_data=train, presets='best_quality')"
   ],
   "metadata": {
    "collapsed": false,
    "ExecuteTime": {
     "start_time": "2023-07-04T13:29:03.227077Z",
     "end_time": "2023-07-04T13:30:07.980072Z"
    }
   }
  },
  {
   "cell_type": "code",
   "execution_count": null,
   "outputs": [],
   "source": [
    "y_pred = predictor.predict(test_data_nolab)\n",
    "perf = predictor.evaluate(test, auxiliary_metrics=False)"
   ],
   "metadata": {
    "collapsed": false,
    "ExecuteTime": {
     "start_time": "2023-07-04T13:30:07.983940Z",
     "end_time": "2023-07-04T13:30:07.988957Z"
    }
   }
  },
  {
   "cell_type": "code",
   "execution_count": null,
   "outputs": [],
   "source": [
    "results = predictor.fit_summary()"
   ],
   "metadata": {
    "collapsed": false,
    "ExecuteTime": {
     "start_time": "2023-07-04T13:30:07.989719Z",
     "end_time": "2023-07-04T13:30:08.041726Z"
    }
   }
  },
  {
   "cell_type": "code",
   "execution_count": null,
   "outputs": [],
   "source": [
    "predictor.feature_importance(train)"
   ],
   "metadata": {
    "collapsed": false,
    "ExecuteTime": {
     "start_time": "2023-07-04T13:30:28.372601Z",
     "end_time": "2023-07-04T13:30:49.343238Z"
    }
   }
  },
  {
   "cell_type": "code",
   "execution_count": null,
   "outputs": [],
   "source": [
    "print('Testing Errors:')\n",
    "display_errors(y_test, y_pred)\n",
    "print('Training Errors')\n",
    "display_errors(y_train, predictor.predict(train))"
   ],
   "metadata": {
    "collapsed": false,
    "ExecuteTime": {
     "start_time": "2023-07-04T13:31:02.242775Z",
     "end_time": "2023-07-04T13:31:02.945678Z"
    }
   }
  },
  {
   "cell_type": "markdown",
   "source": [
    "### forecasting errors - autogluon"
   ],
   "metadata": {
    "collapsed": false
   }
  },
  {
   "cell_type": "code",
   "execution_count": null,
   "outputs": [],
   "source": [
    "data_df = data.copy()"
   ],
   "metadata": {
    "collapsed": false,
    "ExecuteTime": {
     "start_time": "2023-06-27T10:25:58.105790Z",
     "end_time": "2023-06-27T10:25:58.118556Z"
    }
   }
  },
  {
   "cell_type": "code",
   "execution_count": null,
   "outputs": [],
   "source": [
    "data_df['errors'] = forecasting_errors"
   ],
   "metadata": {
    "collapsed": false,
    "ExecuteTime": {
     "start_time": "2023-06-27T10:25:58.229384Z",
     "end_time": "2023-06-27T10:25:58.241708Z"
    }
   }
  },
  {
   "cell_type": "code",
   "execution_count": null,
   "outputs": [],
   "source": [
    "data_df.drop('ens(9,14)', axis=1, inplace=True)"
   ],
   "metadata": {
    "collapsed": false,
    "ExecuteTime": {
     "start_time": "2023-06-27T10:25:58.412686Z",
     "end_time": "2023-06-27T10:25:58.424836Z"
    }
   }
  },
  {
   "cell_type": "code",
   "execution_count": null,
   "outputs": [],
   "source": [
    "label = 'errors'\n",
    "features = ['ens(8)', 'ecmwf(9,10)', 'gfs(11,14)', 'cmc(9,14)']"
   ],
   "metadata": {
    "collapsed": false,
    "ExecuteTime": {
     "start_time": "2023-06-27T10:25:58.582762Z",
     "end_time": "2023-06-27T10:25:58.595387Z"
    }
   }
  },
  {
   "cell_type": "code",
   "execution_count": null,
   "outputs": [],
   "source": [
    "train_len = 0.85"
   ],
   "metadata": {
    "collapsed": false,
    "ExecuteTime": {
     "start_time": "2023-06-27T10:25:58.774230Z",
     "end_time": "2023-06-27T10:25:58.786891Z"
    }
   }
  },
  {
   "cell_type": "code",
   "execution_count": null,
   "outputs": [],
   "source": [
    "train_data = TabularDataset(data_df.iloc[:int(len(data_df)*train_len)])\n",
    "test_data = TabularDataset(data_df.iloc[int(len(data_df)*train_len):])"
   ],
   "metadata": {
    "collapsed": false,
    "ExecuteTime": {
     "start_time": "2023-06-27T10:25:58.943778Z",
     "end_time": "2023-06-27T10:25:58.956734Z"
    }
   }
  },
  {
   "cell_type": "code",
   "execution_count": null,
   "outputs": [],
   "source": [
    "train_data"
   ],
   "metadata": {
    "collapsed": false,
    "ExecuteTime": {
     "start_time": "2023-06-27T10:25:59.113391Z",
     "end_time": "2023-06-27T10:25:59.133424Z"
    }
   }
  },
  {
   "cell_type": "code",
   "execution_count": null,
   "outputs": [],
   "source": [
    "test_data"
   ],
   "metadata": {
    "collapsed": false,
    "ExecuteTime": {
     "start_time": "2023-06-27T10:25:59.273953Z",
     "end_time": "2023-06-27T10:25:59.279743Z"
    }
   }
  },
  {
   "cell_type": "code",
   "execution_count": null,
   "outputs": [],
   "source": [
    "predictor = TabularPredictor(label=label).fit(train_data, presets='best_quality')"
   ],
   "metadata": {
    "collapsed": false,
    "ExecuteTime": {
     "start_time": "2023-06-27T10:25:59.452659Z",
     "end_time": "2023-06-27T10:26:55.540215Z"
    }
   }
  },
  {
   "cell_type": "code",
   "execution_count": null,
   "outputs": [],
   "source": [
    "test_data_no_lab = test_data.drop(columns=[label])\n",
    "test_data_no_lab"
   ],
   "metadata": {
    "collapsed": false,
    "ExecuteTime": {
     "start_time": "2023-06-27T10:26:55.546413Z",
     "end_time": "2023-06-27T10:26:55.550291Z"
    }
   }
  },
  {
   "cell_type": "code",
   "execution_count": null,
   "outputs": [],
   "source": [
    "error_pred = predictor.predict(test_data_no_lab)\n",
    "error_pred.head()"
   ],
   "metadata": {
    "collapsed": false,
    "ExecuteTime": {
     "start_time": "2023-06-27T10:26:55.550030Z",
     "end_time": "2023-06-27T10:26:55.755224Z"
    }
   }
  },
  {
   "cell_type": "code",
   "execution_count": null,
   "outputs": [],
   "source": [
    "predictor.evaluate(test_data, silent=True)"
   ],
   "metadata": {
    "collapsed": false,
    "ExecuteTime": {
     "start_time": "2023-06-27T10:26:55.758707Z",
     "end_time": "2023-06-27T10:26:55.929723Z"
    }
   }
  },
  {
   "cell_type": "code",
   "execution_count": null,
   "outputs": [],
   "source": [
    "print(\"errors after adjustment (AutoGluon):\")\n",
    "display_errors(y[-225:], error_pred[-225:] + regression_preds[-225:])"
   ],
   "metadata": {
    "collapsed": false,
    "ExecuteTime": {
     "start_time": "2023-06-27T10:26:55.931559Z",
     "end_time": "2023-06-27T10:26:55.935245Z"
    }
   }
  },
  {
   "cell_type": "code",
   "execution_count": null,
   "outputs": [],
   "source": [
    "plt.scatter(y[-225:], error_pred[-225:], color='blue', marker='o', label='predictions vs actual')\n",
    "plt.xlabel('actual error')\n",
    "plt.ylabel('predicted error')\n",
    "plt.title('Prediction vs Actual (Deep Learning)')\n",
    "\n",
    "max_value = max(max(y[-225:]), max(error_pred[-225:]))\n",
    "min_value = min(min(y[-225:]), min(error_pred[-225:]))\n",
    "plt.plot([min_value, max_value], [min_value, max_value], color='red', linestyle='--', label='Line of Equality')\n",
    "\n",
    "plt.legend()"
   ],
   "metadata": {
    "collapsed": false,
    "ExecuteTime": {
     "start_time": "2023-06-27T10:26:55.940191Z",
     "end_time": "2023-06-27T10:26:56.097176Z"
    }
   }
  },
  {
   "cell_type": "code",
   "execution_count": null,
   "outputs": [],
   "source": [
    "predictor.leaderboard(silent=True)"
   ],
   "metadata": {
    "collapsed": false,
    "ExecuteTime": {
     "start_time": "2023-06-27T10:26:56.099957Z",
     "end_time": "2023-06-27T10:26:56.109622Z"
    }
   }
  },
  {
   "cell_type": "code",
   "execution_count": null,
   "outputs": [],
   "source": [
    "predictor.feature_importance(test_data)"
   ],
   "metadata": {
    "collapsed": false,
    "ExecuteTime": {
     "start_time": "2023-06-27T10:26:56.109102Z",
     "end_time": "2023-06-27T10:26:57.808501Z"
    }
   }
  },
  {
   "cell_type": "code",
   "execution_count": null,
   "outputs": [],
   "source": [
    "import xgboost as xgb"
   ],
   "metadata": {
    "collapsed": false,
    "ExecuteTime": {
     "start_time": "2023-06-27T10:26:57.808962Z",
     "end_time": "2023-06-27T10:26:57.812867Z"
    }
   }
  },
  {
   "cell_type": "code",
   "execution_count": null,
   "outputs": [],
   "source": [
    "label_df = train_data[label]\n",
    "train_data = train_data[features]"
   ],
   "metadata": {
    "collapsed": false,
    "ExecuteTime": {
     "start_time": "2023-06-27T10:26:57.817333Z",
     "end_time": "2023-06-27T10:26:57.819494Z"
    }
   }
  },
  {
   "cell_type": "code",
   "execution_count": null,
   "outputs": [],
   "source": [
    "dtrain = xgb.DMatrix(train_data, label=label_df)"
   ],
   "metadata": {
    "collapsed": false,
    "ExecuteTime": {
     "start_time": "2023-06-27T10:26:57.821133Z",
     "end_time": "2023-06-27T10:26:57.824605Z"
    }
   }
  },
  {
   "cell_type": "code",
   "execution_count": null,
   "outputs": [],
   "source": [
    "bst = xgb.train(params={'objective': 'reg:squarederror'}, dtrain=dtrain)"
   ],
   "metadata": {
    "collapsed": false,
    "ExecuteTime": {
     "start_time": "2023-06-27T10:26:57.825646Z",
     "end_time": "2023-06-27T10:26:57.947600Z"
    }
   }
  },
  {
   "cell_type": "code",
   "execution_count": null,
   "outputs": [],
   "source": [
    "test_data = test_data[features]"
   ],
   "metadata": {
    "collapsed": false,
    "ExecuteTime": {
     "start_time": "2023-06-27T10:26:57.857885Z",
     "end_time": "2023-06-27T10:26:57.947731Z"
    }
   }
  },
  {
   "cell_type": "code",
   "execution_count": null,
   "outputs": [],
   "source": [
    "dtest = xgb.DMatrix(test_data)\n",
    "ypred = bst.predict(dtest)"
   ],
   "metadata": {
    "collapsed": false,
    "ExecuteTime": {
     "start_time": "2023-06-27T10:26:57.862120Z",
     "end_time": "2023-06-27T10:26:57.947770Z"
    }
   }
  },
  {
   "cell_type": "code",
   "execution_count": null,
   "outputs": [],
   "source": [
    "# MSE after xgboost adjustment\n",
    "mse_XGB = (((ypred[-225:] + regression_preds[-225:]) - y[-225:]) ** 2).mean()\n",
    "print(f\"MSE after adjustment (XGBoost): {mse_XGB}\")"
   ],
   "metadata": {
    "collapsed": false,
    "ExecuteTime": {
     "start_time": "2023-06-27T10:26:57.869064Z",
     "end_time": "2023-06-27T10:26:57.947864Z"
    }
   }
  },
  {
   "cell_type": "code",
   "execution_count": null,
   "outputs": [],
   "source": [
    "xgb.plot_importance(bst)"
   ],
   "metadata": {
    "collapsed": false,
    "ExecuteTime": {
     "start_time": "2023-06-27T10:26:57.872172Z",
     "end_time": "2023-06-27T10:26:58.018939Z"
    }
   }
  },
  {
   "cell_type": "code",
   "execution_count": null,
   "outputs": [],
   "source": [],
   "metadata": {
    "collapsed": false,
    "ExecuteTime": {
     "start_time": "2023-06-27T10:26:57.982507Z",
     "end_time": "2023-06-27T10:26:58.019169Z"
    }
   }
  },
  {
   "cell_type": "markdown",
   "source": [
    "### improving model through deep learning"
   ],
   "metadata": {
    "collapsed": false
   }
  },
  {
   "cell_type": "code",
   "execution_count": null,
   "outputs": [],
   "source": [
    "deep_preds = pd.read_pickle(\"predictions.pkl\")"
   ],
   "metadata": {
    "collapsed": false,
    "ExecuteTime": {
     "start_time": "2023-06-28T09:48:40.162580Z",
     "end_time": "2023-06-28T09:48:40.203002Z"
    }
   }
  },
  {
   "cell_type": "code",
   "execution_count": null,
   "outputs": [],
   "source": [
    "deep_preds = deep_preds.to_frame()"
   ],
   "metadata": {
    "collapsed": false,
    "ExecuteTime": {
     "start_time": "2023-06-28T09:48:41.438991Z",
     "end_time": "2023-06-28T09:48:41.475990Z"
    }
   }
  },
  {
   "cell_type": "code",
   "execution_count": null,
   "outputs": [],
   "source": [
    "deep_preds.rename(columns={0:'prediction'}, inplace=True)"
   ],
   "metadata": {
    "collapsed": false,
    "ExecuteTime": {
     "start_time": "2023-06-28T09:48:42.586066Z",
     "end_time": "2023-06-28T09:48:42.640003Z"
    }
   }
  },
  {
   "cell_type": "code",
   "execution_count": null,
   "outputs": [],
   "source": [
    "y = y.to_frame()"
   ],
   "metadata": {
    "collapsed": false,
    "ExecuteTime": {
     "start_time": "2023-06-28T09:48:42.970979Z",
     "end_time": "2023-06-28T09:48:43.006779Z"
    }
   }
  },
  {
   "cell_type": "code",
   "execution_count": null,
   "outputs": [],
   "source": [
    "#combine deep_pred and y\n",
    "deep_preds['y'] = y['ens(9,14)']"
   ],
   "metadata": {
    "collapsed": false,
    "ExecuteTime": {
     "start_time": "2023-06-28T09:48:50.536712Z",
     "end_time": "2023-06-28T09:48:50.574762Z"
    }
   }
  },
  {
   "cell_type": "code",
   "execution_count": null,
   "outputs": [],
   "source": [
    "deep_preds.dropna(inplace=True)"
   ],
   "metadata": {
    "collapsed": false,
    "ExecuteTime": {
     "start_time": "2023-06-28T09:48:50.844376Z",
     "end_time": "2023-06-28T09:48:50.879779Z"
    }
   }
  },
  {
   "cell_type": "code",
   "execution_count": null,
   "outputs": [],
   "source": [
    "# MSE of custom deep learning model\n",
    "mse_DL = ((deep_preds[deep_preds.columns[0]][-225:] - deep_preds[deep_preds.columns[1]][-225:])**2).mean()\n",
    "print(f\"MSE after adjustment (Deep Learning): {mse_DL}\")"
   ],
   "metadata": {
    "collapsed": false,
    "ExecuteTime": {
     "start_time": "2023-06-28T09:48:52.993954Z",
     "end_time": "2023-06-28T09:48:53.039519Z"
    }
   }
  },
  {
   "cell_type": "code",
   "execution_count": null,
   "outputs": [],
   "source": [
    "display_errors(deep_preds[deep_preds.columns[1]][-225:], deep_preds[deep_preds.columns[0]][-225:])"
   ],
   "metadata": {
    "collapsed": false,
    "ExecuteTime": {
     "start_time": "2023-06-28T09:49:43.114514Z",
     "end_time": "2023-06-28T09:49:43.158957Z"
    }
   }
  },
  {
   "cell_type": "code",
   "execution_count": null,
   "outputs": [],
   "source": [],
   "metadata": {
    "collapsed": false,
    "ExecuteTime": {
     "start_time": "2023-06-28T09:49:46.683035Z",
     "end_time": "2023-06-28T09:49:46.721045Z"
    }
   }
  },
  {
   "cell_type": "code",
   "execution_count": null,
   "outputs": [],
   "source": [
    "plt.scatter(deep_preds[deep_preds.columns[0]][-225:], deep_preds[deep_preds.columns[1]][-225:], color='blue', marker='o', label='predictions vs actual')\n",
    "plt.xlabel('actual degree days')\n",
    "plt.ylabel('predicted degree days')\n",
    "plt.title('Prediction vs Actual (custom model)')\n",
    "\n",
    "max_value = max(max(deep_preds[deep_preds.columns[1]][-225:]), max(deep_preds[deep_preds.columns[0]][-225:]))\n",
    "min_value = min(min(deep_preds[deep_preds.columns[1]][-225:]), min(deep_preds[deep_preds.columns[0]][-225:]))\n",
    "plt.plot([min_value, max_value], [min_value, max_value], color='red', linestyle='--', label='Line of Equality')\n",
    "\n",
    "plt.legend()"
   ],
   "metadata": {
    "collapsed": false,
    "ExecuteTime": {
     "start_time": "2023-06-27T10:26:58.030059Z",
     "end_time": "2023-06-27T10:26:58.354502Z"
    }
   }
  },
  {
   "cell_type": "code",
   "execution_count": null,
   "outputs": [],
   "source": [
    "deep_preds[deep_preds.columns[0]][-225:]"
   ],
   "metadata": {
    "collapsed": false,
    "ExecuteTime": {
     "start_time": "2023-06-27T10:26:58.356712Z",
     "end_time": "2023-06-27T10:26:58.359536Z"
    }
   }
  },
  {
   "cell_type": "code",
   "execution_count": null,
   "outputs": [],
   "source": [
    "fig = px.scatter(\n",
    "    deep_preds[-225:], x='y', y='prediction',\n",
    "    marginal_x='histogram', marginal_y='histogram', trendline='ols'\n",
    ")\n",
    "fig.update_traces(histnorm='probability', selector={'type':'histogram'})\n",
    "fig.add_shape(\n",
    "    type=\"line\", line=dict(dash='dash'),\n",
    "    x0=y_test.min(), y0=y_test.min(),\n",
    "    x1=y_test.max(), y1=y_test.max()\n",
    ")\n",
    "\n",
    "fig.show()"
   ],
   "metadata": {
    "collapsed": false,
    "ExecuteTime": {
     "start_time": "2023-06-27T10:30:14.381253Z",
     "end_time": "2023-06-27T10:30:14.454800Z"
    }
   }
  },
  {
   "cell_type": "code",
   "execution_count": null,
   "outputs": [],
   "source": [
    "display_errors(deep_preds[deep_preds.columns[0]][-225:], deep_preds[deep_preds.columns[1]][-225:])"
   ],
   "metadata": {
    "collapsed": false,
    "ExecuteTime": {
     "start_time": "2023-06-27T10:30:56.092186Z",
     "end_time": "2023-06-27T10:30:56.119602Z"
    }
   }
  },
  {
   "cell_type": "code",
   "execution_count": null,
   "outputs": [],
   "source": [],
   "metadata": {
    "collapsed": false,
    "ExecuteTime": {
     "start_time": "2023-06-27T10:30:25.666160Z",
     "end_time": "2023-06-27T10:30:25.680339Z"
    }
   }
  },
  {
   "cell_type": "markdown",
   "source": [
    "# graphs between dependent variable and indedpendant variables"
   ],
   "metadata": {
    "collapsed": false
   }
  },
  {
   "cell_type": "code",
   "execution_count": null,
   "outputs": [],
   "source": [
    "display(X)"
   ],
   "metadata": {
    "collapsed": false,
    "ExecuteTime": {
     "start_time": "2023-06-28T10:07:44.708642Z",
     "end_time": "2023-06-28T10:07:44.744431Z"
    }
   }
  },
  {
   "cell_type": "code",
   "execution_count": null,
   "outputs": [],
   "source": [
    "plt.scatter(X.iloc[:, 0], y, color='blue', marker='o', label='predictions vs actual')"
   ],
   "metadata": {
    "collapsed": false,
    "ExecuteTime": {
     "start_time": "2023-06-28T10:10:00.963130Z",
     "end_time": "2023-06-28T10:10:01.149113Z"
    }
   }
  },
  {
   "cell_type": "code",
   "execution_count": null,
   "outputs": [],
   "source": [
    "X.iloc[:, 0]"
   ],
   "metadata": {
    "collapsed": false,
    "ExecuteTime": {
     "start_time": "2023-06-28T10:09:20.261654Z",
     "end_time": "2023-06-28T10:09:20.297050Z"
    }
   }
  },
  {
   "cell_type": "code",
   "execution_count": null,
   "outputs": [],
   "source": [
    "y"
   ],
   "metadata": {
    "collapsed": false,
    "ExecuteTime": {
     "start_time": "2023-06-28T10:09:06.279998Z",
     "end_time": "2023-06-28T10:09:06.370675Z"
    }
   }
  },
  {
   "cell_type": "markdown",
   "source": [
    "### getting norm of degree days"
   ],
   "metadata": {
    "collapsed": false
   }
  },
  {
   "cell_type": "code",
   "execution_count": null,
   "outputs": [],
   "source": [],
   "metadata": {
    "collapsed": false,
    "ExecuteTime": {
     "start_time": "2023-06-28T14:54:58.453212Z",
     "end_time": "2023-06-28T14:54:58.489995Z"
    }
   }
  },
  {
   "cell_type": "code",
   "execution_count": null,
   "outputs": [],
   "source": [
    "norms = pd.DataFrame(columns=['Date', 'Value'])\n",
    "for i in range(1, len(ecmwf_ens_sorted_files), 2):\n",
    "    ecmwf_ens_df = pd.read_csv(ecmwf_ens_sorted_files[i])\n",
    "    v1 = ecmwf_ens_df[ecmwf_ens_df[ecmwf_ens_df.columns[2]] == 2].iloc[:, :2]\n",
    "    norms = pd.concat([norms, v1]).drop_duplicates('Date')\n",
    "\n",
    "norms.reset_index(inplace=True)\n",
    "norms.drop(columns=['index'], inplace=True)\n",
    "#try using yesterday's value, also try last year's value\n",
    "#norms['Value'] = norms['Value'].shift(1)\n",
    "norms['Date'] = pd.to_datetime(norms['Date']).dt.strftime('%Y-%m-%d 12:00:00')\n",
    "norms.set_index('Date', inplace=True)\n",
    "norms.rename_axis('', inplace=True)\n",
    "norms.rename(columns={'Value': 'norm'}, inplace=True)"
   ],
   "metadata": {
    "collapsed": false,
    "ExecuteTime": {
     "start_time": "2023-06-29T10:34:24.961172Z",
     "end_time": "2023-06-29T10:34:29.887676Z"
    }
   }
  },
  {
   "cell_type": "code",
   "execution_count": null,
   "outputs": [],
   "source": [
    "norms.loc[norms.index >= '2022-01-01']"
   ],
   "metadata": {
    "collapsed": false,
    "ExecuteTime": {
     "start_time": "2023-06-29T10:34:29.896512Z",
     "end_time": "2023-06-29T10:34:29.900741Z"
    }
   }
  },
  {
   "cell_type": "code",
   "execution_count": null,
   "outputs": [],
   "source": [
    "data2 = data.copy()"
   ],
   "metadata": {
    "collapsed": false,
    "ExecuteTime": {
     "start_time": "2023-06-29T10:34:29.901129Z",
     "end_time": "2023-06-29T10:34:29.904124Z"
    }
   }
  },
  {
   "cell_type": "code",
   "execution_count": null,
   "outputs": [],
   "source": [
    "data2.index = pd.to_datetime(data2.index)\n",
    "norms.index = pd.to_datetime(norms.index)\n",
    "new_index = norms.index + pd.DateOffset(years=1)\n",
    "norms.index = new_index\n",
    "merged_df = pd.merge(data2, norms, left_index=True, right_index=True)"
   ],
   "metadata": {
    "collapsed": false,
    "ExecuteTime": {
     "start_time": "2023-06-29T10:34:29.911333Z",
     "end_time": "2023-06-29T10:34:29.940887Z"
    }
   }
  },
  {
   "cell_type": "code",
   "execution_count": null,
   "outputs": [],
   "source": [
    "merged_df"
   ],
   "metadata": {
    "collapsed": false,
    "ExecuteTime": {
     "start_time": "2023-06-29T10:35:39.021541Z",
     "end_time": "2023-06-29T10:35:39.079957Z"
    }
   }
  },
  {
   "cell_type": "markdown",
   "source": [
    "# plotting features"
   ],
   "metadata": {
    "collapsed": false
   }
  },
  {
   "cell_type": "code",
   "execution_count": null,
   "outputs": [],
   "source": [
    "from sklearn.svm import SVR"
   ],
   "metadata": {
    "collapsed": false
   }
  },
  {
   "cell_type": "code",
   "execution_count": null,
   "outputs": [],
   "source": [],
   "metadata": {
    "collapsed": false,
    "ExecuteTime": {
     "start_time": "2023-06-29T13:13:43.578348Z",
     "end_time": "2023-06-29T13:13:43.595847Z"
    }
   }
  },
  {
   "cell_type": "code",
   "execution_count": null,
   "outputs": [],
   "source": [],
   "metadata": {
    "collapsed": false,
    "ExecuteTime": {
     "start_time": "2023-06-29T14:06:28.859822Z",
     "end_time": "2023-06-29T14:06:28.891933Z"
    }
   }
  },
  {
   "cell_type": "code",
   "execution_count": null,
   "outputs": [],
   "source": [],
   "metadata": {
    "collapsed": false,
    "ExecuteTime": {
     "start_time": "2023-06-29T13:15:12.811316Z",
     "end_time": "2023-06-29T13:15:12.840095Z"
    }
   }
  },
  {
   "cell_type": "code",
   "execution_count": null,
   "outputs": [],
   "source": [],
   "metadata": {
    "collapsed": false,
    "ExecuteTime": {
     "start_time": "2023-06-29T13:15:13.317660Z",
     "end_time": "2023-06-29T13:15:13.336427Z"
    }
   }
  },
  {
   "cell_type": "code",
   "execution_count": null,
   "outputs": [],
   "source": [],
   "metadata": {
    "collapsed": false,
    "ExecuteTime": {
     "start_time": "2023-06-29T14:03:39.164128Z",
     "end_time": "2023-06-29T14:03:39.218763Z"
    }
   }
  },
  {
   "cell_type": "code",
   "execution_count": null,
   "outputs": [],
   "source": [
    "model = SVR(C=1.)\n",
    "model.fit(X_train, y_train)"
   ],
   "metadata": {
    "collapsed": false,
    "ExecuteTime": {
     "start_time": "2023-06-29T14:10:20.656318Z",
     "end_time": "2023-06-29T14:10:20.737303Z"
    }
   }
  },
  {
   "cell_type": "code",
   "execution_count": null,
   "outputs": [],
   "source": [
    "score = model.score(X_test, y_test)\n",
    "mse = mean_squared_error(y_test, model.predict(X_test))\n",
    "print(f\"R2: {score}\")\n",
    "print(f\"MSE: {mse}\")"
   ],
   "metadata": {
    "collapsed": false,
    "ExecuteTime": {
     "start_time": "2023-06-29T14:10:21.329291Z",
     "end_time": "2023-06-29T14:10:21.395417Z"
    }
   }
  },
  {
   "cell_type": "code",
   "execution_count": null,
   "outputs": [],
   "source": [
    "mesh_size = .02\n",
    "margin = 0\n",
    "\n",
    "x_min, x_max = X_test['ens(8)'].min() - margin, X_test['ens(8)'].max() + margin\n",
    "y_min, y_max = X_test['ecmwf(9)'].min() - margin, X_test['ecmwf(9)'].max() + margin\n",
    "xrange = np.arange(x_min, x_max, mesh_size)\n",
    "yrange = np.arange(y_min, y_max, mesh_size)\n",
    "xx, yy = np.meshgrid(xrange, yrange)"
   ],
   "metadata": {
    "collapsed": false,
    "ExecuteTime": {
     "start_time": "2023-06-29T14:10:21.961944Z",
     "end_time": "2023-06-29T14:10:21.981768Z"
    }
   }
  },
  {
   "cell_type": "code",
   "execution_count": null,
   "outputs": [],
   "source": [
    "pred = model.predict(np.c_[xx.ravel(), yy.ravel()])\n",
    "pred = pred.reshape(xx.shape)"
   ],
   "metadata": {
    "collapsed": false,
    "ExecuteTime": {
     "start_time": "2023-06-29T14:10:23.601866Z",
     "end_time": "2023-06-29T14:10:28.563186Z"
    }
   }
  },
  {
   "cell_type": "code",
   "execution_count": null,
   "outputs": [],
   "source": [
    "#merge X_test and y_test\n",
    "df = pd.concat([X_test, y_test], axis=1)"
   ],
   "metadata": {
    "collapsed": false,
    "ExecuteTime": {
     "start_time": "2023-06-29T14:10:28.565342Z",
     "end_time": "2023-06-29T14:10:28.567084Z"
    }
   }
  },
  {
   "cell_type": "code",
   "execution_count": null,
   "outputs": [],
   "source": [
    "fig = px.scatter_3d(df, x='ens(8)', y='ecmwf(9)', z='ens(9,14)')\n",
    "fig.update_traces(marker=dict(size=5))\n",
    "fig.add_traces(go.Surface(x=xrange, y=yrange, z=pred, name='pred_surface'))\n",
    "fig.show()"
   ],
   "metadata": {
    "collapsed": false,
    "ExecuteTime": {
     "start_time": "2023-06-29T14:10:28.578852Z",
     "end_time": "2023-06-29T14:10:28.761026Z"
    }
   }
  },
  {
   "cell_type": "code",
   "execution_count": null,
   "outputs": [],
   "source": [
    "from sklearn.ensemble import ExtraTreesRegressor"
   ],
   "metadata": {
    "collapsed": false,
    "ExecuteTime": {
     "start_time": "2023-06-29T15:39:25.939067Z",
     "end_time": "2023-06-29T15:39:26.040703Z"
    }
   }
  },
  {
   "cell_type": "code",
   "execution_count": null,
   "outputs": [],
   "source": [
    "reg = ExtraTreesRegressor(n_estimators=100, random_state=0).fit(X_train, y_train)"
   ],
   "metadata": {
    "collapsed": false,
    "ExecuteTime": {
     "start_time": "2023-06-29T15:41:42.052876Z",
     "end_time": "2023-06-29T15:41:42.296768Z"
    }
   }
  },
  {
   "cell_type": "code",
   "execution_count": null,
   "outputs": [],
   "source": [
    "display_errors(y_test, reg.predict(X_test))"
   ],
   "metadata": {
    "collapsed": false,
    "ExecuteTime": {
     "start_time": "2023-06-29T15:41:43.084536Z",
     "end_time": "2023-06-29T15:41:43.127763Z"
    }
   }
  },
  {
   "cell_type": "markdown",
   "source": [
    "# weather"
   ],
   "metadata": {
    "collapsed": false
   }
  },
  {
   "cell_type": "code",
   "execution_count": null,
   "outputs": [],
   "source": [
    "from meteostat import Stations, Daily\n",
    "\n",
    "start_day = X.index[0]\n",
    "end_day = X.index[-1]\n",
    "\n",
    "# Set time period\n",
    "start = datetime(int(str(start_day)[:4]), int(str(start_day)[5:7]), int(str(start_day)[8:10]))\n",
    "end = datetime(int(str(end_day)[:4]), int(str(end_day)[5:7]), int(str(end_day)[8:10]))\n",
    "\n",
    "# Get daily data\n",
    "#\n",
    "# 03779 is London\n",
    "data = Daily('03779', start, end) #london\n",
    "data2 = Daily('07149', start, end) #paris\n",
    "data3 = Daily('10384', start, end) #berlin\n",
    "data = data.fetch()\n",
    "data2 = data2.fetch()\n",
    "data3 = data3.fetch()"
   ],
   "metadata": {
    "collapsed": false,
    "ExecuteTime": {
     "start_time": "2023-07-04T13:17:08.521038Z",
     "end_time": "2023-07-04T13:17:11.308500Z"
    }
   }
  },
  {
   "cell_type": "code",
   "execution_count": null,
   "outputs": [],
   "source": [
    "data"
   ],
   "metadata": {
    "collapsed": false,
    "ExecuteTime": {
     "start_time": "2023-07-04T13:17:11.998673Z",
     "end_time": "2023-07-04T13:17:12.126613Z"
    }
   }
  },
  {
   "cell_type": "code",
   "execution_count": null,
   "outputs": [],
   "source": [
    "weather_features = ['tavg', 'tmin', 'tmax', 'pres']\n",
    "data = data[weather_features]\n",
    "data2 = data2[weather_features]\n",
    "data3 = data3[weather_features]\n",
    "weather_data = pd.concat([data, data2, data3])"
   ],
   "metadata": {
    "collapsed": false,
    "ExecuteTime": {
     "start_time": "2023-07-04T13:19:35.809769Z",
     "end_time": "2023-07-04T13:19:35.936885Z"
    }
   }
  },
  {
   "cell_type": "code",
   "execution_count": null,
   "outputs": [],
   "source": [
    "weather_data = weather_data.groupby(weather_data.index).mean()"
   ],
   "metadata": {
    "collapsed": false,
    "ExecuteTime": {
     "start_time": "2023-07-04T13:19:58.741697Z",
     "end_time": "2023-07-04T13:19:58.801877Z"
    }
   }
  },
  {
   "cell_type": "code",
   "execution_count": null,
   "outputs": [],
   "source": [
    "weather_data.index = weather_data.index.strftime('%Y-%m-%d 12:00:00')\n",
    "weather_data.index = pd.to_datetime(weather_data.index)"
   ],
   "metadata": {
    "collapsed": false,
    "ExecuteTime": {
     "start_time": "2023-07-04T13:22:46.845329Z",
     "end_time": "2023-07-04T13:22:46.874748Z"
    }
   }
  },
  {
   "cell_type": "code",
   "execution_count": null,
   "outputs": [],
   "source": [
    "weather_data"
   ],
   "metadata": {
    "collapsed": false,
    "ExecuteTime": {
     "start_time": "2023-07-04T13:22:49.724934Z",
     "end_time": "2023-07-04T13:22:49.830325Z"
    }
   }
  },
  {
   "cell_type": "code",
   "execution_count": null,
   "outputs": [],
   "source": [],
   "metadata": {
    "collapsed": false
   }
  }
 ],
 "metadata": {
  "kernelspec": {
   "display_name": "Python 3",
   "language": "python",
   "name": "python3"
  },
  "language_info": {
   "codemirror_mode": {
    "name": "ipython",
    "version": 2
   },
   "file_extension": ".py",
   "mimetype": "text/x-python",
   "name": "python",
   "nbconvert_exporter": "python",
   "pygments_lexer": "ipython2",
   "version": "2.7.6"
  }
 },
 "nbformat": 4,
 "nbformat_minor": 0
}
