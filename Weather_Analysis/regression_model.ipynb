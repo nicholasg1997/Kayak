{
 "cells": [
  {
   "cell_type": "code",
   "execution_count": null,
   "metadata": {
    "collapsed": true,
    "ExecuteTime": {
     "start_time": "2023-06-27T09:42:09.007118Z",
     "end_time": "2023-06-27T09:42:10.818590Z"
    },
    "pycharm": {
     "is_executing": true
    }
   },
   "outputs": [],
   "source": [
    "import pandas as pd\n",
    "from sklearn.metrics import mean_squared_error, mean_absolute_error, mean_absolute_percentage_error, r2_score\n",
    "from datetime import datetime, time\n",
    "from prophet import Prophet\n",
    "import glob\n",
    "from sklearn.preprocessing import PolynomialFeatures\n",
    "\n",
    "from autogluon.tabular import TabularDataset, TabularPredictor\n",
    "import matplotlib.pyplot as plt\n",
    "\n",
    "import numpy as np\n",
    "import plotly.express as px\n",
    "import plotly.graph_objects as go\n",
    "import plotly.offline as pyo\n",
    "pyo.init_notebook_mode() "
   ]
  },
  {
   "cell_type": "code",
   "execution_count": 3,
   "outputs": [],
   "source": [
    "def display_errors(y_true, y_pred):\n",
    "    mse = mean_squared_error(y_true, y_pred)\n",
    "    print(f\"MSE: {mse}\")\n",
    "    rmse = mse ** 0.5\n",
    "    print(f\"RMSE: {rmse}\")\n",
    "    mae = mean_absolute_error(y_true, y_pred)\n",
    "    print(f\"MAE: {mae}\")\n",
    "    mape = mean_absolute_percentage_error(y_true, y_pred)\n",
    "    print(f\"MAPE: {mape}\")\n",
    "    r2 = r2_score(y_true, y_pred)\n",
    "    print(f\"R2: {r2}\")\n",
    "\n",
    "def plot_errors(y_true, y_pred, name='N/A'):\n",
    "    plt.scatter(y_true, y_pred, color='blue', marker='o', label=f'error adjusted predictions ({name}) vs actual degree days')\n",
    "    plt.xlabel('actual degree days')\n",
    "    plt.ylabel('predicted degree days')\n",
    "    plt.title(f'Prediction vs Actual ({name})')\n",
    "\n",
    "    max_value = max(max(y[-225:]), max(error_preds[-225:]))\n",
    "    min_value = min(min(y[-225:]), min(error_preds[-225:]))\n",
    "    plt.plot([min_value, max_value], [min_value, max_value], color='red', linestyle='--', label='Line of Equality')\n",
    "\n",
    "    plt.legend()\n"
   ],
   "metadata": {
    "collapsed": false,
    "ExecuteTime": {
     "start_time": "2023-06-27T09:42:12.607109Z",
     "end_time": "2023-06-27T09:42:12.617400Z"
    }
   }
  },
  {
   "cell_type": "code",
   "execution_count": 4,
   "outputs": [],
   "source": [
    "# obtain and sort required raw data\n",
    "degree_days = 'gw_hdd' # 'gw_hdd', 'ew_cdd' or 'pw_cdd'\n",
    "path = \"RawData\"\n",
    "\n",
    "def extract_date_time(filename):\n",
    "    \"\"\"\n",
    "    extract the date and time from the filename\n",
    "    :param filename:\n",
    "    :return:\n",
    "    \"\"\"\n",
    "    parts = filename.split('.')\n",
    "    extracted_date = parts[1]\n",
    "    extracted_time = parts[2]\n",
    "    return extracted_date, extracted_time\n",
    "\n",
    "def get_date(file):\n",
    "    \"\"\"get the date from the dataframe and the time from the filename and combine them into a datetime object\n",
    "    :param file: filename containing the time\n",
    "    :return: datetime object\n",
    "    \"\"\"\n",
    "\n",
    "    date_str = str(file.split('.')[1])\n",
    "    time_str = str(file.split('.')[2])\n",
    "    date_value = datetime.strptime(date_str, '%Y%m%d')\n",
    "    time_value = time(int(time_str), 0)\n",
    "    combined_datetime = datetime.combine(date_value.date(), time_value)\n",
    "    return combined_datetime\n",
    "\n",
    "degree_days = degree_days\n",
    "ecmwf_files = glob.glob(path + f'/ecmwf.*.[01][02].{degree_days}.csv')\n",
    "ecmwf_sorted_files = sorted(ecmwf_files, key=lambda x: (x.split('.')[1], x.split('.')[2]))[3:]\n",
    "\n",
    "ecmwf_ens_files = glob.glob(path + f'/ecmwf-eps.*.[01][02].{degree_days}.csv')\n",
    "ecmwf_ens_sorted_files = sorted(ecmwf_ens_files, key=lambda x: (x.split('.')[1], x.split('.')[2]))[2:]\n",
    "\n",
    "gfs_ens_bc_files = glob.glob(path + f'/gfs-ens-bc.*.[01][02].{degree_days}.csv')\n",
    "gfs_ens_bc_sorted_files = sorted(gfs_ens_bc_files, key=lambda x: (x.split('.')[1], x.split('.')[2]))[2:]\n",
    "\n",
    "cmc_ens_files = glob.glob(path + f'/cmc-ens.*.[01][02].{degree_days}.csv')\n",
    "cmc_ens_sorted_files = sorted(cmc_ens_files, key=lambda x: (x.split('.')[1], x.split('.')[2]))[2:]\n",
    "for _ in range(2):\n",
    "    set1 = set((extract_date_time(filename) for filename in ecmwf_sorted_files))\n",
    "    set2 = set((extract_date_time(filename) for filename in ecmwf_ens_sorted_files))\n",
    "\n",
    "    ecmwf_sorted_files = [filename for filename in ecmwf_sorted_files if extract_date_time(filename) in set2]\n",
    "    ecmwf_ens_sorted_files = [filename for filename in ecmwf_ens_sorted_files if\n",
    "                              extract_date_time(filename) in set1]\n",
    "    cmc_ens_sorted_files = [filename for filename in cmc_ens_sorted_files if extract_date_time(filename) in set1]\n",
    "\n",
    "    master_set = set((extract_date_time(filename) for filename in cmc_ens_sorted_files))\n",
    "    gfs_ens_bc_sorted_files = [filename for filename in gfs_ens_bc_sorted_files if\n",
    "                               extract_date_time(filename) in master_set]\n",
    "\n",
    "    master_set = set((extract_date_time(filename) for filename in gfs_ens_bc_sorted_files))\n",
    "\n",
    "    ecmwf_sorted_files = [filename for filename in ecmwf_sorted_files if extract_date_time(filename) in master_set]\n",
    "    ecmwf_ens_sorted_files = [filename for filename in ecmwf_ens_sorted_files if\n",
    "                              extract_date_time(filename) in master_set]\n",
    "    gfs_ens_bc_sorted_files = [filename for filename in gfs_ens_bc_sorted_files if\n",
    "                               extract_date_time(filename) in master_set]\n",
    "    cmc_ens_sorted_files = [filename for filename in cmc_ens_sorted_files if\n",
    "                            extract_date_time(filename) in master_set]"
   ],
   "metadata": {
    "collapsed": false,
    "ExecuteTime": {
     "start_time": "2023-06-27T09:42:12.788658Z",
     "end_time": "2023-06-27T09:42:13.772286Z"
    }
   }
  },
  {
   "cell_type": "markdown",
   "source": [
    "### process raw data into individual components for model"
   ],
   "metadata": {
    "collapsed": false
   }
  },
  {
   "cell_type": "code",
   "execution_count": 5,
   "outputs": [],
   "source": [
    "# y\n",
    "# euro ensemble - values to predict\n",
    "ecmwf_ens_9_14 = pd.DataFrame(columns=['ens(9,14)'])\n",
    "\n",
    "for i in range(1, len(ecmwf_ens_sorted_files)):\n",
    "    ecmwf_ens_df = pd.read_csv(ecmwf_ens_sorted_files[i])\n",
    "    ecmwf_ens_df = ecmwf_ens_df[ecmwf_ens_df[ecmwf_ens_df.columns[2]] >= 1]\n",
    "    prev_ecmwf_ens_df = pd.read_csv(ecmwf_ens_sorted_files[i - 1])\n",
    "    prev_ecmwf_ens_df = prev_ecmwf_ens_df[prev_ecmwf_ens_df[prev_ecmwf_ens_df.columns[2]] >= 1]\n",
    "\n",
    "    date = get_date(ecmwf_ens_sorted_files[i])\n",
    "    prev_date = get_date(ecmwf_ens_sorted_files[i - 1])\n",
    "    d2 = str(date)[:10]\n",
    "    d1 = str(prev_date)[:10]\n",
    "\n",
    "    if d2 == d1:\n",
    "        offset = 1\n",
    "    else:\n",
    "        offset = 0\n",
    "\n",
    "    cur = ecmwf_ens_df['Value'].iloc[8:14].sum()\n",
    "    prev = prev_ecmwf_ens_df['Value'].iloc[(8+offset):(14+offset)].sum()\n",
    "    change = cur - prev\n",
    "\n",
    "    new_row = pd.DataFrame(change, columns=ecmwf_ens_9_14.columns, index=[date])\n",
    "    ecmwf_ens_9_14 = pd.concat([ecmwf_ens_9_14, new_row])"
   ],
   "metadata": {
    "collapsed": false,
    "ExecuteTime": {
     "start_time": "2023-06-27T09:42:13.778943Z",
     "end_time": "2023-06-27T09:42:21.310314Z"
    }
   }
  },
  {
   "cell_type": "code",
   "execution_count": 6,
   "outputs": [],
   "source": [
    "# X1\n",
    "# euro ensemble day 8\n",
    "ecmwf_ens_8 = pd.DataFrame(columns=['ens(8)'])\n",
    "\n",
    "for i in range(1, len(ecmwf_ens_sorted_files)):\n",
    "    ecmwf_ens_df = pd.read_csv(ecmwf_ens_sorted_files[i])\n",
    "    ecmwf_ens_df = ecmwf_ens_df[ecmwf_ens_df[ecmwf_ens_df.columns[2]] >= 1]\n",
    "    prev_ecmwf_ens_df = pd.read_csv(ecmwf_ens_sorted_files[i - 1])\n",
    "    prev_ecmwf_ens_df = prev_ecmwf_ens_df[prev_ecmwf_ens_df[prev_ecmwf_ens_df.columns[2]] >= 1]\n",
    "\n",
    "    date = get_date(ecmwf_ens_sorted_files[i])\n",
    "    prev_date = get_date(ecmwf_ens_sorted_files[i - 1])\n",
    "    d2 = str(date)[:10]\n",
    "    d1 = str(prev_date)[:10]\n",
    "\n",
    "    if d2 == d1:\n",
    "        offset = 1\n",
    "    else:\n",
    "        offset = 0\n",
    "\n",
    "    cur = ecmwf_ens_df['Value'].iloc[7:8].sum()\n",
    "    prev = prev_ecmwf_ens_df['Value'].iloc[(7+offset):(8+offset)].sum()\n",
    "    change = cur - prev\n",
    "\n",
    "    new_row = pd.DataFrame(change, columns=ecmwf_ens_8.columns, index=[date])\n",
    "    ecmwf_ens_8 = pd.concat([ecmwf_ens_8, new_row])"
   ],
   "metadata": {
    "collapsed": false,
    "ExecuteTime": {
     "start_time": "2023-06-27T09:42:21.314239Z",
     "end_time": "2023-06-27T09:42:28.090429Z"
    }
   }
  },
  {
   "cell_type": "code",
   "execution_count": 7,
   "outputs": [],
   "source": [
    "# X2\n",
    "# ecmwf(9,10) - ecmwf_ens-1(9,10)\n",
    "\n",
    "ecmwf_9_10 = pd.DataFrame(columns=['ecmwf(9,10)'])\n",
    "\n",
    "for i in range(1, len(ecmwf_sorted_files)):\n",
    "    ecmwf_df = pd.read_csv(ecmwf_sorted_files[i])\n",
    "    ecmwf_df = ecmwf_df[ecmwf_df[ecmwf_df.columns[2]] >= 1]\n",
    "    prev_ecmwf_ens_df = pd.read_csv(ecmwf_ens_sorted_files[i-1])\n",
    "    prev_ecmwf_ens_df = prev_ecmwf_ens_df[prev_ecmwf_ens_df[prev_ecmwf_ens_df.columns[2]] >= 1]\n",
    "\n",
    "    date = get_date(ecmwf_sorted_files[i])\n",
    "    prev_date = get_date(ecmwf_sorted_files[i - 1])\n",
    "    d2 = str(date)[:10]\n",
    "    d1 = str(prev_date)[:10]\n",
    "\n",
    "    if d2 == d1:\n",
    "        offset = 1\n",
    "    else:\n",
    "        offset = 0\n",
    "\n",
    "    cur = ecmwf_df['Value'].iloc[8:10].sum()\n",
    "    prev = prev_ecmwf_ens_df['Value'].iloc[(8+offset):(10+offset)].sum()\n",
    "    change = cur - prev\n",
    "\n",
    "    new_row = pd.DataFrame(change, columns=ecmwf_9_10.columns, index=[date])\n",
    "    ecmwf_9_10 = pd.concat([ecmwf_9_10, new_row])"
   ],
   "metadata": {
    "collapsed": false,
    "ExecuteTime": {
     "start_time": "2023-06-27T09:42:28.095133Z",
     "end_time": "2023-06-27T09:42:35.306080Z"
    }
   }
  },
  {
   "cell_type": "code",
   "execution_count": 8,
   "outputs": [],
   "source": [
    "# X3\n",
    "# gfs(11,14) - ecmwf_ens-1(11,14)\n",
    "\n",
    "gfs_11_14 = pd.DataFrame(columns=['gfs(11,14)'])\n",
    "\n",
    "for i in range(1, len(gfs_ens_bc_sorted_files)):\n",
    "    gfs_df = pd.read_csv(gfs_ens_bc_sorted_files[i])\n",
    "    gfs_df = gfs_df[gfs_df[gfs_df.columns[2]] >= 1]\n",
    "    prev_ecmwf_ens_df = pd.read_csv(ecmwf_ens_sorted_files[i-1])\n",
    "    prev_ecmwf_ens_df = prev_ecmwf_ens_df[prev_ecmwf_ens_df[prev_ecmwf_ens_df.columns[2]] >= 1]\n",
    "\n",
    "    date = get_date(gfs_ens_bc_sorted_files[i])\n",
    "    prev_date = get_date(ecmwf_ens_sorted_files[i - 1])\n",
    "    d2 = str(date)[:10]\n",
    "    d1 = str(prev_date)[:10]\n",
    "\n",
    "    if d2 == d1:\n",
    "        offset = 1\n",
    "    else:\n",
    "        offset = 0\n",
    "\n",
    "    cur = gfs_df['Value'].iloc[10:14].sum()\n",
    "    prev = prev_ecmwf_ens_df['Value'].iloc[(10+offset):(14+offset)].sum()\n",
    "    change = cur - prev\n",
    "\n",
    "    new_row = pd.DataFrame(change, columns=gfs_11_14.columns, index=[date])\n",
    "    gfs_11_14 = pd.concat([gfs_11_14, new_row])"
   ],
   "metadata": {
    "collapsed": false,
    "ExecuteTime": {
     "start_time": "2023-06-27T09:42:35.309905Z",
     "end_time": "2023-06-27T09:42:43.731004Z"
    }
   }
  },
  {
   "cell_type": "code",
   "execution_count": 9,
   "outputs": [],
   "source": [
    "# X4\n",
    "# cmc(9,14) - gfs(9,14)\n",
    "\n",
    "cmc_9_14 = pd.DataFrame(columns=['cmc(9,14)'])\n",
    "\n",
    "for i in range(1, len(cmc_ens_sorted_files)):\n",
    "    cmc_df = pd.read_csv(cmc_ens_sorted_files[i])\n",
    "    cmc_df = cmc_df[cmc_df[cmc_df.columns[2]] >= 1]\n",
    "    gfs_df = pd.read_csv(gfs_ens_bc_sorted_files[i])\n",
    "    gfs_df = gfs_df[gfs_df[gfs_df.columns[2]] >= 1]\n",
    "\n",
    "    date = get_date(cmc_ens_sorted_files[i])\n",
    "\n",
    "    cmc = cmc_df['Value'].iloc[8:14].sum()\n",
    "    gfs = gfs_df['Value'].iloc[8:14].sum()\n",
    "    change = cmc - gfs\n",
    "\n",
    "    new_row = pd.DataFrame(change, columns=cmc_9_14.columns, index=[date])\n",
    "    cmc_9_14 = pd.concat([cmc_9_14, new_row])"
   ],
   "metadata": {
    "collapsed": false,
    "ExecuteTime": {
     "start_time": "2023-06-27T09:42:43.734909Z",
     "end_time": "2023-06-27T09:42:51.828660Z"
    }
   }
  },
  {
   "cell_type": "markdown",
   "source": [
    "# testing"
   ],
   "metadata": {
    "collapsed": false
   }
  },
  {
   "cell_type": "code",
   "execution_count": 10,
   "outputs": [],
   "source": [
    "i = 2\n",
    "\n",
    "d1 = ecmwf_ens_sorted_files[i].split('.')[1]\n",
    "d2 = ecmwf_ens_sorted_files[i - 1].split('.')[1]\n",
    "\n",
    "ecmwf_ens_df = pd.read_csv(ecmwf_ens_sorted_files[i])\n",
    "v1 = ecmwf_ens_df[ecmwf_ens_df[ecmwf_ens_df.columns[2]] >= 1]\n",
    "prev_ecmwf_ens_df = pd.read_csv(ecmwf_ens_sorted_files[i - 1])\n",
    "v2 = prev_ecmwf_ens_df[prev_ecmwf_ens_df[prev_ecmwf_ens_df.columns[2]] >= 1]"
   ],
   "metadata": {
    "collapsed": false,
    "ExecuteTime": {
     "start_time": "2023-06-27T09:42:51.830352Z",
     "end_time": "2023-06-27T09:42:51.841211Z"
    }
   }
  },
  {
   "cell_type": "code",
   "execution_count": 11,
   "outputs": [
    {
     "name": "stdout",
     "output_type": "stream",
     "text": [
      "RawData/ecmwf-eps.20180711.12.gw_hdd.csv\n",
      "RawData/ecmwf-eps.20180711.00.gw_hdd.csv\n"
     ]
    }
   ],
   "source": [
    "print(ecmwf_ens_sorted_files[i])\n",
    "print(ecmwf_ens_sorted_files[i - 1])"
   ],
   "metadata": {
    "collapsed": false,
    "ExecuteTime": {
     "start_time": "2023-06-27T09:42:51.838567Z",
     "end_time": "2023-06-27T09:42:51.841483Z"
    }
   }
  },
  {
   "cell_type": "code",
   "execution_count": 12,
   "outputs": [],
   "source": [
    "if d1 == d2:\n",
    "    offset = 1\n",
    "else:\n",
    "    offset = 0"
   ],
   "metadata": {
    "collapsed": false,
    "ExecuteTime": {
     "start_time": "2023-06-27T09:42:51.842725Z",
     "end_time": "2023-06-27T09:42:51.845500Z"
    }
   }
  },
  {
   "cell_type": "code",
   "execution_count": 13,
   "outputs": [],
   "source": [
    "a = v1.iloc[7:8]"
   ],
   "metadata": {
    "collapsed": false,
    "ExecuteTime": {
     "start_time": "2023-06-27T09:42:51.845616Z",
     "end_time": "2023-06-27T09:42:51.849041Z"
    }
   }
  },
  {
   "cell_type": "code",
   "execution_count": 14,
   "outputs": [],
   "source": [
    "b = v2.iloc[7+offset:8+offset]"
   ],
   "metadata": {
    "collapsed": false,
    "ExecuteTime": {
     "start_time": "2023-06-27T09:42:51.848567Z",
     "end_time": "2023-06-27T09:42:51.856482Z"
    }
   }
  },
  {
   "cell_type": "code",
   "execution_count": 15,
   "outputs": [
    {
     "data": {
      "text/plain": "0.002999999999999999"
     },
     "execution_count": 15,
     "metadata": {},
     "output_type": "execute_result"
    }
   ],
   "source": [
    "a['Value'].sum() - b['Value'].sum()"
   ],
   "metadata": {
    "collapsed": false,
    "ExecuteTime": {
     "start_time": "2023-06-27T09:42:51.854697Z",
     "end_time": "2023-06-27T09:42:51.879560Z"
    }
   }
  },
  {
   "cell_type": "code",
   "execution_count": 16,
   "outputs": [
    {
     "data": {
      "text/plain": "          Date  Value  Flag (0=obs 1=fcst 2=norm)\n15  2018-07-19  0.009                           1",
      "text/html": "<div>\n<style scoped>\n    .dataframe tbody tr th:only-of-type {\n        vertical-align: middle;\n    }\n\n    .dataframe tbody tr th {\n        vertical-align: top;\n    }\n\n    .dataframe thead th {\n        text-align: right;\n    }\n</style>\n<table border=\"1\" class=\"dataframe\">\n  <thead>\n    <tr style=\"text-align: right;\">\n      <th></th>\n      <th>Date</th>\n      <th>Value</th>\n      <th>Flag (0=obs 1=fcst 2=norm)</th>\n    </tr>\n  </thead>\n  <tbody>\n    <tr>\n      <th>15</th>\n      <td>2018-07-19</td>\n      <td>0.009</td>\n      <td>1</td>\n    </tr>\n  </tbody>\n</table>\n</div>"
     },
     "metadata": {},
     "output_type": "display_data"
    }
   ],
   "source": [
    "display(a)"
   ],
   "metadata": {
    "collapsed": false,
    "ExecuteTime": {
     "start_time": "2023-06-27T09:42:51.858963Z",
     "end_time": "2023-06-27T09:42:51.880064Z"
    }
   }
  },
  {
   "cell_type": "code",
   "execution_count": 17,
   "outputs": [
    {
     "data": {
      "text/plain": "          Date  Value  Flag (0=obs 1=fcst 2=norm)\n15  2018-07-19  0.006                           1",
      "text/html": "<div>\n<style scoped>\n    .dataframe tbody tr th:only-of-type {\n        vertical-align: middle;\n    }\n\n    .dataframe tbody tr th {\n        vertical-align: top;\n    }\n\n    .dataframe thead th {\n        text-align: right;\n    }\n</style>\n<table border=\"1\" class=\"dataframe\">\n  <thead>\n    <tr style=\"text-align: right;\">\n      <th></th>\n      <th>Date</th>\n      <th>Value</th>\n      <th>Flag (0=obs 1=fcst 2=norm)</th>\n    </tr>\n  </thead>\n  <tbody>\n    <tr>\n      <th>15</th>\n      <td>2018-07-19</td>\n      <td>0.006</td>\n      <td>1</td>\n    </tr>\n  </tbody>\n</table>\n</div>"
     },
     "metadata": {},
     "output_type": "display_data"
    }
   ],
   "source": [
    "display(b)"
   ],
   "metadata": {
    "collapsed": false,
    "ExecuteTime": {
     "start_time": "2023-06-27T09:42:51.868182Z",
     "end_time": "2023-06-27T09:42:51.880774Z"
    }
   }
  },
  {
   "cell_type": "code",
   "execution_count": 18,
   "outputs": [
    {
     "data": {
      "text/plain": "          Date  Value  Flag (0=obs 1=fcst 2=norm)\n8   2018-07-12  0.003                           1\n9   2018-07-13  0.005                           1\n10  2018-07-14  0.003                           1\n11  2018-07-15  0.001                           1\n12  2018-07-16  0.003                           1\n13  2018-07-17  0.001                           1\n14  2018-07-18  0.004                           1\n15  2018-07-19  0.009                           1\n16  2018-07-20  0.007                           1\n17  2018-07-21  0.004                           1\n18  2018-07-22  0.003                           1\n19  2018-07-23  0.003                           1\n20  2018-07-24  0.003                           1\n21  2018-07-25  0.004                           1\n22  2018-07-26  0.000                           2\n23  2018-07-27  0.000                           2\n24  2018-07-28  0.000                           2\n25  2018-07-29  0.000                           2\n26  2018-07-30  0.000                           2\n27  2018-07-31  0.000                           2\n28  2018-08-01  0.000                           2",
      "text/html": "<div>\n<style scoped>\n    .dataframe tbody tr th:only-of-type {\n        vertical-align: middle;\n    }\n\n    .dataframe tbody tr th {\n        vertical-align: top;\n    }\n\n    .dataframe thead th {\n        text-align: right;\n    }\n</style>\n<table border=\"1\" class=\"dataframe\">\n  <thead>\n    <tr style=\"text-align: right;\">\n      <th></th>\n      <th>Date</th>\n      <th>Value</th>\n      <th>Flag (0=obs 1=fcst 2=norm)</th>\n    </tr>\n  </thead>\n  <tbody>\n    <tr>\n      <th>8</th>\n      <td>2018-07-12</td>\n      <td>0.003</td>\n      <td>1</td>\n    </tr>\n    <tr>\n      <th>9</th>\n      <td>2018-07-13</td>\n      <td>0.005</td>\n      <td>1</td>\n    </tr>\n    <tr>\n      <th>10</th>\n      <td>2018-07-14</td>\n      <td>0.003</td>\n      <td>1</td>\n    </tr>\n    <tr>\n      <th>11</th>\n      <td>2018-07-15</td>\n      <td>0.001</td>\n      <td>1</td>\n    </tr>\n    <tr>\n      <th>12</th>\n      <td>2018-07-16</td>\n      <td>0.003</td>\n      <td>1</td>\n    </tr>\n    <tr>\n      <th>13</th>\n      <td>2018-07-17</td>\n      <td>0.001</td>\n      <td>1</td>\n    </tr>\n    <tr>\n      <th>14</th>\n      <td>2018-07-18</td>\n      <td>0.004</td>\n      <td>1</td>\n    </tr>\n    <tr>\n      <th>15</th>\n      <td>2018-07-19</td>\n      <td>0.009</td>\n      <td>1</td>\n    </tr>\n    <tr>\n      <th>16</th>\n      <td>2018-07-20</td>\n      <td>0.007</td>\n      <td>1</td>\n    </tr>\n    <tr>\n      <th>17</th>\n      <td>2018-07-21</td>\n      <td>0.004</td>\n      <td>1</td>\n    </tr>\n    <tr>\n      <th>18</th>\n      <td>2018-07-22</td>\n      <td>0.003</td>\n      <td>1</td>\n    </tr>\n    <tr>\n      <th>19</th>\n      <td>2018-07-23</td>\n      <td>0.003</td>\n      <td>1</td>\n    </tr>\n    <tr>\n      <th>20</th>\n      <td>2018-07-24</td>\n      <td>0.003</td>\n      <td>1</td>\n    </tr>\n    <tr>\n      <th>21</th>\n      <td>2018-07-25</td>\n      <td>0.004</td>\n      <td>1</td>\n    </tr>\n    <tr>\n      <th>22</th>\n      <td>2018-07-26</td>\n      <td>0.000</td>\n      <td>2</td>\n    </tr>\n    <tr>\n      <th>23</th>\n      <td>2018-07-27</td>\n      <td>0.000</td>\n      <td>2</td>\n    </tr>\n    <tr>\n      <th>24</th>\n      <td>2018-07-28</td>\n      <td>0.000</td>\n      <td>2</td>\n    </tr>\n    <tr>\n      <th>25</th>\n      <td>2018-07-29</td>\n      <td>0.000</td>\n      <td>2</td>\n    </tr>\n    <tr>\n      <th>26</th>\n      <td>2018-07-30</td>\n      <td>0.000</td>\n      <td>2</td>\n    </tr>\n    <tr>\n      <th>27</th>\n      <td>2018-07-31</td>\n      <td>0.000</td>\n      <td>2</td>\n    </tr>\n    <tr>\n      <th>28</th>\n      <td>2018-08-01</td>\n      <td>0.000</td>\n      <td>2</td>\n    </tr>\n  </tbody>\n</table>\n</div>"
     },
     "metadata": {},
     "output_type": "display_data"
    }
   ],
   "source": [
    "display(v1)"
   ],
   "metadata": {
    "collapsed": false,
    "ExecuteTime": {
     "start_time": "2023-06-27T09:42:51.874369Z",
     "end_time": "2023-06-27T09:42:51.880848Z"
    }
   }
  },
  {
   "cell_type": "code",
   "execution_count": 19,
   "outputs": [
    {
     "data": {
      "text/plain": "          Date  Value  Flag (0=obs 1=fcst 2=norm)\n7   2018-07-11  0.007                           1\n8   2018-07-12  0.002                           1\n9   2018-07-13  0.005                           1\n10  2018-07-14  0.004                           1\n11  2018-07-15  0.002                           1\n12  2018-07-16  0.004                           1\n13  2018-07-17  0.002                           1\n14  2018-07-18  0.004                           1\n15  2018-07-19  0.006                           1\n16  2018-07-20  0.004                           1\n17  2018-07-21  0.003                           1\n18  2018-07-22  0.003                           1\n19  2018-07-23  0.004                           1\n20  2018-07-24  0.003                           1\n21  2018-07-25  0.003                           1\n22  2018-07-26  0.000                           2\n23  2018-07-27  0.000                           2\n24  2018-07-28  0.000                           2\n25  2018-07-29  0.000                           2\n26  2018-07-30  0.000                           2\n27  2018-07-31  0.000                           2\n28  2018-08-01  0.000                           2",
      "text/html": "<div>\n<style scoped>\n    .dataframe tbody tr th:only-of-type {\n        vertical-align: middle;\n    }\n\n    .dataframe tbody tr th {\n        vertical-align: top;\n    }\n\n    .dataframe thead th {\n        text-align: right;\n    }\n</style>\n<table border=\"1\" class=\"dataframe\">\n  <thead>\n    <tr style=\"text-align: right;\">\n      <th></th>\n      <th>Date</th>\n      <th>Value</th>\n      <th>Flag (0=obs 1=fcst 2=norm)</th>\n    </tr>\n  </thead>\n  <tbody>\n    <tr>\n      <th>7</th>\n      <td>2018-07-11</td>\n      <td>0.007</td>\n      <td>1</td>\n    </tr>\n    <tr>\n      <th>8</th>\n      <td>2018-07-12</td>\n      <td>0.002</td>\n      <td>1</td>\n    </tr>\n    <tr>\n      <th>9</th>\n      <td>2018-07-13</td>\n      <td>0.005</td>\n      <td>1</td>\n    </tr>\n    <tr>\n      <th>10</th>\n      <td>2018-07-14</td>\n      <td>0.004</td>\n      <td>1</td>\n    </tr>\n    <tr>\n      <th>11</th>\n      <td>2018-07-15</td>\n      <td>0.002</td>\n      <td>1</td>\n    </tr>\n    <tr>\n      <th>12</th>\n      <td>2018-07-16</td>\n      <td>0.004</td>\n      <td>1</td>\n    </tr>\n    <tr>\n      <th>13</th>\n      <td>2018-07-17</td>\n      <td>0.002</td>\n      <td>1</td>\n    </tr>\n    <tr>\n      <th>14</th>\n      <td>2018-07-18</td>\n      <td>0.004</td>\n      <td>1</td>\n    </tr>\n    <tr>\n      <th>15</th>\n      <td>2018-07-19</td>\n      <td>0.006</td>\n      <td>1</td>\n    </tr>\n    <tr>\n      <th>16</th>\n      <td>2018-07-20</td>\n      <td>0.004</td>\n      <td>1</td>\n    </tr>\n    <tr>\n      <th>17</th>\n      <td>2018-07-21</td>\n      <td>0.003</td>\n      <td>1</td>\n    </tr>\n    <tr>\n      <th>18</th>\n      <td>2018-07-22</td>\n      <td>0.003</td>\n      <td>1</td>\n    </tr>\n    <tr>\n      <th>19</th>\n      <td>2018-07-23</td>\n      <td>0.004</td>\n      <td>1</td>\n    </tr>\n    <tr>\n      <th>20</th>\n      <td>2018-07-24</td>\n      <td>0.003</td>\n      <td>1</td>\n    </tr>\n    <tr>\n      <th>21</th>\n      <td>2018-07-25</td>\n      <td>0.003</td>\n      <td>1</td>\n    </tr>\n    <tr>\n      <th>22</th>\n      <td>2018-07-26</td>\n      <td>0.000</td>\n      <td>2</td>\n    </tr>\n    <tr>\n      <th>23</th>\n      <td>2018-07-27</td>\n      <td>0.000</td>\n      <td>2</td>\n    </tr>\n    <tr>\n      <th>24</th>\n      <td>2018-07-28</td>\n      <td>0.000</td>\n      <td>2</td>\n    </tr>\n    <tr>\n      <th>25</th>\n      <td>2018-07-29</td>\n      <td>0.000</td>\n      <td>2</td>\n    </tr>\n    <tr>\n      <th>26</th>\n      <td>2018-07-30</td>\n      <td>0.000</td>\n      <td>2</td>\n    </tr>\n    <tr>\n      <th>27</th>\n      <td>2018-07-31</td>\n      <td>0.000</td>\n      <td>2</td>\n    </tr>\n    <tr>\n      <th>28</th>\n      <td>2018-08-01</td>\n      <td>0.000</td>\n      <td>2</td>\n    </tr>\n  </tbody>\n</table>\n</div>"
     },
     "metadata": {},
     "output_type": "display_data"
    }
   ],
   "source": [
    "display(v2)"
   ],
   "metadata": {
    "collapsed": false,
    "ExecuteTime": {
     "start_time": "2023-06-27T09:42:51.880663Z",
     "end_time": "2023-06-27T09:42:51.892772Z"
    }
   }
  },
  {
   "cell_type": "code",
   "execution_count": 20,
   "outputs": [
    {
     "data": {
      "text/plain": "                     ens(8)\n2018-07-11 00:00:00   0.002\n2018-07-11 12:00:00   0.003\n2018-07-12 00:00:00  -0.002\n2018-07-12 12:00:00  -0.002\n2018-07-13 00:00:00  -0.001",
      "text/html": "<div>\n<style scoped>\n    .dataframe tbody tr th:only-of-type {\n        vertical-align: middle;\n    }\n\n    .dataframe tbody tr th {\n        vertical-align: top;\n    }\n\n    .dataframe thead th {\n        text-align: right;\n    }\n</style>\n<table border=\"1\" class=\"dataframe\">\n  <thead>\n    <tr style=\"text-align: right;\">\n      <th></th>\n      <th>ens(8)</th>\n    </tr>\n  </thead>\n  <tbody>\n    <tr>\n      <th>2018-07-11 00:00:00</th>\n      <td>0.002</td>\n    </tr>\n    <tr>\n      <th>2018-07-11 12:00:00</th>\n      <td>0.003</td>\n    </tr>\n    <tr>\n      <th>2018-07-12 00:00:00</th>\n      <td>-0.002</td>\n    </tr>\n    <tr>\n      <th>2018-07-12 12:00:00</th>\n      <td>-0.002</td>\n    </tr>\n    <tr>\n      <th>2018-07-13 00:00:00</th>\n      <td>-0.001</td>\n    </tr>\n  </tbody>\n</table>\n</div>"
     },
     "metadata": {},
     "output_type": "display_data"
    }
   ],
   "source": [
    "display(ecmwf_ens_8.head())"
   ],
   "metadata": {
    "collapsed": false,
    "ExecuteTime": {
     "start_time": "2023-06-27T09:42:51.885789Z",
     "end_time": "2023-06-27T09:42:51.893336Z"
    }
   }
  },
  {
   "cell_type": "markdown",
   "source": [
    "# model"
   ],
   "metadata": {
    "collapsed": false
   }
  },
  {
   "cell_type": "code",
   "execution_count": 21,
   "outputs": [],
   "source": [
    "master_df = pd.concat([ecmwf_ens_9_14, ecmwf_ens_8, ecmwf_9_10, gfs_11_14, cmc_9_14], axis=1)"
   ],
   "metadata": {
    "collapsed": false,
    "ExecuteTime": {
     "start_time": "2023-06-27T09:42:51.887866Z",
     "end_time": "2023-06-27T09:42:51.893376Z"
    }
   }
  },
  {
   "cell_type": "code",
   "execution_count": 22,
   "outputs": [],
   "source": [
    "data = master_df.copy()"
   ],
   "metadata": {
    "collapsed": false,
    "ExecuteTime": {
     "start_time": "2023-06-27T09:42:51.896352Z",
     "end_time": "2023-06-27T09:42:51.903605Z"
    }
   }
  },
  {
   "cell_type": "code",
   "execution_count": 23,
   "outputs": [],
   "source": [
    "#get only noon forecast\n",
    "data['hour'] = data.index.hour\n",
    "data = data[data['hour'] == 12]\n",
    "data.drop('hour', axis=1, inplace=True)"
   ],
   "metadata": {
    "collapsed": false,
    "ExecuteTime": {
     "start_time": "2023-06-27T09:42:51.899344Z",
     "end_time": "2023-06-27T09:42:51.948028Z"
    }
   }
  },
  {
   "cell_type": "code",
   "execution_count": 24,
   "outputs": [
    {
     "data": {
      "text/plain": "Index(['ens(9,14)', 'ens(8)', 'ecmwf(9,10)', 'gfs(11,14)', 'cmc(9,14)'], dtype='object')"
     },
     "metadata": {},
     "output_type": "display_data"
    }
   ],
   "source": [
    "display(data.columns)"
   ],
   "metadata": {
    "collapsed": false,
    "ExecuteTime": {
     "start_time": "2023-06-27T09:42:51.905800Z",
     "end_time": "2023-06-27T09:42:51.976473Z"
    }
   }
  },
  {
   "cell_type": "code",
   "execution_count": 25,
   "outputs": [
    {
     "name": "stdout",
     "output_type": "stream",
     "text": [
      "getting betas for hdd\n"
     ]
    }
   ],
   "source": [
    "if 'hdd' in degree_days:\n",
    "    print('getting betas for hdd')\n",
    "    b1 = 0.76947604258751\n",
    "    b2 = 0.6555933110283885\n",
    "    b3 = 0.16964083221789059\n",
    "    b4 = 0.06680336217511197\n",
    "\n",
    "else:\n",
    "    print('getting betas for cdd')\n",
    "    b1 = 1.7687808214521186\n",
    "    b2 =0.42218026473687276\n",
    "    b3 = 0.1128916050374201\n",
    "    b4 = 0.08538981339364801"
   ],
   "metadata": {
    "collapsed": false,
    "ExecuteTime": {
     "start_time": "2023-06-27T09:42:51.908493Z",
     "end_time": "2023-06-27T09:42:52.020787Z"
    }
   }
  },
  {
   "cell_type": "code",
   "execution_count": 26,
   "outputs": [
    {
     "data": {
      "text/plain": "0.06360521580331818"
     },
     "execution_count": 26,
     "metadata": {},
     "output_type": "execute_result"
    }
   ],
   "source": [
    "(b1*0.003) + (b2*0.088) + (b3*0.037) + (b4*-0.040)"
   ],
   "metadata": {
    "collapsed": false,
    "ExecuteTime": {
     "start_time": "2023-06-27T09:42:51.916537Z",
     "end_time": "2023-06-27T09:42:52.058006Z"
    }
   }
  },
  {
   "cell_type": "code",
   "execution_count": 27,
   "outputs": [],
   "source": [
    "features = ['ens(8)', 'ecmwf(9,10)', 'gfs(11,14)', 'cmc(9,14)']\n",
    "X = data[features]"
   ],
   "metadata": {
    "collapsed": false,
    "ExecuteTime": {
     "start_time": "2023-06-27T09:42:51.922784Z",
     "end_time": "2023-06-27T09:42:52.058185Z"
    }
   }
  },
  {
   "cell_type": "code",
   "execution_count": 28,
   "outputs": [
    {
     "data": {
      "text/plain": "                     ens(8)  ecmwf(9,10)  gfs(11,14)  cmc(9,14)\n2018-07-11 12:00:00   0.003        0.088       0.037     -0.040\n2018-07-12 12:00:00  -0.002        0.045       0.036     -0.053\n2018-07-13 12:00:00   0.000        0.021       0.028     -0.048\n2018-07-14 12:00:00  -0.001       -0.007       0.036     -0.053\n2018-07-15 12:00:00   0.000        0.002       0.024     -0.039\n...                     ...          ...         ...        ...\n2023-05-12 12:00:00  -1.098       -0.773       0.803     -2.337\n2023-05-13 12:00:00  -0.563        0.351       1.843      0.595\n2023-05-14 12:00:00   0.210        0.871       1.201     -2.417\n2023-05-15 12:00:00  -0.080        2.357       1.071     -2.618\n2023-05-16 12:00:00  -0.264        0.081       0.362     -1.419\n\n[1749 rows x 4 columns]",
      "text/html": "<div>\n<style scoped>\n    .dataframe tbody tr th:only-of-type {\n        vertical-align: middle;\n    }\n\n    .dataframe tbody tr th {\n        vertical-align: top;\n    }\n\n    .dataframe thead th {\n        text-align: right;\n    }\n</style>\n<table border=\"1\" class=\"dataframe\">\n  <thead>\n    <tr style=\"text-align: right;\">\n      <th></th>\n      <th>ens(8)</th>\n      <th>ecmwf(9,10)</th>\n      <th>gfs(11,14)</th>\n      <th>cmc(9,14)</th>\n    </tr>\n  </thead>\n  <tbody>\n    <tr>\n      <th>2018-07-11 12:00:00</th>\n      <td>0.003</td>\n      <td>0.088</td>\n      <td>0.037</td>\n      <td>-0.040</td>\n    </tr>\n    <tr>\n      <th>2018-07-12 12:00:00</th>\n      <td>-0.002</td>\n      <td>0.045</td>\n      <td>0.036</td>\n      <td>-0.053</td>\n    </tr>\n    <tr>\n      <th>2018-07-13 12:00:00</th>\n      <td>0.000</td>\n      <td>0.021</td>\n      <td>0.028</td>\n      <td>-0.048</td>\n    </tr>\n    <tr>\n      <th>2018-07-14 12:00:00</th>\n      <td>-0.001</td>\n      <td>-0.007</td>\n      <td>0.036</td>\n      <td>-0.053</td>\n    </tr>\n    <tr>\n      <th>2018-07-15 12:00:00</th>\n      <td>0.000</td>\n      <td>0.002</td>\n      <td>0.024</td>\n      <td>-0.039</td>\n    </tr>\n    <tr>\n      <th>...</th>\n      <td>...</td>\n      <td>...</td>\n      <td>...</td>\n      <td>...</td>\n    </tr>\n    <tr>\n      <th>2023-05-12 12:00:00</th>\n      <td>-1.098</td>\n      <td>-0.773</td>\n      <td>0.803</td>\n      <td>-2.337</td>\n    </tr>\n    <tr>\n      <th>2023-05-13 12:00:00</th>\n      <td>-0.563</td>\n      <td>0.351</td>\n      <td>1.843</td>\n      <td>0.595</td>\n    </tr>\n    <tr>\n      <th>2023-05-14 12:00:00</th>\n      <td>0.210</td>\n      <td>0.871</td>\n      <td>1.201</td>\n      <td>-2.417</td>\n    </tr>\n    <tr>\n      <th>2023-05-15 12:00:00</th>\n      <td>-0.080</td>\n      <td>2.357</td>\n      <td>1.071</td>\n      <td>-2.618</td>\n    </tr>\n    <tr>\n      <th>2023-05-16 12:00:00</th>\n      <td>-0.264</td>\n      <td>0.081</td>\n      <td>0.362</td>\n      <td>-1.419</td>\n    </tr>\n  </tbody>\n</table>\n<p>1749 rows × 4 columns</p>\n</div>"
     },
     "execution_count": 28,
     "metadata": {},
     "output_type": "execute_result"
    }
   ],
   "source": [
    "X"
   ],
   "metadata": {
    "collapsed": false,
    "ExecuteTime": {
     "start_time": "2023-06-27T09:42:51.930786Z",
     "end_time": "2023-06-27T09:42:52.058290Z"
    }
   }
  },
  {
   "cell_type": "code",
   "execution_count": 29,
   "outputs": [],
   "source": [
    "label = 'ens(9,14)'\n",
    "y = data[label]"
   ],
   "metadata": {
    "collapsed": false,
    "ExecuteTime": {
     "start_time": "2023-06-27T09:42:51.934477Z",
     "end_time": "2023-06-27T09:42:52.058327Z"
    }
   }
  },
  {
   "cell_type": "code",
   "execution_count": 30,
   "outputs": [
    {
     "data": {
      "text/plain": "2018-07-11 12:00:00    0.004\n2018-07-12 12:00:00    0.001\n2018-07-13 12:00:00    0.001\n2018-07-14 12:00:00    0.000\n2018-07-15 12:00:00    0.012\n                       ...  \n2023-05-12 12:00:00    0.378\n2023-05-13 12:00:00   -0.801\n2023-05-14 12:00:00    0.524\n2023-05-15 12:00:00    1.045\n2023-05-16 12:00:00   -0.083\nName: ens(9,14), Length: 1749, dtype: float64"
     },
     "execution_count": 30,
     "metadata": {},
     "output_type": "execute_result"
    }
   ],
   "source": [
    "y"
   ],
   "metadata": {
    "collapsed": false,
    "ExecuteTime": {
     "start_time": "2023-06-27T09:42:51.940282Z",
     "end_time": "2023-06-27T09:42:52.058415Z"
    }
   }
  },
  {
   "cell_type": "code",
   "execution_count": 31,
   "outputs": [],
   "source": [
    "regression_preds = (b1 * X.iloc[:,0]) + (b2 * X.iloc[:,1]) + (b3 * X.iloc[:,2]) + (b4 * X.iloc[:,3])"
   ],
   "metadata": {
    "collapsed": false,
    "ExecuteTime": {
     "start_time": "2023-06-27T09:42:51.943123Z",
     "end_time": "2023-06-27T09:42:52.058449Z"
    }
   }
  },
  {
   "cell_type": "code",
   "execution_count": 32,
   "outputs": [
    {
     "data": {
      "text/plain": "2022-10-04 12:00:00    3.505\n2022-10-05 12:00:00    3.098\n2022-10-06 12:00:00    7.153\n2022-10-07 12:00:00   -8.197\n2022-10-08 12:00:00    5.206\n                       ...  \n2023-05-12 12:00:00    0.378\n2023-05-13 12:00:00   -0.801\n2023-05-14 12:00:00    0.524\n2023-05-15 12:00:00    1.045\n2023-05-16 12:00:00   -0.083\nName: ens(9,14), Length: 225, dtype: float64"
     },
     "execution_count": 32,
     "metadata": {},
     "output_type": "execute_result"
    }
   ],
   "source": [
    "y[-225:]"
   ],
   "metadata": {
    "collapsed": false,
    "ExecuteTime": {
     "start_time": "2023-06-27T09:42:51.950111Z",
     "end_time": "2023-06-27T09:42:52.058616Z"
    }
   }
  },
  {
   "cell_type": "code",
   "execution_count": 33,
   "outputs": [
    {
     "name": "stdout",
     "output_type": "stream",
     "text": [
      "errors before any adjustments (benchmark)\n",
      "MSE: 28.923662742350903\n",
      "RMSE: 5.378072400251869\n",
      "MAE: 4.215609662637529\n",
      "MAPE: 7.7850614887865826\n",
      "R2: -0.36699064774392953\n"
     ]
    }
   ],
   "source": [
    "print('errors before any adjustments (benchmark)')\n",
    "display_errors(y[-225:], regression_preds[-225:])"
   ],
   "metadata": {
    "collapsed": false,
    "ExecuteTime": {
     "start_time": "2023-06-27T09:42:51.953788Z",
     "end_time": "2023-06-27T09:42:52.058686Z"
    }
   }
  },
  {
   "cell_type": "code",
   "execution_count": 34,
   "outputs": [
    {
     "name": "stdout",
     "output_type": "stream",
     "text": [
      "MSE before adjustment: 28.923662742350903\n"
     ]
    }
   ],
   "source": [
    "mse = mean_squared_error(y[-225:], regression_preds[-225:])\n",
    "print(f\"MSE before adjustment: {mse}\") # mean squared error before any adjustments - benchmark to beat"
   ],
   "metadata": {
    "collapsed": false,
    "ExecuteTime": {
     "start_time": "2023-06-27T09:42:51.959123Z",
     "end_time": "2023-06-27T09:42:52.058782Z"
    }
   }
  },
  {
   "cell_type": "code",
   "execution_count": 35,
   "outputs": [],
   "source": [
    "forecasting_errors = y - regression_preds"
   ],
   "metadata": {
    "collapsed": false,
    "ExecuteTime": {
     "start_time": "2023-06-27T09:42:51.962446Z",
     "end_time": "2023-06-27T09:42:52.058818Z"
    }
   }
  },
  {
   "cell_type": "code",
   "execution_count": 36,
   "outputs": [
    {
     "data": {
      "text/plain": "2018-07-11 12:00:00   -0.059605\n2018-07-12 12:00:00   -0.029529\n2018-07-13 12:00:00   -0.014311\n2018-07-14 12:00:00    0.002792\n2018-07-15 12:00:00    0.009223\n                         ...   \n2023-05-12 12:00:00    1.749556\n2023-05-13 12:00:00   -0.950294\n2023-05-14 12:00:00   -0.250887\n2023-05-15 12:00:00   -0.445469\n2023-05-16 12:00:00    0.100423\nLength: 1749, dtype: float64"
     },
     "execution_count": 36,
     "metadata": {},
     "output_type": "execute_result"
    }
   ],
   "source": [
    "forecasting_errors"
   ],
   "metadata": {
    "collapsed": false,
    "ExecuteTime": {
     "start_time": "2023-06-27T09:42:51.966812Z",
     "end_time": "2023-06-27T09:42:52.129427Z"
    }
   }
  },
  {
   "cell_type": "code",
   "execution_count": 37,
   "outputs": [
    {
     "data": {
      "text/plain": "[<matplotlib.lines.Line2D at 0x7fd318931810>]"
     },
     "execution_count": 37,
     "metadata": {},
     "output_type": "execute_result"
    },
    {
     "data": {
      "text/plain": "<Figure size 640x480 with 1 Axes>",
      "image/png": "[encoded data removed]"
     },
     "metadata": {},
     "output_type": "display_data"
    }
   ],
   "source": [
    "plt.plot(forecasting_errors[-225:])"
   ],
   "metadata": {
    "collapsed": false,
    "ExecuteTime": {
     "start_time": "2023-06-27T09:42:51.970222Z",
     "end_time": "2023-06-27T09:42:52.371158Z"
    }
   }
  },
  {
   "cell_type": "code",
   "execution_count": 38,
   "outputs": [
    {
     "name": "stdout",
     "output_type": "stream",
     "text": [
      "28.363160721844867\n"
     ]
    }
   ],
   "source": [
    "mean_error = forecasting_errors[:-225].mean()\n",
    "mse = mean_squared_error(y[-225:], regression_preds[-225:] + mean_error)\n",
    "print(mse)"
   ],
   "metadata": {
    "collapsed": false,
    "ExecuteTime": {
     "start_time": "2023-06-27T09:42:52.106958Z",
     "end_time": "2023-06-27T09:42:52.371449Z"
    }
   }
  },
  {
   "cell_type": "code",
   "execution_count": 38,
   "outputs": [],
   "source": [],
   "metadata": {
    "collapsed": false,
    "ExecuteTime": {
     "start_time": "2023-06-27T09:42:52.111110Z",
     "end_time": "2023-06-27T09:42:52.371496Z"
    }
   }
  },
  {
   "cell_type": "markdown",
   "source": [
    "### forecasting errors linear regression"
   ],
   "metadata": {
    "collapsed": false
   }
  },
  {
   "cell_type": "code",
   "execution_count": 39,
   "outputs": [],
   "source": [
    "from sklearn.linear_model import LinearRegression\n",
    "from sklearn.model_selection import train_test_split\n",
    "import statsmodels.api as sm"
   ],
   "metadata": {
    "collapsed": false,
    "ExecuteTime": {
     "start_time": "2023-06-27T09:42:52.114762Z",
     "end_time": "2023-06-27T09:42:52.482144Z"
    }
   }
  },
  {
   "cell_type": "code",
   "execution_count": 40,
   "outputs": [],
   "source": [
    "X_train, X_test, y_train, y_test = train_test_split(X, forecasting_errors,\n",
    "                                                    test_size=0.15, shuffle=False)"
   ],
   "metadata": {
    "collapsed": false,
    "ExecuteTime": {
     "start_time": "2023-06-27T09:42:52.457113Z",
     "end_time": "2023-06-27T09:42:52.499880Z"
    }
   }
  },
  {
   "cell_type": "code",
   "execution_count": 41,
   "outputs": [
    {
     "data": {
      "text/plain": "2018-07-11 12:00:00   -0.059605\n2018-07-12 12:00:00   -0.029529\n2018-07-13 12:00:00   -0.014311\n2018-07-14 12:00:00    0.002792\n2018-07-15 12:00:00    0.009223\n                         ...   \n2022-08-22 12:00:00   -0.586802\n2022-08-23 12:00:00    0.640442\n2022-08-24 12:00:00   -0.273508\n2022-08-25 12:00:00   -0.568420\n2022-08-26 12:00:00   -0.602595\nLength: 1486, dtype: float64"
     },
     "metadata": {},
     "output_type": "display_data"
    }
   ],
   "source": [
    "display(y_train)"
   ],
   "metadata": {
    "collapsed": false,
    "ExecuteTime": {
     "start_time": "2023-06-27T09:42:52.461706Z",
     "end_time": "2023-06-27T09:42:52.500280Z"
    }
   }
  },
  {
   "cell_type": "code",
   "execution_count": 42,
   "outputs": [
    {
     "data": {
      "text/plain": "0.33258700056331014"
     },
     "execution_count": 42,
     "metadata": {},
     "output_type": "execute_result"
    }
   ],
   "source": [
    "reg = LinearRegression().fit(X_train, y_train)\n",
    "reg.score(X_test, y_test)"
   ],
   "metadata": {
    "collapsed": false,
    "ExecuteTime": {
     "start_time": "2023-06-27T09:42:52.466774Z",
     "end_time": "2023-06-27T09:42:52.500540Z"
    }
   }
  },
  {
   "cell_type": "code",
   "execution_count": 43,
   "outputs": [
    {
     "name": "stdout",
     "output_type": "stream",
     "text": [
      "[ 0.45491005 -0.40453131  0.01530261 -0.01174598]\n",
      "0.3059202267148269\n"
     ]
    }
   ],
   "source": [
    "print(reg.coef_)\n",
    "print(reg.intercept_)"
   ],
   "metadata": {
    "collapsed": false,
    "ExecuteTime": {
     "start_time": "2023-06-27T09:42:52.473847Z",
     "end_time": "2023-06-27T09:42:52.500755Z"
    }
   }
  },
  {
   "cell_type": "code",
   "execution_count": 44,
   "outputs": [
    {
     "name": "stdout",
     "output_type": "stream",
     "text": [
      "linear regression formula\n",
      "y = 0.4549100528456273*x1 + -0.404531307635968*x2 + 0.01530261289239318*x3 + -0.011745979722119604*x4 + 0.3059202267148269\n"
     ]
    }
   ],
   "source": [
    "print(\"linear regression formula\")\n",
    "print(f\"y = {reg.coef_[0]}*x1 + {reg.coef_[1]}*x2 + {reg.coef_[2]}*x3 + {reg.coef_[3]}*x4 + {reg.intercept_}\")"
   ],
   "metadata": {
    "collapsed": false,
    "ExecuteTime": {
     "start_time": "2023-06-27T09:42:52.477068Z",
     "end_time": "2023-06-27T09:42:52.513503Z"
    }
   }
  },
  {
   "cell_type": "code",
   "execution_count": 45,
   "outputs": [],
   "source": [
    "error_preds = reg.predict(X_test)"
   ],
   "metadata": {
    "collapsed": false,
    "ExecuteTime": {
     "start_time": "2023-06-27T09:42:52.484808Z",
     "end_time": "2023-06-27T09:42:52.530187Z"
    }
   }
  },
  {
   "cell_type": "code",
   "execution_count": 46,
   "outputs": [
    {
     "name": "stdout",
     "output_type": "stream",
     "text": [
      "errors for linear regression adjusted model:\n",
      "MSE: 18.488725082342487\n",
      "RMSE: 4.299851751205207\n",
      "MAE: 3.3297950697199235\n",
      "MAPE: 4.890557925391748\n",
      "R2: 0.12618555604771453\n"
     ]
    }
   ],
   "source": [
    "print('errors for linear regression adjusted model:')\n",
    "display_errors(y[-225:], error_preds[-225:] + regression_preds[-225:])"
   ],
   "metadata": {
    "collapsed": false,
    "ExecuteTime": {
     "start_time": "2023-06-27T09:42:52.488406Z",
     "end_time": "2023-06-27T09:42:52.545014Z"
    }
   }
  },
  {
   "cell_type": "code",
   "execution_count": 47,
   "outputs": [
    {
     "data": {
      "text/plain": "<Figure size 640x480 with 1 Axes>",
      "image/png": "[encoded data removed]"
     },
     "metadata": {},
     "output_type": "display_data"
    }
   ],
   "source": [
    "plot_errors(y[-225:], error_preds[-225:] + regression_preds[-225:], 'Linear Regression')"
   ],
   "metadata": {
    "collapsed": false,
    "ExecuteTime": {
     "start_time": "2023-06-27T09:42:52.497399Z",
     "end_time": "2023-06-27T09:42:52.664519Z"
    }
   }
  },
  {
   "cell_type": "code",
   "execution_count": 99,
   "outputs": [
    {
     "data": {
      "application/vnd.plotly.v1+json": {
       "data": [
        {
         "alignmentgroup": "True",
         "hovertemplate": "color=Positive<br>Feature=%{x}<br>Linear coefficient=%{y}<extra></extra>",
         "legendgroup": "Positive",
         "marker": {
          "color": "green",
          "pattern": {
           "shape": ""
          }
         },
         "name": "Positive",
         "offsetgroup": "Positive",
         "orientation": "v",
         "showlegend": true,
         "textposition": "auto",
         "x": [
          "ens(8)",
          "gfs(11,14)"
         ],
         "xaxis": "x",
         "y": [
          0.4549100528456273,
          0.01530261289239318
         ],
         "yaxis": "y",
         "type": "bar"
        },
        {
         "alignmentgroup": "True",
         "hovertemplate": "color=Negative<br>Feature=%{x}<br>Linear coefficient=%{y}<extra></extra>",
         "legendgroup": "Negative",
         "marker": {
          "color": "red",
          "pattern": {
           "shape": ""
          }
         },
         "name": "Negative",
         "offsetgroup": "Negative",
         "orientation": "v",
         "showlegend": true,
         "textposition": "auto",
         "x": [
          "ecmwf(9,10)",
          "cmc(9,14)"
         ],
         "xaxis": "x",
         "y": [
          -0.404531307635968,
          -0.011745979722119604
         ],
         "yaxis": "y",
         "type": "bar"
        }
       ],
       "layout": {
        "template": {
         "data": {
          "histogram2dcontour": [
           {
            "type": "histogram2dcontour",
            "colorbar": {
             "outlinewidth": 0,
             "ticks": ""
            },
            "colorscale": [
             [
              0.0,
              "#0d0887"
             ],
             [
              0.1111111111111111,
              "#46039f"
             ],
             [
              0.2222222222222222,
              "#7201a8"
             ],
             [
              0.3333333333333333,
              "#9c179e"
             ],
             [
              0.4444444444444444,
              "#bd3786"
             ],
             [
              0.5555555555555556,
              "#d8576b"
             ],
             [
              0.6666666666666666,
              "#ed7953"
             ],
             [
              0.7777777777777778,
              "#fb9f3a"
             ],
             [
              0.8888888888888888,
              "#fdca26"
             ],
             [
              1.0,
              "#f0f921"
             ]
            ]
           }
          ],
          "choropleth": [
           {
            "type": "choropleth",
            "colorbar": {
             "outlinewidth": 0,
             "ticks": ""
            }
           }
          ],
          "histogram2d": [
           {
            "type": "histogram2d",
            "colorbar": {
             "outlinewidth": 0,
             "ticks": ""
            },
            "colorscale": [
             [
              0.0,
              "#0d0887"
             ],
             [
              0.1111111111111111,
              "#46039f"
             ],
             [
              0.2222222222222222,
              "#7201a8"
             ],
             [
              0.3333333333333333,
              "#9c179e"
             ],
             [
              0.4444444444444444,
              "#bd3786"
             ],
             [
              0.5555555555555556,
              "#d8576b"
             ],
             [
              0.6666666666666666,
              "#ed7953"
             ],
             [
              0.7777777777777778,
              "#fb9f3a"
             ],
             [
              0.8888888888888888,
              "#fdca26"
             ],
             [
              1.0,
              "#f0f921"
             ]
            ]
           }
          ],
          "heatmap": [
           {
            "type": "heatmap",
            "colorbar": {
             "outlinewidth": 0,
             "ticks": ""
            },
            "colorscale": [
             [
              0.0,
              "#0d0887"
             ],
             [
              0.1111111111111111,
              "#46039f"
             ],
             [
              0.2222222222222222,
              "#7201a8"
             ],
             [
              0.3333333333333333,
              "#9c179e"
             ],
             [
              0.4444444444444444,
              "#bd3786"
             ],
             [
              0.5555555555555556,
              "#d8576b"
             ],
             [
              0.6666666666666666,
              "#ed7953"
             ],
             [
              0.7777777777777778,
              "#fb9f3a"
             ],
             [
              0.8888888888888888,
              "#fdca26"
             ],
             [
              1.0,
              "#f0f921"
             ]
            ]
           }
          ],
          "heatmapgl": [
           {
            "type": "heatmapgl",
            "colorbar": {
             "outlinewidth": 0,
             "ticks": ""
            },
            "colorscale": [
             [
              0.0,
              "#0d0887"
             ],
             [
              0.1111111111111111,
              "#46039f"
             ],
             [
              0.2222222222222222,
              "#7201a8"
             ],
             [
              0.3333333333333333,
              "#9c179e"
             ],
             [
              0.4444444444444444,
              "#bd3786"
             ],
             [
              0.5555555555555556,
              "#d8576b"
             ],
             [
              0.6666666666666666,
              "#ed7953"
             ],
             [
              0.7777777777777778,
              "#fb9f3a"
             ],
             [
              0.8888888888888888,
              "#fdca26"
             ],
             [
              1.0,
              "#f0f921"
             ]
            ]
           }
          ],
          "contourcarpet": [
           {
            "type": "contourcarpet",
            "colorbar": {
             "outlinewidth": 0,
             "ticks": ""
            }
           }
          ],
          "contour": [
           {
            "type": "contour",
            "colorbar": {
             "outlinewidth": 0,
             "ticks": ""
            },
            "colorscale": [
             [
              0.0,
              "#0d0887"
             ],
             [
              0.1111111111111111,
              "#46039f"
             ],
             [
              0.2222222222222222,
              "#7201a8"
             ],
             [
              0.3333333333333333,
              "#9c179e"
             ],
             [
              0.4444444444444444,
              "#bd3786"
             ],
             [
              0.5555555555555556,
              "#d8576b"
             ],
             [
              0.6666666666666666,
              "#ed7953"
             ],
             [
              0.7777777777777778,
              "#fb9f3a"
             ],
             [
              0.8888888888888888,
              "#fdca26"
             ],
             [
              1.0,
              "#f0f921"
             ]
            ]
           }
          ],
          "surface": [
           {
            "type": "surface",
            "colorbar": {
             "outlinewidth": 0,
             "ticks": ""
            },
            "colorscale": [
             [
              0.0,
              "#0d0887"
             ],
             [
              0.1111111111111111,
              "#46039f"
             ],
             [
              0.2222222222222222,
              "#7201a8"
             ],
             [
              0.3333333333333333,
              "#9c179e"
             ],
             [
              0.4444444444444444,
              "#bd3786"
             ],
             [
              0.5555555555555556,
              "#d8576b"
             ],
             [
              0.6666666666666666,
              "#ed7953"
             ],
             [
              0.7777777777777778,
              "#fb9f3a"
             ],
             [
              0.8888888888888888,
              "#fdca26"
             ],
             [
              1.0,
              "#f0f921"
             ]
            ]
           }
          ],
          "mesh3d": [
           {
            "type": "mesh3d",
            "colorbar": {
             "outlinewidth": 0,
             "ticks": ""
            }
           }
          ],
          "scatter": [
           {
            "marker": {
             "line": {
              "color": "#283442"
             }
            },
            "type": "scatter"
           }
          ],
          "parcoords": [
           {
            "type": "parcoords",
            "line": {
             "colorbar": {
              "outlinewidth": 0,
              "ticks": ""
             }
            }
           }
          ],
          "scatterpolargl": [
           {
            "type": "scatterpolargl",
            "marker": {
             "colorbar": {
              "outlinewidth": 0,
              "ticks": ""
             }
            }
           }
          ],
          "bar": [
           {
            "error_x": {
             "color": "#f2f5fa"
            },
            "error_y": {
             "color": "#f2f5fa"
            },
            "marker": {
             "line": {
              "color": "rgb(17,17,17)",
              "width": 0.5
             },
             "pattern": {
              "fillmode": "overlay",
              "size": 10,
              "solidity": 0.2
             }
            },
            "type": "bar"
           }
          ],
          "scattergeo": [
           {
            "type": "scattergeo",
            "marker": {
             "colorbar": {
              "outlinewidth": 0,
              "ticks": ""
             }
            }
           }
          ],
          "scatterpolar": [
           {
            "type": "scatterpolar",
            "marker": {
             "colorbar": {
              "outlinewidth": 0,
              "ticks": ""
             }
            }
           }
          ],
          "histogram": [
           {
            "marker": {
             "pattern": {
              "fillmode": "overlay",
              "size": 10,
              "solidity": 0.2
             }
            },
            "type": "histogram"
           }
          ],
          "scattergl": [
           {
            "marker": {
             "line": {
              "color": "#283442"
             }
            },
            "type": "scattergl"
           }
          ],
          "scatter3d": [
           {
            "type": "scatter3d",
            "line": {
             "colorbar": {
              "outlinewidth": 0,
              "ticks": ""
             }
            },
            "marker": {
             "colorbar": {
              "outlinewidth": 0,
              "ticks": ""
             }
            }
           }
          ],
          "scattermapbox": [
           {
            "type": "scattermapbox",
            "marker": {
             "colorbar": {
              "outlinewidth": 0,
              "ticks": ""
             }
            }
           }
          ],
          "scatterternary": [
           {
            "type": "scatterternary",
            "marker": {
             "colorbar": {
              "outlinewidth": 0,
              "ticks": ""
             }
            }
           }
          ],
          "scattercarpet": [
           {
            "type": "scattercarpet",
            "marker": {
             "colorbar": {
              "outlinewidth": 0,
              "ticks": ""
             }
            }
           }
          ],
          "carpet": [
           {
            "aaxis": {
             "endlinecolor": "#A2B1C6",
             "gridcolor": "#506784",
             "linecolor": "#506784",
             "minorgridcolor": "#506784",
             "startlinecolor": "#A2B1C6"
            },
            "baxis": {
             "endlinecolor": "#A2B1C6",
             "gridcolor": "#506784",
             "linecolor": "#506784",
             "minorgridcolor": "#506784",
             "startlinecolor": "#A2B1C6"
            },
            "type": "carpet"
           }
          ],
          "table": [
           {
            "cells": {
             "fill": {
              "color": "#506784"
             },
             "line": {
              "color": "rgb(17,17,17)"
             }
            },
            "header": {
             "fill": {
              "color": "#2a3f5f"
             },
             "line": {
              "color": "rgb(17,17,17)"
             }
            },
            "type": "table"
           }
          ],
          "barpolar": [
           {
            "marker": {
             "line": {
              "color": "rgb(17,17,17)",
              "width": 0.5
             },
             "pattern": {
              "fillmode": "overlay",
              "size": 10,
              "solidity": 0.2
             }
            },
            "type": "barpolar"
           }
          ],
          "pie": [
           {
            "automargin": true,
            "type": "pie"
           }
          ]
         },
         "layout": {
          "autotypenumbers": "strict",
          "colorway": [
           "#636efa",
           "#EF553B",
           "#00cc96",
           "#ab63fa",
           "#FFA15A",
           "#19d3f3",
           "#FF6692",
           "#B6E880",
           "#FF97FF",
           "#FECB52"
          ],
          "font": {
           "color": "#f2f5fa"
          },
          "hovermode": "closest",
          "hoverlabel": {
           "align": "left"
          },
          "paper_bgcolor": "rgb(17,17,17)",
          "plot_bgcolor": "rgb(17,17,17)",
          "polar": {
           "bgcolor": "rgb(17,17,17)",
           "angularaxis": {
            "gridcolor": "#506784",
            "linecolor": "#506784",
            "ticks": ""
           },
           "radialaxis": {
            "gridcolor": "#506784",
            "linecolor": "#506784",
            "ticks": ""
           }
          },
          "ternary": {
           "bgcolor": "rgb(17,17,17)",
           "aaxis": {
            "gridcolor": "#506784",
            "linecolor": "#506784",
            "ticks": ""
           },
           "baxis": {
            "gridcolor": "#506784",
            "linecolor": "#506784",
            "ticks": ""
           },
           "caxis": {
            "gridcolor": "#506784",
            "linecolor": "#506784",
            "ticks": ""
           }
          },
          "coloraxis": {
           "colorbar": {
            "outlinewidth": 0,
            "ticks": ""
           }
          },
          "colorscale": {
           "sequential": [
            [
             0.0,
             "#0d0887"
            ],
            [
             0.1111111111111111,
             "#46039f"
            ],
            [
             0.2222222222222222,
             "#7201a8"
            ],
            [
             0.3333333333333333,
             "#9c179e"
            ],
            [
             0.4444444444444444,
             "#bd3786"
            ],
            [
             0.5555555555555556,
             "#d8576b"
            ],
            [
             0.6666666666666666,
             "#ed7953"
            ],
            [
             0.7777777777777778,
             "#fb9f3a"
            ],
            [
             0.8888888888888888,
             "#fdca26"
            ],
            [
             1.0,
             "#f0f921"
            ]
           ],
           "sequentialminus": [
            [
             0.0,
             "#0d0887"
            ],
            [
             0.1111111111111111,
             "#46039f"
            ],
            [
             0.2222222222222222,
             "#7201a8"
            ],
            [
             0.3333333333333333,
             "#9c179e"
            ],
            [
             0.4444444444444444,
             "#bd3786"
            ],
            [
             0.5555555555555556,
             "#d8576b"
            ],
            [
             0.6666666666666666,
             "#ed7953"
            ],
            [
             0.7777777777777778,
             "#fb9f3a"
            ],
            [
             0.8888888888888888,
             "#fdca26"
            ],
            [
             1.0,
             "#f0f921"
            ]
           ],
           "diverging": [
            [
             0,
             "#8e0152"
            ],
            [
             0.1,
             "#c51b7d"
            ],
            [
             0.2,
             "#de77ae"
            ],
            [
             0.3,
             "#f1b6da"
            ],
            [
             0.4,
             "#fde0ef"
            ],
            [
             0.5,
             "#f7f7f7"
            ],
            [
             0.6,
             "#e6f5d0"
            ],
            [
             0.7,
             "#b8e186"
            ],
            [
             0.8,
             "#7fbc41"
            ],
            [
             0.9,
             "#4d9221"
            ],
            [
             1,
             "#276419"
            ]
           ]
          },
          "xaxis": {
           "gridcolor": "#283442",
           "linecolor": "#506784",
           "ticks": "",
           "title": {
            "standoff": 15
           },
           "zerolinecolor": "#283442",
           "automargin": true,
           "zerolinewidth": 2
          },
          "yaxis": {
           "gridcolor": "#283442",
           "linecolor": "#506784",
           "ticks": "",
           "title": {
            "standoff": 15
           },
           "zerolinecolor": "#283442",
           "automargin": true,
           "zerolinewidth": 2
          },
          "scene": {
           "xaxis": {
            "backgroundcolor": "rgb(17,17,17)",
            "gridcolor": "#506784",
            "linecolor": "#506784",
            "showbackground": true,
            "ticks": "",
            "zerolinecolor": "#C8D4E3",
            "gridwidth": 2
           },
           "yaxis": {
            "backgroundcolor": "rgb(17,17,17)",
            "gridcolor": "#506784",
            "linecolor": "#506784",
            "showbackground": true,
            "ticks": "",
            "zerolinecolor": "#C8D4E3",
            "gridwidth": 2
           },
           "zaxis": {
            "backgroundcolor": "rgb(17,17,17)",
            "gridcolor": "#506784",
            "linecolor": "#506784",
            "showbackground": true,
            "ticks": "",
            "zerolinecolor": "#C8D4E3",
            "gridwidth": 2
           }
          },
          "shapedefaults": {
           "line": {
            "color": "#f2f5fa"
           }
          },
          "annotationdefaults": {
           "arrowcolor": "#f2f5fa",
           "arrowhead": 0,
           "arrowwidth": 1
          },
          "geo": {
           "bgcolor": "rgb(17,17,17)",
           "landcolor": "rgb(17,17,17)",
           "subunitcolor": "#506784",
           "showland": true,
           "showlakes": true,
           "lakecolor": "rgb(17,17,17)"
          },
          "title": {
           "x": 0.05
          },
          "updatemenudefaults": {
           "bgcolor": "#506784",
           "borderwidth": 0
          },
          "sliderdefaults": {
           "bgcolor": "#C8D4E3",
           "borderwidth": 1,
           "bordercolor": "rgb(17,17,17)",
           "tickwidth": 0
          },
          "mapbox": {
           "style": "dark"
          }
         }
        },
        "xaxis": {
         "anchor": "y",
         "domain": [
          0.0,
          1.0
         ],
         "title": {
          "text": "Feature"
         }
        },
        "yaxis": {
         "anchor": "x",
         "domain": [
          0.0,
          1.0
         ],
         "title": {
          "text": "Linear coefficient"
         }
        },
        "legend": {
         "title": {
          "text": "color"
         },
         "tracegroupgap": 0
        },
        "title": {
         "text": "Weight of each feature for error prediction"
        },
        "barmode": "relative"
       },
       "config": {
        "plotlyServerURL": "https://plot.ly"
       }
      },
      "text/html": "<div>                            <div id=\"d0adfaf4-c392-4f94-a7e0-73a92aedfbf9\" class=\"plotly-graph-div\" style=\"height:525px; width:100%;\"></div>            <script type=\"text/javascript\">                require([\"plotly\"], function(Plotly) {                    window.PLOTLYENV=window.PLOTLYENV || {};                                    if (document.getElementById(\"d0adfaf4-c392-4f94-a7e0-73a92aedfbf9\")) {                    Plotly.newPlot(                        \"d0adfaf4-c392-4f94-a7e0-73a92aedfbf9\",                        [{\"alignmentgroup\":\"True\",\"hovertemplate\":\"color=Positive<br>Feature=%{x}<br>Linear coefficient=%{y}<extra></extra>\",\"legendgroup\":\"Positive\",\"marker\":{\"color\":\"green\",\"pattern\":{\"shape\":\"\"}},\"name\":\"Positive\",\"offsetgroup\":\"Positive\",\"orientation\":\"v\",\"showlegend\":true,\"textposition\":\"auto\",\"x\":[\"ens(8)\",\"gfs(11,14)\"],\"xaxis\":\"x\",\"y\":[0.4549100528456273,0.01530261289239318],\"yaxis\":\"y\",\"type\":\"bar\"},{\"alignmentgroup\":\"True\",\"hovertemplate\":\"color=Negative<br>Feature=%{x}<br>Linear coefficient=%{y}<extra></extra>\",\"legendgroup\":\"Negative\",\"marker\":{\"color\":\"red\",\"pattern\":{\"shape\":\"\"}},\"name\":\"Negative\",\"offsetgroup\":\"Negative\",\"orientation\":\"v\",\"showlegend\":true,\"textposition\":\"auto\",\"x\":[\"ecmwf(9,10)\",\"cmc(9,14)\"],\"xaxis\":\"x\",\"y\":[-0.404531307635968,-0.011745979722119604],\"yaxis\":\"y\",\"type\":\"bar\"}],                        {\"template\":{\"data\":{\"histogram2dcontour\":[{\"type\":\"histogram2dcontour\",\"colorbar\":{\"outlinewidth\":0,\"ticks\":\"\"},\"colorscale\":[[0.0,\"#0d0887\"],[0.1111111111111111,\"#46039f\"],[0.2222222222222222,\"#7201a8\"],[0.3333333333333333,\"#9c179e\"],[0.4444444444444444,\"#bd3786\"],[0.5555555555555556,\"#d8576b\"],[0.6666666666666666,\"#ed7953\"],[0.7777777777777778,\"#fb9f3a\"],[0.8888888888888888,\"#fdca26\"],[1.0,\"#f0f921\"]]}],\"choropleth\":[{\"type\":\"choropleth\",\"colorbar\":{\"outlinewidth\":0,\"ticks\":\"\"}}],\"histogram2d\":[{\"type\":\"histogram2d\",\"colorbar\":{\"outlinewidth\":0,\"ticks\":\"\"},\"colorscale\":[[0.0,\"#0d0887\"],[0.1111111111111111,\"#46039f\"],[0.2222222222222222,\"#7201a8\"],[0.3333333333333333,\"#9c179e\"],[0.4444444444444444,\"#bd3786\"],[0.5555555555555556,\"#d8576b\"],[0.6666666666666666,\"#ed7953\"],[0.7777777777777778,\"#fb9f3a\"],[0.8888888888888888,\"#fdca26\"],[1.0,\"#f0f921\"]]}],\"heatmap\":[{\"type\":\"heatmap\",\"colorbar\":{\"outlinewidth\":0,\"ticks\":\"\"},\"colorscale\":[[0.0,\"#0d0887\"],[0.1111111111111111,\"#46039f\"],[0.2222222222222222,\"#7201a8\"],[0.3333333333333333,\"#9c179e\"],[0.4444444444444444,\"#bd3786\"],[0.5555555555555556,\"#d8576b\"],[0.6666666666666666,\"#ed7953\"],[0.7777777777777778,\"#fb9f3a\"],[0.8888888888888888,\"#fdca26\"],[1.0,\"#f0f921\"]]}],\"heatmapgl\":[{\"type\":\"heatmapgl\",\"colorbar\":{\"outlinewidth\":0,\"ticks\":\"\"},\"colorscale\":[[0.0,\"#0d0887\"],[0.1111111111111111,\"#46039f\"],[0.2222222222222222,\"#7201a8\"],[0.3333333333333333,\"#9c179e\"],[0.4444444444444444,\"#bd3786\"],[0.5555555555555556,\"#d8576b\"],[0.6666666666666666,\"#ed7953\"],[0.7777777777777778,\"#fb9f3a\"],[0.8888888888888888,\"#fdca26\"],[1.0,\"#f0f921\"]]}],\"contourcarpet\":[{\"type\":\"contourcarpet\",\"colorbar\":{\"outlinewidth\":0,\"ticks\":\"\"}}],\"contour\":[{\"type\":\"contour\",\"colorbar\":{\"outlinewidth\":0,\"ticks\":\"\"},\"colorscale\":[[0.0,\"#0d0887\"],[0.1111111111111111,\"#46039f\"],[0.2222222222222222,\"#7201a8\"],[0.3333333333333333,\"#9c179e\"],[0.4444444444444444,\"#bd3786\"],[0.5555555555555556,\"#d8576b\"],[0.6666666666666666,\"#ed7953\"],[0.7777777777777778,\"#fb9f3a\"],[0.8888888888888888,\"#fdca26\"],[1.0,\"#f0f921\"]]}],\"surface\":[{\"type\":\"surface\",\"colorbar\":{\"outlinewidth\":0,\"ticks\":\"\"},\"colorscale\":[[0.0,\"#0d0887\"],[0.1111111111111111,\"#46039f\"],[0.2222222222222222,\"#7201a8\"],[0.3333333333333333,\"#9c179e\"],[0.4444444444444444,\"#bd3786\"],[0.5555555555555556,\"#d8576b\"],[0.6666666666666666,\"#ed7953\"],[0.7777777777777778,\"#fb9f3a\"],[0.8888888888888888,\"#fdca26\"],[1.0,\"#f0f921\"]]}],\"mesh3d\":[{\"type\":\"mesh3d\",\"colorbar\":{\"outlinewidth\":0,\"ticks\":\"\"}}],\"scatter\":[{\"marker\":{\"line\":{\"color\":\"#283442\"}},\"type\":\"scatter\"}],\"parcoords\":[{\"type\":\"parcoords\",\"line\":{\"colorbar\":{\"outlinewidth\":0,\"ticks\":\"\"}}}],\"scatterpolargl\":[{\"type\":\"scatterpolargl\",\"marker\":{\"colorbar\":{\"outlinewidth\":0,\"ticks\":\"\"}}}],\"bar\":[{\"error_x\":{\"color\":\"#f2f5fa\"},\"error_y\":{\"color\":\"#f2f5fa\"},\"marker\":{\"line\":{\"color\":\"rgb(17,17,17)\",\"width\":0.5},\"pattern\":{\"fillmode\":\"overlay\",\"size\":10,\"solidity\":0.2}},\"type\":\"bar\"}],\"scattergeo\":[{\"type\":\"scattergeo\",\"marker\":{\"colorbar\":{\"outlinewidth\":0,\"ticks\":\"\"}}}],\"scatterpolar\":[{\"type\":\"scatterpolar\",\"marker\":{\"colorbar\":{\"outlinewidth\":0,\"ticks\":\"\"}}}],\"histogram\":[{\"marker\":{\"pattern\":{\"fillmode\":\"overlay\",\"size\":10,\"solidity\":0.2}},\"type\":\"histogram\"}],\"scattergl\":[{\"marker\":{\"line\":{\"color\":\"#283442\"}},\"type\":\"scattergl\"}],\"scatter3d\":[{\"type\":\"scatter3d\",\"line\":{\"colorbar\":{\"outlinewidth\":0,\"ticks\":\"\"}},\"marker\":{\"colorbar\":{\"outlinewidth\":0,\"ticks\":\"\"}}}],\"scattermapbox\":[{\"type\":\"scattermapbox\",\"marker\":{\"colorbar\":{\"outlinewidth\":0,\"ticks\":\"\"}}}],\"scatterternary\":[{\"type\":\"scatterternary\",\"marker\":{\"colorbar\":{\"outlinewidth\":0,\"ticks\":\"\"}}}],\"scattercarpet\":[{\"type\":\"scattercarpet\",\"marker\":{\"colorbar\":{\"outlinewidth\":0,\"ticks\":\"\"}}}],\"carpet\":[{\"aaxis\":{\"endlinecolor\":\"#A2B1C6\",\"gridcolor\":\"#506784\",\"linecolor\":\"#506784\",\"minorgridcolor\":\"#506784\",\"startlinecolor\":\"#A2B1C6\"},\"baxis\":{\"endlinecolor\":\"#A2B1C6\",\"gridcolor\":\"#506784\",\"linecolor\":\"#506784\",\"minorgridcolor\":\"#506784\",\"startlinecolor\":\"#A2B1C6\"},\"type\":\"carpet\"}],\"table\":[{\"cells\":{\"fill\":{\"color\":\"#506784\"},\"line\":{\"color\":\"rgb(17,17,17)\"}},\"header\":{\"fill\":{\"color\":\"#2a3f5f\"},\"line\":{\"color\":\"rgb(17,17,17)\"}},\"type\":\"table\"}],\"barpolar\":[{\"marker\":{\"line\":{\"color\":\"rgb(17,17,17)\",\"width\":0.5},\"pattern\":{\"fillmode\":\"overlay\",\"size\":10,\"solidity\":0.2}},\"type\":\"barpolar\"}],\"pie\":[{\"automargin\":true,\"type\":\"pie\"}]},\"layout\":{\"autotypenumbers\":\"strict\",\"colorway\":[\"#636efa\",\"#EF553B\",\"#00cc96\",\"#ab63fa\",\"#FFA15A\",\"#19d3f3\",\"#FF6692\",\"#B6E880\",\"#FF97FF\",\"#FECB52\"],\"font\":{\"color\":\"#f2f5fa\"},\"hovermode\":\"closest\",\"hoverlabel\":{\"align\":\"left\"},\"paper_bgcolor\":\"rgb(17,17,17)\",\"plot_bgcolor\":\"rgb(17,17,17)\",\"polar\":{\"bgcolor\":\"rgb(17,17,17)\",\"angularaxis\":{\"gridcolor\":\"#506784\",\"linecolor\":\"#506784\",\"ticks\":\"\"},\"radialaxis\":{\"gridcolor\":\"#506784\",\"linecolor\":\"#506784\",\"ticks\":\"\"}},\"ternary\":{\"bgcolor\":\"rgb(17,17,17)\",\"aaxis\":{\"gridcolor\":\"#506784\",\"linecolor\":\"#506784\",\"ticks\":\"\"},\"baxis\":{\"gridcolor\":\"#506784\",\"linecolor\":\"#506784\",\"ticks\":\"\"},\"caxis\":{\"gridcolor\":\"#506784\",\"linecolor\":\"#506784\",\"ticks\":\"\"}},\"coloraxis\":{\"colorbar\":{\"outlinewidth\":0,\"ticks\":\"\"}},\"colorscale\":{\"sequential\":[[0.0,\"#0d0887\"],[0.1111111111111111,\"#46039f\"],[0.2222222222222222,\"#7201a8\"],[0.3333333333333333,\"#9c179e\"],[0.4444444444444444,\"#bd3786\"],[0.5555555555555556,\"#d8576b\"],[0.6666666666666666,\"#ed7953\"],[0.7777777777777778,\"#fb9f3a\"],[0.8888888888888888,\"#fdca26\"],[1.0,\"#f0f921\"]],\"sequentialminus\":[[0.0,\"#0d0887\"],[0.1111111111111111,\"#46039f\"],[0.2222222222222222,\"#7201a8\"],[0.3333333333333333,\"#9c179e\"],[0.4444444444444444,\"#bd3786\"],[0.5555555555555556,\"#d8576b\"],[0.6666666666666666,\"#ed7953\"],[0.7777777777777778,\"#fb9f3a\"],[0.8888888888888888,\"#fdca26\"],[1.0,\"#f0f921\"]],\"diverging\":[[0,\"#8e0152\"],[0.1,\"#c51b7d\"],[0.2,\"#de77ae\"],[0.3,\"#f1b6da\"],[0.4,\"#fde0ef\"],[0.5,\"#f7f7f7\"],[0.6,\"#e6f5d0\"],[0.7,\"#b8e186\"],[0.8,\"#7fbc41\"],[0.9,\"#4d9221\"],[1,\"#276419\"]]},\"xaxis\":{\"gridcolor\":\"#283442\",\"linecolor\":\"#506784\",\"ticks\":\"\",\"title\":{\"standoff\":15},\"zerolinecolor\":\"#283442\",\"automargin\":true,\"zerolinewidth\":2},\"yaxis\":{\"gridcolor\":\"#283442\",\"linecolor\":\"#506784\",\"ticks\":\"\",\"title\":{\"standoff\":15},\"zerolinecolor\":\"#283442\",\"automargin\":true,\"zerolinewidth\":2},\"scene\":{\"xaxis\":{\"backgroundcolor\":\"rgb(17,17,17)\",\"gridcolor\":\"#506784\",\"linecolor\":\"#506784\",\"showbackground\":true,\"ticks\":\"\",\"zerolinecolor\":\"#C8D4E3\",\"gridwidth\":2},\"yaxis\":{\"backgroundcolor\":\"rgb(17,17,17)\",\"gridcolor\":\"#506784\",\"linecolor\":\"#506784\",\"showbackground\":true,\"ticks\":\"\",\"zerolinecolor\":\"#C8D4E3\",\"gridwidth\":2},\"zaxis\":{\"backgroundcolor\":\"rgb(17,17,17)\",\"gridcolor\":\"#506784\",\"linecolor\":\"#506784\",\"showbackground\":true,\"ticks\":\"\",\"zerolinecolor\":\"#C8D4E3\",\"gridwidth\":2}},\"shapedefaults\":{\"line\":{\"color\":\"#f2f5fa\"}},\"annotationdefaults\":{\"arrowcolor\":\"#f2f5fa\",\"arrowhead\":0,\"arrowwidth\":1},\"geo\":{\"bgcolor\":\"rgb(17,17,17)\",\"landcolor\":\"rgb(17,17,17)\",\"subunitcolor\":\"#506784\",\"showland\":true,\"showlakes\":true,\"lakecolor\":\"rgb(17,17,17)\"},\"title\":{\"x\":0.05},\"updatemenudefaults\":{\"bgcolor\":\"#506784\",\"borderwidth\":0},\"sliderdefaults\":{\"bgcolor\":\"#C8D4E3\",\"borderwidth\":1,\"bordercolor\":\"rgb(17,17,17)\",\"tickwidth\":0},\"mapbox\":{\"style\":\"dark\"}}},\"xaxis\":{\"anchor\":\"y\",\"domain\":[0.0,1.0],\"title\":{\"text\":\"Feature\"}},\"yaxis\":{\"anchor\":\"x\",\"domain\":[0.0,1.0],\"title\":{\"text\":\"Linear coefficient\"}},\"legend\":{\"title\":{\"text\":\"color\"},\"tracegroupgap\":0},\"title\":{\"text\":\"Weight of each feature for error prediction\"},\"barmode\":\"relative\"},                        {\"responsive\": true}                    ).then(function(){\n                            \nvar gd = document.getElementById('d0adfaf4-c392-4f94-a7e0-73a92aedfbf9');\nvar x = new MutationObserver(function (mutations, observer) {{\n        var display = window.getComputedStyle(gd).display;\n        if (!display || display === 'none') {{\n            console.log([gd, 'removed!']);\n            Plotly.purge(gd);\n            observer.disconnect();\n        }}\n}});\n\n// Listen for the removal of the full notebook cells\nvar notebookContainer = gd.closest('#notebook-container');\nif (notebookContainer) {{\n    x.observe(notebookContainer, {childList: true});\n}}\n\n// Listen for the clearing of the current output cell\nvar outputEl = gd.closest('.output');\nif (outputEl) {{\n    x.observe(outputEl, {childList: true});\n}}\n\n                        })                };                });            </script>        </div>"
     },
     "metadata": {},
     "output_type": "display_data"
    }
   ],
   "source": [
    "colors = ['Positive' if c > 0 else 'Negative' for c in reg.coef_]\n",
    "\n",
    "fig = px.bar(\n",
    "    x=X_train.columns, y=reg.coef_, color=colors,\n",
    "    color_discrete_sequence=['green', 'red'],\n",
    "    labels=dict(x='Feature', y='Linear coefficient'),\n",
    "    title='Weight of each feature for error prediction'\n",
    ")\n",
    "fig.show()\n",
    "fig.write_image('images/linear_regression_coefficients.png')"
   ],
   "metadata": {
    "collapsed": false,
    "ExecuteTime": {
     "start_time": "2023-06-27T10:22:15.346982Z",
     "end_time": "2023-06-27T10:22:15.426739Z"
    }
   }
  },
  {
   "cell_type": "code",
   "execution_count": 78,
   "outputs": [],
   "source": [
    "prediction_df = X_test.iloc[-225:].copy()\n",
    "prediction_df['actual'] = y[-225:]\n",
    "prediction_df['prediction'] = (error_preds[-225:] + regression_preds[-225:])"
   ],
   "metadata": {
    "collapsed": false,
    "ExecuteTime": {
     "start_time": "2023-06-27T10:10:16.056939Z",
     "end_time": "2023-06-27T10:10:16.065329Z"
    }
   }
  },
  {
   "cell_type": "code",
   "execution_count": 78,
   "outputs": [],
   "source": [],
   "metadata": {
    "collapsed": false,
    "ExecuteTime": {
     "start_time": "2023-06-27T10:10:16.232236Z",
     "end_time": "2023-06-27T10:10:16.245881Z"
    }
   }
  },
  {
   "cell_type": "code",
   "execution_count": 81,
   "outputs": [
    {
     "data": {
      "application/vnd.plotly.v1+json": {
       "data": [
        {
         "hovertemplate": "actual=%{x}<br>prediction=%{y}<extra></extra>",
         "legendgroup": "",
         "marker": {
          "color": "#636efa",
          "symbol": "circle"
         },
         "mode": "markers",
         "name": "",
         "orientation": "v",
         "showlegend": false,
         "x": [
          3.5049999999999955,
          3.097999999999999,
          7.153000000000006,
          -8.197000000000003,
          5.206000000000003,
          2.988999999999997,
          -1.2779999999999987,
          -1.0549999999999997,
          -5.745999999999995,
          -3.98599999999999,
          1.4339999999999975,
          -5.305000000000007,
          2.577999999999996,
          5.008999999999993,
          -1.2430000000000092,
          0.8739999999999952,
          -2.13600000000001,
          0.05399999999999494,
          -2.6910000000000025,
          1.0480000000000018,
          -3.6229999999999905,
          -0.7680000000000007,
          0.9320000000000164,
          -2.8700000000000045,
          7.60799999999999,
          2.8640000000000043,
          7.076000000000008,
          -4.764999999999986,
          1.7659999999999911,
          -1.5040000000000049,
          -1.0999999999999943,
          8.920999999999992,
          7.905000000000001,
          8.076999999999998,
          1.8070000000000164,
          3.1829999999999927,
          10.173999999999978,
          7.22999999999999,
          0.5490000000000066,
          0.6160000000000139,
          -13.495000000000005,
          -7.604000000000013,
          3.5020000000000095,
          12.046999999999983,
          -3.6789999999999736,
          2.487999999999971,
          5.5800000000000125,
          2.998000000000019,
          0.7279999999999802,
          4.228000000000009,
          -4.397999999999996,
          3.2749999999999773,
          1.8680000000000234,
          1.434000000000026,
          4.586000000000013,
          3.5310000000000343,
          9.113999999999976,
          -0.46500000000003183,
          1.108000000000004,
          -8.905000000000001,
          -2.4200000000000443,
          1.1699999999999875,
          -0.35899999999998045,
          -3.9710000000000036,
          4.794000000000011,
          -0.9480000000000075,
          10.431000000000012,
          -3.273999999999944,
          6.173999999999978,
          -2.6290000000000475,
          -0.7620000000000289,
          -0.9890000000000043,
          -3.2579999999999814,
          1.4230000000000018,
          -0.5740000000000123,
          2.5360000000000014,
          -11.448999999999984,
          5.896000000000015,
          -3.7970000000000255,
          -8.184999999999988,
          -0.6360000000000099,
          2.112000000000023,
          7.010999999999996,
          -1.835000000000008,
          -0.005999999999971806,
          -6.499000000000024,
          7.936000000000007,
          -7.071000000000026,
          -2.7990000000000066,
          6.352999999999952,
          -2.8549999999999898,
          -0.4660000000000082,
          3.4950000000000045,
          -5.611999999999966,
          0.45100000000002183,
          6.304999999999978,
          -4.59499999999997,
          -0.2839999999999918,
          0.08199999999999363,
          3.40300000000002,
          -5.581000000000017,
          -0.5940000000000225,
          2.7569999999999766,
          10.765000000000015,
          4.717999999999961,
          3.2319999999999993,
          -2.1899999999999977,
          0.07200000000003115,
          -3.173999999999978,
          -0.7769999999999868,
          15.456999999999994,
          8.330000000000041,
          1.9019999999999868,
          1.072999999999979,
          -3.0490000000000066,
          2.1059999999999945,
          -5.483999999999952,
          -8.069000000000017,
          -6.071999999999974,
          -5.126999999999981,
          4.163000000000011,
          3.5250000000000057,
          -1.561000000000007,
          0.5170000000000243,
          -1.850999999999999,
          4.307000000000016,
          0.42499999999998295,
          5.093000000000018,
          -8.135999999999996,
          -0.0630000000000166,
          -3.914999999999992,
          4.460000000000008,
          5.039000000000016,
          6.8110000000000355,
          -4.40300000000002,
          -3.825000000000017,
          -3.412000000000006,
          -2.7269999999999754,
          -11.902999999999992,
          4.081999999999994,
          2.7409999999999854,
          -8.194999999999993,
          0.6500000000000057,
          2.8950000000000102,
          3.3290000000000077,
          -15.944000000000017,
          -3.210000000000008,
          3.3549999999999613,
          -3.3899999999999864,
          3.1210000000000093,
          -0.4410000000000309,
          -5.93799999999996,
          -10.52600000000001,
          -0.8449999999999989,
          2.4749999999999943,
          3.752999999999986,
          0.13599999999999568,
          0.4930000000000234,
          4.567000000000007,
          -2.3079999999999927,
          5.939000000000007,
          1.7689999999999912,
          1.8249999999999886,
          1.411999999999992,
          2.3510000000000275,
          -0.48599999999999,
          4.340000000000003,
          0.6370000000000005,
          1.1629999999999825,
          5.5660000000000025,
          7.618000000000009,
          -2.423000000000002,
          -0.5909999999999798,
          -1.728000000000037,
          -3.983000000000004,
          6.436999999999998,
          0.012999999999991019,
          5.623000000000005,
          -0.35599999999999454,
          -8.448000000000008,
          -0.044000000000004036,
          -7.4410000000000025,
          -2.730000000000004,
          2.9949999999999974,
          0.6269999999999882,
          0.5240000000000009,
          -0.18900000000000006,
          1.8489999999999895,
          2.8100000000000094,
          2.6799999999999997,
          0.9990000000000094,
          5.460000000000001,
          2.4879999999999995,
          -2.405000000000001,
          5.128,
          -0.11399999999999011,
          -0.17599999999999483,
          1.0170000000000101,
          0.1910000000000025,
          -0.45700000000000074,
          2.5080000000000027,
          0.43900000000000006,
          2.087999999999994,
          -2.8599999999999994,
          1.0860000000000056,
          4.471999999999994,
          -1.7689999999999984,
          -1.261999999999997,
          -1.3219999999999992,
          -2.3459999999999965,
          2.7319999999999993,
          -5.404,
          1.4080000000000013,
          -0.08500000000000085,
          5.506,
          0.5809999999999995,
          -1.4909999999999997,
          -1.1599999999999966,
          -4.138999999999998,
          0.9239999999999995,
          0.3780000000000001,
          -0.8010000000000019,
          0.5239999999999991,
          1.045,
          -0.08300000000000196
         ],
         "xaxis": "x",
         "y": [
          1.5905816531979347,
          0.5924215090756944,
          0.8151249997061208,
          -0.08684208064084054,
          1.5140016494572954,
          1.1675952371586216,
          0.6418507858926763,
          2.6932875947728276,
          1.8784348545131786,
          1.2209707506602006,
          2.9560702348798173,
          3.5210777124488493,
          2.9888318024206786,
          3.7800254664052755,
          0.8691156842397352,
          1.966014603189322,
          1.0100576833428399,
          3.4803218992383442,
          3.5741964175640986,
          2.6016445776211916,
          2.7675863355148023,
          3.2796219567418583,
          3.771489833205196,
          1.3299924662958946,
          3.185285601940566,
          -0.06677604214975169,
          2.5042980773143846,
          -3.298279782855545,
          0.12324562437807152,
          1.31253994937072,
          2.912602398927078,
          4.0502498270300915,
          0.37394262218460617,
          1.0029122873578682,
          -1.086685917905978,
          -1.8301327315368492,
          -1.434685639272114,
          2.0944956942542694,
          1.296808329017801,
          -0.9374464134458607,
          -2.3027898671263793,
          -3.8112826222535654,
          2.6224638189637144,
          -0.17015272215709998,
          -1.8618783620315877,
          -1.298551749439593,
          3.506600975825691,
          1.089907078323617,
          1.4731993141602495,
          0.1754236900075258,
          0.546943569273594,
          3.5914027689311343,
          -0.5969346101403961,
          -0.3524733704331835,
          2.8285062825906113,
          0.13106408347870557,
          -2.6749490926536725,
          -1.6938325011387638,
          0.4498529067020607,
          -4.296878122034844,
          0.9200840142670774,
          1.3293260780485552,
          -1.7311952839650901,
          0.9128976610132413,
          0.5095513055121588,
          0.4320719559548478,
          -0.7820227948242726,
          -3.825770055195815,
          0.6724465195128575,
          -4.201974585668778,
          -6.150598040047905,
          -3.037234412675703,
          -3.3035791265055714,
          0.4451249583464132,
          0.42689833281705303,
          2.0630922045674844,
          -1.0155021095703827,
          5.56119135389277,
          -2.2015414418530117,
          -1.2718356941858593,
          3.347476520378096,
          4.372958869737966,
          4.9896046059360035,
          2.6103744791287555,
          2.407411766457813,
          2.9395242366642145,
          5.574264742380035,
          2.0255746124599243,
          1.298889825463641,
          2.7671297934479755,
          0.923568687828286,
          -0.4031757970469783,
          3.304891547992297,
          -0.3201422326048837,
          0.8340417753209919,
          5.1913131152856735,
          1.6580864493645096,
          2.6956968708778732,
          1.3034858476409492,
          2.724986098936718,
          1.2018901527909414,
          1.6684441454202599,
          1.8161070144455826,
          1.9090771211338449,
          -3.090311883476226,
          -3.851393319247771,
          -0.2540803783170227,
          0.2558005831099167,
          -0.8203441009026156,
          -2.1798604740212486,
          2.6091027507142783,
          0.22322725722117642,
          -4.803752236010525,
          0.47765433924331147,
          -5.254273329716828,
          -0.5598302880001018,
          -2.6105467215502594,
          -0.5937943455348622,
          -1.5114287116555614,
          -2.2125653179505997,
          2.121508681308789,
          1.0648168259649178,
          -0.22250290395954936,
          2.777468628195421,
          -0.13107879356793983,
          2.8679146536182554,
          3.0788731044600177,
          1.6742737328594426,
          0.29772758628901363,
          4.843084853312,
          1.0270208229486468,
          2.554797025565825,
          2.1679228621446693,
          1.3692559365256547,
          -2.006063478599546,
          -4.486665831812692,
          -2.382374230567189,
          -1.9765286811261822,
          -4.58747837566605,
          -1.0907992222027973,
          -1.2069226906676538,
          -2.5426887655774992,
          -3.380680715797025,
          -1.9391677614699483,
          -2.553413055609417,
          -6.085184575355016,
          -4.942676003353659,
          -3.2093172626373447,
          -5.385469696368401,
          -2.143950042705918,
          -5.516562721197035,
          -4.891941736113837,
          -4.974982468103731,
          -3.2117762836127093,
          0.2221081034397887,
          -1.3903756296314311,
          -4.474478637257091,
          -1.0775524237848098,
          -0.5216759258575268,
          -0.28298471512166024,
          -0.7937570205049566,
          0.9317190549366401,
          -1.6891960077278556,
          -1.9076592144191329,
          -2.1491765100381217,
          -0.7714916750538849,
          -1.2893922240881637,
          -0.33331491541164987,
          0.49423965269234005,
          2.734535552135478,
          -1.8216916444896267,
          -4.749297093426067,
          0.12703351107853145,
          -3.2888384573819107,
          -1.845107394366416,
          2.1106652774235344,
          -2.3864456101965312,
          0.9208708699717398,
          0.6069025790814295,
          -3.534015236022078,
          -0.06059452926646647,
          -3.255662039821541,
          0.7482083862945819,
          0.5350651530645631,
          -0.9526635817299066,
          -0.15836701269029485,
          -0.20740624554672782,
          1.0714412319084654,
          -1.627027721453798,
          0.036955378693442564,
          -2.2858434628494644,
          -0.6505177025379979,
          -0.7009433114985816,
          -1.7392760748640397,
          -1.7480523830281331,
          -1.5219250326244844,
          -4.320964491322848,
          0.5035787193822648,
          -0.8850432539438768,
          -0.5437874084912191,
          -0.4060117029899888,
          -0.1618307763505733,
          -0.685588905498594,
          -1.476338451304729,
          0.8896842088541057,
          -0.9263436623998467,
          -2.668781016574239,
          -1.2312152761819612,
          -0.14103498284482807,
          -1.1855157097796627,
          1.2592160762888291,
          -1.2743149308494033,
          -0.2909678780787909,
          0.06757664883808334,
          0.863075907307387,
          -0.9674487212397576,
          -1.8908428499937913,
          -0.894700438332064,
          -0.7518202590222691,
          1.4034894416127746,
          -1.2126861510621847,
          0.07832353007449366,
          0.8707596958991517,
          0.8536566835272907,
          -0.00815857877560855
         ],
         "yaxis": "y",
         "type": "scatter"
        },
        {
         "alignmentgroup": "True",
         "bingroup": "x",
         "hovertemplate": "actual=%{x}<br>count=%{y}<extra></extra>",
         "legendgroup": "",
         "marker": {
          "color": "#636efa"
         },
         "name": "",
         "offsetgroup": "",
         "opacity": 0.5,
         "showlegend": false,
         "x": [
          3.5049999999999955,
          3.097999999999999,
          7.153000000000006,
          -8.197000000000003,
          5.206000000000003,
          2.988999999999997,
          -1.2779999999999987,
          -1.0549999999999997,
          -5.745999999999995,
          -3.98599999999999,
          1.4339999999999975,
          -5.305000000000007,
          2.577999999999996,
          5.008999999999993,
          -1.2430000000000092,
          0.8739999999999952,
          -2.13600000000001,
          0.05399999999999494,
          -2.6910000000000025,
          1.0480000000000018,
          -3.6229999999999905,
          -0.7680000000000007,
          0.9320000000000164,
          -2.8700000000000045,
          7.60799999999999,
          2.8640000000000043,
          7.076000000000008,
          -4.764999999999986,
          1.7659999999999911,
          -1.5040000000000049,
          -1.0999999999999943,
          8.920999999999992,
          7.905000000000001,
          8.076999999999998,
          1.8070000000000164,
          3.1829999999999927,
          10.173999999999978,
          7.22999999999999,
          0.5490000000000066,
          0.6160000000000139,
          -13.495000000000005,
          -7.604000000000013,
          3.5020000000000095,
          12.046999999999983,
          -3.6789999999999736,
          2.487999999999971,
          5.5800000000000125,
          2.998000000000019,
          0.7279999999999802,
          4.228000000000009,
          -4.397999999999996,
          3.2749999999999773,
          1.8680000000000234,
          1.434000000000026,
          4.586000000000013,
          3.5310000000000343,
          9.113999999999976,
          -0.46500000000003183,
          1.108000000000004,
          -8.905000000000001,
          -2.4200000000000443,
          1.1699999999999875,
          -0.35899999999998045,
          -3.9710000000000036,
          4.794000000000011,
          -0.9480000000000075,
          10.431000000000012,
          -3.273999999999944,
          6.173999999999978,
          -2.6290000000000475,
          -0.7620000000000289,
          -0.9890000000000043,
          -3.2579999999999814,
          1.4230000000000018,
          -0.5740000000000123,
          2.5360000000000014,
          -11.448999999999984,
          5.896000000000015,
          -3.7970000000000255,
          -8.184999999999988,
          -0.6360000000000099,
          2.112000000000023,
          7.010999999999996,
          -1.835000000000008,
          -0.005999999999971806,
          -6.499000000000024,
          7.936000000000007,
          -7.071000000000026,
          -2.7990000000000066,
          6.352999999999952,
          -2.8549999999999898,
          -0.4660000000000082,
          3.4950000000000045,
          -5.611999999999966,
          0.45100000000002183,
          6.304999999999978,
          -4.59499999999997,
          -0.2839999999999918,
          0.08199999999999363,
          3.40300000000002,
          -5.581000000000017,
          -0.5940000000000225,
          2.7569999999999766,
          10.765000000000015,
          4.717999999999961,
          3.2319999999999993,
          -2.1899999999999977,
          0.07200000000003115,
          -3.173999999999978,
          -0.7769999999999868,
          15.456999999999994,
          8.330000000000041,
          1.9019999999999868,
          1.072999999999979,
          -3.0490000000000066,
          2.1059999999999945,
          -5.483999999999952,
          -8.069000000000017,
          -6.071999999999974,
          -5.126999999999981,
          4.163000000000011,
          3.5250000000000057,
          -1.561000000000007,
          0.5170000000000243,
          -1.850999999999999,
          4.307000000000016,
          0.42499999999998295,
          5.093000000000018,
          -8.135999999999996,
          -0.0630000000000166,
          -3.914999999999992,
          4.460000000000008,
          5.039000000000016,
          6.8110000000000355,
          -4.40300000000002,
          -3.825000000000017,
          -3.412000000000006,
          -2.7269999999999754,
          -11.902999999999992,
          4.081999999999994,
          2.7409999999999854,
          -8.194999999999993,
          0.6500000000000057,
          2.8950000000000102,
          3.3290000000000077,
          -15.944000000000017,
          -3.210000000000008,
          3.3549999999999613,
          -3.3899999999999864,
          3.1210000000000093,
          -0.4410000000000309,
          -5.93799999999996,
          -10.52600000000001,
          -0.8449999999999989,
          2.4749999999999943,
          3.752999999999986,
          0.13599999999999568,
          0.4930000000000234,
          4.567000000000007,
          -2.3079999999999927,
          5.939000000000007,
          1.7689999999999912,
          1.8249999999999886,
          1.411999999999992,
          2.3510000000000275,
          -0.48599999999999,
          4.340000000000003,
          0.6370000000000005,
          1.1629999999999825,
          5.5660000000000025,
          7.618000000000009,
          -2.423000000000002,
          -0.5909999999999798,
          -1.728000000000037,
          -3.983000000000004,
          6.436999999999998,
          0.012999999999991019,
          5.623000000000005,
          -0.35599999999999454,
          -8.448000000000008,
          -0.044000000000004036,
          -7.4410000000000025,
          -2.730000000000004,
          2.9949999999999974,
          0.6269999999999882,
          0.5240000000000009,
          -0.18900000000000006,
          1.8489999999999895,
          2.8100000000000094,
          2.6799999999999997,
          0.9990000000000094,
          5.460000000000001,
          2.4879999999999995,
          -2.405000000000001,
          5.128,
          -0.11399999999999011,
          -0.17599999999999483,
          1.0170000000000101,
          0.1910000000000025,
          -0.45700000000000074,
          2.5080000000000027,
          0.43900000000000006,
          2.087999999999994,
          -2.8599999999999994,
          1.0860000000000056,
          4.471999999999994,
          -1.7689999999999984,
          -1.261999999999997,
          -1.3219999999999992,
          -2.3459999999999965,
          2.7319999999999993,
          -5.404,
          1.4080000000000013,
          -0.08500000000000085,
          5.506,
          0.5809999999999995,
          -1.4909999999999997,
          -1.1599999999999966,
          -4.138999999999998,
          0.9239999999999995,
          0.3780000000000001,
          -0.8010000000000019,
          0.5239999999999991,
          1.045,
          -0.08300000000000196
         ],
         "xaxis": "x3",
         "yaxis": "y3",
         "type": "histogram",
         "histnorm": "probability"
        },
        {
         "alignmentgroup": "True",
         "bingroup": "y",
         "hovertemplate": "prediction=%{y}<br>count=%{x}<extra></extra>",
         "legendgroup": "",
         "marker": {
          "color": "#636efa"
         },
         "name": "",
         "offsetgroup": "",
         "opacity": 0.5,
         "showlegend": false,
         "xaxis": "x2",
         "y": [
          1.5905816531979347,
          0.5924215090756944,
          0.8151249997061208,
          -0.08684208064084054,
          1.5140016494572954,
          1.1675952371586216,
          0.6418507858926763,
          2.6932875947728276,
          1.8784348545131786,
          1.2209707506602006,
          2.9560702348798173,
          3.5210777124488493,
          2.9888318024206786,
          3.7800254664052755,
          0.8691156842397352,
          1.966014603189322,
          1.0100576833428399,
          3.4803218992383442,
          3.5741964175640986,
          2.6016445776211916,
          2.7675863355148023,
          3.2796219567418583,
          3.771489833205196,
          1.3299924662958946,
          3.185285601940566,
          -0.06677604214975169,
          2.5042980773143846,
          -3.298279782855545,
          0.12324562437807152,
          1.31253994937072,
          2.912602398927078,
          4.0502498270300915,
          0.37394262218460617,
          1.0029122873578682,
          -1.086685917905978,
          -1.8301327315368492,
          -1.434685639272114,
          2.0944956942542694,
          1.296808329017801,
          -0.9374464134458607,
          -2.3027898671263793,
          -3.8112826222535654,
          2.6224638189637144,
          -0.17015272215709998,
          -1.8618783620315877,
          -1.298551749439593,
          3.506600975825691,
          1.089907078323617,
          1.4731993141602495,
          0.1754236900075258,
          0.546943569273594,
          3.5914027689311343,
          -0.5969346101403961,
          -0.3524733704331835,
          2.8285062825906113,
          0.13106408347870557,
          -2.6749490926536725,
          -1.6938325011387638,
          0.4498529067020607,
          -4.296878122034844,
          0.9200840142670774,
          1.3293260780485552,
          -1.7311952839650901,
          0.9128976610132413,
          0.5095513055121588,
          0.4320719559548478,
          -0.7820227948242726,
          -3.825770055195815,
          0.6724465195128575,
          -4.201974585668778,
          -6.150598040047905,
          -3.037234412675703,
          -3.3035791265055714,
          0.4451249583464132,
          0.42689833281705303,
          2.0630922045674844,
          -1.0155021095703827,
          5.56119135389277,
          -2.2015414418530117,
          -1.2718356941858593,
          3.347476520378096,
          4.372958869737966,
          4.9896046059360035,
          2.6103744791287555,
          2.407411766457813,
          2.9395242366642145,
          5.574264742380035,
          2.0255746124599243,
          1.298889825463641,
          2.7671297934479755,
          0.923568687828286,
          -0.4031757970469783,
          3.304891547992297,
          -0.3201422326048837,
          0.8340417753209919,
          5.1913131152856735,
          1.6580864493645096,
          2.6956968708778732,
          1.3034858476409492,
          2.724986098936718,
          1.2018901527909414,
          1.6684441454202599,
          1.8161070144455826,
          1.9090771211338449,
          -3.090311883476226,
          -3.851393319247771,
          -0.2540803783170227,
          0.2558005831099167,
          -0.8203441009026156,
          -2.1798604740212486,
          2.6091027507142783,
          0.22322725722117642,
          -4.803752236010525,
          0.47765433924331147,
          -5.254273329716828,
          -0.5598302880001018,
          -2.6105467215502594,
          -0.5937943455348622,
          -1.5114287116555614,
          -2.2125653179505997,
          2.121508681308789,
          1.0648168259649178,
          -0.22250290395954936,
          2.777468628195421,
          -0.13107879356793983,
          2.8679146536182554,
          3.0788731044600177,
          1.6742737328594426,
          0.29772758628901363,
          4.843084853312,
          1.0270208229486468,
          2.554797025565825,
          2.1679228621446693,
          1.3692559365256547,
          -2.006063478599546,
          -4.486665831812692,
          -2.382374230567189,
          -1.9765286811261822,
          -4.58747837566605,
          -1.0907992222027973,
          -1.2069226906676538,
          -2.5426887655774992,
          -3.380680715797025,
          -1.9391677614699483,
          -2.553413055609417,
          -6.085184575355016,
          -4.942676003353659,
          -3.2093172626373447,
          -5.385469696368401,
          -2.143950042705918,
          -5.516562721197035,
          -4.891941736113837,
          -4.974982468103731,
          -3.2117762836127093,
          0.2221081034397887,
          -1.3903756296314311,
          -4.474478637257091,
          -1.0775524237848098,
          -0.5216759258575268,
          -0.28298471512166024,
          -0.7937570205049566,
          0.9317190549366401,
          -1.6891960077278556,
          -1.9076592144191329,
          -2.1491765100381217,
          -0.7714916750538849,
          -1.2893922240881637,
          -0.33331491541164987,
          0.49423965269234005,
          2.734535552135478,
          -1.8216916444896267,
          -4.749297093426067,
          0.12703351107853145,
          -3.2888384573819107,
          -1.845107394366416,
          2.1106652774235344,
          -2.3864456101965312,
          0.9208708699717398,
          0.6069025790814295,
          -3.534015236022078,
          -0.06059452926646647,
          -3.255662039821541,
          0.7482083862945819,
          0.5350651530645631,
          -0.9526635817299066,
          -0.15836701269029485,
          -0.20740624554672782,
          1.0714412319084654,
          -1.627027721453798,
          0.036955378693442564,
          -2.2858434628494644,
          -0.6505177025379979,
          -0.7009433114985816,
          -1.7392760748640397,
          -1.7480523830281331,
          -1.5219250326244844,
          -4.320964491322848,
          0.5035787193822648,
          -0.8850432539438768,
          -0.5437874084912191,
          -0.4060117029899888,
          -0.1618307763505733,
          -0.685588905498594,
          -1.476338451304729,
          0.8896842088541057,
          -0.9263436623998467,
          -2.668781016574239,
          -1.2312152761819612,
          -0.14103498284482807,
          -1.1855157097796627,
          1.2592160762888291,
          -1.2743149308494033,
          -0.2909678780787909,
          0.06757664883808334,
          0.863075907307387,
          -0.9674487212397576,
          -1.8908428499937913,
          -0.894700438332064,
          -0.7518202590222691,
          1.4034894416127746,
          -1.2126861510621847,
          0.07832353007449366,
          0.8707596958991517,
          0.8536566835272907,
          -0.00815857877560855
         ],
         "yaxis": "y2",
         "type": "histogram",
         "histnorm": "probability"
        },
        {
         "hovertemplate": "<b>OLS trendline</b><br>prediction = 0.20324 * actual + -0.17626<br>R<sup>2</sup>=0.153921<br><br>actual=%{x}<br>prediction=%{y} <b>(trend)</b><extra></extra>",
         "legendgroup": "",
         "marker": {
          "color": "#636efa",
          "symbol": "circle"
         },
         "mode": "lines",
         "name": "",
         "showlegend": false,
         "x": [
          -15.944000000000017,
          -13.495000000000005,
          -11.902999999999992,
          -11.448999999999984,
          -10.52600000000001,
          -8.905000000000001,
          -8.448000000000008,
          -8.197000000000003,
          -8.194999999999993,
          -8.184999999999988,
          -8.135999999999996,
          -8.069000000000017,
          -7.604000000000013,
          -7.4410000000000025,
          -7.071000000000026,
          -6.499000000000024,
          -6.071999999999974,
          -5.93799999999996,
          -5.745999999999995,
          -5.611999999999966,
          -5.581000000000017,
          -5.483999999999952,
          -5.404,
          -5.305000000000007,
          -5.126999999999981,
          -4.764999999999986,
          -4.59499999999997,
          -4.40300000000002,
          -4.397999999999996,
          -4.138999999999998,
          -3.98599999999999,
          -3.983000000000004,
          -3.9710000000000036,
          -3.914999999999992,
          -3.825000000000017,
          -3.7970000000000255,
          -3.6789999999999736,
          -3.6229999999999905,
          -3.412000000000006,
          -3.3899999999999864,
          -3.273999999999944,
          -3.2579999999999814,
          -3.210000000000008,
          -3.173999999999978,
          -3.0490000000000066,
          -2.8700000000000045,
          -2.8599999999999994,
          -2.8549999999999898,
          -2.7990000000000066,
          -2.730000000000004,
          -2.7269999999999754,
          -2.6910000000000025,
          -2.6290000000000475,
          -2.423000000000002,
          -2.4200000000000443,
          -2.405000000000001,
          -2.3459999999999965,
          -2.3079999999999927,
          -2.1899999999999977,
          -2.13600000000001,
          -1.850999999999999,
          -1.835000000000008,
          -1.7689999999999984,
          -1.728000000000037,
          -1.561000000000007,
          -1.5040000000000049,
          -1.4909999999999997,
          -1.3219999999999992,
          -1.2779999999999987,
          -1.261999999999997,
          -1.2430000000000092,
          -1.1599999999999966,
          -1.0999999999999943,
          -1.0549999999999997,
          -0.9890000000000043,
          -0.9480000000000075,
          -0.8449999999999989,
          -0.8010000000000019,
          -0.7769999999999868,
          -0.7680000000000007,
          -0.7620000000000289,
          -0.6360000000000099,
          -0.5940000000000225,
          -0.5909999999999798,
          -0.5740000000000123,
          -0.48599999999999,
          -0.4660000000000082,
          -0.46500000000003183,
          -0.45700000000000074,
          -0.4410000000000309,
          -0.35899999999998045,
          -0.35599999999999454,
          -0.2839999999999918,
          -0.18900000000000006,
          -0.17599999999999483,
          -0.11399999999999011,
          -0.08500000000000085,
          -0.08300000000000196,
          -0.0630000000000166,
          -0.044000000000004036,
          -0.005999999999971806,
          0.012999999999991019,
          0.05399999999999494,
          0.07200000000003115,
          0.08199999999999363,
          0.13599999999999568,
          0.1910000000000025,
          0.3780000000000001,
          0.42499999999998295,
          0.43900000000000006,
          0.45100000000002183,
          0.4930000000000234,
          0.5170000000000243,
          0.5239999999999991,
          0.5240000000000009,
          0.5490000000000066,
          0.5809999999999995,
          0.6160000000000139,
          0.6269999999999882,
          0.6370000000000005,
          0.6500000000000057,
          0.7279999999999802,
          0.8739999999999952,
          0.9239999999999995,
          0.9320000000000164,
          0.9990000000000094,
          1.0170000000000101,
          1.045,
          1.0480000000000018,
          1.072999999999979,
          1.0860000000000056,
          1.108000000000004,
          1.1629999999999825,
          1.1699999999999875,
          1.4080000000000013,
          1.411999999999992,
          1.4230000000000018,
          1.4339999999999975,
          1.434000000000026,
          1.7659999999999911,
          1.7689999999999912,
          1.8070000000000164,
          1.8249999999999886,
          1.8489999999999895,
          1.8680000000000234,
          1.9019999999999868,
          2.087999999999994,
          2.1059999999999945,
          2.112000000000023,
          2.3510000000000275,
          2.4749999999999943,
          2.487999999999971,
          2.4879999999999995,
          2.5080000000000027,
          2.5360000000000014,
          2.577999999999996,
          2.6799999999999997,
          2.7319999999999993,
          2.7409999999999854,
          2.7569999999999766,
          2.8100000000000094,
          2.8640000000000043,
          2.8950000000000102,
          2.988999999999997,
          2.9949999999999974,
          2.998000000000019,
          3.097999999999999,
          3.1210000000000093,
          3.1829999999999927,
          3.2319999999999993,
          3.2749999999999773,
          3.3290000000000077,
          3.3549999999999613,
          3.40300000000002,
          3.4950000000000045,
          3.5020000000000095,
          3.5049999999999955,
          3.5250000000000057,
          3.5310000000000343,
          3.752999999999986,
          4.081999999999994,
          4.163000000000011,
          4.228000000000009,
          4.307000000000016,
          4.340000000000003,
          4.460000000000008,
          4.471999999999994,
          4.567000000000007,
          4.586000000000013,
          4.717999999999961,
          4.794000000000011,
          5.008999999999993,
          5.039000000000016,
          5.093000000000018,
          5.128,
          5.206000000000003,
          5.460000000000001,
          5.506,
          5.5660000000000025,
          5.5800000000000125,
          5.623000000000005,
          5.896000000000015,
          5.939000000000007,
          6.173999999999978,
          6.304999999999978,
          6.352999999999952,
          6.436999999999998,
          6.8110000000000355,
          7.010999999999996,
          7.076000000000008,
          7.153000000000006,
          7.22999999999999,
          7.60799999999999,
          7.618000000000009,
          7.905000000000001,
          7.936000000000007,
          8.076999999999998,
          8.330000000000041,
          8.920999999999992,
          9.113999999999976,
          10.173999999999978,
          10.431000000000012,
          10.765000000000015,
          12.046999999999983,
          15.456999999999994
         ],
         "xaxis": "x",
         "y": [
          -3.4167109736529007,
          -2.9189773280332707,
          -2.595419972448765,
          -2.5031492190345905,
          -2.3155591190317715,
          -1.9861078166432782,
          -1.8932273445942105,
          -1.8422142188079593,
          -1.8418077397180272,
          -1.8397753442683746,
          -1.8298166065650845,
          -1.8161995570524243,
          -1.7216931686436336,
          -1.6885651228143137,
          -1.6133664911772168,
          -1.4971134714571561,
          -1.4103301857570314,
          -1.3830960867316997,
          -1.3440740940984,
          -1.3168399950730654,
          -1.3105395691791566,
          -1.2908253333175246,
          -1.2745661697203232,
          -1.2544454547687758,
          -1.2182688157649757,
          -1.144696100487596,
          -1.110145377843519,
          -1.0711233852102222,
          -1.0701071874853918,
          -1.0174681453394208,
          -0.9863724949597529,
          -0.9857627763248603,
          -0.9833239017852785,
          -0.9719424872672283,
          -0.9536509282203709,
          -0.9479602209613487,
          -0.9239779546554516,
          -0.9125965401374072,
          -0.8697129961497659,
          -0.8652417261605287,
          -0.841665938944564,
          -0.8384141062251294,
          -0.828658608066808,
          -0.821341984448057,
          -0.7959370413274202,
          -0.7595571627786598,
          -0.7575247673290073,
          -0.7565085696041797,
          -0.7451271550861353,
          -0.7311036264835401,
          -0.7304939078486389,
          -0.7231772842298994,
          -0.7105764324420698,
          -0.6687090861792416,
          -0.6680993675443548,
          -0.665050774369869,
          -0.6530596412169248,
          -0.6453365385082487,
          -0.6213542722023633,
          -0.6103793367742482,
          -0.5524560664591811,
          -0.5492042337397407,
          -0.5357904237720394,
          -0.5274576024284766,
          -0.4935165984192922,
          -0.48193194435627873,
          -0.4792898302717309,
          -0.44494234717262215,
          -0.4359998071941559,
          -0.43274797447471325,
          -0.42888642312037817,
          -0.412017540888269,
          -0.3998231681903601,
          -0.3906773886669299,
          -0.37726357869923166,
          -0.3689307573556615,
          -0.34799708422425035,
          -0.33905454424578485,
          -0.3341767951666184,
          -0.332347639261935,
          -0.3311282019921499,
          -0.3055200193265384,
          -0.29698395843800507,
          -0.29637423980310096,
          -0.2929191675387002,
          -0.2750340875817634,
          -0.2709692966824643,
          -0.27076605713750396,
          -0.2691401407777765,
          -0.2658883080583404,
          -0.24922266537118867,
          -0.2486129467362961,
          -0.23397969949880548,
          -0.21467194272711887,
          -0.212029828642571,
          -0.19942897685473138,
          -0.1935350300507445,
          -0.19312855096081444,
          -0.18906376006151462,
          -0.1852022087071744,
          -0.17747910599849254,
          -0.17361755464416245,
          -0.1652847333005909,
          -0.16162642149121104,
          -0.15959402604156725,
          -0.1486190906134493,
          -0.1374409156403652,
          -0.09943512073188455,
          -0.08988286211852646,
          -0.08703750848901103,
          -0.08459863394942492,
          -0.07606257306088873,
          -0.07118482398172518,
          -0.06976214716697433,
          -0.06976214716697397,
          -0.06468115854284431,
          -0.05817749310396128,
          -0.05106410903017847,
          -0.04882847403556714,
          -0.04679607858591325,
          -0.044153964501365384,
          -0.028301279994089656,
          0.001371693570823812,
          0.011533670819081687,
          0.01315958717880622,
          0.02677663669146918,
          0.030434948500841857,
          0.036125655759863706,
          0.03673537439475949,
          0.04181636301888336,
          0.04445847710343559,
          0.04892974709266834,
          0.060107922065746666,
          0.06153059888050366,
          0.10990161058220974,
          0.1107145687620684,
          0.11295020375668693,
          0.11518583875130259,
          0.11518583875130836,
          0.18266136767972777,
          0.18327108631462316,
          0.1909941890233036,
          0.19465250083267047,
          0.19953024991183402,
          0.2033918012661786,
          0.21030194579498587,
          0.24810450115850333,
          0.25176281296787595,
          0.2529822502376726,
          0.301556501484342,
          0.3267582050600125,
          0.3294003191445546,
          0.32940031914456036,
          0.3334651100438638,
          0.33915581730288746,
          0.3476918781914222,
          0.36842231177786733,
          0.3789907681160545,
          0.38081992402073794,
          0.38407175674017835,
          0.3948434526233374,
          0.405818388051454,
          0.41211881394537453,
          0.431223331172095,
          0.4324427684418859,
          0.4330524870767857,
          0.4533764415732956,
          0.45805095110749594,
          0.47065180289533115,
          0.4806105405986244,
          0.489349841032121,
          0.5003247764602446,
          0.5056090046293289,
          0.5153645027876675,
          0.5340625409244573,
          0.5354852177392142,
          0.5360949363741068,
          0.5401597272734117,
          0.5413791645432083,
          0.5864983435254595,
          0.6533641538189922,
          0.669826556961172,
          0.6830371273839055,
          0.6990930514361532,
          0.7057999564200002,
          0.7301887018158179,
          0.7326275763553968,
          0.7519353331270877,
          0.7557968844814265,
          0.7826245044168144,
          0.7980707098341753,
          0.8417672120016766,
          0.8478643983506355,
          0.8588393337787534,
          0.8659527178525297,
          0.8818054023598112,
          0.9334282467809563,
          0.9427772658493525,
          0.9549716385472615,
          0.9578169921767754,
          0.9665562926102749,
          1.0220406883857602,
          1.0307799888192595,
          1.0785412818860616,
          1.105165662276495,
          1.1149211604348161,
          1.1319932822118972,
          1.2080048720288672,
          1.2486527810218873,
          1.2618633514446236,
          1.277512796406939,
          1.2931622413692516,
          1.3699867893660744,
          1.3720191848157297,
          1.4303489342207234,
          1.4366493601146437,
          1.4653061359547268,
          1.5167257408309158,
          1.6368403119053037,
          1.6760655440835723,
          1.891499461746621,
          1.9437320248026686,
          2.011614032821026,
          2.272167129466329,
          2.965213977797458
         ],
         "yaxis": "y",
         "type": "scatter"
        }
       ],
       "layout": {
        "template": {
         "data": {
          "histogram2dcontour": [
           {
            "type": "histogram2dcontour",
            "colorbar": {
             "outlinewidth": 0,
             "ticks": ""
            },
            "colorscale": [
             [
              0.0,
              "#0d0887"
             ],
             [
              0.1111111111111111,
              "#46039f"
             ],
             [
              0.2222222222222222,
              "#7201a8"
             ],
             [
              0.3333333333333333,
              "#9c179e"
             ],
             [
              0.4444444444444444,
              "#bd3786"
             ],
             [
              0.5555555555555556,
              "#d8576b"
             ],
             [
              0.6666666666666666,
              "#ed7953"
             ],
             [
              0.7777777777777778,
              "#fb9f3a"
             ],
             [
              0.8888888888888888,
              "#fdca26"
             ],
             [
              1.0,
              "#f0f921"
             ]
            ]
           }
          ],
          "choropleth": [
           {
            "type": "choropleth",
            "colorbar": {
             "outlinewidth": 0,
             "ticks": ""
            }
           }
          ],
          "histogram2d": [
           {
            "type": "histogram2d",
            "colorbar": {
             "outlinewidth": 0,
             "ticks": ""
            },
            "colorscale": [
             [
              0.0,
              "#0d0887"
             ],
             [
              0.1111111111111111,
              "#46039f"
             ],
             [
              0.2222222222222222,
              "#7201a8"
             ],
             [
              0.3333333333333333,
              "#9c179e"
             ],
             [
              0.4444444444444444,
              "#bd3786"
             ],
             [
              0.5555555555555556,
              "#d8576b"
             ],
             [
              0.6666666666666666,
              "#ed7953"
             ],
             [
              0.7777777777777778,
              "#fb9f3a"
             ],
             [
              0.8888888888888888,
              "#fdca26"
             ],
             [
              1.0,
              "#f0f921"
             ]
            ]
           }
          ],
          "heatmap": [
           {
            "type": "heatmap",
            "colorbar": {
             "outlinewidth": 0,
             "ticks": ""
            },
            "colorscale": [
             [
              0.0,
              "#0d0887"
             ],
             [
              0.1111111111111111,
              "#46039f"
             ],
             [
              0.2222222222222222,
              "#7201a8"
             ],
             [
              0.3333333333333333,
              "#9c179e"
             ],
             [
              0.4444444444444444,
              "#bd3786"
             ],
             [
              0.5555555555555556,
              "#d8576b"
             ],
             [
              0.6666666666666666,
              "#ed7953"
             ],
             [
              0.7777777777777778,
              "#fb9f3a"
             ],
             [
              0.8888888888888888,
              "#fdca26"
             ],
             [
              1.0,
              "#f0f921"
             ]
            ]
           }
          ],
          "heatmapgl": [
           {
            "type": "heatmapgl",
            "colorbar": {
             "outlinewidth": 0,
             "ticks": ""
            },
            "colorscale": [
             [
              0.0,
              "#0d0887"
             ],
             [
              0.1111111111111111,
              "#46039f"
             ],
             [
              0.2222222222222222,
              "#7201a8"
             ],
             [
              0.3333333333333333,
              "#9c179e"
             ],
             [
              0.4444444444444444,
              "#bd3786"
             ],
             [
              0.5555555555555556,
              "#d8576b"
             ],
             [
              0.6666666666666666,
              "#ed7953"
             ],
             [
              0.7777777777777778,
              "#fb9f3a"
             ],
             [
              0.8888888888888888,
              "#fdca26"
             ],
             [
              1.0,
              "#f0f921"
             ]
            ]
           }
          ],
          "contourcarpet": [
           {
            "type": "contourcarpet",
            "colorbar": {
             "outlinewidth": 0,
             "ticks": ""
            }
           }
          ],
          "contour": [
           {
            "type": "contour",
            "colorbar": {
             "outlinewidth": 0,
             "ticks": ""
            },
            "colorscale": [
             [
              0.0,
              "#0d0887"
             ],
             [
              0.1111111111111111,
              "#46039f"
             ],
             [
              0.2222222222222222,
              "#7201a8"
             ],
             [
              0.3333333333333333,
              "#9c179e"
             ],
             [
              0.4444444444444444,
              "#bd3786"
             ],
             [
              0.5555555555555556,
              "#d8576b"
             ],
             [
              0.6666666666666666,
              "#ed7953"
             ],
             [
              0.7777777777777778,
              "#fb9f3a"
             ],
             [
              0.8888888888888888,
              "#fdca26"
             ],
             [
              1.0,
              "#f0f921"
             ]
            ]
           }
          ],
          "surface": [
           {
            "type": "surface",
            "colorbar": {
             "outlinewidth": 0,
             "ticks": ""
            },
            "colorscale": [
             [
              0.0,
              "#0d0887"
             ],
             [
              0.1111111111111111,
              "#46039f"
             ],
             [
              0.2222222222222222,
              "#7201a8"
             ],
             [
              0.3333333333333333,
              "#9c179e"
             ],
             [
              0.4444444444444444,
              "#bd3786"
             ],
             [
              0.5555555555555556,
              "#d8576b"
             ],
             [
              0.6666666666666666,
              "#ed7953"
             ],
             [
              0.7777777777777778,
              "#fb9f3a"
             ],
             [
              0.8888888888888888,
              "#fdca26"
             ],
             [
              1.0,
              "#f0f921"
             ]
            ]
           }
          ],
          "mesh3d": [
           {
            "type": "mesh3d",
            "colorbar": {
             "outlinewidth": 0,
             "ticks": ""
            }
           }
          ],
          "scatter": [
           {
            "marker": {
             "line": {
              "color": "#283442"
             }
            },
            "type": "scatter"
           }
          ],
          "parcoords": [
           {
            "type": "parcoords",
            "line": {
             "colorbar": {
              "outlinewidth": 0,
              "ticks": ""
             }
            }
           }
          ],
          "scatterpolargl": [
           {
            "type": "scatterpolargl",
            "marker": {
             "colorbar": {
              "outlinewidth": 0,
              "ticks": ""
             }
            }
           }
          ],
          "bar": [
           {
            "error_x": {
             "color": "#f2f5fa"
            },
            "error_y": {
             "color": "#f2f5fa"
            },
            "marker": {
             "line": {
              "color": "rgb(17,17,17)",
              "width": 0.5
             },
             "pattern": {
              "fillmode": "overlay",
              "size": 10,
              "solidity": 0.2
             }
            },
            "type": "bar"
           }
          ],
          "scattergeo": [
           {
            "type": "scattergeo",
            "marker": {
             "colorbar": {
              "outlinewidth": 0,
              "ticks": ""
             }
            }
           }
          ],
          "scatterpolar": [
           {
            "type": "scatterpolar",
            "marker": {
             "colorbar": {
              "outlinewidth": 0,
              "ticks": ""
             }
            }
           }
          ],
          "histogram": [
           {
            "marker": {
             "pattern": {
              "fillmode": "overlay",
              "size": 10,
              "solidity": 0.2
             }
            },
            "type": "histogram"
           }
          ],
          "scattergl": [
           {
            "marker": {
             "line": {
              "color": "#283442"
             }
            },
            "type": "scattergl"
           }
          ],
          "scatter3d": [
           {
            "type": "scatter3d",
            "line": {
             "colorbar": {
              "outlinewidth": 0,
              "ticks": ""
             }
            },
            "marker": {
             "colorbar": {
              "outlinewidth": 0,
              "ticks": ""
             }
            }
           }
          ],
          "scattermapbox": [
           {
            "type": "scattermapbox",
            "marker": {
             "colorbar": {
              "outlinewidth": 0,
              "ticks": ""
             }
            }
           }
          ],
          "scatterternary": [
           {
            "type": "scatterternary",
            "marker": {
             "colorbar": {
              "outlinewidth": 0,
              "ticks": ""
             }
            }
           }
          ],
          "scattercarpet": [
           {
            "type": "scattercarpet",
            "marker": {
             "colorbar": {
              "outlinewidth": 0,
              "ticks": ""
             }
            }
           }
          ],
          "carpet": [
           {
            "aaxis": {
             "endlinecolor": "#A2B1C6",
             "gridcolor": "#506784",
             "linecolor": "#506784",
             "minorgridcolor": "#506784",
             "startlinecolor": "#A2B1C6"
            },
            "baxis": {
             "endlinecolor": "#A2B1C6",
             "gridcolor": "#506784",
             "linecolor": "#506784",
             "minorgridcolor": "#506784",
             "startlinecolor": "#A2B1C6"
            },
            "type": "carpet"
           }
          ],
          "table": [
           {
            "cells": {
             "fill": {
              "color": "#506784"
             },
             "line": {
              "color": "rgb(17,17,17)"
             }
            },
            "header": {
             "fill": {
              "color": "#2a3f5f"
             },
             "line": {
              "color": "rgb(17,17,17)"
             }
            },
            "type": "table"
           }
          ],
          "barpolar": [
           {
            "marker": {
             "line": {
              "color": "rgb(17,17,17)",
              "width": 0.5
             },
             "pattern": {
              "fillmode": "overlay",
              "size": 10,
              "solidity": 0.2
             }
            },
            "type": "barpolar"
           }
          ],
          "pie": [
           {
            "automargin": true,
            "type": "pie"
           }
          ]
         },
         "layout": {
          "autotypenumbers": "strict",
          "colorway": [
           "#636efa",
           "#EF553B",
           "#00cc96",
           "#ab63fa",
           "#FFA15A",
           "#19d3f3",
           "#FF6692",
           "#B6E880",
           "#FF97FF",
           "#FECB52"
          ],
          "font": {
           "color": "#f2f5fa"
          },
          "hovermode": "closest",
          "hoverlabel": {
           "align": "left"
          },
          "paper_bgcolor": "rgb(17,17,17)",
          "plot_bgcolor": "rgb(17,17,17)",
          "polar": {
           "bgcolor": "rgb(17,17,17)",
           "angularaxis": {
            "gridcolor": "#506784",
            "linecolor": "#506784",
            "ticks": ""
           },
           "radialaxis": {
            "gridcolor": "#506784",
            "linecolor": "#506784",
            "ticks": ""
           }
          },
          "ternary": {
           "bgcolor": "rgb(17,17,17)",
           "aaxis": {
            "gridcolor": "#506784",
            "linecolor": "#506784",
            "ticks": ""
           },
           "baxis": {
            "gridcolor": "#506784",
            "linecolor": "#506784",
            "ticks": ""
           },
           "caxis": {
            "gridcolor": "#506784",
            "linecolor": "#506784",
            "ticks": ""
           }
          },
          "coloraxis": {
           "colorbar": {
            "outlinewidth": 0,
            "ticks": ""
           }
          },
          "colorscale": {
           "sequential": [
            [
             0.0,
             "#0d0887"
            ],
            [
             0.1111111111111111,
             "#46039f"
            ],
            [
             0.2222222222222222,
             "#7201a8"
            ],
            [
             0.3333333333333333,
             "#9c179e"
            ],
            [
             0.4444444444444444,
             "#bd3786"
            ],
            [
             0.5555555555555556,
             "#d8576b"
            ],
            [
             0.6666666666666666,
             "#ed7953"
            ],
            [
             0.7777777777777778,
             "#fb9f3a"
            ],
            [
             0.8888888888888888,
             "#fdca26"
            ],
            [
             1.0,
             "#f0f921"
            ]
           ],
           "sequentialminus": [
            [
             0.0,
             "#0d0887"
            ],
            [
             0.1111111111111111,
             "#46039f"
            ],
            [
             0.2222222222222222,
             "#7201a8"
            ],
            [
             0.3333333333333333,
             "#9c179e"
            ],
            [
             0.4444444444444444,
             "#bd3786"
            ],
            [
             0.5555555555555556,
             "#d8576b"
            ],
            [
             0.6666666666666666,
             "#ed7953"
            ],
            [
             0.7777777777777778,
             "#fb9f3a"
            ],
            [
             0.8888888888888888,
             "#fdca26"
            ],
            [
             1.0,
             "#f0f921"
            ]
           ],
           "diverging": [
            [
             0,
             "#8e0152"
            ],
            [
             0.1,
             "#c51b7d"
            ],
            [
             0.2,
             "#de77ae"
            ],
            [
             0.3,
             "#f1b6da"
            ],
            [
             0.4,
             "#fde0ef"
            ],
            [
             0.5,
             "#f7f7f7"
            ],
            [
             0.6,
             "#e6f5d0"
            ],
            [
             0.7,
             "#b8e186"
            ],
            [
             0.8,
             "#7fbc41"
            ],
            [
             0.9,
             "#4d9221"
            ],
            [
             1,
             "#276419"
            ]
           ]
          },
          "xaxis": {
           "gridcolor": "#283442",
           "linecolor": "#506784",
           "ticks": "",
           "title": {
            "standoff": 15
           },
           "zerolinecolor": "#283442",
           "automargin": true,
           "zerolinewidth": 2
          },
          "yaxis": {
           "gridcolor": "#283442",
           "linecolor": "#506784",
           "ticks": "",
           "title": {
            "standoff": 15
           },
           "zerolinecolor": "#283442",
           "automargin": true,
           "zerolinewidth": 2
          },
          "scene": {
           "xaxis": {
            "backgroundcolor": "rgb(17,17,17)",
            "gridcolor": "#506784",
            "linecolor": "#506784",
            "showbackground": true,
            "ticks": "",
            "zerolinecolor": "#C8D4E3",
            "gridwidth": 2
           },
           "yaxis": {
            "backgroundcolor": "rgb(17,17,17)",
            "gridcolor": "#506784",
            "linecolor": "#506784",
            "showbackground": true,
            "ticks": "",
            "zerolinecolor": "#C8D4E3",
            "gridwidth": 2
           },
           "zaxis": {
            "backgroundcolor": "rgb(17,17,17)",
            "gridcolor": "#506784",
            "linecolor": "#506784",
            "showbackground": true,
            "ticks": "",
            "zerolinecolor": "#C8D4E3",
            "gridwidth": 2
           }
          },
          "shapedefaults": {
           "line": {
            "color": "#f2f5fa"
           }
          },
          "annotationdefaults": {
           "arrowcolor": "#f2f5fa",
           "arrowhead": 0,
           "arrowwidth": 1
          },
          "geo": {
           "bgcolor": "rgb(17,17,17)",
           "landcolor": "rgb(17,17,17)",
           "subunitcolor": "#506784",
           "showland": true,
           "showlakes": true,
           "lakecolor": "rgb(17,17,17)"
          },
          "title": {
           "x": 0.05
          },
          "updatemenudefaults": {
           "bgcolor": "#506784",
           "borderwidth": 0
          },
          "sliderdefaults": {
           "bgcolor": "#C8D4E3",
           "borderwidth": 1,
           "bordercolor": "rgb(17,17,17)",
           "tickwidth": 0
          },
          "mapbox": {
           "style": "dark"
          }
         }
        },
        "xaxis": {
         "anchor": "y",
         "domain": [
          0.0,
          0.7363
         ],
         "title": {
          "text": "actual"
         }
        },
        "yaxis": {
         "anchor": "x",
         "domain": [
          0.0,
          0.7326
         ],
         "title": {
          "text": "prediction"
         }
        },
        "xaxis2": {
         "anchor": "y2",
         "domain": [
          0.7413,
          1.0
         ],
         "matches": "x2",
         "showticklabels": false,
         "showline": false,
         "ticks": "",
         "showgrid": true
        },
        "yaxis2": {
         "anchor": "x2",
         "domain": [
          0.0,
          0.7326
         ],
         "matches": "y",
         "showticklabels": false,
         "showgrid": true
        },
        "xaxis3": {
         "anchor": "y3",
         "domain": [
          0.0,
          0.7363
         ],
         "matches": "x",
         "showticklabels": false,
         "showgrid": true
        },
        "yaxis3": {
         "anchor": "x3",
         "domain": [
          0.7426,
          1.0
         ],
         "matches": "y3",
         "showticklabels": false,
         "showline": false,
         "ticks": "",
         "showgrid": true
        },
        "xaxis4": {
         "anchor": "y4",
         "domain": [
          0.7413,
          1.0
         ],
         "matches": "x2",
         "showticklabels": false,
         "showgrid": true,
         "showline": false,
         "ticks": ""
        },
        "yaxis4": {
         "anchor": "x4",
         "domain": [
          0.7426,
          1.0
         ],
         "matches": "y3",
         "showticklabels": false,
         "showline": false,
         "ticks": "",
         "showgrid": true
        },
        "legend": {
         "tracegroupgap": 0
        },
        "margin": {
         "t": 60
        },
        "barmode": "overlay",
        "shapes": [
         {
          "line": {
           "dash": "dash"
          },
          "type": "line",
          "x0": -11.99189635449704,
          "x1": 16.94520839544012,
          "y0": -11.99189635449704,
          "y1": 16.94520839544012
         }
        ]
       },
       "config": {
        "plotlyServerURL": "https://plot.ly"
       }
      },
      "text/html": "<div>                            <div id=\"fb177587-04d4-4caa-998e-c3e59d0ae6f3\" class=\"plotly-graph-div\" style=\"height:525px; width:100%;\"></div>            <script type=\"text/javascript\">                require([\"plotly\"], function(Plotly) {                    window.PLOTLYENV=window.PLOTLYENV || {};                                    if (document.getElementById(\"fb177587-04d4-4caa-998e-c3e59d0ae6f3\")) {                    Plotly.newPlot(                        \"fb177587-04d4-4caa-998e-c3e59d0ae6f3\",                        [{\"hovertemplate\":\"actual=%{x}<br>prediction=%{y}<extra></extra>\",\"legendgroup\":\"\",\"marker\":{\"color\":\"#636efa\",\"symbol\":\"circle\"},\"mode\":\"markers\",\"name\":\"\",\"orientation\":\"v\",\"showlegend\":false,\"x\":[3.5049999999999955,3.097999999999999,7.153000000000006,-8.197000000000003,5.206000000000003,2.988999999999997,-1.2779999999999987,-1.0549999999999997,-5.745999999999995,-3.98599999999999,1.4339999999999975,-5.305000000000007,2.577999999999996,5.008999999999993,-1.2430000000000092,0.8739999999999952,-2.13600000000001,0.05399999999999494,-2.6910000000000025,1.0480000000000018,-3.6229999999999905,-0.7680000000000007,0.9320000000000164,-2.8700000000000045,7.60799999999999,2.8640000000000043,7.076000000000008,-4.764999999999986,1.7659999999999911,-1.5040000000000049,-1.0999999999999943,8.920999999999992,7.905000000000001,8.076999999999998,1.8070000000000164,3.1829999999999927,10.173999999999978,7.22999999999999,0.5490000000000066,0.6160000000000139,-13.495000000000005,-7.604000000000013,3.5020000000000095,12.046999999999983,-3.6789999999999736,2.487999999999971,5.5800000000000125,2.998000000000019,0.7279999999999802,4.228000000000009,-4.397999999999996,3.2749999999999773,1.8680000000000234,1.434000000000026,4.586000000000013,3.5310000000000343,9.113999999999976,-0.46500000000003183,1.108000000000004,-8.905000000000001,-2.4200000000000443,1.1699999999999875,-0.35899999999998045,-3.9710000000000036,4.794000000000011,-0.9480000000000075,10.431000000000012,-3.273999999999944,6.173999999999978,-2.6290000000000475,-0.7620000000000289,-0.9890000000000043,-3.2579999999999814,1.4230000000000018,-0.5740000000000123,2.5360000000000014,-11.448999999999984,5.896000000000015,-3.7970000000000255,-8.184999999999988,-0.6360000000000099,2.112000000000023,7.010999999999996,-1.835000000000008,-0.005999999999971806,-6.499000000000024,7.936000000000007,-7.071000000000026,-2.7990000000000066,6.352999999999952,-2.8549999999999898,-0.4660000000000082,3.4950000000000045,-5.611999999999966,0.45100000000002183,6.304999999999978,-4.59499999999997,-0.2839999999999918,0.08199999999999363,3.40300000000002,-5.581000000000017,-0.5940000000000225,2.7569999999999766,10.765000000000015,4.717999999999961,3.2319999999999993,-2.1899999999999977,0.07200000000003115,-3.173999999999978,-0.7769999999999868,15.456999999999994,8.330000000000041,1.9019999999999868,1.072999999999979,-3.0490000000000066,2.1059999999999945,-5.483999999999952,-8.069000000000017,-6.071999999999974,-5.126999999999981,4.163000000000011,3.5250000000000057,-1.561000000000007,0.5170000000000243,-1.850999999999999,4.307000000000016,0.42499999999998295,5.093000000000018,-8.135999999999996,-0.0630000000000166,-3.914999999999992,4.460000000000008,5.039000000000016,6.8110000000000355,-4.40300000000002,-3.825000000000017,-3.412000000000006,-2.7269999999999754,-11.902999999999992,4.081999999999994,2.7409999999999854,-8.194999999999993,0.6500000000000057,2.8950000000000102,3.3290000000000077,-15.944000000000017,-3.210000000000008,3.3549999999999613,-3.3899999999999864,3.1210000000000093,-0.4410000000000309,-5.93799999999996,-10.52600000000001,-0.8449999999999989,2.4749999999999943,3.752999999999986,0.13599999999999568,0.4930000000000234,4.567000000000007,-2.3079999999999927,5.939000000000007,1.7689999999999912,1.8249999999999886,1.411999999999992,2.3510000000000275,-0.48599999999999,4.340000000000003,0.6370000000000005,1.1629999999999825,5.5660000000000025,7.618000000000009,-2.423000000000002,-0.5909999999999798,-1.728000000000037,-3.983000000000004,6.436999999999998,0.012999999999991019,5.623000000000005,-0.35599999999999454,-8.448000000000008,-0.044000000000004036,-7.4410000000000025,-2.730000000000004,2.9949999999999974,0.6269999999999882,0.5240000000000009,-0.18900000000000006,1.8489999999999895,2.8100000000000094,2.6799999999999997,0.9990000000000094,5.460000000000001,2.4879999999999995,-2.405000000000001,5.128,-0.11399999999999011,-0.17599999999999483,1.0170000000000101,0.1910000000000025,-0.45700000000000074,2.5080000000000027,0.43900000000000006,2.087999999999994,-2.8599999999999994,1.0860000000000056,4.471999999999994,-1.7689999999999984,-1.261999999999997,-1.3219999999999992,-2.3459999999999965,2.7319999999999993,-5.404,1.4080000000000013,-0.08500000000000085,5.506,0.5809999999999995,-1.4909999999999997,-1.1599999999999966,-4.138999999999998,0.9239999999999995,0.3780000000000001,-0.8010000000000019,0.5239999999999991,1.045,-0.08300000000000196],\"xaxis\":\"x\",\"y\":[1.5905816531979347,0.5924215090756944,0.8151249997061208,-0.08684208064084054,1.5140016494572954,1.1675952371586216,0.6418507858926763,2.6932875947728276,1.8784348545131786,1.2209707506602006,2.9560702348798173,3.5210777124488493,2.9888318024206786,3.7800254664052755,0.8691156842397352,1.966014603189322,1.0100576833428399,3.4803218992383442,3.5741964175640986,2.6016445776211916,2.7675863355148023,3.2796219567418583,3.771489833205196,1.3299924662958946,3.185285601940566,-0.06677604214975169,2.5042980773143846,-3.298279782855545,0.12324562437807152,1.31253994937072,2.912602398927078,4.0502498270300915,0.37394262218460617,1.0029122873578682,-1.086685917905978,-1.8301327315368492,-1.434685639272114,2.0944956942542694,1.296808329017801,-0.9374464134458607,-2.3027898671263793,-3.8112826222535654,2.6224638189637144,-0.17015272215709998,-1.8618783620315877,-1.298551749439593,3.506600975825691,1.089907078323617,1.4731993141602495,0.1754236900075258,0.546943569273594,3.5914027689311343,-0.5969346101403961,-0.3524733704331835,2.8285062825906113,0.13106408347870557,-2.6749490926536725,-1.6938325011387638,0.4498529067020607,-4.296878122034844,0.9200840142670774,1.3293260780485552,-1.7311952839650901,0.9128976610132413,0.5095513055121588,0.4320719559548478,-0.7820227948242726,-3.825770055195815,0.6724465195128575,-4.201974585668778,-6.150598040047905,-3.037234412675703,-3.3035791265055714,0.4451249583464132,0.42689833281705303,2.0630922045674844,-1.0155021095703827,5.56119135389277,-2.2015414418530117,-1.2718356941858593,3.347476520378096,4.372958869737966,4.9896046059360035,2.6103744791287555,2.407411766457813,2.9395242366642145,5.574264742380035,2.0255746124599243,1.298889825463641,2.7671297934479755,0.923568687828286,-0.4031757970469783,3.304891547992297,-0.3201422326048837,0.8340417753209919,5.1913131152856735,1.6580864493645096,2.6956968708778732,1.3034858476409492,2.724986098936718,1.2018901527909414,1.6684441454202599,1.8161070144455826,1.9090771211338449,-3.090311883476226,-3.851393319247771,-0.2540803783170227,0.2558005831099167,-0.8203441009026156,-2.1798604740212486,2.6091027507142783,0.22322725722117642,-4.803752236010525,0.47765433924331147,-5.254273329716828,-0.5598302880001018,-2.6105467215502594,-0.5937943455348622,-1.5114287116555614,-2.2125653179505997,2.121508681308789,1.0648168259649178,-0.22250290395954936,2.777468628195421,-0.13107879356793983,2.8679146536182554,3.0788731044600177,1.6742737328594426,0.29772758628901363,4.843084853312,1.0270208229486468,2.554797025565825,2.1679228621446693,1.3692559365256547,-2.006063478599546,-4.486665831812692,-2.382374230567189,-1.9765286811261822,-4.58747837566605,-1.0907992222027973,-1.2069226906676538,-2.5426887655774992,-3.380680715797025,-1.9391677614699483,-2.553413055609417,-6.085184575355016,-4.942676003353659,-3.2093172626373447,-5.385469696368401,-2.143950042705918,-5.516562721197035,-4.891941736113837,-4.974982468103731,-3.2117762836127093,0.2221081034397887,-1.3903756296314311,-4.474478637257091,-1.0775524237848098,-0.5216759258575268,-0.28298471512166024,-0.7937570205049566,0.9317190549366401,-1.6891960077278556,-1.9076592144191329,-2.1491765100381217,-0.7714916750538849,-1.2893922240881637,-0.33331491541164987,0.49423965269234005,2.734535552135478,-1.8216916444896267,-4.749297093426067,0.12703351107853145,-3.2888384573819107,-1.845107394366416,2.1106652774235344,-2.3864456101965312,0.9208708699717398,0.6069025790814295,-3.534015236022078,-0.06059452926646647,-3.255662039821541,0.7482083862945819,0.5350651530645631,-0.9526635817299066,-0.15836701269029485,-0.20740624554672782,1.0714412319084654,-1.627027721453798,0.036955378693442564,-2.2858434628494644,-0.6505177025379979,-0.7009433114985816,-1.7392760748640397,-1.7480523830281331,-1.5219250326244844,-4.320964491322848,0.5035787193822648,-0.8850432539438768,-0.5437874084912191,-0.4060117029899888,-0.1618307763505733,-0.685588905498594,-1.476338451304729,0.8896842088541057,-0.9263436623998467,-2.668781016574239,-1.2312152761819612,-0.14103498284482807,-1.1855157097796627,1.2592160762888291,-1.2743149308494033,-0.2909678780787909,0.06757664883808334,0.863075907307387,-0.9674487212397576,-1.8908428499937913,-0.894700438332064,-0.7518202590222691,1.4034894416127746,-1.2126861510621847,0.07832353007449366,0.8707596958991517,0.8536566835272907,-0.00815857877560855],\"yaxis\":\"y\",\"type\":\"scatter\"},{\"alignmentgroup\":\"True\",\"bingroup\":\"x\",\"hovertemplate\":\"actual=%{x}<br>count=%{y}<extra></extra>\",\"legendgroup\":\"\",\"marker\":{\"color\":\"#636efa\"},\"name\":\"\",\"offsetgroup\":\"\",\"opacity\":0.5,\"showlegend\":false,\"x\":[3.5049999999999955,3.097999999999999,7.153000000000006,-8.197000000000003,5.206000000000003,2.988999999999997,-1.2779999999999987,-1.0549999999999997,-5.745999999999995,-3.98599999999999,1.4339999999999975,-5.305000000000007,2.577999999999996,5.008999999999993,-1.2430000000000092,0.8739999999999952,-2.13600000000001,0.05399999999999494,-2.6910000000000025,1.0480000000000018,-3.6229999999999905,-0.7680000000000007,0.9320000000000164,-2.8700000000000045,7.60799999999999,2.8640000000000043,7.076000000000008,-4.764999999999986,1.7659999999999911,-1.5040000000000049,-1.0999999999999943,8.920999999999992,7.905000000000001,8.076999999999998,1.8070000000000164,3.1829999999999927,10.173999999999978,7.22999999999999,0.5490000000000066,0.6160000000000139,-13.495000000000005,-7.604000000000013,3.5020000000000095,12.046999999999983,-3.6789999999999736,2.487999999999971,5.5800000000000125,2.998000000000019,0.7279999999999802,4.228000000000009,-4.397999999999996,3.2749999999999773,1.8680000000000234,1.434000000000026,4.586000000000013,3.5310000000000343,9.113999999999976,-0.46500000000003183,1.108000000000004,-8.905000000000001,-2.4200000000000443,1.1699999999999875,-0.35899999999998045,-3.9710000000000036,4.794000000000011,-0.9480000000000075,10.431000000000012,-3.273999999999944,6.173999999999978,-2.6290000000000475,-0.7620000000000289,-0.9890000000000043,-3.2579999999999814,1.4230000000000018,-0.5740000000000123,2.5360000000000014,-11.448999999999984,5.896000000000015,-3.7970000000000255,-8.184999999999988,-0.6360000000000099,2.112000000000023,7.010999999999996,-1.835000000000008,-0.005999999999971806,-6.499000000000024,7.936000000000007,-7.071000000000026,-2.7990000000000066,6.352999999999952,-2.8549999999999898,-0.4660000000000082,3.4950000000000045,-5.611999999999966,0.45100000000002183,6.304999999999978,-4.59499999999997,-0.2839999999999918,0.08199999999999363,3.40300000000002,-5.581000000000017,-0.5940000000000225,2.7569999999999766,10.765000000000015,4.717999999999961,3.2319999999999993,-2.1899999999999977,0.07200000000003115,-3.173999999999978,-0.7769999999999868,15.456999999999994,8.330000000000041,1.9019999999999868,1.072999999999979,-3.0490000000000066,2.1059999999999945,-5.483999999999952,-8.069000000000017,-6.071999999999974,-5.126999999999981,4.163000000000011,3.5250000000000057,-1.561000000000007,0.5170000000000243,-1.850999999999999,4.307000000000016,0.42499999999998295,5.093000000000018,-8.135999999999996,-0.0630000000000166,-3.914999999999992,4.460000000000008,5.039000000000016,6.8110000000000355,-4.40300000000002,-3.825000000000017,-3.412000000000006,-2.7269999999999754,-11.902999999999992,4.081999999999994,2.7409999999999854,-8.194999999999993,0.6500000000000057,2.8950000000000102,3.3290000000000077,-15.944000000000017,-3.210000000000008,3.3549999999999613,-3.3899999999999864,3.1210000000000093,-0.4410000000000309,-5.93799999999996,-10.52600000000001,-0.8449999999999989,2.4749999999999943,3.752999999999986,0.13599999999999568,0.4930000000000234,4.567000000000007,-2.3079999999999927,5.939000000000007,1.7689999999999912,1.8249999999999886,1.411999999999992,2.3510000000000275,-0.48599999999999,4.340000000000003,0.6370000000000005,1.1629999999999825,5.5660000000000025,7.618000000000009,-2.423000000000002,-0.5909999999999798,-1.728000000000037,-3.983000000000004,6.436999999999998,0.012999999999991019,5.623000000000005,-0.35599999999999454,-8.448000000000008,-0.044000000000004036,-7.4410000000000025,-2.730000000000004,2.9949999999999974,0.6269999999999882,0.5240000000000009,-0.18900000000000006,1.8489999999999895,2.8100000000000094,2.6799999999999997,0.9990000000000094,5.460000000000001,2.4879999999999995,-2.405000000000001,5.128,-0.11399999999999011,-0.17599999999999483,1.0170000000000101,0.1910000000000025,-0.45700000000000074,2.5080000000000027,0.43900000000000006,2.087999999999994,-2.8599999999999994,1.0860000000000056,4.471999999999994,-1.7689999999999984,-1.261999999999997,-1.3219999999999992,-2.3459999999999965,2.7319999999999993,-5.404,1.4080000000000013,-0.08500000000000085,5.506,0.5809999999999995,-1.4909999999999997,-1.1599999999999966,-4.138999999999998,0.9239999999999995,0.3780000000000001,-0.8010000000000019,0.5239999999999991,1.045,-0.08300000000000196],\"xaxis\":\"x3\",\"yaxis\":\"y3\",\"type\":\"histogram\",\"histnorm\":\"probability\"},{\"alignmentgroup\":\"True\",\"bingroup\":\"y\",\"hovertemplate\":\"prediction=%{y}<br>count=%{x}<extra></extra>\",\"legendgroup\":\"\",\"marker\":{\"color\":\"#636efa\"},\"name\":\"\",\"offsetgroup\":\"\",\"opacity\":0.5,\"showlegend\":false,\"xaxis\":\"x2\",\"y\":[1.5905816531979347,0.5924215090756944,0.8151249997061208,-0.08684208064084054,1.5140016494572954,1.1675952371586216,0.6418507858926763,2.6932875947728276,1.8784348545131786,1.2209707506602006,2.9560702348798173,3.5210777124488493,2.9888318024206786,3.7800254664052755,0.8691156842397352,1.966014603189322,1.0100576833428399,3.4803218992383442,3.5741964175640986,2.6016445776211916,2.7675863355148023,3.2796219567418583,3.771489833205196,1.3299924662958946,3.185285601940566,-0.06677604214975169,2.5042980773143846,-3.298279782855545,0.12324562437807152,1.31253994937072,2.912602398927078,4.0502498270300915,0.37394262218460617,1.0029122873578682,-1.086685917905978,-1.8301327315368492,-1.434685639272114,2.0944956942542694,1.296808329017801,-0.9374464134458607,-2.3027898671263793,-3.8112826222535654,2.6224638189637144,-0.17015272215709998,-1.8618783620315877,-1.298551749439593,3.506600975825691,1.089907078323617,1.4731993141602495,0.1754236900075258,0.546943569273594,3.5914027689311343,-0.5969346101403961,-0.3524733704331835,2.8285062825906113,0.13106408347870557,-2.6749490926536725,-1.6938325011387638,0.4498529067020607,-4.296878122034844,0.9200840142670774,1.3293260780485552,-1.7311952839650901,0.9128976610132413,0.5095513055121588,0.4320719559548478,-0.7820227948242726,-3.825770055195815,0.6724465195128575,-4.201974585668778,-6.150598040047905,-3.037234412675703,-3.3035791265055714,0.4451249583464132,0.42689833281705303,2.0630922045674844,-1.0155021095703827,5.56119135389277,-2.2015414418530117,-1.2718356941858593,3.347476520378096,4.372958869737966,4.9896046059360035,2.6103744791287555,2.407411766457813,2.9395242366642145,5.574264742380035,2.0255746124599243,1.298889825463641,2.7671297934479755,0.923568687828286,-0.4031757970469783,3.304891547992297,-0.3201422326048837,0.8340417753209919,5.1913131152856735,1.6580864493645096,2.6956968708778732,1.3034858476409492,2.724986098936718,1.2018901527909414,1.6684441454202599,1.8161070144455826,1.9090771211338449,-3.090311883476226,-3.851393319247771,-0.2540803783170227,0.2558005831099167,-0.8203441009026156,-2.1798604740212486,2.6091027507142783,0.22322725722117642,-4.803752236010525,0.47765433924331147,-5.254273329716828,-0.5598302880001018,-2.6105467215502594,-0.5937943455348622,-1.5114287116555614,-2.2125653179505997,2.121508681308789,1.0648168259649178,-0.22250290395954936,2.777468628195421,-0.13107879356793983,2.8679146536182554,3.0788731044600177,1.6742737328594426,0.29772758628901363,4.843084853312,1.0270208229486468,2.554797025565825,2.1679228621446693,1.3692559365256547,-2.006063478599546,-4.486665831812692,-2.382374230567189,-1.9765286811261822,-4.58747837566605,-1.0907992222027973,-1.2069226906676538,-2.5426887655774992,-3.380680715797025,-1.9391677614699483,-2.553413055609417,-6.085184575355016,-4.942676003353659,-3.2093172626373447,-5.385469696368401,-2.143950042705918,-5.516562721197035,-4.891941736113837,-4.974982468103731,-3.2117762836127093,0.2221081034397887,-1.3903756296314311,-4.474478637257091,-1.0775524237848098,-0.5216759258575268,-0.28298471512166024,-0.7937570205049566,0.9317190549366401,-1.6891960077278556,-1.9076592144191329,-2.1491765100381217,-0.7714916750538849,-1.2893922240881637,-0.33331491541164987,0.49423965269234005,2.734535552135478,-1.8216916444896267,-4.749297093426067,0.12703351107853145,-3.2888384573819107,-1.845107394366416,2.1106652774235344,-2.3864456101965312,0.9208708699717398,0.6069025790814295,-3.534015236022078,-0.06059452926646647,-3.255662039821541,0.7482083862945819,0.5350651530645631,-0.9526635817299066,-0.15836701269029485,-0.20740624554672782,1.0714412319084654,-1.627027721453798,0.036955378693442564,-2.2858434628494644,-0.6505177025379979,-0.7009433114985816,-1.7392760748640397,-1.7480523830281331,-1.5219250326244844,-4.320964491322848,0.5035787193822648,-0.8850432539438768,-0.5437874084912191,-0.4060117029899888,-0.1618307763505733,-0.685588905498594,-1.476338451304729,0.8896842088541057,-0.9263436623998467,-2.668781016574239,-1.2312152761819612,-0.14103498284482807,-1.1855157097796627,1.2592160762888291,-1.2743149308494033,-0.2909678780787909,0.06757664883808334,0.863075907307387,-0.9674487212397576,-1.8908428499937913,-0.894700438332064,-0.7518202590222691,1.4034894416127746,-1.2126861510621847,0.07832353007449366,0.8707596958991517,0.8536566835272907,-0.00815857877560855],\"yaxis\":\"y2\",\"type\":\"histogram\",\"histnorm\":\"probability\"},{\"hovertemplate\":\"<b>OLS trendline</b><br>prediction = 0.20324 * actual + -0.17626<br>R<sup>2</sup>=0.153921<br><br>actual=%{x}<br>prediction=%{y} <b>(trend)</b><extra></extra>\",\"legendgroup\":\"\",\"marker\":{\"color\":\"#636efa\",\"symbol\":\"circle\"},\"mode\":\"lines\",\"name\":\"\",\"showlegend\":false,\"x\":[-15.944000000000017,-13.495000000000005,-11.902999999999992,-11.448999999999984,-10.52600000000001,-8.905000000000001,-8.448000000000008,-8.197000000000003,-8.194999999999993,-8.184999999999988,-8.135999999999996,-8.069000000000017,-7.604000000000013,-7.4410000000000025,-7.071000000000026,-6.499000000000024,-6.071999999999974,-5.93799999999996,-5.745999999999995,-5.611999999999966,-5.581000000000017,-5.483999999999952,-5.404,-5.305000000000007,-5.126999999999981,-4.764999999999986,-4.59499999999997,-4.40300000000002,-4.397999999999996,-4.138999999999998,-3.98599999999999,-3.983000000000004,-3.9710000000000036,-3.914999999999992,-3.825000000000017,-3.7970000000000255,-3.6789999999999736,-3.6229999999999905,-3.412000000000006,-3.3899999999999864,-3.273999999999944,-3.2579999999999814,-3.210000000000008,-3.173999999999978,-3.0490000000000066,-2.8700000000000045,-2.8599999999999994,-2.8549999999999898,-2.7990000000000066,-2.730000000000004,-2.7269999999999754,-2.6910000000000025,-2.6290000000000475,-2.423000000000002,-2.4200000000000443,-2.405000000000001,-2.3459999999999965,-2.3079999999999927,-2.1899999999999977,-2.13600000000001,-1.850999999999999,-1.835000000000008,-1.7689999999999984,-1.728000000000037,-1.561000000000007,-1.5040000000000049,-1.4909999999999997,-1.3219999999999992,-1.2779999999999987,-1.261999999999997,-1.2430000000000092,-1.1599999999999966,-1.0999999999999943,-1.0549999999999997,-0.9890000000000043,-0.9480000000000075,-0.8449999999999989,-0.8010000000000019,-0.7769999999999868,-0.7680000000000007,-0.7620000000000289,-0.6360000000000099,-0.5940000000000225,-0.5909999999999798,-0.5740000000000123,-0.48599999999999,-0.4660000000000082,-0.46500000000003183,-0.45700000000000074,-0.4410000000000309,-0.35899999999998045,-0.35599999999999454,-0.2839999999999918,-0.18900000000000006,-0.17599999999999483,-0.11399999999999011,-0.08500000000000085,-0.08300000000000196,-0.0630000000000166,-0.044000000000004036,-0.005999999999971806,0.012999999999991019,0.05399999999999494,0.07200000000003115,0.08199999999999363,0.13599999999999568,0.1910000000000025,0.3780000000000001,0.42499999999998295,0.43900000000000006,0.45100000000002183,0.4930000000000234,0.5170000000000243,0.5239999999999991,0.5240000000000009,0.5490000000000066,0.5809999999999995,0.6160000000000139,0.6269999999999882,0.6370000000000005,0.6500000000000057,0.7279999999999802,0.8739999999999952,0.9239999999999995,0.9320000000000164,0.9990000000000094,1.0170000000000101,1.045,1.0480000000000018,1.072999999999979,1.0860000000000056,1.108000000000004,1.1629999999999825,1.1699999999999875,1.4080000000000013,1.411999999999992,1.4230000000000018,1.4339999999999975,1.434000000000026,1.7659999999999911,1.7689999999999912,1.8070000000000164,1.8249999999999886,1.8489999999999895,1.8680000000000234,1.9019999999999868,2.087999999999994,2.1059999999999945,2.112000000000023,2.3510000000000275,2.4749999999999943,2.487999999999971,2.4879999999999995,2.5080000000000027,2.5360000000000014,2.577999999999996,2.6799999999999997,2.7319999999999993,2.7409999999999854,2.7569999999999766,2.8100000000000094,2.8640000000000043,2.8950000000000102,2.988999999999997,2.9949999999999974,2.998000000000019,3.097999999999999,3.1210000000000093,3.1829999999999927,3.2319999999999993,3.2749999999999773,3.3290000000000077,3.3549999999999613,3.40300000000002,3.4950000000000045,3.5020000000000095,3.5049999999999955,3.5250000000000057,3.5310000000000343,3.752999999999986,4.081999999999994,4.163000000000011,4.228000000000009,4.307000000000016,4.340000000000003,4.460000000000008,4.471999999999994,4.567000000000007,4.586000000000013,4.717999999999961,4.794000000000011,5.008999999999993,5.039000000000016,5.093000000000018,5.128,5.206000000000003,5.460000000000001,5.506,5.5660000000000025,5.5800000000000125,5.623000000000005,5.896000000000015,5.939000000000007,6.173999999999978,6.304999999999978,6.352999999999952,6.436999999999998,6.8110000000000355,7.010999999999996,7.076000000000008,7.153000000000006,7.22999999999999,7.60799999999999,7.618000000000009,7.905000000000001,7.936000000000007,8.076999999999998,8.330000000000041,8.920999999999992,9.113999999999976,10.173999999999978,10.431000000000012,10.765000000000015,12.046999999999983,15.456999999999994],\"xaxis\":\"x\",\"y\":[-3.4167109736529007,-2.9189773280332707,-2.595419972448765,-2.5031492190345905,-2.3155591190317715,-1.9861078166432782,-1.8932273445942105,-1.8422142188079593,-1.8418077397180272,-1.8397753442683746,-1.8298166065650845,-1.8161995570524243,-1.7216931686436336,-1.6885651228143137,-1.6133664911772168,-1.4971134714571561,-1.4103301857570314,-1.3830960867316997,-1.3440740940984,-1.3168399950730654,-1.3105395691791566,-1.2908253333175246,-1.2745661697203232,-1.2544454547687758,-1.2182688157649757,-1.144696100487596,-1.110145377843519,-1.0711233852102222,-1.0701071874853918,-1.0174681453394208,-0.9863724949597529,-0.9857627763248603,-0.9833239017852785,-0.9719424872672283,-0.9536509282203709,-0.9479602209613487,-0.9239779546554516,-0.9125965401374072,-0.8697129961497659,-0.8652417261605287,-0.841665938944564,-0.8384141062251294,-0.828658608066808,-0.821341984448057,-0.7959370413274202,-0.7595571627786598,-0.7575247673290073,-0.7565085696041797,-0.7451271550861353,-0.7311036264835401,-0.7304939078486389,-0.7231772842298994,-0.7105764324420698,-0.6687090861792416,-0.6680993675443548,-0.665050774369869,-0.6530596412169248,-0.6453365385082487,-0.6213542722023633,-0.6103793367742482,-0.5524560664591811,-0.5492042337397407,-0.5357904237720394,-0.5274576024284766,-0.4935165984192922,-0.48193194435627873,-0.4792898302717309,-0.44494234717262215,-0.4359998071941559,-0.43274797447471325,-0.42888642312037817,-0.412017540888269,-0.3998231681903601,-0.3906773886669299,-0.37726357869923166,-0.3689307573556615,-0.34799708422425035,-0.33905454424578485,-0.3341767951666184,-0.332347639261935,-0.3311282019921499,-0.3055200193265384,-0.29698395843800507,-0.29637423980310096,-0.2929191675387002,-0.2750340875817634,-0.2709692966824643,-0.27076605713750396,-0.2691401407777765,-0.2658883080583404,-0.24922266537118867,-0.2486129467362961,-0.23397969949880548,-0.21467194272711887,-0.212029828642571,-0.19942897685473138,-0.1935350300507445,-0.19312855096081444,-0.18906376006151462,-0.1852022087071744,-0.17747910599849254,-0.17361755464416245,-0.1652847333005909,-0.16162642149121104,-0.15959402604156725,-0.1486190906134493,-0.1374409156403652,-0.09943512073188455,-0.08988286211852646,-0.08703750848901103,-0.08459863394942492,-0.07606257306088873,-0.07118482398172518,-0.06976214716697433,-0.06976214716697397,-0.06468115854284431,-0.05817749310396128,-0.05106410903017847,-0.04882847403556714,-0.04679607858591325,-0.044153964501365384,-0.028301279994089656,0.001371693570823812,0.011533670819081687,0.01315958717880622,0.02677663669146918,0.030434948500841857,0.036125655759863706,0.03673537439475949,0.04181636301888336,0.04445847710343559,0.04892974709266834,0.060107922065746666,0.06153059888050366,0.10990161058220974,0.1107145687620684,0.11295020375668693,0.11518583875130259,0.11518583875130836,0.18266136767972777,0.18327108631462316,0.1909941890233036,0.19465250083267047,0.19953024991183402,0.2033918012661786,0.21030194579498587,0.24810450115850333,0.25176281296787595,0.2529822502376726,0.301556501484342,0.3267582050600125,0.3294003191445546,0.32940031914456036,0.3334651100438638,0.33915581730288746,0.3476918781914222,0.36842231177786733,0.3789907681160545,0.38081992402073794,0.38407175674017835,0.3948434526233374,0.405818388051454,0.41211881394537453,0.431223331172095,0.4324427684418859,0.4330524870767857,0.4533764415732956,0.45805095110749594,0.47065180289533115,0.4806105405986244,0.489349841032121,0.5003247764602446,0.5056090046293289,0.5153645027876675,0.5340625409244573,0.5354852177392142,0.5360949363741068,0.5401597272734117,0.5413791645432083,0.5864983435254595,0.6533641538189922,0.669826556961172,0.6830371273839055,0.6990930514361532,0.7057999564200002,0.7301887018158179,0.7326275763553968,0.7519353331270877,0.7557968844814265,0.7826245044168144,0.7980707098341753,0.8417672120016766,0.8478643983506355,0.8588393337787534,0.8659527178525297,0.8818054023598112,0.9334282467809563,0.9427772658493525,0.9549716385472615,0.9578169921767754,0.9665562926102749,1.0220406883857602,1.0307799888192595,1.0785412818860616,1.105165662276495,1.1149211604348161,1.1319932822118972,1.2080048720288672,1.2486527810218873,1.2618633514446236,1.277512796406939,1.2931622413692516,1.3699867893660744,1.3720191848157297,1.4303489342207234,1.4366493601146437,1.4653061359547268,1.5167257408309158,1.6368403119053037,1.6760655440835723,1.891499461746621,1.9437320248026686,2.011614032821026,2.272167129466329,2.965213977797458],\"yaxis\":\"y\",\"type\":\"scatter\"}],                        {\"template\":{\"data\":{\"histogram2dcontour\":[{\"type\":\"histogram2dcontour\",\"colorbar\":{\"outlinewidth\":0,\"ticks\":\"\"},\"colorscale\":[[0.0,\"#0d0887\"],[0.1111111111111111,\"#46039f\"],[0.2222222222222222,\"#7201a8\"],[0.3333333333333333,\"#9c179e\"],[0.4444444444444444,\"#bd3786\"],[0.5555555555555556,\"#d8576b\"],[0.6666666666666666,\"#ed7953\"],[0.7777777777777778,\"#fb9f3a\"],[0.8888888888888888,\"#fdca26\"],[1.0,\"#f0f921\"]]}],\"choropleth\":[{\"type\":\"choropleth\",\"colorbar\":{\"outlinewidth\":0,\"ticks\":\"\"}}],\"histogram2d\":[{\"type\":\"histogram2d\",\"colorbar\":{\"outlinewidth\":0,\"ticks\":\"\"},\"colorscale\":[[0.0,\"#0d0887\"],[0.1111111111111111,\"#46039f\"],[0.2222222222222222,\"#7201a8\"],[0.3333333333333333,\"#9c179e\"],[0.4444444444444444,\"#bd3786\"],[0.5555555555555556,\"#d8576b\"],[0.6666666666666666,\"#ed7953\"],[0.7777777777777778,\"#fb9f3a\"],[0.8888888888888888,\"#fdca26\"],[1.0,\"#f0f921\"]]}],\"heatmap\":[{\"type\":\"heatmap\",\"colorbar\":{\"outlinewidth\":0,\"ticks\":\"\"},\"colorscale\":[[0.0,\"#0d0887\"],[0.1111111111111111,\"#46039f\"],[0.2222222222222222,\"#7201a8\"],[0.3333333333333333,\"#9c179e\"],[0.4444444444444444,\"#bd3786\"],[0.5555555555555556,\"#d8576b\"],[0.6666666666666666,\"#ed7953\"],[0.7777777777777778,\"#fb9f3a\"],[0.8888888888888888,\"#fdca26\"],[1.0,\"#f0f921\"]]}],\"heatmapgl\":[{\"type\":\"heatmapgl\",\"colorbar\":{\"outlinewidth\":0,\"ticks\":\"\"},\"colorscale\":[[0.0,\"#0d0887\"],[0.1111111111111111,\"#46039f\"],[0.2222222222222222,\"#7201a8\"],[0.3333333333333333,\"#9c179e\"],[0.4444444444444444,\"#bd3786\"],[0.5555555555555556,\"#d8576b\"],[0.6666666666666666,\"#ed7953\"],[0.7777777777777778,\"#fb9f3a\"],[0.8888888888888888,\"#fdca26\"],[1.0,\"#f0f921\"]]}],\"contourcarpet\":[{\"type\":\"contourcarpet\",\"colorbar\":{\"outlinewidth\":0,\"ticks\":\"\"}}],\"contour\":[{\"type\":\"contour\",\"colorbar\":{\"outlinewidth\":0,\"ticks\":\"\"},\"colorscale\":[[0.0,\"#0d0887\"],[0.1111111111111111,\"#46039f\"],[0.2222222222222222,\"#7201a8\"],[0.3333333333333333,\"#9c179e\"],[0.4444444444444444,\"#bd3786\"],[0.5555555555555556,\"#d8576b\"],[0.6666666666666666,\"#ed7953\"],[0.7777777777777778,\"#fb9f3a\"],[0.8888888888888888,\"#fdca26\"],[1.0,\"#f0f921\"]]}],\"surface\":[{\"type\":\"surface\",\"colorbar\":{\"outlinewidth\":0,\"ticks\":\"\"},\"colorscale\":[[0.0,\"#0d0887\"],[0.1111111111111111,\"#46039f\"],[0.2222222222222222,\"#7201a8\"],[0.3333333333333333,\"#9c179e\"],[0.4444444444444444,\"#bd3786\"],[0.5555555555555556,\"#d8576b\"],[0.6666666666666666,\"#ed7953\"],[0.7777777777777778,\"#fb9f3a\"],[0.8888888888888888,\"#fdca26\"],[1.0,\"#f0f921\"]]}],\"mesh3d\":[{\"type\":\"mesh3d\",\"colorbar\":{\"outlinewidth\":0,\"ticks\":\"\"}}],\"scatter\":[{\"marker\":{\"line\":{\"color\":\"#283442\"}},\"type\":\"scatter\"}],\"parcoords\":[{\"type\":\"parcoords\",\"line\":{\"colorbar\":{\"outlinewidth\":0,\"ticks\":\"\"}}}],\"scatterpolargl\":[{\"type\":\"scatterpolargl\",\"marker\":{\"colorbar\":{\"outlinewidth\":0,\"ticks\":\"\"}}}],\"bar\":[{\"error_x\":{\"color\":\"#f2f5fa\"},\"error_y\":{\"color\":\"#f2f5fa\"},\"marker\":{\"line\":{\"color\":\"rgb(17,17,17)\",\"width\":0.5},\"pattern\":{\"fillmode\":\"overlay\",\"size\":10,\"solidity\":0.2}},\"type\":\"bar\"}],\"scattergeo\":[{\"type\":\"scattergeo\",\"marker\":{\"colorbar\":{\"outlinewidth\":0,\"ticks\":\"\"}}}],\"scatterpolar\":[{\"type\":\"scatterpolar\",\"marker\":{\"colorbar\":{\"outlinewidth\":0,\"ticks\":\"\"}}}],\"histogram\":[{\"marker\":{\"pattern\":{\"fillmode\":\"overlay\",\"size\":10,\"solidity\":0.2}},\"type\":\"histogram\"}],\"scattergl\":[{\"marker\":{\"line\":{\"color\":\"#283442\"}},\"type\":\"scattergl\"}],\"scatter3d\":[{\"type\":\"scatter3d\",\"line\":{\"colorbar\":{\"outlinewidth\":0,\"ticks\":\"\"}},\"marker\":{\"colorbar\":{\"outlinewidth\":0,\"ticks\":\"\"}}}],\"scattermapbox\":[{\"type\":\"scattermapbox\",\"marker\":{\"colorbar\":{\"outlinewidth\":0,\"ticks\":\"\"}}}],\"scatterternary\":[{\"type\":\"scatterternary\",\"marker\":{\"colorbar\":{\"outlinewidth\":0,\"ticks\":\"\"}}}],\"scattercarpet\":[{\"type\":\"scattercarpet\",\"marker\":{\"colorbar\":{\"outlinewidth\":0,\"ticks\":\"\"}}}],\"carpet\":[{\"aaxis\":{\"endlinecolor\":\"#A2B1C6\",\"gridcolor\":\"#506784\",\"linecolor\":\"#506784\",\"minorgridcolor\":\"#506784\",\"startlinecolor\":\"#A2B1C6\"},\"baxis\":{\"endlinecolor\":\"#A2B1C6\",\"gridcolor\":\"#506784\",\"linecolor\":\"#506784\",\"minorgridcolor\":\"#506784\",\"startlinecolor\":\"#A2B1C6\"},\"type\":\"carpet\"}],\"table\":[{\"cells\":{\"fill\":{\"color\":\"#506784\"},\"line\":{\"color\":\"rgb(17,17,17)\"}},\"header\":{\"fill\":{\"color\":\"#2a3f5f\"},\"line\":{\"color\":\"rgb(17,17,17)\"}},\"type\":\"table\"}],\"barpolar\":[{\"marker\":{\"line\":{\"color\":\"rgb(17,17,17)\",\"width\":0.5},\"pattern\":{\"fillmode\":\"overlay\",\"size\":10,\"solidity\":0.2}},\"type\":\"barpolar\"}],\"pie\":[{\"automargin\":true,\"type\":\"pie\"}]},\"layout\":{\"autotypenumbers\":\"strict\",\"colorway\":[\"#636efa\",\"#EF553B\",\"#00cc96\",\"#ab63fa\",\"#FFA15A\",\"#19d3f3\",\"#FF6692\",\"#B6E880\",\"#FF97FF\",\"#FECB52\"],\"font\":{\"color\":\"#f2f5fa\"},\"hovermode\":\"closest\",\"hoverlabel\":{\"align\":\"left\"},\"paper_bgcolor\":\"rgb(17,17,17)\",\"plot_bgcolor\":\"rgb(17,17,17)\",\"polar\":{\"bgcolor\":\"rgb(17,17,17)\",\"angularaxis\":{\"gridcolor\":\"#506784\",\"linecolor\":\"#506784\",\"ticks\":\"\"},\"radialaxis\":{\"gridcolor\":\"#506784\",\"linecolor\":\"#506784\",\"ticks\":\"\"}},\"ternary\":{\"bgcolor\":\"rgb(17,17,17)\",\"aaxis\":{\"gridcolor\":\"#506784\",\"linecolor\":\"#506784\",\"ticks\":\"\"},\"baxis\":{\"gridcolor\":\"#506784\",\"linecolor\":\"#506784\",\"ticks\":\"\"},\"caxis\":{\"gridcolor\":\"#506784\",\"linecolor\":\"#506784\",\"ticks\":\"\"}},\"coloraxis\":{\"colorbar\":{\"outlinewidth\":0,\"ticks\":\"\"}},\"colorscale\":{\"sequential\":[[0.0,\"#0d0887\"],[0.1111111111111111,\"#46039f\"],[0.2222222222222222,\"#7201a8\"],[0.3333333333333333,\"#9c179e\"],[0.4444444444444444,\"#bd3786\"],[0.5555555555555556,\"#d8576b\"],[0.6666666666666666,\"#ed7953\"],[0.7777777777777778,\"#fb9f3a\"],[0.8888888888888888,\"#fdca26\"],[1.0,\"#f0f921\"]],\"sequentialminus\":[[0.0,\"#0d0887\"],[0.1111111111111111,\"#46039f\"],[0.2222222222222222,\"#7201a8\"],[0.3333333333333333,\"#9c179e\"],[0.4444444444444444,\"#bd3786\"],[0.5555555555555556,\"#d8576b\"],[0.6666666666666666,\"#ed7953\"],[0.7777777777777778,\"#fb9f3a\"],[0.8888888888888888,\"#fdca26\"],[1.0,\"#f0f921\"]],\"diverging\":[[0,\"#8e0152\"],[0.1,\"#c51b7d\"],[0.2,\"#de77ae\"],[0.3,\"#f1b6da\"],[0.4,\"#fde0ef\"],[0.5,\"#f7f7f7\"],[0.6,\"#e6f5d0\"],[0.7,\"#b8e186\"],[0.8,\"#7fbc41\"],[0.9,\"#4d9221\"],[1,\"#276419\"]]},\"xaxis\":{\"gridcolor\":\"#283442\",\"linecolor\":\"#506784\",\"ticks\":\"\",\"title\":{\"standoff\":15},\"zerolinecolor\":\"#283442\",\"automargin\":true,\"zerolinewidth\":2},\"yaxis\":{\"gridcolor\":\"#283442\",\"linecolor\":\"#506784\",\"ticks\":\"\",\"title\":{\"standoff\":15},\"zerolinecolor\":\"#283442\",\"automargin\":true,\"zerolinewidth\":2},\"scene\":{\"xaxis\":{\"backgroundcolor\":\"rgb(17,17,17)\",\"gridcolor\":\"#506784\",\"linecolor\":\"#506784\",\"showbackground\":true,\"ticks\":\"\",\"zerolinecolor\":\"#C8D4E3\",\"gridwidth\":2},\"yaxis\":{\"backgroundcolor\":\"rgb(17,17,17)\",\"gridcolor\":\"#506784\",\"linecolor\":\"#506784\",\"showbackground\":true,\"ticks\":\"\",\"zerolinecolor\":\"#C8D4E3\",\"gridwidth\":2},\"zaxis\":{\"backgroundcolor\":\"rgb(17,17,17)\",\"gridcolor\":\"#506784\",\"linecolor\":\"#506784\",\"showbackground\":true,\"ticks\":\"\",\"zerolinecolor\":\"#C8D4E3\",\"gridwidth\":2}},\"shapedefaults\":{\"line\":{\"color\":\"#f2f5fa\"}},\"annotationdefaults\":{\"arrowcolor\":\"#f2f5fa\",\"arrowhead\":0,\"arrowwidth\":1},\"geo\":{\"bgcolor\":\"rgb(17,17,17)\",\"landcolor\":\"rgb(17,17,17)\",\"subunitcolor\":\"#506784\",\"showland\":true,\"showlakes\":true,\"lakecolor\":\"rgb(17,17,17)\"},\"title\":{\"x\":0.05},\"updatemenudefaults\":{\"bgcolor\":\"#506784\",\"borderwidth\":0},\"sliderdefaults\":{\"bgcolor\":\"#C8D4E3\",\"borderwidth\":1,\"bordercolor\":\"rgb(17,17,17)\",\"tickwidth\":0},\"mapbox\":{\"style\":\"dark\"}}},\"xaxis\":{\"anchor\":\"y\",\"domain\":[0.0,0.7363],\"title\":{\"text\":\"actual\"}},\"yaxis\":{\"anchor\":\"x\",\"domain\":[0.0,0.7326],\"title\":{\"text\":\"prediction\"}},\"xaxis2\":{\"anchor\":\"y2\",\"domain\":[0.7413,1.0],\"matches\":\"x2\",\"showticklabels\":false,\"showline\":false,\"ticks\":\"\",\"showgrid\":true},\"yaxis2\":{\"anchor\":\"x2\",\"domain\":[0.0,0.7326],\"matches\":\"y\",\"showticklabels\":false,\"showgrid\":true},\"xaxis3\":{\"anchor\":\"y3\",\"domain\":[0.0,0.7363],\"matches\":\"x\",\"showticklabels\":false,\"showgrid\":true},\"yaxis3\":{\"anchor\":\"x3\",\"domain\":[0.7426,1.0],\"matches\":\"y3\",\"showticklabels\":false,\"showline\":false,\"ticks\":\"\",\"showgrid\":true},\"xaxis4\":{\"anchor\":\"y4\",\"domain\":[0.7413,1.0],\"matches\":\"x2\",\"showticklabels\":false,\"showgrid\":true,\"showline\":false,\"ticks\":\"\"},\"yaxis4\":{\"anchor\":\"x4\",\"domain\":[0.7426,1.0],\"matches\":\"y3\",\"showticklabels\":false,\"showline\":false,\"ticks\":\"\",\"showgrid\":true},\"legend\":{\"tracegroupgap\":0},\"margin\":{\"t\":60},\"barmode\":\"overlay\",\"shapes\":[{\"line\":{\"dash\":\"dash\"},\"type\":\"line\",\"x0\":-11.99189635449704,\"x1\":16.94520839544012,\"y0\":-11.99189635449704,\"y1\":16.94520839544012}]},                        {\"responsive\": true}                    ).then(function(){\n                            \nvar gd = document.getElementById('fb177587-04d4-4caa-998e-c3e59d0ae6f3');\nvar x = new MutationObserver(function (mutations, observer) {{\n        var display = window.getComputedStyle(gd).display;\n        if (!display || display === 'none') {{\n            console.log([gd, 'removed!']);\n            Plotly.purge(gd);\n            observer.disconnect();\n        }}\n}});\n\n// Listen for the removal of the full notebook cells\nvar notebookContainer = gd.closest('#notebook-container');\nif (notebookContainer) {{\n    x.observe(notebookContainer, {childList: true});\n}}\n\n// Listen for the clearing of the current output cell\nvar outputEl = gd.closest('.output');\nif (outputEl) {{\n    x.observe(outputEl, {childList: true});\n}}\n\n                        })                };                });            </script>        </div>"
     },
     "metadata": {},
     "output_type": "display_data"
    }
   ],
   "source": [
    "fig = px.scatter(\n",
    "    prediction_df, x='actual', y='prediction',\n",
    "    marginal_x='histogram', marginal_y='histogram', trendline='ols'\n",
    ")\n",
    "fig.update_traces(histnorm='probability', selector={'type':'histogram'})\n",
    "fig.add_shape(\n",
    "    type=\"line\", line=dict(dash='dash'),\n",
    "    x0=y_test.min(), y0=y_test.min(),\n",
    "    x1=y_test.max(), y1=y_test.max()\n",
    ")\n",
    "fig.show()\n",
    "fig.write_image('images/linear_regression_prediction_vs_actual.png')"
   ],
   "metadata": {
    "collapsed": false,
    "ExecuteTime": {
     "start_time": "2023-06-27T10:13:13.486007Z",
     "end_time": "2023-06-27T10:13:13.655588Z"
    }
   }
  },
  {
   "cell_type": "code",
   "execution_count": 74,
   "outputs": [],
   "source": [],
   "metadata": {
    "collapsed": false,
    "ExecuteTime": {
     "start_time": "2023-06-27T10:07:59.472184Z",
     "end_time": "2023-06-27T10:07:59.482287Z"
    }
   }
  },
  {
   "cell_type": "code",
   "execution_count": null,
   "outputs": [],
   "source": [],
   "metadata": {
    "collapsed": false
   }
  },
  {
   "cell_type": "code",
   "execution_count": 75,
   "outputs": [],
   "source": [
    "# remove 2 coefficients that are not statistically significant\n",
    "y_preds = (0.4549100528456273 * X.iloc[:,0]) + (-0.404531307635968 * X.iloc[:,1]) + reg.intercept_"
   ],
   "metadata": {
    "collapsed": false,
    "ExecuteTime": {
     "start_time": "2023-06-27T10:09:47.733453Z",
     "end_time": "2023-06-27T10:09:47.746192Z"
    }
   }
  },
  {
   "cell_type": "code",
   "execution_count": 88,
   "outputs": [],
   "source": [],
   "metadata": {
    "collapsed": false,
    "ExecuteTime": {
     "start_time": "2023-06-27T09:18:10.301103Z",
     "end_time": "2023-06-27T09:18:10.318078Z"
    }
   }
  },
  {
   "cell_type": "code",
   "execution_count": 45,
   "outputs": [
    {
     "name": "stdout",
     "output_type": "stream",
     "text": [
      "18.488725082342487\n",
      "18.358223626294862\n"
     ]
    }
   ],
   "source": [
    "mse_all_vals = mean_squared_error(forecasting_errors[-225:], error_preds[-225:])\n",
    "print(mse_all_vals)\n",
    "mse_2_coef = mean_squared_error(forecasting_errors[-225:], y_preds[-225:])\n",
    "print(mse_2_coef)"
   ],
   "metadata": {
    "collapsed": false,
    "ExecuteTime": {
     "start_time": "2023-06-27T09:01:21.025697Z",
     "end_time": "2023-06-27T09:01:21.035840Z"
    }
   }
  },
  {
   "cell_type": "code",
   "execution_count": 90,
   "outputs": [
    {
     "data": {
      "text/plain": "<matplotlib.legend.Legend at 0x7fdf7bcfc9d0>"
     },
     "execution_count": 90,
     "metadata": {},
     "output_type": "execute_result"
    },
    {
     "data": {
      "text/plain": "<Figure size 640x480 with 1 Axes>",
      "image/png": "[encoded data removed]"
     },
     "metadata": {},
     "output_type": "display_data"
    }
   ],
   "source": [
    "plt.scatter(forecasting_errors[-225:], error_preds[-225:], color='blue', marker='o', label='predictions vs actual')\n",
    "plt.xlabel('actual error')\n",
    "plt.ylabel('predicted error')\n",
    "plt.title('Prediction vs Actual (Linear Regression)')\n",
    "\n",
    "max_value = max(max(y[-225:]), max(error_preds[-225:]))\n",
    "min_value = min(min(y[-225:]), min(error_preds[-225:]))\n",
    "plt.plot([min_value, max_value], [min_value, max_value], color='red', linestyle='--', label='Line of Equality')\n",
    "\n",
    "plt.legend()"
   ],
   "metadata": {
    "collapsed": false,
    "ExecuteTime": {
     "start_time": "2023-06-27T09:21:40.552822Z",
     "end_time": "2023-06-27T09:21:40.697183Z"
    }
   }
  },
  {
   "cell_type": "code",
   "execution_count": 46,
   "outputs": [],
   "source": [],
   "metadata": {
    "collapsed": false,
    "ExecuteTime": {
     "start_time": "2023-06-27T09:01:21.185980Z",
     "end_time": "2023-06-27T09:01:21.188911Z"
    }
   }
  },
  {
   "cell_type": "code",
   "execution_count": 47,
   "outputs": [
    {
     "name": "stdout",
     "output_type": "stream",
     "text": [
      "                                 OLS Regression Results                                \n",
      "=======================================================================================\n",
      "Dep. Variable:                      y   R-squared (uncentered):                   0.105\n",
      "Model:                            OLS   Adj. R-squared (uncentered):              0.103\n",
      "Method:                 Least Squares   F-statistic:                              43.61\n",
      "Date:                Tue, 27 Jun 2023   Prob (F-statistic):                    1.23e-34\n",
      "Time:                        09:01:21   Log-Likelihood:                         -4016.6\n",
      "No. Observations:                1486   AIC:                                      8041.\n",
      "Df Residuals:                    1482   BIC:                                      8062.\n",
      "Df Model:                           4                                                  \n",
      "Covariance Type:            nonrobust                                                  \n",
      "===============================================================================\n",
      "                  coef    std err          t      P>|t|      [0.025      0.975]\n",
      "-------------------------------------------------------------------------------\n",
      "ens(8)          0.4591      0.113      4.058      0.000       0.237       0.681\n",
      "ecmwf(9,10)    -0.4013      0.031    -12.746      0.000      -0.463      -0.340\n",
      "gfs(11,14)      0.0147      0.020      0.720      0.472      -0.025       0.055\n",
      "cmc(9,14)      -0.0158      0.013     -1.231      0.219      -0.041       0.009\n",
      "==============================================================================\n",
      "Omnibus:                      141.012   Durbin-Watson:                   1.773\n",
      "Prob(Omnibus):                  0.000   Jarque-Bera (JB):              470.501\n",
      "Skew:                           0.445   Prob(JB):                    6.79e-103\n",
      "Kurtosis:                       5.609   Cond. No.                         13.1\n",
      "==============================================================================\n",
      "\n",
      "Notes:\n",
      "[1] R² is computed without centering (uncentered) since the model does not contain a constant.\n",
      "[2] Standard Errors assume that the covariance matrix of the errors is correctly specified.\n"
     ]
    }
   ],
   "source": [
    "model = sm.OLS(y_train, X_train)\n",
    "results = model.fit()\n",
    "print(results.summary())"
   ],
   "metadata": {
    "collapsed": false,
    "ExecuteTime": {
     "start_time": "2023-06-27T09:01:21.191305Z",
     "end_time": "2023-06-27T09:01:21.203534Z"
    }
   }
  },
  {
   "cell_type": "code",
   "execution_count": 48,
   "outputs": [
    {
     "name": "stderr",
     "output_type": "stream",
     "text": [
      "/Users/nickgault/opt/miniconda3/envs/Kayak/lib/python3.10/site-packages/statsmodels/graphics/tsaplots.py:348: FutureWarning: The default method 'yw' can produce PACF values outside of the [-1,1] interval. After 0.13, the default will change tounadjusted Yule-Walker ('ywm'). You can use this method now by setting method='ywm'.\n",
      "  warnings.warn(\n"
     ]
    },
    {
     "data": {
      "text/plain": "<Figure size 1200x800 with 2 Axes>",
      "image/png": "[encoded data removed]"
     },
     "metadata": {},
     "output_type": "display_data"
    }
   ],
   "source": [
    "fig = plt.figure(figsize=(12, 8))\n",
    "ax1 = fig.add_subplot(211)\n",
    "fig = sm.graphics.tsa.plot_acf(forecasting_errors.values.squeeze(), lags=40, ax=ax1)\n",
    "ax2 = fig.add_subplot(212)\n",
    "fig = sm.graphics.tsa.plot_pacf(forecasting_errors, lags=40, ax=ax2)"
   ],
   "metadata": {
    "collapsed": false,
    "ExecuteTime": {
     "start_time": "2023-06-27T09:01:21.204167Z",
     "end_time": "2023-06-27T09:01:21.488497Z"
    }
   }
  },
  {
   "cell_type": "code",
   "execution_count": 49,
   "outputs": [
    {
     "name": "stderr",
     "output_type": "stream",
     "text": [
      "/Users/nickgault/opt/miniconda3/envs/Kayak/lib/python3.10/site-packages/statsmodels/tsa/base/tsa_model.py:471: ValueWarning: A date index has been provided, but it has no associated frequency information and so will be ignored when e.g. forecasting.\n",
      "  self._init_dates(dates, freq)\n",
      "/Users/nickgault/opt/miniconda3/envs/Kayak/lib/python3.10/site-packages/statsmodels/tsa/base/tsa_model.py:471: ValueWarning: A date index has been provided, but it has no associated frequency information and so will be ignored when e.g. forecasting.\n",
      "  self._init_dates(dates, freq)\n"
     ]
    },
    {
     "name": "stdout",
     "output_type": "stream",
     "text": [
      "                               SARIMAX Results                                \n",
      "==============================================================================\n",
      "Dep. Variable:                      y   No. Observations:                 1749\n",
      "Model:               SARIMAX(1, 1, 1)   Log Likelihood               -4798.172\n",
      "Date:                Tue, 27 Jun 2023   AIC                           9604.344\n",
      "Time:                        09:01:21   BIC                           9626.209\n",
      "Sample:                             0   HQIC                          9612.427\n",
      "                               - 1749                                         \n",
      "Covariance Type:                  opg                                         \n",
      "==============================================================================\n",
      "                 coef    std err          z      P>|z|      [0.025      0.975]\n",
      "------------------------------------------------------------------------------\n",
      "intercept      0.0001      0.009      0.015      0.988      -0.018       0.019\n",
      "ar.L1          0.1797      0.021      8.743      0.000       0.139       0.220\n",
      "ma.L1         -0.8966      0.009    -95.778      0.000      -0.915      -0.878\n",
      "sigma2        14.1721      0.330     42.988      0.000      13.526      14.818\n",
      "===================================================================================\n",
      "Ljung-Box (L1) (Q):                   0.54   Jarque-Bera (JB):               379.94\n",
      "Prob(Q):                              0.46   Prob(JB):                         0.00\n",
      "Heteroskedasticity (H):               1.14   Skew:                             0.12\n",
      "Prob(H) (two-sided):                  0.11   Kurtosis:                         5.27\n",
      "===================================================================================\n",
      "\n",
      "Warnings:\n",
      "[1] Covariance matrix calculated using the outer product of gradients (complex-step).\n"
     ]
    }
   ],
   "source": [
    "mod = sm.tsa.statespace.SARIMAX(forecasting_errors, trend='c', order=(1,1,1))\n",
    "res = mod.fit(disp=False)\n",
    "print(res.summary())"
   ],
   "metadata": {
    "collapsed": false,
    "ExecuteTime": {
     "start_time": "2023-06-27T09:01:21.458449Z",
     "end_time": "2023-06-27T09:01:21.714789Z"
    }
   }
  },
  {
   "cell_type": "code",
   "execution_count": 50,
   "outputs": [],
   "source": [
    "start_date = '2022-10-04'\n",
    "end_date = '2023-05-16'\n",
    "predict = res.predict(start=start_date, end=end_date)"
   ],
   "metadata": {
    "collapsed": false,
    "ExecuteTime": {
     "start_time": "2023-06-27T09:01:21.716603Z",
     "end_time": "2023-06-27T09:01:21.722020Z"
    }
   }
  },
  {
   "cell_type": "code",
   "execution_count": 51,
   "outputs": [
    {
     "data": {
      "text/plain": "2022-10-04 12:00:00   -0.763451\n2022-10-05 12:00:00    0.482211\n2022-10-06 12:00:00    1.194636\n2022-10-07 12:00:00    2.277807\n2022-10-08 12:00:00   -1.200669\n                         ...   \n2023-05-12 12:00:00    0.217086\n2023-05-13 12:00:00    0.835242\n2023-05-14 12:00:00    0.165659\n2023-05-15 12:00:00    0.248413\n2023-05-16 12:00:00    0.141855\nName: predicted_mean, Length: 225, dtype: float64"
     },
     "execution_count": 51,
     "metadata": {},
     "output_type": "execute_result"
    }
   ],
   "source": [
    "predict"
   ],
   "metadata": {
    "collapsed": false,
    "ExecuteTime": {
     "start_time": "2023-06-27T09:01:21.722158Z",
     "end_time": "2023-06-27T09:01:21.726531Z"
    }
   }
  },
  {
   "cell_type": "code",
   "execution_count": 52,
   "outputs": [
    {
     "name": "stdout",
     "output_type": "stream",
     "text": [
      "MSE after adjustment (SARIMAX): 21.945447215733633\n"
     ]
    }
   ],
   "source": [
    "mse_SM = mean_squared_error(y[-225:], predict + regression_preds[-225:])\n",
    "print(f\"MSE after adjustment (SARIMAX): {mse_SM}\") # MSE after adjustments (sarimax)"
   ],
   "metadata": {
    "collapsed": false,
    "ExecuteTime": {
     "start_time": "2023-06-27T09:01:21.728687Z",
     "end_time": "2023-06-27T09:01:21.731805Z"
    }
   }
  },
  {
   "cell_type": "code",
   "execution_count": 52,
   "outputs": [],
   "source": [],
   "metadata": {
    "collapsed": false,
    "ExecuteTime": {
     "start_time": "2023-06-27T09:01:21.732826Z",
     "end_time": "2023-06-27T09:01:21.753335Z"
    }
   }
  },
  {
   "cell_type": "markdown",
   "source": [
    "### forecasting errors - prophet"
   ],
   "metadata": {
    "collapsed": false
   }
  },
  {
   "cell_type": "code",
   "execution_count": 60,
   "outputs": [],
   "source": [
    "errors = forecasting_errors.to_frame()\n",
    "errors['ds'] = errors.index\n",
    "errors.rename(columns={0:'y'}, inplace=True)\n",
    "errors.reset_index(drop=True, inplace=True)"
   ],
   "metadata": {
    "collapsed": false,
    "ExecuteTime": {
     "start_time": "2023-06-21T14:21:35.652054Z",
     "end_time": "2023-06-21T14:21:35.678533Z"
    }
   }
  },
  {
   "cell_type": "code",
   "execution_count": 61,
   "outputs": [],
   "source": [
    "train_len = 0.85\n",
    "train_errors = errors.iloc[:int(len(errors)*train_len)]\n",
    "test_errors = errors.iloc[int(len(errors)*train_len):]"
   ],
   "metadata": {
    "collapsed": false,
    "ExecuteTime": {
     "start_time": "2023-06-21T14:21:35.895579Z",
     "end_time": "2023-06-21T14:21:35.918401Z"
    }
   }
  },
  {
   "cell_type": "code",
   "execution_count": 62,
   "outputs": [
    {
     "name": "stderr",
     "output_type": "stream",
     "text": [
      "14:21:36 - cmdstanpy - INFO - Chain [1] start processing\n",
      "14:21:36 - cmdstanpy - INFO - Chain [1] done processing\n"
     ]
    },
    {
     "data": {
      "text/plain": "<prophet.forecaster.Prophet at 0x7fdab10bcc70>"
     },
     "execution_count": 62,
     "metadata": {},
     "output_type": "execute_result"
    }
   ],
   "source": [
    "m = Prophet()\n",
    "m.fit(train_errors)"
   ],
   "metadata": {
    "collapsed": false,
    "ExecuteTime": {
     "start_time": "2023-06-21T14:21:36.115747Z",
     "end_time": "2023-06-21T14:21:36.324821Z"
    }
   }
  },
  {
   "cell_type": "code",
   "execution_count": 63,
   "outputs": [
    {
     "data": {
      "text/plain": "                      ds\n1744 2023-05-12 12:00:00\n1745 2023-05-13 12:00:00\n1746 2023-05-14 12:00:00\n1747 2023-05-15 12:00:00\n1748 2023-05-16 12:00:00",
      "text/html": "<div>\n<style scoped>\n    .dataframe tbody tr th:only-of-type {\n        vertical-align: middle;\n    }\n\n    .dataframe tbody tr th {\n        vertical-align: top;\n    }\n\n    .dataframe thead th {\n        text-align: right;\n    }\n</style>\n<table border=\"1\" class=\"dataframe\">\n  <thead>\n    <tr style=\"text-align: right;\">\n      <th></th>\n      <th>ds</th>\n    </tr>\n  </thead>\n  <tbody>\n    <tr>\n      <th>1744</th>\n      <td>2023-05-12 12:00:00</td>\n    </tr>\n    <tr>\n      <th>1745</th>\n      <td>2023-05-13 12:00:00</td>\n    </tr>\n    <tr>\n      <th>1746</th>\n      <td>2023-05-14 12:00:00</td>\n    </tr>\n    <tr>\n      <th>1747</th>\n      <td>2023-05-15 12:00:00</td>\n    </tr>\n    <tr>\n      <th>1748</th>\n      <td>2023-05-16 12:00:00</td>\n    </tr>\n  </tbody>\n</table>\n</div>"
     },
     "execution_count": 63,
     "metadata": {},
     "output_type": "execute_result"
    }
   ],
   "source": [
    "future = m.make_future_dataframe(periods=263)\n",
    "future.tail()"
   ],
   "metadata": {
    "collapsed": false,
    "ExecuteTime": {
     "start_time": "2023-06-21T14:21:36.320332Z",
     "end_time": "2023-06-21T14:21:36.368673Z"
    }
   }
  },
  {
   "cell_type": "code",
   "execution_count": 64,
   "outputs": [
    {
     "data": {
      "text/plain": "                      ds      yhat  yhat_lower  yhat_upper\n1744 2023-05-12 12:00:00 -0.405323   -4.842334    4.288892\n1745 2023-05-13 12:00:00 -0.446582   -4.873878    4.505321\n1746 2023-05-14 12:00:00 -0.133364   -4.722036    4.496521\n1747 2023-05-15 12:00:00  0.438097   -4.182505    5.046631\n1748 2023-05-16 12:00:00  0.001857   -4.554514    4.990167",
      "text/html": "<div>\n<style scoped>\n    .dataframe tbody tr th:only-of-type {\n        vertical-align: middle;\n    }\n\n    .dataframe tbody tr th {\n        vertical-align: top;\n    }\n\n    .dataframe thead th {\n        text-align: right;\n    }\n</style>\n<table border=\"1\" class=\"dataframe\">\n  <thead>\n    <tr style=\"text-align: right;\">\n      <th></th>\n      <th>ds</th>\n      <th>yhat</th>\n      <th>yhat_lower</th>\n      <th>yhat_upper</th>\n    </tr>\n  </thead>\n  <tbody>\n    <tr>\n      <th>1744</th>\n      <td>2023-05-12 12:00:00</td>\n      <td>-0.405323</td>\n      <td>-4.842334</td>\n      <td>4.288892</td>\n    </tr>\n    <tr>\n      <th>1745</th>\n      <td>2023-05-13 12:00:00</td>\n      <td>-0.446582</td>\n      <td>-4.873878</td>\n      <td>4.505321</td>\n    </tr>\n    <tr>\n      <th>1746</th>\n      <td>2023-05-14 12:00:00</td>\n      <td>-0.133364</td>\n      <td>-4.722036</td>\n      <td>4.496521</td>\n    </tr>\n    <tr>\n      <th>1747</th>\n      <td>2023-05-15 12:00:00</td>\n      <td>0.438097</td>\n      <td>-4.182505</td>\n      <td>5.046631</td>\n    </tr>\n    <tr>\n      <th>1748</th>\n      <td>2023-05-16 12:00:00</td>\n      <td>0.001857</td>\n      <td>-4.554514</td>\n      <td>4.990167</td>\n    </tr>\n  </tbody>\n</table>\n</div>"
     },
     "execution_count": 64,
     "metadata": {},
     "output_type": "execute_result"
    }
   ],
   "source": [
    "forecast = m.predict(future)\n",
    "forecast[['ds', 'yhat', 'yhat_lower', 'yhat_upper']].tail()"
   ],
   "metadata": {
    "collapsed": false,
    "ExecuteTime": {
     "start_time": "2023-06-21T14:21:37.082451Z",
     "end_time": "2023-06-21T14:21:37.314110Z"
    }
   }
  },
  {
   "cell_type": "code",
   "execution_count": 65,
   "outputs": [
    {
     "data": {
      "text/plain": "<Figure size 1000x600 with 1 Axes>",
      "image/png": "[encoded data removed]"
     },
     "metadata": {},
     "output_type": "display_data"
    }
   ],
   "source": [
    "fig1 = m.plot(forecast)"
   ],
   "metadata": {
    "collapsed": false,
    "ExecuteTime": {
     "start_time": "2023-06-21T14:21:37.306967Z",
     "end_time": "2023-06-21T14:21:37.518185Z"
    }
   }
  },
  {
   "cell_type": "code",
   "execution_count": 66,
   "outputs": [
    {
     "data": {
      "text/plain": "<Figure size 900x900 with 3 Axes>",
      "image/png": "[encoded data removed]"
     },
     "metadata": {},
     "output_type": "display_data"
    }
   ],
   "source": [
    "fig2 = m.plot_components(forecast)"
   ],
   "metadata": {
    "collapsed": false,
    "ExecuteTime": {
     "start_time": "2023-06-21T14:21:37.516731Z",
     "end_time": "2023-06-21T14:21:37.942937Z"
    }
   }
  },
  {
   "cell_type": "code",
   "execution_count": 66,
   "outputs": [],
   "source": [],
   "metadata": {
    "collapsed": false,
    "ExecuteTime": {
     "start_time": "2023-06-21T14:21:37.944746Z",
     "end_time": "2023-06-21T14:21:37.953739Z"
    }
   }
  },
  {
   "cell_type": "code",
   "execution_count": 67,
   "outputs": [],
   "source": [
    "forecasted_errors = forecast[['ds', 'yhat']]\n",
    "forecasted_errors.set_index('ds', inplace=True)"
   ],
   "metadata": {
    "collapsed": false,
    "ExecuteTime": {
     "start_time": "2023-06-21T14:21:37.950357Z",
     "end_time": "2023-06-21T14:21:37.953913Z"
    }
   }
  },
  {
   "cell_type": "code",
   "execution_count": 68,
   "outputs": [
    {
     "data": {
      "text/plain": "28.923662742350903"
     },
     "execution_count": 68,
     "metadata": {},
     "output_type": "execute_result"
    }
   ],
   "source": [
    "# errors without adjustment\n",
    "((regression_preds[-225:] - y[-225:]) **2).mean()"
   ],
   "metadata": {
    "collapsed": false,
    "ExecuteTime": {
     "start_time": "2023-06-21T14:21:38.360385Z",
     "end_time": "2023-06-21T14:21:38.378774Z"
    }
   }
  },
  {
   "cell_type": "code",
   "execution_count": 69,
   "outputs": [
    {
     "data": {
      "text/plain": "29.352188423546476"
     },
     "execution_count": 69,
     "metadata": {},
     "output_type": "execute_result"
    }
   ],
   "source": [
    "# errors with prophet adjustment\n",
    "(((regression_preds[-225:] + forecasted_errors['yhat'][-225:]) - y[-225:])**2).mean()"
   ],
   "metadata": {
    "collapsed": false,
    "ExecuteTime": {
     "start_time": "2023-06-21T14:21:38.636222Z",
     "end_time": "2023-06-21T14:21:38.661468Z"
    }
   }
  },
  {
   "cell_type": "code",
   "execution_count": 69,
   "outputs": [],
   "source": [],
   "metadata": {
    "collapsed": false,
    "ExecuteTime": {
     "start_time": "2023-06-21T14:21:42.399813Z",
     "end_time": "2023-06-21T14:21:42.419073Z"
    }
   }
  },
  {
   "cell_type": "code",
   "execution_count": 69,
   "outputs": [],
   "source": [],
   "metadata": {
    "collapsed": false,
    "ExecuteTime": {
     "start_time": "2023-06-21T14:21:42.699960Z",
     "end_time": "2023-06-21T14:21:42.730537Z"
    }
   }
  },
  {
   "cell_type": "markdown",
   "source": [
    "### forecasting errors - autogluon"
   ],
   "metadata": {
    "collapsed": false
   }
  },
  {
   "cell_type": "code",
   "execution_count": 101,
   "outputs": [],
   "source": [
    "data_df = data.copy()"
   ],
   "metadata": {
    "collapsed": false,
    "ExecuteTime": {
     "start_time": "2023-06-27T10:25:58.105790Z",
     "end_time": "2023-06-27T10:25:58.118556Z"
    }
   }
  },
  {
   "cell_type": "code",
   "execution_count": 102,
   "outputs": [],
   "source": [
    "data_df['errors'] = forecasting_errors"
   ],
   "metadata": {
    "collapsed": false,
    "ExecuteTime": {
     "start_time": "2023-06-27T10:25:58.229384Z",
     "end_time": "2023-06-27T10:25:58.241708Z"
    }
   }
  },
  {
   "cell_type": "code",
   "execution_count": 103,
   "outputs": [],
   "source": [
    "data_df.drop('ens(9,14)', axis=1, inplace=True)"
   ],
   "metadata": {
    "collapsed": false,
    "ExecuteTime": {
     "start_time": "2023-06-27T10:25:58.412686Z",
     "end_time": "2023-06-27T10:25:58.424836Z"
    }
   }
  },
  {
   "cell_type": "code",
   "execution_count": 104,
   "outputs": [],
   "source": [
    "label = 'errors'\n",
    "features = ['ens(8)', 'ecmwf(9,10)', 'gfs(11,14)', 'cmc(9,14)']"
   ],
   "metadata": {
    "collapsed": false,
    "ExecuteTime": {
     "start_time": "2023-06-27T10:25:58.582762Z",
     "end_time": "2023-06-27T10:25:58.595387Z"
    }
   }
  },
  {
   "cell_type": "code",
   "execution_count": 105,
   "outputs": [],
   "source": [
    "train_len = 0.85"
   ],
   "metadata": {
    "collapsed": false,
    "ExecuteTime": {
     "start_time": "2023-06-27T10:25:58.774230Z",
     "end_time": "2023-06-27T10:25:58.786891Z"
    }
   }
  },
  {
   "cell_type": "code",
   "execution_count": 106,
   "outputs": [],
   "source": [
    "train_data = TabularDataset(data_df.iloc[:int(len(data_df)*train_len)])\n",
    "test_data = TabularDataset(data_df.iloc[int(len(data_df)*train_len):])"
   ],
   "metadata": {
    "collapsed": false,
    "ExecuteTime": {
     "start_time": "2023-06-27T10:25:58.943778Z",
     "end_time": "2023-06-27T10:25:58.956734Z"
    }
   }
  },
  {
   "cell_type": "code",
   "execution_count": 107,
   "outputs": [
    {
     "data": {
      "text/plain": "                     ens(8)  ecmwf(9,10)  gfs(11,14)  cmc(9,14)    errors\n2018-07-11 12:00:00   0.003        0.088       0.037     -0.040 -0.059605\n2018-07-12 12:00:00  -0.002        0.045       0.036     -0.053 -0.029529\n2018-07-13 12:00:00   0.000        0.021       0.028     -0.048 -0.014311\n2018-07-14 12:00:00  -0.001       -0.007       0.036     -0.053  0.002792\n2018-07-15 12:00:00   0.000        0.002       0.024     -0.039  0.009223\n...                     ...          ...         ...        ...       ...\n2022-08-22 12:00:00   0.031       -0.265       2.083     -3.034 -0.586802\n2022-08-23 12:00:00   0.016        0.539       1.062     -1.052  0.640442\n2022-08-24 12:00:00   0.166        0.209       0.659     -0.764 -0.273508\n2022-08-25 12:00:00   0.139        0.043       0.221     -1.111 -0.568420\n2022-08-26 12:00:00   0.035        0.203       1.683     -2.394 -0.602595\n\n[1486 rows x 5 columns]",
      "text/html": "<div>\n<style scoped>\n    .dataframe tbody tr th:only-of-type {\n        vertical-align: middle;\n    }\n\n    .dataframe tbody tr th {\n        vertical-align: top;\n    }\n\n    .dataframe thead th {\n        text-align: right;\n    }\n</style>\n<table border=\"1\" class=\"dataframe\">\n  <thead>\n    <tr style=\"text-align: right;\">\n      <th></th>\n      <th>ens(8)</th>\n      <th>ecmwf(9,10)</th>\n      <th>gfs(11,14)</th>\n      <th>cmc(9,14)</th>\n      <th>errors</th>\n    </tr>\n  </thead>\n  <tbody>\n    <tr>\n      <th>2018-07-11 12:00:00</th>\n      <td>0.003</td>\n      <td>0.088</td>\n      <td>0.037</td>\n      <td>-0.040</td>\n      <td>-0.059605</td>\n    </tr>\n    <tr>\n      <th>2018-07-12 12:00:00</th>\n      <td>-0.002</td>\n      <td>0.045</td>\n      <td>0.036</td>\n      <td>-0.053</td>\n      <td>-0.029529</td>\n    </tr>\n    <tr>\n      <th>2018-07-13 12:00:00</th>\n      <td>0.000</td>\n      <td>0.021</td>\n      <td>0.028</td>\n      <td>-0.048</td>\n      <td>-0.014311</td>\n    </tr>\n    <tr>\n      <th>2018-07-14 12:00:00</th>\n      <td>-0.001</td>\n      <td>-0.007</td>\n      <td>0.036</td>\n      <td>-0.053</td>\n      <td>0.002792</td>\n    </tr>\n    <tr>\n      <th>2018-07-15 12:00:00</th>\n      <td>0.000</td>\n      <td>0.002</td>\n      <td>0.024</td>\n      <td>-0.039</td>\n      <td>0.009223</td>\n    </tr>\n    <tr>\n      <th>...</th>\n      <td>...</td>\n      <td>...</td>\n      <td>...</td>\n      <td>...</td>\n      <td>...</td>\n    </tr>\n    <tr>\n      <th>2022-08-22 12:00:00</th>\n      <td>0.031</td>\n      <td>-0.265</td>\n      <td>2.083</td>\n      <td>-3.034</td>\n      <td>-0.586802</td>\n    </tr>\n    <tr>\n      <th>2022-08-23 12:00:00</th>\n      <td>0.016</td>\n      <td>0.539</td>\n      <td>1.062</td>\n      <td>-1.052</td>\n      <td>0.640442</td>\n    </tr>\n    <tr>\n      <th>2022-08-24 12:00:00</th>\n      <td>0.166</td>\n      <td>0.209</td>\n      <td>0.659</td>\n      <td>-0.764</td>\n      <td>-0.273508</td>\n    </tr>\n    <tr>\n      <th>2022-08-25 12:00:00</th>\n      <td>0.139</td>\n      <td>0.043</td>\n      <td>0.221</td>\n      <td>-1.111</td>\n      <td>-0.568420</td>\n    </tr>\n    <tr>\n      <th>2022-08-26 12:00:00</th>\n      <td>0.035</td>\n      <td>0.203</td>\n      <td>1.683</td>\n      <td>-2.394</td>\n      <td>-0.602595</td>\n    </tr>\n  </tbody>\n</table>\n<p>1486 rows × 5 columns</p>\n</div>"
     },
     "execution_count": 107,
     "metadata": {},
     "output_type": "execute_result"
    }
   ],
   "source": [
    "train_data"
   ],
   "metadata": {
    "collapsed": false,
    "ExecuteTime": {
     "start_time": "2023-06-27T10:25:59.113391Z",
     "end_time": "2023-06-27T10:25:59.133424Z"
    }
   }
  },
  {
   "cell_type": "code",
   "execution_count": 108,
   "outputs": [
    {
     "data": {
      "text/plain": "                     ens(8)  ecmwf(9,10)  gfs(11,14)  cmc(9,14)    errors\n2022-08-27 12:00:00  -0.098        0.280       0.934     -0.500 -0.428200\n2022-08-28 12:00:00   0.182        0.359       1.993     -0.988  0.291505\n2022-08-29 12:00:00   0.067        0.494       1.077     -1.045 -1.001312\n2022-08-30 12:00:00  -0.092        0.420       1.461      0.594 -0.299084\n2022-08-31 12:00:00  -0.033        0.435       1.372     -1.661 -0.562577\n...                     ...          ...         ...        ...       ...\n2023-05-12 12:00:00  -1.098       -0.773       0.803     -2.337  1.749556\n2023-05-13 12:00:00  -0.563        0.351       1.843      0.595 -0.950294\n2023-05-14 12:00:00   0.210        0.871       1.201     -2.417 -0.250887\n2023-05-15 12:00:00  -0.080        2.357       1.071     -2.618 -0.445469\n2023-05-16 12:00:00  -0.264        0.081       0.362     -1.419  0.100423\n\n[263 rows x 5 columns]",
      "text/html": "<div>\n<style scoped>\n    .dataframe tbody tr th:only-of-type {\n        vertical-align: middle;\n    }\n\n    .dataframe tbody tr th {\n        vertical-align: top;\n    }\n\n    .dataframe thead th {\n        text-align: right;\n    }\n</style>\n<table border=\"1\" class=\"dataframe\">\n  <thead>\n    <tr style=\"text-align: right;\">\n      <th></th>\n      <th>ens(8)</th>\n      <th>ecmwf(9,10)</th>\n      <th>gfs(11,14)</th>\n      <th>cmc(9,14)</th>\n      <th>errors</th>\n    </tr>\n  </thead>\n  <tbody>\n    <tr>\n      <th>2022-08-27 12:00:00</th>\n      <td>-0.098</td>\n      <td>0.280</td>\n      <td>0.934</td>\n      <td>-0.500</td>\n      <td>-0.428200</td>\n    </tr>\n    <tr>\n      <th>2022-08-28 12:00:00</th>\n      <td>0.182</td>\n      <td>0.359</td>\n      <td>1.993</td>\n      <td>-0.988</td>\n      <td>0.291505</td>\n    </tr>\n    <tr>\n      <th>2022-08-29 12:00:00</th>\n      <td>0.067</td>\n      <td>0.494</td>\n      <td>1.077</td>\n      <td>-1.045</td>\n      <td>-1.001312</td>\n    </tr>\n    <tr>\n      <th>2022-08-30 12:00:00</th>\n      <td>-0.092</td>\n      <td>0.420</td>\n      <td>1.461</td>\n      <td>0.594</td>\n      <td>-0.299084</td>\n    </tr>\n    <tr>\n      <th>2022-08-31 12:00:00</th>\n      <td>-0.033</td>\n      <td>0.435</td>\n      <td>1.372</td>\n      <td>-1.661</td>\n      <td>-0.562577</td>\n    </tr>\n    <tr>\n      <th>...</th>\n      <td>...</td>\n      <td>...</td>\n      <td>...</td>\n      <td>...</td>\n      <td>...</td>\n    </tr>\n    <tr>\n      <th>2023-05-12 12:00:00</th>\n      <td>-1.098</td>\n      <td>-0.773</td>\n      <td>0.803</td>\n      <td>-2.337</td>\n      <td>1.749556</td>\n    </tr>\n    <tr>\n      <th>2023-05-13 12:00:00</th>\n      <td>-0.563</td>\n      <td>0.351</td>\n      <td>1.843</td>\n      <td>0.595</td>\n      <td>-0.950294</td>\n    </tr>\n    <tr>\n      <th>2023-05-14 12:00:00</th>\n      <td>0.210</td>\n      <td>0.871</td>\n      <td>1.201</td>\n      <td>-2.417</td>\n      <td>-0.250887</td>\n    </tr>\n    <tr>\n      <th>2023-05-15 12:00:00</th>\n      <td>-0.080</td>\n      <td>2.357</td>\n      <td>1.071</td>\n      <td>-2.618</td>\n      <td>-0.445469</td>\n    </tr>\n    <tr>\n      <th>2023-05-16 12:00:00</th>\n      <td>-0.264</td>\n      <td>0.081</td>\n      <td>0.362</td>\n      <td>-1.419</td>\n      <td>0.100423</td>\n    </tr>\n  </tbody>\n</table>\n<p>263 rows × 5 columns</p>\n</div>"
     },
     "execution_count": 108,
     "metadata": {},
     "output_type": "execute_result"
    }
   ],
   "source": [
    "test_data"
   ],
   "metadata": {
    "collapsed": false,
    "ExecuteTime": {
     "start_time": "2023-06-27T10:25:59.273953Z",
     "end_time": "2023-06-27T10:25:59.279743Z"
    }
   }
  },
  {
   "cell_type": "code",
   "execution_count": 109,
   "outputs": [
    {
     "name": "stderr",
     "output_type": "stream",
     "text": [
      "No path specified. Models will be saved in: \"AutogluonModels/ag-20230627_162559/\"\n",
      "Presets specified: ['best_quality']\n",
      "Stack configuration (auto_stack=True): num_stack_levels=1, num_bag_folds=8, num_bag_sets=1\n",
      "Beginning AutoGluon training ...\n",
      "AutoGluon will save models to \"AutogluonModels/ag-20230627_162559/\"\n",
      "AutoGluon Version:  0.7.0\n",
      "Python Version:     3.10.9\n",
      "Operating System:   Darwin\n",
      "Platform Machine:   x86_64\n",
      "Platform Version:   Darwin Kernel Version 22.5.0: Mon Apr 24 20:53:44 PDT 2023; root:xnu-8796.121.2~5/RELEASE_ARM64_T8103\n",
      "Train Data Rows:    1486\n",
      "Train Data Columns: 4\n",
      "Label Column: errors\n",
      "Preprocessing data ...\n",
      "AutoGluon infers your prediction problem is: 'regression' (because dtype of label-column == float and many unique label-values observed).\n",
      "\tLabel info (max, min, mean, stddev): (17.931256573045424, -15.70444824739661, 0.30115, 3.80706)\n",
      "\tIf 'regression' is not the correct problem_type, please manually specify the problem_type parameter during predictor init (You may specify problem_type as one of: ['binary', 'multiclass', 'regression'])\n",
      "Using Feature Generators to preprocess the data ...\n",
      "Fitting AutoMLPipelineFeatureGenerator...\n",
      "\tAvailable Memory:                    1321.65 MB\n",
      "\tTrain Data (Original)  Memory Usage: 0.05 MB (0.0% of available memory)\n",
      "\tInferring data type of each feature based on column values. Set feature_metadata_in to manually specify special dtypes of the features.\n",
      "\tStage 1 Generators:\n",
      "\t\tFitting AsTypeFeatureGenerator...\n",
      "\tStage 2 Generators:\n",
      "\t\tFitting FillNaFeatureGenerator...\n",
      "\tStage 3 Generators:\n",
      "\t\tFitting IdentityFeatureGenerator...\n",
      "\tStage 4 Generators:\n",
      "\t\tFitting DropUniqueFeatureGenerator...\n",
      "\tTypes of features in original data (raw dtype, special dtypes):\n",
      "\t\t('float', []) : 4 | ['ens(8)', 'ecmwf(9,10)', 'gfs(11,14)', 'cmc(9,14)']\n",
      "\tTypes of features in processed data (raw dtype, special dtypes):\n",
      "\t\t('float', []) : 4 | ['ens(8)', 'ecmwf(9,10)', 'gfs(11,14)', 'cmc(9,14)']\n",
      "\t0.0s = Fit runtime\n",
      "\t4 features in original data used to generate 4 features in processed data.\n",
      "\tTrain Data (Processed) Memory Usage: 0.05 MB (0.0% of available memory)\n",
      "Data preprocessing and feature engineering runtime = 0.02s ...\n",
      "AutoGluon will gauge predictive performance using evaluation metric: 'root_mean_squared_error'\n",
      "\tThis metric's sign has been flipped to adhere to being higher_is_better. The metric score can be multiplied by -1 to get the metric value.\n",
      "\tTo change this, specify the eval_metric parameter of Predictor()\n",
      "AutoGluon will fit 2 stack levels (L1 to L2) ...\n",
      "Fitting 11 L1 models ...\n",
      "Fitting model: KNeighborsUnif_BAG_L1 ...\n",
      "\t-3.8664\t = Validation score   (-root_mean_squared_error)\n",
      "\t0.0s\t = Training   runtime\n",
      "\t0.01s\t = Validation runtime\n",
      "Fitting model: KNeighborsDist_BAG_L1 ...\n",
      "\t-3.9205\t = Validation score   (-root_mean_squared_error)\n",
      "\t0.0s\t = Training   runtime\n",
      "\t0.0s\t = Validation runtime\n",
      "Fitting model: LightGBMXT_BAG_L1 ...\n",
      "\tFitting 8 child models (S1F1 - S1F8) | Fitting with SequentialLocalFoldFittingStrategy\n",
      "\tWarning: Exception caused LightGBMXT_BAG_L1 to fail during training (ImportError)... Skipping this model.\n",
      "\t\t`import lightgbm` failed. If you are using Mac OSX, Please try 'brew install libomp'. Detailed info: dlopen(/Users/nickgault/opt/miniconda3/envs/Kayak/lib/python3.10/site-packages/lightgbm/lib_lightgbm.so, 0x0006): Library not loaded: /usr/local/opt/libomp/lib/libomp.dylib\n",
      "  Referenced from: <D21A7969-4567-3BC7-94ED-6A9E83AE9D78> /Users/nickgault/opt/miniconda3/envs/Kayak/lib/python3.10/site-packages/lightgbm/lib_lightgbm.so\n",
      "  Reason: tried: '/usr/local/opt/libomp/lib/libomp.dylib' (no such file), '/System/Volumes/Preboot/Cryptexes/OS/usr/local/opt/libomp/lib/libomp.dylib' (no such file), '/usr/local/opt/libomp/lib/libomp.dylib' (no such file), '/usr/local/lib/libomp.dylib' (no such file), '/usr/lib/libomp.dylib' (no such file, not in dyld cache)\n",
      "Fitting model: LightGBM_BAG_L1 ...\n",
      "\tFitting 8 child models (S1F1 - S1F8) | Fitting with SequentialLocalFoldFittingStrategy\n",
      "\tWarning: Exception caused LightGBM_BAG_L1 to fail during training (ImportError)... Skipping this model.\n",
      "\t\t`import lightgbm` failed. If you are using Mac OSX, Please try 'brew install libomp'. Detailed info: dlopen(/Users/nickgault/opt/miniconda3/envs/Kayak/lib/python3.10/site-packages/lightgbm/lib_lightgbm.so, 0x0006): Library not loaded: /usr/local/opt/libomp/lib/libomp.dylib\n",
      "  Referenced from: <D21A7969-4567-3BC7-94ED-6A9E83AE9D78> /Users/nickgault/opt/miniconda3/envs/Kayak/lib/python3.10/site-packages/lightgbm/lib_lightgbm.so\n",
      "  Reason: tried: '/usr/local/opt/libomp/lib/libomp.dylib' (no such file), '/System/Volumes/Preboot/Cryptexes/OS/usr/local/opt/libomp/lib/libomp.dylib' (no such file), '/usr/local/opt/libomp/lib/libomp.dylib' (no such file), '/usr/local/lib/libomp.dylib' (no such file), '/usr/lib/libomp.dylib' (no such file, not in dyld cache)\n",
      "Fitting model: RandomForestMSE_BAG_L1 ...\n",
      "\t-3.7655\t = Validation score   (-root_mean_squared_error)\n",
      "\t0.54s\t = Training   runtime\n",
      "\t0.09s\t = Validation runtime\n",
      "Fitting model: CatBoost_BAG_L1 ...\n",
      "\tFitting 8 child models (S1F1 - S1F8) | Fitting with SequentialLocalFoldFittingStrategy\n",
      "\t-3.5813\t = Validation score   (-root_mean_squared_error)\n",
      "\t3.06s\t = Training   runtime\n",
      "\t0.01s\t = Validation runtime\n",
      "Fitting model: ExtraTreesMSE_BAG_L1 ...\n",
      "\t-3.6856\t = Validation score   (-root_mean_squared_error)\n",
      "\t0.25s\t = Training   runtime\n",
      "\t0.09s\t = Validation runtime\n",
      "Fitting model: NeuralNetFastAI_BAG_L1 ...\n",
      "\tFitting 8 child models (S1F1 - S1F8) | Fitting with SequentialLocalFoldFittingStrategy\n",
      "No improvement since epoch 6: early stopping\n",
      "No improvement since epoch 5: early stopping\n",
      "No improvement since epoch 0: early stopping\n",
      "\t-3.5753\t = Validation score   (-root_mean_squared_error)\n",
      "\t8.2s\t = Training   runtime\n",
      "\t0.03s\t = Validation runtime\n",
      "Fitting model: XGBoost_BAG_L1 ...\n",
      "\tFitting 8 child models (S1F1 - S1F8) | Fitting with SequentialLocalFoldFittingStrategy\n",
      "\t-3.65\t = Validation score   (-root_mean_squared_error)\n",
      "\t2.23s\t = Training   runtime\n",
      "\t0.02s\t = Validation runtime\n",
      "Fitting model: NeuralNetTorch_BAG_L1 ...\n",
      "\tFitting 8 child models (S1F1 - S1F8) | Fitting with SequentialLocalFoldFittingStrategy\n",
      "\t-3.5879\t = Validation score   (-root_mean_squared_error)\n",
      "\t14.51s\t = Training   runtime\n",
      "\t0.02s\t = Validation runtime\n",
      "Fitting model: LightGBMLarge_BAG_L1 ...\n",
      "\tFitting 8 child models (S1F1 - S1F8) | Fitting with SequentialLocalFoldFittingStrategy\n",
      "\tWarning: Exception caused LightGBMLarge_BAG_L1 to fail during training (ImportError)... Skipping this model.\n",
      "\t\t`import lightgbm` failed. If you are using Mac OSX, Please try 'brew install libomp'. Detailed info: dlopen(/Users/nickgault/opt/miniconda3/envs/Kayak/lib/python3.10/site-packages/lightgbm/lib_lightgbm.so, 0x0006): Library not loaded: /usr/local/opt/libomp/lib/libomp.dylib\n",
      "  Referenced from: <D21A7969-4567-3BC7-94ED-6A9E83AE9D78> /Users/nickgault/opt/miniconda3/envs/Kayak/lib/python3.10/site-packages/lightgbm/lib_lightgbm.so\n",
      "  Reason: tried: '/usr/local/opt/libomp/lib/libomp.dylib' (no such file), '/System/Volumes/Preboot/Cryptexes/OS/usr/local/opt/libomp/lib/libomp.dylib' (no such file), '/usr/local/opt/libomp/lib/libomp.dylib' (no such file), '/usr/local/lib/libomp.dylib' (no such file), '/usr/lib/libomp.dylib' (no such file, not in dyld cache)\n",
      "Fitting model: WeightedEnsemble_L2 ...\n",
      "\t-3.544\t = Validation score   (-root_mean_squared_error)\n",
      "\t0.13s\t = Training   runtime\n",
      "\t0.0s\t = Validation runtime\n",
      "Fitting 9 L2 models ...\n",
      "Fitting model: LightGBMXT_BAG_L2 ...\n",
      "\tFitting 8 child models (S1F1 - S1F8) | Fitting with SequentialLocalFoldFittingStrategy\n",
      "\tWarning: Exception caused LightGBMXT_BAG_L2 to fail during training (ImportError)... Skipping this model.\n",
      "\t\t`import lightgbm` failed. If you are using Mac OSX, Please try 'brew install libomp'. Detailed info: dlopen(/Users/nickgault/opt/miniconda3/envs/Kayak/lib/python3.10/site-packages/lightgbm/lib_lightgbm.so, 0x0006): Library not loaded: /usr/local/opt/libomp/lib/libomp.dylib\n",
      "  Referenced from: <D21A7969-4567-3BC7-94ED-6A9E83AE9D78> /Users/nickgault/opt/miniconda3/envs/Kayak/lib/python3.10/site-packages/lightgbm/lib_lightgbm.so\n",
      "  Reason: tried: '/usr/local/opt/libomp/lib/libomp.dylib' (no such file), '/System/Volumes/Preboot/Cryptexes/OS/usr/local/opt/libomp/lib/libomp.dylib' (no such file), '/usr/local/opt/libomp/lib/libomp.dylib' (no such file), '/usr/local/lib/libomp.dylib' (no such file), '/usr/lib/libomp.dylib' (no such file, not in dyld cache)\n",
      "Fitting model: LightGBM_BAG_L2 ...\n",
      "\tFitting 8 child models (S1F1 - S1F8) | Fitting with SequentialLocalFoldFittingStrategy\n",
      "\tWarning: Exception caused LightGBM_BAG_L2 to fail during training (ImportError)... Skipping this model.\n",
      "\t\t`import lightgbm` failed. If you are using Mac OSX, Please try 'brew install libomp'. Detailed info: dlopen(/Users/nickgault/opt/miniconda3/envs/Kayak/lib/python3.10/site-packages/lightgbm/lib_lightgbm.so, 0x0006): Library not loaded: /usr/local/opt/libomp/lib/libomp.dylib\n",
      "  Referenced from: <D21A7969-4567-3BC7-94ED-6A9E83AE9D78> /Users/nickgault/opt/miniconda3/envs/Kayak/lib/python3.10/site-packages/lightgbm/lib_lightgbm.so\n",
      "  Reason: tried: '/usr/local/opt/libomp/lib/libomp.dylib' (no such file), '/System/Volumes/Preboot/Cryptexes/OS/usr/local/opt/libomp/lib/libomp.dylib' (no such file), '/usr/local/opt/libomp/lib/libomp.dylib' (no such file), '/usr/local/lib/libomp.dylib' (no such file), '/usr/lib/libomp.dylib' (no such file, not in dyld cache)\n",
      "Fitting model: RandomForestMSE_BAG_L2 ...\n",
      "\t-3.6258\t = Validation score   (-root_mean_squared_error)\n",
      "\t1.0s\t = Training   runtime\n",
      "\t0.08s\t = Validation runtime\n",
      "Fitting model: CatBoost_BAG_L2 ...\n",
      "\tFitting 8 child models (S1F1 - S1F8) | Fitting with SequentialLocalFoldFittingStrategy\n",
      "\t-3.5742\t = Validation score   (-root_mean_squared_error)\n",
      "\t3.81s\t = Training   runtime\n",
      "\t0.01s\t = Validation runtime\n",
      "Fitting model: ExtraTreesMSE_BAG_L2 ...\n",
      "\t-3.5949\t = Validation score   (-root_mean_squared_error)\n",
      "\t0.35s\t = Training   runtime\n",
      "\t0.09s\t = Validation runtime\n",
      "Fitting model: NeuralNetFastAI_BAG_L2 ...\n",
      "\tFitting 8 child models (S1F1 - S1F8) | Fitting with SequentialLocalFoldFittingStrategy\n",
      "No improvement since epoch 2: early stopping\n",
      "No improvement since epoch 9: early stopping\n",
      "No improvement since epoch 2: early stopping\n",
      "No improvement since epoch 3: early stopping\n",
      "No improvement since epoch 3: early stopping\n",
      "No improvement since epoch 1: early stopping\n",
      "No improvement since epoch 2: early stopping\n",
      "No improvement since epoch 9: early stopping\n",
      "\t-3.6108\t = Validation score   (-root_mean_squared_error)\n",
      "\t7.22s\t = Training   runtime\n",
      "\t0.04s\t = Validation runtime\n",
      "Fitting model: XGBoost_BAG_L2 ...\n",
      "\tFitting 8 child models (S1F1 - S1F8) | Fitting with SequentialLocalFoldFittingStrategy\n",
      "\t-3.6046\t = Validation score   (-root_mean_squared_error)\n",
      "\t3.91s\t = Training   runtime\n",
      "\t0.02s\t = Validation runtime\n",
      "Fitting model: NeuralNetTorch_BAG_L2 ...\n",
      "\tFitting 8 child models (S1F1 - S1F8) | Fitting with SequentialLocalFoldFittingStrategy\n",
      "\t-3.5925\t = Validation score   (-root_mean_squared_error)\n",
      "\t9.56s\t = Training   runtime\n",
      "\t0.05s\t = Validation runtime\n",
      "Fitting model: LightGBMLarge_BAG_L2 ...\n",
      "\tFitting 8 child models (S1F1 - S1F8) | Fitting with SequentialLocalFoldFittingStrategy\n",
      "\tWarning: Exception caused LightGBMLarge_BAG_L2 to fail during training (ImportError)... Skipping this model.\n",
      "\t\t`import lightgbm` failed. If you are using Mac OSX, Please try 'brew install libomp'. Detailed info: dlopen(/Users/nickgault/opt/miniconda3/envs/Kayak/lib/python3.10/site-packages/lightgbm/lib_lightgbm.so, 0x0006): Library not loaded: /usr/local/opt/libomp/lib/libomp.dylib\n",
      "  Referenced from: <D21A7969-4567-3BC7-94ED-6A9E83AE9D78> /Users/nickgault/opt/miniconda3/envs/Kayak/lib/python3.10/site-packages/lightgbm/lib_lightgbm.so\n",
      "  Reason: tried: '/usr/local/opt/libomp/lib/libomp.dylib' (no such file), '/System/Volumes/Preboot/Cryptexes/OS/usr/local/opt/libomp/lib/libomp.dylib' (no such file), '/usr/local/opt/libomp/lib/libomp.dylib' (no such file), '/usr/local/lib/libomp.dylib' (no such file), '/usr/lib/libomp.dylib' (no such file, not in dyld cache)\n",
      "Fitting model: WeightedEnsemble_L3 ...\n",
      "\t-3.5462\t = Validation score   (-root_mean_squared_error)\n",
      "\t0.1s\t = Training   runtime\n",
      "\t0.0s\t = Validation runtime\n",
      "AutoGluon training complete, total runtime = 56.07s ... Best model: \"WeightedEnsemble_L2\"\n",
      "TabularPredictor saved. To load, use: predictor = TabularPredictor.load(\"AutogluonModels/ag-20230627_162559/\")\n"
     ]
    }
   ],
   "source": [
    "predictor = TabularPredictor(label=label).fit(train_data, presets='best_quality')"
   ],
   "metadata": {
    "collapsed": false,
    "ExecuteTime": {
     "start_time": "2023-06-27T10:25:59.452659Z",
     "end_time": "2023-06-27T10:26:55.540215Z"
    }
   }
  },
  {
   "cell_type": "code",
   "execution_count": 110,
   "outputs": [
    {
     "data": {
      "text/plain": "                     ens(8)  ecmwf(9,10)  gfs(11,14)  cmc(9,14)\n2022-08-27 12:00:00  -0.098        0.280       0.934     -0.500\n2022-08-28 12:00:00   0.182        0.359       1.993     -0.988\n2022-08-29 12:00:00   0.067        0.494       1.077     -1.045\n2022-08-30 12:00:00  -0.092        0.420       1.461      0.594\n2022-08-31 12:00:00  -0.033        0.435       1.372     -1.661\n...                     ...          ...         ...        ...\n2023-05-12 12:00:00  -1.098       -0.773       0.803     -2.337\n2023-05-13 12:00:00  -0.563        0.351       1.843      0.595\n2023-05-14 12:00:00   0.210        0.871       1.201     -2.417\n2023-05-15 12:00:00  -0.080        2.357       1.071     -2.618\n2023-05-16 12:00:00  -0.264        0.081       0.362     -1.419\n\n[263 rows x 4 columns]",
      "text/html": "<div>\n<style scoped>\n    .dataframe tbody tr th:only-of-type {\n        vertical-align: middle;\n    }\n\n    .dataframe tbody tr th {\n        vertical-align: top;\n    }\n\n    .dataframe thead th {\n        text-align: right;\n    }\n</style>\n<table border=\"1\" class=\"dataframe\">\n  <thead>\n    <tr style=\"text-align: right;\">\n      <th></th>\n      <th>ens(8)</th>\n      <th>ecmwf(9,10)</th>\n      <th>gfs(11,14)</th>\n      <th>cmc(9,14)</th>\n    </tr>\n  </thead>\n  <tbody>\n    <tr>\n      <th>2022-08-27 12:00:00</th>\n      <td>-0.098</td>\n      <td>0.280</td>\n      <td>0.934</td>\n      <td>-0.500</td>\n    </tr>\n    <tr>\n      <th>2022-08-28 12:00:00</th>\n      <td>0.182</td>\n      <td>0.359</td>\n      <td>1.993</td>\n      <td>-0.988</td>\n    </tr>\n    <tr>\n      <th>2022-08-29 12:00:00</th>\n      <td>0.067</td>\n      <td>0.494</td>\n      <td>1.077</td>\n      <td>-1.045</td>\n    </tr>\n    <tr>\n      <th>2022-08-30 12:00:00</th>\n      <td>-0.092</td>\n      <td>0.420</td>\n      <td>1.461</td>\n      <td>0.594</td>\n    </tr>\n    <tr>\n      <th>2022-08-31 12:00:00</th>\n      <td>-0.033</td>\n      <td>0.435</td>\n      <td>1.372</td>\n      <td>-1.661</td>\n    </tr>\n    <tr>\n      <th>...</th>\n      <td>...</td>\n      <td>...</td>\n      <td>...</td>\n      <td>...</td>\n    </tr>\n    <tr>\n      <th>2023-05-12 12:00:00</th>\n      <td>-1.098</td>\n      <td>-0.773</td>\n      <td>0.803</td>\n      <td>-2.337</td>\n    </tr>\n    <tr>\n      <th>2023-05-13 12:00:00</th>\n      <td>-0.563</td>\n      <td>0.351</td>\n      <td>1.843</td>\n      <td>0.595</td>\n    </tr>\n    <tr>\n      <th>2023-05-14 12:00:00</th>\n      <td>0.210</td>\n      <td>0.871</td>\n      <td>1.201</td>\n      <td>-2.417</td>\n    </tr>\n    <tr>\n      <th>2023-05-15 12:00:00</th>\n      <td>-0.080</td>\n      <td>2.357</td>\n      <td>1.071</td>\n      <td>-2.618</td>\n    </tr>\n    <tr>\n      <th>2023-05-16 12:00:00</th>\n      <td>-0.264</td>\n      <td>0.081</td>\n      <td>0.362</td>\n      <td>-1.419</td>\n    </tr>\n  </tbody>\n</table>\n<p>263 rows × 4 columns</p>\n</div>"
     },
     "execution_count": 110,
     "metadata": {},
     "output_type": "execute_result"
    }
   ],
   "source": [
    "test_data_no_lab = test_data.drop(columns=[label])\n",
    "test_data_no_lab"
   ],
   "metadata": {
    "collapsed": false,
    "ExecuteTime": {
     "start_time": "2023-06-27T10:26:55.546413Z",
     "end_time": "2023-06-27T10:26:55.550291Z"
    }
   }
  },
  {
   "cell_type": "code",
   "execution_count": 111,
   "outputs": [
    {
     "data": {
      "text/plain": "2022-08-27 12:00:00   -0.110713\n2022-08-28 12:00:00    0.023934\n2022-08-29 12:00:00   -0.132999\n2022-08-30 12:00:00   -0.130139\n2022-08-31 12:00:00   -0.177569\nName: errors, dtype: float32"
     },
     "execution_count": 111,
     "metadata": {},
     "output_type": "execute_result"
    }
   ],
   "source": [
    "error_pred = predictor.predict(test_data_no_lab)\n",
    "error_pred.head()"
   ],
   "metadata": {
    "collapsed": false,
    "ExecuteTime": {
     "start_time": "2023-06-27T10:26:55.550030Z",
     "end_time": "2023-06-27T10:26:55.755224Z"
    }
   }
  },
  {
   "cell_type": "code",
   "execution_count": 112,
   "outputs": [
    {
     "name": "stderr",
     "output_type": "stream",
     "text": [
      "/Users/nickgault/opt/miniconda3/envs/Kayak/lib/python3.10/site-packages/autogluon/tabular/predictor/predictor.py:1420: FutureWarning:\n",
      "\n",
      "Calling `predictor.predict_proba` when problem_type=regression will raise an AssertionError starting in AutoGluon v0.8. Please call `predictor.predict` instead.\n",
      "\n"
     ]
    },
    {
     "data": {
      "text/plain": "{'root_mean_squared_error': -4.209400958816135,\n 'mean_squared_error': -17.719056432082198,\n 'mean_absolute_error': -3.151489277655903,\n 'r2': 0.26887433006313766,\n 'pearsonr': 0.5737739421287498,\n 'median_absolute_error': -2.429913601386839}"
     },
     "execution_count": 112,
     "metadata": {},
     "output_type": "execute_result"
    }
   ],
   "source": [
    "predictor.evaluate(test_data, silent=True)"
   ],
   "metadata": {
    "collapsed": false,
    "ExecuteTime": {
     "start_time": "2023-06-27T10:26:55.758707Z",
     "end_time": "2023-06-27T10:26:55.929723Z"
    }
   }
  },
  {
   "cell_type": "code",
   "execution_count": 113,
   "outputs": [
    {
     "name": "stdout",
     "output_type": "stream",
     "text": [
      "errors after adjustment (AutoGluon):\n",
      "MSE: 20.310227972683183\n",
      "RMSE: 4.506687028481474\n",
      "MAE: 3.4865589825940155\n",
      "MAPE: 5.4528415135731905\n",
      "R2: 0.040097655005763566\n"
     ]
    }
   ],
   "source": [
    "print(\"errors after adjustment (AutoGluon):\")\n",
    "display_errors(y[-225:], error_pred[-225:] + regression_preds[-225:])"
   ],
   "metadata": {
    "collapsed": false,
    "ExecuteTime": {
     "start_time": "2023-06-27T10:26:55.931559Z",
     "end_time": "2023-06-27T10:26:55.935245Z"
    }
   }
  },
  {
   "cell_type": "code",
   "execution_count": 114,
   "outputs": [
    {
     "data": {
      "text/plain": "<matplotlib.legend.Legend at 0x7fd2c8490e20>"
     },
     "execution_count": 114,
     "metadata": {},
     "output_type": "execute_result"
    },
    {
     "data": {
      "text/plain": "<Figure size 640x480 with 1 Axes>",
      "image/png": "[encoded data removed]"
     },
     "metadata": {},
     "output_type": "display_data"
    }
   ],
   "source": [
    "plt.scatter(y[-225:], error_pred[-225:], color='blue', marker='o', label='predictions vs actual')\n",
    "plt.xlabel('actual error')\n",
    "plt.ylabel('predicted error')\n",
    "plt.title('Prediction vs Actual (Deep Learning)')\n",
    "\n",
    "max_value = max(max(y[-225:]), max(error_pred[-225:]))\n",
    "min_value = min(min(y[-225:]), min(error_pred[-225:]))\n",
    "plt.plot([min_value, max_value], [min_value, max_value], color='red', linestyle='--', label='Line of Equality')\n",
    "\n",
    "plt.legend()"
   ],
   "metadata": {
    "collapsed": false,
    "ExecuteTime": {
     "start_time": "2023-06-27T10:26:55.940191Z",
     "end_time": "2023-06-27T10:26:56.097176Z"
    }
   }
  },
  {
   "cell_type": "code",
   "execution_count": 115,
   "outputs": [
    {
     "data": {
      "text/plain": "                     model  score_val  pred_time_val   fit_time  \\\n0      WeightedEnsemble_L2  -3.543972       0.080681  28.145576   \n1      WeightedEnsemble_L3  -3.546235       0.545889  54.767091   \n2          CatBoost_BAG_L2  -3.574160       0.274006  32.627553   \n3   NeuralNetFastAI_BAG_L1  -3.575333       0.034346   8.203796   \n4          CatBoost_BAG_L1  -3.581342       0.007748   3.064189   \n5    NeuralNetTorch_BAG_L1  -3.587872       0.021026  14.514616   \n6    NeuralNetTorch_BAG_L2  -3.592541       0.311593  38.378773   \n7     ExtraTreesMSE_BAG_L2  -3.594948       0.350828  29.162358   \n8           XGBoost_BAG_L2  -3.604606       0.280865  32.720611   \n9   NeuralNetFastAI_BAG_L2  -3.610750       0.305907  36.035997   \n10  RandomForestMSE_BAG_L2  -3.625769       0.348680  29.810826   \n11          XGBoost_BAG_L1  -3.649965       0.017264   2.232742   \n12    ExtraTreesMSE_BAG_L1  -3.685642       0.086082   0.250790   \n13  RandomForestMSE_BAG_L1  -3.765514       0.087203   0.541654   \n14   KNeighborsUnif_BAG_L1  -3.866413       0.006599   0.004148   \n15   KNeighborsDist_BAG_L1  -3.920452       0.004986   0.001874   \n\n    pred_time_val_marginal  fit_time_marginal  stack_level  can_infer  \\\n0                 0.000297           0.130234            2       True   \n1                 0.000281           0.100013            3       True   \n2                 0.008752           3.813745            2       True   \n3                 0.034346           8.203796            1       True   \n4                 0.007748           3.064189            1       True   \n5                 0.021026          14.514616            1       True   \n6                 0.046339           9.564965            2       True   \n7                 0.085574           0.348550            2       True   \n8                 0.015611           3.906803            2       True   \n9                 0.040653           7.222188            2       True   \n10                0.083426           0.997018            2       True   \n11                0.017264           2.232742            1       True   \n12                0.086082           0.250790            1       True   \n13                0.087203           0.541654            1       True   \n14                0.006599           0.004148            1       True   \n15                0.004986           0.001874            1       True   \n\n    fit_order  \n0           9  \n1          16  \n2          11  \n3           6  \n4           4  \n5           8  \n6          15  \n7          12  \n8          14  \n9          13  \n10         10  \n11          7  \n12          5  \n13          3  \n14          1  \n15          2  ",
      "text/html": "<div>\n<style scoped>\n    .dataframe tbody tr th:only-of-type {\n        vertical-align: middle;\n    }\n\n    .dataframe tbody tr th {\n        vertical-align: top;\n    }\n\n    .dataframe thead th {\n        text-align: right;\n    }\n</style>\n<table border=\"1\" class=\"dataframe\">\n  <thead>\n    <tr style=\"text-align: right;\">\n      <th></th>\n      <th>model</th>\n      <th>score_val</th>\n      <th>pred_time_val</th>\n      <th>fit_time</th>\n      <th>pred_time_val_marginal</th>\n      <th>fit_time_marginal</th>\n      <th>stack_level</th>\n      <th>can_infer</th>\n      <th>fit_order</th>\n    </tr>\n  </thead>\n  <tbody>\n    <tr>\n      <th>0</th>\n      <td>WeightedEnsemble_L2</td>\n      <td>-3.543972</td>\n      <td>0.080681</td>\n      <td>28.145576</td>\n      <td>0.000297</td>\n      <td>0.130234</td>\n      <td>2</td>\n      <td>True</td>\n      <td>9</td>\n    </tr>\n    <tr>\n      <th>1</th>\n      <td>WeightedEnsemble_L3</td>\n      <td>-3.546235</td>\n      <td>0.545889</td>\n      <td>54.767091</td>\n      <td>0.000281</td>\n      <td>0.100013</td>\n      <td>3</td>\n      <td>True</td>\n      <td>16</td>\n    </tr>\n    <tr>\n      <th>2</th>\n      <td>CatBoost_BAG_L2</td>\n      <td>-3.574160</td>\n      <td>0.274006</td>\n      <td>32.627553</td>\n      <td>0.008752</td>\n      <td>3.813745</td>\n      <td>2</td>\n      <td>True</td>\n      <td>11</td>\n    </tr>\n    <tr>\n      <th>3</th>\n      <td>NeuralNetFastAI_BAG_L1</td>\n      <td>-3.575333</td>\n      <td>0.034346</td>\n      <td>8.203796</td>\n      <td>0.034346</td>\n      <td>8.203796</td>\n      <td>1</td>\n      <td>True</td>\n      <td>6</td>\n    </tr>\n    <tr>\n      <th>4</th>\n      <td>CatBoost_BAG_L1</td>\n      <td>-3.581342</td>\n      <td>0.007748</td>\n      <td>3.064189</td>\n      <td>0.007748</td>\n      <td>3.064189</td>\n      <td>1</td>\n      <td>True</td>\n      <td>4</td>\n    </tr>\n    <tr>\n      <th>5</th>\n      <td>NeuralNetTorch_BAG_L1</td>\n      <td>-3.587872</td>\n      <td>0.021026</td>\n      <td>14.514616</td>\n      <td>0.021026</td>\n      <td>14.514616</td>\n      <td>1</td>\n      <td>True</td>\n      <td>8</td>\n    </tr>\n    <tr>\n      <th>6</th>\n      <td>NeuralNetTorch_BAG_L2</td>\n      <td>-3.592541</td>\n      <td>0.311593</td>\n      <td>38.378773</td>\n      <td>0.046339</td>\n      <td>9.564965</td>\n      <td>2</td>\n      <td>True</td>\n      <td>15</td>\n    </tr>\n    <tr>\n      <th>7</th>\n      <td>ExtraTreesMSE_BAG_L2</td>\n      <td>-3.594948</td>\n      <td>0.350828</td>\n      <td>29.162358</td>\n      <td>0.085574</td>\n      <td>0.348550</td>\n      <td>2</td>\n      <td>True</td>\n      <td>12</td>\n    </tr>\n    <tr>\n      <th>8</th>\n      <td>XGBoost_BAG_L2</td>\n      <td>-3.604606</td>\n      <td>0.280865</td>\n      <td>32.720611</td>\n      <td>0.015611</td>\n      <td>3.906803</td>\n      <td>2</td>\n      <td>True</td>\n      <td>14</td>\n    </tr>\n    <tr>\n      <th>9</th>\n      <td>NeuralNetFastAI_BAG_L2</td>\n      <td>-3.610750</td>\n      <td>0.305907</td>\n      <td>36.035997</td>\n      <td>0.040653</td>\n      <td>7.222188</td>\n      <td>2</td>\n      <td>True</td>\n      <td>13</td>\n    </tr>\n    <tr>\n      <th>10</th>\n      <td>RandomForestMSE_BAG_L2</td>\n      <td>-3.625769</td>\n      <td>0.348680</td>\n      <td>29.810826</td>\n      <td>0.083426</td>\n      <td>0.997018</td>\n      <td>2</td>\n      <td>True</td>\n      <td>10</td>\n    </tr>\n    <tr>\n      <th>11</th>\n      <td>XGBoost_BAG_L1</td>\n      <td>-3.649965</td>\n      <td>0.017264</td>\n      <td>2.232742</td>\n      <td>0.017264</td>\n      <td>2.232742</td>\n      <td>1</td>\n      <td>True</td>\n      <td>7</td>\n    </tr>\n    <tr>\n      <th>12</th>\n      <td>ExtraTreesMSE_BAG_L1</td>\n      <td>-3.685642</td>\n      <td>0.086082</td>\n      <td>0.250790</td>\n      <td>0.086082</td>\n      <td>0.250790</td>\n      <td>1</td>\n      <td>True</td>\n      <td>5</td>\n    </tr>\n    <tr>\n      <th>13</th>\n      <td>RandomForestMSE_BAG_L1</td>\n      <td>-3.765514</td>\n      <td>0.087203</td>\n      <td>0.541654</td>\n      <td>0.087203</td>\n      <td>0.541654</td>\n      <td>1</td>\n      <td>True</td>\n      <td>3</td>\n    </tr>\n    <tr>\n      <th>14</th>\n      <td>KNeighborsUnif_BAG_L1</td>\n      <td>-3.866413</td>\n      <td>0.006599</td>\n      <td>0.004148</td>\n      <td>0.006599</td>\n      <td>0.004148</td>\n      <td>1</td>\n      <td>True</td>\n      <td>1</td>\n    </tr>\n    <tr>\n      <th>15</th>\n      <td>KNeighborsDist_BAG_L1</td>\n      <td>-3.920452</td>\n      <td>0.004986</td>\n      <td>0.001874</td>\n      <td>0.004986</td>\n      <td>0.001874</td>\n      <td>1</td>\n      <td>True</td>\n      <td>2</td>\n    </tr>\n  </tbody>\n</table>\n</div>"
     },
     "execution_count": 115,
     "metadata": {},
     "output_type": "execute_result"
    }
   ],
   "source": [
    "predictor.leaderboard(silent=True)"
   ],
   "metadata": {
    "collapsed": false,
    "ExecuteTime": {
     "start_time": "2023-06-27T10:26:56.099957Z",
     "end_time": "2023-06-27T10:26:56.109622Z"
    }
   }
  },
  {
   "cell_type": "code",
   "execution_count": 116,
   "outputs": [
    {
     "name": "stderr",
     "output_type": "stream",
     "text": [
      "Computing feature importance via permutation shuffling for 4 features using 263 rows with 5 shuffle sets...\n",
      "\t4.33s\t= Expected runtime (0.87s per shuffle set)\n",
      "\t1.69s\t= Actual runtime (Completed 5 of 5 shuffle sets)\n"
     ]
    },
    {
     "data": {
      "text/plain": "             importance    stddev   p_value  n  p99_high   p99_low\necmwf(9,10)    0.929723  0.094233  0.000012  5  1.123750  0.735696\nens(8)         0.005234  0.012584  0.202487  5  0.031145 -0.020676\ncmc(9,14)     -0.016680  0.053123  0.739336  5  0.092702 -0.126061\ngfs(11,14)    -0.016800  0.028856  0.868557  5  0.042615 -0.076214",
      "text/html": "<div>\n<style scoped>\n    .dataframe tbody tr th:only-of-type {\n        vertical-align: middle;\n    }\n\n    .dataframe tbody tr th {\n        vertical-align: top;\n    }\n\n    .dataframe thead th {\n        text-align: right;\n    }\n</style>\n<table border=\"1\" class=\"dataframe\">\n  <thead>\n    <tr style=\"text-align: right;\">\n      <th></th>\n      <th>importance</th>\n      <th>stddev</th>\n      <th>p_value</th>\n      <th>n</th>\n      <th>p99_high</th>\n      <th>p99_low</th>\n    </tr>\n  </thead>\n  <tbody>\n    <tr>\n      <th>ecmwf(9,10)</th>\n      <td>0.929723</td>\n      <td>0.094233</td>\n      <td>0.000012</td>\n      <td>5</td>\n      <td>1.123750</td>\n      <td>0.735696</td>\n    </tr>\n    <tr>\n      <th>ens(8)</th>\n      <td>0.005234</td>\n      <td>0.012584</td>\n      <td>0.202487</td>\n      <td>5</td>\n      <td>0.031145</td>\n      <td>-0.020676</td>\n    </tr>\n    <tr>\n      <th>cmc(9,14)</th>\n      <td>-0.016680</td>\n      <td>0.053123</td>\n      <td>0.739336</td>\n      <td>5</td>\n      <td>0.092702</td>\n      <td>-0.126061</td>\n    </tr>\n    <tr>\n      <th>gfs(11,14)</th>\n      <td>-0.016800</td>\n      <td>0.028856</td>\n      <td>0.868557</td>\n      <td>5</td>\n      <td>0.042615</td>\n      <td>-0.076214</td>\n    </tr>\n  </tbody>\n</table>\n</div>"
     },
     "execution_count": 116,
     "metadata": {},
     "output_type": "execute_result"
    }
   ],
   "source": [
    "predictor.feature_importance(test_data)"
   ],
   "metadata": {
    "collapsed": false,
    "ExecuteTime": {
     "start_time": "2023-06-27T10:26:56.109102Z",
     "end_time": "2023-06-27T10:26:57.808501Z"
    }
   }
  },
  {
   "cell_type": "code",
   "execution_count": 117,
   "outputs": [],
   "source": [
    "import xgboost as xgb"
   ],
   "metadata": {
    "collapsed": false,
    "ExecuteTime": {
     "start_time": "2023-06-27T10:26:57.808962Z",
     "end_time": "2023-06-27T10:26:57.812867Z"
    }
   }
  },
  {
   "cell_type": "code",
   "execution_count": 118,
   "outputs": [],
   "source": [
    "label_df = train_data[label]\n",
    "train_data = train_data[features]"
   ],
   "metadata": {
    "collapsed": false,
    "ExecuteTime": {
     "start_time": "2023-06-27T10:26:57.817333Z",
     "end_time": "2023-06-27T10:26:57.819494Z"
    }
   }
  },
  {
   "cell_type": "code",
   "execution_count": 119,
   "outputs": [],
   "source": [
    "dtrain = xgb.DMatrix(train_data, label=label_df)"
   ],
   "metadata": {
    "collapsed": false,
    "ExecuteTime": {
     "start_time": "2023-06-27T10:26:57.821133Z",
     "end_time": "2023-06-27T10:26:57.824605Z"
    }
   }
  },
  {
   "cell_type": "code",
   "execution_count": 120,
   "outputs": [],
   "source": [
    "bst = xgb.train(params={'objective': 'reg:squarederror'}, dtrain=dtrain)"
   ],
   "metadata": {
    "collapsed": false,
    "ExecuteTime": {
     "start_time": "2023-06-27T10:26:57.825646Z",
     "end_time": "2023-06-27T10:26:57.947600Z"
    }
   }
  },
  {
   "cell_type": "code",
   "execution_count": 121,
   "outputs": [],
   "source": [
    "test_data = test_data[features]"
   ],
   "metadata": {
    "collapsed": false,
    "ExecuteTime": {
     "start_time": "2023-06-27T10:26:57.857885Z",
     "end_time": "2023-06-27T10:26:57.947731Z"
    }
   }
  },
  {
   "cell_type": "code",
   "execution_count": 122,
   "outputs": [],
   "source": [
    "dtest = xgb.DMatrix(test_data)\n",
    "ypred = bst.predict(dtest)"
   ],
   "metadata": {
    "collapsed": false,
    "ExecuteTime": {
     "start_time": "2023-06-27T10:26:57.862120Z",
     "end_time": "2023-06-27T10:26:57.947770Z"
    }
   }
  },
  {
   "cell_type": "code",
   "execution_count": 123,
   "outputs": [
    {
     "name": "stdout",
     "output_type": "stream",
     "text": [
      "MSE after adjustment (XGBoost): 25.418674005823817\n"
     ]
    }
   ],
   "source": [
    "# MSE after xgboost adjustment\n",
    "mse_XGB = (((ypred[-225:] + regression_preds[-225:]) - y[-225:]) ** 2).mean()\n",
    "print(f\"MSE after adjustment (XGBoost): {mse_XGB}\")"
   ],
   "metadata": {
    "collapsed": false,
    "ExecuteTime": {
     "start_time": "2023-06-27T10:26:57.869064Z",
     "end_time": "2023-06-27T10:26:57.947864Z"
    }
   }
  },
  {
   "cell_type": "code",
   "execution_count": 124,
   "outputs": [
    {
     "data": {
      "text/plain": "<AxesSubplot: title={'center': 'Feature importance'}, xlabel='F score', ylabel='Features'>"
     },
     "execution_count": 124,
     "metadata": {},
     "output_type": "execute_result"
    },
    {
     "data": {
      "text/plain": "<Figure size 640x480 with 1 Axes>",
      "image/png": "[encoded data removed]"
     },
     "metadata": {},
     "output_type": "display_data"
    }
   ],
   "source": [
    "xgb.plot_importance(bst)"
   ],
   "metadata": {
    "collapsed": false,
    "ExecuteTime": {
     "start_time": "2023-06-27T10:26:57.872172Z",
     "end_time": "2023-06-27T10:26:58.018939Z"
    }
   }
  },
  {
   "cell_type": "code",
   "execution_count": 124,
   "outputs": [],
   "source": [],
   "metadata": {
    "collapsed": false,
    "ExecuteTime": {
     "start_time": "2023-06-27T10:26:57.982507Z",
     "end_time": "2023-06-27T10:26:58.019169Z"
    }
   }
  },
  {
   "cell_type": "markdown",
   "source": [
    "### improving model through deep learning"
   ],
   "metadata": {
    "collapsed": false
   }
  },
  {
   "cell_type": "code",
   "execution_count": 125,
   "outputs": [],
   "source": [
    "deep_preds = pd.read_pickle(\"predictions.pkl\")"
   ],
   "metadata": {
    "collapsed": false,
    "ExecuteTime": {
     "start_time": "2023-06-27T10:26:57.987121Z",
     "end_time": "2023-06-27T10:26:58.019214Z"
    }
   }
  },
  {
   "cell_type": "code",
   "execution_count": 126,
   "outputs": [],
   "source": [
    "deep_preds = deep_preds.to_frame()"
   ],
   "metadata": {
    "collapsed": false,
    "ExecuteTime": {
     "start_time": "2023-06-27T10:26:57.991059Z",
     "end_time": "2023-06-27T10:26:58.019244Z"
    }
   }
  },
  {
   "cell_type": "code",
   "execution_count": 127,
   "outputs": [],
   "source": [
    "deep_preds.rename(columns={0:'prediction'}, inplace=True)"
   ],
   "metadata": {
    "collapsed": false,
    "ExecuteTime": {
     "start_time": "2023-06-27T10:26:57.994304Z",
     "end_time": "2023-06-27T10:26:58.019412Z"
    }
   }
  },
  {
   "cell_type": "code",
   "execution_count": 128,
   "outputs": [],
   "source": [
    "y = y.to_frame()"
   ],
   "metadata": {
    "collapsed": false,
    "ExecuteTime": {
     "start_time": "2023-06-27T10:26:58.000048Z",
     "end_time": "2023-06-27T10:26:58.019469Z"
    }
   }
  },
  {
   "cell_type": "code",
   "execution_count": 129,
   "outputs": [],
   "source": [
    "#combine deep_pred and y\n",
    "deep_preds['y'] = y['ens(9,14)']"
   ],
   "metadata": {
    "collapsed": false,
    "ExecuteTime": {
     "start_time": "2023-06-27T10:26:58.003655Z",
     "end_time": "2023-06-27T10:26:58.019499Z"
    }
   }
  },
  {
   "cell_type": "code",
   "execution_count": 130,
   "outputs": [],
   "source": [
    "deep_preds.dropna(inplace=True)"
   ],
   "metadata": {
    "collapsed": false,
    "ExecuteTime": {
     "start_time": "2023-06-27T10:26:58.007858Z",
     "end_time": "2023-06-27T10:26:58.019574Z"
    }
   }
  },
  {
   "cell_type": "code",
   "execution_count": 131,
   "outputs": [
    {
     "name": "stdout",
     "output_type": "stream",
     "text": [
      "MSE after adjustment (Deep Learning): 16.420015403740226\n"
     ]
    }
   ],
   "source": [
    "# MSE of custom deep learning model\n",
    "mse_DL = ((deep_preds[deep_preds.columns[0]][-225:] - deep_preds[deep_preds.columns[1]][-225:])**2).mean()\n",
    "print(f\"MSE after adjustment (Deep Learning): {mse_DL}\")"
   ],
   "metadata": {
    "collapsed": false,
    "ExecuteTime": {
     "start_time": "2023-06-27T10:26:58.012593Z",
     "end_time": "2023-06-27T10:26:58.019660Z"
    }
   }
  },
  {
   "cell_type": "code",
   "execution_count": 132,
   "outputs": [
    {
     "data": {
      "text/plain": "                     prediction      y\n2023-02-06 12:00:00   -1.758595  4.307\n2023-02-07 12:00:00    3.569415  0.425\n2023-02-08 12:00:00    4.599735  5.093\n2023-02-09 12:00:00   -2.619281 -8.136\n2023-02-10 12:00:00    4.690515 -0.063\n...                         ...    ...\n2023-05-12 12:00:00   -1.005183  0.378\n2023-05-13 12:00:00    0.757259 -0.801\n2023-05-14 12:00:00    0.212637  0.524\n2023-05-15 12:00:00    0.439371  1.045\n2023-05-16 12:00:00   -0.512902 -0.083\n\n[100 rows x 2 columns]",
      "text/html": "<div>\n<style scoped>\n    .dataframe tbody tr th:only-of-type {\n        vertical-align: middle;\n    }\n\n    .dataframe tbody tr th {\n        vertical-align: top;\n    }\n\n    .dataframe thead th {\n        text-align: right;\n    }\n</style>\n<table border=\"1\" class=\"dataframe\">\n  <thead>\n    <tr style=\"text-align: right;\">\n      <th></th>\n      <th>prediction</th>\n      <th>y</th>\n    </tr>\n  </thead>\n  <tbody>\n    <tr>\n      <th>2023-02-06 12:00:00</th>\n      <td>-1.758595</td>\n      <td>4.307</td>\n    </tr>\n    <tr>\n      <th>2023-02-07 12:00:00</th>\n      <td>3.569415</td>\n      <td>0.425</td>\n    </tr>\n    <tr>\n      <th>2023-02-08 12:00:00</th>\n      <td>4.599735</td>\n      <td>5.093</td>\n    </tr>\n    <tr>\n      <th>2023-02-09 12:00:00</th>\n      <td>-2.619281</td>\n      <td>-8.136</td>\n    </tr>\n    <tr>\n      <th>2023-02-10 12:00:00</th>\n      <td>4.690515</td>\n      <td>-0.063</td>\n    </tr>\n    <tr>\n      <th>...</th>\n      <td>...</td>\n      <td>...</td>\n    </tr>\n    <tr>\n      <th>2023-05-12 12:00:00</th>\n      <td>-1.005183</td>\n      <td>0.378</td>\n    </tr>\n    <tr>\n      <th>2023-05-13 12:00:00</th>\n      <td>0.757259</td>\n      <td>-0.801</td>\n    </tr>\n    <tr>\n      <th>2023-05-14 12:00:00</th>\n      <td>0.212637</td>\n      <td>0.524</td>\n    </tr>\n    <tr>\n      <th>2023-05-15 12:00:00</th>\n      <td>0.439371</td>\n      <td>1.045</td>\n    </tr>\n    <tr>\n      <th>2023-05-16 12:00:00</th>\n      <td>-0.512902</td>\n      <td>-0.083</td>\n    </tr>\n  </tbody>\n</table>\n<p>100 rows × 2 columns</p>\n</div>"
     },
     "metadata": {},
     "output_type": "display_data"
    }
   ],
   "source": [
    "display(deep_preds[-100:])"
   ],
   "metadata": {
    "collapsed": false,
    "ExecuteTime": {
     "start_time": "2023-06-27T10:26:58.021230Z",
     "end_time": "2023-06-27T10:26:58.026307Z"
    }
   }
  },
  {
   "cell_type": "code",
   "execution_count": 133,
   "outputs": [
    {
     "data": {
      "text/plain": "<matplotlib.legend.Legend at 0x7fd298333280>"
     },
     "execution_count": 133,
     "metadata": {},
     "output_type": "execute_result"
    },
    {
     "data": {
      "text/plain": "<Figure size 640x480 with 1 Axes>",
      "image/png": "[encoded data removed]"
     },
     "metadata": {},
     "output_type": "display_data"
    }
   ],
   "source": [
    "plt.scatter(deep_preds[deep_preds.columns[0]][-225:], deep_preds[deep_preds.columns[1]][-225:], color='blue', marker='o', label='predictions vs actual')\n",
    "plt.xlabel('actual degree days')\n",
    "plt.ylabel('predicted degree days')\n",
    "plt.title('Prediction vs Actual (custom model)')\n",
    "\n",
    "max_value = max(max(deep_preds[deep_preds.columns[1]][-225:]), max(deep_preds[deep_preds.columns[0]][-225:]))\n",
    "min_value = min(min(deep_preds[deep_preds.columns[1]][-225:]), min(deep_preds[deep_preds.columns[0]][-225:]))\n",
    "plt.plot([min_value, max_value], [min_value, max_value], color='red', linestyle='--', label='Line of Equality')\n",
    "\n",
    "plt.legend()"
   ],
   "metadata": {
    "collapsed": false,
    "ExecuteTime": {
     "start_time": "2023-06-27T10:26:58.030059Z",
     "end_time": "2023-06-27T10:26:58.354502Z"
    }
   }
  },
  {
   "cell_type": "code",
   "execution_count": 134,
   "outputs": [
    {
     "data": {
      "text/plain": "2022-10-04 12:00:00    1.263886\n2022-10-05 12:00:00   -0.083238\n2022-10-06 12:00:00   -0.318173\n2022-10-07 12:00:00    2.818476\n2022-10-08 12:00:00    2.757661\n                         ...   \n2023-05-12 12:00:00   -1.005183\n2023-05-13 12:00:00    0.757259\n2023-05-14 12:00:00    0.212637\n2023-05-15 12:00:00    0.439371\n2023-05-16 12:00:00   -0.512902\nName: prediction, Length: 225, dtype: float32"
     },
     "execution_count": 134,
     "metadata": {},
     "output_type": "execute_result"
    }
   ],
   "source": [
    "deep_preds[deep_preds.columns[0]][-225:]"
   ],
   "metadata": {
    "collapsed": false,
    "ExecuteTime": {
     "start_time": "2023-06-27T10:26:58.356712Z",
     "end_time": "2023-06-27T10:26:58.359536Z"
    }
   }
  },
  {
   "cell_type": "code",
   "execution_count": 140,
   "outputs": [
    {
     "data": {
      "application/vnd.plotly.v1+json": {
       "data": [
        {
         "hovertemplate": "y=%{x}<br>prediction=%{y}<extra></extra>",
         "legendgroup": "",
         "marker": {
          "color": "#636efa",
          "symbol": "circle"
         },
         "mode": "markers",
         "name": "",
         "orientation": "v",
         "showlegend": false,
         "x": [
          3.5049999999999955,
          3.097999999999999,
          7.153000000000006,
          -8.197000000000003,
          5.206000000000003,
          2.988999999999997,
          -1.2779999999999987,
          -1.0549999999999997,
          -5.745999999999995,
          -3.98599999999999,
          1.4339999999999975,
          -5.305000000000007,
          2.577999999999996,
          5.008999999999993,
          -1.2430000000000092,
          0.8739999999999952,
          -2.13600000000001,
          0.05399999999999494,
          -2.6910000000000025,
          1.0480000000000018,
          -3.6229999999999905,
          -0.7680000000000007,
          0.9320000000000164,
          -2.8700000000000045,
          7.60799999999999,
          2.8640000000000043,
          7.076000000000008,
          -4.764999999999986,
          1.7659999999999911,
          -1.5040000000000049,
          -1.0999999999999943,
          8.920999999999992,
          7.905000000000001,
          8.076999999999998,
          1.8070000000000164,
          3.1829999999999927,
          10.173999999999978,
          7.22999999999999,
          0.5490000000000066,
          0.6160000000000139,
          -13.495000000000005,
          -7.604000000000013,
          3.5020000000000095,
          12.046999999999983,
          -3.6789999999999736,
          2.487999999999971,
          5.5800000000000125,
          2.998000000000019,
          0.7279999999999802,
          4.228000000000009,
          -4.397999999999996,
          3.2749999999999773,
          1.8680000000000234,
          1.434000000000026,
          4.586000000000013,
          3.5310000000000343,
          9.113999999999976,
          -0.46500000000003183,
          1.108000000000004,
          -8.905000000000001,
          -2.4200000000000443,
          1.1699999999999875,
          -0.35899999999998045,
          -3.9710000000000036,
          4.794000000000011,
          -0.9480000000000075,
          10.431000000000012,
          -3.273999999999944,
          6.173999999999978,
          -2.6290000000000475,
          -0.7620000000000289,
          -0.9890000000000043,
          -3.2579999999999814,
          1.4230000000000018,
          -0.5740000000000123,
          2.5360000000000014,
          -11.448999999999984,
          5.896000000000015,
          -3.7970000000000255,
          -8.184999999999988,
          -0.6360000000000099,
          2.112000000000023,
          7.010999999999996,
          -1.835000000000008,
          -0.005999999999971806,
          -6.499000000000024,
          7.936000000000007,
          -7.071000000000026,
          -2.7990000000000066,
          6.352999999999952,
          -2.8549999999999898,
          -0.4660000000000082,
          3.4950000000000045,
          -5.611999999999966,
          0.45100000000002183,
          6.304999999999978,
          -4.59499999999997,
          -0.2839999999999918,
          0.08199999999999363,
          3.40300000000002,
          -5.581000000000017,
          -0.5940000000000225,
          2.7569999999999766,
          10.765000000000015,
          4.717999999999961,
          3.2319999999999993,
          -2.1899999999999977,
          0.07200000000003115,
          -3.173999999999978,
          -0.7769999999999868,
          15.456999999999994,
          8.330000000000041,
          1.9019999999999868,
          1.072999999999979,
          -3.0490000000000066,
          2.1059999999999945,
          -5.483999999999952,
          -8.069000000000017,
          -6.071999999999974,
          -5.126999999999981,
          4.163000000000011,
          3.5250000000000057,
          -1.561000000000007,
          0.5170000000000243,
          -1.850999999999999,
          4.307000000000016,
          0.42499999999998295,
          5.093000000000018,
          -8.135999999999996,
          -0.0630000000000166,
          -3.914999999999992,
          4.460000000000008,
          5.039000000000016,
          6.8110000000000355,
          -4.40300000000002,
          -3.825000000000017,
          -3.412000000000006,
          -2.7269999999999754,
          -11.902999999999992,
          4.081999999999994,
          2.7409999999999854,
          -8.194999999999993,
          0.6500000000000057,
          2.8950000000000102,
          3.3290000000000077,
          -15.944000000000017,
          -3.210000000000008,
          3.3549999999999613,
          -3.3899999999999864,
          3.1210000000000093,
          -0.4410000000000309,
          -5.93799999999996,
          -10.52600000000001,
          -0.8449999999999989,
          2.4749999999999943,
          3.752999999999986,
          0.13599999999999568,
          0.4930000000000234,
          4.567000000000007,
          -2.3079999999999927,
          5.939000000000007,
          1.7689999999999912,
          1.8249999999999886,
          1.411999999999992,
          2.3510000000000275,
          -0.48599999999999,
          4.340000000000003,
          0.6370000000000005,
          1.1629999999999825,
          5.5660000000000025,
          7.618000000000009,
          -2.423000000000002,
          -0.5909999999999798,
          -1.728000000000037,
          -3.983000000000004,
          6.436999999999998,
          0.012999999999991019,
          5.623000000000005,
          -0.35599999999999454,
          -8.448000000000008,
          -0.044000000000004036,
          -7.4410000000000025,
          -2.730000000000004,
          2.9949999999999974,
          0.6269999999999882,
          0.5240000000000009,
          -0.18900000000000006,
          1.8489999999999895,
          2.8100000000000094,
          2.6799999999999997,
          0.9990000000000094,
          5.460000000000001,
          2.4879999999999995,
          -2.405000000000001,
          5.128,
          -0.11399999999999011,
          -0.17599999999999483,
          1.0170000000000101,
          0.1910000000000025,
          -0.45700000000000074,
          2.5080000000000027,
          0.43900000000000006,
          2.087999999999994,
          -2.8599999999999994,
          1.0860000000000056,
          4.471999999999994,
          -1.7689999999999984,
          -1.261999999999997,
          -1.3219999999999992,
          -2.3459999999999965,
          2.7319999999999993,
          -5.404,
          1.4080000000000013,
          -0.08500000000000085,
          5.506,
          0.5809999999999995,
          -1.4909999999999997,
          -1.1599999999999966,
          -4.138999999999998,
          0.9239999999999995,
          0.3780000000000001,
          -0.8010000000000019,
          0.5239999999999991,
          1.045,
          -0.08300000000000196
         ],
         "xaxis": "x",
         "y": [
          1.2638858556747437,
          -0.08323797583580017,
          -0.31817251443862915,
          2.8184762001037598,
          2.7576613426208496,
          3.9112868309020996,
          1.5233556032180786,
          1.3356122970581055,
          -0.17247289419174194,
          -0.3487921953201294,
          1.1663066148757935,
          2.3866968154907227,
          2.543278217315674,
          3.453791618347168,
          -0.05166241526603699,
          0.10179360955953598,
          -0.4919675588607788,
          1.6508206129074097,
          1.3152565956115723,
          0.13829436898231506,
          0.7470861673355103,
          2.511974811553955,
          4.579296588897705,
          -0.6497992873191833,
          0.20155736804008484,
          0.3310089707374573,
          1.4574525356292725,
          -2.4192488193511963,
          -1.1998631954193115,
          -1.1383758783340454,
          4.054378509521484,
          3.619643211364746,
          2.9409842491149902,
          2.3217146396636963,
          0.9845491647720337,
          1.995985507965088,
          3.125797748565674,
          3.6048507690429688,
          4.637430667877197,
          -1.3268866539001465,
          -1.4700478315353394,
          -4.387285232543945,
          0.6838555335998535,
          0.9577383399009705,
          1.674695611000061,
          -2.008362054824829,
          5.337242126464844,
          -2.943160057067871,
          1.7579431533813477,
          4.341709613800049,
          -0.16996270418167114,
          3.421532392501831,
          0.05965277552604675,
          2.720128059387207,
          0.6420137882232666,
          1.651174783706665,
          -0.9239789247512817,
          0.5960170030593872,
          1.5224354267120361,
          -5.124446868896484,
          1.493257761001587,
          3.1197094917297363,
          -1.2326350212097168,
          0.7408906817436218,
          0.532986581325531,
          1.7240595817565918,
          2.796086311340332,
          -3.945948600769043,
          -1.1630659103393555,
          -0.2169303596019745,
          -3.582026720046997,
          3.6586241722106934,
          0.6892223358154297,
          4.414416313171387,
          1.7535130977630615,
          1.4079856872558594,
          -2.6156115531921387,
          7.583471298217773,
          -5.888294219970703,
          -5.8989691734313965,
          2.938112735748291,
          4.3097968101501465,
          3.704129457473755,
          2.1193294525146484,
          3.607417583465576,
          3.7118756771087646,
          5.893800735473633,
          1.288089632987976,
          -0.7595188021659851,
          2.120194911956787,
          0.590430736541748,
          -2.6850879192352295,
          3.85385799407959,
          -0.016922831535339355,
          1.1250580549240112,
          4.350869655609131,
          0.025796055793762207,
          3.361109495162964,
          0.2735081911087036,
          2.15014386177063,
          1.7426559925079346,
          2.61071515083313,
          2.248528480529785,
          2.3700408935546875,
          -5.72380256652832,
          -2.993098258972168,
          1.6446183919906616,
          -0.6845029592514038,
          -1.4618784189224243,
          -1.8199771642684937,
          6.051420211791992,
          0.5483962297439575,
          -5.756590366363525,
          1.4081547260284424,
          -8.502726554870605,
          1.7019529342651367,
          -5.351441383361816,
          -1.4098334312438965,
          -2.5635905265808105,
          -2.2536277770996094,
          2.547110080718994,
          -0.9212962985038757,
          -0.6621932983398438,
          2.6270501613616943,
          -3.2624855041503906,
          -1.7585945129394531,
          3.5694146156311035,
          4.599734783172607,
          -2.61928129196167,
          4.69051456451416,
          -1.9411383867263794,
          5.196354389190674,
          4.690672874450684,
          -1.1368460655212402,
          -2.8910601139068604,
          -6.567944049835205,
          -4.952270030975342,
          -1.3362294435501099,
          -6.931222438812256,
          -1.6026426553726196,
          -1.683334231376648,
          -2.4324564933776855,
          -4.728833198547363,
          -0.8545083999633789,
          -0.517578125,
          -6.560014724731445,
          -2.2655961513519287,
          -1.088929533958435,
          -4.064122676849365,
          2.481712818145752,
          -4.597898960113525,
          -2.914591073989868,
          -6.423089027404785,
          -4.3646650314331055,
          1.2527028322219849,
          0.20547640323638916,
          -1.1983065605163574,
          0.7930734157562256,
          1.2846704721450806,
          1.5685384273529053,
          -1.5643740892410278,
          3.7927944660186768,
          -1.3190736770629883,
          -0.676671028137207,
          0.46025145053863525,
          -0.4946078956127167,
          1.1702911853790283,
          1.9873298406600952,
          0.8550968170166016,
          5.294651508331299,
          -4.247356414794922,
          -8.004451751708984,
          0.1252598762512207,
          -0.7673031091690063,
          -1.8540788888931274,
          5.021239280700684,
          -1.2227652072906494,
          -0.28208860754966736,
          3.2434728145599365,
          -4.699140548706055,
          1.5889493227005005,
          -4.90162467956543,
          -0.5671222805976868,
          -0.7418340444564819,
          -0.9005749225616455,
          0.0012892335653305054,
          -0.466269314289093,
          1.3090121746063232,
          -1.0494954586029053,
          0.15162047743797302,
          -3.518993377685547,
          0.7363818883895874,
          0.9048389792442322,
          0.06010805815458298,
          -0.5217112898826599,
          -0.5905851721763611,
          -5.584442615509033,
          0.1413673609495163,
          0.9211996793746948,
          -0.3258369565010071,
          0.0583140030503273,
          0.4044838547706604,
          -0.1663847267627716,
          -1.0457491874694824,
          2.1251580715179443,
          -0.9291231632232666,
          -2.9284884929656982,
          -1.529160499572754,
          0.5573749542236328,
          -2.138536214828491,
          1.0551402568817139,
          -2.440657615661621,
          -1.1778937578201294,
          0.32048529386520386,
          2.7130441665649414,
          -1.552797555923462,
          -2.1182525157928467,
          -0.6137616634368896,
          -1.091266393661499,
          1.527061104774475,
          -1.0051828622817993,
          0.757258951663971,
          0.21263736486434937,
          0.43937116861343384,
          -0.5129016637802124
         ],
         "yaxis": "y",
         "type": "scatter"
        },
        {
         "alignmentgroup": "True",
         "bingroup": "x",
         "hovertemplate": "y=%{x}<br>count=%{y}<extra></extra>",
         "legendgroup": "",
         "marker": {
          "color": "#636efa"
         },
         "name": "",
         "offsetgroup": "",
         "opacity": 0.5,
         "showlegend": false,
         "x": [
          3.5049999999999955,
          3.097999999999999,
          7.153000000000006,
          -8.197000000000003,
          5.206000000000003,
          2.988999999999997,
          -1.2779999999999987,
          -1.0549999999999997,
          -5.745999999999995,
          -3.98599999999999,
          1.4339999999999975,
          -5.305000000000007,
          2.577999999999996,
          5.008999999999993,
          -1.2430000000000092,
          0.8739999999999952,
          -2.13600000000001,
          0.05399999999999494,
          -2.6910000000000025,
          1.0480000000000018,
          -3.6229999999999905,
          -0.7680000000000007,
          0.9320000000000164,
          -2.8700000000000045,
          7.60799999999999,
          2.8640000000000043,
          7.076000000000008,
          -4.764999999999986,
          1.7659999999999911,
          -1.5040000000000049,
          -1.0999999999999943,
          8.920999999999992,
          7.905000000000001,
          8.076999999999998,
          1.8070000000000164,
          3.1829999999999927,
          10.173999999999978,
          7.22999999999999,
          0.5490000000000066,
          0.6160000000000139,
          -13.495000000000005,
          -7.604000000000013,
          3.5020000000000095,
          12.046999999999983,
          -3.6789999999999736,
          2.487999999999971,
          5.5800000000000125,
          2.998000000000019,
          0.7279999999999802,
          4.228000000000009,
          -4.397999999999996,
          3.2749999999999773,
          1.8680000000000234,
          1.434000000000026,
          4.586000000000013,
          3.5310000000000343,
          9.113999999999976,
          -0.46500000000003183,
          1.108000000000004,
          -8.905000000000001,
          -2.4200000000000443,
          1.1699999999999875,
          -0.35899999999998045,
          -3.9710000000000036,
          4.794000000000011,
          -0.9480000000000075,
          10.431000000000012,
          -3.273999999999944,
          6.173999999999978,
          -2.6290000000000475,
          -0.7620000000000289,
          -0.9890000000000043,
          -3.2579999999999814,
          1.4230000000000018,
          -0.5740000000000123,
          2.5360000000000014,
          -11.448999999999984,
          5.896000000000015,
          -3.7970000000000255,
          -8.184999999999988,
          -0.6360000000000099,
          2.112000000000023,
          7.010999999999996,
          -1.835000000000008,
          -0.005999999999971806,
          -6.499000000000024,
          7.936000000000007,
          -7.071000000000026,
          -2.7990000000000066,
          6.352999999999952,
          -2.8549999999999898,
          -0.4660000000000082,
          3.4950000000000045,
          -5.611999999999966,
          0.45100000000002183,
          6.304999999999978,
          -4.59499999999997,
          -0.2839999999999918,
          0.08199999999999363,
          3.40300000000002,
          -5.581000000000017,
          -0.5940000000000225,
          2.7569999999999766,
          10.765000000000015,
          4.717999999999961,
          3.2319999999999993,
          -2.1899999999999977,
          0.07200000000003115,
          -3.173999999999978,
          -0.7769999999999868,
          15.456999999999994,
          8.330000000000041,
          1.9019999999999868,
          1.072999999999979,
          -3.0490000000000066,
          2.1059999999999945,
          -5.483999999999952,
          -8.069000000000017,
          -6.071999999999974,
          -5.126999999999981,
          4.163000000000011,
          3.5250000000000057,
          -1.561000000000007,
          0.5170000000000243,
          -1.850999999999999,
          4.307000000000016,
          0.42499999999998295,
          5.093000000000018,
          -8.135999999999996,
          -0.0630000000000166,
          -3.914999999999992,
          4.460000000000008,
          5.039000000000016,
          6.8110000000000355,
          -4.40300000000002,
          -3.825000000000017,
          -3.412000000000006,
          -2.7269999999999754,
          -11.902999999999992,
          4.081999999999994,
          2.7409999999999854,
          -8.194999999999993,
          0.6500000000000057,
          2.8950000000000102,
          3.3290000000000077,
          -15.944000000000017,
          -3.210000000000008,
          3.3549999999999613,
          -3.3899999999999864,
          3.1210000000000093,
          -0.4410000000000309,
          -5.93799999999996,
          -10.52600000000001,
          -0.8449999999999989,
          2.4749999999999943,
          3.752999999999986,
          0.13599999999999568,
          0.4930000000000234,
          4.567000000000007,
          -2.3079999999999927,
          5.939000000000007,
          1.7689999999999912,
          1.8249999999999886,
          1.411999999999992,
          2.3510000000000275,
          -0.48599999999999,
          4.340000000000003,
          0.6370000000000005,
          1.1629999999999825,
          5.5660000000000025,
          7.618000000000009,
          -2.423000000000002,
          -0.5909999999999798,
          -1.728000000000037,
          -3.983000000000004,
          6.436999999999998,
          0.012999999999991019,
          5.623000000000005,
          -0.35599999999999454,
          -8.448000000000008,
          -0.044000000000004036,
          -7.4410000000000025,
          -2.730000000000004,
          2.9949999999999974,
          0.6269999999999882,
          0.5240000000000009,
          -0.18900000000000006,
          1.8489999999999895,
          2.8100000000000094,
          2.6799999999999997,
          0.9990000000000094,
          5.460000000000001,
          2.4879999999999995,
          -2.405000000000001,
          5.128,
          -0.11399999999999011,
          -0.17599999999999483,
          1.0170000000000101,
          0.1910000000000025,
          -0.45700000000000074,
          2.5080000000000027,
          0.43900000000000006,
          2.087999999999994,
          -2.8599999999999994,
          1.0860000000000056,
          4.471999999999994,
          -1.7689999999999984,
          -1.261999999999997,
          -1.3219999999999992,
          -2.3459999999999965,
          2.7319999999999993,
          -5.404,
          1.4080000000000013,
          -0.08500000000000085,
          5.506,
          0.5809999999999995,
          -1.4909999999999997,
          -1.1599999999999966,
          -4.138999999999998,
          0.9239999999999995,
          0.3780000000000001,
          -0.8010000000000019,
          0.5239999999999991,
          1.045,
          -0.08300000000000196
         ],
         "xaxis": "x3",
         "yaxis": "y3",
         "type": "histogram",
         "histnorm": "probability"
        },
        {
         "alignmentgroup": "True",
         "bingroup": "y",
         "hovertemplate": "prediction=%{y}<br>count=%{x}<extra></extra>",
         "legendgroup": "",
         "marker": {
          "color": "#636efa"
         },
         "name": "",
         "offsetgroup": "",
         "opacity": 0.5,
         "showlegend": false,
         "xaxis": "x2",
         "y": [
          1.2638858556747437,
          -0.08323797583580017,
          -0.31817251443862915,
          2.8184762001037598,
          2.7576613426208496,
          3.9112868309020996,
          1.5233556032180786,
          1.3356122970581055,
          -0.17247289419174194,
          -0.3487921953201294,
          1.1663066148757935,
          2.3866968154907227,
          2.543278217315674,
          3.453791618347168,
          -0.05166241526603699,
          0.10179360955953598,
          -0.4919675588607788,
          1.6508206129074097,
          1.3152565956115723,
          0.13829436898231506,
          0.7470861673355103,
          2.511974811553955,
          4.579296588897705,
          -0.6497992873191833,
          0.20155736804008484,
          0.3310089707374573,
          1.4574525356292725,
          -2.4192488193511963,
          -1.1998631954193115,
          -1.1383758783340454,
          4.054378509521484,
          3.619643211364746,
          2.9409842491149902,
          2.3217146396636963,
          0.9845491647720337,
          1.995985507965088,
          3.125797748565674,
          3.6048507690429688,
          4.637430667877197,
          -1.3268866539001465,
          -1.4700478315353394,
          -4.387285232543945,
          0.6838555335998535,
          0.9577383399009705,
          1.674695611000061,
          -2.008362054824829,
          5.337242126464844,
          -2.943160057067871,
          1.7579431533813477,
          4.341709613800049,
          -0.16996270418167114,
          3.421532392501831,
          0.05965277552604675,
          2.720128059387207,
          0.6420137882232666,
          1.651174783706665,
          -0.9239789247512817,
          0.5960170030593872,
          1.5224354267120361,
          -5.124446868896484,
          1.493257761001587,
          3.1197094917297363,
          -1.2326350212097168,
          0.7408906817436218,
          0.532986581325531,
          1.7240595817565918,
          2.796086311340332,
          -3.945948600769043,
          -1.1630659103393555,
          -0.2169303596019745,
          -3.582026720046997,
          3.6586241722106934,
          0.6892223358154297,
          4.414416313171387,
          1.7535130977630615,
          1.4079856872558594,
          -2.6156115531921387,
          7.583471298217773,
          -5.888294219970703,
          -5.8989691734313965,
          2.938112735748291,
          4.3097968101501465,
          3.704129457473755,
          2.1193294525146484,
          3.607417583465576,
          3.7118756771087646,
          5.893800735473633,
          1.288089632987976,
          -0.7595188021659851,
          2.120194911956787,
          0.590430736541748,
          -2.6850879192352295,
          3.85385799407959,
          -0.016922831535339355,
          1.1250580549240112,
          4.350869655609131,
          0.025796055793762207,
          3.361109495162964,
          0.2735081911087036,
          2.15014386177063,
          1.7426559925079346,
          2.61071515083313,
          2.248528480529785,
          2.3700408935546875,
          -5.72380256652832,
          -2.993098258972168,
          1.6446183919906616,
          -0.6845029592514038,
          -1.4618784189224243,
          -1.8199771642684937,
          6.051420211791992,
          0.5483962297439575,
          -5.756590366363525,
          1.4081547260284424,
          -8.502726554870605,
          1.7019529342651367,
          -5.351441383361816,
          -1.4098334312438965,
          -2.5635905265808105,
          -2.2536277770996094,
          2.547110080718994,
          -0.9212962985038757,
          -0.6621932983398438,
          2.6270501613616943,
          -3.2624855041503906,
          -1.7585945129394531,
          3.5694146156311035,
          4.599734783172607,
          -2.61928129196167,
          4.69051456451416,
          -1.9411383867263794,
          5.196354389190674,
          4.690672874450684,
          -1.1368460655212402,
          -2.8910601139068604,
          -6.567944049835205,
          -4.952270030975342,
          -1.3362294435501099,
          -6.931222438812256,
          -1.6026426553726196,
          -1.683334231376648,
          -2.4324564933776855,
          -4.728833198547363,
          -0.8545083999633789,
          -0.517578125,
          -6.560014724731445,
          -2.2655961513519287,
          -1.088929533958435,
          -4.064122676849365,
          2.481712818145752,
          -4.597898960113525,
          -2.914591073989868,
          -6.423089027404785,
          -4.3646650314331055,
          1.2527028322219849,
          0.20547640323638916,
          -1.1983065605163574,
          0.7930734157562256,
          1.2846704721450806,
          1.5685384273529053,
          -1.5643740892410278,
          3.7927944660186768,
          -1.3190736770629883,
          -0.676671028137207,
          0.46025145053863525,
          -0.4946078956127167,
          1.1702911853790283,
          1.9873298406600952,
          0.8550968170166016,
          5.294651508331299,
          -4.247356414794922,
          -8.004451751708984,
          0.1252598762512207,
          -0.7673031091690063,
          -1.8540788888931274,
          5.021239280700684,
          -1.2227652072906494,
          -0.28208860754966736,
          3.2434728145599365,
          -4.699140548706055,
          1.5889493227005005,
          -4.90162467956543,
          -0.5671222805976868,
          -0.7418340444564819,
          -0.9005749225616455,
          0.0012892335653305054,
          -0.466269314289093,
          1.3090121746063232,
          -1.0494954586029053,
          0.15162047743797302,
          -3.518993377685547,
          0.7363818883895874,
          0.9048389792442322,
          0.06010805815458298,
          -0.5217112898826599,
          -0.5905851721763611,
          -5.584442615509033,
          0.1413673609495163,
          0.9211996793746948,
          -0.3258369565010071,
          0.0583140030503273,
          0.4044838547706604,
          -0.1663847267627716,
          -1.0457491874694824,
          2.1251580715179443,
          -0.9291231632232666,
          -2.9284884929656982,
          -1.529160499572754,
          0.5573749542236328,
          -2.138536214828491,
          1.0551402568817139,
          -2.440657615661621,
          -1.1778937578201294,
          0.32048529386520386,
          2.7130441665649414,
          -1.552797555923462,
          -2.1182525157928467,
          -0.6137616634368896,
          -1.091266393661499,
          1.527061104774475,
          -1.0051828622817993,
          0.757258951663971,
          0.21263736486434937,
          0.43937116861343384,
          -0.5129016637802124
         ],
         "yaxis": "y2",
         "type": "histogram",
         "histnorm": "probability"
        },
        {
         "hovertemplate": "<b>OLS trendline</b><br>prediction = 0.303587 * y + -0.0248755<br>R<sup>2</sup>=0.243389<br><br>y=%{x}<br>prediction=%{y} <b>(trend)</b><extra></extra>",
         "legendgroup": "",
         "marker": {
          "color": "#636efa",
          "symbol": "circle"
         },
         "mode": "lines",
         "name": "",
         "showlegend": false,
         "x": [
          -15.944000000000017,
          -13.495000000000005,
          -11.902999999999992,
          -11.448999999999984,
          -10.52600000000001,
          -8.905000000000001,
          -8.448000000000008,
          -8.197000000000003,
          -8.194999999999993,
          -8.184999999999988,
          -8.135999999999996,
          -8.069000000000017,
          -7.604000000000013,
          -7.4410000000000025,
          -7.071000000000026,
          -6.499000000000024,
          -6.071999999999974,
          -5.93799999999996,
          -5.745999999999995,
          -5.611999999999966,
          -5.581000000000017,
          -5.483999999999952,
          -5.404,
          -5.305000000000007,
          -5.126999999999981,
          -4.764999999999986,
          -4.59499999999997,
          -4.40300000000002,
          -4.397999999999996,
          -4.138999999999998,
          -3.98599999999999,
          -3.983000000000004,
          -3.9710000000000036,
          -3.914999999999992,
          -3.825000000000017,
          -3.7970000000000255,
          -3.6789999999999736,
          -3.6229999999999905,
          -3.412000000000006,
          -3.3899999999999864,
          -3.273999999999944,
          -3.2579999999999814,
          -3.210000000000008,
          -3.173999999999978,
          -3.0490000000000066,
          -2.8700000000000045,
          -2.8599999999999994,
          -2.8549999999999898,
          -2.7990000000000066,
          -2.730000000000004,
          -2.7269999999999754,
          -2.6910000000000025,
          -2.6290000000000475,
          -2.423000000000002,
          -2.4200000000000443,
          -2.405000000000001,
          -2.3459999999999965,
          -2.3079999999999927,
          -2.1899999999999977,
          -2.13600000000001,
          -1.850999999999999,
          -1.835000000000008,
          -1.7689999999999984,
          -1.728000000000037,
          -1.561000000000007,
          -1.5040000000000049,
          -1.4909999999999997,
          -1.3219999999999992,
          -1.2779999999999987,
          -1.261999999999997,
          -1.2430000000000092,
          -1.1599999999999966,
          -1.0999999999999943,
          -1.0549999999999997,
          -0.9890000000000043,
          -0.9480000000000075,
          -0.8449999999999989,
          -0.8010000000000019,
          -0.7769999999999868,
          -0.7680000000000007,
          -0.7620000000000289,
          -0.6360000000000099,
          -0.5940000000000225,
          -0.5909999999999798,
          -0.5740000000000123,
          -0.48599999999999,
          -0.4660000000000082,
          -0.46500000000003183,
          -0.45700000000000074,
          -0.4410000000000309,
          -0.35899999999998045,
          -0.35599999999999454,
          -0.2839999999999918,
          -0.18900000000000006,
          -0.17599999999999483,
          -0.11399999999999011,
          -0.08500000000000085,
          -0.08300000000000196,
          -0.0630000000000166,
          -0.044000000000004036,
          -0.005999999999971806,
          0.012999999999991019,
          0.05399999999999494,
          0.07200000000003115,
          0.08199999999999363,
          0.13599999999999568,
          0.1910000000000025,
          0.3780000000000001,
          0.42499999999998295,
          0.43900000000000006,
          0.45100000000002183,
          0.4930000000000234,
          0.5170000000000243,
          0.5239999999999991,
          0.5240000000000009,
          0.5490000000000066,
          0.5809999999999995,
          0.6160000000000139,
          0.6269999999999882,
          0.6370000000000005,
          0.6500000000000057,
          0.7279999999999802,
          0.8739999999999952,
          0.9239999999999995,
          0.9320000000000164,
          0.9990000000000094,
          1.0170000000000101,
          1.045,
          1.0480000000000018,
          1.072999999999979,
          1.0860000000000056,
          1.108000000000004,
          1.1629999999999825,
          1.1699999999999875,
          1.4080000000000013,
          1.411999999999992,
          1.4230000000000018,
          1.4339999999999975,
          1.434000000000026,
          1.7659999999999911,
          1.7689999999999912,
          1.8070000000000164,
          1.8249999999999886,
          1.8489999999999895,
          1.8680000000000234,
          1.9019999999999868,
          2.087999999999994,
          2.1059999999999945,
          2.112000000000023,
          2.3510000000000275,
          2.4749999999999943,
          2.487999999999971,
          2.4879999999999995,
          2.5080000000000027,
          2.5360000000000014,
          2.577999999999996,
          2.6799999999999997,
          2.7319999999999993,
          2.7409999999999854,
          2.7569999999999766,
          2.8100000000000094,
          2.8640000000000043,
          2.8950000000000102,
          2.988999999999997,
          2.9949999999999974,
          2.998000000000019,
          3.097999999999999,
          3.1210000000000093,
          3.1829999999999927,
          3.2319999999999993,
          3.2749999999999773,
          3.3290000000000077,
          3.3549999999999613,
          3.40300000000002,
          3.4950000000000045,
          3.5020000000000095,
          3.5049999999999955,
          3.5250000000000057,
          3.5310000000000343,
          3.752999999999986,
          4.081999999999994,
          4.163000000000011,
          4.228000000000009,
          4.307000000000016,
          4.340000000000003,
          4.460000000000008,
          4.471999999999994,
          4.567000000000007,
          4.586000000000013,
          4.717999999999961,
          4.794000000000011,
          5.008999999999993,
          5.039000000000016,
          5.093000000000018,
          5.128,
          5.206000000000003,
          5.460000000000001,
          5.506,
          5.5660000000000025,
          5.5800000000000125,
          5.623000000000005,
          5.896000000000015,
          5.939000000000007,
          6.173999999999978,
          6.304999999999978,
          6.352999999999952,
          6.436999999999998,
          6.8110000000000355,
          7.010999999999996,
          7.076000000000008,
          7.153000000000006,
          7.22999999999999,
          7.60799999999999,
          7.618000000000009,
          7.905000000000001,
          7.936000000000007,
          8.076999999999998,
          8.330000000000041,
          8.920999999999992,
          9.113999999999976,
          10.173999999999978,
          10.431000000000012,
          10.765000000000015,
          12.046999999999983,
          15.456999999999994
         ],
         "xaxis": "x",
         "y": [
          -4.865272218629346,
          -4.121786790882608,
          -3.638475724744261,
          -3.500647066435963,
          -3.220435939522849,
          -2.7283208401445465,
          -2.5895814197769464,
          -2.5133809941483496,
          -2.5127738194421427,
          -2.5097379459111213,
          -2.4948621656091268,
          -2.474521812951301,
          -2.333353693758882,
          -2.283868955203257,
          -2.1715416345555343,
          -1.9978896685812044,
          -1.8682578688066467,
          -1.8275771634909777,
          -1.7692883916954094,
          -1.7286076863797364,
          -1.7191964784335905,
          -1.6897485051826793,
          -1.665461516934536,
          -1.6354063689774425,
          -1.5813678201252834,
          -1.4714691983023704,
          -1.4198593482750301,
          -1.361570576479466,
          -1.3600526397139492,
          -1.2814235152605382,
          -1.234974650235934,
          -1.2340638881766324,
          -1.2304208399394085,
          -1.2134199481656944,
          -1.1860970863865246,
          -1.1775966404996718,
          -1.141773332833623,
          -1.1247724410599176,
          -1.060715509555406,
          -1.0540365877871565,
          -1.0188204548273148,
          -1.0139630571776943,
          -0.9993908642288076,
          -0.9884617195171276,
          -0.9505133003793895,
          -0.8961711641741356,
          -0.8931352906431143,
          -0.8916173538776014,
          -0.874616462103896,
          -0.853668934739859,
          -0.8527581726805444,
          -0.8418290279688816,
          -0.8230066120765729,
          -0.7604676173375524,
          -0.7595568552782594,
          -0.7550030449817167,
          -0.7370913911486988,
          -0.7255550717308227,
          -0.6897317640647913,
          -0.6733380469972884,
          -0.5868156513632226,
          -0.5819582537135937,
          -0.5619214884088605,
          -0.5494744069316914,
          -0.49877531896365257,
          -0.4814708398368394,
          -0.47752420424651215,
          -0.42621794157227844,
          -0.41286009803579143,
          -0.4080027003861593,
          -0.4022345406772255,
          -0.3770367903697579,
          -0.3588215491836388,
          -0.3451601182940516,
          -0.3251233529893227,
          -0.3126762715121428,
          -0.2814067741426368,
          -0.2680489306061509,
          -0.260762834131699,
          -0.2580305479537854,
          -0.2562090238351821,
          -0.21795701734432765,
          -0.20520634851404856,
          -0.20429558645472967,
          -0.19913460145200598,
          -0.17241891437902554,
          -0.1663471673169916,
          -0.1660435799638968,
          -0.16361488113907155,
          -0.15875748348944912,
          -0.13386332053507197,
          -0.1329525584757703,
          -0.11109426905242738,
          -0.08225347050774237,
          -0.07830683491741512,
          -0.059484419025091315,
          -0.05068038578513733,
          -0.05007321107893372,
          -0.04400146401689869,
          -0.03823330430795737,
          -0.02669698489007258,
          -0.020928825181146363,
          -0.008481743703964244,
          -0.0030171713481177247,
          1.870218289062517E-5,
          0.01641241925039783,
          0.033109723671008465,
          0.08988055870107685,
          0.10414916429686441,
          0.10839938724029724,
          0.11204243547752754,
          0.1247931043078109,
          0.13207920078225857,
          0.13420431225396473,
          0.13420431225396526,
          0.14179399608151633,
          0.15150879138077736,
          0.1621343487393508,
          0.16547380962346472,
          0.16850968315448817,
          0.17245631874481543,
          0.19613613228676163,
          0.24045988583965439,
          0.25563925349475436,
          0.2580679523195753,
          0.27840830497740543,
          0.2838728773332412,
          0.29237332322009335,
          0.2932840852793998,
          0.30087376910694225,
          0.304820404697276,
          0.3114993264655189,
          0.32819663088612094,
          0.3303217423578363,
          0.4025755323961102,
          0.40378988180851527,
          0.40712934269264,
          0.4104688035767604,
          0.410468803576769,
          0.5112598048066138,
          0.5121705668659198,
          0.5237068862838024,
          0.5291714586396294,
          0.5364575551140771,
          0.542225714823025,
          0.5525476848284809,
          0.6090149325054501,
          0.6144795048612859,
          0.6163010289799065,
          0.6888584063712795,
          0.7265032381559142,
          0.7304498737462328,
          0.7304498737462415,
          0.7365216208082819,
          0.7450220666951367,
          0.7577727355254179,
          0.7887386455418205,
          0.804525187903123,
          0.8072574740810365,
          0.8121148717306654,
          0.82820500144508,
          0.8445987185125851,
          0.8540099264587481,
          0.8825471376503297,
          0.8843686617689416,
          0.885279423828254,
          0.9156381591384453,
          0.9226206682597938,
          0.9414430841521112,
          0.9563188644541099,
          0.969373120637488,
          0.9857668377050038,
          0.993660108885641,
          1.0082323018345536,
          1.0361623383199305,
          1.0382874497916459,
          1.0391982118509475,
          1.0452699589129901,
          1.0470914830316105,
          1.114487875420234,
          1.2143681145907859,
          1.2389586901920508,
          1.2586918681436785,
          1.2826752690387369,
          1.292693651691098,
          1.3291241340633362,
          1.3327671823005558,
          1.3616079808452473,
          1.3673761405541864,
          1.4074496711636313,
          1.4305223099993964,
          1.4957935909163154,
          1.5049012115093814,
          1.5212949285768886,
          1.5319204859354525,
          1.5556002994774072,
          1.632711487165308,
          1.6466765054079986,
          1.6648917465941178,
          1.6691419695375482,
          1.6821962257209309,
          1.7650755731177727,
          1.7781298293011554,
          1.8494728572801102,
          1.889242800536469,
          1.9038149934853557,
          1.9293163311459354,
          2.0428580012060853,
          2.103575471826468,
          2.1233086497781,
          2.1466848759669515,
          2.1700611021557985,
          2.2848171216283446,
          2.28785299515937,
          2.3749825654996344,
          2.3843937734457974,
          2.427199590233173,
          2.504007190567985,
          2.6834273162512368,
          2.742019675399913,
          3.0638222696880058,
          3.141844219435223,
          3.2432423953712837,
          3.6324413820480044,
          4.667674256125737
         ],
         "yaxis": "y",
         "type": "scatter"
        }
       ],
       "layout": {
        "template": {
         "data": {
          "histogram2dcontour": [
           {
            "type": "histogram2dcontour",
            "colorbar": {
             "outlinewidth": 0,
             "ticks": ""
            },
            "colorscale": [
             [
              0.0,
              "#0d0887"
             ],
             [
              0.1111111111111111,
              "#46039f"
             ],
             [
              0.2222222222222222,
              "#7201a8"
             ],
             [
              0.3333333333333333,
              "#9c179e"
             ],
             [
              0.4444444444444444,
              "#bd3786"
             ],
             [
              0.5555555555555556,
              "#d8576b"
             ],
             [
              0.6666666666666666,
              "#ed7953"
             ],
             [
              0.7777777777777778,
              "#fb9f3a"
             ],
             [
              0.8888888888888888,
              "#fdca26"
             ],
             [
              1.0,
              "#f0f921"
             ]
            ]
           }
          ],
          "choropleth": [
           {
            "type": "choropleth",
            "colorbar": {
             "outlinewidth": 0,
             "ticks": ""
            }
           }
          ],
          "histogram2d": [
           {
            "type": "histogram2d",
            "colorbar": {
             "outlinewidth": 0,
             "ticks": ""
            },
            "colorscale": [
             [
              0.0,
              "#0d0887"
             ],
             [
              0.1111111111111111,
              "#46039f"
             ],
             [
              0.2222222222222222,
              "#7201a8"
             ],
             [
              0.3333333333333333,
              "#9c179e"
             ],
             [
              0.4444444444444444,
              "#bd3786"
             ],
             [
              0.5555555555555556,
              "#d8576b"
             ],
             [
              0.6666666666666666,
              "#ed7953"
             ],
             [
              0.7777777777777778,
              "#fb9f3a"
             ],
             [
              0.8888888888888888,
              "#fdca26"
             ],
             [
              1.0,
              "#f0f921"
             ]
            ]
           }
          ],
          "heatmap": [
           {
            "type": "heatmap",
            "colorbar": {
             "outlinewidth": 0,
             "ticks": ""
            },
            "colorscale": [
             [
              0.0,
              "#0d0887"
             ],
             [
              0.1111111111111111,
              "#46039f"
             ],
             [
              0.2222222222222222,
              "#7201a8"
             ],
             [
              0.3333333333333333,
              "#9c179e"
             ],
             [
              0.4444444444444444,
              "#bd3786"
             ],
             [
              0.5555555555555556,
              "#d8576b"
             ],
             [
              0.6666666666666666,
              "#ed7953"
             ],
             [
              0.7777777777777778,
              "#fb9f3a"
             ],
             [
              0.8888888888888888,
              "#fdca26"
             ],
             [
              1.0,
              "#f0f921"
             ]
            ]
           }
          ],
          "heatmapgl": [
           {
            "type": "heatmapgl",
            "colorbar": {
             "outlinewidth": 0,
             "ticks": ""
            },
            "colorscale": [
             [
              0.0,
              "#0d0887"
             ],
             [
              0.1111111111111111,
              "#46039f"
             ],
             [
              0.2222222222222222,
              "#7201a8"
             ],
             [
              0.3333333333333333,
              "#9c179e"
             ],
             [
              0.4444444444444444,
              "#bd3786"
             ],
             [
              0.5555555555555556,
              "#d8576b"
             ],
             [
              0.6666666666666666,
              "#ed7953"
             ],
             [
              0.7777777777777778,
              "#fb9f3a"
             ],
             [
              0.8888888888888888,
              "#fdca26"
             ],
             [
              1.0,
              "#f0f921"
             ]
            ]
           }
          ],
          "contourcarpet": [
           {
            "type": "contourcarpet",
            "colorbar": {
             "outlinewidth": 0,
             "ticks": ""
            }
           }
          ],
          "contour": [
           {
            "type": "contour",
            "colorbar": {
             "outlinewidth": 0,
             "ticks": ""
            },
            "colorscale": [
             [
              0.0,
              "#0d0887"
             ],
             [
              0.1111111111111111,
              "#46039f"
             ],
             [
              0.2222222222222222,
              "#7201a8"
             ],
             [
              0.3333333333333333,
              "#9c179e"
             ],
             [
              0.4444444444444444,
              "#bd3786"
             ],
             [
              0.5555555555555556,
              "#d8576b"
             ],
             [
              0.6666666666666666,
              "#ed7953"
             ],
             [
              0.7777777777777778,
              "#fb9f3a"
             ],
             [
              0.8888888888888888,
              "#fdca26"
             ],
             [
              1.0,
              "#f0f921"
             ]
            ]
           }
          ],
          "surface": [
           {
            "type": "surface",
            "colorbar": {
             "outlinewidth": 0,
             "ticks": ""
            },
            "colorscale": [
             [
              0.0,
              "#0d0887"
             ],
             [
              0.1111111111111111,
              "#46039f"
             ],
             [
              0.2222222222222222,
              "#7201a8"
             ],
             [
              0.3333333333333333,
              "#9c179e"
             ],
             [
              0.4444444444444444,
              "#bd3786"
             ],
             [
              0.5555555555555556,
              "#d8576b"
             ],
             [
              0.6666666666666666,
              "#ed7953"
             ],
             [
              0.7777777777777778,
              "#fb9f3a"
             ],
             [
              0.8888888888888888,
              "#fdca26"
             ],
             [
              1.0,
              "#f0f921"
             ]
            ]
           }
          ],
          "mesh3d": [
           {
            "type": "mesh3d",
            "colorbar": {
             "outlinewidth": 0,
             "ticks": ""
            }
           }
          ],
          "scatter": [
           {
            "marker": {
             "line": {
              "color": "#283442"
             }
            },
            "type": "scatter"
           }
          ],
          "parcoords": [
           {
            "type": "parcoords",
            "line": {
             "colorbar": {
              "outlinewidth": 0,
              "ticks": ""
             }
            }
           }
          ],
          "scatterpolargl": [
           {
            "type": "scatterpolargl",
            "marker": {
             "colorbar": {
              "outlinewidth": 0,
              "ticks": ""
             }
            }
           }
          ],
          "bar": [
           {
            "error_x": {
             "color": "#f2f5fa"
            },
            "error_y": {
             "color": "#f2f5fa"
            },
            "marker": {
             "line": {
              "color": "rgb(17,17,17)",
              "width": 0.5
             },
             "pattern": {
              "fillmode": "overlay",
              "size": 10,
              "solidity": 0.2
             }
            },
            "type": "bar"
           }
          ],
          "scattergeo": [
           {
            "type": "scattergeo",
            "marker": {
             "colorbar": {
              "outlinewidth": 0,
              "ticks": ""
             }
            }
           }
          ],
          "scatterpolar": [
           {
            "type": "scatterpolar",
            "marker": {
             "colorbar": {
              "outlinewidth": 0,
              "ticks": ""
             }
            }
           }
          ],
          "histogram": [
           {
            "marker": {
             "pattern": {
              "fillmode": "overlay",
              "size": 10,
              "solidity": 0.2
             }
            },
            "type": "histogram"
           }
          ],
          "scattergl": [
           {
            "marker": {
             "line": {
              "color": "#283442"
             }
            },
            "type": "scattergl"
           }
          ],
          "scatter3d": [
           {
            "type": "scatter3d",
            "line": {
             "colorbar": {
              "outlinewidth": 0,
              "ticks": ""
             }
            },
            "marker": {
             "colorbar": {
              "outlinewidth": 0,
              "ticks": ""
             }
            }
           }
          ],
          "scattermapbox": [
           {
            "type": "scattermapbox",
            "marker": {
             "colorbar": {
              "outlinewidth": 0,
              "ticks": ""
             }
            }
           }
          ],
          "scatterternary": [
           {
            "type": "scatterternary",
            "marker": {
             "colorbar": {
              "outlinewidth": 0,
              "ticks": ""
             }
            }
           }
          ],
          "scattercarpet": [
           {
            "type": "scattercarpet",
            "marker": {
             "colorbar": {
              "outlinewidth": 0,
              "ticks": ""
             }
            }
           }
          ],
          "carpet": [
           {
            "aaxis": {
             "endlinecolor": "#A2B1C6",
             "gridcolor": "#506784",
             "linecolor": "#506784",
             "minorgridcolor": "#506784",
             "startlinecolor": "#A2B1C6"
            },
            "baxis": {
             "endlinecolor": "#A2B1C6",
             "gridcolor": "#506784",
             "linecolor": "#506784",
             "minorgridcolor": "#506784",
             "startlinecolor": "#A2B1C6"
            },
            "type": "carpet"
           }
          ],
          "table": [
           {
            "cells": {
             "fill": {
              "color": "#506784"
             },
             "line": {
              "color": "rgb(17,17,17)"
             }
            },
            "header": {
             "fill": {
              "color": "#2a3f5f"
             },
             "line": {
              "color": "rgb(17,17,17)"
             }
            },
            "type": "table"
           }
          ],
          "barpolar": [
           {
            "marker": {
             "line": {
              "color": "rgb(17,17,17)",
              "width": 0.5
             },
             "pattern": {
              "fillmode": "overlay",
              "size": 10,
              "solidity": 0.2
             }
            },
            "type": "barpolar"
           }
          ],
          "pie": [
           {
            "automargin": true,
            "type": "pie"
           }
          ]
         },
         "layout": {
          "autotypenumbers": "strict",
          "colorway": [
           "#636efa",
           "#EF553B",
           "#00cc96",
           "#ab63fa",
           "#FFA15A",
           "#19d3f3",
           "#FF6692",
           "#B6E880",
           "#FF97FF",
           "#FECB52"
          ],
          "font": {
           "color": "#f2f5fa"
          },
          "hovermode": "closest",
          "hoverlabel": {
           "align": "left"
          },
          "paper_bgcolor": "rgb(17,17,17)",
          "plot_bgcolor": "rgb(17,17,17)",
          "polar": {
           "bgcolor": "rgb(17,17,17)",
           "angularaxis": {
            "gridcolor": "#506784",
            "linecolor": "#506784",
            "ticks": ""
           },
           "radialaxis": {
            "gridcolor": "#506784",
            "linecolor": "#506784",
            "ticks": ""
           }
          },
          "ternary": {
           "bgcolor": "rgb(17,17,17)",
           "aaxis": {
            "gridcolor": "#506784",
            "linecolor": "#506784",
            "ticks": ""
           },
           "baxis": {
            "gridcolor": "#506784",
            "linecolor": "#506784",
            "ticks": ""
           },
           "caxis": {
            "gridcolor": "#506784",
            "linecolor": "#506784",
            "ticks": ""
           }
          },
          "coloraxis": {
           "colorbar": {
            "outlinewidth": 0,
            "ticks": ""
           }
          },
          "colorscale": {
           "sequential": [
            [
             0.0,
             "#0d0887"
            ],
            [
             0.1111111111111111,
             "#46039f"
            ],
            [
             0.2222222222222222,
             "#7201a8"
            ],
            [
             0.3333333333333333,
             "#9c179e"
            ],
            [
             0.4444444444444444,
             "#bd3786"
            ],
            [
             0.5555555555555556,
             "#d8576b"
            ],
            [
             0.6666666666666666,
             "#ed7953"
            ],
            [
             0.7777777777777778,
             "#fb9f3a"
            ],
            [
             0.8888888888888888,
             "#fdca26"
            ],
            [
             1.0,
             "#f0f921"
            ]
           ],
           "sequentialminus": [
            [
             0.0,
             "#0d0887"
            ],
            [
             0.1111111111111111,
             "#46039f"
            ],
            [
             0.2222222222222222,
             "#7201a8"
            ],
            [
             0.3333333333333333,
             "#9c179e"
            ],
            [
             0.4444444444444444,
             "#bd3786"
            ],
            [
             0.5555555555555556,
             "#d8576b"
            ],
            [
             0.6666666666666666,
             "#ed7953"
            ],
            [
             0.7777777777777778,
             "#fb9f3a"
            ],
            [
             0.8888888888888888,
             "#fdca26"
            ],
            [
             1.0,
             "#f0f921"
            ]
           ],
           "diverging": [
            [
             0,
             "#8e0152"
            ],
            [
             0.1,
             "#c51b7d"
            ],
            [
             0.2,
             "#de77ae"
            ],
            [
             0.3,
             "#f1b6da"
            ],
            [
             0.4,
             "#fde0ef"
            ],
            [
             0.5,
             "#f7f7f7"
            ],
            [
             0.6,
             "#e6f5d0"
            ],
            [
             0.7,
             "#b8e186"
            ],
            [
             0.8,
             "#7fbc41"
            ],
            [
             0.9,
             "#4d9221"
            ],
            [
             1,
             "#276419"
            ]
           ]
          },
          "xaxis": {
           "gridcolor": "#283442",
           "linecolor": "#506784",
           "ticks": "",
           "title": {
            "standoff": 15
           },
           "zerolinecolor": "#283442",
           "automargin": true,
           "zerolinewidth": 2
          },
          "yaxis": {
           "gridcolor": "#283442",
           "linecolor": "#506784",
           "ticks": "",
           "title": {
            "standoff": 15
           },
           "zerolinecolor": "#283442",
           "automargin": true,
           "zerolinewidth": 2
          },
          "scene": {
           "xaxis": {
            "backgroundcolor": "rgb(17,17,17)",
            "gridcolor": "#506784",
            "linecolor": "#506784",
            "showbackground": true,
            "ticks": "",
            "zerolinecolor": "#C8D4E3",
            "gridwidth": 2
           },
           "yaxis": {
            "backgroundcolor": "rgb(17,17,17)",
            "gridcolor": "#506784",
            "linecolor": "#506784",
            "showbackground": true,
            "ticks": "",
            "zerolinecolor": "#C8D4E3",
            "gridwidth": 2
           },
           "zaxis": {
            "backgroundcolor": "rgb(17,17,17)",
            "gridcolor": "#506784",
            "linecolor": "#506784",
            "showbackground": true,
            "ticks": "",
            "zerolinecolor": "#C8D4E3",
            "gridwidth": 2
           }
          },
          "shapedefaults": {
           "line": {
            "color": "#f2f5fa"
           }
          },
          "annotationdefaults": {
           "arrowcolor": "#f2f5fa",
           "arrowhead": 0,
           "arrowwidth": 1
          },
          "geo": {
           "bgcolor": "rgb(17,17,17)",
           "landcolor": "rgb(17,17,17)",
           "subunitcolor": "#506784",
           "showland": true,
           "showlakes": true,
           "lakecolor": "rgb(17,17,17)"
          },
          "title": {
           "x": 0.05
          },
          "updatemenudefaults": {
           "bgcolor": "#506784",
           "borderwidth": 0
          },
          "sliderdefaults": {
           "bgcolor": "#C8D4E3",
           "borderwidth": 1,
           "bordercolor": "rgb(17,17,17)",
           "tickwidth": 0
          },
          "mapbox": {
           "style": "dark"
          }
         }
        },
        "xaxis": {
         "anchor": "y",
         "domain": [
          0.0,
          0.7363
         ],
         "title": {
          "text": "y"
         }
        },
        "yaxis": {
         "anchor": "x",
         "domain": [
          0.0,
          0.7326
         ],
         "title": {
          "text": "prediction"
         }
        },
        "xaxis2": {
         "anchor": "y2",
         "domain": [
          0.7413,
          1.0
         ],
         "matches": "x2",
         "showticklabels": false,
         "showline": false,
         "ticks": "",
         "showgrid": true
        },
        "yaxis2": {
         "anchor": "x2",
         "domain": [
          0.0,
          0.7326
         ],
         "matches": "y",
         "showticklabels": false,
         "showgrid": true
        },
        "xaxis3": {
         "anchor": "y3",
         "domain": [
          0.0,
          0.7363
         ],
         "matches": "x",
         "showticklabels": false,
         "showgrid": true
        },
        "yaxis3": {
         "anchor": "x3",
         "domain": [
          0.7426,
          1.0
         ],
         "matches": "y3",
         "showticklabels": false,
         "showline": false,
         "ticks": "",
         "showgrid": true
        },
        "xaxis4": {
         "anchor": "y4",
         "domain": [
          0.7413,
          1.0
         ],
         "matches": "x2",
         "showticklabels": false,
         "showgrid": true,
         "showline": false,
         "ticks": ""
        },
        "yaxis4": {
         "anchor": "x4",
         "domain": [
          0.7426,
          1.0
         ],
         "matches": "y3",
         "showticklabels": false,
         "showline": false,
         "ticks": "",
         "showgrid": true
        },
        "legend": {
         "tracegroupgap": 0
        },
        "margin": {
         "t": 60
        },
        "barmode": "overlay",
        "shapes": [
         {
          "line": {
           "dash": "dash"
          },
          "type": "line",
          "x0": -11.99189635449704,
          "x1": 16.94520839544012,
          "y0": -11.99189635449704,
          "y1": 16.94520839544012
         }
        ]
       },
       "config": {
        "plotlyServerURL": "https://plot.ly"
       }
      },
      "text/html": "<div>                            <div id=\"184ca51a-b3f7-4ed5-9865-4d1d882773ec\" class=\"plotly-graph-div\" style=\"height:525px; width:100%;\"></div>            <script type=\"text/javascript\">                require([\"plotly\"], function(Plotly) {                    window.PLOTLYENV=window.PLOTLYENV || {};                                    if (document.getElementById(\"184ca51a-b3f7-4ed5-9865-4d1d882773ec\")) {                    Plotly.newPlot(                        \"184ca51a-b3f7-4ed5-9865-4d1d882773ec\",                        [{\"hovertemplate\":\"y=%{x}<br>prediction=%{y}<extra></extra>\",\"legendgroup\":\"\",\"marker\":{\"color\":\"#636efa\",\"symbol\":\"circle\"},\"mode\":\"markers\",\"name\":\"\",\"orientation\":\"v\",\"showlegend\":false,\"x\":[3.5049999999999955,3.097999999999999,7.153000000000006,-8.197000000000003,5.206000000000003,2.988999999999997,-1.2779999999999987,-1.0549999999999997,-5.745999999999995,-3.98599999999999,1.4339999999999975,-5.305000000000007,2.577999999999996,5.008999999999993,-1.2430000000000092,0.8739999999999952,-2.13600000000001,0.05399999999999494,-2.6910000000000025,1.0480000000000018,-3.6229999999999905,-0.7680000000000007,0.9320000000000164,-2.8700000000000045,7.60799999999999,2.8640000000000043,7.076000000000008,-4.764999999999986,1.7659999999999911,-1.5040000000000049,-1.0999999999999943,8.920999999999992,7.905000000000001,8.076999999999998,1.8070000000000164,3.1829999999999927,10.173999999999978,7.22999999999999,0.5490000000000066,0.6160000000000139,-13.495000000000005,-7.604000000000013,3.5020000000000095,12.046999999999983,-3.6789999999999736,2.487999999999971,5.5800000000000125,2.998000000000019,0.7279999999999802,4.228000000000009,-4.397999999999996,3.2749999999999773,1.8680000000000234,1.434000000000026,4.586000000000013,3.5310000000000343,9.113999999999976,-0.46500000000003183,1.108000000000004,-8.905000000000001,-2.4200000000000443,1.1699999999999875,-0.35899999999998045,-3.9710000000000036,4.794000000000011,-0.9480000000000075,10.431000000000012,-3.273999999999944,6.173999999999978,-2.6290000000000475,-0.7620000000000289,-0.9890000000000043,-3.2579999999999814,1.4230000000000018,-0.5740000000000123,2.5360000000000014,-11.448999999999984,5.896000000000015,-3.7970000000000255,-8.184999999999988,-0.6360000000000099,2.112000000000023,7.010999999999996,-1.835000000000008,-0.005999999999971806,-6.499000000000024,7.936000000000007,-7.071000000000026,-2.7990000000000066,6.352999999999952,-2.8549999999999898,-0.4660000000000082,3.4950000000000045,-5.611999999999966,0.45100000000002183,6.304999999999978,-4.59499999999997,-0.2839999999999918,0.08199999999999363,3.40300000000002,-5.581000000000017,-0.5940000000000225,2.7569999999999766,10.765000000000015,4.717999999999961,3.2319999999999993,-2.1899999999999977,0.07200000000003115,-3.173999999999978,-0.7769999999999868,15.456999999999994,8.330000000000041,1.9019999999999868,1.072999999999979,-3.0490000000000066,2.1059999999999945,-5.483999999999952,-8.069000000000017,-6.071999999999974,-5.126999999999981,4.163000000000011,3.5250000000000057,-1.561000000000007,0.5170000000000243,-1.850999999999999,4.307000000000016,0.42499999999998295,5.093000000000018,-8.135999999999996,-0.0630000000000166,-3.914999999999992,4.460000000000008,5.039000000000016,6.8110000000000355,-4.40300000000002,-3.825000000000017,-3.412000000000006,-2.7269999999999754,-11.902999999999992,4.081999999999994,2.7409999999999854,-8.194999999999993,0.6500000000000057,2.8950000000000102,3.3290000000000077,-15.944000000000017,-3.210000000000008,3.3549999999999613,-3.3899999999999864,3.1210000000000093,-0.4410000000000309,-5.93799999999996,-10.52600000000001,-0.8449999999999989,2.4749999999999943,3.752999999999986,0.13599999999999568,0.4930000000000234,4.567000000000007,-2.3079999999999927,5.939000000000007,1.7689999999999912,1.8249999999999886,1.411999999999992,2.3510000000000275,-0.48599999999999,4.340000000000003,0.6370000000000005,1.1629999999999825,5.5660000000000025,7.618000000000009,-2.423000000000002,-0.5909999999999798,-1.728000000000037,-3.983000000000004,6.436999999999998,0.012999999999991019,5.623000000000005,-0.35599999999999454,-8.448000000000008,-0.044000000000004036,-7.4410000000000025,-2.730000000000004,2.9949999999999974,0.6269999999999882,0.5240000000000009,-0.18900000000000006,1.8489999999999895,2.8100000000000094,2.6799999999999997,0.9990000000000094,5.460000000000001,2.4879999999999995,-2.405000000000001,5.128,-0.11399999999999011,-0.17599999999999483,1.0170000000000101,0.1910000000000025,-0.45700000000000074,2.5080000000000027,0.43900000000000006,2.087999999999994,-2.8599999999999994,1.0860000000000056,4.471999999999994,-1.7689999999999984,-1.261999999999997,-1.3219999999999992,-2.3459999999999965,2.7319999999999993,-5.404,1.4080000000000013,-0.08500000000000085,5.506,0.5809999999999995,-1.4909999999999997,-1.1599999999999966,-4.138999999999998,0.9239999999999995,0.3780000000000001,-0.8010000000000019,0.5239999999999991,1.045,-0.08300000000000196],\"xaxis\":\"x\",\"y\":[1.2638858556747437,-0.08323797583580017,-0.31817251443862915,2.8184762001037598,2.7576613426208496,3.9112868309020996,1.5233556032180786,1.3356122970581055,-0.17247289419174194,-0.3487921953201294,1.1663066148757935,2.3866968154907227,2.543278217315674,3.453791618347168,-0.05166241526603699,0.10179360955953598,-0.4919675588607788,1.6508206129074097,1.3152565956115723,0.13829436898231506,0.7470861673355103,2.511974811553955,4.579296588897705,-0.6497992873191833,0.20155736804008484,0.3310089707374573,1.4574525356292725,-2.4192488193511963,-1.1998631954193115,-1.1383758783340454,4.054378509521484,3.619643211364746,2.9409842491149902,2.3217146396636963,0.9845491647720337,1.995985507965088,3.125797748565674,3.6048507690429688,4.637430667877197,-1.3268866539001465,-1.4700478315353394,-4.387285232543945,0.6838555335998535,0.9577383399009705,1.674695611000061,-2.008362054824829,5.337242126464844,-2.943160057067871,1.7579431533813477,4.341709613800049,-0.16996270418167114,3.421532392501831,0.05965277552604675,2.720128059387207,0.6420137882232666,1.651174783706665,-0.9239789247512817,0.5960170030593872,1.5224354267120361,-5.124446868896484,1.493257761001587,3.1197094917297363,-1.2326350212097168,0.7408906817436218,0.532986581325531,1.7240595817565918,2.796086311340332,-3.945948600769043,-1.1630659103393555,-0.2169303596019745,-3.582026720046997,3.6586241722106934,0.6892223358154297,4.414416313171387,1.7535130977630615,1.4079856872558594,-2.6156115531921387,7.583471298217773,-5.888294219970703,-5.8989691734313965,2.938112735748291,4.3097968101501465,3.704129457473755,2.1193294525146484,3.607417583465576,3.7118756771087646,5.893800735473633,1.288089632987976,-0.7595188021659851,2.120194911956787,0.590430736541748,-2.6850879192352295,3.85385799407959,-0.016922831535339355,1.1250580549240112,4.350869655609131,0.025796055793762207,3.361109495162964,0.2735081911087036,2.15014386177063,1.7426559925079346,2.61071515083313,2.248528480529785,2.3700408935546875,-5.72380256652832,-2.993098258972168,1.6446183919906616,-0.6845029592514038,-1.4618784189224243,-1.8199771642684937,6.051420211791992,0.5483962297439575,-5.756590366363525,1.4081547260284424,-8.502726554870605,1.7019529342651367,-5.351441383361816,-1.4098334312438965,-2.5635905265808105,-2.2536277770996094,2.547110080718994,-0.9212962985038757,-0.6621932983398438,2.6270501613616943,-3.2624855041503906,-1.7585945129394531,3.5694146156311035,4.599734783172607,-2.61928129196167,4.69051456451416,-1.9411383867263794,5.196354389190674,4.690672874450684,-1.1368460655212402,-2.8910601139068604,-6.567944049835205,-4.952270030975342,-1.3362294435501099,-6.931222438812256,-1.6026426553726196,-1.683334231376648,-2.4324564933776855,-4.728833198547363,-0.8545083999633789,-0.517578125,-6.560014724731445,-2.2655961513519287,-1.088929533958435,-4.064122676849365,2.481712818145752,-4.597898960113525,-2.914591073989868,-6.423089027404785,-4.3646650314331055,1.2527028322219849,0.20547640323638916,-1.1983065605163574,0.7930734157562256,1.2846704721450806,1.5685384273529053,-1.5643740892410278,3.7927944660186768,-1.3190736770629883,-0.676671028137207,0.46025145053863525,-0.4946078956127167,1.1702911853790283,1.9873298406600952,0.8550968170166016,5.294651508331299,-4.247356414794922,-8.004451751708984,0.1252598762512207,-0.7673031091690063,-1.8540788888931274,5.021239280700684,-1.2227652072906494,-0.28208860754966736,3.2434728145599365,-4.699140548706055,1.5889493227005005,-4.90162467956543,-0.5671222805976868,-0.7418340444564819,-0.9005749225616455,0.0012892335653305054,-0.466269314289093,1.3090121746063232,-1.0494954586029053,0.15162047743797302,-3.518993377685547,0.7363818883895874,0.9048389792442322,0.06010805815458298,-0.5217112898826599,-0.5905851721763611,-5.584442615509033,0.1413673609495163,0.9211996793746948,-0.3258369565010071,0.0583140030503273,0.4044838547706604,-0.1663847267627716,-1.0457491874694824,2.1251580715179443,-0.9291231632232666,-2.9284884929656982,-1.529160499572754,0.5573749542236328,-2.138536214828491,1.0551402568817139,-2.440657615661621,-1.1778937578201294,0.32048529386520386,2.7130441665649414,-1.552797555923462,-2.1182525157928467,-0.6137616634368896,-1.091266393661499,1.527061104774475,-1.0051828622817993,0.757258951663971,0.21263736486434937,0.43937116861343384,-0.5129016637802124],\"yaxis\":\"y\",\"type\":\"scatter\"},{\"alignmentgroup\":\"True\",\"bingroup\":\"x\",\"hovertemplate\":\"y=%{x}<br>count=%{y}<extra></extra>\",\"legendgroup\":\"\",\"marker\":{\"color\":\"#636efa\"},\"name\":\"\",\"offsetgroup\":\"\",\"opacity\":0.5,\"showlegend\":false,\"x\":[3.5049999999999955,3.097999999999999,7.153000000000006,-8.197000000000003,5.206000000000003,2.988999999999997,-1.2779999999999987,-1.0549999999999997,-5.745999999999995,-3.98599999999999,1.4339999999999975,-5.305000000000007,2.577999999999996,5.008999999999993,-1.2430000000000092,0.8739999999999952,-2.13600000000001,0.05399999999999494,-2.6910000000000025,1.0480000000000018,-3.6229999999999905,-0.7680000000000007,0.9320000000000164,-2.8700000000000045,7.60799999999999,2.8640000000000043,7.076000000000008,-4.764999999999986,1.7659999999999911,-1.5040000000000049,-1.0999999999999943,8.920999999999992,7.905000000000001,8.076999999999998,1.8070000000000164,3.1829999999999927,10.173999999999978,7.22999999999999,0.5490000000000066,0.6160000000000139,-13.495000000000005,-7.604000000000013,3.5020000000000095,12.046999999999983,-3.6789999999999736,2.487999999999971,5.5800000000000125,2.998000000000019,0.7279999999999802,4.228000000000009,-4.397999999999996,3.2749999999999773,1.8680000000000234,1.434000000000026,4.586000000000013,3.5310000000000343,9.113999999999976,-0.46500000000003183,1.108000000000004,-8.905000000000001,-2.4200000000000443,1.1699999999999875,-0.35899999999998045,-3.9710000000000036,4.794000000000011,-0.9480000000000075,10.431000000000012,-3.273999999999944,6.173999999999978,-2.6290000000000475,-0.7620000000000289,-0.9890000000000043,-3.2579999999999814,1.4230000000000018,-0.5740000000000123,2.5360000000000014,-11.448999999999984,5.896000000000015,-3.7970000000000255,-8.184999999999988,-0.6360000000000099,2.112000000000023,7.010999999999996,-1.835000000000008,-0.005999999999971806,-6.499000000000024,7.936000000000007,-7.071000000000026,-2.7990000000000066,6.352999999999952,-2.8549999999999898,-0.4660000000000082,3.4950000000000045,-5.611999999999966,0.45100000000002183,6.304999999999978,-4.59499999999997,-0.2839999999999918,0.08199999999999363,3.40300000000002,-5.581000000000017,-0.5940000000000225,2.7569999999999766,10.765000000000015,4.717999999999961,3.2319999999999993,-2.1899999999999977,0.07200000000003115,-3.173999999999978,-0.7769999999999868,15.456999999999994,8.330000000000041,1.9019999999999868,1.072999999999979,-3.0490000000000066,2.1059999999999945,-5.483999999999952,-8.069000000000017,-6.071999999999974,-5.126999999999981,4.163000000000011,3.5250000000000057,-1.561000000000007,0.5170000000000243,-1.850999999999999,4.307000000000016,0.42499999999998295,5.093000000000018,-8.135999999999996,-0.0630000000000166,-3.914999999999992,4.460000000000008,5.039000000000016,6.8110000000000355,-4.40300000000002,-3.825000000000017,-3.412000000000006,-2.7269999999999754,-11.902999999999992,4.081999999999994,2.7409999999999854,-8.194999999999993,0.6500000000000057,2.8950000000000102,3.3290000000000077,-15.944000000000017,-3.210000000000008,3.3549999999999613,-3.3899999999999864,3.1210000000000093,-0.4410000000000309,-5.93799999999996,-10.52600000000001,-0.8449999999999989,2.4749999999999943,3.752999999999986,0.13599999999999568,0.4930000000000234,4.567000000000007,-2.3079999999999927,5.939000000000007,1.7689999999999912,1.8249999999999886,1.411999999999992,2.3510000000000275,-0.48599999999999,4.340000000000003,0.6370000000000005,1.1629999999999825,5.5660000000000025,7.618000000000009,-2.423000000000002,-0.5909999999999798,-1.728000000000037,-3.983000000000004,6.436999999999998,0.012999999999991019,5.623000000000005,-0.35599999999999454,-8.448000000000008,-0.044000000000004036,-7.4410000000000025,-2.730000000000004,2.9949999999999974,0.6269999999999882,0.5240000000000009,-0.18900000000000006,1.8489999999999895,2.8100000000000094,2.6799999999999997,0.9990000000000094,5.460000000000001,2.4879999999999995,-2.405000000000001,5.128,-0.11399999999999011,-0.17599999999999483,1.0170000000000101,0.1910000000000025,-0.45700000000000074,2.5080000000000027,0.43900000000000006,2.087999999999994,-2.8599999999999994,1.0860000000000056,4.471999999999994,-1.7689999999999984,-1.261999999999997,-1.3219999999999992,-2.3459999999999965,2.7319999999999993,-5.404,1.4080000000000013,-0.08500000000000085,5.506,0.5809999999999995,-1.4909999999999997,-1.1599999999999966,-4.138999999999998,0.9239999999999995,0.3780000000000001,-0.8010000000000019,0.5239999999999991,1.045,-0.08300000000000196],\"xaxis\":\"x3\",\"yaxis\":\"y3\",\"type\":\"histogram\",\"histnorm\":\"probability\"},{\"alignmentgroup\":\"True\",\"bingroup\":\"y\",\"hovertemplate\":\"prediction=%{y}<br>count=%{x}<extra></extra>\",\"legendgroup\":\"\",\"marker\":{\"color\":\"#636efa\"},\"name\":\"\",\"offsetgroup\":\"\",\"opacity\":0.5,\"showlegend\":false,\"xaxis\":\"x2\",\"y\":[1.2638858556747437,-0.08323797583580017,-0.31817251443862915,2.8184762001037598,2.7576613426208496,3.9112868309020996,1.5233556032180786,1.3356122970581055,-0.17247289419174194,-0.3487921953201294,1.1663066148757935,2.3866968154907227,2.543278217315674,3.453791618347168,-0.05166241526603699,0.10179360955953598,-0.4919675588607788,1.6508206129074097,1.3152565956115723,0.13829436898231506,0.7470861673355103,2.511974811553955,4.579296588897705,-0.6497992873191833,0.20155736804008484,0.3310089707374573,1.4574525356292725,-2.4192488193511963,-1.1998631954193115,-1.1383758783340454,4.054378509521484,3.619643211364746,2.9409842491149902,2.3217146396636963,0.9845491647720337,1.995985507965088,3.125797748565674,3.6048507690429688,4.637430667877197,-1.3268866539001465,-1.4700478315353394,-4.387285232543945,0.6838555335998535,0.9577383399009705,1.674695611000061,-2.008362054824829,5.337242126464844,-2.943160057067871,1.7579431533813477,4.341709613800049,-0.16996270418167114,3.421532392501831,0.05965277552604675,2.720128059387207,0.6420137882232666,1.651174783706665,-0.9239789247512817,0.5960170030593872,1.5224354267120361,-5.124446868896484,1.493257761001587,3.1197094917297363,-1.2326350212097168,0.7408906817436218,0.532986581325531,1.7240595817565918,2.796086311340332,-3.945948600769043,-1.1630659103393555,-0.2169303596019745,-3.582026720046997,3.6586241722106934,0.6892223358154297,4.414416313171387,1.7535130977630615,1.4079856872558594,-2.6156115531921387,7.583471298217773,-5.888294219970703,-5.8989691734313965,2.938112735748291,4.3097968101501465,3.704129457473755,2.1193294525146484,3.607417583465576,3.7118756771087646,5.893800735473633,1.288089632987976,-0.7595188021659851,2.120194911956787,0.590430736541748,-2.6850879192352295,3.85385799407959,-0.016922831535339355,1.1250580549240112,4.350869655609131,0.025796055793762207,3.361109495162964,0.2735081911087036,2.15014386177063,1.7426559925079346,2.61071515083313,2.248528480529785,2.3700408935546875,-5.72380256652832,-2.993098258972168,1.6446183919906616,-0.6845029592514038,-1.4618784189224243,-1.8199771642684937,6.051420211791992,0.5483962297439575,-5.756590366363525,1.4081547260284424,-8.502726554870605,1.7019529342651367,-5.351441383361816,-1.4098334312438965,-2.5635905265808105,-2.2536277770996094,2.547110080718994,-0.9212962985038757,-0.6621932983398438,2.6270501613616943,-3.2624855041503906,-1.7585945129394531,3.5694146156311035,4.599734783172607,-2.61928129196167,4.69051456451416,-1.9411383867263794,5.196354389190674,4.690672874450684,-1.1368460655212402,-2.8910601139068604,-6.567944049835205,-4.952270030975342,-1.3362294435501099,-6.931222438812256,-1.6026426553726196,-1.683334231376648,-2.4324564933776855,-4.728833198547363,-0.8545083999633789,-0.517578125,-6.560014724731445,-2.2655961513519287,-1.088929533958435,-4.064122676849365,2.481712818145752,-4.597898960113525,-2.914591073989868,-6.423089027404785,-4.3646650314331055,1.2527028322219849,0.20547640323638916,-1.1983065605163574,0.7930734157562256,1.2846704721450806,1.5685384273529053,-1.5643740892410278,3.7927944660186768,-1.3190736770629883,-0.676671028137207,0.46025145053863525,-0.4946078956127167,1.1702911853790283,1.9873298406600952,0.8550968170166016,5.294651508331299,-4.247356414794922,-8.004451751708984,0.1252598762512207,-0.7673031091690063,-1.8540788888931274,5.021239280700684,-1.2227652072906494,-0.28208860754966736,3.2434728145599365,-4.699140548706055,1.5889493227005005,-4.90162467956543,-0.5671222805976868,-0.7418340444564819,-0.9005749225616455,0.0012892335653305054,-0.466269314289093,1.3090121746063232,-1.0494954586029053,0.15162047743797302,-3.518993377685547,0.7363818883895874,0.9048389792442322,0.06010805815458298,-0.5217112898826599,-0.5905851721763611,-5.584442615509033,0.1413673609495163,0.9211996793746948,-0.3258369565010071,0.0583140030503273,0.4044838547706604,-0.1663847267627716,-1.0457491874694824,2.1251580715179443,-0.9291231632232666,-2.9284884929656982,-1.529160499572754,0.5573749542236328,-2.138536214828491,1.0551402568817139,-2.440657615661621,-1.1778937578201294,0.32048529386520386,2.7130441665649414,-1.552797555923462,-2.1182525157928467,-0.6137616634368896,-1.091266393661499,1.527061104774475,-1.0051828622817993,0.757258951663971,0.21263736486434937,0.43937116861343384,-0.5129016637802124],\"yaxis\":\"y2\",\"type\":\"histogram\",\"histnorm\":\"probability\"},{\"hovertemplate\":\"<b>OLS trendline</b><br>prediction = 0.303587 * y + -0.0248755<br>R<sup>2</sup>=0.243389<br><br>y=%{x}<br>prediction=%{y} <b>(trend)</b><extra></extra>\",\"legendgroup\":\"\",\"marker\":{\"color\":\"#636efa\",\"symbol\":\"circle\"},\"mode\":\"lines\",\"name\":\"\",\"showlegend\":false,\"x\":[-15.944000000000017,-13.495000000000005,-11.902999999999992,-11.448999999999984,-10.52600000000001,-8.905000000000001,-8.448000000000008,-8.197000000000003,-8.194999999999993,-8.184999999999988,-8.135999999999996,-8.069000000000017,-7.604000000000013,-7.4410000000000025,-7.071000000000026,-6.499000000000024,-6.071999999999974,-5.93799999999996,-5.745999999999995,-5.611999999999966,-5.581000000000017,-5.483999999999952,-5.404,-5.305000000000007,-5.126999999999981,-4.764999999999986,-4.59499999999997,-4.40300000000002,-4.397999999999996,-4.138999999999998,-3.98599999999999,-3.983000000000004,-3.9710000000000036,-3.914999999999992,-3.825000000000017,-3.7970000000000255,-3.6789999999999736,-3.6229999999999905,-3.412000000000006,-3.3899999999999864,-3.273999999999944,-3.2579999999999814,-3.210000000000008,-3.173999999999978,-3.0490000000000066,-2.8700000000000045,-2.8599999999999994,-2.8549999999999898,-2.7990000000000066,-2.730000000000004,-2.7269999999999754,-2.6910000000000025,-2.6290000000000475,-2.423000000000002,-2.4200000000000443,-2.405000000000001,-2.3459999999999965,-2.3079999999999927,-2.1899999999999977,-2.13600000000001,-1.850999999999999,-1.835000000000008,-1.7689999999999984,-1.728000000000037,-1.561000000000007,-1.5040000000000049,-1.4909999999999997,-1.3219999999999992,-1.2779999999999987,-1.261999999999997,-1.2430000000000092,-1.1599999999999966,-1.0999999999999943,-1.0549999999999997,-0.9890000000000043,-0.9480000000000075,-0.8449999999999989,-0.8010000000000019,-0.7769999999999868,-0.7680000000000007,-0.7620000000000289,-0.6360000000000099,-0.5940000000000225,-0.5909999999999798,-0.5740000000000123,-0.48599999999999,-0.4660000000000082,-0.46500000000003183,-0.45700000000000074,-0.4410000000000309,-0.35899999999998045,-0.35599999999999454,-0.2839999999999918,-0.18900000000000006,-0.17599999999999483,-0.11399999999999011,-0.08500000000000085,-0.08300000000000196,-0.0630000000000166,-0.044000000000004036,-0.005999999999971806,0.012999999999991019,0.05399999999999494,0.07200000000003115,0.08199999999999363,0.13599999999999568,0.1910000000000025,0.3780000000000001,0.42499999999998295,0.43900000000000006,0.45100000000002183,0.4930000000000234,0.5170000000000243,0.5239999999999991,0.5240000000000009,0.5490000000000066,0.5809999999999995,0.6160000000000139,0.6269999999999882,0.6370000000000005,0.6500000000000057,0.7279999999999802,0.8739999999999952,0.9239999999999995,0.9320000000000164,0.9990000000000094,1.0170000000000101,1.045,1.0480000000000018,1.072999999999979,1.0860000000000056,1.108000000000004,1.1629999999999825,1.1699999999999875,1.4080000000000013,1.411999999999992,1.4230000000000018,1.4339999999999975,1.434000000000026,1.7659999999999911,1.7689999999999912,1.8070000000000164,1.8249999999999886,1.8489999999999895,1.8680000000000234,1.9019999999999868,2.087999999999994,2.1059999999999945,2.112000000000023,2.3510000000000275,2.4749999999999943,2.487999999999971,2.4879999999999995,2.5080000000000027,2.5360000000000014,2.577999999999996,2.6799999999999997,2.7319999999999993,2.7409999999999854,2.7569999999999766,2.8100000000000094,2.8640000000000043,2.8950000000000102,2.988999999999997,2.9949999999999974,2.998000000000019,3.097999999999999,3.1210000000000093,3.1829999999999927,3.2319999999999993,3.2749999999999773,3.3290000000000077,3.3549999999999613,3.40300000000002,3.4950000000000045,3.5020000000000095,3.5049999999999955,3.5250000000000057,3.5310000000000343,3.752999999999986,4.081999999999994,4.163000000000011,4.228000000000009,4.307000000000016,4.340000000000003,4.460000000000008,4.471999999999994,4.567000000000007,4.586000000000013,4.717999999999961,4.794000000000011,5.008999999999993,5.039000000000016,5.093000000000018,5.128,5.206000000000003,5.460000000000001,5.506,5.5660000000000025,5.5800000000000125,5.623000000000005,5.896000000000015,5.939000000000007,6.173999999999978,6.304999999999978,6.352999999999952,6.436999999999998,6.8110000000000355,7.010999999999996,7.076000000000008,7.153000000000006,7.22999999999999,7.60799999999999,7.618000000000009,7.905000000000001,7.936000000000007,8.076999999999998,8.330000000000041,8.920999999999992,9.113999999999976,10.173999999999978,10.431000000000012,10.765000000000015,12.046999999999983,15.456999999999994],\"xaxis\":\"x\",\"y\":[-4.865272218629346,-4.121786790882608,-3.638475724744261,-3.500647066435963,-3.220435939522849,-2.7283208401445465,-2.5895814197769464,-2.5133809941483496,-2.5127738194421427,-2.5097379459111213,-2.4948621656091268,-2.474521812951301,-2.333353693758882,-2.283868955203257,-2.1715416345555343,-1.9978896685812044,-1.8682578688066467,-1.8275771634909777,-1.7692883916954094,-1.7286076863797364,-1.7191964784335905,-1.6897485051826793,-1.665461516934536,-1.6354063689774425,-1.5813678201252834,-1.4714691983023704,-1.4198593482750301,-1.361570576479466,-1.3600526397139492,-1.2814235152605382,-1.234974650235934,-1.2340638881766324,-1.2304208399394085,-1.2134199481656944,-1.1860970863865246,-1.1775966404996718,-1.141773332833623,-1.1247724410599176,-1.060715509555406,-1.0540365877871565,-1.0188204548273148,-1.0139630571776943,-0.9993908642288076,-0.9884617195171276,-0.9505133003793895,-0.8961711641741356,-0.8931352906431143,-0.8916173538776014,-0.874616462103896,-0.853668934739859,-0.8527581726805444,-0.8418290279688816,-0.8230066120765729,-0.7604676173375524,-0.7595568552782594,-0.7550030449817167,-0.7370913911486988,-0.7255550717308227,-0.6897317640647913,-0.6733380469972884,-0.5868156513632226,-0.5819582537135937,-0.5619214884088605,-0.5494744069316914,-0.49877531896365257,-0.4814708398368394,-0.47752420424651215,-0.42621794157227844,-0.41286009803579143,-0.4080027003861593,-0.4022345406772255,-0.3770367903697579,-0.3588215491836388,-0.3451601182940516,-0.3251233529893227,-0.3126762715121428,-0.2814067741426368,-0.2680489306061509,-0.260762834131699,-0.2580305479537854,-0.2562090238351821,-0.21795701734432765,-0.20520634851404856,-0.20429558645472967,-0.19913460145200598,-0.17241891437902554,-0.1663471673169916,-0.1660435799638968,-0.16361488113907155,-0.15875748348944912,-0.13386332053507197,-0.1329525584757703,-0.11109426905242738,-0.08225347050774237,-0.07830683491741512,-0.059484419025091315,-0.05068038578513733,-0.05007321107893372,-0.04400146401689869,-0.03823330430795737,-0.02669698489007258,-0.020928825181146363,-0.008481743703964244,-0.0030171713481177247,1.870218289062517e-05,0.01641241925039783,0.033109723671008465,0.08988055870107685,0.10414916429686441,0.10839938724029724,0.11204243547752754,0.1247931043078109,0.13207920078225857,0.13420431225396473,0.13420431225396526,0.14179399608151633,0.15150879138077736,0.1621343487393508,0.16547380962346472,0.16850968315448817,0.17245631874481543,0.19613613228676163,0.24045988583965439,0.25563925349475436,0.2580679523195753,0.27840830497740543,0.2838728773332412,0.29237332322009335,0.2932840852793998,0.30087376910694225,0.304820404697276,0.3114993264655189,0.32819663088612094,0.3303217423578363,0.4025755323961102,0.40378988180851527,0.40712934269264,0.4104688035767604,0.410468803576769,0.5112598048066138,0.5121705668659198,0.5237068862838024,0.5291714586396294,0.5364575551140771,0.542225714823025,0.5525476848284809,0.6090149325054501,0.6144795048612859,0.6163010289799065,0.6888584063712795,0.7265032381559142,0.7304498737462328,0.7304498737462415,0.7365216208082819,0.7450220666951367,0.7577727355254179,0.7887386455418205,0.804525187903123,0.8072574740810365,0.8121148717306654,0.82820500144508,0.8445987185125851,0.8540099264587481,0.8825471376503297,0.8843686617689416,0.885279423828254,0.9156381591384453,0.9226206682597938,0.9414430841521112,0.9563188644541099,0.969373120637488,0.9857668377050038,0.993660108885641,1.0082323018345536,1.0361623383199305,1.0382874497916459,1.0391982118509475,1.0452699589129901,1.0470914830316105,1.114487875420234,1.2143681145907859,1.2389586901920508,1.2586918681436785,1.2826752690387369,1.292693651691098,1.3291241340633362,1.3327671823005558,1.3616079808452473,1.3673761405541864,1.4074496711636313,1.4305223099993964,1.4957935909163154,1.5049012115093814,1.5212949285768886,1.5319204859354525,1.5556002994774072,1.632711487165308,1.6466765054079986,1.6648917465941178,1.6691419695375482,1.6821962257209309,1.7650755731177727,1.7781298293011554,1.8494728572801102,1.889242800536469,1.9038149934853557,1.9293163311459354,2.0428580012060853,2.103575471826468,2.1233086497781,2.1466848759669515,2.1700611021557985,2.2848171216283446,2.28785299515937,2.3749825654996344,2.3843937734457974,2.427199590233173,2.504007190567985,2.6834273162512368,2.742019675399913,3.0638222696880058,3.141844219435223,3.2432423953712837,3.6324413820480044,4.667674256125737],\"yaxis\":\"y\",\"type\":\"scatter\"}],                        {\"template\":{\"data\":{\"histogram2dcontour\":[{\"type\":\"histogram2dcontour\",\"colorbar\":{\"outlinewidth\":0,\"ticks\":\"\"},\"colorscale\":[[0.0,\"#0d0887\"],[0.1111111111111111,\"#46039f\"],[0.2222222222222222,\"#7201a8\"],[0.3333333333333333,\"#9c179e\"],[0.4444444444444444,\"#bd3786\"],[0.5555555555555556,\"#d8576b\"],[0.6666666666666666,\"#ed7953\"],[0.7777777777777778,\"#fb9f3a\"],[0.8888888888888888,\"#fdca26\"],[1.0,\"#f0f921\"]]}],\"choropleth\":[{\"type\":\"choropleth\",\"colorbar\":{\"outlinewidth\":0,\"ticks\":\"\"}}],\"histogram2d\":[{\"type\":\"histogram2d\",\"colorbar\":{\"outlinewidth\":0,\"ticks\":\"\"},\"colorscale\":[[0.0,\"#0d0887\"],[0.1111111111111111,\"#46039f\"],[0.2222222222222222,\"#7201a8\"],[0.3333333333333333,\"#9c179e\"],[0.4444444444444444,\"#bd3786\"],[0.5555555555555556,\"#d8576b\"],[0.6666666666666666,\"#ed7953\"],[0.7777777777777778,\"#fb9f3a\"],[0.8888888888888888,\"#fdca26\"],[1.0,\"#f0f921\"]]}],\"heatmap\":[{\"type\":\"heatmap\",\"colorbar\":{\"outlinewidth\":0,\"ticks\":\"\"},\"colorscale\":[[0.0,\"#0d0887\"],[0.1111111111111111,\"#46039f\"],[0.2222222222222222,\"#7201a8\"],[0.3333333333333333,\"#9c179e\"],[0.4444444444444444,\"#bd3786\"],[0.5555555555555556,\"#d8576b\"],[0.6666666666666666,\"#ed7953\"],[0.7777777777777778,\"#fb9f3a\"],[0.8888888888888888,\"#fdca26\"],[1.0,\"#f0f921\"]]}],\"heatmapgl\":[{\"type\":\"heatmapgl\",\"colorbar\":{\"outlinewidth\":0,\"ticks\":\"\"},\"colorscale\":[[0.0,\"#0d0887\"],[0.1111111111111111,\"#46039f\"],[0.2222222222222222,\"#7201a8\"],[0.3333333333333333,\"#9c179e\"],[0.4444444444444444,\"#bd3786\"],[0.5555555555555556,\"#d8576b\"],[0.6666666666666666,\"#ed7953\"],[0.7777777777777778,\"#fb9f3a\"],[0.8888888888888888,\"#fdca26\"],[1.0,\"#f0f921\"]]}],\"contourcarpet\":[{\"type\":\"contourcarpet\",\"colorbar\":{\"outlinewidth\":0,\"ticks\":\"\"}}],\"contour\":[{\"type\":\"contour\",\"colorbar\":{\"outlinewidth\":0,\"ticks\":\"\"},\"colorscale\":[[0.0,\"#0d0887\"],[0.1111111111111111,\"#46039f\"],[0.2222222222222222,\"#7201a8\"],[0.3333333333333333,\"#9c179e\"],[0.4444444444444444,\"#bd3786\"],[0.5555555555555556,\"#d8576b\"],[0.6666666666666666,\"#ed7953\"],[0.7777777777777778,\"#fb9f3a\"],[0.8888888888888888,\"#fdca26\"],[1.0,\"#f0f921\"]]}],\"surface\":[{\"type\":\"surface\",\"colorbar\":{\"outlinewidth\":0,\"ticks\":\"\"},\"colorscale\":[[0.0,\"#0d0887\"],[0.1111111111111111,\"#46039f\"],[0.2222222222222222,\"#7201a8\"],[0.3333333333333333,\"#9c179e\"],[0.4444444444444444,\"#bd3786\"],[0.5555555555555556,\"#d8576b\"],[0.6666666666666666,\"#ed7953\"],[0.7777777777777778,\"#fb9f3a\"],[0.8888888888888888,\"#fdca26\"],[1.0,\"#f0f921\"]]}],\"mesh3d\":[{\"type\":\"mesh3d\",\"colorbar\":{\"outlinewidth\":0,\"ticks\":\"\"}}],\"scatter\":[{\"marker\":{\"line\":{\"color\":\"#283442\"}},\"type\":\"scatter\"}],\"parcoords\":[{\"type\":\"parcoords\",\"line\":{\"colorbar\":{\"outlinewidth\":0,\"ticks\":\"\"}}}],\"scatterpolargl\":[{\"type\":\"scatterpolargl\",\"marker\":{\"colorbar\":{\"outlinewidth\":0,\"ticks\":\"\"}}}],\"bar\":[{\"error_x\":{\"color\":\"#f2f5fa\"},\"error_y\":{\"color\":\"#f2f5fa\"},\"marker\":{\"line\":{\"color\":\"rgb(17,17,17)\",\"width\":0.5},\"pattern\":{\"fillmode\":\"overlay\",\"size\":10,\"solidity\":0.2}},\"type\":\"bar\"}],\"scattergeo\":[{\"type\":\"scattergeo\",\"marker\":{\"colorbar\":{\"outlinewidth\":0,\"ticks\":\"\"}}}],\"scatterpolar\":[{\"type\":\"scatterpolar\",\"marker\":{\"colorbar\":{\"outlinewidth\":0,\"ticks\":\"\"}}}],\"histogram\":[{\"marker\":{\"pattern\":{\"fillmode\":\"overlay\",\"size\":10,\"solidity\":0.2}},\"type\":\"histogram\"}],\"scattergl\":[{\"marker\":{\"line\":{\"color\":\"#283442\"}},\"type\":\"scattergl\"}],\"scatter3d\":[{\"type\":\"scatter3d\",\"line\":{\"colorbar\":{\"outlinewidth\":0,\"ticks\":\"\"}},\"marker\":{\"colorbar\":{\"outlinewidth\":0,\"ticks\":\"\"}}}],\"scattermapbox\":[{\"type\":\"scattermapbox\",\"marker\":{\"colorbar\":{\"outlinewidth\":0,\"ticks\":\"\"}}}],\"scatterternary\":[{\"type\":\"scatterternary\",\"marker\":{\"colorbar\":{\"outlinewidth\":0,\"ticks\":\"\"}}}],\"scattercarpet\":[{\"type\":\"scattercarpet\",\"marker\":{\"colorbar\":{\"outlinewidth\":0,\"ticks\":\"\"}}}],\"carpet\":[{\"aaxis\":{\"endlinecolor\":\"#A2B1C6\",\"gridcolor\":\"#506784\",\"linecolor\":\"#506784\",\"minorgridcolor\":\"#506784\",\"startlinecolor\":\"#A2B1C6\"},\"baxis\":{\"endlinecolor\":\"#A2B1C6\",\"gridcolor\":\"#506784\",\"linecolor\":\"#506784\",\"minorgridcolor\":\"#506784\",\"startlinecolor\":\"#A2B1C6\"},\"type\":\"carpet\"}],\"table\":[{\"cells\":{\"fill\":{\"color\":\"#506784\"},\"line\":{\"color\":\"rgb(17,17,17)\"}},\"header\":{\"fill\":{\"color\":\"#2a3f5f\"},\"line\":{\"color\":\"rgb(17,17,17)\"}},\"type\":\"table\"}],\"barpolar\":[{\"marker\":{\"line\":{\"color\":\"rgb(17,17,17)\",\"width\":0.5},\"pattern\":{\"fillmode\":\"overlay\",\"size\":10,\"solidity\":0.2}},\"type\":\"barpolar\"}],\"pie\":[{\"automargin\":true,\"type\":\"pie\"}]},\"layout\":{\"autotypenumbers\":\"strict\",\"colorway\":[\"#636efa\",\"#EF553B\",\"#00cc96\",\"#ab63fa\",\"#FFA15A\",\"#19d3f3\",\"#FF6692\",\"#B6E880\",\"#FF97FF\",\"#FECB52\"],\"font\":{\"color\":\"#f2f5fa\"},\"hovermode\":\"closest\",\"hoverlabel\":{\"align\":\"left\"},\"paper_bgcolor\":\"rgb(17,17,17)\",\"plot_bgcolor\":\"rgb(17,17,17)\",\"polar\":{\"bgcolor\":\"rgb(17,17,17)\",\"angularaxis\":{\"gridcolor\":\"#506784\",\"linecolor\":\"#506784\",\"ticks\":\"\"},\"radialaxis\":{\"gridcolor\":\"#506784\",\"linecolor\":\"#506784\",\"ticks\":\"\"}},\"ternary\":{\"bgcolor\":\"rgb(17,17,17)\",\"aaxis\":{\"gridcolor\":\"#506784\",\"linecolor\":\"#506784\",\"ticks\":\"\"},\"baxis\":{\"gridcolor\":\"#506784\",\"linecolor\":\"#506784\",\"ticks\":\"\"},\"caxis\":{\"gridcolor\":\"#506784\",\"linecolor\":\"#506784\",\"ticks\":\"\"}},\"coloraxis\":{\"colorbar\":{\"outlinewidth\":0,\"ticks\":\"\"}},\"colorscale\":{\"sequential\":[[0.0,\"#0d0887\"],[0.1111111111111111,\"#46039f\"],[0.2222222222222222,\"#7201a8\"],[0.3333333333333333,\"#9c179e\"],[0.4444444444444444,\"#bd3786\"],[0.5555555555555556,\"#d8576b\"],[0.6666666666666666,\"#ed7953\"],[0.7777777777777778,\"#fb9f3a\"],[0.8888888888888888,\"#fdca26\"],[1.0,\"#f0f921\"]],\"sequentialminus\":[[0.0,\"#0d0887\"],[0.1111111111111111,\"#46039f\"],[0.2222222222222222,\"#7201a8\"],[0.3333333333333333,\"#9c179e\"],[0.4444444444444444,\"#bd3786\"],[0.5555555555555556,\"#d8576b\"],[0.6666666666666666,\"#ed7953\"],[0.7777777777777778,\"#fb9f3a\"],[0.8888888888888888,\"#fdca26\"],[1.0,\"#f0f921\"]],\"diverging\":[[0,\"#8e0152\"],[0.1,\"#c51b7d\"],[0.2,\"#de77ae\"],[0.3,\"#f1b6da\"],[0.4,\"#fde0ef\"],[0.5,\"#f7f7f7\"],[0.6,\"#e6f5d0\"],[0.7,\"#b8e186\"],[0.8,\"#7fbc41\"],[0.9,\"#4d9221\"],[1,\"#276419\"]]},\"xaxis\":{\"gridcolor\":\"#283442\",\"linecolor\":\"#506784\",\"ticks\":\"\",\"title\":{\"standoff\":15},\"zerolinecolor\":\"#283442\",\"automargin\":true,\"zerolinewidth\":2},\"yaxis\":{\"gridcolor\":\"#283442\",\"linecolor\":\"#506784\",\"ticks\":\"\",\"title\":{\"standoff\":15},\"zerolinecolor\":\"#283442\",\"automargin\":true,\"zerolinewidth\":2},\"scene\":{\"xaxis\":{\"backgroundcolor\":\"rgb(17,17,17)\",\"gridcolor\":\"#506784\",\"linecolor\":\"#506784\",\"showbackground\":true,\"ticks\":\"\",\"zerolinecolor\":\"#C8D4E3\",\"gridwidth\":2},\"yaxis\":{\"backgroundcolor\":\"rgb(17,17,17)\",\"gridcolor\":\"#506784\",\"linecolor\":\"#506784\",\"showbackground\":true,\"ticks\":\"\",\"zerolinecolor\":\"#C8D4E3\",\"gridwidth\":2},\"zaxis\":{\"backgroundcolor\":\"rgb(17,17,17)\",\"gridcolor\":\"#506784\",\"linecolor\":\"#506784\",\"showbackground\":true,\"ticks\":\"\",\"zerolinecolor\":\"#C8D4E3\",\"gridwidth\":2}},\"shapedefaults\":{\"line\":{\"color\":\"#f2f5fa\"}},\"annotationdefaults\":{\"arrowcolor\":\"#f2f5fa\",\"arrowhead\":0,\"arrowwidth\":1},\"geo\":{\"bgcolor\":\"rgb(17,17,17)\",\"landcolor\":\"rgb(17,17,17)\",\"subunitcolor\":\"#506784\",\"showland\":true,\"showlakes\":true,\"lakecolor\":\"rgb(17,17,17)\"},\"title\":{\"x\":0.05},\"updatemenudefaults\":{\"bgcolor\":\"#506784\",\"borderwidth\":0},\"sliderdefaults\":{\"bgcolor\":\"#C8D4E3\",\"borderwidth\":1,\"bordercolor\":\"rgb(17,17,17)\",\"tickwidth\":0},\"mapbox\":{\"style\":\"dark\"}}},\"xaxis\":{\"anchor\":\"y\",\"domain\":[0.0,0.7363],\"title\":{\"text\":\"y\"}},\"yaxis\":{\"anchor\":\"x\",\"domain\":[0.0,0.7326],\"title\":{\"text\":\"prediction\"}},\"xaxis2\":{\"anchor\":\"y2\",\"domain\":[0.7413,1.0],\"matches\":\"x2\",\"showticklabels\":false,\"showline\":false,\"ticks\":\"\",\"showgrid\":true},\"yaxis2\":{\"anchor\":\"x2\",\"domain\":[0.0,0.7326],\"matches\":\"y\",\"showticklabels\":false,\"showgrid\":true},\"xaxis3\":{\"anchor\":\"y3\",\"domain\":[0.0,0.7363],\"matches\":\"x\",\"showticklabels\":false,\"showgrid\":true},\"yaxis3\":{\"anchor\":\"x3\",\"domain\":[0.7426,1.0],\"matches\":\"y3\",\"showticklabels\":false,\"showline\":false,\"ticks\":\"\",\"showgrid\":true},\"xaxis4\":{\"anchor\":\"y4\",\"domain\":[0.7413,1.0],\"matches\":\"x2\",\"showticklabels\":false,\"showgrid\":true,\"showline\":false,\"ticks\":\"\"},\"yaxis4\":{\"anchor\":\"x4\",\"domain\":[0.7426,1.0],\"matches\":\"y3\",\"showticklabels\":false,\"showline\":false,\"ticks\":\"\",\"showgrid\":true},\"legend\":{\"tracegroupgap\":0},\"margin\":{\"t\":60},\"barmode\":\"overlay\",\"shapes\":[{\"line\":{\"dash\":\"dash\"},\"type\":\"line\",\"x0\":-11.99189635449704,\"x1\":16.94520839544012,\"y0\":-11.99189635449704,\"y1\":16.94520839544012}]},                        {\"responsive\": true}                    ).then(function(){\n                            \nvar gd = document.getElementById('184ca51a-b3f7-4ed5-9865-4d1d882773ec');\nvar x = new MutationObserver(function (mutations, observer) {{\n        var display = window.getComputedStyle(gd).display;\n        if (!display || display === 'none') {{\n            console.log([gd, 'removed!']);\n            Plotly.purge(gd);\n            observer.disconnect();\n        }}\n}});\n\n// Listen for the removal of the full notebook cells\nvar notebookContainer = gd.closest('#notebook-container');\nif (notebookContainer) {{\n    x.observe(notebookContainer, {childList: true});\n}}\n\n// Listen for the clearing of the current output cell\nvar outputEl = gd.closest('.output');\nif (outputEl) {{\n    x.observe(outputEl, {childList: true});\n}}\n\n                        })                };                });            </script>        </div>"
     },
     "metadata": {},
     "output_type": "display_data"
    }
   ],
   "source": [
    "fig = px.scatter(\n",
    "    deep_preds[-225:], x='y', y='prediction',\n",
    "    marginal_x='histogram', marginal_y='histogram', trendline='ols'\n",
    ")\n",
    "fig.update_traces(histnorm='probability', selector={'type':'histogram'})\n",
    "fig.add_shape(\n",
    "    type=\"line\", line=dict(dash='dash'),\n",
    "    x0=y_test.min(), y0=y_test.min(),\n",
    "    x1=y_test.max(), y1=y_test.max()\n",
    ")\n",
    "\n",
    "fig.show()"
   ],
   "metadata": {
    "collapsed": false,
    "ExecuteTime": {
     "start_time": "2023-06-27T10:30:14.381253Z",
     "end_time": "2023-06-27T10:30:14.454800Z"
    }
   }
  },
  {
   "cell_type": "code",
   "execution_count": 141,
   "outputs": [
    {
     "name": "stdout",
     "output_type": "stream",
     "text": [
      "MSE: 16.420015403740226\n",
      "RMSE: 4.052161818553182\n",
      "MAE: 3.134005153367519\n",
      "MAPE: 7.658947091194713\n",
      "R2: -1.0493633997089526\n"
     ]
    }
   ],
   "source": [
    "display_errors(deep_preds[deep_preds.columns[0]][-225:], deep_preds[deep_preds.columns[1]][-225:])"
   ],
   "metadata": {
    "collapsed": false,
    "ExecuteTime": {
     "start_time": "2023-06-27T10:30:56.092186Z",
     "end_time": "2023-06-27T10:30:56.119602Z"
    }
   }
  },
  {
   "cell_type": "code",
   "execution_count": 140,
   "outputs": [],
   "source": [],
   "metadata": {
    "collapsed": false,
    "ExecuteTime": {
     "start_time": "2023-06-27T10:30:25.666160Z",
     "end_time": "2023-06-27T10:30:25.680339Z"
    }
   }
  },
  {
   "cell_type": "code",
   "execution_count": null,
   "outputs": [],
   "source": [],
   "metadata": {
    "collapsed": false
   }
  }
 ],
 "metadata": {
  "kernelspec": {
   "display_name": "Python 3",
   "language": "python",
   "name": "python3"
  },
  "language_info": {
   "codemirror_mode": {
    "name": "ipython",
    "version": 2
   },
   "file_extension": ".py",
   "mimetype": "text/x-python",
   "name": "python",
   "nbconvert_exporter": "python",
   "pygments_lexer": "ipython2",
   "version": "2.7.6"
  }
 },
 "nbformat": 4,
 "nbformat_minor": 0
}
