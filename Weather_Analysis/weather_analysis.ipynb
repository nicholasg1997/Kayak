{
 "cells": [
  {
   "cell_type": "code",
   "execution_count": 67,
   "metadata": {
    "collapsed": true,
    "ExecuteTime": {
     "start_time": "2023-05-17T14:50:49.918623Z",
     "end_time": "2023-05-17T14:50:49.925159Z"
    }
   },
   "outputs": [],
   "source": [
    "import os\n",
    "import pandas as pd\n",
    "import glob"
   ]
  },
  {
   "cell_type": "code",
   "execution_count": 68,
   "outputs": [
    {
     "data": {
      "text/plain": "'\\nfile format: {model}.{date}.{cycle}.{metric}.csv\\ncreate program to compare the forecasted degree days to the observed degree days as well\\nas the forecast for two days ahead compared to what it is forecasting for the same day the next day\\n'"
     },
     "execution_count": 68,
     "metadata": {},
     "output_type": "execute_result"
    }
   ],
   "source": [
    "\"\"\"\n",
    "file format: {model}.{date}.{cycle}.{metric}.csv\n",
    "create program to compare the forecasted degree days to the observed degree days as well\n",
    "as the forecast for two days ahead compared to what it is forecasting for the same day the next day\n",
    "\"\"\""
   ],
   "metadata": {
    "collapsed": false,
    "ExecuteTime": {
     "start_time": "2023-05-17T14:50:49.923935Z",
     "end_time": "2023-05-17T14:50:49.970061Z"
    }
   }
  },
  {
   "cell_type": "code",
   "execution_count": 69,
   "outputs": [],
   "source": [
    "path = \"RawData\""
   ],
   "metadata": {
    "collapsed": false,
    "ExecuteTime": {
     "start_time": "2023-05-17T14:50:49.927403Z",
     "end_time": "2023-05-17T14:50:49.971390Z"
    }
   }
  },
  {
   "cell_type": "code",
   "execution_count": 70,
   "outputs": [],
   "source": [
    "files = glob.glob(path + '/ecmwf-eps.*.pw_cdd.csv')"
   ],
   "metadata": {
    "collapsed": false,
    "ExecuteTime": {
     "start_time": "2023-05-17T14:50:49.931323Z",
     "end_time": "2023-05-17T14:50:50.072412Z"
    }
   }
  },
  {
   "cell_type": "code",
   "execution_count": 71,
   "outputs": [],
   "source": [
    "sorted_files = sorted(files, key=lambda x: (x.split('.')[1], x.split('.')[2]))"
   ],
   "metadata": {
    "collapsed": false,
    "ExecuteTime": {
     "start_time": "2023-05-17T14:50:50.071531Z",
     "end_time": "2023-05-17T14:50:50.079794Z"
    }
   }
  },
  {
   "cell_type": "code",
   "execution_count": 72,
   "outputs": [],
   "source": [
    "errors = []\n",
    "for i in range(0, len(sorted_files)-1):\n",
    "    df1 = pd.read_csv(sorted_files[i])\n",
    "    #get where third column == 1\n",
    "    forecast = df1[df1.iloc[:, 2] == 1].iloc[0]['Value']\n",
    "    df2 = pd.read_csv(sorted_files[i+1])\n",
    "    observation = df2[df2.iloc[:, 2] == 0].iloc[-1]['Value']\n",
    "    error = forecast - observation\n",
    "    errors.append(error)\n"
   ],
   "metadata": {
    "collapsed": false,
    "ExecuteTime": {
     "start_time": "2023-05-17T14:50:50.085237Z",
     "end_time": "2023-05-17T14:51:00.148588Z"
    }
   }
  },
  {
   "cell_type": "code",
   "execution_count": 75,
   "outputs": [],
   "source": [
    "mean_error = sum(errors)/len(errors)"
   ],
   "metadata": {
    "collapsed": false,
    "ExecuteTime": {
     "start_time": "2023-05-17T14:51:38.902213Z",
     "end_time": "2023-05-17T14:51:38.905371Z"
    }
   }
  },
  {
   "cell_type": "code",
   "execution_count": 76,
   "outputs": [
    {
     "data": {
      "text/plain": "-0.02232193196767528"
     },
     "execution_count": 76,
     "metadata": {},
     "output_type": "execute_result"
    }
   ],
   "source": [
    "mean_error"
   ],
   "metadata": {
    "collapsed": false,
    "ExecuteTime": {
     "start_time": "2023-05-17T14:51:41.516307Z",
     "end_time": "2023-05-17T14:51:41.523801Z"
    }
   }
  },
  {
   "cell_type": "code",
   "execution_count": 72,
   "outputs": [],
   "source": [],
   "metadata": {
    "collapsed": false,
    "ExecuteTime": {
     "start_time": "2023-05-17T14:50:59.872065Z",
     "end_time": "2023-05-17T14:51:00.148804Z"
    }
   }
  }
 ],
 "metadata": {
  "kernelspec": {
   "display_name": "Python 3",
   "language": "python",
   "name": "python3"
  },
  "language_info": {
   "codemirror_mode": {
    "name": "ipython",
    "version": 2
   },
   "file_extension": ".py",
   "mimetype": "text/x-python",
   "name": "python",
   "nbconvert_exporter": "python",
   "pygments_lexer": "ipython2",
   "version": "2.7.6"
  }
 },
 "nbformat": 4,
 "nbformat_minor": 0
}
