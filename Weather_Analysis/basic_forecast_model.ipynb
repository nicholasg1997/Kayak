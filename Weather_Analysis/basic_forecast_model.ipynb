{
 "cells": [
  {
   "cell_type": "code",
   "execution_count": 1,
   "metadata": {
    "collapsed": true,
    "ExecuteTime": {
     "start_time": "2023-06-20T13:50:57.521402Z",
     "end_time": "2023-06-20T13:50:59.816033Z"
    }
   },
   "outputs": [],
   "source": [
    "import pandas as pd\n",
    "import glob\n",
    "import matplotlib.pyplot as plt\n",
    "from datetime import datetime, time\n",
    "import numpy as np\n",
    "import matplotlib.pyplot as plt\n",
    "from sklearn.ensemble import RandomForestRegressor\n",
    "from sklearn.model_selection import train_test_split\n",
    "from sklearn.metrics import mean_squared_error\n",
    "from sklearn.preprocessing import MinMaxScaler\n",
    "import copy\n",
    "from meteostat import Stations, Daily\n",
    "import torch\n",
    "import torch.nn as nn\n",
    "import torch.optim as optim\n",
    "import torch.nn.functional as F\n",
    "from torcheval.metrics import R2Score\n",
    "import os"
   ]
  },
  {
   "cell_type": "code",
   "execution_count": 471,
   "outputs": [],
   "source": [
    "# TODO change ecmwf-eps to ecmwf-ens, also ensure there are no other typos"
   ],
   "metadata": {
    "collapsed": false,
    "ExecuteTime": {
     "start_time": "2023-06-15T09:45:48.249087Z",
     "end_time": "2023-06-15T09:45:48.270907Z"
    }
   }
  },
  {
   "cell_type": "code",
   "execution_count": 79,
   "outputs": [],
   "source": [
    "degree_days = 'gw_hdd'"
   ],
   "metadata": {
    "collapsed": false,
    "ExecuteTime": {
     "start_time": "2023-06-14T09:51:55.064889Z",
     "end_time": "2023-06-14T09:51:55.070656Z"
    }
   }
  },
  {
   "cell_type": "code",
   "execution_count": 80,
   "outputs": [],
   "source": [
    "path = \"RawData\"\n",
    "\n",
    "\n",
    "def extract_date_time(filename):\n",
    "    \"\"\"\n",
    "    extract the date and time from the filename\n",
    "    :param filename:\n",
    "    :return:\n",
    "    \"\"\"\n",
    "    parts = filename.split('.')\n",
    "    date = parts[1]\n",
    "    time = parts[2]\n",
    "    return date, time\n",
    "\n",
    "\n",
    "def get_date(df, file):\n",
    "    \"\"\"get the date from the dataframe and the time from the filename and combine them into a datetime object\n",
    "    :param df: dataframe containing the date\n",
    "    :param file: filename containing the time\n",
    "    :return: datetime object\n",
    "    \"\"\"\n",
    "    #date_str = df[df.iloc[:, 2] == 1].iloc[0]['Date']\n",
    "    date_str = str(file.split('.')[1])\n",
    "    time_str = str(file.split('.')[2])\n",
    "    #date = datetime.strptime(date_str, '%Y-%m-%d')\n",
    "    date = datetime.strptime(date_str, '%Y%m%d')\n",
    "    time_value = time(int(time_str), 0)\n",
    "    combined_datetime = datetime.combine(date.date(), time_value)\n",
    "    return combined_datetime\n",
    "\n",
    "\n",
    "\n",
    "ecmwf_files = glob.glob(path + f'/ecmwf.*.[01][02].{degree_days}.csv')\n",
    "ecmwf_sorted_files = sorted(ecmwf_files, key=lambda x: (x.split('.')[1], x.split('.')[2]))[3:]\n",
    "\n",
    "ecmwf_eps_files = glob.glob(path + f'/ecmwf-eps.*.[01][02].{degree_days}.csv')\n",
    "ecmwf_eps_sorted_files = sorted(ecmwf_eps_files, key=lambda x: (x.split('.')[1], x.split('.')[2]))[2:]\n",
    "\n",
    "gfs_ens_bc_files = glob.glob(path + f'/gfs-ens-bc.*.[01][02].{degree_days}.csv')\n",
    "gfs_ens_bc_sorted_files = sorted(gfs_ens_bc_files, key=lambda x: (x.split('.')[1], x.split('.')[2]))[2:]\n",
    "\n",
    "cmc_ens_files = glob.glob(path + f'/cmc-ens.*.[01][02].{degree_days}.csv')\n",
    "cmc_ens_sorted_files = sorted(cmc_ens_files, key=lambda x: (x.split('.')[1], x.split('.')[2]))[2:]\n",
    "for _ in range(2):\n",
    "    set1 = set((extract_date_time(filename) for filename in ecmwf_sorted_files))\n",
    "    set2 = set((extract_date_time(filename) for filename in ecmwf_eps_sorted_files))\n",
    "\n",
    "    ecmwf_sorted_files = [filename for filename in ecmwf_sorted_files if extract_date_time(filename) in set2]\n",
    "    ecmwf_eps_sorted_files = [filename for filename in ecmwf_eps_sorted_files if extract_date_time(filename) in set1]\n",
    "    cmc_ens_sorted_files = [filename for filename in cmc_ens_sorted_files if extract_date_time(filename) in set1]\n",
    "\n",
    "    master_set = set((extract_date_time(filename) for filename in cmc_ens_sorted_files))\n",
    "    gfs_ens_bc_sorted_files = [filename for filename in gfs_ens_bc_sorted_files if\n",
    "                               extract_date_time(filename) in master_set]\n",
    "\n",
    "    master_set = set((extract_date_time(filename) for filename in gfs_ens_bc_sorted_files))\n",
    "\n",
    "    ecmwf_sorted_files = [filename for filename in ecmwf_sorted_files if extract_date_time(filename) in master_set]\n",
    "    ecmwf_eps_sorted_files = [filename for filename in ecmwf_eps_sorted_files if\n",
    "                              extract_date_time(filename) in master_set]\n",
    "    gfs_ens_bc_sorted_files = [filename for filename in gfs_ens_bc_sorted_files if\n",
    "                               extract_date_time(filename) in master_set]\n",
    "    cmc_ens_sorted_files = [filename for filename in cmc_ens_sorted_files if extract_date_time(filename) in master_set]"
   ],
   "metadata": {
    "collapsed": false,
    "ExecuteTime": {
     "start_time": "2023-06-14T09:51:55.250608Z",
     "end_time": "2023-06-14T09:51:56.290508Z"
    }
   }
  },
  {
   "cell_type": "code",
   "execution_count": 213,
   "outputs": [
    {
     "name": "stdout",
     "output_type": "stream",
     "text": [
      "error on 2020-08-15 12:00:00\n",
      "error on 2020-08-16 00:00:00\n",
      "error on 2020-08-16 12:00:00\n",
      "error on 2020-08-17 00:00:00\n"
     ]
    }
   ],
   "source": [
    "ecmwf_eps_change_df = pd.DataFrame(columns=['ecmwf-eps_9', 'ecmwf-eps_10', 'ecmwf-eps_11', 'ecmwf-eps_12',\n",
    "                                  'ecmwf-eps_13', 'ecmwf-eps_14'])\n",
    "passed_rows = []\n",
    "for i in range(1, len(ecmwf_eps_sorted_files)):\n",
    "    ecmwf_eps_df = pd.read_csv(ecmwf_eps_sorted_files[i])\n",
    "    ecmwf_eps_df = ecmwf_eps_df[ecmwf_eps_df[ecmwf_eps_df.columns[2]] >= 1]\n",
    "    prev_ecmwf_eps_df = pd.read_csv(ecmwf_eps_sorted_files[i-1])\n",
    "    prev_ecmwf_eps_df = prev_ecmwf_eps_df[prev_ecmwf_eps_df[prev_ecmwf_eps_df.columns[2]] >= 1]\n",
    "\n",
    "    date = get_date(ecmwf_eps_df, ecmwf_eps_sorted_files[i])\n",
    "    prev_date = get_date(prev_ecmwf_eps_df, ecmwf_eps_sorted_files[i-1])\n",
    "    d2 = str(date)[:10]\n",
    "    d1 = str(prev_date)[:10]\n",
    "\n",
    "    if d2 == d1:\n",
    "        offset = 1\n",
    "    else:\n",
    "        offset = 0\n",
    "\n",
    "    changes = []\n",
    "    try:\n",
    "        for day in range(8, 14):\n",
    "            changes.append(ecmwf_eps_df.iloc[day]['Value'] - prev_ecmwf_eps_df.iloc[day + offset]['Value'])\n",
    "        new_row = pd.DataFrame([changes], columns=ecmwf_eps_change_df.columns, index=[date])\n",
    "        ecmwf_eps_change_df = pd.concat([ecmwf_eps_change_df, new_row])\n",
    "    except IndexError:\n",
    "        print(f\"error on {date}\")\n",
    "        passed_rows.append(i)"
   ],
   "metadata": {
    "collapsed": false,
    "ExecuteTime": {
     "start_time": "2023-06-14T11:43:38.853645Z",
     "end_time": "2023-06-14T11:43:48.524229Z"
    }
   }
  },
  {
   "cell_type": "code",
   "execution_count": 214,
   "outputs": [
    {
     "name": "stdout",
     "output_type": "stream",
     "text": [
      "RawData/ecmwf-eps.20180711.00.gw_hdd.csv\n",
      "RawData/ecmwf-eps.20180710.12.gw_hdd.csv\n"
     ]
    }
   ],
   "source": [
    "i = 1\n",
    "print(ecmwf_eps_sorted_files[i])\n",
    "print(ecmwf_eps_sorted_files[i-1])\n",
    "ecmwf_eps_df = pd.read_csv(ecmwf_eps_sorted_files[i])\n",
    "ecmwf_eps_df = ecmwf_eps_df[ecmwf_eps_df[ecmwf_eps_df.columns[2]] >= 1]\n",
    "prev_ecmwf_eps_df = pd.read_csv(ecmwf_eps_sorted_files[i-1])\n",
    "prev_ecmwf_eps_df = prev_ecmwf_eps_df[prev_ecmwf_eps_df[prev_ecmwf_eps_df.columns[2]] >= 1]"
   ],
   "metadata": {
    "collapsed": false,
    "ExecuteTime": {
     "start_time": "2023-06-14T11:43:48.526055Z",
     "end_time": "2023-06-14T11:43:48.532554Z"
    }
   }
  },
  {
   "cell_type": "code",
   "execution_count": 215,
   "outputs": [
    {
     "data": {
      "text/plain": "          Date  Value  Flag (0=obs 1=fcst 2=norm)\n7   2018-07-11  0.007                           1\n8   2018-07-12  0.002                           1\n9   2018-07-13  0.005                           1\n10  2018-07-14  0.004                           1\n11  2018-07-15  0.002                           1\n12  2018-07-16  0.004                           1\n13  2018-07-17  0.002                           1\n14  2018-07-18  0.004                           1\n15  2018-07-19  0.006                           1\n16  2018-07-20  0.004                           1\n17  2018-07-21  0.003                           1\n18  2018-07-22  0.003                           1\n19  2018-07-23  0.004                           1\n20  2018-07-24  0.003                           1\n21  2018-07-25  0.003                           1\n22  2018-07-26  0.000                           2\n23  2018-07-27  0.000                           2\n24  2018-07-28  0.000                           2\n25  2018-07-29  0.000                           2\n26  2018-07-30  0.000                           2\n27  2018-07-31  0.000                           2\n28  2018-08-01  0.000                           2",
      "text/html": "<div>\n<style scoped>\n    .dataframe tbody tr th:only-of-type {\n        vertical-align: middle;\n    }\n\n    .dataframe tbody tr th {\n        vertical-align: top;\n    }\n\n    .dataframe thead th {\n        text-align: right;\n    }\n</style>\n<table border=\"1\" class=\"dataframe\">\n  <thead>\n    <tr style=\"text-align: right;\">\n      <th></th>\n      <th>Date</th>\n      <th>Value</th>\n      <th>Flag (0=obs 1=fcst 2=norm)</th>\n    </tr>\n  </thead>\n  <tbody>\n    <tr>\n      <th>7</th>\n      <td>2018-07-11</td>\n      <td>0.007</td>\n      <td>1</td>\n    </tr>\n    <tr>\n      <th>8</th>\n      <td>2018-07-12</td>\n      <td>0.002</td>\n      <td>1</td>\n    </tr>\n    <tr>\n      <th>9</th>\n      <td>2018-07-13</td>\n      <td>0.005</td>\n      <td>1</td>\n    </tr>\n    <tr>\n      <th>10</th>\n      <td>2018-07-14</td>\n      <td>0.004</td>\n      <td>1</td>\n    </tr>\n    <tr>\n      <th>11</th>\n      <td>2018-07-15</td>\n      <td>0.002</td>\n      <td>1</td>\n    </tr>\n    <tr>\n      <th>12</th>\n      <td>2018-07-16</td>\n      <td>0.004</td>\n      <td>1</td>\n    </tr>\n    <tr>\n      <th>13</th>\n      <td>2018-07-17</td>\n      <td>0.002</td>\n      <td>1</td>\n    </tr>\n    <tr>\n      <th>14</th>\n      <td>2018-07-18</td>\n      <td>0.004</td>\n      <td>1</td>\n    </tr>\n    <tr>\n      <th>15</th>\n      <td>2018-07-19</td>\n      <td>0.006</td>\n      <td>1</td>\n    </tr>\n    <tr>\n      <th>16</th>\n      <td>2018-07-20</td>\n      <td>0.004</td>\n      <td>1</td>\n    </tr>\n    <tr>\n      <th>17</th>\n      <td>2018-07-21</td>\n      <td>0.003</td>\n      <td>1</td>\n    </tr>\n    <tr>\n      <th>18</th>\n      <td>2018-07-22</td>\n      <td>0.003</td>\n      <td>1</td>\n    </tr>\n    <tr>\n      <th>19</th>\n      <td>2018-07-23</td>\n      <td>0.004</td>\n      <td>1</td>\n    </tr>\n    <tr>\n      <th>20</th>\n      <td>2018-07-24</td>\n      <td>0.003</td>\n      <td>1</td>\n    </tr>\n    <tr>\n      <th>21</th>\n      <td>2018-07-25</td>\n      <td>0.003</td>\n      <td>1</td>\n    </tr>\n    <tr>\n      <th>22</th>\n      <td>2018-07-26</td>\n      <td>0.000</td>\n      <td>2</td>\n    </tr>\n    <tr>\n      <th>23</th>\n      <td>2018-07-27</td>\n      <td>0.000</td>\n      <td>2</td>\n    </tr>\n    <tr>\n      <th>24</th>\n      <td>2018-07-28</td>\n      <td>0.000</td>\n      <td>2</td>\n    </tr>\n    <tr>\n      <th>25</th>\n      <td>2018-07-29</td>\n      <td>0.000</td>\n      <td>2</td>\n    </tr>\n    <tr>\n      <th>26</th>\n      <td>2018-07-30</td>\n      <td>0.000</td>\n      <td>2</td>\n    </tr>\n    <tr>\n      <th>27</th>\n      <td>2018-07-31</td>\n      <td>0.000</td>\n      <td>2</td>\n    </tr>\n    <tr>\n      <th>28</th>\n      <td>2018-08-01</td>\n      <td>0.000</td>\n      <td>2</td>\n    </tr>\n  </tbody>\n</table>\n</div>"
     },
     "metadata": {},
     "output_type": "display_data"
    }
   ],
   "source": [
    "display(ecmwf_eps_df)"
   ],
   "metadata": {
    "collapsed": false,
    "ExecuteTime": {
     "start_time": "2023-06-14T11:43:48.535672Z",
     "end_time": "2023-06-14T11:43:48.539083Z"
    }
   }
  },
  {
   "cell_type": "code",
   "execution_count": 216,
   "outputs": [
    {
     "data": {
      "text/plain": "          Date  Value  Flag (0=obs 1=fcst 2=norm)\n8   2018-07-11  0.006                           1\n9   2018-07-12  0.003                           1\n10  2018-07-13  0.005                           1\n11  2018-07-14  0.004                           1\n12  2018-07-15  0.002                           1\n13  2018-07-16  0.004                           1\n14  2018-07-17  0.004                           1\n15  2018-07-18  0.002                           1\n16  2018-07-19  0.004                           1\n17  2018-07-20  0.004                           1\n18  2018-07-21  0.003                           1\n19  2018-07-22  0.003                           1\n20  2018-07-23  0.003                           1\n21  2018-07-24  0.004                           1\n22  2018-07-25  0.000                           2\n23  2018-07-26  0.000                           2\n24  2018-07-27  0.000                           2\n25  2018-07-28  0.000                           2\n26  2018-07-29  0.000                           2\n27  2018-07-30  0.000                           2\n28  2018-07-31  0.000                           2",
      "text/html": "<div>\n<style scoped>\n    .dataframe tbody tr th:only-of-type {\n        vertical-align: middle;\n    }\n\n    .dataframe tbody tr th {\n        vertical-align: top;\n    }\n\n    .dataframe thead th {\n        text-align: right;\n    }\n</style>\n<table border=\"1\" class=\"dataframe\">\n  <thead>\n    <tr style=\"text-align: right;\">\n      <th></th>\n      <th>Date</th>\n      <th>Value</th>\n      <th>Flag (0=obs 1=fcst 2=norm)</th>\n    </tr>\n  </thead>\n  <tbody>\n    <tr>\n      <th>8</th>\n      <td>2018-07-11</td>\n      <td>0.006</td>\n      <td>1</td>\n    </tr>\n    <tr>\n      <th>9</th>\n      <td>2018-07-12</td>\n      <td>0.003</td>\n      <td>1</td>\n    </tr>\n    <tr>\n      <th>10</th>\n      <td>2018-07-13</td>\n      <td>0.005</td>\n      <td>1</td>\n    </tr>\n    <tr>\n      <th>11</th>\n      <td>2018-07-14</td>\n      <td>0.004</td>\n      <td>1</td>\n    </tr>\n    <tr>\n      <th>12</th>\n      <td>2018-07-15</td>\n      <td>0.002</td>\n      <td>1</td>\n    </tr>\n    <tr>\n      <th>13</th>\n      <td>2018-07-16</td>\n      <td>0.004</td>\n      <td>1</td>\n    </tr>\n    <tr>\n      <th>14</th>\n      <td>2018-07-17</td>\n      <td>0.004</td>\n      <td>1</td>\n    </tr>\n    <tr>\n      <th>15</th>\n      <td>2018-07-18</td>\n      <td>0.002</td>\n      <td>1</td>\n    </tr>\n    <tr>\n      <th>16</th>\n      <td>2018-07-19</td>\n      <td>0.004</td>\n      <td>1</td>\n    </tr>\n    <tr>\n      <th>17</th>\n      <td>2018-07-20</td>\n      <td>0.004</td>\n      <td>1</td>\n    </tr>\n    <tr>\n      <th>18</th>\n      <td>2018-07-21</td>\n      <td>0.003</td>\n      <td>1</td>\n    </tr>\n    <tr>\n      <th>19</th>\n      <td>2018-07-22</td>\n      <td>0.003</td>\n      <td>1</td>\n    </tr>\n    <tr>\n      <th>20</th>\n      <td>2018-07-23</td>\n      <td>0.003</td>\n      <td>1</td>\n    </tr>\n    <tr>\n      <th>21</th>\n      <td>2018-07-24</td>\n      <td>0.004</td>\n      <td>1</td>\n    </tr>\n    <tr>\n      <th>22</th>\n      <td>2018-07-25</td>\n      <td>0.000</td>\n      <td>2</td>\n    </tr>\n    <tr>\n      <th>23</th>\n      <td>2018-07-26</td>\n      <td>0.000</td>\n      <td>2</td>\n    </tr>\n    <tr>\n      <th>24</th>\n      <td>2018-07-27</td>\n      <td>0.000</td>\n      <td>2</td>\n    </tr>\n    <tr>\n      <th>25</th>\n      <td>2018-07-28</td>\n      <td>0.000</td>\n      <td>2</td>\n    </tr>\n    <tr>\n      <th>26</th>\n      <td>2018-07-29</td>\n      <td>0.000</td>\n      <td>2</td>\n    </tr>\n    <tr>\n      <th>27</th>\n      <td>2018-07-30</td>\n      <td>0.000</td>\n      <td>2</td>\n    </tr>\n    <tr>\n      <th>28</th>\n      <td>2018-07-31</td>\n      <td>0.000</td>\n      <td>2</td>\n    </tr>\n  </tbody>\n</table>\n</div>"
     },
     "metadata": {},
     "output_type": "display_data"
    }
   ],
   "source": [
    "display(prev_ecmwf_eps_df)"
   ],
   "metadata": {
    "collapsed": false,
    "ExecuteTime": {
     "start_time": "2023-06-14T11:43:48.542887Z",
     "end_time": "2023-06-14T11:43:48.546479Z"
    }
   }
  },
  {
   "cell_type": "code",
   "execution_count": 217,
   "outputs": [
    {
     "data": {
      "text/plain": "                     ecmwf-eps_9  ecmwf-eps_10  ecmwf-eps_11  ecmwf-eps_12  \\\n2018-07-11 00:00:00        0.002         0.000         0.000         0.000   \n2018-07-11 12:00:00        0.003         0.001         0.000        -0.001   \n2018-07-12 00:00:00        0.000         0.000         0.000         0.001   \n2018-07-12 12:00:00        0.000         0.000         0.000         0.001   \n2018-07-13 00:00:00       -0.001        -0.001        -0.001         0.000   \n...                          ...           ...           ...           ...   \n2023-05-15 00:00:00        0.458         0.039        -0.115        -0.153   \n2023-05-15 12:00:00        0.478         0.590         0.388         0.165   \n2023-05-16 00:00:00        0.015        -0.002        -0.003        -0.011   \n2023-05-16 12:00:00       -0.464        -0.365        -0.078         0.174   \n2023-05-17 00:00:00        0.047         0.046        -0.114        -0.239   \n\n                     ecmwf-eps_13  ecmwf-eps_14  \n2018-07-11 00:00:00         0.001        -0.001  \n2018-07-11 12:00:00         0.000         0.001  \n2018-07-12 00:00:00         0.001        -0.001  \n2018-07-12 12:00:00         0.001        -0.001  \n2018-07-13 00:00:00         0.003         0.003  \n...                           ...           ...  \n2023-05-15 00:00:00        -0.300        -0.210  \n2023-05-15 12:00:00        -0.251        -0.325  \n2023-05-16 00:00:00         0.082         0.179  \n2023-05-16 12:00:00         0.379         0.271  \n2023-05-17 00:00:00        -0.363        -0.118  \n\n[3479 rows x 6 columns]",
      "text/html": "<div>\n<style scoped>\n    .dataframe tbody tr th:only-of-type {\n        vertical-align: middle;\n    }\n\n    .dataframe tbody tr th {\n        vertical-align: top;\n    }\n\n    .dataframe thead th {\n        text-align: right;\n    }\n</style>\n<table border=\"1\" class=\"dataframe\">\n  <thead>\n    <tr style=\"text-align: right;\">\n      <th></th>\n      <th>ecmwf-eps_9</th>\n      <th>ecmwf-eps_10</th>\n      <th>ecmwf-eps_11</th>\n      <th>ecmwf-eps_12</th>\n      <th>ecmwf-eps_13</th>\n      <th>ecmwf-eps_14</th>\n    </tr>\n  </thead>\n  <tbody>\n    <tr>\n      <th>2018-07-11 00:00:00</th>\n      <td>0.002</td>\n      <td>0.000</td>\n      <td>0.000</td>\n      <td>0.000</td>\n      <td>0.001</td>\n      <td>-0.001</td>\n    </tr>\n    <tr>\n      <th>2018-07-11 12:00:00</th>\n      <td>0.003</td>\n      <td>0.001</td>\n      <td>0.000</td>\n      <td>-0.001</td>\n      <td>0.000</td>\n      <td>0.001</td>\n    </tr>\n    <tr>\n      <th>2018-07-12 00:00:00</th>\n      <td>0.000</td>\n      <td>0.000</td>\n      <td>0.000</td>\n      <td>0.001</td>\n      <td>0.001</td>\n      <td>-0.001</td>\n    </tr>\n    <tr>\n      <th>2018-07-12 12:00:00</th>\n      <td>0.000</td>\n      <td>0.000</td>\n      <td>0.000</td>\n      <td>0.001</td>\n      <td>0.001</td>\n      <td>-0.001</td>\n    </tr>\n    <tr>\n      <th>2018-07-13 00:00:00</th>\n      <td>-0.001</td>\n      <td>-0.001</td>\n      <td>-0.001</td>\n      <td>0.000</td>\n      <td>0.003</td>\n      <td>0.003</td>\n    </tr>\n    <tr>\n      <th>...</th>\n      <td>...</td>\n      <td>...</td>\n      <td>...</td>\n      <td>...</td>\n      <td>...</td>\n      <td>...</td>\n    </tr>\n    <tr>\n      <th>2023-05-15 00:00:00</th>\n      <td>0.458</td>\n      <td>0.039</td>\n      <td>-0.115</td>\n      <td>-0.153</td>\n      <td>-0.300</td>\n      <td>-0.210</td>\n    </tr>\n    <tr>\n      <th>2023-05-15 12:00:00</th>\n      <td>0.478</td>\n      <td>0.590</td>\n      <td>0.388</td>\n      <td>0.165</td>\n      <td>-0.251</td>\n      <td>-0.325</td>\n    </tr>\n    <tr>\n      <th>2023-05-16 00:00:00</th>\n      <td>0.015</td>\n      <td>-0.002</td>\n      <td>-0.003</td>\n      <td>-0.011</td>\n      <td>0.082</td>\n      <td>0.179</td>\n    </tr>\n    <tr>\n      <th>2023-05-16 12:00:00</th>\n      <td>-0.464</td>\n      <td>-0.365</td>\n      <td>-0.078</td>\n      <td>0.174</td>\n      <td>0.379</td>\n      <td>0.271</td>\n    </tr>\n    <tr>\n      <th>2023-05-17 00:00:00</th>\n      <td>0.047</td>\n      <td>0.046</td>\n      <td>-0.114</td>\n      <td>-0.239</td>\n      <td>-0.363</td>\n      <td>-0.118</td>\n    </tr>\n  </tbody>\n</table>\n<p>3479 rows × 6 columns</p>\n</div>"
     },
     "metadata": {},
     "output_type": "display_data"
    }
   ],
   "source": [
    "display(ecmwf_eps_change_df)"
   ],
   "metadata": {
    "collapsed": false,
    "ExecuteTime": {
     "start_time": "2023-06-14T11:43:48.551904Z",
     "end_time": "2023-06-14T11:43:48.600009Z"
    }
   }
  },
  {
   "cell_type": "code",
   "execution_count": null,
   "outputs": [],
   "source": [],
   "metadata": {
    "collapsed": false
   }
  },
  {
   "cell_type": "code",
   "execution_count": null,
   "outputs": [],
   "source": [],
   "metadata": {
    "collapsed": false
   }
  },
  {
   "cell_type": "code",
   "execution_count": 197,
   "outputs": [
    {
     "name": "stdout",
     "output_type": "stream",
     "text": [
      "error on row: 1494\n",
      "error on row: 1495\n",
      "error on row: 1496\n",
      "error on row: 1497\n"
     ]
    }
   ],
   "source": [
    "ecmwf_change_df = pd.DataFrame(columns=['ecmwf_diff_8', 'ecmwf_diff_9',])\n",
    "passed_rows = []\n",
    "for i in range(1, len(ecmwf_sorted_files)):\n",
    "    ecmwf_df = pd.read_csv(ecmwf_sorted_files[i])\n",
    "    ecmwf_df = ecmwf_df[ecmwf_df[ecmwf_df.columns[2]] >= 1]\n",
    "    ecmwf_eps_df = pd.read_csv(ecmwf_eps_sorted_files[i-1])\n",
    "    ecmwf_eps_df = ecmwf_eps_df[ecmwf_eps_df[ecmwf_eps_df.columns[2]] >= 1]\n",
    "\n",
    "    try:\n",
    "        ecmwf = ecmwf_df.iloc[8]\n",
    "        ecmwf_eps = ecmwf_eps_df.iloc[9]\n",
    "    except IndexError:\n",
    "        print(f\"error on row: {i}\")\n",
    "        passed_rows.append(i)\n",
    "        continue\n",
    "\n",
    "    date = get_date(ecmwf_df, ecmwf_sorted_files[i])\n",
    "    prev_date = get_date(ecmwf_eps_df, ecmwf_eps_sorted_files[i-1])\n",
    "    d2 = str(date)[:10]\n",
    "    d1 = str(prev_date)[:10]\n",
    "    if d2 == d1:\n",
    "        offset = 1\n",
    "    else:\n",
    "        offset = 0\n",
    "\n",
    "    changes = []\n",
    "    try:\n",
    "        for day in range(7,9):\n",
    "            changes.append(ecmwf_df.iloc[day]['Value'] - ecmwf_eps_df.iloc[day + offset]['Value'])\n",
    "        new_row = pd.DataFrame([changes], columns=ecmwf_change_df.columns, index=[date])\n",
    "        ecmwf_change_df = pd.concat([ecmwf_change_df, new_row])\n",
    "    except IndexError:\n",
    "        print(f\"error on {date}\")\n",
    "        passed_rows.append(i)"
   ],
   "metadata": {
    "collapsed": false,
    "ExecuteTime": {
     "start_time": "2023-06-14T11:36:19.170895Z",
     "end_time": "2023-06-14T11:36:28.060720Z"
    }
   }
  },
  {
   "cell_type": "code",
   "execution_count": 202,
   "outputs": [
    {
     "name": "stdout",
     "output_type": "stream",
     "text": [
      "RawData/ecmwf.20180711.12.gw_hdd.csv\n",
      "RawData/ecmwf-eps.20180711.00.gw_hdd.csv\n"
     ]
    }
   ],
   "source": [
    "i = 2\n",
    "print(ecmwf_sorted_files[i])\n",
    "print(ecmwf_eps_sorted_files[i-1])\n",
    "ecmwf_df = pd.read_csv(ecmwf_sorted_files[i])\n",
    "ecmwf_df = ecmwf_df[ecmwf_df[ecmwf_df.columns[2]] >= 1]\n",
    "ecmwf_eps_df = pd.read_csv(ecmwf_eps_sorted_files[i-1])\n",
    "ecmwf_eps_df = ecmwf_eps_df[ecmwf_eps_df[ecmwf_eps_df.columns[2]] >= 1]"
   ],
   "metadata": {
    "collapsed": false,
    "ExecuteTime": {
     "start_time": "2023-06-14T11:36:49.373538Z",
     "end_time": "2023-06-14T11:36:49.379220Z"
    }
   }
  },
  {
   "cell_type": "code",
   "execution_count": 203,
   "outputs": [
    {
     "data": {
      "text/plain": "          Date  Value  Flag (0=obs 1=fcst 2=norm)\n8   2018-07-12  0.004                           1\n9   2018-07-13  0.005                           1\n10  2018-07-14  0.005                           1\n11  2018-07-15  0.004                           1\n12  2018-07-16  0.004                           1\n13  2018-07-17  0.008                           1\n14  2018-07-18  0.140                           1\n15  2018-07-19  0.116                           1\n16  2018-07-20  0.028                           1\n17  2018-07-21  0.067                           2\n18  2018-07-22  0.043                           2\n19  2018-07-23  0.021                           2\n20  2018-07-24  0.000                           2\n21  2018-07-25  0.000                           2\n22  2018-07-26  0.000                           2\n23  2018-07-27  0.000                           2",
      "text/html": "<div>\n<style scoped>\n    .dataframe tbody tr th:only-of-type {\n        vertical-align: middle;\n    }\n\n    .dataframe tbody tr th {\n        vertical-align: top;\n    }\n\n    .dataframe thead th {\n        text-align: right;\n    }\n</style>\n<table border=\"1\" class=\"dataframe\">\n  <thead>\n    <tr style=\"text-align: right;\">\n      <th></th>\n      <th>Date</th>\n      <th>Value</th>\n      <th>Flag (0=obs 1=fcst 2=norm)</th>\n    </tr>\n  </thead>\n  <tbody>\n    <tr>\n      <th>8</th>\n      <td>2018-07-12</td>\n      <td>0.004</td>\n      <td>1</td>\n    </tr>\n    <tr>\n      <th>9</th>\n      <td>2018-07-13</td>\n      <td>0.005</td>\n      <td>1</td>\n    </tr>\n    <tr>\n      <th>10</th>\n      <td>2018-07-14</td>\n      <td>0.005</td>\n      <td>1</td>\n    </tr>\n    <tr>\n      <th>11</th>\n      <td>2018-07-15</td>\n      <td>0.004</td>\n      <td>1</td>\n    </tr>\n    <tr>\n      <th>12</th>\n      <td>2018-07-16</td>\n      <td>0.004</td>\n      <td>1</td>\n    </tr>\n    <tr>\n      <th>13</th>\n      <td>2018-07-17</td>\n      <td>0.008</td>\n      <td>1</td>\n    </tr>\n    <tr>\n      <th>14</th>\n      <td>2018-07-18</td>\n      <td>0.140</td>\n      <td>1</td>\n    </tr>\n    <tr>\n      <th>15</th>\n      <td>2018-07-19</td>\n      <td>0.116</td>\n      <td>1</td>\n    </tr>\n    <tr>\n      <th>16</th>\n      <td>2018-07-20</td>\n      <td>0.028</td>\n      <td>1</td>\n    </tr>\n    <tr>\n      <th>17</th>\n      <td>2018-07-21</td>\n      <td>0.067</td>\n      <td>2</td>\n    </tr>\n    <tr>\n      <th>18</th>\n      <td>2018-07-22</td>\n      <td>0.043</td>\n      <td>2</td>\n    </tr>\n    <tr>\n      <th>19</th>\n      <td>2018-07-23</td>\n      <td>0.021</td>\n      <td>2</td>\n    </tr>\n    <tr>\n      <th>20</th>\n      <td>2018-07-24</td>\n      <td>0.000</td>\n      <td>2</td>\n    </tr>\n    <tr>\n      <th>21</th>\n      <td>2018-07-25</td>\n      <td>0.000</td>\n      <td>2</td>\n    </tr>\n    <tr>\n      <th>22</th>\n      <td>2018-07-26</td>\n      <td>0.000</td>\n      <td>2</td>\n    </tr>\n    <tr>\n      <th>23</th>\n      <td>2018-07-27</td>\n      <td>0.000</td>\n      <td>2</td>\n    </tr>\n  </tbody>\n</table>\n</div>"
     },
     "execution_count": 203,
     "metadata": {},
     "output_type": "execute_result"
    }
   ],
   "source": [
    "ecmwf_df"
   ],
   "metadata": {
    "collapsed": false,
    "ExecuteTime": {
     "start_time": "2023-06-14T11:36:50.424368Z",
     "end_time": "2023-06-14T11:36:50.438248Z"
    }
   }
  },
  {
   "cell_type": "code",
   "execution_count": 204,
   "outputs": [
    {
     "data": {
      "text/plain": "          Date  Value  Flag (0=obs 1=fcst 2=norm)\n7   2018-07-11  0.007                           1\n8   2018-07-12  0.002                           1\n9   2018-07-13  0.005                           1\n10  2018-07-14  0.004                           1\n11  2018-07-15  0.002                           1\n12  2018-07-16  0.004                           1\n13  2018-07-17  0.002                           1\n14  2018-07-18  0.004                           1\n15  2018-07-19  0.006                           1\n16  2018-07-20  0.004                           1\n17  2018-07-21  0.003                           1\n18  2018-07-22  0.003                           1\n19  2018-07-23  0.004                           1\n20  2018-07-24  0.003                           1\n21  2018-07-25  0.003                           1\n22  2018-07-26  0.000                           2\n23  2018-07-27  0.000                           2\n24  2018-07-28  0.000                           2\n25  2018-07-29  0.000                           2\n26  2018-07-30  0.000                           2\n27  2018-07-31  0.000                           2\n28  2018-08-01  0.000                           2",
      "text/html": "<div>\n<style scoped>\n    .dataframe tbody tr th:only-of-type {\n        vertical-align: middle;\n    }\n\n    .dataframe tbody tr th {\n        vertical-align: top;\n    }\n\n    .dataframe thead th {\n        text-align: right;\n    }\n</style>\n<table border=\"1\" class=\"dataframe\">\n  <thead>\n    <tr style=\"text-align: right;\">\n      <th></th>\n      <th>Date</th>\n      <th>Value</th>\n      <th>Flag (0=obs 1=fcst 2=norm)</th>\n    </tr>\n  </thead>\n  <tbody>\n    <tr>\n      <th>7</th>\n      <td>2018-07-11</td>\n      <td>0.007</td>\n      <td>1</td>\n    </tr>\n    <tr>\n      <th>8</th>\n      <td>2018-07-12</td>\n      <td>0.002</td>\n      <td>1</td>\n    </tr>\n    <tr>\n      <th>9</th>\n      <td>2018-07-13</td>\n      <td>0.005</td>\n      <td>1</td>\n    </tr>\n    <tr>\n      <th>10</th>\n      <td>2018-07-14</td>\n      <td>0.004</td>\n      <td>1</td>\n    </tr>\n    <tr>\n      <th>11</th>\n      <td>2018-07-15</td>\n      <td>0.002</td>\n      <td>1</td>\n    </tr>\n    <tr>\n      <th>12</th>\n      <td>2018-07-16</td>\n      <td>0.004</td>\n      <td>1</td>\n    </tr>\n    <tr>\n      <th>13</th>\n      <td>2018-07-17</td>\n      <td>0.002</td>\n      <td>1</td>\n    </tr>\n    <tr>\n      <th>14</th>\n      <td>2018-07-18</td>\n      <td>0.004</td>\n      <td>1</td>\n    </tr>\n    <tr>\n      <th>15</th>\n      <td>2018-07-19</td>\n      <td>0.006</td>\n      <td>1</td>\n    </tr>\n    <tr>\n      <th>16</th>\n      <td>2018-07-20</td>\n      <td>0.004</td>\n      <td>1</td>\n    </tr>\n    <tr>\n      <th>17</th>\n      <td>2018-07-21</td>\n      <td>0.003</td>\n      <td>1</td>\n    </tr>\n    <tr>\n      <th>18</th>\n      <td>2018-07-22</td>\n      <td>0.003</td>\n      <td>1</td>\n    </tr>\n    <tr>\n      <th>19</th>\n      <td>2018-07-23</td>\n      <td>0.004</td>\n      <td>1</td>\n    </tr>\n    <tr>\n      <th>20</th>\n      <td>2018-07-24</td>\n      <td>0.003</td>\n      <td>1</td>\n    </tr>\n    <tr>\n      <th>21</th>\n      <td>2018-07-25</td>\n      <td>0.003</td>\n      <td>1</td>\n    </tr>\n    <tr>\n      <th>22</th>\n      <td>2018-07-26</td>\n      <td>0.000</td>\n      <td>2</td>\n    </tr>\n    <tr>\n      <th>23</th>\n      <td>2018-07-27</td>\n      <td>0.000</td>\n      <td>2</td>\n    </tr>\n    <tr>\n      <th>24</th>\n      <td>2018-07-28</td>\n      <td>0.000</td>\n      <td>2</td>\n    </tr>\n    <tr>\n      <th>25</th>\n      <td>2018-07-29</td>\n      <td>0.000</td>\n      <td>2</td>\n    </tr>\n    <tr>\n      <th>26</th>\n      <td>2018-07-30</td>\n      <td>0.000</td>\n      <td>2</td>\n    </tr>\n    <tr>\n      <th>27</th>\n      <td>2018-07-31</td>\n      <td>0.000</td>\n      <td>2</td>\n    </tr>\n    <tr>\n      <th>28</th>\n      <td>2018-08-01</td>\n      <td>0.000</td>\n      <td>2</td>\n    </tr>\n  </tbody>\n</table>\n</div>"
     },
     "execution_count": 204,
     "metadata": {},
     "output_type": "execute_result"
    }
   ],
   "source": [
    "ecmwf_eps_df"
   ],
   "metadata": {
    "collapsed": false,
    "ExecuteTime": {
     "start_time": "2023-06-14T11:36:50.851860Z",
     "end_time": "2023-06-14T11:36:50.877058Z"
    }
   }
  },
  {
   "cell_type": "code",
   "execution_count": 200,
   "outputs": [],
   "source": [],
   "metadata": {
    "collapsed": false,
    "ExecuteTime": {
     "start_time": "2023-06-14T11:36:31.123086Z",
     "end_time": "2023-06-14T11:36:31.128917Z"
    }
   }
  },
  {
   "cell_type": "code",
   "execution_count": 201,
   "outputs": [
    {
     "data": {
      "text/plain": "                     ecmwf_diff_8  ecmwf_diff_9\n2018-07-11 00:00:00         0.131         0.082\n2018-07-11 12:00:00         0.110         0.024\n2018-07-12 00:00:00         0.016         0.022\n2018-07-12 12:00:00         0.011         0.005\n2018-07-13 00:00:00         0.009         0.002\n...                           ...           ...\n2023-05-15 00:00:00         2.305         2.458\n2023-05-15 12:00:00         0.062         1.089\n2023-05-16 00:00:00        -0.551         1.014\n2023-05-16 12:00:00        -0.384        -0.769\n2023-05-17 00:00:00        -0.257         0.011\n\n[3479 rows x 2 columns]",
      "text/html": "<div>\n<style scoped>\n    .dataframe tbody tr th:only-of-type {\n        vertical-align: middle;\n    }\n\n    .dataframe tbody tr th {\n        vertical-align: top;\n    }\n\n    .dataframe thead th {\n        text-align: right;\n    }\n</style>\n<table border=\"1\" class=\"dataframe\">\n  <thead>\n    <tr style=\"text-align: right;\">\n      <th></th>\n      <th>ecmwf_diff_8</th>\n      <th>ecmwf_diff_9</th>\n    </tr>\n  </thead>\n  <tbody>\n    <tr>\n      <th>2018-07-11 00:00:00</th>\n      <td>0.131</td>\n      <td>0.082</td>\n    </tr>\n    <tr>\n      <th>2018-07-11 12:00:00</th>\n      <td>0.110</td>\n      <td>0.024</td>\n    </tr>\n    <tr>\n      <th>2018-07-12 00:00:00</th>\n      <td>0.016</td>\n      <td>0.022</td>\n    </tr>\n    <tr>\n      <th>2018-07-12 12:00:00</th>\n      <td>0.011</td>\n      <td>0.005</td>\n    </tr>\n    <tr>\n      <th>2018-07-13 00:00:00</th>\n      <td>0.009</td>\n      <td>0.002</td>\n    </tr>\n    <tr>\n      <th>...</th>\n      <td>...</td>\n      <td>...</td>\n    </tr>\n    <tr>\n      <th>2023-05-15 00:00:00</th>\n      <td>2.305</td>\n      <td>2.458</td>\n    </tr>\n    <tr>\n      <th>2023-05-15 12:00:00</th>\n      <td>0.062</td>\n      <td>1.089</td>\n    </tr>\n    <tr>\n      <th>2023-05-16 00:00:00</th>\n      <td>-0.551</td>\n      <td>1.014</td>\n    </tr>\n    <tr>\n      <th>2023-05-16 12:00:00</th>\n      <td>-0.384</td>\n      <td>-0.769</td>\n    </tr>\n    <tr>\n      <th>2023-05-17 00:00:00</th>\n      <td>-0.257</td>\n      <td>0.011</td>\n    </tr>\n  </tbody>\n</table>\n<p>3479 rows × 2 columns</p>\n</div>"
     },
     "metadata": {},
     "output_type": "display_data"
    }
   ],
   "source": [
    "display(ecmwf_change_df)"
   ],
   "metadata": {
    "collapsed": false,
    "ExecuteTime": {
     "start_time": "2023-06-14T11:36:31.837459Z",
     "end_time": "2023-06-14T11:36:31.846218Z"
    }
   }
  },
  {
   "cell_type": "code",
   "execution_count": 223,
   "outputs": [
    {
     "name": "stdout",
     "output_type": "stream",
     "text": [
      "error on 2020-08-15 12:00:00\n",
      "error on 2020-08-16 00:00:00\n",
      "error on 2020-08-16 12:00:00\n",
      "error on 2020-08-17 00:00:00\n"
     ]
    }
   ],
   "source": [
    "gfs_ens_bc_change_df = pd.DataFrame(columns=['gfs-ens-bc_9', 'gfs-ens-bc_10', 'gfs-ens-bc_11', 'gfs-ens-bc_12',\n",
    "                                  'gfs-ens-bc_13', 'gfs-ens-bc_14'])\n",
    "passed_rows = []\n",
    "for i in range(1, len(gfs_ens_bc_sorted_files)):\n",
    "    gfs_ens_bc_df = pd.read_csv(gfs_ens_bc_sorted_files[i])\n",
    "    gfs_ens_bc_df = gfs_ens_bc_df[gfs_ens_bc_df[gfs_ens_bc_df.columns[2]] >= 1]\n",
    "    prev_ecmwf_eps_df = pd.read_csv(ecmwf_eps_sorted_files[i-1])\n",
    "    prev_ecmwf_eps_df = prev_ecmwf_eps_df[prev_ecmwf_eps_df[prev_ecmwf_eps_df.columns[2]] >= 1]\n",
    "\n",
    "    try:\n",
    "        date = get_date(gfs_ens_bc_df, gfs_ens_bc_sorted_files[i])\n",
    "        prev_date = get_date(prev_ecmwf_eps_df, ecmwf_eps_sorted_files[i-1])\n",
    "    except IndexError:\n",
    "        print(f\"error on row: {i}\")\n",
    "        passed_rows.append(i)\n",
    "        continue\n",
    "\n",
    "    d2 = str(date)[:10]\n",
    "    d1 = str(prev_date)[:10]\n",
    "    if d2 == d1:\n",
    "        offset = 1\n",
    "    else:\n",
    "        offset = 0\n",
    "\n",
    "    changes = []\n",
    "    try:\n",
    "        for day in range(8, 14):\n",
    "            changes.append(gfs_ens_bc_df.iloc[day]['Value'] - prev_ecmwf_eps_df.iloc[day + offset]['Value'])\n",
    "        new_row = pd.DataFrame([changes], columns=gfs_ens_bc_change_df.columns, index=[date])\n",
    "        gfs_ens_bc_change_df = pd.concat([gfs_ens_bc_change_df, new_row])\n",
    "    except IndexError:\n",
    "        print(f\"error on {date}\")\n",
    "        passed_rows.append(i)"
   ],
   "metadata": {
    "collapsed": false,
    "ExecuteTime": {
     "start_time": "2023-06-14T11:46:49.601954Z",
     "end_time": "2023-06-14T11:47:00.090118Z"
    }
   }
  },
  {
   "cell_type": "code",
   "execution_count": 228,
   "outputs": [
    {
     "name": "stdout",
     "output_type": "stream",
     "text": [
      "RawData/gfs-ens-bc.20180711.12.gw_hdd.csv\n",
      "RawData/ecmwf-eps.20180711.00.gw_hdd.csv\n"
     ]
    }
   ],
   "source": [
    "i = 2\n",
    "print(gfs_ens_bc_sorted_files[i])\n",
    "print(ecmwf_eps_sorted_files[i-1])\n",
    "gfs_ens_bc_df = pd.read_csv(gfs_ens_bc_sorted_files[i])\n",
    "gfs_ens_bc_df = gfs_ens_bc_df[gfs_ens_bc_df[gfs_ens_bc_df.columns[2]] >= 1]\n",
    "prev_ecmwf_eps_df = pd.read_csv(ecmwf_eps_sorted_files[i-1])\n",
    "prev_ecmwf_eps_df = prev_ecmwf_eps_df[prev_ecmwf_eps_df[prev_ecmwf_eps_df.columns[2]] >= 1]"
   ],
   "metadata": {
    "collapsed": false,
    "ExecuteTime": {
     "start_time": "2023-06-14T11:47:42.373200Z",
     "end_time": "2023-06-14T11:47:42.387003Z"
    }
   }
  },
  {
   "cell_type": "code",
   "execution_count": 229,
   "outputs": [
    {
     "data": {
      "text/plain": "          Date  Value  Flag (0=obs 1=fcst 2=norm)\n8   2018-07-12  0.006                           1\n9   2018-07-13  0.006                           1\n10  2018-07-14  0.004                           1\n11  2018-07-15  0.007                           1\n12  2018-07-16  0.012                           1\n13  2018-07-17  0.020                           1\n14  2018-07-18  0.017                           1\n15  2018-07-19  0.011                           1\n16  2018-07-20  0.007                           1\n17  2018-07-21  0.005                           1\n18  2018-07-22  0.007                           1\n19  2018-07-23  0.012                           1\n20  2018-07-24  0.015                           1\n21  2018-07-25  0.016                           1\n22  2018-07-26  0.014                           1\n23  2018-07-27  0.000                           2\n24  2018-07-28  0.000                           2\n25  2018-07-29  0.000                           2\n26  2018-07-30  0.000                           2\n27  2018-07-31  0.000                           2\n28  2018-08-01  0.000                           2\n29  2018-08-02  0.000                           2",
      "text/html": "<div>\n<style scoped>\n    .dataframe tbody tr th:only-of-type {\n        vertical-align: middle;\n    }\n\n    .dataframe tbody tr th {\n        vertical-align: top;\n    }\n\n    .dataframe thead th {\n        text-align: right;\n    }\n</style>\n<table border=\"1\" class=\"dataframe\">\n  <thead>\n    <tr style=\"text-align: right;\">\n      <th></th>\n      <th>Date</th>\n      <th>Value</th>\n      <th>Flag (0=obs 1=fcst 2=norm)</th>\n    </tr>\n  </thead>\n  <tbody>\n    <tr>\n      <th>8</th>\n      <td>2018-07-12</td>\n      <td>0.006</td>\n      <td>1</td>\n    </tr>\n    <tr>\n      <th>9</th>\n      <td>2018-07-13</td>\n      <td>0.006</td>\n      <td>1</td>\n    </tr>\n    <tr>\n      <th>10</th>\n      <td>2018-07-14</td>\n      <td>0.004</td>\n      <td>1</td>\n    </tr>\n    <tr>\n      <th>11</th>\n      <td>2018-07-15</td>\n      <td>0.007</td>\n      <td>1</td>\n    </tr>\n    <tr>\n      <th>12</th>\n      <td>2018-07-16</td>\n      <td>0.012</td>\n      <td>1</td>\n    </tr>\n    <tr>\n      <th>13</th>\n      <td>2018-07-17</td>\n      <td>0.020</td>\n      <td>1</td>\n    </tr>\n    <tr>\n      <th>14</th>\n      <td>2018-07-18</td>\n      <td>0.017</td>\n      <td>1</td>\n    </tr>\n    <tr>\n      <th>15</th>\n      <td>2018-07-19</td>\n      <td>0.011</td>\n      <td>1</td>\n    </tr>\n    <tr>\n      <th>16</th>\n      <td>2018-07-20</td>\n      <td>0.007</td>\n      <td>1</td>\n    </tr>\n    <tr>\n      <th>17</th>\n      <td>2018-07-21</td>\n      <td>0.005</td>\n      <td>1</td>\n    </tr>\n    <tr>\n      <th>18</th>\n      <td>2018-07-22</td>\n      <td>0.007</td>\n      <td>1</td>\n    </tr>\n    <tr>\n      <th>19</th>\n      <td>2018-07-23</td>\n      <td>0.012</td>\n      <td>1</td>\n    </tr>\n    <tr>\n      <th>20</th>\n      <td>2018-07-24</td>\n      <td>0.015</td>\n      <td>1</td>\n    </tr>\n    <tr>\n      <th>21</th>\n      <td>2018-07-25</td>\n      <td>0.016</td>\n      <td>1</td>\n    </tr>\n    <tr>\n      <th>22</th>\n      <td>2018-07-26</td>\n      <td>0.014</td>\n      <td>1</td>\n    </tr>\n    <tr>\n      <th>23</th>\n      <td>2018-07-27</td>\n      <td>0.000</td>\n      <td>2</td>\n    </tr>\n    <tr>\n      <th>24</th>\n      <td>2018-07-28</td>\n      <td>0.000</td>\n      <td>2</td>\n    </tr>\n    <tr>\n      <th>25</th>\n      <td>2018-07-29</td>\n      <td>0.000</td>\n      <td>2</td>\n    </tr>\n    <tr>\n      <th>26</th>\n      <td>2018-07-30</td>\n      <td>0.000</td>\n      <td>2</td>\n    </tr>\n    <tr>\n      <th>27</th>\n      <td>2018-07-31</td>\n      <td>0.000</td>\n      <td>2</td>\n    </tr>\n    <tr>\n      <th>28</th>\n      <td>2018-08-01</td>\n      <td>0.000</td>\n      <td>2</td>\n    </tr>\n    <tr>\n      <th>29</th>\n      <td>2018-08-02</td>\n      <td>0.000</td>\n      <td>2</td>\n    </tr>\n  </tbody>\n</table>\n</div>"
     },
     "metadata": {},
     "output_type": "display_data"
    }
   ],
   "source": [
    "display(gfs_ens_bc_df)"
   ],
   "metadata": {
    "collapsed": false,
    "ExecuteTime": {
     "start_time": "2023-06-14T11:47:42.549179Z",
     "end_time": "2023-06-14T11:47:42.568599Z"
    }
   }
  },
  {
   "cell_type": "code",
   "execution_count": 230,
   "outputs": [
    {
     "data": {
      "text/plain": "          Date  Value  Flag (0=obs 1=fcst 2=norm)\n7   2018-07-11  0.007                           1\n8   2018-07-12  0.002                           1\n9   2018-07-13  0.005                           1\n10  2018-07-14  0.004                           1\n11  2018-07-15  0.002                           1\n12  2018-07-16  0.004                           1\n13  2018-07-17  0.002                           1\n14  2018-07-18  0.004                           1\n15  2018-07-19  0.006                           1\n16  2018-07-20  0.004                           1\n17  2018-07-21  0.003                           1\n18  2018-07-22  0.003                           1\n19  2018-07-23  0.004                           1\n20  2018-07-24  0.003                           1\n21  2018-07-25  0.003                           1\n22  2018-07-26  0.000                           2\n23  2018-07-27  0.000                           2\n24  2018-07-28  0.000                           2\n25  2018-07-29  0.000                           2\n26  2018-07-30  0.000                           2\n27  2018-07-31  0.000                           2\n28  2018-08-01  0.000                           2",
      "text/html": "<div>\n<style scoped>\n    .dataframe tbody tr th:only-of-type {\n        vertical-align: middle;\n    }\n\n    .dataframe tbody tr th {\n        vertical-align: top;\n    }\n\n    .dataframe thead th {\n        text-align: right;\n    }\n</style>\n<table border=\"1\" class=\"dataframe\">\n  <thead>\n    <tr style=\"text-align: right;\">\n      <th></th>\n      <th>Date</th>\n      <th>Value</th>\n      <th>Flag (0=obs 1=fcst 2=norm)</th>\n    </tr>\n  </thead>\n  <tbody>\n    <tr>\n      <th>7</th>\n      <td>2018-07-11</td>\n      <td>0.007</td>\n      <td>1</td>\n    </tr>\n    <tr>\n      <th>8</th>\n      <td>2018-07-12</td>\n      <td>0.002</td>\n      <td>1</td>\n    </tr>\n    <tr>\n      <th>9</th>\n      <td>2018-07-13</td>\n      <td>0.005</td>\n      <td>1</td>\n    </tr>\n    <tr>\n      <th>10</th>\n      <td>2018-07-14</td>\n      <td>0.004</td>\n      <td>1</td>\n    </tr>\n    <tr>\n      <th>11</th>\n      <td>2018-07-15</td>\n      <td>0.002</td>\n      <td>1</td>\n    </tr>\n    <tr>\n      <th>12</th>\n      <td>2018-07-16</td>\n      <td>0.004</td>\n      <td>1</td>\n    </tr>\n    <tr>\n      <th>13</th>\n      <td>2018-07-17</td>\n      <td>0.002</td>\n      <td>1</td>\n    </tr>\n    <tr>\n      <th>14</th>\n      <td>2018-07-18</td>\n      <td>0.004</td>\n      <td>1</td>\n    </tr>\n    <tr>\n      <th>15</th>\n      <td>2018-07-19</td>\n      <td>0.006</td>\n      <td>1</td>\n    </tr>\n    <tr>\n      <th>16</th>\n      <td>2018-07-20</td>\n      <td>0.004</td>\n      <td>1</td>\n    </tr>\n    <tr>\n      <th>17</th>\n      <td>2018-07-21</td>\n      <td>0.003</td>\n      <td>1</td>\n    </tr>\n    <tr>\n      <th>18</th>\n      <td>2018-07-22</td>\n      <td>0.003</td>\n      <td>1</td>\n    </tr>\n    <tr>\n      <th>19</th>\n      <td>2018-07-23</td>\n      <td>0.004</td>\n      <td>1</td>\n    </tr>\n    <tr>\n      <th>20</th>\n      <td>2018-07-24</td>\n      <td>0.003</td>\n      <td>1</td>\n    </tr>\n    <tr>\n      <th>21</th>\n      <td>2018-07-25</td>\n      <td>0.003</td>\n      <td>1</td>\n    </tr>\n    <tr>\n      <th>22</th>\n      <td>2018-07-26</td>\n      <td>0.000</td>\n      <td>2</td>\n    </tr>\n    <tr>\n      <th>23</th>\n      <td>2018-07-27</td>\n      <td>0.000</td>\n      <td>2</td>\n    </tr>\n    <tr>\n      <th>24</th>\n      <td>2018-07-28</td>\n      <td>0.000</td>\n      <td>2</td>\n    </tr>\n    <tr>\n      <th>25</th>\n      <td>2018-07-29</td>\n      <td>0.000</td>\n      <td>2</td>\n    </tr>\n    <tr>\n      <th>26</th>\n      <td>2018-07-30</td>\n      <td>0.000</td>\n      <td>2</td>\n    </tr>\n    <tr>\n      <th>27</th>\n      <td>2018-07-31</td>\n      <td>0.000</td>\n      <td>2</td>\n    </tr>\n    <tr>\n      <th>28</th>\n      <td>2018-08-01</td>\n      <td>0.000</td>\n      <td>2</td>\n    </tr>\n  </tbody>\n</table>\n</div>"
     },
     "metadata": {},
     "output_type": "display_data"
    }
   ],
   "source": [
    "display(prev_ecmwf_eps_df)"
   ],
   "metadata": {
    "collapsed": false,
    "ExecuteTime": {
     "start_time": "2023-06-14T11:47:42.732604Z",
     "end_time": "2023-06-14T11:47:42.741150Z"
    }
   }
  },
  {
   "cell_type": "code",
   "execution_count": 231,
   "outputs": [
    {
     "data": {
      "text/plain": "                     gfs-ens-bc_9  gfs-ens-bc_10  gfs-ens-bc_11  \\\n2018-07-11 00:00:00         0.009          0.005          0.002   \n2018-07-11 12:00:00         0.003          0.002          0.004   \n2018-07-12 00:00:00         0.004          0.010          0.013   \n2018-07-12 12:00:00         0.009          0.010          0.009   \n2018-07-13 00:00:00         0.006          0.009          0.008   \n...                           ...            ...            ...   \n2023-05-15 00:00:00         0.592          0.056         -0.003   \n2023-05-15 12:00:00        -0.270          0.220          0.588   \n2023-05-16 00:00:00        -0.490         -0.434         -0.316   \n2023-05-16 12:00:00        -0.536         -0.381         -0.049   \n2023-05-17 00:00:00        -0.373         -0.228         -0.053   \n\n                     gfs-ens-bc_12  gfs-ens-bc_13  gfs-ens-bc_14  \n2018-07-11 00:00:00          0.004          0.012          0.012  \n2018-07-11 12:00:00          0.008          0.012          0.013  \n2018-07-12 00:00:00          0.011          0.009          0.012  \n2018-07-12 12:00:00          0.009          0.010          0.008  \n2018-07-13 00:00:00          0.008          0.008          0.006  \n...                            ...            ...            ...  \n2023-05-15 00:00:00          0.069         -0.023         -0.163  \n2023-05-15 12:00:00          0.535          0.046         -0.098  \n2023-05-16 00:00:00          0.016          0.219          0.222  \n2023-05-16 12:00:00          0.085          0.125          0.201  \n2023-05-17 00:00:00         -0.076         -0.273         -0.198  \n\n[3479 rows x 6 columns]",
      "text/html": "<div>\n<style scoped>\n    .dataframe tbody tr th:only-of-type {\n        vertical-align: middle;\n    }\n\n    .dataframe tbody tr th {\n        vertical-align: top;\n    }\n\n    .dataframe thead th {\n        text-align: right;\n    }\n</style>\n<table border=\"1\" class=\"dataframe\">\n  <thead>\n    <tr style=\"text-align: right;\">\n      <th></th>\n      <th>gfs-ens-bc_9</th>\n      <th>gfs-ens-bc_10</th>\n      <th>gfs-ens-bc_11</th>\n      <th>gfs-ens-bc_12</th>\n      <th>gfs-ens-bc_13</th>\n      <th>gfs-ens-bc_14</th>\n    </tr>\n  </thead>\n  <tbody>\n    <tr>\n      <th>2018-07-11 00:00:00</th>\n      <td>0.009</td>\n      <td>0.005</td>\n      <td>0.002</td>\n      <td>0.004</td>\n      <td>0.012</td>\n      <td>0.012</td>\n    </tr>\n    <tr>\n      <th>2018-07-11 12:00:00</th>\n      <td>0.003</td>\n      <td>0.002</td>\n      <td>0.004</td>\n      <td>0.008</td>\n      <td>0.012</td>\n      <td>0.013</td>\n    </tr>\n    <tr>\n      <th>2018-07-12 00:00:00</th>\n      <td>0.004</td>\n      <td>0.010</td>\n      <td>0.013</td>\n      <td>0.011</td>\n      <td>0.009</td>\n      <td>0.012</td>\n    </tr>\n    <tr>\n      <th>2018-07-12 12:00:00</th>\n      <td>0.009</td>\n      <td>0.010</td>\n      <td>0.009</td>\n      <td>0.009</td>\n      <td>0.010</td>\n      <td>0.008</td>\n    </tr>\n    <tr>\n      <th>2018-07-13 00:00:00</th>\n      <td>0.006</td>\n      <td>0.009</td>\n      <td>0.008</td>\n      <td>0.008</td>\n      <td>0.008</td>\n      <td>0.006</td>\n    </tr>\n    <tr>\n      <th>...</th>\n      <td>...</td>\n      <td>...</td>\n      <td>...</td>\n      <td>...</td>\n      <td>...</td>\n      <td>...</td>\n    </tr>\n    <tr>\n      <th>2023-05-15 00:00:00</th>\n      <td>0.592</td>\n      <td>0.056</td>\n      <td>-0.003</td>\n      <td>0.069</td>\n      <td>-0.023</td>\n      <td>-0.163</td>\n    </tr>\n    <tr>\n      <th>2023-05-15 12:00:00</th>\n      <td>-0.270</td>\n      <td>0.220</td>\n      <td>0.588</td>\n      <td>0.535</td>\n      <td>0.046</td>\n      <td>-0.098</td>\n    </tr>\n    <tr>\n      <th>2023-05-16 00:00:00</th>\n      <td>-0.490</td>\n      <td>-0.434</td>\n      <td>-0.316</td>\n      <td>0.016</td>\n      <td>0.219</td>\n      <td>0.222</td>\n    </tr>\n    <tr>\n      <th>2023-05-16 12:00:00</th>\n      <td>-0.536</td>\n      <td>-0.381</td>\n      <td>-0.049</td>\n      <td>0.085</td>\n      <td>0.125</td>\n      <td>0.201</td>\n    </tr>\n    <tr>\n      <th>2023-05-17 00:00:00</th>\n      <td>-0.373</td>\n      <td>-0.228</td>\n      <td>-0.053</td>\n      <td>-0.076</td>\n      <td>-0.273</td>\n      <td>-0.198</td>\n    </tr>\n  </tbody>\n</table>\n<p>3479 rows × 6 columns</p>\n</div>"
     },
     "metadata": {},
     "output_type": "display_data"
    }
   ],
   "source": [
    "display(gfs_ens_bc_change_df)"
   ],
   "metadata": {
    "collapsed": false,
    "ExecuteTime": {
     "start_time": "2023-06-14T11:47:43.568916Z",
     "end_time": "2023-06-14T11:47:43.573926Z"
    }
   }
  },
  {
   "cell_type": "code",
   "execution_count": null,
   "outputs": [],
   "source": [],
   "metadata": {
    "collapsed": false
   }
  },
  {
   "cell_type": "code",
   "execution_count": null,
   "outputs": [],
   "source": [],
   "metadata": {
    "collapsed": false
   }
  },
  {
   "cell_type": "code",
   "execution_count": null,
   "outputs": [],
   "source": [
    "cmc_ens_change_df = pd.DataFrame(columns=['cmc-ens_9', 'cmc-ens_10', 'cmc-ens_11', 'cmc-ens_12',\n",
    "                                  'cmc-ens_13', 'cmc-ens_14'])\n",
    "passed_rows = []\n",
    "\n",
    "for i in range(1, len(cmc_ens_sorted_files)):\n",
    "    cmc_ens_df = pd.read_csv(cmc_ens_sorted_files[i])\n",
    "    cmc_ens_df = cmc_ens_df[cmc_ens_df[cmc_ens_df.columns[2]] >= 1]\n",
    "    gfs_ens_bc_df = pd.read_csv(gfs_ens_bc_sorted_files[i])\n",
    "    gfs_ens_bc_df = gfs_ens_bc_df[gfs_ens_bc_df[gfs_ens_bc_df.columns[2]] >= 1]\n",
    "    date = get_date(cmc_ens_df, cmc_ens_sorted_files[i])\n",
    "\n",
    "    changes = []\n",
    "    try:\n",
    "        for day in range(8, 14):\n",
    "            changes.append(cmc_ens_df.iloc[day]['Value'] - gfs_ens_bc_df.iloc[day]['Value'])\n",
    "        new_row = pd.DataFrame([changes], columns=cmc_ens_change_df.columns, index=[date])\n",
    "        cmc_ens_change_df = pd.concat([cmc_ens_change_df, new_row])\n",
    "    except IndexError:\n",
    "        print(f\"error on {date}\")\n",
    "        passed_rows.append(i)"
   ],
   "metadata": {
    "collapsed": false,
    "ExecuteTime": {
     "start_time": "2023-06-14T09:44:30.080469Z",
     "end_time": "2023-06-14T09:44:39.748933Z"
    }
   }
  },
  {
   "cell_type": "code",
   "execution_count": null,
   "outputs": [],
   "source": [
    "passed_rows"
   ],
   "metadata": {
    "collapsed": false,
    "ExecuteTime": {
     "start_time": "2023-06-14T09:44:39.750402Z",
     "end_time": "2023-06-14T09:44:39.753209Z"
    }
   }
  },
  {
   "cell_type": "code",
   "execution_count": 128,
   "outputs": [
    {
     "name": "stdout",
     "output_type": "stream",
     "text": [
      "error on 2020-08-15 12:00:00\n",
      "error on 2020-08-16 00:00:00\n",
      "error on 2020-08-16 12:00:00\n",
      "error on 2020-08-17 00:00:00\n"
     ]
    }
   ],
   "source": [
    "day_8_error = pd.DataFrame(columns=['day_8_error'])\n",
    "passed_rows = []\n",
    "\n",
    "for i in range(1, len(ecmwf_eps_sorted_files)):\n",
    "    ecmwf_eps_df = pd.read_csv(ecmwf_eps_sorted_files[i])\n",
    "    ecmwf_eps_df = ecmwf_eps_df[ecmwf_eps_df[ecmwf_eps_df.columns[2]] >= 1]\n",
    "    prev_ecmwf_eps_df = pd.read_csv(ecmwf_eps_sorted_files[i-1])\n",
    "    prev_ecmwf_eps_df = prev_ecmwf_eps_df[prev_ecmwf_eps_df[prev_ecmwf_eps_df.columns[2]] >= 1]\n",
    "\n",
    "    date = get_date(ecmwf_eps_df, ecmwf_eps_sorted_files[i])\n",
    "    prev_date = get_date(prev_ecmwf_eps_df, ecmwf_eps_sorted_files[i-1])\n",
    "    d2 = str(date)[:10]\n",
    "    d1 = str(prev_date)[:10]\n",
    "\n",
    "    if d2 == d1:\n",
    "        offset = 1\n",
    "    else:\n",
    "        offset = 0\n",
    "    day = 7\n",
    "    changes = []\n",
    "    try:\n",
    "        changes.append(ecmwf_eps_df.iloc[day]['Value'] - prev_ecmwf_eps_df.iloc[day + offset]['Value'])\n",
    "        new_row = pd.DataFrame([changes], columns=day_8_error.columns, index=[date])\n",
    "        day_8_error = pd.concat([day_8_error, new_row])\n",
    "    except IndexError:\n",
    "        print(f\"error on {date}\")\n",
    "        passed_rows.append(i)"
   ],
   "metadata": {
    "collapsed": false,
    "ExecuteTime": {
     "start_time": "2023-06-14T10:21:08.657660Z",
     "end_time": "2023-06-14T10:21:17.374738Z"
    }
   }
  },
  {
   "cell_type": "code",
   "execution_count": 143,
   "outputs": [
    {
     "name": "stdout",
     "output_type": "stream",
     "text": [
      "RawData/ecmwf-eps.20180711.12.gw_hdd.csv\n",
      "RawData/ecmwf-eps.20180712.00.gw_hdd.csv\n"
     ]
    }
   ],
   "source": [
    "i = 3\n",
    "print(ecmwf_eps_sorted_files[i-1])\n",
    "print(ecmwf_eps_sorted_files[i])\n",
    "ecmwf_eps_df = pd.read_csv(ecmwf_eps_sorted_files[i])\n",
    "ecmwf_eps_df = ecmwf_eps_df[ecmwf_eps_df[ecmwf_eps_df.columns[2]] >= 1]\n",
    "prev_ecmwf_eps_df = pd.read_csv(ecmwf_eps_sorted_files[i-1])\n",
    "prev_ecmwf_eps_df = prev_ecmwf_eps_df[prev_ecmwf_eps_df[prev_ecmwf_eps_df.columns[2]] >= 1]"
   ],
   "metadata": {
    "collapsed": false,
    "ExecuteTime": {
     "start_time": "2023-06-14T10:22:41.560547Z",
     "end_time": "2023-06-14T10:22:41.569662Z"
    }
   }
  },
  {
   "cell_type": "code",
   "execution_count": 143,
   "outputs": [],
   "source": [],
   "metadata": {
    "collapsed": false,
    "ExecuteTime": {
     "start_time": "2023-06-14T10:22:41.735493Z",
     "end_time": "2023-06-14T10:22:41.749334Z"
    }
   }
  },
  {
   "cell_type": "code",
   "execution_count": 144,
   "outputs": [
    {
     "data": {
      "text/plain": "          Date  Value  Flag (0=obs 1=fcst 2=norm)\n8   2018-07-12  0.003                           1\n9   2018-07-13  0.005                           1\n10  2018-07-14  0.003                           1\n11  2018-07-15  0.001                           1\n12  2018-07-16  0.003                           1\n13  2018-07-17  0.001                           1\n14  2018-07-18  0.004                           1\n15  2018-07-19  0.009                           1\n16  2018-07-20  0.007                           1\n17  2018-07-21  0.004                           1\n18  2018-07-22  0.003                           1\n19  2018-07-23  0.003                           1\n20  2018-07-24  0.003                           1\n21  2018-07-25  0.004                           1\n22  2018-07-26  0.000                           2\n23  2018-07-27  0.000                           2\n24  2018-07-28  0.000                           2\n25  2018-07-29  0.000                           2\n26  2018-07-30  0.000                           2\n27  2018-07-31  0.000                           2\n28  2018-08-01  0.000                           2",
      "text/html": "<div>\n<style scoped>\n    .dataframe tbody tr th:only-of-type {\n        vertical-align: middle;\n    }\n\n    .dataframe tbody tr th {\n        vertical-align: top;\n    }\n\n    .dataframe thead th {\n        text-align: right;\n    }\n</style>\n<table border=\"1\" class=\"dataframe\">\n  <thead>\n    <tr style=\"text-align: right;\">\n      <th></th>\n      <th>Date</th>\n      <th>Value</th>\n      <th>Flag (0=obs 1=fcst 2=norm)</th>\n    </tr>\n  </thead>\n  <tbody>\n    <tr>\n      <th>8</th>\n      <td>2018-07-12</td>\n      <td>0.003</td>\n      <td>1</td>\n    </tr>\n    <tr>\n      <th>9</th>\n      <td>2018-07-13</td>\n      <td>0.005</td>\n      <td>1</td>\n    </tr>\n    <tr>\n      <th>10</th>\n      <td>2018-07-14</td>\n      <td>0.003</td>\n      <td>1</td>\n    </tr>\n    <tr>\n      <th>11</th>\n      <td>2018-07-15</td>\n      <td>0.001</td>\n      <td>1</td>\n    </tr>\n    <tr>\n      <th>12</th>\n      <td>2018-07-16</td>\n      <td>0.003</td>\n      <td>1</td>\n    </tr>\n    <tr>\n      <th>13</th>\n      <td>2018-07-17</td>\n      <td>0.001</td>\n      <td>1</td>\n    </tr>\n    <tr>\n      <th>14</th>\n      <td>2018-07-18</td>\n      <td>0.004</td>\n      <td>1</td>\n    </tr>\n    <tr>\n      <th>15</th>\n      <td>2018-07-19</td>\n      <td>0.009</td>\n      <td>1</td>\n    </tr>\n    <tr>\n      <th>16</th>\n      <td>2018-07-20</td>\n      <td>0.007</td>\n      <td>1</td>\n    </tr>\n    <tr>\n      <th>17</th>\n      <td>2018-07-21</td>\n      <td>0.004</td>\n      <td>1</td>\n    </tr>\n    <tr>\n      <th>18</th>\n      <td>2018-07-22</td>\n      <td>0.003</td>\n      <td>1</td>\n    </tr>\n    <tr>\n      <th>19</th>\n      <td>2018-07-23</td>\n      <td>0.003</td>\n      <td>1</td>\n    </tr>\n    <tr>\n      <th>20</th>\n      <td>2018-07-24</td>\n      <td>0.003</td>\n      <td>1</td>\n    </tr>\n    <tr>\n      <th>21</th>\n      <td>2018-07-25</td>\n      <td>0.004</td>\n      <td>1</td>\n    </tr>\n    <tr>\n      <th>22</th>\n      <td>2018-07-26</td>\n      <td>0.000</td>\n      <td>2</td>\n    </tr>\n    <tr>\n      <th>23</th>\n      <td>2018-07-27</td>\n      <td>0.000</td>\n      <td>2</td>\n    </tr>\n    <tr>\n      <th>24</th>\n      <td>2018-07-28</td>\n      <td>0.000</td>\n      <td>2</td>\n    </tr>\n    <tr>\n      <th>25</th>\n      <td>2018-07-29</td>\n      <td>0.000</td>\n      <td>2</td>\n    </tr>\n    <tr>\n      <th>26</th>\n      <td>2018-07-30</td>\n      <td>0.000</td>\n      <td>2</td>\n    </tr>\n    <tr>\n      <th>27</th>\n      <td>2018-07-31</td>\n      <td>0.000</td>\n      <td>2</td>\n    </tr>\n    <tr>\n      <th>28</th>\n      <td>2018-08-01</td>\n      <td>0.000</td>\n      <td>2</td>\n    </tr>\n  </tbody>\n</table>\n</div>"
     },
     "metadata": {},
     "output_type": "display_data"
    }
   ],
   "source": [
    "display(prev_ecmwf_eps_df)"
   ],
   "metadata": {
    "collapsed": false,
    "ExecuteTime": {
     "start_time": "2023-06-14T10:22:41.936031Z",
     "end_time": "2023-06-14T10:22:41.952265Z"
    }
   }
  },
  {
   "cell_type": "code",
   "execution_count": 145,
   "outputs": [
    {
     "data": {
      "text/plain": "          Date  Value  Flag (0=obs 1=fcst 2=norm)\n7   2018-07-12  0.002                           1\n8   2018-07-13  0.004                           1\n9   2018-07-14  0.003                           1\n10  2018-07-15  0.001                           1\n11  2018-07-16  0.002                           1\n12  2018-07-17  0.002                           1\n13  2018-07-18  0.004                           1\n14  2018-07-19  0.007                           1\n15  2018-07-20  0.007                           1\n16  2018-07-21  0.004                           1\n17  2018-07-22  0.003                           1\n18  2018-07-23  0.004                           1\n19  2018-07-24  0.004                           1\n20  2018-07-25  0.003                           1\n21  2018-07-26  0.004                           1\n22  2018-07-27  0.000                           2\n23  2018-07-28  0.000                           2\n24  2018-07-29  0.000                           2\n25  2018-07-30  0.000                           2\n26  2018-07-31  0.000                           2\n27  2018-08-01  0.000                           2\n28  2018-08-02  0.000                           2",
      "text/html": "<div>\n<style scoped>\n    .dataframe tbody tr th:only-of-type {\n        vertical-align: middle;\n    }\n\n    .dataframe tbody tr th {\n        vertical-align: top;\n    }\n\n    .dataframe thead th {\n        text-align: right;\n    }\n</style>\n<table border=\"1\" class=\"dataframe\">\n  <thead>\n    <tr style=\"text-align: right;\">\n      <th></th>\n      <th>Date</th>\n      <th>Value</th>\n      <th>Flag (0=obs 1=fcst 2=norm)</th>\n    </tr>\n  </thead>\n  <tbody>\n    <tr>\n      <th>7</th>\n      <td>2018-07-12</td>\n      <td>0.002</td>\n      <td>1</td>\n    </tr>\n    <tr>\n      <th>8</th>\n      <td>2018-07-13</td>\n      <td>0.004</td>\n      <td>1</td>\n    </tr>\n    <tr>\n      <th>9</th>\n      <td>2018-07-14</td>\n      <td>0.003</td>\n      <td>1</td>\n    </tr>\n    <tr>\n      <th>10</th>\n      <td>2018-07-15</td>\n      <td>0.001</td>\n      <td>1</td>\n    </tr>\n    <tr>\n      <th>11</th>\n      <td>2018-07-16</td>\n      <td>0.002</td>\n      <td>1</td>\n    </tr>\n    <tr>\n      <th>12</th>\n      <td>2018-07-17</td>\n      <td>0.002</td>\n      <td>1</td>\n    </tr>\n    <tr>\n      <th>13</th>\n      <td>2018-07-18</td>\n      <td>0.004</td>\n      <td>1</td>\n    </tr>\n    <tr>\n      <th>14</th>\n      <td>2018-07-19</td>\n      <td>0.007</td>\n      <td>1</td>\n    </tr>\n    <tr>\n      <th>15</th>\n      <td>2018-07-20</td>\n      <td>0.007</td>\n      <td>1</td>\n    </tr>\n    <tr>\n      <th>16</th>\n      <td>2018-07-21</td>\n      <td>0.004</td>\n      <td>1</td>\n    </tr>\n    <tr>\n      <th>17</th>\n      <td>2018-07-22</td>\n      <td>0.003</td>\n      <td>1</td>\n    </tr>\n    <tr>\n      <th>18</th>\n      <td>2018-07-23</td>\n      <td>0.004</td>\n      <td>1</td>\n    </tr>\n    <tr>\n      <th>19</th>\n      <td>2018-07-24</td>\n      <td>0.004</td>\n      <td>1</td>\n    </tr>\n    <tr>\n      <th>20</th>\n      <td>2018-07-25</td>\n      <td>0.003</td>\n      <td>1</td>\n    </tr>\n    <tr>\n      <th>21</th>\n      <td>2018-07-26</td>\n      <td>0.004</td>\n      <td>1</td>\n    </tr>\n    <tr>\n      <th>22</th>\n      <td>2018-07-27</td>\n      <td>0.000</td>\n      <td>2</td>\n    </tr>\n    <tr>\n      <th>23</th>\n      <td>2018-07-28</td>\n      <td>0.000</td>\n      <td>2</td>\n    </tr>\n    <tr>\n      <th>24</th>\n      <td>2018-07-29</td>\n      <td>0.000</td>\n      <td>2</td>\n    </tr>\n    <tr>\n      <th>25</th>\n      <td>2018-07-30</td>\n      <td>0.000</td>\n      <td>2</td>\n    </tr>\n    <tr>\n      <th>26</th>\n      <td>2018-07-31</td>\n      <td>0.000</td>\n      <td>2</td>\n    </tr>\n    <tr>\n      <th>27</th>\n      <td>2018-08-01</td>\n      <td>0.000</td>\n      <td>2</td>\n    </tr>\n    <tr>\n      <th>28</th>\n      <td>2018-08-02</td>\n      <td>0.000</td>\n      <td>2</td>\n    </tr>\n  </tbody>\n</table>\n</div>"
     },
     "metadata": {},
     "output_type": "display_data"
    }
   ],
   "source": [
    "display(ecmwf_eps_df)"
   ],
   "metadata": {
    "collapsed": false,
    "ExecuteTime": {
     "start_time": "2023-06-14T10:22:42.472629Z",
     "end_time": "2023-06-14T10:22:42.477169Z"
    }
   }
  },
  {
   "cell_type": "code",
   "execution_count": 132,
   "outputs": [
    {
     "data": {
      "text/plain": "                     day_8_error\n2018-07-11 00:00:00        0.002\n2018-07-11 12:00:00        0.003\n2018-07-12 00:00:00       -0.002\n2018-07-12 12:00:00       -0.002\n2018-07-13 00:00:00       -0.001\n...                          ...\n2023-05-15 00:00:00        0.844\n2023-05-15 12:00:00       -0.080\n2023-05-16 00:00:00        0.145\n2023-05-16 12:00:00       -0.264\n2023-05-17 00:00:00        0.099\n\n[3479 rows x 1 columns]",
      "text/html": "<div>\n<style scoped>\n    .dataframe tbody tr th:only-of-type {\n        vertical-align: middle;\n    }\n\n    .dataframe tbody tr th {\n        vertical-align: top;\n    }\n\n    .dataframe thead th {\n        text-align: right;\n    }\n</style>\n<table border=\"1\" class=\"dataframe\">\n  <thead>\n    <tr style=\"text-align: right;\">\n      <th></th>\n      <th>day_8_error</th>\n    </tr>\n  </thead>\n  <tbody>\n    <tr>\n      <th>2018-07-11 00:00:00</th>\n      <td>0.002</td>\n    </tr>\n    <tr>\n      <th>2018-07-11 12:00:00</th>\n      <td>0.003</td>\n    </tr>\n    <tr>\n      <th>2018-07-12 00:00:00</th>\n      <td>-0.002</td>\n    </tr>\n    <tr>\n      <th>2018-07-12 12:00:00</th>\n      <td>-0.002</td>\n    </tr>\n    <tr>\n      <th>2018-07-13 00:00:00</th>\n      <td>-0.001</td>\n    </tr>\n    <tr>\n      <th>...</th>\n      <td>...</td>\n    </tr>\n    <tr>\n      <th>2023-05-15 00:00:00</th>\n      <td>0.844</td>\n    </tr>\n    <tr>\n      <th>2023-05-15 12:00:00</th>\n      <td>-0.080</td>\n    </tr>\n    <tr>\n      <th>2023-05-16 00:00:00</th>\n      <td>0.145</td>\n    </tr>\n    <tr>\n      <th>2023-05-16 12:00:00</th>\n      <td>-0.264</td>\n    </tr>\n    <tr>\n      <th>2023-05-17 00:00:00</th>\n      <td>0.099</td>\n    </tr>\n  </tbody>\n</table>\n<p>3479 rows × 1 columns</p>\n</div>"
     },
     "metadata": {},
     "output_type": "display_data"
    }
   ],
   "source": [
    "display(day_8_error)"
   ],
   "metadata": {
    "collapsed": false,
    "ExecuteTime": {
     "start_time": "2023-06-14T10:21:20.583485Z",
     "end_time": "2023-06-14T10:21:20.601416Z"
    }
   }
  },
  {
   "cell_type": "code",
   "execution_count": null,
   "outputs": [],
   "source": [],
   "metadata": {
    "collapsed": false
   }
  },
  {
   "cell_type": "code",
   "execution_count": null,
   "outputs": [],
   "source": [
    "errors_df = pd.DataFrame(columns=['error_9', 'error_10', 'error_11', 'error_12', 'error_13', 'error_14'])\n",
    "passed_rows = []\n",
    "\n",
    "for i in range(2, len(ecmwf_eps_sorted_files)):\n",
    "    ecmwf_eps_df = pd.read_csv(ecmwf_eps_sorted_files[i-1])\n",
    "    ecmwf_eps_df = ecmwf_eps_df[ecmwf_eps_df[ecmwf_eps_df.columns[2]] >= 1]\n",
    "    prev_ecmwf_eps_df = pd.read_csv(ecmwf_eps_sorted_files[i-2])\n",
    "    prev_ecmwf_eps_df = prev_ecmwf_eps_df[prev_ecmwf_eps_df[prev_ecmwf_eps_df.columns[2]] >= 1]\n",
    "\n",
    "    date = get_date(ecmwf_eps_df, ecmwf_eps_sorted_files[i])\n",
    "    prev_date = get_date(prev_ecmwf_eps_df, ecmwf_eps_sorted_files[i-1])\n",
    "    d2 = str(date)[:10]\n",
    "    d1 = str(prev_date)[:10]\n",
    "\n",
    "    if d2 != d1:\n",
    "        offset = 1\n",
    "    else:\n",
    "        offset = 0\n",
    "\n",
    "    errors = []\n",
    "    try:\n",
    "        for day in range(8, 14):\n",
    "            errors.append(ecmwf_eps_df.iloc[day - offset]['Value'] - prev_ecmwf_eps_df.iloc[day]['Value'])\n",
    "        new_row = pd.DataFrame([errors], columns=errors_df.columns, index=[date])\n",
    "        errors_df = pd.concat([errors_df, new_row])\n",
    "    except IndexError:\n",
    "        print(f\"error on {date}\")\n",
    "        passed_rows.append(i)"
   ],
   "metadata": {
    "collapsed": false,
    "ExecuteTime": {
     "start_time": "2023-06-13T13:26:00.405453Z",
     "end_time": "2023-06-13T13:26:09.095589Z"
    }
   }
  },
  {
   "cell_type": "code",
   "execution_count": null,
   "outputs": [],
   "source": [],
   "metadata": {
    "collapsed": false
   }
  },
  {
   "cell_type": "markdown",
   "source": [
    "new features"
   ],
   "metadata": {
    "collapsed": false
   }
  },
  {
   "cell_type": "code",
   "execution_count": null,
   "outputs": [],
   "source": [
    "#add if noon"
   ],
   "metadata": {
    "collapsed": false,
    "ExecuteTime": {
     "start_time": "2023-06-13T13:26:09.095518Z",
     "end_time": "2023-06-13T13:26:09.097702Z"
    }
   }
  },
  {
   "cell_type": "code",
   "execution_count": null,
   "outputs": [],
   "source": [],
   "metadata": {
    "collapsed": false,
    "ExecuteTime": {
     "start_time": "2023-06-13T13:26:09.098498Z",
     "end_time": "2023-06-13T13:26:09.102166Z"
    }
   }
  },
  {
   "cell_type": "code",
   "execution_count": null,
   "outputs": [],
   "source": [],
   "metadata": {
    "collapsed": false,
    "ExecuteTime": {
     "start_time": "2023-06-13T13:26:09.101128Z",
     "end_time": "2023-06-13T13:26:09.103615Z"
    }
   }
  },
  {
   "cell_type": "code",
   "execution_count": null,
   "outputs": [],
   "source": [
    "errors_df['noon'] = errors_df.index.hour\n",
    "errors_df['noon'] = errors_df['noon'].apply(lambda x: 1 if x == 12 else 0)"
   ],
   "metadata": {
    "collapsed": false,
    "ExecuteTime": {
     "start_time": "2023-06-13T13:26:09.103682Z",
     "end_time": "2023-06-13T13:26:09.108866Z"
    }
   }
  },
  {
   "cell_type": "code",
   "execution_count": null,
   "outputs": [],
   "source": [],
   "metadata": {
    "collapsed": false,
    "ExecuteTime": {
     "start_time": "2023-06-13T13:26:09.109233Z",
     "end_time": "2023-06-13T13:26:09.110890Z"
    }
   }
  },
  {
   "cell_type": "code",
   "execution_count": null,
   "outputs": [],
   "source": [
    "def f(x):\n",
    "    y = 1 - (abs(x-7) / 7)\n",
    "    return y"
   ],
   "metadata": {
    "collapsed": false,
    "ExecuteTime": {
     "start_time": "2023-06-13T13:26:09.111836Z",
     "end_time": "2023-06-13T13:26:09.117396Z"
    }
   }
  },
  {
   "cell_type": "code",
   "execution_count": null,
   "outputs": [],
   "source": [
    "errors_df['month'] = errors_df.index.month\n",
    "#errors_df['month'] = errors_df['month'].apply(lambda x: f(x))"
   ],
   "metadata": {
    "collapsed": false,
    "ExecuteTime": {
     "start_time": "2023-06-13T13:26:09.115749Z",
     "end_time": "2023-06-13T13:26:09.133080Z"
    }
   }
  },
  {
   "cell_type": "code",
   "execution_count": null,
   "outputs": [],
   "source": [],
   "metadata": {
    "collapsed": false,
    "ExecuteTime": {
     "start_time": "2023-06-13T13:26:09.119363Z",
     "end_time": "2023-06-13T13:26:09.133411Z"
    }
   }
  },
  {
   "cell_type": "code",
   "execution_count": null,
   "outputs": [],
   "source": [
    "master_df = pd.concat([gfs_ens_bc_change_df, cmc_ens_change_df, ecmwf_change_df, errors_df,  ecmwf_eps_change_df], axis=1) # removed day_8_error\n",
    "master_df.fillna(0, inplace=True)\n",
    "display(master_df[-5:])"
   ],
   "metadata": {
    "collapsed": false,
    "ExecuteTime": {
     "start_time": "2023-06-13T13:26:09.122461Z",
     "end_time": "2023-06-13T13:26:09.142123Z"
    }
   }
  },
  {
   "cell_type": "code",
   "execution_count": null,
   "outputs": [],
   "source": [
    "master_df.to_pickle('master_df.pkl')"
   ],
   "metadata": {
    "collapsed": false,
    "ExecuteTime": {
     "start_time": "2023-06-13T13:26:09.142666Z",
     "end_time": "2023-06-13T13:26:09.147147Z"
    }
   }
  },
  {
   "cell_type": "markdown",
   "source": [
    "random forest"
   ],
   "metadata": {
    "collapsed": false
   }
  },
  {
   "cell_type": "code",
   "execution_count": 44,
   "outputs": [],
   "source": [
    "master_df = pd.read_pickle('master_df.pkl')"
   ],
   "metadata": {
    "collapsed": false,
    "ExecuteTime": {
     "start_time": "2023-06-14T09:32:42.117156Z",
     "end_time": "2023-06-14T09:32:42.132876Z"
    }
   }
  },
  {
   "cell_type": "code",
   "execution_count": null,
   "outputs": [],
   "source": [
    "master_df['ecmwf-eps_9'][-800:].plot()"
   ],
   "metadata": {
    "collapsed": false,
    "ExecuteTime": {
     "start_time": "2023-06-13T13:24:31.508026Z",
     "end_time": "2023-06-13T13:24:31.722541Z"
    }
   }
  },
  {
   "cell_type": "code",
   "execution_count": 45,
   "outputs": [],
   "source": [
    "X = master_df.iloc[:, :-6]\n",
    "y = master_df.iloc[:, -6:]"
   ],
   "metadata": {
    "collapsed": false,
    "ExecuteTime": {
     "start_time": "2023-06-14T09:32:46.771950Z",
     "end_time": "2023-06-14T09:32:46.788566Z"
    }
   }
  },
  {
   "cell_type": "code",
   "execution_count": 45,
   "outputs": [],
   "source": [],
   "metadata": {
    "collapsed": false,
    "ExecuteTime": {
     "start_time": "2023-06-14T09:32:47.091396Z",
     "end_time": "2023-06-14T09:32:47.109374Z"
    }
   }
  },
  {
   "cell_type": "code",
   "execution_count": 46,
   "outputs": [
    {
     "data": {
      "text/plain": "RandomForestRegressor(max_depth=100, n_estimators=1000, random_state=42)",
      "text/html": "<style>#sk-container-id-1 {color: black;background-color: white;}#sk-container-id-1 pre{padding: 0;}#sk-container-id-1 div.sk-toggleable {background-color: white;}#sk-container-id-1 label.sk-toggleable__label {cursor: pointer;display: block;width: 100%;margin-bottom: 0;padding: 0.3em;box-sizing: border-box;text-align: center;}#sk-container-id-1 label.sk-toggleable__label-arrow:before {content: \"▸\";float: left;margin-right: 0.25em;color: #696969;}#sk-container-id-1 label.sk-toggleable__label-arrow:hover:before {color: black;}#sk-container-id-1 div.sk-estimator:hover label.sk-toggleable__label-arrow:before {color: black;}#sk-container-id-1 div.sk-toggleable__content {max-height: 0;max-width: 0;overflow: hidden;text-align: left;background-color: #f0f8ff;}#sk-container-id-1 div.sk-toggleable__content pre {margin: 0.2em;color: black;border-radius: 0.25em;background-color: #f0f8ff;}#sk-container-id-1 input.sk-toggleable__control:checked~div.sk-toggleable__content {max-height: 200px;max-width: 100%;overflow: auto;}#sk-container-id-1 input.sk-toggleable__control:checked~label.sk-toggleable__label-arrow:before {content: \"▾\";}#sk-container-id-1 div.sk-estimator input.sk-toggleable__control:checked~label.sk-toggleable__label {background-color: #d4ebff;}#sk-container-id-1 div.sk-label input.sk-toggleable__control:checked~label.sk-toggleable__label {background-color: #d4ebff;}#sk-container-id-1 input.sk-hidden--visually {border: 0;clip: rect(1px 1px 1px 1px);clip: rect(1px, 1px, 1px, 1px);height: 1px;margin: -1px;overflow: hidden;padding: 0;position: absolute;width: 1px;}#sk-container-id-1 div.sk-estimator {font-family: monospace;background-color: #f0f8ff;border: 1px dotted black;border-radius: 0.25em;box-sizing: border-box;margin-bottom: 0.5em;}#sk-container-id-1 div.sk-estimator:hover {background-color: #d4ebff;}#sk-container-id-1 div.sk-parallel-item::after {content: \"\";width: 100%;border-bottom: 1px solid gray;flex-grow: 1;}#sk-container-id-1 div.sk-label:hover label.sk-toggleable__label {background-color: #d4ebff;}#sk-container-id-1 div.sk-serial::before {content: \"\";position: absolute;border-left: 1px solid gray;box-sizing: border-box;top: 0;bottom: 0;left: 50%;z-index: 0;}#sk-container-id-1 div.sk-serial {display: flex;flex-direction: column;align-items: center;background-color: white;padding-right: 0.2em;padding-left: 0.2em;position: relative;}#sk-container-id-1 div.sk-item {position: relative;z-index: 1;}#sk-container-id-1 div.sk-parallel {display: flex;align-items: stretch;justify-content: center;background-color: white;position: relative;}#sk-container-id-1 div.sk-item::before, #sk-container-id-1 div.sk-parallel-item::before {content: \"\";position: absolute;border-left: 1px solid gray;box-sizing: border-box;top: 0;bottom: 0;left: 50%;z-index: -1;}#sk-container-id-1 div.sk-parallel-item {display: flex;flex-direction: column;z-index: 1;position: relative;background-color: white;}#sk-container-id-1 div.sk-parallel-item:first-child::after {align-self: flex-end;width: 50%;}#sk-container-id-1 div.sk-parallel-item:last-child::after {align-self: flex-start;width: 50%;}#sk-container-id-1 div.sk-parallel-item:only-child::after {width: 0;}#sk-container-id-1 div.sk-dashed-wrapped {border: 1px dashed gray;margin: 0 0.4em 0.5em 0.4em;box-sizing: border-box;padding-bottom: 0.4em;background-color: white;}#sk-container-id-1 div.sk-label label {font-family: monospace;font-weight: bold;display: inline-block;line-height: 1.2em;}#sk-container-id-1 div.sk-label-container {text-align: center;}#sk-container-id-1 div.sk-container {/* jupyter's `normalize.less` sets `[hidden] { display: none; }` but bootstrap.min.css set `[hidden] { display: none !important; }` so we also need the `!important` here to be able to override the default hidden behavior on the sphinx rendered scikit-learn.org. See: https://github.com/scikit-learn/scikit-learn/issues/21755 */display: inline-block !important;position: relative;}#sk-container-id-1 div.sk-text-repr-fallback {display: none;}</style><div id=\"sk-container-id-1\" class=\"sk-top-container\"><div class=\"sk-text-repr-fallback\"><pre>RandomForestRegressor(max_depth=100, n_estimators=1000, random_state=42)</pre><b>In a Jupyter environment, please rerun this cell to show the HTML representation or trust the notebook. <br />On GitHub, the HTML representation is unable to render, please try loading this page with nbviewer.org.</b></div><div class=\"sk-container\" hidden><div class=\"sk-item\"><div class=\"sk-estimator sk-toggleable\"><input class=\"sk-toggleable__control sk-hidden--visually\" id=\"sk-estimator-id-1\" type=\"checkbox\" checked><label for=\"sk-estimator-id-1\" class=\"sk-toggleable__label sk-toggleable__label-arrow\">RandomForestRegressor</label><div class=\"sk-toggleable__content\"><pre>RandomForestRegressor(max_depth=100, n_estimators=1000, random_state=42)</pre></div></div></div></div></div>"
     },
     "execution_count": 46,
     "metadata": {},
     "output_type": "execute_result"
    }
   ],
   "source": [
    "X_train, X_test, y_train, y_test = train_test_split(X, y, test_size=0.2, random_state=42)\n",
    "rf_model = RandomForestRegressor(n_estimators=1000, max_depth=100, random_state=42)\n",
    "rf_model.fit(X_train, y_train)"
   ],
   "metadata": {
    "collapsed": false,
    "ExecuteTime": {
     "start_time": "2023-06-14T09:32:47.517773Z",
     "end_time": "2023-06-14T09:33:35.925664Z"
    }
   }
  },
  {
   "cell_type": "code",
   "execution_count": 47,
   "outputs": [
    {
     "name": "stdout",
     "output_type": "stream",
     "text": [
      "Mean Squared Error: 1.0294975013128134\n"
     ]
    }
   ],
   "source": [
    "y_pred = rf_model.predict(X_test)\n",
    "mse = mean_squared_error(y_test, y_pred)\n",
    "print(\"Mean Squared Error:\", mse)"
   ],
   "metadata": {
    "collapsed": false,
    "ExecuteTime": {
     "start_time": "2023-06-14T09:33:35.926791Z",
     "end_time": "2023-06-14T09:33:36.155126Z"
    }
   }
  },
  {
   "cell_type": "markdown",
   "source": [
    "RNN"
   ],
   "metadata": {
    "collapsed": false
   }
  },
  {
   "cell_type": "code",
   "execution_count": 300,
   "outputs": [],
   "source": [
    "input_features = master_df.iloc[:, :-6].values ** 2\n",
    "target_variables = master_df.iloc[:, -6:].values\n",
    "\n",
    "# Split the data into training, validation, and testing sets\n",
    "X_train, X_test, y_train, y_test = train_test_split(\n",
    "    input_features, target_variables, test_size=0.2, shuffle=False)\n",
    "\n",
    "X_train, X_val, y_train, y_val = train_test_split(\n",
    "    X_train, y_train, test_size=0.2, shuffle=False)\n",
    "\n",
    "# Scale the input features based on the training data\n",
    "scaler = MinMaxScaler()\n",
    "X_train_scaled = scaler.fit_transform(X_train)\n",
    "\n",
    "# Scale the validation and test data based on the training data\n",
    "X_val_scaled = scaler.transform(X_val)\n",
    "X_test_scaled = scaler.transform(X_test)\n",
    "\n",
    "# Convert the scaled data to PyTorch tensors\n",
    "\n",
    "X_train_tensor = torch.Tensor(X_train_scaled)\n",
    "y_train_tensor = torch.Tensor(y_train)\n",
    "X_val_tensor = torch.Tensor(X_val_scaled)\n",
    "y_val_tensor = torch.Tensor(y_val)\n",
    "X_test_tensor = torch.Tensor(X_test_scaled)\n",
    "y_test_tensor = torch.Tensor(y_test)"
   ],
   "metadata": {
    "collapsed": false,
    "ExecuteTime": {
     "start_time": "2023-06-14T13:23:08.010257Z",
     "end_time": "2023-06-14T13:23:08.027545Z"
    }
   }
  },
  {
   "cell_type": "code",
   "execution_count": 303,
   "outputs": [
    {
     "data": {
      "text/plain": "0.09123534930199231"
     },
     "execution_count": 303,
     "metadata": {},
     "output_type": "execute_result"
    }
   ],
   "source": [
    "#benchmark error\n",
    "total_mse = 0\n",
    "c = 0\n",
    "for i in range(1, len(y_test_tensor)):\n",
    "    #mse = mean_squared_error(y_test_tensor[i], y_test_tensor[i-1])\n",
    "    mse = mean_squared_error(y_test_tensor[i], [0,0,0,0,0,0])\n",
    "    total_mse += mse\n",
    "    c += 1\n",
    "\n",
    "total_mse/c"
   ],
   "metadata": {
    "collapsed": false,
    "ExecuteTime": {
     "start_time": "2023-06-14T13:23:37.403975Z",
     "end_time": "2023-06-14T13:23:37.477441Z"
    }
   }
  },
  {
   "cell_type": "code",
   "execution_count": null,
   "outputs": [],
   "source": [
    "class RNN(nn.Module):\n",
    "    def __init__(self, input_size, hidden_size, output_size, num_layers, dropout):\n",
    "        super(RNN, self).__init__()\n",
    "\n",
    "        self.hidden_size = hidden_size\n",
    "        self.num_layers = num_layers\n",
    "\n",
    "        self.lstm = nn.LSTM(input_size, hidden_size, num_layers=num_layers, batch_first=True, dropout=dropout)\n",
    "        self.fc1 = nn.Linear(hidden_size, 64)  # Dense layer with 64 units\n",
    "        self.fc2 = nn.Linear(64, output_size)  # Final output layer\n",
    "\n",
    "    def forward(self, x):\n",
    "        h0 = torch.zeros(self.num_layers, x.size(0), self.hidden_size).to(x.device)\n",
    "        c0 = torch.zeros(self.num_layers, x.size(0), self.hidden_size).to(x.device)\n",
    "\n",
    "        out, _ = self.lstm(x, (h0, c0))\n",
    "        out = F.relu(out)  # Apply ReLU activation between LSTM and first dense layer\n",
    "        out = self.fc1(out[:, -1, :])\n",
    "        out = F.relu(out)  # Apply ReLU activation to the output of the first dense layer\n",
    "        out = self.fc2(out)\n",
    "\n",
    "        return out"
   ],
   "metadata": {
    "collapsed": false,
    "ExecuteTime": {
     "start_time": "2023-06-07T11:57:18.215284Z",
     "end_time": "2023-06-07T11:57:18.221355Z"
    }
   }
  },
  {
   "cell_type": "code",
   "execution_count": null,
   "outputs": [],
   "source": [
    "input_size = X_train_tensor.shape[1]\n",
    "output_size = y_train_tensor.shape[1]\n",
    "hidden_size = 256\n",
    "num_layers = 3\n",
    "dropout = 0.3\n",
    "lr = 0.01\n",
    "mps_device = torch.device(\"mps\")"
   ],
   "metadata": {
    "collapsed": false,
    "ExecuteTime": {
     "start_time": "2023-06-07T11:58:01.427352Z",
     "end_time": "2023-06-07T11:58:01.432498Z"
    }
   }
  },
  {
   "cell_type": "code",
   "execution_count": null,
   "outputs": [],
   "source": [
    "model = RNN(input_size, hidden_size, output_size, num_layers, dropout)\n",
    "criterion = nn.MSELoss()\n",
    "optimizer = optim.Adam(model.parameters(), lr=lr, weight_decay=0.001)"
   ],
   "metadata": {
    "collapsed": false,
    "ExecuteTime": {
     "start_time": "2023-06-07T11:04:37.978958Z",
     "end_time": "2023-06-07T11:04:37.991726Z"
    }
   }
  },
  {
   "cell_type": "code",
   "execution_count": null,
   "outputs": [],
   "source": [
    "num_epochs = 100\n",
    "sequence_length = 10  # Number of previous days to consider\n",
    "\n",
    "best_loss = float('inf')\n",
    "best_model = None\n",
    "train_losses = []\n",
    "val_losses = []\n",
    "\n",
    "for epoch in range(num_epochs):\n",
    "    model.train()  # Set the model to training mode\n",
    "    total_loss = 0\n",
    "\n",
    "    # Loop through each sequence in the training data\n",
    "    for i in range(sequence_length, X_train_tensor.shape[0]):\n",
    "        # Extract the current sequence and target\n",
    "        input_seq = X_train_tensor[i - sequence_length:i].view(1, sequence_length, -1)\n",
    "        target_seq = y_train_tensor[i]\n",
    "\n",
    "        # Forward pass\n",
    "        output = model(input_seq)\n",
    "        loss = criterion(output, target_seq.unsqueeze(0))\n",
    "\n",
    "        # Backward and optimize\n",
    "        optimizer.zero_grad()\n",
    "        loss.backward()\n",
    "        optimizer.step()\n",
    "\n",
    "        total_loss += loss.item()\n",
    "\n",
    "    average_loss = total_loss / (X_train_tensor.shape[0] - sequence_length)\n",
    "    train_losses.append(average_loss)\n",
    "    print(f'Epoch [{epoch + 1}/{num_epochs}], Training Loss: {average_loss}')\n",
    "\n",
    "    # Validation stage\n",
    "    model.eval()  # Set the model to evaluation mode\n",
    "    with torch.no_grad():\n",
    "        total_val_loss = 0\n",
    "\n",
    "        for i in range(sequence_length, X_val_tensor.shape[0]):\n",
    "            input_seq = X_val_tensor[i - sequence_length:i].view(1, sequence_length, -1)\n",
    "            target_seq = y_val_tensor[i]\n",
    "\n",
    "            output = model(input_seq)\n",
    "            val_loss = criterion(output, target_seq.unsqueeze(0))\n",
    "\n",
    "            total_val_loss += val_loss.item()\n",
    "\n",
    "        average_val_loss = total_val_loss / (X_val_tensor.shape[0] - sequence_length)\n",
    "        val_losses.append(average_val_loss)\n",
    "        print(f'Epoch [{epoch + 1}/{num_epochs}], Validation Loss: {average_val_loss}')\n",
    "\n",
    "        # Check if current model is the best based on validation loss\n",
    "        if average_val_loss < best_loss:\n",
    "            best_loss = average_val_loss\n",
    "            best_model = copy.deepcopy(model)\n",
    "\n",
    "# After training, use the best model for testing\n",
    "model = best_model"
   ],
   "metadata": {
    "collapsed": false,
    "ExecuteTime": {
     "start_time": "2023-06-07T10:52:26.272553Z",
     "end_time": "2023-06-07T10:59:06.610026Z"
    }
   }
  },
  {
   "cell_type": "code",
   "execution_count": null,
   "outputs": [],
   "source": [
    "def plot_losses(train_losses, val_losses):\n",
    "    fig, ax = plt.subplots(figsize=(12, 6))\n",
    "    ax.plot(train_losses, label='Training Loss')\n",
    "    ax.plot(val_losses, label='Validation Loss')\n",
    "    ax.set_xlabel('Epoch')\n",
    "    ax.set_ylabel('Loss')\n",
    "    ax.legend()\n",
    "    plt.show()\n",
    "plot_losses(train_losses, val_losses)"
   ],
   "metadata": {
    "collapsed": false,
    "ExecuteTime": {
     "start_time": "2023-06-07T11:29:40.798333Z",
     "end_time": "2023-06-07T11:29:40.955675Z"
    }
   }
  },
  {
   "cell_type": "code",
   "execution_count": null,
   "outputs": [],
   "source": [
    "model.eval()  # Set the model to evaluation mode\n",
    "\n",
    "with torch.no_grad():\n",
    "    test_loss = 0.0\n",
    "    predictions = []\n",
    "\n",
    "    for i in range(sequence_length, X_test_tensor.shape[0]):\n",
    "        input_seq = X_test_tensor[i - sequence_length:i].view(1, sequence_length, -1)\n",
    "        target_seq = y_test_tensor[i]\n",
    "\n",
    "        output = model(input_seq)\n",
    "        loss = criterion(output, target_seq.unsqueeze(0))\n",
    "\n",
    "        test_loss += loss.item()\n",
    "\n",
    "        # Extract the scalar value from the tensor and append it to predictions\n",
    "        predictions.append(output.squeeze().tolist())\n",
    "\n",
    "    average_test_loss = test_loss / (X_test_tensor.shape[0] - sequence_length)\n",
    "    print(f'Test Loss: {average_test_loss}')\n",
    "\n",
    "    # Convert the predictions and target values to numpy arrays\n",
    "    predictions = np.array(predictions)\n",
    "    targets = y_test_tensor[sequence_length:].numpy()\n",
    "\n",
    "    # Evaluate the performance using appropriate metrics\n",
    "    # For example, calculate mean squared error (MSE)\n",
    "    mse = mean_squared_error(targets, predictions)\n",
    "    metric = R2Score()\n",
    "    r2 = metric.update(torch.tensor(predictions), torch.tensor(targets)).compute()\n",
    "    print(f'Mean Squared Error (MSE): {mse}')\n",
    "    print(f'R2 Score: {r2}')"
   ],
   "metadata": {
    "collapsed": false,
    "ExecuteTime": {
     "start_time": "2023-06-07T11:29:42.167101Z",
     "end_time": "2023-06-07T11:29:44.081810Z"
    }
   }
  },
  {
   "cell_type": "code",
   "execution_count": null,
   "outputs": [],
   "source": [],
   "metadata": {
    "collapsed": false,
    "ExecuteTime": {
     "start_time": "2023-06-07T11:29:50.774388Z",
     "end_time": "2023-06-07T11:29:50.781270Z"
    }
   }
  },
  {
   "cell_type": "code",
   "execution_count": null,
   "outputs": [],
   "source": [
    "def prediction(input):\n",
    "    model.eval()\n",
    "\n",
    "    with torch.no_grad():\n",
    "        input_seq = torch.tensor(input).view(1, sequence_length, -1)\n",
    "        output = model(input_seq)\n",
    "        return output.squeeze().tolist()"
   ],
   "metadata": {
    "collapsed": false,
    "ExecuteTime": {
     "start_time": "2023-06-07T11:29:50.970175Z",
     "end_time": "2023-06-07T11:29:50.974005Z"
    }
   }
  },
  {
   "cell_type": "code",
   "execution_count": null,
   "outputs": [],
   "source": [
    "pred = prediction(X_test_tensor[-sequence_length:])"
   ],
   "metadata": {
    "collapsed": false,
    "ExecuteTime": {
     "start_time": "2023-06-07T11:30:05.822139Z",
     "end_time": "2023-06-07T11:30:05.837688Z"
    }
   }
  },
  {
   "cell_type": "code",
   "execution_count": null,
   "outputs": [],
   "source": [
    "pred"
   ],
   "metadata": {
    "collapsed": false,
    "ExecuteTime": {
     "start_time": "2023-06-07T11:30:06.606259Z",
     "end_time": "2023-06-07T11:30:06.609147Z"
    }
   }
  },
  {
   "cell_type": "code",
   "execution_count": null,
   "outputs": [],
   "source": [
    "y_test_tensor[-1]"
   ],
   "metadata": {
    "collapsed": false,
    "ExecuteTime": {
     "start_time": "2023-06-07T11:30:07.257100Z",
     "end_time": "2023-06-07T11:30:07.266004Z"
    }
   }
  },
  {
   "cell_type": "code",
   "execution_count": null,
   "outputs": [],
   "source": [
    "if not os.path.exists('master_df.pkl'):\n",
    "    print('does not exist')\n",
    "else:\n",
    "    print('exists')"
   ],
   "metadata": {
    "collapsed": false,
    "ExecuteTime": {
     "start_time": "2023-06-13T10:52:46.267901Z",
     "end_time": "2023-06-13T10:52:46.274414Z"
    }
   }
  },
  {
   "cell_type": "code",
   "execution_count": null,
   "outputs": [],
   "source": [],
   "metadata": {
    "collapsed": false,
    "ExecuteTime": {
     "start_time": "2023-06-07T12:13:04.741373Z",
     "end_time": "2023-06-07T12:13:04.749586Z"
    }
   }
  },
  {
   "cell_type": "code",
   "execution_count": null,
   "outputs": [],
   "source": [],
   "metadata": {
    "collapsed": false
   }
  },
  {
   "cell_type": "markdown",
   "source": [
    "# Autogloun"
   ],
   "metadata": {
    "collapsed": false
   }
  },
  {
   "cell_type": "code",
   "execution_count": 2,
   "outputs": [],
   "source": [
    "from autogluon.tabular import TabularDataset, TabularPredictor\n",
    "from autogluon.common.utils.utils import setup_outputdir\n",
    "from autogluon.core.utils.loaders import load_pkl\n",
    "from autogluon.core.utils.savers import save_pkl\n",
    "from autogluon.features.generators import AutoMLPipelineFeatureGenerator\n",
    "import os.path"
   ],
   "metadata": {
    "collapsed": false,
    "ExecuteTime": {
     "start_time": "2023-06-20T13:51:43.468272Z",
     "end_time": "2023-06-20T13:51:43.629493Z"
    }
   }
  },
  {
   "cell_type": "code",
   "execution_count": 3,
   "outputs": [],
   "source": [
    "imp_features = list(set([\"day_8_error\", \"gfs-ens-bc_9\", \"ecmwf_diff_8\", \"noon\", \"cmc-ens_9\",\n",
    "                    \"gfs-ens-bc_10\", \"gfs-ens-bc_9\", \"ecmwf_diff_9\", \"cmc-ens_10\",\n",
    "                    \"noon\", \"gfs-ens-bc_10\", \"gfs-ens-bc_11\", \"gfs-ens-bc_9\",\n",
    "                    \"cmc-ens_11\", \"gfs-ens-bc_11\", \"gfs-ens-bc_12\", \"gfs-ens-bc_10\",\n",
    "                    \"gfs-ens-bc_12\", \"gfs-ens-bc_13\"]))"
   ],
   "metadata": {
    "collapsed": false,
    "ExecuteTime": {
     "start_time": "2023-06-20T13:51:43.659461Z",
     "end_time": "2023-06-20T13:51:43.691239Z"
    }
   }
  },
  {
   "cell_type": "code",
   "execution_count": 4,
   "outputs": [],
   "source": [
    "labels = ['ecmwf-eps_9', 'ecmwf-eps_10', 'ecmwf-eps_11', 'ecmwf-eps_12', 'ecmwf-eps_13',\n",
    "          'ecmwf-eps_14']"
   ],
   "metadata": {
    "collapsed": false,
    "ExecuteTime": {
     "start_time": "2023-06-20T13:51:44.311363Z",
     "end_time": "2023-06-20T13:51:44.319400Z"
    }
   }
  },
  {
   "cell_type": "code",
   "execution_count": 5,
   "outputs": [],
   "source": [
    "#y = master_df.iloc[:, -6:].copy()\n",
    "#y = y.reset_index(drop=True)\n",
    "#X = master_df.iloc[:, :-6].copy()\n",
    "#X['Date'] = X.index\n",
    "#X = X.reset_index(drop=True)"
   ],
   "metadata": {
    "collapsed": false,
    "ExecuteTime": {
     "start_time": "2023-06-20T13:51:44.805994Z",
     "end_time": "2023-06-20T13:51:44.817734Z"
    }
   }
  },
  {
   "cell_type": "code",
   "execution_count": 6,
   "outputs": [],
   "source": [
    "#auto_ml_pipeline_feature_generator = AutoMLPipelineFeatureGenerator()\n",
    "#X = auto_ml_pipeline_feature_generator.fit_transform(X=X)"
   ],
   "metadata": {
    "collapsed": false,
    "ExecuteTime": {
     "start_time": "2023-06-20T13:51:45.004887Z",
     "end_time": "2023-06-20T13:51:45.017987Z"
    }
   }
  },
  {
   "cell_type": "code",
   "execution_count": 6,
   "outputs": [],
   "source": [],
   "metadata": {
    "collapsed": false,
    "ExecuteTime": {
     "start_time": "2023-06-20T13:51:46.135179Z",
     "end_time": "2023-06-20T13:51:46.149112Z"
    }
   }
  },
  {
   "cell_type": "code",
   "execution_count": 7,
   "outputs": [],
   "source": [
    "#df = pd.concat([X, y], axis=1)"
   ],
   "metadata": {
    "collapsed": false,
    "ExecuteTime": {
     "start_time": "2023-06-20T13:51:46.935460Z",
     "end_time": "2023-06-20T13:51:46.946971Z"
    }
   }
  },
  {
   "cell_type": "code",
   "execution_count": 8,
   "outputs": [],
   "source": [
    "degree_days = 'gw_hdd'"
   ],
   "metadata": {
    "collapsed": false,
    "ExecuteTime": {
     "start_time": "2023-06-20T13:51:47.250915Z",
     "end_time": "2023-06-20T13:51:47.270729Z"
    }
   }
  },
  {
   "cell_type": "code",
   "execution_count": 9,
   "outputs": [],
   "source": [
    "master_df = pd.read_pickle(f'master_df_{degree_days}.pkl')"
   ],
   "metadata": {
    "collapsed": false,
    "ExecuteTime": {
     "start_time": "2023-06-20T13:51:47.745950Z",
     "end_time": "2023-06-20T13:51:47.754360Z"
    }
   }
  },
  {
   "cell_type": "code",
   "execution_count": 11,
   "outputs": [
    {
     "data": {
      "text/plain": "                     gfs-ens-bc_9  gfs-ens-bc_10  gfs-ens-bc_11  \\\n2018-07-11 00:00:00         0.009          0.005          0.002   \n2018-07-11 12:00:00         0.003          0.002          0.004   \n2018-07-12 00:00:00         0.004          0.010          0.013   \n2018-07-12 12:00:00         0.009          0.010          0.009   \n2018-07-13 00:00:00         0.006          0.009          0.008   \n...                           ...            ...            ...   \n2023-05-15 00:00:00         0.592          0.056         -0.003   \n2023-05-15 12:00:00        -0.270          0.220          0.588   \n2023-05-16 00:00:00        -0.490         -0.434         -0.316   \n2023-05-16 12:00:00        -0.536         -0.381         -0.049   \n2023-05-17 00:00:00        -0.373         -0.228         -0.053   \n\n                     gfs-ens-bc_12  gfs-ens-bc_13  gfs-ens-bc_14  cmc-ens_9  \\\n2018-07-11 00:00:00          0.004          0.012          0.012     -0.008   \n2018-07-11 12:00:00          0.008          0.012          0.013     -0.003   \n2018-07-12 00:00:00          0.011          0.009          0.012     -0.007   \n2018-07-12 12:00:00          0.009          0.010          0.008     -0.008   \n2018-07-13 00:00:00          0.008          0.008          0.006     -0.007   \n...                            ...            ...            ...        ...   \n2023-05-15 00:00:00          0.069         -0.023         -0.163     -0.752   \n2023-05-15 12:00:00          0.535          0.046         -0.098     -0.139   \n2023-05-16 00:00:00          0.016          0.219          0.222      0.330   \n2023-05-16 12:00:00          0.085          0.125          0.201     -0.360   \n2023-05-17 00:00:00         -0.076         -0.273         -0.198      0.325   \n\n                     cmc-ens_10  cmc-ens_11  cmc-ens_12  ...  error_12  \\\n2018-07-11 00:00:00      -0.005      -0.001      -0.003  ...     0.000   \n2018-07-11 12:00:00      -0.002      -0.004      -0.008  ...     0.000   \n2018-07-12 00:00:00      -0.011      -0.013      -0.011  ...     0.000   \n2018-07-12 12:00:00      -0.009      -0.009      -0.010  ...     0.001   \n2018-07-13 00:00:00      -0.009      -0.009      -0.010  ...     0.000   \n...                         ...         ...         ...  ...       ...   \n2023-05-15 00:00:00      -0.071      -0.003       0.156  ...     0.004   \n2023-05-15 12:00:00      -0.626      -0.916      -0.714  ...    -0.153   \n2023-05-16 00:00:00      -0.207      -0.039       0.085  ...     0.388   \n2023-05-16 12:00:00      -0.185      -0.309      -0.252  ...    -0.011   \n2023-05-17 00:00:00       0.155       0.067      -0.282  ...    -0.078   \n\n                     error_13  error_14  noon  ecmwf-eps_9  ecmwf-eps_10  \\\n2018-07-11 00:00:00     0.000     0.000   0.0        0.002         0.000   \n2018-07-11 12:00:00     0.001    -0.001   1.0        0.003         0.001   \n2018-07-12 00:00:00    -0.001     0.000   0.0        0.000         0.000   \n2018-07-12 12:00:00     0.001    -0.001   1.0        0.000         0.000   \n2018-07-13 00:00:00     0.001     0.001   0.0       -0.001        -0.001   \n...                       ...       ...   ...          ...           ...   \n2023-05-15 00:00:00    -0.137    -0.039   0.0        0.458         0.039   \n2023-05-15 12:00:00    -0.300    -0.210   1.0        0.478         0.590   \n2023-05-16 00:00:00     0.165    -0.251   0.0        0.015        -0.002   \n2023-05-16 12:00:00     0.082     0.179   1.0       -0.464        -0.365   \n2023-05-17 00:00:00     0.174     0.379   0.0        0.047         0.046   \n\n                     ecmwf-eps_11  ecmwf-eps_12  ecmwf-eps_13  ecmwf-eps_14  \n2018-07-11 00:00:00         0.000         0.000         0.001        -0.001  \n2018-07-11 12:00:00         0.000        -0.001         0.000         0.001  \n2018-07-12 00:00:00         0.000         0.001         0.001        -0.001  \n2018-07-12 12:00:00         0.000         0.001         0.001        -0.001  \n2018-07-13 00:00:00        -0.001         0.000         0.003         0.003  \n...                           ...           ...           ...           ...  \n2023-05-15 00:00:00        -0.115        -0.153        -0.300        -0.210  \n2023-05-15 12:00:00         0.388         0.165        -0.251        -0.325  \n2023-05-16 00:00:00        -0.003        -0.011         0.082         0.179  \n2023-05-16 12:00:00        -0.078         0.174         0.379         0.271  \n2023-05-17 00:00:00        -0.114        -0.239        -0.363        -0.118  \n\n[3482 rows x 28 columns]",
      "text/html": "<div>\n<style scoped>\n    .dataframe tbody tr th:only-of-type {\n        vertical-align: middle;\n    }\n\n    .dataframe tbody tr th {\n        vertical-align: top;\n    }\n\n    .dataframe thead th {\n        text-align: right;\n    }\n</style>\n<table border=\"1\" class=\"dataframe\">\n  <thead>\n    <tr style=\"text-align: right;\">\n      <th></th>\n      <th>gfs-ens-bc_9</th>\n      <th>gfs-ens-bc_10</th>\n      <th>gfs-ens-bc_11</th>\n      <th>gfs-ens-bc_12</th>\n      <th>gfs-ens-bc_13</th>\n      <th>gfs-ens-bc_14</th>\n      <th>cmc-ens_9</th>\n      <th>cmc-ens_10</th>\n      <th>cmc-ens_11</th>\n      <th>cmc-ens_12</th>\n      <th>...</th>\n      <th>error_12</th>\n      <th>error_13</th>\n      <th>error_14</th>\n      <th>noon</th>\n      <th>ecmwf-eps_9</th>\n      <th>ecmwf-eps_10</th>\n      <th>ecmwf-eps_11</th>\n      <th>ecmwf-eps_12</th>\n      <th>ecmwf-eps_13</th>\n      <th>ecmwf-eps_14</th>\n    </tr>\n  </thead>\n  <tbody>\n    <tr>\n      <th>2018-07-11 00:00:00</th>\n      <td>0.009</td>\n      <td>0.005</td>\n      <td>0.002</td>\n      <td>0.004</td>\n      <td>0.012</td>\n      <td>0.012</td>\n      <td>-0.008</td>\n      <td>-0.005</td>\n      <td>-0.001</td>\n      <td>-0.003</td>\n      <td>...</td>\n      <td>0.000</td>\n      <td>0.000</td>\n      <td>0.000</td>\n      <td>0.0</td>\n      <td>0.002</td>\n      <td>0.000</td>\n      <td>0.000</td>\n      <td>0.000</td>\n      <td>0.001</td>\n      <td>-0.001</td>\n    </tr>\n    <tr>\n      <th>2018-07-11 12:00:00</th>\n      <td>0.003</td>\n      <td>0.002</td>\n      <td>0.004</td>\n      <td>0.008</td>\n      <td>0.012</td>\n      <td>0.013</td>\n      <td>-0.003</td>\n      <td>-0.002</td>\n      <td>-0.004</td>\n      <td>-0.008</td>\n      <td>...</td>\n      <td>0.000</td>\n      <td>0.001</td>\n      <td>-0.001</td>\n      <td>1.0</td>\n      <td>0.003</td>\n      <td>0.001</td>\n      <td>0.000</td>\n      <td>-0.001</td>\n      <td>0.000</td>\n      <td>0.001</td>\n    </tr>\n    <tr>\n      <th>2018-07-12 00:00:00</th>\n      <td>0.004</td>\n      <td>0.010</td>\n      <td>0.013</td>\n      <td>0.011</td>\n      <td>0.009</td>\n      <td>0.012</td>\n      <td>-0.007</td>\n      <td>-0.011</td>\n      <td>-0.013</td>\n      <td>-0.011</td>\n      <td>...</td>\n      <td>0.000</td>\n      <td>-0.001</td>\n      <td>0.000</td>\n      <td>0.0</td>\n      <td>0.000</td>\n      <td>0.000</td>\n      <td>0.000</td>\n      <td>0.001</td>\n      <td>0.001</td>\n      <td>-0.001</td>\n    </tr>\n    <tr>\n      <th>2018-07-12 12:00:00</th>\n      <td>0.009</td>\n      <td>0.010</td>\n      <td>0.009</td>\n      <td>0.009</td>\n      <td>0.010</td>\n      <td>0.008</td>\n      <td>-0.008</td>\n      <td>-0.009</td>\n      <td>-0.009</td>\n      <td>-0.010</td>\n      <td>...</td>\n      <td>0.001</td>\n      <td>0.001</td>\n      <td>-0.001</td>\n      <td>1.0</td>\n      <td>0.000</td>\n      <td>0.000</td>\n      <td>0.000</td>\n      <td>0.001</td>\n      <td>0.001</td>\n      <td>-0.001</td>\n    </tr>\n    <tr>\n      <th>2018-07-13 00:00:00</th>\n      <td>0.006</td>\n      <td>0.009</td>\n      <td>0.008</td>\n      <td>0.008</td>\n      <td>0.008</td>\n      <td>0.006</td>\n      <td>-0.007</td>\n      <td>-0.009</td>\n      <td>-0.009</td>\n      <td>-0.010</td>\n      <td>...</td>\n      <td>0.000</td>\n      <td>0.001</td>\n      <td>0.001</td>\n      <td>0.0</td>\n      <td>-0.001</td>\n      <td>-0.001</td>\n      <td>-0.001</td>\n      <td>0.000</td>\n      <td>0.003</td>\n      <td>0.003</td>\n    </tr>\n    <tr>\n      <th>...</th>\n      <td>...</td>\n      <td>...</td>\n      <td>...</td>\n      <td>...</td>\n      <td>...</td>\n      <td>...</td>\n      <td>...</td>\n      <td>...</td>\n      <td>...</td>\n      <td>...</td>\n      <td>...</td>\n      <td>...</td>\n      <td>...</td>\n      <td>...</td>\n      <td>...</td>\n      <td>...</td>\n      <td>...</td>\n      <td>...</td>\n      <td>...</td>\n      <td>...</td>\n      <td>...</td>\n    </tr>\n    <tr>\n      <th>2023-05-15 00:00:00</th>\n      <td>0.592</td>\n      <td>0.056</td>\n      <td>-0.003</td>\n      <td>0.069</td>\n      <td>-0.023</td>\n      <td>-0.163</td>\n      <td>-0.752</td>\n      <td>-0.071</td>\n      <td>-0.003</td>\n      <td>0.156</td>\n      <td>...</td>\n      <td>0.004</td>\n      <td>-0.137</td>\n      <td>-0.039</td>\n      <td>0.0</td>\n      <td>0.458</td>\n      <td>0.039</td>\n      <td>-0.115</td>\n      <td>-0.153</td>\n      <td>-0.300</td>\n      <td>-0.210</td>\n    </tr>\n    <tr>\n      <th>2023-05-15 12:00:00</th>\n      <td>-0.270</td>\n      <td>0.220</td>\n      <td>0.588</td>\n      <td>0.535</td>\n      <td>0.046</td>\n      <td>-0.098</td>\n      <td>-0.139</td>\n      <td>-0.626</td>\n      <td>-0.916</td>\n      <td>-0.714</td>\n      <td>...</td>\n      <td>-0.153</td>\n      <td>-0.300</td>\n      <td>-0.210</td>\n      <td>1.0</td>\n      <td>0.478</td>\n      <td>0.590</td>\n      <td>0.388</td>\n      <td>0.165</td>\n      <td>-0.251</td>\n      <td>-0.325</td>\n    </tr>\n    <tr>\n      <th>2023-05-16 00:00:00</th>\n      <td>-0.490</td>\n      <td>-0.434</td>\n      <td>-0.316</td>\n      <td>0.016</td>\n      <td>0.219</td>\n      <td>0.222</td>\n      <td>0.330</td>\n      <td>-0.207</td>\n      <td>-0.039</td>\n      <td>0.085</td>\n      <td>...</td>\n      <td>0.388</td>\n      <td>0.165</td>\n      <td>-0.251</td>\n      <td>0.0</td>\n      <td>0.015</td>\n      <td>-0.002</td>\n      <td>-0.003</td>\n      <td>-0.011</td>\n      <td>0.082</td>\n      <td>0.179</td>\n    </tr>\n    <tr>\n      <th>2023-05-16 12:00:00</th>\n      <td>-0.536</td>\n      <td>-0.381</td>\n      <td>-0.049</td>\n      <td>0.085</td>\n      <td>0.125</td>\n      <td>0.201</td>\n      <td>-0.360</td>\n      <td>-0.185</td>\n      <td>-0.309</td>\n      <td>-0.252</td>\n      <td>...</td>\n      <td>-0.011</td>\n      <td>0.082</td>\n      <td>0.179</td>\n      <td>1.0</td>\n      <td>-0.464</td>\n      <td>-0.365</td>\n      <td>-0.078</td>\n      <td>0.174</td>\n      <td>0.379</td>\n      <td>0.271</td>\n    </tr>\n    <tr>\n      <th>2023-05-17 00:00:00</th>\n      <td>-0.373</td>\n      <td>-0.228</td>\n      <td>-0.053</td>\n      <td>-0.076</td>\n      <td>-0.273</td>\n      <td>-0.198</td>\n      <td>0.325</td>\n      <td>0.155</td>\n      <td>0.067</td>\n      <td>-0.282</td>\n      <td>...</td>\n      <td>-0.078</td>\n      <td>0.174</td>\n      <td>0.379</td>\n      <td>0.0</td>\n      <td>0.047</td>\n      <td>0.046</td>\n      <td>-0.114</td>\n      <td>-0.239</td>\n      <td>-0.363</td>\n      <td>-0.118</td>\n    </tr>\n  </tbody>\n</table>\n<p>3482 rows × 28 columns</p>\n</div>"
     },
     "metadata": {},
     "output_type": "display_data"
    }
   ],
   "source": [
    "display(master_df)"
   ],
   "metadata": {
    "collapsed": false,
    "ExecuteTime": {
     "start_time": "2023-06-20T13:51:54.738647Z",
     "end_time": "2023-06-20T13:51:54.770631Z"
    }
   }
  },
  {
   "cell_type": "code",
   "execution_count": 12,
   "outputs": [],
   "source": [
    "train_len = 0.8\n",
    "train_data = TabularDataset(master_df[:int(len(master_df)*train_len)])\n",
    "test_data = TabularDataset(master_df[int(len(master_df)*train_len):])"
   ],
   "metadata": {
    "collapsed": false,
    "ExecuteTime": {
     "start_time": "2023-06-20T13:52:05.948134Z",
     "end_time": "2023-06-20T13:52:05.991180Z"
    }
   }
  },
  {
   "cell_type": "code",
   "execution_count": 13,
   "outputs": [
    {
     "data": {
      "text/plain": "                     gfs-ens-bc_9  gfs-ens-bc_10  gfs-ens-bc_11  \\\n2022-06-03 00:00:00        -0.311         -0.296         -0.325   \n2022-06-03 12:00:00        -0.258         -0.146         -0.059   \n2022-06-04 00:00:00        -0.238         -0.130          0.000   \n2022-06-04 12:00:00        -0.057          0.026         -0.024   \n2022-06-05 00:00:00         0.153          0.310          0.418   \n...                           ...            ...            ...   \n2023-05-15 00:00:00         0.592          0.056         -0.003   \n2023-05-15 12:00:00        -0.270          0.220          0.588   \n2023-05-16 00:00:00        -0.490         -0.434         -0.316   \n2023-05-16 12:00:00        -0.536         -0.381         -0.049   \n2023-05-17 00:00:00        -0.373         -0.228         -0.053   \n\n                     gfs-ens-bc_12  gfs-ens-bc_13  gfs-ens-bc_14  cmc-ens_9  \\\n2022-06-03 00:00:00         -0.113          0.131          0.249      0.272   \n2022-06-03 12:00:00          0.019          0.062          0.040     -0.070   \n2022-06-04 00:00:00          0.035          0.035          0.089      0.201   \n2022-06-04 12:00:00         -0.064         -0.061          0.033     -0.119   \n2022-06-05 00:00:00          0.257          0.019         -0.017     -0.160   \n...                            ...            ...            ...        ...   \n2023-05-15 00:00:00          0.069         -0.023         -0.163     -0.752   \n2023-05-15 12:00:00          0.535          0.046         -0.098     -0.139   \n2023-05-16 00:00:00          0.016          0.219          0.222      0.330   \n2023-05-16 12:00:00          0.085          0.125          0.201     -0.360   \n2023-05-17 00:00:00         -0.076         -0.273         -0.198      0.325   \n\n                     cmc-ens_10  cmc-ens_11  cmc-ens_12  ...  error_12  \\\n2022-06-03 00:00:00       0.178       0.121       0.060  ...     0.016   \n2022-06-03 12:00:00      -0.170      -0.144      -0.096  ...     0.021   \n2022-06-04 00:00:00      -0.113      -0.270      -0.269  ...    -0.028   \n2022-06-04 12:00:00      -0.236      -0.202      -0.056  ...     0.072   \n2022-06-05 00:00:00      -0.389      -0.462      -0.334  ...    -0.228   \n...                         ...         ...         ...  ...       ...   \n2023-05-15 00:00:00      -0.071      -0.003       0.156  ...     0.004   \n2023-05-15 12:00:00      -0.626      -0.916      -0.714  ...    -0.153   \n2023-05-16 00:00:00      -0.207      -0.039       0.085  ...     0.388   \n2023-05-16 12:00:00      -0.185      -0.309      -0.252  ...    -0.011   \n2023-05-17 00:00:00       0.155       0.067      -0.282  ...    -0.078   \n\n                     error_13  error_14  noon  ecmwf-eps_9  ecmwf-eps_10  \\\n2022-06-03 00:00:00    -0.049    -0.072   0.0       -0.128        -0.068   \n2022-06-03 12:00:00     0.002     0.007   1.0       -0.042        -0.085   \n2022-06-04 00:00:00     0.021     0.030   0.0        0.032         0.000   \n2022-06-04 12:00:00     0.047     0.033   1.0       -0.179        -0.218   \n2022-06-05 00:00:00    -0.159    -0.049   0.0        0.134         0.040   \n...                       ...       ...   ...          ...           ...   \n2023-05-15 00:00:00    -0.137    -0.039   0.0        0.458         0.039   \n2023-05-15 12:00:00    -0.300    -0.210   1.0        0.478         0.590   \n2023-05-16 00:00:00     0.165    -0.251   0.0        0.015        -0.002   \n2023-05-16 12:00:00     0.082     0.179   1.0       -0.464        -0.365   \n2023-05-17 00:00:00     0.174     0.379   0.0        0.047         0.046   \n\n                     ecmwf-eps_11  ecmwf-eps_12  ecmwf-eps_13  ecmwf-eps_14  \n2022-06-03 00:00:00         0.026         0.021         0.002         0.007  \n2022-06-03 12:00:00        -0.028         0.021         0.030        -0.026  \n2022-06-04 00:00:00         0.036         0.072         0.047         0.033  \n2022-06-04 12:00:00        -0.228        -0.159        -0.049        -0.004  \n2022-06-05 00:00:00         0.018         0.068         0.058         0.087  \n...                           ...           ...           ...           ...  \n2023-05-15 00:00:00        -0.115        -0.153        -0.300        -0.210  \n2023-05-15 12:00:00         0.388         0.165        -0.251        -0.325  \n2023-05-16 00:00:00        -0.003        -0.011         0.082         0.179  \n2023-05-16 12:00:00        -0.078         0.174         0.379         0.271  \n2023-05-17 00:00:00        -0.114        -0.239        -0.363        -0.118  \n\n[697 rows x 28 columns]",
      "text/html": "<div>\n<style scoped>\n    .dataframe tbody tr th:only-of-type {\n        vertical-align: middle;\n    }\n\n    .dataframe tbody tr th {\n        vertical-align: top;\n    }\n\n    .dataframe thead th {\n        text-align: right;\n    }\n</style>\n<table border=\"1\" class=\"dataframe\">\n  <thead>\n    <tr style=\"text-align: right;\">\n      <th></th>\n      <th>gfs-ens-bc_9</th>\n      <th>gfs-ens-bc_10</th>\n      <th>gfs-ens-bc_11</th>\n      <th>gfs-ens-bc_12</th>\n      <th>gfs-ens-bc_13</th>\n      <th>gfs-ens-bc_14</th>\n      <th>cmc-ens_9</th>\n      <th>cmc-ens_10</th>\n      <th>cmc-ens_11</th>\n      <th>cmc-ens_12</th>\n      <th>...</th>\n      <th>error_12</th>\n      <th>error_13</th>\n      <th>error_14</th>\n      <th>noon</th>\n      <th>ecmwf-eps_9</th>\n      <th>ecmwf-eps_10</th>\n      <th>ecmwf-eps_11</th>\n      <th>ecmwf-eps_12</th>\n      <th>ecmwf-eps_13</th>\n      <th>ecmwf-eps_14</th>\n    </tr>\n  </thead>\n  <tbody>\n    <tr>\n      <th>2022-06-03 00:00:00</th>\n      <td>-0.311</td>\n      <td>-0.296</td>\n      <td>-0.325</td>\n      <td>-0.113</td>\n      <td>0.131</td>\n      <td>0.249</td>\n      <td>0.272</td>\n      <td>0.178</td>\n      <td>0.121</td>\n      <td>0.060</td>\n      <td>...</td>\n      <td>0.016</td>\n      <td>-0.049</td>\n      <td>-0.072</td>\n      <td>0.0</td>\n      <td>-0.128</td>\n      <td>-0.068</td>\n      <td>0.026</td>\n      <td>0.021</td>\n      <td>0.002</td>\n      <td>0.007</td>\n    </tr>\n    <tr>\n      <th>2022-06-03 12:00:00</th>\n      <td>-0.258</td>\n      <td>-0.146</td>\n      <td>-0.059</td>\n      <td>0.019</td>\n      <td>0.062</td>\n      <td>0.040</td>\n      <td>-0.070</td>\n      <td>-0.170</td>\n      <td>-0.144</td>\n      <td>-0.096</td>\n      <td>...</td>\n      <td>0.021</td>\n      <td>0.002</td>\n      <td>0.007</td>\n      <td>1.0</td>\n      <td>-0.042</td>\n      <td>-0.085</td>\n      <td>-0.028</td>\n      <td>0.021</td>\n      <td>0.030</td>\n      <td>-0.026</td>\n    </tr>\n    <tr>\n      <th>2022-06-04 00:00:00</th>\n      <td>-0.238</td>\n      <td>-0.130</td>\n      <td>0.000</td>\n      <td>0.035</td>\n      <td>0.035</td>\n      <td>0.089</td>\n      <td>0.201</td>\n      <td>-0.113</td>\n      <td>-0.270</td>\n      <td>-0.269</td>\n      <td>...</td>\n      <td>-0.028</td>\n      <td>0.021</td>\n      <td>0.030</td>\n      <td>0.0</td>\n      <td>0.032</td>\n      <td>0.000</td>\n      <td>0.036</td>\n      <td>0.072</td>\n      <td>0.047</td>\n      <td>0.033</td>\n    </tr>\n    <tr>\n      <th>2022-06-04 12:00:00</th>\n      <td>-0.057</td>\n      <td>0.026</td>\n      <td>-0.024</td>\n      <td>-0.064</td>\n      <td>-0.061</td>\n      <td>0.033</td>\n      <td>-0.119</td>\n      <td>-0.236</td>\n      <td>-0.202</td>\n      <td>-0.056</td>\n      <td>...</td>\n      <td>0.072</td>\n      <td>0.047</td>\n      <td>0.033</td>\n      <td>1.0</td>\n      <td>-0.179</td>\n      <td>-0.218</td>\n      <td>-0.228</td>\n      <td>-0.159</td>\n      <td>-0.049</td>\n      <td>-0.004</td>\n    </tr>\n    <tr>\n      <th>2022-06-05 00:00:00</th>\n      <td>0.153</td>\n      <td>0.310</td>\n      <td>0.418</td>\n      <td>0.257</td>\n      <td>0.019</td>\n      <td>-0.017</td>\n      <td>-0.160</td>\n      <td>-0.389</td>\n      <td>-0.462</td>\n      <td>-0.334</td>\n      <td>...</td>\n      <td>-0.228</td>\n      <td>-0.159</td>\n      <td>-0.049</td>\n      <td>0.0</td>\n      <td>0.134</td>\n      <td>0.040</td>\n      <td>0.018</td>\n      <td>0.068</td>\n      <td>0.058</td>\n      <td>0.087</td>\n    </tr>\n    <tr>\n      <th>...</th>\n      <td>...</td>\n      <td>...</td>\n      <td>...</td>\n      <td>...</td>\n      <td>...</td>\n      <td>...</td>\n      <td>...</td>\n      <td>...</td>\n      <td>...</td>\n      <td>...</td>\n      <td>...</td>\n      <td>...</td>\n      <td>...</td>\n      <td>...</td>\n      <td>...</td>\n      <td>...</td>\n      <td>...</td>\n      <td>...</td>\n      <td>...</td>\n      <td>...</td>\n      <td>...</td>\n    </tr>\n    <tr>\n      <th>2023-05-15 00:00:00</th>\n      <td>0.592</td>\n      <td>0.056</td>\n      <td>-0.003</td>\n      <td>0.069</td>\n      <td>-0.023</td>\n      <td>-0.163</td>\n      <td>-0.752</td>\n      <td>-0.071</td>\n      <td>-0.003</td>\n      <td>0.156</td>\n      <td>...</td>\n      <td>0.004</td>\n      <td>-0.137</td>\n      <td>-0.039</td>\n      <td>0.0</td>\n      <td>0.458</td>\n      <td>0.039</td>\n      <td>-0.115</td>\n      <td>-0.153</td>\n      <td>-0.300</td>\n      <td>-0.210</td>\n    </tr>\n    <tr>\n      <th>2023-05-15 12:00:00</th>\n      <td>-0.270</td>\n      <td>0.220</td>\n      <td>0.588</td>\n      <td>0.535</td>\n      <td>0.046</td>\n      <td>-0.098</td>\n      <td>-0.139</td>\n      <td>-0.626</td>\n      <td>-0.916</td>\n      <td>-0.714</td>\n      <td>...</td>\n      <td>-0.153</td>\n      <td>-0.300</td>\n      <td>-0.210</td>\n      <td>1.0</td>\n      <td>0.478</td>\n      <td>0.590</td>\n      <td>0.388</td>\n      <td>0.165</td>\n      <td>-0.251</td>\n      <td>-0.325</td>\n    </tr>\n    <tr>\n      <th>2023-05-16 00:00:00</th>\n      <td>-0.490</td>\n      <td>-0.434</td>\n      <td>-0.316</td>\n      <td>0.016</td>\n      <td>0.219</td>\n      <td>0.222</td>\n      <td>0.330</td>\n      <td>-0.207</td>\n      <td>-0.039</td>\n      <td>0.085</td>\n      <td>...</td>\n      <td>0.388</td>\n      <td>0.165</td>\n      <td>-0.251</td>\n      <td>0.0</td>\n      <td>0.015</td>\n      <td>-0.002</td>\n      <td>-0.003</td>\n      <td>-0.011</td>\n      <td>0.082</td>\n      <td>0.179</td>\n    </tr>\n    <tr>\n      <th>2023-05-16 12:00:00</th>\n      <td>-0.536</td>\n      <td>-0.381</td>\n      <td>-0.049</td>\n      <td>0.085</td>\n      <td>0.125</td>\n      <td>0.201</td>\n      <td>-0.360</td>\n      <td>-0.185</td>\n      <td>-0.309</td>\n      <td>-0.252</td>\n      <td>...</td>\n      <td>-0.011</td>\n      <td>0.082</td>\n      <td>0.179</td>\n      <td>1.0</td>\n      <td>-0.464</td>\n      <td>-0.365</td>\n      <td>-0.078</td>\n      <td>0.174</td>\n      <td>0.379</td>\n      <td>0.271</td>\n    </tr>\n    <tr>\n      <th>2023-05-17 00:00:00</th>\n      <td>-0.373</td>\n      <td>-0.228</td>\n      <td>-0.053</td>\n      <td>-0.076</td>\n      <td>-0.273</td>\n      <td>-0.198</td>\n      <td>0.325</td>\n      <td>0.155</td>\n      <td>0.067</td>\n      <td>-0.282</td>\n      <td>...</td>\n      <td>-0.078</td>\n      <td>0.174</td>\n      <td>0.379</td>\n      <td>0.0</td>\n      <td>0.047</td>\n      <td>0.046</td>\n      <td>-0.114</td>\n      <td>-0.239</td>\n      <td>-0.363</td>\n      <td>-0.118</td>\n    </tr>\n  </tbody>\n</table>\n<p>697 rows × 28 columns</p>\n</div>"
     },
     "execution_count": 13,
     "metadata": {},
     "output_type": "execute_result"
    }
   ],
   "source": [
    "test_data"
   ],
   "metadata": {
    "collapsed": false,
    "ExecuteTime": {
     "start_time": "2023-06-20T13:52:10.955899Z",
     "end_time": "2023-06-20T13:52:10.999498Z"
    }
   }
  },
  {
   "cell_type": "code",
   "execution_count": 14,
   "outputs": [],
   "source": [
    "#train_data = train_data.loc[:, imp_features + labels]\n",
    "#test_data = test_data.loc[:, imp_features + labels]"
   ],
   "metadata": {
    "collapsed": false,
    "ExecuteTime": {
     "start_time": "2023-06-20T13:52:11.118865Z",
     "end_time": "2023-06-20T13:52:11.156398Z"
    }
   }
  },
  {
   "cell_type": "code",
   "execution_count": 15,
   "outputs": [],
   "source": [
    "save_path = 'models'"
   ],
   "metadata": {
    "collapsed": false,
    "ExecuteTime": {
     "start_time": "2023-06-20T13:52:11.762352Z",
     "end_time": "2023-06-20T13:52:11.777284Z"
    }
   }
  },
  {
   "cell_type": "code",
   "execution_count": 447,
   "outputs": [],
   "source": [],
   "metadata": {
    "collapsed": false,
    "ExecuteTime": {
     "start_time": "2023-06-14T14:15:04.261123Z",
     "end_time": "2023-06-14T14:15:04.275376Z"
    }
   }
  },
  {
   "cell_type": "code",
   "execution_count": 17,
   "outputs": [],
   "source": [
    "class MultilabelPredictor():\n",
    "    \"\"\" Tabular Predictor for predicting multiple columns in table.\n",
    "        Creates multiple TabularPredictor objects which you can also use individually.\n",
    "        You can access the TabularPredictor for a particular label via: `multilabel_predictor.get_predictor(label_i)`\n",
    "\n",
    "        Parameters\n",
    "        ----------\n",
    "        labels : List[str]\n",
    "            The ith element of this list is the column (i.e. `label`) predicted by the ith TabularPredictor stored in this object.\n",
    "        path : str, default = None\n",
    "            Path to directory where models and intermediate outputs should be saved.\n",
    "            If unspecified, a time-stamped folder called \"AutogluonModels/ag-[TIMESTAMP]\" will be created in the working directory to store all models.\n",
    "            Note: To call `fit()` twice and save all results of each fit, you must specify different `path` locations or don't specify `path` at all.\n",
    "            Otherwise files from first `fit()` will be overwritten by second `fit()`.\n",
    "            Caution: when predicting many labels, this directory may grow large as it needs to store many TabularPredictors.\n",
    "        problem_types : List[str], default = None\n",
    "            The ith element is the `problem_type` for the ith TabularPredictor stored in this object.\n",
    "        eval_metrics : List[str], default = None\n",
    "            The ith element is the `eval_metric` for the ith TabularPredictor stored in this object.\n",
    "        consider_labels_correlation : bool, default = True\n",
    "            Whether the predictions of multiple labels should account for label correlations or predict each label independently of the others.\n",
    "            If True, the ordering of `labels` may affect resulting accuracy as each label is predicted conditional on the previous labels appearing earlier in this list (i.e. in an auto-regressive fashion).\n",
    "            Set to False if during inference you may want to individually use just the ith TabularPredictor without predicting all the other labels.\n",
    "        kwargs :\n",
    "            Arguments passed into the initialization of each TabularPredictor.\n",
    "\n",
    "    \"\"\"\n",
    "\n",
    "    multi_predictor_file = 'multilabel_predictor.pkl'\n",
    "\n",
    "    def __init__(self, labels, path=None, problem_types=None, eval_metrics=None, consider_labels_correlation=True, **kwargs):\n",
    "        if len(labels) < 2:\n",
    "            raise ValueError(\"MultilabelPredictor is only intended for predicting MULTIPLE labels (columns), use TabularPredictor for predicting one label (column).\")\n",
    "        if (problem_types is not None) and (len(problem_types) != len(labels)):\n",
    "            raise ValueError(\"If provided, `problem_types` must have same length as `labels`\")\n",
    "        if (eval_metrics is not None) and (len(eval_metrics) != len(labels)):\n",
    "            raise ValueError(\"If provided, `eval_metrics` must have same length as `labels`\")\n",
    "        self.path = setup_outputdir(path, warn_if_exist=False)\n",
    "        self.labels = labels\n",
    "        self.consider_labels_correlation = consider_labels_correlation\n",
    "        self.predictors = {}  # key = label, value = TabularPredictor or str path to the TabularPredictor for this label\n",
    "        if eval_metrics is None:\n",
    "            self.eval_metrics = {}\n",
    "        else:\n",
    "            self.eval_metrics = {labels[i] : eval_metrics[i] for i in range(len(labels))}\n",
    "        problem_type = None\n",
    "        eval_metric = None\n",
    "        for i in range(len(labels)):\n",
    "            label = labels[i]\n",
    "            path_i = self.path + \"Predictor_\" + label\n",
    "            if problem_types is not None:\n",
    "                problem_type = problem_types[i]\n",
    "            if eval_metrics is not None:\n",
    "                eval_metric = eval_metrics[i]\n",
    "            self.predictors[label] = TabularPredictor(label=label, problem_type=problem_type, eval_metric=eval_metric, path=path_i, **kwargs)\n",
    "\n",
    "    def fit(self, train_data, tuning_data=None, **kwargs):\n",
    "        \"\"\" Fits a separate TabularPredictor to predict each of the labels.\n",
    "\n",
    "            Parameters\n",
    "            ----------\n",
    "            train_data, tuning_data : str or autogluon.tabular.TabularDataset or pd.DataFrame\n",
    "                See documentation for `TabularPredictor.fit()`.\n",
    "            kwargs :\n",
    "                Arguments passed into the `fit()` call for each TabularPredictor.\n",
    "        \"\"\"\n",
    "        if isinstance(train_data, str):\n",
    "            train_data = TabularDataset(train_data)\n",
    "        if tuning_data is not None and isinstance(tuning_data, str):\n",
    "            tuning_data = TabularDataset(tuning_data)\n",
    "        train_data_og = train_data.copy()\n",
    "        if tuning_data is not None:\n",
    "            tuning_data_og = tuning_data.copy()\n",
    "        else:\n",
    "            tuning_data_og = None\n",
    "        save_metrics = len(self.eval_metrics) == 0\n",
    "        for i in range(len(self.labels)):\n",
    "            label = self.labels[i]\n",
    "            predictor = self.get_predictor(label)\n",
    "            if not self.consider_labels_correlation:\n",
    "                labels_to_drop = [l for l in self.labels if l != label]\n",
    "            else:\n",
    "                labels_to_drop = [self.labels[j] for j in range(i+1, len(self.labels))]\n",
    "            train_data = train_data_og.drop(labels_to_drop, axis=1)\n",
    "            if tuning_data is not None:\n",
    "                tuning_data = tuning_data_og.drop(labels_to_drop, axis=1)\n",
    "            print(f\"Fitting TabularPredictor for label: {label} ...\")\n",
    "            predictor.fit(train_data=train_data, tuning_data=tuning_data, **kwargs)\n",
    "            self.predictors[label] = predictor.path\n",
    "            if save_metrics:\n",
    "                self.eval_metrics[label] = predictor.eval_metric\n",
    "        self.save()\n",
    "\n",
    "    def predict(self, data, **kwargs):\n",
    "        \"\"\" Returns DataFrame with label columns containing predictions for each label.\n",
    "\n",
    "            Parameters\n",
    "            ----------\n",
    "            data : str or autogluon.tabular.TabularDataset or pd.DataFrame\n",
    "                Data to make predictions for. If label columns are present in this data, they will be ignored. See documentation for `TabularPredictor.predict()`.\n",
    "            kwargs :\n",
    "                Arguments passed into the predict() call for each TabularPredictor.\n",
    "        \"\"\"\n",
    "        return self._predict(data, as_proba=False, **kwargs)\n",
    "\n",
    "    def predict_proba(self, data, **kwargs):\n",
    "        \"\"\" Returns dict where each key is a label and the corresponding value is the `predict_proba()` output for just that label.\n",
    "\n",
    "            Parameters\n",
    "            ----------\n",
    "            data : str or autogluon.tabular.TabularDataset or pd.DataFrame\n",
    "                Data to make predictions for. See documentation for `TabularPredictor.predict()` and `TabularPredictor.predict_proba()`.\n",
    "            kwargs :\n",
    "                Arguments passed into the `predict_proba()` call for each TabularPredictor (also passed into a `predict()` call).\n",
    "        \"\"\"\n",
    "        return self._predict(data, as_proba=True, **kwargs)\n",
    "\n",
    "    def evaluate(self, data, **kwargs):\n",
    "        \"\"\" Returns dict where each key is a label and the corresponding value is the `evaluate()` output for just that label.\n",
    "\n",
    "            Parameters\n",
    "            ----------\n",
    "            data : str or autogluon.tabular.TabularDataset or pd.DataFrame\n",
    "                Data to evalate predictions of all labels for, must contain all labels as columns. See documentation for `TabularPredictor.evaluate()`.\n",
    "            kwargs :\n",
    "                Arguments passed into the `evaluate()` call for each TabularPredictor (also passed into the `predict()` call).\n",
    "        \"\"\"\n",
    "        data = self._get_data(data)\n",
    "        eval_dict = {}\n",
    "        for label in self.labels:\n",
    "            print(f\"Evaluating TabularPredictor for label: {label} ...\")\n",
    "            predictor = self.get_predictor(label)\n",
    "            eval_dict[label] = predictor.evaluate(data, **kwargs)\n",
    "            if self.consider_labels_correlation:\n",
    "                data[label] = predictor.predict(data, **kwargs)\n",
    "        return eval_dict\n",
    "\n",
    "    def feature_imp(self,data, **kwargs):\n",
    "        data = self._get_data(data)\n",
    "        eval_dict = {}\n",
    "        for label in self.labels:\n",
    "            predictor = self.get_predictor(label)\n",
    "            eval_dict[label] = predictor.feature_importance(data, **kwargs)\n",
    "            print(f\"Evaluating feature importance for label: {label} ...\")\n",
    "        return eval_dict\n",
    "\n",
    "    def best_model(self):\n",
    "        for label in self.labels:\n",
    "            predictor = self.get_predictor(label)\n",
    "            best_model = predictor.best_model()\n",
    "            print(f\"Best model for {label}: {best_model}\")\n",
    "\n",
    "    def save(self):\n",
    "        \"\"\" Save MultilabelPredictor to disk. \"\"\"\n",
    "        for label in self.labels:\n",
    "            if not isinstance(self.predictors[label], str):\n",
    "                self.predictors[label] = self.predictors[label].path\n",
    "        save_pkl.save(path=self.path+self.multi_predictor_file, object=self)\n",
    "        print(f\"MultilabelPredictor saved to disk. Load with: MultilabelPredictor.load('{self.path}')\")\n",
    "\n",
    "    @classmethod\n",
    "    def load(cls, path):\n",
    "        \"\"\" Load MultilabelPredictor from disk `path` previously specified when creating this MultilabelPredictor. \"\"\"\n",
    "        path = os.path.expanduser(path)\n",
    "        if path[-1] != os.path.sep:\n",
    "            path = path + os.path.sep\n",
    "        return load_pkl.load(path=path+cls.multi_predictor_file)\n",
    "\n",
    "    def get_predictor(self, label):\n",
    "        \"\"\" Returns TabularPredictor which is used to predict this label. \"\"\"\n",
    "        predictor = self.predictors[label]\n",
    "        if isinstance(predictor, str):\n",
    "            return TabularPredictor.load(path=predictor)\n",
    "        return predictor\n",
    "\n",
    "    def _get_data(self, data):\n",
    "        if isinstance(data, str):\n",
    "            return TabularDataset(data)\n",
    "        return data.copy()\n",
    "\n",
    "    def _predict(self, data, as_proba=False, **kwargs):\n",
    "        data = self._get_data(data)\n",
    "        if as_proba:\n",
    "            predproba_dict = {}\n",
    "        for label in self.labels:\n",
    "            print(f\"Predicting with TabularPredictor for label: {label} ...\")\n",
    "            predictor = self.get_predictor(label)\n",
    "            if as_proba:\n",
    "                predproba_dict[label] = predictor.predict_proba(data, as_multiclass=True, **kwargs)\n",
    "            data[label] = predictor.predict(data, **kwargs)\n",
    "        if not as_proba:\n",
    "            return data[self.labels]\n",
    "        else:\n",
    "            return predproba_dict"
   ],
   "metadata": {
    "collapsed": false,
    "ExecuteTime": {
     "start_time": "2023-06-20T13:52:27.452231Z",
     "end_time": "2023-06-20T13:52:27.475217Z"
    }
   }
  },
  {
   "cell_type": "code",
   "execution_count": null,
   "outputs": [],
   "source": [
    "multi_predictor = MultilabelPredictor(labels=labels, path=save_path)"
   ],
   "metadata": {
    "collapsed": false,
    "ExecuteTime": {
     "start_time": "2023-06-13T10:05:10.897133Z",
     "end_time": "2023-06-13T10:05:10.907180Z"
    }
   }
  },
  {
   "cell_type": "code",
   "execution_count": null,
   "outputs": [],
   "source": [
    "multi_predictor.fit(train_data) # add presets='best_quality' for better results, but longer runtime"
   ],
   "metadata": {
    "collapsed": false,
    "ExecuteTime": {
     "start_time": "2023-06-13T10:05:11.449709Z",
     "end_time": "2023-06-13T10:06:35.437833Z"
    }
   }
  },
  {
   "cell_type": "code",
   "execution_count": null,
   "outputs": [],
   "source": [
    "\n"
   ],
   "metadata": {
    "collapsed": false,
    "ExecuteTime": {
     "start_time": "2023-06-13T10:06:35.810849Z",
     "end_time": "2023-06-13T10:06:50.865292Z"
    }
   }
  },
  {
   "cell_type": "code",
   "execution_count": null,
   "outputs": [],
   "source": [],
   "metadata": {
    "collapsed": false,
    "ExecuteTime": {
     "start_time": "2023-06-13T10:08:33.533764Z",
     "end_time": "2023-06-13T10:08:33.564910Z"
    }
   }
  },
  {
   "cell_type": "code",
   "execution_count": 45,
   "outputs": [
    {
     "data": {
      "text/plain": "                     gfs-ens-bc_9  gfs-ens-bc_10  gfs-ens-bc_11  \\\n2022-06-03 00:00:00        -0.311         -0.296         -0.325   \n2022-06-03 12:00:00        -0.258         -0.146         -0.059   \n2022-06-04 00:00:00        -0.238         -0.130          0.000   \n2022-06-04 12:00:00        -0.057          0.026         -0.024   \n2022-06-05 00:00:00         0.153          0.310          0.418   \n\n                     gfs-ens-bc_12  gfs-ens-bc_13  gfs-ens-bc_14  cmc-ens_9  \\\n2022-06-03 00:00:00         -0.113          0.131          0.249      0.272   \n2022-06-03 12:00:00          0.019          0.062          0.040     -0.070   \n2022-06-04 00:00:00          0.035          0.035          0.089      0.201   \n2022-06-04 12:00:00         -0.064         -0.061          0.033     -0.119   \n2022-06-05 00:00:00          0.257          0.019         -0.017     -0.160   \n\n                     cmc-ens_10  cmc-ens_11  cmc-ens_12  ...  ecmwf_diff_8  \\\n2022-06-03 00:00:00       0.178       0.121       0.060  ...        -0.302   \n2022-06-03 12:00:00      -0.170      -0.144      -0.096  ...        -0.450   \n2022-06-04 00:00:00      -0.113      -0.270      -0.269  ...        -0.147   \n2022-06-04 12:00:00      -0.236      -0.202      -0.056  ...        -0.211   \n2022-06-05 00:00:00      -0.389      -0.462      -0.334  ...        -0.146   \n\n                     ecmwf_diff_9  day_8_error  error_9  error_10  error_11  \\\n2022-06-03 00:00:00        -0.473        0.017   -0.122     0.004     0.088   \n2022-06-03 12:00:00        -0.458       -0.064   -0.128    -0.068     0.026   \n2022-06-04 00:00:00        -0.091        0.081   -0.064    -0.042    -0.085   \n2022-06-04 12:00:00        -0.387       -0.189    0.032     0.000     0.036   \n2022-06-05 00:00:00        -0.114        0.230   -0.189    -0.179    -0.218   \n\n                     error_12  error_13  error_14  noon  \n2022-06-03 00:00:00     0.016    -0.049    -0.072   0.0  \n2022-06-03 12:00:00     0.021     0.002     0.007   1.0  \n2022-06-04 00:00:00    -0.028     0.021     0.030   0.0  \n2022-06-04 12:00:00     0.072     0.047     0.033   1.0  \n2022-06-05 00:00:00    -0.228    -0.159    -0.049   0.0  \n\n[5 rows x 22 columns]",
      "text/html": "<div>\n<style scoped>\n    .dataframe tbody tr th:only-of-type {\n        vertical-align: middle;\n    }\n\n    .dataframe tbody tr th {\n        vertical-align: top;\n    }\n\n    .dataframe thead th {\n        text-align: right;\n    }\n</style>\n<table border=\"1\" class=\"dataframe\">\n  <thead>\n    <tr style=\"text-align: right;\">\n      <th></th>\n      <th>gfs-ens-bc_9</th>\n      <th>gfs-ens-bc_10</th>\n      <th>gfs-ens-bc_11</th>\n      <th>gfs-ens-bc_12</th>\n      <th>gfs-ens-bc_13</th>\n      <th>gfs-ens-bc_14</th>\n      <th>cmc-ens_9</th>\n      <th>cmc-ens_10</th>\n      <th>cmc-ens_11</th>\n      <th>cmc-ens_12</th>\n      <th>...</th>\n      <th>ecmwf_diff_8</th>\n      <th>ecmwf_diff_9</th>\n      <th>day_8_error</th>\n      <th>error_9</th>\n      <th>error_10</th>\n      <th>error_11</th>\n      <th>error_12</th>\n      <th>error_13</th>\n      <th>error_14</th>\n      <th>noon</th>\n    </tr>\n  </thead>\n  <tbody>\n    <tr>\n      <th>2022-06-03 00:00:00</th>\n      <td>-0.311</td>\n      <td>-0.296</td>\n      <td>-0.325</td>\n      <td>-0.113</td>\n      <td>0.131</td>\n      <td>0.249</td>\n      <td>0.272</td>\n      <td>0.178</td>\n      <td>0.121</td>\n      <td>0.060</td>\n      <td>...</td>\n      <td>-0.302</td>\n      <td>-0.473</td>\n      <td>0.017</td>\n      <td>-0.122</td>\n      <td>0.004</td>\n      <td>0.088</td>\n      <td>0.016</td>\n      <td>-0.049</td>\n      <td>-0.072</td>\n      <td>0.0</td>\n    </tr>\n    <tr>\n      <th>2022-06-03 12:00:00</th>\n      <td>-0.258</td>\n      <td>-0.146</td>\n      <td>-0.059</td>\n      <td>0.019</td>\n      <td>0.062</td>\n      <td>0.040</td>\n      <td>-0.070</td>\n      <td>-0.170</td>\n      <td>-0.144</td>\n      <td>-0.096</td>\n      <td>...</td>\n      <td>-0.450</td>\n      <td>-0.458</td>\n      <td>-0.064</td>\n      <td>-0.128</td>\n      <td>-0.068</td>\n      <td>0.026</td>\n      <td>0.021</td>\n      <td>0.002</td>\n      <td>0.007</td>\n      <td>1.0</td>\n    </tr>\n    <tr>\n      <th>2022-06-04 00:00:00</th>\n      <td>-0.238</td>\n      <td>-0.130</td>\n      <td>0.000</td>\n      <td>0.035</td>\n      <td>0.035</td>\n      <td>0.089</td>\n      <td>0.201</td>\n      <td>-0.113</td>\n      <td>-0.270</td>\n      <td>-0.269</td>\n      <td>...</td>\n      <td>-0.147</td>\n      <td>-0.091</td>\n      <td>0.081</td>\n      <td>-0.064</td>\n      <td>-0.042</td>\n      <td>-0.085</td>\n      <td>-0.028</td>\n      <td>0.021</td>\n      <td>0.030</td>\n      <td>0.0</td>\n    </tr>\n    <tr>\n      <th>2022-06-04 12:00:00</th>\n      <td>-0.057</td>\n      <td>0.026</td>\n      <td>-0.024</td>\n      <td>-0.064</td>\n      <td>-0.061</td>\n      <td>0.033</td>\n      <td>-0.119</td>\n      <td>-0.236</td>\n      <td>-0.202</td>\n      <td>-0.056</td>\n      <td>...</td>\n      <td>-0.211</td>\n      <td>-0.387</td>\n      <td>-0.189</td>\n      <td>0.032</td>\n      <td>0.000</td>\n      <td>0.036</td>\n      <td>0.072</td>\n      <td>0.047</td>\n      <td>0.033</td>\n      <td>1.0</td>\n    </tr>\n    <tr>\n      <th>2022-06-05 00:00:00</th>\n      <td>0.153</td>\n      <td>0.310</td>\n      <td>0.418</td>\n      <td>0.257</td>\n      <td>0.019</td>\n      <td>-0.017</td>\n      <td>-0.160</td>\n      <td>-0.389</td>\n      <td>-0.462</td>\n      <td>-0.334</td>\n      <td>...</td>\n      <td>-0.146</td>\n      <td>-0.114</td>\n      <td>0.230</td>\n      <td>-0.189</td>\n      <td>-0.179</td>\n      <td>-0.218</td>\n      <td>-0.228</td>\n      <td>-0.159</td>\n      <td>-0.049</td>\n      <td>0.0</td>\n    </tr>\n  </tbody>\n</table>\n<p>5 rows × 22 columns</p>\n</div>"
     },
     "execution_count": 45,
     "metadata": {},
     "output_type": "execute_result"
    }
   ],
   "source": [
    "multi_predictor = MultilabelPredictor.load(f\"models/{degree_days}\")\n",
    "test_data_nolab = test_data.drop(columns=labels)\n",
    "test_data_nolab.head()"
   ],
   "metadata": {
    "collapsed": false,
    "ExecuteTime": {
     "start_time": "2023-06-21T09:22:57.513271Z",
     "end_time": "2023-06-21T09:22:57.569676Z"
    }
   }
  },
  {
   "cell_type": "code",
   "execution_count": 46,
   "outputs": [],
   "source": [
    "#feature_imp = multi_predictor.feature_imp(train_data)"
   ],
   "metadata": {
    "collapsed": false,
    "ExecuteTime": {
     "start_time": "2023-06-21T09:22:57.712961Z",
     "end_time": "2023-06-21T09:22:57.727811Z"
    }
   }
  },
  {
   "cell_type": "code",
   "execution_count": 46,
   "outputs": [],
   "source": [],
   "metadata": {
    "collapsed": false,
    "ExecuteTime": {
     "start_time": "2023-06-21T09:22:59.528185Z",
     "end_time": "2023-06-21T09:22:59.561669Z"
    }
   }
  },
  {
   "cell_type": "code",
   "execution_count": 47,
   "outputs": [
    {
     "name": "stdout",
     "output_type": "stream",
     "text": [
      "Predicting with TabularPredictor for label: ecmwf-eps_9 ...\n",
      "Predicting with TabularPredictor for label: ecmwf-eps_10 ...\n",
      "Predicting with TabularPredictor for label: ecmwf-eps_11 ...\n",
      "Predicting with TabularPredictor for label: ecmwf-eps_12 ...\n",
      "Predicting with TabularPredictor for label: ecmwf-eps_13 ...\n",
      "Predicting with TabularPredictor for label: ecmwf-eps_14 ...\n",
      "Predictions:  \n",
      "                      ecmwf-eps_9  ecmwf-eps_10  ecmwf-eps_11  ecmwf-eps_12  \\\n",
      "2022-06-03 00:00:00    -0.047812     -0.084168     -0.034573      0.040345   \n",
      "2022-06-03 12:00:00    -0.067423     -0.061415     -0.025522      0.008862   \n",
      "2022-06-04 00:00:00     0.022963     -0.005437     -0.001151      0.013671   \n",
      "2022-06-04 12:00:00    -0.126277     -0.073251     -0.036737     -0.017115   \n",
      "2022-06-05 00:00:00     0.120245      0.062511      0.066605      0.042480   \n",
      "...                          ...           ...           ...           ...   \n",
      "2023-05-15 00:00:00     0.729574      0.480662      0.330412      0.249216   \n",
      "2023-05-15 12:00:00     0.116162      0.164196      0.122265      0.069517   \n",
      "2023-05-16 00:00:00     0.236097      0.220478      0.172690      0.232314   \n",
      "2023-05-16 12:00:00    -0.258646     -0.187849     -0.086250     -0.016356   \n",
      "2023-05-17 00:00:00     0.065454      0.025129      0.014010     -0.068114   \n",
      "\n",
      "                     ecmwf-eps_13  ecmwf-eps_14  \n",
      "2022-06-03 00:00:00      0.096451      0.090657  \n",
      "2022-06-03 12:00:00      0.021810      0.005260  \n",
      "2022-06-04 00:00:00      0.037249      0.033757  \n",
      "2022-06-04 12:00:00      0.003364      0.028717  \n",
      "2022-06-05 00:00:00      0.012402      0.024372  \n",
      "...                           ...           ...  \n",
      "2023-05-15 00:00:00      0.207940      0.046768  \n",
      "2023-05-15 12:00:00     -0.024962     -0.007806  \n",
      "2023-05-16 00:00:00      0.365633      0.299804  \n",
      "2023-05-16 12:00:00      0.001306      0.034894  \n",
      "2023-05-17 00:00:00     -0.142375     -0.052782  \n",
      "\n",
      "[697 rows x 6 columns]\n"
     ]
    }
   ],
   "source": [
    "predictions = multi_predictor.predict(test_data_nolab)\n",
    "print(\"Predictions:  \\n\", predictions)"
   ],
   "metadata": {
    "collapsed": false,
    "ExecuteTime": {
     "start_time": "2023-06-21T09:23:01.679998Z",
     "end_time": "2023-06-21T09:23:03.902580Z"
    }
   }
  },
  {
   "cell_type": "code",
   "execution_count": 48,
   "outputs": [],
   "source": [
    "preds_df = pd.DataFrame(predictions)"
   ],
   "metadata": {
    "collapsed": false,
    "ExecuteTime": {
     "start_time": "2023-06-21T09:23:07.506971Z",
     "end_time": "2023-06-21T09:23:07.542005Z"
    }
   }
  },
  {
   "cell_type": "code",
   "execution_count": 49,
   "outputs": [],
   "source": [
    "preds_df = preds_df.sum(axis=1)"
   ],
   "metadata": {
    "collapsed": false,
    "ExecuteTime": {
     "start_time": "2023-06-21T09:23:11.937840Z",
     "end_time": "2023-06-21T09:23:11.967309Z"
    }
   }
  },
  {
   "cell_type": "code",
   "execution_count": 50,
   "outputs": [
    {
     "data": {
      "text/plain": "2022-06-03 00:00:00    0.060900\n2022-06-03 12:00:00   -0.118428\n2022-06-04 00:00:00    0.101052\n2022-06-04 12:00:00   -0.221299\n2022-06-05 00:00:00    0.328615\n                         ...   \n2023-05-15 00:00:00    2.044572\n2023-05-15 12:00:00    0.439371\n2023-05-16 00:00:00    1.527016\n2023-05-16 12:00:00   -0.512902\n2023-05-17 00:00:00   -0.158679\nLength: 697, dtype: float32"
     },
     "metadata": {},
     "output_type": "display_data"
    }
   ],
   "source": [
    "display(preds_df)"
   ],
   "metadata": {
    "collapsed": false,
    "ExecuteTime": {
     "start_time": "2023-06-21T09:23:19.509872Z",
     "end_time": "2023-06-21T09:23:19.534789Z"
    }
   }
  },
  {
   "cell_type": "code",
   "execution_count": 44,
   "outputs": [],
   "source": [
    "preds_df.to_pickle(\"predictions.pkl\")"
   ],
   "metadata": {
    "collapsed": false,
    "ExecuteTime": {
     "start_time": "2023-06-20T15:03:26.915399Z",
     "end_time": "2023-06-20T15:03:26.953806Z"
    }
   }
  },
  {
   "cell_type": "code",
   "execution_count": 36,
   "outputs": [
    {
     "data": {
      "text/plain": "0.43937117"
     },
     "metadata": {},
     "output_type": "display_data"
    }
   ],
   "source": [
    "display(predictions.iloc[-4].sum())"
   ],
   "metadata": {
    "collapsed": false,
    "ExecuteTime": {
     "start_time": "2023-06-20T13:54:55.368679Z",
     "end_time": "2023-06-20T13:54:55.381393Z"
    }
   }
  },
  {
   "cell_type": "code",
   "execution_count": 35,
   "outputs": [
    {
     "data": {
      "text/plain": "1.0449999999999995"
     },
     "metadata": {},
     "output_type": "display_data"
    }
   ],
   "source": [
    "display(test_data[labels].iloc[-4].sum())"
   ],
   "metadata": {
    "collapsed": false,
    "ExecuteTime": {
     "start_time": "2023-06-20T13:54:49.193347Z",
     "end_time": "2023-06-20T13:54:49.205761Z"
    }
   }
  },
  {
   "cell_type": "code",
   "execution_count": 462,
   "outputs": [
    {
     "name": "stdout",
     "output_type": "stream",
     "text": [
      "Evaluating TabularPredictor for label: ecmwf-eps_9 ...\n"
     ]
    },
    {
     "name": "stderr",
     "output_type": "stream",
     "text": [
      "FutureWarning: Calling `predictor.predict_proba` when problem_type=regression will raise an AssertionError starting in AutoGluon v0.8. Please call `predictor.predict` instead.\n",
      "Evaluation: root_mean_squared_error on test data: -0.44978843997913576\n",
      "\tNote: Scores are always higher_is_better. This metric score can be multiplied by -1 to get the metric value.\n",
      "Evaluations on test data:\n",
      "{\n",
      "    \"root_mean_squared_error\": -0.44978843997913576,\n",
      "    \"mean_squared_error\": -0.2023096407388646,\n",
      "    \"mean_absolute_error\": -0.2931654674506631,\n",
      "    \"r2\": 0.7135151243631976,\n",
      "    \"pearsonr\": 0.8449957007541864,\n",
      "    \"median_absolute_error\": -0.17510813072323828\n",
      "}\n"
     ]
    },
    {
     "name": "stdout",
     "output_type": "stream",
     "text": [
      "Evaluating TabularPredictor for label: ecmwf-eps_10 ...\n"
     ]
    },
    {
     "name": "stderr",
     "output_type": "stream",
     "text": [
      "FutureWarning: Calling `predictor.predict_proba` when problem_type=regression will raise an AssertionError starting in AutoGluon v0.8. Please call `predictor.predict` instead.\n",
      "Evaluation: root_mean_squared_error on test data: -0.6764796014978284\n",
      "\tNote: Scores are always higher_is_better. This metric score can be multiplied by -1 to get the metric value.\n",
      "Evaluations on test data:\n",
      "{\n",
      "    \"root_mean_squared_error\": -0.6764796014978284,\n",
      "    \"mean_squared_error\": -0.45762465124266066,\n",
      "    \"mean_absolute_error\": -0.4420161696425479,\n",
      "    \"r2\": 0.3704471394740121,\n",
      "    \"pearsonr\": 0.6088384278246148,\n",
      "    \"median_absolute_error\": -0.25709498697519306\n",
      "}\n"
     ]
    },
    {
     "name": "stdout",
     "output_type": "stream",
     "text": [
      "Evaluating TabularPredictor for label: ecmwf-eps_11 ...\n"
     ]
    },
    {
     "name": "stderr",
     "output_type": "stream",
     "text": [
      "FutureWarning: Calling `predictor.predict_proba` when problem_type=regression will raise an AssertionError starting in AutoGluon v0.8. Please call `predictor.predict` instead.\n",
      "Evaluation: root_mean_squared_error on test data: -0.7607432298036907\n",
      "\tNote: Scores are always higher_is_better. This metric score can be multiplied by -1 to get the metric value.\n",
      "Evaluations on test data:\n",
      "{\n",
      "    \"root_mean_squared_error\": -0.7607432298036907,\n",
      "    \"mean_squared_error\": -0.578730261692151,\n",
      "    \"mean_absolute_error\": -0.5119904895520613,\n",
      "    \"r2\": 0.13895968873137565,\n",
      "    \"pearsonr\": 0.3929303620593549,\n",
      "    \"median_absolute_error\": -0.33339778470993053\n",
      "}\n"
     ]
    },
    {
     "name": "stdout",
     "output_type": "stream",
     "text": [
      "Evaluating TabularPredictor for label: ecmwf-eps_12 ...\n"
     ]
    },
    {
     "name": "stderr",
     "output_type": "stream",
     "text": [
      "FutureWarning: Calling `predictor.predict_proba` when problem_type=regression will raise an AssertionError starting in AutoGluon v0.8. Please call `predictor.predict` instead.\n",
      "Evaluation: root_mean_squared_error on test data: -0.8066477296445551\n",
      "\tNote: Scores are always higher_is_better. This metric score can be multiplied by -1 to get the metric value.\n",
      "Evaluations on test data:\n",
      "{\n",
      "    \"root_mean_squared_error\": -0.8066477296445551,\n",
      "    \"mean_squared_error\": -0.6506805597407153,\n",
      "    \"mean_absolute_error\": -0.5331466025252021,\n",
      "    \"r2\": 0.06311776616208198,\n",
      "    \"pearsonr\": 0.31275983971403176,\n",
      "    \"median_absolute_error\": -0.3152267552614223\n",
      "}\n"
     ]
    },
    {
     "name": "stdout",
     "output_type": "stream",
     "text": [
      "Evaluating TabularPredictor for label: ecmwf-eps_13 ...\n"
     ]
    },
    {
     "name": "stderr",
     "output_type": "stream",
     "text": [
      "FutureWarning: Calling `predictor.predict_proba` when problem_type=regression will raise an AssertionError starting in AutoGluon v0.8. Please call `predictor.predict` instead.\n",
      "Evaluation: root_mean_squared_error on test data: -0.7993791220276688\n",
      "\tNote: Scores are always higher_is_better. This metric score can be multiplied by -1 to get the metric value.\n",
      "Evaluations on test data:\n",
      "{\n",
      "    \"root_mean_squared_error\": -0.7993791220276688,\n",
      "    \"mean_squared_error\": -0.6390069807337266,\n",
      "    \"mean_absolute_error\": -0.5260176867481682,\n",
      "    \"r2\": 0.034432424683261464,\n",
      "    \"pearsonr\": 0.284838407288626,\n",
      "    \"median_absolute_error\": -0.3217272799015021\n",
      "}\n"
     ]
    },
    {
     "name": "stdout",
     "output_type": "stream",
     "text": [
      "Evaluating TabularPredictor for label: ecmwf-eps_14 ...\n"
     ]
    },
    {
     "name": "stderr",
     "output_type": "stream",
     "text": [
      "FutureWarning: Calling `predictor.predict_proba` when problem_type=regression will raise an AssertionError starting in AutoGluon v0.8. Please call `predictor.predict` instead.\n",
      "Evaluation: root_mean_squared_error on test data: -0.7892413410962222\n",
      "\tNote: Scores are always higher_is_better. This metric score can be multiplied by -1 to get the metric value.\n",
      "Evaluations on test data:\n",
      "{\n",
      "    \"root_mean_squared_error\": -0.7892413410962222,\n",
      "    \"mean_squared_error\": -0.6229018944953635,\n",
      "    \"mean_absolute_error\": -0.5282344038051899,\n",
      "    \"r2\": 0.11105426002895313,\n",
      "    \"pearsonr\": 0.365085831354515,\n",
      "    \"median_absolute_error\": -0.3413858379721635\n",
      "}\n"
     ]
    },
    {
     "name": "stdout",
     "output_type": "stream",
     "text": [
      "Evaluated using metrics: {'ecmwf-eps_9': root_mean_squared_error, 'ecmwf-eps_10': root_mean_squared_error, 'ecmwf-eps_11': root_mean_squared_error, 'ecmwf-eps_12': root_mean_squared_error, 'ecmwf-eps_13': root_mean_squared_error, 'ecmwf-eps_14': root_mean_squared_error}\n"
     ]
    }
   ],
   "source": [
    "evaluations = multi_predictor.evaluate(test_data)\n",
    "#print(evaluations)\n",
    "print(\"Evaluated using metrics:\", multi_predictor.eval_metrics)"
   ],
   "metadata": {
    "collapsed": false,
    "ExecuteTime": {
     "start_time": "2023-06-14T15:04:27.389555Z",
     "end_time": "2023-06-14T15:04:31.831648Z"
    }
   }
  },
  {
   "cell_type": "code",
   "execution_count": 463,
   "outputs": [
    {
     "data": {
      "text/plain": "{'ecmwf-eps_9': {'root_mean_squared_error': -0.44978843997913576,\n  'mean_squared_error': -0.2023096407388646,\n  'mean_absolute_error': -0.2931654674506631,\n  'r2': 0.7135151243631976,\n  'pearsonr': 0.8449957007541864,\n  'median_absolute_error': -0.17510813072323828},\n 'ecmwf-eps_10': {'root_mean_squared_error': -0.6764796014978284,\n  'mean_squared_error': -0.45762465124266066,\n  'mean_absolute_error': -0.4420161696425479,\n  'r2': 0.3704471394740121,\n  'pearsonr': 0.6088384278246148,\n  'median_absolute_error': -0.25709498697519306},\n 'ecmwf-eps_11': {'root_mean_squared_error': -0.7607432298036907,\n  'mean_squared_error': -0.578730261692151,\n  'mean_absolute_error': -0.5119904895520613,\n  'r2': 0.13895968873137565,\n  'pearsonr': 0.3929303620593549,\n  'median_absolute_error': -0.33339778470993053},\n 'ecmwf-eps_12': {'root_mean_squared_error': -0.8066477296445551,\n  'mean_squared_error': -0.6506805597407153,\n  'mean_absolute_error': -0.5331466025252021,\n  'r2': 0.06311776616208198,\n  'pearsonr': 0.31275983971403176,\n  'median_absolute_error': -0.3152267552614223},\n 'ecmwf-eps_13': {'root_mean_squared_error': -0.7993791220276688,\n  'mean_squared_error': -0.6390069807337266,\n  'mean_absolute_error': -0.5260176867481682,\n  'r2': 0.034432424683261464,\n  'pearsonr': 0.284838407288626,\n  'median_absolute_error': -0.3217272799015021},\n 'ecmwf-eps_14': {'root_mean_squared_error': -0.7892413410962222,\n  'mean_squared_error': -0.6229018944953635,\n  'mean_absolute_error': -0.5282344038051899,\n  'r2': 0.11105426002895313,\n  'pearsonr': 0.365085831354515,\n  'median_absolute_error': -0.3413858379721635}}"
     },
     "execution_count": 463,
     "metadata": {},
     "output_type": "execute_result"
    }
   ],
   "source": [
    "evaluations"
   ],
   "metadata": {
    "collapsed": false,
    "ExecuteTime": {
     "start_time": "2023-06-14T15:04:35.957353Z",
     "end_time": "2023-06-14T15:04:35.995035Z"
    }
   }
  },
  {
   "cell_type": "code",
   "execution_count": 249,
   "outputs": [
    {
     "data": {
      "text/plain": "                     model  score_val  pred_time_val    fit_time  \\\n0      WeightedEnsemble_L2  -0.468409       0.231013   58.711627   \n1      WeightedEnsemble_L3  -0.475032       0.536557  101.832554   \n2    NeuralNetTorch_BAG_L1  -0.475452       0.027153   25.566166   \n3    NeuralNetTorch_BAG_L2  -0.476476       0.473207   81.249239   \n4          CatBoost_BAG_L2  -0.483327       0.457172   65.527294   \n5   NeuralNetFastAI_BAG_L1  -0.486086       0.048311   14.295182   \n6     ExtraTreesMSE_BAG_L2  -0.488580       0.569718   59.917265   \n7   NeuralNetFastAI_BAG_L2  -0.493348       0.494648   73.369318   \n8   RandomForestMSE_BAG_L2  -0.493732       0.566341   63.005658   \n9          CatBoost_BAG_L1  -0.494100       0.012024    8.361173   \n10    ExtraTreesMSE_BAG_L1  -0.500667       0.125997    0.624416   \n11          XGBoost_BAG_L2  -0.502049       0.463835   68.006314   \n12  RandomForestMSE_BAG_L1  -0.503408       0.124875    2.826134   \n13          XGBoost_BAG_L1  -0.504863       0.018358    7.529619   \n14   KNeighborsDist_BAG_L1  -0.670521       0.029616    0.004082   \n15   KNeighborsUnif_BAG_L1  -0.670715       0.058038    0.005316   \n\n    pred_time_val_marginal  fit_time_marginal  stack_level  can_infer  \\\n0                 0.000291           0.133353            2       True   \n1                 0.000277           0.110878            3       True   \n2                 0.027153          25.566166            1       True   \n3                 0.028834          22.037152            2       True   \n4                 0.012799           6.315207            2       True   \n5                 0.048311          14.295182            1       True   \n6                 0.125345           0.705177            2       True   \n7                 0.050275          14.157231            2       True   \n8                 0.121968           3.793570            2       True   \n9                 0.012024           8.361173            1       True   \n10                0.125997           0.624416            1       True   \n11                0.019462           8.794226            2       True   \n12                0.124875           2.826134            1       True   \n13                0.018358           7.529619            1       True   \n14                0.029616           0.004082            1       True   \n15                0.058038           0.005316            1       True   \n\n    fit_order  \n0           9  \n1          16  \n2           8  \n3          15  \n4          11  \n5           6  \n6          12  \n7          13  \n8          10  \n9           4  \n10          5  \n11         14  \n12          3  \n13          7  \n14          2  \n15          1  ",
      "text/html": "<div>\n<style scoped>\n    .dataframe tbody tr th:only-of-type {\n        vertical-align: middle;\n    }\n\n    .dataframe tbody tr th {\n        vertical-align: top;\n    }\n\n    .dataframe thead th {\n        text-align: right;\n    }\n</style>\n<table border=\"1\" class=\"dataframe\">\n  <thead>\n    <tr style=\"text-align: right;\">\n      <th></th>\n      <th>model</th>\n      <th>score_val</th>\n      <th>pred_time_val</th>\n      <th>fit_time</th>\n      <th>pred_time_val_marginal</th>\n      <th>fit_time_marginal</th>\n      <th>stack_level</th>\n      <th>can_infer</th>\n      <th>fit_order</th>\n    </tr>\n  </thead>\n  <tbody>\n    <tr>\n      <th>0</th>\n      <td>WeightedEnsemble_L2</td>\n      <td>-0.468409</td>\n      <td>0.231013</td>\n      <td>58.711627</td>\n      <td>0.000291</td>\n      <td>0.133353</td>\n      <td>2</td>\n      <td>True</td>\n      <td>9</td>\n    </tr>\n    <tr>\n      <th>1</th>\n      <td>WeightedEnsemble_L3</td>\n      <td>-0.475032</td>\n      <td>0.536557</td>\n      <td>101.832554</td>\n      <td>0.000277</td>\n      <td>0.110878</td>\n      <td>3</td>\n      <td>True</td>\n      <td>16</td>\n    </tr>\n    <tr>\n      <th>2</th>\n      <td>NeuralNetTorch_BAG_L1</td>\n      <td>-0.475452</td>\n      <td>0.027153</td>\n      <td>25.566166</td>\n      <td>0.027153</td>\n      <td>25.566166</td>\n      <td>1</td>\n      <td>True</td>\n      <td>8</td>\n    </tr>\n    <tr>\n      <th>3</th>\n      <td>NeuralNetTorch_BAG_L2</td>\n      <td>-0.476476</td>\n      <td>0.473207</td>\n      <td>81.249239</td>\n      <td>0.028834</td>\n      <td>22.037152</td>\n      <td>2</td>\n      <td>True</td>\n      <td>15</td>\n    </tr>\n    <tr>\n      <th>4</th>\n      <td>CatBoost_BAG_L2</td>\n      <td>-0.483327</td>\n      <td>0.457172</td>\n      <td>65.527294</td>\n      <td>0.012799</td>\n      <td>6.315207</td>\n      <td>2</td>\n      <td>True</td>\n      <td>11</td>\n    </tr>\n    <tr>\n      <th>5</th>\n      <td>NeuralNetFastAI_BAG_L1</td>\n      <td>-0.486086</td>\n      <td>0.048311</td>\n      <td>14.295182</td>\n      <td>0.048311</td>\n      <td>14.295182</td>\n      <td>1</td>\n      <td>True</td>\n      <td>6</td>\n    </tr>\n    <tr>\n      <th>6</th>\n      <td>ExtraTreesMSE_BAG_L2</td>\n      <td>-0.488580</td>\n      <td>0.569718</td>\n      <td>59.917265</td>\n      <td>0.125345</td>\n      <td>0.705177</td>\n      <td>2</td>\n      <td>True</td>\n      <td>12</td>\n    </tr>\n    <tr>\n      <th>7</th>\n      <td>NeuralNetFastAI_BAG_L2</td>\n      <td>-0.493348</td>\n      <td>0.494648</td>\n      <td>73.369318</td>\n      <td>0.050275</td>\n      <td>14.157231</td>\n      <td>2</td>\n      <td>True</td>\n      <td>13</td>\n    </tr>\n    <tr>\n      <th>8</th>\n      <td>RandomForestMSE_BAG_L2</td>\n      <td>-0.493732</td>\n      <td>0.566341</td>\n      <td>63.005658</td>\n      <td>0.121968</td>\n      <td>3.793570</td>\n      <td>2</td>\n      <td>True</td>\n      <td>10</td>\n    </tr>\n    <tr>\n      <th>9</th>\n      <td>CatBoost_BAG_L1</td>\n      <td>-0.494100</td>\n      <td>0.012024</td>\n      <td>8.361173</td>\n      <td>0.012024</td>\n      <td>8.361173</td>\n      <td>1</td>\n      <td>True</td>\n      <td>4</td>\n    </tr>\n    <tr>\n      <th>10</th>\n      <td>ExtraTreesMSE_BAG_L1</td>\n      <td>-0.500667</td>\n      <td>0.125997</td>\n      <td>0.624416</td>\n      <td>0.125997</td>\n      <td>0.624416</td>\n      <td>1</td>\n      <td>True</td>\n      <td>5</td>\n    </tr>\n    <tr>\n      <th>11</th>\n      <td>XGBoost_BAG_L2</td>\n      <td>-0.502049</td>\n      <td>0.463835</td>\n      <td>68.006314</td>\n      <td>0.019462</td>\n      <td>8.794226</td>\n      <td>2</td>\n      <td>True</td>\n      <td>14</td>\n    </tr>\n    <tr>\n      <th>12</th>\n      <td>RandomForestMSE_BAG_L1</td>\n      <td>-0.503408</td>\n      <td>0.124875</td>\n      <td>2.826134</td>\n      <td>0.124875</td>\n      <td>2.826134</td>\n      <td>1</td>\n      <td>True</td>\n      <td>3</td>\n    </tr>\n    <tr>\n      <th>13</th>\n      <td>XGBoost_BAG_L1</td>\n      <td>-0.504863</td>\n      <td>0.018358</td>\n      <td>7.529619</td>\n      <td>0.018358</td>\n      <td>7.529619</td>\n      <td>1</td>\n      <td>True</td>\n      <td>7</td>\n    </tr>\n    <tr>\n      <th>14</th>\n      <td>KNeighborsDist_BAG_L1</td>\n      <td>-0.670521</td>\n      <td>0.029616</td>\n      <td>0.004082</td>\n      <td>0.029616</td>\n      <td>0.004082</td>\n      <td>1</td>\n      <td>True</td>\n      <td>2</td>\n    </tr>\n    <tr>\n      <th>15</th>\n      <td>KNeighborsUnif_BAG_L1</td>\n      <td>-0.670715</td>\n      <td>0.058038</td>\n      <td>0.005316</td>\n      <td>0.058038</td>\n      <td>0.005316</td>\n      <td>1</td>\n      <td>True</td>\n      <td>1</td>\n    </tr>\n  </tbody>\n</table>\n</div>"
     },
     "metadata": {},
     "output_type": "display_data"
    }
   ],
   "source": [
    "predictor_class = multi_predictor.get_predictor('ecmwf-eps_9')\n",
    "display(predictor_class.leaderboard(silent=True))"
   ],
   "metadata": {
    "collapsed": false,
    "ExecuteTime": {
     "start_time": "2023-06-14T12:07:11.110658Z",
     "end_time": "2023-06-14T12:07:11.150800Z"
    }
   }
  },
  {
   "cell_type": "code",
   "execution_count": 250,
   "outputs": [
    {
     "data": {
      "text/plain": "'WeightedEnsemble_L2'"
     },
     "execution_count": 250,
     "metadata": {},
     "output_type": "execute_result"
    }
   ],
   "source": [
    "predictor_class.get_model_best()"
   ],
   "metadata": {
    "collapsed": false,
    "ExecuteTime": {
     "start_time": "2023-06-14T12:07:14.665268Z",
     "end_time": "2023-06-14T12:07:14.693426Z"
    }
   }
  },
  {
   "cell_type": "code",
   "execution_count": 251,
   "outputs": [
    {
     "data": {
      "text/plain": "                     gfs-ens-bc_9  gfs-ens-bc_10  gfs-ens-bc_11  \\\n2022-06-03 00:00:00        -0.311         -0.296         -0.325   \n2022-06-03 12:00:00        -0.258         -0.146         -0.059   \n2022-06-04 00:00:00        -0.238         -0.130          0.000   \n2022-06-04 12:00:00        -0.057          0.026         -0.024   \n2022-06-05 00:00:00         0.153          0.310          0.418   \n...                           ...            ...            ...   \n2023-05-15 00:00:00         0.592          0.056         -0.003   \n2023-05-15 12:00:00        -0.270          0.220          0.588   \n2023-05-16 00:00:00        -0.490         -0.434         -0.316   \n2023-05-16 12:00:00        -0.536         -0.381         -0.049   \n2023-05-17 00:00:00        -0.373         -0.228         -0.053   \n\n                     gfs-ens-bc_12  gfs-ens-bc_13  gfs-ens-bc_14  cmc-ens_9  \\\n2022-06-03 00:00:00         -0.113          0.131          0.249      0.272   \n2022-06-03 12:00:00          0.019          0.062          0.040     -0.070   \n2022-06-04 00:00:00          0.035          0.035          0.089      0.201   \n2022-06-04 12:00:00         -0.064         -0.061          0.033     -0.119   \n2022-06-05 00:00:00          0.257          0.019         -0.017     -0.160   \n...                            ...            ...            ...        ...   \n2023-05-15 00:00:00          0.069         -0.023         -0.163     -0.752   \n2023-05-15 12:00:00          0.535          0.046         -0.098     -0.139   \n2023-05-16 00:00:00          0.016          0.219          0.222      0.330   \n2023-05-16 12:00:00          0.085          0.125          0.201     -0.360   \n2023-05-17 00:00:00         -0.076         -0.273         -0.198      0.325   \n\n                     cmc-ens_10  cmc-ens_11  cmc-ens_12  ...  error_12  \\\n2022-06-03 00:00:00       0.178       0.121       0.060  ...     0.016   \n2022-06-03 12:00:00      -0.170      -0.144      -0.096  ...     0.021   \n2022-06-04 00:00:00      -0.113      -0.270      -0.269  ...    -0.028   \n2022-06-04 12:00:00      -0.236      -0.202      -0.056  ...     0.072   \n2022-06-05 00:00:00      -0.389      -0.462      -0.334  ...    -0.228   \n...                         ...         ...         ...  ...       ...   \n2023-05-15 00:00:00      -0.071      -0.003       0.156  ...     0.004   \n2023-05-15 12:00:00      -0.626      -0.916      -0.714  ...    -0.153   \n2023-05-16 00:00:00      -0.207      -0.039       0.085  ...     0.388   \n2023-05-16 12:00:00      -0.185      -0.309      -0.252  ...    -0.011   \n2023-05-17 00:00:00       0.155       0.067      -0.282  ...    -0.078   \n\n                     error_13  error_14  noon  ecmwf-eps_9  ecmwf-eps_10  \\\n2022-06-03 00:00:00    -0.049    -0.072   0.0       -0.128        -0.068   \n2022-06-03 12:00:00     0.002     0.007   1.0       -0.042        -0.085   \n2022-06-04 00:00:00     0.021     0.030   0.0        0.032         0.000   \n2022-06-04 12:00:00     0.047     0.033   1.0       -0.179        -0.218   \n2022-06-05 00:00:00    -0.159    -0.049   0.0        0.134         0.040   \n...                       ...       ...   ...          ...           ...   \n2023-05-15 00:00:00    -0.137    -0.039   0.0        0.458         0.039   \n2023-05-15 12:00:00    -0.300    -0.210   1.0        0.478         0.590   \n2023-05-16 00:00:00     0.165    -0.251   0.0        0.015        -0.002   \n2023-05-16 12:00:00     0.082     0.179   1.0       -0.464        -0.365   \n2023-05-17 00:00:00     0.174     0.379   0.0        0.047         0.046   \n\n                     ecmwf-eps_11  ecmwf-eps_12  ecmwf-eps_13  ecmwf-eps_14  \n2022-06-03 00:00:00         0.026         0.021         0.002         0.007  \n2022-06-03 12:00:00        -0.028         0.021         0.030        -0.026  \n2022-06-04 00:00:00         0.036         0.072         0.047         0.033  \n2022-06-04 12:00:00        -0.228        -0.159        -0.049        -0.004  \n2022-06-05 00:00:00         0.018         0.068         0.058         0.087  \n...                           ...           ...           ...           ...  \n2023-05-15 00:00:00        -0.115        -0.153        -0.300        -0.210  \n2023-05-15 12:00:00         0.388         0.165        -0.251        -0.325  \n2023-05-16 00:00:00        -0.003        -0.011         0.082         0.179  \n2023-05-16 12:00:00        -0.078         0.174         0.379         0.271  \n2023-05-17 00:00:00        -0.114        -0.239        -0.363        -0.118  \n\n[697 rows x 28 columns]",
      "text/html": "<div>\n<style scoped>\n    .dataframe tbody tr th:only-of-type {\n        vertical-align: middle;\n    }\n\n    .dataframe tbody tr th {\n        vertical-align: top;\n    }\n\n    .dataframe thead th {\n        text-align: right;\n    }\n</style>\n<table border=\"1\" class=\"dataframe\">\n  <thead>\n    <tr style=\"text-align: right;\">\n      <th></th>\n      <th>gfs-ens-bc_9</th>\n      <th>gfs-ens-bc_10</th>\n      <th>gfs-ens-bc_11</th>\n      <th>gfs-ens-bc_12</th>\n      <th>gfs-ens-bc_13</th>\n      <th>gfs-ens-bc_14</th>\n      <th>cmc-ens_9</th>\n      <th>cmc-ens_10</th>\n      <th>cmc-ens_11</th>\n      <th>cmc-ens_12</th>\n      <th>...</th>\n      <th>error_12</th>\n      <th>error_13</th>\n      <th>error_14</th>\n      <th>noon</th>\n      <th>ecmwf-eps_9</th>\n      <th>ecmwf-eps_10</th>\n      <th>ecmwf-eps_11</th>\n      <th>ecmwf-eps_12</th>\n      <th>ecmwf-eps_13</th>\n      <th>ecmwf-eps_14</th>\n    </tr>\n  </thead>\n  <tbody>\n    <tr>\n      <th>2022-06-03 00:00:00</th>\n      <td>-0.311</td>\n      <td>-0.296</td>\n      <td>-0.325</td>\n      <td>-0.113</td>\n      <td>0.131</td>\n      <td>0.249</td>\n      <td>0.272</td>\n      <td>0.178</td>\n      <td>0.121</td>\n      <td>0.060</td>\n      <td>...</td>\n      <td>0.016</td>\n      <td>-0.049</td>\n      <td>-0.072</td>\n      <td>0.0</td>\n      <td>-0.128</td>\n      <td>-0.068</td>\n      <td>0.026</td>\n      <td>0.021</td>\n      <td>0.002</td>\n      <td>0.007</td>\n    </tr>\n    <tr>\n      <th>2022-06-03 12:00:00</th>\n      <td>-0.258</td>\n      <td>-0.146</td>\n      <td>-0.059</td>\n      <td>0.019</td>\n      <td>0.062</td>\n      <td>0.040</td>\n      <td>-0.070</td>\n      <td>-0.170</td>\n      <td>-0.144</td>\n      <td>-0.096</td>\n      <td>...</td>\n      <td>0.021</td>\n      <td>0.002</td>\n      <td>0.007</td>\n      <td>1.0</td>\n      <td>-0.042</td>\n      <td>-0.085</td>\n      <td>-0.028</td>\n      <td>0.021</td>\n      <td>0.030</td>\n      <td>-0.026</td>\n    </tr>\n    <tr>\n      <th>2022-06-04 00:00:00</th>\n      <td>-0.238</td>\n      <td>-0.130</td>\n      <td>0.000</td>\n      <td>0.035</td>\n      <td>0.035</td>\n      <td>0.089</td>\n      <td>0.201</td>\n      <td>-0.113</td>\n      <td>-0.270</td>\n      <td>-0.269</td>\n      <td>...</td>\n      <td>-0.028</td>\n      <td>0.021</td>\n      <td>0.030</td>\n      <td>0.0</td>\n      <td>0.032</td>\n      <td>0.000</td>\n      <td>0.036</td>\n      <td>0.072</td>\n      <td>0.047</td>\n      <td>0.033</td>\n    </tr>\n    <tr>\n      <th>2022-06-04 12:00:00</th>\n      <td>-0.057</td>\n      <td>0.026</td>\n      <td>-0.024</td>\n      <td>-0.064</td>\n      <td>-0.061</td>\n      <td>0.033</td>\n      <td>-0.119</td>\n      <td>-0.236</td>\n      <td>-0.202</td>\n      <td>-0.056</td>\n      <td>...</td>\n      <td>0.072</td>\n      <td>0.047</td>\n      <td>0.033</td>\n      <td>1.0</td>\n      <td>-0.179</td>\n      <td>-0.218</td>\n      <td>-0.228</td>\n      <td>-0.159</td>\n      <td>-0.049</td>\n      <td>-0.004</td>\n    </tr>\n    <tr>\n      <th>2022-06-05 00:00:00</th>\n      <td>0.153</td>\n      <td>0.310</td>\n      <td>0.418</td>\n      <td>0.257</td>\n      <td>0.019</td>\n      <td>-0.017</td>\n      <td>-0.160</td>\n      <td>-0.389</td>\n      <td>-0.462</td>\n      <td>-0.334</td>\n      <td>...</td>\n      <td>-0.228</td>\n      <td>-0.159</td>\n      <td>-0.049</td>\n      <td>0.0</td>\n      <td>0.134</td>\n      <td>0.040</td>\n      <td>0.018</td>\n      <td>0.068</td>\n      <td>0.058</td>\n      <td>0.087</td>\n    </tr>\n    <tr>\n      <th>...</th>\n      <td>...</td>\n      <td>...</td>\n      <td>...</td>\n      <td>...</td>\n      <td>...</td>\n      <td>...</td>\n      <td>...</td>\n      <td>...</td>\n      <td>...</td>\n      <td>...</td>\n      <td>...</td>\n      <td>...</td>\n      <td>...</td>\n      <td>...</td>\n      <td>...</td>\n      <td>...</td>\n      <td>...</td>\n      <td>...</td>\n      <td>...</td>\n      <td>...</td>\n      <td>...</td>\n    </tr>\n    <tr>\n      <th>2023-05-15 00:00:00</th>\n      <td>0.592</td>\n      <td>0.056</td>\n      <td>-0.003</td>\n      <td>0.069</td>\n      <td>-0.023</td>\n      <td>-0.163</td>\n      <td>-0.752</td>\n      <td>-0.071</td>\n      <td>-0.003</td>\n      <td>0.156</td>\n      <td>...</td>\n      <td>0.004</td>\n      <td>-0.137</td>\n      <td>-0.039</td>\n      <td>0.0</td>\n      <td>0.458</td>\n      <td>0.039</td>\n      <td>-0.115</td>\n      <td>-0.153</td>\n      <td>-0.300</td>\n      <td>-0.210</td>\n    </tr>\n    <tr>\n      <th>2023-05-15 12:00:00</th>\n      <td>-0.270</td>\n      <td>0.220</td>\n      <td>0.588</td>\n      <td>0.535</td>\n      <td>0.046</td>\n      <td>-0.098</td>\n      <td>-0.139</td>\n      <td>-0.626</td>\n      <td>-0.916</td>\n      <td>-0.714</td>\n      <td>...</td>\n      <td>-0.153</td>\n      <td>-0.300</td>\n      <td>-0.210</td>\n      <td>1.0</td>\n      <td>0.478</td>\n      <td>0.590</td>\n      <td>0.388</td>\n      <td>0.165</td>\n      <td>-0.251</td>\n      <td>-0.325</td>\n    </tr>\n    <tr>\n      <th>2023-05-16 00:00:00</th>\n      <td>-0.490</td>\n      <td>-0.434</td>\n      <td>-0.316</td>\n      <td>0.016</td>\n      <td>0.219</td>\n      <td>0.222</td>\n      <td>0.330</td>\n      <td>-0.207</td>\n      <td>-0.039</td>\n      <td>0.085</td>\n      <td>...</td>\n      <td>0.388</td>\n      <td>0.165</td>\n      <td>-0.251</td>\n      <td>0.0</td>\n      <td>0.015</td>\n      <td>-0.002</td>\n      <td>-0.003</td>\n      <td>-0.011</td>\n      <td>0.082</td>\n      <td>0.179</td>\n    </tr>\n    <tr>\n      <th>2023-05-16 12:00:00</th>\n      <td>-0.536</td>\n      <td>-0.381</td>\n      <td>-0.049</td>\n      <td>0.085</td>\n      <td>0.125</td>\n      <td>0.201</td>\n      <td>-0.360</td>\n      <td>-0.185</td>\n      <td>-0.309</td>\n      <td>-0.252</td>\n      <td>...</td>\n      <td>-0.011</td>\n      <td>0.082</td>\n      <td>0.179</td>\n      <td>1.0</td>\n      <td>-0.464</td>\n      <td>-0.365</td>\n      <td>-0.078</td>\n      <td>0.174</td>\n      <td>0.379</td>\n      <td>0.271</td>\n    </tr>\n    <tr>\n      <th>2023-05-17 00:00:00</th>\n      <td>-0.373</td>\n      <td>-0.228</td>\n      <td>-0.053</td>\n      <td>-0.076</td>\n      <td>-0.273</td>\n      <td>-0.198</td>\n      <td>0.325</td>\n      <td>0.155</td>\n      <td>0.067</td>\n      <td>-0.282</td>\n      <td>...</td>\n      <td>-0.078</td>\n      <td>0.174</td>\n      <td>0.379</td>\n      <td>0.0</td>\n      <td>0.047</td>\n      <td>0.046</td>\n      <td>-0.114</td>\n      <td>-0.239</td>\n      <td>-0.363</td>\n      <td>-0.118</td>\n    </tr>\n  </tbody>\n</table>\n<p>697 rows × 28 columns</p>\n</div>"
     },
     "metadata": {},
     "output_type": "display_data"
    }
   ],
   "source": [
    "display(test_data)"
   ],
   "metadata": {
    "collapsed": false,
    "ExecuteTime": {
     "start_time": "2023-06-14T12:07:15.881073Z",
     "end_time": "2023-06-14T12:07:15.904635Z"
    }
   }
  },
  {
   "cell_type": "markdown",
   "source": [
    "# feature importance / training models for individual days"
   ],
   "metadata": {
    "collapsed": false
   }
  },
  {
   "cell_type": "code",
   "execution_count": null,
   "outputs": [],
   "source": [
    "from collections import Counter"
   ],
   "metadata": {
    "collapsed": false,
    "ExecuteTime": {
     "start_time": "2023-06-13T11:27:30.239642Z",
     "end_time": "2023-06-13T11:27:30.252467Z"
    }
   }
  },
  {
   "cell_type": "code",
   "execution_count": null,
   "outputs": [],
   "source": [],
   "metadata": {
    "collapsed": false,
    "ExecuteTime": {
     "start_time": "2023-06-13T11:34:42.733673Z",
     "end_time": "2023-06-13T11:34:42.748580Z"
    }
   }
  },
  {
   "cell_type": "code",
   "execution_count": null,
   "outputs": [],
   "source": [
    "most_important = []\n",
    "\n",
    "for i in range(0, 5):\n",
    "    day = i\n",
    "    train_df = train_data.iloc[:, :-5+day]\n",
    "    test_df = test_data.iloc[:, :-5+day]\n",
    "    #display(train_df.head())\n",
    "    label = f\"ecmwf-eps_{day+9}\"\n",
    "    predictor = TabularPredictor(label=label).fit(train_df)\n",
    "    y_test = test_df[label]\n",
    "    test_data_nolab = test_df.drop(columns=[label])\n",
    "    print(f\"results for {label}\")\n",
    "    y_pred = predictor.predict(test_data_nolab)\n",
    "    perf = predictor.evaluate_predictions(y_true=y_test, y_pred=y_pred, auxiliary_metrics=True)\n",
    "    shap_values = predictor.feature_importance(test_df)\n",
    "    display(shap_values)\n",
    "    most_important.append(list(shap_values.index[:6].values))"
   ],
   "metadata": {
    "collapsed": false,
    "ExecuteTime": {
     "start_time": "2023-06-13T13:31:22.661002Z",
     "end_time": "2023-06-13T13:32:59.276769Z"
    }
   }
  },
  {
   "cell_type": "code",
   "execution_count": null,
   "outputs": [],
   "source": [
    "item_counts = Counter([item for sublist in most_important for item in sublist])\n",
    "important_features = []\n",
    "for item, count in item_counts.items():\n",
    "    print(f'{item}: {count}')\n",
    "    important_features.append(item)"
   ],
   "metadata": {
    "collapsed": false,
    "ExecuteTime": {
     "start_time": "2023-06-13T11:45:55.654078Z",
     "end_time": "2023-06-13T11:45:55.669126Z"
    }
   }
  },
  {
   "cell_type": "code",
   "execution_count": null,
   "outputs": [],
   "source": [],
   "metadata": {
    "collapsed": false,
    "ExecuteTime": {
     "start_time": "2023-06-13T11:47:03.474648Z",
     "end_time": "2023-06-13T11:47:03.482576Z"
    }
   }
  },
  {
   "cell_type": "code",
   "execution_count": 252,
   "outputs": [],
   "source": [
    "import autogluon.eda.auto as auto"
   ],
   "metadata": {
    "collapsed": false,
    "ExecuteTime": {
     "start_time": "2023-06-14T12:07:23.675888Z",
     "end_time": "2023-06-14T12:07:23.709139Z"
    }
   }
  },
  {
   "cell_type": "code",
   "execution_count": 257,
   "outputs": [],
   "source": [
    "day = 2\n",
    "train_df = train_data.iloc[:, :-5+day]\n",
    "test_df = test_data.iloc[:, :-5+day]\n",
    "#display(train_df.head())\n",
    "label = f\"ecmwf-eps_{day+9}\""
   ],
   "metadata": {
    "collapsed": false,
    "ExecuteTime": {
     "start_time": "2023-06-14T12:07:57.991607Z",
     "end_time": "2023-06-14T12:07:58.001002Z"
    }
   }
  },
  {
   "cell_type": "code",
   "execution_count": 258,
   "outputs": [
    {
     "name": "stderr",
     "output_type": "stream",
     "text": [
      "No path specified. Models will be saved in: \"AutogluonModels/ag-20230614_180758/\"\n"
     ]
    },
    {
     "data": {
      "text/plain": "<IPython.core.display.Markdown object>",
      "text/markdown": "### Model Prediction for ecmwf-eps_11"
     },
     "metadata": {},
     "output_type": "display_data"
    },
    {
     "data": {
      "text/plain": "<Figure size 640x480 with 1 Axes>",
      "image/png": "[encoded data removed]"
     },
     "metadata": {},
     "output_type": "display_data"
    },
    {
     "data": {
      "text/plain": "<IPython.core.display.Markdown object>",
      "text/markdown": "### Model Leaderboard"
     },
     "metadata": {},
     "output_type": "display_data"
    },
    {
     "data": {
      "text/plain": "             model  score_test  score_val  pred_time_test  pred_time_val  \\\n0  RandomForestMSE   -0.523167  -0.470649        0.038917       0.025066   \n\n   fit_time  pred_time_test_marginal  pred_time_val_marginal  \\\n0  1.467219                 0.038917                0.025066   \n\n   fit_time_marginal  stack_level  can_infer  fit_order  \n0           1.467219            1       True          1  ",
      "text/html": "<div>\n<style scoped>\n    .dataframe tbody tr th:only-of-type {\n        vertical-align: middle;\n    }\n\n    .dataframe tbody tr th {\n        vertical-align: top;\n    }\n\n    .dataframe thead th {\n        text-align: right;\n    }\n</style>\n<table border=\"1\" class=\"dataframe\">\n  <thead>\n    <tr style=\"text-align: right;\">\n      <th></th>\n      <th>model</th>\n      <th>score_test</th>\n      <th>score_val</th>\n      <th>pred_time_test</th>\n      <th>pred_time_val</th>\n      <th>fit_time</th>\n      <th>pred_time_test_marginal</th>\n      <th>pred_time_val_marginal</th>\n      <th>fit_time_marginal</th>\n      <th>stack_level</th>\n      <th>can_infer</th>\n      <th>fit_order</th>\n    </tr>\n  </thead>\n  <tbody>\n    <tr>\n      <th>0</th>\n      <td>RandomForestMSE</td>\n      <td>-0.523167</td>\n      <td>-0.470649</td>\n      <td>0.038917</td>\n      <td>0.025066</td>\n      <td>1.467219</td>\n      <td>0.038917</td>\n      <td>0.025066</td>\n      <td>1.467219</td>\n      <td>1</td>\n      <td>True</td>\n      <td>1</td>\n    </tr>\n  </tbody>\n</table>\n</div>"
     },
     "metadata": {},
     "output_type": "display_data"
    },
    {
     "data": {
      "text/plain": "<IPython.core.display.Markdown object>",
      "text/markdown": "### Feature Importance for Trained Model"
     },
     "metadata": {},
     "output_type": "display_data"
    },
    {
     "data": {
      "text/plain": "               importance    stddev       p_value  n  p99_high   p99_low\necmwf-eps_10     0.846595  0.031876  2.407174e-07  5  0.912227  0.780962\necmwf-eps_9      0.116389  0.007098  1.651268e-06  5  0.131003  0.101775\ngfs-ens-bc_12    0.009765  0.001645  9.304208e-05  5  0.013151  0.006378\ncmc-ens_11       0.002665  0.000729  6.096656e-04  5  0.004167  0.001164\nerror_10         0.002272  0.000357  7.084295e-05  5  0.003007  0.001537\ngfs-ens-bc_9     0.001937  0.000567  7.868675e-04  5  0.003104  0.000770\ngfs-ens-bc_13    0.001627  0.000574  1.587372e-03  5  0.002809  0.000445\ncmc-ens_10       0.001625  0.001067  1.356085e-02  5  0.003822 -0.000571\nerror_9          0.001257  0.000338  5.729623e-04  5  0.001954  0.000561\ngfs-ens-bc_14    0.000521  0.000790  1.073785e-01  5  0.002148 -0.001107\nerror_11         0.000446  0.000633  9.521231e-02  5  0.001750 -0.000858\nerror_13         0.000371  0.000536  9.840317e-02  5  0.001473 -0.000732\ngfs-ens-bc_11    0.000329  0.000373  5.983150e-02  5  0.001097 -0.000439\nnoon             0.000169  0.000135  2.461728e-02  5  0.000447 -0.000109\ncmc-ens_9       -0.000047  0.000869  5.455383e-01  5  0.001741 -0.001836\necmwf_diff_8    -0.000421  0.000980  8.045872e-01  5  0.001597 -0.002440\ncmc-ens_12      -0.000494  0.000481  9.584501e-01  5  0.000496 -0.001484\ngfs-ens-bc_10   -0.000571  0.000478  9.720909e-01  5  0.000414 -0.001556\necmwf_diff_9    -0.000666  0.000392  9.904674e-01  5  0.000141 -0.001474\nerror_12        -0.000683  0.000922  9.134553e-01  5  0.001216 -0.002582\nerror_14        -0.001119  0.000991  9.675019e-01  5  0.000921 -0.003158\ncmc-ens_13      -0.001205  0.000211  9.998920e-01  5 -0.000771 -0.001639\ncmc-ens_14      -0.002003  0.000805  9.974421e-01  5 -0.000345 -0.003661\nday_8_error     -0.002203  0.000430  9.998341e-01  5 -0.001317 -0.003089",
      "text/html": "<div>\n<style scoped>\n    .dataframe tbody tr th:only-of-type {\n        vertical-align: middle;\n    }\n\n    .dataframe tbody tr th {\n        vertical-align: top;\n    }\n\n    .dataframe thead th {\n        text-align: right;\n    }\n</style>\n<table border=\"1\" class=\"dataframe\">\n  <thead>\n    <tr style=\"text-align: right;\">\n      <th></th>\n      <th>importance</th>\n      <th>stddev</th>\n      <th>p_value</th>\n      <th>n</th>\n      <th>p99_high</th>\n      <th>p99_low</th>\n    </tr>\n  </thead>\n  <tbody>\n    <tr>\n      <th>ecmwf-eps_10</th>\n      <td>0.846595</td>\n      <td>0.031876</td>\n      <td>2.407174e-07</td>\n      <td>5</td>\n      <td>0.912227</td>\n      <td>0.780962</td>\n    </tr>\n    <tr>\n      <th>ecmwf-eps_9</th>\n      <td>0.116389</td>\n      <td>0.007098</td>\n      <td>1.651268e-06</td>\n      <td>5</td>\n      <td>0.131003</td>\n      <td>0.101775</td>\n    </tr>\n    <tr>\n      <th>gfs-ens-bc_12</th>\n      <td>0.009765</td>\n      <td>0.001645</td>\n      <td>9.304208e-05</td>\n      <td>5</td>\n      <td>0.013151</td>\n      <td>0.006378</td>\n    </tr>\n    <tr>\n      <th>cmc-ens_11</th>\n      <td>0.002665</td>\n      <td>0.000729</td>\n      <td>6.096656e-04</td>\n      <td>5</td>\n      <td>0.004167</td>\n      <td>0.001164</td>\n    </tr>\n    <tr>\n      <th>error_10</th>\n      <td>0.002272</td>\n      <td>0.000357</td>\n      <td>7.084295e-05</td>\n      <td>5</td>\n      <td>0.003007</td>\n      <td>0.001537</td>\n    </tr>\n    <tr>\n      <th>gfs-ens-bc_9</th>\n      <td>0.001937</td>\n      <td>0.000567</td>\n      <td>7.868675e-04</td>\n      <td>5</td>\n      <td>0.003104</td>\n      <td>0.000770</td>\n    </tr>\n    <tr>\n      <th>gfs-ens-bc_13</th>\n      <td>0.001627</td>\n      <td>0.000574</td>\n      <td>1.587372e-03</td>\n      <td>5</td>\n      <td>0.002809</td>\n      <td>0.000445</td>\n    </tr>\n    <tr>\n      <th>cmc-ens_10</th>\n      <td>0.001625</td>\n      <td>0.001067</td>\n      <td>1.356085e-02</td>\n      <td>5</td>\n      <td>0.003822</td>\n      <td>-0.000571</td>\n    </tr>\n    <tr>\n      <th>error_9</th>\n      <td>0.001257</td>\n      <td>0.000338</td>\n      <td>5.729623e-04</td>\n      <td>5</td>\n      <td>0.001954</td>\n      <td>0.000561</td>\n    </tr>\n    <tr>\n      <th>gfs-ens-bc_14</th>\n      <td>0.000521</td>\n      <td>0.000790</td>\n      <td>1.073785e-01</td>\n      <td>5</td>\n      <td>0.002148</td>\n      <td>-0.001107</td>\n    </tr>\n    <tr>\n      <th>error_11</th>\n      <td>0.000446</td>\n      <td>0.000633</td>\n      <td>9.521231e-02</td>\n      <td>5</td>\n      <td>0.001750</td>\n      <td>-0.000858</td>\n    </tr>\n    <tr>\n      <th>error_13</th>\n      <td>0.000371</td>\n      <td>0.000536</td>\n      <td>9.840317e-02</td>\n      <td>5</td>\n      <td>0.001473</td>\n      <td>-0.000732</td>\n    </tr>\n    <tr>\n      <th>gfs-ens-bc_11</th>\n      <td>0.000329</td>\n      <td>0.000373</td>\n      <td>5.983150e-02</td>\n      <td>5</td>\n      <td>0.001097</td>\n      <td>-0.000439</td>\n    </tr>\n    <tr>\n      <th>noon</th>\n      <td>0.000169</td>\n      <td>0.000135</td>\n      <td>2.461728e-02</td>\n      <td>5</td>\n      <td>0.000447</td>\n      <td>-0.000109</td>\n    </tr>\n    <tr>\n      <th>cmc-ens_9</th>\n      <td>-0.000047</td>\n      <td>0.000869</td>\n      <td>5.455383e-01</td>\n      <td>5</td>\n      <td>0.001741</td>\n      <td>-0.001836</td>\n    </tr>\n    <tr>\n      <th>ecmwf_diff_8</th>\n      <td>-0.000421</td>\n      <td>0.000980</td>\n      <td>8.045872e-01</td>\n      <td>5</td>\n      <td>0.001597</td>\n      <td>-0.002440</td>\n    </tr>\n    <tr>\n      <th>cmc-ens_12</th>\n      <td>-0.000494</td>\n      <td>0.000481</td>\n      <td>9.584501e-01</td>\n      <td>5</td>\n      <td>0.000496</td>\n      <td>-0.001484</td>\n    </tr>\n    <tr>\n      <th>gfs-ens-bc_10</th>\n      <td>-0.000571</td>\n      <td>0.000478</td>\n      <td>9.720909e-01</td>\n      <td>5</td>\n      <td>0.000414</td>\n      <td>-0.001556</td>\n    </tr>\n    <tr>\n      <th>ecmwf_diff_9</th>\n      <td>-0.000666</td>\n      <td>0.000392</td>\n      <td>9.904674e-01</td>\n      <td>5</td>\n      <td>0.000141</td>\n      <td>-0.001474</td>\n    </tr>\n    <tr>\n      <th>error_12</th>\n      <td>-0.000683</td>\n      <td>0.000922</td>\n      <td>9.134553e-01</td>\n      <td>5</td>\n      <td>0.001216</td>\n      <td>-0.002582</td>\n    </tr>\n    <tr>\n      <th>error_14</th>\n      <td>-0.001119</td>\n      <td>0.000991</td>\n      <td>9.675019e-01</td>\n      <td>5</td>\n      <td>0.000921</td>\n      <td>-0.003158</td>\n    </tr>\n    <tr>\n      <th>cmc-ens_13</th>\n      <td>-0.001205</td>\n      <td>0.000211</td>\n      <td>9.998920e-01</td>\n      <td>5</td>\n      <td>-0.000771</td>\n      <td>-0.001639</td>\n    </tr>\n    <tr>\n      <th>cmc-ens_14</th>\n      <td>-0.002003</td>\n      <td>0.000805</td>\n      <td>9.974421e-01</td>\n      <td>5</td>\n      <td>-0.000345</td>\n      <td>-0.003661</td>\n    </tr>\n    <tr>\n      <th>day_8_error</th>\n      <td>-0.002203</td>\n      <td>0.000430</td>\n      <td>9.998341e-01</td>\n      <td>5</td>\n      <td>-0.001317</td>\n      <td>-0.003089</td>\n    </tr>\n  </tbody>\n</table>\n</div>"
     },
     "metadata": {},
     "output_type": "display_data"
    },
    {
     "data": {
      "text/plain": "<IPython.core.display.Markdown object>",
      "text/markdown": "### Rows with the highest prediction error"
     },
     "metadata": {},
     "output_type": "display_data"
    },
    {
     "data": {
      "text/plain": "<IPython.core.display.Markdown object>",
      "text/markdown": "Rows in this category worth inspecting for the causes of the error"
     },
     "metadata": {},
     "output_type": "display_data"
    },
    {
     "data": {
      "text/plain": "                     gfs-ens-bc_9  gfs-ens-bc_10  gfs-ens-bc_11  \\\n2022-02-16 00:00:00        -1.123          0.861         -0.974   \n2022-02-15 12:00:00        -4.859         -2.745         -1.108   \n2020-02-25 12:00:00         2.809          1.561          2.258   \n2018-11-04 00:00:00         3.012          4.674          5.727   \n2021-12-17 00:00:00        -0.584          0.628          0.517   \n2019-01-19 00:00:00        -1.615         -2.375          0.066   \n2019-12-28 00:00:00         0.194         -0.819         -1.383   \n2020-01-28 12:00:00        -2.555         -0.358          0.915   \n2019-02-20 00:00:00        -0.287          2.740          5.813   \n2019-12-25 00:00:00        -0.362          0.790          0.667   \n\n                     gfs-ens-bc_12  gfs-ens-bc_13  gfs-ens-bc_14  cmc-ens_9  \\\n2022-02-16 00:00:00         -2.792         -2.362         -1.960      2.454   \n2022-02-15 12:00:00         -0.863         -0.590         -0.119      5.480   \n2020-02-25 12:00:00          1.539         -0.401         -0.156     -0.878   \n2018-11-04 00:00:00          5.813          5.574          4.721     -3.977   \n2021-12-17 00:00:00          0.862          2.458          3.023      0.182   \n2019-01-19 00:00:00          0.891          0.503          1.382     -4.741   \n2019-12-28 00:00:00         -1.355         -1.850         -2.230     -0.943   \n2020-01-28 12:00:00         -0.839         -2.983         -3.101      3.693   \n2019-02-20 00:00:00          3.414          0.619         -0.504     -0.658   \n2019-12-25 00:00:00          1.704          1.396          1.294      1.371   \n\n                     cmc-ens_10  cmc-ens_11  cmc-ens_12  ...  error_11  \\\n2022-02-16 00:00:00       1.494       1.198       0.869  ...    -0.625   \n2022-02-15 12:00:00       2.416       1.933       2.742  ...     1.806   \n2020-02-25 12:00:00      -0.945      -3.219      -3.751  ...    -1.319   \n2018-11-04 00:00:00      -3.524      -3.963      -5.371  ...     0.520   \n2021-12-17 00:00:00      -0.675      -1.113      -0.628  ...    -1.768   \n2019-01-19 00:00:00      -3.618      -1.874      -3.540  ...     2.198   \n2019-12-28 00:00:00      -1.287      -1.421      -3.043  ...     1.984   \n2020-01-28 12:00:00       3.305       0.517      -0.238  ...     0.386   \n2019-02-20 00:00:00      -0.132      -1.951      -1.285  ...    -2.907   \n2019-12-25 00:00:00       0.358      -2.548      -4.419  ...    -1.751   \n\n                     error_12  error_13  error_14  noon  ecmwf-eps_9  \\\n2022-02-16 00:00:00     1.534     3.628     3.250   0.0        4.604   \n2022-02-15 12:00:00     1.582     1.841     2.897   1.0        0.782   \n2020-02-25 12:00:00     0.969     1.293     0.634   1.0        2.577   \n2018-11-04 00:00:00    -0.508    -0.416    -0.855   0.0       -0.456   \n2021-12-17 00:00:00     0.173     0.511    -0.141   0.0       -1.221   \n2019-01-19 00:00:00     0.851     0.009     0.118   0.0       -2.705   \n2019-12-28 00:00:00     2.254     2.186     2.183   0.0       -0.923   \n2020-01-28 12:00:00     0.669     1.709     1.817   1.0       -0.479   \n2019-02-20 00:00:00    -2.997    -0.521     1.649   0.0        0.178   \n2019-12-25 00:00:00     0.419     1.012     1.812   0.0       -0.021   \n\n                     ecmwf-eps_10  ecmwf-eps_11  ecmwf-eps_11_pred     error  \n2022-02-16 00:00:00         3.334        -0.040           3.448257  3.488257  \n2022-02-15 12:00:00        -0.625         1.534          -1.150489  2.684489  \n2020-02-25 12:00:00         4.038         1.430           3.515233  2.085233  \n2018-11-04 00:00:00         0.526         2.503           0.462541  2.040459  \n2021-12-17 00:00:00         0.143        -0.880           1.159987  2.039987  \n2019-01-19 00:00:00        -4.250        -1.800          -3.736510  1.936510  \n2019-12-28 00:00:00        -0.548         1.293          -0.640767  1.933767  \n2020-01-28 12:00:00         0.094        -1.341           0.523202  1.864202  \n2019-02-20 00:00:00         0.628         2.431           0.619219  1.811781  \n2019-12-25 00:00:00        -0.336        -2.053          -0.315253  1.737747  \n\n[10 rows x 27 columns]",
      "text/html": "<div>\n<style scoped>\n    .dataframe tbody tr th:only-of-type {\n        vertical-align: middle;\n    }\n\n    .dataframe tbody tr th {\n        vertical-align: top;\n    }\n\n    .dataframe thead th {\n        text-align: right;\n    }\n</style>\n<table border=\"1\" class=\"dataframe\">\n  <thead>\n    <tr style=\"text-align: right;\">\n      <th></th>\n      <th>gfs-ens-bc_9</th>\n      <th>gfs-ens-bc_10</th>\n      <th>gfs-ens-bc_11</th>\n      <th>gfs-ens-bc_12</th>\n      <th>gfs-ens-bc_13</th>\n      <th>gfs-ens-bc_14</th>\n      <th>cmc-ens_9</th>\n      <th>cmc-ens_10</th>\n      <th>cmc-ens_11</th>\n      <th>cmc-ens_12</th>\n      <th>...</th>\n      <th>error_11</th>\n      <th>error_12</th>\n      <th>error_13</th>\n      <th>error_14</th>\n      <th>noon</th>\n      <th>ecmwf-eps_9</th>\n      <th>ecmwf-eps_10</th>\n      <th>ecmwf-eps_11</th>\n      <th>ecmwf-eps_11_pred</th>\n      <th>error</th>\n    </tr>\n  </thead>\n  <tbody>\n    <tr>\n      <th>2022-02-16 00:00:00</th>\n      <td>-1.123</td>\n      <td>0.861</td>\n      <td>-0.974</td>\n      <td>-2.792</td>\n      <td>-2.362</td>\n      <td>-1.960</td>\n      <td>2.454</td>\n      <td>1.494</td>\n      <td>1.198</td>\n      <td>0.869</td>\n      <td>...</td>\n      <td>-0.625</td>\n      <td>1.534</td>\n      <td>3.628</td>\n      <td>3.250</td>\n      <td>0.0</td>\n      <td>4.604</td>\n      <td>3.334</td>\n      <td>-0.040</td>\n      <td>3.448257</td>\n      <td>3.488257</td>\n    </tr>\n    <tr>\n      <th>2022-02-15 12:00:00</th>\n      <td>-4.859</td>\n      <td>-2.745</td>\n      <td>-1.108</td>\n      <td>-0.863</td>\n      <td>-0.590</td>\n      <td>-0.119</td>\n      <td>5.480</td>\n      <td>2.416</td>\n      <td>1.933</td>\n      <td>2.742</td>\n      <td>...</td>\n      <td>1.806</td>\n      <td>1.582</td>\n      <td>1.841</td>\n      <td>2.897</td>\n      <td>1.0</td>\n      <td>0.782</td>\n      <td>-0.625</td>\n      <td>1.534</td>\n      <td>-1.150489</td>\n      <td>2.684489</td>\n    </tr>\n    <tr>\n      <th>2020-02-25 12:00:00</th>\n      <td>2.809</td>\n      <td>1.561</td>\n      <td>2.258</td>\n      <td>1.539</td>\n      <td>-0.401</td>\n      <td>-0.156</td>\n      <td>-0.878</td>\n      <td>-0.945</td>\n      <td>-3.219</td>\n      <td>-3.751</td>\n      <td>...</td>\n      <td>-1.319</td>\n      <td>0.969</td>\n      <td>1.293</td>\n      <td>0.634</td>\n      <td>1.0</td>\n      <td>2.577</td>\n      <td>4.038</td>\n      <td>1.430</td>\n      <td>3.515233</td>\n      <td>2.085233</td>\n    </tr>\n    <tr>\n      <th>2018-11-04 00:00:00</th>\n      <td>3.012</td>\n      <td>4.674</td>\n      <td>5.727</td>\n      <td>5.813</td>\n      <td>5.574</td>\n      <td>4.721</td>\n      <td>-3.977</td>\n      <td>-3.524</td>\n      <td>-3.963</td>\n      <td>-5.371</td>\n      <td>...</td>\n      <td>0.520</td>\n      <td>-0.508</td>\n      <td>-0.416</td>\n      <td>-0.855</td>\n      <td>0.0</td>\n      <td>-0.456</td>\n      <td>0.526</td>\n      <td>2.503</td>\n      <td>0.462541</td>\n      <td>2.040459</td>\n    </tr>\n    <tr>\n      <th>2021-12-17 00:00:00</th>\n      <td>-0.584</td>\n      <td>0.628</td>\n      <td>0.517</td>\n      <td>0.862</td>\n      <td>2.458</td>\n      <td>3.023</td>\n      <td>0.182</td>\n      <td>-0.675</td>\n      <td>-1.113</td>\n      <td>-0.628</td>\n      <td>...</td>\n      <td>-1.768</td>\n      <td>0.173</td>\n      <td>0.511</td>\n      <td>-0.141</td>\n      <td>0.0</td>\n      <td>-1.221</td>\n      <td>0.143</td>\n      <td>-0.880</td>\n      <td>1.159987</td>\n      <td>2.039987</td>\n    </tr>\n    <tr>\n      <th>2019-01-19 00:00:00</th>\n      <td>-1.615</td>\n      <td>-2.375</td>\n      <td>0.066</td>\n      <td>0.891</td>\n      <td>0.503</td>\n      <td>1.382</td>\n      <td>-4.741</td>\n      <td>-3.618</td>\n      <td>-1.874</td>\n      <td>-3.540</td>\n      <td>...</td>\n      <td>2.198</td>\n      <td>0.851</td>\n      <td>0.009</td>\n      <td>0.118</td>\n      <td>0.0</td>\n      <td>-2.705</td>\n      <td>-4.250</td>\n      <td>-1.800</td>\n      <td>-3.736510</td>\n      <td>1.936510</td>\n    </tr>\n    <tr>\n      <th>2019-12-28 00:00:00</th>\n      <td>0.194</td>\n      <td>-0.819</td>\n      <td>-1.383</td>\n      <td>-1.355</td>\n      <td>-1.850</td>\n      <td>-2.230</td>\n      <td>-0.943</td>\n      <td>-1.287</td>\n      <td>-1.421</td>\n      <td>-3.043</td>\n      <td>...</td>\n      <td>1.984</td>\n      <td>2.254</td>\n      <td>2.186</td>\n      <td>2.183</td>\n      <td>0.0</td>\n      <td>-0.923</td>\n      <td>-0.548</td>\n      <td>1.293</td>\n      <td>-0.640767</td>\n      <td>1.933767</td>\n    </tr>\n    <tr>\n      <th>2020-01-28 12:00:00</th>\n      <td>-2.555</td>\n      <td>-0.358</td>\n      <td>0.915</td>\n      <td>-0.839</td>\n      <td>-2.983</td>\n      <td>-3.101</td>\n      <td>3.693</td>\n      <td>3.305</td>\n      <td>0.517</td>\n      <td>-0.238</td>\n      <td>...</td>\n      <td>0.386</td>\n      <td>0.669</td>\n      <td>1.709</td>\n      <td>1.817</td>\n      <td>1.0</td>\n      <td>-0.479</td>\n      <td>0.094</td>\n      <td>-1.341</td>\n      <td>0.523202</td>\n      <td>1.864202</td>\n    </tr>\n    <tr>\n      <th>2019-02-20 00:00:00</th>\n      <td>-0.287</td>\n      <td>2.740</td>\n      <td>5.813</td>\n      <td>3.414</td>\n      <td>0.619</td>\n      <td>-0.504</td>\n      <td>-0.658</td>\n      <td>-0.132</td>\n      <td>-1.951</td>\n      <td>-1.285</td>\n      <td>...</td>\n      <td>-2.907</td>\n      <td>-2.997</td>\n      <td>-0.521</td>\n      <td>1.649</td>\n      <td>0.0</td>\n      <td>0.178</td>\n      <td>0.628</td>\n      <td>2.431</td>\n      <td>0.619219</td>\n      <td>1.811781</td>\n    </tr>\n    <tr>\n      <th>2019-12-25 00:00:00</th>\n      <td>-0.362</td>\n      <td>0.790</td>\n      <td>0.667</td>\n      <td>1.704</td>\n      <td>1.396</td>\n      <td>1.294</td>\n      <td>1.371</td>\n      <td>0.358</td>\n      <td>-2.548</td>\n      <td>-4.419</td>\n      <td>...</td>\n      <td>-1.751</td>\n      <td>0.419</td>\n      <td>1.012</td>\n      <td>1.812</td>\n      <td>0.0</td>\n      <td>-0.021</td>\n      <td>-0.336</td>\n      <td>-2.053</td>\n      <td>-0.315253</td>\n      <td>1.737747</td>\n    </tr>\n  </tbody>\n</table>\n<p>10 rows × 27 columns</p>\n</div>"
     },
     "metadata": {},
     "output_type": "display_data"
    }
   ],
   "source": [
    "state = auto.quick_fit(train_df, label, return_state=True, save_model_to_state=True)"
   ],
   "metadata": {
    "collapsed": false,
    "ExecuteTime": {
     "start_time": "2023-06-14T12:07:58.198419Z",
     "end_time": "2023-06-14T12:08:00.766932Z"
    }
   }
  },
  {
   "cell_type": "code",
   "execution_count": 256,
   "outputs": [],
   "source": [],
   "metadata": {
    "collapsed": false,
    "ExecuteTime": {
     "start_time": "2023-06-14T12:07:47.113456Z",
     "end_time": "2023-06-14T12:07:47.144628Z"
    }
   }
  },
  {
   "cell_type": "code",
   "execution_count": 465,
   "outputs": [],
   "source": [],
   "metadata": {
    "collapsed": false,
    "ExecuteTime": {
     "start_time": "2023-06-13T15:24:13.334429Z",
     "end_time": "2023-06-13T15:24:13.343476Z"
    }
   }
  },
  {
   "cell_type": "code",
   "execution_count": 465,
   "outputs": [],
   "source": [],
   "metadata": {
    "collapsed": false,
    "ExecuteTime": {
     "start_time": "2023-06-13T15:24:10.466249Z",
     "end_time": "2023-06-13T15:24:10.475469Z"
    }
   }
  },
  {
   "cell_type": "code",
   "execution_count": 465,
   "outputs": [],
   "source": [],
   "metadata": {
    "collapsed": false,
    "ExecuteTime": {
     "start_time": "2023-06-13T15:24:07.504034Z",
     "end_time": "2023-06-13T15:24:07.513203Z"
    }
   }
  },
  {
   "cell_type": "code",
   "execution_count": 465,
   "outputs": [],
   "source": [],
   "metadata": {
    "collapsed": false,
    "ExecuteTime": {
     "start_time": "2023-06-13T15:24:04.539842Z",
     "end_time": "2023-06-13T15:24:04.549720Z"
    }
   }
  },
  {
   "cell_type": "code",
   "execution_count": 465,
   "outputs": [],
   "source": [],
   "metadata": {
    "collapsed": false,
    "ExecuteTime": {
     "start_time": "2023-06-13T15:24:04.682063Z",
     "end_time": "2023-06-13T15:24:04.705227Z"
    }
   }
  },
  {
   "cell_type": "code",
   "execution_count": 465,
   "outputs": [],
   "source": [],
   "metadata": {
    "collapsed": false,
    "ExecuteTime": {
     "start_time": "2023-06-13T15:24:04.937367Z",
     "end_time": "2023-06-13T15:24:04.947620Z"
    }
   }
  },
  {
   "cell_type": "markdown",
   "source": [
    "### most important features\n",
    "ecmwf-eps_9:\n",
    "- day_8_error\n",
    "- gfs-ens-bc_9\n",
    "- ecmwf_diff_8\n",
    "- noon\n",
    "- cmc-ens_9\n",
    "\n",
    "ecmwf-eps_10:\n",
    "- ecmwf-eps_9\n",
    "- gfs-ens-bc_10\n",
    "- gfs-ens-bc_9\n",
    "- ecmwf_diff_9\n",
    "- cmc-ens_10\n",
    "- noon\n",
    "\n",
    "ecmwf-eps_11:\n",
    "- ecmwf-eps_10\n",
    "- gfs-ens-bc_10\n",
    "- gfs-ens-bc_11\n",
    "- ecmwf-eps_9\n",
    "- gfs-ens-bc_9\n",
    "- cmc-ens_11\n",
    "\n",
    "ecmwf-eps_12:\n",
    "- ecmwf-eps_11\n",
    "- gfs-ens-bc_11\n",
    "- gfs-ens-bc_12\n",
    "- ecmwf-eps_10\n",
    "- gfs-ens-bc_10\n",
    "\n",
    "ecmwf-eps_13:\n",
    "- ecmwf-eps_12\n",
    "- gfs-ens-bc_12\n",
    "- ecmwf-eps_11\n",
    "- gfs-ens-bc_13\n",
    "- ecmwf-eps_10"
   ],
   "metadata": {
    "collapsed": false
   }
  },
  {
   "cell_type": "markdown",
   "source": [
    "# error forecasting"
   ],
   "metadata": {
    "collapsed": false
   }
  },
  {
   "cell_type": "markdown",
   "source": [
    "### ideas\n",
    "- use timeseries based only on previous values\n",
    "- use features used to build above model"
   ],
   "metadata": {
    "collapsed": false
   }
  },
  {
   "cell_type": "code",
   "execution_count": 492,
   "outputs": [
    {
     "name": "stdout",
     "output_type": "stream",
     "text": [
      "Predicting with TabularPredictor for label: ecmwf-eps_9 ...\n",
      "Predicting with TabularPredictor for label: ecmwf-eps_10 ...\n",
      "Predicting with TabularPredictor for label: ecmwf-eps_11 ...\n",
      "Predicting with TabularPredictor for label: ecmwf-eps_12 ...\n",
      "Predicting with TabularPredictor for label: ecmwf-eps_13 ...\n",
      "Predicting with TabularPredictor for label: ecmwf-eps_14 ...\n"
     ]
    }
   ],
   "source": [
    "preds = multi_predictor.predict(train_data)"
   ],
   "metadata": {
    "collapsed": false,
    "ExecuteTime": {
     "start_time": "2023-06-15T09:54:22.791731Z",
     "end_time": "2023-06-15T09:54:27.387173Z"
    }
   }
  },
  {
   "cell_type": "code",
   "execution_count": 493,
   "outputs": [],
   "source": [],
   "metadata": {
    "collapsed": false,
    "ExecuteTime": {
     "start_time": "2023-06-15T09:54:55.290000Z",
     "end_time": "2023-06-15T09:54:55.303701Z"
    }
   }
  },
  {
   "cell_type": "code",
   "execution_count": 494,
   "outputs": [],
   "source": [
    "from prophet import Prophet"
   ],
   "metadata": {
    "collapsed": false,
    "ExecuteTime": {
     "start_time": "2023-06-15T09:54:55.615112Z",
     "end_time": "2023-06-15T09:54:55.641673Z"
    }
   }
  },
  {
   "cell_type": "code",
   "execution_count": 495,
   "outputs": [],
   "source": [
    "day = 0\n",
    "pred = preds.iloc[:, day]\n",
    "actual = train_data[f'ecmwf-eps_{day+9}']\n",
    "#merge pred and actual\n",
    "errors_df = pd.concat([pred, actual], axis=1)\n",
    "errors_df.columns = ['preds', 'actual']"
   ],
   "metadata": {
    "collapsed": false,
    "ExecuteTime": {
     "start_time": "2023-06-15T09:54:57.954737Z",
     "end_time": "2023-06-15T09:54:57.978990Z"
    }
   }
  },
  {
   "cell_type": "code",
   "execution_count": 499,
   "outputs": [],
   "source": [
    "errors_df['error'] = errors_df['preds'] - errors_df['actual']\n",
    "df = errors_df[['error']].copy()\n",
    "df['ds'] = df.index\n",
    "df.columns = ['y', 'ds']\n",
    "df.reset_index(inplace=True)"
   ],
   "metadata": {
    "collapsed": false,
    "ExecuteTime": {
     "start_time": "2023-06-15T09:55:18.209391Z",
     "end_time": "2023-06-15T09:55:18.241994Z"
    }
   }
  },
  {
   "cell_type": "code",
   "execution_count": null,
   "outputs": [],
   "source": [
    "df.drop(columns=['index'], inplace=True)"
   ],
   "metadata": {
    "collapsed": false
   }
  },
  {
   "cell_type": "code",
   "execution_count": 503,
   "outputs": [
    {
     "name": "stderr",
     "output_type": "stream",
     "text": [
      "09:55:53 - cmdstanpy - INFO - Chain [1] start processing\n",
      "09:55:53 - cmdstanpy - INFO - Chain [1] done processing\n"
     ]
    },
    {
     "data": {
      "text/plain": "<prophet.forecaster.Prophet at 0x7fc052fb6aa0>"
     },
     "execution_count": 503,
     "metadata": {},
     "output_type": "execute_result"
    }
   ],
   "source": [
    "m = Prophet()\n",
    "m.fit(df)"
   ],
   "metadata": {
    "collapsed": false,
    "ExecuteTime": {
     "start_time": "2023-06-15T09:55:53.537553Z",
     "end_time": "2023-06-15T09:55:53.792842Z"
    }
   }
  },
  {
   "cell_type": "code",
   "execution_count": 504,
   "outputs": [
    {
     "data": {
      "text/plain": "                      ds\n3145 2023-05-29 12:00:00\n3146 2023-05-30 12:00:00\n3147 2023-05-31 12:00:00\n3148 2023-06-01 12:00:00\n3149 2023-06-02 12:00:00",
      "text/html": "<div>\n<style scoped>\n    .dataframe tbody tr th:only-of-type {\n        vertical-align: middle;\n    }\n\n    .dataframe tbody tr th {\n        vertical-align: top;\n    }\n\n    .dataframe thead th {\n        text-align: right;\n    }\n</style>\n<table border=\"1\" class=\"dataframe\">\n  <thead>\n    <tr style=\"text-align: right;\">\n      <th></th>\n      <th>ds</th>\n    </tr>\n  </thead>\n  <tbody>\n    <tr>\n      <th>3145</th>\n      <td>2023-05-29 12:00:00</td>\n    </tr>\n    <tr>\n      <th>3146</th>\n      <td>2023-05-30 12:00:00</td>\n    </tr>\n    <tr>\n      <th>3147</th>\n      <td>2023-05-31 12:00:00</td>\n    </tr>\n    <tr>\n      <th>3148</th>\n      <td>2023-06-01 12:00:00</td>\n    </tr>\n    <tr>\n      <th>3149</th>\n      <td>2023-06-02 12:00:00</td>\n    </tr>\n  </tbody>\n</table>\n</div>"
     },
     "execution_count": 504,
     "metadata": {},
     "output_type": "execute_result"
    }
   ],
   "source": [
    "future = m.make_future_dataframe(periods=365)\n",
    "future.tail()"
   ],
   "metadata": {
    "collapsed": false,
    "ExecuteTime": {
     "start_time": "2023-06-15T09:56:04.350995Z",
     "end_time": "2023-06-15T09:56:04.356773Z"
    }
   }
  },
  {
   "cell_type": "code",
   "execution_count": null,
   "outputs": [],
   "source": [],
   "metadata": {
    "collapsed": false
   }
  }
 ],
 "metadata": {
  "kernelspec": {
   "display_name": "Python 3",
   "language": "python",
   "name": "python3"
  },
  "language_info": {
   "codemirror_mode": {
    "name": "ipython",
    "version": 2
   },
   "file_extension": ".py",
   "mimetype": "text/x-python",
   "name": "python",
   "nbconvert_exporter": "python",
   "pygments_lexer": "ipython2",
   "version": "2.7.6"
  }
 },
 "nbformat": 4,
 "nbformat_minor": 0
}
