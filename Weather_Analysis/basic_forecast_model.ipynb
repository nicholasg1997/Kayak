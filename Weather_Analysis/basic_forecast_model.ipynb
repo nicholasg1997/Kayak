{
 "cells": [
  {
   "cell_type": "code",
   "execution_count": 2,
   "metadata": {
    "collapsed": true,
    "ExecuteTime": {
     "start_time": "2023-06-13T15:34:23.723682Z",
     "end_time": "2023-06-13T15:34:26.185522Z"
    }
   },
   "outputs": [],
   "source": [
    "import pandas as pd\n",
    "import glob\n",
    "import matplotlib.pyplot as plt\n",
    "from datetime import datetime, time\n",
    "import numpy as np\n",
    "import matplotlib.pyplot as plt\n",
    "from sklearn.ensemble import RandomForestRegressor\n",
    "from sklearn.model_selection import train_test_split\n",
    "from sklearn.metrics import mean_squared_error\n",
    "from sklearn.preprocessing import MinMaxScaler\n",
    "import copy\n",
    "from meteostat import Stations, Daily\n",
    "import torch\n",
    "import torch.nn as nn\n",
    "import torch.optim as optim\n",
    "import torch.nn.functional as F\n",
    "from torcheval.metrics import R2Score\n",
    "import os"
   ]
  },
  {
   "cell_type": "code",
   "execution_count": 4,
   "outputs": [],
   "source": [
    "degree_days = 'gw_hdd'"
   ],
   "metadata": {
    "collapsed": false,
    "ExecuteTime": {
     "start_time": "2023-06-13T15:35:02.086128Z",
     "end_time": "2023-06-13T15:35:02.100987Z"
    }
   }
  },
  {
   "cell_type": "code",
   "execution_count": null,
   "outputs": [],
   "source": [
    "path = \"RawData\"\n",
    "\n",
    "\n",
    "def extract_date_time(filename):\n",
    "    \"\"\"\n",
    "    extract the date and time from the filename\n",
    "    :param filename:\n",
    "    :return:\n",
    "    \"\"\"\n",
    "    parts = filename.split('.')\n",
    "    date = parts[1]\n",
    "    time = parts[2]\n",
    "    return date, time\n",
    "\n",
    "\n",
    "def get_date(df, file):\n",
    "    \"\"\"get the date from the dataframe and the time from the filename and combine them into a datetime object\n",
    "    :param df: dataframe containing the date\n",
    "    :param file: filename containing the time\n",
    "    :return: datetime object\n",
    "    \"\"\"\n",
    "    #date_str = df[df.iloc[:, 2] == 1].iloc[0]['Date']\n",
    "    date_str = str(file.split('.')[1])\n",
    "    time_str = str(file.split('.')[2])\n",
    "    #date = datetime.strptime(date_str, '%Y-%m-%d')\n",
    "    date = datetime.strptime(date_str, '%Y%m%d')\n",
    "    time_value = time(int(time_str), 0)\n",
    "    combined_datetime = datetime.combine(date.date(), time_value)\n",
    "    return combined_datetime\n",
    "\n",
    "\n",
    "\n",
    "ecmwf_files = glob.glob(path + f'/ecmwf.*.[01][02].{degree_days}.csv')\n",
    "ecmwf_sorted_files = sorted(ecmwf_files, key=lambda x: (x.split('.')[1], x.split('.')[2]))[3:]\n",
    "\n",
    "ecmwf_eps_files = glob.glob(path + f'/ecmwf-eps.*.[01][02].{degree_days}.csv')\n",
    "ecmwf_eps_sorted_files = sorted(ecmwf_eps_files, key=lambda x: (x.split('.')[1], x.split('.')[2]))[2:]\n",
    "\n",
    "gfs_ens_bc_files = glob.glob(path + f'/gfs-ens-bc.*.[01][02].{degree_days}.csv')\n",
    "gfs_ens_bc_sorted_files = sorted(gfs_ens_bc_files, key=lambda x: (x.split('.')[1], x.split('.')[2]))[2:]\n",
    "\n",
    "cmc_ens_files = glob.glob(path + f'/cmc-ens.*.[01][02].{degree_days}.csv')\n",
    "cmc_ens_sorted_files = sorted(cmc_ens_files, key=lambda x: (x.split('.')[1], x.split('.')[2]))[2:]\n",
    "for _ in range(2):\n",
    "    set1 = set((extract_date_time(filename) for filename in ecmwf_sorted_files))\n",
    "    set2 = set((extract_date_time(filename) for filename in ecmwf_eps_sorted_files))\n",
    "\n",
    "    ecmwf_sorted_files = [filename for filename in ecmwf_sorted_files if extract_date_time(filename) in set2]\n",
    "    ecmwf_eps_sorted_files = [filename for filename in ecmwf_eps_sorted_files if extract_date_time(filename) in set1]\n",
    "    cmc_ens_sorted_files = [filename for filename in cmc_ens_sorted_files if extract_date_time(filename) in set1]\n",
    "\n",
    "    master_set = set((extract_date_time(filename) for filename in cmc_ens_sorted_files))\n",
    "    gfs_ens_bc_sorted_files = [filename for filename in gfs_ens_bc_sorted_files if\n",
    "                               extract_date_time(filename) in master_set]\n",
    "\n",
    "    master_set = set((extract_date_time(filename) for filename in gfs_ens_bc_sorted_files))\n",
    "\n",
    "    ecmwf_sorted_files = [filename for filename in ecmwf_sorted_files if extract_date_time(filename) in master_set]\n",
    "    ecmwf_eps_sorted_files = [filename for filename in ecmwf_eps_sorted_files if\n",
    "                              extract_date_time(filename) in master_set]\n",
    "    gfs_ens_bc_sorted_files = [filename for filename in gfs_ens_bc_sorted_files if\n",
    "                               extract_date_time(filename) in master_set]\n",
    "    cmc_ens_sorted_files = [filename for filename in cmc_ens_sorted_files if extract_date_time(filename) in master_set]"
   ],
   "metadata": {
    "collapsed": false,
    "ExecuteTime": {
     "start_time": "2023-06-13T13:25:14.575630Z",
     "end_time": "2023-06-13T13:25:15.057828Z"
    }
   }
  },
  {
   "cell_type": "code",
   "execution_count": null,
   "outputs": [],
   "source": [
    "ecmwf_eps_change_df = pd.DataFrame(columns=['ecmwf-eps_9', 'ecmwf-eps_10', 'ecmwf-eps_11', 'ecmwf-eps_12',\n",
    "                                  'ecmwf-eps_13', 'ecmwf-eps_14'])\n",
    "passed_rows = []\n",
    "for i in range(1, len(ecmwf_eps_sorted_files)):\n",
    "    ecmwf_eps_df = pd.read_csv(ecmwf_eps_sorted_files[i])\n",
    "    ecmwf_eps_df = ecmwf_eps_df[ecmwf_eps_df[ecmwf_eps_df.columns[2]] >= 1]\n",
    "    prev_ecmwf_eps_df = pd.read_csv(ecmwf_eps_sorted_files[i-1])\n",
    "    prev_ecmwf_eps_df = prev_ecmwf_eps_df[prev_ecmwf_eps_df[prev_ecmwf_eps_df.columns[2]] >= 1]\n",
    "\n",
    "    date = get_date(ecmwf_eps_df, ecmwf_eps_sorted_files[i])\n",
    "    prev_date = get_date(prev_ecmwf_eps_df, ecmwf_eps_sorted_files[i-1])\n",
    "    d2 = str(date)[:10]\n",
    "    d1 = str(prev_date)[:10]\n",
    "\n",
    "    if d2 != d1:\n",
    "        offset = 1\n",
    "    else:\n",
    "        offset = 0\n",
    "\n",
    "    changes = []\n",
    "    try:\n",
    "        for day in range(8, 14):\n",
    "            changes.append(ecmwf_eps_df.iloc[day - offset]['Value'] - prev_ecmwf_eps_df.iloc[day]['Value'])\n",
    "        new_row = pd.DataFrame([changes], columns=ecmwf_eps_change_df.columns, index=[date])\n",
    "        ecmwf_eps_change_df = pd.concat([ecmwf_eps_change_df, new_row])\n",
    "    except IndexError:\n",
    "        print(f\"error on {date}\")\n",
    "        passed_rows.append(i)"
   ],
   "metadata": {
    "collapsed": false,
    "ExecuteTime": {
     "start_time": "2023-06-13T13:25:15.062433Z",
     "end_time": "2023-06-13T13:25:25.446123Z"
    }
   }
  },
  {
   "cell_type": "code",
   "execution_count": null,
   "outputs": [],
   "source": [
    "passed_rows"
   ],
   "metadata": {
    "collapsed": false,
    "ExecuteTime": {
     "start_time": "2023-06-13T13:25:25.446640Z",
     "end_time": "2023-06-13T13:25:25.449267Z"
    }
   }
  },
  {
   "cell_type": "code",
   "execution_count": null,
   "outputs": [],
   "source": [],
   "metadata": {
    "collapsed": false,
    "ExecuteTime": {
     "start_time": "2023-06-13T13:25:25.450253Z",
     "end_time": "2023-06-13T13:25:25.452222Z"
    }
   }
  },
  {
   "cell_type": "code",
   "execution_count": null,
   "outputs": [],
   "source": [
    "ecmwf_change_df = pd.DataFrame(columns=['ecmwf_diff_8', 'ecmwf_diff_9',])\n",
    "passed_rows = []\n",
    "for i in range(1, len(ecmwf_sorted_files)):\n",
    "    ecmwf_df = pd.read_csv(ecmwf_sorted_files[i])\n",
    "    ecmwf_df = ecmwf_df[ecmwf_df[ecmwf_df.columns[2]] >= 1]\n",
    "    ecmwf_eps_df = pd.read_csv(ecmwf_eps_sorted_files[i-1])\n",
    "    ecmwf_eps_df = ecmwf_eps_df[ecmwf_eps_df[ecmwf_eps_df.columns[2]] >= 1]\n",
    "\n",
    "    try:\n",
    "        ecmwf = ecmwf_df.iloc[8]\n",
    "        ecmwf_eps = ecmwf_eps_df.iloc[9]\n",
    "    except IndexError:\n",
    "        print(f\"error on row: {i}\")\n",
    "        passed_rows.append(i)\n",
    "        continue\n",
    "\n",
    "    date = get_date(ecmwf_df, ecmwf_sorted_files[i])\n",
    "    prev_date = get_date(ecmwf_eps_df, ecmwf_eps_sorted_files[i-1])\n",
    "    d2 = str(date)[:10]\n",
    "    d1 = str(prev_date)[:10]\n",
    "    if d2 != d1:\n",
    "        offset = 1\n",
    "    else:\n",
    "        offset = 0\n",
    "\n",
    "    changes = []\n",
    "    try:\n",
    "        for day in range(8,10):\n",
    "            changes.append(ecmwf_df.iloc[day - offset]['Value'] - ecmwf_eps_df.iloc[day]['Value'])\n",
    "        new_row = pd.DataFrame([changes], columns=ecmwf_change_df.columns, index=[date])\n",
    "        ecmwf_change_df = pd.concat([ecmwf_change_df, new_row])\n",
    "    except IndexError:\n",
    "        print(f\"error on {date}\")\n",
    "        passed_rows.append(i)"
   ],
   "metadata": {
    "collapsed": false,
    "ExecuteTime": {
     "start_time": "2023-06-13T13:25:25.457357Z",
     "end_time": "2023-06-13T13:25:33.495466Z"
    }
   }
  },
  {
   "cell_type": "code",
   "execution_count": null,
   "outputs": [],
   "source": [
    "passed_rows"
   ],
   "metadata": {
    "collapsed": false,
    "ExecuteTime": {
     "start_time": "2023-06-13T13:25:33.495961Z",
     "end_time": "2023-06-13T13:25:33.498847Z"
    }
   }
  },
  {
   "cell_type": "code",
   "execution_count": null,
   "outputs": [],
   "source": [],
   "metadata": {
    "collapsed": false,
    "ExecuteTime": {
     "start_time": "2023-06-13T13:25:33.499396Z",
     "end_time": "2023-06-13T13:25:33.501284Z"
    }
   }
  },
  {
   "cell_type": "code",
   "execution_count": null,
   "outputs": [],
   "source": [],
   "metadata": {
    "collapsed": false,
    "ExecuteTime": {
     "start_time": "2023-06-13T13:25:33.501730Z",
     "end_time": "2023-06-13T13:25:33.503492Z"
    }
   }
  },
  {
   "cell_type": "code",
   "execution_count": null,
   "outputs": [],
   "source": [
    "gfs_ens_bc_change_df = pd.DataFrame(columns=['gfs-ens-bc_9', 'gfs-ens-bc_10', 'gfs-ens-bc_11', 'gfs-ens-bc_12',\n",
    "                                  'gfs-ens-bc_13', 'gfs-ens-bc_14'])\n",
    "passed_rows = []\n",
    "for i in range(1, len(gfs_ens_bc_sorted_files)):\n",
    "    gfs_ens_bc_df = pd.read_csv(gfs_ens_bc_sorted_files[i])\n",
    "    gfs_ens_bc_df = gfs_ens_bc_df[gfs_ens_bc_df[gfs_ens_bc_df.columns[2]] >= 1]\n",
    "    prev_ecmwf_eps_df = pd.read_csv(ecmwf_eps_sorted_files[i-1])\n",
    "    prev_ecmwf_eps_df = prev_ecmwf_eps_df[prev_ecmwf_eps_df[prev_ecmwf_eps_df.columns[2]] >= 1]\n",
    "\n",
    "    try:\n",
    "        date = get_date(gfs_ens_bc_df, gfs_ens_bc_sorted_files[i])\n",
    "        prev_date = get_date(prev_ecmwf_eps_df, ecmwf_eps_sorted_files[i-1])\n",
    "    except IndexError:\n",
    "        print(f\"error on row: {i}\")\n",
    "        passed_rows.append(i)\n",
    "        continue\n",
    "\n",
    "    d2 = str(date)[:10]\n",
    "    d1 = str(prev_date)[:10]\n",
    "    if d2 != d1:\n",
    "        offset = 1\n",
    "    else:\n",
    "        offset = 0\n",
    "\n",
    "    changes = []\n",
    "    try:\n",
    "        for day in range(8, 14):\n",
    "            changes.append(gfs_ens_bc_df.iloc[day - offset]['Value'] - prev_ecmwf_eps_df.iloc[day]['Value'])\n",
    "        new_row = pd.DataFrame([changes], columns=gfs_ens_bc_change_df.columns, index=[date])\n",
    "        gfs_ens_bc_change_df = pd.concat([gfs_ens_bc_change_df, new_row])\n",
    "    except IndexError:\n",
    "        print(f\"error on {date}\")\n",
    "        passed_rows.append(i)"
   ],
   "metadata": {
    "collapsed": false,
    "ExecuteTime": {
     "start_time": "2023-06-13T13:25:33.509910Z",
     "end_time": "2023-06-13T13:25:42.791631Z"
    }
   }
  },
  {
   "cell_type": "code",
   "execution_count": null,
   "outputs": [],
   "source": [
    "passed_rows"
   ],
   "metadata": {
    "collapsed": false,
    "ExecuteTime": {
     "start_time": "2023-06-13T13:25:42.792186Z",
     "end_time": "2023-06-13T13:25:42.795578Z"
    }
   }
  },
  {
   "cell_type": "code",
   "execution_count": null,
   "outputs": [],
   "source": [
    "cmc_ens_change_df = pd.DataFrame(columns=['cmc-ens_9', 'cmc-ens_10', 'cmc-ens_11', 'cmc-ens_12',\n",
    "                                  'cmc-ens_13', 'cmc-ens_14'])\n",
    "passed_rows = []\n",
    "\n",
    "for i in range(1, len(cmc_ens_sorted_files)):\n",
    "    cmc_ens_df = pd.read_csv(cmc_ens_sorted_files[i])\n",
    "    cmc_ens_df = cmc_ens_df[cmc_ens_df[cmc_ens_df.columns[2]] >= 1]\n",
    "    gfs_ens_bc_df = pd.read_csv(gfs_ens_bc_sorted_files[i])\n",
    "    gfs_ens_bc_df = gfs_ens_bc_df[gfs_ens_bc_df[gfs_ens_bc_df.columns[2]] >= 1]\n",
    "    date = get_date(cmc_ens_df, cmc_ens_sorted_files[i])\n",
    "\n",
    "    changes = []\n",
    "    try:\n",
    "        for day in range(8, 14):\n",
    "            changes.append(cmc_ens_df.iloc[day]['Value'] - gfs_ens_bc_df.iloc[day]['Value'])\n",
    "        new_row = pd.DataFrame([changes], columns=cmc_ens_change_df.columns, index=[date])\n",
    "        cmc_ens_change_df = pd.concat([cmc_ens_change_df, new_row])\n",
    "    except IndexError:\n",
    "        print(f\"error on {date}\")\n",
    "        passed_rows.append(i)"
   ],
   "metadata": {
    "collapsed": false,
    "ExecuteTime": {
     "start_time": "2023-06-13T13:25:42.798951Z",
     "end_time": "2023-06-13T13:25:53.334313Z"
    }
   }
  },
  {
   "cell_type": "code",
   "execution_count": null,
   "outputs": [],
   "source": [
    "passed_rows"
   ],
   "metadata": {
    "collapsed": false,
    "ExecuteTime": {
     "start_time": "2023-06-13T13:25:53.335011Z",
     "end_time": "2023-06-13T13:25:53.337565Z"
    }
   }
  },
  {
   "cell_type": "code",
   "execution_count": null,
   "outputs": [],
   "source": [
    "day_8_error = pd.DataFrame(columns=['day_8_error'])\n",
    "passed_rows = []\n",
    "\n",
    "for i in range(1, len(ecmwf_eps_sorted_files)):\n",
    "    ecmwf_eps_df = pd.read_csv(ecmwf_eps_sorted_files[i])\n",
    "    ecmwf_eps_df = ecmwf_eps_df[ecmwf_eps_df[ecmwf_eps_df.columns[2]] >= 1]\n",
    "    prev_ecmwf_eps_df = pd.read_csv(ecmwf_eps_sorted_files[i-1])\n",
    "    prev_ecmwf_eps_df = prev_ecmwf_eps_df[prev_ecmwf_eps_df[prev_ecmwf_eps_df.columns[2]] >= 1]\n",
    "\n",
    "    date = get_date(ecmwf_eps_df, ecmwf_eps_sorted_files[i])\n",
    "    prev_date = get_date(prev_ecmwf_eps_df, ecmwf_eps_sorted_files[i-1])\n",
    "    d2 = str(date)[:10]\n",
    "    d1 = str(prev_date)[:10]\n",
    "\n",
    "    if d2 != d1:\n",
    "        offset = 1\n",
    "    else:\n",
    "        offset = 0\n",
    "    day = 7\n",
    "    changes = []\n",
    "    try:\n",
    "        changes.append(ecmwf_eps_df.iloc[day]['Value'] - prev_ecmwf_eps_df.iloc[day + offset]['Value'])\n",
    "        new_row = pd.DataFrame([changes], columns=day_8_error.columns, index=[date])\n",
    "        day_8_error = pd.concat([day_8_error, new_row])\n",
    "    except IndexError:\n",
    "        print(f\"error on {date}\")\n",
    "        passed_rows.append(i)"
   ],
   "metadata": {
    "collapsed": false,
    "ExecuteTime": {
     "start_time": "2023-06-13T13:25:53.341542Z",
     "end_time": "2023-06-13T13:26:00.401404Z"
    }
   }
  },
  {
   "cell_type": "code",
   "execution_count": null,
   "outputs": [],
   "source": [
    "errors_df = pd.DataFrame(columns=['error_9', 'error_10', 'error_11', 'error_12', 'error_13', 'error_14'])\n",
    "passed_rows = []\n",
    "\n",
    "for i in range(2, len(ecmwf_eps_sorted_files)):\n",
    "    ecmwf_eps_df = pd.read_csv(ecmwf_eps_sorted_files[i-1])\n",
    "    ecmwf_eps_df = ecmwf_eps_df[ecmwf_eps_df[ecmwf_eps_df.columns[2]] >= 1]\n",
    "    prev_ecmwf_eps_df = pd.read_csv(ecmwf_eps_sorted_files[i-2])\n",
    "    prev_ecmwf_eps_df = prev_ecmwf_eps_df[prev_ecmwf_eps_df[prev_ecmwf_eps_df.columns[2]] >= 1]\n",
    "\n",
    "    date = get_date(ecmwf_eps_df, ecmwf_eps_sorted_files[i])\n",
    "    prev_date = get_date(prev_ecmwf_eps_df, ecmwf_eps_sorted_files[i-1])\n",
    "    d2 = str(date)[:10]\n",
    "    d1 = str(prev_date)[:10]\n",
    "\n",
    "    if d2 != d1:\n",
    "        offset = 1\n",
    "    else:\n",
    "        offset = 0\n",
    "\n",
    "    errors = []\n",
    "    try:\n",
    "        for day in range(8, 14):\n",
    "            errors.append(ecmwf_eps_df.iloc[day - offset]['Value'] - prev_ecmwf_eps_df.iloc[day]['Value'])\n",
    "        new_row = pd.DataFrame([errors], columns=errors_df.columns, index=[date])\n",
    "        errors_df = pd.concat([errors_df, new_row])\n",
    "    except IndexError:\n",
    "        print(f\"error on {date}\")\n",
    "        passed_rows.append(i)"
   ],
   "metadata": {
    "collapsed": false,
    "ExecuteTime": {
     "start_time": "2023-06-13T13:26:00.405453Z",
     "end_time": "2023-06-13T13:26:09.095589Z"
    }
   }
  },
  {
   "cell_type": "markdown",
   "source": [
    "new features"
   ],
   "metadata": {
    "collapsed": false
   }
  },
  {
   "cell_type": "code",
   "execution_count": null,
   "outputs": [],
   "source": [
    "#add if noon"
   ],
   "metadata": {
    "collapsed": false,
    "ExecuteTime": {
     "start_time": "2023-06-13T13:26:09.095518Z",
     "end_time": "2023-06-13T13:26:09.097702Z"
    }
   }
  },
  {
   "cell_type": "code",
   "execution_count": null,
   "outputs": [],
   "source": [],
   "metadata": {
    "collapsed": false,
    "ExecuteTime": {
     "start_time": "2023-06-13T13:26:09.098498Z",
     "end_time": "2023-06-13T13:26:09.102166Z"
    }
   }
  },
  {
   "cell_type": "code",
   "execution_count": null,
   "outputs": [],
   "source": [],
   "metadata": {
    "collapsed": false,
    "ExecuteTime": {
     "start_time": "2023-06-13T13:26:09.101128Z",
     "end_time": "2023-06-13T13:26:09.103615Z"
    }
   }
  },
  {
   "cell_type": "code",
   "execution_count": null,
   "outputs": [],
   "source": [
    "errors_df['noon'] = errors_df.index.hour\n",
    "errors_df['noon'] = errors_df['noon'].apply(lambda x: 1 if x == 12 else 0)"
   ],
   "metadata": {
    "collapsed": false,
    "ExecuteTime": {
     "start_time": "2023-06-13T13:26:09.103682Z",
     "end_time": "2023-06-13T13:26:09.108866Z"
    }
   }
  },
  {
   "cell_type": "code",
   "execution_count": null,
   "outputs": [],
   "source": [],
   "metadata": {
    "collapsed": false,
    "ExecuteTime": {
     "start_time": "2023-06-13T13:26:09.109233Z",
     "end_time": "2023-06-13T13:26:09.110890Z"
    }
   }
  },
  {
   "cell_type": "code",
   "execution_count": null,
   "outputs": [],
   "source": [
    "def f(x):\n",
    "    y = 1 - (abs(x-7) / 7)\n",
    "    return y"
   ],
   "metadata": {
    "collapsed": false,
    "ExecuteTime": {
     "start_time": "2023-06-13T13:26:09.111836Z",
     "end_time": "2023-06-13T13:26:09.117396Z"
    }
   }
  },
  {
   "cell_type": "code",
   "execution_count": null,
   "outputs": [],
   "source": [
    "errors_df['month'] = errors_df.index.month\n",
    "#errors_df['month'] = errors_df['month'].apply(lambda x: f(x))"
   ],
   "metadata": {
    "collapsed": false,
    "ExecuteTime": {
     "start_time": "2023-06-13T13:26:09.115749Z",
     "end_time": "2023-06-13T13:26:09.133080Z"
    }
   }
  },
  {
   "cell_type": "code",
   "execution_count": null,
   "outputs": [],
   "source": [],
   "metadata": {
    "collapsed": false,
    "ExecuteTime": {
     "start_time": "2023-06-13T13:26:09.119363Z",
     "end_time": "2023-06-13T13:26:09.133411Z"
    }
   }
  },
  {
   "cell_type": "code",
   "execution_count": null,
   "outputs": [],
   "source": [
    "master_df = pd.concat([gfs_ens_bc_change_df, cmc_ens_change_df, ecmwf_change_df, errors_df, day_8_error, ecmwf_eps_change_df], axis=1)\n",
    "master_df.fillna(0, inplace=True)\n",
    "display(master_df[-5:])"
   ],
   "metadata": {
    "collapsed": false,
    "ExecuteTime": {
     "start_time": "2023-06-13T13:26:09.122461Z",
     "end_time": "2023-06-13T13:26:09.142123Z"
    }
   }
  },
  {
   "cell_type": "code",
   "execution_count": null,
   "outputs": [],
   "source": [
    "master_df.to_pickle('master_df.pkl')"
   ],
   "metadata": {
    "collapsed": false,
    "ExecuteTime": {
     "start_time": "2023-06-13T13:26:09.142666Z",
     "end_time": "2023-06-13T13:26:09.147147Z"
    }
   }
  },
  {
   "cell_type": "markdown",
   "source": [
    "random forest"
   ],
   "metadata": {
    "collapsed": false
   }
  },
  {
   "cell_type": "code",
   "execution_count": 409,
   "outputs": [],
   "source": [
    "master_df = pd.read_pickle('master_df.pkl')"
   ],
   "metadata": {
    "collapsed": false,
    "ExecuteTime": {
     "start_time": "2023-06-13T14:15:57.938759Z",
     "end_time": "2023-06-13T14:15:57.950869Z"
    }
   }
  },
  {
   "cell_type": "code",
   "execution_count": null,
   "outputs": [],
   "source": [
    "master_df['ecmwf-eps_9'][-800:].plot()"
   ],
   "metadata": {
    "collapsed": false,
    "ExecuteTime": {
     "start_time": "2023-06-13T13:24:31.508026Z",
     "end_time": "2023-06-13T13:24:31.722541Z"
    }
   }
  },
  {
   "cell_type": "code",
   "execution_count": null,
   "outputs": [],
   "source": [
    "X = master_df.iloc[:, :-6]\n",
    "y = master_df.iloc[:, -6:]"
   ],
   "metadata": {
    "collapsed": false,
    "ExecuteTime": {
     "start_time": "2023-06-07T10:51:14.008246Z",
     "end_time": "2023-06-07T10:51:14.013047Z"
    }
   }
  },
  {
   "cell_type": "code",
   "execution_count": null,
   "outputs": [],
   "source": [],
   "metadata": {
    "collapsed": false,
    "ExecuteTime": {
     "start_time": "2023-06-07T10:51:14.671726Z",
     "end_time": "2023-06-07T10:51:14.674477Z"
    }
   }
  },
  {
   "cell_type": "code",
   "execution_count": null,
   "outputs": [],
   "source": [
    "X_train, X_test, y_train, y_test = train_test_split(X, y, test_size=0.2, random_state=42)\n",
    "rf_model = RandomForestRegressor(n_estimators=1000, max_depth=100, random_state=42)\n",
    "rf_model.fit(X_train, y_train)"
   ],
   "metadata": {
    "collapsed": false,
    "ExecuteTime": {
     "start_time": "2023-06-07T10:51:14.851932Z",
     "end_time": "2023-06-07T10:52:01.639354Z"
    }
   }
  },
  {
   "cell_type": "code",
   "execution_count": null,
   "outputs": [],
   "source": [
    "y_pred = rf_model.predict(X_test)\n",
    "mse = mean_squared_error(y_test, y_pred)\n",
    "print(\"Mean Squared Error:\", mse)"
   ],
   "metadata": {
    "collapsed": false,
    "ExecuteTime": {
     "start_time": "2023-06-07T10:52:01.641000Z",
     "end_time": "2023-06-07T10:52:02.138638Z"
    }
   }
  },
  {
   "cell_type": "markdown",
   "source": [
    "RNN"
   ],
   "metadata": {
    "collapsed": false
   }
  },
  {
   "cell_type": "code",
   "execution_count": null,
   "outputs": [],
   "source": [
    "input_features = master_df.iloc[:, :-6].values ** 2\n",
    "target_variables = master_df.iloc[:, -6:].values\n",
    "\n",
    "# Split the data into training, validation, and testing sets\n",
    "X_train, X_test, y_train, y_test = train_test_split(\n",
    "    input_features, target_variables, test_size=0.2, shuffle=False)\n",
    "\n",
    "X_train, X_val, y_train, y_val = train_test_split(\n",
    "    X_train, y_train, test_size=0.2, shuffle=False)\n",
    "\n",
    "# Scale the input features based on the training data\n",
    "scaler = MinMaxScaler()\n",
    "X_train_scaled = scaler.fit_transform(X_train)\n",
    "\n",
    "# Scale the validation and test data based on the training data\n",
    "X_val_scaled = scaler.transform(X_val)\n",
    "X_test_scaled = scaler.transform(X_test)\n",
    "\n",
    "# Convert the scaled data to PyTorch tensors\n",
    "\n",
    "X_train_tensor = torch.Tensor(X_train_scaled)\n",
    "y_train_tensor = torch.Tensor(y_train)\n",
    "X_val_tensor = torch.Tensor(X_val_scaled)\n",
    "y_val_tensor = torch.Tensor(y_val)\n",
    "X_test_tensor = torch.Tensor(X_test_scaled)\n",
    "y_test_tensor = torch.Tensor(y_test)"
   ],
   "metadata": {
    "collapsed": false,
    "ExecuteTime": {
     "start_time": "2023-06-07T11:57:17.393078Z",
     "end_time": "2023-06-07T11:57:17.402574Z"
    }
   }
  },
  {
   "cell_type": "code",
   "execution_count": null,
   "outputs": [],
   "source": [
    "#benchmark error\n",
    "total_mse = 0\n",
    "c = 0\n",
    "for i in range(1, len(y_test_tensor)):\n",
    "    #mse = mean_squared_error(y_test_tensor[i], y_test_tensor[i-1])\n",
    "    mse = mean_squared_error(y_test_tensor[i], [0,0,0,0,0,0])\n",
    "    total_mse += mse\n",
    "    c += 1\n",
    "\n",
    "total_mse/c"
   ],
   "metadata": {
    "collapsed": false,
    "ExecuteTime": {
     "start_time": "2023-06-07T11:57:17.571212Z",
     "end_time": "2023-06-07T11:57:17.642334Z"
    }
   }
  },
  {
   "cell_type": "code",
   "execution_count": null,
   "outputs": [],
   "source": [
    "class RNN(nn.Module):\n",
    "    def __init__(self, input_size, hidden_size, output_size, num_layers, dropout):\n",
    "        super(RNN, self).__init__()\n",
    "\n",
    "        self.hidden_size = hidden_size\n",
    "        self.num_layers = num_layers\n",
    "\n",
    "        self.lstm = nn.LSTM(input_size, hidden_size, num_layers=num_layers, batch_first=True, dropout=dropout)\n",
    "        self.fc1 = nn.Linear(hidden_size, 64)  # Dense layer with 64 units\n",
    "        self.fc2 = nn.Linear(64, output_size)  # Final output layer\n",
    "\n",
    "    def forward(self, x):\n",
    "        h0 = torch.zeros(self.num_layers, x.size(0), self.hidden_size).to(x.device)\n",
    "        c0 = torch.zeros(self.num_layers, x.size(0), self.hidden_size).to(x.device)\n",
    "\n",
    "        out, _ = self.lstm(x, (h0, c0))\n",
    "        out = F.relu(out)  # Apply ReLU activation between LSTM and first dense layer\n",
    "        out = self.fc1(out[:, -1, :])\n",
    "        out = F.relu(out)  # Apply ReLU activation to the output of the first dense layer\n",
    "        out = self.fc2(out)\n",
    "\n",
    "        return out"
   ],
   "metadata": {
    "collapsed": false,
    "ExecuteTime": {
     "start_time": "2023-06-07T11:57:18.215284Z",
     "end_time": "2023-06-07T11:57:18.221355Z"
    }
   }
  },
  {
   "cell_type": "code",
   "execution_count": null,
   "outputs": [],
   "source": [
    "input_size = X_train_tensor.shape[1]\n",
    "output_size = y_train_tensor.shape[1]\n",
    "hidden_size = 256\n",
    "num_layers = 3\n",
    "dropout = 0.3\n",
    "lr = 0.01\n",
    "mps_device = torch.device(\"mps\")"
   ],
   "metadata": {
    "collapsed": false,
    "ExecuteTime": {
     "start_time": "2023-06-07T11:58:01.427352Z",
     "end_time": "2023-06-07T11:58:01.432498Z"
    }
   }
  },
  {
   "cell_type": "code",
   "execution_count": null,
   "outputs": [],
   "source": [
    "model = RNN(input_size, hidden_size, output_size, num_layers, dropout)\n",
    "criterion = nn.MSELoss()\n",
    "optimizer = optim.Adam(model.parameters(), lr=lr, weight_decay=0.001)"
   ],
   "metadata": {
    "collapsed": false,
    "ExecuteTime": {
     "start_time": "2023-06-07T11:04:37.978958Z",
     "end_time": "2023-06-07T11:04:37.991726Z"
    }
   }
  },
  {
   "cell_type": "code",
   "execution_count": null,
   "outputs": [],
   "source": [
    "num_epochs = 100\n",
    "sequence_length = 10  # Number of previous days to consider\n",
    "\n",
    "best_loss = float('inf')\n",
    "best_model = None\n",
    "train_losses = []\n",
    "val_losses = []\n",
    "\n",
    "for epoch in range(num_epochs):\n",
    "    model.train()  # Set the model to training mode\n",
    "    total_loss = 0\n",
    "\n",
    "    # Loop through each sequence in the training data\n",
    "    for i in range(sequence_length, X_train_tensor.shape[0]):\n",
    "        # Extract the current sequence and target\n",
    "        input_seq = X_train_tensor[i - sequence_length:i].view(1, sequence_length, -1)\n",
    "        target_seq = y_train_tensor[i]\n",
    "\n",
    "        # Forward pass\n",
    "        output = model(input_seq)\n",
    "        loss = criterion(output, target_seq.unsqueeze(0))\n",
    "\n",
    "        # Backward and optimize\n",
    "        optimizer.zero_grad()\n",
    "        loss.backward()\n",
    "        optimizer.step()\n",
    "\n",
    "        total_loss += loss.item()\n",
    "\n",
    "    average_loss = total_loss / (X_train_tensor.shape[0] - sequence_length)\n",
    "    train_losses.append(average_loss)\n",
    "    print(f'Epoch [{epoch + 1}/{num_epochs}], Training Loss: {average_loss}')\n",
    "\n",
    "    # Validation stage\n",
    "    model.eval()  # Set the model to evaluation mode\n",
    "    with torch.no_grad():\n",
    "        total_val_loss = 0\n",
    "\n",
    "        for i in range(sequence_length, X_val_tensor.shape[0]):\n",
    "            input_seq = X_val_tensor[i - sequence_length:i].view(1, sequence_length, -1)\n",
    "            target_seq = y_val_tensor[i]\n",
    "\n",
    "            output = model(input_seq)\n",
    "            val_loss = criterion(output, target_seq.unsqueeze(0))\n",
    "\n",
    "            total_val_loss += val_loss.item()\n",
    "\n",
    "        average_val_loss = total_val_loss / (X_val_tensor.shape[0] - sequence_length)\n",
    "        val_losses.append(average_val_loss)\n",
    "        print(f'Epoch [{epoch + 1}/{num_epochs}], Validation Loss: {average_val_loss}')\n",
    "\n",
    "        # Check if current model is the best based on validation loss\n",
    "        if average_val_loss < best_loss:\n",
    "            best_loss = average_val_loss\n",
    "            best_model = copy.deepcopy(model)\n",
    "\n",
    "# After training, use the best model for testing\n",
    "model = best_model"
   ],
   "metadata": {
    "collapsed": false,
    "ExecuteTime": {
     "start_time": "2023-06-07T10:52:26.272553Z",
     "end_time": "2023-06-07T10:59:06.610026Z"
    }
   }
  },
  {
   "cell_type": "code",
   "execution_count": null,
   "outputs": [],
   "source": [
    "def plot_losses(train_losses, val_losses):\n",
    "    fig, ax = plt.subplots(figsize=(12, 6))\n",
    "    ax.plot(train_losses, label='Training Loss')\n",
    "    ax.plot(val_losses, label='Validation Loss')\n",
    "    ax.set_xlabel('Epoch')\n",
    "    ax.set_ylabel('Loss')\n",
    "    ax.legend()\n",
    "    plt.show()\n",
    "plot_losses(train_losses, val_losses)"
   ],
   "metadata": {
    "collapsed": false,
    "ExecuteTime": {
     "start_time": "2023-06-07T11:29:40.798333Z",
     "end_time": "2023-06-07T11:29:40.955675Z"
    }
   }
  },
  {
   "cell_type": "code",
   "execution_count": null,
   "outputs": [],
   "source": [
    "model.eval()  # Set the model to evaluation mode\n",
    "\n",
    "with torch.no_grad():\n",
    "    test_loss = 0.0\n",
    "    predictions = []\n",
    "\n",
    "    for i in range(sequence_length, X_test_tensor.shape[0]):\n",
    "        input_seq = X_test_tensor[i - sequence_length:i].view(1, sequence_length, -1)\n",
    "        target_seq = y_test_tensor[i]\n",
    "\n",
    "        output = model(input_seq)\n",
    "        loss = criterion(output, target_seq.unsqueeze(0))\n",
    "\n",
    "        test_loss += loss.item()\n",
    "\n",
    "        # Extract the scalar value from the tensor and append it to predictions\n",
    "        predictions.append(output.squeeze().tolist())\n",
    "\n",
    "    average_test_loss = test_loss / (X_test_tensor.shape[0] - sequence_length)\n",
    "    print(f'Test Loss: {average_test_loss}')\n",
    "\n",
    "    # Convert the predictions and target values to numpy arrays\n",
    "    predictions = np.array(predictions)\n",
    "    targets = y_test_tensor[sequence_length:].numpy()\n",
    "\n",
    "    # Evaluate the performance using appropriate metrics\n",
    "    # For example, calculate mean squared error (MSE)\n",
    "    mse = mean_squared_error(targets, predictions)\n",
    "    metric = R2Score()\n",
    "    r2 = metric.update(torch.tensor(predictions), torch.tensor(targets)).compute()\n",
    "    print(f'Mean Squared Error (MSE): {mse}')\n",
    "    print(f'R2 Score: {r2}')"
   ],
   "metadata": {
    "collapsed": false,
    "ExecuteTime": {
     "start_time": "2023-06-07T11:29:42.167101Z",
     "end_time": "2023-06-07T11:29:44.081810Z"
    }
   }
  },
  {
   "cell_type": "code",
   "execution_count": null,
   "outputs": [],
   "source": [],
   "metadata": {
    "collapsed": false,
    "ExecuteTime": {
     "start_time": "2023-06-07T11:29:50.774388Z",
     "end_time": "2023-06-07T11:29:50.781270Z"
    }
   }
  },
  {
   "cell_type": "code",
   "execution_count": null,
   "outputs": [],
   "source": [
    "def prediction(input):\n",
    "    model.eval()\n",
    "\n",
    "    with torch.no_grad():\n",
    "        input_seq = torch.tensor(input).view(1, sequence_length, -1)\n",
    "        output = model(input_seq)\n",
    "        return output.squeeze().tolist()"
   ],
   "metadata": {
    "collapsed": false,
    "ExecuteTime": {
     "start_time": "2023-06-07T11:29:50.970175Z",
     "end_time": "2023-06-07T11:29:50.974005Z"
    }
   }
  },
  {
   "cell_type": "code",
   "execution_count": null,
   "outputs": [],
   "source": [
    "pred = prediction(X_test_tensor[-sequence_length:])"
   ],
   "metadata": {
    "collapsed": false,
    "ExecuteTime": {
     "start_time": "2023-06-07T11:30:05.822139Z",
     "end_time": "2023-06-07T11:30:05.837688Z"
    }
   }
  },
  {
   "cell_type": "code",
   "execution_count": null,
   "outputs": [],
   "source": [
    "pred"
   ],
   "metadata": {
    "collapsed": false,
    "ExecuteTime": {
     "start_time": "2023-06-07T11:30:06.606259Z",
     "end_time": "2023-06-07T11:30:06.609147Z"
    }
   }
  },
  {
   "cell_type": "code",
   "execution_count": null,
   "outputs": [],
   "source": [
    "y_test_tensor[-1]"
   ],
   "metadata": {
    "collapsed": false,
    "ExecuteTime": {
     "start_time": "2023-06-07T11:30:07.257100Z",
     "end_time": "2023-06-07T11:30:07.266004Z"
    }
   }
  },
  {
   "cell_type": "code",
   "execution_count": null,
   "outputs": [],
   "source": [
    "if not os.path.exists('master_df.pkl'):\n",
    "    print('does not exist')\n",
    "else:\n",
    "    print('exists')"
   ],
   "metadata": {
    "collapsed": false,
    "ExecuteTime": {
     "start_time": "2023-06-13T10:52:46.267901Z",
     "end_time": "2023-06-13T10:52:46.274414Z"
    }
   }
  },
  {
   "cell_type": "code",
   "execution_count": null,
   "outputs": [],
   "source": [],
   "metadata": {
    "collapsed": false,
    "ExecuteTime": {
     "start_time": "2023-06-07T12:13:04.741373Z",
     "end_time": "2023-06-07T12:13:04.749586Z"
    }
   }
  },
  {
   "cell_type": "code",
   "execution_count": null,
   "outputs": [],
   "source": [],
   "metadata": {
    "collapsed": false
   }
  },
  {
   "cell_type": "markdown",
   "source": [
    "# Autogloun"
   ],
   "metadata": {
    "collapsed": false
   }
  },
  {
   "cell_type": "code",
   "execution_count": 7,
   "outputs": [],
   "source": [
    "from autogluon.tabular import TabularDataset, TabularPredictor\n",
    "from autogluon.common.utils.utils import setup_outputdir\n",
    "from autogluon.core.utils.loaders import load_pkl\n",
    "from autogluon.core.utils.savers import save_pkl\n",
    "from autogluon.features.generators import AutoMLPipelineFeatureGenerator\n",
    "import os.path"
   ],
   "metadata": {
    "collapsed": false,
    "ExecuteTime": {
     "start_time": "2023-06-13T15:35:22.876553Z",
     "end_time": "2023-06-13T15:35:23.040881Z"
    }
   }
  },
  {
   "cell_type": "code",
   "execution_count": 415,
   "outputs": [],
   "source": [
    "imp_features = list(set([\"day_8_error\", \"gfs-ens-bc_9\", \"ecmwf_diff_8\", \"noon\", \"cmc-ens_9\",\n",
    "                    \"gfs-ens-bc_10\", \"gfs-ens-bc_9\", \"ecmwf_diff_9\", \"cmc-ens_10\",\n",
    "                    \"noon\", \"gfs-ens-bc_10\", \"gfs-ens-bc_11\", \"gfs-ens-bc_9\",\n",
    "                    \"cmc-ens_11\", \"gfs-ens-bc_11\", \"gfs-ens-bc_12\", \"gfs-ens-bc_10\",\n",
    "                    \"gfs-ens-bc_12\", \"gfs-ens-bc_13\"]))"
   ],
   "metadata": {
    "collapsed": false,
    "ExecuteTime": {
     "start_time": "2023-06-13T14:17:53.704645Z",
     "end_time": "2023-06-13T14:17:53.714528Z"
    }
   }
  },
  {
   "cell_type": "code",
   "execution_count": 8,
   "outputs": [],
   "source": [
    "labels = ['ecmwf-eps_9', 'ecmwf-eps_10', 'ecmwf-eps_11', 'ecmwf-eps_12', 'ecmwf-eps_13',\n",
    "          'ecmwf-eps_14']"
   ],
   "metadata": {
    "collapsed": false,
    "ExecuteTime": {
     "start_time": "2023-06-13T15:35:25.042289Z",
     "end_time": "2023-06-13T15:35:25.056992Z"
    }
   }
  },
  {
   "cell_type": "code",
   "execution_count": 417,
   "outputs": [],
   "source": [
    "#y = master_df.iloc[:, -6:].copy()\n",
    "#y = y.reset_index(drop=True)\n",
    "#X = master_df.iloc[:, :-6].copy()\n",
    "#X['Date'] = X.index\n",
    "#X = X.reset_index(drop=True)"
   ],
   "metadata": {
    "collapsed": false,
    "ExecuteTime": {
     "start_time": "2023-06-13T14:17:54.029233Z",
     "end_time": "2023-06-13T14:17:54.038229Z"
    }
   }
  },
  {
   "cell_type": "code",
   "execution_count": 418,
   "outputs": [],
   "source": [
    "#auto_ml_pipeline_feature_generator = AutoMLPipelineFeatureGenerator()\n",
    "#X = auto_ml_pipeline_feature_generator.fit_transform(X=X)"
   ],
   "metadata": {
    "collapsed": false,
    "ExecuteTime": {
     "start_time": "2023-06-13T14:17:54.201145Z",
     "end_time": "2023-06-13T14:17:54.210058Z"
    }
   }
  },
  {
   "cell_type": "code",
   "execution_count": 418,
   "outputs": [],
   "source": [],
   "metadata": {
    "collapsed": false,
    "ExecuteTime": {
     "start_time": "2023-06-13T14:17:54.343023Z",
     "end_time": "2023-06-13T14:17:54.352675Z"
    }
   }
  },
  {
   "cell_type": "code",
   "execution_count": 419,
   "outputs": [],
   "source": [
    "#df = pd.concat([X, y], axis=1)"
   ],
   "metadata": {
    "collapsed": false,
    "ExecuteTime": {
     "start_time": "2023-06-13T14:17:54.520174Z",
     "end_time": "2023-06-13T14:17:54.528893Z"
    }
   }
  },
  {
   "cell_type": "code",
   "execution_count": 5,
   "outputs": [],
   "source": [
    "master_df = pd.read_pickle(f'master_df_{degree_days}.pkl')"
   ],
   "metadata": {
    "collapsed": false,
    "ExecuteTime": {
     "start_time": "2023-06-13T15:35:17.192377Z",
     "end_time": "2023-06-13T15:35:17.206978Z"
    }
   }
  },
  {
   "cell_type": "code",
   "execution_count": 9,
   "outputs": [],
   "source": [
    "train_len = 0.8\n",
    "train_data = TabularDataset(master_df[:int(len(master_df)*train_len)])\n",
    "test_data = TabularDataset(master_df[int(len(master_df)*train_len):])"
   ],
   "metadata": {
    "collapsed": false,
    "ExecuteTime": {
     "start_time": "2023-06-13T15:35:29.761280Z",
     "end_time": "2023-06-13T15:35:29.775296Z"
    }
   }
  },
  {
   "cell_type": "code",
   "execution_count": 10,
   "outputs": [],
   "source": [
    "#train_data = train_data.loc[:, imp_features + labels]\n",
    "#test_data = test_data.loc[:, imp_features + labels]"
   ],
   "metadata": {
    "collapsed": false,
    "ExecuteTime": {
     "start_time": "2023-06-13T15:35:31.181415Z",
     "end_time": "2023-06-13T15:35:31.202015Z"
    }
   }
  },
  {
   "cell_type": "code",
   "execution_count": 11,
   "outputs": [],
   "source": [
    "save_path = 'models'"
   ],
   "metadata": {
    "collapsed": false,
    "ExecuteTime": {
     "start_time": "2023-06-13T15:35:31.324301Z",
     "end_time": "2023-06-13T15:35:31.333191Z"
    }
   }
  },
  {
   "cell_type": "code",
   "execution_count": 12,
   "outputs": [
    {
     "data": {
      "text/plain": "                     gfs-ens-bc_9  gfs-ens-bc_10  gfs-ens-bc_11  \\\n2018-07-11 00:00:00         0.012          0.009          0.006   \n2018-07-11 12:00:00         0.001          0.001          0.004   \n2018-07-12 00:00:00         0.010          0.007          0.011   \n2018-07-12 12:00:00         0.006          0.009          0.010   \n2018-07-13 00:00:00         0.012          0.007          0.008   \n\n                     gfs-ens-bc_12  gfs-ens-bc_13  gfs-ens-bc_14  cmc-ens_9  \\\n2018-07-11 00:00:00          0.002          0.004          0.011     -0.008   \n2018-07-11 12:00:00          0.009          0.011          0.013     -0.003   \n2018-07-12 00:00:00          0.013          0.011          0.008     -0.007   \n2018-07-12 12:00:00          0.009          0.009          0.009     -0.008   \n2018-07-13 00:00:00          0.007          0.009          0.009     -0.007   \n\n                     cmc-ens_10  cmc-ens_11  cmc-ens_12  ...  error_13  \\\n2018-07-11 00:00:00      -0.005      -0.001      -0.003  ...     0.000   \n2018-07-11 12:00:00      -0.002      -0.004      -0.008  ...     0.001   \n2018-07-12 00:00:00      -0.011      -0.013      -0.011  ...    -0.001   \n2018-07-12 12:00:00      -0.009      -0.009      -0.010  ...     0.001   \n2018-07-13 00:00:00      -0.009      -0.009      -0.010  ...     0.001   \n\n                     error_14  noon  day_8_error  ecmwf-eps_9  ecmwf-eps_10  \\\n2018-07-11 00:00:00     0.000   0.0        0.000        0.000         0.002   \n2018-07-11 12:00:00    -0.001   1.0        0.005        0.001         0.000   \n2018-07-12 00:00:00     0.000   0.0        0.000        0.000         0.003   \n2018-07-12 12:00:00    -0.001   1.0       -0.002       -0.003        -0.001   \n2018-07-13 00:00:00     0.001   0.0        0.000        0.000         0.000   \n\n                     ecmwf-eps_11  ecmwf-eps_12  ecmwf-eps_13  ecmwf-eps_14  \n2018-07-11 00:00:00         0.001         0.000         0.000         0.000  \n2018-07-11 12:00:00         0.000         0.000        -0.001         0.001  \n2018-07-12 00:00:00         0.001         0.000         0.001         0.000  \n2018-07-12 12:00:00         0.001         0.001         0.000         0.000  \n2018-07-13 00:00:00        -0.002        -0.002         0.001         0.004  \n\n[5 rows x 28 columns]",
      "text/html": "<div>\n<style scoped>\n    .dataframe tbody tr th:only-of-type {\n        vertical-align: middle;\n    }\n\n    .dataframe tbody tr th {\n        vertical-align: top;\n    }\n\n    .dataframe thead th {\n        text-align: right;\n    }\n</style>\n<table border=\"1\" class=\"dataframe\">\n  <thead>\n    <tr style=\"text-align: right;\">\n      <th></th>\n      <th>gfs-ens-bc_9</th>\n      <th>gfs-ens-bc_10</th>\n      <th>gfs-ens-bc_11</th>\n      <th>gfs-ens-bc_12</th>\n      <th>gfs-ens-bc_13</th>\n      <th>gfs-ens-bc_14</th>\n      <th>cmc-ens_9</th>\n      <th>cmc-ens_10</th>\n      <th>cmc-ens_11</th>\n      <th>cmc-ens_12</th>\n      <th>...</th>\n      <th>error_13</th>\n      <th>error_14</th>\n      <th>noon</th>\n      <th>day_8_error</th>\n      <th>ecmwf-eps_9</th>\n      <th>ecmwf-eps_10</th>\n      <th>ecmwf-eps_11</th>\n      <th>ecmwf-eps_12</th>\n      <th>ecmwf-eps_13</th>\n      <th>ecmwf-eps_14</th>\n    </tr>\n  </thead>\n  <tbody>\n    <tr>\n      <th>2018-07-11 00:00:00</th>\n      <td>0.012</td>\n      <td>0.009</td>\n      <td>0.006</td>\n      <td>0.002</td>\n      <td>0.004</td>\n      <td>0.011</td>\n      <td>-0.008</td>\n      <td>-0.005</td>\n      <td>-0.001</td>\n      <td>-0.003</td>\n      <td>...</td>\n      <td>0.000</td>\n      <td>0.000</td>\n      <td>0.0</td>\n      <td>0.000</td>\n      <td>0.000</td>\n      <td>0.002</td>\n      <td>0.001</td>\n      <td>0.000</td>\n      <td>0.000</td>\n      <td>0.000</td>\n    </tr>\n    <tr>\n      <th>2018-07-11 12:00:00</th>\n      <td>0.001</td>\n      <td>0.001</td>\n      <td>0.004</td>\n      <td>0.009</td>\n      <td>0.011</td>\n      <td>0.013</td>\n      <td>-0.003</td>\n      <td>-0.002</td>\n      <td>-0.004</td>\n      <td>-0.008</td>\n      <td>...</td>\n      <td>0.001</td>\n      <td>-0.001</td>\n      <td>1.0</td>\n      <td>0.005</td>\n      <td>0.001</td>\n      <td>0.000</td>\n      <td>0.000</td>\n      <td>0.000</td>\n      <td>-0.001</td>\n      <td>0.001</td>\n    </tr>\n    <tr>\n      <th>2018-07-12 00:00:00</th>\n      <td>0.010</td>\n      <td>0.007</td>\n      <td>0.011</td>\n      <td>0.013</td>\n      <td>0.011</td>\n      <td>0.008</td>\n      <td>-0.007</td>\n      <td>-0.011</td>\n      <td>-0.013</td>\n      <td>-0.011</td>\n      <td>...</td>\n      <td>-0.001</td>\n      <td>0.000</td>\n      <td>0.0</td>\n      <td>0.000</td>\n      <td>0.000</td>\n      <td>0.003</td>\n      <td>0.001</td>\n      <td>0.000</td>\n      <td>0.001</td>\n      <td>0.000</td>\n    </tr>\n    <tr>\n      <th>2018-07-12 12:00:00</th>\n      <td>0.006</td>\n      <td>0.009</td>\n      <td>0.010</td>\n      <td>0.009</td>\n      <td>0.009</td>\n      <td>0.009</td>\n      <td>-0.008</td>\n      <td>-0.009</td>\n      <td>-0.009</td>\n      <td>-0.010</td>\n      <td>...</td>\n      <td>0.001</td>\n      <td>-0.001</td>\n      <td>1.0</td>\n      <td>-0.002</td>\n      <td>-0.003</td>\n      <td>-0.001</td>\n      <td>0.001</td>\n      <td>0.001</td>\n      <td>0.000</td>\n      <td>0.000</td>\n    </tr>\n    <tr>\n      <th>2018-07-13 00:00:00</th>\n      <td>0.012</td>\n      <td>0.007</td>\n      <td>0.008</td>\n      <td>0.007</td>\n      <td>0.009</td>\n      <td>0.009</td>\n      <td>-0.007</td>\n      <td>-0.009</td>\n      <td>-0.009</td>\n      <td>-0.010</td>\n      <td>...</td>\n      <td>0.001</td>\n      <td>0.001</td>\n      <td>0.0</td>\n      <td>0.000</td>\n      <td>0.000</td>\n      <td>0.000</td>\n      <td>-0.002</td>\n      <td>-0.002</td>\n      <td>0.001</td>\n      <td>0.004</td>\n    </tr>\n  </tbody>\n</table>\n<p>5 rows × 28 columns</p>\n</div>"
     },
     "metadata": {},
     "output_type": "display_data"
    }
   ],
   "source": [
    "display(train_data.head())"
   ],
   "metadata": {
    "collapsed": false,
    "ExecuteTime": {
     "start_time": "2023-06-13T15:35:31.909251Z",
     "end_time": "2023-06-13T15:35:31.923821Z"
    }
   }
  },
  {
   "cell_type": "code",
   "execution_count": 28,
   "outputs": [],
   "source": [
    "class MultilabelPredictor():\n",
    "    \"\"\" Tabular Predictor for predicting multiple columns in table.\n",
    "        Creates multiple TabularPredictor objects which you can also use individually.\n",
    "        You can access the TabularPredictor for a particular label via: `multilabel_predictor.get_predictor(label_i)`\n",
    "\n",
    "        Parameters\n",
    "        ----------\n",
    "        labels : List[str]\n",
    "            The ith element of this list is the column (i.e. `label`) predicted by the ith TabularPredictor stored in this object.\n",
    "        path : str, default = None\n",
    "            Path to directory where models and intermediate outputs should be saved.\n",
    "            If unspecified, a time-stamped folder called \"AutogluonModels/ag-[TIMESTAMP]\" will be created in the working directory to store all models.\n",
    "            Note: To call `fit()` twice and save all results of each fit, you must specify different `path` locations or don't specify `path` at all.\n",
    "            Otherwise files from first `fit()` will be overwritten by second `fit()`.\n",
    "            Caution: when predicting many labels, this directory may grow large as it needs to store many TabularPredictors.\n",
    "        problem_types : List[str], default = None\n",
    "            The ith element is the `problem_type` for the ith TabularPredictor stored in this object.\n",
    "        eval_metrics : List[str], default = None\n",
    "            The ith element is the `eval_metric` for the ith TabularPredictor stored in this object.\n",
    "        consider_labels_correlation : bool, default = True\n",
    "            Whether the predictions of multiple labels should account for label correlations or predict each label independently of the others.\n",
    "            If True, the ordering of `labels` may affect resulting accuracy as each label is predicted conditional on the previous labels appearing earlier in this list (i.e. in an auto-regressive fashion).\n",
    "            Set to False if during inference you may want to individually use just the ith TabularPredictor without predicting all the other labels.\n",
    "        kwargs :\n",
    "            Arguments passed into the initialization of each TabularPredictor.\n",
    "\n",
    "    \"\"\"\n",
    "\n",
    "    multi_predictor_file = 'multilabel_predictor.pkl'\n",
    "\n",
    "    def __init__(self, labels, path=None, problem_types=None, eval_metrics=None, consider_labels_correlation=True, **kwargs):\n",
    "        if len(labels) < 2:\n",
    "            raise ValueError(\"MultilabelPredictor is only intended for predicting MULTIPLE labels (columns), use TabularPredictor for predicting one label (column).\")\n",
    "        if (problem_types is not None) and (len(problem_types) != len(labels)):\n",
    "            raise ValueError(\"If provided, `problem_types` must have same length as `labels`\")\n",
    "        if (eval_metrics is not None) and (len(eval_metrics) != len(labels)):\n",
    "            raise ValueError(\"If provided, `eval_metrics` must have same length as `labels`\")\n",
    "        self.path = setup_outputdir(path, warn_if_exist=False)\n",
    "        self.labels = labels\n",
    "        self.consider_labels_correlation = consider_labels_correlation\n",
    "        self.predictors = {}  # key = label, value = TabularPredictor or str path to the TabularPredictor for this label\n",
    "        if eval_metrics is None:\n",
    "            self.eval_metrics = {}\n",
    "        else:\n",
    "            self.eval_metrics = {labels[i] : eval_metrics[i] for i in range(len(labels))}\n",
    "        problem_type = None\n",
    "        eval_metric = None\n",
    "        for i in range(len(labels)):\n",
    "            label = labels[i]\n",
    "            path_i = self.path + \"Predictor_\" + label\n",
    "            if problem_types is not None:\n",
    "                problem_type = problem_types[i]\n",
    "            if eval_metrics is not None:\n",
    "                eval_metric = eval_metrics[i]\n",
    "            self.predictors[label] = TabularPredictor(label=label, problem_type=problem_type, eval_metric=eval_metric, path=path_i, **kwargs)\n",
    "\n",
    "    def fit(self, train_data, tuning_data=None, **kwargs):\n",
    "        \"\"\" Fits a separate TabularPredictor to predict each of the labels.\n",
    "\n",
    "            Parameters\n",
    "            ----------\n",
    "            train_data, tuning_data : str or autogluon.tabular.TabularDataset or pd.DataFrame\n",
    "                See documentation for `TabularPredictor.fit()`.\n",
    "            kwargs :\n",
    "                Arguments passed into the `fit()` call for each TabularPredictor.\n",
    "        \"\"\"\n",
    "        if isinstance(train_data, str):\n",
    "            train_data = TabularDataset(train_data)\n",
    "        if tuning_data is not None and isinstance(tuning_data, str):\n",
    "            tuning_data = TabularDataset(tuning_data)\n",
    "        train_data_og = train_data.copy()\n",
    "        if tuning_data is not None:\n",
    "            tuning_data_og = tuning_data.copy()\n",
    "        else:\n",
    "            tuning_data_og = None\n",
    "        save_metrics = len(self.eval_metrics) == 0\n",
    "        for i in range(len(self.labels)):\n",
    "            label = self.labels[i]\n",
    "            predictor = self.get_predictor(label)\n",
    "            if not self.consider_labels_correlation:\n",
    "                labels_to_drop = [l for l in self.labels if l != label]\n",
    "            else:\n",
    "                labels_to_drop = [self.labels[j] for j in range(i+1, len(self.labels))]\n",
    "            train_data = train_data_og.drop(labels_to_drop, axis=1)\n",
    "            if tuning_data is not None:\n",
    "                tuning_data = tuning_data_og.drop(labels_to_drop, axis=1)\n",
    "            print(f\"Fitting TabularPredictor for label: {label} ...\")\n",
    "            predictor.fit(train_data=train_data, tuning_data=tuning_data, **kwargs)\n",
    "            self.predictors[label] = predictor.path\n",
    "            if save_metrics:\n",
    "                self.eval_metrics[label] = predictor.eval_metric\n",
    "        self.save()\n",
    "\n",
    "    def predict(self, data, **kwargs):\n",
    "        \"\"\" Returns DataFrame with label columns containing predictions for each label.\n",
    "\n",
    "            Parameters\n",
    "            ----------\n",
    "            data : str or autogluon.tabular.TabularDataset or pd.DataFrame\n",
    "                Data to make predictions for. If label columns are present in this data, they will be ignored. See documentation for `TabularPredictor.predict()`.\n",
    "            kwargs :\n",
    "                Arguments passed into the predict() call for each TabularPredictor.\n",
    "        \"\"\"\n",
    "        return self._predict(data, as_proba=False, **kwargs)\n",
    "\n",
    "    def predict_proba(self, data, **kwargs):\n",
    "        \"\"\" Returns dict where each key is a label and the corresponding value is the `predict_proba()` output for just that label.\n",
    "\n",
    "            Parameters\n",
    "            ----------\n",
    "            data : str or autogluon.tabular.TabularDataset or pd.DataFrame\n",
    "                Data to make predictions for. See documentation for `TabularPredictor.predict()` and `TabularPredictor.predict_proba()`.\n",
    "            kwargs :\n",
    "                Arguments passed into the `predict_proba()` call for each TabularPredictor (also passed into a `predict()` call).\n",
    "        \"\"\"\n",
    "        return self._predict(data, as_proba=True, **kwargs)\n",
    "\n",
    "    def evaluate(self, data, **kwargs):\n",
    "        \"\"\" Returns dict where each key is a label and the corresponding value is the `evaluate()` output for just that label.\n",
    "\n",
    "            Parameters\n",
    "            ----------\n",
    "            data : str or autogluon.tabular.TabularDataset or pd.DataFrame\n",
    "                Data to evalate predictions of all labels for, must contain all labels as columns. See documentation for `TabularPredictor.evaluate()`.\n",
    "            kwargs :\n",
    "                Arguments passed into the `evaluate()` call for each TabularPredictor (also passed into the `predict()` call).\n",
    "        \"\"\"\n",
    "        data = self._get_data(data)\n",
    "        eval_dict = {}\n",
    "        for label in self.labels:\n",
    "            print(f\"Evaluating TabularPredictor for label: {label} ...\")\n",
    "            predictor = self.get_predictor(label)\n",
    "            eval_dict[label] = predictor.evaluate(data, **kwargs)\n",
    "            if self.consider_labels_correlation:\n",
    "                data[label] = predictor.predict(data, **kwargs)\n",
    "        return eval_dict\n",
    "\n",
    "    def feature_imp(self,data, **kwargs):\n",
    "        data = self._get_data(data)\n",
    "        eval_dict = {}\n",
    "        for label in self.labels:\n",
    "            predictor = self.get_predictor(label)\n",
    "            eval_dict[label] = predictor.feature_importance(data, **kwargs)\n",
    "            print(f\"Evaluating feature importance for label: {label} ...\")\n",
    "        return eval_dict\n",
    "\n",
    "    def best_model(self):\n",
    "        for label in self.labels:\n",
    "            predictor = self.get_predictor(label)\n",
    "            best_model = predictor.best_model()\n",
    "            print(f\"Best model for {label}: {best_model}\")\n",
    "\n",
    "    def save(self):\n",
    "        \"\"\" Save MultilabelPredictor to disk. \"\"\"\n",
    "        for label in self.labels:\n",
    "            if not isinstance(self.predictors[label], str):\n",
    "                self.predictors[label] = self.predictors[label].path\n",
    "        save_pkl.save(path=self.path+self.multi_predictor_file, object=self)\n",
    "        print(f\"MultilabelPredictor saved to disk. Load with: MultilabelPredictor.load('{self.path}')\")\n",
    "\n",
    "    @classmethod\n",
    "    def load(cls, path):\n",
    "        \"\"\" Load MultilabelPredictor from disk `path` previously specified when creating this MultilabelPredictor. \"\"\"\n",
    "        path = os.path.expanduser(path)\n",
    "        if path[-1] != os.path.sep:\n",
    "            path = path + os.path.sep\n",
    "        return load_pkl.load(path=path+cls.multi_predictor_file)\n",
    "\n",
    "    def get_predictor(self, label):\n",
    "        \"\"\" Returns TabularPredictor which is used to predict this label. \"\"\"\n",
    "        predictor = self.predictors[label]\n",
    "        if isinstance(predictor, str):\n",
    "            return TabularPredictor.load(path=predictor)\n",
    "        return predictor\n",
    "\n",
    "    def _get_data(self, data):\n",
    "        if isinstance(data, str):\n",
    "            return TabularDataset(data)\n",
    "        return data.copy()\n",
    "\n",
    "    def _predict(self, data, as_proba=False, **kwargs):\n",
    "        data = self._get_data(data)\n",
    "        if as_proba:\n",
    "            predproba_dict = {}\n",
    "        for label in self.labels:\n",
    "            print(f\"Predicting with TabularPredictor for label: {label} ...\")\n",
    "            predictor = self.get_predictor(label)\n",
    "            if as_proba:\n",
    "                predproba_dict[label] = predictor.predict_proba(data, as_multiclass=True, **kwargs)\n",
    "            data[label] = predictor.predict(data, **kwargs)\n",
    "        if not as_proba:\n",
    "            return data[self.labels]\n",
    "        else:\n",
    "            return predproba_dict"
   ],
   "metadata": {
    "collapsed": false,
    "ExecuteTime": {
     "start_time": "2023-06-14T09:11:43.436457Z",
     "end_time": "2023-06-14T09:11:43.445945Z"
    }
   }
  },
  {
   "cell_type": "code",
   "execution_count": null,
   "outputs": [],
   "source": [
    "multi_predictor = MultilabelPredictor(labels=labels, path=save_path)"
   ],
   "metadata": {
    "collapsed": false,
    "ExecuteTime": {
     "start_time": "2023-06-13T10:05:10.897133Z",
     "end_time": "2023-06-13T10:05:10.907180Z"
    }
   }
  },
  {
   "cell_type": "code",
   "execution_count": null,
   "outputs": [],
   "source": [
    "multi_predictor.fit(train_data) # add presets='best_quality' for better results, but longer runtime"
   ],
   "metadata": {
    "collapsed": false,
    "ExecuteTime": {
     "start_time": "2023-06-13T10:05:11.449709Z",
     "end_time": "2023-06-13T10:06:35.437833Z"
    }
   }
  },
  {
   "cell_type": "code",
   "execution_count": null,
   "outputs": [],
   "source": [
    "feature_imp = multi_predictor.feature_imp(train_data)\n"
   ],
   "metadata": {
    "collapsed": false,
    "ExecuteTime": {
     "start_time": "2023-06-13T10:06:35.810849Z",
     "end_time": "2023-06-13T10:06:50.865292Z"
    }
   }
  },
  {
   "cell_type": "code",
   "execution_count": null,
   "outputs": [],
   "source": [
    "print(feature_imp)"
   ],
   "metadata": {
    "collapsed": false,
    "ExecuteTime": {
     "start_time": "2023-06-13T10:08:33.533764Z",
     "end_time": "2023-06-13T10:08:33.564910Z"
    }
   }
  },
  {
   "cell_type": "code",
   "execution_count": 29,
   "outputs": [
    {
     "data": {
      "text/plain": "                     gfs-ens-bc_9  gfs-ens-bc_10  gfs-ens-bc_11  \\\n2022-06-03 00:00:00        -0.324         -0.276         -0.110   \n2022-06-03 12:00:00        -0.233         -0.238         -0.207   \n2022-06-04 00:00:00        -0.164         -0.103         -0.039   \n2022-06-04 12:00:00        -0.224         -0.029         -0.032   \n2022-06-05 00:00:00         0.238          0.247          0.328   \n\n                     gfs-ens-bc_12  gfs-ens-bc_13  gfs-ens-bc_14  cmc-ens_9  \\\n2022-06-03 00:00:00         -0.182         -0.039          0.143      0.272   \n2022-06-03 12:00:00         -0.074          0.055          0.106     -0.070   \n2022-06-04 00:00:00          0.044          0.033          0.025      0.201   \n2022-06-04 12:00:00         -0.087         -0.065          0.020     -0.119   \n2022-06-05 00:00:00          0.372          0.151         -0.013     -0.160   \n\n                     cmc-ens_10  cmc-ens_11  cmc-ens_12  ...  ecmwf_diff_8  \\\n2022-06-03 00:00:00       0.178       0.121       0.060  ...        -0.456   \n2022-06-03 12:00:00      -0.170      -0.144      -0.096  ...        -0.433   \n2022-06-04 00:00:00      -0.113      -0.270      -0.269  ...        -0.194   \n2022-06-04 12:00:00      -0.236      -0.202      -0.056  ...        -0.554   \n2022-06-05 00:00:00      -0.389      -0.462      -0.334  ...         0.011   \n\n                     ecmwf_diff_9  error_9  error_10  error_11  error_12  \\\n2022-06-03 00:00:00        -0.438   -0.122     0.004     0.088     0.016   \n2022-06-03 12:00:00        -0.322   -0.128    -0.068     0.026     0.021   \n2022-06-04 00:00:00         0.044   -0.064    -0.042    -0.085    -0.028   \n2022-06-04 12:00:00        -0.198    0.032     0.000     0.036     0.072   \n2022-06-05 00:00:00        -0.020   -0.189    -0.179    -0.218    -0.228   \n\n                     error_13  error_14  noon  day_8_error  \n2022-06-03 00:00:00    -0.049    -0.072   0.0       -0.137  \n2022-06-03 12:00:00     0.002     0.007   1.0       -0.055  \n2022-06-04 00:00:00     0.021     0.030   0.0        0.034  \n2022-06-04 12:00:00     0.047     0.033   1.0       -0.191  \n2022-06-05 00:00:00    -0.159    -0.049   0.0        0.387  \n\n[5 rows x 22 columns]",
      "text/html": "<div>\n<style scoped>\n    .dataframe tbody tr th:only-of-type {\n        vertical-align: middle;\n    }\n\n    .dataframe tbody tr th {\n        vertical-align: top;\n    }\n\n    .dataframe thead th {\n        text-align: right;\n    }\n</style>\n<table border=\"1\" class=\"dataframe\">\n  <thead>\n    <tr style=\"text-align: right;\">\n      <th></th>\n      <th>gfs-ens-bc_9</th>\n      <th>gfs-ens-bc_10</th>\n      <th>gfs-ens-bc_11</th>\n      <th>gfs-ens-bc_12</th>\n      <th>gfs-ens-bc_13</th>\n      <th>gfs-ens-bc_14</th>\n      <th>cmc-ens_9</th>\n      <th>cmc-ens_10</th>\n      <th>cmc-ens_11</th>\n      <th>cmc-ens_12</th>\n      <th>...</th>\n      <th>ecmwf_diff_8</th>\n      <th>ecmwf_diff_9</th>\n      <th>error_9</th>\n      <th>error_10</th>\n      <th>error_11</th>\n      <th>error_12</th>\n      <th>error_13</th>\n      <th>error_14</th>\n      <th>noon</th>\n      <th>day_8_error</th>\n    </tr>\n  </thead>\n  <tbody>\n    <tr>\n      <th>2022-06-03 00:00:00</th>\n      <td>-0.324</td>\n      <td>-0.276</td>\n      <td>-0.110</td>\n      <td>-0.182</td>\n      <td>-0.039</td>\n      <td>0.143</td>\n      <td>0.272</td>\n      <td>0.178</td>\n      <td>0.121</td>\n      <td>0.060</td>\n      <td>...</td>\n      <td>-0.456</td>\n      <td>-0.438</td>\n      <td>-0.122</td>\n      <td>0.004</td>\n      <td>0.088</td>\n      <td>0.016</td>\n      <td>-0.049</td>\n      <td>-0.072</td>\n      <td>0.0</td>\n      <td>-0.137</td>\n    </tr>\n    <tr>\n      <th>2022-06-03 12:00:00</th>\n      <td>-0.233</td>\n      <td>-0.238</td>\n      <td>-0.207</td>\n      <td>-0.074</td>\n      <td>0.055</td>\n      <td>0.106</td>\n      <td>-0.070</td>\n      <td>-0.170</td>\n      <td>-0.144</td>\n      <td>-0.096</td>\n      <td>...</td>\n      <td>-0.433</td>\n      <td>-0.322</td>\n      <td>-0.128</td>\n      <td>-0.068</td>\n      <td>0.026</td>\n      <td>0.021</td>\n      <td>0.002</td>\n      <td>0.007</td>\n      <td>1.0</td>\n      <td>-0.055</td>\n    </tr>\n    <tr>\n      <th>2022-06-04 00:00:00</th>\n      <td>-0.164</td>\n      <td>-0.103</td>\n      <td>-0.039</td>\n      <td>0.044</td>\n      <td>0.033</td>\n      <td>0.025</td>\n      <td>0.201</td>\n      <td>-0.113</td>\n      <td>-0.270</td>\n      <td>-0.269</td>\n      <td>...</td>\n      <td>-0.194</td>\n      <td>0.044</td>\n      <td>-0.064</td>\n      <td>-0.042</td>\n      <td>-0.085</td>\n      <td>-0.028</td>\n      <td>0.021</td>\n      <td>0.030</td>\n      <td>0.0</td>\n      <td>0.034</td>\n    </tr>\n    <tr>\n      <th>2022-06-04 12:00:00</th>\n      <td>-0.224</td>\n      <td>-0.029</td>\n      <td>-0.032</td>\n      <td>-0.087</td>\n      <td>-0.065</td>\n      <td>0.020</td>\n      <td>-0.119</td>\n      <td>-0.236</td>\n      <td>-0.202</td>\n      <td>-0.056</td>\n      <td>...</td>\n      <td>-0.554</td>\n      <td>-0.198</td>\n      <td>0.032</td>\n      <td>0.000</td>\n      <td>0.036</td>\n      <td>0.072</td>\n      <td>0.047</td>\n      <td>0.033</td>\n      <td>1.0</td>\n      <td>-0.191</td>\n    </tr>\n    <tr>\n      <th>2022-06-05 00:00:00</th>\n      <td>0.238</td>\n      <td>0.247</td>\n      <td>0.328</td>\n      <td>0.372</td>\n      <td>0.151</td>\n      <td>-0.013</td>\n      <td>-0.160</td>\n      <td>-0.389</td>\n      <td>-0.462</td>\n      <td>-0.334</td>\n      <td>...</td>\n      <td>0.011</td>\n      <td>-0.020</td>\n      <td>-0.189</td>\n      <td>-0.179</td>\n      <td>-0.218</td>\n      <td>-0.228</td>\n      <td>-0.159</td>\n      <td>-0.049</td>\n      <td>0.0</td>\n      <td>0.387</td>\n    </tr>\n  </tbody>\n</table>\n<p>5 rows × 22 columns</p>\n</div>"
     },
     "execution_count": 29,
     "metadata": {},
     "output_type": "execute_result"
    }
   ],
   "source": [
    "multi_predictor = MultilabelPredictor.load(f\"models/{degree_days}\")\n",
    "test_data_nolab = test_data.drop(columns=labels)\n",
    "test_data_nolab.head()"
   ],
   "metadata": {
    "collapsed": false,
    "ExecuteTime": {
     "start_time": "2023-06-14T09:11:54.395375Z",
     "end_time": "2023-06-14T09:11:54.427539Z"
    }
   }
  },
  {
   "cell_type": "code",
   "execution_count": 30,
   "outputs": [
    {
     "name": "stdout",
     "output_type": "stream",
     "text": [
      "Predicting with TabularPredictor for label: ecmwf-eps_9 ...\n",
      "Predicting with TabularPredictor for label: ecmwf-eps_10 ...\n",
      "Predicting with TabularPredictor for label: ecmwf-eps_11 ...\n",
      "Predicting with TabularPredictor for label: ecmwf-eps_12 ...\n",
      "Predicting with TabularPredictor for label: ecmwf-eps_13 ...\n",
      "Predicting with TabularPredictor for label: ecmwf-eps_14 ...\n",
      "Predictions:  \n",
      "                      ecmwf-eps_9  ecmwf-eps_10  ecmwf-eps_11  ecmwf-eps_12  \\\n",
      "2022-06-03 00:00:00    -0.113043     -0.093989     -0.040122     -0.094332   \n",
      "2022-06-03 12:00:00    -0.168873     -0.186023     -0.154304     -0.044776   \n",
      "2022-06-04 00:00:00     0.027795      0.059410     -0.055787     -0.111990   \n",
      "2022-06-04 12:00:00    -0.290591     -0.158507     -0.082526     -0.040561   \n",
      "2022-06-05 00:00:00     0.372010      0.203796      0.045132     -0.019628   \n",
      "...                          ...           ...           ...           ...   \n",
      "2023-05-15 00:00:00     0.990041      1.010637      0.520393      0.357825   \n",
      "2023-05-15 12:00:00    -0.703675     -0.181565      0.117421      0.122170   \n",
      "2023-05-16 00:00:00     0.382566      0.492366      0.648596      0.768448   \n",
      "2023-05-16 12:00:00    -0.631706     -0.558268     -0.321069     -0.079689   \n",
      "2023-05-17 00:00:00     0.464949      0.282491      0.043154     -0.081446   \n",
      "\n",
      "                     ecmwf-eps_13  ecmwf-eps_14  \n",
      "2022-06-03 00:00:00      0.019305      0.074425  \n",
      "2022-06-03 12:00:00      0.024991      0.009040  \n",
      "2022-06-04 00:00:00     -0.079820     -0.037095  \n",
      "2022-06-04 12:00:00      0.010014      0.028052  \n",
      "2022-06-05 00:00:00     -0.035518     -0.019892  \n",
      "...                           ...           ...  \n",
      "2023-05-15 00:00:00      0.282708      0.196998  \n",
      "2023-05-15 12:00:00      0.132277      0.048541  \n",
      "2023-05-16 00:00:00      0.798518      0.585622  \n",
      "2023-05-16 12:00:00      0.067359      0.059116  \n",
      "2023-05-17 00:00:00     -0.312049     -0.232576  \n",
      "\n",
      "[697 rows x 6 columns]\n"
     ]
    }
   ],
   "source": [
    "predictions = multi_predictor.predict(test_data_nolab)\n",
    "print(\"Predictions:  \\n\", predictions)"
   ],
   "metadata": {
    "collapsed": false,
    "ExecuteTime": {
     "start_time": "2023-06-14T09:11:57.452366Z",
     "end_time": "2023-06-14T09:11:58.809309Z"
    }
   }
  },
  {
   "cell_type": "code",
   "execution_count": 31,
   "outputs": [
    {
     "ename": "AttributeError",
     "evalue": "'MultilabelPredictor' object has no attribute 'best_model'",
     "output_type": "error",
     "traceback": [
      "\u001B[0;31m---------------------------------------------------------------------------\u001B[0m",
      "\u001B[0;31mAttributeError\u001B[0m                            Traceback (most recent call last)",
      "Cell \u001B[0;32mIn[31], line 1\u001B[0m\n\u001B[0;32m----> 1\u001B[0m \u001B[43mmulti_predictor\u001B[49m\u001B[38;5;241;43m.\u001B[39;49m\u001B[43mbest_model\u001B[49m()\n",
      "\u001B[0;31mAttributeError\u001B[0m: 'MultilabelPredictor' object has no attribute 'best_model'"
     ]
    }
   ],
   "source": [
    "multi_predictor.best_model()"
   ],
   "metadata": {
    "collapsed": false,
    "ExecuteTime": {
     "start_time": "2023-06-14T09:07:35.523035Z",
     "end_time": "2023-06-14T09:07:35.532684Z"
    }
   }
  },
  {
   "cell_type": "code",
   "execution_count": 17,
   "outputs": [
    {
     "data": {
      "text/plain": "ecmwf-eps_9     0.464949\necmwf-eps_10    0.282491\necmwf-eps_11    0.043154\necmwf-eps_12   -0.081446\necmwf-eps_13   -0.312049\necmwf-eps_14   -0.232576\nName: 2023-05-17 00:00:00, dtype: float32"
     },
     "metadata": {},
     "output_type": "display_data"
    }
   ],
   "source": [
    "display(predictions.iloc[-1])"
   ],
   "metadata": {
    "collapsed": false,
    "ExecuteTime": {
     "start_time": "2023-06-13T15:36:02.276647Z",
     "end_time": "2023-06-13T15:36:02.294930Z"
    }
   }
  },
  {
   "cell_type": "code",
   "execution_count": 18,
   "outputs": [
    {
     "data": {
      "text/plain": "ecmwf-eps_9     0.482\necmwf-eps_10    0.299\necmwf-eps_11    0.191\necmwf-eps_12   -0.095\necmwf-eps_13   -0.359\necmwf-eps_14   -0.209\nName: 2023-05-17 00:00:00, dtype: float64"
     },
     "metadata": {},
     "output_type": "display_data"
    }
   ],
   "source": [
    "display(test_data[labels].iloc[-1])"
   ],
   "metadata": {
    "collapsed": false,
    "ExecuteTime": {
     "start_time": "2023-06-13T15:36:02.584476Z",
     "end_time": "2023-06-13T15:36:02.602601Z"
    }
   }
  },
  {
   "cell_type": "code",
   "execution_count": 19,
   "outputs": [
    {
     "name": "stdout",
     "output_type": "stream",
     "text": [
      "Evaluating TabularPredictor for label: ecmwf-eps_9 ...\n"
     ]
    },
    {
     "name": "stderr",
     "output_type": "stream",
     "text": [
      "FutureWarning: Calling `predictor.predict_proba` when problem_type=regression will raise an AssertionError starting in AutoGluon v0.8. Please call `predictor.predict` instead.\n"
     ]
    },
    {
     "name": "stdout",
     "output_type": "stream",
     "text": [
      "Evaluating TabularPredictor for label: ecmwf-eps_10 ...\n"
     ]
    },
    {
     "name": "stderr",
     "output_type": "stream",
     "text": [
      "FutureWarning: Calling `predictor.predict_proba` when problem_type=regression will raise an AssertionError starting in AutoGluon v0.8. Please call `predictor.predict` instead.\n"
     ]
    },
    {
     "name": "stdout",
     "output_type": "stream",
     "text": [
      "Evaluating TabularPredictor for label: ecmwf-eps_11 ...\n"
     ]
    },
    {
     "name": "stderr",
     "output_type": "stream",
     "text": [
      "FutureWarning: Calling `predictor.predict_proba` when problem_type=regression will raise an AssertionError starting in AutoGluon v0.8. Please call `predictor.predict` instead.\n"
     ]
    },
    {
     "name": "stdout",
     "output_type": "stream",
     "text": [
      "Evaluating TabularPredictor for label: ecmwf-eps_12 ...\n"
     ]
    },
    {
     "name": "stderr",
     "output_type": "stream",
     "text": [
      "FutureWarning: Calling `predictor.predict_proba` when problem_type=regression will raise an AssertionError starting in AutoGluon v0.8. Please call `predictor.predict` instead.\n"
     ]
    },
    {
     "name": "stdout",
     "output_type": "stream",
     "text": [
      "Evaluating TabularPredictor for label: ecmwf-eps_13 ...\n"
     ]
    },
    {
     "name": "stderr",
     "output_type": "stream",
     "text": [
      "FutureWarning: Calling `predictor.predict_proba` when problem_type=regression will raise an AssertionError starting in AutoGluon v0.8. Please call `predictor.predict` instead.\n"
     ]
    },
    {
     "name": "stdout",
     "output_type": "stream",
     "text": [
      "Evaluating TabularPredictor for label: ecmwf-eps_14 ...\n"
     ]
    },
    {
     "name": "stderr",
     "output_type": "stream",
     "text": [
      "FutureWarning: Calling `predictor.predict_proba` when problem_type=regression will raise an AssertionError starting in AutoGluon v0.8. Please call `predictor.predict` instead.\n"
     ]
    },
    {
     "name": "stdout",
     "output_type": "stream",
     "text": [
      "Evaluated using metrics: {'ecmwf-eps_9': root_mean_squared_error, 'ecmwf-eps_10': root_mean_squared_error, 'ecmwf-eps_11': root_mean_squared_error, 'ecmwf-eps_12': root_mean_squared_error, 'ecmwf-eps_13': root_mean_squared_error, 'ecmwf-eps_14': root_mean_squared_error}\n"
     ]
    }
   ],
   "source": [
    "evaluations = multi_predictor.evaluate(test_data)\n",
    "#print(evaluations)\n",
    "print(\"Evaluated using metrics:\", multi_predictor.eval_metrics)"
   ],
   "metadata": {
    "collapsed": false,
    "ExecuteTime": {
     "start_time": "2023-06-13T15:37:05.689637Z",
     "end_time": "2023-06-13T15:37:08.576394Z"
    }
   }
  },
  {
   "cell_type": "code",
   "execution_count": 20,
   "outputs": [
    {
     "data": {
      "text/plain": "{'ecmwf-eps_9': {'root_mean_squared_error': -0.5049367730669845,\n  'mean_squared_error': -0.25496114479529935,\n  'mean_absolute_error': -0.2866119572260672,\n  'r2': 0.8965555647961793,\n  'pearsonr': 0.9478862630558099,\n  'median_absolute_error': -0.09294725799560766},\n 'ecmwf-eps_10': {'root_mean_squared_error': -0.7607167953716851,\n  'mean_squared_error': -0.5786900427605662,\n  'mean_absolute_error': -0.5056945373078746,\n  'r2': 0.7424533708025796,\n  'pearsonr': 0.8624216315920347,\n  'median_absolute_error': -0.32475531387329326},\n 'ecmwf-eps_11': {'root_mean_squared_error': -0.9294480842767239,\n  'mean_squared_error': -0.863873741365672,\n  'mean_absolute_error': -0.6210500643808698,\n  'r2': 0.5359056436988701,\n  'pearsonr': 0.7347066753761877,\n  'median_absolute_error': -0.3573926563262939},\n 'ecmwf-eps_12': {'root_mean_squared_error': -0.9785228288550571,\n  'mean_squared_error': -0.9575069265905035,\n  'mean_absolute_error': -0.658803275483605,\n  'r2': 0.3807210291469205,\n  'pearsonr': 0.6267667920451103,\n  'median_absolute_error': -0.38782040882110635},\n 'ecmwf-eps_13': {'root_mean_squared_error': -0.9554308969222406,\n  'mean_squared_error': -0.9128481987936372,\n  'mean_absolute_error': -0.6355022627899806,\n  'r2': 0.28154196737585413,\n  'pearsonr': 0.544616253267087,\n  'median_absolute_error': -0.3840741491317736},\n 'ecmwf-eps_14': {'root_mean_squared_error': -0.9183617088686611,\n  'mean_squared_error': -0.8433882283161674,\n  'mean_absolute_error': -0.6168675605316353,\n  'r2': 0.22608125379604305,\n  'pearsonr': 0.49258056941144945,\n  'median_absolute_error': -0.39295706564188004}}"
     },
     "execution_count": 20,
     "metadata": {},
     "output_type": "execute_result"
    }
   ],
   "source": [
    "evaluations"
   ],
   "metadata": {
    "collapsed": false,
    "ExecuteTime": {
     "start_time": "2023-06-13T15:37:08.578673Z",
     "end_time": "2023-06-13T15:37:08.581812Z"
    }
   }
  },
  {
   "cell_type": "markdown",
   "source": [
    "{'ecmwf-eps_9': {'root_mean_squared_error': -0.5070563022070824,\n",
    "  'mean_squared_error': -0.25710609360792014,\n",
    "  'mean_absolute_error': -0.2798848657393207,\n",
    "  'r2': 0.8956853027072607,\n",
    "  'pearsonr': 0.9477558158265489,\n",
    "  'median_absolute_error': -0.08431462287902924},\n",
    " 'ecmwf-eps_10': {'root_mean_squared_error': -0.7801987677851059,\n",
    "  'mean_squared_error': -0.6087101172533975,\n",
    "  'mean_absolute_error': -0.5127994778988779,\n",
    "  'r2': 0.7290929041925068,\n",
    "  'pearsonr': 0.8539896408843493,\n",
    "  'median_absolute_error': -0.3007085895538335},\n",
    " 'ecmwf-eps_11': {'root_mean_squared_error': -0.9673184506563108,\n",
    "  'mean_squared_error': -0.9357049849801256,\n",
    "  'mean_absolute_error': -0.6515933946707977,\n",
    "  'r2': 0.4973161216758266,\n",
    "  'pearsonr': 0.7102926086311597,\n",
    "  'median_absolute_error': -0.3967944383621216},\n",
    " 'ecmwf-eps_12': {'root_mean_squared_error': -0.9975580503693926,\n",
    "  'mean_squared_error': -0.9951220638567836,\n",
    "  'mean_absolute_error': -0.6839024679556679,\n",
    "  'r2': 0.35639299260967516,\n",
    "  'pearsonr': 0.6123533275180042,\n",
    "  'median_absolute_error': -0.3845637946128857},\n",
    " 'ecmwf-eps_13': {'root_mean_squared_error': -0.9652024686896034,\n",
    "  'mean_squared_error': -0.9316158055645049,\n",
    "  'mean_absolute_error': -0.6578454494274173,\n",
    "  'r2': 0.2667709048317418,\n",
    "  'pearsonr': 0.5357525489886675,\n",
    "  'median_absolute_error': -0.3887484552860272},\n",
    " 'ecmwf-eps_14': {'root_mean_squared_error': -0.9526157480747444,\n",
    "  'mean_squared_error': -0.9074767634800048,\n",
    "  'mean_absolute_error': -0.6393496713255836,\n",
    "  'r2': 0.1672716604026533,\n",
    "  'pearsonr': 0.4348277794095413,\n",
    "  'median_absolute_error': -0.42026434469222984}}"
   ],
   "metadata": {
    "collapsed": false
   }
  },
  {
   "cell_type": "code",
   "execution_count": null,
   "outputs": [],
   "source": [
    "predictor_class = multi_predictor.get_predictor('ecmwf-eps_9')\n",
    "display(predictor_class.leaderboard(silent=True))"
   ],
   "metadata": {
    "collapsed": false,
    "ExecuteTime": {
     "start_time": "2023-06-13T09:33:29.081411Z",
     "end_time": "2023-06-13T09:33:29.093110Z"
    }
   }
  },
  {
   "cell_type": "markdown",
   "source": [
    "# feature importance / training models for individual days"
   ],
   "metadata": {
    "collapsed": false
   }
  },
  {
   "cell_type": "code",
   "execution_count": null,
   "outputs": [],
   "source": [
    "from collections import Counter"
   ],
   "metadata": {
    "collapsed": false,
    "ExecuteTime": {
     "start_time": "2023-06-13T11:27:30.239642Z",
     "end_time": "2023-06-13T11:27:30.252467Z"
    }
   }
  },
  {
   "cell_type": "code",
   "execution_count": null,
   "outputs": [],
   "source": [],
   "metadata": {
    "collapsed": false,
    "ExecuteTime": {
     "start_time": "2023-06-13T11:34:42.733673Z",
     "end_time": "2023-06-13T11:34:42.748580Z"
    }
   }
  },
  {
   "cell_type": "code",
   "execution_count": null,
   "outputs": [],
   "source": [
    "most_important = []\n",
    "\n",
    "for i in range(0, 5):\n",
    "    day = i\n",
    "    train_df = train_data.iloc[:, :-5+day]\n",
    "    test_df = test_data.iloc[:, :-5+day]\n",
    "    #display(train_df.head())\n",
    "    label = f\"ecmwf-eps_{day+9}\"\n",
    "    predictor = TabularPredictor(label=label).fit(train_df)\n",
    "    y_test = test_df[label]\n",
    "    test_data_nolab = test_df.drop(columns=[label])\n",
    "    print(f\"results for {label}\")\n",
    "    y_pred = predictor.predict(test_data_nolab)\n",
    "    perf = predictor.evaluate_predictions(y_true=y_test, y_pred=y_pred, auxiliary_metrics=True)\n",
    "    shap_values = predictor.feature_importance(test_df)\n",
    "    display(shap_values)\n",
    "    most_important.append(list(shap_values.index[:6].values))"
   ],
   "metadata": {
    "collapsed": false,
    "ExecuteTime": {
     "start_time": "2023-06-13T13:31:22.661002Z",
     "end_time": "2023-06-13T13:32:59.276769Z"
    }
   }
  },
  {
   "cell_type": "code",
   "execution_count": null,
   "outputs": [],
   "source": [
    "item_counts = Counter([item for sublist in most_important for item in sublist])\n",
    "important_features = []\n",
    "for item, count in item_counts.items():\n",
    "    print(f'{item}: {count}')\n",
    "    important_features.append(item)"
   ],
   "metadata": {
    "collapsed": false,
    "ExecuteTime": {
     "start_time": "2023-06-13T11:45:55.654078Z",
     "end_time": "2023-06-13T11:45:55.669126Z"
    }
   }
  },
  {
   "cell_type": "code",
   "execution_count": null,
   "outputs": [],
   "source": [],
   "metadata": {
    "collapsed": false,
    "ExecuteTime": {
     "start_time": "2023-06-13T11:47:03.474648Z",
     "end_time": "2023-06-13T11:47:03.482576Z"
    }
   }
  },
  {
   "cell_type": "code",
   "execution_count": 410,
   "outputs": [],
   "source": [
    "import autogluon.eda.auto as auto"
   ],
   "metadata": {
    "collapsed": false,
    "ExecuteTime": {
     "start_time": "2023-06-13T14:16:06.236829Z",
     "end_time": "2023-06-13T14:16:06.252160Z"
    }
   }
  },
  {
   "cell_type": "code",
   "execution_count": 436,
   "outputs": [],
   "source": [
    "day = 4\n",
    "train_df = train_data.iloc[:, :-5+day]\n",
    "test_df = test_data.iloc[:, :-5+day]\n",
    "#display(train_df.head())\n",
    "label = f\"ecmwf-eps_{day+9}\""
   ],
   "metadata": {
    "collapsed": false,
    "ExecuteTime": {
     "start_time": "2023-06-13T14:25:05.898804Z",
     "end_time": "2023-06-13T14:25:05.906076Z"
    }
   }
  },
  {
   "cell_type": "code",
   "execution_count": 437,
   "outputs": [
    {
     "name": "stderr",
     "output_type": "stream",
     "text": [
      "No path specified. Models will be saved in: \"AutogluonModels/ag-20230613_202506/\"\n"
     ]
    },
    {
     "data": {
      "text/plain": "<IPython.core.display.Markdown object>",
      "text/markdown": "### Model Prediction for ecmwf-eps_13"
     },
     "metadata": {},
     "output_type": "display_data"
    },
    {
     "data": {
      "text/plain": "<Figure size 640x480 with 1 Axes>",
      "image/png": "[encoded data removed]"
     },
     "metadata": {},
     "output_type": "display_data"
    },
    {
     "data": {
      "text/plain": "<IPython.core.display.Markdown object>",
      "text/markdown": "### Model Leaderboard"
     },
     "metadata": {},
     "output_type": "display_data"
    },
    {
     "data": {
      "text/plain": "             model  score_test  score_val  pred_time_test  pred_time_val  \\\n0  RandomForestMSE   -0.719006  -0.570286        0.042877       0.024953   \n\n   fit_time  pred_time_test_marginal  pred_time_val_marginal  \\\n0  1.022444                 0.042877                0.024953   \n\n   fit_time_marginal  stack_level  can_infer  fit_order  \n0           1.022444            1       True          1  ",
      "text/html": "<div>\n<style scoped>\n    .dataframe tbody tr th:only-of-type {\n        vertical-align: middle;\n    }\n\n    .dataframe tbody tr th {\n        vertical-align: top;\n    }\n\n    .dataframe thead th {\n        text-align: right;\n    }\n</style>\n<table border=\"1\" class=\"dataframe\">\n  <thead>\n    <tr style=\"text-align: right;\">\n      <th></th>\n      <th>model</th>\n      <th>score_test</th>\n      <th>score_val</th>\n      <th>pred_time_test</th>\n      <th>pred_time_val</th>\n      <th>fit_time</th>\n      <th>pred_time_test_marginal</th>\n      <th>pred_time_val_marginal</th>\n      <th>fit_time_marginal</th>\n      <th>stack_level</th>\n      <th>can_infer</th>\n      <th>fit_order</th>\n    </tr>\n  </thead>\n  <tbody>\n    <tr>\n      <th>0</th>\n      <td>RandomForestMSE</td>\n      <td>-0.719006</td>\n      <td>-0.570286</td>\n      <td>0.042877</td>\n      <td>0.024953</td>\n      <td>1.022444</td>\n      <td>0.042877</td>\n      <td>0.024953</td>\n      <td>1.022444</td>\n      <td>1</td>\n      <td>True</td>\n      <td>1</td>\n    </tr>\n  </tbody>\n</table>\n</div>"
     },
     "metadata": {},
     "output_type": "display_data"
    },
    {
     "data": {
      "text/plain": "<IPython.core.display.Markdown object>",
      "text/markdown": "### Feature Importance for Trained Model"
     },
     "metadata": {},
     "output_type": "display_data"
    },
    {
     "data": {
      "text/plain": "               importance    stddev       p_value  n  p99_high   p99_low\necmwf-eps_12     0.841610  0.032305  2.599856e-07  5  0.908126  0.775094\necmwf-eps_11     0.176427  0.011557  2.197314e-06  5  0.200224  0.152630\ngfs-ens-bc_13    0.075929  0.006600  6.780215e-06  5  0.089518  0.062341\ngfs-ens-bc_12    0.022262  0.002338  1.438951e-05  5  0.027076  0.017447\ngfs-ens-bc_11    0.017697  0.003918  2.704938e-04  5  0.025765  0.009629\necmwf-eps_10     0.005887  0.002225  2.045559e-03  5  0.010469  0.001304\ngfs-ens-bc_10    0.003580  0.001116  1.000265e-03  5  0.005878  0.001282\necmwf_diff_9     0.000411  0.001487  2.848717e-01  5  0.003473 -0.002650\nnoon             0.000357  0.000251  1.670366e-02  5  0.000873 -0.000159\ncmc-ens_9       -0.000645  0.000990  8.905162e-01  5  0.001393 -0.002682\necmwf-eps_9     -0.000667  0.000657  9.570965e-01  5  0.000686 -0.002020\necmwf_diff_8    -0.000756  0.001433  8.481597e-01  5  0.002195 -0.003706\ngfs-ens-bc_9    -0.000935  0.001077  9.379240e-01  5  0.001282 -0.003153\ncmc-ens_10      -0.001809  0.000968  9.930403e-01  5  0.000184 -0.003802\nday_8_error     -0.003198  0.002057  9.872720e-01  5  0.001038 -0.007434\ncmc-ens_11      -0.005284  0.001100  9.997873e-01  5 -0.003020 -0.007548",
      "text/html": "<div>\n<style scoped>\n    .dataframe tbody tr th:only-of-type {\n        vertical-align: middle;\n    }\n\n    .dataframe tbody tr th {\n        vertical-align: top;\n    }\n\n    .dataframe thead th {\n        text-align: right;\n    }\n</style>\n<table border=\"1\" class=\"dataframe\">\n  <thead>\n    <tr style=\"text-align: right;\">\n      <th></th>\n      <th>importance</th>\n      <th>stddev</th>\n      <th>p_value</th>\n      <th>n</th>\n      <th>p99_high</th>\n      <th>p99_low</th>\n    </tr>\n  </thead>\n  <tbody>\n    <tr>\n      <th>ecmwf-eps_12</th>\n      <td>0.841610</td>\n      <td>0.032305</td>\n      <td>2.599856e-07</td>\n      <td>5</td>\n      <td>0.908126</td>\n      <td>0.775094</td>\n    </tr>\n    <tr>\n      <th>ecmwf-eps_11</th>\n      <td>0.176427</td>\n      <td>0.011557</td>\n      <td>2.197314e-06</td>\n      <td>5</td>\n      <td>0.200224</td>\n      <td>0.152630</td>\n    </tr>\n    <tr>\n      <th>gfs-ens-bc_13</th>\n      <td>0.075929</td>\n      <td>0.006600</td>\n      <td>6.780215e-06</td>\n      <td>5</td>\n      <td>0.089518</td>\n      <td>0.062341</td>\n    </tr>\n    <tr>\n      <th>gfs-ens-bc_12</th>\n      <td>0.022262</td>\n      <td>0.002338</td>\n      <td>1.438951e-05</td>\n      <td>5</td>\n      <td>0.027076</td>\n      <td>0.017447</td>\n    </tr>\n    <tr>\n      <th>gfs-ens-bc_11</th>\n      <td>0.017697</td>\n      <td>0.003918</td>\n      <td>2.704938e-04</td>\n      <td>5</td>\n      <td>0.025765</td>\n      <td>0.009629</td>\n    </tr>\n    <tr>\n      <th>ecmwf-eps_10</th>\n      <td>0.005887</td>\n      <td>0.002225</td>\n      <td>2.045559e-03</td>\n      <td>5</td>\n      <td>0.010469</td>\n      <td>0.001304</td>\n    </tr>\n    <tr>\n      <th>gfs-ens-bc_10</th>\n      <td>0.003580</td>\n      <td>0.001116</td>\n      <td>1.000265e-03</td>\n      <td>5</td>\n      <td>0.005878</td>\n      <td>0.001282</td>\n    </tr>\n    <tr>\n      <th>ecmwf_diff_9</th>\n      <td>0.000411</td>\n      <td>0.001487</td>\n      <td>2.848717e-01</td>\n      <td>5</td>\n      <td>0.003473</td>\n      <td>-0.002650</td>\n    </tr>\n    <tr>\n      <th>noon</th>\n      <td>0.000357</td>\n      <td>0.000251</td>\n      <td>1.670366e-02</td>\n      <td>5</td>\n      <td>0.000873</td>\n      <td>-0.000159</td>\n    </tr>\n    <tr>\n      <th>cmc-ens_9</th>\n      <td>-0.000645</td>\n      <td>0.000990</td>\n      <td>8.905162e-01</td>\n      <td>5</td>\n      <td>0.001393</td>\n      <td>-0.002682</td>\n    </tr>\n    <tr>\n      <th>ecmwf-eps_9</th>\n      <td>-0.000667</td>\n      <td>0.000657</td>\n      <td>9.570965e-01</td>\n      <td>5</td>\n      <td>0.000686</td>\n      <td>-0.002020</td>\n    </tr>\n    <tr>\n      <th>ecmwf_diff_8</th>\n      <td>-0.000756</td>\n      <td>0.001433</td>\n      <td>8.481597e-01</td>\n      <td>5</td>\n      <td>0.002195</td>\n      <td>-0.003706</td>\n    </tr>\n    <tr>\n      <th>gfs-ens-bc_9</th>\n      <td>-0.000935</td>\n      <td>0.001077</td>\n      <td>9.379240e-01</td>\n      <td>5</td>\n      <td>0.001282</td>\n      <td>-0.003153</td>\n    </tr>\n    <tr>\n      <th>cmc-ens_10</th>\n      <td>-0.001809</td>\n      <td>0.000968</td>\n      <td>9.930403e-01</td>\n      <td>5</td>\n      <td>0.000184</td>\n      <td>-0.003802</td>\n    </tr>\n    <tr>\n      <th>day_8_error</th>\n      <td>-0.003198</td>\n      <td>0.002057</td>\n      <td>9.872720e-01</td>\n      <td>5</td>\n      <td>0.001038</td>\n      <td>-0.007434</td>\n    </tr>\n    <tr>\n      <th>cmc-ens_11</th>\n      <td>-0.005284</td>\n      <td>0.001100</td>\n      <td>9.997873e-01</td>\n      <td>5</td>\n      <td>-0.003020</td>\n      <td>-0.007548</td>\n    </tr>\n  </tbody>\n</table>\n</div>"
     },
     "metadata": {},
     "output_type": "display_data"
    },
    {
     "data": {
      "text/plain": "<IPython.core.display.Markdown object>",
      "text/markdown": "### Rows with the highest prediction error"
     },
     "metadata": {},
     "output_type": "display_data"
    },
    {
     "data": {
      "text/plain": "<IPython.core.display.Markdown object>",
      "text/markdown": "Rows in this category worth inspecting for the causes of the error"
     },
     "metadata": {},
     "output_type": "display_data"
    },
    {
     "data": {
      "text/plain": "                     cmc-ens_9  cmc-ens_10  day_8_error  cmc-ens_11  \\\n2022-02-06 12:00:00     -2.169       0.281       -2.955       2.859   \n2020-01-03 00:00:00     -1.414      -3.549        0.758      -5.930   \n2020-03-10 00:00:00      1.510       0.417        4.156       1.504   \n2021-02-17 00:00:00      2.828       5.680       -1.623       4.834   \n2019-01-19 00:00:00     -4.741      -3.618       -0.624      -1.874   \n2020-01-04 00:00:00     -6.414      -4.487       -3.425      -2.520   \n2020-01-05 00:00:00     -1.264      -2.038        1.063      -5.020   \n2020-02-11 00:00:00     -1.905      -2.256       -3.760      -1.057   \n2022-01-23 12:00:00      3.614       2.316       -0.636       2.636   \n2022-01-02 00:00:00      5.027       6.200       -5.433       6.095   \n\n                     ecmwf_diff_8  gfs-ens-bc_9  gfs-ens-bc_10  noon  \\\n2022-02-06 12:00:00        -8.182        -1.597         -2.352   1.0   \n2020-01-03 00:00:00         0.165         2.535          0.397   0.0   \n2020-03-10 00:00:00         4.325         3.176          2.127   0.0   \n2021-02-17 00:00:00        -1.580        -1.564         -2.852   0.0   \n2019-01-19 00:00:00         2.189         0.087          0.723   0.0   \n2020-01-04 00:00:00        -2.156        -2.066          3.375   0.0   \n2020-01-05 00:00:00         0.184         3.691          1.709   0.0   \n2020-02-11 00:00:00        -5.698        -1.838         -1.439   0.0   \n2022-01-23 12:00:00        -3.794        -0.321         -1.654   1.0   \n2022-01-02 00:00:00        -5.187        -6.184         -5.559   0.0   \n\n                     gfs-ens-bc_13  ecmwf_diff_9  gfs-ens-bc_11  \\\n2022-02-06 12:00:00         -0.651         0.546          1.204   \n2020-01-03 00:00:00         -0.902         0.271          1.593   \n2020-03-10 00:00:00         -2.702         1.678          1.127   \n2021-02-17 00:00:00         -0.707        -1.456         -2.055   \n2019-01-19 00:00:00          1.922        -3.242         -1.416   \n2020-01-04 00:00:00         -2.247        -2.425          3.207   \n2020-01-05 00:00:00          0.659         0.832         -3.615   \n2020-02-11 00:00:00         -3.041        -0.603         -0.189   \n2022-01-23 12:00:00          3.336        -2.193         -0.968   \n2022-01-02 00:00:00         -0.027        -0.656         -0.791   \n\n                     gfs-ens-bc_12  ecmwf-eps_9  ecmwf-eps_10  ecmwf-eps_11  \\\n2022-02-06 12:00:00          1.252       -4.629        -4.618        -0.272   \n2020-01-03 00:00:00          3.643        0.758         0.550         1.590   \n2020-03-10 00:00:00         -1.377        4.156         2.971         0.747   \n2021-02-17 00:00:00         -1.315       -1.623        -0.712         2.615   \n2019-01-19 00:00:00         -0.154       -0.624        -0.367        -3.291   \n2020-01-04 00:00:00         -2.707       -3.425         0.049         0.854   \n2020-01-05 00:00:00         -2.620        1.063         0.646        -4.405   \n2020-02-11 00:00:00         -1.032       -3.760        -0.879         2.247   \n2022-01-23 12:00:00          2.202        0.604        -1.370        -0.968   \n2022-01-02 00:00:00          0.742       -5.433        -1.951         0.108   \n\n                     ecmwf-eps_12  ecmwf-eps_13  ecmwf-eps_13_pred     error  \n2022-02-06 12:00:00         1.650        -1.284           1.893866  3.177866  \n2020-01-03 00:00:00         0.037        -3.771          -0.597622  3.173378  \n2020-03-10 00:00:00        -0.543         1.650          -1.506211  3.156211  \n2021-02-17 00:00:00         2.844        -0.471           2.446231  2.917231  \n2019-01-19 00:00:00        -2.020         2.142          -0.751279  2.893279  \n2020-01-04 00:00:00        -3.762        -1.650          -4.291337  2.641337  \n2020-01-05 00:00:00        -3.328         0.843          -1.788614  2.631614  \n2020-02-11 00:00:00         1.243        -1.999           0.458089  2.457089  \n2022-01-23 12:00:00         1.939         0.203           2.609177  2.406177  \n2022-01-02 00:00:00        -1.123        -2.834          -0.431653  2.402347  ",
      "text/html": "<div>\n<style scoped>\n    .dataframe tbody tr th:only-of-type {\n        vertical-align: middle;\n    }\n\n    .dataframe tbody tr th {\n        vertical-align: top;\n    }\n\n    .dataframe thead th {\n        text-align: right;\n    }\n</style>\n<table border=\"1\" class=\"dataframe\">\n  <thead>\n    <tr style=\"text-align: right;\">\n      <th></th>\n      <th>cmc-ens_9</th>\n      <th>cmc-ens_10</th>\n      <th>day_8_error</th>\n      <th>cmc-ens_11</th>\n      <th>ecmwf_diff_8</th>\n      <th>gfs-ens-bc_9</th>\n      <th>gfs-ens-bc_10</th>\n      <th>noon</th>\n      <th>gfs-ens-bc_13</th>\n      <th>ecmwf_diff_9</th>\n      <th>gfs-ens-bc_11</th>\n      <th>gfs-ens-bc_12</th>\n      <th>ecmwf-eps_9</th>\n      <th>ecmwf-eps_10</th>\n      <th>ecmwf-eps_11</th>\n      <th>ecmwf-eps_12</th>\n      <th>ecmwf-eps_13</th>\n      <th>ecmwf-eps_13_pred</th>\n      <th>error</th>\n    </tr>\n  </thead>\n  <tbody>\n    <tr>\n      <th>2022-02-06 12:00:00</th>\n      <td>-2.169</td>\n      <td>0.281</td>\n      <td>-2.955</td>\n      <td>2.859</td>\n      <td>-8.182</td>\n      <td>-1.597</td>\n      <td>-2.352</td>\n      <td>1.0</td>\n      <td>-0.651</td>\n      <td>0.546</td>\n      <td>1.204</td>\n      <td>1.252</td>\n      <td>-4.629</td>\n      <td>-4.618</td>\n      <td>-0.272</td>\n      <td>1.650</td>\n      <td>-1.284</td>\n      <td>1.893866</td>\n      <td>3.177866</td>\n    </tr>\n    <tr>\n      <th>2020-01-03 00:00:00</th>\n      <td>-1.414</td>\n      <td>-3.549</td>\n      <td>0.758</td>\n      <td>-5.930</td>\n      <td>0.165</td>\n      <td>2.535</td>\n      <td>0.397</td>\n      <td>0.0</td>\n      <td>-0.902</td>\n      <td>0.271</td>\n      <td>1.593</td>\n      <td>3.643</td>\n      <td>0.758</td>\n      <td>0.550</td>\n      <td>1.590</td>\n      <td>0.037</td>\n      <td>-3.771</td>\n      <td>-0.597622</td>\n      <td>3.173378</td>\n    </tr>\n    <tr>\n      <th>2020-03-10 00:00:00</th>\n      <td>1.510</td>\n      <td>0.417</td>\n      <td>4.156</td>\n      <td>1.504</td>\n      <td>4.325</td>\n      <td>3.176</td>\n      <td>2.127</td>\n      <td>0.0</td>\n      <td>-2.702</td>\n      <td>1.678</td>\n      <td>1.127</td>\n      <td>-1.377</td>\n      <td>4.156</td>\n      <td>2.971</td>\n      <td>0.747</td>\n      <td>-0.543</td>\n      <td>1.650</td>\n      <td>-1.506211</td>\n      <td>3.156211</td>\n    </tr>\n    <tr>\n      <th>2021-02-17 00:00:00</th>\n      <td>2.828</td>\n      <td>5.680</td>\n      <td>-1.623</td>\n      <td>4.834</td>\n      <td>-1.580</td>\n      <td>-1.564</td>\n      <td>-2.852</td>\n      <td>0.0</td>\n      <td>-0.707</td>\n      <td>-1.456</td>\n      <td>-2.055</td>\n      <td>-1.315</td>\n      <td>-1.623</td>\n      <td>-0.712</td>\n      <td>2.615</td>\n      <td>2.844</td>\n      <td>-0.471</td>\n      <td>2.446231</td>\n      <td>2.917231</td>\n    </tr>\n    <tr>\n      <th>2019-01-19 00:00:00</th>\n      <td>-4.741</td>\n      <td>-3.618</td>\n      <td>-0.624</td>\n      <td>-1.874</td>\n      <td>2.189</td>\n      <td>0.087</td>\n      <td>0.723</td>\n      <td>0.0</td>\n      <td>1.922</td>\n      <td>-3.242</td>\n      <td>-1.416</td>\n      <td>-0.154</td>\n      <td>-0.624</td>\n      <td>-0.367</td>\n      <td>-3.291</td>\n      <td>-2.020</td>\n      <td>2.142</td>\n      <td>-0.751279</td>\n      <td>2.893279</td>\n    </tr>\n    <tr>\n      <th>2020-01-04 00:00:00</th>\n      <td>-6.414</td>\n      <td>-4.487</td>\n      <td>-3.425</td>\n      <td>-2.520</td>\n      <td>-2.156</td>\n      <td>-2.066</td>\n      <td>3.375</td>\n      <td>0.0</td>\n      <td>-2.247</td>\n      <td>-2.425</td>\n      <td>3.207</td>\n      <td>-2.707</td>\n      <td>-3.425</td>\n      <td>0.049</td>\n      <td>0.854</td>\n      <td>-3.762</td>\n      <td>-1.650</td>\n      <td>-4.291337</td>\n      <td>2.641337</td>\n    </tr>\n    <tr>\n      <th>2020-01-05 00:00:00</th>\n      <td>-1.264</td>\n      <td>-2.038</td>\n      <td>1.063</td>\n      <td>-5.020</td>\n      <td>0.184</td>\n      <td>3.691</td>\n      <td>1.709</td>\n      <td>0.0</td>\n      <td>0.659</td>\n      <td>0.832</td>\n      <td>-3.615</td>\n      <td>-2.620</td>\n      <td>1.063</td>\n      <td>0.646</td>\n      <td>-4.405</td>\n      <td>-3.328</td>\n      <td>0.843</td>\n      <td>-1.788614</td>\n      <td>2.631614</td>\n    </tr>\n    <tr>\n      <th>2020-02-11 00:00:00</th>\n      <td>-1.905</td>\n      <td>-2.256</td>\n      <td>-3.760</td>\n      <td>-1.057</td>\n      <td>-5.698</td>\n      <td>-1.838</td>\n      <td>-1.439</td>\n      <td>0.0</td>\n      <td>-3.041</td>\n      <td>-0.603</td>\n      <td>-0.189</td>\n      <td>-1.032</td>\n      <td>-3.760</td>\n      <td>-0.879</td>\n      <td>2.247</td>\n      <td>1.243</td>\n      <td>-1.999</td>\n      <td>0.458089</td>\n      <td>2.457089</td>\n    </tr>\n    <tr>\n      <th>2022-01-23 12:00:00</th>\n      <td>3.614</td>\n      <td>2.316</td>\n      <td>-0.636</td>\n      <td>2.636</td>\n      <td>-3.794</td>\n      <td>-0.321</td>\n      <td>-1.654</td>\n      <td>1.0</td>\n      <td>3.336</td>\n      <td>-2.193</td>\n      <td>-0.968</td>\n      <td>2.202</td>\n      <td>0.604</td>\n      <td>-1.370</td>\n      <td>-0.968</td>\n      <td>1.939</td>\n      <td>0.203</td>\n      <td>2.609177</td>\n      <td>2.406177</td>\n    </tr>\n    <tr>\n      <th>2022-01-02 00:00:00</th>\n      <td>5.027</td>\n      <td>6.200</td>\n      <td>-5.433</td>\n      <td>6.095</td>\n      <td>-5.187</td>\n      <td>-6.184</td>\n      <td>-5.559</td>\n      <td>0.0</td>\n      <td>-0.027</td>\n      <td>-0.656</td>\n      <td>-0.791</td>\n      <td>0.742</td>\n      <td>-5.433</td>\n      <td>-1.951</td>\n      <td>0.108</td>\n      <td>-1.123</td>\n      <td>-2.834</td>\n      <td>-0.431653</td>\n      <td>2.402347</td>\n    </tr>\n  </tbody>\n</table>\n</div>"
     },
     "metadata": {},
     "output_type": "display_data"
    }
   ],
   "source": [
    "state = auto.quick_fit(train_df, label, return_state=True, save_model_to_state=True)"
   ],
   "metadata": {
    "collapsed": false,
    "ExecuteTime": {
     "start_time": "2023-06-13T14:25:06.079854Z",
     "end_time": "2023-06-13T14:25:08.146672Z"
    }
   }
  },
  {
   "cell_type": "code",
   "execution_count": 465,
   "outputs": [],
   "source": [],
   "metadata": {
    "collapsed": false,
    "ExecuteTime": {
     "start_time": "2023-06-13T15:24:15.515978Z",
     "end_time": "2023-06-13T15:24:15.533561Z"
    }
   }
  },
  {
   "cell_type": "code",
   "execution_count": 465,
   "outputs": [],
   "source": [],
   "metadata": {
    "collapsed": false,
    "ExecuteTime": {
     "start_time": "2023-06-13T15:24:13.334429Z",
     "end_time": "2023-06-13T15:24:13.343476Z"
    }
   }
  },
  {
   "cell_type": "code",
   "execution_count": 465,
   "outputs": [],
   "source": [],
   "metadata": {
    "collapsed": false,
    "ExecuteTime": {
     "start_time": "2023-06-13T15:24:10.466249Z",
     "end_time": "2023-06-13T15:24:10.475469Z"
    }
   }
  },
  {
   "cell_type": "code",
   "execution_count": 465,
   "outputs": [],
   "source": [],
   "metadata": {
    "collapsed": false,
    "ExecuteTime": {
     "start_time": "2023-06-13T15:24:07.504034Z",
     "end_time": "2023-06-13T15:24:07.513203Z"
    }
   }
  },
  {
   "cell_type": "code",
   "execution_count": 465,
   "outputs": [],
   "source": [],
   "metadata": {
    "collapsed": false,
    "ExecuteTime": {
     "start_time": "2023-06-13T15:24:04.539842Z",
     "end_time": "2023-06-13T15:24:04.549720Z"
    }
   }
  },
  {
   "cell_type": "code",
   "execution_count": 465,
   "outputs": [],
   "source": [],
   "metadata": {
    "collapsed": false,
    "ExecuteTime": {
     "start_time": "2023-06-13T15:24:04.682063Z",
     "end_time": "2023-06-13T15:24:04.705227Z"
    }
   }
  },
  {
   "cell_type": "code",
   "execution_count": 465,
   "outputs": [],
   "source": [],
   "metadata": {
    "collapsed": false,
    "ExecuteTime": {
     "start_time": "2023-06-13T15:24:04.937367Z",
     "end_time": "2023-06-13T15:24:04.947620Z"
    }
   }
  },
  {
   "cell_type": "markdown",
   "source": [
    "### most important features\n",
    "ecmwf-eps_9:\n",
    "- day_8_error\n",
    "- gfs-ens-bc_9\n",
    "- ecmwf_diff_8\n",
    "- noon\n",
    "- cmc-ens_9\n",
    "\n",
    "ecmwf-eps_10:\n",
    "- ecmwf-eps_9\n",
    "- gfs-ens-bc_10\n",
    "- gfs-ens-bc_9\n",
    "- ecmwf_diff_9\n",
    "- cmc-ens_10\n",
    "- noon\n",
    "\n",
    "ecmwf-eps_11:\n",
    "- ecmwf-eps_10\n",
    "- gfs-ens-bc_10\n",
    "- gfs-ens-bc_11\n",
    "- ecmwf-eps_9\n",
    "- gfs-ens-bc_9\n",
    "- cmc-ens_11\n",
    "\n",
    "ecmwf-eps_12:\n",
    "- ecmwf-eps_11\n",
    "- gfs-ens-bc_11\n",
    "- gfs-ens-bc_12\n",
    "- ecmwf-eps_10\n",
    "- gfs-ens-bc_10\n",
    "\n",
    "ecmwf-eps_13:\n",
    "- ecmwf-eps_12\n",
    "- gfs-ens-bc_12\n",
    "- ecmwf-eps_11\n",
    "- gfs-ens-bc_13\n",
    "- ecmwf-eps_10\n",
    "\n",
    "\n",
    "\n",
    "\n",
    "\n"
   ],
   "metadata": {
    "collapsed": false
   }
  }
 ],
 "metadata": {
  "kernelspec": {
   "display_name": "Python 3",
   "language": "python",
   "name": "python3"
  },
  "language_info": {
   "codemirror_mode": {
    "name": "ipython",
    "version": 2
   },
   "file_extension": ".py",
   "mimetype": "text/x-python",
   "name": "python",
   "nbconvert_exporter": "python",
   "pygments_lexer": "ipython2",
   "version": "2.7.6"
  }
 },
 "nbformat": 4,
 "nbformat_minor": 0
}
