{
 "cells": [
  {
   "cell_type": "code",
   "execution_count": 55,
   "metadata": {
    "collapsed": true,
    "ExecuteTime": {
     "start_time": "2023-06-14T09:44:02.086203Z",
     "end_time": "2023-06-14T09:44:02.099054Z"
    }
   },
   "outputs": [],
   "source": [
    "import pandas as pd\n",
    "import glob\n",
    "import matplotlib.pyplot as plt\n",
    "from datetime import datetime, time\n",
    "import numpy as np\n",
    "import matplotlib.pyplot as plt\n",
    "from sklearn.ensemble import RandomForestRegressor\n",
    "from sklearn.model_selection import train_test_split\n",
    "from sklearn.metrics import mean_squared_error\n",
    "from sklearn.preprocessing import MinMaxScaler\n",
    "import copy\n",
    "from meteostat import Stations, Daily\n",
    "import torch\n",
    "import torch.nn as nn\n",
    "import torch.optim as optim\n",
    "import torch.nn.functional as F\n",
    "from torcheval.metrics import R2Score\n",
    "import os"
   ]
  },
  {
   "cell_type": "code",
   "execution_count": 79,
   "outputs": [],
   "source": [
    "degree_days = 'gw_hdd'"
   ],
   "metadata": {
    "collapsed": false,
    "ExecuteTime": {
     "start_time": "2023-06-14T09:51:55.064889Z",
     "end_time": "2023-06-14T09:51:55.070656Z"
    }
   }
  },
  {
   "cell_type": "code",
   "execution_count": 80,
   "outputs": [],
   "source": [
    "path = \"RawData\"\n",
    "\n",
    "\n",
    "def extract_date_time(filename):\n",
    "    \"\"\"\n",
    "    extract the date and time from the filename\n",
    "    :param filename:\n",
    "    :return:\n",
    "    \"\"\"\n",
    "    parts = filename.split('.')\n",
    "    date = parts[1]\n",
    "    time = parts[2]\n",
    "    return date, time\n",
    "\n",
    "\n",
    "def get_date(df, file):\n",
    "    \"\"\"get the date from the dataframe and the time from the filename and combine them into a datetime object\n",
    "    :param df: dataframe containing the date\n",
    "    :param file: filename containing the time\n",
    "    :return: datetime object\n",
    "    \"\"\"\n",
    "    #date_str = df[df.iloc[:, 2] == 1].iloc[0]['Date']\n",
    "    date_str = str(file.split('.')[1])\n",
    "    time_str = str(file.split('.')[2])\n",
    "    #date = datetime.strptime(date_str, '%Y-%m-%d')\n",
    "    date = datetime.strptime(date_str, '%Y%m%d')\n",
    "    time_value = time(int(time_str), 0)\n",
    "    combined_datetime = datetime.combine(date.date(), time_value)\n",
    "    return combined_datetime\n",
    "\n",
    "\n",
    "\n",
    "ecmwf_files = glob.glob(path + f'/ecmwf.*.[01][02].{degree_days}.csv')\n",
    "ecmwf_sorted_files = sorted(ecmwf_files, key=lambda x: (x.split('.')[1], x.split('.')[2]))[3:]\n",
    "\n",
    "ecmwf_eps_files = glob.glob(path + f'/ecmwf-eps.*.[01][02].{degree_days}.csv')\n",
    "ecmwf_eps_sorted_files = sorted(ecmwf_eps_files, key=lambda x: (x.split('.')[1], x.split('.')[2]))[2:]\n",
    "\n",
    "gfs_ens_bc_files = glob.glob(path + f'/gfs-ens-bc.*.[01][02].{degree_days}.csv')\n",
    "gfs_ens_bc_sorted_files = sorted(gfs_ens_bc_files, key=lambda x: (x.split('.')[1], x.split('.')[2]))[2:]\n",
    "\n",
    "cmc_ens_files = glob.glob(path + f'/cmc-ens.*.[01][02].{degree_days}.csv')\n",
    "cmc_ens_sorted_files = sorted(cmc_ens_files, key=lambda x: (x.split('.')[1], x.split('.')[2]))[2:]\n",
    "for _ in range(2):\n",
    "    set1 = set((extract_date_time(filename) for filename in ecmwf_sorted_files))\n",
    "    set2 = set((extract_date_time(filename) for filename in ecmwf_eps_sorted_files))\n",
    "\n",
    "    ecmwf_sorted_files = [filename for filename in ecmwf_sorted_files if extract_date_time(filename) in set2]\n",
    "    ecmwf_eps_sorted_files = [filename for filename in ecmwf_eps_sorted_files if extract_date_time(filename) in set1]\n",
    "    cmc_ens_sorted_files = [filename for filename in cmc_ens_sorted_files if extract_date_time(filename) in set1]\n",
    "\n",
    "    master_set = set((extract_date_time(filename) for filename in cmc_ens_sorted_files))\n",
    "    gfs_ens_bc_sorted_files = [filename for filename in gfs_ens_bc_sorted_files if\n",
    "                               extract_date_time(filename) in master_set]\n",
    "\n",
    "    master_set = set((extract_date_time(filename) for filename in gfs_ens_bc_sorted_files))\n",
    "\n",
    "    ecmwf_sorted_files = [filename for filename in ecmwf_sorted_files if extract_date_time(filename) in master_set]\n",
    "    ecmwf_eps_sorted_files = [filename for filename in ecmwf_eps_sorted_files if\n",
    "                              extract_date_time(filename) in master_set]\n",
    "    gfs_ens_bc_sorted_files = [filename for filename in gfs_ens_bc_sorted_files if\n",
    "                               extract_date_time(filename) in master_set]\n",
    "    cmc_ens_sorted_files = [filename for filename in cmc_ens_sorted_files if extract_date_time(filename) in master_set]"
   ],
   "metadata": {
    "collapsed": false,
    "ExecuteTime": {
     "start_time": "2023-06-14T09:51:55.250608Z",
     "end_time": "2023-06-14T09:51:56.290508Z"
    }
   }
  },
  {
   "cell_type": "code",
   "execution_count": 81,
   "outputs": [
    {
     "name": "stdout",
     "output_type": "stream",
     "text": [
      "error on 2020-08-15 12:00:00\n",
      "error on 2020-08-16 00:00:00\n",
      "error on 2020-08-16 12:00:00\n",
      "error on 2020-08-17 00:00:00\n"
     ]
    }
   ],
   "source": [
    "ecmwf_eps_change_df = pd.DataFrame(columns=['ecmwf-eps_9', 'ecmwf-eps_10', 'ecmwf-eps_11', 'ecmwf-eps_12',\n",
    "                                  'ecmwf-eps_13', 'ecmwf-eps_14'])\n",
    "passed_rows = []\n",
    "for i in range(1, len(ecmwf_eps_sorted_files)):\n",
    "    ecmwf_eps_df = pd.read_csv(ecmwf_eps_sorted_files[i])\n",
    "    ecmwf_eps_df = ecmwf_eps_df[ecmwf_eps_df[ecmwf_eps_df.columns[2]] >= 1]\n",
    "    prev_ecmwf_eps_df = pd.read_csv(ecmwf_eps_sorted_files[i-1])\n",
    "    prev_ecmwf_eps_df = prev_ecmwf_eps_df[prev_ecmwf_eps_df[prev_ecmwf_eps_df.columns[2]] >= 1]\n",
    "\n",
    "    date = get_date(ecmwf_eps_df, ecmwf_eps_sorted_files[i])\n",
    "    prev_date = get_date(prev_ecmwf_eps_df, ecmwf_eps_sorted_files[i-1])\n",
    "    d2 = str(date)[:10]\n",
    "    d1 = str(prev_date)[:10]\n",
    "\n",
    "    if d2 != d1:\n",
    "        offset = 1\n",
    "    else:\n",
    "        offset = 0\n",
    "\n",
    "    changes = []\n",
    "    try:\n",
    "        for day in range(8, 14):\n",
    "            changes.append(ecmwf_eps_df.iloc[day - offset]['Value'] - prev_ecmwf_eps_df.iloc[day]['Value'])\n",
    "        new_row = pd.DataFrame([changes], columns=ecmwf_eps_change_df.columns, index=[date])\n",
    "        ecmwf_eps_change_df = pd.concat([ecmwf_eps_change_df, new_row])\n",
    "    except IndexError:\n",
    "        print(f\"error on {date}\")\n",
    "        passed_rows.append(i)"
   ],
   "metadata": {
    "collapsed": false,
    "ExecuteTime": {
     "start_time": "2023-06-14T09:51:56.297949Z",
     "end_time": "2023-06-14T09:52:08.711062Z"
    }
   }
  },
  {
   "cell_type": "code",
   "execution_count": 82,
   "outputs": [
    {
     "data": {
      "text/plain": "[1494, 1495, 1496, 1497]"
     },
     "execution_count": 82,
     "metadata": {},
     "output_type": "execute_result"
    }
   ],
   "source": [
    "passed_rows"
   ],
   "metadata": {
    "collapsed": false,
    "ExecuteTime": {
     "start_time": "2023-06-14T09:52:08.714425Z",
     "end_time": "2023-06-14T09:52:08.718583Z"
    }
   }
  },
  {
   "cell_type": "code",
   "execution_count": 82,
   "outputs": [],
   "source": [],
   "metadata": {
    "collapsed": false,
    "ExecuteTime": {
     "start_time": "2023-06-14T09:52:08.719721Z",
     "end_time": "2023-06-14T09:52:08.723531Z"
    }
   }
  },
  {
   "cell_type": "code",
   "execution_count": 83,
   "outputs": [
    {
     "name": "stdout",
     "output_type": "stream",
     "text": [
      "error on row: 1494\n",
      "error on row: 1495\n",
      "error on row: 1496\n",
      "error on row: 1497\n"
     ]
    }
   ],
   "source": [
    "ecmwf_change_df = pd.DataFrame(columns=['ecmwf_diff_8', 'ecmwf_diff_9',])\n",
    "passed_rows = []\n",
    "for i in range(1, len(ecmwf_sorted_files)):\n",
    "    ecmwf_df = pd.read_csv(ecmwf_sorted_files[i])\n",
    "    ecmwf_df = ecmwf_df[ecmwf_df[ecmwf_df.columns[2]] >= 1]\n",
    "    ecmwf_eps_df = pd.read_csv(ecmwf_eps_sorted_files[i-1])\n",
    "    ecmwf_eps_df = ecmwf_eps_df[ecmwf_eps_df[ecmwf_eps_df.columns[2]] >= 1]\n",
    "\n",
    "    try:\n",
    "        ecmwf = ecmwf_df.iloc[8]\n",
    "        ecmwf_eps = ecmwf_eps_df.iloc[9]\n",
    "    except IndexError:\n",
    "        print(f\"error on row: {i}\")\n",
    "        passed_rows.append(i)\n",
    "        continue\n",
    "\n",
    "    date = get_date(ecmwf_df, ecmwf_sorted_files[i])\n",
    "    prev_date = get_date(ecmwf_eps_df, ecmwf_eps_sorted_files[i-1])\n",
    "    d2 = str(date)[:10]\n",
    "    d1 = str(prev_date)[:10]\n",
    "    if d2 != d1:\n",
    "        offset = 1\n",
    "    else:\n",
    "        offset = 0\n",
    "\n",
    "    changes = []\n",
    "    try:\n",
    "        for day in range(8,10):\n",
    "            changes.append(ecmwf_df.iloc[day - offset]['Value'] - ecmwf_eps_df.iloc[day]['Value'])\n",
    "        new_row = pd.DataFrame([changes], columns=ecmwf_change_df.columns, index=[date])\n",
    "        ecmwf_change_df = pd.concat([ecmwf_change_df, new_row])\n",
    "    except IndexError:\n",
    "        print(f\"error on {date}\")\n",
    "        passed_rows.append(i)"
   ],
   "metadata": {
    "collapsed": false,
    "ExecuteTime": {
     "start_time": "2023-06-14T09:52:08.729028Z",
     "end_time": "2023-06-14T09:52:19.467977Z"
    }
   }
  },
  {
   "cell_type": "code",
   "execution_count": 182,
   "outputs": [],
   "source": [
    "i = 1\n",
    "ecmwf_df = pd.read_csv(ecmwf_sorted_files[i])\n",
    "ecmwf_df = ecmwf_df[ecmwf_df[ecmwf_df.columns[2]] >= 1]\n",
    "ecmwf_eps_df = pd.read_csv(ecmwf_eps_sorted_files[i-1])\n",
    "ecmwf_eps_df = ecmwf_eps_df[ecmwf_eps_df[ecmwf_eps_df.columns[2]] >= 1]"
   ],
   "metadata": {
    "collapsed": false,
    "ExecuteTime": {
     "start_time": "2023-06-14T11:27:29.072213Z",
     "end_time": "2023-06-14T11:27:29.085352Z"
    }
   }
  },
  {
   "cell_type": "code",
   "execution_count": 84,
   "outputs": [],
   "source": [],
   "metadata": {
    "collapsed": false,
    "ExecuteTime": {
     "start_time": "2023-06-14T09:52:19.473304Z",
     "end_time": "2023-06-14T09:52:19.476166Z"
    }
   }
  },
  {
   "cell_type": "code",
   "execution_count": null,
   "outputs": [],
   "source": [],
   "metadata": {
    "collapsed": false
   }
  },
  {
   "cell_type": "code",
   "execution_count": null,
   "outputs": [],
   "source": [],
   "metadata": {
    "collapsed": false
   }
  },
  {
   "cell_type": "code",
   "execution_count": 84,
   "outputs": [],
   "source": [],
   "metadata": {
    "collapsed": false,
    "ExecuteTime": {
     "start_time": "2023-06-14T09:52:19.476907Z",
     "end_time": "2023-06-14T09:52:19.480448Z"
    }
   }
  },
  {
   "cell_type": "code",
   "execution_count": 85,
   "outputs": [
    {
     "ename": "ParserError",
     "evalue": "Error tokenizing data. C error: Calling read(nbytes) on source failed. Try engine='python'.",
     "output_type": "error",
     "traceback": [
      "\u001B[0;31m---------------------------------------------------------------------------\u001B[0m",
      "\u001B[0;31mParserError\u001B[0m                               Traceback (most recent call last)",
      "Cell \u001B[0;32mIn[85], line 5\u001B[0m\n\u001B[1;32m      3\u001B[0m passed_rows \u001B[38;5;241m=\u001B[39m []\n\u001B[1;32m      4\u001B[0m \u001B[38;5;28;01mfor\u001B[39;00m i \u001B[38;5;129;01min\u001B[39;00m \u001B[38;5;28mrange\u001B[39m(\u001B[38;5;241m1\u001B[39m, \u001B[38;5;28mlen\u001B[39m(gfs_ens_bc_sorted_files)):\n\u001B[0;32m----> 5\u001B[0m     gfs_ens_bc_df \u001B[38;5;241m=\u001B[39m \u001B[43mpd\u001B[49m\u001B[38;5;241;43m.\u001B[39;49m\u001B[43mread_csv\u001B[49m\u001B[43m(\u001B[49m\u001B[43mgfs_ens_bc_sorted_files\u001B[49m\u001B[43m[\u001B[49m\u001B[43mi\u001B[49m\u001B[43m]\u001B[49m\u001B[43m)\u001B[49m\n\u001B[1;32m      6\u001B[0m     gfs_ens_bc_df \u001B[38;5;241m=\u001B[39m gfs_ens_bc_df[gfs_ens_bc_df[gfs_ens_bc_df\u001B[38;5;241m.\u001B[39mcolumns[\u001B[38;5;241m2\u001B[39m]] \u001B[38;5;241m>\u001B[39m\u001B[38;5;241m=\u001B[39m \u001B[38;5;241m1\u001B[39m]\n\u001B[1;32m      7\u001B[0m     prev_ecmwf_eps_df \u001B[38;5;241m=\u001B[39m pd\u001B[38;5;241m.\u001B[39mread_csv(ecmwf_eps_sorted_files[i\u001B[38;5;241m-\u001B[39m\u001B[38;5;241m1\u001B[39m])\n",
      "File \u001B[0;32m~/opt/miniconda3/envs/Kayak/lib/python3.10/site-packages/pandas/util/_decorators.py:211\u001B[0m, in \u001B[0;36mdeprecate_kwarg.<locals>._deprecate_kwarg.<locals>.wrapper\u001B[0;34m(*args, **kwargs)\u001B[0m\n\u001B[1;32m    209\u001B[0m     \u001B[38;5;28;01melse\u001B[39;00m:\n\u001B[1;32m    210\u001B[0m         kwargs[new_arg_name] \u001B[38;5;241m=\u001B[39m new_arg_value\n\u001B[0;32m--> 211\u001B[0m \u001B[38;5;28;01mreturn\u001B[39;00m \u001B[43mfunc\u001B[49m\u001B[43m(\u001B[49m\u001B[38;5;241;43m*\u001B[39;49m\u001B[43margs\u001B[49m\u001B[43m,\u001B[49m\u001B[43m \u001B[49m\u001B[38;5;241;43m*\u001B[39;49m\u001B[38;5;241;43m*\u001B[39;49m\u001B[43mkwargs\u001B[49m\u001B[43m)\u001B[49m\n",
      "File \u001B[0;32m~/opt/miniconda3/envs/Kayak/lib/python3.10/site-packages/pandas/util/_decorators.py:331\u001B[0m, in \u001B[0;36mdeprecate_nonkeyword_arguments.<locals>.decorate.<locals>.wrapper\u001B[0;34m(*args, **kwargs)\u001B[0m\n\u001B[1;32m    325\u001B[0m \u001B[38;5;28;01mif\u001B[39;00m \u001B[38;5;28mlen\u001B[39m(args) \u001B[38;5;241m>\u001B[39m num_allow_args:\n\u001B[1;32m    326\u001B[0m     warnings\u001B[38;5;241m.\u001B[39mwarn(\n\u001B[1;32m    327\u001B[0m         msg\u001B[38;5;241m.\u001B[39mformat(arguments\u001B[38;5;241m=\u001B[39m_format_argument_list(allow_args)),\n\u001B[1;32m    328\u001B[0m         \u001B[38;5;167;01mFutureWarning\u001B[39;00m,\n\u001B[1;32m    329\u001B[0m         stacklevel\u001B[38;5;241m=\u001B[39mfind_stack_level(),\n\u001B[1;32m    330\u001B[0m     )\n\u001B[0;32m--> 331\u001B[0m \u001B[38;5;28;01mreturn\u001B[39;00m \u001B[43mfunc\u001B[49m\u001B[43m(\u001B[49m\u001B[38;5;241;43m*\u001B[39;49m\u001B[43margs\u001B[49m\u001B[43m,\u001B[49m\u001B[43m \u001B[49m\u001B[38;5;241;43m*\u001B[39;49m\u001B[38;5;241;43m*\u001B[39;49m\u001B[43mkwargs\u001B[49m\u001B[43m)\u001B[49m\n",
      "File \u001B[0;32m~/opt/miniconda3/envs/Kayak/lib/python3.10/site-packages/pandas/io/parsers/readers.py:950\u001B[0m, in \u001B[0;36mread_csv\u001B[0;34m(filepath_or_buffer, sep, delimiter, header, names, index_col, usecols, squeeze, prefix, mangle_dupe_cols, dtype, engine, converters, true_values, false_values, skipinitialspace, skiprows, skipfooter, nrows, na_values, keep_default_na, na_filter, verbose, skip_blank_lines, parse_dates, infer_datetime_format, keep_date_col, date_parser, dayfirst, cache_dates, iterator, chunksize, compression, thousands, decimal, lineterminator, quotechar, quoting, doublequote, escapechar, comment, encoding, encoding_errors, dialect, error_bad_lines, warn_bad_lines, on_bad_lines, delim_whitespace, low_memory, memory_map, float_precision, storage_options)\u001B[0m\n\u001B[1;32m    935\u001B[0m kwds_defaults \u001B[38;5;241m=\u001B[39m _refine_defaults_read(\n\u001B[1;32m    936\u001B[0m     dialect,\n\u001B[1;32m    937\u001B[0m     delimiter,\n\u001B[0;32m   (...)\u001B[0m\n\u001B[1;32m    946\u001B[0m     defaults\u001B[38;5;241m=\u001B[39m{\u001B[38;5;124m\"\u001B[39m\u001B[38;5;124mdelimiter\u001B[39m\u001B[38;5;124m\"\u001B[39m: \u001B[38;5;124m\"\u001B[39m\u001B[38;5;124m,\u001B[39m\u001B[38;5;124m\"\u001B[39m},\n\u001B[1;32m    947\u001B[0m )\n\u001B[1;32m    948\u001B[0m kwds\u001B[38;5;241m.\u001B[39mupdate(kwds_defaults)\n\u001B[0;32m--> 950\u001B[0m \u001B[38;5;28;01mreturn\u001B[39;00m \u001B[43m_read\u001B[49m\u001B[43m(\u001B[49m\u001B[43mfilepath_or_buffer\u001B[49m\u001B[43m,\u001B[49m\u001B[43m \u001B[49m\u001B[43mkwds\u001B[49m\u001B[43m)\u001B[49m\n",
      "File \u001B[0;32m~/opt/miniconda3/envs/Kayak/lib/python3.10/site-packages/pandas/io/parsers/readers.py:605\u001B[0m, in \u001B[0;36m_read\u001B[0;34m(filepath_or_buffer, kwds)\u001B[0m\n\u001B[1;32m    602\u001B[0m _validate_names(kwds\u001B[38;5;241m.\u001B[39mget(\u001B[38;5;124m\"\u001B[39m\u001B[38;5;124mnames\u001B[39m\u001B[38;5;124m\"\u001B[39m, \u001B[38;5;28;01mNone\u001B[39;00m))\n\u001B[1;32m    604\u001B[0m \u001B[38;5;66;03m# Create the parser.\u001B[39;00m\n\u001B[0;32m--> 605\u001B[0m parser \u001B[38;5;241m=\u001B[39m \u001B[43mTextFileReader\u001B[49m\u001B[43m(\u001B[49m\u001B[43mfilepath_or_buffer\u001B[49m\u001B[43m,\u001B[49m\u001B[43m \u001B[49m\u001B[38;5;241;43m*\u001B[39;49m\u001B[38;5;241;43m*\u001B[39;49m\u001B[43mkwds\u001B[49m\u001B[43m)\u001B[49m\n\u001B[1;32m    607\u001B[0m \u001B[38;5;28;01mif\u001B[39;00m chunksize \u001B[38;5;129;01mor\u001B[39;00m iterator:\n\u001B[1;32m    608\u001B[0m     \u001B[38;5;28;01mreturn\u001B[39;00m parser\n",
      "File \u001B[0;32m~/opt/miniconda3/envs/Kayak/lib/python3.10/site-packages/pandas/io/parsers/readers.py:1442\u001B[0m, in \u001B[0;36mTextFileReader.__init__\u001B[0;34m(self, f, engine, **kwds)\u001B[0m\n\u001B[1;32m   1439\u001B[0m     \u001B[38;5;28mself\u001B[39m\u001B[38;5;241m.\u001B[39moptions[\u001B[38;5;124m\"\u001B[39m\u001B[38;5;124mhas_index_names\u001B[39m\u001B[38;5;124m\"\u001B[39m] \u001B[38;5;241m=\u001B[39m kwds[\u001B[38;5;124m\"\u001B[39m\u001B[38;5;124mhas_index_names\u001B[39m\u001B[38;5;124m\"\u001B[39m]\n\u001B[1;32m   1441\u001B[0m \u001B[38;5;28mself\u001B[39m\u001B[38;5;241m.\u001B[39mhandles: IOHandles \u001B[38;5;241m|\u001B[39m \u001B[38;5;28;01mNone\u001B[39;00m \u001B[38;5;241m=\u001B[39m \u001B[38;5;28;01mNone\u001B[39;00m\n\u001B[0;32m-> 1442\u001B[0m \u001B[38;5;28mself\u001B[39m\u001B[38;5;241m.\u001B[39m_engine \u001B[38;5;241m=\u001B[39m \u001B[38;5;28;43mself\u001B[39;49m\u001B[38;5;241;43m.\u001B[39;49m\u001B[43m_make_engine\u001B[49m\u001B[43m(\u001B[49m\u001B[43mf\u001B[49m\u001B[43m,\u001B[49m\u001B[43m \u001B[49m\u001B[38;5;28;43mself\u001B[39;49m\u001B[38;5;241;43m.\u001B[39;49m\u001B[43mengine\u001B[49m\u001B[43m)\u001B[49m\n",
      "File \u001B[0;32m~/opt/miniconda3/envs/Kayak/lib/python3.10/site-packages/pandas/io/parsers/readers.py:1753\u001B[0m, in \u001B[0;36mTextFileReader._make_engine\u001B[0;34m(self, f, engine)\u001B[0m\n\u001B[1;32m   1750\u001B[0m     \u001B[38;5;28;01mraise\u001B[39;00m \u001B[38;5;167;01mValueError\u001B[39;00m(msg)\n\u001B[1;32m   1752\u001B[0m \u001B[38;5;28;01mtry\u001B[39;00m:\n\u001B[0;32m-> 1753\u001B[0m     \u001B[38;5;28;01mreturn\u001B[39;00m \u001B[43mmapping\u001B[49m\u001B[43m[\u001B[49m\u001B[43mengine\u001B[49m\u001B[43m]\u001B[49m\u001B[43m(\u001B[49m\u001B[43mf\u001B[49m\u001B[43m,\u001B[49m\u001B[43m \u001B[49m\u001B[38;5;241;43m*\u001B[39;49m\u001B[38;5;241;43m*\u001B[39;49m\u001B[38;5;28;43mself\u001B[39;49m\u001B[38;5;241;43m.\u001B[39;49m\u001B[43moptions\u001B[49m\u001B[43m)\u001B[49m\n\u001B[1;32m   1754\u001B[0m \u001B[38;5;28;01mexcept\u001B[39;00m \u001B[38;5;167;01mException\u001B[39;00m:\n\u001B[1;32m   1755\u001B[0m     \u001B[38;5;28;01mif\u001B[39;00m \u001B[38;5;28mself\u001B[39m\u001B[38;5;241m.\u001B[39mhandles \u001B[38;5;129;01mis\u001B[39;00m \u001B[38;5;129;01mnot\u001B[39;00m \u001B[38;5;28;01mNone\u001B[39;00m:\n",
      "File \u001B[0;32m~/opt/miniconda3/envs/Kayak/lib/python3.10/site-packages/pandas/io/parsers/c_parser_wrapper.py:79\u001B[0m, in \u001B[0;36mCParserWrapper.__init__\u001B[0;34m(self, src, **kwds)\u001B[0m\n\u001B[1;32m     76\u001B[0m     kwds\u001B[38;5;241m.\u001B[39mpop(key, \u001B[38;5;28;01mNone\u001B[39;00m)\n\u001B[1;32m     78\u001B[0m kwds[\u001B[38;5;124m\"\u001B[39m\u001B[38;5;124mdtype\u001B[39m\u001B[38;5;124m\"\u001B[39m] \u001B[38;5;241m=\u001B[39m ensure_dtype_objs(kwds\u001B[38;5;241m.\u001B[39mget(\u001B[38;5;124m\"\u001B[39m\u001B[38;5;124mdtype\u001B[39m\u001B[38;5;124m\"\u001B[39m, \u001B[38;5;28;01mNone\u001B[39;00m))\n\u001B[0;32m---> 79\u001B[0m \u001B[38;5;28mself\u001B[39m\u001B[38;5;241m.\u001B[39m_reader \u001B[38;5;241m=\u001B[39m \u001B[43mparsers\u001B[49m\u001B[38;5;241;43m.\u001B[39;49m\u001B[43mTextReader\u001B[49m\u001B[43m(\u001B[49m\u001B[43msrc\u001B[49m\u001B[43m,\u001B[49m\u001B[43m \u001B[49m\u001B[38;5;241;43m*\u001B[39;49m\u001B[38;5;241;43m*\u001B[39;49m\u001B[43mkwds\u001B[49m\u001B[43m)\u001B[49m\n\u001B[1;32m     81\u001B[0m \u001B[38;5;28mself\u001B[39m\u001B[38;5;241m.\u001B[39munnamed_cols \u001B[38;5;241m=\u001B[39m \u001B[38;5;28mself\u001B[39m\u001B[38;5;241m.\u001B[39m_reader\u001B[38;5;241m.\u001B[39munnamed_cols\n\u001B[1;32m     83\u001B[0m \u001B[38;5;66;03m# error: Cannot determine type of 'names'\u001B[39;00m\n",
      "File \u001B[0;32m~/opt/miniconda3/envs/Kayak/lib/python3.10/site-packages/pandas/_libs/parsers.pyx:547\u001B[0m, in \u001B[0;36mpandas._libs.parsers.TextReader.__cinit__\u001B[0;34m()\u001B[0m\n",
      "File \u001B[0;32m~/opt/miniconda3/envs/Kayak/lib/python3.10/site-packages/pandas/_libs/parsers.pyx:636\u001B[0m, in \u001B[0;36mpandas._libs.parsers.TextReader._get_header\u001B[0;34m()\u001B[0m\n",
      "File \u001B[0;32m~/opt/miniconda3/envs/Kayak/lib/python3.10/site-packages/pandas/_libs/parsers.pyx:852\u001B[0m, in \u001B[0;36mpandas._libs.parsers.TextReader._tokenize_rows\u001B[0;34m()\u001B[0m\n",
      "File \u001B[0;32m~/opt/miniconda3/envs/Kayak/lib/python3.10/site-packages/pandas/_libs/parsers.pyx:1973\u001B[0m, in \u001B[0;36mpandas._libs.parsers.raise_parser_error\u001B[0;34m()\u001B[0m\n",
      "\u001B[0;31mParserError\u001B[0m: Error tokenizing data. C error: Calling read(nbytes) on source failed. Try engine='python'."
     ]
    }
   ],
   "source": [
    "gfs_ens_bc_change_df = pd.DataFrame(columns=['gfs-ens-bc_9', 'gfs-ens-bc_10', 'gfs-ens-bc_11', 'gfs-ens-bc_12',\n",
    "                                  'gfs-ens-bc_13', 'gfs-ens-bc_14'])\n",
    "passed_rows = []\n",
    "for i in range(1, len(gfs_ens_bc_sorted_files)):\n",
    "    gfs_ens_bc_df = pd.read_csv(gfs_ens_bc_sorted_files[i])\n",
    "    gfs_ens_bc_df = gfs_ens_bc_df[gfs_ens_bc_df[gfs_ens_bc_df.columns[2]] >= 1]\n",
    "    prev_ecmwf_eps_df = pd.read_csv(ecmwf_eps_sorted_files[i-1])\n",
    "    prev_ecmwf_eps_df = prev_ecmwf_eps_df[prev_ecmwf_eps_df[prev_ecmwf_eps_df.columns[2]] >= 1]\n",
    "\n",
    "    try:\n",
    "        date = get_date(gfs_ens_bc_df, gfs_ens_bc_sorted_files[i])\n",
    "        prev_date = get_date(prev_ecmwf_eps_df, ecmwf_eps_sorted_files[i-1])\n",
    "    except IndexError:\n",
    "        print(f\"error on row: {i}\")\n",
    "        passed_rows.append(i)\n",
    "        continue\n",
    "\n",
    "    d2 = str(date)[:10]\n",
    "    d1 = str(prev_date)[:10]\n",
    "    if d2 != d1:\n",
    "        offset = 1\n",
    "    else:\n",
    "        offset = 0\n",
    "\n",
    "    changes = []\n",
    "    try:\n",
    "        for day in range(8, 14):\n",
    "            changes.append(gfs_ens_bc_df.iloc[day - offset]['Value'] - prev_ecmwf_eps_df.iloc[day]['Value'])\n",
    "        new_row = pd.DataFrame([changes], columns=gfs_ens_bc_change_df.columns, index=[date])\n",
    "        gfs_ens_bc_change_df = pd.concat([gfs_ens_bc_change_df, new_row])\n",
    "    except IndexError:\n",
    "        print(f\"error on {date}\")\n",
    "        passed_rows.append(i)"
   ],
   "metadata": {
    "collapsed": false,
    "ExecuteTime": {
     "start_time": "2023-06-14T09:44:20.540438Z",
     "end_time": "2023-06-14T09:44:30.073120Z"
    }
   }
  },
  {
   "cell_type": "code",
   "execution_count": null,
   "outputs": [],
   "source": [
    "passed_rows"
   ],
   "metadata": {
    "collapsed": false,
    "ExecuteTime": {
     "start_time": "2023-06-14T09:44:30.073985Z",
     "end_time": "2023-06-14T09:44:30.076283Z"
    }
   }
  },
  {
   "cell_type": "code",
   "execution_count": null,
   "outputs": [],
   "source": [
    "cmc_ens_change_df = pd.DataFrame(columns=['cmc-ens_9', 'cmc-ens_10', 'cmc-ens_11', 'cmc-ens_12',\n",
    "                                  'cmc-ens_13', 'cmc-ens_14'])\n",
    "passed_rows = []\n",
    "\n",
    "for i in range(1, len(cmc_ens_sorted_files)):\n",
    "    cmc_ens_df = pd.read_csv(cmc_ens_sorted_files[i])\n",
    "    cmc_ens_df = cmc_ens_df[cmc_ens_df[cmc_ens_df.columns[2]] >= 1]\n",
    "    gfs_ens_bc_df = pd.read_csv(gfs_ens_bc_sorted_files[i])\n",
    "    gfs_ens_bc_df = gfs_ens_bc_df[gfs_ens_bc_df[gfs_ens_bc_df.columns[2]] >= 1]\n",
    "    date = get_date(cmc_ens_df, cmc_ens_sorted_files[i])\n",
    "\n",
    "    changes = []\n",
    "    try:\n",
    "        for day in range(8, 14):\n",
    "            changes.append(cmc_ens_df.iloc[day]['Value'] - gfs_ens_bc_df.iloc[day]['Value'])\n",
    "        new_row = pd.DataFrame([changes], columns=cmc_ens_change_df.columns, index=[date])\n",
    "        cmc_ens_change_df = pd.concat([cmc_ens_change_df, new_row])\n",
    "    except IndexError:\n",
    "        print(f\"error on {date}\")\n",
    "        passed_rows.append(i)"
   ],
   "metadata": {
    "collapsed": false,
    "ExecuteTime": {
     "start_time": "2023-06-14T09:44:30.080469Z",
     "end_time": "2023-06-14T09:44:39.748933Z"
    }
   }
  },
  {
   "cell_type": "code",
   "execution_count": null,
   "outputs": [],
   "source": [
    "passed_rows"
   ],
   "metadata": {
    "collapsed": false,
    "ExecuteTime": {
     "start_time": "2023-06-14T09:44:39.750402Z",
     "end_time": "2023-06-14T09:44:39.753209Z"
    }
   }
  },
  {
   "cell_type": "code",
   "execution_count": 128,
   "outputs": [
    {
     "name": "stdout",
     "output_type": "stream",
     "text": [
      "error on 2020-08-15 12:00:00\n",
      "error on 2020-08-16 00:00:00\n",
      "error on 2020-08-16 12:00:00\n",
      "error on 2020-08-17 00:00:00\n"
     ]
    }
   ],
   "source": [
    "day_8_error = pd.DataFrame(columns=['day_8_error'])\n",
    "passed_rows = []\n",
    "\n",
    "for i in range(1, len(ecmwf_eps_sorted_files)):\n",
    "    ecmwf_eps_df = pd.read_csv(ecmwf_eps_sorted_files[i])\n",
    "    ecmwf_eps_df = ecmwf_eps_df[ecmwf_eps_df[ecmwf_eps_df.columns[2]] >= 1]\n",
    "    prev_ecmwf_eps_df = pd.read_csv(ecmwf_eps_sorted_files[i-1])\n",
    "    prev_ecmwf_eps_df = prev_ecmwf_eps_df[prev_ecmwf_eps_df[prev_ecmwf_eps_df.columns[2]] >= 1]\n",
    "\n",
    "    date = get_date(ecmwf_eps_df, ecmwf_eps_sorted_files[i])\n",
    "    prev_date = get_date(prev_ecmwf_eps_df, ecmwf_eps_sorted_files[i-1])\n",
    "    d2 = str(date)[:10]\n",
    "    d1 = str(prev_date)[:10]\n",
    "\n",
    "    if d2 == d1:\n",
    "        offset = 1\n",
    "    else:\n",
    "        offset = 0\n",
    "    day = 7\n",
    "    changes = []\n",
    "    try:\n",
    "        changes.append(ecmwf_eps_df.iloc[day]['Value'] - prev_ecmwf_eps_df.iloc[day + offset]['Value'])\n",
    "        new_row = pd.DataFrame([changes], columns=day_8_error.columns, index=[date])\n",
    "        day_8_error = pd.concat([day_8_error, new_row])\n",
    "    except IndexError:\n",
    "        print(f\"error on {date}\")\n",
    "        passed_rows.append(i)"
   ],
   "metadata": {
    "collapsed": false,
    "ExecuteTime": {
     "start_time": "2023-06-14T10:21:08.657660Z",
     "end_time": "2023-06-14T10:21:17.374738Z"
    }
   }
  },
  {
   "cell_type": "code",
   "execution_count": 143,
   "outputs": [
    {
     "name": "stdout",
     "output_type": "stream",
     "text": [
      "RawData/ecmwf-eps.20180711.12.gw_hdd.csv\n",
      "RawData/ecmwf-eps.20180712.00.gw_hdd.csv\n"
     ]
    }
   ],
   "source": [
    "i = 3\n",
    "print(ecmwf_eps_sorted_files[i-1])\n",
    "print(ecmwf_eps_sorted_files[i])\n",
    "ecmwf_eps_df = pd.read_csv(ecmwf_eps_sorted_files[i])\n",
    "ecmwf_eps_df = ecmwf_eps_df[ecmwf_eps_df[ecmwf_eps_df.columns[2]] >= 1]\n",
    "prev_ecmwf_eps_df = pd.read_csv(ecmwf_eps_sorted_files[i-1])\n",
    "prev_ecmwf_eps_df = prev_ecmwf_eps_df[prev_ecmwf_eps_df[prev_ecmwf_eps_df.columns[2]] >= 1]"
   ],
   "metadata": {
    "collapsed": false,
    "ExecuteTime": {
     "start_time": "2023-06-14T10:22:41.560547Z",
     "end_time": "2023-06-14T10:22:41.569662Z"
    }
   }
  },
  {
   "cell_type": "code",
   "execution_count": 143,
   "outputs": [],
   "source": [],
   "metadata": {
    "collapsed": false,
    "ExecuteTime": {
     "start_time": "2023-06-14T10:22:41.735493Z",
     "end_time": "2023-06-14T10:22:41.749334Z"
    }
   }
  },
  {
   "cell_type": "code",
   "execution_count": 144,
   "outputs": [
    {
     "data": {
      "text/plain": "          Date  Value  Flag (0=obs 1=fcst 2=norm)\n8   2018-07-12  0.003                           1\n9   2018-07-13  0.005                           1\n10  2018-07-14  0.003                           1\n11  2018-07-15  0.001                           1\n12  2018-07-16  0.003                           1\n13  2018-07-17  0.001                           1\n14  2018-07-18  0.004                           1\n15  2018-07-19  0.009                           1\n16  2018-07-20  0.007                           1\n17  2018-07-21  0.004                           1\n18  2018-07-22  0.003                           1\n19  2018-07-23  0.003                           1\n20  2018-07-24  0.003                           1\n21  2018-07-25  0.004                           1\n22  2018-07-26  0.000                           2\n23  2018-07-27  0.000                           2\n24  2018-07-28  0.000                           2\n25  2018-07-29  0.000                           2\n26  2018-07-30  0.000                           2\n27  2018-07-31  0.000                           2\n28  2018-08-01  0.000                           2",
      "text/html": "<div>\n<style scoped>\n    .dataframe tbody tr th:only-of-type {\n        vertical-align: middle;\n    }\n\n    .dataframe tbody tr th {\n        vertical-align: top;\n    }\n\n    .dataframe thead th {\n        text-align: right;\n    }\n</style>\n<table border=\"1\" class=\"dataframe\">\n  <thead>\n    <tr style=\"text-align: right;\">\n      <th></th>\n      <th>Date</th>\n      <th>Value</th>\n      <th>Flag (0=obs 1=fcst 2=norm)</th>\n    </tr>\n  </thead>\n  <tbody>\n    <tr>\n      <th>8</th>\n      <td>2018-07-12</td>\n      <td>0.003</td>\n      <td>1</td>\n    </tr>\n    <tr>\n      <th>9</th>\n      <td>2018-07-13</td>\n      <td>0.005</td>\n      <td>1</td>\n    </tr>\n    <tr>\n      <th>10</th>\n      <td>2018-07-14</td>\n      <td>0.003</td>\n      <td>1</td>\n    </tr>\n    <tr>\n      <th>11</th>\n      <td>2018-07-15</td>\n      <td>0.001</td>\n      <td>1</td>\n    </tr>\n    <tr>\n      <th>12</th>\n      <td>2018-07-16</td>\n      <td>0.003</td>\n      <td>1</td>\n    </tr>\n    <tr>\n      <th>13</th>\n      <td>2018-07-17</td>\n      <td>0.001</td>\n      <td>1</td>\n    </tr>\n    <tr>\n      <th>14</th>\n      <td>2018-07-18</td>\n      <td>0.004</td>\n      <td>1</td>\n    </tr>\n    <tr>\n      <th>15</th>\n      <td>2018-07-19</td>\n      <td>0.009</td>\n      <td>1</td>\n    </tr>\n    <tr>\n      <th>16</th>\n      <td>2018-07-20</td>\n      <td>0.007</td>\n      <td>1</td>\n    </tr>\n    <tr>\n      <th>17</th>\n      <td>2018-07-21</td>\n      <td>0.004</td>\n      <td>1</td>\n    </tr>\n    <tr>\n      <th>18</th>\n      <td>2018-07-22</td>\n      <td>0.003</td>\n      <td>1</td>\n    </tr>\n    <tr>\n      <th>19</th>\n      <td>2018-07-23</td>\n      <td>0.003</td>\n      <td>1</td>\n    </tr>\n    <tr>\n      <th>20</th>\n      <td>2018-07-24</td>\n      <td>0.003</td>\n      <td>1</td>\n    </tr>\n    <tr>\n      <th>21</th>\n      <td>2018-07-25</td>\n      <td>0.004</td>\n      <td>1</td>\n    </tr>\n    <tr>\n      <th>22</th>\n      <td>2018-07-26</td>\n      <td>0.000</td>\n      <td>2</td>\n    </tr>\n    <tr>\n      <th>23</th>\n      <td>2018-07-27</td>\n      <td>0.000</td>\n      <td>2</td>\n    </tr>\n    <tr>\n      <th>24</th>\n      <td>2018-07-28</td>\n      <td>0.000</td>\n      <td>2</td>\n    </tr>\n    <tr>\n      <th>25</th>\n      <td>2018-07-29</td>\n      <td>0.000</td>\n      <td>2</td>\n    </tr>\n    <tr>\n      <th>26</th>\n      <td>2018-07-30</td>\n      <td>0.000</td>\n      <td>2</td>\n    </tr>\n    <tr>\n      <th>27</th>\n      <td>2018-07-31</td>\n      <td>0.000</td>\n      <td>2</td>\n    </tr>\n    <tr>\n      <th>28</th>\n      <td>2018-08-01</td>\n      <td>0.000</td>\n      <td>2</td>\n    </tr>\n  </tbody>\n</table>\n</div>"
     },
     "metadata": {},
     "output_type": "display_data"
    }
   ],
   "source": [
    "display(prev_ecmwf_eps_df)"
   ],
   "metadata": {
    "collapsed": false,
    "ExecuteTime": {
     "start_time": "2023-06-14T10:22:41.936031Z",
     "end_time": "2023-06-14T10:22:41.952265Z"
    }
   }
  },
  {
   "cell_type": "code",
   "execution_count": 145,
   "outputs": [
    {
     "data": {
      "text/plain": "          Date  Value  Flag (0=obs 1=fcst 2=norm)\n7   2018-07-12  0.002                           1\n8   2018-07-13  0.004                           1\n9   2018-07-14  0.003                           1\n10  2018-07-15  0.001                           1\n11  2018-07-16  0.002                           1\n12  2018-07-17  0.002                           1\n13  2018-07-18  0.004                           1\n14  2018-07-19  0.007                           1\n15  2018-07-20  0.007                           1\n16  2018-07-21  0.004                           1\n17  2018-07-22  0.003                           1\n18  2018-07-23  0.004                           1\n19  2018-07-24  0.004                           1\n20  2018-07-25  0.003                           1\n21  2018-07-26  0.004                           1\n22  2018-07-27  0.000                           2\n23  2018-07-28  0.000                           2\n24  2018-07-29  0.000                           2\n25  2018-07-30  0.000                           2\n26  2018-07-31  0.000                           2\n27  2018-08-01  0.000                           2\n28  2018-08-02  0.000                           2",
      "text/html": "<div>\n<style scoped>\n    .dataframe tbody tr th:only-of-type {\n        vertical-align: middle;\n    }\n\n    .dataframe tbody tr th {\n        vertical-align: top;\n    }\n\n    .dataframe thead th {\n        text-align: right;\n    }\n</style>\n<table border=\"1\" class=\"dataframe\">\n  <thead>\n    <tr style=\"text-align: right;\">\n      <th></th>\n      <th>Date</th>\n      <th>Value</th>\n      <th>Flag (0=obs 1=fcst 2=norm)</th>\n    </tr>\n  </thead>\n  <tbody>\n    <tr>\n      <th>7</th>\n      <td>2018-07-12</td>\n      <td>0.002</td>\n      <td>1</td>\n    </tr>\n    <tr>\n      <th>8</th>\n      <td>2018-07-13</td>\n      <td>0.004</td>\n      <td>1</td>\n    </tr>\n    <tr>\n      <th>9</th>\n      <td>2018-07-14</td>\n      <td>0.003</td>\n      <td>1</td>\n    </tr>\n    <tr>\n      <th>10</th>\n      <td>2018-07-15</td>\n      <td>0.001</td>\n      <td>1</td>\n    </tr>\n    <tr>\n      <th>11</th>\n      <td>2018-07-16</td>\n      <td>0.002</td>\n      <td>1</td>\n    </tr>\n    <tr>\n      <th>12</th>\n      <td>2018-07-17</td>\n      <td>0.002</td>\n      <td>1</td>\n    </tr>\n    <tr>\n      <th>13</th>\n      <td>2018-07-18</td>\n      <td>0.004</td>\n      <td>1</td>\n    </tr>\n    <tr>\n      <th>14</th>\n      <td>2018-07-19</td>\n      <td>0.007</td>\n      <td>1</td>\n    </tr>\n    <tr>\n      <th>15</th>\n      <td>2018-07-20</td>\n      <td>0.007</td>\n      <td>1</td>\n    </tr>\n    <tr>\n      <th>16</th>\n      <td>2018-07-21</td>\n      <td>0.004</td>\n      <td>1</td>\n    </tr>\n    <tr>\n      <th>17</th>\n      <td>2018-07-22</td>\n      <td>0.003</td>\n      <td>1</td>\n    </tr>\n    <tr>\n      <th>18</th>\n      <td>2018-07-23</td>\n      <td>0.004</td>\n      <td>1</td>\n    </tr>\n    <tr>\n      <th>19</th>\n      <td>2018-07-24</td>\n      <td>0.004</td>\n      <td>1</td>\n    </tr>\n    <tr>\n      <th>20</th>\n      <td>2018-07-25</td>\n      <td>0.003</td>\n      <td>1</td>\n    </tr>\n    <tr>\n      <th>21</th>\n      <td>2018-07-26</td>\n      <td>0.004</td>\n      <td>1</td>\n    </tr>\n    <tr>\n      <th>22</th>\n      <td>2018-07-27</td>\n      <td>0.000</td>\n      <td>2</td>\n    </tr>\n    <tr>\n      <th>23</th>\n      <td>2018-07-28</td>\n      <td>0.000</td>\n      <td>2</td>\n    </tr>\n    <tr>\n      <th>24</th>\n      <td>2018-07-29</td>\n      <td>0.000</td>\n      <td>2</td>\n    </tr>\n    <tr>\n      <th>25</th>\n      <td>2018-07-30</td>\n      <td>0.000</td>\n      <td>2</td>\n    </tr>\n    <tr>\n      <th>26</th>\n      <td>2018-07-31</td>\n      <td>0.000</td>\n      <td>2</td>\n    </tr>\n    <tr>\n      <th>27</th>\n      <td>2018-08-01</td>\n      <td>0.000</td>\n      <td>2</td>\n    </tr>\n    <tr>\n      <th>28</th>\n      <td>2018-08-02</td>\n      <td>0.000</td>\n      <td>2</td>\n    </tr>\n  </tbody>\n</table>\n</div>"
     },
     "metadata": {},
     "output_type": "display_data"
    }
   ],
   "source": [
    "display(ecmwf_eps_df)"
   ],
   "metadata": {
    "collapsed": false,
    "ExecuteTime": {
     "start_time": "2023-06-14T10:22:42.472629Z",
     "end_time": "2023-06-14T10:22:42.477169Z"
    }
   }
  },
  {
   "cell_type": "code",
   "execution_count": 132,
   "outputs": [
    {
     "data": {
      "text/plain": "                     day_8_error\n2018-07-11 00:00:00        0.002\n2018-07-11 12:00:00        0.003\n2018-07-12 00:00:00       -0.002\n2018-07-12 12:00:00       -0.002\n2018-07-13 00:00:00       -0.001\n...                          ...\n2023-05-15 00:00:00        0.844\n2023-05-15 12:00:00       -0.080\n2023-05-16 00:00:00        0.145\n2023-05-16 12:00:00       -0.264\n2023-05-17 00:00:00        0.099\n\n[3479 rows x 1 columns]",
      "text/html": "<div>\n<style scoped>\n    .dataframe tbody tr th:only-of-type {\n        vertical-align: middle;\n    }\n\n    .dataframe tbody tr th {\n        vertical-align: top;\n    }\n\n    .dataframe thead th {\n        text-align: right;\n    }\n</style>\n<table border=\"1\" class=\"dataframe\">\n  <thead>\n    <tr style=\"text-align: right;\">\n      <th></th>\n      <th>day_8_error</th>\n    </tr>\n  </thead>\n  <tbody>\n    <tr>\n      <th>2018-07-11 00:00:00</th>\n      <td>0.002</td>\n    </tr>\n    <tr>\n      <th>2018-07-11 12:00:00</th>\n      <td>0.003</td>\n    </tr>\n    <tr>\n      <th>2018-07-12 00:00:00</th>\n      <td>-0.002</td>\n    </tr>\n    <tr>\n      <th>2018-07-12 12:00:00</th>\n      <td>-0.002</td>\n    </tr>\n    <tr>\n      <th>2018-07-13 00:00:00</th>\n      <td>-0.001</td>\n    </tr>\n    <tr>\n      <th>...</th>\n      <td>...</td>\n    </tr>\n    <tr>\n      <th>2023-05-15 00:00:00</th>\n      <td>0.844</td>\n    </tr>\n    <tr>\n      <th>2023-05-15 12:00:00</th>\n      <td>-0.080</td>\n    </tr>\n    <tr>\n      <th>2023-05-16 00:00:00</th>\n      <td>0.145</td>\n    </tr>\n    <tr>\n      <th>2023-05-16 12:00:00</th>\n      <td>-0.264</td>\n    </tr>\n    <tr>\n      <th>2023-05-17 00:00:00</th>\n      <td>0.099</td>\n    </tr>\n  </tbody>\n</table>\n<p>3479 rows × 1 columns</p>\n</div>"
     },
     "metadata": {},
     "output_type": "display_data"
    }
   ],
   "source": [
    "display(day_8_error)"
   ],
   "metadata": {
    "collapsed": false,
    "ExecuteTime": {
     "start_time": "2023-06-14T10:21:20.583485Z",
     "end_time": "2023-06-14T10:21:20.601416Z"
    }
   }
  },
  {
   "cell_type": "code",
   "execution_count": null,
   "outputs": [],
   "source": [],
   "metadata": {
    "collapsed": false
   }
  },
  {
   "cell_type": "code",
   "execution_count": null,
   "outputs": [],
   "source": [
    "errors_df = pd.DataFrame(columns=['error_9', 'error_10', 'error_11', 'error_12', 'error_13', 'error_14'])\n",
    "passed_rows = []\n",
    "\n",
    "for i in range(2, len(ecmwf_eps_sorted_files)):\n",
    "    ecmwf_eps_df = pd.read_csv(ecmwf_eps_sorted_files[i-1])\n",
    "    ecmwf_eps_df = ecmwf_eps_df[ecmwf_eps_df[ecmwf_eps_df.columns[2]] >= 1]\n",
    "    prev_ecmwf_eps_df = pd.read_csv(ecmwf_eps_sorted_files[i-2])\n",
    "    prev_ecmwf_eps_df = prev_ecmwf_eps_df[prev_ecmwf_eps_df[prev_ecmwf_eps_df.columns[2]] >= 1]\n",
    "\n",
    "    date = get_date(ecmwf_eps_df, ecmwf_eps_sorted_files[i])\n",
    "    prev_date = get_date(prev_ecmwf_eps_df, ecmwf_eps_sorted_files[i-1])\n",
    "    d2 = str(date)[:10]\n",
    "    d1 = str(prev_date)[:10]\n",
    "\n",
    "    if d2 != d1:\n",
    "        offset = 1\n",
    "    else:\n",
    "        offset = 0\n",
    "\n",
    "    errors = []\n",
    "    try:\n",
    "        for day in range(8, 14):\n",
    "            errors.append(ecmwf_eps_df.iloc[day - offset]['Value'] - prev_ecmwf_eps_df.iloc[day]['Value'])\n",
    "        new_row = pd.DataFrame([errors], columns=errors_df.columns, index=[date])\n",
    "        errors_df = pd.concat([errors_df, new_row])\n",
    "    except IndexError:\n",
    "        print(f\"error on {date}\")\n",
    "        passed_rows.append(i)"
   ],
   "metadata": {
    "collapsed": false,
    "ExecuteTime": {
     "start_time": "2023-06-13T13:26:00.405453Z",
     "end_time": "2023-06-13T13:26:09.095589Z"
    }
   }
  },
  {
   "cell_type": "code",
   "execution_count": null,
   "outputs": [],
   "source": [],
   "metadata": {
    "collapsed": false
   }
  },
  {
   "cell_type": "markdown",
   "source": [
    "new features"
   ],
   "metadata": {
    "collapsed": false
   }
  },
  {
   "cell_type": "code",
   "execution_count": null,
   "outputs": [],
   "source": [
    "#add if noon"
   ],
   "metadata": {
    "collapsed": false,
    "ExecuteTime": {
     "start_time": "2023-06-13T13:26:09.095518Z",
     "end_time": "2023-06-13T13:26:09.097702Z"
    }
   }
  },
  {
   "cell_type": "code",
   "execution_count": null,
   "outputs": [],
   "source": [],
   "metadata": {
    "collapsed": false,
    "ExecuteTime": {
     "start_time": "2023-06-13T13:26:09.098498Z",
     "end_time": "2023-06-13T13:26:09.102166Z"
    }
   }
  },
  {
   "cell_type": "code",
   "execution_count": null,
   "outputs": [],
   "source": [],
   "metadata": {
    "collapsed": false,
    "ExecuteTime": {
     "start_time": "2023-06-13T13:26:09.101128Z",
     "end_time": "2023-06-13T13:26:09.103615Z"
    }
   }
  },
  {
   "cell_type": "code",
   "execution_count": null,
   "outputs": [],
   "source": [
    "errors_df['noon'] = errors_df.index.hour\n",
    "errors_df['noon'] = errors_df['noon'].apply(lambda x: 1 if x == 12 else 0)"
   ],
   "metadata": {
    "collapsed": false,
    "ExecuteTime": {
     "start_time": "2023-06-13T13:26:09.103682Z",
     "end_time": "2023-06-13T13:26:09.108866Z"
    }
   }
  },
  {
   "cell_type": "code",
   "execution_count": null,
   "outputs": [],
   "source": [],
   "metadata": {
    "collapsed": false,
    "ExecuteTime": {
     "start_time": "2023-06-13T13:26:09.109233Z",
     "end_time": "2023-06-13T13:26:09.110890Z"
    }
   }
  },
  {
   "cell_type": "code",
   "execution_count": null,
   "outputs": [],
   "source": [
    "def f(x):\n",
    "    y = 1 - (abs(x-7) / 7)\n",
    "    return y"
   ],
   "metadata": {
    "collapsed": false,
    "ExecuteTime": {
     "start_time": "2023-06-13T13:26:09.111836Z",
     "end_time": "2023-06-13T13:26:09.117396Z"
    }
   }
  },
  {
   "cell_type": "code",
   "execution_count": null,
   "outputs": [],
   "source": [
    "errors_df['month'] = errors_df.index.month\n",
    "#errors_df['month'] = errors_df['month'].apply(lambda x: f(x))"
   ],
   "metadata": {
    "collapsed": false,
    "ExecuteTime": {
     "start_time": "2023-06-13T13:26:09.115749Z",
     "end_time": "2023-06-13T13:26:09.133080Z"
    }
   }
  },
  {
   "cell_type": "code",
   "execution_count": null,
   "outputs": [],
   "source": [],
   "metadata": {
    "collapsed": false,
    "ExecuteTime": {
     "start_time": "2023-06-13T13:26:09.119363Z",
     "end_time": "2023-06-13T13:26:09.133411Z"
    }
   }
  },
  {
   "cell_type": "code",
   "execution_count": null,
   "outputs": [],
   "source": [
    "master_df = pd.concat([gfs_ens_bc_change_df, cmc_ens_change_df, ecmwf_change_df, errors_df,  ecmwf_eps_change_df], axis=1) # removed day_8_error\n",
    "master_df.fillna(0, inplace=True)\n",
    "display(master_df[-5:])"
   ],
   "metadata": {
    "collapsed": false,
    "ExecuteTime": {
     "start_time": "2023-06-13T13:26:09.122461Z",
     "end_time": "2023-06-13T13:26:09.142123Z"
    }
   }
  },
  {
   "cell_type": "code",
   "execution_count": null,
   "outputs": [],
   "source": [
    "master_df.to_pickle('master_df.pkl')"
   ],
   "metadata": {
    "collapsed": false,
    "ExecuteTime": {
     "start_time": "2023-06-13T13:26:09.142666Z",
     "end_time": "2023-06-13T13:26:09.147147Z"
    }
   }
  },
  {
   "cell_type": "markdown",
   "source": [
    "random forest"
   ],
   "metadata": {
    "collapsed": false
   }
  },
  {
   "cell_type": "code",
   "execution_count": 44,
   "outputs": [],
   "source": [
    "master_df = pd.read_pickle('master_df.pkl')"
   ],
   "metadata": {
    "collapsed": false,
    "ExecuteTime": {
     "start_time": "2023-06-14T09:32:42.117156Z",
     "end_time": "2023-06-14T09:32:42.132876Z"
    }
   }
  },
  {
   "cell_type": "code",
   "execution_count": null,
   "outputs": [],
   "source": [
    "master_df['ecmwf-eps_9'][-800:].plot()"
   ],
   "metadata": {
    "collapsed": false,
    "ExecuteTime": {
     "start_time": "2023-06-13T13:24:31.508026Z",
     "end_time": "2023-06-13T13:24:31.722541Z"
    }
   }
  },
  {
   "cell_type": "code",
   "execution_count": 45,
   "outputs": [],
   "source": [
    "X = master_df.iloc[:, :-6]\n",
    "y = master_df.iloc[:, -6:]"
   ],
   "metadata": {
    "collapsed": false,
    "ExecuteTime": {
     "start_time": "2023-06-14T09:32:46.771950Z",
     "end_time": "2023-06-14T09:32:46.788566Z"
    }
   }
  },
  {
   "cell_type": "code",
   "execution_count": 45,
   "outputs": [],
   "source": [],
   "metadata": {
    "collapsed": false,
    "ExecuteTime": {
     "start_time": "2023-06-14T09:32:47.091396Z",
     "end_time": "2023-06-14T09:32:47.109374Z"
    }
   }
  },
  {
   "cell_type": "code",
   "execution_count": 46,
   "outputs": [
    {
     "data": {
      "text/plain": "RandomForestRegressor(max_depth=100, n_estimators=1000, random_state=42)",
      "text/html": "<style>#sk-container-id-1 {color: black;background-color: white;}#sk-container-id-1 pre{padding: 0;}#sk-container-id-1 div.sk-toggleable {background-color: white;}#sk-container-id-1 label.sk-toggleable__label {cursor: pointer;display: block;width: 100%;margin-bottom: 0;padding: 0.3em;box-sizing: border-box;text-align: center;}#sk-container-id-1 label.sk-toggleable__label-arrow:before {content: \"▸\";float: left;margin-right: 0.25em;color: #696969;}#sk-container-id-1 label.sk-toggleable__label-arrow:hover:before {color: black;}#sk-container-id-1 div.sk-estimator:hover label.sk-toggleable__label-arrow:before {color: black;}#sk-container-id-1 div.sk-toggleable__content {max-height: 0;max-width: 0;overflow: hidden;text-align: left;background-color: #f0f8ff;}#sk-container-id-1 div.sk-toggleable__content pre {margin: 0.2em;color: black;border-radius: 0.25em;background-color: #f0f8ff;}#sk-container-id-1 input.sk-toggleable__control:checked~div.sk-toggleable__content {max-height: 200px;max-width: 100%;overflow: auto;}#sk-container-id-1 input.sk-toggleable__control:checked~label.sk-toggleable__label-arrow:before {content: \"▾\";}#sk-container-id-1 div.sk-estimator input.sk-toggleable__control:checked~label.sk-toggleable__label {background-color: #d4ebff;}#sk-container-id-1 div.sk-label input.sk-toggleable__control:checked~label.sk-toggleable__label {background-color: #d4ebff;}#sk-container-id-1 input.sk-hidden--visually {border: 0;clip: rect(1px 1px 1px 1px);clip: rect(1px, 1px, 1px, 1px);height: 1px;margin: -1px;overflow: hidden;padding: 0;position: absolute;width: 1px;}#sk-container-id-1 div.sk-estimator {font-family: monospace;background-color: #f0f8ff;border: 1px dotted black;border-radius: 0.25em;box-sizing: border-box;margin-bottom: 0.5em;}#sk-container-id-1 div.sk-estimator:hover {background-color: #d4ebff;}#sk-container-id-1 div.sk-parallel-item::after {content: \"\";width: 100%;border-bottom: 1px solid gray;flex-grow: 1;}#sk-container-id-1 div.sk-label:hover label.sk-toggleable__label {background-color: #d4ebff;}#sk-container-id-1 div.sk-serial::before {content: \"\";position: absolute;border-left: 1px solid gray;box-sizing: border-box;top: 0;bottom: 0;left: 50%;z-index: 0;}#sk-container-id-1 div.sk-serial {display: flex;flex-direction: column;align-items: center;background-color: white;padding-right: 0.2em;padding-left: 0.2em;position: relative;}#sk-container-id-1 div.sk-item {position: relative;z-index: 1;}#sk-container-id-1 div.sk-parallel {display: flex;align-items: stretch;justify-content: center;background-color: white;position: relative;}#sk-container-id-1 div.sk-item::before, #sk-container-id-1 div.sk-parallel-item::before {content: \"\";position: absolute;border-left: 1px solid gray;box-sizing: border-box;top: 0;bottom: 0;left: 50%;z-index: -1;}#sk-container-id-1 div.sk-parallel-item {display: flex;flex-direction: column;z-index: 1;position: relative;background-color: white;}#sk-container-id-1 div.sk-parallel-item:first-child::after {align-self: flex-end;width: 50%;}#sk-container-id-1 div.sk-parallel-item:last-child::after {align-self: flex-start;width: 50%;}#sk-container-id-1 div.sk-parallel-item:only-child::after {width: 0;}#sk-container-id-1 div.sk-dashed-wrapped {border: 1px dashed gray;margin: 0 0.4em 0.5em 0.4em;box-sizing: border-box;padding-bottom: 0.4em;background-color: white;}#sk-container-id-1 div.sk-label label {font-family: monospace;font-weight: bold;display: inline-block;line-height: 1.2em;}#sk-container-id-1 div.sk-label-container {text-align: center;}#sk-container-id-1 div.sk-container {/* jupyter's `normalize.less` sets `[hidden] { display: none; }` but bootstrap.min.css set `[hidden] { display: none !important; }` so we also need the `!important` here to be able to override the default hidden behavior on the sphinx rendered scikit-learn.org. See: https://github.com/scikit-learn/scikit-learn/issues/21755 */display: inline-block !important;position: relative;}#sk-container-id-1 div.sk-text-repr-fallback {display: none;}</style><div id=\"sk-container-id-1\" class=\"sk-top-container\"><div class=\"sk-text-repr-fallback\"><pre>RandomForestRegressor(max_depth=100, n_estimators=1000, random_state=42)</pre><b>In a Jupyter environment, please rerun this cell to show the HTML representation or trust the notebook. <br />On GitHub, the HTML representation is unable to render, please try loading this page with nbviewer.org.</b></div><div class=\"sk-container\" hidden><div class=\"sk-item\"><div class=\"sk-estimator sk-toggleable\"><input class=\"sk-toggleable__control sk-hidden--visually\" id=\"sk-estimator-id-1\" type=\"checkbox\" checked><label for=\"sk-estimator-id-1\" class=\"sk-toggleable__label sk-toggleable__label-arrow\">RandomForestRegressor</label><div class=\"sk-toggleable__content\"><pre>RandomForestRegressor(max_depth=100, n_estimators=1000, random_state=42)</pre></div></div></div></div></div>"
     },
     "execution_count": 46,
     "metadata": {},
     "output_type": "execute_result"
    }
   ],
   "source": [
    "X_train, X_test, y_train, y_test = train_test_split(X, y, test_size=0.2, random_state=42)\n",
    "rf_model = RandomForestRegressor(n_estimators=1000, max_depth=100, random_state=42)\n",
    "rf_model.fit(X_train, y_train)"
   ],
   "metadata": {
    "collapsed": false,
    "ExecuteTime": {
     "start_time": "2023-06-14T09:32:47.517773Z",
     "end_time": "2023-06-14T09:33:35.925664Z"
    }
   }
  },
  {
   "cell_type": "code",
   "execution_count": 47,
   "outputs": [
    {
     "name": "stdout",
     "output_type": "stream",
     "text": [
      "Mean Squared Error: 1.0294975013128134\n"
     ]
    }
   ],
   "source": [
    "y_pred = rf_model.predict(X_test)\n",
    "mse = mean_squared_error(y_test, y_pred)\n",
    "print(\"Mean Squared Error:\", mse)"
   ],
   "metadata": {
    "collapsed": false,
    "ExecuteTime": {
     "start_time": "2023-06-14T09:33:35.926791Z",
     "end_time": "2023-06-14T09:33:36.155126Z"
    }
   }
  },
  {
   "cell_type": "markdown",
   "source": [
    "RNN"
   ],
   "metadata": {
    "collapsed": false
   }
  },
  {
   "cell_type": "code",
   "execution_count": 48,
   "outputs": [],
   "source": [
    "input_features = master_df.iloc[:, :-6].values ** 2\n",
    "target_variables = master_df.iloc[:, -6:].values\n",
    "\n",
    "# Split the data into training, validation, and testing sets\n",
    "X_train, X_test, y_train, y_test = train_test_split(\n",
    "    input_features, target_variables, test_size=0.2, shuffle=False)\n",
    "\n",
    "X_train, X_val, y_train, y_val = train_test_split(\n",
    "    X_train, y_train, test_size=0.2, shuffle=False)\n",
    "\n",
    "# Scale the input features based on the training data\n",
    "scaler = MinMaxScaler()\n",
    "X_train_scaled = scaler.fit_transform(X_train)\n",
    "\n",
    "# Scale the validation and test data based on the training data\n",
    "X_val_scaled = scaler.transform(X_val)\n",
    "X_test_scaled = scaler.transform(X_test)\n",
    "\n",
    "# Convert the scaled data to PyTorch tensors\n",
    "\n",
    "X_train_tensor = torch.Tensor(X_train_scaled)\n",
    "y_train_tensor = torch.Tensor(y_train)\n",
    "X_val_tensor = torch.Tensor(X_val_scaled)\n",
    "y_val_tensor = torch.Tensor(y_val)\n",
    "X_test_tensor = torch.Tensor(X_test_scaled)\n",
    "y_test_tensor = torch.Tensor(y_test)"
   ],
   "metadata": {
    "collapsed": false,
    "ExecuteTime": {
     "start_time": "2023-06-14T09:33:36.164647Z",
     "end_time": "2023-06-14T09:33:36.245700Z"
    }
   }
  },
  {
   "cell_type": "code",
   "execution_count": 51,
   "outputs": [
    {
     "data": {
      "text/plain": "1.7505100671104359"
     },
     "execution_count": 51,
     "metadata": {},
     "output_type": "execute_result"
    }
   ],
   "source": [
    "#benchmark error\n",
    "total_mse = 0\n",
    "c = 0\n",
    "for i in range(1, len(y_test_tensor)):\n",
    "    #mse = mean_squared_error(y_test_tensor[i], y_test_tensor[i-1])\n",
    "    mse = mean_squared_error(y_test_tensor[i], [0,0,0,0,0,0])\n",
    "    total_mse += mse\n",
    "    c += 1\n",
    "\n",
    "total_mse/c"
   ],
   "metadata": {
    "collapsed": false,
    "ExecuteTime": {
     "start_time": "2023-06-14T09:34:06.952750Z",
     "end_time": "2023-06-14T09:34:07.029043Z"
    }
   }
  },
  {
   "cell_type": "code",
   "execution_count": null,
   "outputs": [],
   "source": [
    "class RNN(nn.Module):\n",
    "    def __init__(self, input_size, hidden_size, output_size, num_layers, dropout):\n",
    "        super(RNN, self).__init__()\n",
    "\n",
    "        self.hidden_size = hidden_size\n",
    "        self.num_layers = num_layers\n",
    "\n",
    "        self.lstm = nn.LSTM(input_size, hidden_size, num_layers=num_layers, batch_first=True, dropout=dropout)\n",
    "        self.fc1 = nn.Linear(hidden_size, 64)  # Dense layer with 64 units\n",
    "        self.fc2 = nn.Linear(64, output_size)  # Final output layer\n",
    "\n",
    "    def forward(self, x):\n",
    "        h0 = torch.zeros(self.num_layers, x.size(0), self.hidden_size).to(x.device)\n",
    "        c0 = torch.zeros(self.num_layers, x.size(0), self.hidden_size).to(x.device)\n",
    "\n",
    "        out, _ = self.lstm(x, (h0, c0))\n",
    "        out = F.relu(out)  # Apply ReLU activation between LSTM and first dense layer\n",
    "        out = self.fc1(out[:, -1, :])\n",
    "        out = F.relu(out)  # Apply ReLU activation to the output of the first dense layer\n",
    "        out = self.fc2(out)\n",
    "\n",
    "        return out"
   ],
   "metadata": {
    "collapsed": false,
    "ExecuteTime": {
     "start_time": "2023-06-07T11:57:18.215284Z",
     "end_time": "2023-06-07T11:57:18.221355Z"
    }
   }
  },
  {
   "cell_type": "code",
   "execution_count": null,
   "outputs": [],
   "source": [
    "input_size = X_train_tensor.shape[1]\n",
    "output_size = y_train_tensor.shape[1]\n",
    "hidden_size = 256\n",
    "num_layers = 3\n",
    "dropout = 0.3\n",
    "lr = 0.01\n",
    "mps_device = torch.device(\"mps\")"
   ],
   "metadata": {
    "collapsed": false,
    "ExecuteTime": {
     "start_time": "2023-06-07T11:58:01.427352Z",
     "end_time": "2023-06-07T11:58:01.432498Z"
    }
   }
  },
  {
   "cell_type": "code",
   "execution_count": null,
   "outputs": [],
   "source": [
    "model = RNN(input_size, hidden_size, output_size, num_layers, dropout)\n",
    "criterion = nn.MSELoss()\n",
    "optimizer = optim.Adam(model.parameters(), lr=lr, weight_decay=0.001)"
   ],
   "metadata": {
    "collapsed": false,
    "ExecuteTime": {
     "start_time": "2023-06-07T11:04:37.978958Z",
     "end_time": "2023-06-07T11:04:37.991726Z"
    }
   }
  },
  {
   "cell_type": "code",
   "execution_count": null,
   "outputs": [],
   "source": [
    "num_epochs = 100\n",
    "sequence_length = 10  # Number of previous days to consider\n",
    "\n",
    "best_loss = float('inf')\n",
    "best_model = None\n",
    "train_losses = []\n",
    "val_losses = []\n",
    "\n",
    "for epoch in range(num_epochs):\n",
    "    model.train()  # Set the model to training mode\n",
    "    total_loss = 0\n",
    "\n",
    "    # Loop through each sequence in the training data\n",
    "    for i in range(sequence_length, X_train_tensor.shape[0]):\n",
    "        # Extract the current sequence and target\n",
    "        input_seq = X_train_tensor[i - sequence_length:i].view(1, sequence_length, -1)\n",
    "        target_seq = y_train_tensor[i]\n",
    "\n",
    "        # Forward pass\n",
    "        output = model(input_seq)\n",
    "        loss = criterion(output, target_seq.unsqueeze(0))\n",
    "\n",
    "        # Backward and optimize\n",
    "        optimizer.zero_grad()\n",
    "        loss.backward()\n",
    "        optimizer.step()\n",
    "\n",
    "        total_loss += loss.item()\n",
    "\n",
    "    average_loss = total_loss / (X_train_tensor.shape[0] - sequence_length)\n",
    "    train_losses.append(average_loss)\n",
    "    print(f'Epoch [{epoch + 1}/{num_epochs}], Training Loss: {average_loss}')\n",
    "\n",
    "    # Validation stage\n",
    "    model.eval()  # Set the model to evaluation mode\n",
    "    with torch.no_grad():\n",
    "        total_val_loss = 0\n",
    "\n",
    "        for i in range(sequence_length, X_val_tensor.shape[0]):\n",
    "            input_seq = X_val_tensor[i - sequence_length:i].view(1, sequence_length, -1)\n",
    "            target_seq = y_val_tensor[i]\n",
    "\n",
    "            output = model(input_seq)\n",
    "            val_loss = criterion(output, target_seq.unsqueeze(0))\n",
    "\n",
    "            total_val_loss += val_loss.item()\n",
    "\n",
    "        average_val_loss = total_val_loss / (X_val_tensor.shape[0] - sequence_length)\n",
    "        val_losses.append(average_val_loss)\n",
    "        print(f'Epoch [{epoch + 1}/{num_epochs}], Validation Loss: {average_val_loss}')\n",
    "\n",
    "        # Check if current model is the best based on validation loss\n",
    "        if average_val_loss < best_loss:\n",
    "            best_loss = average_val_loss\n",
    "            best_model = copy.deepcopy(model)\n",
    "\n",
    "# After training, use the best model for testing\n",
    "model = best_model"
   ],
   "metadata": {
    "collapsed": false,
    "ExecuteTime": {
     "start_time": "2023-06-07T10:52:26.272553Z",
     "end_time": "2023-06-07T10:59:06.610026Z"
    }
   }
  },
  {
   "cell_type": "code",
   "execution_count": null,
   "outputs": [],
   "source": [
    "def plot_losses(train_losses, val_losses):\n",
    "    fig, ax = plt.subplots(figsize=(12, 6))\n",
    "    ax.plot(train_losses, label='Training Loss')\n",
    "    ax.plot(val_losses, label='Validation Loss')\n",
    "    ax.set_xlabel('Epoch')\n",
    "    ax.set_ylabel('Loss')\n",
    "    ax.legend()\n",
    "    plt.show()\n",
    "plot_losses(train_losses, val_losses)"
   ],
   "metadata": {
    "collapsed": false,
    "ExecuteTime": {
     "start_time": "2023-06-07T11:29:40.798333Z",
     "end_time": "2023-06-07T11:29:40.955675Z"
    }
   }
  },
  {
   "cell_type": "code",
   "execution_count": null,
   "outputs": [],
   "source": [
    "model.eval()  # Set the model to evaluation mode\n",
    "\n",
    "with torch.no_grad():\n",
    "    test_loss = 0.0\n",
    "    predictions = []\n",
    "\n",
    "    for i in range(sequence_length, X_test_tensor.shape[0]):\n",
    "        input_seq = X_test_tensor[i - sequence_length:i].view(1, sequence_length, -1)\n",
    "        target_seq = y_test_tensor[i]\n",
    "\n",
    "        output = model(input_seq)\n",
    "        loss = criterion(output, target_seq.unsqueeze(0))\n",
    "\n",
    "        test_loss += loss.item()\n",
    "\n",
    "        # Extract the scalar value from the tensor and append it to predictions\n",
    "        predictions.append(output.squeeze().tolist())\n",
    "\n",
    "    average_test_loss = test_loss / (X_test_tensor.shape[0] - sequence_length)\n",
    "    print(f'Test Loss: {average_test_loss}')\n",
    "\n",
    "    # Convert the predictions and target values to numpy arrays\n",
    "    predictions = np.array(predictions)\n",
    "    targets = y_test_tensor[sequence_length:].numpy()\n",
    "\n",
    "    # Evaluate the performance using appropriate metrics\n",
    "    # For example, calculate mean squared error (MSE)\n",
    "    mse = mean_squared_error(targets, predictions)\n",
    "    metric = R2Score()\n",
    "    r2 = metric.update(torch.tensor(predictions), torch.tensor(targets)).compute()\n",
    "    print(f'Mean Squared Error (MSE): {mse}')\n",
    "    print(f'R2 Score: {r2}')"
   ],
   "metadata": {
    "collapsed": false,
    "ExecuteTime": {
     "start_time": "2023-06-07T11:29:42.167101Z",
     "end_time": "2023-06-07T11:29:44.081810Z"
    }
   }
  },
  {
   "cell_type": "code",
   "execution_count": null,
   "outputs": [],
   "source": [],
   "metadata": {
    "collapsed": false,
    "ExecuteTime": {
     "start_time": "2023-06-07T11:29:50.774388Z",
     "end_time": "2023-06-07T11:29:50.781270Z"
    }
   }
  },
  {
   "cell_type": "code",
   "execution_count": null,
   "outputs": [],
   "source": [
    "def prediction(input):\n",
    "    model.eval()\n",
    "\n",
    "    with torch.no_grad():\n",
    "        input_seq = torch.tensor(input).view(1, sequence_length, -1)\n",
    "        output = model(input_seq)\n",
    "        return output.squeeze().tolist()"
   ],
   "metadata": {
    "collapsed": false,
    "ExecuteTime": {
     "start_time": "2023-06-07T11:29:50.970175Z",
     "end_time": "2023-06-07T11:29:50.974005Z"
    }
   }
  },
  {
   "cell_type": "code",
   "execution_count": null,
   "outputs": [],
   "source": [
    "pred = prediction(X_test_tensor[-sequence_length:])"
   ],
   "metadata": {
    "collapsed": false,
    "ExecuteTime": {
     "start_time": "2023-06-07T11:30:05.822139Z",
     "end_time": "2023-06-07T11:30:05.837688Z"
    }
   }
  },
  {
   "cell_type": "code",
   "execution_count": null,
   "outputs": [],
   "source": [
    "pred"
   ],
   "metadata": {
    "collapsed": false,
    "ExecuteTime": {
     "start_time": "2023-06-07T11:30:06.606259Z",
     "end_time": "2023-06-07T11:30:06.609147Z"
    }
   }
  },
  {
   "cell_type": "code",
   "execution_count": null,
   "outputs": [],
   "source": [
    "y_test_tensor[-1]"
   ],
   "metadata": {
    "collapsed": false,
    "ExecuteTime": {
     "start_time": "2023-06-07T11:30:07.257100Z",
     "end_time": "2023-06-07T11:30:07.266004Z"
    }
   }
  },
  {
   "cell_type": "code",
   "execution_count": null,
   "outputs": [],
   "source": [
    "if not os.path.exists('master_df.pkl'):\n",
    "    print('does not exist')\n",
    "else:\n",
    "    print('exists')"
   ],
   "metadata": {
    "collapsed": false,
    "ExecuteTime": {
     "start_time": "2023-06-13T10:52:46.267901Z",
     "end_time": "2023-06-13T10:52:46.274414Z"
    }
   }
  },
  {
   "cell_type": "code",
   "execution_count": null,
   "outputs": [],
   "source": [],
   "metadata": {
    "collapsed": false,
    "ExecuteTime": {
     "start_time": "2023-06-07T12:13:04.741373Z",
     "end_time": "2023-06-07T12:13:04.749586Z"
    }
   }
  },
  {
   "cell_type": "code",
   "execution_count": null,
   "outputs": [],
   "source": [],
   "metadata": {
    "collapsed": false
   }
  },
  {
   "cell_type": "markdown",
   "source": [
    "# Autogloun"
   ],
   "metadata": {
    "collapsed": false
   }
  },
  {
   "cell_type": "code",
   "execution_count": 7,
   "outputs": [],
   "source": [
    "from autogluon.tabular import TabularDataset, TabularPredictor\n",
    "from autogluon.common.utils.utils import setup_outputdir\n",
    "from autogluon.core.utils.loaders import load_pkl\n",
    "from autogluon.core.utils.savers import save_pkl\n",
    "from autogluon.features.generators import AutoMLPipelineFeatureGenerator\n",
    "import os.path"
   ],
   "metadata": {
    "collapsed": false,
    "ExecuteTime": {
     "start_time": "2023-06-13T15:35:22.876553Z",
     "end_time": "2023-06-13T15:35:23.040881Z"
    }
   }
  },
  {
   "cell_type": "code",
   "execution_count": 415,
   "outputs": [],
   "source": [
    "imp_features = list(set([\"day_8_error\", \"gfs-ens-bc_9\", \"ecmwf_diff_8\", \"noon\", \"cmc-ens_9\",\n",
    "                    \"gfs-ens-bc_10\", \"gfs-ens-bc_9\", \"ecmwf_diff_9\", \"cmc-ens_10\",\n",
    "                    \"noon\", \"gfs-ens-bc_10\", \"gfs-ens-bc_11\", \"gfs-ens-bc_9\",\n",
    "                    \"cmc-ens_11\", \"gfs-ens-bc_11\", \"gfs-ens-bc_12\", \"gfs-ens-bc_10\",\n",
    "                    \"gfs-ens-bc_12\", \"gfs-ens-bc_13\"]))"
   ],
   "metadata": {
    "collapsed": false,
    "ExecuteTime": {
     "start_time": "2023-06-13T14:17:53.704645Z",
     "end_time": "2023-06-13T14:17:53.714528Z"
    }
   }
  },
  {
   "cell_type": "code",
   "execution_count": 8,
   "outputs": [],
   "source": [
    "labels = ['ecmwf-eps_9', 'ecmwf-eps_10', 'ecmwf-eps_11', 'ecmwf-eps_12', 'ecmwf-eps_13',\n",
    "          'ecmwf-eps_14']"
   ],
   "metadata": {
    "collapsed": false,
    "ExecuteTime": {
     "start_time": "2023-06-13T15:35:25.042289Z",
     "end_time": "2023-06-13T15:35:25.056992Z"
    }
   }
  },
  {
   "cell_type": "code",
   "execution_count": 417,
   "outputs": [],
   "source": [
    "#y = master_df.iloc[:, -6:].copy()\n",
    "#y = y.reset_index(drop=True)\n",
    "#X = master_df.iloc[:, :-6].copy()\n",
    "#X['Date'] = X.index\n",
    "#X = X.reset_index(drop=True)"
   ],
   "metadata": {
    "collapsed": false,
    "ExecuteTime": {
     "start_time": "2023-06-13T14:17:54.029233Z",
     "end_time": "2023-06-13T14:17:54.038229Z"
    }
   }
  },
  {
   "cell_type": "code",
   "execution_count": 418,
   "outputs": [],
   "source": [
    "#auto_ml_pipeline_feature_generator = AutoMLPipelineFeatureGenerator()\n",
    "#X = auto_ml_pipeline_feature_generator.fit_transform(X=X)"
   ],
   "metadata": {
    "collapsed": false,
    "ExecuteTime": {
     "start_time": "2023-06-13T14:17:54.201145Z",
     "end_time": "2023-06-13T14:17:54.210058Z"
    }
   }
  },
  {
   "cell_type": "code",
   "execution_count": 418,
   "outputs": [],
   "source": [],
   "metadata": {
    "collapsed": false,
    "ExecuteTime": {
     "start_time": "2023-06-13T14:17:54.343023Z",
     "end_time": "2023-06-13T14:17:54.352675Z"
    }
   }
  },
  {
   "cell_type": "code",
   "execution_count": 419,
   "outputs": [],
   "source": [
    "#df = pd.concat([X, y], axis=1)"
   ],
   "metadata": {
    "collapsed": false,
    "ExecuteTime": {
     "start_time": "2023-06-13T14:17:54.520174Z",
     "end_time": "2023-06-13T14:17:54.528893Z"
    }
   }
  },
  {
   "cell_type": "code",
   "execution_count": 146,
   "outputs": [],
   "source": [
    "master_df = pd.read_pickle(f'master_df_{degree_days}.pkl')"
   ],
   "metadata": {
    "collapsed": false,
    "ExecuteTime": {
     "start_time": "2023-06-14T10:24:50.619061Z",
     "end_time": "2023-06-14T10:24:50.627320Z"
    }
   }
  },
  {
   "cell_type": "code",
   "execution_count": 147,
   "outputs": [
    {
     "data": {
      "text/plain": "Index(['gfs-ens-bc_9', 'gfs-ens-bc_10', 'gfs-ens-bc_11', 'gfs-ens-bc_12',\n       'gfs-ens-bc_13', 'gfs-ens-bc_14', 'cmc-ens_9', 'cmc-ens_10',\n       'cmc-ens_11', 'cmc-ens_12', 'cmc-ens_13', 'cmc-ens_14', 'ecmwf_diff_8',\n       'ecmwf_diff_9', 'day_8_error', 'error_9', 'error_10', 'error_11',\n       'error_12', 'error_13', 'error_14', 'noon', 'ecmwf-eps_9',\n       'ecmwf-eps_10', 'ecmwf-eps_11', 'ecmwf-eps_12', 'ecmwf-eps_13',\n       'ecmwf-eps_14'],\n      dtype='object')"
     },
     "execution_count": 147,
     "metadata": {},
     "output_type": "execute_result"
    }
   ],
   "source": [
    "master_df.columns"
   ],
   "metadata": {
    "collapsed": false,
    "ExecuteTime": {
     "start_time": "2023-06-14T10:24:50.837761Z",
     "end_time": "2023-06-14T10:24:50.882626Z"
    }
   }
  },
  {
   "cell_type": "code",
   "execution_count": 148,
   "outputs": [],
   "source": [
    "train_len = 0.8\n",
    "train_data = TabularDataset(master_df[:int(len(master_df)*train_len)])\n",
    "test_data = TabularDataset(master_df[int(len(master_df)*train_len):])"
   ],
   "metadata": {
    "collapsed": false,
    "ExecuteTime": {
     "start_time": "2023-06-14T10:24:51.388823Z",
     "end_time": "2023-06-14T10:24:51.395962Z"
    }
   }
  },
  {
   "cell_type": "code",
   "execution_count": 149,
   "outputs": [],
   "source": [
    "#train_data = train_data.loc[:, imp_features + labels]\n",
    "#test_data = test_data.loc[:, imp_features + labels]"
   ],
   "metadata": {
    "collapsed": false,
    "ExecuteTime": {
     "start_time": "2023-06-14T10:24:52.008684Z",
     "end_time": "2023-06-14T10:24:52.018798Z"
    }
   }
  },
  {
   "cell_type": "code",
   "execution_count": 150,
   "outputs": [],
   "source": [
    "save_path = 'models'"
   ],
   "metadata": {
    "collapsed": false,
    "ExecuteTime": {
     "start_time": "2023-06-14T10:24:52.335495Z",
     "end_time": "2023-06-14T10:24:52.344474Z"
    }
   }
  },
  {
   "cell_type": "code",
   "execution_count": 154,
   "outputs": [],
   "source": [],
   "metadata": {
    "collapsed": false,
    "ExecuteTime": {
     "start_time": "2023-06-14T10:25:52.932233Z",
     "end_time": "2023-06-14T10:25:52.946029Z"
    }
   }
  },
  {
   "cell_type": "code",
   "execution_count": 89,
   "outputs": [],
   "source": [
    "class MultilabelPredictor():\n",
    "    \"\"\" Tabular Predictor for predicting multiple columns in table.\n",
    "        Creates multiple TabularPredictor objects which you can also use individually.\n",
    "        You can access the TabularPredictor for a particular label via: `multilabel_predictor.get_predictor(label_i)`\n",
    "\n",
    "        Parameters\n",
    "        ----------\n",
    "        labels : List[str]\n",
    "            The ith element of this list is the column (i.e. `label`) predicted by the ith TabularPredictor stored in this object.\n",
    "        path : str, default = None\n",
    "            Path to directory where models and intermediate outputs should be saved.\n",
    "            If unspecified, a time-stamped folder called \"AutogluonModels/ag-[TIMESTAMP]\" will be created in the working directory to store all models.\n",
    "            Note: To call `fit()` twice and save all results of each fit, you must specify different `path` locations or don't specify `path` at all.\n",
    "            Otherwise files from first `fit()` will be overwritten by second `fit()`.\n",
    "            Caution: when predicting many labels, this directory may grow large as it needs to store many TabularPredictors.\n",
    "        problem_types : List[str], default = None\n",
    "            The ith element is the `problem_type` for the ith TabularPredictor stored in this object.\n",
    "        eval_metrics : List[str], default = None\n",
    "            The ith element is the `eval_metric` for the ith TabularPredictor stored in this object.\n",
    "        consider_labels_correlation : bool, default = True\n",
    "            Whether the predictions of multiple labels should account for label correlations or predict each label independently of the others.\n",
    "            If True, the ordering of `labels` may affect resulting accuracy as each label is predicted conditional on the previous labels appearing earlier in this list (i.e. in an auto-regressive fashion).\n",
    "            Set to False if during inference you may want to individually use just the ith TabularPredictor without predicting all the other labels.\n",
    "        kwargs :\n",
    "            Arguments passed into the initialization of each TabularPredictor.\n",
    "\n",
    "    \"\"\"\n",
    "\n",
    "    multi_predictor_file = 'multilabel_predictor.pkl'\n",
    "\n",
    "    def __init__(self, labels, path=None, problem_types=None, eval_metrics=None, consider_labels_correlation=True, **kwargs):\n",
    "        if len(labels) < 2:\n",
    "            raise ValueError(\"MultilabelPredictor is only intended for predicting MULTIPLE labels (columns), use TabularPredictor for predicting one label (column).\")\n",
    "        if (problem_types is not None) and (len(problem_types) != len(labels)):\n",
    "            raise ValueError(\"If provided, `problem_types` must have same length as `labels`\")\n",
    "        if (eval_metrics is not None) and (len(eval_metrics) != len(labels)):\n",
    "            raise ValueError(\"If provided, `eval_metrics` must have same length as `labels`\")\n",
    "        self.path = setup_outputdir(path, warn_if_exist=False)\n",
    "        self.labels = labels\n",
    "        self.consider_labels_correlation = consider_labels_correlation\n",
    "        self.predictors = {}  # key = label, value = TabularPredictor or str path to the TabularPredictor for this label\n",
    "        if eval_metrics is None:\n",
    "            self.eval_metrics = {}\n",
    "        else:\n",
    "            self.eval_metrics = {labels[i] : eval_metrics[i] for i in range(len(labels))}\n",
    "        problem_type = None\n",
    "        eval_metric = None\n",
    "        for i in range(len(labels)):\n",
    "            label = labels[i]\n",
    "            path_i = self.path + \"Predictor_\" + label\n",
    "            if problem_types is not None:\n",
    "                problem_type = problem_types[i]\n",
    "            if eval_metrics is not None:\n",
    "                eval_metric = eval_metrics[i]\n",
    "            self.predictors[label] = TabularPredictor(label=label, problem_type=problem_type, eval_metric=eval_metric, path=path_i, **kwargs)\n",
    "\n",
    "    def fit(self, train_data, tuning_data=None, **kwargs):\n",
    "        \"\"\" Fits a separate TabularPredictor to predict each of the labels.\n",
    "\n",
    "            Parameters\n",
    "            ----------\n",
    "            train_data, tuning_data : str or autogluon.tabular.TabularDataset or pd.DataFrame\n",
    "                See documentation for `TabularPredictor.fit()`.\n",
    "            kwargs :\n",
    "                Arguments passed into the `fit()` call for each TabularPredictor.\n",
    "        \"\"\"\n",
    "        if isinstance(train_data, str):\n",
    "            train_data = TabularDataset(train_data)\n",
    "        if tuning_data is not None and isinstance(tuning_data, str):\n",
    "            tuning_data = TabularDataset(tuning_data)\n",
    "        train_data_og = train_data.copy()\n",
    "        if tuning_data is not None:\n",
    "            tuning_data_og = tuning_data.copy()\n",
    "        else:\n",
    "            tuning_data_og = None\n",
    "        save_metrics = len(self.eval_metrics) == 0\n",
    "        for i in range(len(self.labels)):\n",
    "            label = self.labels[i]\n",
    "            predictor = self.get_predictor(label)\n",
    "            if not self.consider_labels_correlation:\n",
    "                labels_to_drop = [l for l in self.labels if l != label]\n",
    "            else:\n",
    "                labels_to_drop = [self.labels[j] for j in range(i+1, len(self.labels))]\n",
    "            train_data = train_data_og.drop(labels_to_drop, axis=1)\n",
    "            if tuning_data is not None:\n",
    "                tuning_data = tuning_data_og.drop(labels_to_drop, axis=1)\n",
    "            print(f\"Fitting TabularPredictor for label: {label} ...\")\n",
    "            predictor.fit(train_data=train_data, tuning_data=tuning_data, **kwargs)\n",
    "            self.predictors[label] = predictor.path\n",
    "            if save_metrics:\n",
    "                self.eval_metrics[label] = predictor.eval_metric\n",
    "        self.save()\n",
    "\n",
    "    def predict(self, data, **kwargs):\n",
    "        \"\"\" Returns DataFrame with label columns containing predictions for each label.\n",
    "\n",
    "            Parameters\n",
    "            ----------\n",
    "            data : str or autogluon.tabular.TabularDataset or pd.DataFrame\n",
    "                Data to make predictions for. If label columns are present in this data, they will be ignored. See documentation for `TabularPredictor.predict()`.\n",
    "            kwargs :\n",
    "                Arguments passed into the predict() call for each TabularPredictor.\n",
    "        \"\"\"\n",
    "        return self._predict(data, as_proba=False, **kwargs)\n",
    "\n",
    "    def predict_proba(self, data, **kwargs):\n",
    "        \"\"\" Returns dict where each key is a label and the corresponding value is the `predict_proba()` output for just that label.\n",
    "\n",
    "            Parameters\n",
    "            ----------\n",
    "            data : str or autogluon.tabular.TabularDataset or pd.DataFrame\n",
    "                Data to make predictions for. See documentation for `TabularPredictor.predict()` and `TabularPredictor.predict_proba()`.\n",
    "            kwargs :\n",
    "                Arguments passed into the `predict_proba()` call for each TabularPredictor (also passed into a `predict()` call).\n",
    "        \"\"\"\n",
    "        return self._predict(data, as_proba=True, **kwargs)\n",
    "\n",
    "    def evaluate(self, data, **kwargs):\n",
    "        \"\"\" Returns dict where each key is a label and the corresponding value is the `evaluate()` output for just that label.\n",
    "\n",
    "            Parameters\n",
    "            ----------\n",
    "            data : str or autogluon.tabular.TabularDataset or pd.DataFrame\n",
    "                Data to evalate predictions of all labels for, must contain all labels as columns. See documentation for `TabularPredictor.evaluate()`.\n",
    "            kwargs :\n",
    "                Arguments passed into the `evaluate()` call for each TabularPredictor (also passed into the `predict()` call).\n",
    "        \"\"\"\n",
    "        data = self._get_data(data)\n",
    "        eval_dict = {}\n",
    "        for label in self.labels:\n",
    "            print(f\"Evaluating TabularPredictor for label: {label} ...\")\n",
    "            predictor = self.get_predictor(label)\n",
    "            eval_dict[label] = predictor.evaluate(data, **kwargs)\n",
    "            if self.consider_labels_correlation:\n",
    "                data[label] = predictor.predict(data, **kwargs)\n",
    "        return eval_dict\n",
    "\n",
    "    def feature_imp(self,data, **kwargs):\n",
    "        data = self._get_data(data)\n",
    "        eval_dict = {}\n",
    "        for label in self.labels:\n",
    "            predictor = self.get_predictor(label)\n",
    "            eval_dict[label] = predictor.feature_importance(data, **kwargs)\n",
    "            print(f\"Evaluating feature importance for label: {label} ...\")\n",
    "        return eval_dict\n",
    "\n",
    "    def best_model(self):\n",
    "        for label in self.labels:\n",
    "            predictor = self.get_predictor(label)\n",
    "            best_model = predictor.best_model()\n",
    "            print(f\"Best model for {label}: {best_model}\")\n",
    "\n",
    "    def save(self):\n",
    "        \"\"\" Save MultilabelPredictor to disk. \"\"\"\n",
    "        for label in self.labels:\n",
    "            if not isinstance(self.predictors[label], str):\n",
    "                self.predictors[label] = self.predictors[label].path\n",
    "        save_pkl.save(path=self.path+self.multi_predictor_file, object=self)\n",
    "        print(f\"MultilabelPredictor saved to disk. Load with: MultilabelPredictor.load('{self.path}')\")\n",
    "\n",
    "    @classmethod\n",
    "    def load(cls, path):\n",
    "        \"\"\" Load MultilabelPredictor from disk `path` previously specified when creating this MultilabelPredictor. \"\"\"\n",
    "        path = os.path.expanduser(path)\n",
    "        if path[-1] != os.path.sep:\n",
    "            path = path + os.path.sep\n",
    "        return load_pkl.load(path=path+cls.multi_predictor_file)\n",
    "\n",
    "    def get_predictor(self, label):\n",
    "        \"\"\" Returns TabularPredictor which is used to predict this label. \"\"\"\n",
    "        predictor = self.predictors[label]\n",
    "        if isinstance(predictor, str):\n",
    "            return TabularPredictor.load(path=predictor)\n",
    "        return predictor\n",
    "\n",
    "    def _get_data(self, data):\n",
    "        if isinstance(data, str):\n",
    "            return TabularDataset(data)\n",
    "        return data.copy()\n",
    "\n",
    "    def _predict(self, data, as_proba=False, **kwargs):\n",
    "        data = self._get_data(data)\n",
    "        if as_proba:\n",
    "            predproba_dict = {}\n",
    "        for label in self.labels:\n",
    "            print(f\"Predicting with TabularPredictor for label: {label} ...\")\n",
    "            predictor = self.get_predictor(label)\n",
    "            if as_proba:\n",
    "                predproba_dict[label] = predictor.predict_proba(data, as_multiclass=True, **kwargs)\n",
    "            data[label] = predictor.predict(data, **kwargs)\n",
    "        if not as_proba:\n",
    "            return data[self.labels]\n",
    "        else:\n",
    "            return predproba_dict"
   ],
   "metadata": {
    "collapsed": false,
    "ExecuteTime": {
     "start_time": "2023-06-14T10:11:58.380682Z",
     "end_time": "2023-06-14T10:11:58.420404Z"
    }
   }
  },
  {
   "cell_type": "code",
   "execution_count": null,
   "outputs": [],
   "source": [
    "multi_predictor = MultilabelPredictor(labels=labels, path=save_path)"
   ],
   "metadata": {
    "collapsed": false,
    "ExecuteTime": {
     "start_time": "2023-06-13T10:05:10.897133Z",
     "end_time": "2023-06-13T10:05:10.907180Z"
    }
   }
  },
  {
   "cell_type": "code",
   "execution_count": null,
   "outputs": [],
   "source": [
    "multi_predictor.fit(train_data) # add presets='best_quality' for better results, but longer runtime"
   ],
   "metadata": {
    "collapsed": false,
    "ExecuteTime": {
     "start_time": "2023-06-13T10:05:11.449709Z",
     "end_time": "2023-06-13T10:06:35.437833Z"
    }
   }
  },
  {
   "cell_type": "code",
   "execution_count": null,
   "outputs": [],
   "source": [
    "feature_imp = multi_predictor.feature_imp(train_data)\n"
   ],
   "metadata": {
    "collapsed": false,
    "ExecuteTime": {
     "start_time": "2023-06-13T10:06:35.810849Z",
     "end_time": "2023-06-13T10:06:50.865292Z"
    }
   }
  },
  {
   "cell_type": "code",
   "execution_count": null,
   "outputs": [],
   "source": [
    "print(feature_imp)"
   ],
   "metadata": {
    "collapsed": false,
    "ExecuteTime": {
     "start_time": "2023-06-13T10:08:33.533764Z",
     "end_time": "2023-06-13T10:08:33.564910Z"
    }
   }
  },
  {
   "cell_type": "code",
   "execution_count": 162,
   "outputs": [
    {
     "data": {
      "text/plain": "                     gfs-ens-bc_9  gfs-ens-bc_10  gfs-ens-bc_11  \\\n2022-06-03 00:00:00        -0.324         -0.276         -0.110   \n2022-06-03 12:00:00        -0.233         -0.238         -0.207   \n2022-06-04 00:00:00        -0.164         -0.103         -0.039   \n2022-06-04 12:00:00        -0.224         -0.029         -0.032   \n2022-06-05 00:00:00         0.238          0.247          0.328   \n\n                     gfs-ens-bc_12  gfs-ens-bc_13  gfs-ens-bc_14  cmc-ens_9  \\\n2022-06-03 00:00:00         -0.182         -0.039          0.143      0.272   \n2022-06-03 12:00:00         -0.074          0.055          0.106     -0.070   \n2022-06-04 00:00:00          0.044          0.033          0.025      0.201   \n2022-06-04 12:00:00         -0.087         -0.065          0.020     -0.119   \n2022-06-05 00:00:00          0.372          0.151         -0.013     -0.160   \n\n                     cmc-ens_10  cmc-ens_11  cmc-ens_12  ...  ecmwf_diff_8  \\\n2022-06-03 00:00:00       0.178       0.121       0.060  ...        -0.456   \n2022-06-03 12:00:00      -0.170      -0.144      -0.096  ...        -0.433   \n2022-06-04 00:00:00      -0.113      -0.270      -0.269  ...        -0.194   \n2022-06-04 12:00:00      -0.236      -0.202      -0.056  ...        -0.554   \n2022-06-05 00:00:00      -0.389      -0.462      -0.334  ...         0.011   \n\n                     ecmwf_diff_9  day_8_error  error_9  error_10  error_11  \\\n2022-06-03 00:00:00        -0.438        0.017   -0.122     0.004     0.088   \n2022-06-03 12:00:00        -0.322       -0.064   -0.128    -0.068     0.026   \n2022-06-04 00:00:00         0.044        0.081   -0.064    -0.042    -0.085   \n2022-06-04 12:00:00        -0.198       -0.189    0.032     0.000     0.036   \n2022-06-05 00:00:00        -0.020        0.230   -0.189    -0.179    -0.218   \n\n                     error_12  error_13  error_14  noon  \n2022-06-03 00:00:00     0.016    -0.049    -0.072   0.0  \n2022-06-03 12:00:00     0.021     0.002     0.007   1.0  \n2022-06-04 00:00:00    -0.028     0.021     0.030   0.0  \n2022-06-04 12:00:00     0.072     0.047     0.033   1.0  \n2022-06-05 00:00:00    -0.228    -0.159    -0.049   0.0  \n\n[5 rows x 22 columns]",
      "text/html": "<div>\n<style scoped>\n    .dataframe tbody tr th:only-of-type {\n        vertical-align: middle;\n    }\n\n    .dataframe tbody tr th {\n        vertical-align: top;\n    }\n\n    .dataframe thead th {\n        text-align: right;\n    }\n</style>\n<table border=\"1\" class=\"dataframe\">\n  <thead>\n    <tr style=\"text-align: right;\">\n      <th></th>\n      <th>gfs-ens-bc_9</th>\n      <th>gfs-ens-bc_10</th>\n      <th>gfs-ens-bc_11</th>\n      <th>gfs-ens-bc_12</th>\n      <th>gfs-ens-bc_13</th>\n      <th>gfs-ens-bc_14</th>\n      <th>cmc-ens_9</th>\n      <th>cmc-ens_10</th>\n      <th>cmc-ens_11</th>\n      <th>cmc-ens_12</th>\n      <th>...</th>\n      <th>ecmwf_diff_8</th>\n      <th>ecmwf_diff_9</th>\n      <th>day_8_error</th>\n      <th>error_9</th>\n      <th>error_10</th>\n      <th>error_11</th>\n      <th>error_12</th>\n      <th>error_13</th>\n      <th>error_14</th>\n      <th>noon</th>\n    </tr>\n  </thead>\n  <tbody>\n    <tr>\n      <th>2022-06-03 00:00:00</th>\n      <td>-0.324</td>\n      <td>-0.276</td>\n      <td>-0.110</td>\n      <td>-0.182</td>\n      <td>-0.039</td>\n      <td>0.143</td>\n      <td>0.272</td>\n      <td>0.178</td>\n      <td>0.121</td>\n      <td>0.060</td>\n      <td>...</td>\n      <td>-0.456</td>\n      <td>-0.438</td>\n      <td>0.017</td>\n      <td>-0.122</td>\n      <td>0.004</td>\n      <td>0.088</td>\n      <td>0.016</td>\n      <td>-0.049</td>\n      <td>-0.072</td>\n      <td>0.0</td>\n    </tr>\n    <tr>\n      <th>2022-06-03 12:00:00</th>\n      <td>-0.233</td>\n      <td>-0.238</td>\n      <td>-0.207</td>\n      <td>-0.074</td>\n      <td>0.055</td>\n      <td>0.106</td>\n      <td>-0.070</td>\n      <td>-0.170</td>\n      <td>-0.144</td>\n      <td>-0.096</td>\n      <td>...</td>\n      <td>-0.433</td>\n      <td>-0.322</td>\n      <td>-0.064</td>\n      <td>-0.128</td>\n      <td>-0.068</td>\n      <td>0.026</td>\n      <td>0.021</td>\n      <td>0.002</td>\n      <td>0.007</td>\n      <td>1.0</td>\n    </tr>\n    <tr>\n      <th>2022-06-04 00:00:00</th>\n      <td>-0.164</td>\n      <td>-0.103</td>\n      <td>-0.039</td>\n      <td>0.044</td>\n      <td>0.033</td>\n      <td>0.025</td>\n      <td>0.201</td>\n      <td>-0.113</td>\n      <td>-0.270</td>\n      <td>-0.269</td>\n      <td>...</td>\n      <td>-0.194</td>\n      <td>0.044</td>\n      <td>0.081</td>\n      <td>-0.064</td>\n      <td>-0.042</td>\n      <td>-0.085</td>\n      <td>-0.028</td>\n      <td>0.021</td>\n      <td>0.030</td>\n      <td>0.0</td>\n    </tr>\n    <tr>\n      <th>2022-06-04 12:00:00</th>\n      <td>-0.224</td>\n      <td>-0.029</td>\n      <td>-0.032</td>\n      <td>-0.087</td>\n      <td>-0.065</td>\n      <td>0.020</td>\n      <td>-0.119</td>\n      <td>-0.236</td>\n      <td>-0.202</td>\n      <td>-0.056</td>\n      <td>...</td>\n      <td>-0.554</td>\n      <td>-0.198</td>\n      <td>-0.189</td>\n      <td>0.032</td>\n      <td>0.000</td>\n      <td>0.036</td>\n      <td>0.072</td>\n      <td>0.047</td>\n      <td>0.033</td>\n      <td>1.0</td>\n    </tr>\n    <tr>\n      <th>2022-06-05 00:00:00</th>\n      <td>0.238</td>\n      <td>0.247</td>\n      <td>0.328</td>\n      <td>0.372</td>\n      <td>0.151</td>\n      <td>-0.013</td>\n      <td>-0.160</td>\n      <td>-0.389</td>\n      <td>-0.462</td>\n      <td>-0.334</td>\n      <td>...</td>\n      <td>0.011</td>\n      <td>-0.020</td>\n      <td>0.230</td>\n      <td>-0.189</td>\n      <td>-0.179</td>\n      <td>-0.218</td>\n      <td>-0.228</td>\n      <td>-0.159</td>\n      <td>-0.049</td>\n      <td>0.0</td>\n    </tr>\n  </tbody>\n</table>\n<p>5 rows × 22 columns</p>\n</div>"
     },
     "execution_count": 162,
     "metadata": {},
     "output_type": "execute_result"
    }
   ],
   "source": [
    "multi_predictor = MultilabelPredictor.load(f\"models/{degree_days}\")\n",
    "test_data_nolab = test_data.drop(columns=labels)\n",
    "test_data_nolab.head()"
   ],
   "metadata": {
    "collapsed": false,
    "ExecuteTime": {
     "start_time": "2023-06-14T10:45:58.726741Z",
     "end_time": "2023-06-14T10:45:58.768954Z"
    }
   }
  },
  {
   "cell_type": "code",
   "execution_count": 163,
   "outputs": [
    {
     "name": "stdout",
     "output_type": "stream",
     "text": [
      "Predicting with TabularPredictor for label: ecmwf-eps_9 ...\n",
      "Predicting with TabularPredictor for label: ecmwf-eps_10 ...\n",
      "Predicting with TabularPredictor for label: ecmwf-eps_11 ...\n",
      "Predicting with TabularPredictor for label: ecmwf-eps_12 ...\n",
      "Predicting with TabularPredictor for label: ecmwf-eps_13 ...\n",
      "Predicting with TabularPredictor for label: ecmwf-eps_14 ...\n",
      "Predictions:  \n",
      "                      ecmwf-eps_9  ecmwf-eps_10  ecmwf-eps_11  ecmwf-eps_12  \\\n",
      "2022-06-03 00:00:00    -0.175768     -0.125137     -0.002971     -0.029511   \n",
      "2022-06-03 12:00:00    -0.180789     -0.216459     -0.175646     -0.096574   \n",
      "2022-06-04 00:00:00    -0.032800      0.055012      0.009652     -0.038667   \n",
      "2022-06-04 12:00:00    -0.252431     -0.162069     -0.098016     -0.089160   \n",
      "2022-06-05 00:00:00     0.090048      0.104119      0.061412      0.005475   \n",
      "...                          ...           ...           ...           ...   \n",
      "2023-05-15 00:00:00     1.377055      1.287437      0.670275      0.463635   \n",
      "2023-05-15 12:00:00    -0.445481     -0.065761      0.179536      0.084239   \n",
      "2023-05-16 00:00:00    -0.113925      0.229111      0.534037      0.639572   \n",
      "2023-05-16 12:00:00    -0.583259     -0.571527     -0.410617     -0.185130   \n",
      "2023-05-17 00:00:00     0.050383      0.085054      0.063125     -0.064448   \n",
      "\n",
      "                     ecmwf-eps_13  ecmwf-eps_14  \n",
      "2022-06-03 00:00:00      0.025130      0.085823  \n",
      "2022-06-03 12:00:00     -0.016323     -0.035159  \n",
      "2022-06-04 00:00:00     -0.061835     -0.034198  \n",
      "2022-06-04 12:00:00     -0.029605     -0.012067  \n",
      "2022-06-05 00:00:00     -0.074255     -0.052186  \n",
      "...                           ...           ...  \n",
      "2023-05-15 00:00:00      0.471419      0.394068  \n",
      "2023-05-15 12:00:00      0.048497      0.013789  \n",
      "2023-05-16 00:00:00      0.614420      0.404324  \n",
      "2023-05-16 12:00:00     -0.000468      0.010878  \n",
      "2023-05-17 00:00:00     -0.322838     -0.246439  \n",
      "\n",
      "[697 rows x 6 columns]\n"
     ]
    }
   ],
   "source": [
    "predictions = multi_predictor.predict(test_data_nolab)\n",
    "print(\"Predictions:  \\n\", predictions)"
   ],
   "metadata": {
    "collapsed": false,
    "ExecuteTime": {
     "start_time": "2023-06-14T10:46:00.106618Z",
     "end_time": "2023-06-14T10:46:01.394480Z"
    }
   }
  },
  {
   "cell_type": "code",
   "execution_count": 163,
   "outputs": [],
   "source": [],
   "metadata": {
    "collapsed": false,
    "ExecuteTime": {
     "start_time": "2023-06-14T10:46:02.920683Z",
     "end_time": "2023-06-14T10:46:02.939985Z"
    }
   }
  },
  {
   "cell_type": "code",
   "execution_count": 171,
   "outputs": [
    {
     "data": {
      "text/plain": "ecmwf-eps_9    -0.583259\necmwf-eps_10   -0.571527\necmwf-eps_11   -0.410617\necmwf-eps_12   -0.185130\necmwf-eps_13   -0.000468\necmwf-eps_14    0.010878\nName: 2023-05-16 12:00:00, dtype: float32"
     },
     "metadata": {},
     "output_type": "display_data"
    }
   ],
   "source": [
    "display(predictions.iloc[-1])"
   ],
   "metadata": {
    "collapsed": false,
    "ExecuteTime": {
     "start_time": "2023-06-14T10:51:41.313864Z",
     "end_time": "2023-06-14T10:51:41.326712Z"
    }
   }
  },
  {
   "cell_type": "code",
   "execution_count": 172,
   "outputs": [
    {
     "data": {
      "text/plain": "ecmwf-eps_9    -0.647\necmwf-eps_10   -0.716\necmwf-eps_11   -0.510\necmwf-eps_12   -0.097\necmwf-eps_13    0.294\necmwf-eps_14    0.225\nName: 2023-05-16 12:00:00, dtype: float64"
     },
     "metadata": {},
     "output_type": "display_data"
    }
   ],
   "source": [
    "display(test_data[labels].iloc[-1])"
   ],
   "metadata": {
    "collapsed": false,
    "ExecuteTime": {
     "start_time": "2023-06-14T10:51:41.485435Z",
     "end_time": "2023-06-14T10:51:41.494751Z"
    }
   }
  },
  {
   "cell_type": "code",
   "execution_count": 166,
   "outputs": [
    {
     "name": "stdout",
     "output_type": "stream",
     "text": [
      "Evaluating TabularPredictor for label: ecmwf-eps_9 ...\n"
     ]
    },
    {
     "name": "stderr",
     "output_type": "stream",
     "text": [
      "FutureWarning: Calling `predictor.predict_proba` when problem_type=regression will raise an AssertionError starting in AutoGluon v0.8. Please call `predictor.predict` instead.\n"
     ]
    },
    {
     "name": "stdout",
     "output_type": "stream",
     "text": [
      "Evaluating TabularPredictor for label: ecmwf-eps_10 ...\n"
     ]
    },
    {
     "name": "stderr",
     "output_type": "stream",
     "text": [
      "FutureWarning: Calling `predictor.predict_proba` when problem_type=regression will raise an AssertionError starting in AutoGluon v0.8. Please call `predictor.predict` instead.\n"
     ]
    },
    {
     "name": "stdout",
     "output_type": "stream",
     "text": [
      "Evaluating TabularPredictor for label: ecmwf-eps_11 ...\n"
     ]
    },
    {
     "name": "stderr",
     "output_type": "stream",
     "text": [
      "FutureWarning: Calling `predictor.predict_proba` when problem_type=regression will raise an AssertionError starting in AutoGluon v0.8. Please call `predictor.predict` instead.\n"
     ]
    },
    {
     "name": "stdout",
     "output_type": "stream",
     "text": [
      "Evaluating TabularPredictor for label: ecmwf-eps_12 ...\n"
     ]
    },
    {
     "name": "stderr",
     "output_type": "stream",
     "text": [
      "FutureWarning: Calling `predictor.predict_proba` when problem_type=regression will raise an AssertionError starting in AutoGluon v0.8. Please call `predictor.predict` instead.\n"
     ]
    },
    {
     "name": "stdout",
     "output_type": "stream",
     "text": [
      "Evaluating TabularPredictor for label: ecmwf-eps_13 ...\n"
     ]
    },
    {
     "name": "stderr",
     "output_type": "stream",
     "text": [
      "FutureWarning: Calling `predictor.predict_proba` when problem_type=regression will raise an AssertionError starting in AutoGluon v0.8. Please call `predictor.predict` instead.\n"
     ]
    },
    {
     "name": "stdout",
     "output_type": "stream",
     "text": [
      "Evaluating TabularPredictor for label: ecmwf-eps_14 ...\n"
     ]
    },
    {
     "name": "stderr",
     "output_type": "stream",
     "text": [
      "FutureWarning: Calling `predictor.predict_proba` when problem_type=regression will raise an AssertionError starting in AutoGluon v0.8. Please call `predictor.predict` instead.\n"
     ]
    },
    {
     "name": "stdout",
     "output_type": "stream",
     "text": [
      "Evaluated using metrics: {'ecmwf-eps_9': root_mean_squared_error, 'ecmwf-eps_10': root_mean_squared_error, 'ecmwf-eps_11': root_mean_squared_error, 'ecmwf-eps_12': root_mean_squared_error, 'ecmwf-eps_13': root_mean_squared_error, 'ecmwf-eps_14': root_mean_squared_error}\n"
     ]
    }
   ],
   "source": [
    "evaluations = multi_predictor.evaluate(test_data)\n",
    "#print(evaluations)\n",
    "print(\"Evaluated using metrics:\", multi_predictor.eval_metrics)"
   ],
   "metadata": {
    "collapsed": false,
    "ExecuteTime": {
     "start_time": "2023-06-14T10:46:10.461936Z",
     "end_time": "2023-06-14T10:46:13.548122Z"
    }
   }
  },
  {
   "cell_type": "code",
   "execution_count": 167,
   "outputs": [
    {
     "data": {
      "text/plain": "{'ecmwf-eps_9': {'root_mean_squared_error': -0.6949378092795324,\n  'mean_squared_error': -0.4829385587662358,\n  'mean_absolute_error': -0.46133986900684554,\n  'r2': 0.8040591381489535,\n  'pearsonr': 0.8983460810525041,\n  'median_absolute_error': -0.26410825920105196},\n 'ecmwf-eps_10': {'root_mean_squared_error': -0.8287308767266269,\n  'mean_squared_error': -0.6867948660400838,\n  'mean_absolute_error': -0.5529322014919787,\n  'r2': 0.6943412023214948,\n  'pearsonr': 0.833996200407664,\n  'median_absolute_error': -0.3328160696029663},\n 'ecmwf-eps_11': {'root_mean_squared_error': -0.9346301600968071,\n  'mean_squared_error': -0.8735335361625833,\n  'mean_absolute_error': -0.6252109666899223,\n  'r2': 0.5307161628365551,\n  'pearsonr': 0.7311645631171965,\n  'median_absolute_error': -0.33230887722968916},\n 'ecmwf-eps_12': {'root_mean_squared_error': -0.9563013748041894,\n  'mean_squared_error': -0.9145123194523828,\n  'mean_absolute_error': -0.6387908406004462,\n  'r2': 0.40852830168074616,\n  'pearsonr': 0.6436884335868555,\n  'median_absolute_error': -0.3844860725402839},\n 'ecmwf-eps_13': {'root_mean_squared_error': -0.9288863417889399,\n  'mean_squared_error': -0.8628298359620392,\n  'mean_absolute_error': -0.6217222068564648,\n  'r2': 0.320908966842536,\n  'pearsonr': 0.573048019058908,\n  'median_absolute_error': -0.3666308875381965},\n 'ecmwf-eps_14': {'root_mean_squared_error': -0.9022842879470704,\n  'mean_squared_error': -0.8141169362761519,\n  'mean_absolute_error': -0.6090101309347947,\n  'r2': 0.2529414836104986,\n  'pearsonr': 0.5157042220927892,\n  'median_absolute_error': -0.39189563965797447}}"
     },
     "execution_count": 167,
     "metadata": {},
     "output_type": "execute_result"
    }
   ],
   "source": [
    "evaluations"
   ],
   "metadata": {
    "collapsed": false,
    "ExecuteTime": {
     "start_time": "2023-06-14T10:46:13.551696Z",
     "end_time": "2023-06-14T10:46:13.554436Z"
    }
   }
  },
  {
   "cell_type": "code",
   "execution_count": 168,
   "outputs": [
    {
     "data": {
      "text/plain": "                     model  score_val  pred_time_val    fit_time  \\\n0      WeightedEnsemble_L2  -0.716050       0.217296   62.938067   \n1      WeightedEnsemble_L3  -0.723606       0.701582  128.563132   \n2    NeuralNetTorch_BAG_L1  -0.734911       0.028431   32.403139   \n3   NeuralNetFastAI_BAG_L1  -0.737674       0.050426   17.597193   \n4    NeuralNetTorch_BAG_L2  -0.737990       0.484408   96.695782   \n5          CatBoost_BAG_L2  -0.742400       0.469082   81.733552   \n6     ExtraTreesMSE_BAG_L2  -0.742823       0.584684   76.081737   \n7   NeuralNetFastAI_BAG_L2  -0.744512       0.504925   90.942977   \n8   RandomForestMSE_BAG_L2  -0.750371       0.583938   79.259376   \n9          CatBoost_BAG_L1  -0.754943       0.012530   12.185038   \n10          XGBoost_BAG_L2  -0.758870       0.476969   84.379241   \n11    ExtraTreesMSE_BAG_L1  -0.781684       0.125596    0.617843   \n12          XGBoost_BAG_L1  -0.795942       0.021556    9.797107   \n13  RandomForestMSE_BAG_L1  -0.804964       0.124868    2.737135   \n14   KNeighborsDist_BAG_L1  -0.952824       0.027137    0.003989   \n15   KNeighborsUnif_BAG_L1  -0.956166       0.064153    0.004649   \n\n    pred_time_val_marginal  fit_time_marginal  stack_level  can_infer  \\\n0                 0.000313           0.134854            2       True   \n1                 0.000306           0.114215            3       True   \n2                 0.028431          32.403139            1       True   \n3                 0.050426          17.597193            1       True   \n4                 0.029710          21.349689            2       True   \n5                 0.014385           6.387459            2       True   \n6                 0.129986           0.735644            2       True   \n7                 0.050227          15.596883            2       True   \n8                 0.129240           3.913283            2       True   \n9                 0.012530          12.185038            1       True   \n10                0.022271           9.033148            2       True   \n11                0.125596           0.617843            1       True   \n12                0.021556           9.797107            1       True   \n13                0.124868           2.737135            1       True   \n14                0.027137           0.003989            1       True   \n15                0.064153           0.004649            1       True   \n\n    fit_order  \n0           9  \n1          16  \n2           8  \n3           6  \n4          15  \n5          11  \n6          12  \n7          13  \n8          10  \n9           4  \n10         14  \n11          5  \n12          7  \n13          3  \n14          2  \n15          1  ",
      "text/html": "<div>\n<style scoped>\n    .dataframe tbody tr th:only-of-type {\n        vertical-align: middle;\n    }\n\n    .dataframe tbody tr th {\n        vertical-align: top;\n    }\n\n    .dataframe thead th {\n        text-align: right;\n    }\n</style>\n<table border=\"1\" class=\"dataframe\">\n  <thead>\n    <tr style=\"text-align: right;\">\n      <th></th>\n      <th>model</th>\n      <th>score_val</th>\n      <th>pred_time_val</th>\n      <th>fit_time</th>\n      <th>pred_time_val_marginal</th>\n      <th>fit_time_marginal</th>\n      <th>stack_level</th>\n      <th>can_infer</th>\n      <th>fit_order</th>\n    </tr>\n  </thead>\n  <tbody>\n    <tr>\n      <th>0</th>\n      <td>WeightedEnsemble_L2</td>\n      <td>-0.716050</td>\n      <td>0.217296</td>\n      <td>62.938067</td>\n      <td>0.000313</td>\n      <td>0.134854</td>\n      <td>2</td>\n      <td>True</td>\n      <td>9</td>\n    </tr>\n    <tr>\n      <th>1</th>\n      <td>WeightedEnsemble_L3</td>\n      <td>-0.723606</td>\n      <td>0.701582</td>\n      <td>128.563132</td>\n      <td>0.000306</td>\n      <td>0.114215</td>\n      <td>3</td>\n      <td>True</td>\n      <td>16</td>\n    </tr>\n    <tr>\n      <th>2</th>\n      <td>NeuralNetTorch_BAG_L1</td>\n      <td>-0.734911</td>\n      <td>0.028431</td>\n      <td>32.403139</td>\n      <td>0.028431</td>\n      <td>32.403139</td>\n      <td>1</td>\n      <td>True</td>\n      <td>8</td>\n    </tr>\n    <tr>\n      <th>3</th>\n      <td>NeuralNetFastAI_BAG_L1</td>\n      <td>-0.737674</td>\n      <td>0.050426</td>\n      <td>17.597193</td>\n      <td>0.050426</td>\n      <td>17.597193</td>\n      <td>1</td>\n      <td>True</td>\n      <td>6</td>\n    </tr>\n    <tr>\n      <th>4</th>\n      <td>NeuralNetTorch_BAG_L2</td>\n      <td>-0.737990</td>\n      <td>0.484408</td>\n      <td>96.695782</td>\n      <td>0.029710</td>\n      <td>21.349689</td>\n      <td>2</td>\n      <td>True</td>\n      <td>15</td>\n    </tr>\n    <tr>\n      <th>5</th>\n      <td>CatBoost_BAG_L2</td>\n      <td>-0.742400</td>\n      <td>0.469082</td>\n      <td>81.733552</td>\n      <td>0.014385</td>\n      <td>6.387459</td>\n      <td>2</td>\n      <td>True</td>\n      <td>11</td>\n    </tr>\n    <tr>\n      <th>6</th>\n      <td>ExtraTreesMSE_BAG_L2</td>\n      <td>-0.742823</td>\n      <td>0.584684</td>\n      <td>76.081737</td>\n      <td>0.129986</td>\n      <td>0.735644</td>\n      <td>2</td>\n      <td>True</td>\n      <td>12</td>\n    </tr>\n    <tr>\n      <th>7</th>\n      <td>NeuralNetFastAI_BAG_L2</td>\n      <td>-0.744512</td>\n      <td>0.504925</td>\n      <td>90.942977</td>\n      <td>0.050227</td>\n      <td>15.596883</td>\n      <td>2</td>\n      <td>True</td>\n      <td>13</td>\n    </tr>\n    <tr>\n      <th>8</th>\n      <td>RandomForestMSE_BAG_L2</td>\n      <td>-0.750371</td>\n      <td>0.583938</td>\n      <td>79.259376</td>\n      <td>0.129240</td>\n      <td>3.913283</td>\n      <td>2</td>\n      <td>True</td>\n      <td>10</td>\n    </tr>\n    <tr>\n      <th>9</th>\n      <td>CatBoost_BAG_L1</td>\n      <td>-0.754943</td>\n      <td>0.012530</td>\n      <td>12.185038</td>\n      <td>0.012530</td>\n      <td>12.185038</td>\n      <td>1</td>\n      <td>True</td>\n      <td>4</td>\n    </tr>\n    <tr>\n      <th>10</th>\n      <td>XGBoost_BAG_L2</td>\n      <td>-0.758870</td>\n      <td>0.476969</td>\n      <td>84.379241</td>\n      <td>0.022271</td>\n      <td>9.033148</td>\n      <td>2</td>\n      <td>True</td>\n      <td>14</td>\n    </tr>\n    <tr>\n      <th>11</th>\n      <td>ExtraTreesMSE_BAG_L1</td>\n      <td>-0.781684</td>\n      <td>0.125596</td>\n      <td>0.617843</td>\n      <td>0.125596</td>\n      <td>0.617843</td>\n      <td>1</td>\n      <td>True</td>\n      <td>5</td>\n    </tr>\n    <tr>\n      <th>12</th>\n      <td>XGBoost_BAG_L1</td>\n      <td>-0.795942</td>\n      <td>0.021556</td>\n      <td>9.797107</td>\n      <td>0.021556</td>\n      <td>9.797107</td>\n      <td>1</td>\n      <td>True</td>\n      <td>7</td>\n    </tr>\n    <tr>\n      <th>13</th>\n      <td>RandomForestMSE_BAG_L1</td>\n      <td>-0.804964</td>\n      <td>0.124868</td>\n      <td>2.737135</td>\n      <td>0.124868</td>\n      <td>2.737135</td>\n      <td>1</td>\n      <td>True</td>\n      <td>3</td>\n    </tr>\n    <tr>\n      <th>14</th>\n      <td>KNeighborsDist_BAG_L1</td>\n      <td>-0.952824</td>\n      <td>0.027137</td>\n      <td>0.003989</td>\n      <td>0.027137</td>\n      <td>0.003989</td>\n      <td>1</td>\n      <td>True</td>\n      <td>2</td>\n    </tr>\n    <tr>\n      <th>15</th>\n      <td>KNeighborsUnif_BAG_L1</td>\n      <td>-0.956166</td>\n      <td>0.064153</td>\n      <td>0.004649</td>\n      <td>0.064153</td>\n      <td>0.004649</td>\n      <td>1</td>\n      <td>True</td>\n      <td>1</td>\n    </tr>\n  </tbody>\n</table>\n</div>"
     },
     "metadata": {},
     "output_type": "display_data"
    }
   ],
   "source": [
    "predictor_class = multi_predictor.get_predictor('ecmwf-eps_9')\n",
    "display(predictor_class.leaderboard(silent=True))"
   ],
   "metadata": {
    "collapsed": false,
    "ExecuteTime": {
     "start_time": "2023-06-14T10:50:43.170377Z",
     "end_time": "2023-06-14T10:50:43.209780Z"
    }
   }
  },
  {
   "cell_type": "code",
   "execution_count": 36,
   "outputs": [
    {
     "data": {
      "text/plain": "'WeightedEnsemble_L2'"
     },
     "execution_count": 36,
     "metadata": {},
     "output_type": "execute_result"
    }
   ],
   "source": [
    "predictor_class.get_model_best()"
   ],
   "metadata": {
    "collapsed": false,
    "ExecuteTime": {
     "start_time": "2023-06-14T09:14:49.395203Z",
     "end_time": "2023-06-14T09:14:49.402511Z"
    }
   }
  },
  {
   "cell_type": "code",
   "execution_count": 54,
   "outputs": [
    {
     "data": {
      "text/plain": "                     gfs-ens-bc_9  gfs-ens-bc_10  gfs-ens-bc_11  \\\n2022-06-03 00:00:00        -0.324         -0.276         -0.110   \n2022-06-03 12:00:00        -0.233         -0.238         -0.207   \n2022-06-04 00:00:00        -0.164         -0.103         -0.039   \n2022-06-04 12:00:00        -0.224         -0.029         -0.032   \n2022-06-05 00:00:00         0.238          0.247          0.328   \n...                           ...            ...            ...   \n2023-05-15 00:00:00         1.370          0.961          0.180   \n2023-05-15 12:00:00        -1.058         -0.058          0.440   \n2023-05-16 00:00:00        -0.018         -0.324         -0.084   \n2023-05-16 12:00:00        -0.719         -0.732         -0.481   \n2023-05-17 00:00:00        -0.135         -0.121         -0.083   \n\n                     gfs-ens-bc_12  gfs-ens-bc_13  gfs-ens-bc_14  cmc-ens_9  \\\n2022-06-03 00:00:00         -0.182         -0.039          0.143      0.272   \n2022-06-03 12:00:00         -0.074          0.055          0.106     -0.070   \n2022-06-04 00:00:00          0.044          0.033          0.025      0.201   \n2022-06-04 12:00:00         -0.087         -0.065          0.020     -0.119   \n2022-06-05 00:00:00          0.372          0.151         -0.013     -0.160   \n...                            ...            ...            ...        ...   \n2023-05-15 00:00:00          0.107          0.123          0.015     -0.752   \n2023-05-15 12:00:00          0.334          0.098         -0.206     -0.139   \n2023-05-16 00:00:00          0.108          0.380          0.401      0.330   \n2023-05-16 12:00:00         -0.186          0.040          0.155     -0.360   \n2023-05-17 00:00:00         -0.034         -0.196         -0.119      0.325   \n\n                     cmc-ens_10  cmc-ens_11  cmc-ens_12  ...  error_13  \\\n2022-06-03 00:00:00       0.178       0.121       0.060  ...    -0.049   \n2022-06-03 12:00:00      -0.170      -0.144      -0.096  ...     0.002   \n2022-06-04 00:00:00      -0.113      -0.270      -0.269  ...     0.021   \n2022-06-04 12:00:00      -0.236      -0.202      -0.056  ...     0.047   \n2022-06-05 00:00:00      -0.389      -0.462      -0.334  ...    -0.159   \n...                         ...         ...         ...  ...       ...   \n2023-05-15 00:00:00      -0.071      -0.003       0.156  ...    -0.137   \n2023-05-15 12:00:00      -0.626      -0.916      -0.714  ...    -0.300   \n2023-05-16 00:00:00      -0.207      -0.039       0.085  ...     0.165   \n2023-05-16 12:00:00      -0.185      -0.309      -0.252  ...     0.082   \n2023-05-17 00:00:00       0.155       0.067      -0.282  ...     0.174   \n\n                     error_14  noon  day_8_error  ecmwf-eps_9  ecmwf-eps_10  \\\n2022-06-03 00:00:00    -0.072   0.0       -0.137       -0.137        -0.093   \n2022-06-03 12:00:00     0.007   1.0       -0.055       -0.017        -0.177   \n2022-06-04 00:00:00     0.030   0.0        0.034        0.034         0.167   \n2022-06-04 12:00:00     0.033   1.0       -0.191       -0.346        -0.273   \n2022-06-05 00:00:00    -0.049   0.0        0.387        0.387         0.228   \n...                       ...   ...          ...          ...           ...   \n2023-05-15 00:00:00    -0.039   0.0        0.985        0.985         0.827   \n2023-05-15 12:00:00    -0.210   1.0       -0.607       -0.310         0.312   \n2023-05-16 00:00:00    -0.251   0.0        0.375        0.375         0.181   \n2023-05-16 12:00:00     0.179   1.0       -0.624       -0.647        -0.716   \n2023-05-17 00:00:00     0.379   0.0        0.482        0.482         0.299   \n\n                     ecmwf-eps_11  ecmwf-eps_12  ecmwf-eps_13  ecmwf-eps_14  \n2022-06-03 00:00:00         0.118         0.169         0.095         0.014  \n2022-06-03 12:00:00        -0.176        -0.072         0.023         0.040  \n2022-06-04 00:00:00         0.091         0.080         0.070         0.037  \n2022-06-04 12:00:00        -0.236        -0.182        -0.053        -0.017  \n2022-06-05 00:00:00         0.058        -0.028        -0.038         0.026  \n...                           ...           ...           ...           ...  \n2023-05-15 00:00:00         0.163        -0.005        -0.099        -0.262  \n2023-05-15 12:00:00         0.240        -0.036        -0.199        -0.433  \n2023-05-16 00:00:00         0.348         0.421         0.353         0.264  \n2023-05-16 12:00:00        -0.510        -0.097         0.294         0.225  \n2023-05-17 00:00:00         0.191        -0.095        -0.359        -0.209  \n\n[697 rows x 28 columns]",
      "text/html": "<div>\n<style scoped>\n    .dataframe tbody tr th:only-of-type {\n        vertical-align: middle;\n    }\n\n    .dataframe tbody tr th {\n        vertical-align: top;\n    }\n\n    .dataframe thead th {\n        text-align: right;\n    }\n</style>\n<table border=\"1\" class=\"dataframe\">\n  <thead>\n    <tr style=\"text-align: right;\">\n      <th></th>\n      <th>gfs-ens-bc_9</th>\n      <th>gfs-ens-bc_10</th>\n      <th>gfs-ens-bc_11</th>\n      <th>gfs-ens-bc_12</th>\n      <th>gfs-ens-bc_13</th>\n      <th>gfs-ens-bc_14</th>\n      <th>cmc-ens_9</th>\n      <th>cmc-ens_10</th>\n      <th>cmc-ens_11</th>\n      <th>cmc-ens_12</th>\n      <th>...</th>\n      <th>error_13</th>\n      <th>error_14</th>\n      <th>noon</th>\n      <th>day_8_error</th>\n      <th>ecmwf-eps_9</th>\n      <th>ecmwf-eps_10</th>\n      <th>ecmwf-eps_11</th>\n      <th>ecmwf-eps_12</th>\n      <th>ecmwf-eps_13</th>\n      <th>ecmwf-eps_14</th>\n    </tr>\n  </thead>\n  <tbody>\n    <tr>\n      <th>2022-06-03 00:00:00</th>\n      <td>-0.324</td>\n      <td>-0.276</td>\n      <td>-0.110</td>\n      <td>-0.182</td>\n      <td>-0.039</td>\n      <td>0.143</td>\n      <td>0.272</td>\n      <td>0.178</td>\n      <td>0.121</td>\n      <td>0.060</td>\n      <td>...</td>\n      <td>-0.049</td>\n      <td>-0.072</td>\n      <td>0.0</td>\n      <td>-0.137</td>\n      <td>-0.137</td>\n      <td>-0.093</td>\n      <td>0.118</td>\n      <td>0.169</td>\n      <td>0.095</td>\n      <td>0.014</td>\n    </tr>\n    <tr>\n      <th>2022-06-03 12:00:00</th>\n      <td>-0.233</td>\n      <td>-0.238</td>\n      <td>-0.207</td>\n      <td>-0.074</td>\n      <td>0.055</td>\n      <td>0.106</td>\n      <td>-0.070</td>\n      <td>-0.170</td>\n      <td>-0.144</td>\n      <td>-0.096</td>\n      <td>...</td>\n      <td>0.002</td>\n      <td>0.007</td>\n      <td>1.0</td>\n      <td>-0.055</td>\n      <td>-0.017</td>\n      <td>-0.177</td>\n      <td>-0.176</td>\n      <td>-0.072</td>\n      <td>0.023</td>\n      <td>0.040</td>\n    </tr>\n    <tr>\n      <th>2022-06-04 00:00:00</th>\n      <td>-0.164</td>\n      <td>-0.103</td>\n      <td>-0.039</td>\n      <td>0.044</td>\n      <td>0.033</td>\n      <td>0.025</td>\n      <td>0.201</td>\n      <td>-0.113</td>\n      <td>-0.270</td>\n      <td>-0.269</td>\n      <td>...</td>\n      <td>0.021</td>\n      <td>0.030</td>\n      <td>0.0</td>\n      <td>0.034</td>\n      <td>0.034</td>\n      <td>0.167</td>\n      <td>0.091</td>\n      <td>0.080</td>\n      <td>0.070</td>\n      <td>0.037</td>\n    </tr>\n    <tr>\n      <th>2022-06-04 12:00:00</th>\n      <td>-0.224</td>\n      <td>-0.029</td>\n      <td>-0.032</td>\n      <td>-0.087</td>\n      <td>-0.065</td>\n      <td>0.020</td>\n      <td>-0.119</td>\n      <td>-0.236</td>\n      <td>-0.202</td>\n      <td>-0.056</td>\n      <td>...</td>\n      <td>0.047</td>\n      <td>0.033</td>\n      <td>1.0</td>\n      <td>-0.191</td>\n      <td>-0.346</td>\n      <td>-0.273</td>\n      <td>-0.236</td>\n      <td>-0.182</td>\n      <td>-0.053</td>\n      <td>-0.017</td>\n    </tr>\n    <tr>\n      <th>2022-06-05 00:00:00</th>\n      <td>0.238</td>\n      <td>0.247</td>\n      <td>0.328</td>\n      <td>0.372</td>\n      <td>0.151</td>\n      <td>-0.013</td>\n      <td>-0.160</td>\n      <td>-0.389</td>\n      <td>-0.462</td>\n      <td>-0.334</td>\n      <td>...</td>\n      <td>-0.159</td>\n      <td>-0.049</td>\n      <td>0.0</td>\n      <td>0.387</td>\n      <td>0.387</td>\n      <td>0.228</td>\n      <td>0.058</td>\n      <td>-0.028</td>\n      <td>-0.038</td>\n      <td>0.026</td>\n    </tr>\n    <tr>\n      <th>...</th>\n      <td>...</td>\n      <td>...</td>\n      <td>...</td>\n      <td>...</td>\n      <td>...</td>\n      <td>...</td>\n      <td>...</td>\n      <td>...</td>\n      <td>...</td>\n      <td>...</td>\n      <td>...</td>\n      <td>...</td>\n      <td>...</td>\n      <td>...</td>\n      <td>...</td>\n      <td>...</td>\n      <td>...</td>\n      <td>...</td>\n      <td>...</td>\n      <td>...</td>\n      <td>...</td>\n    </tr>\n    <tr>\n      <th>2023-05-15 00:00:00</th>\n      <td>1.370</td>\n      <td>0.961</td>\n      <td>0.180</td>\n      <td>0.107</td>\n      <td>0.123</td>\n      <td>0.015</td>\n      <td>-0.752</td>\n      <td>-0.071</td>\n      <td>-0.003</td>\n      <td>0.156</td>\n      <td>...</td>\n      <td>-0.137</td>\n      <td>-0.039</td>\n      <td>0.0</td>\n      <td>0.985</td>\n      <td>0.985</td>\n      <td>0.827</td>\n      <td>0.163</td>\n      <td>-0.005</td>\n      <td>-0.099</td>\n      <td>-0.262</td>\n    </tr>\n    <tr>\n      <th>2023-05-15 12:00:00</th>\n      <td>-1.058</td>\n      <td>-0.058</td>\n      <td>0.440</td>\n      <td>0.334</td>\n      <td>0.098</td>\n      <td>-0.206</td>\n      <td>-0.139</td>\n      <td>-0.626</td>\n      <td>-0.916</td>\n      <td>-0.714</td>\n      <td>...</td>\n      <td>-0.300</td>\n      <td>-0.210</td>\n      <td>1.0</td>\n      <td>-0.607</td>\n      <td>-0.310</td>\n      <td>0.312</td>\n      <td>0.240</td>\n      <td>-0.036</td>\n      <td>-0.199</td>\n      <td>-0.433</td>\n    </tr>\n    <tr>\n      <th>2023-05-16 00:00:00</th>\n      <td>-0.018</td>\n      <td>-0.324</td>\n      <td>-0.084</td>\n      <td>0.108</td>\n      <td>0.380</td>\n      <td>0.401</td>\n      <td>0.330</td>\n      <td>-0.207</td>\n      <td>-0.039</td>\n      <td>0.085</td>\n      <td>...</td>\n      <td>0.165</td>\n      <td>-0.251</td>\n      <td>0.0</td>\n      <td>0.375</td>\n      <td>0.375</td>\n      <td>0.181</td>\n      <td>0.348</td>\n      <td>0.421</td>\n      <td>0.353</td>\n      <td>0.264</td>\n    </tr>\n    <tr>\n      <th>2023-05-16 12:00:00</th>\n      <td>-0.719</td>\n      <td>-0.732</td>\n      <td>-0.481</td>\n      <td>-0.186</td>\n      <td>0.040</td>\n      <td>0.155</td>\n      <td>-0.360</td>\n      <td>-0.185</td>\n      <td>-0.309</td>\n      <td>-0.252</td>\n      <td>...</td>\n      <td>0.082</td>\n      <td>0.179</td>\n      <td>1.0</td>\n      <td>-0.624</td>\n      <td>-0.647</td>\n      <td>-0.716</td>\n      <td>-0.510</td>\n      <td>-0.097</td>\n      <td>0.294</td>\n      <td>0.225</td>\n    </tr>\n    <tr>\n      <th>2023-05-17 00:00:00</th>\n      <td>-0.135</td>\n      <td>-0.121</td>\n      <td>-0.083</td>\n      <td>-0.034</td>\n      <td>-0.196</td>\n      <td>-0.119</td>\n      <td>0.325</td>\n      <td>0.155</td>\n      <td>0.067</td>\n      <td>-0.282</td>\n      <td>...</td>\n      <td>0.174</td>\n      <td>0.379</td>\n      <td>0.0</td>\n      <td>0.482</td>\n      <td>0.482</td>\n      <td>0.299</td>\n      <td>0.191</td>\n      <td>-0.095</td>\n      <td>-0.359</td>\n      <td>-0.209</td>\n    </tr>\n  </tbody>\n</table>\n<p>697 rows × 28 columns</p>\n</div>"
     },
     "metadata": {},
     "output_type": "display_data"
    }
   ],
   "source": [
    "display(test_data)"
   ],
   "metadata": {
    "collapsed": false,
    "ExecuteTime": {
     "start_time": "2023-06-14T09:36:58.459070Z",
     "end_time": "2023-06-14T09:36:58.488348Z"
    }
   }
  },
  {
   "cell_type": "markdown",
   "source": [
    "# feature importance / training models for individual days"
   ],
   "metadata": {
    "collapsed": false
   }
  },
  {
   "cell_type": "code",
   "execution_count": null,
   "outputs": [],
   "source": [
    "from collections import Counter"
   ],
   "metadata": {
    "collapsed": false,
    "ExecuteTime": {
     "start_time": "2023-06-13T11:27:30.239642Z",
     "end_time": "2023-06-13T11:27:30.252467Z"
    }
   }
  },
  {
   "cell_type": "code",
   "execution_count": null,
   "outputs": [],
   "source": [],
   "metadata": {
    "collapsed": false,
    "ExecuteTime": {
     "start_time": "2023-06-13T11:34:42.733673Z",
     "end_time": "2023-06-13T11:34:42.748580Z"
    }
   }
  },
  {
   "cell_type": "code",
   "execution_count": null,
   "outputs": [],
   "source": [
    "most_important = []\n",
    "\n",
    "for i in range(0, 5):\n",
    "    day = i\n",
    "    train_df = train_data.iloc[:, :-5+day]\n",
    "    test_df = test_data.iloc[:, :-5+day]\n",
    "    #display(train_df.head())\n",
    "    label = f\"ecmwf-eps_{day+9}\"\n",
    "    predictor = TabularPredictor(label=label).fit(train_df)\n",
    "    y_test = test_df[label]\n",
    "    test_data_nolab = test_df.drop(columns=[label])\n",
    "    print(f\"results for {label}\")\n",
    "    y_pred = predictor.predict(test_data_nolab)\n",
    "    perf = predictor.evaluate_predictions(y_true=y_test, y_pred=y_pred, auxiliary_metrics=True)\n",
    "    shap_values = predictor.feature_importance(test_df)\n",
    "    display(shap_values)\n",
    "    most_important.append(list(shap_values.index[:6].values))"
   ],
   "metadata": {
    "collapsed": false,
    "ExecuteTime": {
     "start_time": "2023-06-13T13:31:22.661002Z",
     "end_time": "2023-06-13T13:32:59.276769Z"
    }
   }
  },
  {
   "cell_type": "code",
   "execution_count": null,
   "outputs": [],
   "source": [
    "item_counts = Counter([item for sublist in most_important for item in sublist])\n",
    "important_features = []\n",
    "for item, count in item_counts.items():\n",
    "    print(f'{item}: {count}')\n",
    "    important_features.append(item)"
   ],
   "metadata": {
    "collapsed": false,
    "ExecuteTime": {
     "start_time": "2023-06-13T11:45:55.654078Z",
     "end_time": "2023-06-13T11:45:55.669126Z"
    }
   }
  },
  {
   "cell_type": "code",
   "execution_count": null,
   "outputs": [],
   "source": [],
   "metadata": {
    "collapsed": false,
    "ExecuteTime": {
     "start_time": "2023-06-13T11:47:03.474648Z",
     "end_time": "2023-06-13T11:47:03.482576Z"
    }
   }
  },
  {
   "cell_type": "code",
   "execution_count": 173,
   "outputs": [],
   "source": [
    "import autogluon.eda.auto as auto"
   ],
   "metadata": {
    "collapsed": false,
    "ExecuteTime": {
     "start_time": "2023-06-14T11:23:31.650397Z",
     "end_time": "2023-06-14T11:23:31.680659Z"
    }
   }
  },
  {
   "cell_type": "code",
   "execution_count": 180,
   "outputs": [],
   "source": [
    "day = 1\n",
    "train_df = train_data.iloc[:, :-5+day]\n",
    "test_df = test_data.iloc[:, :-5+day]\n",
    "#display(train_df.head())\n",
    "label = f\"ecmwf-eps_{day+9}\""
   ],
   "metadata": {
    "collapsed": false,
    "ExecuteTime": {
     "start_time": "2023-06-14T11:25:28.031567Z",
     "end_time": "2023-06-14T11:25:28.043642Z"
    }
   }
  },
  {
   "cell_type": "code",
   "execution_count": 181,
   "outputs": [
    {
     "name": "stderr",
     "output_type": "stream",
     "text": [
      "No path specified. Models will be saved in: \"AutogluonModels/ag-20230614_172528/\"\n"
     ]
    },
    {
     "data": {
      "text/plain": "<IPython.core.display.Markdown object>",
      "text/markdown": "### Model Prediction for ecmwf-eps_10"
     },
     "metadata": {},
     "output_type": "display_data"
    },
    {
     "data": {
      "text/plain": "<Figure size 640x480 with 1 Axes>",
      "image/png": "[encoded data removed]"
     },
     "metadata": {},
     "output_type": "display_data"
    },
    {
     "data": {
      "text/plain": "<IPython.core.display.Markdown object>",
      "text/markdown": "### Model Leaderboard"
     },
     "metadata": {},
     "output_type": "display_data"
    },
    {
     "data": {
      "text/plain": "             model  score_test  score_val  pred_time_test  pred_time_val  \\\n0  RandomForestMSE   -0.948181  -0.880822        0.040247       0.023408   \n\n   fit_time  pred_time_test_marginal  pred_time_val_marginal  \\\n0  1.494399                 0.040247                0.023408   \n\n   fit_time_marginal  stack_level  can_infer  fit_order  \n0           1.494399            1       True          1  ",
      "text/html": "<div>\n<style scoped>\n    .dataframe tbody tr th:only-of-type {\n        vertical-align: middle;\n    }\n\n    .dataframe tbody tr th {\n        vertical-align: top;\n    }\n\n    .dataframe thead th {\n        text-align: right;\n    }\n</style>\n<table border=\"1\" class=\"dataframe\">\n  <thead>\n    <tr style=\"text-align: right;\">\n      <th></th>\n      <th>model</th>\n      <th>score_test</th>\n      <th>score_val</th>\n      <th>pred_time_test</th>\n      <th>pred_time_val</th>\n      <th>fit_time</th>\n      <th>pred_time_test_marginal</th>\n      <th>pred_time_val_marginal</th>\n      <th>fit_time_marginal</th>\n      <th>stack_level</th>\n      <th>can_infer</th>\n      <th>fit_order</th>\n    </tr>\n  </thead>\n  <tbody>\n    <tr>\n      <th>0</th>\n      <td>RandomForestMSE</td>\n      <td>-0.948181</td>\n      <td>-0.880822</td>\n      <td>0.040247</td>\n      <td>0.023408</td>\n      <td>1.494399</td>\n      <td>0.040247</td>\n      <td>0.023408</td>\n      <td>1.494399</td>\n      <td>1</td>\n      <td>True</td>\n      <td>1</td>\n    </tr>\n  </tbody>\n</table>\n</div>"
     },
     "metadata": {},
     "output_type": "display_data"
    },
    {
     "data": {
      "text/plain": "<IPython.core.display.Markdown object>",
      "text/markdown": "### Feature Importance for Trained Model"
     },
     "metadata": {},
     "output_type": "display_data"
    },
    {
     "data": {
      "text/plain": "               importance    stddev   p_value  n  p99_high   p99_low\necmwf-eps_9      0.338970  0.023793  0.000003  5  0.387961  0.289979\necmwf_diff_9     0.274149  0.023059  0.000006  5  0.321627  0.226671\ngfs-ens-bc_10    0.190364  0.013688  0.000003  5  0.218548  0.162181\ngfs-ens-bc_9     0.018242  0.002415  0.000036  5  0.023215  0.013268\nday_8_error      0.010416  0.004115  0.002401  5  0.018889  0.001944\ngfs-ens-bc_11    0.009215  0.002849  0.000970  5  0.015082  0.003349\necmwf_diff_8     0.008442  0.002228  0.000532  5  0.013031  0.003854\ncmc-ens_9        0.008411  0.002500  0.000836  5  0.013559  0.003263\nerror_9          0.007295  0.002369  0.001166  5  0.012173  0.002417\nnoon             0.006354  0.001036  0.000082  5  0.008487  0.004222\ngfs-ens-bc_12    0.004972  0.001195  0.000372  5  0.007433  0.002510\ngfs-ens-bc_13    0.004749  0.000786  0.000087  5  0.006366  0.003131\ncmc-ens_10       0.004428  0.001737  0.002339  5  0.008004  0.000852\ngfs-ens-bc_14    0.002147  0.000543  0.000450  5  0.003264  0.001030\nerror_12         0.002079  0.001565  0.020563  5  0.005301 -0.001143\nerror_13         0.001987  0.001375  0.015965  5  0.004817 -0.000844\ncmc-ens_11       0.001225  0.000740  0.010389  5  0.002748 -0.000298\nerror_14         0.000216  0.000846  0.299508  5  0.001958 -0.001526\ncmc-ens_14       0.000205  0.000395  0.155068  5  0.001018 -0.000608\ncmc-ens_12       0.000112  0.000484  0.316316  5  0.001107 -0.000884\ncmc-ens_13      -0.000782  0.000585  0.979779  5  0.000423 -0.001986\nerror_11        -0.001189  0.000882  0.980314  5  0.000627 -0.003006\nerror_10        -0.001310  0.000884  0.985246  5  0.000509 -0.003130",
      "text/html": "<div>\n<style scoped>\n    .dataframe tbody tr th:only-of-type {\n        vertical-align: middle;\n    }\n\n    .dataframe tbody tr th {\n        vertical-align: top;\n    }\n\n    .dataframe thead th {\n        text-align: right;\n    }\n</style>\n<table border=\"1\" class=\"dataframe\">\n  <thead>\n    <tr style=\"text-align: right;\">\n      <th></th>\n      <th>importance</th>\n      <th>stddev</th>\n      <th>p_value</th>\n      <th>n</th>\n      <th>p99_high</th>\n      <th>p99_low</th>\n    </tr>\n  </thead>\n  <tbody>\n    <tr>\n      <th>ecmwf-eps_9</th>\n      <td>0.338970</td>\n      <td>0.023793</td>\n      <td>0.000003</td>\n      <td>5</td>\n      <td>0.387961</td>\n      <td>0.289979</td>\n    </tr>\n    <tr>\n      <th>ecmwf_diff_9</th>\n      <td>0.274149</td>\n      <td>0.023059</td>\n      <td>0.000006</td>\n      <td>5</td>\n      <td>0.321627</td>\n      <td>0.226671</td>\n    </tr>\n    <tr>\n      <th>gfs-ens-bc_10</th>\n      <td>0.190364</td>\n      <td>0.013688</td>\n      <td>0.000003</td>\n      <td>5</td>\n      <td>0.218548</td>\n      <td>0.162181</td>\n    </tr>\n    <tr>\n      <th>gfs-ens-bc_9</th>\n      <td>0.018242</td>\n      <td>0.002415</td>\n      <td>0.000036</td>\n      <td>5</td>\n      <td>0.023215</td>\n      <td>0.013268</td>\n    </tr>\n    <tr>\n      <th>day_8_error</th>\n      <td>0.010416</td>\n      <td>0.004115</td>\n      <td>0.002401</td>\n      <td>5</td>\n      <td>0.018889</td>\n      <td>0.001944</td>\n    </tr>\n    <tr>\n      <th>gfs-ens-bc_11</th>\n      <td>0.009215</td>\n      <td>0.002849</td>\n      <td>0.000970</td>\n      <td>5</td>\n      <td>0.015082</td>\n      <td>0.003349</td>\n    </tr>\n    <tr>\n      <th>ecmwf_diff_8</th>\n      <td>0.008442</td>\n      <td>0.002228</td>\n      <td>0.000532</td>\n      <td>5</td>\n      <td>0.013031</td>\n      <td>0.003854</td>\n    </tr>\n    <tr>\n      <th>cmc-ens_9</th>\n      <td>0.008411</td>\n      <td>0.002500</td>\n      <td>0.000836</td>\n      <td>5</td>\n      <td>0.013559</td>\n      <td>0.003263</td>\n    </tr>\n    <tr>\n      <th>error_9</th>\n      <td>0.007295</td>\n      <td>0.002369</td>\n      <td>0.001166</td>\n      <td>5</td>\n      <td>0.012173</td>\n      <td>0.002417</td>\n    </tr>\n    <tr>\n      <th>noon</th>\n      <td>0.006354</td>\n      <td>0.001036</td>\n      <td>0.000082</td>\n      <td>5</td>\n      <td>0.008487</td>\n      <td>0.004222</td>\n    </tr>\n    <tr>\n      <th>gfs-ens-bc_12</th>\n      <td>0.004972</td>\n      <td>0.001195</td>\n      <td>0.000372</td>\n      <td>5</td>\n      <td>0.007433</td>\n      <td>0.002510</td>\n    </tr>\n    <tr>\n      <th>gfs-ens-bc_13</th>\n      <td>0.004749</td>\n      <td>0.000786</td>\n      <td>0.000087</td>\n      <td>5</td>\n      <td>0.006366</td>\n      <td>0.003131</td>\n    </tr>\n    <tr>\n      <th>cmc-ens_10</th>\n      <td>0.004428</td>\n      <td>0.001737</td>\n      <td>0.002339</td>\n      <td>5</td>\n      <td>0.008004</td>\n      <td>0.000852</td>\n    </tr>\n    <tr>\n      <th>gfs-ens-bc_14</th>\n      <td>0.002147</td>\n      <td>0.000543</td>\n      <td>0.000450</td>\n      <td>5</td>\n      <td>0.003264</td>\n      <td>0.001030</td>\n    </tr>\n    <tr>\n      <th>error_12</th>\n      <td>0.002079</td>\n      <td>0.001565</td>\n      <td>0.020563</td>\n      <td>5</td>\n      <td>0.005301</td>\n      <td>-0.001143</td>\n    </tr>\n    <tr>\n      <th>error_13</th>\n      <td>0.001987</td>\n      <td>0.001375</td>\n      <td>0.015965</td>\n      <td>5</td>\n      <td>0.004817</td>\n      <td>-0.000844</td>\n    </tr>\n    <tr>\n      <th>cmc-ens_11</th>\n      <td>0.001225</td>\n      <td>0.000740</td>\n      <td>0.010389</td>\n      <td>5</td>\n      <td>0.002748</td>\n      <td>-0.000298</td>\n    </tr>\n    <tr>\n      <th>error_14</th>\n      <td>0.000216</td>\n      <td>0.000846</td>\n      <td>0.299508</td>\n      <td>5</td>\n      <td>0.001958</td>\n      <td>-0.001526</td>\n    </tr>\n    <tr>\n      <th>cmc-ens_14</th>\n      <td>0.000205</td>\n      <td>0.000395</td>\n      <td>0.155068</td>\n      <td>5</td>\n      <td>0.001018</td>\n      <td>-0.000608</td>\n    </tr>\n    <tr>\n      <th>cmc-ens_12</th>\n      <td>0.000112</td>\n      <td>0.000484</td>\n      <td>0.316316</td>\n      <td>5</td>\n      <td>0.001107</td>\n      <td>-0.000884</td>\n    </tr>\n    <tr>\n      <th>cmc-ens_13</th>\n      <td>-0.000782</td>\n      <td>0.000585</td>\n      <td>0.979779</td>\n      <td>5</td>\n      <td>0.000423</td>\n      <td>-0.001986</td>\n    </tr>\n    <tr>\n      <th>error_11</th>\n      <td>-0.001189</td>\n      <td>0.000882</td>\n      <td>0.980314</td>\n      <td>5</td>\n      <td>0.000627</td>\n      <td>-0.003006</td>\n    </tr>\n    <tr>\n      <th>error_10</th>\n      <td>-0.001310</td>\n      <td>0.000884</td>\n      <td>0.985246</td>\n      <td>5</td>\n      <td>0.000509</td>\n      <td>-0.003130</td>\n    </tr>\n  </tbody>\n</table>\n</div>"
     },
     "metadata": {},
     "output_type": "display_data"
    },
    {
     "data": {
      "text/plain": "<IPython.core.display.Markdown object>",
      "text/markdown": "### Rows with the highest prediction error"
     },
     "metadata": {},
     "output_type": "display_data"
    },
    {
     "data": {
      "text/plain": "<IPython.core.display.Markdown object>",
      "text/markdown": "Rows in this category worth inspecting for the causes of the error"
     },
     "metadata": {},
     "output_type": "display_data"
    },
    {
     "data": {
      "text/plain": "                     gfs-ens-bc_9  gfs-ens-bc_10  gfs-ens-bc_11  \\\n2021-12-31 12:00:00        -1.110          2.239         -1.133   \n2020-02-12 00:00:00        -0.422          0.881          0.468   \n2022-03-05 00:00:00        -3.635          0.186         -0.111   \n2022-01-02 12:00:00        -5.816         -6.892         -4.446   \n2021-12-29 12:00:00         7.528          4.023          2.285   \n2020-01-26 12:00:00         4.220          6.703          2.182   \n2019-02-01 00:00:00        -7.539         -1.021          0.123   \n2022-02-20 00:00:00        -2.780         -1.959         -2.855   \n2020-01-28 00:00:00        -2.729          2.116          1.038   \n2019-12-03 12:00:00         3.423          2.129          5.051   \n\n                     gfs-ens-bc_12  gfs-ens-bc_13  gfs-ens-bc_14  cmc-ens_9  \\\n2021-12-31 12:00:00         -2.545         -0.991          0.414      2.682   \n2020-02-12 00:00:00         -1.224         -1.390         -1.747      1.883   \n2022-03-05 00:00:00         -0.104          2.021          1.687      6.117   \n2022-01-02 12:00:00         -2.577         -0.797         -0.542      9.686   \n2021-12-29 12:00:00          3.144          2.498          1.151      0.403   \n2020-01-26 12:00:00         -1.304         -1.641         -1.908     -1.798   \n2019-02-01 00:00:00         -1.862          0.067          3.072      2.726   \n2022-02-20 00:00:00         -4.958         -4.115         -3.796      4.146   \n2020-01-28 00:00:00          0.045          0.622         -0.034      0.393   \n2019-12-03 12:00:00          8.824          9.888          9.491     -9.184   \n\n                     cmc-ens_10  cmc-ens_11  cmc-ens_12  ...  error_10  \\\n2021-12-31 12:00:00       3.390       4.336       4.363  ...     0.181   \n2020-02-12 00:00:00       1.362       1.892       0.829  ...     1.433   \n2022-03-05 00:00:00       3.958       1.861       1.144  ...    -0.280   \n2022-01-02 12:00:00       8.727       8.152       8.133  ...    -2.653   \n2021-12-29 12:00:00      -2.495      -2.392      -0.594  ...     1.927   \n2020-01-26 12:00:00      -3.962      -1.240       1.984  ...    -1.930   \n2019-02-01 00:00:00      -2.170      -3.644      -4.624  ...     1.744   \n2022-02-20 00:00:00       7.279       9.250       7.958  ...     1.639   \n2020-01-28 00:00:00       3.535       1.383      -2.356  ...    -0.504   \n2019-12-03 12:00:00     -10.066      -9.835     -10.933  ...     4.403   \n\n                     error_11  error_12  error_13  error_14  noon  \\\n2021-12-31 12:00:00     0.444     1.022     0.364    -0.404   1.0   \n2020-02-12 00:00:00     1.733     1.274     0.848     1.276   0.0   \n2022-03-05 00:00:00    -0.812     0.107     1.982     1.670   0.0   \n2022-01-02 12:00:00    -3.649    -3.092    -2.967    -1.689   1.0   \n2021-12-29 12:00:00     1.234     0.649     0.676     0.767   1.0   \n2020-01-26 12:00:00    -0.866    -1.764    -2.439    -1.599   1.0   \n2019-02-01 00:00:00     1.639     1.518     2.586     2.040   0.0   \n2022-02-20 00:00:00     2.096     1.399     1.389     0.985   0.0   \n2020-01-28 00:00:00    -1.803    -2.104    -1.445    -0.631   0.0   \n2019-12-03 12:00:00     3.679     2.353     1.596     1.215   1.0   \n\n                     ecmwf-eps_9  ecmwf-eps_10  ecmwf-eps_10_pred     error  \n2021-12-31 12:00:00       -1.151         5.840           0.502145  5.337855  \n2020-02-12 00:00:00       -0.756         5.517           1.047367  4.469633  \n2022-03-05 00:00:00       -0.420         5.195           0.826261  4.368739  \n2022-01-02 12:00:00       -4.074        -7.844          -3.853130  3.990870  \n2021-12-29 12:00:00        6.992        -1.217           2.515835  3.732835  \n2020-01-26 12:00:00        4.688         6.732           3.119183  3.612817  \n2019-02-01 00:00:00       -1.646         3.443          -0.022048  3.465048  \n2022-02-20 00:00:00       -2.385         3.119          -0.325145  3.444145  \n2020-01-28 00:00:00       -2.906         3.229          -0.056188  3.285188  \n2019-12-03 12:00:00       -0.232        -4.859          -1.591336  3.267664  \n\n[10 rows x 26 columns]",
      "text/html": "<div>\n<style scoped>\n    .dataframe tbody tr th:only-of-type {\n        vertical-align: middle;\n    }\n\n    .dataframe tbody tr th {\n        vertical-align: top;\n    }\n\n    .dataframe thead th {\n        text-align: right;\n    }\n</style>\n<table border=\"1\" class=\"dataframe\">\n  <thead>\n    <tr style=\"text-align: right;\">\n      <th></th>\n      <th>gfs-ens-bc_9</th>\n      <th>gfs-ens-bc_10</th>\n      <th>gfs-ens-bc_11</th>\n      <th>gfs-ens-bc_12</th>\n      <th>gfs-ens-bc_13</th>\n      <th>gfs-ens-bc_14</th>\n      <th>cmc-ens_9</th>\n      <th>cmc-ens_10</th>\n      <th>cmc-ens_11</th>\n      <th>cmc-ens_12</th>\n      <th>...</th>\n      <th>error_10</th>\n      <th>error_11</th>\n      <th>error_12</th>\n      <th>error_13</th>\n      <th>error_14</th>\n      <th>noon</th>\n      <th>ecmwf-eps_9</th>\n      <th>ecmwf-eps_10</th>\n      <th>ecmwf-eps_10_pred</th>\n      <th>error</th>\n    </tr>\n  </thead>\n  <tbody>\n    <tr>\n      <th>2021-12-31 12:00:00</th>\n      <td>-1.110</td>\n      <td>2.239</td>\n      <td>-1.133</td>\n      <td>-2.545</td>\n      <td>-0.991</td>\n      <td>0.414</td>\n      <td>2.682</td>\n      <td>3.390</td>\n      <td>4.336</td>\n      <td>4.363</td>\n      <td>...</td>\n      <td>0.181</td>\n      <td>0.444</td>\n      <td>1.022</td>\n      <td>0.364</td>\n      <td>-0.404</td>\n      <td>1.0</td>\n      <td>-1.151</td>\n      <td>5.840</td>\n      <td>0.502145</td>\n      <td>5.337855</td>\n    </tr>\n    <tr>\n      <th>2020-02-12 00:00:00</th>\n      <td>-0.422</td>\n      <td>0.881</td>\n      <td>0.468</td>\n      <td>-1.224</td>\n      <td>-1.390</td>\n      <td>-1.747</td>\n      <td>1.883</td>\n      <td>1.362</td>\n      <td>1.892</td>\n      <td>0.829</td>\n      <td>...</td>\n      <td>1.433</td>\n      <td>1.733</td>\n      <td>1.274</td>\n      <td>0.848</td>\n      <td>1.276</td>\n      <td>0.0</td>\n      <td>-0.756</td>\n      <td>5.517</td>\n      <td>1.047367</td>\n      <td>4.469633</td>\n    </tr>\n    <tr>\n      <th>2022-03-05 00:00:00</th>\n      <td>-3.635</td>\n      <td>0.186</td>\n      <td>-0.111</td>\n      <td>-0.104</td>\n      <td>2.021</td>\n      <td>1.687</td>\n      <td>6.117</td>\n      <td>3.958</td>\n      <td>1.861</td>\n      <td>1.144</td>\n      <td>...</td>\n      <td>-0.280</td>\n      <td>-0.812</td>\n      <td>0.107</td>\n      <td>1.982</td>\n      <td>1.670</td>\n      <td>0.0</td>\n      <td>-0.420</td>\n      <td>5.195</td>\n      <td>0.826261</td>\n      <td>4.368739</td>\n    </tr>\n    <tr>\n      <th>2022-01-02 12:00:00</th>\n      <td>-5.816</td>\n      <td>-6.892</td>\n      <td>-4.446</td>\n      <td>-2.577</td>\n      <td>-0.797</td>\n      <td>-0.542</td>\n      <td>9.686</td>\n      <td>8.727</td>\n      <td>8.152</td>\n      <td>8.133</td>\n      <td>...</td>\n      <td>-2.653</td>\n      <td>-3.649</td>\n      <td>-3.092</td>\n      <td>-2.967</td>\n      <td>-1.689</td>\n      <td>1.0</td>\n      <td>-4.074</td>\n      <td>-7.844</td>\n      <td>-3.853130</td>\n      <td>3.990870</td>\n    </tr>\n    <tr>\n      <th>2021-12-29 12:00:00</th>\n      <td>7.528</td>\n      <td>4.023</td>\n      <td>2.285</td>\n      <td>3.144</td>\n      <td>2.498</td>\n      <td>1.151</td>\n      <td>0.403</td>\n      <td>-2.495</td>\n      <td>-2.392</td>\n      <td>-0.594</td>\n      <td>...</td>\n      <td>1.927</td>\n      <td>1.234</td>\n      <td>0.649</td>\n      <td>0.676</td>\n      <td>0.767</td>\n      <td>1.0</td>\n      <td>6.992</td>\n      <td>-1.217</td>\n      <td>2.515835</td>\n      <td>3.732835</td>\n    </tr>\n    <tr>\n      <th>2020-01-26 12:00:00</th>\n      <td>4.220</td>\n      <td>6.703</td>\n      <td>2.182</td>\n      <td>-1.304</td>\n      <td>-1.641</td>\n      <td>-1.908</td>\n      <td>-1.798</td>\n      <td>-3.962</td>\n      <td>-1.240</td>\n      <td>1.984</td>\n      <td>...</td>\n      <td>-1.930</td>\n      <td>-0.866</td>\n      <td>-1.764</td>\n      <td>-2.439</td>\n      <td>-1.599</td>\n      <td>1.0</td>\n      <td>4.688</td>\n      <td>6.732</td>\n      <td>3.119183</td>\n      <td>3.612817</td>\n    </tr>\n    <tr>\n      <th>2019-02-01 00:00:00</th>\n      <td>-7.539</td>\n      <td>-1.021</td>\n      <td>0.123</td>\n      <td>-1.862</td>\n      <td>0.067</td>\n      <td>3.072</td>\n      <td>2.726</td>\n      <td>-2.170</td>\n      <td>-3.644</td>\n      <td>-4.624</td>\n      <td>...</td>\n      <td>1.744</td>\n      <td>1.639</td>\n      <td>1.518</td>\n      <td>2.586</td>\n      <td>2.040</td>\n      <td>0.0</td>\n      <td>-1.646</td>\n      <td>3.443</td>\n      <td>-0.022048</td>\n      <td>3.465048</td>\n    </tr>\n    <tr>\n      <th>2022-02-20 00:00:00</th>\n      <td>-2.780</td>\n      <td>-1.959</td>\n      <td>-2.855</td>\n      <td>-4.958</td>\n      <td>-4.115</td>\n      <td>-3.796</td>\n      <td>4.146</td>\n      <td>7.279</td>\n      <td>9.250</td>\n      <td>7.958</td>\n      <td>...</td>\n      <td>1.639</td>\n      <td>2.096</td>\n      <td>1.399</td>\n      <td>1.389</td>\n      <td>0.985</td>\n      <td>0.0</td>\n      <td>-2.385</td>\n      <td>3.119</td>\n      <td>-0.325145</td>\n      <td>3.444145</td>\n    </tr>\n    <tr>\n      <th>2020-01-28 00:00:00</th>\n      <td>-2.729</td>\n      <td>2.116</td>\n      <td>1.038</td>\n      <td>0.045</td>\n      <td>0.622</td>\n      <td>-0.034</td>\n      <td>0.393</td>\n      <td>3.535</td>\n      <td>1.383</td>\n      <td>-2.356</td>\n      <td>...</td>\n      <td>-0.504</td>\n      <td>-1.803</td>\n      <td>-2.104</td>\n      <td>-1.445</td>\n      <td>-0.631</td>\n      <td>0.0</td>\n      <td>-2.906</td>\n      <td>3.229</td>\n      <td>-0.056188</td>\n      <td>3.285188</td>\n    </tr>\n    <tr>\n      <th>2019-12-03 12:00:00</th>\n      <td>3.423</td>\n      <td>2.129</td>\n      <td>5.051</td>\n      <td>8.824</td>\n      <td>9.888</td>\n      <td>9.491</td>\n      <td>-9.184</td>\n      <td>-10.066</td>\n      <td>-9.835</td>\n      <td>-10.933</td>\n      <td>...</td>\n      <td>4.403</td>\n      <td>3.679</td>\n      <td>2.353</td>\n      <td>1.596</td>\n      <td>1.215</td>\n      <td>1.0</td>\n      <td>-0.232</td>\n      <td>-4.859</td>\n      <td>-1.591336</td>\n      <td>3.267664</td>\n    </tr>\n  </tbody>\n</table>\n<p>10 rows × 26 columns</p>\n</div>"
     },
     "metadata": {},
     "output_type": "display_data"
    }
   ],
   "source": [
    "state = auto.quick_fit(train_df, label, return_state=True, save_model_to_state=True)"
   ],
   "metadata": {
    "collapsed": false,
    "ExecuteTime": {
     "start_time": "2023-06-14T11:25:28.410669Z",
     "end_time": "2023-06-14T11:25:30.978462Z"
    }
   }
  },
  {
   "cell_type": "code",
   "execution_count": 161,
   "outputs": [],
   "source": [],
   "metadata": {
    "collapsed": false,
    "ExecuteTime": {
     "start_time": "2023-06-14T10:45:37.599097Z",
     "end_time": "2023-06-14T10:45:37.639108Z"
    }
   }
  },
  {
   "cell_type": "code",
   "execution_count": 465,
   "outputs": [],
   "source": [],
   "metadata": {
    "collapsed": false,
    "ExecuteTime": {
     "start_time": "2023-06-13T15:24:13.334429Z",
     "end_time": "2023-06-13T15:24:13.343476Z"
    }
   }
  },
  {
   "cell_type": "code",
   "execution_count": 465,
   "outputs": [],
   "source": [],
   "metadata": {
    "collapsed": false,
    "ExecuteTime": {
     "start_time": "2023-06-13T15:24:10.466249Z",
     "end_time": "2023-06-13T15:24:10.475469Z"
    }
   }
  },
  {
   "cell_type": "code",
   "execution_count": 465,
   "outputs": [],
   "source": [],
   "metadata": {
    "collapsed": false,
    "ExecuteTime": {
     "start_time": "2023-06-13T15:24:07.504034Z",
     "end_time": "2023-06-13T15:24:07.513203Z"
    }
   }
  },
  {
   "cell_type": "code",
   "execution_count": 465,
   "outputs": [],
   "source": [],
   "metadata": {
    "collapsed": false,
    "ExecuteTime": {
     "start_time": "2023-06-13T15:24:04.539842Z",
     "end_time": "2023-06-13T15:24:04.549720Z"
    }
   }
  },
  {
   "cell_type": "code",
   "execution_count": 465,
   "outputs": [],
   "source": [],
   "metadata": {
    "collapsed": false,
    "ExecuteTime": {
     "start_time": "2023-06-13T15:24:04.682063Z",
     "end_time": "2023-06-13T15:24:04.705227Z"
    }
   }
  },
  {
   "cell_type": "code",
   "execution_count": 465,
   "outputs": [],
   "source": [],
   "metadata": {
    "collapsed": false,
    "ExecuteTime": {
     "start_time": "2023-06-13T15:24:04.937367Z",
     "end_time": "2023-06-13T15:24:04.947620Z"
    }
   }
  },
  {
   "cell_type": "markdown",
   "source": [
    "### most important features\n",
    "ecmwf-eps_9:\n",
    "- day_8_error\n",
    "- gfs-ens-bc_9\n",
    "- ecmwf_diff_8\n",
    "- noon\n",
    "- cmc-ens_9\n",
    "\n",
    "ecmwf-eps_10:\n",
    "- ecmwf-eps_9\n",
    "- gfs-ens-bc_10\n",
    "- gfs-ens-bc_9\n",
    "- ecmwf_diff_9\n",
    "- cmc-ens_10\n",
    "- noon\n",
    "\n",
    "ecmwf-eps_11:\n",
    "- ecmwf-eps_10\n",
    "- gfs-ens-bc_10\n",
    "- gfs-ens-bc_11\n",
    "- ecmwf-eps_9\n",
    "- gfs-ens-bc_9\n",
    "- cmc-ens_11\n",
    "\n",
    "ecmwf-eps_12:\n",
    "- ecmwf-eps_11\n",
    "- gfs-ens-bc_11\n",
    "- gfs-ens-bc_12\n",
    "- ecmwf-eps_10\n",
    "- gfs-ens-bc_10\n",
    "\n",
    "ecmwf-eps_13:\n",
    "- ecmwf-eps_12\n",
    "- gfs-ens-bc_12\n",
    "- ecmwf-eps_11\n",
    "- gfs-ens-bc_13\n",
    "- ecmwf-eps_10\n",
    "\n",
    "\n",
    "\n",
    "\n",
    "\n"
   ],
   "metadata": {
    "collapsed": false
   }
  }
 ],
 "metadata": {
  "kernelspec": {
   "display_name": "Python 3",
   "language": "python",
   "name": "python3"
  },
  "language_info": {
   "codemirror_mode": {
    "name": "ipython",
    "version": 2
   },
   "file_extension": ".py",
   "mimetype": "text/x-python",
   "name": "python",
   "nbconvert_exporter": "python",
   "pygments_lexer": "ipython2",
   "version": "2.7.6"
  }
 },
 "nbformat": 4,
 "nbformat_minor": 0
}
