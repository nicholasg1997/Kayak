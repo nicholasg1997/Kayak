{
 "cells": [
  {
   "cell_type": "code",
   "execution_count": 1,
   "metadata": {
    "collapsed": true,
    "ExecuteTime": {
     "start_time": "2023-07-11T13:23:36.265839Z",
     "end_time": "2023-07-11T13:23:37.757289Z"
    }
   },
   "outputs": [],
   "source": [
    "import pandas as pd\n",
    "from sklearn.metrics import mean_squared_error, mean_absolute_error, mean_absolute_percentage_error, r2_score\n",
    "from datetime import datetime, time\n",
    "import glob\n",
    "from autogluon.tabular import TabularDataset, TabularPredictor\n",
    "import matplotlib.pyplot as plt\n",
    "from sklearn.linear_model import LinearRegression\n",
    "from tqdm import tqdm"
   ]
  },
  {
   "cell_type": "code",
   "execution_count": 2,
   "outputs": [],
   "source": [
    "def display_errors(y_true, y_pred, return_vals=False):\n",
    "    mse = mean_squared_error(y_true, y_pred)\n",
    "    print(f\"MSE: {round(mse, 3)}\")\n",
    "    rmse = mse ** 0.5\n",
    "    print(f\"RMSE: {round(rmse, 3)}\")\n",
    "    mae = mean_absolute_error(y_true, y_pred)\n",
    "    print(f\"MAE: {round(mae, 3)}\")\n",
    "    mape = mean_absolute_percentage_error(y_true, y_pred)\n",
    "    print(f\"MAPE: {round(mape, 3)}\")\n",
    "    r2 = r2_score(y_true, y_pred)\n",
    "    print(f\"R2: {round(r2, 3)}\")\n",
    "\n",
    "    if return_vals:\n",
    "        return [mse, rmse, mae, mape, r2]\n",
    "\n",
    "def plot_errors(y_true, y_pred, name='N/A'):\n",
    "    plt.scatter(y_true, y_pred, color='blue', marker='o', label=f'error adjusted predictions ({name}) vs actual degree days')\n",
    "    plt.xlabel('actual degree days')\n",
    "    plt.ylabel('predicted degree days')\n",
    "    plt.title(f'Prediction vs Actual ({name})')\n",
    "\n",
    "    max_value = max(max(y_true[-225:]), max(y_true[-225:]))\n",
    "    min_value = min(min(y_true[-225:]), min(y_true[-225:]))\n",
    "    plt.plot([min_value, max_value], [min_value, max_value], color='red', linestyle='--', label='Line of Equality')\n",
    "\n",
    "    plt.legend()"
   ],
   "metadata": {
    "collapsed": false,
    "ExecuteTime": {
     "start_time": "2023-07-11T13:23:37.760922Z",
     "end_time": "2023-07-11T13:23:37.762933Z"
    }
   }
  },
  {
   "cell_type": "code",
   "execution_count": 3,
   "outputs": [],
   "source": [
    "class LinReg:\n",
    "    def __init__(self, train_data, test_data, target_col):\n",
    "        self.X_train = train_data.drop(columns=[target_col])\n",
    "        self.y_train = train_data[target_col]\n",
    "        self.X_test = test_data.drop(columns=[target_col])\n",
    "        self.y_test = test_data[target_col]\n",
    "        self.target_col = target_col\n",
    "        self.model = LinearRegression().fit(self.X_train, self.y_train)\n",
    "        self.y_pred = self.model.predict(self.X_test)\n",
    "        self.evaluate()\n",
    "\n",
    "    def evaluate(self):\n",
    "        display_errors(self.y_test, self.y_pred)\n"
   ],
   "metadata": {
    "collapsed": false,
    "ExecuteTime": {
     "start_time": "2023-07-11T13:23:37.765629Z",
     "end_time": "2023-07-11T13:23:37.767575Z"
    }
   }
  },
  {
   "cell_type": "code",
   "execution_count": 4,
   "outputs": [],
   "source": [
    "def extract_date_time(filename):\n",
    "    \"\"\"\n",
    "    extract the date and time from the filename\n",
    "    :param filename:\n",
    "    :return:\n",
    "    \"\"\"\n",
    "    parts = filename.split('.')\n",
    "    extracted_date = parts[1]\n",
    "    extracted_time = parts[2]\n",
    "    return extracted_date, extracted_time\n",
    "\n",
    "def get_date(file):\n",
    "        \"\"\"get the date from the dataframe and the time from the filename and combine them into a datetime object\n",
    "        :param file: filename containing the time\n",
    "        :return: datetime object\n",
    "        \"\"\"\n",
    "\n",
    "        date_str = str(file.split('.')[1])\n",
    "        time_str = str(file.split('.')[2])\n",
    "        date_value = datetime.strptime(date_str, '%Y%m%d')\n",
    "        time_value = time(int(time_str), 0)\n",
    "        combined_datetime = datetime.combine(date_value.date(), time_value)\n",
    "        return combined_datetime\n",
    "#give type hint on start_date that it should be a string\n",
    "def seasonal_train_test(data, start_date: str, end_date: str):\n",
    "    \"\"\"\n",
    "    split the data into train and test sets based on dates\n",
    "    :param data: dataframe containing the data\n",
    "    :param start_date: start date of the test set\n",
    "    :param end_date: end date of the test set\n",
    "    :return: train and test sets\n",
    "    \"\"\"\n",
    "\n",
    "    test_start = start_date\n",
    "    test_end = end_date\n",
    "    test_data = data.loc[test_start: test_end]\n",
    "\n",
    "    #remove X_test from dataframe to get X_train\n",
    "    mask = (data.index >= test_start) & (data.index <= test_end)\n",
    "    train_data = data.loc[~mask]\n",
    "\n",
    "    return train_data, test_data"
   ],
   "metadata": {
    "collapsed": false,
    "ExecuteTime": {
     "start_time": "2023-07-11T13:23:37.770181Z",
     "end_time": "2023-07-11T13:23:37.772302Z"
    }
   }
  },
  {
   "cell_type": "code",
   "execution_count": 5,
   "outputs": [],
   "source": [
    "class RawDataProcess:\n",
    "    def __init__(self, degree_days='gw_hdd', path='RawData', time=None):\n",
    "        self.degree_days = degree_days\n",
    "        self.path = path\n",
    "        self.sort_files()\n",
    "        self.get_master_model()\n",
    "        if time is not None:\n",
    "            self.filter_time(time)\n",
    "\n",
    "\n",
    "    def filter_time(self, time):\n",
    "        data = self.master_data\n",
    "        data['hour'] = data.index.hour\n",
    "        data = data[data['hour'] == time]\n",
    "        data.drop('hour', axis=1, inplace=True)\n",
    "        self.master_data = data\n",
    "\n",
    "    def sort_files(self):\n",
    "        \"\"\"\n",
    "        sort the files in the directory by date and time\n",
    "        :return:\n",
    "        \"\"\"\n",
    "        degree_days = self.degree_days\n",
    "        path = self.path\n",
    "\n",
    "        degree_days = degree_days\n",
    "        ecmwf_files = glob.glob(path + f'/ecmwf.*.[01][02].{degree_days}.csv')\n",
    "        ecmwf_sorted_files = sorted(ecmwf_files, key=lambda x: (x.split('.')[1], x.split('.')[2]))[3:]\n",
    "\n",
    "        ecmwf_ens_files = glob.glob(path + f'/ecmwf-eps.*.[01][02].{degree_days}.csv')\n",
    "        ecmwf_ens_sorted_files = sorted(ecmwf_ens_files, key=lambda x: (x.split('.')[1], x.split('.')[2]))[2:]\n",
    "\n",
    "        gfs_ens_bc_files = glob.glob(path + f'/gfs-ens-bc.*.[01][02].{degree_days}.csv')\n",
    "        gfs_ens_bc_sorted_files = sorted(gfs_ens_bc_files, key=lambda x: (x.split('.')[1], x.split('.')[2]))[2:]\n",
    "\n",
    "        cmc_ens_files = glob.glob(path + f'/cmc-ens.*.[01][02].{degree_days}.csv')\n",
    "        cmc_ens_sorted_files = sorted(cmc_ens_files, key=lambda x: (x.split('.')[1], x.split('.')[2]))[2:]\n",
    "        for _ in range(2):\n",
    "            set1 = set((extract_date_time(filename) for filename in ecmwf_sorted_files))\n",
    "            set2 = set((extract_date_time(filename) for filename in ecmwf_ens_sorted_files))\n",
    "\n",
    "            ecmwf_sorted_files = [filename for filename in ecmwf_sorted_files if extract_date_time(filename) in set2]\n",
    "            ecmwf_ens_sorted_files = [filename for filename in ecmwf_ens_sorted_files if\n",
    "                                      extract_date_time(filename) in set1]\n",
    "            cmc_ens_sorted_files = [filename for filename in cmc_ens_sorted_files if extract_date_time(filename) in set1]\n",
    "\n",
    "            master_set = set((extract_date_time(filename) for filename in cmc_ens_sorted_files))\n",
    "            gfs_ens_bc_sorted_files = [filename for filename in gfs_ens_bc_sorted_files if\n",
    "                                       extract_date_time(filename) in master_set]\n",
    "\n",
    "            master_set = set((extract_date_time(filename) for filename in gfs_ens_bc_sorted_files))\n",
    "\n",
    "            ecmwf_sorted_files = [filename for filename in ecmwf_sorted_files if extract_date_time(filename) in master_set]\n",
    "            ecmwf_ens_sorted_files = [filename for filename in ecmwf_ens_sorted_files if\n",
    "                                      extract_date_time(filename) in master_set]\n",
    "            gfs_ens_bc_sorted_files = [filename for filename in gfs_ens_bc_sorted_files if\n",
    "                                       extract_date_time(filename) in master_set]\n",
    "            cmc_ens_sorted_files = [filename for filename in cmc_ens_sorted_files if\n",
    "                                    extract_date_time(filename) in master_set]\n",
    "\n",
    "        self.ecmwf_sorted_files = ecmwf_sorted_files\n",
    "        self.ecmwf_ens_sorted_files = ecmwf_ens_sorted_files\n",
    "        self.gfs_ens_bc_sorted_files = gfs_ens_bc_sorted_files\n",
    "        self.cmc_ens_sorted_files = cmc_ens_sorted_files\n",
    "\n",
    "    def y_value(self, start=8, end=14):\n",
    "        ecmwf_ens_9_14 = pd.DataFrame(columns=[f'ens({start+1},{end})'])\n",
    "\n",
    "        ecmwf_ens_sorted_files = self.ecmwf_ens_sorted_files\n",
    "\n",
    "        for i in range(1, len(ecmwf_ens_sorted_files)):\n",
    "            ecmwf_ens_df = pd.read_csv(ecmwf_ens_sorted_files[i])\n",
    "            ecmwf_ens_df = ecmwf_ens_df[ecmwf_ens_df[ecmwf_ens_df.columns[2]] >= 1]\n",
    "            prev_ecmwf_ens_df = pd.read_csv(ecmwf_ens_sorted_files[i - 1])\n",
    "            prev_ecmwf_ens_df = prev_ecmwf_ens_df[prev_ecmwf_ens_df[prev_ecmwf_ens_df.columns[2]] >= 1]\n",
    "\n",
    "            date = get_date(ecmwf_ens_sorted_files[i])\n",
    "            prev_date = get_date(ecmwf_ens_sorted_files[i - 1])\n",
    "            d2 = str(date)[:10]\n",
    "            d1 = str(prev_date)[:10]\n",
    "\n",
    "            if d2 == d1:\n",
    "                offset = 1\n",
    "            else:\n",
    "                offset = 0\n",
    "\n",
    "            cur = ecmwf_ens_df['Value'].iloc[start:end].sum()\n",
    "            prev = prev_ecmwf_ens_df['Value'].iloc[(start+offset):(end+offset)].sum()\n",
    "            change = cur - prev\n",
    "\n",
    "            new_row = pd.DataFrame(change, columns=ecmwf_ens_9_14.columns, index=[date])\n",
    "            ecmwf_ens_9_14 = pd.concat([ecmwf_ens_9_14, new_row])\n",
    "\n",
    "        self.y_values = ecmwf_ens_9_14\n",
    "\n",
    "    def ecmwf_ens(self, start=7, end=8):\n",
    "        ecmwf_ens_8 = pd.DataFrame(columns=[f'ens({end})'])\n",
    "        ecmwf_ens_sorted_files = self.ecmwf_ens_sorted_files\n",
    "\n",
    "        for i in range(1, len(ecmwf_ens_sorted_files)):\n",
    "            ecmwf_ens_df = pd.read_csv(ecmwf_ens_sorted_files[i])\n",
    "            ecmwf_ens_df = ecmwf_ens_df[ecmwf_ens_df[ecmwf_ens_df.columns[2]] >= 1]\n",
    "            prev_ecmwf_ens_df = pd.read_csv(ecmwf_ens_sorted_files[i - 1])\n",
    "            prev_ecmwf_ens_df = prev_ecmwf_ens_df[prev_ecmwf_ens_df[prev_ecmwf_ens_df.columns[2]] >= 1]\n",
    "\n",
    "            date = get_date(ecmwf_ens_sorted_files[i])\n",
    "            prev_date = get_date(ecmwf_ens_sorted_files[i - 1])\n",
    "            d2 = str(date)[:10]\n",
    "            d1 = str(prev_date)[:10]\n",
    "\n",
    "            if d2 == d1:\n",
    "                offset = 1\n",
    "            else:\n",
    "                offset = 0\n",
    "\n",
    "            cur = ecmwf_ens_df['Value'].iloc[start:end].sum() #7-8 benchmark, 7-8 best results\n",
    "            prev = prev_ecmwf_ens_df['Value'].iloc[(start+offset):(end+offset)].sum() #7-8 benchmark, 7-8 best results\n",
    "            change = cur - prev\n",
    "\n",
    "            new_row = pd.DataFrame(change, columns=ecmwf_ens_8.columns, index=[date])\n",
    "            ecmwf_ens_8 = pd.concat([ecmwf_ens_8, new_row])\n",
    "\n",
    "        self.ecmwf_ens_data = ecmwf_ens_8\n",
    "\n",
    "    def ecmwf(self, start=8, end=9):\n",
    "\n",
    "        ecmwf_9_10 = pd.DataFrame(columns=[f'ecmwf({end})'])\n",
    "\n",
    "        ecmwf_sorted_files = self.ecmwf_sorted_files\n",
    "        ecmwf_ens_sorted_files = self.ecmwf_ens_sorted_files\n",
    "\n",
    "\n",
    "        for i in range(1, len(ecmwf_sorted_files)):\n",
    "            ecmwf_df = pd.read_csv(ecmwf_sorted_files[i])\n",
    "            ecmwf_df = ecmwf_df[ecmwf_df[ecmwf_df.columns[2]] >= 1]\n",
    "            prev_ecmwf_ens_df = pd.read_csv(ecmwf_ens_sorted_files[i-1])\n",
    "            prev_ecmwf_ens_df = prev_ecmwf_ens_df[prev_ecmwf_ens_df[prev_ecmwf_ens_df.columns[2]] >= 1]\n",
    "\n",
    "            date = get_date(ecmwf_sorted_files[i])\n",
    "            prev_date = get_date(ecmwf_sorted_files[i - 1])\n",
    "            d2 = str(date)[:10]\n",
    "            d1 = str(prev_date)[:10]\n",
    "\n",
    "            if d2 == d1:\n",
    "                offset = 1\n",
    "            else:\n",
    "                offset = 0\n",
    "\n",
    "            cur = ecmwf_df['Value'].iloc[start:end].sum() #8-9 benchmark, 4-9 best results\n",
    "            prev = prev_ecmwf_ens_df['Value'].iloc[(start+offset):(end+offset)].sum() #8-9 benchmark, 4-9 best results\n",
    "\n",
    "            change = cur - prev\n",
    "\n",
    "            new_row = pd.DataFrame(change, columns=ecmwf_9_10.columns, index=[date])\n",
    "            ecmwf_9_10 = pd.concat([ecmwf_9_10, new_row])\n",
    "\n",
    "        self.ecmwf_data = ecmwf_9_10\n",
    "\n",
    "    def gfs(self, start=9, end=14):\n",
    "        gfs_11_14 = pd.DataFrame(columns=[f'gfs({start+1},{end})'])\n",
    "\n",
    "        ecmwf_ens_sorted_files = self.ecmwf_ens_sorted_files\n",
    "        gfs_ens_bc_sorted_files = self.gfs_ens_bc_sorted_files\n",
    "\n",
    "        for i in range(1, len(gfs_ens_bc_sorted_files)):\n",
    "            gfs_df = pd.read_csv(gfs_ens_bc_sorted_files[i])\n",
    "            gfs_df = gfs_df[gfs_df[gfs_df.columns[2]] >= 1]\n",
    "            prev_ecmwf_ens_df = pd.read_csv(ecmwf_ens_sorted_files[i-1])\n",
    "            prev_ecmwf_ens_df = prev_ecmwf_ens_df[prev_ecmwf_ens_df[prev_ecmwf_ens_df.columns[2]] >= 1]\n",
    "\n",
    "            date = get_date(gfs_ens_bc_sorted_files[i])\n",
    "            prev_date = get_date(ecmwf_ens_sorted_files[i - 1])\n",
    "            d2 = str(date)[:10]\n",
    "            d1 = str(prev_date)[:10]\n",
    "\n",
    "            if d2 == d1:\n",
    "                offset = 1\n",
    "            else:\n",
    "                offset = 0\n",
    "\n",
    "            cur = gfs_df['Value'].iloc[start:end].sum() # 9-14 benchmark, 9-16 best results\n",
    "            prev = prev_ecmwf_ens_df['Value'].iloc[(start+offset):(end+offset)].sum() # 9-14 benchmark, 9-16 best results\n",
    "\n",
    "            change = cur - prev\n",
    "\n",
    "            new_row = pd.DataFrame(change, columns=gfs_11_14.columns, index=[date])\n",
    "            gfs_11_14 = pd.concat([gfs_11_14, new_row])\n",
    "\n",
    "        self.gfs_data = gfs_11_14\n",
    "\n",
    "    def cmc(self, start=8, end=14):\n",
    "        cmc_9_14 = pd.DataFrame(columns=[f'cmc({start+1},{end})'])\n",
    "\n",
    "        cmc_ens_sorted_files = self.cmc_ens_sorted_files\n",
    "        gfs_ens_bc_sorted_files = self.gfs_ens_bc_sorted_files\n",
    "\n",
    "        for i in range(1, len(cmc_ens_sorted_files)):\n",
    "            cmc_df = pd.read_csv(cmc_ens_sorted_files[i])\n",
    "            cmc_df = cmc_df[cmc_df[cmc_df.columns[2]] >= 1]\n",
    "            gfs_df = pd.read_csv(gfs_ens_bc_sorted_files[i])\n",
    "            gfs_df = gfs_df[gfs_df[gfs_df.columns[2]] >= 1]\n",
    "\n",
    "            date = get_date(cmc_ens_sorted_files[i])\n",
    "\n",
    "            cmc = cmc_df['Value'].iloc[start:end].sum() #8-14 benchmark, 8-14 best results\n",
    "            gfs = gfs_df['Value'].iloc[start:end].sum() #8-14 benchmark, 8-14 best results\n",
    "            change = cmc - gfs\n",
    "\n",
    "            new_row = pd.DataFrame(change, columns=cmc_9_14.columns, index=[date])\n",
    "            cmc_9_14 = pd.concat([cmc_9_14, new_row])\n",
    "\n",
    "        self.cmc_data = cmc_9_14\n",
    "\n",
    "    def norm(self):\n",
    "        norms = pd.DataFrame(columns=['Date', 'Value'])\n",
    "        ecmwf_ens_sorted_files = self.ecmwf_ens_sorted_files\n",
    "\n",
    "        for i in range(1, len(ecmwf_ens_sorted_files), 2):\n",
    "            ecmwf_ens_df = pd.read_csv(ecmwf_ens_sorted_files[i])\n",
    "            v1 = ecmwf_ens_df[ecmwf_ens_df[ecmwf_ens_df.columns[2]] == 2].iloc[:, :2]\n",
    "            norms = pd.concat([norms, v1]).drop_duplicates('Date')\n",
    "\n",
    "        norms.reset_index(inplace=True)\n",
    "        norms.drop(columns=['index'], inplace=True)\n",
    "        norms['Date'] = pd.to_datetime(norms['Date']).dt.strftime('%Y-%m-%d 12:00:00')\n",
    "        norms.set_index('Date', inplace=True)\n",
    "        norms.rename_axis('', inplace=True)\n",
    "        norms.rename(columns={'Value': 'norm'}, inplace=True)\n",
    "\n",
    "        self.norms_data = norms\n",
    "\n",
    "    def run_all_models(self):\n",
    "        self.y_value()\n",
    "        self.ecmwf_ens()\n",
    "        self.ecmwf()\n",
    "        self.gfs()\n",
    "        self.cmc()\n",
    "        self.norm()\n",
    "\n",
    "    def get_master_model(self):\n",
    "        self.run_all_models()\n",
    "        master_data = pd.concat([self.ecmwf_ens_data, self.ecmwf_data,\n",
    "                                 self.gfs_data, self.cmc_data, self.y_values], axis=1)\n",
    "\n",
    "        self.master_data = master_data"
   ],
   "metadata": {
    "collapsed": false,
    "ExecuteTime": {
     "start_time": "2023-07-11T13:23:37.835291Z",
     "end_time": "2023-07-11T13:23:37.837145Z"
    }
   }
  },
  {
   "cell_type": "code",
   "execution_count": 6,
   "outputs": [
    {
     "name": "stderr",
     "output_type": "stream",
     "text": [
      "/var/folders/3y/4qthl0m139n7983g0dhsq1n00000gn/T/ipykernel_20766/2723095553.py:15: SettingWithCopyWarning: \n",
      "A value is trying to be set on a copy of a slice from a DataFrame\n",
      "\n",
      "See the caveats in the documentation: https://pandas.pydata.org/pandas-docs/stable/user_guide/indexing.html#returning-a-view-versus-a-copy\n",
      "  data.drop('hour', axis=1, inplace=True)\n"
     ]
    }
   ],
   "source": [
    "data = RawDataProcess(degree_days='gw_hdd', path='RawData', time=12)"
   ],
   "metadata": {
    "collapsed": false,
    "ExecuteTime": {
     "start_time": "2023-07-11T13:23:37.837913Z",
     "end_time": "2023-07-11T13:24:14.196845Z"
    }
   }
  },
  {
   "cell_type": "code",
   "execution_count": 8,
   "outputs": [],
   "source": [
    "master_data = data.master_data"
   ],
   "metadata": {
    "collapsed": false,
    "ExecuteTime": {
     "start_time": "2023-07-11T13:24:24.873044Z",
     "end_time": "2023-07-11T13:24:24.898361Z"
    }
   }
  },
  {
   "cell_type": "code",
   "execution_count": 20,
   "outputs": [],
   "source": [
    "train_data, test_data = seasonal_train_test(master_data, '2021-10-04 12:00:00', '2022-5-16 12:00:00')"
   ],
   "metadata": {
    "collapsed": false,
    "ExecuteTime": {
     "start_time": "2023-07-11T13:24:53.364931Z",
     "end_time": "2023-07-11T13:24:53.407040Z"
    }
   }
  },
  {
   "cell_type": "code",
   "execution_count": 21,
   "outputs": [],
   "source": [
    "train_data = TabularDataset(train_data)\n",
    "test_data = TabularDataset(test_data)"
   ],
   "metadata": {
    "collapsed": false,
    "ExecuteTime": {
     "start_time": "2023-07-11T13:24:53.699759Z",
     "end_time": "2023-07-11T13:24:53.724968Z"
    }
   }
  },
  {
   "cell_type": "code",
   "execution_count": 22,
   "outputs": [],
   "source": [
    "label = 'ens(9,14)'"
   ],
   "metadata": {
    "collapsed": false,
    "ExecuteTime": {
     "start_time": "2023-07-11T13:24:54.007951Z",
     "end_time": "2023-07-11T13:24:54.032529Z"
    }
   }
  },
  {
   "cell_type": "code",
   "execution_count": 23,
   "outputs": [],
   "source": [
    "y_test = test_data[label]\n",
    "test_data_nolabel = test_data.drop(columns=[label])"
   ],
   "metadata": {
    "collapsed": false,
    "ExecuteTime": {
     "start_time": "2023-07-11T13:24:54.350325Z",
     "end_time": "2023-07-11T13:24:54.363754Z"
    }
   }
  },
  {
   "cell_type": "code",
   "execution_count": 25,
   "outputs": [
    {
     "name": "stderr",
     "output_type": "stream",
     "text": [
      "No path specified. Models will be saved in: \"AutogluonModels/ag-20230711_193458/\"\n",
      "Beginning AutoGluon training ...\n",
      "AutoGluon will save models to \"AutogluonModels/ag-20230711_193458/\"\n",
      "AutoGluon Version:  0.7.0\n",
      "Python Version:     3.10.9\n",
      "Operating System:   Darwin\n",
      "Platform Machine:   x86_64\n",
      "Platform Version:   Darwin Kernel Version 22.5.0: Thu Jun  8 22:22:19 PDT 2023; root:xnu-8796.121.3~7/RELEASE_ARM64_T8103\n",
      "Train Data Rows:    1524\n",
      "Train Data Columns: 1600\n",
      "Label Column: ens(9,14)\n",
      "Preprocessing data ...\n",
      "AutoGluon infers your prediction problem is: 'regression' (because dtype of label-column == float and many unique label-values observed).\n",
      "\tLabel info (max, min, mean, stddev): (18.34899999999999, -21.283999999999992, 0.35771, 3.84261)\n",
      "\tIf 'regression' is not the correct problem_type, please manually specify the problem_type parameter during predictor init (You may specify problem_type as one of: ['binary', 'multiclass', 'regression'])\n",
      "Using Feature Generators to preprocess the data ...\n",
      "Fitting AutoMLPipelineFeatureGenerator...\n",
      "\tAvailable Memory:                    1156.57 MB\n",
      "\tTrain Data (Original)  Memory Usage: 19.51 MB (1.7% of available memory)\n",
      "\tInferring data type of each feature based on column values. Set feature_metadata_in to manually specify special dtypes of the features.\n",
      "\tStage 1 Generators:\n",
      "\t\tFitting AsTypeFeatureGenerator...\n",
      "\t\t\tNote: Converting 31 features to boolean dtype as they only contain 2 unique values.\n",
      "\tStage 2 Generators:\n",
      "\t\tFitting FillNaFeatureGenerator...\n",
      "\tStage 3 Generators:\n",
      "\t\tFitting IdentityFeatureGenerator...\n",
      "\tStage 4 Generators:\n",
      "\t\tFitting DropUniqueFeatureGenerator...\n",
      "\tUseless Original Features (Count: 136): ['snow_TMT7J', 'snow_KITR0', 'snow_KOTM0', 'tavg_72280', 'tmin_72280', 'tmax_72280', 'prcp_72280', 'pres_72280', 'snow_72280', 'snow_KNYL0', 'snow_KNYC0', 'snow_72574', 'snow_71538', 'snow_KJYO0', 'snow_KAKO0', 'snow_KSOA0', 'snow_KIKK0', 'snow_KAKR0', 'snow_72386', 'snow_72264', 'snow_KMRB0', 'snow_KCVN0', 'snow_KMKL0', 'snow_KMKC0', 'snow_KTTN0', 'snow_KWLD0', 'snow_KF050', 'snow_KMYV0', 'snow_KBLU0', 'snow_KSRQ0', 'snow_KJBR0', 'snow_ZGK9P', 'snow_Z7ZOG', 'snow_72482', 'snow_KOZA0', 'snow_KGVT0', 'snow_72357', 'snow_41FV1', 'snow_KRDG0', 'snow_J6V1G', 'snow_KAOH0', 'snow_KAOO0', 'snow_KFMY0', 'snow_KPPF0', 'snow_ST9X5', 'snow_OOWL9', 'snow_A13Z0', 'snow_KSWO0', 'snow_KBAZ0', 'snow_KSWW0', 'snow_KBIE0', 'snow_KAZO0', 'snow_KMWL0', 'snow_KFNB0', 'snow_KBGD0', 'snow_KLFK0', 'snow_KTVR0', 'snow_ODQFS', 'snow_OZNF7', 'snow_KJXN0', 'snow_74545', 'snow_KFYV0', 'snow_KPSC0', 'snow_KALI0', 'snow_OQRHP', 'snow_KPSP0', 'snow_71862', 'snow_KPSX0', 'snow_KFST0', 'snow_KVYS0', 'snow_KSET0', 'snow_KRAL0', 'snow_KBPC0', 'snow_KSEG0', 'snow_72628', 'snow_72207', 'snow_72206', 'snow_KPTV0', 'snow_72384', 'snow_72208', 'snow_KHRI0', 'snow_KASE0', 'snow_KELD0', 'snow_71203', 'snow_KELN0', 'snow_KDUX0', 'snow_LQO8Z', 'snow_KMHV0', 'snow_KTYR0', 'snow_KSSF0', 'snow_KPOU0', 'snow_KGWO0', 'snow_KPKB0', 'snow_KLLQ0', 'snow_KHBR0', 'snow_KVPZ0', 'snow_72666', 'snow_KCSG0', 'snow_KLBX0', 'snow_71153', 'snow_KLBT0', 'snow_KBTR0', 'snow_KFDR0', 'snow_KHPN0', 'snow_KFDY0', 'snow_72767', 'snow_KAPC0', 'snow_KLUK0', 'snow_KFDK0', 'snow_KLWV0', 'snow_8RXA6', 'snow_KCVS0', 'snow_KLWB0', 'snow_KGLE0', 'snow_KCLL0', 'snow_KMSL0', 'snow_KMSS0', 'snow_KFMN0', 'snow_KAWM0', 'snow_KGFK0', 'snow_KMTJ0', 'snow_KEGE0', 'snow_KRNM0', 'snow_KBFD0', 'snow_71852', 'snow_KCZT0', 'snow_KHFD0', 'snow_KMFE0', 'snow_KLNS0', 'snow_74230', 'snow_KMLU0', 'snow_72205', 'snow_KIRK0', 'snow_KATY0', 'snow_KCKB0', 'snow_71822']\n",
      "\t\tThese features carry no predictive signal and should be manually investigated.\n",
      "\t\tThis is typically a feature which has the same value for all rows.\n",
      "\t\tThese features do not need to be present at inference time.\n",
      "\tTypes of features in original data (raw dtype, special dtypes):\n",
      "\t\t('float', []) : 1464 | ['ens(8)', 'ecmwf(9)', 'gfs(10,14)', 'cmc(9,14)', 'tavg_72529', ...]\n",
      "\tTypes of features in processed data (raw dtype, special dtypes):\n",
      "\t\t('float', [])     : 1433 | ['ens(8)', 'ecmwf(9)', 'gfs(10,14)', 'cmc(9,14)', 'tavg_72529', ...]\n",
      "\t\t('int', ['bool']) :   31 | ['snow_72218', 'snow_72311', 'snow_72295', 'snow_72374', 'snow_72594', ...]\n",
      "\t1.1s = Fit runtime\n",
      "\t1464 features in original data used to generate 1464 features in processed data.\n",
      "\tTrain Data (Processed) Memory Usage: 17.52 MB (1.5% of available memory)\n",
      "Data preprocessing and feature engineering runtime = 1.15s ...\n",
      "AutoGluon will gauge predictive performance using evaluation metric: 'root_mean_squared_error'\n",
      "\tThis metric's sign has been flipped to adhere to being higher_is_better. The metric score can be multiplied by -1 to get the metric value.\n",
      "\tTo change this, specify the eval_metric parameter of Predictor()\n",
      "Automatically generating train/validation split with holdout_frac=0.2, Train Rows: 1219, Val Rows: 305\n",
      "Fitting 11 L1 models ...\n",
      "Fitting model: KNeighborsUnif ...\n",
      "\t-4.5179\t = Validation score   (-root_mean_squared_error)\n",
      "\t0.2s\t = Training   runtime\n",
      "\t0.04s\t = Validation runtime\n",
      "Fitting model: KNeighborsDist ...\n",
      "\t-4.5024\t = Validation score   (-root_mean_squared_error)\n",
      "\t0.21s\t = Training   runtime\n",
      "\t0.04s\t = Validation runtime\n",
      "Fitting model: LightGBMXT ...\n",
      "\tWarning: Exception caused LightGBMXT to fail during training (ImportError)... Skipping this model.\n",
      "\t\t`import lightgbm` failed. If you are using Mac OSX, Please try 'brew install libomp'. Detailed info: dlopen(/Users/nickgault/opt/miniconda3/envs/Kayak/lib/python3.10/site-packages/lightgbm/lib_lightgbm.so, 0x0006): Library not loaded: /usr/local/opt/libomp/lib/libomp.dylib\n",
      "  Referenced from: <D21A7969-4567-3BC7-94ED-6A9E83AE9D78> /Users/nickgault/opt/miniconda3/envs/Kayak/lib/python3.10/site-packages/lightgbm/lib_lightgbm.so\n",
      "  Reason: tried: '/usr/local/opt/libomp/lib/libomp.dylib' (no such file), '/System/Volumes/Preboot/Cryptexes/OS/usr/local/opt/libomp/lib/libomp.dylib' (no such file), '/usr/local/opt/libomp/lib/libomp.dylib' (no such file), '/usr/local/lib/libomp.dylib' (no such file), '/usr/lib/libomp.dylib' (no such file, not in dyld cache)\n",
      "Fitting model: LightGBM ...\n",
      "\tWarning: Exception caused LightGBM to fail during training (ImportError)... Skipping this model.\n",
      "\t\t`import lightgbm` failed. If you are using Mac OSX, Please try 'brew install libomp'. Detailed info: dlopen(/Users/nickgault/opt/miniconda3/envs/Kayak/lib/python3.10/site-packages/lightgbm/lib_lightgbm.so, 0x0006): Library not loaded: /usr/local/opt/libomp/lib/libomp.dylib\n",
      "  Referenced from: <D21A7969-4567-3BC7-94ED-6A9E83AE9D78> /Users/nickgault/opt/miniconda3/envs/Kayak/lib/python3.10/site-packages/lightgbm/lib_lightgbm.so\n",
      "  Reason: tried: '/usr/local/opt/libomp/lib/libomp.dylib' (no such file), '/System/Volumes/Preboot/Cryptexes/OS/usr/local/opt/libomp/lib/libomp.dylib' (no such file), '/usr/local/opt/libomp/lib/libomp.dylib' (no such file), '/usr/local/lib/libomp.dylib' (no such file), '/usr/lib/libomp.dylib' (no such file, not in dyld cache)\n",
      "Fitting model: RandomForestMSE ...\n",
      "\t-3.6658\t = Validation score   (-root_mean_squared_error)\n",
      "\t76.22s\t = Training   runtime\n",
      "\t0.03s\t = Validation runtime\n",
      "Fitting model: CatBoost ...\n",
      "\t-3.6647\t = Validation score   (-root_mean_squared_error)\n",
      "\t24.34s\t = Training   runtime\n",
      "\t0.05s\t = Validation runtime\n",
      "Fitting model: ExtraTreesMSE ...\n",
      "\t-3.665\t = Validation score   (-root_mean_squared_error)\n",
      "\t15.11s\t = Training   runtime\n",
      "\t0.03s\t = Validation runtime\n",
      "Fitting model: NeuralNetFastAI ...\n",
      "No improvement since epoch 0: early stopping\n",
      "\t-4.032\t = Validation score   (-root_mean_squared_error)\n",
      "\t3.06s\t = Training   runtime\n",
      "\t0.24s\t = Validation runtime\n",
      "Fitting model: XGBoost ...\n",
      "\t-3.7916\t = Validation score   (-root_mean_squared_error)\n",
      "\t24.87s\t = Training   runtime\n",
      "\t0.02s\t = Validation runtime\n",
      "Fitting model: NeuralNetTorch ...\n",
      "\t-4.0209\t = Validation score   (-root_mean_squared_error)\n",
      "\t2.67s\t = Training   runtime\n",
      "\t0.05s\t = Validation runtime\n",
      "Fitting model: LightGBMLarge ...\n",
      "\tWarning: Exception caused LightGBMLarge to fail during training (ImportError)... Skipping this model.\n",
      "\t\t`import lightgbm` failed. If you are using Mac OSX, Please try 'brew install libomp'. Detailed info: dlopen(/Users/nickgault/opt/miniconda3/envs/Kayak/lib/python3.10/site-packages/lightgbm/lib_lightgbm.so, 0x0006): Library not loaded: /usr/local/opt/libomp/lib/libomp.dylib\n",
      "  Referenced from: <D21A7969-4567-3BC7-94ED-6A9E83AE9D78> /Users/nickgault/opt/miniconda3/envs/Kayak/lib/python3.10/site-packages/lightgbm/lib_lightgbm.so\n",
      "  Reason: tried: '/usr/local/opt/libomp/lib/libomp.dylib' (no such file), '/System/Volumes/Preboot/Cryptexes/OS/usr/local/opt/libomp/lib/libomp.dylib' (no such file), '/usr/local/opt/libomp/lib/libomp.dylib' (no such file), '/usr/local/lib/libomp.dylib' (no such file), '/usr/lib/libomp.dylib' (no such file, not in dyld cache)\n",
      "Fitting model: WeightedEnsemble_L2 ...\n",
      "\t-3.6475\t = Validation score   (-root_mean_squared_error)\n",
      "\t0.12s\t = Training   runtime\n",
      "\t0.0s\t = Validation runtime\n",
      "AutoGluon training complete, total runtime = 149.62s ... Best model: \"WeightedEnsemble_L2\"\n",
      "TabularPredictor saved. To load, use: predictor = TabularPredictor.load(\"AutogluonModels/ag-20230711_193458/\")\n"
     ]
    }
   ],
   "source": [
    "predictor = TabularPredictor(label=label).fit(train_data) # presets='best_quality'"
   ],
   "metadata": {
    "collapsed": false,
    "ExecuteTime": {
     "start_time": "2023-07-11T13:34:58.835351Z",
     "end_time": "2023-07-11T13:37:28.532839Z"
    }
   }
  },
  {
   "cell_type": "code",
   "execution_count": null,
   "outputs": [],
   "source": [],
   "metadata": {
    "collapsed": false
   }
  },
  {
   "cell_type": "code",
   "execution_count": 29,
   "outputs": [
    {
     "name": "stderr",
     "output_type": "stream",
     "text": [
      "These features in provided data are not utilized by the predictor and will be ignored: ['snow_TMT7J', 'snow_KITR0', 'snow_KOTM0', 'tavg_72280', 'tmin_72280', 'tmax_72280', 'prcp_72280', 'pres_72280', 'snow_72280', 'snow_KNYL0', 'snow_KNYC0', 'snow_72574', 'snow_71538', 'snow_KJYO0', 'snow_KAKO0', 'snow_KSOA0', 'snow_KIKK0', 'snow_KAKR0', 'snow_72386', 'snow_72264', 'snow_KMRB0', 'snow_KCVN0', 'snow_KMKL0', 'snow_KMKC0', 'snow_KTTN0', 'snow_KWLD0', 'snow_KF050', 'snow_KMYV0', 'snow_KBLU0', 'snow_KSRQ0', 'snow_KJBR0', 'snow_ZGK9P', 'snow_Z7ZOG', 'snow_72482', 'snow_KOZA0', 'snow_KGVT0', 'snow_72357', 'snow_41FV1', 'snow_KRDG0', 'snow_J6V1G', 'snow_KAOH0', 'snow_KAOO0', 'snow_KFMY0', 'snow_KPPF0', 'snow_ST9X5', 'snow_OOWL9', 'snow_A13Z0', 'snow_KSWO0', 'snow_KBAZ0', 'snow_KSWW0', 'snow_KBIE0', 'snow_KAZO0', 'snow_KMWL0', 'snow_KFNB0', 'snow_KBGD0', 'snow_KLFK0', 'snow_KTVR0', 'snow_ODQFS', 'snow_OZNF7', 'snow_KJXN0', 'snow_74545', 'snow_KFYV0', 'snow_KPSC0', 'snow_KALI0', 'snow_OQRHP', 'snow_KPSP0', 'snow_71862', 'snow_KPSX0', 'snow_KFST0', 'snow_KVYS0', 'snow_KSET0', 'snow_KRAL0', 'snow_KBPC0', 'snow_KSEG0', 'snow_72628', 'snow_72207', 'snow_72206', 'snow_KPTV0', 'snow_72384', 'snow_72208', 'snow_KHRI0', 'snow_KASE0', 'snow_KELD0', 'snow_71203', 'snow_KELN0', 'snow_KDUX0', 'snow_LQO8Z', 'snow_KMHV0', 'snow_KTYR0', 'snow_KSSF0', 'snow_KPOU0', 'snow_KGWO0', 'snow_KPKB0', 'snow_KLLQ0', 'snow_KHBR0', 'snow_KVPZ0', 'snow_72666', 'snow_KCSG0', 'snow_KLBX0', 'snow_71153', 'snow_KLBT0', 'snow_KBTR0', 'snow_KFDR0', 'snow_KHPN0', 'snow_KFDY0', 'snow_72767', 'snow_KAPC0', 'snow_KLUK0', 'snow_KFDK0', 'snow_KLWV0', 'snow_8RXA6', 'snow_KCVS0', 'snow_KLWB0', 'snow_KGLE0', 'snow_KCLL0', 'snow_KMSL0', 'snow_KMSS0', 'snow_KFMN0', 'snow_KAWM0', 'snow_KGFK0', 'snow_KMTJ0', 'snow_KEGE0', 'snow_KRNM0', 'snow_KBFD0', 'snow_71852', 'snow_KCZT0', 'snow_KHFD0', 'snow_KMFE0', 'snow_KLNS0', 'snow_74230', 'snow_KMLU0', 'snow_72205', 'snow_KIRK0', 'snow_KATY0', 'snow_KCKB0', 'snow_71822']\n"
     ]
    }
   ],
   "source": [
    "fi = predictor.feature_importance(test_data, silent=True)"
   ],
   "metadata": {
    "collapsed": false,
    "ExecuteTime": {
     "start_time": "2023-07-11T13:39:25.444427Z",
     "end_time": "2023-07-11T13:40:59.749023Z"
    }
   }
  },
  {
   "cell_type": "code",
   "execution_count": 31,
   "outputs": [
    {
     "data": {
      "text/plain": "            importance    stddev   p_value  n  p99_high   p99_low\necmwf(9)      0.438457  0.084243  0.000156  5  0.611915  0.264999\nens(8)        0.135402  0.073337  0.007256  5  0.286404 -0.015599\ngfs(10,14)    0.113688  0.019329  0.000097  5  0.153487  0.073888\ntmin_71153    0.004926  0.001771  0.001701  5  0.008572  0.001280\ntmin_71551    0.003787  0.003260  0.030102  5  0.010500 -0.002926\nsnow_72640    0.003629  0.003690  0.046372  5  0.011228 -0.003969\npres_KRAL0    0.003486  0.000731  0.000219  5  0.004990  0.001981\ntmin_71457    0.002896  0.000971  0.001313  5  0.004896  0.000897\ntmin_72310    0.002704  0.000623  0.000314  5  0.003986  0.001422\ntavg_KCKB0    0.002691  0.000489  0.000125  5  0.003698  0.001684",
      "text/html": "<div>\n<style scoped>\n    .dataframe tbody tr th:only-of-type {\n        vertical-align: middle;\n    }\n\n    .dataframe tbody tr th {\n        vertical-align: top;\n    }\n\n    .dataframe thead th {\n        text-align: right;\n    }\n</style>\n<table border=\"1\" class=\"dataframe\">\n  <thead>\n    <tr style=\"text-align: right;\">\n      <th></th>\n      <th>importance</th>\n      <th>stddev</th>\n      <th>p_value</th>\n      <th>n</th>\n      <th>p99_high</th>\n      <th>p99_low</th>\n    </tr>\n  </thead>\n  <tbody>\n    <tr>\n      <th>ecmwf(9)</th>\n      <td>0.438457</td>\n      <td>0.084243</td>\n      <td>0.000156</td>\n      <td>5</td>\n      <td>0.611915</td>\n      <td>0.264999</td>\n    </tr>\n    <tr>\n      <th>ens(8)</th>\n      <td>0.135402</td>\n      <td>0.073337</td>\n      <td>0.007256</td>\n      <td>5</td>\n      <td>0.286404</td>\n      <td>-0.015599</td>\n    </tr>\n    <tr>\n      <th>gfs(10,14)</th>\n      <td>0.113688</td>\n      <td>0.019329</td>\n      <td>0.000097</td>\n      <td>5</td>\n      <td>0.153487</td>\n      <td>0.073888</td>\n    </tr>\n    <tr>\n      <th>tmin_71153</th>\n      <td>0.004926</td>\n      <td>0.001771</td>\n      <td>0.001701</td>\n      <td>5</td>\n      <td>0.008572</td>\n      <td>0.001280</td>\n    </tr>\n    <tr>\n      <th>tmin_71551</th>\n      <td>0.003787</td>\n      <td>0.003260</td>\n      <td>0.030102</td>\n      <td>5</td>\n      <td>0.010500</td>\n      <td>-0.002926</td>\n    </tr>\n    <tr>\n      <th>snow_72640</th>\n      <td>0.003629</td>\n      <td>0.003690</td>\n      <td>0.046372</td>\n      <td>5</td>\n      <td>0.011228</td>\n      <td>-0.003969</td>\n    </tr>\n    <tr>\n      <th>pres_KRAL0</th>\n      <td>0.003486</td>\n      <td>0.000731</td>\n      <td>0.000219</td>\n      <td>5</td>\n      <td>0.004990</td>\n      <td>0.001981</td>\n    </tr>\n    <tr>\n      <th>tmin_71457</th>\n      <td>0.002896</td>\n      <td>0.000971</td>\n      <td>0.001313</td>\n      <td>5</td>\n      <td>0.004896</td>\n      <td>0.000897</td>\n    </tr>\n    <tr>\n      <th>tmin_72310</th>\n      <td>0.002704</td>\n      <td>0.000623</td>\n      <td>0.000314</td>\n      <td>5</td>\n      <td>0.003986</td>\n      <td>0.001422</td>\n    </tr>\n    <tr>\n      <th>tavg_KCKB0</th>\n      <td>0.002691</td>\n      <td>0.000489</td>\n      <td>0.000125</td>\n      <td>5</td>\n      <td>0.003698</td>\n      <td>0.001684</td>\n    </tr>\n  </tbody>\n</table>\n</div>"
     },
     "metadata": {},
     "output_type": "display_data"
    }
   ],
   "source": [
    "display(fi.head(10))"
   ],
   "metadata": {
    "collapsed": false,
    "ExecuteTime": {
     "start_time": "2023-07-11T13:41:46.234123Z",
     "end_time": "2023-07-11T13:41:46.246293Z"
    }
   }
  },
  {
   "cell_type": "code",
   "execution_count": 27,
   "outputs": [
    {
     "name": "stdout",
     "output_type": "stream",
     "text": [
      "MSE: 22.972\n",
      "RMSE: 4.793\n",
      "MAE: 3.686\n",
      "MAPE: 1.83\n",
      "R2: 0.18\n"
     ]
    }
   ],
   "source": [
    "y_pred = predictor.predict(test_data_nolabel)\n",
    "display_errors(y_test, y_pred)"
   ],
   "metadata": {
    "collapsed": false,
    "ExecuteTime": {
     "start_time": "2023-07-11T13:39:03.661165Z",
     "end_time": "2023-07-11T13:39:03.833824Z"
    }
   }
  },
  {
   "cell_type": "code",
   "execution_count": 28,
   "outputs": [
    {
     "ename": "ValueError",
     "evalue": "Input X contains NaN.\nLinearRegression does not accept missing values encoded as NaN natively. For supervised learning, you might want to consider sklearn.ensemble.HistGradientBoostingClassifier and Regressor which accept missing values encoded as NaNs natively. Alternatively, it is possible to preprocess the data, for instance by using an imputer transformer in a pipeline or drop samples with missing values. See https://scikit-learn.org/stable/modules/impute.html You can find a list of all estimators that handle NaN values at the following page: https://scikit-learn.org/stable/modules/impute.html#estimators-that-handle-nan-values",
     "output_type": "error",
     "traceback": [
      "\u001B[0;31m---------------------------------------------------------------------------\u001B[0m",
      "\u001B[0;31mValueError\u001B[0m                                Traceback (most recent call last)",
      "Cell \u001B[0;32mIn[28], line 1\u001B[0m\n\u001B[0;32m----> 1\u001B[0m linreg \u001B[38;5;241m=\u001B[39m \u001B[43mLinReg\u001B[49m\u001B[43m(\u001B[49m\u001B[43mtrain_data\u001B[49m\u001B[43m,\u001B[49m\u001B[43m \u001B[49m\u001B[43mtest_data\u001B[49m\u001B[43m,\u001B[49m\u001B[43m \u001B[49m\u001B[43mlabel\u001B[49m\u001B[43m)\u001B[49m\n",
      "Cell \u001B[0;32mIn[3], line 8\u001B[0m, in \u001B[0;36mLinReg.__init__\u001B[0;34m(self, train_data, test_data, target_col)\u001B[0m\n\u001B[1;32m      6\u001B[0m \u001B[38;5;28mself\u001B[39m\u001B[38;5;241m.\u001B[39my_test \u001B[38;5;241m=\u001B[39m test_data[target_col]\n\u001B[1;32m      7\u001B[0m \u001B[38;5;28mself\u001B[39m\u001B[38;5;241m.\u001B[39mtarget_col \u001B[38;5;241m=\u001B[39m target_col\n\u001B[0;32m----> 8\u001B[0m \u001B[38;5;28mself\u001B[39m\u001B[38;5;241m.\u001B[39mmodel \u001B[38;5;241m=\u001B[39m \u001B[43mLinearRegression\u001B[49m\u001B[43m(\u001B[49m\u001B[43m)\u001B[49m\u001B[38;5;241;43m.\u001B[39;49m\u001B[43mfit\u001B[49m\u001B[43m(\u001B[49m\u001B[38;5;28;43mself\u001B[39;49m\u001B[38;5;241;43m.\u001B[39;49m\u001B[43mX_train\u001B[49m\u001B[43m,\u001B[49m\u001B[43m \u001B[49m\u001B[38;5;28;43mself\u001B[39;49m\u001B[38;5;241;43m.\u001B[39;49m\u001B[43my_train\u001B[49m\u001B[43m)\u001B[49m\n\u001B[1;32m      9\u001B[0m \u001B[38;5;28mself\u001B[39m\u001B[38;5;241m.\u001B[39my_pred \u001B[38;5;241m=\u001B[39m \u001B[38;5;28mself\u001B[39m\u001B[38;5;241m.\u001B[39mmodel\u001B[38;5;241m.\u001B[39mpredict(\u001B[38;5;28mself\u001B[39m\u001B[38;5;241m.\u001B[39mX_test)\n\u001B[1;32m     10\u001B[0m \u001B[38;5;28mself\u001B[39m\u001B[38;5;241m.\u001B[39mevaluate()\n",
      "File \u001B[0;32m~/opt/miniconda3/envs/Kayak/lib/python3.10/site-packages/sklearn/linear_model/_base.py:648\u001B[0m, in \u001B[0;36mLinearRegression.fit\u001B[0;34m(self, X, y, sample_weight)\u001B[0m\n\u001B[1;32m    644\u001B[0m n_jobs_ \u001B[38;5;241m=\u001B[39m \u001B[38;5;28mself\u001B[39m\u001B[38;5;241m.\u001B[39mn_jobs\n\u001B[1;32m    646\u001B[0m accept_sparse \u001B[38;5;241m=\u001B[39m \u001B[38;5;28;01mFalse\u001B[39;00m \u001B[38;5;28;01mif\u001B[39;00m \u001B[38;5;28mself\u001B[39m\u001B[38;5;241m.\u001B[39mpositive \u001B[38;5;28;01melse\u001B[39;00m [\u001B[38;5;124m\"\u001B[39m\u001B[38;5;124mcsr\u001B[39m\u001B[38;5;124m\"\u001B[39m, \u001B[38;5;124m\"\u001B[39m\u001B[38;5;124mcsc\u001B[39m\u001B[38;5;124m\"\u001B[39m, \u001B[38;5;124m\"\u001B[39m\u001B[38;5;124mcoo\u001B[39m\u001B[38;5;124m\"\u001B[39m]\n\u001B[0;32m--> 648\u001B[0m X, y \u001B[38;5;241m=\u001B[39m \u001B[38;5;28;43mself\u001B[39;49m\u001B[38;5;241;43m.\u001B[39;49m\u001B[43m_validate_data\u001B[49m\u001B[43m(\u001B[49m\n\u001B[1;32m    649\u001B[0m \u001B[43m    \u001B[49m\u001B[43mX\u001B[49m\u001B[43m,\u001B[49m\u001B[43m \u001B[49m\u001B[43my\u001B[49m\u001B[43m,\u001B[49m\u001B[43m \u001B[49m\u001B[43maccept_sparse\u001B[49m\u001B[38;5;241;43m=\u001B[39;49m\u001B[43maccept_sparse\u001B[49m\u001B[43m,\u001B[49m\u001B[43m \u001B[49m\u001B[43my_numeric\u001B[49m\u001B[38;5;241;43m=\u001B[39;49m\u001B[38;5;28;43;01mTrue\u001B[39;49;00m\u001B[43m,\u001B[49m\u001B[43m \u001B[49m\u001B[43mmulti_output\u001B[49m\u001B[38;5;241;43m=\u001B[39;49m\u001B[38;5;28;43;01mTrue\u001B[39;49;00m\n\u001B[1;32m    650\u001B[0m \u001B[43m\u001B[49m\u001B[43m)\u001B[49m\n\u001B[1;32m    652\u001B[0m sample_weight \u001B[38;5;241m=\u001B[39m _check_sample_weight(\n\u001B[1;32m    653\u001B[0m     sample_weight, X, dtype\u001B[38;5;241m=\u001B[39mX\u001B[38;5;241m.\u001B[39mdtype, only_non_negative\u001B[38;5;241m=\u001B[39m\u001B[38;5;28;01mTrue\u001B[39;00m\n\u001B[1;32m    654\u001B[0m )\n\u001B[1;32m    656\u001B[0m X, y, X_offset, y_offset, X_scale \u001B[38;5;241m=\u001B[39m _preprocess_data(\n\u001B[1;32m    657\u001B[0m     X,\n\u001B[1;32m    658\u001B[0m     y,\n\u001B[0;32m   (...)\u001B[0m\n\u001B[1;32m    661\u001B[0m     sample_weight\u001B[38;5;241m=\u001B[39msample_weight,\n\u001B[1;32m    662\u001B[0m )\n",
      "File \u001B[0;32m~/opt/miniconda3/envs/Kayak/lib/python3.10/site-packages/sklearn/base.py:584\u001B[0m, in \u001B[0;36mBaseEstimator._validate_data\u001B[0;34m(self, X, y, reset, validate_separately, **check_params)\u001B[0m\n\u001B[1;32m    582\u001B[0m         y \u001B[38;5;241m=\u001B[39m check_array(y, input_name\u001B[38;5;241m=\u001B[39m\u001B[38;5;124m\"\u001B[39m\u001B[38;5;124my\u001B[39m\u001B[38;5;124m\"\u001B[39m, \u001B[38;5;241m*\u001B[39m\u001B[38;5;241m*\u001B[39mcheck_y_params)\n\u001B[1;32m    583\u001B[0m     \u001B[38;5;28;01melse\u001B[39;00m:\n\u001B[0;32m--> 584\u001B[0m         X, y \u001B[38;5;241m=\u001B[39m \u001B[43mcheck_X_y\u001B[49m\u001B[43m(\u001B[49m\u001B[43mX\u001B[49m\u001B[43m,\u001B[49m\u001B[43m \u001B[49m\u001B[43my\u001B[49m\u001B[43m,\u001B[49m\u001B[43m \u001B[49m\u001B[38;5;241;43m*\u001B[39;49m\u001B[38;5;241;43m*\u001B[39;49m\u001B[43mcheck_params\u001B[49m\u001B[43m)\u001B[49m\n\u001B[1;32m    585\u001B[0m     out \u001B[38;5;241m=\u001B[39m X, y\n\u001B[1;32m    587\u001B[0m \u001B[38;5;28;01mif\u001B[39;00m \u001B[38;5;129;01mnot\u001B[39;00m no_val_X \u001B[38;5;129;01mand\u001B[39;00m check_params\u001B[38;5;241m.\u001B[39mget(\u001B[38;5;124m\"\u001B[39m\u001B[38;5;124mensure_2d\u001B[39m\u001B[38;5;124m\"\u001B[39m, \u001B[38;5;28;01mTrue\u001B[39;00m):\n",
      "File \u001B[0;32m~/opt/miniconda3/envs/Kayak/lib/python3.10/site-packages/sklearn/utils/validation.py:1106\u001B[0m, in \u001B[0;36mcheck_X_y\u001B[0;34m(X, y, accept_sparse, accept_large_sparse, dtype, order, copy, force_all_finite, ensure_2d, allow_nd, multi_output, ensure_min_samples, ensure_min_features, y_numeric, estimator)\u001B[0m\n\u001B[1;32m   1101\u001B[0m         estimator_name \u001B[38;5;241m=\u001B[39m _check_estimator_name(estimator)\n\u001B[1;32m   1102\u001B[0m     \u001B[38;5;28;01mraise\u001B[39;00m \u001B[38;5;167;01mValueError\u001B[39;00m(\n\u001B[1;32m   1103\u001B[0m         \u001B[38;5;124mf\u001B[39m\u001B[38;5;124m\"\u001B[39m\u001B[38;5;132;01m{\u001B[39;00mestimator_name\u001B[38;5;132;01m}\u001B[39;00m\u001B[38;5;124m requires y to be passed, but the target y is None\u001B[39m\u001B[38;5;124m\"\u001B[39m\n\u001B[1;32m   1104\u001B[0m     )\n\u001B[0;32m-> 1106\u001B[0m X \u001B[38;5;241m=\u001B[39m \u001B[43mcheck_array\u001B[49m\u001B[43m(\u001B[49m\n\u001B[1;32m   1107\u001B[0m \u001B[43m    \u001B[49m\u001B[43mX\u001B[49m\u001B[43m,\u001B[49m\n\u001B[1;32m   1108\u001B[0m \u001B[43m    \u001B[49m\u001B[43maccept_sparse\u001B[49m\u001B[38;5;241;43m=\u001B[39;49m\u001B[43maccept_sparse\u001B[49m\u001B[43m,\u001B[49m\n\u001B[1;32m   1109\u001B[0m \u001B[43m    \u001B[49m\u001B[43maccept_large_sparse\u001B[49m\u001B[38;5;241;43m=\u001B[39;49m\u001B[43maccept_large_sparse\u001B[49m\u001B[43m,\u001B[49m\n\u001B[1;32m   1110\u001B[0m \u001B[43m    \u001B[49m\u001B[43mdtype\u001B[49m\u001B[38;5;241;43m=\u001B[39;49m\u001B[43mdtype\u001B[49m\u001B[43m,\u001B[49m\n\u001B[1;32m   1111\u001B[0m \u001B[43m    \u001B[49m\u001B[43morder\u001B[49m\u001B[38;5;241;43m=\u001B[39;49m\u001B[43morder\u001B[49m\u001B[43m,\u001B[49m\n\u001B[1;32m   1112\u001B[0m \u001B[43m    \u001B[49m\u001B[43mcopy\u001B[49m\u001B[38;5;241;43m=\u001B[39;49m\u001B[43mcopy\u001B[49m\u001B[43m,\u001B[49m\n\u001B[1;32m   1113\u001B[0m \u001B[43m    \u001B[49m\u001B[43mforce_all_finite\u001B[49m\u001B[38;5;241;43m=\u001B[39;49m\u001B[43mforce_all_finite\u001B[49m\u001B[43m,\u001B[49m\n\u001B[1;32m   1114\u001B[0m \u001B[43m    \u001B[49m\u001B[43mensure_2d\u001B[49m\u001B[38;5;241;43m=\u001B[39;49m\u001B[43mensure_2d\u001B[49m\u001B[43m,\u001B[49m\n\u001B[1;32m   1115\u001B[0m \u001B[43m    \u001B[49m\u001B[43mallow_nd\u001B[49m\u001B[38;5;241;43m=\u001B[39;49m\u001B[43mallow_nd\u001B[49m\u001B[43m,\u001B[49m\n\u001B[1;32m   1116\u001B[0m \u001B[43m    \u001B[49m\u001B[43mensure_min_samples\u001B[49m\u001B[38;5;241;43m=\u001B[39;49m\u001B[43mensure_min_samples\u001B[49m\u001B[43m,\u001B[49m\n\u001B[1;32m   1117\u001B[0m \u001B[43m    \u001B[49m\u001B[43mensure_min_features\u001B[49m\u001B[38;5;241;43m=\u001B[39;49m\u001B[43mensure_min_features\u001B[49m\u001B[43m,\u001B[49m\n\u001B[1;32m   1118\u001B[0m \u001B[43m    \u001B[49m\u001B[43mestimator\u001B[49m\u001B[38;5;241;43m=\u001B[39;49m\u001B[43mestimator\u001B[49m\u001B[43m,\u001B[49m\n\u001B[1;32m   1119\u001B[0m \u001B[43m    \u001B[49m\u001B[43minput_name\u001B[49m\u001B[38;5;241;43m=\u001B[39;49m\u001B[38;5;124;43m\"\u001B[39;49m\u001B[38;5;124;43mX\u001B[39;49m\u001B[38;5;124;43m\"\u001B[39;49m\u001B[43m,\u001B[49m\n\u001B[1;32m   1120\u001B[0m \u001B[43m\u001B[49m\u001B[43m)\u001B[49m\n\u001B[1;32m   1122\u001B[0m y \u001B[38;5;241m=\u001B[39m _check_y(y, multi_output\u001B[38;5;241m=\u001B[39mmulti_output, y_numeric\u001B[38;5;241m=\u001B[39my_numeric, estimator\u001B[38;5;241m=\u001B[39mestimator)\n\u001B[1;32m   1124\u001B[0m check_consistent_length(X, y)\n",
      "File \u001B[0;32m~/opt/miniconda3/envs/Kayak/lib/python3.10/site-packages/sklearn/utils/validation.py:921\u001B[0m, in \u001B[0;36mcheck_array\u001B[0;34m(array, accept_sparse, accept_large_sparse, dtype, order, copy, force_all_finite, ensure_2d, allow_nd, ensure_min_samples, ensure_min_features, estimator, input_name)\u001B[0m\n\u001B[1;32m    915\u001B[0m         \u001B[38;5;28;01mraise\u001B[39;00m \u001B[38;5;167;01mValueError\u001B[39;00m(\n\u001B[1;32m    916\u001B[0m             \u001B[38;5;124m\"\u001B[39m\u001B[38;5;124mFound array with dim \u001B[39m\u001B[38;5;132;01m%d\u001B[39;00m\u001B[38;5;124m. \u001B[39m\u001B[38;5;132;01m%s\u001B[39;00m\u001B[38;5;124m expected <= 2.\u001B[39m\u001B[38;5;124m\"\u001B[39m\n\u001B[1;32m    917\u001B[0m             \u001B[38;5;241m%\u001B[39m (array\u001B[38;5;241m.\u001B[39mndim, estimator_name)\n\u001B[1;32m    918\u001B[0m         )\n\u001B[1;32m    920\u001B[0m     \u001B[38;5;28;01mif\u001B[39;00m force_all_finite:\n\u001B[0;32m--> 921\u001B[0m         \u001B[43m_assert_all_finite\u001B[49m\u001B[43m(\u001B[49m\n\u001B[1;32m    922\u001B[0m \u001B[43m            \u001B[49m\u001B[43marray\u001B[49m\u001B[43m,\u001B[49m\n\u001B[1;32m    923\u001B[0m \u001B[43m            \u001B[49m\u001B[43minput_name\u001B[49m\u001B[38;5;241;43m=\u001B[39;49m\u001B[43minput_name\u001B[49m\u001B[43m,\u001B[49m\n\u001B[1;32m    924\u001B[0m \u001B[43m            \u001B[49m\u001B[43mestimator_name\u001B[49m\u001B[38;5;241;43m=\u001B[39;49m\u001B[43mestimator_name\u001B[49m\u001B[43m,\u001B[49m\n\u001B[1;32m    925\u001B[0m \u001B[43m            \u001B[49m\u001B[43mallow_nan\u001B[49m\u001B[38;5;241;43m=\u001B[39;49m\u001B[43mforce_all_finite\u001B[49m\u001B[43m \u001B[49m\u001B[38;5;241;43m==\u001B[39;49m\u001B[43m \u001B[49m\u001B[38;5;124;43m\"\u001B[39;49m\u001B[38;5;124;43mallow-nan\u001B[39;49m\u001B[38;5;124;43m\"\u001B[39;49m\u001B[43m,\u001B[49m\n\u001B[1;32m    926\u001B[0m \u001B[43m        \u001B[49m\u001B[43m)\u001B[49m\n\u001B[1;32m    928\u001B[0m \u001B[38;5;28;01mif\u001B[39;00m ensure_min_samples \u001B[38;5;241m>\u001B[39m \u001B[38;5;241m0\u001B[39m:\n\u001B[1;32m    929\u001B[0m     n_samples \u001B[38;5;241m=\u001B[39m _num_samples(array)\n",
      "File \u001B[0;32m~/opt/miniconda3/envs/Kayak/lib/python3.10/site-packages/sklearn/utils/validation.py:161\u001B[0m, in \u001B[0;36m_assert_all_finite\u001B[0;34m(X, allow_nan, msg_dtype, estimator_name, input_name)\u001B[0m\n\u001B[1;32m    144\u001B[0m \u001B[38;5;28;01mif\u001B[39;00m estimator_name \u001B[38;5;129;01mand\u001B[39;00m input_name \u001B[38;5;241m==\u001B[39m \u001B[38;5;124m\"\u001B[39m\u001B[38;5;124mX\u001B[39m\u001B[38;5;124m\"\u001B[39m \u001B[38;5;129;01mand\u001B[39;00m has_nan_error:\n\u001B[1;32m    145\u001B[0m     \u001B[38;5;66;03m# Improve the error message on how to handle missing values in\u001B[39;00m\n\u001B[1;32m    146\u001B[0m     \u001B[38;5;66;03m# scikit-learn.\u001B[39;00m\n\u001B[1;32m    147\u001B[0m     msg_err \u001B[38;5;241m+\u001B[39m\u001B[38;5;241m=\u001B[39m (\n\u001B[1;32m    148\u001B[0m         \u001B[38;5;124mf\u001B[39m\u001B[38;5;124m\"\u001B[39m\u001B[38;5;130;01m\\n\u001B[39;00m\u001B[38;5;132;01m{\u001B[39;00mestimator_name\u001B[38;5;132;01m}\u001B[39;00m\u001B[38;5;124m does not accept missing values\u001B[39m\u001B[38;5;124m\"\u001B[39m\n\u001B[1;32m    149\u001B[0m         \u001B[38;5;124m\"\u001B[39m\u001B[38;5;124m encoded as NaN natively. For supervised learning, you might want\u001B[39m\u001B[38;5;124m\"\u001B[39m\n\u001B[0;32m   (...)\u001B[0m\n\u001B[1;32m    159\u001B[0m         \u001B[38;5;124m\"\u001B[39m\u001B[38;5;124m#estimators-that-handle-nan-values\u001B[39m\u001B[38;5;124m\"\u001B[39m\n\u001B[1;32m    160\u001B[0m     )\n\u001B[0;32m--> 161\u001B[0m \u001B[38;5;28;01mraise\u001B[39;00m \u001B[38;5;167;01mValueError\u001B[39;00m(msg_err)\n",
      "\u001B[0;31mValueError\u001B[0m: Input X contains NaN.\nLinearRegression does not accept missing values encoded as NaN natively. For supervised learning, you might want to consider sklearn.ensemble.HistGradientBoostingClassifier and Regressor which accept missing values encoded as NaNs natively. Alternatively, it is possible to preprocess the data, for instance by using an imputer transformer in a pipeline or drop samples with missing values. See https://scikit-learn.org/stable/modules/impute.html You can find a list of all estimators that handle NaN values at the following page: https://scikit-learn.org/stable/modules/impute.html#estimators-that-handle-nan-values"
     ]
    }
   ],
   "source": [
    "linreg = LinReg(train_data, test_data, label)"
   ],
   "metadata": {
    "collapsed": false,
    "ExecuteTime": {
     "start_time": "2023-07-06T15:37:16.448277Z",
     "end_time": "2023-07-06T15:37:16.461632Z"
    }
   }
  },
  {
   "cell_type": "code",
   "execution_count": null,
   "outputs": [],
   "source": [],
   "metadata": {
    "collapsed": false,
    "ExecuteTime": {
     "start_time": "2023-07-06T16:55:21.427985Z",
     "end_time": "2023-07-06T16:55:21.438130Z"
    }
   }
  },
  {
   "cell_type": "code",
   "execution_count": null,
   "outputs": [],
   "source": [],
   "metadata": {
    "collapsed": false,
    "ExecuteTime": {
     "start_time": "2023-07-06T15:38:10.070735Z",
     "end_time": "2023-07-06T15:38:10.083660Z"
    }
   }
  },
  {
   "cell_type": "code",
   "execution_count": null,
   "outputs": [],
   "source": [],
   "metadata": {
    "collapsed": false,
    "ExecuteTime": {
     "start_time": "2023-07-06T15:38:10.589271Z",
     "end_time": "2023-07-06T15:38:10.598372Z"
    }
   }
  },
  {
   "cell_type": "code",
   "execution_count": null,
   "outputs": [],
   "source": [],
   "metadata": {
    "collapsed": false
   }
  },
  {
   "cell_type": "code",
   "execution_count": null,
   "outputs": [],
   "source": [],
   "metadata": {
    "collapsed": false
   }
  },
  {
   "cell_type": "code",
   "execution_count": null,
   "outputs": [],
   "source": [],
   "metadata": {
    "collapsed": false
   }
  },
  {
   "cell_type": "code",
   "execution_count": null,
   "outputs": [],
   "source": [],
   "metadata": {
    "collapsed": false
   }
  },
  {
   "cell_type": "markdown",
   "source": [
    "# weather data"
   ],
   "metadata": {
    "collapsed": false
   }
  },
  {
   "cell_type": "code",
   "execution_count": 9,
   "outputs": [],
   "source": [
    "from meteostat import Stations, Daily"
   ],
   "metadata": {
    "collapsed": false,
    "ExecuteTime": {
     "start_time": "2023-07-11T13:24:30.873254Z",
     "end_time": "2023-07-11T13:24:30.916793Z"
    }
   }
  },
  {
   "cell_type": "code",
   "execution_count": 10,
   "outputs": [],
   "source": [
    "stations = pd.read_csv('StormVistaData/station_df.csv')"
   ],
   "metadata": {
    "collapsed": false,
    "ExecuteTime": {
     "start_time": "2023-07-11T13:24:31.245093Z",
     "end_time": "2023-07-11T13:24:31.265856Z"
    }
   }
  },
  {
   "cell_type": "code",
   "execution_count": 11,
   "outputs": [],
   "source": [
    "stations.rename(columns={'Unnamed: 0': 'id'}, inplace=True)"
   ],
   "metadata": {
    "collapsed": false,
    "ExecuteTime": {
     "start_time": "2023-07-11T13:24:31.412080Z",
     "end_time": "2023-07-11T13:24:31.427973Z"
    }
   }
  },
  {
   "cell_type": "code",
   "execution_count": 12,
   "outputs": [],
   "source": [
    "station_ids = stations['id'].tolist()"
   ],
   "metadata": {
    "collapsed": false,
    "ExecuteTime": {
     "start_time": "2023-07-11T13:24:31.561147Z",
     "end_time": "2023-07-11T13:24:31.577128Z"
    }
   }
  },
  {
   "cell_type": "code",
   "execution_count": 13,
   "outputs": [],
   "source": [
    "start = datetime(2018, 7, 11)\n",
    "end = datetime(2023, 6, 16)"
   ],
   "metadata": {
    "collapsed": false,
    "ExecuteTime": {
     "start_time": "2023-07-11T13:24:31.714031Z",
     "end_time": "2023-07-11T13:24:31.727508Z"
    }
   }
  },
  {
   "cell_type": "code",
   "execution_count": 13,
   "outputs": [],
   "source": [],
   "metadata": {
    "collapsed": false,
    "ExecuteTime": {
     "start_time": "2023-07-11T13:24:31.887209Z",
     "end_time": "2023-07-11T13:24:31.903076Z"
    }
   }
  },
  {
   "cell_type": "code",
   "execution_count": 13,
   "outputs": [],
   "source": [],
   "metadata": {
    "collapsed": false,
    "ExecuteTime": {
     "start_time": "2023-07-11T13:24:32.137423Z",
     "end_time": "2023-07-11T13:24:32.157894Z"
    }
   }
  },
  {
   "cell_type": "code",
   "execution_count": 13,
   "outputs": [],
   "source": [],
   "metadata": {
    "collapsed": false,
    "ExecuteTime": {
     "start_time": "2023-07-11T13:24:32.334981Z",
     "end_time": "2023-07-11T13:24:32.348457Z"
    }
   }
  },
  {
   "cell_type": "code",
   "execution_count": 14,
   "outputs": [
    {
     "name": "stderr",
     "output_type": "stream",
     "text": [
      "100%|██████████| 266/266 [00:02<00:00, 115.24it/s]\n"
     ]
    }
   ],
   "source": [
    "# Get daily data\n",
    "weather_df = pd.DataFrame()\n",
    "\n",
    "for i in tqdm(station_ids[:266]):\n",
    "    data = Daily(i, start, end)\n",
    "    data = data.fetch()\n",
    "    data = data[['tavg', 'tmin', 'tmax', 'prcp', 'pres','tsun']]\n",
    "    data = data.diff(-14)\n",
    "    data = data.add_suffix(f'_{i}')\n",
    "    weather_df = pd.concat([weather_df, data], axis=1)"
   ],
   "metadata": {
    "collapsed": false,
    "ExecuteTime": {
     "start_time": "2023-07-11T13:24:32.731036Z",
     "end_time": "2023-07-11T13:24:35.061608Z"
    }
   }
  },
  {
   "cell_type": "code",
   "execution_count": 15,
   "outputs": [
    {
     "data": {
      "text/plain": "            tavg_72529  tmin_72529  tmax_72529  prcp_72529  pres_72529  \\\ntime                                                                     \n2018-07-11        -0.5        -6.1        -1.1       -26.2         NaN   \n2018-07-12        -2.8        -5.5        -0.5         0.0         NaN   \n2018-07-13         1.3         0.0         4.4         0.0         NaN   \n2018-07-14         5.4         5.0         7.8         0.0         NaN   \n2018-07-15         5.3         5.6         5.6         0.0         NaN   \n...                ...         ...         ...         ...         ...   \n2023-06-12         NaN         NaN         NaN         NaN         NaN   \n2023-06-13         NaN         NaN         NaN         NaN         NaN   \n2023-06-14         NaN         NaN         NaN         NaN         NaN   \n2023-06-15         NaN         NaN         NaN         NaN         NaN   \n2023-06-16         NaN         NaN         NaN         NaN         NaN   \n\n            snow_72529  tavg_TMT7J  tmin_TMT7J  tmax_TMT7J  prcp_TMT7J  ...  \\\ntime                                                                    ...   \n2018-07-11         0.0         NaN         NaN         NaN         NaN  ...   \n2018-07-12         0.0         NaN         NaN         NaN         NaN  ...   \n2018-07-13         0.0         NaN         NaN         NaN         NaN  ...   \n2018-07-14         0.0         NaN         NaN         NaN         NaN  ...   \n2018-07-15         0.0         NaN         NaN         NaN         NaN  ...   \n...                ...         ...         ...         ...         ...  ...   \n2023-06-12         NaN         NaN         NaN         NaN         NaN  ...   \n2023-06-13         NaN         NaN         NaN         NaN         NaN  ...   \n2023-06-14         NaN         NaN         NaN         NaN         NaN  ...   \n2023-06-15         NaN         NaN         NaN         NaN         NaN  ...   \n2023-06-16         NaN         NaN         NaN         NaN         NaN  ...   \n\n            tmax_72405  prcp_72405  pres_72405  snow_72405  tavg_72514  \\\ntime                                                                     \n2018-07-11         4.4       -17.0         0.7         0.0         0.0   \n2018-07-12         1.6         0.0         7.3         0.0        -2.8   \n2018-07-13        -1.1         0.0         8.1         0.0        -0.3   \n2018-07-14         2.2         0.0         4.3         0.0         1.1   \n2018-07-15         0.5         0.0        -2.5         0.0         4.5   \n...                ...         ...         ...         ...         ...   \n2023-06-12         NaN         NaN         NaN         NaN         NaN   \n2023-06-13         NaN         NaN         NaN         NaN         NaN   \n2023-06-14         NaN         NaN         NaN         NaN         NaN   \n2023-06-15         NaN         NaN         NaN         NaN         NaN   \n2023-06-16         NaN         NaN         NaN         NaN         NaN   \n\n            tmin_72514  tmax_72514  prcp_72514  pres_72514  snow_72514  \ntime                                                                    \n2018-07-11        -4.5         5.0       -19.3         3.8         0.0  \n2018-07-12        -7.8        -0.6         0.0        10.3         0.0  \n2018-07-13        -5.0         3.9        -0.5         8.1         0.0  \n2018-07-14         0.6         3.3         0.0         3.0         0.0  \n2018-07-15         7.2         3.9        12.2        -3.9         0.0  \n...                ...         ...         ...         ...         ...  \n2023-06-12         NaN         NaN         NaN         NaN         NaN  \n2023-06-13         NaN         NaN         NaN         NaN         NaN  \n2023-06-14         NaN         NaN         NaN         NaN         NaN  \n2023-06-15         NaN         NaN         NaN         NaN         NaN  \n2023-06-16         NaN         NaN         NaN         NaN         NaN  \n\n[1802 rows x 1596 columns]",
      "text/html": "<div>\n<style scoped>\n    .dataframe tbody tr th:only-of-type {\n        vertical-align: middle;\n    }\n\n    .dataframe tbody tr th {\n        vertical-align: top;\n    }\n\n    .dataframe thead th {\n        text-align: right;\n    }\n</style>\n<table border=\"1\" class=\"dataframe\">\n  <thead>\n    <tr style=\"text-align: right;\">\n      <th></th>\n      <th>tavg_72529</th>\n      <th>tmin_72529</th>\n      <th>tmax_72529</th>\n      <th>prcp_72529</th>\n      <th>pres_72529</th>\n      <th>snow_72529</th>\n      <th>tavg_TMT7J</th>\n      <th>tmin_TMT7J</th>\n      <th>tmax_TMT7J</th>\n      <th>prcp_TMT7J</th>\n      <th>...</th>\n      <th>tmax_72405</th>\n      <th>prcp_72405</th>\n      <th>pres_72405</th>\n      <th>snow_72405</th>\n      <th>tavg_72514</th>\n      <th>tmin_72514</th>\n      <th>tmax_72514</th>\n      <th>prcp_72514</th>\n      <th>pres_72514</th>\n      <th>snow_72514</th>\n    </tr>\n    <tr>\n      <th>time</th>\n      <th></th>\n      <th></th>\n      <th></th>\n      <th></th>\n      <th></th>\n      <th></th>\n      <th></th>\n      <th></th>\n      <th></th>\n      <th></th>\n      <th></th>\n      <th></th>\n      <th></th>\n      <th></th>\n      <th></th>\n      <th></th>\n      <th></th>\n      <th></th>\n      <th></th>\n      <th></th>\n      <th></th>\n    </tr>\n  </thead>\n  <tbody>\n    <tr>\n      <th>2018-07-11</th>\n      <td>-0.5</td>\n      <td>-6.1</td>\n      <td>-1.1</td>\n      <td>-26.2</td>\n      <td>NaN</td>\n      <td>0.0</td>\n      <td>NaN</td>\n      <td>NaN</td>\n      <td>NaN</td>\n      <td>NaN</td>\n      <td>...</td>\n      <td>4.4</td>\n      <td>-17.0</td>\n      <td>0.7</td>\n      <td>0.0</td>\n      <td>0.0</td>\n      <td>-4.5</td>\n      <td>5.0</td>\n      <td>-19.3</td>\n      <td>3.8</td>\n      <td>0.0</td>\n    </tr>\n    <tr>\n      <th>2018-07-12</th>\n      <td>-2.8</td>\n      <td>-5.5</td>\n      <td>-0.5</td>\n      <td>0.0</td>\n      <td>NaN</td>\n      <td>0.0</td>\n      <td>NaN</td>\n      <td>NaN</td>\n      <td>NaN</td>\n      <td>NaN</td>\n      <td>...</td>\n      <td>1.6</td>\n      <td>0.0</td>\n      <td>7.3</td>\n      <td>0.0</td>\n      <td>-2.8</td>\n      <td>-7.8</td>\n      <td>-0.6</td>\n      <td>0.0</td>\n      <td>10.3</td>\n      <td>0.0</td>\n    </tr>\n    <tr>\n      <th>2018-07-13</th>\n      <td>1.3</td>\n      <td>0.0</td>\n      <td>4.4</td>\n      <td>0.0</td>\n      <td>NaN</td>\n      <td>0.0</td>\n      <td>NaN</td>\n      <td>NaN</td>\n      <td>NaN</td>\n      <td>NaN</td>\n      <td>...</td>\n      <td>-1.1</td>\n      <td>0.0</td>\n      <td>8.1</td>\n      <td>0.0</td>\n      <td>-0.3</td>\n      <td>-5.0</td>\n      <td>3.9</td>\n      <td>-0.5</td>\n      <td>8.1</td>\n      <td>0.0</td>\n    </tr>\n    <tr>\n      <th>2018-07-14</th>\n      <td>5.4</td>\n      <td>5.0</td>\n      <td>7.8</td>\n      <td>0.0</td>\n      <td>NaN</td>\n      <td>0.0</td>\n      <td>NaN</td>\n      <td>NaN</td>\n      <td>NaN</td>\n      <td>NaN</td>\n      <td>...</td>\n      <td>2.2</td>\n      <td>0.0</td>\n      <td>4.3</td>\n      <td>0.0</td>\n      <td>1.1</td>\n      <td>0.6</td>\n      <td>3.3</td>\n      <td>0.0</td>\n      <td>3.0</td>\n      <td>0.0</td>\n    </tr>\n    <tr>\n      <th>2018-07-15</th>\n      <td>5.3</td>\n      <td>5.6</td>\n      <td>5.6</td>\n      <td>0.0</td>\n      <td>NaN</td>\n      <td>0.0</td>\n      <td>NaN</td>\n      <td>NaN</td>\n      <td>NaN</td>\n      <td>NaN</td>\n      <td>...</td>\n      <td>0.5</td>\n      <td>0.0</td>\n      <td>-2.5</td>\n      <td>0.0</td>\n      <td>4.5</td>\n      <td>7.2</td>\n      <td>3.9</td>\n      <td>12.2</td>\n      <td>-3.9</td>\n      <td>0.0</td>\n    </tr>\n    <tr>\n      <th>...</th>\n      <td>...</td>\n      <td>...</td>\n      <td>...</td>\n      <td>...</td>\n      <td>...</td>\n      <td>...</td>\n      <td>...</td>\n      <td>...</td>\n      <td>...</td>\n      <td>...</td>\n      <td>...</td>\n      <td>...</td>\n      <td>...</td>\n      <td>...</td>\n      <td>...</td>\n      <td>...</td>\n      <td>...</td>\n      <td>...</td>\n      <td>...</td>\n      <td>...</td>\n      <td>...</td>\n    </tr>\n    <tr>\n      <th>2023-06-12</th>\n      <td>NaN</td>\n      <td>NaN</td>\n      <td>NaN</td>\n      <td>NaN</td>\n      <td>NaN</td>\n      <td>NaN</td>\n      <td>NaN</td>\n      <td>NaN</td>\n      <td>NaN</td>\n      <td>NaN</td>\n      <td>...</td>\n      <td>NaN</td>\n      <td>NaN</td>\n      <td>NaN</td>\n      <td>NaN</td>\n      <td>NaN</td>\n      <td>NaN</td>\n      <td>NaN</td>\n      <td>NaN</td>\n      <td>NaN</td>\n      <td>NaN</td>\n    </tr>\n    <tr>\n      <th>2023-06-13</th>\n      <td>NaN</td>\n      <td>NaN</td>\n      <td>NaN</td>\n      <td>NaN</td>\n      <td>NaN</td>\n      <td>NaN</td>\n      <td>NaN</td>\n      <td>NaN</td>\n      <td>NaN</td>\n      <td>NaN</td>\n      <td>...</td>\n      <td>NaN</td>\n      <td>NaN</td>\n      <td>NaN</td>\n      <td>NaN</td>\n      <td>NaN</td>\n      <td>NaN</td>\n      <td>NaN</td>\n      <td>NaN</td>\n      <td>NaN</td>\n      <td>NaN</td>\n    </tr>\n    <tr>\n      <th>2023-06-14</th>\n      <td>NaN</td>\n      <td>NaN</td>\n      <td>NaN</td>\n      <td>NaN</td>\n      <td>NaN</td>\n      <td>NaN</td>\n      <td>NaN</td>\n      <td>NaN</td>\n      <td>NaN</td>\n      <td>NaN</td>\n      <td>...</td>\n      <td>NaN</td>\n      <td>NaN</td>\n      <td>NaN</td>\n      <td>NaN</td>\n      <td>NaN</td>\n      <td>NaN</td>\n      <td>NaN</td>\n      <td>NaN</td>\n      <td>NaN</td>\n      <td>NaN</td>\n    </tr>\n    <tr>\n      <th>2023-06-15</th>\n      <td>NaN</td>\n      <td>NaN</td>\n      <td>NaN</td>\n      <td>NaN</td>\n      <td>NaN</td>\n      <td>NaN</td>\n      <td>NaN</td>\n      <td>NaN</td>\n      <td>NaN</td>\n      <td>NaN</td>\n      <td>...</td>\n      <td>NaN</td>\n      <td>NaN</td>\n      <td>NaN</td>\n      <td>NaN</td>\n      <td>NaN</td>\n      <td>NaN</td>\n      <td>NaN</td>\n      <td>NaN</td>\n      <td>NaN</td>\n      <td>NaN</td>\n    </tr>\n    <tr>\n      <th>2023-06-16</th>\n      <td>NaN</td>\n      <td>NaN</td>\n      <td>NaN</td>\n      <td>NaN</td>\n      <td>NaN</td>\n      <td>NaN</td>\n      <td>NaN</td>\n      <td>NaN</td>\n      <td>NaN</td>\n      <td>NaN</td>\n      <td>...</td>\n      <td>NaN</td>\n      <td>NaN</td>\n      <td>NaN</td>\n      <td>NaN</td>\n      <td>NaN</td>\n      <td>NaN</td>\n      <td>NaN</td>\n      <td>NaN</td>\n      <td>NaN</td>\n      <td>NaN</td>\n    </tr>\n  </tbody>\n</table>\n<p>1802 rows × 1596 columns</p>\n</div>"
     },
     "metadata": {},
     "output_type": "display_data"
    }
   ],
   "source": [
    "display(weather_df)"
   ],
   "metadata": {
    "collapsed": false,
    "ExecuteTime": {
     "start_time": "2023-07-11T13:24:35.066294Z",
     "end_time": "2023-07-11T13:24:35.090475Z"
    }
   }
  },
  {
   "cell_type": "code",
   "execution_count": 16,
   "outputs": [
    {
     "name": "stderr",
     "output_type": "stream",
     "text": [
      "PerformanceWarning: DataFrame is highly fragmented.  This is usually the result of calling `frame.insert` many times, which has poor performance.  Consider joining all columns at once using pd.concat(axis=1) instead. To get a de-fragmented frame, use `newframe = frame.copy()`\n",
      "PerformanceWarning: DataFrame is highly fragmented.  This is usually the result of calling `frame.insert` many times, which has poor performance.  Consider joining all columns at once using pd.concat(axis=1) instead. To get a de-fragmented frame, use `newframe = frame.copy()`\n"
     ]
    }
   ],
   "source": [
    "weather_df.reset_index(inplace=True)\n",
    "weather_df['Date'] = pd.to_datetime(weather_df['time']).dt.strftime('%Y-%m-%d 12:00:00')\n",
    "weather_df.drop(columns=['time'], inplace=True)\n",
    "weather_df.set_index('Date', inplace=True)\n",
    "weather_df.rename_axis('', inplace=True)\n",
    "weather_df.index = pd.to_datetime(weather_df.index)"
   ],
   "metadata": {
    "collapsed": false,
    "ExecuteTime": {
     "start_time": "2023-07-11T13:24:35.084697Z",
     "end_time": "2023-07-11T13:24:35.169909Z"
    }
   }
  },
  {
   "cell_type": "code",
   "execution_count": 17,
   "outputs": [],
   "source": [
    "common_dates = master_data.index.intersection(weather_df.index)\n",
    "master_data = pd.concat([master_data.loc[common_dates], weather_df.loc[common_dates]], axis=1)"
   ],
   "metadata": {
    "collapsed": false,
    "ExecuteTime": {
     "start_time": "2023-07-11T13:24:35.268266Z",
     "end_time": "2023-07-11T13:24:35.284933Z"
    }
   }
  },
  {
   "cell_type": "markdown",
   "source": [
    "# ------------------"
   ],
   "metadata": {
    "collapsed": false
   }
  },
  {
   "cell_type": "code",
   "execution_count": 19,
   "outputs": [
    {
     "data": {
      "text/plain": "                     ens(8)  ecmwf(9)  gfs(10,14)  cmc(9,14)  ens(9,14)  \\\n2018-07-11 12:00:00   0.003     0.024       0.039     -0.040      0.004   \n2018-07-12 12:00:00  -0.002     0.005       0.046     -0.053      0.001   \n2018-07-13 12:00:00   0.000     0.003       0.037     -0.048      0.001   \n2018-07-14 12:00:00  -0.001    -0.001       0.046     -0.053      0.000   \n2018-07-15 12:00:00   0.000     0.006       0.034     -0.039      0.012   \n...                     ...       ...         ...        ...        ...   \n2023-05-12 12:00:00  -1.098    -1.852       0.549     -2.337      0.378   \n2023-05-13 12:00:00  -0.563    -0.920       1.340      0.595     -0.801   \n2023-05-14 12:00:00   0.210    -0.419       1.168     -2.417      0.524   \n2023-05-15 12:00:00  -0.080     1.089       1.291     -2.618      1.045   \n2023-05-16 12:00:00  -0.264    -0.769      -0.019     -1.419     -0.083   \n\n                     tavg_72529  tmin_72529  tmax_72529  prcp_72529  \\\n2018-07-11 12:00:00        -0.5        -6.1        -1.1       -26.2   \n2018-07-12 12:00:00        -2.8        -5.5        -0.5         0.0   \n2018-07-13 12:00:00         1.3         0.0         4.4         0.0   \n2018-07-14 12:00:00         5.4         5.0         7.8         0.0   \n2018-07-15 12:00:00         5.3         5.6         5.6         0.0   \n...                         ...         ...         ...         ...   \n2023-05-12 12:00:00         7.7         8.3         7.8         0.0   \n2023-05-13 12:00:00         4.2         5.5        -1.7         0.0   \n2023-05-14 12:00:00        -4.6        -1.6       -10.5         0.0   \n2023-05-15 12:00:00        -5.9        -6.1        -5.0         0.0   \n2023-05-16 12:00:00        -4.6        -3.9        -5.5         0.0   \n\n                     pres_72529  ...  tmax_72405  prcp_72405  pres_72405  \\\n2018-07-11 12:00:00         NaN  ...         4.4       -17.0         0.7   \n2018-07-12 12:00:00         NaN  ...         1.6         0.0         7.3   \n2018-07-13 12:00:00         NaN  ...        -1.1         0.0         8.1   \n2018-07-14 12:00:00         NaN  ...         2.2         0.0         4.3   \n2018-07-15 12:00:00         NaN  ...         0.5         0.0        -2.5   \n...                         ...  ...         ...         ...         ...   \n2023-05-12 12:00:00        -9.2  ...         5.0         0.0        -5.5   \n2023-05-13 12:00:00        -6.1  ...        -1.2         3.3        -7.4   \n2023-05-14 12:00:00         7.3  ...         2.8        -0.3         2.6   \n2023-05-15 12:00:00         5.5  ...        -1.1       -21.8         8.4   \n2023-05-16 12:00:00       -12.1  ...         1.7        -1.0       -10.6   \n\n                     snow_72405  tavg_72514  tmin_72514  tmax_72514  \\\n2018-07-11 12:00:00         0.0         0.0        -4.5         5.0   \n2018-07-12 12:00:00         0.0        -2.8        -7.8        -0.6   \n2018-07-13 12:00:00         0.0        -0.3        -5.0         3.9   \n2018-07-14 12:00:00         0.0         1.1         0.6         3.3   \n2018-07-15 12:00:00         0.0         4.5         7.2         3.9   \n...                         ...         ...         ...         ...   \n2023-05-12 12:00:00         0.0         5.0         5.0         6.1   \n2023-05-13 12:00:00         0.0         4.7         6.1         0.6   \n2023-05-14 12:00:00         0.0        -2.7        -1.1        -6.1   \n2023-05-15 12:00:00         0.0        -6.9        -7.8        -7.8   \n2023-05-16 12:00:00         0.0        -5.8        -8.4        -1.1   \n\n                     prcp_72514  pres_72514  snow_72514  \n2018-07-11 12:00:00       -19.3         3.8         0.0  \n2018-07-12 12:00:00         0.0        10.3         0.0  \n2018-07-13 12:00:00        -0.5         8.1         0.0  \n2018-07-14 12:00:00         0.0         3.0         0.0  \n2018-07-15 12:00:00        12.2        -3.9         0.0  \n...                         ...         ...         ...  \n2023-05-12 12:00:00         0.0        -7.2         0.0  \n2023-05-13 12:00:00         0.0        -7.5         0.0  \n2023-05-14 12:00:00         0.0         4.8         0.0  \n2023-05-15 12:00:00         0.0         7.3         0.0  \n2023-05-16 12:00:00         0.0       -12.6         0.0  \n\n[1749 rows x 1601 columns]",
      "text/html": "<div>\n<style scoped>\n    .dataframe tbody tr th:only-of-type {\n        vertical-align: middle;\n    }\n\n    .dataframe tbody tr th {\n        vertical-align: top;\n    }\n\n    .dataframe thead th {\n        text-align: right;\n    }\n</style>\n<table border=\"1\" class=\"dataframe\">\n  <thead>\n    <tr style=\"text-align: right;\">\n      <th></th>\n      <th>ens(8)</th>\n      <th>ecmwf(9)</th>\n      <th>gfs(10,14)</th>\n      <th>cmc(9,14)</th>\n      <th>ens(9,14)</th>\n      <th>tavg_72529</th>\n      <th>tmin_72529</th>\n      <th>tmax_72529</th>\n      <th>prcp_72529</th>\n      <th>pres_72529</th>\n      <th>...</th>\n      <th>tmax_72405</th>\n      <th>prcp_72405</th>\n      <th>pres_72405</th>\n      <th>snow_72405</th>\n      <th>tavg_72514</th>\n      <th>tmin_72514</th>\n      <th>tmax_72514</th>\n      <th>prcp_72514</th>\n      <th>pres_72514</th>\n      <th>snow_72514</th>\n    </tr>\n  </thead>\n  <tbody>\n    <tr>\n      <th>2018-07-11 12:00:00</th>\n      <td>0.003</td>\n      <td>0.024</td>\n      <td>0.039</td>\n      <td>-0.040</td>\n      <td>0.004</td>\n      <td>-0.5</td>\n      <td>-6.1</td>\n      <td>-1.1</td>\n      <td>-26.2</td>\n      <td>NaN</td>\n      <td>...</td>\n      <td>4.4</td>\n      <td>-17.0</td>\n      <td>0.7</td>\n      <td>0.0</td>\n      <td>0.0</td>\n      <td>-4.5</td>\n      <td>5.0</td>\n      <td>-19.3</td>\n      <td>3.8</td>\n      <td>0.0</td>\n    </tr>\n    <tr>\n      <th>2018-07-12 12:00:00</th>\n      <td>-0.002</td>\n      <td>0.005</td>\n      <td>0.046</td>\n      <td>-0.053</td>\n      <td>0.001</td>\n      <td>-2.8</td>\n      <td>-5.5</td>\n      <td>-0.5</td>\n      <td>0.0</td>\n      <td>NaN</td>\n      <td>...</td>\n      <td>1.6</td>\n      <td>0.0</td>\n      <td>7.3</td>\n      <td>0.0</td>\n      <td>-2.8</td>\n      <td>-7.8</td>\n      <td>-0.6</td>\n      <td>0.0</td>\n      <td>10.3</td>\n      <td>0.0</td>\n    </tr>\n    <tr>\n      <th>2018-07-13 12:00:00</th>\n      <td>0.000</td>\n      <td>0.003</td>\n      <td>0.037</td>\n      <td>-0.048</td>\n      <td>0.001</td>\n      <td>1.3</td>\n      <td>0.0</td>\n      <td>4.4</td>\n      <td>0.0</td>\n      <td>NaN</td>\n      <td>...</td>\n      <td>-1.1</td>\n      <td>0.0</td>\n      <td>8.1</td>\n      <td>0.0</td>\n      <td>-0.3</td>\n      <td>-5.0</td>\n      <td>3.9</td>\n      <td>-0.5</td>\n      <td>8.1</td>\n      <td>0.0</td>\n    </tr>\n    <tr>\n      <th>2018-07-14 12:00:00</th>\n      <td>-0.001</td>\n      <td>-0.001</td>\n      <td>0.046</td>\n      <td>-0.053</td>\n      <td>0.000</td>\n      <td>5.4</td>\n      <td>5.0</td>\n      <td>7.8</td>\n      <td>0.0</td>\n      <td>NaN</td>\n      <td>...</td>\n      <td>2.2</td>\n      <td>0.0</td>\n      <td>4.3</td>\n      <td>0.0</td>\n      <td>1.1</td>\n      <td>0.6</td>\n      <td>3.3</td>\n      <td>0.0</td>\n      <td>3.0</td>\n      <td>0.0</td>\n    </tr>\n    <tr>\n      <th>2018-07-15 12:00:00</th>\n      <td>0.000</td>\n      <td>0.006</td>\n      <td>0.034</td>\n      <td>-0.039</td>\n      <td>0.012</td>\n      <td>5.3</td>\n      <td>5.6</td>\n      <td>5.6</td>\n      <td>0.0</td>\n      <td>NaN</td>\n      <td>...</td>\n      <td>0.5</td>\n      <td>0.0</td>\n      <td>-2.5</td>\n      <td>0.0</td>\n      <td>4.5</td>\n      <td>7.2</td>\n      <td>3.9</td>\n      <td>12.2</td>\n      <td>-3.9</td>\n      <td>0.0</td>\n    </tr>\n    <tr>\n      <th>...</th>\n      <td>...</td>\n      <td>...</td>\n      <td>...</td>\n      <td>...</td>\n      <td>...</td>\n      <td>...</td>\n      <td>...</td>\n      <td>...</td>\n      <td>...</td>\n      <td>...</td>\n      <td>...</td>\n      <td>...</td>\n      <td>...</td>\n      <td>...</td>\n      <td>...</td>\n      <td>...</td>\n      <td>...</td>\n      <td>...</td>\n      <td>...</td>\n      <td>...</td>\n      <td>...</td>\n    </tr>\n    <tr>\n      <th>2023-05-12 12:00:00</th>\n      <td>-1.098</td>\n      <td>-1.852</td>\n      <td>0.549</td>\n      <td>-2.337</td>\n      <td>0.378</td>\n      <td>7.7</td>\n      <td>8.3</td>\n      <td>7.8</td>\n      <td>0.0</td>\n      <td>-9.2</td>\n      <td>...</td>\n      <td>5.0</td>\n      <td>0.0</td>\n      <td>-5.5</td>\n      <td>0.0</td>\n      <td>5.0</td>\n      <td>5.0</td>\n      <td>6.1</td>\n      <td>0.0</td>\n      <td>-7.2</td>\n      <td>0.0</td>\n    </tr>\n    <tr>\n      <th>2023-05-13 12:00:00</th>\n      <td>-0.563</td>\n      <td>-0.920</td>\n      <td>1.340</td>\n      <td>0.595</td>\n      <td>-0.801</td>\n      <td>4.2</td>\n      <td>5.5</td>\n      <td>-1.7</td>\n      <td>0.0</td>\n      <td>-6.1</td>\n      <td>...</td>\n      <td>-1.2</td>\n      <td>3.3</td>\n      <td>-7.4</td>\n      <td>0.0</td>\n      <td>4.7</td>\n      <td>6.1</td>\n      <td>0.6</td>\n      <td>0.0</td>\n      <td>-7.5</td>\n      <td>0.0</td>\n    </tr>\n    <tr>\n      <th>2023-05-14 12:00:00</th>\n      <td>0.210</td>\n      <td>-0.419</td>\n      <td>1.168</td>\n      <td>-2.417</td>\n      <td>0.524</td>\n      <td>-4.6</td>\n      <td>-1.6</td>\n      <td>-10.5</td>\n      <td>0.0</td>\n      <td>7.3</td>\n      <td>...</td>\n      <td>2.8</td>\n      <td>-0.3</td>\n      <td>2.6</td>\n      <td>0.0</td>\n      <td>-2.7</td>\n      <td>-1.1</td>\n      <td>-6.1</td>\n      <td>0.0</td>\n      <td>4.8</td>\n      <td>0.0</td>\n    </tr>\n    <tr>\n      <th>2023-05-15 12:00:00</th>\n      <td>-0.080</td>\n      <td>1.089</td>\n      <td>1.291</td>\n      <td>-2.618</td>\n      <td>1.045</td>\n      <td>-5.9</td>\n      <td>-6.1</td>\n      <td>-5.0</td>\n      <td>0.0</td>\n      <td>5.5</td>\n      <td>...</td>\n      <td>-1.1</td>\n      <td>-21.8</td>\n      <td>8.4</td>\n      <td>0.0</td>\n      <td>-6.9</td>\n      <td>-7.8</td>\n      <td>-7.8</td>\n      <td>0.0</td>\n      <td>7.3</td>\n      <td>0.0</td>\n    </tr>\n    <tr>\n      <th>2023-05-16 12:00:00</th>\n      <td>-0.264</td>\n      <td>-0.769</td>\n      <td>-0.019</td>\n      <td>-1.419</td>\n      <td>-0.083</td>\n      <td>-4.6</td>\n      <td>-3.9</td>\n      <td>-5.5</td>\n      <td>0.0</td>\n      <td>-12.1</td>\n      <td>...</td>\n      <td>1.7</td>\n      <td>-1.0</td>\n      <td>-10.6</td>\n      <td>0.0</td>\n      <td>-5.8</td>\n      <td>-8.4</td>\n      <td>-1.1</td>\n      <td>0.0</td>\n      <td>-12.6</td>\n      <td>0.0</td>\n    </tr>\n  </tbody>\n</table>\n<p>1749 rows × 1601 columns</p>\n</div>"
     },
     "metadata": {},
     "output_type": "display_data"
    }
   ],
   "source": [
    "display(master_data)"
   ],
   "metadata": {
    "collapsed": false,
    "ExecuteTime": {
     "start_time": "2023-07-11T13:24:45.040631Z",
     "end_time": "2023-07-11T13:24:45.079706Z"
    }
   }
  },
  {
   "cell_type": "code",
   "execution_count": null,
   "outputs": [],
   "source": [],
   "metadata": {
    "collapsed": false,
    "ExecuteTime": {
     "start_time": "2023-07-11T13:19:56.937073Z",
     "end_time": "2023-07-11T13:19:56.945736Z"
    }
   }
  },
  {
   "cell_type": "code",
   "execution_count": null,
   "outputs": [],
   "source": [],
   "metadata": {
    "collapsed": false,
    "ExecuteTime": {
     "start_time": "2023-07-11T13:20:59.336658Z",
     "end_time": "2023-07-11T13:20:59.346966Z"
    }
   }
  },
  {
   "cell_type": "code",
   "execution_count": null,
   "outputs": [],
   "source": [],
   "metadata": {
    "collapsed": false,
    "ExecuteTime": {
     "start_time": "2023-07-11T12:59:06.989965Z",
     "end_time": "2023-07-11T12:59:07.013626Z"
    }
   }
  },
  {
   "cell_type": "code",
   "execution_count": null,
   "outputs": [],
   "source": [],
   "metadata": {
    "collapsed": false
   }
  }
 ],
 "metadata": {
  "kernelspec": {
   "display_name": "Python 3",
   "language": "python",
   "name": "python3"
  },
  "language_info": {
   "codemirror_mode": {
    "name": "ipython",
    "version": 2
   },
   "file_extension": ".py",
   "mimetype": "text/x-python",
   "name": "python",
   "nbconvert_exporter": "python",
   "pygments_lexer": "ipython2",
   "version": "2.7.6"
  }
 },
 "nbformat": 4,
 "nbformat_minor": 0
}
