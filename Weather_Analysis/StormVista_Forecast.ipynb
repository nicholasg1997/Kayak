{
 "cells": [
  {
   "cell_type": "code",
   "execution_count": 1,
   "metadata": {
    "collapsed": true,
    "ExecuteTime": {
     "start_time": "2023-07-10T14:05:10.225618Z",
     "end_time": "2023-07-10T14:05:11.903720Z"
    }
   },
   "outputs": [],
   "source": [
    "import pandas as pd\n",
    "from sklearn.metrics import mean_squared_error, mean_absolute_error, mean_absolute_percentage_error, r2_score\n",
    "from datetime import datetime, time\n",
    "import glob\n",
    "from autogluon.tabular import TabularDataset, TabularPredictor\n",
    "import matplotlib.pyplot as plt\n",
    "from sklearn.linear_model import LinearRegression"
   ]
  },
  {
   "cell_type": "code",
   "execution_count": 2,
   "outputs": [],
   "source": [
    "def display_errors(y_true, y_pred, return_vals=False):\n",
    "    mse = mean_squared_error(y_true, y_pred)\n",
    "    print(f\"MSE: {round(mse, 3)}\")\n",
    "    rmse = mse ** 0.5\n",
    "    print(f\"RMSE: {round(rmse, 3)}\")\n",
    "    mae = mean_absolute_error(y_true, y_pred)\n",
    "    print(f\"MAE: {round(mae, 3)}\")\n",
    "    mape = mean_absolute_percentage_error(y_true, y_pred)\n",
    "    print(f\"MAPE: {round(mape, 3)}\")\n",
    "    r2 = r2_score(y_true, y_pred)\n",
    "    print(f\"R2: {round(r2, 3)}\")\n",
    "\n",
    "    if return_vals:\n",
    "        return [mse, rmse, mae, mape, r2]\n",
    "\n",
    "def plot_errors(y_true, y_pred, name='N/A'):\n",
    "    plt.scatter(y_true, y_pred, color='blue', marker='o', label=f'error adjusted predictions ({name}) vs actual degree days')\n",
    "    plt.xlabel('actual degree days')\n",
    "    plt.ylabel('predicted degree days')\n",
    "    plt.title(f'Prediction vs Actual ({name})')\n",
    "\n",
    "    max_value = max(max(y_true[-225:]), max(y_true[-225:]))\n",
    "    min_value = min(min(y_true[-225:]), min(y_true[-225:]))\n",
    "    plt.plot([min_value, max_value], [min_value, max_value], color='red', linestyle='--', label='Line of Equality')\n",
    "\n",
    "    plt.legend()"
   ],
   "metadata": {
    "collapsed": false,
    "ExecuteTime": {
     "start_time": "2023-07-10T14:05:11.907254Z",
     "end_time": "2023-07-10T14:05:11.909292Z"
    }
   }
  },
  {
   "cell_type": "code",
   "execution_count": 3,
   "outputs": [],
   "source": [
    "class LinReg:\n",
    "    def __init__(self, train_data, test_data, target_col):\n",
    "        self.X_train = train_data.drop(columns=[target_col])\n",
    "        self.y_train = train_data[target_col]\n",
    "        self.X_test = test_data.drop(columns=[target_col])\n",
    "        self.y_test = test_data[target_col]\n",
    "        self.target_col = target_col\n",
    "        self.model = LinearRegression().fit(self.X_train, self.y_train)\n",
    "        self.y_pred = self.model.predict(self.X_test)\n",
    "        self.evaluate()\n",
    "\n",
    "    def evaluate(self):\n",
    "        display_errors(self.y_test, self.y_pred)\n"
   ],
   "metadata": {
    "collapsed": false,
    "ExecuteTime": {
     "start_time": "2023-07-10T14:05:11.912284Z",
     "end_time": "2023-07-10T14:05:11.914011Z"
    }
   }
  },
  {
   "cell_type": "code",
   "execution_count": 4,
   "outputs": [],
   "source": [
    "def extract_date_time(filename):\n",
    "    \"\"\"\n",
    "    extract the date and time from the filename\n",
    "    :param filename:\n",
    "    :return:\n",
    "    \"\"\"\n",
    "    parts = filename.split('.')\n",
    "    extracted_date = parts[1]\n",
    "    extracted_time = parts[2]\n",
    "    return extracted_date, extracted_time\n",
    "\n",
    "def get_date(file):\n",
    "        \"\"\"get the date from the dataframe and the time from the filename and combine them into a datetime object\n",
    "        :param file: filename containing the time\n",
    "        :return: datetime object\n",
    "        \"\"\"\n",
    "\n",
    "        date_str = str(file.split('.')[1])\n",
    "        time_str = str(file.split('.')[2])\n",
    "        date_value = datetime.strptime(date_str, '%Y%m%d')\n",
    "        time_value = time(int(time_str), 0)\n",
    "        combined_datetime = datetime.combine(date_value.date(), time_value)\n",
    "        return combined_datetime\n",
    "#give type hint on start_date that it should be a string\n",
    "def seasonal_train_test(data, start_date: str, end_date: str):\n",
    "    \"\"\"\n",
    "    split the data into train and test sets based on dates\n",
    "    :param data: dataframe containing the data\n",
    "    :param start_date: start date of the test set\n",
    "    :param end_date: end date of the test set\n",
    "    :return: train and test sets\n",
    "    \"\"\"\n",
    "\n",
    "    test_start = start_date\n",
    "    test_end = end_date\n",
    "    test_data = data.loc[test_start: test_end]\n",
    "\n",
    "    #remove X_test from dataframe to get X_train\n",
    "    mask = (data.index >= test_start) & (data.index <= test_end)\n",
    "    train_data = data.loc[~mask]\n",
    "\n",
    "    return train_data, test_data"
   ],
   "metadata": {
    "collapsed": false,
    "ExecuteTime": {
     "start_time": "2023-07-10T14:05:11.916823Z",
     "end_time": "2023-07-10T14:05:11.918842Z"
    }
   }
  },
  {
   "cell_type": "code",
   "execution_count": 5,
   "outputs": [],
   "source": [
    "class RawDataProcess:\n",
    "    def __init__(self, degree_days='gw_hdd', path='RawData', time=None):\n",
    "        self.degree_days = degree_days\n",
    "        self.path = path\n",
    "        self.sort_files()\n",
    "        self.get_master_model()\n",
    "        if time is not None:\n",
    "            self.filter_time(time)\n",
    "\n",
    "\n",
    "    def filter_time(self, time):\n",
    "        data = self.master_data\n",
    "        data['hour'] = data.index.hour\n",
    "        data = data[data['hour'] == time]\n",
    "        data.drop('hour', axis=1, inplace=True)\n",
    "        self.master_data = data\n",
    "\n",
    "    def sort_files(self):\n",
    "        \"\"\"\n",
    "        sort the files in the directory by date and time\n",
    "        :return:\n",
    "        \"\"\"\n",
    "        degree_days = self.degree_days\n",
    "        path = self.path\n",
    "\n",
    "        degree_days = degree_days\n",
    "        ecmwf_files = glob.glob(path + f'/ecmwf.*.[01][02].{degree_days}.csv')\n",
    "        ecmwf_sorted_files = sorted(ecmwf_files, key=lambda x: (x.split('.')[1], x.split('.')[2]))[3:]\n",
    "\n",
    "        ecmwf_ens_files = glob.glob(path + f'/ecmwf-eps.*.[01][02].{degree_days}.csv')\n",
    "        ecmwf_ens_sorted_files = sorted(ecmwf_ens_files, key=lambda x: (x.split('.')[1], x.split('.')[2]))[2:]\n",
    "\n",
    "        gfs_ens_bc_files = glob.glob(path + f'/gfs-ens-bc.*.[01][02].{degree_days}.csv')\n",
    "        gfs_ens_bc_sorted_files = sorted(gfs_ens_bc_files, key=lambda x: (x.split('.')[1], x.split('.')[2]))[2:]\n",
    "\n",
    "        cmc_ens_files = glob.glob(path + f'/cmc-ens.*.[01][02].{degree_days}.csv')\n",
    "        cmc_ens_sorted_files = sorted(cmc_ens_files, key=lambda x: (x.split('.')[1], x.split('.')[2]))[2:]\n",
    "        for _ in range(2):\n",
    "            set1 = set((extract_date_time(filename) for filename in ecmwf_sorted_files))\n",
    "            set2 = set((extract_date_time(filename) for filename in ecmwf_ens_sorted_files))\n",
    "\n",
    "            ecmwf_sorted_files = [filename for filename in ecmwf_sorted_files if extract_date_time(filename) in set2]\n",
    "            ecmwf_ens_sorted_files = [filename for filename in ecmwf_ens_sorted_files if\n",
    "                                      extract_date_time(filename) in set1]\n",
    "            cmc_ens_sorted_files = [filename for filename in cmc_ens_sorted_files if extract_date_time(filename) in set1]\n",
    "\n",
    "            master_set = set((extract_date_time(filename) for filename in cmc_ens_sorted_files))\n",
    "            gfs_ens_bc_sorted_files = [filename for filename in gfs_ens_bc_sorted_files if\n",
    "                                       extract_date_time(filename) in master_set]\n",
    "\n",
    "            master_set = set((extract_date_time(filename) for filename in gfs_ens_bc_sorted_files))\n",
    "\n",
    "            ecmwf_sorted_files = [filename for filename in ecmwf_sorted_files if extract_date_time(filename) in master_set]\n",
    "            ecmwf_ens_sorted_files = [filename for filename in ecmwf_ens_sorted_files if\n",
    "                                      extract_date_time(filename) in master_set]\n",
    "            gfs_ens_bc_sorted_files = [filename for filename in gfs_ens_bc_sorted_files if\n",
    "                                       extract_date_time(filename) in master_set]\n",
    "            cmc_ens_sorted_files = [filename for filename in cmc_ens_sorted_files if\n",
    "                                    extract_date_time(filename) in master_set]\n",
    "\n",
    "        self.ecmwf_sorted_files = ecmwf_sorted_files\n",
    "        self.ecmwf_ens_sorted_files = ecmwf_ens_sorted_files\n",
    "        self.gfs_ens_bc_sorted_files = gfs_ens_bc_sorted_files\n",
    "        self.cmc_ens_sorted_files = cmc_ens_sorted_files\n",
    "\n",
    "    def y_value(self, start=8, end=14):\n",
    "        ecmwf_ens_9_14 = pd.DataFrame(columns=[f'ens({start+1},{end})'])\n",
    "\n",
    "        ecmwf_ens_sorted_files = self.ecmwf_ens_sorted_files\n",
    "\n",
    "        for i in range(1, len(ecmwf_ens_sorted_files)):\n",
    "            ecmwf_ens_df = pd.read_csv(ecmwf_ens_sorted_files[i])\n",
    "            ecmwf_ens_df = ecmwf_ens_df[ecmwf_ens_df[ecmwf_ens_df.columns[2]] >= 1]\n",
    "            prev_ecmwf_ens_df = pd.read_csv(ecmwf_ens_sorted_files[i - 1])\n",
    "            prev_ecmwf_ens_df = prev_ecmwf_ens_df[prev_ecmwf_ens_df[prev_ecmwf_ens_df.columns[2]] >= 1]\n",
    "\n",
    "            date = get_date(ecmwf_ens_sorted_files[i])\n",
    "            prev_date = get_date(ecmwf_ens_sorted_files[i - 1])\n",
    "            d2 = str(date)[:10]\n",
    "            d1 = str(prev_date)[:10]\n",
    "\n",
    "            if d2 == d1:\n",
    "                offset = 1\n",
    "            else:\n",
    "                offset = 0\n",
    "\n",
    "            cur = ecmwf_ens_df['Value'].iloc[start:end].sum()\n",
    "            prev = prev_ecmwf_ens_df['Value'].iloc[(start+offset):(end+offset)].sum()\n",
    "            change = cur - prev\n",
    "\n",
    "            new_row = pd.DataFrame(change, columns=ecmwf_ens_9_14.columns, index=[date])\n",
    "            ecmwf_ens_9_14 = pd.concat([ecmwf_ens_9_14, new_row])\n",
    "\n",
    "        self.y_values = ecmwf_ens_9_14\n",
    "\n",
    "    def ecmwf_ens(self, start=7, end=8):\n",
    "        ecmwf_ens_8 = pd.DataFrame(columns=[f'ens({end})'])\n",
    "        ecmwf_ens_sorted_files = self.ecmwf_ens_sorted_files\n",
    "\n",
    "        for i in range(1, len(ecmwf_ens_sorted_files)):\n",
    "            ecmwf_ens_df = pd.read_csv(ecmwf_ens_sorted_files[i])\n",
    "            ecmwf_ens_df = ecmwf_ens_df[ecmwf_ens_df[ecmwf_ens_df.columns[2]] >= 1]\n",
    "            prev_ecmwf_ens_df = pd.read_csv(ecmwf_ens_sorted_files[i - 1])\n",
    "            prev_ecmwf_ens_df = prev_ecmwf_ens_df[prev_ecmwf_ens_df[prev_ecmwf_ens_df.columns[2]] >= 1]\n",
    "\n",
    "            date = get_date(ecmwf_ens_sorted_files[i])\n",
    "            prev_date = get_date(ecmwf_ens_sorted_files[i - 1])\n",
    "            d2 = str(date)[:10]\n",
    "            d1 = str(prev_date)[:10]\n",
    "\n",
    "            if d2 == d1:\n",
    "                offset = 1\n",
    "            else:\n",
    "                offset = 0\n",
    "\n",
    "            cur = ecmwf_ens_df['Value'].iloc[start:end].sum() #7-8 benchmark, 7-8 best results\n",
    "            prev = prev_ecmwf_ens_df['Value'].iloc[(start+offset):(end+offset)].sum() #7-8 benchmark, 7-8 best results\n",
    "            change = cur - prev\n",
    "\n",
    "            new_row = pd.DataFrame(change, columns=ecmwf_ens_8.columns, index=[date])\n",
    "            ecmwf_ens_8 = pd.concat([ecmwf_ens_8, new_row])\n",
    "\n",
    "        self.ecmwf_ens_data = ecmwf_ens_8\n",
    "\n",
    "    def ecmwf(self, start=8, end=9):\n",
    "\n",
    "        ecmwf_9_10 = pd.DataFrame(columns=[f'ecmwf({end})'])\n",
    "\n",
    "        ecmwf_sorted_files = self.ecmwf_sorted_files\n",
    "        ecmwf_ens_sorted_files = self.ecmwf_ens_sorted_files\n",
    "\n",
    "\n",
    "        for i in range(1, len(ecmwf_sorted_files)):\n",
    "            ecmwf_df = pd.read_csv(ecmwf_sorted_files[i])\n",
    "            ecmwf_df = ecmwf_df[ecmwf_df[ecmwf_df.columns[2]] >= 1]\n",
    "            prev_ecmwf_ens_df = pd.read_csv(ecmwf_ens_sorted_files[i-1])\n",
    "            prev_ecmwf_ens_df = prev_ecmwf_ens_df[prev_ecmwf_ens_df[prev_ecmwf_ens_df.columns[2]] >= 1]\n",
    "\n",
    "            date = get_date(ecmwf_sorted_files[i])\n",
    "            prev_date = get_date(ecmwf_sorted_files[i - 1])\n",
    "            d2 = str(date)[:10]\n",
    "            d1 = str(prev_date)[:10]\n",
    "\n",
    "            if d2 == d1:\n",
    "                offset = 1\n",
    "            else:\n",
    "                offset = 0\n",
    "\n",
    "            cur = ecmwf_df['Value'].iloc[start:end].sum() #8-9 benchmark, 4-9 best results\n",
    "            prev = prev_ecmwf_ens_df['Value'].iloc[(start+offset):(end+offset)].sum() #8-9 benchmark, 4-9 best results\n",
    "\n",
    "            change = cur - prev\n",
    "\n",
    "            new_row = pd.DataFrame(change, columns=ecmwf_9_10.columns, index=[date])\n",
    "            ecmwf_9_10 = pd.concat([ecmwf_9_10, new_row])\n",
    "\n",
    "        self.ecmwf_data = ecmwf_9_10\n",
    "\n",
    "    def gfs(self, start=9, end=14):\n",
    "        gfs_11_14 = pd.DataFrame(columns=[f'gfs({start+1},{end})'])\n",
    "\n",
    "        ecmwf_ens_sorted_files = self.ecmwf_ens_sorted_files\n",
    "        gfs_ens_bc_sorted_files = self.gfs_ens_bc_sorted_files\n",
    "\n",
    "        for i in range(1, len(gfs_ens_bc_sorted_files)):\n",
    "            gfs_df = pd.read_csv(gfs_ens_bc_sorted_files[i])\n",
    "            gfs_df = gfs_df[gfs_df[gfs_df.columns[2]] >= 1]\n",
    "            prev_ecmwf_ens_df = pd.read_csv(ecmwf_ens_sorted_files[i-1])\n",
    "            prev_ecmwf_ens_df = prev_ecmwf_ens_df[prev_ecmwf_ens_df[prev_ecmwf_ens_df.columns[2]] >= 1]\n",
    "\n",
    "            date = get_date(gfs_ens_bc_sorted_files[i])\n",
    "            prev_date = get_date(ecmwf_ens_sorted_files[i - 1])\n",
    "            d2 = str(date)[:10]\n",
    "            d1 = str(prev_date)[:10]\n",
    "\n",
    "            if d2 == d1:\n",
    "                offset = 1\n",
    "            else:\n",
    "                offset = 0\n",
    "\n",
    "            cur = gfs_df['Value'].iloc[start:end].sum() # 9-14 benchmark, 9-16 best results\n",
    "            prev = prev_ecmwf_ens_df['Value'].iloc[(start+offset):(end+offset)].sum() # 9-14 benchmark, 9-16 best results\n",
    "\n",
    "            change = cur - prev\n",
    "\n",
    "            new_row = pd.DataFrame(change, columns=gfs_11_14.columns, index=[date])\n",
    "            gfs_11_14 = pd.concat([gfs_11_14, new_row])\n",
    "\n",
    "        self.gfs_data = gfs_11_14\n",
    "\n",
    "    def cmc(self, start=8, end=14):\n",
    "        cmc_9_14 = pd.DataFrame(columns=[f'cmc({start+1},{end})'])\n",
    "\n",
    "        cmc_ens_sorted_files = self.cmc_ens_sorted_files\n",
    "        gfs_ens_bc_sorted_files = self.gfs_ens_bc_sorted_files\n",
    "\n",
    "        for i in range(1, len(cmc_ens_sorted_files)):\n",
    "            cmc_df = pd.read_csv(cmc_ens_sorted_files[i])\n",
    "            cmc_df = cmc_df[cmc_df[cmc_df.columns[2]] >= 1]\n",
    "            gfs_df = pd.read_csv(gfs_ens_bc_sorted_files[i])\n",
    "            gfs_df = gfs_df[gfs_df[gfs_df.columns[2]] >= 1]\n",
    "\n",
    "            date = get_date(cmc_ens_sorted_files[i])\n",
    "\n",
    "            cmc = cmc_df['Value'].iloc[start:end].sum() #8-14 benchmark, 8-14 best results\n",
    "            gfs = gfs_df['Value'].iloc[start:end].sum() #8-14 benchmark, 8-14 best results\n",
    "            change = cmc - gfs\n",
    "\n",
    "            new_row = pd.DataFrame(change, columns=cmc_9_14.columns, index=[date])\n",
    "            cmc_9_14 = pd.concat([cmc_9_14, new_row])\n",
    "\n",
    "        self.cmc_data = cmc_9_14\n",
    "\n",
    "    def norm(self):\n",
    "        norms = pd.DataFrame(columns=['Date', 'Value'])\n",
    "        ecmwf_ens_sorted_files = self.ecmwf_ens_sorted_files\n",
    "\n",
    "        for i in range(1, len(ecmwf_ens_sorted_files), 2):\n",
    "            ecmwf_ens_df = pd.read_csv(ecmwf_ens_sorted_files[i])\n",
    "            v1 = ecmwf_ens_df[ecmwf_ens_df[ecmwf_ens_df.columns[2]] == 2].iloc[:, :2]\n",
    "            norms = pd.concat([norms, v1]).drop_duplicates('Date')\n",
    "\n",
    "        norms.reset_index(inplace=True)\n",
    "        norms.drop(columns=['index'], inplace=True)\n",
    "        norms['Date'] = pd.to_datetime(norms['Date']).dt.strftime('%Y-%m-%d 12:00:00')\n",
    "        norms.set_index('Date', inplace=True)\n",
    "        norms.rename_axis('', inplace=True)\n",
    "        norms.rename(columns={'Value': 'norm'}, inplace=True)\n",
    "\n",
    "        self.norms_data = norms\n",
    "\n",
    "    def run_all_models(self):\n",
    "        self.y_value()\n",
    "        self.ecmwf_ens()\n",
    "        self.ecmwf()\n",
    "        self.gfs()\n",
    "        self.cmc()\n",
    "        self.norm()\n",
    "\n",
    "    def get_master_model(self):\n",
    "        self.run_all_models()\n",
    "        master_data = pd.concat([self.ecmwf_ens_data, self.ecmwf_data,\n",
    "                                 self.gfs_data, self.cmc_data, self.y_values], axis=1)\n",
    "\n",
    "        self.master_data = master_data"
   ],
   "metadata": {
    "collapsed": false,
    "ExecuteTime": {
     "start_time": "2023-07-10T14:05:11.919039Z",
     "end_time": "2023-07-10T14:05:11.983520Z"
    }
   }
  },
  {
   "cell_type": "code",
   "execution_count": 6,
   "outputs": [
    {
     "name": "stderr",
     "output_type": "stream",
     "text": [
      "/var/folders/3y/4qthl0m139n7983g0dhsq1n00000gn/T/ipykernel_17816/2723095553.py:15: SettingWithCopyWarning: \n",
      "A value is trying to be set on a copy of a slice from a DataFrame\n",
      "\n",
      "See the caveats in the documentation: https://pandas.pydata.org/pandas-docs/stable/user_guide/indexing.html#returning-a-view-versus-a-copy\n",
      "  data.drop('hour', axis=1, inplace=True)\n"
     ]
    }
   ],
   "source": [
    "data = RawDataProcess(degree_days='gw_hdd', path='RawData', time=12)"
   ],
   "metadata": {
    "collapsed": false,
    "ExecuteTime": {
     "start_time": "2023-07-10T14:05:11.984776Z",
     "end_time": "2023-07-10T14:05:47.684473Z"
    }
   }
  },
  {
   "cell_type": "code",
   "execution_count": 9,
   "outputs": [],
   "source": [
    "master_data = data.master_data"
   ],
   "metadata": {
    "collapsed": false,
    "ExecuteTime": {
     "start_time": "2023-07-10T14:09:01.788372Z",
     "end_time": "2023-07-10T14:09:01.811115Z"
    }
   }
  },
  {
   "cell_type": "code",
   "execution_count": 52,
   "outputs": [],
   "source": [
    "train_data, test_data = seasonal_train_test(master_data, '2021-10-04 12:00:00', '2022-5-16 12:00:00')"
   ],
   "metadata": {
    "collapsed": false,
    "ExecuteTime": {
     "start_time": "2023-07-10T14:19:20.687279Z",
     "end_time": "2023-07-10T14:19:20.707317Z"
    }
   }
  },
  {
   "cell_type": "code",
   "execution_count": 53,
   "outputs": [],
   "source": [
    "train_data = TabularDataset(train_data)\n",
    "test_data = TabularDataset(test_data)"
   ],
   "metadata": {
    "collapsed": false,
    "ExecuteTime": {
     "start_time": "2023-07-10T14:19:21.013288Z",
     "end_time": "2023-07-10T14:19:21.034313Z"
    }
   }
  },
  {
   "cell_type": "code",
   "execution_count": 54,
   "outputs": [],
   "source": [
    "label = 'ens(9,14)'"
   ],
   "metadata": {
    "collapsed": false,
    "ExecuteTime": {
     "start_time": "2023-07-10T14:19:21.425943Z",
     "end_time": "2023-07-10T14:19:21.439972Z"
    }
   }
  },
  {
   "cell_type": "code",
   "execution_count": 55,
   "outputs": [],
   "source": [
    "y_test = test_data[label]\n",
    "test_data_nolabel = test_data.drop(columns=[label])"
   ],
   "metadata": {
    "collapsed": false,
    "ExecuteTime": {
     "start_time": "2023-07-10T14:19:23.362979Z",
     "end_time": "2023-07-10T14:19:23.383403Z"
    }
   }
  },
  {
   "cell_type": "code",
   "execution_count": 60,
   "outputs": [
    {
     "name": "stderr",
     "output_type": "stream",
     "text": [
      "No path specified. Models will be saved in: \"AutogluonModels/ag-20230710_202309/\"\n",
      "Presets specified: ['best_quality']\n",
      "Stack configuration (auto_stack=True): num_stack_levels=1, num_bag_folds=8, num_bag_sets=1\n",
      "Beginning AutoGluon training ...\n",
      "AutoGluon will save models to \"AutogluonModels/ag-20230710_202309/\"\n",
      "AutoGluon Version:  0.7.0\n",
      "Python Version:     3.10.9\n",
      "Operating System:   Darwin\n",
      "Platform Machine:   x86_64\n",
      "Platform Version:   Darwin Kernel Version 22.5.0: Thu Jun  8 22:22:19 PDT 2023; root:xnu-8796.121.3~7/RELEASE_ARM64_T8103\n",
      "Train Data Rows:    1524\n",
      "Train Data Columns: 46\n",
      "Label Column: ens(9,14)\n",
      "Preprocessing data ...\n",
      "AutoGluon infers your prediction problem is: 'regression' (because dtype of label-column == float and many unique label-values observed).\n",
      "\tLabel info (max, min, mean, stddev): (18.34899999999999, -21.283999999999992, 0.35771, 3.84261)\n",
      "\tIf 'regression' is not the correct problem_type, please manually specify the problem_type parameter during predictor init (You may specify problem_type as one of: ['binary', 'multiclass', 'regression'])\n",
      "Using Feature Generators to preprocess the data ...\n",
      "Fitting AutoMLPipelineFeatureGenerator...\n",
      "\tAvailable Memory:                    1183.42 MB\n",
      "\tTrain Data (Original)  Memory Usage: 0.56 MB (0.0% of available memory)\n",
      "\tInferring data type of each feature based on column values. Set feature_metadata_in to manually specify special dtypes of the features.\n",
      "\tStage 1 Generators:\n",
      "\t\tFitting AsTypeFeatureGenerator...\n",
      "\tStage 2 Generators:\n",
      "\t\tFitting FillNaFeatureGenerator...\n",
      "\tStage 3 Generators:\n",
      "\t\tFitting IdentityFeatureGenerator...\n",
      "\tStage 4 Generators:\n",
      "\t\tFitting DropUniqueFeatureGenerator...\n",
      "\tUseless Original Features (Count: 10): ['snow_TMT7J', 'snow_KITR0', 'snow_KOTM0', 'tavg_72280', 'tmin_72280', 'tmax_72280', 'prcp_72280', 'pres_72280', 'snow_72280', 'snow_KNYL0']\n",
      "\t\tThese features carry no predictive signal and should be manually investigated.\n",
      "\t\tThis is typically a feature which has the same value for all rows.\n",
      "\t\tThese features do not need to be present at inference time.\n",
      "\tTypes of features in original data (raw dtype, special dtypes):\n",
      "\t\t('float', []) : 36 | ['ens(8)', 'ecmwf(9)', 'gfs(10,14)', 'cmc(9,14)', 'tavg_72529', ...]\n",
      "\tTypes of features in processed data (raw dtype, special dtypes):\n",
      "\t\t('float', []) : 36 | ['ens(8)', 'ecmwf(9)', 'gfs(10,14)', 'cmc(9,14)', 'tavg_72529', ...]\n",
      "\t0.0s = Fit runtime\n",
      "\t36 features in original data used to generate 36 features in processed data.\n",
      "\tTrain Data (Processed) Memory Usage: 0.44 MB (0.0% of available memory)\n",
      "Data preprocessing and feature engineering runtime = 0.06s ...\n",
      "AutoGluon will gauge predictive performance using evaluation metric: 'root_mean_squared_error'\n",
      "\tThis metric's sign has been flipped to adhere to being higher_is_better. The metric score can be multiplied by -1 to get the metric value.\n",
      "\tTo change this, specify the eval_metric parameter of Predictor()\n",
      "AutoGluon will fit 2 stack levels (L1 to L2) ...\n",
      "Fitting 11 L1 models ...\n",
      "Fitting model: KNeighborsUnif_BAG_L1 ...\n",
      "\t-4.2478\t = Validation score   (-root_mean_squared_error)\n",
      "\t0.0s\t = Training   runtime\n",
      "\t0.01s\t = Validation runtime\n",
      "Fitting model: KNeighborsDist_BAG_L1 ...\n",
      "\t-4.2726\t = Validation score   (-root_mean_squared_error)\n",
      "\t0.0s\t = Training   runtime\n",
      "\t0.01s\t = Validation runtime\n",
      "Fitting model: LightGBMXT_BAG_L1 ...\n",
      "\tFitting 8 child models (S1F1 - S1F8) | Fitting with SequentialLocalFoldFittingStrategy\n",
      "\tWarning: Exception caused LightGBMXT_BAG_L1 to fail during training (ImportError)... Skipping this model.\n",
      "\t\t`import lightgbm` failed. If you are using Mac OSX, Please try 'brew install libomp'. Detailed info: dlopen(/Users/nickgault/opt/miniconda3/envs/Kayak/lib/python3.10/site-packages/lightgbm/lib_lightgbm.so, 0x0006): Library not loaded: /usr/local/opt/libomp/lib/libomp.dylib\n",
      "  Referenced from: <D21A7969-4567-3BC7-94ED-6A9E83AE9D78> /Users/nickgault/opt/miniconda3/envs/Kayak/lib/python3.10/site-packages/lightgbm/lib_lightgbm.so\n",
      "  Reason: tried: '/usr/local/opt/libomp/lib/libomp.dylib' (no such file), '/System/Volumes/Preboot/Cryptexes/OS/usr/local/opt/libomp/lib/libomp.dylib' (no such file), '/usr/local/opt/libomp/lib/libomp.dylib' (no such file), '/usr/local/lib/libomp.dylib' (no such file), '/usr/lib/libomp.dylib' (no such file, not in dyld cache)\n",
      "Fitting model: LightGBM_BAG_L1 ...\n",
      "\tFitting 8 child models (S1F1 - S1F8) | Fitting with SequentialLocalFoldFittingStrategy\n",
      "\tWarning: Exception caused LightGBM_BAG_L1 to fail during training (ImportError)... Skipping this model.\n",
      "\t\t`import lightgbm` failed. If you are using Mac OSX, Please try 'brew install libomp'. Detailed info: dlopen(/Users/nickgault/opt/miniconda3/envs/Kayak/lib/python3.10/site-packages/lightgbm/lib_lightgbm.so, 0x0006): Library not loaded: /usr/local/opt/libomp/lib/libomp.dylib\n",
      "  Referenced from: <D21A7969-4567-3BC7-94ED-6A9E83AE9D78> /Users/nickgault/opt/miniconda3/envs/Kayak/lib/python3.10/site-packages/lightgbm/lib_lightgbm.so\n",
      "  Reason: tried: '/usr/local/opt/libomp/lib/libomp.dylib' (no such file), '/System/Volumes/Preboot/Cryptexes/OS/usr/local/opt/libomp/lib/libomp.dylib' (no such file), '/usr/local/opt/libomp/lib/libomp.dylib' (no such file), '/usr/local/lib/libomp.dylib' (no such file), '/usr/lib/libomp.dylib' (no such file, not in dyld cache)\n",
      "Fitting model: RandomForestMSE_BAG_L1 ...\n",
      "\t-3.4991\t = Validation score   (-root_mean_squared_error)\n",
      "\t1.61s\t = Training   runtime\n",
      "\t0.09s\t = Validation runtime\n",
      "Fitting model: CatBoost_BAG_L1 ...\n",
      "\tFitting 8 child models (S1F1 - S1F8) | Fitting with SequentialLocalFoldFittingStrategy\n",
      "\t-3.4036\t = Validation score   (-root_mean_squared_error)\n",
      "\t7.27s\t = Training   runtime\n",
      "\t0.01s\t = Validation runtime\n",
      "Fitting model: ExtraTreesMSE_BAG_L1 ...\n",
      "\t-3.4794\t = Validation score   (-root_mean_squared_error)\n",
      "\t0.49s\t = Training   runtime\n",
      "\t0.09s\t = Validation runtime\n",
      "Fitting model: NeuralNetFastAI_BAG_L1 ...\n",
      "\tFitting 8 child models (S1F1 - S1F8) | Fitting with SequentialLocalFoldFittingStrategy\n",
      "No improvement since epoch 9: early stopping\n",
      "No improvement since epoch 3: early stopping\n",
      "No improvement since epoch 4: early stopping\n",
      "No improvement since epoch 2: early stopping\n",
      "No improvement since epoch 6: early stopping\n",
      "No improvement since epoch 4: early stopping\n",
      "No improvement since epoch 9: early stopping\n",
      "No improvement since epoch 1: early stopping\n",
      "\t-3.4378\t = Validation score   (-root_mean_squared_error)\n",
      "\t6.91s\t = Training   runtime\n",
      "\t0.06s\t = Validation runtime\n",
      "Fitting model: XGBoost_BAG_L1 ...\n",
      "\tFitting 8 child models (S1F1 - S1F8) | Fitting with SequentialLocalFoldFittingStrategy\n",
      "\t-3.4931\t = Validation score   (-root_mean_squared_error)\n",
      "\t7.1s\t = Training   runtime\n",
      "\t0.02s\t = Validation runtime\n",
      "Fitting model: NeuralNetTorch_BAG_L1 ...\n",
      "\tFitting 8 child models (S1F1 - S1F8) | Fitting with SequentialLocalFoldFittingStrategy\n",
      "\t-3.421\t = Validation score   (-root_mean_squared_error)\n",
      "\t14.29s\t = Training   runtime\n",
      "\t0.05s\t = Validation runtime\n",
      "Fitting model: LightGBMLarge_BAG_L1 ...\n",
      "\tFitting 8 child models (S1F1 - S1F8) | Fitting with SequentialLocalFoldFittingStrategy\n",
      "\tWarning: Exception caused LightGBMLarge_BAG_L1 to fail during training (ImportError)... Skipping this model.\n",
      "\t\t`import lightgbm` failed. If you are using Mac OSX, Please try 'brew install libomp'. Detailed info: dlopen(/Users/nickgault/opt/miniconda3/envs/Kayak/lib/python3.10/site-packages/lightgbm/lib_lightgbm.so, 0x0006): Library not loaded: /usr/local/opt/libomp/lib/libomp.dylib\n",
      "  Referenced from: <D21A7969-4567-3BC7-94ED-6A9E83AE9D78> /Users/nickgault/opt/miniconda3/envs/Kayak/lib/python3.10/site-packages/lightgbm/lib_lightgbm.so\n",
      "  Reason: tried: '/usr/local/opt/libomp/lib/libomp.dylib' (no such file), '/System/Volumes/Preboot/Cryptexes/OS/usr/local/opt/libomp/lib/libomp.dylib' (no such file), '/usr/local/opt/libomp/lib/libomp.dylib' (no such file), '/usr/local/lib/libomp.dylib' (no such file), '/usr/lib/libomp.dylib' (no such file, not in dyld cache)\n",
      "Fitting model: WeightedEnsemble_L2 ...\n",
      "\t-3.3496\t = Validation score   (-root_mean_squared_error)\n",
      "\t0.13s\t = Training   runtime\n",
      "\t0.0s\t = Validation runtime\n",
      "Fitting 9 L2 models ...\n",
      "Fitting model: LightGBMXT_BAG_L2 ...\n",
      "\tFitting 8 child models (S1F1 - S1F8) | Fitting with SequentialLocalFoldFittingStrategy\n",
      "\tWarning: Exception caused LightGBMXT_BAG_L2 to fail during training (ImportError)... Skipping this model.\n",
      "\t\t`import lightgbm` failed. If you are using Mac OSX, Please try 'brew install libomp'. Detailed info: dlopen(/Users/nickgault/opt/miniconda3/envs/Kayak/lib/python3.10/site-packages/lightgbm/lib_lightgbm.so, 0x0006): Library not loaded: /usr/local/opt/libomp/lib/libomp.dylib\n",
      "  Referenced from: <D21A7969-4567-3BC7-94ED-6A9E83AE9D78> /Users/nickgault/opt/miniconda3/envs/Kayak/lib/python3.10/site-packages/lightgbm/lib_lightgbm.so\n",
      "  Reason: tried: '/usr/local/opt/libomp/lib/libomp.dylib' (no such file), '/System/Volumes/Preboot/Cryptexes/OS/usr/local/opt/libomp/lib/libomp.dylib' (no such file), '/usr/local/opt/libomp/lib/libomp.dylib' (no such file), '/usr/local/lib/libomp.dylib' (no such file), '/usr/lib/libomp.dylib' (no such file, not in dyld cache)\n",
      "Fitting model: LightGBM_BAG_L2 ...\n",
      "\tFitting 8 child models (S1F1 - S1F8) | Fitting with SequentialLocalFoldFittingStrategy\n",
      "\tWarning: Exception caused LightGBM_BAG_L2 to fail during training (ImportError)... Skipping this model.\n",
      "\t\t`import lightgbm` failed. If you are using Mac OSX, Please try 'brew install libomp'. Detailed info: dlopen(/Users/nickgault/opt/miniconda3/envs/Kayak/lib/python3.10/site-packages/lightgbm/lib_lightgbm.so, 0x0006): Library not loaded: /usr/local/opt/libomp/lib/libomp.dylib\n",
      "  Referenced from: <D21A7969-4567-3BC7-94ED-6A9E83AE9D78> /Users/nickgault/opt/miniconda3/envs/Kayak/lib/python3.10/site-packages/lightgbm/lib_lightgbm.so\n",
      "  Reason: tried: '/usr/local/opt/libomp/lib/libomp.dylib' (no such file), '/System/Volumes/Preboot/Cryptexes/OS/usr/local/opt/libomp/lib/libomp.dylib' (no such file), '/usr/local/opt/libomp/lib/libomp.dylib' (no such file), '/usr/local/lib/libomp.dylib' (no such file), '/usr/lib/libomp.dylib' (no such file, not in dyld cache)\n",
      "Fitting model: RandomForestMSE_BAG_L2 ...\n",
      "\t-3.4267\t = Validation score   (-root_mean_squared_error)\n",
      "\t2.35s\t = Training   runtime\n",
      "\t0.09s\t = Validation runtime\n",
      "Fitting model: CatBoost_BAG_L2 ...\n",
      "\tFitting 8 child models (S1F1 - S1F8) | Fitting with SequentialLocalFoldFittingStrategy\n",
      "\t-3.3813\t = Validation score   (-root_mean_squared_error)\n",
      "\t6.33s\t = Training   runtime\n",
      "\t0.02s\t = Validation runtime\n",
      "Fitting model: ExtraTreesMSE_BAG_L2 ...\n",
      "\t-3.4291\t = Validation score   (-root_mean_squared_error)\n",
      "\t0.57s\t = Training   runtime\n",
      "\t0.09s\t = Validation runtime\n",
      "Fitting model: NeuralNetFastAI_BAG_L2 ...\n",
      "\tFitting 8 child models (S1F1 - S1F8) | Fitting with SequentialLocalFoldFittingStrategy\n",
      "No improvement since epoch 5: early stopping\n",
      "No improvement since epoch 3: early stopping\n",
      "No improvement since epoch 3: early stopping\n",
      "No improvement since epoch 1: early stopping\n",
      "No improvement since epoch 4: early stopping\n",
      "No improvement since epoch 1: early stopping\n",
      "\t-3.4085\t = Validation score   (-root_mean_squared_error)\n",
      "\t6.86s\t = Training   runtime\n",
      "\t0.06s\t = Validation runtime\n",
      "Fitting model: XGBoost_BAG_L2 ...\n",
      "\tFitting 8 child models (S1F1 - S1F8) | Fitting with SequentialLocalFoldFittingStrategy\n",
      "\t-3.399\t = Validation score   (-root_mean_squared_error)\n",
      "\t8.99s\t = Training   runtime\n",
      "\t0.02s\t = Validation runtime\n",
      "Fitting model: NeuralNetTorch_BAG_L2 ...\n",
      "\tFitting 8 child models (S1F1 - S1F8) | Fitting with SequentialLocalFoldFittingStrategy\n",
      "\t-3.3811\t = Validation score   (-root_mean_squared_error)\n",
      "\t9.92s\t = Training   runtime\n",
      "\t0.05s\t = Validation runtime\n",
      "Fitting model: LightGBMLarge_BAG_L2 ...\n",
      "\tFitting 8 child models (S1F1 - S1F8) | Fitting with SequentialLocalFoldFittingStrategy\n",
      "\tWarning: Exception caused LightGBMLarge_BAG_L2 to fail during training (ImportError)... Skipping this model.\n",
      "\t\t`import lightgbm` failed. If you are using Mac OSX, Please try 'brew install libomp'. Detailed info: dlopen(/Users/nickgault/opt/miniconda3/envs/Kayak/lib/python3.10/site-packages/lightgbm/lib_lightgbm.so, 0x0006): Library not loaded: /usr/local/opt/libomp/lib/libomp.dylib\n",
      "  Referenced from: <D21A7969-4567-3BC7-94ED-6A9E83AE9D78> /Users/nickgault/opt/miniconda3/envs/Kayak/lib/python3.10/site-packages/lightgbm/lib_lightgbm.so\n",
      "  Reason: tried: '/usr/local/opt/libomp/lib/libomp.dylib' (no such file), '/System/Volumes/Preboot/Cryptexes/OS/usr/local/opt/libomp/lib/libomp.dylib' (no such file), '/usr/local/opt/libomp/lib/libomp.dylib' (no such file), '/usr/local/lib/libomp.dylib' (no such file), '/usr/lib/libomp.dylib' (no such file, not in dyld cache)\n",
      "Fitting model: WeightedEnsemble_L3 ...\n",
      "\t-3.336\t = Validation score   (-root_mean_squared_error)\n",
      "\t0.1s\t = Training   runtime\n",
      "\t0.0s\t = Validation runtime\n",
      "AutoGluon training complete, total runtime = 74.29s ... Best model: \"WeightedEnsemble_L3\"\n",
      "TabularPredictor saved. To load, use: predictor = TabularPredictor.load(\"AutogluonModels/ag-20230710_202309/\")\n"
     ]
    }
   ],
   "source": [
    "predictor = TabularPredictor(label=label).fit(train_data, presets='best_quality')"
   ],
   "metadata": {
    "collapsed": false,
    "ExecuteTime": {
     "start_time": "2023-07-10T14:23:09.217357Z",
     "end_time": "2023-07-10T14:24:23.529726Z"
    }
   }
  },
  {
   "cell_type": "code",
   "execution_count": 61,
   "outputs": [
    {
     "name": "stderr",
     "output_type": "stream",
     "text": [
      "These features in provided data are not utilized by the predictor and will be ignored: ['snow_TMT7J', 'snow_KITR0', 'snow_KOTM0', 'tavg_72280', 'tmin_72280', 'tmax_72280', 'prcp_72280', 'pres_72280', 'snow_72280', 'snow_KNYL0']\n"
     ]
    },
    {
     "data": {
      "text/plain": "            importance    stddev   p_value  n  p99_high   p99_low\necmwf(9)      0.400923  0.091882  0.000309  5  0.590109  0.211737\ngfs(10,14)    0.289470  0.037407  0.000033  5  0.366491  0.212448\nens(8)        0.106100  0.090682  0.029516  5  0.292815 -0.080616\npres_KNYL0    0.034648  0.015423  0.003683  5  0.066404  0.002893\ncmc(9,14)     0.021462  0.023675  0.056293  5  0.070209 -0.027285\nprcp_KOTM0    0.016158  0.015373  0.039249  5  0.047812 -0.015496\nsnow_71627    0.013997  0.016447  0.064892  5  0.047862 -0.019867\ntmin_KITR0    0.013628  0.007653  0.008190  5  0.029386 -0.002131\npres_72529    0.007303  0.007320  0.044757  5  0.022374 -0.007768\npres_TMT7J    0.007277  0.011813  0.120205  5  0.031599 -0.017045\nprcp_KNYL0    0.006923  0.006051  0.031381  5  0.019383 -0.005537\ntmax_KOTM0    0.004534  0.012878  0.237575  5  0.031051 -0.021982\ntavg_KOTM0    0.001684  0.009602  0.357498  5  0.021453 -0.018086\ntmin_TMT7J    0.001385  0.005028  0.285602  5  0.011737 -0.008967\ntmin_KNYL0    0.000315  0.004624  0.443059  5  0.009836 -0.009205\npres_KITR0    0.000006  0.005897  0.499158  5  0.012148 -0.012136\ntmin_KOTM0   -0.000839  0.009796  0.571259  5  0.019332 -0.021009\nprcp_KITR0   -0.000886  0.008409  0.587301  5  0.016429 -0.018200\ntavg_TMT7J   -0.000924  0.002054  0.814224  5  0.003306 -0.005153\ntmax_TMT7J   -0.001682  0.001800  0.947559  5  0.002024 -0.005387\ntmin_72529   -0.002404  0.009749  0.694630  5  0.017670 -0.022477\nprcp_TMT7J   -0.002559  0.007606  0.753142  5  0.013102 -0.018220\ntmax_KITR0   -0.003496  0.012998  0.710018  5  0.023267 -0.030259\ntavg_71627   -0.004188  0.008149  0.842742  5  0.012591 -0.020967\ntavg_KITR0   -0.006859  0.008669  0.924216  5  0.010990 -0.024708\ntmax_71627   -0.007064  0.004762  0.985272  5  0.002740 -0.016869\ntmax_KNYL0   -0.009280  0.006183  0.985797  5  0.003451 -0.022011\ntavg_KNYL0   -0.010713  0.007010  0.986574  5  0.003721 -0.025147\ntmin_71627   -0.015669  0.006423  0.997256  5 -0.002444 -0.028893\ntavg_72529   -0.016547  0.006340  0.997851  5 -0.003492 -0.029602\npres_KOTM0   -0.017535  0.018360  0.950209  5  0.020269 -0.055339\nprcp_72529   -0.018745  0.007899  0.996969  5 -0.002481 -0.035009\ntmax_72529   -0.026463  0.010844  0.997259  5 -0.004135 -0.048790\nsnow_72529   -0.031916  0.006868  0.999758  5 -0.017774 -0.046058\nprcp_71627   -0.036941  0.024629  0.985767  5  0.013770 -0.087653\npres_71627   -0.040918  0.017467  0.996826  5 -0.004952 -0.076883",
      "text/html": "<div>\n<style scoped>\n    .dataframe tbody tr th:only-of-type {\n        vertical-align: middle;\n    }\n\n    .dataframe tbody tr th {\n        vertical-align: top;\n    }\n\n    .dataframe thead th {\n        text-align: right;\n    }\n</style>\n<table border=\"1\" class=\"dataframe\">\n  <thead>\n    <tr style=\"text-align: right;\">\n      <th></th>\n      <th>importance</th>\n      <th>stddev</th>\n      <th>p_value</th>\n      <th>n</th>\n      <th>p99_high</th>\n      <th>p99_low</th>\n    </tr>\n  </thead>\n  <tbody>\n    <tr>\n      <th>ecmwf(9)</th>\n      <td>0.400923</td>\n      <td>0.091882</td>\n      <td>0.000309</td>\n      <td>5</td>\n      <td>0.590109</td>\n      <td>0.211737</td>\n    </tr>\n    <tr>\n      <th>gfs(10,14)</th>\n      <td>0.289470</td>\n      <td>0.037407</td>\n      <td>0.000033</td>\n      <td>5</td>\n      <td>0.366491</td>\n      <td>0.212448</td>\n    </tr>\n    <tr>\n      <th>ens(8)</th>\n      <td>0.106100</td>\n      <td>0.090682</td>\n      <td>0.029516</td>\n      <td>5</td>\n      <td>0.292815</td>\n      <td>-0.080616</td>\n    </tr>\n    <tr>\n      <th>pres_KNYL0</th>\n      <td>0.034648</td>\n      <td>0.015423</td>\n      <td>0.003683</td>\n      <td>5</td>\n      <td>0.066404</td>\n      <td>0.002893</td>\n    </tr>\n    <tr>\n      <th>cmc(9,14)</th>\n      <td>0.021462</td>\n      <td>0.023675</td>\n      <td>0.056293</td>\n      <td>5</td>\n      <td>0.070209</td>\n      <td>-0.027285</td>\n    </tr>\n    <tr>\n      <th>prcp_KOTM0</th>\n      <td>0.016158</td>\n      <td>0.015373</td>\n      <td>0.039249</td>\n      <td>5</td>\n      <td>0.047812</td>\n      <td>-0.015496</td>\n    </tr>\n    <tr>\n      <th>snow_71627</th>\n      <td>0.013997</td>\n      <td>0.016447</td>\n      <td>0.064892</td>\n      <td>5</td>\n      <td>0.047862</td>\n      <td>-0.019867</td>\n    </tr>\n    <tr>\n      <th>tmin_KITR0</th>\n      <td>0.013628</td>\n      <td>0.007653</td>\n      <td>0.008190</td>\n      <td>5</td>\n      <td>0.029386</td>\n      <td>-0.002131</td>\n    </tr>\n    <tr>\n      <th>pres_72529</th>\n      <td>0.007303</td>\n      <td>0.007320</td>\n      <td>0.044757</td>\n      <td>5</td>\n      <td>0.022374</td>\n      <td>-0.007768</td>\n    </tr>\n    <tr>\n      <th>pres_TMT7J</th>\n      <td>0.007277</td>\n      <td>0.011813</td>\n      <td>0.120205</td>\n      <td>5</td>\n      <td>0.031599</td>\n      <td>-0.017045</td>\n    </tr>\n    <tr>\n      <th>prcp_KNYL0</th>\n      <td>0.006923</td>\n      <td>0.006051</td>\n      <td>0.031381</td>\n      <td>5</td>\n      <td>0.019383</td>\n      <td>-0.005537</td>\n    </tr>\n    <tr>\n      <th>tmax_KOTM0</th>\n      <td>0.004534</td>\n      <td>0.012878</td>\n      <td>0.237575</td>\n      <td>5</td>\n      <td>0.031051</td>\n      <td>-0.021982</td>\n    </tr>\n    <tr>\n      <th>tavg_KOTM0</th>\n      <td>0.001684</td>\n      <td>0.009602</td>\n      <td>0.357498</td>\n      <td>5</td>\n      <td>0.021453</td>\n      <td>-0.018086</td>\n    </tr>\n    <tr>\n      <th>tmin_TMT7J</th>\n      <td>0.001385</td>\n      <td>0.005028</td>\n      <td>0.285602</td>\n      <td>5</td>\n      <td>0.011737</td>\n      <td>-0.008967</td>\n    </tr>\n    <tr>\n      <th>tmin_KNYL0</th>\n      <td>0.000315</td>\n      <td>0.004624</td>\n      <td>0.443059</td>\n      <td>5</td>\n      <td>0.009836</td>\n      <td>-0.009205</td>\n    </tr>\n    <tr>\n      <th>pres_KITR0</th>\n      <td>0.000006</td>\n      <td>0.005897</td>\n      <td>0.499158</td>\n      <td>5</td>\n      <td>0.012148</td>\n      <td>-0.012136</td>\n    </tr>\n    <tr>\n      <th>tmin_KOTM0</th>\n      <td>-0.000839</td>\n      <td>0.009796</td>\n      <td>0.571259</td>\n      <td>5</td>\n      <td>0.019332</td>\n      <td>-0.021009</td>\n    </tr>\n    <tr>\n      <th>prcp_KITR0</th>\n      <td>-0.000886</td>\n      <td>0.008409</td>\n      <td>0.587301</td>\n      <td>5</td>\n      <td>0.016429</td>\n      <td>-0.018200</td>\n    </tr>\n    <tr>\n      <th>tavg_TMT7J</th>\n      <td>-0.000924</td>\n      <td>0.002054</td>\n      <td>0.814224</td>\n      <td>5</td>\n      <td>0.003306</td>\n      <td>-0.005153</td>\n    </tr>\n    <tr>\n      <th>tmax_TMT7J</th>\n      <td>-0.001682</td>\n      <td>0.001800</td>\n      <td>0.947559</td>\n      <td>5</td>\n      <td>0.002024</td>\n      <td>-0.005387</td>\n    </tr>\n    <tr>\n      <th>tmin_72529</th>\n      <td>-0.002404</td>\n      <td>0.009749</td>\n      <td>0.694630</td>\n      <td>5</td>\n      <td>0.017670</td>\n      <td>-0.022477</td>\n    </tr>\n    <tr>\n      <th>prcp_TMT7J</th>\n      <td>-0.002559</td>\n      <td>0.007606</td>\n      <td>0.753142</td>\n      <td>5</td>\n      <td>0.013102</td>\n      <td>-0.018220</td>\n    </tr>\n    <tr>\n      <th>tmax_KITR0</th>\n      <td>-0.003496</td>\n      <td>0.012998</td>\n      <td>0.710018</td>\n      <td>5</td>\n      <td>0.023267</td>\n      <td>-0.030259</td>\n    </tr>\n    <tr>\n      <th>tavg_71627</th>\n      <td>-0.004188</td>\n      <td>0.008149</td>\n      <td>0.842742</td>\n      <td>5</td>\n      <td>0.012591</td>\n      <td>-0.020967</td>\n    </tr>\n    <tr>\n      <th>tavg_KITR0</th>\n      <td>-0.006859</td>\n      <td>0.008669</td>\n      <td>0.924216</td>\n      <td>5</td>\n      <td>0.010990</td>\n      <td>-0.024708</td>\n    </tr>\n    <tr>\n      <th>tmax_71627</th>\n      <td>-0.007064</td>\n      <td>0.004762</td>\n      <td>0.985272</td>\n      <td>5</td>\n      <td>0.002740</td>\n      <td>-0.016869</td>\n    </tr>\n    <tr>\n      <th>tmax_KNYL0</th>\n      <td>-0.009280</td>\n      <td>0.006183</td>\n      <td>0.985797</td>\n      <td>5</td>\n      <td>0.003451</td>\n      <td>-0.022011</td>\n    </tr>\n    <tr>\n      <th>tavg_KNYL0</th>\n      <td>-0.010713</td>\n      <td>0.007010</td>\n      <td>0.986574</td>\n      <td>5</td>\n      <td>0.003721</td>\n      <td>-0.025147</td>\n    </tr>\n    <tr>\n      <th>tmin_71627</th>\n      <td>-0.015669</td>\n      <td>0.006423</td>\n      <td>0.997256</td>\n      <td>5</td>\n      <td>-0.002444</td>\n      <td>-0.028893</td>\n    </tr>\n    <tr>\n      <th>tavg_72529</th>\n      <td>-0.016547</td>\n      <td>0.006340</td>\n      <td>0.997851</td>\n      <td>5</td>\n      <td>-0.003492</td>\n      <td>-0.029602</td>\n    </tr>\n    <tr>\n      <th>pres_KOTM0</th>\n      <td>-0.017535</td>\n      <td>0.018360</td>\n      <td>0.950209</td>\n      <td>5</td>\n      <td>0.020269</td>\n      <td>-0.055339</td>\n    </tr>\n    <tr>\n      <th>prcp_72529</th>\n      <td>-0.018745</td>\n      <td>0.007899</td>\n      <td>0.996969</td>\n      <td>5</td>\n      <td>-0.002481</td>\n      <td>-0.035009</td>\n    </tr>\n    <tr>\n      <th>tmax_72529</th>\n      <td>-0.026463</td>\n      <td>0.010844</td>\n      <td>0.997259</td>\n      <td>5</td>\n      <td>-0.004135</td>\n      <td>-0.048790</td>\n    </tr>\n    <tr>\n      <th>snow_72529</th>\n      <td>-0.031916</td>\n      <td>0.006868</td>\n      <td>0.999758</td>\n      <td>5</td>\n      <td>-0.017774</td>\n      <td>-0.046058</td>\n    </tr>\n    <tr>\n      <th>prcp_71627</th>\n      <td>-0.036941</td>\n      <td>0.024629</td>\n      <td>0.985767</td>\n      <td>5</td>\n      <td>0.013770</td>\n      <td>-0.087653</td>\n    </tr>\n    <tr>\n      <th>pres_71627</th>\n      <td>-0.040918</td>\n      <td>0.017467</td>\n      <td>0.996826</td>\n      <td>5</td>\n      <td>-0.004952</td>\n      <td>-0.076883</td>\n    </tr>\n  </tbody>\n</table>\n</div>"
     },
     "execution_count": 61,
     "metadata": {},
     "output_type": "execute_result"
    }
   ],
   "source": [
    "predictor.feature_importance(test_data, silent=True)"
   ],
   "metadata": {
    "collapsed": false,
    "ExecuteTime": {
     "start_time": "2023-07-10T14:24:23.531355Z",
     "end_time": "2023-07-10T14:24:35.805099Z"
    }
   }
  },
  {
   "cell_type": "code",
   "execution_count": 62,
   "outputs": [
    {
     "name": "stdout",
     "output_type": "stream",
     "text": [
      "MSE: 22.377\n",
      "RMSE: 4.73\n",
      "MAE: 3.701\n",
      "MAPE: 1.669\n",
      "R2: 0.201\n"
     ]
    }
   ],
   "source": [
    "y_pred = predictor.predict(test_data_nolabel)\n",
    "display_errors(y_test, y_pred)"
   ],
   "metadata": {
    "collapsed": false,
    "ExecuteTime": {
     "start_time": "2023-07-10T14:24:35.805428Z",
     "end_time": "2023-07-10T14:24:36.592962Z"
    }
   }
  },
  {
   "cell_type": "code",
   "execution_count": 58,
   "outputs": [
    {
     "ename": "ValueError",
     "evalue": "Input X contains NaN.\nLinearRegression does not accept missing values encoded as NaN natively. For supervised learning, you might want to consider sklearn.ensemble.HistGradientBoostingClassifier and Regressor which accept missing values encoded as NaNs natively. Alternatively, it is possible to preprocess the data, for instance by using an imputer transformer in a pipeline or drop samples with missing values. See https://scikit-learn.org/stable/modules/impute.html You can find a list of all estimators that handle NaN values at the following page: https://scikit-learn.org/stable/modules/impute.html#estimators-that-handle-nan-values",
     "output_type": "error",
     "traceback": [
      "\u001B[0;31m---------------------------------------------------------------------------\u001B[0m",
      "\u001B[0;31mValueError\u001B[0m                                Traceback (most recent call last)",
      "Cell \u001B[0;32mIn[58], line 1\u001B[0m\n\u001B[0;32m----> 1\u001B[0m linreg \u001B[38;5;241m=\u001B[39m \u001B[43mLinReg\u001B[49m\u001B[43m(\u001B[49m\u001B[43mtrain_data\u001B[49m\u001B[43m,\u001B[49m\u001B[43m \u001B[49m\u001B[43mtest_data\u001B[49m\u001B[43m,\u001B[49m\u001B[43m \u001B[49m\u001B[43mlabel\u001B[49m\u001B[43m)\u001B[49m\n",
      "Cell \u001B[0;32mIn[3], line 8\u001B[0m, in \u001B[0;36mLinReg.__init__\u001B[0;34m(self, train_data, test_data, target_col)\u001B[0m\n\u001B[1;32m      6\u001B[0m \u001B[38;5;28mself\u001B[39m\u001B[38;5;241m.\u001B[39my_test \u001B[38;5;241m=\u001B[39m test_data[target_col]\n\u001B[1;32m      7\u001B[0m \u001B[38;5;28mself\u001B[39m\u001B[38;5;241m.\u001B[39mtarget_col \u001B[38;5;241m=\u001B[39m target_col\n\u001B[0;32m----> 8\u001B[0m \u001B[38;5;28mself\u001B[39m\u001B[38;5;241m.\u001B[39mmodel \u001B[38;5;241m=\u001B[39m \u001B[43mLinearRegression\u001B[49m\u001B[43m(\u001B[49m\u001B[43m)\u001B[49m\u001B[38;5;241;43m.\u001B[39;49m\u001B[43mfit\u001B[49m\u001B[43m(\u001B[49m\u001B[38;5;28;43mself\u001B[39;49m\u001B[38;5;241;43m.\u001B[39;49m\u001B[43mX_train\u001B[49m\u001B[43m,\u001B[49m\u001B[43m \u001B[49m\u001B[38;5;28;43mself\u001B[39;49m\u001B[38;5;241;43m.\u001B[39;49m\u001B[43my_train\u001B[49m\u001B[43m)\u001B[49m\n\u001B[1;32m      9\u001B[0m \u001B[38;5;28mself\u001B[39m\u001B[38;5;241m.\u001B[39my_pred \u001B[38;5;241m=\u001B[39m \u001B[38;5;28mself\u001B[39m\u001B[38;5;241m.\u001B[39mmodel\u001B[38;5;241m.\u001B[39mpredict(\u001B[38;5;28mself\u001B[39m\u001B[38;5;241m.\u001B[39mX_test)\n\u001B[1;32m     10\u001B[0m \u001B[38;5;28mself\u001B[39m\u001B[38;5;241m.\u001B[39mevaluate()\n",
      "File \u001B[0;32m~/opt/miniconda3/envs/Kayak/lib/python3.10/site-packages/sklearn/linear_model/_base.py:648\u001B[0m, in \u001B[0;36mLinearRegression.fit\u001B[0;34m(self, X, y, sample_weight)\u001B[0m\n\u001B[1;32m    644\u001B[0m n_jobs_ \u001B[38;5;241m=\u001B[39m \u001B[38;5;28mself\u001B[39m\u001B[38;5;241m.\u001B[39mn_jobs\n\u001B[1;32m    646\u001B[0m accept_sparse \u001B[38;5;241m=\u001B[39m \u001B[38;5;28;01mFalse\u001B[39;00m \u001B[38;5;28;01mif\u001B[39;00m \u001B[38;5;28mself\u001B[39m\u001B[38;5;241m.\u001B[39mpositive \u001B[38;5;28;01melse\u001B[39;00m [\u001B[38;5;124m\"\u001B[39m\u001B[38;5;124mcsr\u001B[39m\u001B[38;5;124m\"\u001B[39m, \u001B[38;5;124m\"\u001B[39m\u001B[38;5;124mcsc\u001B[39m\u001B[38;5;124m\"\u001B[39m, \u001B[38;5;124m\"\u001B[39m\u001B[38;5;124mcoo\u001B[39m\u001B[38;5;124m\"\u001B[39m]\n\u001B[0;32m--> 648\u001B[0m X, y \u001B[38;5;241m=\u001B[39m \u001B[38;5;28;43mself\u001B[39;49m\u001B[38;5;241;43m.\u001B[39;49m\u001B[43m_validate_data\u001B[49m\u001B[43m(\u001B[49m\n\u001B[1;32m    649\u001B[0m \u001B[43m    \u001B[49m\u001B[43mX\u001B[49m\u001B[43m,\u001B[49m\u001B[43m \u001B[49m\u001B[43my\u001B[49m\u001B[43m,\u001B[49m\u001B[43m \u001B[49m\u001B[43maccept_sparse\u001B[49m\u001B[38;5;241;43m=\u001B[39;49m\u001B[43maccept_sparse\u001B[49m\u001B[43m,\u001B[49m\u001B[43m \u001B[49m\u001B[43my_numeric\u001B[49m\u001B[38;5;241;43m=\u001B[39;49m\u001B[38;5;28;43;01mTrue\u001B[39;49;00m\u001B[43m,\u001B[49m\u001B[43m \u001B[49m\u001B[43mmulti_output\u001B[49m\u001B[38;5;241;43m=\u001B[39;49m\u001B[38;5;28;43;01mTrue\u001B[39;49;00m\n\u001B[1;32m    650\u001B[0m \u001B[43m\u001B[49m\u001B[43m)\u001B[49m\n\u001B[1;32m    652\u001B[0m sample_weight \u001B[38;5;241m=\u001B[39m _check_sample_weight(\n\u001B[1;32m    653\u001B[0m     sample_weight, X, dtype\u001B[38;5;241m=\u001B[39mX\u001B[38;5;241m.\u001B[39mdtype, only_non_negative\u001B[38;5;241m=\u001B[39m\u001B[38;5;28;01mTrue\u001B[39;00m\n\u001B[1;32m    654\u001B[0m )\n\u001B[1;32m    656\u001B[0m X, y, X_offset, y_offset, X_scale \u001B[38;5;241m=\u001B[39m _preprocess_data(\n\u001B[1;32m    657\u001B[0m     X,\n\u001B[1;32m    658\u001B[0m     y,\n\u001B[0;32m   (...)\u001B[0m\n\u001B[1;32m    661\u001B[0m     sample_weight\u001B[38;5;241m=\u001B[39msample_weight,\n\u001B[1;32m    662\u001B[0m )\n",
      "File \u001B[0;32m~/opt/miniconda3/envs/Kayak/lib/python3.10/site-packages/sklearn/base.py:584\u001B[0m, in \u001B[0;36mBaseEstimator._validate_data\u001B[0;34m(self, X, y, reset, validate_separately, **check_params)\u001B[0m\n\u001B[1;32m    582\u001B[0m         y \u001B[38;5;241m=\u001B[39m check_array(y, input_name\u001B[38;5;241m=\u001B[39m\u001B[38;5;124m\"\u001B[39m\u001B[38;5;124my\u001B[39m\u001B[38;5;124m\"\u001B[39m, \u001B[38;5;241m*\u001B[39m\u001B[38;5;241m*\u001B[39mcheck_y_params)\n\u001B[1;32m    583\u001B[0m     \u001B[38;5;28;01melse\u001B[39;00m:\n\u001B[0;32m--> 584\u001B[0m         X, y \u001B[38;5;241m=\u001B[39m \u001B[43mcheck_X_y\u001B[49m\u001B[43m(\u001B[49m\u001B[43mX\u001B[49m\u001B[43m,\u001B[49m\u001B[43m \u001B[49m\u001B[43my\u001B[49m\u001B[43m,\u001B[49m\u001B[43m \u001B[49m\u001B[38;5;241;43m*\u001B[39;49m\u001B[38;5;241;43m*\u001B[39;49m\u001B[43mcheck_params\u001B[49m\u001B[43m)\u001B[49m\n\u001B[1;32m    585\u001B[0m     out \u001B[38;5;241m=\u001B[39m X, y\n\u001B[1;32m    587\u001B[0m \u001B[38;5;28;01mif\u001B[39;00m \u001B[38;5;129;01mnot\u001B[39;00m no_val_X \u001B[38;5;129;01mand\u001B[39;00m check_params\u001B[38;5;241m.\u001B[39mget(\u001B[38;5;124m\"\u001B[39m\u001B[38;5;124mensure_2d\u001B[39m\u001B[38;5;124m\"\u001B[39m, \u001B[38;5;28;01mTrue\u001B[39;00m):\n",
      "File \u001B[0;32m~/opt/miniconda3/envs/Kayak/lib/python3.10/site-packages/sklearn/utils/validation.py:1106\u001B[0m, in \u001B[0;36mcheck_X_y\u001B[0;34m(X, y, accept_sparse, accept_large_sparse, dtype, order, copy, force_all_finite, ensure_2d, allow_nd, multi_output, ensure_min_samples, ensure_min_features, y_numeric, estimator)\u001B[0m\n\u001B[1;32m   1101\u001B[0m         estimator_name \u001B[38;5;241m=\u001B[39m _check_estimator_name(estimator)\n\u001B[1;32m   1102\u001B[0m     \u001B[38;5;28;01mraise\u001B[39;00m \u001B[38;5;167;01mValueError\u001B[39;00m(\n\u001B[1;32m   1103\u001B[0m         \u001B[38;5;124mf\u001B[39m\u001B[38;5;124m\"\u001B[39m\u001B[38;5;132;01m{\u001B[39;00mestimator_name\u001B[38;5;132;01m}\u001B[39;00m\u001B[38;5;124m requires y to be passed, but the target y is None\u001B[39m\u001B[38;5;124m\"\u001B[39m\n\u001B[1;32m   1104\u001B[0m     )\n\u001B[0;32m-> 1106\u001B[0m X \u001B[38;5;241m=\u001B[39m \u001B[43mcheck_array\u001B[49m\u001B[43m(\u001B[49m\n\u001B[1;32m   1107\u001B[0m \u001B[43m    \u001B[49m\u001B[43mX\u001B[49m\u001B[43m,\u001B[49m\n\u001B[1;32m   1108\u001B[0m \u001B[43m    \u001B[49m\u001B[43maccept_sparse\u001B[49m\u001B[38;5;241;43m=\u001B[39;49m\u001B[43maccept_sparse\u001B[49m\u001B[43m,\u001B[49m\n\u001B[1;32m   1109\u001B[0m \u001B[43m    \u001B[49m\u001B[43maccept_large_sparse\u001B[49m\u001B[38;5;241;43m=\u001B[39;49m\u001B[43maccept_large_sparse\u001B[49m\u001B[43m,\u001B[49m\n\u001B[1;32m   1110\u001B[0m \u001B[43m    \u001B[49m\u001B[43mdtype\u001B[49m\u001B[38;5;241;43m=\u001B[39;49m\u001B[43mdtype\u001B[49m\u001B[43m,\u001B[49m\n\u001B[1;32m   1111\u001B[0m \u001B[43m    \u001B[49m\u001B[43morder\u001B[49m\u001B[38;5;241;43m=\u001B[39;49m\u001B[43morder\u001B[49m\u001B[43m,\u001B[49m\n\u001B[1;32m   1112\u001B[0m \u001B[43m    \u001B[49m\u001B[43mcopy\u001B[49m\u001B[38;5;241;43m=\u001B[39;49m\u001B[43mcopy\u001B[49m\u001B[43m,\u001B[49m\n\u001B[1;32m   1113\u001B[0m \u001B[43m    \u001B[49m\u001B[43mforce_all_finite\u001B[49m\u001B[38;5;241;43m=\u001B[39;49m\u001B[43mforce_all_finite\u001B[49m\u001B[43m,\u001B[49m\n\u001B[1;32m   1114\u001B[0m \u001B[43m    \u001B[49m\u001B[43mensure_2d\u001B[49m\u001B[38;5;241;43m=\u001B[39;49m\u001B[43mensure_2d\u001B[49m\u001B[43m,\u001B[49m\n\u001B[1;32m   1115\u001B[0m \u001B[43m    \u001B[49m\u001B[43mallow_nd\u001B[49m\u001B[38;5;241;43m=\u001B[39;49m\u001B[43mallow_nd\u001B[49m\u001B[43m,\u001B[49m\n\u001B[1;32m   1116\u001B[0m \u001B[43m    \u001B[49m\u001B[43mensure_min_samples\u001B[49m\u001B[38;5;241;43m=\u001B[39;49m\u001B[43mensure_min_samples\u001B[49m\u001B[43m,\u001B[49m\n\u001B[1;32m   1117\u001B[0m \u001B[43m    \u001B[49m\u001B[43mensure_min_features\u001B[49m\u001B[38;5;241;43m=\u001B[39;49m\u001B[43mensure_min_features\u001B[49m\u001B[43m,\u001B[49m\n\u001B[1;32m   1118\u001B[0m \u001B[43m    \u001B[49m\u001B[43mestimator\u001B[49m\u001B[38;5;241;43m=\u001B[39;49m\u001B[43mestimator\u001B[49m\u001B[43m,\u001B[49m\n\u001B[1;32m   1119\u001B[0m \u001B[43m    \u001B[49m\u001B[43minput_name\u001B[49m\u001B[38;5;241;43m=\u001B[39;49m\u001B[38;5;124;43m\"\u001B[39;49m\u001B[38;5;124;43mX\u001B[39;49m\u001B[38;5;124;43m\"\u001B[39;49m\u001B[43m,\u001B[49m\n\u001B[1;32m   1120\u001B[0m \u001B[43m\u001B[49m\u001B[43m)\u001B[49m\n\u001B[1;32m   1122\u001B[0m y \u001B[38;5;241m=\u001B[39m _check_y(y, multi_output\u001B[38;5;241m=\u001B[39mmulti_output, y_numeric\u001B[38;5;241m=\u001B[39my_numeric, estimator\u001B[38;5;241m=\u001B[39mestimator)\n\u001B[1;32m   1124\u001B[0m check_consistent_length(X, y)\n",
      "File \u001B[0;32m~/opt/miniconda3/envs/Kayak/lib/python3.10/site-packages/sklearn/utils/validation.py:921\u001B[0m, in \u001B[0;36mcheck_array\u001B[0;34m(array, accept_sparse, accept_large_sparse, dtype, order, copy, force_all_finite, ensure_2d, allow_nd, ensure_min_samples, ensure_min_features, estimator, input_name)\u001B[0m\n\u001B[1;32m    915\u001B[0m         \u001B[38;5;28;01mraise\u001B[39;00m \u001B[38;5;167;01mValueError\u001B[39;00m(\n\u001B[1;32m    916\u001B[0m             \u001B[38;5;124m\"\u001B[39m\u001B[38;5;124mFound array with dim \u001B[39m\u001B[38;5;132;01m%d\u001B[39;00m\u001B[38;5;124m. \u001B[39m\u001B[38;5;132;01m%s\u001B[39;00m\u001B[38;5;124m expected <= 2.\u001B[39m\u001B[38;5;124m\"\u001B[39m\n\u001B[1;32m    917\u001B[0m             \u001B[38;5;241m%\u001B[39m (array\u001B[38;5;241m.\u001B[39mndim, estimator_name)\n\u001B[1;32m    918\u001B[0m         )\n\u001B[1;32m    920\u001B[0m     \u001B[38;5;28;01mif\u001B[39;00m force_all_finite:\n\u001B[0;32m--> 921\u001B[0m         \u001B[43m_assert_all_finite\u001B[49m\u001B[43m(\u001B[49m\n\u001B[1;32m    922\u001B[0m \u001B[43m            \u001B[49m\u001B[43marray\u001B[49m\u001B[43m,\u001B[49m\n\u001B[1;32m    923\u001B[0m \u001B[43m            \u001B[49m\u001B[43minput_name\u001B[49m\u001B[38;5;241;43m=\u001B[39;49m\u001B[43minput_name\u001B[49m\u001B[43m,\u001B[49m\n\u001B[1;32m    924\u001B[0m \u001B[43m            \u001B[49m\u001B[43mestimator_name\u001B[49m\u001B[38;5;241;43m=\u001B[39;49m\u001B[43mestimator_name\u001B[49m\u001B[43m,\u001B[49m\n\u001B[1;32m    925\u001B[0m \u001B[43m            \u001B[49m\u001B[43mallow_nan\u001B[49m\u001B[38;5;241;43m=\u001B[39;49m\u001B[43mforce_all_finite\u001B[49m\u001B[43m \u001B[49m\u001B[38;5;241;43m==\u001B[39;49m\u001B[43m \u001B[49m\u001B[38;5;124;43m\"\u001B[39;49m\u001B[38;5;124;43mallow-nan\u001B[39;49m\u001B[38;5;124;43m\"\u001B[39;49m\u001B[43m,\u001B[49m\n\u001B[1;32m    926\u001B[0m \u001B[43m        \u001B[49m\u001B[43m)\u001B[49m\n\u001B[1;32m    928\u001B[0m \u001B[38;5;28;01mif\u001B[39;00m ensure_min_samples \u001B[38;5;241m>\u001B[39m \u001B[38;5;241m0\u001B[39m:\n\u001B[1;32m    929\u001B[0m     n_samples \u001B[38;5;241m=\u001B[39m _num_samples(array)\n",
      "File \u001B[0;32m~/opt/miniconda3/envs/Kayak/lib/python3.10/site-packages/sklearn/utils/validation.py:161\u001B[0m, in \u001B[0;36m_assert_all_finite\u001B[0;34m(X, allow_nan, msg_dtype, estimator_name, input_name)\u001B[0m\n\u001B[1;32m    144\u001B[0m \u001B[38;5;28;01mif\u001B[39;00m estimator_name \u001B[38;5;129;01mand\u001B[39;00m input_name \u001B[38;5;241m==\u001B[39m \u001B[38;5;124m\"\u001B[39m\u001B[38;5;124mX\u001B[39m\u001B[38;5;124m\"\u001B[39m \u001B[38;5;129;01mand\u001B[39;00m has_nan_error:\n\u001B[1;32m    145\u001B[0m     \u001B[38;5;66;03m# Improve the error message on how to handle missing values in\u001B[39;00m\n\u001B[1;32m    146\u001B[0m     \u001B[38;5;66;03m# scikit-learn.\u001B[39;00m\n\u001B[1;32m    147\u001B[0m     msg_err \u001B[38;5;241m+\u001B[39m\u001B[38;5;241m=\u001B[39m (\n\u001B[1;32m    148\u001B[0m         \u001B[38;5;124mf\u001B[39m\u001B[38;5;124m\"\u001B[39m\u001B[38;5;130;01m\\n\u001B[39;00m\u001B[38;5;132;01m{\u001B[39;00mestimator_name\u001B[38;5;132;01m}\u001B[39;00m\u001B[38;5;124m does not accept missing values\u001B[39m\u001B[38;5;124m\"\u001B[39m\n\u001B[1;32m    149\u001B[0m         \u001B[38;5;124m\"\u001B[39m\u001B[38;5;124m encoded as NaN natively. For supervised learning, you might want\u001B[39m\u001B[38;5;124m\"\u001B[39m\n\u001B[0;32m   (...)\u001B[0m\n\u001B[1;32m    159\u001B[0m         \u001B[38;5;124m\"\u001B[39m\u001B[38;5;124m#estimators-that-handle-nan-values\u001B[39m\u001B[38;5;124m\"\u001B[39m\n\u001B[1;32m    160\u001B[0m     )\n\u001B[0;32m--> 161\u001B[0m \u001B[38;5;28;01mraise\u001B[39;00m \u001B[38;5;167;01mValueError\u001B[39;00m(msg_err)\n",
      "\u001B[0;31mValueError\u001B[0m: Input X contains NaN.\nLinearRegression does not accept missing values encoded as NaN natively. For supervised learning, you might want to consider sklearn.ensemble.HistGradientBoostingClassifier and Regressor which accept missing values encoded as NaNs natively. Alternatively, it is possible to preprocess the data, for instance by using an imputer transformer in a pipeline or drop samples with missing values. See https://scikit-learn.org/stable/modules/impute.html You can find a list of all estimators that handle NaN values at the following page: https://scikit-learn.org/stable/modules/impute.html#estimators-that-handle-nan-values"
     ]
    }
   ],
   "source": [
    "linreg = LinReg(train_data, test_data, label)"
   ],
   "metadata": {
    "collapsed": false,
    "ExecuteTime": {
     "start_time": "2023-07-06T15:37:16.448277Z",
     "end_time": "2023-07-06T15:37:16.461632Z"
    }
   }
  },
  {
   "cell_type": "code",
   "execution_count": 79,
   "outputs": [],
   "source": [],
   "metadata": {
    "collapsed": false,
    "ExecuteTime": {
     "start_time": "2023-07-06T16:55:21.427985Z",
     "end_time": "2023-07-06T16:55:21.438130Z"
    }
   }
  },
  {
   "cell_type": "code",
   "execution_count": 75,
   "outputs": [],
   "source": [],
   "metadata": {
    "collapsed": false,
    "ExecuteTime": {
     "start_time": "2023-07-06T15:38:10.070735Z",
     "end_time": "2023-07-06T15:38:10.083660Z"
    }
   }
  },
  {
   "cell_type": "code",
   "execution_count": 75,
   "outputs": [],
   "source": [],
   "metadata": {
    "collapsed": false,
    "ExecuteTime": {
     "start_time": "2023-07-06T15:38:10.589271Z",
     "end_time": "2023-07-06T15:38:10.598372Z"
    }
   }
  },
  {
   "cell_type": "code",
   "execution_count": null,
   "outputs": [],
   "source": [],
   "metadata": {
    "collapsed": false
   }
  },
  {
   "cell_type": "code",
   "execution_count": null,
   "outputs": [],
   "source": [],
   "metadata": {
    "collapsed": false
   }
  },
  {
   "cell_type": "code",
   "execution_count": null,
   "outputs": [],
   "source": [],
   "metadata": {
    "collapsed": false
   }
  },
  {
   "cell_type": "code",
   "execution_count": null,
   "outputs": [],
   "source": [],
   "metadata": {
    "collapsed": false
   }
  },
  {
   "cell_type": "markdown",
   "source": [
    "# weather data"
   ],
   "metadata": {
    "collapsed": false
   }
  },
  {
   "cell_type": "code",
   "execution_count": 89,
   "outputs": [],
   "source": [
    "from meteostat import Stations, Daily"
   ],
   "metadata": {
    "collapsed": false,
    "ExecuteTime": {
     "start_time": "2023-07-11T09:49:37.512918Z",
     "end_time": "2023-07-11T09:49:37.542318Z"
    }
   }
  },
  {
   "cell_type": "code",
   "execution_count": 90,
   "outputs": [
    {
     "data": {
      "text/plain": "                                    name country region    wmo  icao  \\\nid                                                                     \n72280          Yuma / Yuma International      US     AZ  72280  KYUM   \nKNYL0    Yuma / Desert Royal Mobile Park      US     AZ   <NA>  KNYL   \nCDCYH            Yuma Auxiliary Airfield      US     AZ   <NA>  KNOZ   \nKLGF0                      Yuma / Laguna      US     AZ   <NA>  KLGF   \n76005  Mexicali / Islas Agrarias Grupo B      MX    BCN  76005  MMML   \n...                                  ...     ...    ...    ...   ...   \n61984                       Saint-Pierre      RE   <NA>  61984  FMEP   \n61995                   Vacoas Mauritius      MU     PW  61995  <NA>   \n61990                Plaisance Mauritius      MU     GP  61990  FIMP   \n61988                          Rodrigues      MU     RO  61988  FIMR   \n61996     Martin De Vivies Ile Amsterdam      TF   <NA>  61996  <NA>   \n\n       latitude  longitude  elevation          timezone hourly_start  \\\nid                                                                     \n72280   32.6500  -114.6000       65.0   America/Phoenix   1942-01-16   \nKNYL0   32.6566  -114.6060       65.0   America/Phoenix   1988-01-01   \nCDCYH   32.5000  -114.4500      105.0   America/Phoenix   2022-04-23   \nKLGF0   32.8600  -114.3967      132.0   America/Phoenix   2020-01-14   \n76005   32.6306  -115.2415       22.0   America/Tijuana   1990-03-14   \n...         ...        ...        ...               ...          ...   \n61984  -21.3333    55.4833       52.0    Indian/Reunion   1973-01-02   \n61995  -20.3000    57.5000      423.0  Indian/Mauritius          NaT   \n61990  -20.4333    57.6667       55.0  Indian/Mauritius   1949-02-01   \n61988  -19.6833    63.4167       58.0  Indian/Mauritius   1949-02-01   \n61996  -37.8000    77.5333       27.0      Europe/Paris          NaT   \n\n      hourly_end daily_start  daily_end monthly_start monthly_end  \\\nid                                                                  \n72280 2007-01-05  1942-11-02 2006-12-25    1942-01-01  1995-01-01   \nKNYL0 2023-07-10  1988-01-01 2022-04-24    1988-01-01  2020-01-01   \nCDCYH 2023-07-05  2022-04-24 2022-04-26           NaT         NaT   \nKLGF0 2023-07-09  2020-01-15 2022-04-24           NaT         NaT   \n76005 2023-07-10  2020-03-10 2020-03-12           NaT         NaT   \n...          ...         ...        ...           ...         ...   \n61984 2023-07-10  2013-03-10 2022-04-25    2015-01-01  2022-01-01   \n61995        NaT  1961-01-01 2023-07-02    1961-01-01  2021-01-01   \n61990 2023-07-10  1951-01-01 2023-07-02    1951-01-01  2021-01-01   \n61988 2023-06-27  1961-01-01 2023-07-02    1954-01-01  2021-01-01   \n61996        NaT  1973-01-15 2019-12-27    1954-01-01  2021-01-01   \n\n           distance  \nid                   \n72280  2.907353e+03  \nKNYL0  3.235241e+03  \nCDCYH  2.151186e+04  \nKLGF0  3.301838e+04  \n76005  5.820016e+04  \n...             ...  \n61984  1.842337e+07  \n61995  1.843690e+07  \n61990  1.845814e+07  \n61988  1.856230e+07  \n61996  1.877175e+07  \n\n[15717 rows x 16 columns]",
      "text/html": "<div>\n<style scoped>\n    .dataframe tbody tr th:only-of-type {\n        vertical-align: middle;\n    }\n\n    .dataframe tbody tr th {\n        vertical-align: top;\n    }\n\n    .dataframe thead th {\n        text-align: right;\n    }\n</style>\n<table border=\"1\" class=\"dataframe\">\n  <thead>\n    <tr style=\"text-align: right;\">\n      <th></th>\n      <th>name</th>\n      <th>country</th>\n      <th>region</th>\n      <th>wmo</th>\n      <th>icao</th>\n      <th>latitude</th>\n      <th>longitude</th>\n      <th>elevation</th>\n      <th>timezone</th>\n      <th>hourly_start</th>\n      <th>hourly_end</th>\n      <th>daily_start</th>\n      <th>daily_end</th>\n      <th>monthly_start</th>\n      <th>monthly_end</th>\n      <th>distance</th>\n    </tr>\n    <tr>\n      <th>id</th>\n      <th></th>\n      <th></th>\n      <th></th>\n      <th></th>\n      <th></th>\n      <th></th>\n      <th></th>\n      <th></th>\n      <th></th>\n      <th></th>\n      <th></th>\n      <th></th>\n      <th></th>\n      <th></th>\n      <th></th>\n      <th></th>\n    </tr>\n  </thead>\n  <tbody>\n    <tr>\n      <th>72280</th>\n      <td>Yuma / Yuma International</td>\n      <td>US</td>\n      <td>AZ</td>\n      <td>72280</td>\n      <td>KYUM</td>\n      <td>32.6500</td>\n      <td>-114.6000</td>\n      <td>65.0</td>\n      <td>America/Phoenix</td>\n      <td>1942-01-16</td>\n      <td>2007-01-05</td>\n      <td>1942-11-02</td>\n      <td>2006-12-25</td>\n      <td>1942-01-01</td>\n      <td>1995-01-01</td>\n      <td>2.907353e+03</td>\n    </tr>\n    <tr>\n      <th>KNYL0</th>\n      <td>Yuma / Desert Royal Mobile Park</td>\n      <td>US</td>\n      <td>AZ</td>\n      <td>&lt;NA&gt;</td>\n      <td>KNYL</td>\n      <td>32.6566</td>\n      <td>-114.6060</td>\n      <td>65.0</td>\n      <td>America/Phoenix</td>\n      <td>1988-01-01</td>\n      <td>2023-07-10</td>\n      <td>1988-01-01</td>\n      <td>2022-04-24</td>\n      <td>1988-01-01</td>\n      <td>2020-01-01</td>\n      <td>3.235241e+03</td>\n    </tr>\n    <tr>\n      <th>CDCYH</th>\n      <td>Yuma Auxiliary Airfield</td>\n      <td>US</td>\n      <td>AZ</td>\n      <td>&lt;NA&gt;</td>\n      <td>KNOZ</td>\n      <td>32.5000</td>\n      <td>-114.4500</td>\n      <td>105.0</td>\n      <td>America/Phoenix</td>\n      <td>2022-04-23</td>\n      <td>2023-07-05</td>\n      <td>2022-04-24</td>\n      <td>2022-04-26</td>\n      <td>NaT</td>\n      <td>NaT</td>\n      <td>2.151186e+04</td>\n    </tr>\n    <tr>\n      <th>KLGF0</th>\n      <td>Yuma / Laguna</td>\n      <td>US</td>\n      <td>AZ</td>\n      <td>&lt;NA&gt;</td>\n      <td>KLGF</td>\n      <td>32.8600</td>\n      <td>-114.3967</td>\n      <td>132.0</td>\n      <td>America/Phoenix</td>\n      <td>2020-01-14</td>\n      <td>2023-07-09</td>\n      <td>2020-01-15</td>\n      <td>2022-04-24</td>\n      <td>NaT</td>\n      <td>NaT</td>\n      <td>3.301838e+04</td>\n    </tr>\n    <tr>\n      <th>76005</th>\n      <td>Mexicali / Islas Agrarias Grupo B</td>\n      <td>MX</td>\n      <td>BCN</td>\n      <td>76005</td>\n      <td>MMML</td>\n      <td>32.6306</td>\n      <td>-115.2415</td>\n      <td>22.0</td>\n      <td>America/Tijuana</td>\n      <td>1990-03-14</td>\n      <td>2023-07-10</td>\n      <td>2020-03-10</td>\n      <td>2020-03-12</td>\n      <td>NaT</td>\n      <td>NaT</td>\n      <td>5.820016e+04</td>\n    </tr>\n    <tr>\n      <th>...</th>\n      <td>...</td>\n      <td>...</td>\n      <td>...</td>\n      <td>...</td>\n      <td>...</td>\n      <td>...</td>\n      <td>...</td>\n      <td>...</td>\n      <td>...</td>\n      <td>...</td>\n      <td>...</td>\n      <td>...</td>\n      <td>...</td>\n      <td>...</td>\n      <td>...</td>\n      <td>...</td>\n    </tr>\n    <tr>\n      <th>61984</th>\n      <td>Saint-Pierre</td>\n      <td>RE</td>\n      <td>&lt;NA&gt;</td>\n      <td>61984</td>\n      <td>FMEP</td>\n      <td>-21.3333</td>\n      <td>55.4833</td>\n      <td>52.0</td>\n      <td>Indian/Reunion</td>\n      <td>1973-01-02</td>\n      <td>2023-07-10</td>\n      <td>2013-03-10</td>\n      <td>2022-04-25</td>\n      <td>2015-01-01</td>\n      <td>2022-01-01</td>\n      <td>1.842337e+07</td>\n    </tr>\n    <tr>\n      <th>61995</th>\n      <td>Vacoas Mauritius</td>\n      <td>MU</td>\n      <td>PW</td>\n      <td>61995</td>\n      <td>&lt;NA&gt;</td>\n      <td>-20.3000</td>\n      <td>57.5000</td>\n      <td>423.0</td>\n      <td>Indian/Mauritius</td>\n      <td>NaT</td>\n      <td>NaT</td>\n      <td>1961-01-01</td>\n      <td>2023-07-02</td>\n      <td>1961-01-01</td>\n      <td>2021-01-01</td>\n      <td>1.843690e+07</td>\n    </tr>\n    <tr>\n      <th>61990</th>\n      <td>Plaisance Mauritius</td>\n      <td>MU</td>\n      <td>GP</td>\n      <td>61990</td>\n      <td>FIMP</td>\n      <td>-20.4333</td>\n      <td>57.6667</td>\n      <td>55.0</td>\n      <td>Indian/Mauritius</td>\n      <td>1949-02-01</td>\n      <td>2023-07-10</td>\n      <td>1951-01-01</td>\n      <td>2023-07-02</td>\n      <td>1951-01-01</td>\n      <td>2021-01-01</td>\n      <td>1.845814e+07</td>\n    </tr>\n    <tr>\n      <th>61988</th>\n      <td>Rodrigues</td>\n      <td>MU</td>\n      <td>RO</td>\n      <td>61988</td>\n      <td>FIMR</td>\n      <td>-19.6833</td>\n      <td>63.4167</td>\n      <td>58.0</td>\n      <td>Indian/Mauritius</td>\n      <td>1949-02-01</td>\n      <td>2023-06-27</td>\n      <td>1961-01-01</td>\n      <td>2023-07-02</td>\n      <td>1954-01-01</td>\n      <td>2021-01-01</td>\n      <td>1.856230e+07</td>\n    </tr>\n    <tr>\n      <th>61996</th>\n      <td>Martin De Vivies Ile Amsterdam</td>\n      <td>TF</td>\n      <td>&lt;NA&gt;</td>\n      <td>61996</td>\n      <td>&lt;NA&gt;</td>\n      <td>-37.8000</td>\n      <td>77.5333</td>\n      <td>27.0</td>\n      <td>Europe/Paris</td>\n      <td>NaT</td>\n      <td>NaT</td>\n      <td>1973-01-15</td>\n      <td>2019-12-27</td>\n      <td>1954-01-01</td>\n      <td>2021-01-01</td>\n      <td>1.877175e+07</td>\n    </tr>\n  </tbody>\n</table>\n<p>15717 rows × 16 columns</p>\n</div>"
     },
     "metadata": {},
     "output_type": "display_data"
    }
   ],
   "source": [
    "stations = Stations()\n",
    "stations = stations.nearby(32.63, -114.62)\n",
    "\n",
    "display(stations.fetch())"
   ],
   "metadata": {
    "collapsed": false,
    "ExecuteTime": {
     "start_time": "2023-07-11T09:49:37.976473Z",
     "end_time": "2023-07-11T09:49:38.034598Z"
    }
   }
  },
  {
   "cell_type": "code",
   "execution_count": 46,
   "outputs": [],
   "source": [
    "\n",
    "# stations\n",
    "ids = [\"72529\", \"TMT7J\", \"KITR0\",\n",
    "       \"KOTM0\", \"71627\", \"72280\", \"KNYL0\"]\n",
    "# Set time period\n",
    "start = datetime(2018, 7, 11)\n",
    "end = datetime(2023, 5, 16)\n",
    "\n",
    "# Get daily data\n",
    "weather_df = pd.DataFrame()\n",
    "for i in ids:\n",
    "    data = Daily(i, start, end)\n",
    "    data = data.fetch()\n",
    "    data = data[['tavg', 'tmin', 'tmax', 'prcp', 'pres', 'snow']]\n",
    "    data = data.add_suffix(f'_{i}')\n",
    "    weather_df = pd.concat([weather_df, data], axis=1)"
   ],
   "metadata": {
    "collapsed": false,
    "ExecuteTime": {
     "start_time": "2023-07-10T14:18:26.664277Z",
     "end_time": "2023-07-10T14:18:26.715969Z"
    }
   }
  },
  {
   "cell_type": "code",
   "execution_count": 47,
   "outputs": [
    {
     "data": {
      "text/plain": "            tavg_72529  tmin_72529  tmax_72529  prcp_72529  pres_72529  \\\ntime                                                                     \n2018-07-11        23.8        15.6        26.7         0.0         NaN   \n2018-07-12        21.8        12.8        30.6         0.0         NaN   \n2018-07-13        25.1        17.8        32.2         0.0         NaN   \n2018-07-14        26.6        21.7        33.9         0.0         NaN   \n2018-07-15        25.7        20.0        32.8         0.0         NaN   \n...                ...         ...         ...         ...         ...   \n2023-05-12        19.6        11.1        27.8         0.0      1018.2   \n2023-05-13        19.1        11.1        22.2         0.0      1020.8   \n2023-05-14        13.0         6.7        15.6         0.0      1027.9   \n2023-05-15        12.3         3.3        21.1         0.0      1022.9   \n2023-05-16        15.6         7.2        22.8         0.0      1007.2   \n\n            snow_72529  tavg_TMT7J  tmin_TMT7J  tmax_TMT7J  prcp_TMT7J  ...  \\\ntime                                                                    ...   \n2018-07-11         0.0         NaN         NaN         NaN         NaN  ...   \n2018-07-12         0.0         NaN         NaN         NaN         NaN  ...   \n2018-07-13         0.0         NaN         NaN         NaN         NaN  ...   \n2018-07-14         0.0         NaN         NaN         NaN         NaN  ...   \n2018-07-15         0.0         NaN         NaN         NaN         NaN  ...   \n...                ...         ...         ...         ...         ...  ...   \n2023-05-12         0.0        17.7         8.0        26.0         1.0  ...   \n2023-05-13         0.0        16.8        10.6        23.3         0.0  ...   \n2023-05-14         0.0        10.2         5.0        17.2         0.0  ...   \n2023-05-15         0.0        11.8         0.0        19.4         0.0  ...   \n2023-05-16         0.0        17.3        10.0        23.9         0.0  ...   \n\n            tmax_72280  prcp_72280  pres_72280  snow_72280  tavg_KNYL0  \\\ntime                                                                     \n2018-07-11         NaN         NaN         NaN         NaN         NaN   \n2018-07-12         NaN         NaN         NaN         NaN         NaN   \n2018-07-13         NaN         NaN         NaN         NaN         NaN   \n2018-07-14         NaN         NaN         NaN         NaN         NaN   \n2018-07-15         NaN         NaN         NaN         NaN         NaN   \n...                ...         ...         ...         ...         ...   \n2023-05-12         NaN         NaN         NaN         NaN        26.7   \n2023-05-13         NaN         NaN         NaN         NaN        28.5   \n2023-05-14         NaN         NaN         NaN         NaN        30.2   \n2023-05-15         NaN         NaN         NaN         NaN        29.8   \n2023-05-16         NaN         NaN         NaN         NaN        30.4   \n\n            tmin_KNYL0  tmax_KNYL0  prcp_KNYL0  pres_KNYL0  snow_KNYL0  \ntime                                                                    \n2018-07-11         NaN         NaN         NaN         NaN         NaN  \n2018-07-12         NaN         NaN         NaN         NaN         NaN  \n2018-07-13         NaN         NaN         NaN         NaN         NaN  \n2018-07-14         NaN         NaN         NaN         NaN         NaN  \n2018-07-15         NaN         NaN         NaN         NaN         NaN  \n...                ...         ...         ...         ...         ...  \n2023-05-12        17.8        34.4         0.0      1008.8         NaN  \n2023-05-13        19.4        38.0         0.0      1006.1         NaN  \n2023-05-14        23.3        37.2         0.0      1009.4         NaN  \n2023-05-15        22.0        37.8         0.0      1013.5         NaN  \n2023-05-16        22.2        37.2         0.0      1011.2         NaN  \n\n[1771 rows x 42 columns]",
      "text/html": "<div>\n<style scoped>\n    .dataframe tbody tr th:only-of-type {\n        vertical-align: middle;\n    }\n\n    .dataframe tbody tr th {\n        vertical-align: top;\n    }\n\n    .dataframe thead th {\n        text-align: right;\n    }\n</style>\n<table border=\"1\" class=\"dataframe\">\n  <thead>\n    <tr style=\"text-align: right;\">\n      <th></th>\n      <th>tavg_72529</th>\n      <th>tmin_72529</th>\n      <th>tmax_72529</th>\n      <th>prcp_72529</th>\n      <th>pres_72529</th>\n      <th>snow_72529</th>\n      <th>tavg_TMT7J</th>\n      <th>tmin_TMT7J</th>\n      <th>tmax_TMT7J</th>\n      <th>prcp_TMT7J</th>\n      <th>...</th>\n      <th>tmax_72280</th>\n      <th>prcp_72280</th>\n      <th>pres_72280</th>\n      <th>snow_72280</th>\n      <th>tavg_KNYL0</th>\n      <th>tmin_KNYL0</th>\n      <th>tmax_KNYL0</th>\n      <th>prcp_KNYL0</th>\n      <th>pres_KNYL0</th>\n      <th>snow_KNYL0</th>\n    </tr>\n    <tr>\n      <th>time</th>\n      <th></th>\n      <th></th>\n      <th></th>\n      <th></th>\n      <th></th>\n      <th></th>\n      <th></th>\n      <th></th>\n      <th></th>\n      <th></th>\n      <th></th>\n      <th></th>\n      <th></th>\n      <th></th>\n      <th></th>\n      <th></th>\n      <th></th>\n      <th></th>\n      <th></th>\n      <th></th>\n      <th></th>\n    </tr>\n  </thead>\n  <tbody>\n    <tr>\n      <th>2018-07-11</th>\n      <td>23.8</td>\n      <td>15.6</td>\n      <td>26.7</td>\n      <td>0.0</td>\n      <td>NaN</td>\n      <td>0.0</td>\n      <td>NaN</td>\n      <td>NaN</td>\n      <td>NaN</td>\n      <td>NaN</td>\n      <td>...</td>\n      <td>NaN</td>\n      <td>NaN</td>\n      <td>NaN</td>\n      <td>NaN</td>\n      <td>NaN</td>\n      <td>NaN</td>\n      <td>NaN</td>\n      <td>NaN</td>\n      <td>NaN</td>\n      <td>NaN</td>\n    </tr>\n    <tr>\n      <th>2018-07-12</th>\n      <td>21.8</td>\n      <td>12.8</td>\n      <td>30.6</td>\n      <td>0.0</td>\n      <td>NaN</td>\n      <td>0.0</td>\n      <td>NaN</td>\n      <td>NaN</td>\n      <td>NaN</td>\n      <td>NaN</td>\n      <td>...</td>\n      <td>NaN</td>\n      <td>NaN</td>\n      <td>NaN</td>\n      <td>NaN</td>\n      <td>NaN</td>\n      <td>NaN</td>\n      <td>NaN</td>\n      <td>NaN</td>\n      <td>NaN</td>\n      <td>NaN</td>\n    </tr>\n    <tr>\n      <th>2018-07-13</th>\n      <td>25.1</td>\n      <td>17.8</td>\n      <td>32.2</td>\n      <td>0.0</td>\n      <td>NaN</td>\n      <td>0.0</td>\n      <td>NaN</td>\n      <td>NaN</td>\n      <td>NaN</td>\n      <td>NaN</td>\n      <td>...</td>\n      <td>NaN</td>\n      <td>NaN</td>\n      <td>NaN</td>\n      <td>NaN</td>\n      <td>NaN</td>\n      <td>NaN</td>\n      <td>NaN</td>\n      <td>NaN</td>\n      <td>NaN</td>\n      <td>NaN</td>\n    </tr>\n    <tr>\n      <th>2018-07-14</th>\n      <td>26.6</td>\n      <td>21.7</td>\n      <td>33.9</td>\n      <td>0.0</td>\n      <td>NaN</td>\n      <td>0.0</td>\n      <td>NaN</td>\n      <td>NaN</td>\n      <td>NaN</td>\n      <td>NaN</td>\n      <td>...</td>\n      <td>NaN</td>\n      <td>NaN</td>\n      <td>NaN</td>\n      <td>NaN</td>\n      <td>NaN</td>\n      <td>NaN</td>\n      <td>NaN</td>\n      <td>NaN</td>\n      <td>NaN</td>\n      <td>NaN</td>\n    </tr>\n    <tr>\n      <th>2018-07-15</th>\n      <td>25.7</td>\n      <td>20.0</td>\n      <td>32.8</td>\n      <td>0.0</td>\n      <td>NaN</td>\n      <td>0.0</td>\n      <td>NaN</td>\n      <td>NaN</td>\n      <td>NaN</td>\n      <td>NaN</td>\n      <td>...</td>\n      <td>NaN</td>\n      <td>NaN</td>\n      <td>NaN</td>\n      <td>NaN</td>\n      <td>NaN</td>\n      <td>NaN</td>\n      <td>NaN</td>\n      <td>NaN</td>\n      <td>NaN</td>\n      <td>NaN</td>\n    </tr>\n    <tr>\n      <th>...</th>\n      <td>...</td>\n      <td>...</td>\n      <td>...</td>\n      <td>...</td>\n      <td>...</td>\n      <td>...</td>\n      <td>...</td>\n      <td>...</td>\n      <td>...</td>\n      <td>...</td>\n      <td>...</td>\n      <td>...</td>\n      <td>...</td>\n      <td>...</td>\n      <td>...</td>\n      <td>...</td>\n      <td>...</td>\n      <td>...</td>\n      <td>...</td>\n      <td>...</td>\n      <td>...</td>\n    </tr>\n    <tr>\n      <th>2023-05-12</th>\n      <td>19.6</td>\n      <td>11.1</td>\n      <td>27.8</td>\n      <td>0.0</td>\n      <td>1018.2</td>\n      <td>0.0</td>\n      <td>17.7</td>\n      <td>8.0</td>\n      <td>26.0</td>\n      <td>1.0</td>\n      <td>...</td>\n      <td>NaN</td>\n      <td>NaN</td>\n      <td>NaN</td>\n      <td>NaN</td>\n      <td>26.7</td>\n      <td>17.8</td>\n      <td>34.4</td>\n      <td>0.0</td>\n      <td>1008.8</td>\n      <td>NaN</td>\n    </tr>\n    <tr>\n      <th>2023-05-13</th>\n      <td>19.1</td>\n      <td>11.1</td>\n      <td>22.2</td>\n      <td>0.0</td>\n      <td>1020.8</td>\n      <td>0.0</td>\n      <td>16.8</td>\n      <td>10.6</td>\n      <td>23.3</td>\n      <td>0.0</td>\n      <td>...</td>\n      <td>NaN</td>\n      <td>NaN</td>\n      <td>NaN</td>\n      <td>NaN</td>\n      <td>28.5</td>\n      <td>19.4</td>\n      <td>38.0</td>\n      <td>0.0</td>\n      <td>1006.1</td>\n      <td>NaN</td>\n    </tr>\n    <tr>\n      <th>2023-05-14</th>\n      <td>13.0</td>\n      <td>6.7</td>\n      <td>15.6</td>\n      <td>0.0</td>\n      <td>1027.9</td>\n      <td>0.0</td>\n      <td>10.2</td>\n      <td>5.0</td>\n      <td>17.2</td>\n      <td>0.0</td>\n      <td>...</td>\n      <td>NaN</td>\n      <td>NaN</td>\n      <td>NaN</td>\n      <td>NaN</td>\n      <td>30.2</td>\n      <td>23.3</td>\n      <td>37.2</td>\n      <td>0.0</td>\n      <td>1009.4</td>\n      <td>NaN</td>\n    </tr>\n    <tr>\n      <th>2023-05-15</th>\n      <td>12.3</td>\n      <td>3.3</td>\n      <td>21.1</td>\n      <td>0.0</td>\n      <td>1022.9</td>\n      <td>0.0</td>\n      <td>11.8</td>\n      <td>0.0</td>\n      <td>19.4</td>\n      <td>0.0</td>\n      <td>...</td>\n      <td>NaN</td>\n      <td>NaN</td>\n      <td>NaN</td>\n      <td>NaN</td>\n      <td>29.8</td>\n      <td>22.0</td>\n      <td>37.8</td>\n      <td>0.0</td>\n      <td>1013.5</td>\n      <td>NaN</td>\n    </tr>\n    <tr>\n      <th>2023-05-16</th>\n      <td>15.6</td>\n      <td>7.2</td>\n      <td>22.8</td>\n      <td>0.0</td>\n      <td>1007.2</td>\n      <td>0.0</td>\n      <td>17.3</td>\n      <td>10.0</td>\n      <td>23.9</td>\n      <td>0.0</td>\n      <td>...</td>\n      <td>NaN</td>\n      <td>NaN</td>\n      <td>NaN</td>\n      <td>NaN</td>\n      <td>30.4</td>\n      <td>22.2</td>\n      <td>37.2</td>\n      <td>0.0</td>\n      <td>1011.2</td>\n      <td>NaN</td>\n    </tr>\n  </tbody>\n</table>\n<p>1771 rows × 42 columns</p>\n</div>"
     },
     "metadata": {},
     "output_type": "display_data"
    }
   ],
   "source": [
    "display(weather_df)"
   ],
   "metadata": {
    "collapsed": false,
    "ExecuteTime": {
     "start_time": "2023-07-10T14:18:26.956507Z",
     "end_time": "2023-07-10T14:18:26.995719Z"
    }
   }
  },
  {
   "cell_type": "code",
   "execution_count": 48,
   "outputs": [],
   "source": [
    "weather_df.reset_index(inplace=True)\n",
    "weather_df['Date'] = pd.to_datetime(weather_df['time']).dt.strftime('%Y-%m-%d 12:00:00')\n",
    "weather_df.drop(columns=['time'], inplace=True)\n",
    "weather_df.set_index('Date', inplace=True)\n",
    "weather_df.rename_axis('', inplace=True)\n",
    "weather_df.index = pd.to_datetime(weather_df.index)"
   ],
   "metadata": {
    "collapsed": false,
    "ExecuteTime": {
     "start_time": "2023-07-10T14:18:27.725971Z",
     "end_time": "2023-07-10T14:18:27.731469Z"
    }
   }
  },
  {
   "cell_type": "code",
   "execution_count": 51,
   "outputs": [],
   "source": [
    "common_dates = master_data.index.intersection(weather_df.index)\n",
    "master_data = pd.concat([master_data.loc[common_dates], weather_df.loc[common_dates]], axis=1)"
   ],
   "metadata": {
    "collapsed": false,
    "ExecuteTime": {
     "start_time": "2023-07-10T14:19:02.944396Z",
     "end_time": "2023-07-10T14:19:02.967797Z"
    }
   }
  },
  {
   "cell_type": "markdown",
   "source": [
    "# ------------------"
   ],
   "metadata": {
    "collapsed": false
   }
  },
  {
   "cell_type": "code",
   "execution_count": 69,
   "outputs": [],
   "source": [
    "from pvlib import clearsky, atmosphere, solarposition\n",
    "from pvlib.location import Location\n",
    "from pvlib.iotools import read_tmy3"
   ],
   "metadata": {
    "collapsed": false,
    "ExecuteTime": {
     "start_time": "2023-07-10T16:45:29.900151Z",
     "end_time": "2023-07-10T16:45:29.907535Z"
    }
   }
  },
  {
   "cell_type": "code",
   "execution_count": 88,
   "outputs": [
    {
     "data": {
      "text/plain": "Text(0.5, 1.0, 'Ineichen, climatological turbidity (Calgary)')"
     },
     "execution_count": 88,
     "metadata": {},
     "output_type": "execute_result"
    },
    {
     "data": {
      "text/plain": "<Figure size 640x480 with 1 Axes>",
      "image/png": "[encoded data removed]"
     },
     "metadata": {},
     "output_type": "display_data"
    }
   ],
   "source": [
    "tus = Location(51.05, -114.09, 'Canada/Mountain', 700, 'Tucson')\n",
    "\n",
    "times = pd.date_range(start='2023-07-5', end='2023-07-10', freq='1min', tz=tus.tz)\n",
    "\n",
    "cs = tus.get_clearsky(times)  # ineichen with climatology table by default\n",
    "\n",
    "cs.plot();\n",
    "plt.ylabel('Irradiance $W/m^2$');\n",
    "plt.title('Ineichen, climatological turbidity (Calgary)')"
   ],
   "metadata": {
    "collapsed": false,
    "ExecuteTime": {
     "start_time": "2023-07-10T17:02:29.559471Z",
     "end_time": "2023-07-10T17:02:29.820701Z"
    }
   }
  },
  {
   "cell_type": "code",
   "execution_count": 80,
   "outputs": [
    {
     "data": {
      "text/plain": "                           ghi  dni  dhi\n2023-07-09 00:00:00-07:00  0.0  0.0  0.0\n2023-07-09 00:01:00-07:00  0.0  0.0  0.0\n2023-07-09 00:02:00-07:00  0.0  0.0  0.0\n2023-07-09 00:03:00-07:00  0.0  0.0  0.0\n2023-07-09 00:04:00-07:00  0.0  0.0  0.0\n...                        ...  ...  ...\n2023-07-12 23:56:00-07:00  0.0  0.0  0.0\n2023-07-12 23:57:00-07:00  0.0  0.0  0.0\n2023-07-12 23:58:00-07:00  0.0  0.0  0.0\n2023-07-12 23:59:00-07:00  0.0  0.0  0.0\n2023-07-13 00:00:00-07:00  0.0  0.0  0.0\n\n[5761 rows x 3 columns]",
      "text/html": "<div>\n<style scoped>\n    .dataframe tbody tr th:only-of-type {\n        vertical-align: middle;\n    }\n\n    .dataframe tbody tr th {\n        vertical-align: top;\n    }\n\n    .dataframe thead th {\n        text-align: right;\n    }\n</style>\n<table border=\"1\" class=\"dataframe\">\n  <thead>\n    <tr style=\"text-align: right;\">\n      <th></th>\n      <th>ghi</th>\n      <th>dni</th>\n      <th>dhi</th>\n    </tr>\n  </thead>\n  <tbody>\n    <tr>\n      <th>2023-07-09 00:00:00-07:00</th>\n      <td>0.0</td>\n      <td>0.0</td>\n      <td>0.0</td>\n    </tr>\n    <tr>\n      <th>2023-07-09 00:01:00-07:00</th>\n      <td>0.0</td>\n      <td>0.0</td>\n      <td>0.0</td>\n    </tr>\n    <tr>\n      <th>2023-07-09 00:02:00-07:00</th>\n      <td>0.0</td>\n      <td>0.0</td>\n      <td>0.0</td>\n    </tr>\n    <tr>\n      <th>2023-07-09 00:03:00-07:00</th>\n      <td>0.0</td>\n      <td>0.0</td>\n      <td>0.0</td>\n    </tr>\n    <tr>\n      <th>2023-07-09 00:04:00-07:00</th>\n      <td>0.0</td>\n      <td>0.0</td>\n      <td>0.0</td>\n    </tr>\n    <tr>\n      <th>...</th>\n      <td>...</td>\n      <td>...</td>\n      <td>...</td>\n    </tr>\n    <tr>\n      <th>2023-07-12 23:56:00-07:00</th>\n      <td>0.0</td>\n      <td>0.0</td>\n      <td>0.0</td>\n    </tr>\n    <tr>\n      <th>2023-07-12 23:57:00-07:00</th>\n      <td>0.0</td>\n      <td>0.0</td>\n      <td>0.0</td>\n    </tr>\n    <tr>\n      <th>2023-07-12 23:58:00-07:00</th>\n      <td>0.0</td>\n      <td>0.0</td>\n      <td>0.0</td>\n    </tr>\n    <tr>\n      <th>2023-07-12 23:59:00-07:00</th>\n      <td>0.0</td>\n      <td>0.0</td>\n      <td>0.0</td>\n    </tr>\n    <tr>\n      <th>2023-07-13 00:00:00-07:00</th>\n      <td>0.0</td>\n      <td>0.0</td>\n      <td>0.0</td>\n    </tr>\n  </tbody>\n</table>\n<p>5761 rows × 3 columns</p>\n</div>"
     },
     "execution_count": 80,
     "metadata": {},
     "output_type": "execute_result"
    }
   ],
   "source": [
    "cs"
   ],
   "metadata": {
    "collapsed": false,
    "ExecuteTime": {
     "start_time": "2023-07-10T16:52:45.395099Z",
     "end_time": "2023-07-10T16:52:45.404384Z"
    }
   }
  },
  {
   "cell_type": "code",
   "execution_count": 92,
   "outputs": [
    {
     "data": {
      "text/plain": "                              name country region   wmo  icao  latitude  \\\nid                                                                        \nKMRB0  Martinsburg / Grubbs Corner      US     WV  <NA>  KMRB   39.4019   \n\n       longitude  elevation          timezone hourly_start hourly_end  \\\nid                                                                      \nKMRB0   -77.9847      172.0  America/New_York   1973-01-01 2023-07-10   \n\n      daily_start  daily_end monthly_start monthly_end      distance  \nid                                                                    \nKMRB0  1973-01-01 2022-04-24    2001-01-01  2022-01-01  3.355655e+06  ",
      "text/html": "<div>\n<style scoped>\n    .dataframe tbody tr th:only-of-type {\n        vertical-align: middle;\n    }\n\n    .dataframe tbody tr th {\n        vertical-align: top;\n    }\n\n    .dataframe thead th {\n        text-align: right;\n    }\n</style>\n<table border=\"1\" class=\"dataframe\">\n  <thead>\n    <tr style=\"text-align: right;\">\n      <th></th>\n      <th>name</th>\n      <th>country</th>\n      <th>region</th>\n      <th>wmo</th>\n      <th>icao</th>\n      <th>latitude</th>\n      <th>longitude</th>\n      <th>elevation</th>\n      <th>timezone</th>\n      <th>hourly_start</th>\n      <th>hourly_end</th>\n      <th>daily_start</th>\n      <th>daily_end</th>\n      <th>monthly_start</th>\n      <th>monthly_end</th>\n      <th>distance</th>\n    </tr>\n    <tr>\n      <th>id</th>\n      <th></th>\n      <th></th>\n      <th></th>\n      <th></th>\n      <th></th>\n      <th></th>\n      <th></th>\n      <th></th>\n      <th></th>\n      <th></th>\n      <th></th>\n      <th></th>\n      <th></th>\n      <th></th>\n      <th></th>\n      <th></th>\n    </tr>\n  </thead>\n  <tbody>\n    <tr>\n      <th>KMRB0</th>\n      <td>Martinsburg / Grubbs Corner</td>\n      <td>US</td>\n      <td>WV</td>\n      <td>&lt;NA&gt;</td>\n      <td>KMRB</td>\n      <td>39.4019</td>\n      <td>-77.9847</td>\n      <td>172.0</td>\n      <td>America/New_York</td>\n      <td>1973-01-01</td>\n      <td>2023-07-10</td>\n      <td>1973-01-01</td>\n      <td>2022-04-24</td>\n      <td>2001-01-01</td>\n      <td>2022-01-01</td>\n      <td>3.355655e+06</td>\n    </tr>\n  </tbody>\n</table>\n</div>"
     },
     "execution_count": 92,
     "metadata": {},
     "output_type": "execute_result"
    }
   ],
   "source": [],
   "metadata": {
    "collapsed": false,
    "ExecuteTime": {
     "start_time": "2023-07-11T09:51:16.193590Z",
     "end_time": "2023-07-11T09:51:16.224945Z"
    }
   }
  },
  {
   "cell_type": "code",
   "execution_count": null,
   "outputs": [],
   "source": [],
   "metadata": {
    "collapsed": false
   }
  }
 ],
 "metadata": {
  "kernelspec": {
   "display_name": "Python 3",
   "language": "python",
   "name": "python3"
  },
  "language_info": {
   "codemirror_mode": {
    "name": "ipython",
    "version": 2
   },
   "file_extension": ".py",
   "mimetype": "text/x-python",
   "name": "python",
   "nbconvert_exporter": "python",
   "pygments_lexer": "ipython2",
   "version": "2.7.6"
  }
 },
 "nbformat": 4,
 "nbformat_minor": 0
}
