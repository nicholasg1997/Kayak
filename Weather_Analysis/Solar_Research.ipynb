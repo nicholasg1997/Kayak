{
 "cells": [
  {
   "cell_type": "code",
   "execution_count": 13,
   "metadata": {
    "collapsed": true,
    "ExecuteTime": {
     "start_time": "2023-07-11T09:55:38.305232Z",
     "end_time": "2023-07-11T09:55:38.339139Z"
    }
   },
   "outputs": [],
   "source": [
    "import pandas as pd\n",
    "import matplotlib.pyplot as plt\n",
    "from pvlib import clearsky, atmosphere, solarposition\n",
    "from pvlib.location import Location\n",
    "from pvlib.iotools import read_tmy3\n",
    "from meteostat import Stations, Daily\n"
   ]
  },
  {
   "cell_type": "code",
   "execution_count": 5,
   "outputs": [],
   "source": [
    "weather_station_raw = pd.read_csv('StormVistaData/all-stations_northamerica.csv')"
   ],
   "metadata": {
    "collapsed": false,
    "ExecuteTime": {
     "start_time": "2023-07-11T09:54:12.314676Z",
     "end_time": "2023-07-11T09:54:12.378514Z"
    }
   }
  },
  {
   "cell_type": "code",
   "execution_count": 15,
   "outputs": [],
   "source": [
    "stations_id = weather_station_raw['station'].unique()"
   ],
   "metadata": {
    "collapsed": false,
    "ExecuteTime": {
     "start_time": "2023-07-11T09:56:12.483251Z",
     "end_time": "2023-07-11T09:56:12.499589Z"
    }
   }
  },
  {
   "cell_type": "code",
   "execution_count": 16,
   "outputs": [],
   "source": [
    "stations = Stations()\n",
    "stations = stations.nearby(32.63, -114.62) # arbitrary starting location"
   ],
   "metadata": {
    "collapsed": false,
    "ExecuteTime": {
     "start_time": "2023-07-11T09:56:12.757224Z",
     "end_time": "2023-07-11T09:56:12.793998Z"
    }
   }
  },
  {
   "cell_type": "code",
   "execution_count": 17,
   "outputs": [],
   "source": [
    "stations = stations.fetch()"
   ],
   "metadata": {
    "collapsed": false,
    "ExecuteTime": {
     "start_time": "2023-07-11T09:56:46.613321Z",
     "end_time": "2023-07-11T09:56:46.631195Z"
    }
   }
  },
  {
   "cell_type": "code",
   "execution_count": 37,
   "outputs": [
    {
     "data": {
      "text/plain": "                                    name country region    wmo  icao  \\\nid                                                                     \n72280          Yuma / Yuma International      US     AZ  72280  KYUM   \nKNYL0    Yuma / Desert Royal Mobile Park      US     AZ   <NA>  KNYL   \nCDCYH            Yuma Auxiliary Airfield      US     AZ   <NA>  KNOZ   \nKLGF0                      Yuma / Laguna      US     AZ   <NA>  KLGF   \n76005  Mexicali / Islas Agrarias Grupo B      MX    BCN  76005  MMML   \n...                                  ...     ...    ...    ...   ...   \n61984                       Saint-Pierre      RE   <NA>  61984  FMEP   \n61995                   Vacoas Mauritius      MU     PW  61995  <NA>   \n61990                Plaisance Mauritius      MU     GP  61990  FIMP   \n61988                          Rodrigues      MU     RO  61988  FIMR   \n61996     Martin De Vivies Ile Amsterdam      TF   <NA>  61996  <NA>   \n\n       latitude  longitude  elevation          timezone hourly_start  \\\nid                                                                     \n72280   32.6500  -114.6000       65.0   America/Phoenix   1942-01-16   \nKNYL0   32.6566  -114.6060       65.0   America/Phoenix   1988-01-01   \nCDCYH   32.5000  -114.4500      105.0   America/Phoenix   2022-04-23   \nKLGF0   32.8600  -114.3967      132.0   America/Phoenix   2020-01-14   \n76005   32.6306  -115.2415       22.0   America/Tijuana   1990-03-14   \n...         ...        ...        ...               ...          ...   \n61984  -21.3333    55.4833       52.0    Indian/Reunion   1973-01-02   \n61995  -20.3000    57.5000      423.0  Indian/Mauritius          NaT   \n61990  -20.4333    57.6667       55.0  Indian/Mauritius   1949-02-01   \n61988  -19.6833    63.4167       58.0  Indian/Mauritius   1949-02-01   \n61996  -37.8000    77.5333       27.0      Europe/Paris          NaT   \n\n      hourly_end daily_start  daily_end monthly_start monthly_end  \\\nid                                                                  \n72280 2007-01-05  1942-11-02 2006-12-25    1942-01-01  1995-01-01   \nKNYL0 2023-07-10  1988-01-01 2022-04-24    1988-01-01  2020-01-01   \nCDCYH 2023-07-05  2022-04-24 2022-04-26           NaT         NaT   \nKLGF0 2023-07-09  2020-01-15 2022-04-24           NaT         NaT   \n76005 2023-07-10  2020-03-10 2020-03-12           NaT         NaT   \n...          ...         ...        ...           ...         ...   \n61984 2023-07-10  2013-03-10 2022-04-25    2015-01-01  2022-01-01   \n61995        NaT  1961-01-01 2023-07-02    1961-01-01  2021-01-01   \n61990 2023-07-10  1951-01-01 2023-07-02    1951-01-01  2021-01-01   \n61988 2023-06-27  1961-01-01 2023-07-02    1954-01-01  2021-01-01   \n61996        NaT  1973-01-15 2019-12-27    1954-01-01  2021-01-01   \n\n           distance  \nid                   \n72280  2.907353e+03  \nKNYL0  3.235241e+03  \nCDCYH  2.151186e+04  \nKLGF0  3.301838e+04  \n76005  5.820016e+04  \n...             ...  \n61984  1.842337e+07  \n61995  1.843690e+07  \n61990  1.845814e+07  \n61988  1.856230e+07  \n61996  1.877175e+07  \n\n[15717 rows x 16 columns]",
      "text/html": "<div>\n<style scoped>\n    .dataframe tbody tr th:only-of-type {\n        vertical-align: middle;\n    }\n\n    .dataframe tbody tr th {\n        vertical-align: top;\n    }\n\n    .dataframe thead th {\n        text-align: right;\n    }\n</style>\n<table border=\"1\" class=\"dataframe\">\n  <thead>\n    <tr style=\"text-align: right;\">\n      <th></th>\n      <th>name</th>\n      <th>country</th>\n      <th>region</th>\n      <th>wmo</th>\n      <th>icao</th>\n      <th>latitude</th>\n      <th>longitude</th>\n      <th>elevation</th>\n      <th>timezone</th>\n      <th>hourly_start</th>\n      <th>hourly_end</th>\n      <th>daily_start</th>\n      <th>daily_end</th>\n      <th>monthly_start</th>\n      <th>monthly_end</th>\n      <th>distance</th>\n    </tr>\n    <tr>\n      <th>id</th>\n      <th></th>\n      <th></th>\n      <th></th>\n      <th></th>\n      <th></th>\n      <th></th>\n      <th></th>\n      <th></th>\n      <th></th>\n      <th></th>\n      <th></th>\n      <th></th>\n      <th></th>\n      <th></th>\n      <th></th>\n      <th></th>\n    </tr>\n  </thead>\n  <tbody>\n    <tr>\n      <th>72280</th>\n      <td>Yuma / Yuma International</td>\n      <td>US</td>\n      <td>AZ</td>\n      <td>72280</td>\n      <td>KYUM</td>\n      <td>32.6500</td>\n      <td>-114.6000</td>\n      <td>65.0</td>\n      <td>America/Phoenix</td>\n      <td>1942-01-16</td>\n      <td>2007-01-05</td>\n      <td>1942-11-02</td>\n      <td>2006-12-25</td>\n      <td>1942-01-01</td>\n      <td>1995-01-01</td>\n      <td>2.907353e+03</td>\n    </tr>\n    <tr>\n      <th>KNYL0</th>\n      <td>Yuma / Desert Royal Mobile Park</td>\n      <td>US</td>\n      <td>AZ</td>\n      <td>&lt;NA&gt;</td>\n      <td>KNYL</td>\n      <td>32.6566</td>\n      <td>-114.6060</td>\n      <td>65.0</td>\n      <td>America/Phoenix</td>\n      <td>1988-01-01</td>\n      <td>2023-07-10</td>\n      <td>1988-01-01</td>\n      <td>2022-04-24</td>\n      <td>1988-01-01</td>\n      <td>2020-01-01</td>\n      <td>3.235241e+03</td>\n    </tr>\n    <tr>\n      <th>CDCYH</th>\n      <td>Yuma Auxiliary Airfield</td>\n      <td>US</td>\n      <td>AZ</td>\n      <td>&lt;NA&gt;</td>\n      <td>KNOZ</td>\n      <td>32.5000</td>\n      <td>-114.4500</td>\n      <td>105.0</td>\n      <td>America/Phoenix</td>\n      <td>2022-04-23</td>\n      <td>2023-07-05</td>\n      <td>2022-04-24</td>\n      <td>2022-04-26</td>\n      <td>NaT</td>\n      <td>NaT</td>\n      <td>2.151186e+04</td>\n    </tr>\n    <tr>\n      <th>KLGF0</th>\n      <td>Yuma / Laguna</td>\n      <td>US</td>\n      <td>AZ</td>\n      <td>&lt;NA&gt;</td>\n      <td>KLGF</td>\n      <td>32.8600</td>\n      <td>-114.3967</td>\n      <td>132.0</td>\n      <td>America/Phoenix</td>\n      <td>2020-01-14</td>\n      <td>2023-07-09</td>\n      <td>2020-01-15</td>\n      <td>2022-04-24</td>\n      <td>NaT</td>\n      <td>NaT</td>\n      <td>3.301838e+04</td>\n    </tr>\n    <tr>\n      <th>76005</th>\n      <td>Mexicali / Islas Agrarias Grupo B</td>\n      <td>MX</td>\n      <td>BCN</td>\n      <td>76005</td>\n      <td>MMML</td>\n      <td>32.6306</td>\n      <td>-115.2415</td>\n      <td>22.0</td>\n      <td>America/Tijuana</td>\n      <td>1990-03-14</td>\n      <td>2023-07-10</td>\n      <td>2020-03-10</td>\n      <td>2020-03-12</td>\n      <td>NaT</td>\n      <td>NaT</td>\n      <td>5.820016e+04</td>\n    </tr>\n    <tr>\n      <th>...</th>\n      <td>...</td>\n      <td>...</td>\n      <td>...</td>\n      <td>...</td>\n      <td>...</td>\n      <td>...</td>\n      <td>...</td>\n      <td>...</td>\n      <td>...</td>\n      <td>...</td>\n      <td>...</td>\n      <td>...</td>\n      <td>...</td>\n      <td>...</td>\n      <td>...</td>\n      <td>...</td>\n    </tr>\n    <tr>\n      <th>61984</th>\n      <td>Saint-Pierre</td>\n      <td>RE</td>\n      <td>&lt;NA&gt;</td>\n      <td>61984</td>\n      <td>FMEP</td>\n      <td>-21.3333</td>\n      <td>55.4833</td>\n      <td>52.0</td>\n      <td>Indian/Reunion</td>\n      <td>1973-01-02</td>\n      <td>2023-07-10</td>\n      <td>2013-03-10</td>\n      <td>2022-04-25</td>\n      <td>2015-01-01</td>\n      <td>2022-01-01</td>\n      <td>1.842337e+07</td>\n    </tr>\n    <tr>\n      <th>61995</th>\n      <td>Vacoas Mauritius</td>\n      <td>MU</td>\n      <td>PW</td>\n      <td>61995</td>\n      <td>&lt;NA&gt;</td>\n      <td>-20.3000</td>\n      <td>57.5000</td>\n      <td>423.0</td>\n      <td>Indian/Mauritius</td>\n      <td>NaT</td>\n      <td>NaT</td>\n      <td>1961-01-01</td>\n      <td>2023-07-02</td>\n      <td>1961-01-01</td>\n      <td>2021-01-01</td>\n      <td>1.843690e+07</td>\n    </tr>\n    <tr>\n      <th>61990</th>\n      <td>Plaisance Mauritius</td>\n      <td>MU</td>\n      <td>GP</td>\n      <td>61990</td>\n      <td>FIMP</td>\n      <td>-20.4333</td>\n      <td>57.6667</td>\n      <td>55.0</td>\n      <td>Indian/Mauritius</td>\n      <td>1949-02-01</td>\n      <td>2023-07-10</td>\n      <td>1951-01-01</td>\n      <td>2023-07-02</td>\n      <td>1951-01-01</td>\n      <td>2021-01-01</td>\n      <td>1.845814e+07</td>\n    </tr>\n    <tr>\n      <th>61988</th>\n      <td>Rodrigues</td>\n      <td>MU</td>\n      <td>RO</td>\n      <td>61988</td>\n      <td>FIMR</td>\n      <td>-19.6833</td>\n      <td>63.4167</td>\n      <td>58.0</td>\n      <td>Indian/Mauritius</td>\n      <td>1949-02-01</td>\n      <td>2023-06-27</td>\n      <td>1961-01-01</td>\n      <td>2023-07-02</td>\n      <td>1954-01-01</td>\n      <td>2021-01-01</td>\n      <td>1.856230e+07</td>\n    </tr>\n    <tr>\n      <th>61996</th>\n      <td>Martin De Vivies Ile Amsterdam</td>\n      <td>TF</td>\n      <td>&lt;NA&gt;</td>\n      <td>61996</td>\n      <td>&lt;NA&gt;</td>\n      <td>-37.8000</td>\n      <td>77.5333</td>\n      <td>27.0</td>\n      <td>Europe/Paris</td>\n      <td>NaT</td>\n      <td>NaT</td>\n      <td>1973-01-15</td>\n      <td>2019-12-27</td>\n      <td>1954-01-01</td>\n      <td>2021-01-01</td>\n      <td>1.877175e+07</td>\n    </tr>\n  </tbody>\n</table>\n<p>15717 rows × 16 columns</p>\n</div>"
     },
     "metadata": {},
     "output_type": "display_data"
    }
   ],
   "source": [
    "display(stations)"
   ],
   "metadata": {
    "collapsed": false,
    "ExecuteTime": {
     "start_time": "2023-07-11T10:06:53.983686Z",
     "end_time": "2023-07-11T10:06:53.988237Z"
    }
   }
  },
  {
   "cell_type": "code",
   "execution_count": 38,
   "outputs": [],
   "source": [
    "features = ['icao', 'latitude', 'longitude','elevation' ,'name', 'region', 'timezone']\n",
    "station_df = pd.DataFrame(columns=features)\n",
    "\n",
    "for station in stations_id:\n",
    "    temp = stations[stations['icao'] == station]\n",
    "    station_df = pd.concat([station_df, temp[features]])"
   ],
   "metadata": {
    "collapsed": false,
    "ExecuteTime": {
     "start_time": "2023-07-11T10:07:07.428521Z",
     "end_time": "2023-07-11T10:07:08.343760Z"
    }
   }
  },
  {
   "cell_type": "code",
   "execution_count": 39,
   "outputs": [
    {
     "data": {
      "text/plain": "       icao  latitude  longitude  elevation  \\\n72529  KROC   43.1167   -77.6833      170.0   \nTMT7J  KDDH   42.8935   -73.2486      252.0   \nKITR0  KITR   39.2425  -102.2854     1286.0   \nKOTM0  KOTM   41.1066   -92.4479      258.0   \n72280  KYUM   32.6500  -114.6000       65.0   \n...     ...       ...        ...        ...   \n72616  KBML   44.5833   -71.0167      353.0   \n72458  KCNK   39.5500   -97.6500      453.0   \n72450  KICT   37.6500   -97.1000      406.0   \n74756  KGNV   29.6901   -82.2718       46.0   \nKGRK0  KGRK   31.0673   -97.8289      309.0   \n\n                                                  name region  \\\n72529                  Greater Rochester International     NY   \nTMT7J                   Bennington Morse State Airport     VT   \nKITR0                     Burlington / West Burlington     CO   \nKOTM0                       Ottumwa / Keb (Historical)     IA   \n72280                        Yuma / Yuma International     AZ   \n...                                                ...    ...   \n72616                         Berlin Municipal Airport     NH   \n72458             Concordia, Blosser Municipal Airport     KS   \n72450                    Wichita Mid-Continent Airport     KS   \n74756  Gainesville / Brittany Estates Mobile Home Park     FL   \nKGRK0           Killeen / Fort Hood / Montague Village     TX   \n\n               timezone  \n72529  America/New_York  \nTMT7J  America/New_York  \nKITR0    America/Denver  \nKOTM0   America/Chicago  \n72280   America/Phoenix  \n...                 ...  \n72616  America/New_York  \n72458   America/Chicago  \n72450   America/Chicago  \n74756  America/New_York  \nKGRK0   America/Chicago  \n\n[513 rows x 7 columns]",
      "text/html": "<div>\n<style scoped>\n    .dataframe tbody tr th:only-of-type {\n        vertical-align: middle;\n    }\n\n    .dataframe tbody tr th {\n        vertical-align: top;\n    }\n\n    .dataframe thead th {\n        text-align: right;\n    }\n</style>\n<table border=\"1\" class=\"dataframe\">\n  <thead>\n    <tr style=\"text-align: right;\">\n      <th></th>\n      <th>icao</th>\n      <th>latitude</th>\n      <th>longitude</th>\n      <th>elevation</th>\n      <th>name</th>\n      <th>region</th>\n      <th>timezone</th>\n    </tr>\n  </thead>\n  <tbody>\n    <tr>\n      <th>72529</th>\n      <td>KROC</td>\n      <td>43.1167</td>\n      <td>-77.6833</td>\n      <td>170.0</td>\n      <td>Greater Rochester International</td>\n      <td>NY</td>\n      <td>America/New_York</td>\n    </tr>\n    <tr>\n      <th>TMT7J</th>\n      <td>KDDH</td>\n      <td>42.8935</td>\n      <td>-73.2486</td>\n      <td>252.0</td>\n      <td>Bennington Morse State Airport</td>\n      <td>VT</td>\n      <td>America/New_York</td>\n    </tr>\n    <tr>\n      <th>KITR0</th>\n      <td>KITR</td>\n      <td>39.2425</td>\n      <td>-102.2854</td>\n      <td>1286.0</td>\n      <td>Burlington / West Burlington</td>\n      <td>CO</td>\n      <td>America/Denver</td>\n    </tr>\n    <tr>\n      <th>KOTM0</th>\n      <td>KOTM</td>\n      <td>41.1066</td>\n      <td>-92.4479</td>\n      <td>258.0</td>\n      <td>Ottumwa / Keb (Historical)</td>\n      <td>IA</td>\n      <td>America/Chicago</td>\n    </tr>\n    <tr>\n      <th>72280</th>\n      <td>KYUM</td>\n      <td>32.6500</td>\n      <td>-114.6000</td>\n      <td>65.0</td>\n      <td>Yuma / Yuma International</td>\n      <td>AZ</td>\n      <td>America/Phoenix</td>\n    </tr>\n    <tr>\n      <th>...</th>\n      <td>...</td>\n      <td>...</td>\n      <td>...</td>\n      <td>...</td>\n      <td>...</td>\n      <td>...</td>\n      <td>...</td>\n    </tr>\n    <tr>\n      <th>72616</th>\n      <td>KBML</td>\n      <td>44.5833</td>\n      <td>-71.0167</td>\n      <td>353.0</td>\n      <td>Berlin Municipal Airport</td>\n      <td>NH</td>\n      <td>America/New_York</td>\n    </tr>\n    <tr>\n      <th>72458</th>\n      <td>KCNK</td>\n      <td>39.5500</td>\n      <td>-97.6500</td>\n      <td>453.0</td>\n      <td>Concordia, Blosser Municipal Airport</td>\n      <td>KS</td>\n      <td>America/Chicago</td>\n    </tr>\n    <tr>\n      <th>72450</th>\n      <td>KICT</td>\n      <td>37.6500</td>\n      <td>-97.1000</td>\n      <td>406.0</td>\n      <td>Wichita Mid-Continent Airport</td>\n      <td>KS</td>\n      <td>America/Chicago</td>\n    </tr>\n    <tr>\n      <th>74756</th>\n      <td>KGNV</td>\n      <td>29.6901</td>\n      <td>-82.2718</td>\n      <td>46.0</td>\n      <td>Gainesville / Brittany Estates Mobile Home Park</td>\n      <td>FL</td>\n      <td>America/New_York</td>\n    </tr>\n    <tr>\n      <th>KGRK0</th>\n      <td>KGRK</td>\n      <td>31.0673</td>\n      <td>-97.8289</td>\n      <td>309.0</td>\n      <td>Killeen / Fort Hood / Montague Village</td>\n      <td>TX</td>\n      <td>America/Chicago</td>\n    </tr>\n  </tbody>\n</table>\n<p>513 rows × 7 columns</p>\n</div>"
     },
     "execution_count": 39,
     "metadata": {},
     "output_type": "execute_result"
    }
   ],
   "source": [
    "station_df"
   ],
   "metadata": {
    "collapsed": false,
    "ExecuteTime": {
     "start_time": "2023-07-11T10:07:08.761141Z",
     "end_time": "2023-07-11T10:07:08.798726Z"
    }
   }
  },
  {
   "cell_type": "code",
   "execution_count": null,
   "outputs": [],
   "source": [
    "tus = Location(51.05, -114.09, 'Canada/Mountain', 700, 'Calgary')\n",
    "\n",
    "times = pd.date_range(start='2023-07-5', end='2023-07-12', freq='1min', tz=tus.tz)\n",
    "\n",
    "cs = tus.get_clearsky(times)  # ineichen with climatology table by default\n",
    "\n",
    "cs.plot();\n",
    "plt.ylabel('Irradiance $W/m^2$');\n",
    "plt.title('Ineichen, climatological turbidity (Calgary)')"
   ],
   "metadata": {
    "collapsed": false
   }
  }
 ],
 "metadata": {
  "kernelspec": {
   "display_name": "Python 3",
   "language": "python",
   "name": "python3"
  },
  "language_info": {
   "codemirror_mode": {
    "name": "ipython",
    "version": 2
   },
   "file_extension": ".py",
   "mimetype": "text/x-python",
   "name": "python",
   "nbconvert_exporter": "python",
   "pygments_lexer": "ipython2",
   "version": "2.7.6"
  }
 },
 "nbformat": 4,
 "nbformat_minor": 0
}
