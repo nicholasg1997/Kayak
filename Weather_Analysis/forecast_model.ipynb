{
 "cells": [
  {
   "cell_type": "markdown",
   "source": [
    " use neural network to predict the change in the ecmwf-eps from the previous cycle run 12 hours ago for days 9-14\n",
    " ### current model features\n",
    "- the difference between the new ecmwf forecast for day 9 and the previous emcwf-eps forecast for day 9[x]\n",
    "- the difference between the new emcwf-eps forecast for day 8 and the previous emcwf-eps forecast for day 8[x]\n",
    "- the difference between the new gfs-ens-bc forecast for days 9-14 and the previous emcwf-eps forecast for days 9-14[x]\n",
    "- the difference between the new cmc-ens forecast for days 9-14 and the new gfs-ens-bc  forecast for days 9-14[x]\n",
    "\n",
    "### new feature ideas\n",
    "- rain data\n",
    "- wind data\n",
    "- past errors\n",
    "- ???"
   ],
   "metadata": {
    "collapsed": false
   }
  },
  {
   "cell_type": "code",
   "execution_count": 1,
   "outputs": [],
   "source": [
    "import pandas as pd\n",
    "import glob\n",
    "import matplotlib.pyplot as plt\n",
    "from datetime import datetime, time\n",
    "import numpy as np\n",
    "import seaborn as sns\n",
    "import matplotlib.pyplot as plt\n",
    "from sklearn.ensemble import RandomForestRegressor\n",
    "from sklearn.model_selection import train_test_split\n",
    "from sklearn.metrics import mean_squared_error\n",
    "from sklearn.preprocessing import MinMaxScaler\n",
    "import copy\n",
    "from meteostat import Stations, Daily"
   ],
   "metadata": {
    "collapsed": false,
    "ExecuteTime": {
     "start_time": "2023-05-25T16:38:35.455164Z",
     "end_time": "2023-05-25T16:38:36.517433Z"
    }
   }
  },
  {
   "cell_type": "code",
   "execution_count": 2,
   "outputs": [],
   "source": [
    "import torch\n",
    "import torch.nn as nn\n",
    "import torch.optim as optim"
   ],
   "metadata": {
    "collapsed": false,
    "ExecuteTime": {
     "start_time": "2023-05-25T16:38:36.517891Z",
     "end_time": "2023-05-25T16:38:38.501613Z"
    }
   }
  },
  {
   "cell_type": "code",
   "execution_count": 3,
   "outputs": [],
   "source": [
    "path = \"RawData\""
   ],
   "metadata": {
    "collapsed": false,
    "ExecuteTime": {
     "start_time": "2023-05-25T16:38:38.502301Z",
     "end_time": "2023-05-25T16:38:38.504810Z"
    }
   }
  },
  {
   "cell_type": "code",
   "execution_count": 4,
   "outputs": [],
   "source": [
    "def extract_date_time(filename):\n",
    "    \"\"\"\n",
    "    extract the date and time from the filename\n",
    "    :param filename:\n",
    "    :return:\n",
    "    \"\"\"\n",
    "    parts = filename.split('.')\n",
    "    date = parts[1]\n",
    "    time = parts[2]\n",
    "    return date, time"
   ],
   "metadata": {
    "collapsed": false,
    "ExecuteTime": {
     "start_time": "2023-05-25T16:38:38.507425Z",
     "end_time": "2023-05-25T16:38:38.509402Z"
    }
   }
  },
  {
   "cell_type": "code",
   "execution_count": 5,
   "outputs": [],
   "source": [
    "def get_date(df, file):\n",
    "    \"\"\"get the date from the dataframe and the time from the filename and combine them into a datetime object\n",
    "    :param df: dataframe containing the date\n",
    "    :param file: filename containing the time\n",
    "    :return: datetime object\n",
    "    \"\"\"\n",
    "    #date_str = df[df.iloc[:, 2] == 1].iloc[0]['Date']\n",
    "    date_str = str(file.split('.')[1])\n",
    "    time_str = str(file.split('.')[2])\n",
    "    #date = datetime.strptime(date_str, '%Y-%m-%d')\n",
    "    date = datetime.strptime(date_str, '%Y%m%d')\n",
    "    time_value = time(int(time_str), 0)\n",
    "    combined_datetime = datetime.combine(date.date(), time_value)\n",
    "    return combined_datetime"
   ],
   "metadata": {
    "collapsed": false,
    "ExecuteTime": {
     "start_time": "2023-05-25T16:38:38.511558Z",
     "end_time": "2023-05-25T16:38:38.514216Z"
    }
   }
  },
  {
   "cell_type": "code",
   "execution_count": 5,
   "outputs": [],
   "source": [],
   "metadata": {
    "collapsed": false,
    "ExecuteTime": {
     "start_time": "2023-05-25T16:38:38.514531Z",
     "end_time": "2023-05-25T16:38:38.517639Z"
    }
   }
  },
  {
   "cell_type": "code",
   "execution_count": 6,
   "outputs": [],
   "source": [
    "ecmwf_files = glob.glob(path + '/ecmwf.*.[01][02].gw_hdd.csv')\n",
    "ecmwf_sorted_files = sorted(ecmwf_files, key=lambda x: (x.split('.')[1], x.split('.')[2]))[3:]\n",
    "\n",
    "ecmwf_eps_files = glob.glob(path + '/ecmwf-eps.*.[01][02].gw_hdd.csv')\n",
    "ecmwf_eps_sorted_files = sorted(ecmwf_eps_files, key=lambda x: (x.split('.')[1], x.split('.')[2]))[2:]\n",
    "\n",
    "gfs_ens_bc_files = glob.glob(path + '/gfs-ens-bc.*.[01][02].gw_hdd.csv')\n",
    "gfs_ens_bc_sorted_files = sorted(gfs_ens_bc_files, key=lambda x: (x.split('.')[1], x.split('.')[2]))[2:]\n",
    "\n",
    "cmc_ens_files = glob.glob(path + '/cmc-ens.*.[01][02].gw_hdd.csv')\n",
    "cmc_ens_sorted_files = sorted(cmc_ens_files, key=lambda x: (x.split('.')[1], x.split('.')[2]))[2:]"
   ],
   "metadata": {
    "collapsed": false,
    "ExecuteTime": {
     "start_time": "2023-05-25T16:38:38.517972Z",
     "end_time": "2023-05-25T16:38:38.967419Z"
    }
   }
  },
  {
   "cell_type": "code",
   "execution_count": 7,
   "outputs": [],
   "source": [
    "for _ in range(2):\n",
    "    set1 = set((extract_date_time(filename) for filename in ecmwf_sorted_files))\n",
    "    set2 = set((extract_date_time(filename) for filename in ecmwf_eps_sorted_files))\n",
    "\n",
    "    ecmwf_sorted_files = [filename for filename in ecmwf_sorted_files if extract_date_time(filename) in set2]\n",
    "    ecmwf_eps_sorted_files = [filename for filename in ecmwf_eps_sorted_files if extract_date_time(filename) in set1]\n",
    "    cmc_ens_sorted_files = [filename for filename in cmc_ens_sorted_files if extract_date_time(filename) in set1]\n",
    "\n",
    "    master_set = set((extract_date_time(filename) for filename in cmc_ens_sorted_files))\n",
    "    gfs_ens_bc_sorted_files = [filename for filename in gfs_ens_bc_sorted_files if extract_date_time(filename) in master_set]\n",
    "\n",
    "    master_set = set((extract_date_time(filename) for filename in gfs_ens_bc_sorted_files))\n",
    "\n",
    "    ecmwf_sorted_files = [filename for filename in ecmwf_sorted_files if extract_date_time(filename) in master_set]\n",
    "    ecmwf_eps_sorted_files = [filename for filename in ecmwf_eps_sorted_files if extract_date_time(filename) in master_set]\n",
    "    gfs_ens_bc_sorted_files = [filename for filename in gfs_ens_bc_sorted_files if extract_date_time(filename) in master_set]\n",
    "    cmc_ens_sorted_files = [filename for filename in cmc_ens_sorted_files if extract_date_time(filename) in master_set]"
   ],
   "metadata": {
    "collapsed": false,
    "ExecuteTime": {
     "start_time": "2023-05-25T16:38:39.004773Z",
     "end_time": "2023-05-25T16:38:39.008158Z"
    }
   }
  },
  {
   "cell_type": "code",
   "execution_count": 7,
   "outputs": [],
   "source": [],
   "metadata": {
    "collapsed": false,
    "ExecuteTime": {
     "start_time": "2023-05-25T16:38:39.007516Z",
     "end_time": "2023-05-25T16:38:39.009747Z"
    }
   }
  },
  {
   "cell_type": "code",
   "execution_count": 7,
   "outputs": [],
   "source": [],
   "metadata": {
    "collapsed": false,
    "ExecuteTime": {
     "start_time": "2023-05-25T16:38:39.010141Z",
     "end_time": "2023-05-25T16:38:39.012325Z"
    }
   }
  },
  {
   "cell_type": "code",
   "execution_count": 7,
   "outputs": [],
   "source": [],
   "metadata": {
    "collapsed": false,
    "ExecuteTime": {
     "start_time": "2023-05-25T16:38:39.012775Z",
     "end_time": "2023-05-25T16:38:39.015538Z"
    }
   }
  },
  {
   "cell_type": "code",
   "execution_count": 8,
   "outputs": [
    {
     "name": "stdout",
     "output_type": "stream",
     "text": [
      "3484\n",
      "3484\n",
      "3484\n",
      "3484\n"
     ]
    }
   ],
   "source": [
    "print(len(ecmwf_sorted_files))\n",
    "print(len(ecmwf_eps_sorted_files))\n",
    "print(len(gfs_ens_bc_sorted_files))\n",
    "print(len(cmc_ens_sorted_files))"
   ],
   "metadata": {
    "collapsed": false,
    "ExecuteTime": {
     "start_time": "2023-05-25T16:38:39.017156Z",
     "end_time": "2023-05-25T16:38:39.019996Z"
    }
   }
  },
  {
   "cell_type": "code",
   "execution_count": 8,
   "outputs": [],
   "source": [],
   "metadata": {
    "collapsed": false,
    "ExecuteTime": {
     "start_time": "2023-05-25T16:38:39.023233Z",
     "end_time": "2023-05-25T16:38:39.025085Z"
    }
   }
  },
  {
   "cell_type": "markdown",
   "source": [
    "### step 1 get changes in ecmwf-eps compared to 12 hours ago for days 9-14"
   ],
   "metadata": {
    "collapsed": false
   }
  },
  {
   "cell_type": "code",
   "execution_count": 8,
   "outputs": [],
   "source": [],
   "metadata": {
    "collapsed": false,
    "ExecuteTime": {
     "start_time": "2023-05-25T16:38:39.025580Z",
     "end_time": "2023-05-25T16:38:39.027133Z"
    }
   }
  },
  {
   "cell_type": "code",
   "execution_count": 9,
   "outputs": [],
   "source": [
    "ecmwf_eps_change_df = pd.DataFrame(columns=['ecmwf-eps_9', 'ecmwf-eps_10', 'ecmwf-eps_11', 'ecmwf-eps_12',\n",
    "                                  'ecmwf-eps_13', 'ecmwf-eps_14'])\n",
    "\n",
    "for i in range(1, len(ecmwf_eps_sorted_files)):\n",
    "    ecmwf_eps_df = pd.read_csv(ecmwf_eps_sorted_files[i])\n",
    "    prev_ecmwf_eps_df = pd.read_csv(ecmwf_eps_sorted_files[i-1])\n",
    "    date = get_date(ecmwf_eps_df, ecmwf_eps_sorted_files[i])\n",
    "    prev_date = get_date(prev_ecmwf_eps_df, ecmwf_eps_sorted_files[i-1])\n",
    "    d2 = str(date)[:10]\n",
    "    d1 = str(prev_date)[:10]\n",
    "\n",
    "    if d2 != d1:\n",
    "        offset = 1\n",
    "    else:\n",
    "        offset = 0\n",
    "\n",
    "    changes = []\n",
    "    for day in range(8, 14):\n",
    "        changes.append(ecmwf_eps_df.iloc[day - offset]['Value'] - prev_ecmwf_eps_df.iloc[day]['Value'])\n",
    "    new_row = pd.DataFrame([changes], columns=ecmwf_eps_change_df.columns, index=[date])\n",
    "    ecmwf_eps_change_df = pd.concat([ecmwf_eps_change_df, new_row])\n"
   ],
   "metadata": {
    "collapsed": false,
    "ExecuteTime": {
     "start_time": "2023-05-25T16:38:39.031811Z",
     "end_time": "2023-05-25T16:38:46.383611Z"
    }
   }
  },
  {
   "cell_type": "code",
   "execution_count": 9,
   "outputs": [],
   "source": [],
   "metadata": {
    "collapsed": false,
    "ExecuteTime": {
     "start_time": "2023-05-25T16:38:46.383951Z",
     "end_time": "2023-05-25T16:38:46.386366Z"
    }
   }
  },
  {
   "cell_type": "code",
   "execution_count": 9,
   "outputs": [],
   "source": [],
   "metadata": {
    "collapsed": false,
    "ExecuteTime": {
     "start_time": "2023-05-25T16:38:46.386060Z",
     "end_time": "2023-05-25T16:38:46.388844Z"
    }
   }
  },
  {
   "cell_type": "markdown",
   "source": [
    "## step 2 recreate model"
   ],
   "metadata": {
    "collapsed": false
   }
  },
  {
   "cell_type": "markdown",
   "source": [
    "### step 2.1 get difference between the new ecmwf forecast for day 9 and the previous ecmwf-eps forecast for day 9"
   ],
   "metadata": {
    "collapsed": false
   }
  },
  {
   "cell_type": "markdown",
   "source": [
    "### problems:\n",
    "- not all dates are in both sets of data"
   ],
   "metadata": {
    "collapsed": false
   }
  },
  {
   "cell_type": "code",
   "execution_count": 10,
   "outputs": [],
   "source": [
    "ecmwf_change_df = pd.DataFrame(columns=['ecmwf_diff_8', 'ecmwf_diff_9',])\n",
    "for i in range(1, len(ecmwf_sorted_files)):\n",
    "    ecmwf_df = pd.read_csv(ecmwf_sorted_files[i])\n",
    "    ecmwf_eps_df = pd.read_csv(ecmwf_eps_sorted_files[i-1]) #one day behind\n",
    "\n",
    "    ecmwf = ecmwf_df.iloc[8]\n",
    "    ecmwf_eps = ecmwf_eps_df.iloc[9]\n",
    "\n",
    "    date = get_date(ecmwf_df, ecmwf_sorted_files[i])\n",
    "    prev_date = get_date(ecmwf_eps_df, ecmwf_eps_sorted_files[i-1])\n",
    "    d2 = str(date)[:10]\n",
    "    d1 = str(prev_date)[:10]\n",
    "    if d2 != d1:\n",
    "        offset = 1\n",
    "    else:\n",
    "        offset = 0\n",
    "\n",
    "    changes = []\n",
    "    for day in range(8,10):\n",
    "        changes.append(ecmwf_df.iloc[day - offset]['Value'] - ecmwf_eps_df.iloc[day]['Value'])\n",
    "    new_row = pd.DataFrame([changes], columns=ecmwf_change_df.columns, index=[date])\n",
    "    ecmwf_change_df = pd.concat([ecmwf_change_df, new_row])"
   ],
   "metadata": {
    "collapsed": false,
    "ExecuteTime": {
     "start_time": "2023-05-25T16:38:46.391633Z",
     "end_time": "2023-05-25T16:38:52.540403Z"
    }
   }
  },
  {
   "cell_type": "code",
   "execution_count": 11,
   "outputs": [],
   "source": [
    "ecmwf_change_df"
   ],
   "metadata": {
    "collapsed": false,
    "ExecuteTime": {
     "start_time": "2023-05-25T16:38:52.540975Z",
     "end_time": "2023-05-25T16:38:52.543358Z"
    }
   }
  },
  {
   "cell_type": "markdown",
   "source": [
    "### step 2.2 the difference between the new emcwf-eps forecast for day 8 and the previous emcwf-eps forecast for day 8 (not possible as the new ecmwf-eps forecast is not available because it will not be released yet???)"
   ],
   "metadata": {
    "collapsed": false,
    "ExecuteTime": {
     "start_time": "2023-05-25T09:12:57.677758Z",
     "end_time": "2023-05-25T09:12:57.679902Z"
    }
   },
   "outputs": [],
   "execution_count": 67
  },
  {
   "cell_type": "markdown",
   "source": [
    "### step 2.3 the difference between the new gfs-ens-bc forecast for days 9-14 and the previous emcwf-eps forecast for days 9-14"
   ],
   "metadata": {
    "collapsed": false,
    "ExecuteTime": {
     "start_time": "2023-05-25T09:13:18.790030Z",
     "end_time": "2023-05-25T09:13:18.796732Z"
    }
   },
   "outputs": [],
   "execution_count": 67
  },
  {
   "cell_type": "code",
   "execution_count": 12,
   "outputs": [],
   "source": [
    "gfs_ens_bc_change_df = pd.DataFrame(columns=['gfs-ens-bc_9', 'gfs-ens-bc_10', 'gfs-ens-bc_11', 'gfs-ens-bc_12',\n",
    "                                  'gfs-ens-bc_13', 'gfs-ens-bc_14'])\n",
    "\n",
    "for i in range(1, len(gfs_ens_bc_sorted_files)):\n",
    "    gfs_ens_bc_df = pd.read_csv(gfs_ens_bc_sorted_files[i])\n",
    "    prev_ecmwf_eps_df = pd.read_csv(ecmwf_eps_sorted_files[i-1])\n",
    "\n",
    "    date = get_date(gfs_ens_bc_df, gfs_ens_bc_sorted_files[i])\n",
    "    prev_date = get_date(prev_ecmwf_eps_df, ecmwf_eps_sorted_files[i-1])\n",
    "    d2 = str(date)[:10]\n",
    "    d1 = str(prev_date)[:10]\n",
    "    if d2 != d1:\n",
    "        offset = 1\n",
    "    else:\n",
    "        offset = 0\n",
    "\n",
    "    changes = []\n",
    "    for day in range(8, 14):\n",
    "        changes.append(gfs_ens_bc_df.iloc[day - offset]['Value'] - prev_ecmwf_eps_df.iloc[day]['Value'])\n",
    "    new_row = pd.DataFrame([changes], columns=gfs_ens_bc_change_df.columns, index=[date])\n",
    "    gfs_ens_bc_change_df = pd.concat([gfs_ens_bc_change_df, new_row])"
   ],
   "metadata": {
    "collapsed": false,
    "ExecuteTime": {
     "start_time": "2023-05-25T16:38:52.547839Z",
     "end_time": "2023-05-25T16:38:59.520095Z"
    }
   }
  },
  {
   "cell_type": "code",
   "execution_count": 13,
   "outputs": [],
   "source": [
    "gfs_ens_bc_change_df"
   ],
   "metadata": {
    "collapsed": false,
    "ExecuteTime": {
     "start_time": "2023-05-25T16:38:59.515446Z",
     "end_time": "2023-05-25T16:38:59.520223Z"
    }
   }
  },
  {
   "cell_type": "markdown",
   "source": [
    "### step 2.4 the difference between the new cmc-ens forecast for days 9-14 and the new gfs-ens-bc  forecast for days 9-14"
   ],
   "metadata": {
    "collapsed": false,
    "ExecuteTime": {
     "start_time": "2023-05-25T09:15:09.712351Z",
     "end_time": "2023-05-25T09:15:16.855969Z"
    }
   },
   "outputs": [],
   "execution_count": 68
  },
  {
   "cell_type": "code",
   "execution_count": 14,
   "outputs": [],
   "source": [
    "cmc_ens_change_df = pd.DataFrame(columns=['cmc-ens_9', 'cmc-ens_10', 'cmc-ens_11', 'cmc-ens_12',\n",
    "                                  'cmc-ens_13', 'cmc-ens_14'])\n",
    "\n",
    "for i in range(1, len(cmc_ens_sorted_files)):\n",
    "    cmc_ens_df = pd.read_csv(cmc_ens_sorted_files[i])\n",
    "    gfs_ens_bc_df = pd.read_csv(gfs_ens_bc_sorted_files[i])\n",
    "    date = get_date(cmc_ens_df, cmc_ens_sorted_files[i])\n",
    "\n",
    "    changes = []\n",
    "    for day in range(8, 14):\n",
    "        changes.append(cmc_ens_df.iloc[day]['Value'] - gfs_ens_bc_df.iloc[day]['Value'])\n",
    "    new_row = pd.DataFrame([changes], columns=cmc_ens_change_df.columns, index=[date])\n",
    "    cmc_ens_change_df = pd.concat([cmc_ens_change_df, new_row])"
   ],
   "metadata": {
    "collapsed": false,
    "ExecuteTime": {
     "start_time": "2023-05-25T16:38:59.521558Z",
     "end_time": "2023-05-25T16:39:06.705606Z"
    }
   }
  },
  {
   "cell_type": "code",
   "execution_count": 15,
   "outputs": [],
   "source": [
    "cmc_ens_change_df"
   ],
   "metadata": {
    "collapsed": false,
    "ExecuteTime": {
     "start_time": "2023-05-25T16:39:06.706961Z",
     "end_time": "2023-05-25T16:39:06.709121Z"
    }
   }
  },
  {
   "cell_type": "code",
   "execution_count": 16,
   "outputs": [],
   "source": [
    "# add month data"
   ],
   "metadata": {
    "collapsed": false,
    "ExecuteTime": {
     "start_time": "2023-05-25T16:39:06.710028Z",
     "end_time": "2023-05-25T16:39:06.711961Z"
    }
   }
  },
  {
   "cell_type": "code",
   "execution_count": 17,
   "outputs": [],
   "source": [
    "cmc_ens_change_df['month'] = cmc_ens_change_df.index.month"
   ],
   "metadata": {
    "collapsed": false,
    "ExecuteTime": {
     "start_time": "2023-05-25T16:39:06.713279Z",
     "end_time": "2023-05-25T16:39:06.729510Z"
    }
   }
  },
  {
   "cell_type": "code",
   "execution_count": 18,
   "outputs": [],
   "source": [
    "def f(i):\n",
    "    x = 6\n",
    "    y = 1-(1 * (abs(x-i)/x))\n",
    "    return y"
   ],
   "metadata": {
    "collapsed": false,
    "ExecuteTime": {
     "start_time": "2023-05-25T16:39:06.732593Z",
     "end_time": "2023-05-25T16:39:06.732721Z"
    }
   }
  },
  {
   "cell_type": "code",
   "execution_count": 19,
   "outputs": [],
   "source": [],
   "metadata": {
    "collapsed": false,
    "ExecuteTime": {
     "start_time": "2023-05-25T16:39:06.727096Z",
     "end_time": "2023-05-25T16:39:07.497829Z"
    }
   }
  },
  {
   "cell_type": "code",
   "execution_count": 20,
   "outputs": [],
   "source": [
    "cmc_ens_change_df['month'] = cmc_ens_change_df['month'].apply(f)"
   ],
   "metadata": {
    "collapsed": false,
    "ExecuteTime": {
     "start_time": "2023-05-25T16:39:06.731253Z",
     "end_time": "2023-05-25T16:39:07.497939Z"
    }
   }
  },
  {
   "cell_type": "code",
   "execution_count": 21,
   "outputs": [],
   "source": [
    "#add weather data"
   ],
   "metadata": {
    "collapsed": false,
    "ExecuteTime": {
     "start_time": "2023-05-25T16:39:07.493749Z",
     "end_time": "2023-05-25T16:39:07.507408Z"
    }
   }
  },
  {
   "cell_type": "code",
   "execution_count": 22,
   "outputs": [],
   "source": [
    "start_day = gfs_ens_bc_change_df.index[0]\n",
    "end_day = gfs_ens_bc_change_df.index[-1]\n",
    "\n",
    "# Set time period\n",
    "start = datetime(int(str(start_day)[:4]), int(str(start_day)[5:7]), int(str(start_day)[8:10]))\n",
    "end = datetime(int(str(end_day)[:4]), int(str(end_day)[5:7]), int(str(end_day)[8:10]))\n",
    "\n",
    "# Get daily data\n",
    "# KCQT0 is Los Angeles\n",
    "# 71877 is Calgary\n",
    "data = Daily('DHKZ6', start, end)\n",
    "data = data.fetch()"
   ],
   "metadata": {
    "collapsed": false,
    "ExecuteTime": {
     "start_time": "2023-05-25T16:39:07.504422Z",
     "end_time": "2023-05-25T16:39:07.510606Z"
    }
   }
  },
  {
   "cell_type": "code",
   "execution_count": 23,
   "outputs": [],
   "source": [
    "temp_data = data[['tavg', 'tmin', 'tmax', 'prcp']]\n",
    "temp_data = temp_data.diff(1)\n",
    "temp_data.fillna(0, inplace=True)\n",
    "temp_data['date'] = temp_data.index.date"
   ],
   "metadata": {
    "collapsed": false,
    "ExecuteTime": {
     "start_time": "2023-05-25T16:39:08.499309Z",
     "end_time": "2023-05-25T16:39:08.508756Z"
    }
   }
  },
  {
   "cell_type": "code",
   "execution_count": 24,
   "outputs": [],
   "source": [
    "gfs_ens_bc_change_df['date'] = gfs_ens_bc_change_df.index.date\n",
    "merged_df = pd.merge(gfs_ens_bc_change_df, temp_data, on='date', how='left')\n",
    "merged_df.index = gfs_ens_bc_change_df.index\n",
    "merged_df.drop(columns=['date'], inplace=True)"
   ],
   "metadata": {
    "collapsed": false,
    "ExecuteTime": {
     "start_time": "2023-05-25T16:39:08.845107Z",
     "end_time": "2023-05-25T16:39:08.858048Z"
    }
   }
  },
  {
   "cell_type": "code",
   "execution_count": 24,
   "outputs": [],
   "source": [
    "gfs_ens_bc_change_df = merged_df"
   ],
   "metadata": {
    "collapsed": false,
    "ExecuteTime": {
     "start_time": "2023-05-25T16:39:09.228919Z",
     "end_time": "2023-05-25T16:39:09.236799Z"
    }
   }
  },
  {
   "cell_type": "code",
   "execution_count": 25,
   "outputs": [],
   "source": [],
   "metadata": {
    "collapsed": false,
    "ExecuteTime": {
     "start_time": "2023-05-25T16:39:10.028987Z",
     "end_time": "2023-05-25T16:39:10.041187Z"
    }
   }
  },
  {
   "cell_type": "code",
   "execution_count": 26,
   "outputs": [],
   "source": [
    "master_df = pd.concat([gfs_ens_bc_change_df, cmc_ens_change_df, ecmwf_change_df, ecmwf_eps_change_df], axis=1)"
   ],
   "metadata": {
    "collapsed": false,
    "ExecuteTime": {
     "start_time": "2023-05-25T16:39:10.928591Z",
     "end_time": "2023-05-25T16:39:10.937028Z"
    }
   }
  },
  {
   "cell_type": "code",
   "execution_count": 28,
   "outputs": [
    {
     "data": {
      "text/plain": "                     gfs-ens-bc_9  gfs-ens-bc_10  gfs-ens-bc_11   \n2018-07-11 00:00:00         0.009          0.006          0.002  \\\n2018-07-11 12:00:00         0.004          0.001          0.000   \n2018-07-12 00:00:00         0.003          0.002          0.002   \n2018-07-12 12:00:00         0.001          0.002          0.004   \n2018-07-13 00:00:00         0.001          0.002          0.002   \n\n                     gfs-ens-bc_12  gfs-ens-bc_13  gfs-ens-bc_14  tavg  tmin   \n2018-07-11 00:00:00          0.001          0.013          0.013   0.0   0.0  \\\n2018-07-11 12:00:00          0.005          0.008          0.018   0.0   0.0   \n2018-07-12 00:00:00          0.006          0.009          0.020  -0.7  -2.7   \n2018-07-12 12:00:00          0.009          0.021          0.015  -0.7  -2.7   \n2018-07-13 00:00:00          0.007          0.019          0.021   2.8   0.4   \n\n                     tmax  prcp  ...  cmc-ens_14     month  ecmwf_diff_8   \n2018-07-11 00:00:00   0.0   0.0  ...      -0.012  0.833333         0.000  \\\n2018-07-11 12:00:00   0.0   0.0  ...      -0.016  0.833333         0.002   \n2018-07-12 00:00:00   1.3  -0.4  ...      -0.019  0.833333         0.002   \n2018-07-12 12:00:00   1.3  -0.4  ...      -0.007  0.833333         0.000   \n2018-07-13 00:00:00   5.1   0.0  ...      -0.013  0.833333         0.000   \n\n                     ecmwf_diff_9  ecmwf-eps_9  ecmwf-eps_10  ecmwf-eps_11   \n2018-07-11 00:00:00         0.001        0.001        -0.001         0.000  \\\n2018-07-11 12:00:00         0.000        0.001         0.000        -0.001   \n2018-07-12 00:00:00         0.001       -0.001        -0.001         0.000   \n2018-07-12 12:00:00         0.002        0.000        -0.001         0.001   \n2018-07-13 00:00:00         0.002        0.000        -0.001        -0.001   \n\n                     ecmwf-eps_12  ecmwf-eps_13  ecmwf-eps_14  \n2018-07-11 00:00:00         0.000         0.000         0.000  \n2018-07-11 12:00:00        -0.001        -0.001        -0.001  \n2018-07-12 00:00:00         0.000        -0.001         0.001  \n2018-07-12 12:00:00         0.001         0.006         0.003  \n2018-07-13 00:00:00        -0.002         0.000        -0.001  \n\n[5 rows x 25 columns]",
      "text/html": "<div>\n<style scoped>\n    .dataframe tbody tr th:only-of-type {\n        vertical-align: middle;\n    }\n\n    .dataframe tbody tr th {\n        vertical-align: top;\n    }\n\n    .dataframe thead th {\n        text-align: right;\n    }\n</style>\n<table border=\"1\" class=\"dataframe\">\n  <thead>\n    <tr style=\"text-align: right;\">\n      <th></th>\n      <th>gfs-ens-bc_9</th>\n      <th>gfs-ens-bc_10</th>\n      <th>gfs-ens-bc_11</th>\n      <th>gfs-ens-bc_12</th>\n      <th>gfs-ens-bc_13</th>\n      <th>gfs-ens-bc_14</th>\n      <th>tavg</th>\n      <th>tmin</th>\n      <th>tmax</th>\n      <th>prcp</th>\n      <th>...</th>\n      <th>cmc-ens_14</th>\n      <th>month</th>\n      <th>ecmwf_diff_8</th>\n      <th>ecmwf_diff_9</th>\n      <th>ecmwf-eps_9</th>\n      <th>ecmwf-eps_10</th>\n      <th>ecmwf-eps_11</th>\n      <th>ecmwf-eps_12</th>\n      <th>ecmwf-eps_13</th>\n      <th>ecmwf-eps_14</th>\n    </tr>\n  </thead>\n  <tbody>\n    <tr>\n      <th>2018-07-11 00:00:00</th>\n      <td>0.009</td>\n      <td>0.006</td>\n      <td>0.002</td>\n      <td>0.001</td>\n      <td>0.013</td>\n      <td>0.013</td>\n      <td>0.0</td>\n      <td>0.0</td>\n      <td>0.0</td>\n      <td>0.0</td>\n      <td>...</td>\n      <td>-0.012</td>\n      <td>0.833333</td>\n      <td>0.000</td>\n      <td>0.001</td>\n      <td>0.001</td>\n      <td>-0.001</td>\n      <td>0.000</td>\n      <td>0.000</td>\n      <td>0.000</td>\n      <td>0.000</td>\n    </tr>\n    <tr>\n      <th>2018-07-11 12:00:00</th>\n      <td>0.004</td>\n      <td>0.001</td>\n      <td>0.000</td>\n      <td>0.005</td>\n      <td>0.008</td>\n      <td>0.018</td>\n      <td>0.0</td>\n      <td>0.0</td>\n      <td>0.0</td>\n      <td>0.0</td>\n      <td>...</td>\n      <td>-0.016</td>\n      <td>0.833333</td>\n      <td>0.002</td>\n      <td>0.000</td>\n      <td>0.001</td>\n      <td>0.000</td>\n      <td>-0.001</td>\n      <td>-0.001</td>\n      <td>-0.001</td>\n      <td>-0.001</td>\n    </tr>\n    <tr>\n      <th>2018-07-12 00:00:00</th>\n      <td>0.003</td>\n      <td>0.002</td>\n      <td>0.002</td>\n      <td>0.006</td>\n      <td>0.009</td>\n      <td>0.020</td>\n      <td>-0.7</td>\n      <td>-2.7</td>\n      <td>1.3</td>\n      <td>-0.4</td>\n      <td>...</td>\n      <td>-0.019</td>\n      <td>0.833333</td>\n      <td>0.002</td>\n      <td>0.001</td>\n      <td>-0.001</td>\n      <td>-0.001</td>\n      <td>0.000</td>\n      <td>0.000</td>\n      <td>-0.001</td>\n      <td>0.001</td>\n    </tr>\n    <tr>\n      <th>2018-07-12 12:00:00</th>\n      <td>0.001</td>\n      <td>0.002</td>\n      <td>0.004</td>\n      <td>0.009</td>\n      <td>0.021</td>\n      <td>0.015</td>\n      <td>-0.7</td>\n      <td>-2.7</td>\n      <td>1.3</td>\n      <td>-0.4</td>\n      <td>...</td>\n      <td>-0.007</td>\n      <td>0.833333</td>\n      <td>0.000</td>\n      <td>0.002</td>\n      <td>0.000</td>\n      <td>-0.001</td>\n      <td>0.001</td>\n      <td>0.001</td>\n      <td>0.006</td>\n      <td>0.003</td>\n    </tr>\n    <tr>\n      <th>2018-07-13 00:00:00</th>\n      <td>0.001</td>\n      <td>0.002</td>\n      <td>0.002</td>\n      <td>0.007</td>\n      <td>0.019</td>\n      <td>0.021</td>\n      <td>2.8</td>\n      <td>0.4</td>\n      <td>5.1</td>\n      <td>0.0</td>\n      <td>...</td>\n      <td>-0.013</td>\n      <td>0.833333</td>\n      <td>0.000</td>\n      <td>0.002</td>\n      <td>0.000</td>\n      <td>-0.001</td>\n      <td>-0.001</td>\n      <td>-0.002</td>\n      <td>0.000</td>\n      <td>-0.001</td>\n    </tr>\n  </tbody>\n</table>\n<p>5 rows × 25 columns</p>\n</div>"
     },
     "metadata": {},
     "output_type": "display_data"
    }
   ],
   "source": [
    "master_df.fillna(0, inplace=True)"
   ],
   "metadata": {
    "collapsed": false,
    "ExecuteTime": {
     "start_time": "2023-05-25T16:39:26.955381Z",
     "end_time": "2023-05-25T16:39:26.959790Z"
    }
   }
  },
  {
   "cell_type": "code",
   "execution_count": null,
   "outputs": [],
   "source": [],
   "metadata": {
    "collapsed": false,
    "ExecuteTime": {
     "start_time": "2023-05-25T13:30:51.967871Z",
     "end_time": "2023-05-25T13:30:51.981205Z"
    }
   }
  },
  {
   "cell_type": "markdown",
   "source": [
    "### random forest - mse=0.1674"
   ],
   "metadata": {
    "collapsed": false,
    "ExecuteTime": {
     "start_time": "2023-05-25T16:39:36.720773Z",
     "end_time": "2023-05-25T16:39:36.735978Z"
    }
   },
   "outputs": [],
   "execution_count": 29
  },
  {
   "cell_type": "code",
   "execution_count": 30,
   "outputs": [],
   "source": [
    "X = master_df.iloc[:, :-6]"
   ],
   "metadata": {
    "collapsed": false,
    "ExecuteTime": {
     "start_time": "2023-05-25T16:39:36.942332Z",
     "end_time": "2023-05-25T16:39:36.954758Z"
    }
   }
  },
  {
   "cell_type": "code",
   "execution_count": 31,
   "outputs": [
    {
     "data": {
      "text/plain": "[<matplotlib.lines.Line2D at 0x7fa72894a440>]"
     },
     "execution_count": 31,
     "metadata": {},
     "output_type": "execute_result"
    },
    {
     "data": {
      "text/plain": "<Figure size 640x480 with 1 Axes>",
      "image/png": "[encoded data removed]"
     },
     "metadata": {},
     "output_type": "display_data"
    }
   ],
   "source": [
    "y = master_df.iloc[:, -6:]"
   ],
   "metadata": {
    "collapsed": false,
    "ExecuteTime": {
     "start_time": "2023-05-25T16:39:37.151213Z",
     "end_time": "2023-05-25T16:39:37.309992Z"
    }
   }
  },
  {
   "cell_type": "code",
   "execution_count": 31,
   "outputs": [],
   "source": [
    "plt.plot(y['ecmwf-eps_9'][600:1000])"
   ],
   "metadata": {
    "collapsed": false,
    "ExecuteTime": {
     "start_time": "2023-05-25T16:39:38.167130Z",
     "end_time": "2023-05-25T16:39:38.180282Z"
    }
   }
  },
  {
   "cell_type": "code",
   "execution_count": 31,
   "outputs": [],
   "source": [
    "X"
   ],
   "metadata": {
    "collapsed": false,
    "ExecuteTime": {
     "start_time": "2023-05-25T16:39:38.392014Z",
     "end_time": "2023-05-25T16:39:38.402972Z"
    }
   }
  },
  {
   "cell_type": "code",
   "execution_count": null,
   "outputs": [],
   "source": [
    "y"
   ],
   "metadata": {
    "collapsed": false,
    "ExecuteTime": {
     "start_time": "2023-05-25T16:32:36.625960Z",
     "end_time": "2023-05-25T16:32:36.627805Z"
    }
   }
  },
  {
   "cell_type": "code",
   "execution_count": null,
   "outputs": [],
   "source": [
    "X_train, X_test, y_train, y_test = train_test_split(X, y, test_size=0.2, random_state=42)"
   ],
   "metadata": {
    "collapsed": false,
    "ExecuteTime": {
     "start_time": "2023-05-25T13:30:54.678995Z",
     "end_time": "2023-05-25T13:30:54.696878Z"
    }
   }
  },
  {
   "cell_type": "code",
   "execution_count": null,
   "outputs": [],
   "source": [
    "rf_model = RandomForestRegressor(n_estimators=1000, max_depth=100, random_state=42)"
   ],
   "metadata": {
    "collapsed": false,
    "ExecuteTime": {
     "start_time": "2023-05-25T13:30:55.149335Z",
     "end_time": "2023-05-25T13:30:55.155162Z"
    }
   }
  },
  {
   "cell_type": "code",
   "execution_count": null,
   "outputs": [],
   "source": [
    "rf_model.fit(X_train, y_train)"
   ],
   "metadata": {
    "collapsed": false,
    "ExecuteTime": {
     "start_time": "2023-05-25T13:30:55.594791Z",
     "end_time": "2023-05-25T13:31:46.733005Z"
    }
   }
  },
  {
   "cell_type": "code",
   "execution_count": null,
   "outputs": [],
   "source": [
    "y_pred = rf_model.predict(X_test)"
   ],
   "metadata": {
    "collapsed": false,
    "ExecuteTime": {
     "start_time": "2023-05-25T13:31:46.733866Z",
     "end_time": "2023-05-25T13:31:46.925748Z"
    }
   }
  },
  {
   "cell_type": "code",
   "execution_count": null,
   "outputs": [],
   "source": [
    "mse = mean_squared_error(y_test, y_pred)\n",
    "print(\"Mean Squared Error:\", mse)"
   ],
   "metadata": {
    "collapsed": false,
    "ExecuteTime": {
     "start_time": "2023-05-25T13:31:46.927748Z",
     "end_time": "2023-05-25T13:31:46.929984Z"
    }
   }
  },
  {
   "cell_type": "markdown",
   "source": [
    "### RNN (MSE): 0.16733"
   ],
   "metadata": {
    "collapsed": false,
    "ExecuteTime": {
     "start_time": "2023-05-25T10:52:48.671842Z",
     "end_time": "2023-05-25T10:52:48.682232Z"
    }
   },
   "outputs": [],
   "execution_count": 213
  },
  {
   "cell_type": "code",
   "execution_count": null,
   "outputs": [],
   "source": [
    "master_df"
   ],
   "metadata": {
    "collapsed": false,
    "ExecuteTime": {
     "start_time": "2023-05-25T13:31:46.933353Z",
     "end_time": "2023-05-25T13:31:46.963073Z"
    }
   }
  },
  {
   "cell_type": "code",
   "execution_count": null,
   "outputs": [],
   "source": [],
   "metadata": {
    "collapsed": false,
    "ExecuteTime": {
     "start_time": "2023-05-25T13:31:46.950511Z",
     "end_time": "2023-05-25T13:31:46.972016Z"
    }
   }
  },
  {
   "cell_type": "code",
   "execution_count": null,
   "outputs": [],
   "source": [],
   "metadata": {
    "collapsed": false,
    "ExecuteTime": {
     "start_time": "2023-05-25T13:31:46.953657Z",
     "end_time": "2023-05-25T13:31:46.972131Z"
    }
   }
  },
  {
   "cell_type": "code",
   "execution_count": null,
   "outputs": [],
   "source": [],
   "metadata": {
    "collapsed": false,
    "ExecuteTime": {
     "start_time": "2023-05-25T13:31:46.956680Z",
     "end_time": "2023-05-25T13:31:46.972170Z"
    }
   }
  },
  {
   "cell_type": "code",
   "execution_count": null,
   "outputs": [],
   "source": [
    "input_features = master_df.iloc[:, :-6].values ** 2\n",
    "target_variables = master_df.iloc[:, -6:].values\n",
    "\n",
    "# Split the data into training, validation, and testing sets\n",
    "X_train, X_test, y_train, y_test = train_test_split(\n",
    "    input_features, target_variables, test_size=0.2, shuffle=False)\n",
    "\n",
    "X_train, X_val, y_train, y_val = train_test_split(\n",
    "    X_train, y_train, test_size=0.2, shuffle=False)\n",
    "\n",
    "# Scale the input features based on the training data\n",
    "scaler = MinMaxScaler()\n",
    "X_train_scaled = scaler.fit_transform(X_train)\n",
    "\n",
    "# Scale the validation and test data based on the training data\n",
    "X_val_scaled = scaler.transform(X_val)\n",
    "X_test_scaled = scaler.transform(X_test)\n",
    "\n",
    "# Convert the scaled data to PyTorch tensors\n",
    "\n",
    "X_train_tensor = torch.Tensor(X_train_scaled)\n",
    "y_train_tensor = torch.Tensor(y_train)\n",
    "X_val_tensor = torch.Tensor(X_val_scaled)\n",
    "y_val_tensor = torch.Tensor(y_val)\n",
    "X_test_tensor = torch.Tensor(X_test_scaled)\n",
    "y_test_tensor = torch.Tensor(y_test)\n"
   ],
   "metadata": {
    "collapsed": false,
    "ExecuteTime": {
     "start_time": "2023-05-25T13:31:46.961770Z",
     "end_time": "2023-05-25T13:31:46.972572Z"
    }
   }
  },
  {
   "cell_type": "code",
   "execution_count": null,
   "outputs": [],
   "source": [
    "class RNN(nn.Module):\n",
    "    def __init__(self, input_size, hidden_size, output_size):\n",
    "        super(RNN, self).__init__()\n",
    "\n",
    "        self.hidden_size = hidden_size\n",
    "\n",
    "        self.rnn = nn.RNN(input_size, hidden_size, batch_first=True)\n",
    "        self.fc = nn.Linear(hidden_size, output_size)\n",
    "\n",
    "    def forward(self, x):\n",
    "        h0 = torch.zeros(1, x.size(0), self.hidden_size).to(x.device)  # Update the hidden state dimensions\n",
    "\n",
    "        out, _ = self.rnn(x, h0)  # Remove unsqueeze(0) since x already has a batch dimension\n",
    "        out = self.fc(out[:, -1, :])  # Select the last time step's output for each sequence\n",
    "\n",
    "        return out"
   ],
   "metadata": {
    "collapsed": false,
    "ExecuteTime": {
     "start_time": "2023-05-25T13:31:46.971702Z",
     "end_time": "2023-05-25T13:31:46.980343Z"
    }
   }
  },
  {
   "cell_type": "code",
   "execution_count": null,
   "outputs": [],
   "source": [
    "class ComplexRNN(nn.Module):\n",
    "    def __init__(self, input_size, hidden_size, output_size, num_layers, dropout):\n",
    "        super(ComplexRNN, self).__init__()\n",
    "\n",
    "        self.hidden_size = hidden_size\n",
    "        self.num_layers = num_layers\n",
    "\n",
    "        self.rnn = nn.RNN(input_size, hidden_size, num_layers, batch_first=True, dropout=dropout)\n",
    "        self.fc1 = nn.Linear(hidden_size, 64)\n",
    "        self.dropout = nn.Dropout(dropout)\n",
    "        self.fc2 = nn.Linear(64, output_size)\n",
    "\n",
    "    def forward(self, x):\n",
    "        h0 = torch.zeros(self.num_layers, x.size(0), self.hidden_size).to(x.device)\n",
    "\n",
    "        out, _ = self.rnn(x, h0)\n",
    "        out = self.fc1(out[:, -1, :])\n",
    "        out = self.dropout(out)\n",
    "        out = self.fc2(out)\n",
    "\n",
    "        return out"
   ],
   "metadata": {
    "collapsed": false,
    "ExecuteTime": {
     "start_time": "2023-05-25T13:31:46.980177Z",
     "end_time": "2023-05-25T13:31:46.983683Z"
    }
   }
  },
  {
   "cell_type": "code",
   "execution_count": null,
   "outputs": [],
   "source": [
    "input_size = X_train_tensor.shape[1]\n",
    "output_size = y_train_tensor.shape[1]\n",
    "hidden_size = 64\n",
    "num_layers = 2\n",
    "dropout = 0.3\n",
    "lr = 0.01\n",
    "\n",
    "\n",
    "\n",
    "#model = RNN(input_size, hidden_size, output_size)\n",
    "model = ComplexRNN(input_size, hidden_size, output_size, num_layers, dropout)\n",
    "criterion = nn.MSELoss()\n",
    "optimizer = optim.Adam(model.parameters(), lr=lr, weight_decay=0.01)\n",
    "\n",
    "\n",
    "num_epochs = 100\n",
    "sequence_length = 5  # Number of previous days to consider\n",
    "\n",
    "best_loss = float('inf')\n",
    "best_model = None\n",
    "\n",
    "for epoch in range(num_epochs):\n",
    "    model.train()  # Set the model to training mode\n",
    "    total_loss = 0\n",
    "\n",
    "    # Loop through each sequence in the training data\n",
    "    for i in range(sequence_length, X_train_tensor.shape[0]):\n",
    "        # Extract the current sequence and target\n",
    "        input_seq = X_train_tensor[i - sequence_length:i].view(1, sequence_length, -1)\n",
    "        target_seq = y_train_tensor[i]\n",
    "\n",
    "        # Forward pass\n",
    "        output = model(input_seq)\n",
    "        loss = criterion(output, target_seq.unsqueeze(0))\n",
    "\n",
    "        # Backward and optimize\n",
    "        optimizer.zero_grad()\n",
    "        loss.backward()\n",
    "        optimizer.step()\n",
    "\n",
    "        total_loss += loss.item()\n",
    "\n",
    "    # Print the average training loss for the epoch\n",
    "    average_loss = total_loss / (X_train_tensor.shape[0] - sequence_length)\n",
    "    print(f'Epoch [{epoch + 1}/{num_epochs}], Training Loss: {average_loss}')\n",
    "\n",
    "    # Validation stage\n",
    "    model.eval()  # Set the model to evaluation mode\n",
    "    with torch.no_grad():\n",
    "        total_val_loss = 0\n",
    "\n",
    "        for i in range(sequence_length, X_val_tensor.shape[0]):\n",
    "            input_seq = X_val_tensor[i - sequence_length:i].view(1, sequence_length, -1)\n",
    "            target_seq = y_val_tensor[i]\n",
    "\n",
    "            output = model(input_seq)\n",
    "            val_loss = criterion(output, target_seq.unsqueeze(0))\n",
    "\n",
    "            total_val_loss += val_loss.item()\n",
    "\n",
    "        average_val_loss = total_val_loss / (X_val_tensor.shape[0] - sequence_length)\n",
    "        print(f'Epoch [{epoch + 1}/{num_epochs}], Validation Loss: {average_val_loss}')\n",
    "\n",
    "        # Check if current model is the best based on validation loss\n",
    "        if average_val_loss < best_loss:\n",
    "            best_loss = average_val_loss\n",
    "            best_model = copy.deepcopy(model)\n",
    "\n",
    "# After training, use the best model for testing\n",
    "model = best_model"
   ],
   "metadata": {
    "collapsed": false,
    "ExecuteTime": {
     "start_time": "2023-05-25T13:31:46.984336Z",
     "end_time": "2023-05-25T13:39:44.875527Z"
    }
   }
  },
  {
   "cell_type": "code",
   "execution_count": null,
   "outputs": [],
   "source": [
    "#benchmark error\n",
    "total_mse = 0\n",
    "c = 0\n",
    "for i in range(1, len(y_test_tensor)):\n",
    "    mse = mean_squared_error(y_test_tensor[i], y_test_tensor[i-1])\n",
    "    total_mse += mse\n",
    "    c += 1\n",
    "\n",
    "total_mse/c"
   ],
   "metadata": {
    "collapsed": false,
    "ExecuteTime": {
     "start_time": "2023-05-25T13:39:44.877447Z",
     "end_time": "2023-05-25T13:39:44.960185Z"
    }
   }
  },
  {
   "cell_type": "code",
   "execution_count": null,
   "outputs": [],
   "source": [],
   "metadata": {
    "collapsed": false,
    "ExecuteTime": {
     "start_time": "2023-05-25T13:39:44.960368Z",
     "end_time": "2023-05-25T13:39:44.962286Z"
    }
   }
  },
  {
   "cell_type": "code",
   "execution_count": null,
   "outputs": [],
   "source": [],
   "metadata": {
    "collapsed": false,
    "ExecuteTime": {
     "start_time": "2023-05-25T13:39:44.962701Z",
     "end_time": "2023-05-25T13:39:44.964655Z"
    }
   }
  },
  {
   "cell_type": "code",
   "execution_count": null,
   "outputs": [],
   "source": [
    "model.eval()  # Set the model to evaluation mode\n",
    "\n",
    "with torch.no_grad():\n",
    "    test_loss = 0.0\n",
    "    predictions = []\n",
    "\n",
    "    for i in range(sequence_length, X_test_tensor.shape[0]):\n",
    "        input_seq = X_test_tensor[i - sequence_length:i].view(1, sequence_length, -1)\n",
    "        target_seq = y_test_tensor[i]\n",
    "\n",
    "        output = model(input_seq)\n",
    "        loss = criterion(output, target_seq.unsqueeze(0))\n",
    "\n",
    "        test_loss += loss.item()\n",
    "\n",
    "        # Extract the scalar value from the tensor and append it to predictions\n",
    "        predictions.append(output.squeeze().tolist())\n",
    "\n",
    "    average_test_loss = test_loss / (X_test_tensor.shape[0] - sequence_length)\n",
    "    print(f'Test Loss: {average_test_loss}')\n",
    "\n",
    "    # Convert the predictions and target values to numpy arrays\n",
    "    predictions = np.array(predictions)\n",
    "    targets = y_test_tensor[sequence_length:].numpy()\n",
    "\n",
    "    # Evaluate the performance using appropriate metrics\n",
    "    # For example, calculate mean squared error (MSE)\n",
    "    mse = mean_squared_error(targets, predictions)\n",
    "    print(f'Mean Squared Error (MSE): {mse}')"
   ],
   "metadata": {
    "collapsed": false,
    "ExecuteTime": {
     "start_time": "2023-05-25T13:39:44.967800Z",
     "end_time": "2023-05-25T13:39:45.131461Z"
    }
   }
  },
  {
   "cell_type": "code",
   "execution_count": null,
   "outputs": [],
   "source": [],
   "metadata": {
    "collapsed": false,
    "ExecuteTime": {
     "start_time": "2023-05-25T13:39:45.132313Z",
     "end_time": "2023-05-25T13:39:45.133672Z"
    }
   }
  },
  {
   "cell_type": "code",
   "execution_count": null,
   "outputs": [],
   "source": [],
   "metadata": {
    "collapsed": false,
    "ExecuteTime": {
     "start_time": "2023-05-25T13:39:45.134675Z",
     "end_time": "2023-05-25T13:39:45.136886Z"
    }
   }
  },
  {
   "cell_type": "code",
   "execution_count": 32,
   "outputs": [],
   "source": [],
   "metadata": {
    "collapsed": false,
    "ExecuteTime": {
     "start_time": "2023-05-25T16:39:59.205078Z",
     "end_time": "2023-05-25T16:39:59.214911Z"
    }
   }
  },
  {
   "cell_type": "markdown",
   "source": [
    "### testing ideas\n"
   ],
   "metadata": {
    "collapsed": false,
    "ExecuteTime": {
     "start_time": "2023-05-25T16:39:59.395964Z",
     "end_time": "2023-05-25T16:39:59.403015Z"
    }
   },
   "outputs": [],
   "execution_count": 33
  },
  {
   "cell_type": "code",
   "execution_count": 33,
   "outputs": [],
   "source": [
    "#get weather data"
   ],
   "metadata": {
    "collapsed": false,
    "ExecuteTime": {
     "start_time": "2023-05-25T16:39:59.628495Z",
     "end_time": "2023-05-25T16:39:59.636985Z"
    }
   }
  },
  {
   "cell_type": "code",
   "execution_count": 33,
   "outputs": [],
   "source": [
    "from meteostat import Stations, Daily\n",
    "\n",
    "start_day = gfs_ens_bc_change_df.index[0]\n",
    "end_day = gfs_ens_bc_change_df.index[-1]\n",
    "\n",
    "# Set time period\n",
    "start = datetime(int(str(start_day)[:4]), int(str(start_day)[5:7]), int(str(start_day)[8:10]))\n",
    "end = datetime(int(str(end_day)[:4]), int(str(end_day)[5:7]), int(str(end_day)[8:10]))\n",
    "\n",
    "# Get daily data\n",
    "# KCQT0 is Los Angeles\n",
    "# 71877 is Calgary\n",
    "data = Daily('DHKZ6', start, end)\n",
    "data = data.fetch()"
   ],
   "metadata": {
    "collapsed": false,
    "ExecuteTime": {
     "start_time": "2023-05-25T16:39:59.857172Z",
     "end_time": "2023-05-25T16:39:59.869250Z"
    }
   }
  },
  {
   "cell_type": "code",
   "execution_count": 33,
   "outputs": [],
   "source": [
    "wind_data = data[['wdir', 'wspd']]"
   ],
   "metadata": {
    "collapsed": false,
    "ExecuteTime": {
     "start_time": "2023-05-25T16:40:00.014632Z",
     "end_time": "2023-05-25T16:40:00.023663Z"
    }
   }
  },
  {
   "cell_type": "code",
   "execution_count": 34,
   "outputs": [],
   "source": [],
   "metadata": {
    "collapsed": false,
    "ExecuteTime": {
     "start_time": "2023-05-25T16:40:00.166818Z",
     "end_time": "2023-05-25T16:40:00.173624Z"
    }
   }
  },
  {
   "cell_type": "code",
   "execution_count": 35,
   "outputs": [],
   "source": [],
   "metadata": {
    "collapsed": false,
    "ExecuteTime": {
     "start_time": "2023-05-25T16:40:00.465427Z",
     "end_time": "2023-05-25T16:40:00.474690Z"
    }
   }
  },
  {
   "cell_type": "code",
   "execution_count": 36,
   "outputs": [],
   "source": [],
   "metadata": {
    "collapsed": false,
    "ExecuteTime": {
     "start_time": "2023-05-25T16:40:00.647800Z",
     "end_time": "2023-05-25T16:40:00.656146Z"
    }
   }
  },
  {
   "cell_type": "code",
   "execution_count": 36,
   "outputs": [],
   "source": [
    "temp_data = data[['tavg', 'tmin', 'tmax', 'prcp']]"
   ],
   "metadata": {
    "collapsed": false,
    "ExecuteTime": {
     "start_time": "2023-05-25T16:40:00.826939Z",
     "end_time": "2023-05-25T16:40:00.835453Z"
    }
   }
  },
  {
   "cell_type": "code",
   "execution_count": 37,
   "outputs": [],
   "source": [
    "temp_data = temp_data.diff(1)"
   ],
   "metadata": {
    "collapsed": false,
    "ExecuteTime": {
     "start_time": "2023-05-25T16:40:01.012258Z",
     "end_time": "2023-05-25T16:40:01.036060Z"
    }
   }
  },
  {
   "cell_type": "code",
   "execution_count": 38,
   "outputs": [
    {
     "data": {
      "text/plain": "                                name country region    wmo  icao  latitude   \nid                                                                           \nDHKZ6               Calgary Int'l CS      CA     AB  71393  <NA>     51.11  \\\n71877  Calgary International Airport      CA     AB  71877  CYYC     51.12   \n71235                      Cop Upper      CA     AB  71235  CWDU     51.08   \n71860             Calgary / Cochrane      CA     AB  71860  CYBW     51.10   \nA4Y76     Calgary Springbank Airport      CA     AB   <NA>  <NA>     51.11   \n\n       longitude  elevation          timezone hourly_start hourly_end   \nid                                                                      \nDHKZ6  -114.0000     1082.0  America/Edmonton   2020-01-01 2022-12-14  \\\n71877  -114.0100     1099.0  America/Edmonton   1955-07-02 2023-05-24   \n71235  -114.2200     1235.0  America/Edmonton   1993-06-07 2023-05-02   \n71860  -114.3667     1200.0  America/Edmonton   2003-03-30 2023-05-24   \nA4Y76  -114.3700     1201.0  America/Edmonton   2020-01-01 2022-12-14   \n\n      daily_start  daily_end monthly_start monthly_end      distance  \nid                                                                    \nDHKZ6  2000-01-01 2022-12-13    2000-01-01  2022-01-01   7211.029781  \n71877  1957-01-02 2023-05-19    1957-01-01  2022-01-01   7637.226218  \n71235  1993-06-07 2023-05-18    1993-01-01  2022-01-01  10547.266944  \n71860  2012-08-09 2022-04-24    2015-01-01  2022-01-01  21027.884923  \nA4Y76  2018-10-29 2022-12-12    2018-01-01  2022-01-01  21493.757262  ",
      "text/html": "<div>\n<style scoped>\n    .dataframe tbody tr th:only-of-type {\n        vertical-align: middle;\n    }\n\n    .dataframe tbody tr th {\n        vertical-align: top;\n    }\n\n    .dataframe thead th {\n        text-align: right;\n    }\n</style>\n<table border=\"1\" class=\"dataframe\">\n  <thead>\n    <tr style=\"text-align: right;\">\n      <th></th>\n      <th>name</th>\n      <th>country</th>\n      <th>region</th>\n      <th>wmo</th>\n      <th>icao</th>\n      <th>latitude</th>\n      <th>longitude</th>\n      <th>elevation</th>\n      <th>timezone</th>\n      <th>hourly_start</th>\n      <th>hourly_end</th>\n      <th>daily_start</th>\n      <th>daily_end</th>\n      <th>monthly_start</th>\n      <th>monthly_end</th>\n      <th>distance</th>\n    </tr>\n    <tr>\n      <th>id</th>\n      <th></th>\n      <th></th>\n      <th></th>\n      <th></th>\n      <th></th>\n      <th></th>\n      <th></th>\n      <th></th>\n      <th></th>\n      <th></th>\n      <th></th>\n      <th></th>\n      <th></th>\n      <th></th>\n      <th></th>\n      <th></th>\n    </tr>\n  </thead>\n  <tbody>\n    <tr>\n      <th>DHKZ6</th>\n      <td>Calgary Int'l CS</td>\n      <td>CA</td>\n      <td>AB</td>\n      <td>71393</td>\n      <td>&lt;NA&gt;</td>\n      <td>51.11</td>\n      <td>-114.0000</td>\n      <td>1082.0</td>\n      <td>America/Edmonton</td>\n      <td>2020-01-01</td>\n      <td>2022-12-14</td>\n      <td>2000-01-01</td>\n      <td>2022-12-13</td>\n      <td>2000-01-01</td>\n      <td>2022-01-01</td>\n      <td>7211.029781</td>\n    </tr>\n    <tr>\n      <th>71877</th>\n      <td>Calgary International Airport</td>\n      <td>CA</td>\n      <td>AB</td>\n      <td>71877</td>\n      <td>CYYC</td>\n      <td>51.12</td>\n      <td>-114.0100</td>\n      <td>1099.0</td>\n      <td>America/Edmonton</td>\n      <td>1955-07-02</td>\n      <td>2023-05-24</td>\n      <td>1957-01-02</td>\n      <td>2023-05-19</td>\n      <td>1957-01-01</td>\n      <td>2022-01-01</td>\n      <td>7637.226218</td>\n    </tr>\n    <tr>\n      <th>71235</th>\n      <td>Cop Upper</td>\n      <td>CA</td>\n      <td>AB</td>\n      <td>71235</td>\n      <td>CWDU</td>\n      <td>51.08</td>\n      <td>-114.2200</td>\n      <td>1235.0</td>\n      <td>America/Edmonton</td>\n      <td>1993-06-07</td>\n      <td>2023-05-02</td>\n      <td>1993-06-07</td>\n      <td>2023-05-18</td>\n      <td>1993-01-01</td>\n      <td>2022-01-01</td>\n      <td>10547.266944</td>\n    </tr>\n    <tr>\n      <th>71860</th>\n      <td>Calgary / Cochrane</td>\n      <td>CA</td>\n      <td>AB</td>\n      <td>71860</td>\n      <td>CYBW</td>\n      <td>51.10</td>\n      <td>-114.3667</td>\n      <td>1200.0</td>\n      <td>America/Edmonton</td>\n      <td>2003-03-30</td>\n      <td>2023-05-24</td>\n      <td>2012-08-09</td>\n      <td>2022-04-24</td>\n      <td>2015-01-01</td>\n      <td>2022-01-01</td>\n      <td>21027.884923</td>\n    </tr>\n    <tr>\n      <th>A4Y76</th>\n      <td>Calgary Springbank Airport</td>\n      <td>CA</td>\n      <td>AB</td>\n      <td>&lt;NA&gt;</td>\n      <td>&lt;NA&gt;</td>\n      <td>51.11</td>\n      <td>-114.3700</td>\n      <td>1201.0</td>\n      <td>America/Edmonton</td>\n      <td>2020-01-01</td>\n      <td>2022-12-14</td>\n      <td>2018-10-29</td>\n      <td>2022-12-12</td>\n      <td>2018-01-01</td>\n      <td>2022-01-01</td>\n      <td>21493.757262</td>\n    </tr>\n  </tbody>\n</table>\n</div>"
     },
     "execution_count": 38,
     "metadata": {},
     "output_type": "execute_result"
    }
   ],
   "source": [
    "temp_data.fillna(0, inplace=True)\n",
    "temp_data['date'] = temp_data.index.date"
   ],
   "metadata": {
    "collapsed": false,
    "ExecuteTime": {
     "start_time": "2023-05-25T16:40:01.278441Z",
     "end_time": "2023-05-25T16:40:01.285163Z"
    }
   }
  },
  {
   "cell_type": "code",
   "execution_count": 38,
   "outputs": [],
   "source": [],
   "metadata": {
    "collapsed": false,
    "ExecuteTime": {
     "start_time": "2023-05-25T16:40:01.729973Z",
     "end_time": "2023-05-25T16:40:01.737476Z"
    }
   }
  },
  {
   "cell_type": "code",
   "execution_count": 39,
   "outputs": [],
   "source": [
    "stations = Stations()\n",
    "stations = stations.nearby(51.063180, -114.071435)\n",
    "station = stations.fetch(5)"
   ],
   "metadata": {
    "collapsed": false,
    "ExecuteTime": {
     "start_time": "2023-05-25T16:40:02.077300Z",
     "end_time": "2023-05-25T16:40:02.086387Z"
    }
   }
  },
  {
   "cell_type": "code",
   "execution_count": 40,
   "outputs": [],
   "source": [
    "station"
   ],
   "metadata": {
    "collapsed": false,
    "ExecuteTime": {
     "start_time": "2023-05-25T16:40:02.281667Z",
     "end_time": "2023-05-25T16:40:02.288260Z"
    }
   }
  },
  {
   "cell_type": "code",
   "execution_count": 41,
   "outputs": [],
   "source": [],
   "metadata": {
    "collapsed": false,
    "ExecuteTime": {
     "start_time": "2023-05-25T16:40:02.463230Z",
     "end_time": "2023-05-25T16:40:02.471401Z"
    }
   }
  },
  {
   "cell_type": "code",
   "execution_count": 42,
   "outputs": [],
   "source": [
    "gfs_ens_bc_change_df['date'] = gfs_ens_bc_change_df.index.date"
   ],
   "metadata": {
    "collapsed": false,
    "ExecuteTime": {
     "start_time": "2023-05-25T16:40:02.957366Z",
     "end_time": "2023-05-25T16:40:02.962577Z"
    }
   }
  },
  {
   "cell_type": "code",
   "execution_count": 43,
   "outputs": [],
   "source": [
    "merged_df = pd.merge(gfs_ens_bc_change_df, temp_data, on='date', how='left')"
   ],
   "metadata": {
    "collapsed": false,
    "ExecuteTime": {
     "start_time": "2023-05-25T16:40:03.293431Z",
     "end_time": "2023-05-25T16:40:03.307241Z"
    }
   }
  },
  {
   "cell_type": "code",
   "execution_count": null,
   "outputs": [],
   "source": [
    "merged_df.index = gfs_ens_bc_change_df.index"
   ],
   "metadata": {
    "collapsed": false,
    "ExecuteTime": {
     "start_time": "2023-05-25T13:22:41.591486Z",
     "end_time": "2023-05-25T13:22:41.598224Z"
    }
   }
  },
  {
   "cell_type": "code",
   "execution_count": null,
   "outputs": [],
   "source": [
    "merged_df.drop(columns=['date'], inplace=True)"
   ],
   "metadata": {
    "collapsed": false,
    "ExecuteTime": {
     "start_time": "2023-05-25T13:23:00.252938Z",
     "end_time": "2023-05-25T13:23:00.263802Z"
    }
   }
  },
  {
   "cell_type": "code",
   "execution_count": null,
   "outputs": [],
   "source": [
    "# get data from EIA short term energy outlook, such as average heating days"
   ],
   "metadata": {
    "collapsed": false,
    "ExecuteTime": {
     "start_time": "2023-05-25T16:33:35.888764Z",
     "end_time": "2023-05-25T16:33:35.901821Z"
    }
   }
  },
  {
   "cell_type": "code",
   "execution_count": null,
   "outputs": [],
   "source": [],
   "metadata": {
    "collapsed": false,
    "ExecuteTime": {
     "start_time": "2023-05-25T16:38:21.753531Z",
     "end_time": "2023-05-25T16:38:35.449130Z"
    }
   }
  },
  {
   "cell_type": "code",
   "execution_count": null,
   "outputs": [],
   "source": [],
   "metadata": {
    "collapsed": false
   }
  },
  {
   "cell_type": "code",
   "execution_count": null,
   "outputs": [],
   "source": [],
   "metadata": {
    "collapsed": false
   }
  }
 ],
 "metadata": {
  "kernelspec": {
   "display_name": "Python 3",
   "language": "python",
   "name": "python3"
  },
  "language_info": {
   "codemirror_mode": {
    "name": "ipython",
    "version": 2
   },
   "file_extension": ".py",
   "mimetype": "text/x-python",
   "name": "python",
   "nbconvert_exporter": "python",
   "pygments_lexer": "ipython2",
   "version": "2.7.6"
  }
 },
 "nbformat": 4,
 "nbformat_minor": 0
}
