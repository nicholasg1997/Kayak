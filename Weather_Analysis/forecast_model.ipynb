{
 "cells": [
  {
   "cell_type": "markdown",
   "source": [
    " use neural network to predict the change in the ecmwf-eps from the previous cycle run 12 hours ago for days 9-14\n",
    " ### current model features\n",
    "- the difference between the new ecmwf forecast for day 9 and the previous emcwf-eps forecast for day 9[x]\n",
    "- the difference between the new emcwf-eps forecast for day 8 and the previous emcwf-eps forecast for day 8[x]\n",
    "- the difference between the new gfs-ens-bc forecast for days 9-14 and the previous emcwf-eps forecast for days 9-14[x]\n",
    "- the difference between the new cmc-ens forecast for days 9-14 and the new gfs-ens-bc  forecast for days 9-14[x]\n",
    "\n",
    "### new feature ideas\n",
    "- rain data\n",
    "- wind data\n",
    "- past errors\n",
    "- ???"
   ],
   "metadata": {
    "collapsed": false
   }
  },
  {
   "cell_type": "code",
   "execution_count": 1,
   "outputs": [],
   "source": [
    "import pandas as pd\n",
    "import glob\n",
    "import matplotlib.pyplot as plt\n",
    "from datetime import datetime, time\n",
    "import numpy as np\n",
    "import seaborn as sns\n",
    "import matplotlib.pyplot as plt\n",
    "from sklearn.ensemble import RandomForestRegressor\n",
    "from sklearn.model_selection import train_test_split\n",
    "from sklearn.metrics import mean_squared_error"
   ],
   "metadata": {
    "collapsed": false,
    "ExecuteTime": {
     "start_time": "2023-05-24T14:27:23.814395Z",
     "end_time": "2023-05-24T14:27:24.730785Z"
    }
   }
  },
  {
   "cell_type": "code",
   "execution_count": 2,
   "outputs": [],
   "source": [
    "import torch\n",
    "import torch.nn as nn"
   ],
   "metadata": {
    "collapsed": false,
    "ExecuteTime": {
     "start_time": "2023-05-24T14:27:24.732121Z",
     "end_time": "2023-05-24T14:27:26.819851Z"
    }
   }
  },
  {
   "cell_type": "code",
   "execution_count": 3,
   "outputs": [],
   "source": [
    "path = \"RawData\""
   ],
   "metadata": {
    "collapsed": false,
    "ExecuteTime": {
     "start_time": "2023-05-24T14:27:35.911799Z",
     "end_time": "2023-05-24T14:27:35.915290Z"
    }
   }
  },
  {
   "cell_type": "code",
   "execution_count": 4,
   "outputs": [],
   "source": [
    "def extract_date_time(filename):\n",
    "    \"\"\"\n",
    "    extract the date and time from the filename\n",
    "    :param filename:\n",
    "    :return:\n",
    "    \"\"\"\n",
    "    parts = filename.split('.')\n",
    "    date = parts[1]\n",
    "    time = parts[2]\n",
    "    return date, time"
   ],
   "metadata": {
    "collapsed": false,
    "ExecuteTime": {
     "start_time": "2023-05-24T14:27:36.150138Z",
     "end_time": "2023-05-24T14:27:36.158817Z"
    }
   }
  },
  {
   "cell_type": "code",
   "execution_count": 5,
   "outputs": [],
   "source": [
    "def get_date(df, file):\n",
    "    \"\"\"get the date from the dataframe and the time from the filename and combine them into a datetime object\n",
    "    :param df: dataframe containing the date\n",
    "    :param file: filename containing the time\n",
    "    :return: datetime object\n",
    "    \"\"\"\n",
    "    #date_str = df[df.iloc[:, 2] == 1].iloc[0]['Date']\n",
    "    date_str = str(file.split('.')[1])\n",
    "    time_str = str(file.split('.')[2])\n",
    "    #date = datetime.strptime(date_str, '%Y-%m-%d')\n",
    "    date = datetime.strptime(date_str, '%Y%m%d')\n",
    "    time_value = time(int(time_str), 0)\n",
    "    combined_datetime = datetime.combine(date.date(), time_value)\n",
    "    return combined_datetime"
   ],
   "metadata": {
    "collapsed": false,
    "ExecuteTime": {
     "start_time": "2023-05-24T14:27:36.290701Z",
     "end_time": "2023-05-24T14:27:36.296847Z"
    }
   }
  },
  {
   "cell_type": "code",
   "execution_count": 5,
   "outputs": [],
   "source": [],
   "metadata": {
    "collapsed": false,
    "ExecuteTime": {
     "start_time": "2023-05-24T14:27:36.453098Z",
     "end_time": "2023-05-24T14:27:36.456346Z"
    }
   }
  },
  {
   "cell_type": "code",
   "execution_count": 6,
   "outputs": [],
   "source": [
    "ecmwf_files = glob.glob(path + '/ecmwf.*.[01][02].gw_hdd.csv')\n",
    "ecmwf_sorted_files = sorted(ecmwf_files, key=lambda x: (x.split('.')[1], x.split('.')[2]))[3:]\n",
    "\n",
    "ecmwf_eps_files = glob.glob(path + '/ecmwf-eps.*.[01][02].gw_hdd.csv')\n",
    "ecmwf_eps_sorted_files = sorted(ecmwf_eps_files, key=lambda x: (x.split('.')[1], x.split('.')[2]))[2:]\n",
    "\n",
    "gfs_ens_bc_files = glob.glob(path + '/gfs-ens-bc.*.[01][02].gw_hdd.csv')\n",
    "gfs_ens_bc_sorted_files = sorted(gfs_ens_bc_files, key=lambda x: (x.split('.')[1], x.split('.')[2]))[2:]\n",
    "\n",
    "cmc_ens_files = glob.glob(path + '/cmc-ens.*.[01][02].gw_hdd.csv')\n",
    "cmc_ens_sorted_files = sorted(cmc_ens_files, key=lambda x: (x.split('.')[1], x.split('.')[2]))[2:]"
   ],
   "metadata": {
    "collapsed": false,
    "ExecuteTime": {
     "start_time": "2023-05-24T14:27:36.601171Z",
     "end_time": "2023-05-24T14:27:37.038073Z"
    }
   }
  },
  {
   "cell_type": "code",
   "execution_count": 7,
   "outputs": [],
   "source": [
    "for _ in range(2):\n",
    "    set1 = set((extract_date_time(filename) for filename in ecmwf_sorted_files))\n",
    "    set2 = set((extract_date_time(filename) for filename in ecmwf_eps_sorted_files))\n",
    "\n",
    "    ecmwf_sorted_files = [filename for filename in ecmwf_sorted_files if extract_date_time(filename) in set2]\n",
    "    ecmwf_eps_sorted_files = [filename for filename in ecmwf_eps_sorted_files if extract_date_time(filename) in set1]\n",
    "    cmc_ens_sorted_files = [filename for filename in cmc_ens_sorted_files if extract_date_time(filename) in set1]\n",
    "\n",
    "    master_set = set((extract_date_time(filename) for filename in cmc_ens_sorted_files))\n",
    "    gfs_ens_bc_sorted_files = [filename for filename in gfs_ens_bc_sorted_files if extract_date_time(filename) in master_set]\n",
    "\n",
    "    master_set = set((extract_date_time(filename) for filename in gfs_ens_bc_sorted_files))\n",
    "\n",
    "    ecmwf_sorted_files = [filename for filename in ecmwf_sorted_files if extract_date_time(filename) in master_set]\n",
    "    ecmwf_eps_sorted_files = [filename for filename in ecmwf_eps_sorted_files if extract_date_time(filename) in master_set]\n",
    "    gfs_ens_bc_sorted_files = [filename for filename in gfs_ens_bc_sorted_files if extract_date_time(filename) in master_set]\n",
    "    cmc_ens_sorted_files = [filename for filename in cmc_ens_sorted_files if extract_date_time(filename) in master_set]"
   ],
   "metadata": {
    "collapsed": false,
    "ExecuteTime": {
     "start_time": "2023-05-24T14:27:37.053547Z",
     "end_time": "2023-05-24T14:27:37.080447Z"
    }
   }
  },
  {
   "cell_type": "code",
   "execution_count": 7,
   "outputs": [],
   "source": [],
   "metadata": {
    "collapsed": false,
    "ExecuteTime": {
     "start_time": "2023-05-24T14:27:37.080679Z",
     "end_time": "2023-05-24T14:27:37.082654Z"
    }
   }
  },
  {
   "cell_type": "code",
   "execution_count": 7,
   "outputs": [],
   "source": [],
   "metadata": {
    "collapsed": false,
    "ExecuteTime": {
     "start_time": "2023-05-24T14:27:37.084086Z",
     "end_time": "2023-05-24T14:27:37.086240Z"
    }
   }
  },
  {
   "cell_type": "code",
   "execution_count": 7,
   "outputs": [],
   "source": [],
   "metadata": {
    "collapsed": false,
    "ExecuteTime": {
     "start_time": "2023-05-24T14:27:37.174345Z",
     "end_time": "2023-05-24T14:27:37.176847Z"
    }
   }
  },
  {
   "cell_type": "code",
   "execution_count": 8,
   "outputs": [
    {
     "name": "stdout",
     "output_type": "stream",
     "text": [
      "3484\n",
      "3484\n",
      "3484\n",
      "3484\n"
     ]
    }
   ],
   "source": [
    "print(len(ecmwf_sorted_files))\n",
    "print(len(ecmwf_eps_sorted_files))\n",
    "print(len(gfs_ens_bc_sorted_files))\n",
    "print(len(cmc_ens_sorted_files))"
   ],
   "metadata": {
    "collapsed": false,
    "ExecuteTime": {
     "start_time": "2023-05-24T14:27:37.333871Z",
     "end_time": "2023-05-24T14:27:37.340983Z"
    }
   }
  },
  {
   "cell_type": "code",
   "execution_count": 8,
   "outputs": [],
   "source": [],
   "metadata": {
    "collapsed": false,
    "ExecuteTime": {
     "start_time": "2023-05-24T14:27:37.475931Z",
     "end_time": "2023-05-24T14:27:37.483159Z"
    }
   }
  },
  {
   "cell_type": "markdown",
   "source": [
    "### step 1 get changes in ecmwf-eps compared to 12 hours ago for days 9-14"
   ],
   "metadata": {
    "collapsed": false
   }
  },
  {
   "cell_type": "code",
   "execution_count": 8,
   "outputs": [],
   "source": [],
   "metadata": {
    "collapsed": false,
    "ExecuteTime": {
     "start_time": "2023-05-24T14:27:37.789254Z",
     "end_time": "2023-05-24T14:27:37.792659Z"
    }
   }
  },
  {
   "cell_type": "code",
   "execution_count": 9,
   "outputs": [],
   "source": [
    "ecmwf_eps_change_df = pd.DataFrame(columns=['ecmwf-eps_9', 'ecmwf-eps_10', 'ecmwf-eps_11', 'ecmwf-eps_12',\n",
    "                                  'ecmwf-eps_13', 'ecmwf-eps_14'])\n",
    "\n",
    "for i in range(1, len(ecmwf_eps_sorted_files)):\n",
    "    ecmwf_eps_df = pd.read_csv(ecmwf_eps_sorted_files[i])\n",
    "    prev_ecmwf_eps_df = pd.read_csv(ecmwf_eps_sorted_files[i-1])\n",
    "    date = get_date(ecmwf_eps_df, ecmwf_eps_sorted_files[i])\n",
    "    prev_date = get_date(prev_ecmwf_eps_df, ecmwf_eps_sorted_files[i-1])\n",
    "    d2 = str(date)[:10]\n",
    "    d1 = str(prev_date)[:10]\n",
    "\n",
    "    if d2 != d1:\n",
    "        offset = 1\n",
    "    else:\n",
    "        offset = 0\n",
    "\n",
    "    changes = []\n",
    "    for day in range(8, 14):\n",
    "        changes.append(ecmwf_eps_df.iloc[day - offset]['Value'] - prev_ecmwf_eps_df.iloc[day]['Value'])\n",
    "    new_row = pd.DataFrame([changes], columns=ecmwf_eps_change_df.columns, index=[date])\n",
    "    ecmwf_eps_change_df = pd.concat([ecmwf_eps_change_df, new_row])\n"
   ],
   "metadata": {
    "collapsed": false,
    "ExecuteTime": {
     "start_time": "2023-05-24T14:27:37.959516Z",
     "end_time": "2023-05-24T14:27:45.405721Z"
    }
   }
  },
  {
   "cell_type": "code",
   "execution_count": 9,
   "outputs": [],
   "source": [],
   "metadata": {
    "collapsed": false,
    "ExecuteTime": {
     "start_time": "2023-05-24T14:27:45.406925Z",
     "end_time": "2023-05-24T14:27:45.408558Z"
    }
   }
  },
  {
   "cell_type": "code",
   "execution_count": 9,
   "outputs": [],
   "source": [],
   "metadata": {
    "collapsed": false,
    "ExecuteTime": {
     "start_time": "2023-05-24T14:27:45.408910Z",
     "end_time": "2023-05-24T14:27:45.411082Z"
    }
   }
  },
  {
   "cell_type": "markdown",
   "source": [
    "## step 2 recreate model"
   ],
   "metadata": {
    "collapsed": false
   }
  },
  {
   "cell_type": "markdown",
   "source": [
    "### step 2.1 get difference between the new ecmwf forecast for day 9 and the previous ecmwf-eps forecast for day 9"
   ],
   "metadata": {
    "collapsed": false
   }
  },
  {
   "cell_type": "markdown",
   "source": [
    "### problems:\n",
    "- not all dates are in both sets of data"
   ],
   "metadata": {
    "collapsed": false
   }
  },
  {
   "cell_type": "code",
   "execution_count": 10,
   "outputs": [],
   "source": [
    "ecmwf_change_df = pd.DataFrame(columns=['ecmwf_diff_8', 'ecmwf_diff_9',])\n",
    "for i in range(1, len(ecmwf_sorted_files)):\n",
    "    ecmwf_df = pd.read_csv(ecmwf_sorted_files[i])\n",
    "    ecmwf_eps_df = pd.read_csv(ecmwf_eps_sorted_files[i-1]) #one day behind\n",
    "\n",
    "    ecmwf = ecmwf_df.iloc[8]\n",
    "    ecmwf_eps = ecmwf_eps_df.iloc[9]\n",
    "\n",
    "    date =get_date(ecmwf_df, ecmwf_sorted_files[i])\n",
    "    changes = []\n",
    "    for day in range(8,10):\n",
    "        changes.append(ecmwf_df.iloc[day]['Value'] - ecmwf_eps_df.iloc[day]['Value'])\n",
    "    new_row = pd.DataFrame([changes], columns=ecmwf_change_df.columns, index=[date])\n",
    "    ecmwf_change_df = pd.concat([ecmwf_change_df, new_row])"
   ],
   "metadata": {
    "collapsed": false,
    "ExecuteTime": {
     "start_time": "2023-05-24T14:27:45.415521Z",
     "end_time": "2023-05-24T14:27:51.463819Z"
    }
   }
  },
  {
   "cell_type": "code",
   "execution_count": 11,
   "outputs": [
    {
     "data": {
      "text/plain": "                     ecmwf_diff_8  ecmwf_diff_9\n2018-07-11 00:00:00        -0.002         0.005\n2018-07-11 12:00:00         0.002         0.000\n2018-07-12 00:00:00         0.003         0.002\n2018-07-12 12:00:00         0.000         0.002\n2018-07-13 00:00:00         0.000         0.000\n...                           ...           ...\n2023-05-15 00:00:00        -1.429         3.291\n2023-05-15 12:00:00        -0.251        -0.294\n2023-05-16 00:00:00         3.552        -0.150\n2023-05-16 12:00:00        -0.022         0.218\n2023-05-17 00:00:00        -0.233        -2.159\n\n[3483 rows x 2 columns]",
      "text/html": "<div>\n<style scoped>\n    .dataframe tbody tr th:only-of-type {\n        vertical-align: middle;\n    }\n\n    .dataframe tbody tr th {\n        vertical-align: top;\n    }\n\n    .dataframe thead th {\n        text-align: right;\n    }\n</style>\n<table border=\"1\" class=\"dataframe\">\n  <thead>\n    <tr style=\"text-align: right;\">\n      <th></th>\n      <th>ecmwf_diff_8</th>\n      <th>ecmwf_diff_9</th>\n    </tr>\n  </thead>\n  <tbody>\n    <tr>\n      <th>2018-07-11 00:00:00</th>\n      <td>-0.002</td>\n      <td>0.005</td>\n    </tr>\n    <tr>\n      <th>2018-07-11 12:00:00</th>\n      <td>0.002</td>\n      <td>0.000</td>\n    </tr>\n    <tr>\n      <th>2018-07-12 00:00:00</th>\n      <td>0.003</td>\n      <td>0.002</td>\n    </tr>\n    <tr>\n      <th>2018-07-12 12:00:00</th>\n      <td>0.000</td>\n      <td>0.002</td>\n    </tr>\n    <tr>\n      <th>2018-07-13 00:00:00</th>\n      <td>0.000</td>\n      <td>0.000</td>\n    </tr>\n    <tr>\n      <th>...</th>\n      <td>...</td>\n      <td>...</td>\n    </tr>\n    <tr>\n      <th>2023-05-15 00:00:00</th>\n      <td>-1.429</td>\n      <td>3.291</td>\n    </tr>\n    <tr>\n      <th>2023-05-15 12:00:00</th>\n      <td>-0.251</td>\n      <td>-0.294</td>\n    </tr>\n    <tr>\n      <th>2023-05-16 00:00:00</th>\n      <td>3.552</td>\n      <td>-0.150</td>\n    </tr>\n    <tr>\n      <th>2023-05-16 12:00:00</th>\n      <td>-0.022</td>\n      <td>0.218</td>\n    </tr>\n    <tr>\n      <th>2023-05-17 00:00:00</th>\n      <td>-0.233</td>\n      <td>-2.159</td>\n    </tr>\n  </tbody>\n</table>\n<p>3483 rows × 2 columns</p>\n</div>"
     },
     "execution_count": 11,
     "metadata": {},
     "output_type": "execute_result"
    }
   ],
   "source": [
    "ecmwf_change_df"
   ],
   "metadata": {
    "collapsed": false,
    "ExecuteTime": {
     "start_time": "2023-05-24T14:27:51.466981Z",
     "end_time": "2023-05-24T14:27:51.473846Z"
    }
   }
  },
  {
   "cell_type": "markdown",
   "source": [
    "### step 2.2 the difference between the new emcwf-eps forecast for day 8 and the previous emcwf-eps forecast for day 8 (not possible as the new ecmwf-eps forecast is not available because it will not be released yet???)"
   ],
   "metadata": {
    "collapsed": false
   }
  },
  {
   "cell_type": "markdown",
   "source": [
    "### step 2.3 the difference between the new gfs-ens-bc forecast for days 9-14 and the previous emcwf-eps forecast for days 9-14"
   ],
   "metadata": {
    "collapsed": false
   }
  },
  {
   "cell_type": "code",
   "execution_count": 12,
   "outputs": [],
   "source": [
    "gfs_ens_bc_change_df = pd.DataFrame(columns=['gfs-ens-bc_9', 'gfs-ens-bc_10', 'gfs-ens-bc_11', 'gfs-ens-bc_12',\n",
    "                                  'gfs-ens-bc_13', 'gfs-ens-bc_14'])\n",
    "\n",
    "for i in range(1, len(gfs_ens_bc_sorted_files)):\n",
    "    gfs_ens_bc_df = pd.read_csv(gfs_ens_bc_sorted_files[i])\n",
    "    prev_ecmwf_eps_df = pd.read_csv(ecmwf_eps_sorted_files[i-1])\n",
    "    date = get_date(gfs_ens_bc_df, gfs_ens_bc_sorted_files[i])\n",
    "\n",
    "    changes = []\n",
    "    for day in range(8, 14):\n",
    "        changes.append(gfs_ens_bc_df.iloc[day]['Value'] - prev_ecmwf_eps_df.iloc[day]['Value'])\n",
    "    new_row = pd.DataFrame([changes], columns=gfs_ens_bc_change_df.columns, index=[date])\n",
    "    gfs_ens_bc_change_df = pd.concat([gfs_ens_bc_change_df, new_row])"
   ],
   "metadata": {
    "collapsed": false,
    "ExecuteTime": {
     "start_time": "2023-05-24T14:27:51.476636Z",
     "end_time": "2023-05-24T14:27:58.306007Z"
    }
   }
  },
  {
   "cell_type": "code",
   "execution_count": 13,
   "outputs": [
    {
     "data": {
      "text/plain": "                     gfs-ens-bc_9  gfs-ens-bc_10  gfs-ens-bc_11   \n2018-07-11 00:00:00         0.003          0.004          0.000  \\\n2018-07-11 12:00:00         0.004          0.001          0.000   \n2018-07-12 00:00:00         0.004          0.000          0.004   \n2018-07-12 12:00:00         0.001          0.002          0.004   \n2018-07-13 00:00:00         0.000          0.002          0.008   \n...                           ...            ...            ...   \n2023-05-15 00:00:00        -0.899          3.317         -0.923   \n2023-05-15 12:00:00         0.403         -0.348         -0.853   \n2023-05-16 00:00:00         3.752         -0.431         -1.366   \n2023-05-16 12:00:00         0.203          0.060          1.151   \n2023-05-17 00:00:00        -0.039         -1.347          0.176   \n\n                     gfs-ens-bc_12  gfs-ens-bc_13  gfs-ens-bc_14  \n2018-07-11 00:00:00          0.011          0.015          0.014  \n2018-07-11 12:00:00          0.005          0.008          0.018  \n2018-07-12 00:00:00          0.011          0.018          0.024  \n2018-07-12 12:00:00          0.009          0.021          0.015  \n2018-07-13 00:00:00          0.024          0.020          0.009  \n...                            ...            ...            ...  \n2023-05-15 00:00:00         -1.853          0.098         -0.197  \n2023-05-15 12:00:00          0.580          1.175          0.265  \n2023-05-16 00:00:00          0.107         -0.920          0.500  \n2023-05-16 12:00:00          0.556          0.098         -0.652  \n2023-05-17 00:00:00         -1.086          0.432         -1.480  \n\n[3483 rows x 6 columns]",
      "text/html": "<div>\n<style scoped>\n    .dataframe tbody tr th:only-of-type {\n        vertical-align: middle;\n    }\n\n    .dataframe tbody tr th {\n        vertical-align: top;\n    }\n\n    .dataframe thead th {\n        text-align: right;\n    }\n</style>\n<table border=\"1\" class=\"dataframe\">\n  <thead>\n    <tr style=\"text-align: right;\">\n      <th></th>\n      <th>gfs-ens-bc_9</th>\n      <th>gfs-ens-bc_10</th>\n      <th>gfs-ens-bc_11</th>\n      <th>gfs-ens-bc_12</th>\n      <th>gfs-ens-bc_13</th>\n      <th>gfs-ens-bc_14</th>\n    </tr>\n  </thead>\n  <tbody>\n    <tr>\n      <th>2018-07-11 00:00:00</th>\n      <td>0.003</td>\n      <td>0.004</td>\n      <td>0.000</td>\n      <td>0.011</td>\n      <td>0.015</td>\n      <td>0.014</td>\n    </tr>\n    <tr>\n      <th>2018-07-11 12:00:00</th>\n      <td>0.004</td>\n      <td>0.001</td>\n      <td>0.000</td>\n      <td>0.005</td>\n      <td>0.008</td>\n      <td>0.018</td>\n    </tr>\n    <tr>\n      <th>2018-07-12 00:00:00</th>\n      <td>0.004</td>\n      <td>0.000</td>\n      <td>0.004</td>\n      <td>0.011</td>\n      <td>0.018</td>\n      <td>0.024</td>\n    </tr>\n    <tr>\n      <th>2018-07-12 12:00:00</th>\n      <td>0.001</td>\n      <td>0.002</td>\n      <td>0.004</td>\n      <td>0.009</td>\n      <td>0.021</td>\n      <td>0.015</td>\n    </tr>\n    <tr>\n      <th>2018-07-13 00:00:00</th>\n      <td>0.000</td>\n      <td>0.002</td>\n      <td>0.008</td>\n      <td>0.024</td>\n      <td>0.020</td>\n      <td>0.009</td>\n    </tr>\n    <tr>\n      <th>...</th>\n      <td>...</td>\n      <td>...</td>\n      <td>...</td>\n      <td>...</td>\n      <td>...</td>\n      <td>...</td>\n    </tr>\n    <tr>\n      <th>2023-05-15 00:00:00</th>\n      <td>-0.899</td>\n      <td>3.317</td>\n      <td>-0.923</td>\n      <td>-1.853</td>\n      <td>0.098</td>\n      <td>-0.197</td>\n    </tr>\n    <tr>\n      <th>2023-05-15 12:00:00</th>\n      <td>0.403</td>\n      <td>-0.348</td>\n      <td>-0.853</td>\n      <td>0.580</td>\n      <td>1.175</td>\n      <td>0.265</td>\n    </tr>\n    <tr>\n      <th>2023-05-16 00:00:00</th>\n      <td>3.752</td>\n      <td>-0.431</td>\n      <td>-1.366</td>\n      <td>0.107</td>\n      <td>-0.920</td>\n      <td>0.500</td>\n    </tr>\n    <tr>\n      <th>2023-05-16 12:00:00</th>\n      <td>0.203</td>\n      <td>0.060</td>\n      <td>1.151</td>\n      <td>0.556</td>\n      <td>0.098</td>\n      <td>-0.652</td>\n    </tr>\n    <tr>\n      <th>2023-05-17 00:00:00</th>\n      <td>-0.039</td>\n      <td>-1.347</td>\n      <td>0.176</td>\n      <td>-1.086</td>\n      <td>0.432</td>\n      <td>-1.480</td>\n    </tr>\n  </tbody>\n</table>\n<p>3483 rows × 6 columns</p>\n</div>"
     },
     "execution_count": 13,
     "metadata": {},
     "output_type": "execute_result"
    }
   ],
   "source": [
    "gfs_ens_bc_change_df"
   ],
   "metadata": {
    "collapsed": false,
    "ExecuteTime": {
     "start_time": "2023-05-24T14:27:58.312415Z",
     "end_time": "2023-05-24T14:27:58.315692Z"
    }
   }
  },
  {
   "cell_type": "markdown",
   "source": [
    "### step 2.4 the difference between the new cmc-ens forecast for days 9-14 and the new gfs-ens-bc  forecast for days 9-14"
   ],
   "metadata": {
    "collapsed": false
   }
  },
  {
   "cell_type": "code",
   "execution_count": 14,
   "outputs": [],
   "source": [
    "cmc_ens_change_df = pd.DataFrame(columns=['cmc-ens_9', 'cmc-ens_10', 'cmc-ens_11', 'cmc-ens_12',\n",
    "                                  'cmc-ens_13', 'cmc-ens_14'])\n",
    "\n",
    "for i in range(1, len(cmc_ens_sorted_files)):\n",
    "    cmc_ens_df = pd.read_csv(cmc_ens_sorted_files[i])\n",
    "    gfs_ens_bc_df = pd.read_csv(gfs_ens_bc_sorted_files[i])\n",
    "    date = get_date(cmc_ens_df, cmc_ens_sorted_files[i])\n",
    "\n",
    "    changes = []\n",
    "    for day in range(8, 14):\n",
    "        changes.append(cmc_ens_df.iloc[day]['Value'] - gfs_ens_bc_df.iloc[day]['Value'])\n",
    "    new_row = pd.DataFrame([changes], columns=cmc_ens_change_df.columns, index=[date])\n",
    "    cmc_ens_change_df = pd.concat([cmc_ens_change_df, new_row])"
   ],
   "metadata": {
    "collapsed": false,
    "ExecuteTime": {
     "start_time": "2023-05-24T14:27:58.317676Z",
     "end_time": "2023-05-24T14:28:05.295902Z"
    }
   }
  },
  {
   "cell_type": "code",
   "execution_count": 15,
   "outputs": [
    {
     "data": {
      "text/plain": "                     cmc-ens_9  cmc-ens_10  cmc-ens_11  cmc-ens_12   \n2018-07-11 00:00:00     -0.006      -0.003      -0.001      -0.013  \\\n2018-07-11 12:00:00     -0.003      -0.002      -0.001      -0.005   \n2018-07-12 00:00:00     -0.004      -0.002      -0.006      -0.009   \n2018-07-12 12:00:00     -0.002      -0.002      -0.004      -0.008   \n2018-07-13 00:00:00     -0.001      -0.003      -0.008      -0.022   \n...                        ...         ...         ...         ...   \n2023-05-15 00:00:00     -0.631       0.232       0.894      -0.599   \n2023-05-15 12:00:00     -0.591      -0.005       0.499      -1.314   \n2023-05-16 00:00:00     -0.279       0.012      -1.454      -1.532   \n2023-05-16 12:00:00     -0.481      -0.476      -1.847      -1.399   \n2023-05-17 00:00:00     -0.340      -1.170      -1.054      -0.289   \n\n                     cmc-ens_13  cmc-ens_14  \n2018-07-11 00:00:00      -0.014      -0.012  \n2018-07-11 12:00:00      -0.008      -0.016  \n2018-07-12 00:00:00      -0.017      -0.019  \n2018-07-12 12:00:00      -0.013      -0.007  \n2018-07-13 00:00:00      -0.021      -0.013  \n...                         ...         ...  \n2023-05-15 00:00:00      -1.595      -0.775  \n2023-05-15 12:00:00      -2.503      -0.942  \n2023-05-16 00:00:00      -0.951       0.255  \n2023-05-16 12:00:00      -0.814       0.066  \n2023-05-17 00:00:00       0.775       0.560  \n\n[3483 rows x 6 columns]",
      "text/html": "<div>\n<style scoped>\n    .dataframe tbody tr th:only-of-type {\n        vertical-align: middle;\n    }\n\n    .dataframe tbody tr th {\n        vertical-align: top;\n    }\n\n    .dataframe thead th {\n        text-align: right;\n    }\n</style>\n<table border=\"1\" class=\"dataframe\">\n  <thead>\n    <tr style=\"text-align: right;\">\n      <th></th>\n      <th>cmc-ens_9</th>\n      <th>cmc-ens_10</th>\n      <th>cmc-ens_11</th>\n      <th>cmc-ens_12</th>\n      <th>cmc-ens_13</th>\n      <th>cmc-ens_14</th>\n    </tr>\n  </thead>\n  <tbody>\n    <tr>\n      <th>2018-07-11 00:00:00</th>\n      <td>-0.006</td>\n      <td>-0.003</td>\n      <td>-0.001</td>\n      <td>-0.013</td>\n      <td>-0.014</td>\n      <td>-0.012</td>\n    </tr>\n    <tr>\n      <th>2018-07-11 12:00:00</th>\n      <td>-0.003</td>\n      <td>-0.002</td>\n      <td>-0.001</td>\n      <td>-0.005</td>\n      <td>-0.008</td>\n      <td>-0.016</td>\n    </tr>\n    <tr>\n      <th>2018-07-12 00:00:00</th>\n      <td>-0.004</td>\n      <td>-0.002</td>\n      <td>-0.006</td>\n      <td>-0.009</td>\n      <td>-0.017</td>\n      <td>-0.019</td>\n    </tr>\n    <tr>\n      <th>2018-07-12 12:00:00</th>\n      <td>-0.002</td>\n      <td>-0.002</td>\n      <td>-0.004</td>\n      <td>-0.008</td>\n      <td>-0.013</td>\n      <td>-0.007</td>\n    </tr>\n    <tr>\n      <th>2018-07-13 00:00:00</th>\n      <td>-0.001</td>\n      <td>-0.003</td>\n      <td>-0.008</td>\n      <td>-0.022</td>\n      <td>-0.021</td>\n      <td>-0.013</td>\n    </tr>\n    <tr>\n      <th>...</th>\n      <td>...</td>\n      <td>...</td>\n      <td>...</td>\n      <td>...</td>\n      <td>...</td>\n      <td>...</td>\n    </tr>\n    <tr>\n      <th>2023-05-15 00:00:00</th>\n      <td>-0.631</td>\n      <td>0.232</td>\n      <td>0.894</td>\n      <td>-0.599</td>\n      <td>-1.595</td>\n      <td>-0.775</td>\n    </tr>\n    <tr>\n      <th>2023-05-15 12:00:00</th>\n      <td>-0.591</td>\n      <td>-0.005</td>\n      <td>0.499</td>\n      <td>-1.314</td>\n      <td>-2.503</td>\n      <td>-0.942</td>\n    </tr>\n    <tr>\n      <th>2023-05-16 00:00:00</th>\n      <td>-0.279</td>\n      <td>0.012</td>\n      <td>-1.454</td>\n      <td>-1.532</td>\n      <td>-0.951</td>\n      <td>0.255</td>\n    </tr>\n    <tr>\n      <th>2023-05-16 12:00:00</th>\n      <td>-0.481</td>\n      <td>-0.476</td>\n      <td>-1.847</td>\n      <td>-1.399</td>\n      <td>-0.814</td>\n      <td>0.066</td>\n    </tr>\n    <tr>\n      <th>2023-05-17 00:00:00</th>\n      <td>-0.340</td>\n      <td>-1.170</td>\n      <td>-1.054</td>\n      <td>-0.289</td>\n      <td>0.775</td>\n      <td>0.560</td>\n    </tr>\n  </tbody>\n</table>\n<p>3483 rows × 6 columns</p>\n</div>"
     },
     "execution_count": 15,
     "metadata": {},
     "output_type": "execute_result"
    }
   ],
   "source": [
    "cmc_ens_change_df"
   ],
   "metadata": {
    "collapsed": false,
    "ExecuteTime": {
     "start_time": "2023-05-24T14:28:05.297003Z",
     "end_time": "2023-05-24T14:28:05.304942Z"
    }
   }
  },
  {
   "cell_type": "code",
   "execution_count": 15,
   "outputs": [],
   "source": [],
   "metadata": {
    "collapsed": false,
    "ExecuteTime": {
     "start_time": "2023-05-24T14:28:05.306640Z",
     "end_time": "2023-05-24T14:28:05.308316Z"
    }
   }
  },
  {
   "cell_type": "code",
   "execution_count": 16,
   "outputs": [],
   "source": [
    "master_df = pd.concat([gfs_ens_bc_change_df, cmc_ens_change_df, ecmwf_change_df, ecmwf_eps_change_df], axis=1)"
   ],
   "metadata": {
    "collapsed": false,
    "ExecuteTime": {
     "start_time": "2023-05-24T14:28:05.310403Z",
     "end_time": "2023-05-24T14:28:05.312157Z"
    }
   }
  },
  {
   "cell_type": "code",
   "execution_count": 17,
   "outputs": [
    {
     "data": {
      "text/plain": "                     gfs-ens-bc_9  gfs-ens-bc_10  gfs-ens-bc_11   \n2018-07-11 00:00:00         0.003          0.004          0.000  \\\n2018-07-11 12:00:00         0.004          0.001          0.000   \n2018-07-12 00:00:00         0.004          0.000          0.004   \n2018-07-12 12:00:00         0.001          0.002          0.004   \n2018-07-13 00:00:00         0.000          0.002          0.008   \n...                           ...            ...            ...   \n2023-05-15 00:00:00        -0.899          3.317         -0.923   \n2023-05-15 12:00:00         0.403         -0.348         -0.853   \n2023-05-16 00:00:00         3.752         -0.431         -1.366   \n2023-05-16 12:00:00         0.203          0.060          1.151   \n2023-05-17 00:00:00        -0.039         -1.347          0.176   \n\n                     gfs-ens-bc_12  gfs-ens-bc_13  gfs-ens-bc_14  cmc-ens_9   \n2018-07-11 00:00:00          0.011          0.015          0.014     -0.006  \\\n2018-07-11 12:00:00          0.005          0.008          0.018     -0.003   \n2018-07-12 00:00:00          0.011          0.018          0.024     -0.004   \n2018-07-12 12:00:00          0.009          0.021          0.015     -0.002   \n2018-07-13 00:00:00          0.024          0.020          0.009     -0.001   \n...                            ...            ...            ...        ...   \n2023-05-15 00:00:00         -1.853          0.098         -0.197     -0.631   \n2023-05-15 12:00:00          0.580          1.175          0.265     -0.591   \n2023-05-16 00:00:00          0.107         -0.920          0.500     -0.279   \n2023-05-16 12:00:00          0.556          0.098         -0.652     -0.481   \n2023-05-17 00:00:00         -1.086          0.432         -1.480     -0.340   \n\n                     cmc-ens_10  cmc-ens_11  cmc-ens_12  cmc-ens_13   \n2018-07-11 00:00:00      -0.003      -0.001      -0.013      -0.014  \\\n2018-07-11 12:00:00      -0.002      -0.001      -0.005      -0.008   \n2018-07-12 00:00:00      -0.002      -0.006      -0.009      -0.017   \n2018-07-12 12:00:00      -0.002      -0.004      -0.008      -0.013   \n2018-07-13 00:00:00      -0.003      -0.008      -0.022      -0.021   \n...                         ...         ...         ...         ...   \n2023-05-15 00:00:00       0.232       0.894      -0.599      -1.595   \n2023-05-15 12:00:00      -0.005       0.499      -1.314      -2.503   \n2023-05-16 00:00:00       0.012      -1.454      -1.532      -0.951   \n2023-05-16 12:00:00      -0.476      -1.847      -1.399      -0.814   \n2023-05-17 00:00:00      -1.170      -1.054      -0.289       0.775   \n\n                     cmc-ens_14  ecmwf_diff_8  ecmwf_diff_9  ecmwf-eps_9   \n2018-07-11 00:00:00      -0.012        -0.002         0.005        0.001  \\\n2018-07-11 12:00:00      -0.016         0.002         0.000        0.001   \n2018-07-12 00:00:00      -0.019         0.003         0.002       -0.001   \n2018-07-12 12:00:00      -0.007         0.000         0.002        0.000   \n2018-07-13 00:00:00      -0.013         0.000         0.000        0.000   \n...                         ...           ...           ...          ...   \n2023-05-15 00:00:00      -0.775        -1.429         3.291        0.141   \n2023-05-15 12:00:00      -0.942        -0.251        -0.294       -0.195   \n2023-05-16 00:00:00       0.255         3.552        -0.150       -0.035   \n2023-05-16 12:00:00       0.066        -0.022         0.218        0.261   \n2023-05-17 00:00:00       0.560        -0.233        -2.159        0.000   \n\n                     ecmwf-eps_10  ecmwf-eps_11  ecmwf-eps_12  ecmwf-eps_13   \n2018-07-11 00:00:00        -0.001         0.000         0.000         0.000  \\\n2018-07-11 12:00:00         0.000        -0.001        -0.001        -0.001   \n2018-07-12 00:00:00        -0.001         0.000         0.000        -0.001   \n2018-07-12 12:00:00        -0.001         0.001         0.001         0.006   \n2018-07-13 00:00:00        -0.001        -0.001        -0.002         0.000   \n...                           ...           ...           ...           ...   \n2023-05-15 00:00:00         0.055        -0.230        -0.270        -0.257   \n2023-05-15 12:00:00        -0.020        -0.281        -0.132         0.050   \n2023-05-16 00:00:00        -0.254        -0.293        -0.192        -0.102   \n2023-05-16 12:00:00         0.335         0.252         0.221         0.176   \n2023-05-17 00:00:00        -0.169        -0.271         0.025        -0.008   \n\n                     ecmwf-eps_14  \n2018-07-11 00:00:00         0.000  \n2018-07-11 12:00:00        -0.001  \n2018-07-12 00:00:00         0.001  \n2018-07-12 12:00:00         0.003  \n2018-07-13 00:00:00        -0.001  \n...                           ...  \n2023-05-15 00:00:00         0.014  \n2023-05-15 12:00:00        -0.327  \n2023-05-16 00:00:00        -0.086  \n2023-05-16 12:00:00         0.538  \n2023-05-17 00:00:00        -0.078  \n\n[3483 rows x 20 columns]",
      "text/html": "<div>\n<style scoped>\n    .dataframe tbody tr th:only-of-type {\n        vertical-align: middle;\n    }\n\n    .dataframe tbody tr th {\n        vertical-align: top;\n    }\n\n    .dataframe thead th {\n        text-align: right;\n    }\n</style>\n<table border=\"1\" class=\"dataframe\">\n  <thead>\n    <tr style=\"text-align: right;\">\n      <th></th>\n      <th>gfs-ens-bc_9</th>\n      <th>gfs-ens-bc_10</th>\n      <th>gfs-ens-bc_11</th>\n      <th>gfs-ens-bc_12</th>\n      <th>gfs-ens-bc_13</th>\n      <th>gfs-ens-bc_14</th>\n      <th>cmc-ens_9</th>\n      <th>cmc-ens_10</th>\n      <th>cmc-ens_11</th>\n      <th>cmc-ens_12</th>\n      <th>cmc-ens_13</th>\n      <th>cmc-ens_14</th>\n      <th>ecmwf_diff_8</th>\n      <th>ecmwf_diff_9</th>\n      <th>ecmwf-eps_9</th>\n      <th>ecmwf-eps_10</th>\n      <th>ecmwf-eps_11</th>\n      <th>ecmwf-eps_12</th>\n      <th>ecmwf-eps_13</th>\n      <th>ecmwf-eps_14</th>\n    </tr>\n  </thead>\n  <tbody>\n    <tr>\n      <th>2018-07-11 00:00:00</th>\n      <td>0.003</td>\n      <td>0.004</td>\n      <td>0.000</td>\n      <td>0.011</td>\n      <td>0.015</td>\n      <td>0.014</td>\n      <td>-0.006</td>\n      <td>-0.003</td>\n      <td>-0.001</td>\n      <td>-0.013</td>\n      <td>-0.014</td>\n      <td>-0.012</td>\n      <td>-0.002</td>\n      <td>0.005</td>\n      <td>0.001</td>\n      <td>-0.001</td>\n      <td>0.000</td>\n      <td>0.000</td>\n      <td>0.000</td>\n      <td>0.000</td>\n    </tr>\n    <tr>\n      <th>2018-07-11 12:00:00</th>\n      <td>0.004</td>\n      <td>0.001</td>\n      <td>0.000</td>\n      <td>0.005</td>\n      <td>0.008</td>\n      <td>0.018</td>\n      <td>-0.003</td>\n      <td>-0.002</td>\n      <td>-0.001</td>\n      <td>-0.005</td>\n      <td>-0.008</td>\n      <td>-0.016</td>\n      <td>0.002</td>\n      <td>0.000</td>\n      <td>0.001</td>\n      <td>0.000</td>\n      <td>-0.001</td>\n      <td>-0.001</td>\n      <td>-0.001</td>\n      <td>-0.001</td>\n    </tr>\n    <tr>\n      <th>2018-07-12 00:00:00</th>\n      <td>0.004</td>\n      <td>0.000</td>\n      <td>0.004</td>\n      <td>0.011</td>\n      <td>0.018</td>\n      <td>0.024</td>\n      <td>-0.004</td>\n      <td>-0.002</td>\n      <td>-0.006</td>\n      <td>-0.009</td>\n      <td>-0.017</td>\n      <td>-0.019</td>\n      <td>0.003</td>\n      <td>0.002</td>\n      <td>-0.001</td>\n      <td>-0.001</td>\n      <td>0.000</td>\n      <td>0.000</td>\n      <td>-0.001</td>\n      <td>0.001</td>\n    </tr>\n    <tr>\n      <th>2018-07-12 12:00:00</th>\n      <td>0.001</td>\n      <td>0.002</td>\n      <td>0.004</td>\n      <td>0.009</td>\n      <td>0.021</td>\n      <td>0.015</td>\n      <td>-0.002</td>\n      <td>-0.002</td>\n      <td>-0.004</td>\n      <td>-0.008</td>\n      <td>-0.013</td>\n      <td>-0.007</td>\n      <td>0.000</td>\n      <td>0.002</td>\n      <td>0.000</td>\n      <td>-0.001</td>\n      <td>0.001</td>\n      <td>0.001</td>\n      <td>0.006</td>\n      <td>0.003</td>\n    </tr>\n    <tr>\n      <th>2018-07-13 00:00:00</th>\n      <td>0.000</td>\n      <td>0.002</td>\n      <td>0.008</td>\n      <td>0.024</td>\n      <td>0.020</td>\n      <td>0.009</td>\n      <td>-0.001</td>\n      <td>-0.003</td>\n      <td>-0.008</td>\n      <td>-0.022</td>\n      <td>-0.021</td>\n      <td>-0.013</td>\n      <td>0.000</td>\n      <td>0.000</td>\n      <td>0.000</td>\n      <td>-0.001</td>\n      <td>-0.001</td>\n      <td>-0.002</td>\n      <td>0.000</td>\n      <td>-0.001</td>\n    </tr>\n    <tr>\n      <th>...</th>\n      <td>...</td>\n      <td>...</td>\n      <td>...</td>\n      <td>...</td>\n      <td>...</td>\n      <td>...</td>\n      <td>...</td>\n      <td>...</td>\n      <td>...</td>\n      <td>...</td>\n      <td>...</td>\n      <td>...</td>\n      <td>...</td>\n      <td>...</td>\n      <td>...</td>\n      <td>...</td>\n      <td>...</td>\n      <td>...</td>\n      <td>...</td>\n      <td>...</td>\n    </tr>\n    <tr>\n      <th>2023-05-15 00:00:00</th>\n      <td>-0.899</td>\n      <td>3.317</td>\n      <td>-0.923</td>\n      <td>-1.853</td>\n      <td>0.098</td>\n      <td>-0.197</td>\n      <td>-0.631</td>\n      <td>0.232</td>\n      <td>0.894</td>\n      <td>-0.599</td>\n      <td>-1.595</td>\n      <td>-0.775</td>\n      <td>-1.429</td>\n      <td>3.291</td>\n      <td>0.141</td>\n      <td>0.055</td>\n      <td>-0.230</td>\n      <td>-0.270</td>\n      <td>-0.257</td>\n      <td>0.014</td>\n    </tr>\n    <tr>\n      <th>2023-05-15 12:00:00</th>\n      <td>0.403</td>\n      <td>-0.348</td>\n      <td>-0.853</td>\n      <td>0.580</td>\n      <td>1.175</td>\n      <td>0.265</td>\n      <td>-0.591</td>\n      <td>-0.005</td>\n      <td>0.499</td>\n      <td>-1.314</td>\n      <td>-2.503</td>\n      <td>-0.942</td>\n      <td>-0.251</td>\n      <td>-0.294</td>\n      <td>-0.195</td>\n      <td>-0.020</td>\n      <td>-0.281</td>\n      <td>-0.132</td>\n      <td>0.050</td>\n      <td>-0.327</td>\n    </tr>\n    <tr>\n      <th>2023-05-16 00:00:00</th>\n      <td>3.752</td>\n      <td>-0.431</td>\n      <td>-1.366</td>\n      <td>0.107</td>\n      <td>-0.920</td>\n      <td>0.500</td>\n      <td>-0.279</td>\n      <td>0.012</td>\n      <td>-1.454</td>\n      <td>-1.532</td>\n      <td>-0.951</td>\n      <td>0.255</td>\n      <td>3.552</td>\n      <td>-0.150</td>\n      <td>-0.035</td>\n      <td>-0.254</td>\n      <td>-0.293</td>\n      <td>-0.192</td>\n      <td>-0.102</td>\n      <td>-0.086</td>\n    </tr>\n    <tr>\n      <th>2023-05-16 12:00:00</th>\n      <td>0.203</td>\n      <td>0.060</td>\n      <td>1.151</td>\n      <td>0.556</td>\n      <td>0.098</td>\n      <td>-0.652</td>\n      <td>-0.481</td>\n      <td>-0.476</td>\n      <td>-1.847</td>\n      <td>-1.399</td>\n      <td>-0.814</td>\n      <td>0.066</td>\n      <td>-0.022</td>\n      <td>0.218</td>\n      <td>0.261</td>\n      <td>0.335</td>\n      <td>0.252</td>\n      <td>0.221</td>\n      <td>0.176</td>\n      <td>0.538</td>\n    </tr>\n    <tr>\n      <th>2023-05-17 00:00:00</th>\n      <td>-0.039</td>\n      <td>-1.347</td>\n      <td>0.176</td>\n      <td>-1.086</td>\n      <td>0.432</td>\n      <td>-1.480</td>\n      <td>-0.340</td>\n      <td>-1.170</td>\n      <td>-1.054</td>\n      <td>-0.289</td>\n      <td>0.775</td>\n      <td>0.560</td>\n      <td>-0.233</td>\n      <td>-2.159</td>\n      <td>0.000</td>\n      <td>-0.169</td>\n      <td>-0.271</td>\n      <td>0.025</td>\n      <td>-0.008</td>\n      <td>-0.078</td>\n    </tr>\n  </tbody>\n</table>\n<p>3483 rows × 20 columns</p>\n</div>"
     },
     "execution_count": 17,
     "metadata": {},
     "output_type": "execute_result"
    }
   ],
   "source": [
    "master_df"
   ],
   "metadata": {
    "collapsed": false,
    "ExecuteTime": {
     "start_time": "2023-05-24T14:28:05.320367Z",
     "end_time": "2023-05-24T14:28:05.357927Z"
    }
   }
  },
  {
   "cell_type": "code",
   "execution_count": 18,
   "outputs": [
    {
     "data": {
      "text/plain": "                count      mean       std     min     25%    50%     75%   \ngfs-ens-bc_9   3483.0  0.005592  1.608737  -9.259 -0.4110  0.005  0.3285  \\\ngfs-ens-bc_10  3483.0 -0.006345  1.645453  -9.384 -0.4650  0.007  0.3485   \ngfs-ens-bc_11  3483.0  0.013102  1.696030  -9.541 -0.5275  0.010  0.4385   \ngfs-ens-bc_12  3483.0  0.032291  1.761546 -10.504 -0.5910  0.014  0.5090   \ngfs-ens-bc_13  3483.0  0.044297  1.815628 -11.370 -0.6115  0.022  0.6430   \ngfs-ens-bc_14  3483.0  0.045904  1.853364  -8.661 -0.6350  0.026  0.7030   \ncmc-ens_9      3483.0  0.018010  0.736541  -3.877 -0.3375 -0.006  0.2985   \ncmc-ens_10     3483.0  0.091886  0.830035  -4.180 -0.2780 -0.005  0.4270   \ncmc-ens_11     3483.0  0.135222  0.945818  -3.731 -0.2740 -0.002  0.5465   \ncmc-ens_12     3483.0  0.154785  1.084122  -6.200 -0.3160 -0.004  0.6265   \ncmc-ens_13     3483.0  0.143323  1.245627  -5.302 -0.3750 -0.006  0.6565   \ncmc-ens_14     3483.0  0.125379  1.424470  -5.889 -0.4270 -0.013  0.6905   \necmwf_diff_8   3483.0 -0.039575  1.517474  -9.286 -0.2455 -0.007  0.1290   \necmwf_diff_9   3483.0 -0.070607  1.518297  -9.385 -0.2800 -0.011  0.1585   \necmwf-eps_9    3483.0 -0.023613  0.205727  -4.758 -0.1050 -0.001  0.0530   \necmwf-eps_10   3483.0 -0.020466  0.222680  -2.328 -0.1170 -0.001  0.0640   \necmwf-eps_11   3483.0 -0.021761  0.285033  -1.577 -0.1390 -0.001  0.0825   \necmwf-eps_12   3483.0 -0.030619  0.394500  -2.542 -0.1850 -0.001  0.1125   \necmwf-eps_13   3483.0 -0.026447  0.543814  -5.760 -0.2190  0.000  0.1595   \necmwf-eps_14   3483.0 -0.012466  0.680535  -9.941 -0.2510  0.000  0.2220   \n\n                 max  \ngfs-ens-bc_9   8.861  \ngfs-ens-bc_10  8.933  \ngfs-ens-bc_11  9.373  \ngfs-ens-bc_12  9.050  \ngfs-ens-bc_13  9.668  \ngfs-ens-bc_14  9.547  \ncmc-ens_9      3.211  \ncmc-ens_10     3.944  \ncmc-ens_11     4.920  \ncmc-ens_12     5.869  \ncmc-ens_13     6.044  \ncmc-ens_14     7.086  \necmwf_diff_8   9.284  \necmwf_diff_9   9.367  \necmwf-eps_9    0.920  \necmwf-eps_10   2.093  \necmwf-eps_11   1.941  \necmwf-eps_12   2.506  \necmwf-eps_13   3.385  \necmwf-eps_14   6.419  ",
      "text/html": "<div>\n<style scoped>\n    .dataframe tbody tr th:only-of-type {\n        vertical-align: middle;\n    }\n\n    .dataframe tbody tr th {\n        vertical-align: top;\n    }\n\n    .dataframe thead th {\n        text-align: right;\n    }\n</style>\n<table border=\"1\" class=\"dataframe\">\n  <thead>\n    <tr style=\"text-align: right;\">\n      <th></th>\n      <th>count</th>\n      <th>mean</th>\n      <th>std</th>\n      <th>min</th>\n      <th>25%</th>\n      <th>50%</th>\n      <th>75%</th>\n      <th>max</th>\n    </tr>\n  </thead>\n  <tbody>\n    <tr>\n      <th>gfs-ens-bc_9</th>\n      <td>3483.0</td>\n      <td>0.005592</td>\n      <td>1.608737</td>\n      <td>-9.259</td>\n      <td>-0.4110</td>\n      <td>0.005</td>\n      <td>0.3285</td>\n      <td>8.861</td>\n    </tr>\n    <tr>\n      <th>gfs-ens-bc_10</th>\n      <td>3483.0</td>\n      <td>-0.006345</td>\n      <td>1.645453</td>\n      <td>-9.384</td>\n      <td>-0.4650</td>\n      <td>0.007</td>\n      <td>0.3485</td>\n      <td>8.933</td>\n    </tr>\n    <tr>\n      <th>gfs-ens-bc_11</th>\n      <td>3483.0</td>\n      <td>0.013102</td>\n      <td>1.696030</td>\n      <td>-9.541</td>\n      <td>-0.5275</td>\n      <td>0.010</td>\n      <td>0.4385</td>\n      <td>9.373</td>\n    </tr>\n    <tr>\n      <th>gfs-ens-bc_12</th>\n      <td>3483.0</td>\n      <td>0.032291</td>\n      <td>1.761546</td>\n      <td>-10.504</td>\n      <td>-0.5910</td>\n      <td>0.014</td>\n      <td>0.5090</td>\n      <td>9.050</td>\n    </tr>\n    <tr>\n      <th>gfs-ens-bc_13</th>\n      <td>3483.0</td>\n      <td>0.044297</td>\n      <td>1.815628</td>\n      <td>-11.370</td>\n      <td>-0.6115</td>\n      <td>0.022</td>\n      <td>0.6430</td>\n      <td>9.668</td>\n    </tr>\n    <tr>\n      <th>gfs-ens-bc_14</th>\n      <td>3483.0</td>\n      <td>0.045904</td>\n      <td>1.853364</td>\n      <td>-8.661</td>\n      <td>-0.6350</td>\n      <td>0.026</td>\n      <td>0.7030</td>\n      <td>9.547</td>\n    </tr>\n    <tr>\n      <th>cmc-ens_9</th>\n      <td>3483.0</td>\n      <td>0.018010</td>\n      <td>0.736541</td>\n      <td>-3.877</td>\n      <td>-0.3375</td>\n      <td>-0.006</td>\n      <td>0.2985</td>\n      <td>3.211</td>\n    </tr>\n    <tr>\n      <th>cmc-ens_10</th>\n      <td>3483.0</td>\n      <td>0.091886</td>\n      <td>0.830035</td>\n      <td>-4.180</td>\n      <td>-0.2780</td>\n      <td>-0.005</td>\n      <td>0.4270</td>\n      <td>3.944</td>\n    </tr>\n    <tr>\n      <th>cmc-ens_11</th>\n      <td>3483.0</td>\n      <td>0.135222</td>\n      <td>0.945818</td>\n      <td>-3.731</td>\n      <td>-0.2740</td>\n      <td>-0.002</td>\n      <td>0.5465</td>\n      <td>4.920</td>\n    </tr>\n    <tr>\n      <th>cmc-ens_12</th>\n      <td>3483.0</td>\n      <td>0.154785</td>\n      <td>1.084122</td>\n      <td>-6.200</td>\n      <td>-0.3160</td>\n      <td>-0.004</td>\n      <td>0.6265</td>\n      <td>5.869</td>\n    </tr>\n    <tr>\n      <th>cmc-ens_13</th>\n      <td>3483.0</td>\n      <td>0.143323</td>\n      <td>1.245627</td>\n      <td>-5.302</td>\n      <td>-0.3750</td>\n      <td>-0.006</td>\n      <td>0.6565</td>\n      <td>6.044</td>\n    </tr>\n    <tr>\n      <th>cmc-ens_14</th>\n      <td>3483.0</td>\n      <td>0.125379</td>\n      <td>1.424470</td>\n      <td>-5.889</td>\n      <td>-0.4270</td>\n      <td>-0.013</td>\n      <td>0.6905</td>\n      <td>7.086</td>\n    </tr>\n    <tr>\n      <th>ecmwf_diff_8</th>\n      <td>3483.0</td>\n      <td>-0.039575</td>\n      <td>1.517474</td>\n      <td>-9.286</td>\n      <td>-0.2455</td>\n      <td>-0.007</td>\n      <td>0.1290</td>\n      <td>9.284</td>\n    </tr>\n    <tr>\n      <th>ecmwf_diff_9</th>\n      <td>3483.0</td>\n      <td>-0.070607</td>\n      <td>1.518297</td>\n      <td>-9.385</td>\n      <td>-0.2800</td>\n      <td>-0.011</td>\n      <td>0.1585</td>\n      <td>9.367</td>\n    </tr>\n    <tr>\n      <th>ecmwf-eps_9</th>\n      <td>3483.0</td>\n      <td>-0.023613</td>\n      <td>0.205727</td>\n      <td>-4.758</td>\n      <td>-0.1050</td>\n      <td>-0.001</td>\n      <td>0.0530</td>\n      <td>0.920</td>\n    </tr>\n    <tr>\n      <th>ecmwf-eps_10</th>\n      <td>3483.0</td>\n      <td>-0.020466</td>\n      <td>0.222680</td>\n      <td>-2.328</td>\n      <td>-0.1170</td>\n      <td>-0.001</td>\n      <td>0.0640</td>\n      <td>2.093</td>\n    </tr>\n    <tr>\n      <th>ecmwf-eps_11</th>\n      <td>3483.0</td>\n      <td>-0.021761</td>\n      <td>0.285033</td>\n      <td>-1.577</td>\n      <td>-0.1390</td>\n      <td>-0.001</td>\n      <td>0.0825</td>\n      <td>1.941</td>\n    </tr>\n    <tr>\n      <th>ecmwf-eps_12</th>\n      <td>3483.0</td>\n      <td>-0.030619</td>\n      <td>0.394500</td>\n      <td>-2.542</td>\n      <td>-0.1850</td>\n      <td>-0.001</td>\n      <td>0.1125</td>\n      <td>2.506</td>\n    </tr>\n    <tr>\n      <th>ecmwf-eps_13</th>\n      <td>3483.0</td>\n      <td>-0.026447</td>\n      <td>0.543814</td>\n      <td>-5.760</td>\n      <td>-0.2190</td>\n      <td>0.000</td>\n      <td>0.1595</td>\n      <td>3.385</td>\n    </tr>\n    <tr>\n      <th>ecmwf-eps_14</th>\n      <td>3483.0</td>\n      <td>-0.012466</td>\n      <td>0.680535</td>\n      <td>-9.941</td>\n      <td>-0.2510</td>\n      <td>0.000</td>\n      <td>0.2220</td>\n      <td>6.419</td>\n    </tr>\n  </tbody>\n</table>\n</div>"
     },
     "execution_count": 18,
     "metadata": {},
     "output_type": "execute_result"
    }
   ],
   "source": [
    "master_df.describe().transpose()"
   ],
   "metadata": {
    "collapsed": false,
    "ExecuteTime": {
     "start_time": "2023-05-24T14:28:05.330379Z",
     "end_time": "2023-05-24T14:28:05.368694Z"
    }
   }
  },
  {
   "cell_type": "markdown",
   "source": [
    "### random forest - mse=0.65"
   ],
   "metadata": {
    "collapsed": false
   }
  },
  {
   "cell_type": "code",
   "execution_count": 19,
   "outputs": [],
   "source": [
    "X = master_df.iloc[:, :14]"
   ],
   "metadata": {
    "collapsed": false,
    "ExecuteTime": {
     "start_time": "2023-05-24T14:28:05.360883Z",
     "end_time": "2023-05-24T14:28:05.368788Z"
    }
   }
  },
  {
   "cell_type": "code",
   "execution_count": 20,
   "outputs": [],
   "source": [
    "y = master_df.iloc[:, 14:]"
   ],
   "metadata": {
    "collapsed": false,
    "ExecuteTime": {
     "start_time": "2023-05-24T14:28:05.363962Z",
     "end_time": "2023-05-24T14:28:05.382782Z"
    }
   }
  },
  {
   "cell_type": "code",
   "execution_count": 21,
   "outputs": [
    {
     "data": {
      "text/plain": "[<matplotlib.lines.Line2D at 0x7f9dad4c84c0>]"
     },
     "execution_count": 21,
     "metadata": {},
     "output_type": "execute_result"
    },
    {
     "data": {
      "text/plain": "<Figure size 640x480 with 1 Axes>",
      "image/png": "[encoded data removed]"
     },
     "metadata": {},
     "output_type": "display_data"
    }
   ],
   "source": [
    "plt.plot(y['ecmwf-eps_9'][600:1000])"
   ],
   "metadata": {
    "collapsed": false,
    "ExecuteTime": {
     "start_time": "2023-05-24T14:28:05.367306Z",
     "end_time": "2023-05-24T14:28:05.640830Z"
    }
   }
  },
  {
   "cell_type": "code",
   "execution_count": 22,
   "outputs": [
    {
     "data": {
      "text/plain": "                     gfs-ens-bc_9  gfs-ens-bc_10  gfs-ens-bc_11   \n2018-07-11 00:00:00         0.003          0.004          0.000  \\\n2018-07-11 12:00:00         0.004          0.001          0.000   \n2018-07-12 00:00:00         0.004          0.000          0.004   \n2018-07-12 12:00:00         0.001          0.002          0.004   \n2018-07-13 00:00:00         0.000          0.002          0.008   \n...                           ...            ...            ...   \n2023-05-15 00:00:00        -0.899          3.317         -0.923   \n2023-05-15 12:00:00         0.403         -0.348         -0.853   \n2023-05-16 00:00:00         3.752         -0.431         -1.366   \n2023-05-16 12:00:00         0.203          0.060          1.151   \n2023-05-17 00:00:00        -0.039         -1.347          0.176   \n\n                     gfs-ens-bc_12  gfs-ens-bc_13  gfs-ens-bc_14  cmc-ens_9   \n2018-07-11 00:00:00          0.011          0.015          0.014     -0.006  \\\n2018-07-11 12:00:00          0.005          0.008          0.018     -0.003   \n2018-07-12 00:00:00          0.011          0.018          0.024     -0.004   \n2018-07-12 12:00:00          0.009          0.021          0.015     -0.002   \n2018-07-13 00:00:00          0.024          0.020          0.009     -0.001   \n...                            ...            ...            ...        ...   \n2023-05-15 00:00:00         -1.853          0.098         -0.197     -0.631   \n2023-05-15 12:00:00          0.580          1.175          0.265     -0.591   \n2023-05-16 00:00:00          0.107         -0.920          0.500     -0.279   \n2023-05-16 12:00:00          0.556          0.098         -0.652     -0.481   \n2023-05-17 00:00:00         -1.086          0.432         -1.480     -0.340   \n\n                     cmc-ens_10  cmc-ens_11  cmc-ens_12  cmc-ens_13   \n2018-07-11 00:00:00      -0.003      -0.001      -0.013      -0.014  \\\n2018-07-11 12:00:00      -0.002      -0.001      -0.005      -0.008   \n2018-07-12 00:00:00      -0.002      -0.006      -0.009      -0.017   \n2018-07-12 12:00:00      -0.002      -0.004      -0.008      -0.013   \n2018-07-13 00:00:00      -0.003      -0.008      -0.022      -0.021   \n...                         ...         ...         ...         ...   \n2023-05-15 00:00:00       0.232       0.894      -0.599      -1.595   \n2023-05-15 12:00:00      -0.005       0.499      -1.314      -2.503   \n2023-05-16 00:00:00       0.012      -1.454      -1.532      -0.951   \n2023-05-16 12:00:00      -0.476      -1.847      -1.399      -0.814   \n2023-05-17 00:00:00      -1.170      -1.054      -0.289       0.775   \n\n                     cmc-ens_14  ecmwf_diff_8  ecmwf_diff_9  \n2018-07-11 00:00:00      -0.012        -0.002         0.005  \n2018-07-11 12:00:00      -0.016         0.002         0.000  \n2018-07-12 00:00:00      -0.019         0.003         0.002  \n2018-07-12 12:00:00      -0.007         0.000         0.002  \n2018-07-13 00:00:00      -0.013         0.000         0.000  \n...                         ...           ...           ...  \n2023-05-15 00:00:00      -0.775        -1.429         3.291  \n2023-05-15 12:00:00      -0.942        -0.251        -0.294  \n2023-05-16 00:00:00       0.255         3.552        -0.150  \n2023-05-16 12:00:00       0.066        -0.022         0.218  \n2023-05-17 00:00:00       0.560        -0.233        -2.159  \n\n[3483 rows x 14 columns]",
      "text/html": "<div>\n<style scoped>\n    .dataframe tbody tr th:only-of-type {\n        vertical-align: middle;\n    }\n\n    .dataframe tbody tr th {\n        vertical-align: top;\n    }\n\n    .dataframe thead th {\n        text-align: right;\n    }\n</style>\n<table border=\"1\" class=\"dataframe\">\n  <thead>\n    <tr style=\"text-align: right;\">\n      <th></th>\n      <th>gfs-ens-bc_9</th>\n      <th>gfs-ens-bc_10</th>\n      <th>gfs-ens-bc_11</th>\n      <th>gfs-ens-bc_12</th>\n      <th>gfs-ens-bc_13</th>\n      <th>gfs-ens-bc_14</th>\n      <th>cmc-ens_9</th>\n      <th>cmc-ens_10</th>\n      <th>cmc-ens_11</th>\n      <th>cmc-ens_12</th>\n      <th>cmc-ens_13</th>\n      <th>cmc-ens_14</th>\n      <th>ecmwf_diff_8</th>\n      <th>ecmwf_diff_9</th>\n    </tr>\n  </thead>\n  <tbody>\n    <tr>\n      <th>2018-07-11 00:00:00</th>\n      <td>0.003</td>\n      <td>0.004</td>\n      <td>0.000</td>\n      <td>0.011</td>\n      <td>0.015</td>\n      <td>0.014</td>\n      <td>-0.006</td>\n      <td>-0.003</td>\n      <td>-0.001</td>\n      <td>-0.013</td>\n      <td>-0.014</td>\n      <td>-0.012</td>\n      <td>-0.002</td>\n      <td>0.005</td>\n    </tr>\n    <tr>\n      <th>2018-07-11 12:00:00</th>\n      <td>0.004</td>\n      <td>0.001</td>\n      <td>0.000</td>\n      <td>0.005</td>\n      <td>0.008</td>\n      <td>0.018</td>\n      <td>-0.003</td>\n      <td>-0.002</td>\n      <td>-0.001</td>\n      <td>-0.005</td>\n      <td>-0.008</td>\n      <td>-0.016</td>\n      <td>0.002</td>\n      <td>0.000</td>\n    </tr>\n    <tr>\n      <th>2018-07-12 00:00:00</th>\n      <td>0.004</td>\n      <td>0.000</td>\n      <td>0.004</td>\n      <td>0.011</td>\n      <td>0.018</td>\n      <td>0.024</td>\n      <td>-0.004</td>\n      <td>-0.002</td>\n      <td>-0.006</td>\n      <td>-0.009</td>\n      <td>-0.017</td>\n      <td>-0.019</td>\n      <td>0.003</td>\n      <td>0.002</td>\n    </tr>\n    <tr>\n      <th>2018-07-12 12:00:00</th>\n      <td>0.001</td>\n      <td>0.002</td>\n      <td>0.004</td>\n      <td>0.009</td>\n      <td>0.021</td>\n      <td>0.015</td>\n      <td>-0.002</td>\n      <td>-0.002</td>\n      <td>-0.004</td>\n      <td>-0.008</td>\n      <td>-0.013</td>\n      <td>-0.007</td>\n      <td>0.000</td>\n      <td>0.002</td>\n    </tr>\n    <tr>\n      <th>2018-07-13 00:00:00</th>\n      <td>0.000</td>\n      <td>0.002</td>\n      <td>0.008</td>\n      <td>0.024</td>\n      <td>0.020</td>\n      <td>0.009</td>\n      <td>-0.001</td>\n      <td>-0.003</td>\n      <td>-0.008</td>\n      <td>-0.022</td>\n      <td>-0.021</td>\n      <td>-0.013</td>\n      <td>0.000</td>\n      <td>0.000</td>\n    </tr>\n    <tr>\n      <th>...</th>\n      <td>...</td>\n      <td>...</td>\n      <td>...</td>\n      <td>...</td>\n      <td>...</td>\n      <td>...</td>\n      <td>...</td>\n      <td>...</td>\n      <td>...</td>\n      <td>...</td>\n      <td>...</td>\n      <td>...</td>\n      <td>...</td>\n      <td>...</td>\n    </tr>\n    <tr>\n      <th>2023-05-15 00:00:00</th>\n      <td>-0.899</td>\n      <td>3.317</td>\n      <td>-0.923</td>\n      <td>-1.853</td>\n      <td>0.098</td>\n      <td>-0.197</td>\n      <td>-0.631</td>\n      <td>0.232</td>\n      <td>0.894</td>\n      <td>-0.599</td>\n      <td>-1.595</td>\n      <td>-0.775</td>\n      <td>-1.429</td>\n      <td>3.291</td>\n    </tr>\n    <tr>\n      <th>2023-05-15 12:00:00</th>\n      <td>0.403</td>\n      <td>-0.348</td>\n      <td>-0.853</td>\n      <td>0.580</td>\n      <td>1.175</td>\n      <td>0.265</td>\n      <td>-0.591</td>\n      <td>-0.005</td>\n      <td>0.499</td>\n      <td>-1.314</td>\n      <td>-2.503</td>\n      <td>-0.942</td>\n      <td>-0.251</td>\n      <td>-0.294</td>\n    </tr>\n    <tr>\n      <th>2023-05-16 00:00:00</th>\n      <td>3.752</td>\n      <td>-0.431</td>\n      <td>-1.366</td>\n      <td>0.107</td>\n      <td>-0.920</td>\n      <td>0.500</td>\n      <td>-0.279</td>\n      <td>0.012</td>\n      <td>-1.454</td>\n      <td>-1.532</td>\n      <td>-0.951</td>\n      <td>0.255</td>\n      <td>3.552</td>\n      <td>-0.150</td>\n    </tr>\n    <tr>\n      <th>2023-05-16 12:00:00</th>\n      <td>0.203</td>\n      <td>0.060</td>\n      <td>1.151</td>\n      <td>0.556</td>\n      <td>0.098</td>\n      <td>-0.652</td>\n      <td>-0.481</td>\n      <td>-0.476</td>\n      <td>-1.847</td>\n      <td>-1.399</td>\n      <td>-0.814</td>\n      <td>0.066</td>\n      <td>-0.022</td>\n      <td>0.218</td>\n    </tr>\n    <tr>\n      <th>2023-05-17 00:00:00</th>\n      <td>-0.039</td>\n      <td>-1.347</td>\n      <td>0.176</td>\n      <td>-1.086</td>\n      <td>0.432</td>\n      <td>-1.480</td>\n      <td>-0.340</td>\n      <td>-1.170</td>\n      <td>-1.054</td>\n      <td>-0.289</td>\n      <td>0.775</td>\n      <td>0.560</td>\n      <td>-0.233</td>\n      <td>-2.159</td>\n    </tr>\n  </tbody>\n</table>\n<p>3483 rows × 14 columns</p>\n</div>"
     },
     "execution_count": 22,
     "metadata": {},
     "output_type": "execute_result"
    }
   ],
   "source": [
    "X"
   ],
   "metadata": {
    "collapsed": false,
    "ExecuteTime": {
     "start_time": "2023-05-24T14:28:05.651605Z",
     "end_time": "2023-05-24T14:28:05.653984Z"
    }
   }
  },
  {
   "cell_type": "code",
   "execution_count": 23,
   "outputs": [
    {
     "data": {
      "text/plain": "                     ecmwf-eps_9  ecmwf-eps_10  ecmwf-eps_11  ecmwf-eps_12   \n2018-07-11 00:00:00        0.001        -0.001         0.000         0.000  \\\n2018-07-11 12:00:00        0.001         0.000        -0.001        -0.001   \n2018-07-12 00:00:00       -0.001        -0.001         0.000         0.000   \n2018-07-12 12:00:00        0.000        -0.001         0.001         0.001   \n2018-07-13 00:00:00        0.000        -0.001        -0.001        -0.002   \n...                          ...           ...           ...           ...   \n2023-05-15 00:00:00        0.141         0.055        -0.230        -0.270   \n2023-05-15 12:00:00       -0.195        -0.020        -0.281        -0.132   \n2023-05-16 00:00:00       -0.035        -0.254        -0.293        -0.192   \n2023-05-16 12:00:00        0.261         0.335         0.252         0.221   \n2023-05-17 00:00:00        0.000        -0.169        -0.271         0.025   \n\n                     ecmwf-eps_13  ecmwf-eps_14  \n2018-07-11 00:00:00         0.000         0.000  \n2018-07-11 12:00:00        -0.001        -0.001  \n2018-07-12 00:00:00        -0.001         0.001  \n2018-07-12 12:00:00         0.006         0.003  \n2018-07-13 00:00:00         0.000        -0.001  \n...                           ...           ...  \n2023-05-15 00:00:00        -0.257         0.014  \n2023-05-15 12:00:00         0.050        -0.327  \n2023-05-16 00:00:00        -0.102        -0.086  \n2023-05-16 12:00:00         0.176         0.538  \n2023-05-17 00:00:00        -0.008        -0.078  \n\n[3483 rows x 6 columns]",
      "text/html": "<div>\n<style scoped>\n    .dataframe tbody tr th:only-of-type {\n        vertical-align: middle;\n    }\n\n    .dataframe tbody tr th {\n        vertical-align: top;\n    }\n\n    .dataframe thead th {\n        text-align: right;\n    }\n</style>\n<table border=\"1\" class=\"dataframe\">\n  <thead>\n    <tr style=\"text-align: right;\">\n      <th></th>\n      <th>ecmwf-eps_9</th>\n      <th>ecmwf-eps_10</th>\n      <th>ecmwf-eps_11</th>\n      <th>ecmwf-eps_12</th>\n      <th>ecmwf-eps_13</th>\n      <th>ecmwf-eps_14</th>\n    </tr>\n  </thead>\n  <tbody>\n    <tr>\n      <th>2018-07-11 00:00:00</th>\n      <td>0.001</td>\n      <td>-0.001</td>\n      <td>0.000</td>\n      <td>0.000</td>\n      <td>0.000</td>\n      <td>0.000</td>\n    </tr>\n    <tr>\n      <th>2018-07-11 12:00:00</th>\n      <td>0.001</td>\n      <td>0.000</td>\n      <td>-0.001</td>\n      <td>-0.001</td>\n      <td>-0.001</td>\n      <td>-0.001</td>\n    </tr>\n    <tr>\n      <th>2018-07-12 00:00:00</th>\n      <td>-0.001</td>\n      <td>-0.001</td>\n      <td>0.000</td>\n      <td>0.000</td>\n      <td>-0.001</td>\n      <td>0.001</td>\n    </tr>\n    <tr>\n      <th>2018-07-12 12:00:00</th>\n      <td>0.000</td>\n      <td>-0.001</td>\n      <td>0.001</td>\n      <td>0.001</td>\n      <td>0.006</td>\n      <td>0.003</td>\n    </tr>\n    <tr>\n      <th>2018-07-13 00:00:00</th>\n      <td>0.000</td>\n      <td>-0.001</td>\n      <td>-0.001</td>\n      <td>-0.002</td>\n      <td>0.000</td>\n      <td>-0.001</td>\n    </tr>\n    <tr>\n      <th>...</th>\n      <td>...</td>\n      <td>...</td>\n      <td>...</td>\n      <td>...</td>\n      <td>...</td>\n      <td>...</td>\n    </tr>\n    <tr>\n      <th>2023-05-15 00:00:00</th>\n      <td>0.141</td>\n      <td>0.055</td>\n      <td>-0.230</td>\n      <td>-0.270</td>\n      <td>-0.257</td>\n      <td>0.014</td>\n    </tr>\n    <tr>\n      <th>2023-05-15 12:00:00</th>\n      <td>-0.195</td>\n      <td>-0.020</td>\n      <td>-0.281</td>\n      <td>-0.132</td>\n      <td>0.050</td>\n      <td>-0.327</td>\n    </tr>\n    <tr>\n      <th>2023-05-16 00:00:00</th>\n      <td>-0.035</td>\n      <td>-0.254</td>\n      <td>-0.293</td>\n      <td>-0.192</td>\n      <td>-0.102</td>\n      <td>-0.086</td>\n    </tr>\n    <tr>\n      <th>2023-05-16 12:00:00</th>\n      <td>0.261</td>\n      <td>0.335</td>\n      <td>0.252</td>\n      <td>0.221</td>\n      <td>0.176</td>\n      <td>0.538</td>\n    </tr>\n    <tr>\n      <th>2023-05-17 00:00:00</th>\n      <td>0.000</td>\n      <td>-0.169</td>\n      <td>-0.271</td>\n      <td>0.025</td>\n      <td>-0.008</td>\n      <td>-0.078</td>\n    </tr>\n  </tbody>\n</table>\n<p>3483 rows × 6 columns</p>\n</div>"
     },
     "execution_count": 23,
     "metadata": {},
     "output_type": "execute_result"
    }
   ],
   "source": [
    "y"
   ],
   "metadata": {
    "collapsed": false,
    "ExecuteTime": {
     "start_time": "2023-05-24T14:28:05.660572Z",
     "end_time": "2023-05-24T14:28:05.700989Z"
    }
   }
  },
  {
   "cell_type": "code",
   "execution_count": 24,
   "outputs": [],
   "source": [
    "X_train, X_test, y_train, y_test = train_test_split(X, y, test_size=0.2, random_state=42)"
   ],
   "metadata": {
    "collapsed": false,
    "ExecuteTime": {
     "start_time": "2023-05-24T14:28:05.673521Z",
     "end_time": "2023-05-24T14:28:05.701060Z"
    }
   }
  },
  {
   "cell_type": "code",
   "execution_count": 25,
   "outputs": [],
   "source": [
    "rf_model = RandomForestRegressor(n_estimators=1000, max_depth=100, random_state=42)"
   ],
   "metadata": {
    "collapsed": false,
    "ExecuteTime": {
     "start_time": "2023-05-24T14:28:05.683229Z",
     "end_time": "2023-05-24T14:28:05.701087Z"
    }
   }
  },
  {
   "cell_type": "code",
   "execution_count": 26,
   "outputs": [
    {
     "data": {
      "text/plain": "RandomForestRegressor(max_depth=100, n_estimators=1000, random_state=42)",
      "text/html": "<style>#sk-container-id-1 {color: black;background-color: white;}#sk-container-id-1 pre{padding: 0;}#sk-container-id-1 div.sk-toggleable {background-color: white;}#sk-container-id-1 label.sk-toggleable__label {cursor: pointer;display: block;width: 100%;margin-bottom: 0;padding: 0.3em;box-sizing: border-box;text-align: center;}#sk-container-id-1 label.sk-toggleable__label-arrow:before {content: \"▸\";float: left;margin-right: 0.25em;color: #696969;}#sk-container-id-1 label.sk-toggleable__label-arrow:hover:before {color: black;}#sk-container-id-1 div.sk-estimator:hover label.sk-toggleable__label-arrow:before {color: black;}#sk-container-id-1 div.sk-toggleable__content {max-height: 0;max-width: 0;overflow: hidden;text-align: left;background-color: #f0f8ff;}#sk-container-id-1 div.sk-toggleable__content pre {margin: 0.2em;color: black;border-radius: 0.25em;background-color: #f0f8ff;}#sk-container-id-1 input.sk-toggleable__control:checked~div.sk-toggleable__content {max-height: 200px;max-width: 100%;overflow: auto;}#sk-container-id-1 input.sk-toggleable__control:checked~label.sk-toggleable__label-arrow:before {content: \"▾\";}#sk-container-id-1 div.sk-estimator input.sk-toggleable__control:checked~label.sk-toggleable__label {background-color: #d4ebff;}#sk-container-id-1 div.sk-label input.sk-toggleable__control:checked~label.sk-toggleable__label {background-color: #d4ebff;}#sk-container-id-1 input.sk-hidden--visually {border: 0;clip: rect(1px 1px 1px 1px);clip: rect(1px, 1px, 1px, 1px);height: 1px;margin: -1px;overflow: hidden;padding: 0;position: absolute;width: 1px;}#sk-container-id-1 div.sk-estimator {font-family: monospace;background-color: #f0f8ff;border: 1px dotted black;border-radius: 0.25em;box-sizing: border-box;margin-bottom: 0.5em;}#sk-container-id-1 div.sk-estimator:hover {background-color: #d4ebff;}#sk-container-id-1 div.sk-parallel-item::after {content: \"\";width: 100%;border-bottom: 1px solid gray;flex-grow: 1;}#sk-container-id-1 div.sk-label:hover label.sk-toggleable__label {background-color: #d4ebff;}#sk-container-id-1 div.sk-serial::before {content: \"\";position: absolute;border-left: 1px solid gray;box-sizing: border-box;top: 0;bottom: 0;left: 50%;z-index: 0;}#sk-container-id-1 div.sk-serial {display: flex;flex-direction: column;align-items: center;background-color: white;padding-right: 0.2em;padding-left: 0.2em;position: relative;}#sk-container-id-1 div.sk-item {position: relative;z-index: 1;}#sk-container-id-1 div.sk-parallel {display: flex;align-items: stretch;justify-content: center;background-color: white;position: relative;}#sk-container-id-1 div.sk-item::before, #sk-container-id-1 div.sk-parallel-item::before {content: \"\";position: absolute;border-left: 1px solid gray;box-sizing: border-box;top: 0;bottom: 0;left: 50%;z-index: -1;}#sk-container-id-1 div.sk-parallel-item {display: flex;flex-direction: column;z-index: 1;position: relative;background-color: white;}#sk-container-id-1 div.sk-parallel-item:first-child::after {align-self: flex-end;width: 50%;}#sk-container-id-1 div.sk-parallel-item:last-child::after {align-self: flex-start;width: 50%;}#sk-container-id-1 div.sk-parallel-item:only-child::after {width: 0;}#sk-container-id-1 div.sk-dashed-wrapped {border: 1px dashed gray;margin: 0 0.4em 0.5em 0.4em;box-sizing: border-box;padding-bottom: 0.4em;background-color: white;}#sk-container-id-1 div.sk-label label {font-family: monospace;font-weight: bold;display: inline-block;line-height: 1.2em;}#sk-container-id-1 div.sk-label-container {text-align: center;}#sk-container-id-1 div.sk-container {/* jupyter's `normalize.less` sets `[hidden] { display: none; }` but bootstrap.min.css set `[hidden] { display: none !important; }` so we also need the `!important` here to be able to override the default hidden behavior on the sphinx rendered scikit-learn.org. See: https://github.com/scikit-learn/scikit-learn/issues/21755 */display: inline-block !important;position: relative;}#sk-container-id-1 div.sk-text-repr-fallback {display: none;}</style><div id=\"sk-container-id-1\" class=\"sk-top-container\"><div class=\"sk-text-repr-fallback\"><pre>RandomForestRegressor(max_depth=100, n_estimators=1000, random_state=42)</pre><b>In a Jupyter environment, please rerun this cell to show the HTML representation or trust the notebook. <br />On GitHub, the HTML representation is unable to render, please try loading this page with nbviewer.org.</b></div><div class=\"sk-container\" hidden><div class=\"sk-item\"><div class=\"sk-estimator sk-toggleable\"><input class=\"sk-toggleable__control sk-hidden--visually\" id=\"sk-estimator-id-1\" type=\"checkbox\" checked><label for=\"sk-estimator-id-1\" class=\"sk-toggleable__label sk-toggleable__label-arrow\">RandomForestRegressor</label><div class=\"sk-toggleable__content\"><pre>RandomForestRegressor(max_depth=100, n_estimators=1000, random_state=42)</pre></div></div></div></div></div>"
     },
     "execution_count": 26,
     "metadata": {},
     "output_type": "execute_result"
    }
   ],
   "source": [
    "rf_model.fit(X_train, y_train)"
   ],
   "metadata": {
    "collapsed": false,
    "ExecuteTime": {
     "start_time": "2023-05-24T14:28:05.689953Z",
     "end_time": "2023-05-24T14:28:47.518737Z"
    }
   }
  },
  {
   "cell_type": "code",
   "execution_count": 27,
   "outputs": [],
   "source": [
    "y_pred = rf_model.predict(X_test)"
   ],
   "metadata": {
    "collapsed": false,
    "ExecuteTime": {
     "start_time": "2023-05-24T14:28:47.521541Z",
     "end_time": "2023-05-24T14:28:47.764830Z"
    }
   }
  },
  {
   "cell_type": "code",
   "execution_count": 28,
   "outputs": [
    {
     "name": "stdout",
     "output_type": "stream",
     "text": [
      "Mean Squared Error: 0.2014817557442873\n"
     ]
    }
   ],
   "source": [
    "mse = mean_squared_error(y_test, y_pred)\n",
    "print(\"Mean Squared Error:\", mse)"
   ],
   "metadata": {
    "collapsed": false,
    "ExecuteTime": {
     "start_time": "2023-05-24T14:28:47.763039Z",
     "end_time": "2023-05-24T14:28:47.780506Z"
    }
   }
  },
  {
   "cell_type": "markdown",
   "source": [
    "### RNN"
   ],
   "metadata": {
    "collapsed": false
   }
  },
  {
   "cell_type": "code",
   "execution_count": 29,
   "outputs": [
    {
     "data": {
      "text/plain": "                     gfs-ens-bc_9  gfs-ens-bc_10  gfs-ens-bc_11   \n2018-07-11 00:00:00         0.003          0.004          0.000  \\\n2018-07-11 12:00:00         0.004          0.001          0.000   \n2018-07-12 00:00:00         0.004          0.000          0.004   \n2018-07-12 12:00:00         0.001          0.002          0.004   \n2018-07-13 00:00:00         0.000          0.002          0.008   \n...                           ...            ...            ...   \n2023-05-15 00:00:00        -0.899          3.317         -0.923   \n2023-05-15 12:00:00         0.403         -0.348         -0.853   \n2023-05-16 00:00:00         3.752         -0.431         -1.366   \n2023-05-16 12:00:00         0.203          0.060          1.151   \n2023-05-17 00:00:00        -0.039         -1.347          0.176   \n\n                     gfs-ens-bc_12  gfs-ens-bc_13  gfs-ens-bc_14  cmc-ens_9   \n2018-07-11 00:00:00          0.011          0.015          0.014     -0.006  \\\n2018-07-11 12:00:00          0.005          0.008          0.018     -0.003   \n2018-07-12 00:00:00          0.011          0.018          0.024     -0.004   \n2018-07-12 12:00:00          0.009          0.021          0.015     -0.002   \n2018-07-13 00:00:00          0.024          0.020          0.009     -0.001   \n...                            ...            ...            ...        ...   \n2023-05-15 00:00:00         -1.853          0.098         -0.197     -0.631   \n2023-05-15 12:00:00          0.580          1.175          0.265     -0.591   \n2023-05-16 00:00:00          0.107         -0.920          0.500     -0.279   \n2023-05-16 12:00:00          0.556          0.098         -0.652     -0.481   \n2023-05-17 00:00:00         -1.086          0.432         -1.480     -0.340   \n\n                     cmc-ens_10  cmc-ens_11  cmc-ens_12  cmc-ens_13   \n2018-07-11 00:00:00      -0.003      -0.001      -0.013      -0.014  \\\n2018-07-11 12:00:00      -0.002      -0.001      -0.005      -0.008   \n2018-07-12 00:00:00      -0.002      -0.006      -0.009      -0.017   \n2018-07-12 12:00:00      -0.002      -0.004      -0.008      -0.013   \n2018-07-13 00:00:00      -0.003      -0.008      -0.022      -0.021   \n...                         ...         ...         ...         ...   \n2023-05-15 00:00:00       0.232       0.894      -0.599      -1.595   \n2023-05-15 12:00:00      -0.005       0.499      -1.314      -2.503   \n2023-05-16 00:00:00       0.012      -1.454      -1.532      -0.951   \n2023-05-16 12:00:00      -0.476      -1.847      -1.399      -0.814   \n2023-05-17 00:00:00      -1.170      -1.054      -0.289       0.775   \n\n                     cmc-ens_14  ecmwf_diff_8  ecmwf_diff_9  ecmwf-eps_9   \n2018-07-11 00:00:00      -0.012        -0.002         0.005        0.001  \\\n2018-07-11 12:00:00      -0.016         0.002         0.000        0.001   \n2018-07-12 00:00:00      -0.019         0.003         0.002       -0.001   \n2018-07-12 12:00:00      -0.007         0.000         0.002        0.000   \n2018-07-13 00:00:00      -0.013         0.000         0.000        0.000   \n...                         ...           ...           ...          ...   \n2023-05-15 00:00:00      -0.775        -1.429         3.291        0.141   \n2023-05-15 12:00:00      -0.942        -0.251        -0.294       -0.195   \n2023-05-16 00:00:00       0.255         3.552        -0.150       -0.035   \n2023-05-16 12:00:00       0.066        -0.022         0.218        0.261   \n2023-05-17 00:00:00       0.560        -0.233        -2.159        0.000   \n\n                     ecmwf-eps_10  ecmwf-eps_11  ecmwf-eps_12  ecmwf-eps_13   \n2018-07-11 00:00:00        -0.001         0.000         0.000         0.000  \\\n2018-07-11 12:00:00         0.000        -0.001        -0.001        -0.001   \n2018-07-12 00:00:00        -0.001         0.000         0.000        -0.001   \n2018-07-12 12:00:00        -0.001         0.001         0.001         0.006   \n2018-07-13 00:00:00        -0.001        -0.001        -0.002         0.000   \n...                           ...           ...           ...           ...   \n2023-05-15 00:00:00         0.055        -0.230        -0.270        -0.257   \n2023-05-15 12:00:00        -0.020        -0.281        -0.132         0.050   \n2023-05-16 00:00:00        -0.254        -0.293        -0.192        -0.102   \n2023-05-16 12:00:00         0.335         0.252         0.221         0.176   \n2023-05-17 00:00:00        -0.169        -0.271         0.025        -0.008   \n\n                     ecmwf-eps_14  \n2018-07-11 00:00:00         0.000  \n2018-07-11 12:00:00        -0.001  \n2018-07-12 00:00:00         0.001  \n2018-07-12 12:00:00         0.003  \n2018-07-13 00:00:00        -0.001  \n...                           ...  \n2023-05-15 00:00:00         0.014  \n2023-05-15 12:00:00        -0.327  \n2023-05-16 00:00:00        -0.086  \n2023-05-16 12:00:00         0.538  \n2023-05-17 00:00:00        -0.078  \n\n[3483 rows x 20 columns]",
      "text/html": "<div>\n<style scoped>\n    .dataframe tbody tr th:only-of-type {\n        vertical-align: middle;\n    }\n\n    .dataframe tbody tr th {\n        vertical-align: top;\n    }\n\n    .dataframe thead th {\n        text-align: right;\n    }\n</style>\n<table border=\"1\" class=\"dataframe\">\n  <thead>\n    <tr style=\"text-align: right;\">\n      <th></th>\n      <th>gfs-ens-bc_9</th>\n      <th>gfs-ens-bc_10</th>\n      <th>gfs-ens-bc_11</th>\n      <th>gfs-ens-bc_12</th>\n      <th>gfs-ens-bc_13</th>\n      <th>gfs-ens-bc_14</th>\n      <th>cmc-ens_9</th>\n      <th>cmc-ens_10</th>\n      <th>cmc-ens_11</th>\n      <th>cmc-ens_12</th>\n      <th>cmc-ens_13</th>\n      <th>cmc-ens_14</th>\n      <th>ecmwf_diff_8</th>\n      <th>ecmwf_diff_9</th>\n      <th>ecmwf-eps_9</th>\n      <th>ecmwf-eps_10</th>\n      <th>ecmwf-eps_11</th>\n      <th>ecmwf-eps_12</th>\n      <th>ecmwf-eps_13</th>\n      <th>ecmwf-eps_14</th>\n    </tr>\n  </thead>\n  <tbody>\n    <tr>\n      <th>2018-07-11 00:00:00</th>\n      <td>0.003</td>\n      <td>0.004</td>\n      <td>0.000</td>\n      <td>0.011</td>\n      <td>0.015</td>\n      <td>0.014</td>\n      <td>-0.006</td>\n      <td>-0.003</td>\n      <td>-0.001</td>\n      <td>-0.013</td>\n      <td>-0.014</td>\n      <td>-0.012</td>\n      <td>-0.002</td>\n      <td>0.005</td>\n      <td>0.001</td>\n      <td>-0.001</td>\n      <td>0.000</td>\n      <td>0.000</td>\n      <td>0.000</td>\n      <td>0.000</td>\n    </tr>\n    <tr>\n      <th>2018-07-11 12:00:00</th>\n      <td>0.004</td>\n      <td>0.001</td>\n      <td>0.000</td>\n      <td>0.005</td>\n      <td>0.008</td>\n      <td>0.018</td>\n      <td>-0.003</td>\n      <td>-0.002</td>\n      <td>-0.001</td>\n      <td>-0.005</td>\n      <td>-0.008</td>\n      <td>-0.016</td>\n      <td>0.002</td>\n      <td>0.000</td>\n      <td>0.001</td>\n      <td>0.000</td>\n      <td>-0.001</td>\n      <td>-0.001</td>\n      <td>-0.001</td>\n      <td>-0.001</td>\n    </tr>\n    <tr>\n      <th>2018-07-12 00:00:00</th>\n      <td>0.004</td>\n      <td>0.000</td>\n      <td>0.004</td>\n      <td>0.011</td>\n      <td>0.018</td>\n      <td>0.024</td>\n      <td>-0.004</td>\n      <td>-0.002</td>\n      <td>-0.006</td>\n      <td>-0.009</td>\n      <td>-0.017</td>\n      <td>-0.019</td>\n      <td>0.003</td>\n      <td>0.002</td>\n      <td>-0.001</td>\n      <td>-0.001</td>\n      <td>0.000</td>\n      <td>0.000</td>\n      <td>-0.001</td>\n      <td>0.001</td>\n    </tr>\n    <tr>\n      <th>2018-07-12 12:00:00</th>\n      <td>0.001</td>\n      <td>0.002</td>\n      <td>0.004</td>\n      <td>0.009</td>\n      <td>0.021</td>\n      <td>0.015</td>\n      <td>-0.002</td>\n      <td>-0.002</td>\n      <td>-0.004</td>\n      <td>-0.008</td>\n      <td>-0.013</td>\n      <td>-0.007</td>\n      <td>0.000</td>\n      <td>0.002</td>\n      <td>0.000</td>\n      <td>-0.001</td>\n      <td>0.001</td>\n      <td>0.001</td>\n      <td>0.006</td>\n      <td>0.003</td>\n    </tr>\n    <tr>\n      <th>2018-07-13 00:00:00</th>\n      <td>0.000</td>\n      <td>0.002</td>\n      <td>0.008</td>\n      <td>0.024</td>\n      <td>0.020</td>\n      <td>0.009</td>\n      <td>-0.001</td>\n      <td>-0.003</td>\n      <td>-0.008</td>\n      <td>-0.022</td>\n      <td>-0.021</td>\n      <td>-0.013</td>\n      <td>0.000</td>\n      <td>0.000</td>\n      <td>0.000</td>\n      <td>-0.001</td>\n      <td>-0.001</td>\n      <td>-0.002</td>\n      <td>0.000</td>\n      <td>-0.001</td>\n    </tr>\n    <tr>\n      <th>...</th>\n      <td>...</td>\n      <td>...</td>\n      <td>...</td>\n      <td>...</td>\n      <td>...</td>\n      <td>...</td>\n      <td>...</td>\n      <td>...</td>\n      <td>...</td>\n      <td>...</td>\n      <td>...</td>\n      <td>...</td>\n      <td>...</td>\n      <td>...</td>\n      <td>...</td>\n      <td>...</td>\n      <td>...</td>\n      <td>...</td>\n      <td>...</td>\n      <td>...</td>\n    </tr>\n    <tr>\n      <th>2023-05-15 00:00:00</th>\n      <td>-0.899</td>\n      <td>3.317</td>\n      <td>-0.923</td>\n      <td>-1.853</td>\n      <td>0.098</td>\n      <td>-0.197</td>\n      <td>-0.631</td>\n      <td>0.232</td>\n      <td>0.894</td>\n      <td>-0.599</td>\n      <td>-1.595</td>\n      <td>-0.775</td>\n      <td>-1.429</td>\n      <td>3.291</td>\n      <td>0.141</td>\n      <td>0.055</td>\n      <td>-0.230</td>\n      <td>-0.270</td>\n      <td>-0.257</td>\n      <td>0.014</td>\n    </tr>\n    <tr>\n      <th>2023-05-15 12:00:00</th>\n      <td>0.403</td>\n      <td>-0.348</td>\n      <td>-0.853</td>\n      <td>0.580</td>\n      <td>1.175</td>\n      <td>0.265</td>\n      <td>-0.591</td>\n      <td>-0.005</td>\n      <td>0.499</td>\n      <td>-1.314</td>\n      <td>-2.503</td>\n      <td>-0.942</td>\n      <td>-0.251</td>\n      <td>-0.294</td>\n      <td>-0.195</td>\n      <td>-0.020</td>\n      <td>-0.281</td>\n      <td>-0.132</td>\n      <td>0.050</td>\n      <td>-0.327</td>\n    </tr>\n    <tr>\n      <th>2023-05-16 00:00:00</th>\n      <td>3.752</td>\n      <td>-0.431</td>\n      <td>-1.366</td>\n      <td>0.107</td>\n      <td>-0.920</td>\n      <td>0.500</td>\n      <td>-0.279</td>\n      <td>0.012</td>\n      <td>-1.454</td>\n      <td>-1.532</td>\n      <td>-0.951</td>\n      <td>0.255</td>\n      <td>3.552</td>\n      <td>-0.150</td>\n      <td>-0.035</td>\n      <td>-0.254</td>\n      <td>-0.293</td>\n      <td>-0.192</td>\n      <td>-0.102</td>\n      <td>-0.086</td>\n    </tr>\n    <tr>\n      <th>2023-05-16 12:00:00</th>\n      <td>0.203</td>\n      <td>0.060</td>\n      <td>1.151</td>\n      <td>0.556</td>\n      <td>0.098</td>\n      <td>-0.652</td>\n      <td>-0.481</td>\n      <td>-0.476</td>\n      <td>-1.847</td>\n      <td>-1.399</td>\n      <td>-0.814</td>\n      <td>0.066</td>\n      <td>-0.022</td>\n      <td>0.218</td>\n      <td>0.261</td>\n      <td>0.335</td>\n      <td>0.252</td>\n      <td>0.221</td>\n      <td>0.176</td>\n      <td>0.538</td>\n    </tr>\n    <tr>\n      <th>2023-05-17 00:00:00</th>\n      <td>-0.039</td>\n      <td>-1.347</td>\n      <td>0.176</td>\n      <td>-1.086</td>\n      <td>0.432</td>\n      <td>-1.480</td>\n      <td>-0.340</td>\n      <td>-1.170</td>\n      <td>-1.054</td>\n      <td>-0.289</td>\n      <td>0.775</td>\n      <td>0.560</td>\n      <td>-0.233</td>\n      <td>-2.159</td>\n      <td>0.000</td>\n      <td>-0.169</td>\n      <td>-0.271</td>\n      <td>0.025</td>\n      <td>-0.008</td>\n      <td>-0.078</td>\n    </tr>\n  </tbody>\n</table>\n<p>3483 rows × 20 columns</p>\n</div>"
     },
     "execution_count": 29,
     "metadata": {},
     "output_type": "execute_result"
    }
   ],
   "source": [
    "master_df"
   ],
   "metadata": {
    "collapsed": false,
    "ExecuteTime": {
     "start_time": "2023-05-24T14:28:47.783772Z",
     "end_time": "2023-05-24T14:28:47.808952Z"
    }
   }
  },
  {
   "cell_type": "code",
   "execution_count": 30,
   "outputs": [],
   "source": [
    "input_data = master_df.iloc[:, :-6].values\n",
    "target_data = master_df.iloc[:, -6:].values"
   ],
   "metadata": {
    "collapsed": false,
    "ExecuteTime": {
     "start_time": "2023-05-24T14:28:47.811181Z",
     "end_time": "2023-05-24T14:28:47.818360Z"
    }
   }
  },
  {
   "cell_type": "code",
   "execution_count": 32,
   "outputs": [],
   "source": [
    "from sklearn.preprocessing import MinMaxScaler"
   ],
   "metadata": {
    "collapsed": false,
    "ExecuteTime": {
     "start_time": "2023-05-24T14:29:30.761063Z",
     "end_time": "2023-05-24T14:29:30.766406Z"
    }
   }
  },
  {
   "cell_type": "code",
   "execution_count": 33,
   "outputs": [],
   "source": [],
   "metadata": {
    "collapsed": false,
    "ExecuteTime": {
     "start_time": "2023-05-24T14:30:29.300860Z",
     "end_time": "2023-05-24T14:30:29.322281Z"
    }
   }
  },
  {
   "cell_type": "code",
   "execution_count": null,
   "outputs": [],
   "source": [],
   "metadata": {
    "collapsed": false,
    "ExecuteTime": {
     "start_time": "2023-05-23T13:52:41.511909Z",
     "end_time": "2023-05-23T13:52:41.524241Z"
    }
   }
  },
  {
   "cell_type": "code",
   "execution_count": null,
   "outputs": [],
   "source": [],
   "metadata": {
    "collapsed": false,
    "ExecuteTime": {
     "start_time": "2023-05-23T13:46:17.081263Z",
     "end_time": "2023-05-23T13:46:17.085786Z"
    }
   }
  },
  {
   "cell_type": "code",
   "execution_count": null,
   "outputs": [],
   "source": [],
   "metadata": {
    "collapsed": false,
    "ExecuteTime": {
     "start_time": "2023-05-23T13:52:45.342156Z",
     "end_time": "2023-05-23T13:52:45.347769Z"
    }
   }
  },
  {
   "cell_type": "code",
   "execution_count": null,
   "outputs": [],
   "source": [],
   "metadata": {
    "collapsed": false,
    "ExecuteTime": {
     "start_time": "2023-05-23T13:52:45.738802Z",
     "end_time": "2023-05-23T14:00:40.161032Z"
    }
   }
  },
  {
   "cell_type": "code",
   "execution_count": 77,
   "outputs": [],
   "source": [
    "#split data into train, val, test\n",
    "#train = 70%, val = 20%, test = 10%\n",
    "\n",
    "train_df = master_df[:int(len(master_df)*0.7)]\n",
    "val_df = master_df[int(len(master_df)*0.7):int(len(master_df)*0.9)]\n",
    "test_df = master_df[int(len(master_df)*0.9):]\n"
   ],
   "metadata": {
    "collapsed": false,
    "ExecuteTime": {
     "start_time": "2023-05-24T14:20:27.837983Z",
     "end_time": "2023-05-24T14:20:27.842491Z"
    }
   }
  },
  {
   "cell_type": "code",
   "execution_count": null,
   "outputs": [],
   "source": [
    "#normalize data\n",
    "train_mean = train_df.mean()\n",
    "train_std = train_df.std()\n",
    "\n",
    "train_df = (train_df - train_mean) / train_std\n",
    "val_df = (val_df - train_mean) / train_std\n",
    "test_df = (test_df - train_mean) / train_std"
   ],
   "metadata": {
    "collapsed": false,
    "ExecuteTime": {
     "start_time": "2023-05-23T11:50:32.260708Z",
     "end_time": "2023-05-23T11:50:32.430395Z"
    }
   }
  },
  {
   "cell_type": "code",
   "execution_count": null,
   "outputs": [],
   "source": [
    "df_std = (master_df - train_mean) / train_std\n",
    "df_std = df_std.melt(var_name='Column', value_name='Normalized')\n",
    "plt.figure(figsize=(12, 6))\n",
    "ax = sns.violinplot(x='Column', y='Normalized', data=df_std)\n",
    "_ = ax.set_xticklabels(master_df.keys(), rotation=90)"
   ],
   "metadata": {
    "collapsed": false,
    "ExecuteTime": {
     "start_time": "2023-05-23T11:50:32.278925Z",
     "end_time": "2023-05-23T11:50:33.176017Z"
    }
   }
  },
  {
   "cell_type": "code",
   "execution_count": null,
   "outputs": [],
   "source": [],
   "metadata": {
    "collapsed": false
   }
  },
  {
   "cell_type": "code",
   "execution_count": null,
   "outputs": [],
   "source": [],
   "metadata": {
    "collapsed": false
   }
  }
 ],
 "metadata": {
  "kernelspec": {
   "display_name": "Python 3",
   "language": "python",
   "name": "python3"
  },
  "language_info": {
   "codemirror_mode": {
    "name": "ipython",
    "version": 2
   },
   "file_extension": ".py",
   "mimetype": "text/x-python",
   "name": "python",
   "nbconvert_exporter": "python",
   "pygments_lexer": "ipython2",
   "version": "2.7.6"
  }
 },
 "nbformat": 4,
 "nbformat_minor": 0
}
