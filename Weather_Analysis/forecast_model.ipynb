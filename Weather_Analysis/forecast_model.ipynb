{
 "cells": [
  {
   "cell_type": "markdown",
   "source": [
    " use neural network to predict the change in the ecmwf-eps from the previous cycle run 12 hours ago for days 9-14\n",
    " ### current model features\n",
    "- the difference between the new ecmwf forecast for day 9 and the previous emcwf-eps forecast for day 9[x]\n",
    "- the difference between the new emcwf-eps forecast for day 8 and the previous emcwf-eps forecast for day 8[x]\n",
    "- the difference between the new gfs-ens-bc forecast for days 9-14 and the previous emcwf-eps forecast for days 9-14[x]\n",
    "- the difference between the new cmc-ens forecast for days 9-14 and the new gfs-ens-bc  forecast for days 9-14[x]\n",
    "\n",
    "### new feature ideas\n",
    "- rain data\n",
    "- wind data\n",
    "- ???"
   ],
   "metadata": {
    "collapsed": false
   }
  },
  {
   "cell_type": "code",
   "execution_count": 1,
   "outputs": [],
   "source": [
    "import pandas as pd\n",
    "import glob\n",
    "import matplotlib.pyplot as plt\n",
    "from datetime import datetime, time"
   ],
   "metadata": {
    "collapsed": false,
    "ExecuteTime": {
     "start_time": "2023-05-23T09:56:43.257630Z",
     "end_time": "2023-05-23T09:56:44.835911Z"
    }
   }
  },
  {
   "cell_type": "code",
   "execution_count": 2,
   "outputs": [],
   "source": [
    "path = \"RawData\""
   ],
   "metadata": {
    "collapsed": false,
    "ExecuteTime": {
     "start_time": "2023-05-23T09:56:44.837000Z",
     "end_time": "2023-05-23T09:56:44.839804Z"
    }
   }
  },
  {
   "cell_type": "code",
   "execution_count": 3,
   "outputs": [],
   "source": [
    "def extract_date_time(filename):\n",
    "    \"\"\"\n",
    "    extract the date and time from the filename\n",
    "    :param filename:\n",
    "    :return:\n",
    "    \"\"\"\n",
    "    parts = filename.split('.')\n",
    "    date = parts[1]\n",
    "    time = parts[2]\n",
    "    return date, time"
   ],
   "metadata": {
    "collapsed": false,
    "ExecuteTime": {
     "start_time": "2023-05-23T09:56:44.839940Z",
     "end_time": "2023-05-23T09:56:44.843176Z"
    }
   }
  },
  {
   "cell_type": "code",
   "execution_count": 4,
   "outputs": [],
   "source": [
    "def get_date(df, file):\n",
    "    \"\"\"get the date from the dataframe and the time from the filename and combine them into a datetime object\n",
    "    :param df: dataframe containing the date\n",
    "    :param file: filename containing the time\n",
    "    :return: datetime object\n",
    "    \"\"\"\n",
    "    date_str = df[df.iloc[:, 2] == 1].iloc[0]['Date']\n",
    "    time_str = str(file.split('.')[2])\n",
    "    date = datetime.strptime(date_str, '%Y-%m-%d')\n",
    "    time_value = time(int(time_str), 0)\n",
    "    combined_datetime = datetime.combine(date.date(), time_value)\n",
    "    return combined_datetime"
   ],
   "metadata": {
    "collapsed": false,
    "ExecuteTime": {
     "start_time": "2023-05-23T09:56:44.843481Z",
     "end_time": "2023-05-23T09:56:44.847150Z"
    }
   }
  },
  {
   "cell_type": "code",
   "execution_count": 5,
   "outputs": [],
   "source": [
    "ecmwf_files = glob.glob(path + '/ecmwf.*.[01][02].gw_hdd.csv')\n",
    "ecmwf_sorted_files = sorted(ecmwf_files, key=lambda x: (x.split('.')[1], x.split('.')[2]))[3:]\n",
    "\n",
    "ecmwf_eps_files = glob.glob(path + '/ecmwf-eps.*.[01][02].gw_hdd.csv')\n",
    "ecmwf_eps_sorted_files = sorted(ecmwf_eps_files, key=lambda x: (x.split('.')[1], x.split('.')[2]))[2:]\n",
    "\n",
    "gfs_ens_bc_files = glob.glob(path + '/gfs-ens-bc.*.[01][02].gw_hdd.csv')\n",
    "gfs_ens_bc_sorted_files = sorted(gfs_ens_bc_files, key=lambda x: (x.split('.')[1], x.split('.')[2]))[2:]"
   ],
   "metadata": {
    "collapsed": false,
    "ExecuteTime": {
     "start_time": "2023-05-23T09:56:44.850708Z",
     "end_time": "2023-05-23T09:56:45.193309Z"
    }
   }
  },
  {
   "cell_type": "code",
   "execution_count": 6,
   "outputs": [],
   "source": [
    "set1 = set((extract_date_time(filename) for filename in ecmwf_sorted_files))\n",
    "set2 = set((extract_date_time(filename) for filename in ecmwf_eps_sorted_files))"
   ],
   "metadata": {
    "collapsed": false,
    "ExecuteTime": {
     "start_time": "2023-05-23T09:56:45.197402Z",
     "end_time": "2023-05-23T09:56:45.199525Z"
    }
   }
  },
  {
   "cell_type": "code",
   "execution_count": 7,
   "outputs": [],
   "source": [
    "ecmwf_sorted_files = [filename for filename in ecmwf_sorted_files if extract_date_time(filename) in set2]\n",
    "ecmwf_eps_sorted_files = [filename for filename in ecmwf_eps_sorted_files if extract_date_time(filename) in set1]"
   ],
   "metadata": {
    "collapsed": false,
    "ExecuteTime": {
     "start_time": "2023-05-23T09:56:45.204004Z",
     "end_time": "2023-05-23T09:56:45.206234Z"
    }
   }
  },
  {
   "cell_type": "code",
   "execution_count": 8,
   "outputs": [],
   "source": [
    "master_set = set((extract_date_time(filename) for filename in ecmwf_sorted_files))\n",
    "gfs_ens_bc_sorted_files = [filename for filename in gfs_ens_bc_sorted_files if extract_date_time(filename) in master_set]"
   ],
   "metadata": {
    "collapsed": false,
    "ExecuteTime": {
     "start_time": "2023-05-23T09:56:45.210963Z",
     "end_time": "2023-05-23T09:56:45.213228Z"
    }
   }
  },
  {
   "cell_type": "code",
   "execution_count": 9,
   "outputs": [],
   "source": [
    "master_set = set((extract_date_time(filename) for filename in gfs_ens_bc_sorted_files))"
   ],
   "metadata": {
    "collapsed": false,
    "ExecuteTime": {
     "start_time": "2023-05-23T09:56:45.213568Z",
     "end_time": "2023-05-23T09:56:45.221050Z"
    }
   }
  },
  {
   "cell_type": "code",
   "execution_count": 10,
   "outputs": [],
   "source": [
    "ecmwf_sorted_files = [filename for filename in ecmwf_sorted_files if extract_date_time(filename) in master_set]\n",
    "ecmwf_eps_sorted_files = [filename for filename in ecmwf_eps_sorted_files if extract_date_time(filename) in master_set]\n",
    "gfs_ens_bc_sorted_files = [filename for filename in gfs_ens_bc_sorted_files if extract_date_time(filename) in master_set]"
   ],
   "metadata": {
    "collapsed": false,
    "ExecuteTime": {
     "start_time": "2023-05-23T09:56:45.226437Z",
     "end_time": "2023-05-23T09:56:45.228390Z"
    }
   }
  },
  {
   "cell_type": "code",
   "execution_count": 10,
   "outputs": [],
   "source": [],
   "metadata": {
    "collapsed": false,
    "ExecuteTime": {
     "start_time": "2023-05-23T09:56:45.228979Z",
     "end_time": "2023-05-23T09:56:45.230619Z"
    }
   }
  },
  {
   "cell_type": "code",
   "execution_count": 11,
   "outputs": [
    {
     "name": "stdout",
     "output_type": "stream",
     "text": [
      "3498\n",
      "3498\n",
      "3498\n"
     ]
    }
   ],
   "source": [
    "print(len(ecmwf_sorted_files))\n",
    "print(len(ecmwf_eps_sorted_files))\n",
    "print(len(gfs_ens_bc_sorted_files))"
   ],
   "metadata": {
    "collapsed": false,
    "ExecuteTime": {
     "start_time": "2023-05-23T09:56:45.232084Z",
     "end_time": "2023-05-23T09:56:45.234574Z"
    }
   }
  },
  {
   "cell_type": "code",
   "execution_count": 11,
   "outputs": [],
   "source": [],
   "metadata": {
    "collapsed": false,
    "ExecuteTime": {
     "start_time": "2023-05-23T09:56:45.235070Z",
     "end_time": "2023-05-23T09:56:45.237177Z"
    }
   }
  },
  {
   "cell_type": "markdown",
   "source": [
    "### step 1 get changes in ecmwf-eps compared to 12 hours ago for days 9-14"
   ],
   "metadata": {
    "collapsed": false
   }
  },
  {
   "cell_type": "code",
   "execution_count": 11,
   "outputs": [],
   "source": [],
   "metadata": {
    "collapsed": false,
    "ExecuteTime": {
     "start_time": "2023-05-23T09:56:45.239641Z",
     "end_time": "2023-05-23T09:56:45.241458Z"
    }
   }
  },
  {
   "cell_type": "code",
   "execution_count": 12,
   "outputs": [],
   "source": [
    "ecmwf_eps_change_df = pd.DataFrame(columns=['diff_9', 'diff_10', 'diff_11', 'diff_12',\n",
    "                                  'diff_13', 'diff_14'])\n",
    "\n",
    "for i in range(1, len(ecmwf_eps_sorted_files)):\n",
    "    ecmwf_eps_df = pd.read_csv(ecmwf_eps_sorted_files[i])\n",
    "    prev_ecmwf_eps_df = pd.read_csv(ecmwf_eps_sorted_files[i-1])\n",
    "    date = get_date(ecmwf_eps_df, ecmwf_eps_sorted_files[i])\n",
    "\n",
    "    changes = []\n",
    "    for day in range(8, 14):\n",
    "        changes.append(ecmwf_eps_df.iloc[day]['Value'] - prev_ecmwf_eps_df.iloc[day]['Value'])\n",
    "    new_row = pd.DataFrame([changes], columns=ecmwf_eps_change_df.columns, index=[date])\n",
    "    ecmwf_eps_change_df = pd.concat([ecmwf_eps_change_df, new_row])\n"
   ],
   "metadata": {
    "collapsed": false,
    "ExecuteTime": {
     "start_time": "2023-05-23T09:56:45.245833Z",
     "end_time": "2023-05-23T09:56:53.338259Z"
    }
   }
  },
  {
   "cell_type": "code",
   "execution_count": 13,
   "outputs": [
    {
     "data": {
      "text/plain": "                     diff_9  diff_10  diff_11  diff_12  diff_13  diff_14\n2018-07-11 00:00:00  -0.004    0.002   -0.001   -0.002    0.002   -0.002\n2018-07-12 12:00:00   0.001    0.000   -0.001   -0.001   -0.001   -0.001\n2018-07-12 00:00:00   0.001   -0.002   -0.002    0.001   -0.001    0.003\n2018-07-13 12:00:00   0.000   -0.001    0.001    0.001    0.006    0.003\n2018-07-13 00:00:00  -0.003   -0.001   -0.001    0.005   -0.002   -0.003\n...                     ...      ...      ...      ...      ...      ...\n2023-05-15 00:00:00  -1.345    3.692   -0.092   -2.278   -0.519   -0.550\n2023-05-16 12:00:00  -0.195   -0.020   -0.281   -0.132    0.050   -0.327\n2023-05-16 00:00:00   3.558   -0.416   -2.051   -0.182   -1.027    0.912\n2023-05-17 12:00:00   0.261    0.335    0.252    0.221    0.176    0.538\n2023-05-17 00:00:00  -0.257   -2.112    0.004   -0.978    1.282   -0.499\n\n[3497 rows x 6 columns]",
      "text/html": "<div>\n<style scoped>\n    .dataframe tbody tr th:only-of-type {\n        vertical-align: middle;\n    }\n\n    .dataframe tbody tr th {\n        vertical-align: top;\n    }\n\n    .dataframe thead th {\n        text-align: right;\n    }\n</style>\n<table border=\"1\" class=\"dataframe\">\n  <thead>\n    <tr style=\"text-align: right;\">\n      <th></th>\n      <th>diff_9</th>\n      <th>diff_10</th>\n      <th>diff_11</th>\n      <th>diff_12</th>\n      <th>diff_13</th>\n      <th>diff_14</th>\n    </tr>\n  </thead>\n  <tbody>\n    <tr>\n      <th>2018-07-11 00:00:00</th>\n      <td>-0.004</td>\n      <td>0.002</td>\n      <td>-0.001</td>\n      <td>-0.002</td>\n      <td>0.002</td>\n      <td>-0.002</td>\n    </tr>\n    <tr>\n      <th>2018-07-12 12:00:00</th>\n      <td>0.001</td>\n      <td>0.000</td>\n      <td>-0.001</td>\n      <td>-0.001</td>\n      <td>-0.001</td>\n      <td>-0.001</td>\n    </tr>\n    <tr>\n      <th>2018-07-12 00:00:00</th>\n      <td>0.001</td>\n      <td>-0.002</td>\n      <td>-0.002</td>\n      <td>0.001</td>\n      <td>-0.001</td>\n      <td>0.003</td>\n    </tr>\n    <tr>\n      <th>2018-07-13 12:00:00</th>\n      <td>0.000</td>\n      <td>-0.001</td>\n      <td>0.001</td>\n      <td>0.001</td>\n      <td>0.006</td>\n      <td>0.003</td>\n    </tr>\n    <tr>\n      <th>2018-07-13 00:00:00</th>\n      <td>-0.003</td>\n      <td>-0.001</td>\n      <td>-0.001</td>\n      <td>0.005</td>\n      <td>-0.002</td>\n      <td>-0.003</td>\n    </tr>\n    <tr>\n      <th>...</th>\n      <td>...</td>\n      <td>...</td>\n      <td>...</td>\n      <td>...</td>\n      <td>...</td>\n      <td>...</td>\n    </tr>\n    <tr>\n      <th>2023-05-15 00:00:00</th>\n      <td>-1.345</td>\n      <td>3.692</td>\n      <td>-0.092</td>\n      <td>-2.278</td>\n      <td>-0.519</td>\n      <td>-0.550</td>\n    </tr>\n    <tr>\n      <th>2023-05-16 12:00:00</th>\n      <td>-0.195</td>\n      <td>-0.020</td>\n      <td>-0.281</td>\n      <td>-0.132</td>\n      <td>0.050</td>\n      <td>-0.327</td>\n    </tr>\n    <tr>\n      <th>2023-05-16 00:00:00</th>\n      <td>3.558</td>\n      <td>-0.416</td>\n      <td>-2.051</td>\n      <td>-0.182</td>\n      <td>-1.027</td>\n      <td>0.912</td>\n    </tr>\n    <tr>\n      <th>2023-05-17 12:00:00</th>\n      <td>0.261</td>\n      <td>0.335</td>\n      <td>0.252</td>\n      <td>0.221</td>\n      <td>0.176</td>\n      <td>0.538</td>\n    </tr>\n    <tr>\n      <th>2023-05-17 00:00:00</th>\n      <td>-0.257</td>\n      <td>-2.112</td>\n      <td>0.004</td>\n      <td>-0.978</td>\n      <td>1.282</td>\n      <td>-0.499</td>\n    </tr>\n  </tbody>\n</table>\n<p>3497 rows × 6 columns</p>\n</div>"
     },
     "execution_count": 13,
     "metadata": {},
     "output_type": "execute_result"
    }
   ],
   "source": [
    "ecmwf_eps_change_df"
   ],
   "metadata": {
    "collapsed": false,
    "ExecuteTime": {
     "start_time": "2023-05-23T09:56:53.343965Z",
     "end_time": "2023-05-23T09:56:53.349043Z"
    }
   }
  },
  {
   "cell_type": "code",
   "execution_count": 13,
   "outputs": [],
   "source": [],
   "metadata": {
    "collapsed": false,
    "ExecuteTime": {
     "start_time": "2023-05-23T09:56:53.349328Z",
     "end_time": "2023-05-23T09:56:53.351007Z"
    }
   }
  },
  {
   "cell_type": "markdown",
   "source": [
    "## step 2 recreate model"
   ],
   "metadata": {
    "collapsed": false
   }
  },
  {
   "cell_type": "markdown",
   "source": [
    "### step 2.1 get difference between the new ecmwf forecast for day 9 and the previous ecmwf-eps forecast for day 9"
   ],
   "metadata": {
    "collapsed": false
   }
  },
  {
   "cell_type": "markdown",
   "source": [
    "### problems:\n",
    "- not all dates are in both sets of data"
   ],
   "metadata": {
    "collapsed": false
   }
  },
  {
   "cell_type": "code",
   "execution_count": 14,
   "outputs": [],
   "source": [
    "ecmwf_change_df = pd.DataFrame(columns=['diff_8', 'diff_9',])\n",
    "for i in range(1, len(ecmwf_sorted_files)-1):\n",
    "    ecmwf_df = pd.read_csv(ecmwf_sorted_files[i])\n",
    "    ecmwf_eps_df = pd.read_csv(ecmwf_eps_sorted_files[i-1]) #one day behind\n",
    "\n",
    "    ecmwf = ecmwf_df.iloc[8]\n",
    "    ecmwf_eps = ecmwf_eps_df.iloc[9]\n",
    "\n",
    "    date =get_date(ecmwf_df, ecmwf_sorted_files[i])\n",
    "    changes = []\n",
    "    for day in range(8,10):\n",
    "        changes.append(ecmwf_df.iloc[day]['Value'] - ecmwf_eps_df.iloc[day]['Value'])\n",
    "    new_row = pd.DataFrame([changes], columns=ecmwf_change_df.columns, index=[date])\n",
    "    ecmwf_change_df = pd.concat([ecmwf_change_df, new_row])"
   ],
   "metadata": {
    "collapsed": false,
    "ExecuteTime": {
     "start_time": "2023-05-23T09:56:53.354519Z",
     "end_time": "2023-05-23T09:57:00.700729Z"
    }
   }
  },
  {
   "cell_type": "code",
   "execution_count": 17,
   "outputs": [
    {
     "data": {
      "text/plain": "                     diff_8  diff_9\n2018-07-11 00:00:00  -0.002   0.005\n2018-07-12 12:00:00   0.002   0.000\n2018-07-12 00:00:00   0.003   0.002\n2018-07-13 12:00:00   0.000   0.002\n2018-07-13 00:00:00   0.000   0.000\n...                     ...     ...\n2023-05-15 12:00:00  -0.412  -0.188\n2023-05-15 00:00:00  -1.429   3.291\n2023-05-16 12:00:00  -0.251  -0.294\n2023-05-16 00:00:00   3.552  -0.150\n2023-05-17 12:00:00  -0.022   0.218\n\n[3496 rows x 2 columns]",
      "text/html": "<div>\n<style scoped>\n    .dataframe tbody tr th:only-of-type {\n        vertical-align: middle;\n    }\n\n    .dataframe tbody tr th {\n        vertical-align: top;\n    }\n\n    .dataframe thead th {\n        text-align: right;\n    }\n</style>\n<table border=\"1\" class=\"dataframe\">\n  <thead>\n    <tr style=\"text-align: right;\">\n      <th></th>\n      <th>diff_8</th>\n      <th>diff_9</th>\n    </tr>\n  </thead>\n  <tbody>\n    <tr>\n      <th>2018-07-11 00:00:00</th>\n      <td>-0.002</td>\n      <td>0.005</td>\n    </tr>\n    <tr>\n      <th>2018-07-12 12:00:00</th>\n      <td>0.002</td>\n      <td>0.000</td>\n    </tr>\n    <tr>\n      <th>2018-07-12 00:00:00</th>\n      <td>0.003</td>\n      <td>0.002</td>\n    </tr>\n    <tr>\n      <th>2018-07-13 12:00:00</th>\n      <td>0.000</td>\n      <td>0.002</td>\n    </tr>\n    <tr>\n      <th>2018-07-13 00:00:00</th>\n      <td>0.000</td>\n      <td>0.000</td>\n    </tr>\n    <tr>\n      <th>...</th>\n      <td>...</td>\n      <td>...</td>\n    </tr>\n    <tr>\n      <th>2023-05-15 12:00:00</th>\n      <td>-0.412</td>\n      <td>-0.188</td>\n    </tr>\n    <tr>\n      <th>2023-05-15 00:00:00</th>\n      <td>-1.429</td>\n      <td>3.291</td>\n    </tr>\n    <tr>\n      <th>2023-05-16 12:00:00</th>\n      <td>-0.251</td>\n      <td>-0.294</td>\n    </tr>\n    <tr>\n      <th>2023-05-16 00:00:00</th>\n      <td>3.552</td>\n      <td>-0.150</td>\n    </tr>\n    <tr>\n      <th>2023-05-17 12:00:00</th>\n      <td>-0.022</td>\n      <td>0.218</td>\n    </tr>\n  </tbody>\n</table>\n<p>3496 rows × 2 columns</p>\n</div>"
     },
     "execution_count": 17,
     "metadata": {},
     "output_type": "execute_result"
    }
   ],
   "source": [
    "ecmwf_change_df"
   ],
   "metadata": {
    "collapsed": false,
    "ExecuteTime": {
     "start_time": "2023-05-23T09:57:46.771179Z",
     "end_time": "2023-05-23T09:57:47.217586Z"
    }
   }
  },
  {
   "cell_type": "markdown",
   "source": [
    "### step 2.2 the difference between the new emcwf-eps forecast for day 8 and the previous emcwf-eps forecast for day 8 (not possible as the new ecmwf-eps forecast is not available because it will not be released yet???)"
   ],
   "metadata": {
    "collapsed": false
   }
  },
  {
   "cell_type": "markdown",
   "source": [
    "### step 2.3 the difference between the new gfs-ens-bc forecast for days 9-14 and the previous emcwf-eps forecast for days 9-14"
   ],
   "metadata": {
    "collapsed": false
   }
  },
  {
   "cell_type": "code",
   "execution_count": 15,
   "outputs": [],
   "source": [
    "gfs_ens_bc_change_df = pd.DataFrame(columns=['diff_9', 'diff_10', 'diff_11', 'diff_12',\n",
    "                                  'diff_13', 'diff_14'])\n",
    "\n",
    "for i in range(1, len(gfs_ens_bc_sorted_files)):\n",
    "    gfs_ens_bc_df = pd.read_csv(gfs_ens_bc_sorted_files[i])\n",
    "    prev_ecmwf_eps_df = pd.read_csv(ecmwf_eps_sorted_files[i-1])\n",
    "    date = get_date(gfs_ens_bc_df, gfs_ens_bc_sorted_files[i])\n",
    "\n",
    "    changes = []\n",
    "    for day in range(8, 14):\n",
    "        changes.append(gfs_ens_bc_df.iloc[day]['Value'] - prev_ecmwf_eps_df.iloc[day]['Value'])\n",
    "    new_row = pd.DataFrame([changes], columns=gfs_ens_bc_change_df.columns, index=[date])\n",
    "    gfs_ens_bc_change_df = pd.concat([gfs_ens_bc_change_df, new_row])"
   ],
   "metadata": {
    "collapsed": false,
    "ExecuteTime": {
     "start_time": "2023-05-23T09:57:00.705717Z",
     "end_time": "2023-05-23T09:57:08.145570Z"
    }
   }
  },
  {
   "cell_type": "code",
   "execution_count": 16,
   "outputs": [
    {
     "data": {
      "text/plain": "                     diff_9  diff_10  diff_11  diff_12  diff_13  diff_14\n2018-07-11 00:00:00   0.003    0.004    0.000    0.011    0.015    0.014\n2018-07-12 12:00:00   0.004    0.001    0.000    0.005    0.008    0.018\n2018-07-12 00:00:00   0.004    0.000    0.004    0.011    0.018    0.024\n2018-07-13 12:00:00   0.001    0.002    0.004    0.009    0.021    0.015\n2018-07-13 00:00:00   0.000    0.002    0.008    0.024    0.020    0.009\n...                     ...      ...      ...      ...      ...      ...\n2023-05-15 00:00:00  -0.899    3.317   -0.923   -1.853    0.098   -0.197\n2023-05-16 12:00:00   0.403   -0.348   -0.853    0.580    1.175    0.265\n2023-05-16 00:00:00   3.752   -0.431   -1.366    0.107   -0.920    0.500\n2023-05-17 12:00:00   0.203    0.060    1.151    0.556    0.098   -0.652\n2023-05-17 00:00:00  -0.039   -1.347    0.176   -1.086    0.432   -1.480\n\n[3497 rows x 6 columns]",
      "text/html": "<div>\n<style scoped>\n    .dataframe tbody tr th:only-of-type {\n        vertical-align: middle;\n    }\n\n    .dataframe tbody tr th {\n        vertical-align: top;\n    }\n\n    .dataframe thead th {\n        text-align: right;\n    }\n</style>\n<table border=\"1\" class=\"dataframe\">\n  <thead>\n    <tr style=\"text-align: right;\">\n      <th></th>\n      <th>diff_9</th>\n      <th>diff_10</th>\n      <th>diff_11</th>\n      <th>diff_12</th>\n      <th>diff_13</th>\n      <th>diff_14</th>\n    </tr>\n  </thead>\n  <tbody>\n    <tr>\n      <th>2018-07-11 00:00:00</th>\n      <td>0.003</td>\n      <td>0.004</td>\n      <td>0.000</td>\n      <td>0.011</td>\n      <td>0.015</td>\n      <td>0.014</td>\n    </tr>\n    <tr>\n      <th>2018-07-12 12:00:00</th>\n      <td>0.004</td>\n      <td>0.001</td>\n      <td>0.000</td>\n      <td>0.005</td>\n      <td>0.008</td>\n      <td>0.018</td>\n    </tr>\n    <tr>\n      <th>2018-07-12 00:00:00</th>\n      <td>0.004</td>\n      <td>0.000</td>\n      <td>0.004</td>\n      <td>0.011</td>\n      <td>0.018</td>\n      <td>0.024</td>\n    </tr>\n    <tr>\n      <th>2018-07-13 12:00:00</th>\n      <td>0.001</td>\n      <td>0.002</td>\n      <td>0.004</td>\n      <td>0.009</td>\n      <td>0.021</td>\n      <td>0.015</td>\n    </tr>\n    <tr>\n      <th>2018-07-13 00:00:00</th>\n      <td>0.000</td>\n      <td>0.002</td>\n      <td>0.008</td>\n      <td>0.024</td>\n      <td>0.020</td>\n      <td>0.009</td>\n    </tr>\n    <tr>\n      <th>...</th>\n      <td>...</td>\n      <td>...</td>\n      <td>...</td>\n      <td>...</td>\n      <td>...</td>\n      <td>...</td>\n    </tr>\n    <tr>\n      <th>2023-05-15 00:00:00</th>\n      <td>-0.899</td>\n      <td>3.317</td>\n      <td>-0.923</td>\n      <td>-1.853</td>\n      <td>0.098</td>\n      <td>-0.197</td>\n    </tr>\n    <tr>\n      <th>2023-05-16 12:00:00</th>\n      <td>0.403</td>\n      <td>-0.348</td>\n      <td>-0.853</td>\n      <td>0.580</td>\n      <td>1.175</td>\n      <td>0.265</td>\n    </tr>\n    <tr>\n      <th>2023-05-16 00:00:00</th>\n      <td>3.752</td>\n      <td>-0.431</td>\n      <td>-1.366</td>\n      <td>0.107</td>\n      <td>-0.920</td>\n      <td>0.500</td>\n    </tr>\n    <tr>\n      <th>2023-05-17 12:00:00</th>\n      <td>0.203</td>\n      <td>0.060</td>\n      <td>1.151</td>\n      <td>0.556</td>\n      <td>0.098</td>\n      <td>-0.652</td>\n    </tr>\n    <tr>\n      <th>2023-05-17 00:00:00</th>\n      <td>-0.039</td>\n      <td>-1.347</td>\n      <td>0.176</td>\n      <td>-1.086</td>\n      <td>0.432</td>\n      <td>-1.480</td>\n    </tr>\n  </tbody>\n</table>\n<p>3497 rows × 6 columns</p>\n</div>"
     },
     "execution_count": 16,
     "metadata": {},
     "output_type": "execute_result"
    }
   ],
   "source": [
    "gfs_ens_bc_change_df"
   ],
   "metadata": {
    "collapsed": false,
    "ExecuteTime": {
     "start_time": "2023-05-23T09:57:08.150838Z",
     "end_time": "2023-05-23T09:57:08.153440Z"
    }
   }
  },
  {
   "cell_type": "code",
   "execution_count": 16,
   "outputs": [],
   "source": [],
   "metadata": {
    "collapsed": false,
    "ExecuteTime": {
     "start_time": "2023-05-23T09:57:08.153755Z",
     "end_time": "2023-05-23T09:57:08.155400Z"
    }
   }
  }
 ],
 "metadata": {
  "kernelspec": {
   "display_name": "Python 3",
   "language": "python",
   "name": "python3"
  },
  "language_info": {
   "codemirror_mode": {
    "name": "ipython",
    "version": 2
   },
   "file_extension": ".py",
   "mimetype": "text/x-python",
   "name": "python",
   "nbconvert_exporter": "python",
   "pygments_lexer": "ipython2",
   "version": "2.7.6"
  }
 },
 "nbformat": 4,
 "nbformat_minor": 0
}
