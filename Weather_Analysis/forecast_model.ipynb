{
 "cells": [
  {
   "cell_type": "markdown",
   "source": [
    " use neural network to predict the change in the ecmwf-eps from the previous cycle run 12 hours ago for days 9-14\n",
    " ### current model features\n",
    "- the difference between the new ecmwf forecast for day 9 and the previous emcwf-eps forecast for day 9[x]\n",
    "- the difference between the new emcwf-eps forecast for day 8 and the previous emcwf-eps forecast for day 8[x]\n",
    "- the difference between the new gfs-ens-bc forecast for days 9-14 and the previous emcwf-eps forecast for days 9-14[x]\n",
    "- the difference between the new cmc-ens forecast for days 9-14 and the new gfs-ens-bc  forecast for days 9-14[x]\n",
    "\n",
    "### new feature ideas\n",
    "- rain data\n",
    "- wind data\n",
    "- past errors\n",
    "- ???"
   ],
   "metadata": {
    "collapsed": false
   }
  },
  {
   "cell_type": "code",
   "execution_count": 1,
   "outputs": [],
   "source": [
    "import pandas as pd\n",
    "import glob\n",
    "import matplotlib.pyplot as plt\n",
    "from datetime import datetime, time\n",
    "import numpy as np\n",
    "import seaborn as sns\n",
    "import matplotlib.pyplot as plt\n",
    "from sklearn.ensemble import RandomForestRegressor\n",
    "from sklearn.model_selection import train_test_split\n",
    "from sklearn.metrics import mean_squared_error"
   ],
   "metadata": {
    "collapsed": false,
    "ExecuteTime": {
     "start_time": "2023-05-23T12:13:18.996100Z",
     "end_time": "2023-05-23T12:13:19.186564Z"
    }
   }
  },
  {
   "cell_type": "code",
   "execution_count": 2,
   "outputs": [],
   "source": [
    "import torch\n",
    "import torch.nn as nn"
   ],
   "metadata": {
    "collapsed": false,
    "ExecuteTime": {
     "start_time": "2023-05-23T12:13:19.187207Z",
     "end_time": "2023-05-23T12:13:20.452836Z"
    }
   }
  },
  {
   "cell_type": "code",
   "execution_count": 3,
   "outputs": [],
   "source": [
    "path = \"RawData\""
   ],
   "metadata": {
    "collapsed": false,
    "ExecuteTime": {
     "start_time": "2023-05-23T12:13:20.454740Z",
     "end_time": "2023-05-23T12:13:20.457187Z"
    }
   }
  },
  {
   "cell_type": "code",
   "execution_count": 4,
   "outputs": [],
   "source": [
    "def extract_date_time(filename):\n",
    "    \"\"\"\n",
    "    extract the date and time from the filename\n",
    "    :param filename:\n",
    "    :return:\n",
    "    \"\"\"\n",
    "    parts = filename.split('.')\n",
    "    date = parts[1]\n",
    "    time = parts[2]\n",
    "    return date, time"
   ],
   "metadata": {
    "collapsed": false,
    "ExecuteTime": {
     "start_time": "2023-05-23T12:13:20.456500Z",
     "end_time": "2023-05-23T12:13:20.459938Z"
    }
   }
  },
  {
   "cell_type": "code",
   "execution_count": 5,
   "outputs": [],
   "source": [
    "def get_date(df, file):\n",
    "    \"\"\"get the date from the dataframe and the time from the filename and combine them into a datetime object\n",
    "    :param df: dataframe containing the date\n",
    "    :param file: filename containing the time\n",
    "    :return: datetime object\n",
    "    \"\"\"\n",
    "    date_str = df[df.iloc[:, 2] == 1].iloc[0]['Date']\n",
    "    time_str = str(file.split('.')[2])\n",
    "    date = datetime.strptime(date_str, '%Y-%m-%d')\n",
    "    time_value = time(int(time_str), 0)\n",
    "    combined_datetime = datetime.combine(date.date(), time_value)\n",
    "    return combined_datetime"
   ],
   "metadata": {
    "collapsed": false,
    "ExecuteTime": {
     "start_time": "2023-05-23T12:13:20.462193Z",
     "end_time": "2023-05-23T12:13:20.463628Z"
    }
   }
  },
  {
   "cell_type": "code",
   "execution_count": 6,
   "outputs": [],
   "source": [
    "ecmwf_files = glob.glob(path + '/ecmwf.*.[01][02].gw_hdd.csv')\n",
    "ecmwf_sorted_files = sorted(ecmwf_files, key=lambda x: (x.split('.')[1], x.split('.')[2]))[3:]\n",
    "\n",
    "ecmwf_eps_files = glob.glob(path + '/ecmwf-eps.*.[01][02].gw_hdd.csv')\n",
    "ecmwf_eps_sorted_files = sorted(ecmwf_eps_files, key=lambda x: (x.split('.')[1], x.split('.')[2]))[2:]\n",
    "\n",
    "gfs_ens_bc_files = glob.glob(path + '/gfs-ens-bc.*.[01][02].gw_hdd.csv')\n",
    "gfs_ens_bc_sorted_files = sorted(gfs_ens_bc_files, key=lambda x: (x.split('.')[1], x.split('.')[2]))[2:]\n",
    "\n",
    "cmc_ens_files = glob.glob(path + '/cmc-ens.*.[01][02].gw_hdd.csv')\n",
    "cmc_ens_sorted_files = sorted(cmc_ens_files, key=lambda x: (x.split('.')[1], x.split('.')[2]))[2:]"
   ],
   "metadata": {
    "collapsed": false,
    "ExecuteTime": {
     "start_time": "2023-05-23T12:13:20.466401Z",
     "end_time": "2023-05-23T12:13:20.896322Z"
    }
   }
  },
  {
   "cell_type": "code",
   "execution_count": 7,
   "outputs": [],
   "source": [
    "for _ in range(2):\n",
    "    set1 = set((extract_date_time(filename) for filename in ecmwf_sorted_files))\n",
    "    set2 = set((extract_date_time(filename) for filename in ecmwf_eps_sorted_files))\n",
    "\n",
    "    ecmwf_sorted_files = [filename for filename in ecmwf_sorted_files if extract_date_time(filename) in set2]\n",
    "    ecmwf_eps_sorted_files = [filename for filename in ecmwf_eps_sorted_files if extract_date_time(filename) in set1]\n",
    "    cmc_ens_sorted_files = [filename for filename in cmc_ens_sorted_files if extract_date_time(filename) in set1]\n",
    "\n",
    "    master_set = set((extract_date_time(filename) for filename in cmc_ens_sorted_files))\n",
    "    gfs_ens_bc_sorted_files = [filename for filename in gfs_ens_bc_sorted_files if extract_date_time(filename) in master_set]\n",
    "\n",
    "    master_set = set((extract_date_time(filename) for filename in gfs_ens_bc_sorted_files))\n",
    "\n",
    "    ecmwf_sorted_files = [filename for filename in ecmwf_sorted_files if extract_date_time(filename) in master_set]\n",
    "    ecmwf_eps_sorted_files = [filename for filename in ecmwf_eps_sorted_files if extract_date_time(filename) in master_set]\n",
    "    gfs_ens_bc_sorted_files = [filename for filename in gfs_ens_bc_sorted_files if extract_date_time(filename) in master_set]\n",
    "    cmc_ens_sorted_files = [filename for filename in cmc_ens_sorted_files if extract_date_time(filename) in master_set]"
   ],
   "metadata": {
    "collapsed": false,
    "ExecuteTime": {
     "start_time": "2023-05-23T12:13:20.936215Z",
     "end_time": "2023-05-23T12:13:20.937750Z"
    }
   }
  },
  {
   "cell_type": "code",
   "execution_count": 7,
   "outputs": [],
   "source": [],
   "metadata": {
    "collapsed": false,
    "ExecuteTime": {
     "start_time": "2023-05-23T12:13:20.938213Z",
     "end_time": "2023-05-23T12:13:20.941139Z"
    }
   }
  },
  {
   "cell_type": "code",
   "execution_count": 7,
   "outputs": [],
   "source": [],
   "metadata": {
    "collapsed": false,
    "ExecuteTime": {
     "start_time": "2023-05-23T12:13:20.940823Z",
     "end_time": "2023-05-23T12:13:20.944821Z"
    }
   }
  },
  {
   "cell_type": "code",
   "execution_count": 7,
   "outputs": [],
   "source": [],
   "metadata": {
    "collapsed": false,
    "ExecuteTime": {
     "start_time": "2023-05-23T12:13:20.943507Z",
     "end_time": "2023-05-23T12:13:20.948102Z"
    }
   }
  },
  {
   "cell_type": "code",
   "execution_count": 7,
   "outputs": [],
   "source": [],
   "metadata": {
    "collapsed": false,
    "ExecuteTime": {
     "start_time": "2023-05-23T12:13:20.946562Z",
     "end_time": "2023-05-23T12:13:20.948706Z"
    }
   }
  },
  {
   "cell_type": "code",
   "execution_count": 7,
   "outputs": [],
   "source": [],
   "metadata": {
    "collapsed": false,
    "ExecuteTime": {
     "start_time": "2023-05-23T12:13:20.952254Z",
     "end_time": "2023-05-23T12:13:20.953850Z"
    }
   }
  },
  {
   "cell_type": "code",
   "execution_count": 8,
   "outputs": [
    {
     "name": "stdout",
     "output_type": "stream",
     "text": [
      "3484\n",
      "3484\n",
      "3484\n",
      "3484\n"
     ]
    }
   ],
   "source": [
    "print(len(ecmwf_sorted_files))\n",
    "print(len(ecmwf_eps_sorted_files))\n",
    "print(len(gfs_ens_bc_sorted_files))\n",
    "print(len(cmc_ens_sorted_files))"
   ],
   "metadata": {
    "collapsed": false,
    "ExecuteTime": {
     "start_time": "2023-05-23T12:13:20.955103Z",
     "end_time": "2023-05-23T12:13:20.960536Z"
    }
   }
  },
  {
   "cell_type": "code",
   "execution_count": 8,
   "outputs": [],
   "source": [],
   "metadata": {
    "collapsed": false,
    "ExecuteTime": {
     "start_time": "2023-05-23T12:13:20.958606Z",
     "end_time": "2023-05-23T12:13:20.982038Z"
    }
   }
  },
  {
   "cell_type": "markdown",
   "source": [
    "### step 1 get changes in ecmwf-eps compared to 12 hours ago for days 9-14"
   ],
   "metadata": {
    "collapsed": false
   }
  },
  {
   "cell_type": "code",
   "execution_count": 8,
   "outputs": [],
   "source": [],
   "metadata": {
    "collapsed": false,
    "ExecuteTime": {
     "start_time": "2023-05-23T12:13:20.961046Z",
     "end_time": "2023-05-23T12:13:20.990961Z"
    }
   }
  },
  {
   "cell_type": "code",
   "execution_count": 9,
   "outputs": [],
   "source": [
    "ecmwf_eps_change_df = pd.DataFrame(columns=['ecmwf-eps_9', 'ecmwf-eps_10', 'ecmwf-eps_11', 'ecmwf-eps_12',\n",
    "                                  'ecmwf-eps_13', 'ecmwf-eps_14'])\n",
    "\n",
    "for i in range(1, len(ecmwf_eps_sorted_files)):\n",
    "    ecmwf_eps_df = pd.read_csv(ecmwf_eps_sorted_files[i])\n",
    "    prev_ecmwf_eps_df = pd.read_csv(ecmwf_eps_sorted_files[i-1])\n",
    "    date = get_date(ecmwf_eps_df, ecmwf_eps_sorted_files[i])\n",
    "\n",
    "    changes = []\n",
    "    for day in range(8, 14):\n",
    "        changes.append(ecmwf_eps_df.iloc[day]['Value'] - prev_ecmwf_eps_df.iloc[day]['Value'])\n",
    "    new_row = pd.DataFrame([changes], columns=ecmwf_eps_change_df.columns, index=[date])\n",
    "    ecmwf_eps_change_df = pd.concat([ecmwf_eps_change_df, new_row])\n"
   ],
   "metadata": {
    "collapsed": false,
    "ExecuteTime": {
     "start_time": "2023-05-23T12:13:20.967476Z",
     "end_time": "2023-05-23T12:13:29.160275Z"
    }
   }
  },
  {
   "cell_type": "code",
   "execution_count": 10,
   "outputs": [
    {
     "data": {
      "text/plain": "                     ecmwf-eps_9  ecmwf-eps_10  ecmwf-eps_11  ecmwf-eps_12   \n2018-07-11 00:00:00       -0.004         0.002        -0.001        -0.002  \\\n2018-07-12 12:00:00        0.001         0.000        -0.001        -0.001   \n2018-07-12 00:00:00        0.001        -0.002        -0.002         0.001   \n2018-07-13 12:00:00        0.000        -0.001         0.001         0.001   \n2018-07-13 00:00:00       -0.003        -0.001        -0.001         0.005   \n...                          ...           ...           ...           ...   \n2023-05-15 00:00:00       -1.345         3.692        -0.092        -2.278   \n2023-05-16 12:00:00       -0.195        -0.020        -0.281        -0.132   \n2023-05-16 00:00:00        3.558        -0.416        -2.051        -0.182   \n2023-05-17 12:00:00        0.261         0.335         0.252         0.221   \n2023-05-17 00:00:00       -0.257        -2.112         0.004        -0.978   \n\n                     ecmwf-eps_13  ecmwf-eps_14  \n2018-07-11 00:00:00         0.002        -0.002  \n2018-07-12 12:00:00        -0.001        -0.001  \n2018-07-12 00:00:00        -0.001         0.003  \n2018-07-13 12:00:00         0.006         0.003  \n2018-07-13 00:00:00        -0.002        -0.003  \n...                           ...           ...  \n2023-05-15 00:00:00        -0.519        -0.550  \n2023-05-16 12:00:00         0.050        -0.327  \n2023-05-16 00:00:00        -1.027         0.912  \n2023-05-17 12:00:00         0.176         0.538  \n2023-05-17 00:00:00         1.282        -0.499  \n\n[3483 rows x 6 columns]",
      "text/html": "<div>\n<style scoped>\n    .dataframe tbody tr th:only-of-type {\n        vertical-align: middle;\n    }\n\n    .dataframe tbody tr th {\n        vertical-align: top;\n    }\n\n    .dataframe thead th {\n        text-align: right;\n    }\n</style>\n<table border=\"1\" class=\"dataframe\">\n  <thead>\n    <tr style=\"text-align: right;\">\n      <th></th>\n      <th>ecmwf-eps_9</th>\n      <th>ecmwf-eps_10</th>\n      <th>ecmwf-eps_11</th>\n      <th>ecmwf-eps_12</th>\n      <th>ecmwf-eps_13</th>\n      <th>ecmwf-eps_14</th>\n    </tr>\n  </thead>\n  <tbody>\n    <tr>\n      <th>2018-07-11 00:00:00</th>\n      <td>-0.004</td>\n      <td>0.002</td>\n      <td>-0.001</td>\n      <td>-0.002</td>\n      <td>0.002</td>\n      <td>-0.002</td>\n    </tr>\n    <tr>\n      <th>2018-07-12 12:00:00</th>\n      <td>0.001</td>\n      <td>0.000</td>\n      <td>-0.001</td>\n      <td>-0.001</td>\n      <td>-0.001</td>\n      <td>-0.001</td>\n    </tr>\n    <tr>\n      <th>2018-07-12 00:00:00</th>\n      <td>0.001</td>\n      <td>-0.002</td>\n      <td>-0.002</td>\n      <td>0.001</td>\n      <td>-0.001</td>\n      <td>0.003</td>\n    </tr>\n    <tr>\n      <th>2018-07-13 12:00:00</th>\n      <td>0.000</td>\n      <td>-0.001</td>\n      <td>0.001</td>\n      <td>0.001</td>\n      <td>0.006</td>\n      <td>0.003</td>\n    </tr>\n    <tr>\n      <th>2018-07-13 00:00:00</th>\n      <td>-0.003</td>\n      <td>-0.001</td>\n      <td>-0.001</td>\n      <td>0.005</td>\n      <td>-0.002</td>\n      <td>-0.003</td>\n    </tr>\n    <tr>\n      <th>...</th>\n      <td>...</td>\n      <td>...</td>\n      <td>...</td>\n      <td>...</td>\n      <td>...</td>\n      <td>...</td>\n    </tr>\n    <tr>\n      <th>2023-05-15 00:00:00</th>\n      <td>-1.345</td>\n      <td>3.692</td>\n      <td>-0.092</td>\n      <td>-2.278</td>\n      <td>-0.519</td>\n      <td>-0.550</td>\n    </tr>\n    <tr>\n      <th>2023-05-16 12:00:00</th>\n      <td>-0.195</td>\n      <td>-0.020</td>\n      <td>-0.281</td>\n      <td>-0.132</td>\n      <td>0.050</td>\n      <td>-0.327</td>\n    </tr>\n    <tr>\n      <th>2023-05-16 00:00:00</th>\n      <td>3.558</td>\n      <td>-0.416</td>\n      <td>-2.051</td>\n      <td>-0.182</td>\n      <td>-1.027</td>\n      <td>0.912</td>\n    </tr>\n    <tr>\n      <th>2023-05-17 12:00:00</th>\n      <td>0.261</td>\n      <td>0.335</td>\n      <td>0.252</td>\n      <td>0.221</td>\n      <td>0.176</td>\n      <td>0.538</td>\n    </tr>\n    <tr>\n      <th>2023-05-17 00:00:00</th>\n      <td>-0.257</td>\n      <td>-2.112</td>\n      <td>0.004</td>\n      <td>-0.978</td>\n      <td>1.282</td>\n      <td>-0.499</td>\n    </tr>\n  </tbody>\n</table>\n<p>3483 rows × 6 columns</p>\n</div>"
     },
     "execution_count": 10,
     "metadata": {},
     "output_type": "execute_result"
    }
   ],
   "source": [
    "ecmwf_eps_change_df"
   ],
   "metadata": {
    "collapsed": false,
    "ExecuteTime": {
     "start_time": "2023-05-23T12:13:29.163184Z",
     "end_time": "2023-05-23T12:13:29.172154Z"
    }
   }
  },
  {
   "cell_type": "code",
   "execution_count": 10,
   "outputs": [],
   "source": [],
   "metadata": {
    "collapsed": false,
    "ExecuteTime": {
     "start_time": "2023-05-23T12:13:29.172397Z",
     "end_time": "2023-05-23T12:13:29.173719Z"
    }
   }
  },
  {
   "cell_type": "markdown",
   "source": [
    "## step 2 recreate model"
   ],
   "metadata": {
    "collapsed": false
   }
  },
  {
   "cell_type": "markdown",
   "source": [
    "### step 2.1 get difference between the new ecmwf forecast for day 9 and the previous ecmwf-eps forecast for day 9"
   ],
   "metadata": {
    "collapsed": false
   }
  },
  {
   "cell_type": "markdown",
   "source": [
    "### problems:\n",
    "- not all dates are in both sets of data"
   ],
   "metadata": {
    "collapsed": false
   }
  },
  {
   "cell_type": "code",
   "execution_count": 11,
   "outputs": [],
   "source": [
    "ecmwf_change_df = pd.DataFrame(columns=['ecmwf_diff_8', 'ecmwf_diff_9',])\n",
    "for i in range(1, len(ecmwf_sorted_files)):\n",
    "    ecmwf_df = pd.read_csv(ecmwf_sorted_files[i])\n",
    "    ecmwf_eps_df = pd.read_csv(ecmwf_eps_sorted_files[i-1]) #one day behind\n",
    "\n",
    "    ecmwf = ecmwf_df.iloc[8]\n",
    "    ecmwf_eps = ecmwf_eps_df.iloc[9]\n",
    "\n",
    "    date =get_date(ecmwf_df, ecmwf_sorted_files[i])\n",
    "    changes = []\n",
    "    for day in range(8,10):\n",
    "        changes.append(ecmwf_df.iloc[day]['Value'] - ecmwf_eps_df.iloc[day]['Value'])\n",
    "    new_row = pd.DataFrame([changes], columns=ecmwf_change_df.columns, index=[date])\n",
    "    ecmwf_change_df = pd.concat([ecmwf_change_df, new_row])"
   ],
   "metadata": {
    "collapsed": false,
    "ExecuteTime": {
     "start_time": "2023-05-23T12:13:29.177208Z",
     "end_time": "2023-05-23T12:13:35.996143Z"
    }
   }
  },
  {
   "cell_type": "code",
   "execution_count": 12,
   "outputs": [
    {
     "data": {
      "text/plain": "                     ecmwf_diff_8  ecmwf_diff_9\n2018-07-11 00:00:00        -0.002         0.005\n2018-07-12 12:00:00         0.002         0.000\n2018-07-12 00:00:00         0.003         0.002\n2018-07-13 12:00:00         0.000         0.002\n2018-07-13 00:00:00         0.000         0.000\n...                           ...           ...\n2023-05-15 00:00:00        -1.429         3.291\n2023-05-16 12:00:00        -0.251        -0.294\n2023-05-16 00:00:00         3.552        -0.150\n2023-05-17 12:00:00        -0.022         0.218\n2023-05-17 00:00:00        -0.233        -2.159\n\n[3483 rows x 2 columns]",
      "text/html": "<div>\n<style scoped>\n    .dataframe tbody tr th:only-of-type {\n        vertical-align: middle;\n    }\n\n    .dataframe tbody tr th {\n        vertical-align: top;\n    }\n\n    .dataframe thead th {\n        text-align: right;\n    }\n</style>\n<table border=\"1\" class=\"dataframe\">\n  <thead>\n    <tr style=\"text-align: right;\">\n      <th></th>\n      <th>ecmwf_diff_8</th>\n      <th>ecmwf_diff_9</th>\n    </tr>\n  </thead>\n  <tbody>\n    <tr>\n      <th>2018-07-11 00:00:00</th>\n      <td>-0.002</td>\n      <td>0.005</td>\n    </tr>\n    <tr>\n      <th>2018-07-12 12:00:00</th>\n      <td>0.002</td>\n      <td>0.000</td>\n    </tr>\n    <tr>\n      <th>2018-07-12 00:00:00</th>\n      <td>0.003</td>\n      <td>0.002</td>\n    </tr>\n    <tr>\n      <th>2018-07-13 12:00:00</th>\n      <td>0.000</td>\n      <td>0.002</td>\n    </tr>\n    <tr>\n      <th>2018-07-13 00:00:00</th>\n      <td>0.000</td>\n      <td>0.000</td>\n    </tr>\n    <tr>\n      <th>...</th>\n      <td>...</td>\n      <td>...</td>\n    </tr>\n    <tr>\n      <th>2023-05-15 00:00:00</th>\n      <td>-1.429</td>\n      <td>3.291</td>\n    </tr>\n    <tr>\n      <th>2023-05-16 12:00:00</th>\n      <td>-0.251</td>\n      <td>-0.294</td>\n    </tr>\n    <tr>\n      <th>2023-05-16 00:00:00</th>\n      <td>3.552</td>\n      <td>-0.150</td>\n    </tr>\n    <tr>\n      <th>2023-05-17 12:00:00</th>\n      <td>-0.022</td>\n      <td>0.218</td>\n    </tr>\n    <tr>\n      <th>2023-05-17 00:00:00</th>\n      <td>-0.233</td>\n      <td>-2.159</td>\n    </tr>\n  </tbody>\n</table>\n<p>3483 rows × 2 columns</p>\n</div>"
     },
     "execution_count": 12,
     "metadata": {},
     "output_type": "execute_result"
    }
   ],
   "source": [
    "ecmwf_change_df"
   ],
   "metadata": {
    "collapsed": false,
    "ExecuteTime": {
     "start_time": "2023-05-23T12:13:36.000180Z",
     "end_time": "2023-05-23T12:13:36.004283Z"
    }
   }
  },
  {
   "cell_type": "markdown",
   "source": [
    "### step 2.2 the difference between the new emcwf-eps forecast for day 8 and the previous emcwf-eps forecast for day 8 (not possible as the new ecmwf-eps forecast is not available because it will not be released yet???)"
   ],
   "metadata": {
    "collapsed": false
   }
  },
  {
   "cell_type": "markdown",
   "source": [
    "### step 2.3 the difference between the new gfs-ens-bc forecast for days 9-14 and the previous emcwf-eps forecast for days 9-14"
   ],
   "metadata": {
    "collapsed": false
   }
  },
  {
   "cell_type": "code",
   "execution_count": 13,
   "outputs": [],
   "source": [
    "gfs_ens_bc_change_df = pd.DataFrame(columns=['gfs-ens-bc_9', 'gfs-ens-bc_10', 'gfs-ens-bc_11', 'gfs-ens-bc_12',\n",
    "                                  'gfs-ens-bc_13', 'gfs-ens-bc_14'])\n",
    "\n",
    "for i in range(1, len(gfs_ens_bc_sorted_files)):\n",
    "    gfs_ens_bc_df = pd.read_csv(gfs_ens_bc_sorted_files[i])\n",
    "    prev_ecmwf_eps_df = pd.read_csv(ecmwf_eps_sorted_files[i-1])\n",
    "    date = get_date(gfs_ens_bc_df, gfs_ens_bc_sorted_files[i])\n",
    "\n",
    "    changes = []\n",
    "    for day in range(8, 14):\n",
    "        changes.append(gfs_ens_bc_df.iloc[day]['Value'] - prev_ecmwf_eps_df.iloc[day]['Value'])\n",
    "    new_row = pd.DataFrame([changes], columns=gfs_ens_bc_change_df.columns, index=[date])\n",
    "    gfs_ens_bc_change_df = pd.concat([gfs_ens_bc_change_df, new_row])"
   ],
   "metadata": {
    "collapsed": false,
    "ExecuteTime": {
     "start_time": "2023-05-23T12:13:36.005396Z",
     "end_time": "2023-05-23T12:13:43.587465Z"
    }
   }
  },
  {
   "cell_type": "code",
   "execution_count": 14,
   "outputs": [
    {
     "data": {
      "text/plain": "                     gfs-ens-bc_9  gfs-ens-bc_10  gfs-ens-bc_11   \n2018-07-11 00:00:00         0.003          0.004          0.000  \\\n2018-07-12 12:00:00         0.004          0.001          0.000   \n2018-07-12 00:00:00         0.004          0.000          0.004   \n2018-07-13 12:00:00         0.001          0.002          0.004   \n2018-07-13 00:00:00         0.000          0.002          0.008   \n...                           ...            ...            ...   \n2023-05-15 00:00:00        -0.899          3.317         -0.923   \n2023-05-16 12:00:00         0.403         -0.348         -0.853   \n2023-05-16 00:00:00         3.752         -0.431         -1.366   \n2023-05-17 12:00:00         0.203          0.060          1.151   \n2023-05-17 00:00:00        -0.039         -1.347          0.176   \n\n                     gfs-ens-bc_12  gfs-ens-bc_13  gfs-ens-bc_14  \n2018-07-11 00:00:00          0.011          0.015          0.014  \n2018-07-12 12:00:00          0.005          0.008          0.018  \n2018-07-12 00:00:00          0.011          0.018          0.024  \n2018-07-13 12:00:00          0.009          0.021          0.015  \n2018-07-13 00:00:00          0.024          0.020          0.009  \n...                            ...            ...            ...  \n2023-05-15 00:00:00         -1.853          0.098         -0.197  \n2023-05-16 12:00:00          0.580          1.175          0.265  \n2023-05-16 00:00:00          0.107         -0.920          0.500  \n2023-05-17 12:00:00          0.556          0.098         -0.652  \n2023-05-17 00:00:00         -1.086          0.432         -1.480  \n\n[3483 rows x 6 columns]",
      "text/html": "<div>\n<style scoped>\n    .dataframe tbody tr th:only-of-type {\n        vertical-align: middle;\n    }\n\n    .dataframe tbody tr th {\n        vertical-align: top;\n    }\n\n    .dataframe thead th {\n        text-align: right;\n    }\n</style>\n<table border=\"1\" class=\"dataframe\">\n  <thead>\n    <tr style=\"text-align: right;\">\n      <th></th>\n      <th>gfs-ens-bc_9</th>\n      <th>gfs-ens-bc_10</th>\n      <th>gfs-ens-bc_11</th>\n      <th>gfs-ens-bc_12</th>\n      <th>gfs-ens-bc_13</th>\n      <th>gfs-ens-bc_14</th>\n    </tr>\n  </thead>\n  <tbody>\n    <tr>\n      <th>2018-07-11 00:00:00</th>\n      <td>0.003</td>\n      <td>0.004</td>\n      <td>0.000</td>\n      <td>0.011</td>\n      <td>0.015</td>\n      <td>0.014</td>\n    </tr>\n    <tr>\n      <th>2018-07-12 12:00:00</th>\n      <td>0.004</td>\n      <td>0.001</td>\n      <td>0.000</td>\n      <td>0.005</td>\n      <td>0.008</td>\n      <td>0.018</td>\n    </tr>\n    <tr>\n      <th>2018-07-12 00:00:00</th>\n      <td>0.004</td>\n      <td>0.000</td>\n      <td>0.004</td>\n      <td>0.011</td>\n      <td>0.018</td>\n      <td>0.024</td>\n    </tr>\n    <tr>\n      <th>2018-07-13 12:00:00</th>\n      <td>0.001</td>\n      <td>0.002</td>\n      <td>0.004</td>\n      <td>0.009</td>\n      <td>0.021</td>\n      <td>0.015</td>\n    </tr>\n    <tr>\n      <th>2018-07-13 00:00:00</th>\n      <td>0.000</td>\n      <td>0.002</td>\n      <td>0.008</td>\n      <td>0.024</td>\n      <td>0.020</td>\n      <td>0.009</td>\n    </tr>\n    <tr>\n      <th>...</th>\n      <td>...</td>\n      <td>...</td>\n      <td>...</td>\n      <td>...</td>\n      <td>...</td>\n      <td>...</td>\n    </tr>\n    <tr>\n      <th>2023-05-15 00:00:00</th>\n      <td>-0.899</td>\n      <td>3.317</td>\n      <td>-0.923</td>\n      <td>-1.853</td>\n      <td>0.098</td>\n      <td>-0.197</td>\n    </tr>\n    <tr>\n      <th>2023-05-16 12:00:00</th>\n      <td>0.403</td>\n      <td>-0.348</td>\n      <td>-0.853</td>\n      <td>0.580</td>\n      <td>1.175</td>\n      <td>0.265</td>\n    </tr>\n    <tr>\n      <th>2023-05-16 00:00:00</th>\n      <td>3.752</td>\n      <td>-0.431</td>\n      <td>-1.366</td>\n      <td>0.107</td>\n      <td>-0.920</td>\n      <td>0.500</td>\n    </tr>\n    <tr>\n      <th>2023-05-17 12:00:00</th>\n      <td>0.203</td>\n      <td>0.060</td>\n      <td>1.151</td>\n      <td>0.556</td>\n      <td>0.098</td>\n      <td>-0.652</td>\n    </tr>\n    <tr>\n      <th>2023-05-17 00:00:00</th>\n      <td>-0.039</td>\n      <td>-1.347</td>\n      <td>0.176</td>\n      <td>-1.086</td>\n      <td>0.432</td>\n      <td>-1.480</td>\n    </tr>\n  </tbody>\n</table>\n<p>3483 rows × 6 columns</p>\n</div>"
     },
     "execution_count": 14,
     "metadata": {},
     "output_type": "execute_result"
    }
   ],
   "source": [
    "gfs_ens_bc_change_df"
   ],
   "metadata": {
    "collapsed": false,
    "ExecuteTime": {
     "start_time": "2023-05-23T12:13:43.593415Z",
     "end_time": "2023-05-23T12:13:43.597861Z"
    }
   }
  },
  {
   "cell_type": "markdown",
   "source": [
    "### step 2.4 the difference between the new cmc-ens forecast for days 9-14 and the new gfs-ens-bc  forecast for days 9-14"
   ],
   "metadata": {
    "collapsed": false
   }
  },
  {
   "cell_type": "code",
   "execution_count": 15,
   "outputs": [],
   "source": [
    "cmc_ens_change_df = pd.DataFrame(columns=['cmc-ens_9', 'cmc-ens_10', 'cmc-ens_11', 'cmc-ens_12',\n",
    "                                  'cmc-ens_13', 'cmc-ens_14'])\n",
    "\n",
    "for i in range(1, len(cmc_ens_sorted_files)):\n",
    "    cmc_ens_df = pd.read_csv(cmc_ens_sorted_files[i])\n",
    "    gfs_ens_bc_df = pd.read_csv(gfs_ens_bc_sorted_files[i])\n",
    "    date = get_date(cmc_ens_df, cmc_ens_sorted_files[i])\n",
    "\n",
    "    changes = []\n",
    "    for day in range(8, 14):\n",
    "        changes.append(cmc_ens_df.iloc[day]['Value'] - gfs_ens_bc_df.iloc[day]['Value'])\n",
    "    new_row = pd.DataFrame([changes], columns=cmc_ens_change_df.columns, index=[date])\n",
    "    cmc_ens_change_df = pd.concat([cmc_ens_change_df, new_row])"
   ],
   "metadata": {
    "collapsed": false,
    "ExecuteTime": {
     "start_time": "2023-05-23T12:13:43.595788Z",
     "end_time": "2023-05-23T12:13:51.150590Z"
    }
   }
  },
  {
   "cell_type": "code",
   "execution_count": 16,
   "outputs": [
    {
     "data": {
      "text/plain": "                     cmc-ens_9  cmc-ens_10  cmc-ens_11  cmc-ens_12   \n2018-07-11 00:00:00     -0.006      -0.003      -0.001      -0.013  \\\n2018-07-12 12:00:00     -0.003      -0.002      -0.001      -0.005   \n2018-07-12 00:00:00     -0.004      -0.002      -0.006      -0.009   \n2018-07-13 12:00:00     -0.002      -0.002      -0.004      -0.008   \n2018-07-13 00:00:00     -0.001      -0.003      -0.008      -0.022   \n...                        ...         ...         ...         ...   \n2023-05-15 00:00:00     -0.631       0.232       0.894      -0.599   \n2023-05-16 12:00:00     -0.591      -0.005       0.499      -1.314   \n2023-05-16 00:00:00     -0.279       0.012      -1.454      -1.532   \n2023-05-17 12:00:00     -0.481      -0.476      -1.847      -1.399   \n2023-05-17 00:00:00     -0.340      -1.170      -1.054      -0.289   \n\n                     cmc-ens_13  cmc-ens_14  \n2018-07-11 00:00:00      -0.014      -0.012  \n2018-07-12 12:00:00      -0.008      -0.016  \n2018-07-12 00:00:00      -0.017      -0.019  \n2018-07-13 12:00:00      -0.013      -0.007  \n2018-07-13 00:00:00      -0.021      -0.013  \n...                         ...         ...  \n2023-05-15 00:00:00      -1.595      -0.775  \n2023-05-16 12:00:00      -2.503      -0.942  \n2023-05-16 00:00:00      -0.951       0.255  \n2023-05-17 12:00:00      -0.814       0.066  \n2023-05-17 00:00:00       0.775       0.560  \n\n[3483 rows x 6 columns]",
      "text/html": "<div>\n<style scoped>\n    .dataframe tbody tr th:only-of-type {\n        vertical-align: middle;\n    }\n\n    .dataframe tbody tr th {\n        vertical-align: top;\n    }\n\n    .dataframe thead th {\n        text-align: right;\n    }\n</style>\n<table border=\"1\" class=\"dataframe\">\n  <thead>\n    <tr style=\"text-align: right;\">\n      <th></th>\n      <th>cmc-ens_9</th>\n      <th>cmc-ens_10</th>\n      <th>cmc-ens_11</th>\n      <th>cmc-ens_12</th>\n      <th>cmc-ens_13</th>\n      <th>cmc-ens_14</th>\n    </tr>\n  </thead>\n  <tbody>\n    <tr>\n      <th>2018-07-11 00:00:00</th>\n      <td>-0.006</td>\n      <td>-0.003</td>\n      <td>-0.001</td>\n      <td>-0.013</td>\n      <td>-0.014</td>\n      <td>-0.012</td>\n    </tr>\n    <tr>\n      <th>2018-07-12 12:00:00</th>\n      <td>-0.003</td>\n      <td>-0.002</td>\n      <td>-0.001</td>\n      <td>-0.005</td>\n      <td>-0.008</td>\n      <td>-0.016</td>\n    </tr>\n    <tr>\n      <th>2018-07-12 00:00:00</th>\n      <td>-0.004</td>\n      <td>-0.002</td>\n      <td>-0.006</td>\n      <td>-0.009</td>\n      <td>-0.017</td>\n      <td>-0.019</td>\n    </tr>\n    <tr>\n      <th>2018-07-13 12:00:00</th>\n      <td>-0.002</td>\n      <td>-0.002</td>\n      <td>-0.004</td>\n      <td>-0.008</td>\n      <td>-0.013</td>\n      <td>-0.007</td>\n    </tr>\n    <tr>\n      <th>2018-07-13 00:00:00</th>\n      <td>-0.001</td>\n      <td>-0.003</td>\n      <td>-0.008</td>\n      <td>-0.022</td>\n      <td>-0.021</td>\n      <td>-0.013</td>\n    </tr>\n    <tr>\n      <th>...</th>\n      <td>...</td>\n      <td>...</td>\n      <td>...</td>\n      <td>...</td>\n      <td>...</td>\n      <td>...</td>\n    </tr>\n    <tr>\n      <th>2023-05-15 00:00:00</th>\n      <td>-0.631</td>\n      <td>0.232</td>\n      <td>0.894</td>\n      <td>-0.599</td>\n      <td>-1.595</td>\n      <td>-0.775</td>\n    </tr>\n    <tr>\n      <th>2023-05-16 12:00:00</th>\n      <td>-0.591</td>\n      <td>-0.005</td>\n      <td>0.499</td>\n      <td>-1.314</td>\n      <td>-2.503</td>\n      <td>-0.942</td>\n    </tr>\n    <tr>\n      <th>2023-05-16 00:00:00</th>\n      <td>-0.279</td>\n      <td>0.012</td>\n      <td>-1.454</td>\n      <td>-1.532</td>\n      <td>-0.951</td>\n      <td>0.255</td>\n    </tr>\n    <tr>\n      <th>2023-05-17 12:00:00</th>\n      <td>-0.481</td>\n      <td>-0.476</td>\n      <td>-1.847</td>\n      <td>-1.399</td>\n      <td>-0.814</td>\n      <td>0.066</td>\n    </tr>\n    <tr>\n      <th>2023-05-17 00:00:00</th>\n      <td>-0.340</td>\n      <td>-1.170</td>\n      <td>-1.054</td>\n      <td>-0.289</td>\n      <td>0.775</td>\n      <td>0.560</td>\n    </tr>\n  </tbody>\n</table>\n<p>3483 rows × 6 columns</p>\n</div>"
     },
     "execution_count": 16,
     "metadata": {},
     "output_type": "execute_result"
    }
   ],
   "source": [
    "cmc_ens_change_df"
   ],
   "metadata": {
    "collapsed": false,
    "ExecuteTime": {
     "start_time": "2023-05-23T12:13:51.151706Z",
     "end_time": "2023-05-23T12:13:51.160912Z"
    }
   }
  },
  {
   "cell_type": "code",
   "execution_count": 16,
   "outputs": [],
   "source": [],
   "metadata": {
    "collapsed": false,
    "ExecuteTime": {
     "start_time": "2023-05-23T12:13:51.159938Z",
     "end_time": "2023-05-23T12:13:51.164096Z"
    }
   }
  },
  {
   "cell_type": "code",
   "execution_count": 107,
   "outputs": [],
   "source": [
    "master_df = pd.concat([gfs_ens_bc_change_df, cmc_ens_change_df, ecmwf_change_df, ecmwf_eps_change_df], axis=1)"
   ],
   "metadata": {
    "collapsed": false,
    "ExecuteTime": {
     "start_time": "2023-05-23T13:42:01.250755Z",
     "end_time": "2023-05-23T13:42:01.254993Z"
    }
   }
  },
  {
   "cell_type": "code",
   "execution_count": 108,
   "outputs": [
    {
     "data": {
      "text/plain": "                     gfs-ens-bc_9  gfs-ens-bc_10  gfs-ens-bc_11   \n2018-07-11 00:00:00         0.003          0.004          0.000  \\\n2018-07-12 12:00:00         0.004          0.001          0.000   \n2018-07-12 00:00:00         0.004          0.000          0.004   \n2018-07-13 12:00:00         0.001          0.002          0.004   \n2018-07-13 00:00:00         0.000          0.002          0.008   \n...                           ...            ...            ...   \n2023-05-15 00:00:00        -0.899          3.317         -0.923   \n2023-05-16 12:00:00         0.403         -0.348         -0.853   \n2023-05-16 00:00:00         3.752         -0.431         -1.366   \n2023-05-17 12:00:00         0.203          0.060          1.151   \n2023-05-17 00:00:00        -0.039         -1.347          0.176   \n\n                     gfs-ens-bc_12  gfs-ens-bc_13  gfs-ens-bc_14  cmc-ens_9   \n2018-07-11 00:00:00          0.011          0.015          0.014     -0.006  \\\n2018-07-12 12:00:00          0.005          0.008          0.018     -0.003   \n2018-07-12 00:00:00          0.011          0.018          0.024     -0.004   \n2018-07-13 12:00:00          0.009          0.021          0.015     -0.002   \n2018-07-13 00:00:00          0.024          0.020          0.009     -0.001   \n...                            ...            ...            ...        ...   \n2023-05-15 00:00:00         -1.853          0.098         -0.197     -0.631   \n2023-05-16 12:00:00          0.580          1.175          0.265     -0.591   \n2023-05-16 00:00:00          0.107         -0.920          0.500     -0.279   \n2023-05-17 12:00:00          0.556          0.098         -0.652     -0.481   \n2023-05-17 00:00:00         -1.086          0.432         -1.480     -0.340   \n\n                     cmc-ens_10  cmc-ens_11  cmc-ens_12  cmc-ens_13   \n2018-07-11 00:00:00      -0.003      -0.001      -0.013      -0.014  \\\n2018-07-12 12:00:00      -0.002      -0.001      -0.005      -0.008   \n2018-07-12 00:00:00      -0.002      -0.006      -0.009      -0.017   \n2018-07-13 12:00:00      -0.002      -0.004      -0.008      -0.013   \n2018-07-13 00:00:00      -0.003      -0.008      -0.022      -0.021   \n...                         ...         ...         ...         ...   \n2023-05-15 00:00:00       0.232       0.894      -0.599      -1.595   \n2023-05-16 12:00:00      -0.005       0.499      -1.314      -2.503   \n2023-05-16 00:00:00       0.012      -1.454      -1.532      -0.951   \n2023-05-17 12:00:00      -0.476      -1.847      -1.399      -0.814   \n2023-05-17 00:00:00      -1.170      -1.054      -0.289       0.775   \n\n                     cmc-ens_14  ecmwf_diff_8  ecmwf_diff_9  ecmwf-eps_9   \n2018-07-11 00:00:00      -0.012        -0.002         0.005       -0.004  \\\n2018-07-12 12:00:00      -0.016         0.002         0.000        0.001   \n2018-07-12 00:00:00      -0.019         0.003         0.002        0.001   \n2018-07-13 12:00:00      -0.007         0.000         0.002        0.000   \n2018-07-13 00:00:00      -0.013         0.000         0.000       -0.003   \n...                         ...           ...           ...          ...   \n2023-05-15 00:00:00      -0.775        -1.429         3.291       -1.345   \n2023-05-16 12:00:00      -0.942        -0.251        -0.294       -0.195   \n2023-05-16 00:00:00       0.255         3.552        -0.150        3.558   \n2023-05-17 12:00:00       0.066        -0.022         0.218        0.261   \n2023-05-17 00:00:00       0.560        -0.233        -2.159       -0.257   \n\n                     ecmwf-eps_10  ecmwf-eps_11  ecmwf-eps_12  ecmwf-eps_13   \n2018-07-11 00:00:00         0.002        -0.001        -0.002         0.002  \\\n2018-07-12 12:00:00         0.000        -0.001        -0.001        -0.001   \n2018-07-12 00:00:00        -0.002        -0.002         0.001        -0.001   \n2018-07-13 12:00:00        -0.001         0.001         0.001         0.006   \n2018-07-13 00:00:00        -0.001        -0.001         0.005        -0.002   \n...                           ...           ...           ...           ...   \n2023-05-15 00:00:00         3.692        -0.092        -2.278        -0.519   \n2023-05-16 12:00:00        -0.020        -0.281        -0.132         0.050   \n2023-05-16 00:00:00        -0.416        -2.051        -0.182        -1.027   \n2023-05-17 12:00:00         0.335         0.252         0.221         0.176   \n2023-05-17 00:00:00        -2.112         0.004        -0.978         1.282   \n\n                     ecmwf-eps_14  \n2018-07-11 00:00:00        -0.002  \n2018-07-12 12:00:00        -0.001  \n2018-07-12 00:00:00         0.003  \n2018-07-13 12:00:00         0.003  \n2018-07-13 00:00:00        -0.003  \n...                           ...  \n2023-05-15 00:00:00        -0.550  \n2023-05-16 12:00:00        -0.327  \n2023-05-16 00:00:00         0.912  \n2023-05-17 12:00:00         0.538  \n2023-05-17 00:00:00        -0.499  \n\n[3483 rows x 20 columns]",
      "text/html": "<div>\n<style scoped>\n    .dataframe tbody tr th:only-of-type {\n        vertical-align: middle;\n    }\n\n    .dataframe tbody tr th {\n        vertical-align: top;\n    }\n\n    .dataframe thead th {\n        text-align: right;\n    }\n</style>\n<table border=\"1\" class=\"dataframe\">\n  <thead>\n    <tr style=\"text-align: right;\">\n      <th></th>\n      <th>gfs-ens-bc_9</th>\n      <th>gfs-ens-bc_10</th>\n      <th>gfs-ens-bc_11</th>\n      <th>gfs-ens-bc_12</th>\n      <th>gfs-ens-bc_13</th>\n      <th>gfs-ens-bc_14</th>\n      <th>cmc-ens_9</th>\n      <th>cmc-ens_10</th>\n      <th>cmc-ens_11</th>\n      <th>cmc-ens_12</th>\n      <th>cmc-ens_13</th>\n      <th>cmc-ens_14</th>\n      <th>ecmwf_diff_8</th>\n      <th>ecmwf_diff_9</th>\n      <th>ecmwf-eps_9</th>\n      <th>ecmwf-eps_10</th>\n      <th>ecmwf-eps_11</th>\n      <th>ecmwf-eps_12</th>\n      <th>ecmwf-eps_13</th>\n      <th>ecmwf-eps_14</th>\n    </tr>\n  </thead>\n  <tbody>\n    <tr>\n      <th>2018-07-11 00:00:00</th>\n      <td>0.003</td>\n      <td>0.004</td>\n      <td>0.000</td>\n      <td>0.011</td>\n      <td>0.015</td>\n      <td>0.014</td>\n      <td>-0.006</td>\n      <td>-0.003</td>\n      <td>-0.001</td>\n      <td>-0.013</td>\n      <td>-0.014</td>\n      <td>-0.012</td>\n      <td>-0.002</td>\n      <td>0.005</td>\n      <td>-0.004</td>\n      <td>0.002</td>\n      <td>-0.001</td>\n      <td>-0.002</td>\n      <td>0.002</td>\n      <td>-0.002</td>\n    </tr>\n    <tr>\n      <th>2018-07-12 12:00:00</th>\n      <td>0.004</td>\n      <td>0.001</td>\n      <td>0.000</td>\n      <td>0.005</td>\n      <td>0.008</td>\n      <td>0.018</td>\n      <td>-0.003</td>\n      <td>-0.002</td>\n      <td>-0.001</td>\n      <td>-0.005</td>\n      <td>-0.008</td>\n      <td>-0.016</td>\n      <td>0.002</td>\n      <td>0.000</td>\n      <td>0.001</td>\n      <td>0.000</td>\n      <td>-0.001</td>\n      <td>-0.001</td>\n      <td>-0.001</td>\n      <td>-0.001</td>\n    </tr>\n    <tr>\n      <th>2018-07-12 00:00:00</th>\n      <td>0.004</td>\n      <td>0.000</td>\n      <td>0.004</td>\n      <td>0.011</td>\n      <td>0.018</td>\n      <td>0.024</td>\n      <td>-0.004</td>\n      <td>-0.002</td>\n      <td>-0.006</td>\n      <td>-0.009</td>\n      <td>-0.017</td>\n      <td>-0.019</td>\n      <td>0.003</td>\n      <td>0.002</td>\n      <td>0.001</td>\n      <td>-0.002</td>\n      <td>-0.002</td>\n      <td>0.001</td>\n      <td>-0.001</td>\n      <td>0.003</td>\n    </tr>\n    <tr>\n      <th>2018-07-13 12:00:00</th>\n      <td>0.001</td>\n      <td>0.002</td>\n      <td>0.004</td>\n      <td>0.009</td>\n      <td>0.021</td>\n      <td>0.015</td>\n      <td>-0.002</td>\n      <td>-0.002</td>\n      <td>-0.004</td>\n      <td>-0.008</td>\n      <td>-0.013</td>\n      <td>-0.007</td>\n      <td>0.000</td>\n      <td>0.002</td>\n      <td>0.000</td>\n      <td>-0.001</td>\n      <td>0.001</td>\n      <td>0.001</td>\n      <td>0.006</td>\n      <td>0.003</td>\n    </tr>\n    <tr>\n      <th>2018-07-13 00:00:00</th>\n      <td>0.000</td>\n      <td>0.002</td>\n      <td>0.008</td>\n      <td>0.024</td>\n      <td>0.020</td>\n      <td>0.009</td>\n      <td>-0.001</td>\n      <td>-0.003</td>\n      <td>-0.008</td>\n      <td>-0.022</td>\n      <td>-0.021</td>\n      <td>-0.013</td>\n      <td>0.000</td>\n      <td>0.000</td>\n      <td>-0.003</td>\n      <td>-0.001</td>\n      <td>-0.001</td>\n      <td>0.005</td>\n      <td>-0.002</td>\n      <td>-0.003</td>\n    </tr>\n    <tr>\n      <th>...</th>\n      <td>...</td>\n      <td>...</td>\n      <td>...</td>\n      <td>...</td>\n      <td>...</td>\n      <td>...</td>\n      <td>...</td>\n      <td>...</td>\n      <td>...</td>\n      <td>...</td>\n      <td>...</td>\n      <td>...</td>\n      <td>...</td>\n      <td>...</td>\n      <td>...</td>\n      <td>...</td>\n      <td>...</td>\n      <td>...</td>\n      <td>...</td>\n      <td>...</td>\n    </tr>\n    <tr>\n      <th>2023-05-15 00:00:00</th>\n      <td>-0.899</td>\n      <td>3.317</td>\n      <td>-0.923</td>\n      <td>-1.853</td>\n      <td>0.098</td>\n      <td>-0.197</td>\n      <td>-0.631</td>\n      <td>0.232</td>\n      <td>0.894</td>\n      <td>-0.599</td>\n      <td>-1.595</td>\n      <td>-0.775</td>\n      <td>-1.429</td>\n      <td>3.291</td>\n      <td>-1.345</td>\n      <td>3.692</td>\n      <td>-0.092</td>\n      <td>-2.278</td>\n      <td>-0.519</td>\n      <td>-0.550</td>\n    </tr>\n    <tr>\n      <th>2023-05-16 12:00:00</th>\n      <td>0.403</td>\n      <td>-0.348</td>\n      <td>-0.853</td>\n      <td>0.580</td>\n      <td>1.175</td>\n      <td>0.265</td>\n      <td>-0.591</td>\n      <td>-0.005</td>\n      <td>0.499</td>\n      <td>-1.314</td>\n      <td>-2.503</td>\n      <td>-0.942</td>\n      <td>-0.251</td>\n      <td>-0.294</td>\n      <td>-0.195</td>\n      <td>-0.020</td>\n      <td>-0.281</td>\n      <td>-0.132</td>\n      <td>0.050</td>\n      <td>-0.327</td>\n    </tr>\n    <tr>\n      <th>2023-05-16 00:00:00</th>\n      <td>3.752</td>\n      <td>-0.431</td>\n      <td>-1.366</td>\n      <td>0.107</td>\n      <td>-0.920</td>\n      <td>0.500</td>\n      <td>-0.279</td>\n      <td>0.012</td>\n      <td>-1.454</td>\n      <td>-1.532</td>\n      <td>-0.951</td>\n      <td>0.255</td>\n      <td>3.552</td>\n      <td>-0.150</td>\n      <td>3.558</td>\n      <td>-0.416</td>\n      <td>-2.051</td>\n      <td>-0.182</td>\n      <td>-1.027</td>\n      <td>0.912</td>\n    </tr>\n    <tr>\n      <th>2023-05-17 12:00:00</th>\n      <td>0.203</td>\n      <td>0.060</td>\n      <td>1.151</td>\n      <td>0.556</td>\n      <td>0.098</td>\n      <td>-0.652</td>\n      <td>-0.481</td>\n      <td>-0.476</td>\n      <td>-1.847</td>\n      <td>-1.399</td>\n      <td>-0.814</td>\n      <td>0.066</td>\n      <td>-0.022</td>\n      <td>0.218</td>\n      <td>0.261</td>\n      <td>0.335</td>\n      <td>0.252</td>\n      <td>0.221</td>\n      <td>0.176</td>\n      <td>0.538</td>\n    </tr>\n    <tr>\n      <th>2023-05-17 00:00:00</th>\n      <td>-0.039</td>\n      <td>-1.347</td>\n      <td>0.176</td>\n      <td>-1.086</td>\n      <td>0.432</td>\n      <td>-1.480</td>\n      <td>-0.340</td>\n      <td>-1.170</td>\n      <td>-1.054</td>\n      <td>-0.289</td>\n      <td>0.775</td>\n      <td>0.560</td>\n      <td>-0.233</td>\n      <td>-2.159</td>\n      <td>-0.257</td>\n      <td>-2.112</td>\n      <td>0.004</td>\n      <td>-0.978</td>\n      <td>1.282</td>\n      <td>-0.499</td>\n    </tr>\n  </tbody>\n</table>\n<p>3483 rows × 20 columns</p>\n</div>"
     },
     "execution_count": 108,
     "metadata": {},
     "output_type": "execute_result"
    }
   ],
   "source": [
    "master_df"
   ],
   "metadata": {
    "collapsed": false,
    "ExecuteTime": {
     "start_time": "2023-05-23T13:42:01.680833Z",
     "end_time": "2023-05-23T13:42:01.702616Z"
    }
   }
  },
  {
   "cell_type": "code",
   "execution_count": 159,
   "outputs": [
    {
     "data": {
      "text/plain": "                count      mean       std     min     25%    50%     75%   \ngfs-ens-bc_9   3483.0  0.005592  1.608737  -9.259 -0.4110  0.005  0.3285  \\\ngfs-ens-bc_10  3483.0 -0.006345  1.645453  -9.384 -0.4650  0.007  0.3485   \ngfs-ens-bc_11  3483.0  0.013102  1.696030  -9.541 -0.5275  0.010  0.4385   \ngfs-ens-bc_12  3483.0  0.032291  1.761546 -10.504 -0.5910  0.014  0.5090   \ngfs-ens-bc_13  3483.0  0.044297  1.815628 -11.370 -0.6115  0.022  0.6430   \ngfs-ens-bc_14  3483.0  0.045904  1.853364  -8.661 -0.6350  0.026  0.7030   \ncmc-ens_9      3483.0  0.018010  0.736541  -3.877 -0.3375 -0.006  0.2985   \ncmc-ens_10     3483.0  0.091886  0.830035  -4.180 -0.2780 -0.005  0.4270   \ncmc-ens_11     3483.0  0.135222  0.945818  -3.731 -0.2740 -0.002  0.5465   \ncmc-ens_12     3483.0  0.154785  1.084122  -6.200 -0.3160 -0.004  0.6265   \ncmc-ens_13     3483.0  0.143323  1.245627  -5.302 -0.3750 -0.006  0.6565   \ncmc-ens_14     3483.0  0.125379  1.424470  -5.889 -0.4270 -0.013  0.6905   \necmwf_diff_8   3483.0 -0.039575  1.517474  -9.286 -0.2455 -0.007  0.1290   \necmwf_diff_9   3483.0 -0.070607  1.518297  -9.385 -0.2800 -0.011  0.1585   \necmwf-eps_9    3483.0  0.001401  1.528450  -9.314 -0.1730 -0.001  0.1430   \necmwf-eps_10   3483.0  0.000844  1.520169  -9.326 -0.1720  0.001  0.1865   \necmwf-eps_11   3483.0  0.000922  1.511945  -9.830 -0.2145  0.001  0.2160   \necmwf-eps_12   3483.0  0.000635  1.513762 -10.191 -0.2665  0.001  0.2810   \necmwf-eps_13   3483.0  0.001005  1.518654 -12.849 -0.3250  0.000  0.3265   \necmwf-eps_14   3483.0  0.000884  1.445921  -8.608 -0.3965  0.000  0.3530   \n\n                 max  \ngfs-ens-bc_9   8.861  \ngfs-ens-bc_10  8.933  \ngfs-ens-bc_11  9.373  \ngfs-ens-bc_12  9.050  \ngfs-ens-bc_13  9.668  \ngfs-ens-bc_14  9.547  \ncmc-ens_9      3.211  \ncmc-ens_10     3.944  \ncmc-ens_11     4.920  \ncmc-ens_12     5.869  \ncmc-ens_13     6.044  \ncmc-ens_14     7.086  \necmwf_diff_8   9.284  \necmwf_diff_9   9.367  \necmwf-eps_9    9.361  \necmwf-eps_10   9.567  \necmwf-eps_11   8.781  \necmwf-eps_12   8.499  \necmwf-eps_13   8.641  \necmwf-eps_14   8.077  ",
      "text/html": "<div>\n<style scoped>\n    .dataframe tbody tr th:only-of-type {\n        vertical-align: middle;\n    }\n\n    .dataframe tbody tr th {\n        vertical-align: top;\n    }\n\n    .dataframe thead th {\n        text-align: right;\n    }\n</style>\n<table border=\"1\" class=\"dataframe\">\n  <thead>\n    <tr style=\"text-align: right;\">\n      <th></th>\n      <th>count</th>\n      <th>mean</th>\n      <th>std</th>\n      <th>min</th>\n      <th>25%</th>\n      <th>50%</th>\n      <th>75%</th>\n      <th>max</th>\n    </tr>\n  </thead>\n  <tbody>\n    <tr>\n      <th>gfs-ens-bc_9</th>\n      <td>3483.0</td>\n      <td>0.005592</td>\n      <td>1.608737</td>\n      <td>-9.259</td>\n      <td>-0.4110</td>\n      <td>0.005</td>\n      <td>0.3285</td>\n      <td>8.861</td>\n    </tr>\n    <tr>\n      <th>gfs-ens-bc_10</th>\n      <td>3483.0</td>\n      <td>-0.006345</td>\n      <td>1.645453</td>\n      <td>-9.384</td>\n      <td>-0.4650</td>\n      <td>0.007</td>\n      <td>0.3485</td>\n      <td>8.933</td>\n    </tr>\n    <tr>\n      <th>gfs-ens-bc_11</th>\n      <td>3483.0</td>\n      <td>0.013102</td>\n      <td>1.696030</td>\n      <td>-9.541</td>\n      <td>-0.5275</td>\n      <td>0.010</td>\n      <td>0.4385</td>\n      <td>9.373</td>\n    </tr>\n    <tr>\n      <th>gfs-ens-bc_12</th>\n      <td>3483.0</td>\n      <td>0.032291</td>\n      <td>1.761546</td>\n      <td>-10.504</td>\n      <td>-0.5910</td>\n      <td>0.014</td>\n      <td>0.5090</td>\n      <td>9.050</td>\n    </tr>\n    <tr>\n      <th>gfs-ens-bc_13</th>\n      <td>3483.0</td>\n      <td>0.044297</td>\n      <td>1.815628</td>\n      <td>-11.370</td>\n      <td>-0.6115</td>\n      <td>0.022</td>\n      <td>0.6430</td>\n      <td>9.668</td>\n    </tr>\n    <tr>\n      <th>gfs-ens-bc_14</th>\n      <td>3483.0</td>\n      <td>0.045904</td>\n      <td>1.853364</td>\n      <td>-8.661</td>\n      <td>-0.6350</td>\n      <td>0.026</td>\n      <td>0.7030</td>\n      <td>9.547</td>\n    </tr>\n    <tr>\n      <th>cmc-ens_9</th>\n      <td>3483.0</td>\n      <td>0.018010</td>\n      <td>0.736541</td>\n      <td>-3.877</td>\n      <td>-0.3375</td>\n      <td>-0.006</td>\n      <td>0.2985</td>\n      <td>3.211</td>\n    </tr>\n    <tr>\n      <th>cmc-ens_10</th>\n      <td>3483.0</td>\n      <td>0.091886</td>\n      <td>0.830035</td>\n      <td>-4.180</td>\n      <td>-0.2780</td>\n      <td>-0.005</td>\n      <td>0.4270</td>\n      <td>3.944</td>\n    </tr>\n    <tr>\n      <th>cmc-ens_11</th>\n      <td>3483.0</td>\n      <td>0.135222</td>\n      <td>0.945818</td>\n      <td>-3.731</td>\n      <td>-0.2740</td>\n      <td>-0.002</td>\n      <td>0.5465</td>\n      <td>4.920</td>\n    </tr>\n    <tr>\n      <th>cmc-ens_12</th>\n      <td>3483.0</td>\n      <td>0.154785</td>\n      <td>1.084122</td>\n      <td>-6.200</td>\n      <td>-0.3160</td>\n      <td>-0.004</td>\n      <td>0.6265</td>\n      <td>5.869</td>\n    </tr>\n    <tr>\n      <th>cmc-ens_13</th>\n      <td>3483.0</td>\n      <td>0.143323</td>\n      <td>1.245627</td>\n      <td>-5.302</td>\n      <td>-0.3750</td>\n      <td>-0.006</td>\n      <td>0.6565</td>\n      <td>6.044</td>\n    </tr>\n    <tr>\n      <th>cmc-ens_14</th>\n      <td>3483.0</td>\n      <td>0.125379</td>\n      <td>1.424470</td>\n      <td>-5.889</td>\n      <td>-0.4270</td>\n      <td>-0.013</td>\n      <td>0.6905</td>\n      <td>7.086</td>\n    </tr>\n    <tr>\n      <th>ecmwf_diff_8</th>\n      <td>3483.0</td>\n      <td>-0.039575</td>\n      <td>1.517474</td>\n      <td>-9.286</td>\n      <td>-0.2455</td>\n      <td>-0.007</td>\n      <td>0.1290</td>\n      <td>9.284</td>\n    </tr>\n    <tr>\n      <th>ecmwf_diff_9</th>\n      <td>3483.0</td>\n      <td>-0.070607</td>\n      <td>1.518297</td>\n      <td>-9.385</td>\n      <td>-0.2800</td>\n      <td>-0.011</td>\n      <td>0.1585</td>\n      <td>9.367</td>\n    </tr>\n    <tr>\n      <th>ecmwf-eps_9</th>\n      <td>3483.0</td>\n      <td>0.001401</td>\n      <td>1.528450</td>\n      <td>-9.314</td>\n      <td>-0.1730</td>\n      <td>-0.001</td>\n      <td>0.1430</td>\n      <td>9.361</td>\n    </tr>\n    <tr>\n      <th>ecmwf-eps_10</th>\n      <td>3483.0</td>\n      <td>0.000844</td>\n      <td>1.520169</td>\n      <td>-9.326</td>\n      <td>-0.1720</td>\n      <td>0.001</td>\n      <td>0.1865</td>\n      <td>9.567</td>\n    </tr>\n    <tr>\n      <th>ecmwf-eps_11</th>\n      <td>3483.0</td>\n      <td>0.000922</td>\n      <td>1.511945</td>\n      <td>-9.830</td>\n      <td>-0.2145</td>\n      <td>0.001</td>\n      <td>0.2160</td>\n      <td>8.781</td>\n    </tr>\n    <tr>\n      <th>ecmwf-eps_12</th>\n      <td>3483.0</td>\n      <td>0.000635</td>\n      <td>1.513762</td>\n      <td>-10.191</td>\n      <td>-0.2665</td>\n      <td>0.001</td>\n      <td>0.2810</td>\n      <td>8.499</td>\n    </tr>\n    <tr>\n      <th>ecmwf-eps_13</th>\n      <td>3483.0</td>\n      <td>0.001005</td>\n      <td>1.518654</td>\n      <td>-12.849</td>\n      <td>-0.3250</td>\n      <td>0.000</td>\n      <td>0.3265</td>\n      <td>8.641</td>\n    </tr>\n    <tr>\n      <th>ecmwf-eps_14</th>\n      <td>3483.0</td>\n      <td>0.000884</td>\n      <td>1.445921</td>\n      <td>-8.608</td>\n      <td>-0.3965</td>\n      <td>0.000</td>\n      <td>0.3530</td>\n      <td>8.077</td>\n    </tr>\n  </tbody>\n</table>\n</div>"
     },
     "execution_count": 159,
     "metadata": {},
     "output_type": "execute_result"
    }
   ],
   "source": [
    "master_df.describe().transpose()"
   ],
   "metadata": {
    "collapsed": false,
    "ExecuteTime": {
     "start_time": "2023-05-23T13:52:29.333582Z",
     "end_time": "2023-05-23T13:52:29.382094Z"
    }
   }
  },
  {
   "cell_type": "markdown",
   "source": [
    "### random forest - mse=0.65"
   ],
   "metadata": {
    "collapsed": false
   }
  },
  {
   "cell_type": "code",
   "execution_count": 111,
   "outputs": [],
   "source": [
    "X = master_df.iloc[:, :14]"
   ],
   "metadata": {
    "collapsed": false,
    "ExecuteTime": {
     "start_time": "2023-05-23T13:42:33.972287Z",
     "end_time": "2023-05-23T13:42:33.977192Z"
    }
   }
  },
  {
   "cell_type": "code",
   "execution_count": 112,
   "outputs": [],
   "source": [
    "y = master_df.iloc[:, 14:]"
   ],
   "metadata": {
    "collapsed": false,
    "ExecuteTime": {
     "start_time": "2023-05-23T13:42:34.339382Z",
     "end_time": "2023-05-23T13:42:34.344571Z"
    }
   }
  },
  {
   "cell_type": "code",
   "execution_count": 113,
   "outputs": [
    {
     "data": {
      "text/plain": "[<matplotlib.lines.Line2D at 0x7fea4b8df370>]"
     },
     "execution_count": 113,
     "metadata": {},
     "output_type": "execute_result"
    },
    {
     "data": {
      "text/plain": "<Figure size 640x480 with 1 Axes>",
      "image/png": "[encoded data removed]"
     },
     "metadata": {},
     "output_type": "display_data"
    }
   ],
   "source": [
    "plt.plot(y['ecmwf-eps_9'][600:1000])"
   ],
   "metadata": {
    "collapsed": false,
    "ExecuteTime": {
     "start_time": "2023-05-23T13:42:34.766129Z",
     "end_time": "2023-05-23T13:42:35.028191Z"
    }
   }
  },
  {
   "cell_type": "code",
   "execution_count": 114,
   "outputs": [
    {
     "data": {
      "text/plain": "                     gfs-ens-bc_9  gfs-ens-bc_10  gfs-ens-bc_11   \n2018-07-11 00:00:00         0.003          0.004          0.000  \\\n2018-07-12 12:00:00         0.004          0.001          0.000   \n2018-07-12 00:00:00         0.004          0.000          0.004   \n2018-07-13 12:00:00         0.001          0.002          0.004   \n2018-07-13 00:00:00         0.000          0.002          0.008   \n...                           ...            ...            ...   \n2023-05-15 00:00:00        -0.899          3.317         -0.923   \n2023-05-16 12:00:00         0.403         -0.348         -0.853   \n2023-05-16 00:00:00         3.752         -0.431         -1.366   \n2023-05-17 12:00:00         0.203          0.060          1.151   \n2023-05-17 00:00:00        -0.039         -1.347          0.176   \n\n                     gfs-ens-bc_12  gfs-ens-bc_13  gfs-ens-bc_14  cmc-ens_9   \n2018-07-11 00:00:00          0.011          0.015          0.014     -0.006  \\\n2018-07-12 12:00:00          0.005          0.008          0.018     -0.003   \n2018-07-12 00:00:00          0.011          0.018          0.024     -0.004   \n2018-07-13 12:00:00          0.009          0.021          0.015     -0.002   \n2018-07-13 00:00:00          0.024          0.020          0.009     -0.001   \n...                            ...            ...            ...        ...   \n2023-05-15 00:00:00         -1.853          0.098         -0.197     -0.631   \n2023-05-16 12:00:00          0.580          1.175          0.265     -0.591   \n2023-05-16 00:00:00          0.107         -0.920          0.500     -0.279   \n2023-05-17 12:00:00          0.556          0.098         -0.652     -0.481   \n2023-05-17 00:00:00         -1.086          0.432         -1.480     -0.340   \n\n                     cmc-ens_10  cmc-ens_11  cmc-ens_12  cmc-ens_13   \n2018-07-11 00:00:00      -0.003      -0.001      -0.013      -0.014  \\\n2018-07-12 12:00:00      -0.002      -0.001      -0.005      -0.008   \n2018-07-12 00:00:00      -0.002      -0.006      -0.009      -0.017   \n2018-07-13 12:00:00      -0.002      -0.004      -0.008      -0.013   \n2018-07-13 00:00:00      -0.003      -0.008      -0.022      -0.021   \n...                         ...         ...         ...         ...   \n2023-05-15 00:00:00       0.232       0.894      -0.599      -1.595   \n2023-05-16 12:00:00      -0.005       0.499      -1.314      -2.503   \n2023-05-16 00:00:00       0.012      -1.454      -1.532      -0.951   \n2023-05-17 12:00:00      -0.476      -1.847      -1.399      -0.814   \n2023-05-17 00:00:00      -1.170      -1.054      -0.289       0.775   \n\n                     cmc-ens_14  ecmwf_diff_8  ecmwf_diff_9  \n2018-07-11 00:00:00      -0.012        -0.002         0.005  \n2018-07-12 12:00:00      -0.016         0.002         0.000  \n2018-07-12 00:00:00      -0.019         0.003         0.002  \n2018-07-13 12:00:00      -0.007         0.000         0.002  \n2018-07-13 00:00:00      -0.013         0.000         0.000  \n...                         ...           ...           ...  \n2023-05-15 00:00:00      -0.775        -1.429         3.291  \n2023-05-16 12:00:00      -0.942        -0.251        -0.294  \n2023-05-16 00:00:00       0.255         3.552        -0.150  \n2023-05-17 12:00:00       0.066        -0.022         0.218  \n2023-05-17 00:00:00       0.560        -0.233        -2.159  \n\n[3483 rows x 14 columns]",
      "text/html": "<div>\n<style scoped>\n    .dataframe tbody tr th:only-of-type {\n        vertical-align: middle;\n    }\n\n    .dataframe tbody tr th {\n        vertical-align: top;\n    }\n\n    .dataframe thead th {\n        text-align: right;\n    }\n</style>\n<table border=\"1\" class=\"dataframe\">\n  <thead>\n    <tr style=\"text-align: right;\">\n      <th></th>\n      <th>gfs-ens-bc_9</th>\n      <th>gfs-ens-bc_10</th>\n      <th>gfs-ens-bc_11</th>\n      <th>gfs-ens-bc_12</th>\n      <th>gfs-ens-bc_13</th>\n      <th>gfs-ens-bc_14</th>\n      <th>cmc-ens_9</th>\n      <th>cmc-ens_10</th>\n      <th>cmc-ens_11</th>\n      <th>cmc-ens_12</th>\n      <th>cmc-ens_13</th>\n      <th>cmc-ens_14</th>\n      <th>ecmwf_diff_8</th>\n      <th>ecmwf_diff_9</th>\n    </tr>\n  </thead>\n  <tbody>\n    <tr>\n      <th>2018-07-11 00:00:00</th>\n      <td>0.003</td>\n      <td>0.004</td>\n      <td>0.000</td>\n      <td>0.011</td>\n      <td>0.015</td>\n      <td>0.014</td>\n      <td>-0.006</td>\n      <td>-0.003</td>\n      <td>-0.001</td>\n      <td>-0.013</td>\n      <td>-0.014</td>\n      <td>-0.012</td>\n      <td>-0.002</td>\n      <td>0.005</td>\n    </tr>\n    <tr>\n      <th>2018-07-12 12:00:00</th>\n      <td>0.004</td>\n      <td>0.001</td>\n      <td>0.000</td>\n      <td>0.005</td>\n      <td>0.008</td>\n      <td>0.018</td>\n      <td>-0.003</td>\n      <td>-0.002</td>\n      <td>-0.001</td>\n      <td>-0.005</td>\n      <td>-0.008</td>\n      <td>-0.016</td>\n      <td>0.002</td>\n      <td>0.000</td>\n    </tr>\n    <tr>\n      <th>2018-07-12 00:00:00</th>\n      <td>0.004</td>\n      <td>0.000</td>\n      <td>0.004</td>\n      <td>0.011</td>\n      <td>0.018</td>\n      <td>0.024</td>\n      <td>-0.004</td>\n      <td>-0.002</td>\n      <td>-0.006</td>\n      <td>-0.009</td>\n      <td>-0.017</td>\n      <td>-0.019</td>\n      <td>0.003</td>\n      <td>0.002</td>\n    </tr>\n    <tr>\n      <th>2018-07-13 12:00:00</th>\n      <td>0.001</td>\n      <td>0.002</td>\n      <td>0.004</td>\n      <td>0.009</td>\n      <td>0.021</td>\n      <td>0.015</td>\n      <td>-0.002</td>\n      <td>-0.002</td>\n      <td>-0.004</td>\n      <td>-0.008</td>\n      <td>-0.013</td>\n      <td>-0.007</td>\n      <td>0.000</td>\n      <td>0.002</td>\n    </tr>\n    <tr>\n      <th>2018-07-13 00:00:00</th>\n      <td>0.000</td>\n      <td>0.002</td>\n      <td>0.008</td>\n      <td>0.024</td>\n      <td>0.020</td>\n      <td>0.009</td>\n      <td>-0.001</td>\n      <td>-0.003</td>\n      <td>-0.008</td>\n      <td>-0.022</td>\n      <td>-0.021</td>\n      <td>-0.013</td>\n      <td>0.000</td>\n      <td>0.000</td>\n    </tr>\n    <tr>\n      <th>...</th>\n      <td>...</td>\n      <td>...</td>\n      <td>...</td>\n      <td>...</td>\n      <td>...</td>\n      <td>...</td>\n      <td>...</td>\n      <td>...</td>\n      <td>...</td>\n      <td>...</td>\n      <td>...</td>\n      <td>...</td>\n      <td>...</td>\n      <td>...</td>\n    </tr>\n    <tr>\n      <th>2023-05-15 00:00:00</th>\n      <td>-0.899</td>\n      <td>3.317</td>\n      <td>-0.923</td>\n      <td>-1.853</td>\n      <td>0.098</td>\n      <td>-0.197</td>\n      <td>-0.631</td>\n      <td>0.232</td>\n      <td>0.894</td>\n      <td>-0.599</td>\n      <td>-1.595</td>\n      <td>-0.775</td>\n      <td>-1.429</td>\n      <td>3.291</td>\n    </tr>\n    <tr>\n      <th>2023-05-16 12:00:00</th>\n      <td>0.403</td>\n      <td>-0.348</td>\n      <td>-0.853</td>\n      <td>0.580</td>\n      <td>1.175</td>\n      <td>0.265</td>\n      <td>-0.591</td>\n      <td>-0.005</td>\n      <td>0.499</td>\n      <td>-1.314</td>\n      <td>-2.503</td>\n      <td>-0.942</td>\n      <td>-0.251</td>\n      <td>-0.294</td>\n    </tr>\n    <tr>\n      <th>2023-05-16 00:00:00</th>\n      <td>3.752</td>\n      <td>-0.431</td>\n      <td>-1.366</td>\n      <td>0.107</td>\n      <td>-0.920</td>\n      <td>0.500</td>\n      <td>-0.279</td>\n      <td>0.012</td>\n      <td>-1.454</td>\n      <td>-1.532</td>\n      <td>-0.951</td>\n      <td>0.255</td>\n      <td>3.552</td>\n      <td>-0.150</td>\n    </tr>\n    <tr>\n      <th>2023-05-17 12:00:00</th>\n      <td>0.203</td>\n      <td>0.060</td>\n      <td>1.151</td>\n      <td>0.556</td>\n      <td>0.098</td>\n      <td>-0.652</td>\n      <td>-0.481</td>\n      <td>-0.476</td>\n      <td>-1.847</td>\n      <td>-1.399</td>\n      <td>-0.814</td>\n      <td>0.066</td>\n      <td>-0.022</td>\n      <td>0.218</td>\n    </tr>\n    <tr>\n      <th>2023-05-17 00:00:00</th>\n      <td>-0.039</td>\n      <td>-1.347</td>\n      <td>0.176</td>\n      <td>-1.086</td>\n      <td>0.432</td>\n      <td>-1.480</td>\n      <td>-0.340</td>\n      <td>-1.170</td>\n      <td>-1.054</td>\n      <td>-0.289</td>\n      <td>0.775</td>\n      <td>0.560</td>\n      <td>-0.233</td>\n      <td>-2.159</td>\n    </tr>\n  </tbody>\n</table>\n<p>3483 rows × 14 columns</p>\n</div>"
     },
     "execution_count": 114,
     "metadata": {},
     "output_type": "execute_result"
    }
   ],
   "source": [
    "X"
   ],
   "metadata": {
    "collapsed": false,
    "ExecuteTime": {
     "start_time": "2023-05-23T13:42:36.565415Z",
     "end_time": "2023-05-23T13:42:36.572155Z"
    }
   }
  },
  {
   "cell_type": "code",
   "execution_count": null,
   "outputs": [],
   "source": [
    "y"
   ],
   "metadata": {
    "collapsed": false,
    "ExecuteTime": {
     "start_time": "2023-05-23T11:55:20.802004Z",
     "end_time": "2023-05-23T11:55:20.807825Z"
    }
   }
  },
  {
   "cell_type": "code",
   "execution_count": null,
   "outputs": [],
   "source": [
    "X_train, X_test, y_train, y_test = train_test_split(X, y, test_size=0.2, random_state=42)"
   ],
   "metadata": {
    "collapsed": false,
    "ExecuteTime": {
     "start_time": "2023-05-23T12:00:27.767560Z",
     "end_time": "2023-05-23T12:00:27.784726Z"
    }
   }
  },
  {
   "cell_type": "code",
   "execution_count": null,
   "outputs": [],
   "source": [
    "rf_model = RandomForestRegressor(n_estimators=1000, max_depth=100, random_state=42)"
   ],
   "metadata": {
    "collapsed": false,
    "ExecuteTime": {
     "start_time": "2023-05-23T12:04:37.197517Z",
     "end_time": "2023-05-23T12:04:37.211706Z"
    }
   }
  },
  {
   "cell_type": "code",
   "execution_count": null,
   "outputs": [],
   "source": [
    "rf_model.fit(X_train, y_train)"
   ],
   "metadata": {
    "collapsed": false,
    "ExecuteTime": {
     "start_time": "2023-05-23T12:04:37.570621Z",
     "end_time": "2023-05-23T12:05:17.754855Z"
    }
   }
  },
  {
   "cell_type": "code",
   "execution_count": null,
   "outputs": [],
   "source": [
    "y_pred = rf_model.predict(X_test)"
   ],
   "metadata": {
    "collapsed": false,
    "ExecuteTime": {
     "start_time": "2023-05-23T12:05:17.757767Z",
     "end_time": "2023-05-23T12:05:17.942841Z"
    }
   }
  },
  {
   "cell_type": "code",
   "execution_count": null,
   "outputs": [],
   "source": [
    "mse = mean_squared_error(y_test, y_pred)\n",
    "print(\"Mean Squared Error:\", mse)"
   ],
   "metadata": {
    "collapsed": false,
    "ExecuteTime": {
     "start_time": "2023-05-23T12:05:17.945011Z",
     "end_time": "2023-05-23T12:05:17.948059Z"
    }
   }
  },
  {
   "cell_type": "markdown",
   "source": [
    "### RNN"
   ],
   "metadata": {
    "collapsed": false
   }
  },
  {
   "cell_type": "code",
   "execution_count": 160,
   "outputs": [],
   "source": [
    "master_df"
   ],
   "metadata": {
    "collapsed": false,
    "ExecuteTime": {
     "start_time": "2023-05-23T13:52:37.237923Z",
     "end_time": "2023-05-23T13:52:37.241988Z"
    }
   }
  },
  {
   "cell_type": "code",
   "execution_count": 161,
   "outputs": [],
   "source": [],
   "metadata": {
    "collapsed": false,
    "ExecuteTime": {
     "start_time": "2023-05-23T13:52:37.527698Z",
     "end_time": "2023-05-23T13:52:37.537860Z"
    }
   }
  },
  {
   "cell_type": "code",
   "execution_count": 162,
   "outputs": [],
   "source": [],
   "metadata": {
    "collapsed": false,
    "ExecuteTime": {
     "start_time": "2023-05-23T13:52:38.455841Z",
     "end_time": "2023-05-23T13:52:38.470270Z"
    }
   }
  },
  {
   "cell_type": "code",
   "execution_count": 163,
   "outputs": [],
   "source": [],
   "metadata": {
    "collapsed": false,
    "ExecuteTime": {
     "start_time": "2023-05-23T13:52:38.830569Z",
     "end_time": "2023-05-23T13:52:38.841727Z"
    }
   }
  },
  {
   "cell_type": "code",
   "execution_count": 164,
   "outputs": [],
   "source": [],
   "metadata": {
    "collapsed": false,
    "ExecuteTime": {
     "start_time": "2023-05-23T13:52:41.511909Z",
     "end_time": "2023-05-23T13:52:41.524241Z"
    }
   }
  },
  {
   "cell_type": "code",
   "execution_count": 136,
   "outputs": [],
   "source": [],
   "metadata": {
    "collapsed": false,
    "ExecuteTime": {
     "start_time": "2023-05-23T13:46:17.081263Z",
     "end_time": "2023-05-23T13:46:17.085786Z"
    }
   }
  },
  {
   "cell_type": "code",
   "execution_count": 165,
   "outputs": [],
   "source": [],
   "metadata": {
    "collapsed": false,
    "ExecuteTime": {
     "start_time": "2023-05-23T13:52:45.342156Z",
     "end_time": "2023-05-23T13:52:45.347769Z"
    }
   }
  },
  {
   "cell_type": "code",
   "execution_count": 166,
   "outputs": [
    {
     "name": "stdout",
     "output_type": "stream",
     "text": [
      "Epoch 1/100, Loss: 1.3198547695539375\n",
      "Epoch 2/100, Loss: 0.9283400228554033\n",
      "Epoch 3/100, Loss: 0.83778327674778\n",
      "Epoch 4/100, Loss: 0.7922542366771173\n",
      "Epoch 5/100, Loss: 0.7872864141930113\n",
      "Epoch 6/100, Loss: 0.7546235110423161\n",
      "Epoch 7/100, Loss: 0.7527192896782451\n",
      "Epoch 8/100, Loss: 0.7386645963874384\n",
      "Epoch 9/100, Loss: 0.7164208260134196\n",
      "Epoch 10/100, Loss: 0.7204928069261427\n",
      "Epoch 11/100, Loss: 0.6955241544447305\n",
      "Epoch 12/100, Loss: 0.684065584639799\n",
      "Epoch 13/100, Loss: 0.6778005180046516\n",
      "Epoch 14/100, Loss: 0.6815886986492525\n",
      "Epoch 15/100, Loss: 0.6379256306182314\n",
      "Epoch 16/100, Loss: 0.617216067429934\n",
      "Epoch 17/100, Loss: 0.6007901342374197\n",
      "Epoch 18/100, Loss: 0.6075073354272057\n",
      "Epoch 19/100, Loss: 0.5770387508342445\n",
      "Epoch 20/100, Loss: 0.566901573499379\n",
      "Epoch 21/100, Loss: 0.5770133013447254\n",
      "Epoch 22/100, Loss: 0.5620839174573077\n",
      "Epoch 23/100, Loss: 0.5531319574256754\n",
      "Epoch 24/100, Loss: 0.5557390128099655\n",
      "Epoch 25/100, Loss: 0.5558351591771751\n",
      "Epoch 26/100, Loss: 0.5591450847670392\n",
      "Epoch 27/100, Loss: 0.5479974746250235\n",
      "Epoch 28/100, Loss: 0.5327532071406137\n",
      "Epoch 29/100, Loss: 0.5305268602481223\n",
      "Epoch 30/100, Loss: 0.5450242490860083\n",
      "Epoch 31/100, Loss: 0.5270618967672365\n",
      "Epoch 32/100, Loss: 0.5349839758384168\n",
      "Epoch 33/100, Loss: 0.5193918113275211\n",
      "Epoch 34/100, Loss: 0.5186436231357858\n",
      "Epoch 35/100, Loss: 0.5259826162652745\n",
      "Epoch 36/100, Loss: 0.5206921024303657\n",
      "Epoch 37/100, Loss: 0.502000980057567\n",
      "Epoch 38/100, Loss: 0.5252118736067495\n",
      "Epoch 39/100, Loss: 0.5222563575393373\n",
      "Epoch 40/100, Loss: 0.5182248182484999\n",
      "Epoch 41/100, Loss: 0.5161177361558514\n",
      "Epoch 42/100, Loss: 0.49808601698524524\n",
      "Epoch 43/100, Loss: 0.5079474586267018\n",
      "Epoch 44/100, Loss: 0.5244218035550595\n",
      "Epoch 45/100, Loss: 0.5175358522607817\n",
      "Epoch 46/100, Loss: 0.5096762260422993\n",
      "Epoch 47/100, Loss: 0.5017573508204605\n",
      "Epoch 48/100, Loss: 0.49195428005644887\n",
      "Epoch 49/100, Loss: 0.48959918945663633\n",
      "Epoch 50/100, Loss: 0.49859190699574374\n",
      "Epoch 51/100, Loss: 0.4851435561748395\n",
      "Epoch 52/100, Loss: 0.5031513487850987\n",
      "Epoch 53/100, Loss: 0.4971645289802923\n",
      "Epoch 54/100, Loss: 0.496950517077628\n",
      "Epoch 55/100, Loss: 0.4887074835584406\n",
      "Epoch 56/100, Loss: 0.4964009426489756\n",
      "Epoch 57/100, Loss: 0.4874688785597571\n",
      "Epoch 58/100, Loss: 0.47791095242424547\n",
      "Epoch 59/100, Loss: 0.48956431497535036\n",
      "Epoch 60/100, Loss: 0.48322447466832896\n",
      "Epoch 61/100, Loss: 0.4864924558724397\n",
      "Epoch 62/100, Loss: 0.47838205414568735\n",
      "Epoch 63/100, Loss: 0.4720895302969624\n",
      "Epoch 64/100, Loss: 0.4826001123305981\n",
      "Epoch 65/100, Loss: 0.4721126835880759\n",
      "Epoch 66/100, Loss: 0.4605536944766324\n",
      "Epoch 67/100, Loss: 0.4685502465336383\n",
      "Epoch 68/100, Loss: 0.4637020249248815\n",
      "Epoch 69/100, Loss: 0.4850426607821627\n",
      "Epoch 70/100, Loss: 0.4736704089839963\n",
      "Epoch 71/100, Loss: 0.47326681384660335\n",
      "Epoch 72/100, Loss: 0.4699892033468288\n",
      "Epoch 73/100, Loss: 0.47697087714356745\n",
      "Epoch 74/100, Loss: 0.46725784050177566\n",
      "Epoch 75/100, Loss: 0.4626332703638336\n",
      "Epoch 76/100, Loss: 0.4623197662493364\n",
      "Epoch 77/100, Loss: 0.47608619136741914\n",
      "Epoch 78/100, Loss: 0.4720033189665543\n",
      "Epoch 79/100, Loss: 0.4653293532792946\n",
      "Epoch 80/100, Loss: 0.4679044588163534\n",
      "Epoch 81/100, Loss: 0.47483437274839535\n",
      "Epoch 82/100, Loss: 0.4630945062040666\n",
      "Epoch 83/100, Loss: 0.45035982393930085\n",
      "Epoch 84/100, Loss: 0.4929592257955695\n",
      "Epoch 85/100, Loss: 0.4643611060402319\n",
      "Epoch 86/100, Loss: 0.4674391450627527\n",
      "Epoch 87/100, Loss: 0.48060921874072726\n",
      "Epoch 88/100, Loss: 0.4683218077731085\n",
      "Epoch 89/100, Loss: 0.44984015491105017\n",
      "Epoch 90/100, Loss: 0.4658088490378551\n",
      "Epoch 91/100, Loss: 0.45310235779886554\n",
      "Epoch 92/100, Loss: 0.470040919299277\n",
      "Epoch 93/100, Loss: 0.4445983367860239\n",
      "Epoch 94/100, Loss: 0.45212706866558044\n",
      "Epoch 95/100, Loss: 0.46489595213843593\n",
      "Epoch 96/100, Loss: 0.47752003764187057\n",
      "Epoch 97/100, Loss: 0.46162787286073453\n",
      "Epoch 98/100, Loss: 0.44550553313383356\n",
      "Epoch 99/100, Loss: 0.4676010598327776\n",
      "Epoch 100/100, Loss: 0.4587005531879763\n"
     ]
    }
   ],
   "source": [],
   "metadata": {
    "collapsed": false,
    "ExecuteTime": {
     "start_time": "2023-05-23T13:52:45.738802Z",
     "end_time": "2023-05-23T14:00:40.161032Z"
    }
   }
  },
  {
   "cell_type": "code",
   "execution_count": 167,
   "outputs": [
    {
     "name": "stdout",
     "output_type": "stream",
     "text": [
      "Mean Squared Error: 0.7915852\n"
     ]
    }
   ],
   "source": [
    "#split data into train, val, test\n",
    "#train = 70%, val = 20%, test = 10%\n",
    "\n",
    "train_df = master_df[:int(len(master_df)*0.7)]\n",
    "val_df = master_df[int(len(master_df)*0.7):int(len(master_df)*0.9)]\n",
    "test_df = master_df[int(len(master_df)*0.9):]\n"
   ],
   "metadata": {
    "collapsed": false,
    "ExecuteTime": {
     "start_time": "2023-05-23T14:00:40.164391Z",
     "end_time": "2023-05-23T14:00:40.497591Z"
    }
   }
  },
  {
   "cell_type": "code",
   "execution_count": null,
   "outputs": [],
   "source": [
    "#normalize data\n",
    "train_mean = train_df.mean()\n",
    "train_std = train_df.std()\n",
    "\n",
    "train_df = (train_df - train_mean) / train_std\n",
    "val_df = (val_df - train_mean) / train_std\n",
    "test_df = (test_df - train_mean) / train_std"
   ],
   "metadata": {
    "collapsed": false,
    "ExecuteTime": {
     "start_time": "2023-05-23T11:50:32.260708Z",
     "end_time": "2023-05-23T11:50:32.430395Z"
    }
   }
  },
  {
   "cell_type": "code",
   "execution_count": null,
   "outputs": [],
   "source": [
    "df_std = (master_df - train_mean) / train_std\n",
    "df_std = df_std.melt(var_name='Column', value_name='Normalized')\n",
    "plt.figure(figsize=(12, 6))\n",
    "ax = sns.violinplot(x='Column', y='Normalized', data=df_std)\n",
    "_ = ax.set_xticklabels(master_df.keys(), rotation=90)"
   ],
   "metadata": {
    "collapsed": false,
    "ExecuteTime": {
     "start_time": "2023-05-23T11:50:32.278925Z",
     "end_time": "2023-05-23T11:50:33.176017Z"
    }
   }
  },
  {
   "cell_type": "code",
   "execution_count": null,
   "outputs": [],
   "source": [],
   "metadata": {
    "collapsed": false
   }
  },
  {
   "cell_type": "code",
   "execution_count": null,
   "outputs": [],
   "source": [],
   "metadata": {
    "collapsed": false
   }
  }
 ],
 "metadata": {
  "kernelspec": {
   "display_name": "Python 3",
   "language": "python",
   "name": "python3"
  },
  "language_info": {
   "codemirror_mode": {
    "name": "ipython",
    "version": 2
   },
   "file_extension": ".py",
   "mimetype": "text/x-python",
   "name": "python",
   "nbconvert_exporter": "python",
   "pygments_lexer": "ipython2",
   "version": "2.7.6"
  }
 },
 "nbformat": 4,
 "nbformat_minor": 0
}
