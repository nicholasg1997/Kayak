{
 "cells": [
  {
   "cell_type": "markdown",
   "source": [
    " use neural network to predict the change in the ecmwf-eps from the previous cycle run 12 hours ago for days 9-14\n",
    " ### current model features\n",
    "- the difference between the new ecmwf forecast for day 9 and the previous emcwf-eps forecast for day 9[x]\n",
    "- the difference between the new emcwf-eps forecast for day 8 and the previous emcwf-eps forecast for day 8[x]\n",
    "- the difference between the new gfs-ens-bc forecast for days 9-14 and the previous emcwf-eps forecast for days 9-14[x]\n",
    "- the difference between the new cmc-ens forecast for days 9-14 and the new gfs-ens-bc  forecast for days 9-14[x]\n",
    "\n",
    "### new feature ideas\n",
    "- rain data\n",
    "- wind data\n",
    "- ???"
   ],
   "metadata": {
    "collapsed": false
   }
  },
  {
   "cell_type": "code",
   "execution_count": 44,
   "outputs": [],
   "source": [
    "import pandas as pd\n",
    "import glob\n",
    "import matplotlib.pyplot as plt\n",
    "from datetime import datetime, time"
   ],
   "metadata": {
    "collapsed": false,
    "ExecuteTime": {
     "start_time": "2023-05-23T09:05:45.166737Z",
     "end_time": "2023-05-23T09:05:45.173742Z"
    }
   }
  },
  {
   "cell_type": "code",
   "execution_count": 45,
   "outputs": [],
   "source": [
    "path = \"RawData\""
   ],
   "metadata": {
    "collapsed": false,
    "ExecuteTime": {
     "start_time": "2023-05-23T09:05:45.338817Z",
     "end_time": "2023-05-23T09:05:45.340816Z"
    }
   }
  },
  {
   "cell_type": "code",
   "execution_count": 46,
   "outputs": [],
   "source": [
    "def extract_date_time(filename):\n",
    "    parts = filename.split('.')\n",
    "    date = parts[1]\n",
    "    time = parts[2]\n",
    "    return date, time"
   ],
   "metadata": {
    "collapsed": false,
    "ExecuteTime": {
     "start_time": "2023-05-23T09:05:45.493991Z",
     "end_time": "2023-05-23T09:05:45.498027Z"
    }
   }
  },
  {
   "cell_type": "code",
   "execution_count": 62,
   "outputs": [],
   "source": [
    "def get_date(df, file):\n",
    "    date_str = df[df.iloc[:, 2] == 1].iloc[0]['Date']\n",
    "    time_str = str(file.split('.')[2])\n",
    "    date = datetime.strptime(date_str, '%Y-%m-%d')\n",
    "    time_value = time(int(time_str), 0)\n",
    "    combined_datetime = datetime.combine(date.date(), time_value)\n",
    "    return combined_datetime"
   ],
   "metadata": {
    "collapsed": false,
    "ExecuteTime": {
     "start_time": "2023-05-23T09:16:20.811474Z",
     "end_time": "2023-05-23T09:16:20.818675Z"
    }
   }
  },
  {
   "cell_type": "code",
   "execution_count": 47,
   "outputs": [],
   "source": [
    "ecmwf_files = glob.glob(path + '/ecmwf.*.[01][02].gw_hdd.csv')\n",
    "ecmwf_sorted_files = sorted(ecmwf_files, key=lambda x: (x.split('.')[1], x.split('.')[2]))[3:]\n",
    "\n",
    "ecmwf_eps_files = glob.glob(path + '/ecmwf-eps.*.[01][02].gw_hdd.csv')\n",
    "ecmwf_eps_sorted_files = sorted(ecmwf_eps_files, key=lambda x: (x.split('.')[1], x.split('.')[2]))[2:]"
   ],
   "metadata": {
    "collapsed": false,
    "ExecuteTime": {
     "start_time": "2023-05-23T09:05:45.658898Z",
     "end_time": "2023-05-23T09:05:45.888769Z"
    }
   }
  },
  {
   "cell_type": "code",
   "execution_count": 48,
   "outputs": [],
   "source": [
    "set1 = set((extract_date_time(filename) for filename in ecmwf_sorted_files))\n",
    "set2 = set((extract_date_time(filename) for filename in ecmwf_eps_sorted_files))"
   ],
   "metadata": {
    "collapsed": false,
    "ExecuteTime": {
     "start_time": "2023-05-23T09:05:45.897832Z",
     "end_time": "2023-05-23T09:05:45.899599Z"
    }
   }
  },
  {
   "cell_type": "code",
   "execution_count": 49,
   "outputs": [],
   "source": [
    "ecmwf_sorted_files = [filename for filename in ecmwf_sorted_files if extract_date_time(filename) in set2]\n",
    "ecmwf_eps_sorted_files = [filename for filename in ecmwf_eps_sorted_files if extract_date_time(filename) in set1]"
   ],
   "metadata": {
    "collapsed": false,
    "ExecuteTime": {
     "start_time": "2023-05-23T09:05:46.002502Z",
     "end_time": "2023-05-23T09:05:46.003348Z"
    }
   }
  },
  {
   "cell_type": "code",
   "execution_count": 49,
   "outputs": [],
   "source": [],
   "metadata": {
    "collapsed": false,
    "ExecuteTime": {
     "start_time": "2023-05-23T09:05:46.182041Z",
     "end_time": "2023-05-23T09:05:46.184071Z"
    }
   }
  },
  {
   "cell_type": "code",
   "execution_count": 49,
   "outputs": [],
   "source": [],
   "metadata": {
    "collapsed": false,
    "ExecuteTime": {
     "start_time": "2023-05-23T09:05:46.349749Z",
     "end_time": "2023-05-23T09:05:46.353794Z"
    }
   }
  },
  {
   "cell_type": "markdown",
   "source": [
    "### step 1 get changes in ecmwf-eps compared to 12 hours ago for days 9-14"
   ],
   "metadata": {
    "collapsed": false
   }
  },
  {
   "cell_type": "code",
   "execution_count": 49,
   "outputs": [],
   "source": [],
   "metadata": {
    "collapsed": false,
    "ExecuteTime": {
     "start_time": "2023-05-23T09:05:46.687042Z",
     "end_time": "2023-05-23T09:05:46.692496Z"
    }
   }
  },
  {
   "cell_type": "code",
   "execution_count": 64,
   "outputs": [],
   "source": [
    "change_df = pd.DataFrame(columns=['diff_9', 'diff_10', 'diff_11', 'diff_12',\n",
    "                                  'diff_13', 'diff_14'])\n",
    "\n",
    "for i in range(1, len(ecmwf_eps_sorted_files)):\n",
    "    ecmwf_eps_df = pd.read_csv(ecmwf_eps_sorted_files[i])\n",
    "    prev_ecmwf_eps_df = pd.read_csv(ecmwf_eps_sorted_files[i-1])\n",
    "    date = get_date(ecmwf_eps_df, ecmwf_eps_sorted_files[i])\n",
    "\n",
    "    changes = []\n",
    "    for day in range(8, 14):\n",
    "        changes.append(ecmwf_eps_df.iloc[day]['Value'] - prev_ecmwf_eps_df.iloc[day]['Value'])\n",
    "    new_row = pd.DataFrame([changes], columns=change_df.columns, index=[date])\n",
    "    change_df = pd.concat([change_df, new_row])\n"
   ],
   "metadata": {
    "collapsed": false,
    "ExecuteTime": {
     "start_time": "2023-05-23T09:16:59.933657Z",
     "end_time": "2023-05-23T09:17:07.488997Z"
    }
   }
  },
  {
   "cell_type": "code",
   "execution_count": 65,
   "outputs": [],
   "source": [],
   "metadata": {
    "collapsed": false,
    "ExecuteTime": {
     "start_time": "2023-05-23T09:17:25.235237Z",
     "end_time": "2023-05-23T09:17:25.244037Z"
    }
   }
  },
  {
   "cell_type": "code",
   "execution_count": 65,
   "outputs": [],
   "source": [],
   "metadata": {
    "collapsed": false,
    "ExecuteTime": {
     "start_time": "2023-05-23T09:17:27.463708Z",
     "end_time": "2023-05-23T09:17:27.467953Z"
    }
   }
  },
  {
   "cell_type": "markdown",
   "source": [
    "## step 2 recreate model"
   ],
   "metadata": {
    "collapsed": false
   }
  },
  {
   "cell_type": "markdown",
   "source": [
    "### step 2.1 get difference between the new ecmwf forecast for day 9 and the previous emcwf-eps forecast for day 9"
   ],
   "metadata": {
    "collapsed": false
   }
  },
  {
   "cell_type": "markdown",
   "source": [
    "### problems:\n",
    "- not all dates are in both sets of data"
   ],
   "metadata": {
    "collapsed": false
   }
  },
  {
   "cell_type": "code",
   "execution_count": 52,
   "outputs": [],
   "source": [
    "diff = {}\n",
    "#for i in range(1, len(ecmwf_sorted_files)-1):\n",
    "for i in range(1, 2):\n",
    "    ecmwf_df = pd.read_csv(ecmwf_sorted_files[i])\n",
    "    ecmwf_eps_df = pd.read_csv(ecmwf_eps_sorted_files[i-1])\n",
    "\n",
    "    ecmwf = ecmwf_df.iloc[8]\n",
    "    ecmwf_eps = ecmwf_eps_df.iloc[9]\n",
    "\n",
    "    date = ecmwf['Date']\n",
    "    diff[date] = ecmwf['Value'] - ecmwf_eps['Value']\n",
    "\n",
    "diff_df = pd.DataFrame.from_dict(diff, orient='index', columns=['Value'])"
   ],
   "metadata": {
    "collapsed": false,
    "ExecuteTime": {
     "start_time": "2023-05-23T09:05:54.670877Z",
     "end_time": "2023-05-23T09:05:54.674172Z"
    }
   }
  },
  {
   "cell_type": "code",
   "execution_count": 58,
   "outputs": [
    {
     "data": {
      "text/plain": "'RawData/ecmwf.20180711.00.gw_hdd.csv'"
     },
     "execution_count": 58,
     "metadata": {},
     "output_type": "execute_result"
    }
   ],
   "source": [
    "ecmwf_sorted_files[1]"
   ],
   "metadata": {
    "collapsed": false,
    "ExecuteTime": {
     "start_time": "2023-05-23T09:12:51.443118Z",
     "end_time": "2023-05-23T09:12:51.448958Z"
    }
   }
  },
  {
   "cell_type": "code",
   "execution_count": 53,
   "outputs": [
    {
     "data": {
      "text/plain": "          Date  Value  Flag (0=obs 1=fcst 2=norm)\n0   2018-07-04  0.057                           0\n1   2018-07-05  0.007                           0\n2   2018-07-06  0.014                           0\n3   2018-07-07  0.044                           0\n4   2018-07-08  0.007                           0\n5   2018-07-09  0.056                           0\n6   2018-07-10  0.021                           0\n7   2018-07-11  0.006                           1\n8   2018-07-12  0.004                           1\n9   2018-07-13  0.008                           1\n10  2018-07-14  0.009                           1\n11  2018-07-15  0.009                           1\n12  2018-07-16  0.008                           1\n13  2018-07-17  0.005                           1\n14  2018-07-18  0.133                           1\n15  2018-07-19  0.086                           1\n16  2018-07-20  0.020                           1\n17  2018-07-21  0.067                           2\n18  2018-07-22  0.043                           2\n19  2018-07-23  0.021                           2\n20  2018-07-24  0.000                           2\n21  2018-07-25  0.000                           2\n22  2018-07-26  0.000                           2\n23  2018-07-27  0.000                           2",
      "text/html": "<div>\n<style scoped>\n    .dataframe tbody tr th:only-of-type {\n        vertical-align: middle;\n    }\n\n    .dataframe tbody tr th {\n        vertical-align: top;\n    }\n\n    .dataframe thead th {\n        text-align: right;\n    }\n</style>\n<table border=\"1\" class=\"dataframe\">\n  <thead>\n    <tr style=\"text-align: right;\">\n      <th></th>\n      <th>Date</th>\n      <th>Value</th>\n      <th>Flag (0=obs 1=fcst 2=norm)</th>\n    </tr>\n  </thead>\n  <tbody>\n    <tr>\n      <th>0</th>\n      <td>2018-07-04</td>\n      <td>0.057</td>\n      <td>0</td>\n    </tr>\n    <tr>\n      <th>1</th>\n      <td>2018-07-05</td>\n      <td>0.007</td>\n      <td>0</td>\n    </tr>\n    <tr>\n      <th>2</th>\n      <td>2018-07-06</td>\n      <td>0.014</td>\n      <td>0</td>\n    </tr>\n    <tr>\n      <th>3</th>\n      <td>2018-07-07</td>\n      <td>0.044</td>\n      <td>0</td>\n    </tr>\n    <tr>\n      <th>4</th>\n      <td>2018-07-08</td>\n      <td>0.007</td>\n      <td>0</td>\n    </tr>\n    <tr>\n      <th>5</th>\n      <td>2018-07-09</td>\n      <td>0.056</td>\n      <td>0</td>\n    </tr>\n    <tr>\n      <th>6</th>\n      <td>2018-07-10</td>\n      <td>0.021</td>\n      <td>0</td>\n    </tr>\n    <tr>\n      <th>7</th>\n      <td>2018-07-11</td>\n      <td>0.006</td>\n      <td>1</td>\n    </tr>\n    <tr>\n      <th>8</th>\n      <td>2018-07-12</td>\n      <td>0.004</td>\n      <td>1</td>\n    </tr>\n    <tr>\n      <th>9</th>\n      <td>2018-07-13</td>\n      <td>0.008</td>\n      <td>1</td>\n    </tr>\n    <tr>\n      <th>10</th>\n      <td>2018-07-14</td>\n      <td>0.009</td>\n      <td>1</td>\n    </tr>\n    <tr>\n      <th>11</th>\n      <td>2018-07-15</td>\n      <td>0.009</td>\n      <td>1</td>\n    </tr>\n    <tr>\n      <th>12</th>\n      <td>2018-07-16</td>\n      <td>0.008</td>\n      <td>1</td>\n    </tr>\n    <tr>\n      <th>13</th>\n      <td>2018-07-17</td>\n      <td>0.005</td>\n      <td>1</td>\n    </tr>\n    <tr>\n      <th>14</th>\n      <td>2018-07-18</td>\n      <td>0.133</td>\n      <td>1</td>\n    </tr>\n    <tr>\n      <th>15</th>\n      <td>2018-07-19</td>\n      <td>0.086</td>\n      <td>1</td>\n    </tr>\n    <tr>\n      <th>16</th>\n      <td>2018-07-20</td>\n      <td>0.020</td>\n      <td>1</td>\n    </tr>\n    <tr>\n      <th>17</th>\n      <td>2018-07-21</td>\n      <td>0.067</td>\n      <td>2</td>\n    </tr>\n    <tr>\n      <th>18</th>\n      <td>2018-07-22</td>\n      <td>0.043</td>\n      <td>2</td>\n    </tr>\n    <tr>\n      <th>19</th>\n      <td>2018-07-23</td>\n      <td>0.021</td>\n      <td>2</td>\n    </tr>\n    <tr>\n      <th>20</th>\n      <td>2018-07-24</td>\n      <td>0.000</td>\n      <td>2</td>\n    </tr>\n    <tr>\n      <th>21</th>\n      <td>2018-07-25</td>\n      <td>0.000</td>\n      <td>2</td>\n    </tr>\n    <tr>\n      <th>22</th>\n      <td>2018-07-26</td>\n      <td>0.000</td>\n      <td>2</td>\n    </tr>\n    <tr>\n      <th>23</th>\n      <td>2018-07-27</td>\n      <td>0.000</td>\n      <td>2</td>\n    </tr>\n  </tbody>\n</table>\n</div>"
     },
     "execution_count": 53,
     "metadata": {},
     "output_type": "execute_result"
    }
   ],
   "source": [
    "ecmwf_df"
   ],
   "metadata": {
    "collapsed": false,
    "ExecuteTime": {
     "start_time": "2023-05-23T09:05:54.678498Z",
     "end_time": "2023-05-23T09:05:54.698981Z"
    }
   }
  },
  {
   "cell_type": "code",
   "execution_count": 54,
   "outputs": [
    {
     "data": {
      "text/plain": "          Date  Value  Flag (0=obs 1=fcst 2=norm)\n0   2018-07-03  0.159                           0\n1   2018-07-04  0.057                           0\n2   2018-07-05  0.007                           0\n3   2018-07-06  0.014                           0\n4   2018-07-07  0.044                           0\n5   2018-07-08  0.007                           0\n6   2018-07-09  0.056                           0\n7   2018-07-10  0.021                           0\n8   2018-07-11  0.006                           1\n9   2018-07-12  0.003                           1\n10  2018-07-13  0.005                           1\n11  2018-07-14  0.004                           1\n12  2018-07-15  0.002                           1\n13  2018-07-16  0.004                           1\n14  2018-07-17  0.004                           1\n15  2018-07-18  0.002                           1\n16  2018-07-19  0.004                           1\n17  2018-07-20  0.004                           1\n18  2018-07-21  0.003                           1\n19  2018-07-22  0.003                           1\n20  2018-07-23  0.003                           1\n21  2018-07-24  0.004                           1\n22  2018-07-25  0.000                           2\n23  2018-07-26  0.000                           2\n24  2018-07-27  0.000                           2\n25  2018-07-28  0.000                           2\n26  2018-07-29  0.000                           2\n27  2018-07-30  0.000                           2\n28  2018-07-31  0.000                           2",
      "text/html": "<div>\n<style scoped>\n    .dataframe tbody tr th:only-of-type {\n        vertical-align: middle;\n    }\n\n    .dataframe tbody tr th {\n        vertical-align: top;\n    }\n\n    .dataframe thead th {\n        text-align: right;\n    }\n</style>\n<table border=\"1\" class=\"dataframe\">\n  <thead>\n    <tr style=\"text-align: right;\">\n      <th></th>\n      <th>Date</th>\n      <th>Value</th>\n      <th>Flag (0=obs 1=fcst 2=norm)</th>\n    </tr>\n  </thead>\n  <tbody>\n    <tr>\n      <th>0</th>\n      <td>2018-07-03</td>\n      <td>0.159</td>\n      <td>0</td>\n    </tr>\n    <tr>\n      <th>1</th>\n      <td>2018-07-04</td>\n      <td>0.057</td>\n      <td>0</td>\n    </tr>\n    <tr>\n      <th>2</th>\n      <td>2018-07-05</td>\n      <td>0.007</td>\n      <td>0</td>\n    </tr>\n    <tr>\n      <th>3</th>\n      <td>2018-07-06</td>\n      <td>0.014</td>\n      <td>0</td>\n    </tr>\n    <tr>\n      <th>4</th>\n      <td>2018-07-07</td>\n      <td>0.044</td>\n      <td>0</td>\n    </tr>\n    <tr>\n      <th>5</th>\n      <td>2018-07-08</td>\n      <td>0.007</td>\n      <td>0</td>\n    </tr>\n    <tr>\n      <th>6</th>\n      <td>2018-07-09</td>\n      <td>0.056</td>\n      <td>0</td>\n    </tr>\n    <tr>\n      <th>7</th>\n      <td>2018-07-10</td>\n      <td>0.021</td>\n      <td>0</td>\n    </tr>\n    <tr>\n      <th>8</th>\n      <td>2018-07-11</td>\n      <td>0.006</td>\n      <td>1</td>\n    </tr>\n    <tr>\n      <th>9</th>\n      <td>2018-07-12</td>\n      <td>0.003</td>\n      <td>1</td>\n    </tr>\n    <tr>\n      <th>10</th>\n      <td>2018-07-13</td>\n      <td>0.005</td>\n      <td>1</td>\n    </tr>\n    <tr>\n      <th>11</th>\n      <td>2018-07-14</td>\n      <td>0.004</td>\n      <td>1</td>\n    </tr>\n    <tr>\n      <th>12</th>\n      <td>2018-07-15</td>\n      <td>0.002</td>\n      <td>1</td>\n    </tr>\n    <tr>\n      <th>13</th>\n      <td>2018-07-16</td>\n      <td>0.004</td>\n      <td>1</td>\n    </tr>\n    <tr>\n      <th>14</th>\n      <td>2018-07-17</td>\n      <td>0.004</td>\n      <td>1</td>\n    </tr>\n    <tr>\n      <th>15</th>\n      <td>2018-07-18</td>\n      <td>0.002</td>\n      <td>1</td>\n    </tr>\n    <tr>\n      <th>16</th>\n      <td>2018-07-19</td>\n      <td>0.004</td>\n      <td>1</td>\n    </tr>\n    <tr>\n      <th>17</th>\n      <td>2018-07-20</td>\n      <td>0.004</td>\n      <td>1</td>\n    </tr>\n    <tr>\n      <th>18</th>\n      <td>2018-07-21</td>\n      <td>0.003</td>\n      <td>1</td>\n    </tr>\n    <tr>\n      <th>19</th>\n      <td>2018-07-22</td>\n      <td>0.003</td>\n      <td>1</td>\n    </tr>\n    <tr>\n      <th>20</th>\n      <td>2018-07-23</td>\n      <td>0.003</td>\n      <td>1</td>\n    </tr>\n    <tr>\n      <th>21</th>\n      <td>2018-07-24</td>\n      <td>0.004</td>\n      <td>1</td>\n    </tr>\n    <tr>\n      <th>22</th>\n      <td>2018-07-25</td>\n      <td>0.000</td>\n      <td>2</td>\n    </tr>\n    <tr>\n      <th>23</th>\n      <td>2018-07-26</td>\n      <td>0.000</td>\n      <td>2</td>\n    </tr>\n    <tr>\n      <th>24</th>\n      <td>2018-07-27</td>\n      <td>0.000</td>\n      <td>2</td>\n    </tr>\n    <tr>\n      <th>25</th>\n      <td>2018-07-28</td>\n      <td>0.000</td>\n      <td>2</td>\n    </tr>\n    <tr>\n      <th>26</th>\n      <td>2018-07-29</td>\n      <td>0.000</td>\n      <td>2</td>\n    </tr>\n    <tr>\n      <th>27</th>\n      <td>2018-07-30</td>\n      <td>0.000</td>\n      <td>2</td>\n    </tr>\n    <tr>\n      <th>28</th>\n      <td>2018-07-31</td>\n      <td>0.000</td>\n      <td>2</td>\n    </tr>\n  </tbody>\n</table>\n</div>"
     },
     "execution_count": 54,
     "metadata": {},
     "output_type": "execute_result"
    }
   ],
   "source": [
    "ecmwf_eps_df"
   ],
   "metadata": {
    "collapsed": false,
    "ExecuteTime": {
     "start_time": "2023-05-23T09:06:20.448901Z",
     "end_time": "2023-05-23T09:06:20.456888Z"
    }
   }
  },
  {
   "cell_type": "code",
   "execution_count": 41,
   "outputs": [
    {
     "data": {
      "text/plain": "            Value\n2018-07-12  0.001",
      "text/html": "<div>\n<style scoped>\n    .dataframe tbody tr th:only-of-type {\n        vertical-align: middle;\n    }\n\n    .dataframe tbody tr th {\n        vertical-align: top;\n    }\n\n    .dataframe thead th {\n        text-align: right;\n    }\n</style>\n<table border=\"1\" class=\"dataframe\">\n  <thead>\n    <tr style=\"text-align: right;\">\n      <th></th>\n      <th>Value</th>\n    </tr>\n  </thead>\n  <tbody>\n    <tr>\n      <th>2018-07-12</th>\n      <td>0.001</td>\n    </tr>\n  </tbody>\n</table>\n</div>"
     },
     "execution_count": 41,
     "metadata": {},
     "output_type": "execute_result"
    }
   ],
   "source": [
    "diff_df"
   ],
   "metadata": {
    "collapsed": false,
    "ExecuteTime": {
     "start_time": "2023-05-23T09:03:49.408402Z",
     "end_time": "2023-05-23T09:03:49.417751Z"
    }
   }
  },
  {
   "cell_type": "code",
   "execution_count": 302,
   "outputs": [],
   "source": [],
   "metadata": {
    "collapsed": false,
    "ExecuteTime": {
     "start_time": "2023-05-18T13:57:48.528639Z",
     "end_time": "2023-05-18T13:57:48.533720Z"
    }
   }
  },
  {
   "cell_type": "code",
   "execution_count": 302,
   "outputs": [],
   "source": [],
   "metadata": {
    "collapsed": false,
    "ExecuteTime": {
     "start_time": "2023-05-18T13:57:50.814992Z",
     "end_time": "2023-05-18T13:57:50.825234Z"
    }
   }
  },
  {
   "cell_type": "code",
   "execution_count": 302,
   "outputs": [],
   "source": [],
   "metadata": {
    "collapsed": false,
    "ExecuteTime": {
     "start_time": "2023-05-18T13:57:56.255920Z",
     "end_time": "2023-05-18T13:57:56.278401Z"
    }
   }
  },
  {
   "cell_type": "code",
   "execution_count": 302,
   "outputs": [],
   "source": [],
   "metadata": {
    "collapsed": false,
    "ExecuteTime": {
     "start_time": "2023-05-18T13:58:00.571550Z",
     "end_time": "2023-05-18T13:58:00.579768Z"
    }
   }
  },
  {
   "cell_type": "code",
   "execution_count": 274,
   "outputs": [],
   "source": [],
   "metadata": {
    "collapsed": false,
    "ExecuteTime": {
     "start_time": "2023-05-18T13:48:53.147145Z",
     "end_time": "2023-05-18T13:48:53.150297Z"
    }
   }
  },
  {
   "cell_type": "code",
   "execution_count": 274,
   "outputs": [],
   "source": [],
   "metadata": {
    "collapsed": false,
    "ExecuteTime": {
     "start_time": "2023-05-18T13:48:53.513038Z",
     "end_time": "2023-05-18T13:48:53.517560Z"
    }
   }
  },
  {
   "cell_type": "code",
   "execution_count": 249,
   "outputs": [],
   "source": [],
   "metadata": {
    "collapsed": false,
    "ExecuteTime": {
     "start_time": "2023-05-18T13:43:11.904446Z",
     "end_time": "2023-05-18T13:43:11.907514Z"
    }
   }
  },
  {
   "cell_type": "code",
   "execution_count": null,
   "outputs": [],
   "source": [],
   "metadata": {
    "collapsed": false
   }
  }
 ],
 "metadata": {
  "kernelspec": {
   "display_name": "Python 3",
   "language": "python",
   "name": "python3"
  },
  "language_info": {
   "codemirror_mode": {
    "name": "ipython",
    "version": 2
   },
   "file_extension": ".py",
   "mimetype": "text/x-python",
   "name": "python",
   "nbconvert_exporter": "python",
   "pygments_lexer": "ipython2",
   "version": "2.7.6"
  }
 },
 "nbformat": 4,
 "nbformat_minor": 0
}
