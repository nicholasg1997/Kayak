{
 "cells": [
  {
   "cell_type": "markdown",
   "source": [
    " use neural network to predict the change in the ecmwf-eps from the previous cycle run 12 hours ago for days 9-14\n",
    " ### current model features\n",
    "- the difference between the new ecmwf forecast for day 9 and the previous emcwf-eps forecast for day 9[x]\n",
    "- the difference between the new emcwf-eps forecast for day 8 and the previous emcwf-eps forecast for day 8[x]\n",
    "- the difference between the new gfs-ens-bc forecast for days 9-14 and the previous emcwf-eps forecast for days 9-14[x]\n",
    "- the difference between the new cmc-ens forecast for days 9-14 and the new gfs-ens-bc  forecast for days 9-14[x]\n",
    "\n",
    "### new feature ideas\n",
    "- rain data\n",
    "- wind data\n",
    "- past errors\n",
    "- ???"
   ],
   "metadata": {
    "collapsed": false
   }
  },
  {
   "cell_type": "code",
   "execution_count": 56,
   "outputs": [],
   "source": [
    "import pandas as pd\n",
    "import glob\n",
    "import matplotlib.pyplot as plt\n",
    "from datetime import datetime, time\n",
    "import numpy as np\n",
    "import seaborn as sns\n",
    "import matplotlib.pyplot as plt\n",
    "from sklearn.ensemble import RandomForestRegressor\n",
    "from sklearn.model_selection import train_test_split\n",
    "from sklearn.metrics import mean_squared_error\n",
    "from sklearn.preprocessing import MinMaxScaler\n",
    "import copy\n",
    "from meteostat import Stations, Daily"
   ],
   "metadata": {
    "collapsed": false,
    "ExecuteTime": {
     "start_time": "2023-05-25T11:47:24.582180Z",
     "end_time": "2023-05-25T11:47:24.588228Z"
    }
   }
  },
  {
   "cell_type": "code",
   "execution_count": 57,
   "outputs": [],
   "source": [
    "import torch\n",
    "import torch.nn as nn\n",
    "import torch.optim as optim"
   ],
   "metadata": {
    "collapsed": false,
    "ExecuteTime": {
     "start_time": "2023-05-25T11:47:24.843738Z",
     "end_time": "2023-05-25T11:47:24.852286Z"
    }
   }
  },
  {
   "cell_type": "code",
   "execution_count": 4,
   "outputs": [],
   "source": [
    "path = \"RawData\""
   ],
   "metadata": {
    "collapsed": false,
    "ExecuteTime": {
     "start_time": "2023-05-25T11:35:40.623239Z",
     "end_time": "2023-05-25T11:35:40.625283Z"
    }
   }
  },
  {
   "cell_type": "code",
   "execution_count": 5,
   "outputs": [],
   "source": [
    "def extract_date_time(filename):\n",
    "    \"\"\"\n",
    "    extract the date and time from the filename\n",
    "    :param filename:\n",
    "    :return:\n",
    "    \"\"\"\n",
    "    parts = filename.split('.')\n",
    "    date = parts[1]\n",
    "    time = parts[2]\n",
    "    return date, time"
   ],
   "metadata": {
    "collapsed": false,
    "ExecuteTime": {
     "start_time": "2023-05-25T11:35:40.627037Z",
     "end_time": "2023-05-25T11:35:40.632246Z"
    }
   }
  },
  {
   "cell_type": "code",
   "execution_count": 6,
   "outputs": [],
   "source": [
    "def get_date(df, file):\n",
    "    \"\"\"get the date from the dataframe and the time from the filename and combine them into a datetime object\n",
    "    :param df: dataframe containing the date\n",
    "    :param file: filename containing the time\n",
    "    :return: datetime object\n",
    "    \"\"\"\n",
    "    #date_str = df[df.iloc[:, 2] == 1].iloc[0]['Date']\n",
    "    date_str = str(file.split('.')[1])\n",
    "    time_str = str(file.split('.')[2])\n",
    "    #date = datetime.strptime(date_str, '%Y-%m-%d')\n",
    "    date = datetime.strptime(date_str, '%Y%m%d')\n",
    "    time_value = time(int(time_str), 0)\n",
    "    combined_datetime = datetime.combine(date.date(), time_value)\n",
    "    return combined_datetime"
   ],
   "metadata": {
    "collapsed": false,
    "ExecuteTime": {
     "start_time": "2023-05-25T11:35:40.632361Z",
     "end_time": "2023-05-25T11:35:40.645569Z"
    }
   }
  },
  {
   "cell_type": "code",
   "execution_count": 6,
   "outputs": [],
   "source": [],
   "metadata": {
    "collapsed": false,
    "ExecuteTime": {
     "start_time": "2023-05-25T11:35:40.635472Z",
     "end_time": "2023-05-25T11:35:40.646018Z"
    }
   }
  },
  {
   "cell_type": "code",
   "execution_count": 7,
   "outputs": [],
   "source": [
    "ecmwf_files = glob.glob(path + '/ecmwf.*.[01][02].gw_hdd.csv')\n",
    "ecmwf_sorted_files = sorted(ecmwf_files, key=lambda x: (x.split('.')[1], x.split('.')[2]))[3:]\n",
    "\n",
    "ecmwf_eps_files = glob.glob(path + '/ecmwf-eps.*.[01][02].gw_hdd.csv')\n",
    "ecmwf_eps_sorted_files = sorted(ecmwf_eps_files, key=lambda x: (x.split('.')[1], x.split('.')[2]))[2:]\n",
    "\n",
    "gfs_ens_bc_files = glob.glob(path + '/gfs-ens-bc.*.[01][02].gw_hdd.csv')\n",
    "gfs_ens_bc_sorted_files = sorted(gfs_ens_bc_files, key=lambda x: (x.split('.')[1], x.split('.')[2]))[2:]\n",
    "\n",
    "cmc_ens_files = glob.glob(path + '/cmc-ens.*.[01][02].gw_hdd.csv')\n",
    "cmc_ens_sorted_files = sorted(cmc_ens_files, key=lambda x: (x.split('.')[1], x.split('.')[2]))[2:]"
   ],
   "metadata": {
    "collapsed": false,
    "ExecuteTime": {
     "start_time": "2023-05-25T11:35:40.641902Z",
     "end_time": "2023-05-25T11:35:41.078495Z"
    }
   }
  },
  {
   "cell_type": "code",
   "execution_count": 8,
   "outputs": [],
   "source": [
    "for _ in range(2):\n",
    "    set1 = set((extract_date_time(filename) for filename in ecmwf_sorted_files))\n",
    "    set2 = set((extract_date_time(filename) for filename in ecmwf_eps_sorted_files))\n",
    "\n",
    "    ecmwf_sorted_files = [filename for filename in ecmwf_sorted_files if extract_date_time(filename) in set2]\n",
    "    ecmwf_eps_sorted_files = [filename for filename in ecmwf_eps_sorted_files if extract_date_time(filename) in set1]\n",
    "    cmc_ens_sorted_files = [filename for filename in cmc_ens_sorted_files if extract_date_time(filename) in set1]\n",
    "\n",
    "    master_set = set((extract_date_time(filename) for filename in cmc_ens_sorted_files))\n",
    "    gfs_ens_bc_sorted_files = [filename for filename in gfs_ens_bc_sorted_files if extract_date_time(filename) in master_set]\n",
    "\n",
    "    master_set = set((extract_date_time(filename) for filename in gfs_ens_bc_sorted_files))\n",
    "\n",
    "    ecmwf_sorted_files = [filename for filename in ecmwf_sorted_files if extract_date_time(filename) in master_set]\n",
    "    ecmwf_eps_sorted_files = [filename for filename in ecmwf_eps_sorted_files if extract_date_time(filename) in master_set]\n",
    "    gfs_ens_bc_sorted_files = [filename for filename in gfs_ens_bc_sorted_files if extract_date_time(filename) in master_set]\n",
    "    cmc_ens_sorted_files = [filename for filename in cmc_ens_sorted_files if extract_date_time(filename) in master_set]"
   ],
   "metadata": {
    "collapsed": false,
    "ExecuteTime": {
     "start_time": "2023-05-25T11:35:41.102871Z",
     "end_time": "2023-05-25T11:35:41.118713Z"
    }
   }
  },
  {
   "cell_type": "code",
   "execution_count": 8,
   "outputs": [],
   "source": [],
   "metadata": {
    "collapsed": false,
    "ExecuteTime": {
     "start_time": "2023-05-25T11:35:41.119673Z",
     "end_time": "2023-05-25T11:35:41.122006Z"
    }
   }
  },
  {
   "cell_type": "code",
   "execution_count": 8,
   "outputs": [],
   "source": [],
   "metadata": {
    "collapsed": false,
    "ExecuteTime": {
     "start_time": "2023-05-25T11:35:41.122709Z",
     "end_time": "2023-05-25T11:35:41.125011Z"
    }
   }
  },
  {
   "cell_type": "code",
   "execution_count": 8,
   "outputs": [],
   "source": [],
   "metadata": {
    "collapsed": false,
    "ExecuteTime": {
     "start_time": "2023-05-25T11:35:41.127320Z",
     "end_time": "2023-05-25T11:35:41.128884Z"
    }
   }
  },
  {
   "cell_type": "code",
   "execution_count": 9,
   "outputs": [
    {
     "name": "stdout",
     "output_type": "stream",
     "text": [
      "3484\n",
      "3484\n",
      "3484\n",
      "3484\n"
     ]
    }
   ],
   "source": [
    "print(len(ecmwf_sorted_files))\n",
    "print(len(ecmwf_eps_sorted_files))\n",
    "print(len(gfs_ens_bc_sorted_files))\n",
    "print(len(cmc_ens_sorted_files))"
   ],
   "metadata": {
    "collapsed": false,
    "ExecuteTime": {
     "start_time": "2023-05-25T11:35:41.130384Z",
     "end_time": "2023-05-25T11:35:41.148940Z"
    }
   }
  },
  {
   "cell_type": "code",
   "execution_count": 9,
   "outputs": [],
   "source": [],
   "metadata": {
    "collapsed": false,
    "ExecuteTime": {
     "start_time": "2023-05-25T11:35:41.141911Z",
     "end_time": "2023-05-25T11:35:41.169760Z"
    }
   }
  },
  {
   "cell_type": "markdown",
   "source": [
    "### step 1 get changes in ecmwf-eps compared to 12 hours ago for days 9-14"
   ],
   "metadata": {
    "collapsed": false
   }
  },
  {
   "cell_type": "code",
   "execution_count": 9,
   "outputs": [],
   "source": [],
   "metadata": {
    "collapsed": false,
    "ExecuteTime": {
     "start_time": "2023-05-25T11:35:41.495528Z",
     "end_time": "2023-05-25T11:35:41.500968Z"
    }
   }
  },
  {
   "cell_type": "code",
   "execution_count": 10,
   "outputs": [],
   "source": [
    "ecmwf_eps_change_df = pd.DataFrame(columns=['ecmwf-eps_9', 'ecmwf-eps_10', 'ecmwf-eps_11', 'ecmwf-eps_12',\n",
    "                                  'ecmwf-eps_13', 'ecmwf-eps_14'])\n",
    "\n",
    "for i in range(1, len(ecmwf_eps_sorted_files)):\n",
    "    ecmwf_eps_df = pd.read_csv(ecmwf_eps_sorted_files[i])\n",
    "    prev_ecmwf_eps_df = pd.read_csv(ecmwf_eps_sorted_files[i-1])\n",
    "    date = get_date(ecmwf_eps_df, ecmwf_eps_sorted_files[i])\n",
    "    prev_date = get_date(prev_ecmwf_eps_df, ecmwf_eps_sorted_files[i-1])\n",
    "    d2 = str(date)[:10]\n",
    "    d1 = str(prev_date)[:10]\n",
    "\n",
    "    if d2 != d1:\n",
    "        offset = 1\n",
    "    else:\n",
    "        offset = 0\n",
    "\n",
    "    changes = []\n",
    "    for day in range(8, 14):\n",
    "        changes.append(ecmwf_eps_df.iloc[day - offset]['Value'] - prev_ecmwf_eps_df.iloc[day]['Value'])\n",
    "    new_row = pd.DataFrame([changes], columns=ecmwf_eps_change_df.columns, index=[date])\n",
    "    ecmwf_eps_change_df = pd.concat([ecmwf_eps_change_df, new_row])\n"
   ],
   "metadata": {
    "collapsed": false,
    "ExecuteTime": {
     "start_time": "2023-05-25T11:35:41.780835Z",
     "end_time": "2023-05-25T11:35:49.334909Z"
    }
   }
  },
  {
   "cell_type": "code",
   "execution_count": 10,
   "outputs": [],
   "source": [],
   "metadata": {
    "collapsed": false,
    "ExecuteTime": {
     "start_time": "2023-05-25T11:35:49.335695Z",
     "end_time": "2023-05-25T11:35:49.338048Z"
    }
   }
  },
  {
   "cell_type": "code",
   "execution_count": 10,
   "outputs": [],
   "source": [],
   "metadata": {
    "collapsed": false,
    "ExecuteTime": {
     "start_time": "2023-05-25T11:35:49.338917Z",
     "end_time": "2023-05-25T11:35:49.340499Z"
    }
   }
  },
  {
   "cell_type": "markdown",
   "source": [
    "## step 2 recreate model"
   ],
   "metadata": {
    "collapsed": false
   }
  },
  {
   "cell_type": "markdown",
   "source": [
    "### step 2.1 get difference between the new ecmwf forecast for day 9 and the previous ecmwf-eps forecast for day 9"
   ],
   "metadata": {
    "collapsed": false
   }
  },
  {
   "cell_type": "markdown",
   "source": [
    "### problems:\n",
    "- not all dates are in both sets of data"
   ],
   "metadata": {
    "collapsed": false
   }
  },
  {
   "cell_type": "code",
   "execution_count": 11,
   "outputs": [],
   "source": [
    "ecmwf_change_df = pd.DataFrame(columns=['ecmwf_diff_8', 'ecmwf_diff_9',])\n",
    "for i in range(1, len(ecmwf_sorted_files)):\n",
    "    ecmwf_df = pd.read_csv(ecmwf_sorted_files[i])\n",
    "    ecmwf_eps_df = pd.read_csv(ecmwf_eps_sorted_files[i-1]) #one day behind\n",
    "\n",
    "    ecmwf = ecmwf_df.iloc[8]\n",
    "    ecmwf_eps = ecmwf_eps_df.iloc[9]\n",
    "\n",
    "    date = get_date(ecmwf_df, ecmwf_sorted_files[i])\n",
    "    prev_date = get_date(ecmwf_eps_df, ecmwf_eps_sorted_files[i-1])\n",
    "    d2 = str(date)[:10]\n",
    "    d1 = str(prev_date)[:10]\n",
    "    if d2 != d1:\n",
    "        offset = 1\n",
    "    else:\n",
    "        offset = 0\n",
    "\n",
    "    changes = []\n",
    "    for day in range(8,10):\n",
    "        changes.append(ecmwf_df.iloc[day - offset]['Value'] - ecmwf_eps_df.iloc[day]['Value'])\n",
    "    new_row = pd.DataFrame([changes], columns=ecmwf_change_df.columns, index=[date])\n",
    "    ecmwf_change_df = pd.concat([ecmwf_change_df, new_row])"
   ],
   "metadata": {
    "collapsed": false,
    "ExecuteTime": {
     "start_time": "2023-05-25T11:35:49.346488Z",
     "end_time": "2023-05-25T11:35:55.051434Z"
    }
   }
  },
  {
   "cell_type": "code",
   "execution_count": 12,
   "outputs": [
    {
     "data": {
      "text/plain": "                     ecmwf_diff_8  ecmwf_diff_9\n2018-07-11 00:00:00         0.000         0.001\n2018-07-11 12:00:00         0.002         0.000\n2018-07-12 00:00:00         0.002         0.001\n2018-07-12 12:00:00         0.000         0.002\n2018-07-13 00:00:00         0.000         0.002\n...                           ...           ...\n2023-05-15 00:00:00         0.141        -0.029\n2023-05-15 12:00:00        -0.251        -0.294\n2023-05-16 00:00:00        -0.043        -0.260\n2023-05-16 12:00:00        -0.022         0.218\n2023-05-17 00:00:00        -0.004        -0.145\n\n[3483 rows x 2 columns]",
      "text/html": "<div>\n<style scoped>\n    .dataframe tbody tr th:only-of-type {\n        vertical-align: middle;\n    }\n\n    .dataframe tbody tr th {\n        vertical-align: top;\n    }\n\n    .dataframe thead th {\n        text-align: right;\n    }\n</style>\n<table border=\"1\" class=\"dataframe\">\n  <thead>\n    <tr style=\"text-align: right;\">\n      <th></th>\n      <th>ecmwf_diff_8</th>\n      <th>ecmwf_diff_9</th>\n    </tr>\n  </thead>\n  <tbody>\n    <tr>\n      <th>2018-07-11 00:00:00</th>\n      <td>0.000</td>\n      <td>0.001</td>\n    </tr>\n    <tr>\n      <th>2018-07-11 12:00:00</th>\n      <td>0.002</td>\n      <td>0.000</td>\n    </tr>\n    <tr>\n      <th>2018-07-12 00:00:00</th>\n      <td>0.002</td>\n      <td>0.001</td>\n    </tr>\n    <tr>\n      <th>2018-07-12 12:00:00</th>\n      <td>0.000</td>\n      <td>0.002</td>\n    </tr>\n    <tr>\n      <th>2018-07-13 00:00:00</th>\n      <td>0.000</td>\n      <td>0.002</td>\n    </tr>\n    <tr>\n      <th>...</th>\n      <td>...</td>\n      <td>...</td>\n    </tr>\n    <tr>\n      <th>2023-05-15 00:00:00</th>\n      <td>0.141</td>\n      <td>-0.029</td>\n    </tr>\n    <tr>\n      <th>2023-05-15 12:00:00</th>\n      <td>-0.251</td>\n      <td>-0.294</td>\n    </tr>\n    <tr>\n      <th>2023-05-16 00:00:00</th>\n      <td>-0.043</td>\n      <td>-0.260</td>\n    </tr>\n    <tr>\n      <th>2023-05-16 12:00:00</th>\n      <td>-0.022</td>\n      <td>0.218</td>\n    </tr>\n    <tr>\n      <th>2023-05-17 00:00:00</th>\n      <td>-0.004</td>\n      <td>-0.145</td>\n    </tr>\n  </tbody>\n</table>\n<p>3483 rows × 2 columns</p>\n</div>"
     },
     "execution_count": 12,
     "metadata": {},
     "output_type": "execute_result"
    }
   ],
   "source": [
    "ecmwf_change_df"
   ],
   "metadata": {
    "collapsed": false,
    "ExecuteTime": {
     "start_time": "2023-05-25T11:35:55.054548Z",
     "end_time": "2023-05-25T11:35:55.065246Z"
    }
   }
  },
  {
   "cell_type": "markdown",
   "source": [
    "### step 2.2 the difference between the new emcwf-eps forecast for day 8 and the previous emcwf-eps forecast for day 8 (not possible as the new ecmwf-eps forecast is not available because it will not be released yet???)"
   ],
   "metadata": {
    "collapsed": false,
    "ExecuteTime": {
     "start_time": "2023-05-25T09:12:57.677758Z",
     "end_time": "2023-05-25T09:12:57.679902Z"
    }
   },
   "outputs": [],
   "execution_count": 67
  },
  {
   "cell_type": "markdown",
   "source": [
    "### step 2.3 the difference between the new gfs-ens-bc forecast for days 9-14 and the previous emcwf-eps forecast for days 9-14"
   ],
   "metadata": {
    "collapsed": false,
    "ExecuteTime": {
     "start_time": "2023-05-25T09:13:18.790030Z",
     "end_time": "2023-05-25T09:13:18.796732Z"
    }
   },
   "outputs": [],
   "execution_count": 67
  },
  {
   "cell_type": "code",
   "execution_count": 13,
   "outputs": [],
   "source": [
    "gfs_ens_bc_change_df = pd.DataFrame(columns=['gfs-ens-bc_9', 'gfs-ens-bc_10', 'gfs-ens-bc_11', 'gfs-ens-bc_12',\n",
    "                                  'gfs-ens-bc_13', 'gfs-ens-bc_14'])\n",
    "\n",
    "for i in range(1, len(gfs_ens_bc_sorted_files)):\n",
    "    gfs_ens_bc_df = pd.read_csv(gfs_ens_bc_sorted_files[i])\n",
    "    prev_ecmwf_eps_df = pd.read_csv(ecmwf_eps_sorted_files[i-1])\n",
    "\n",
    "    date = get_date(gfs_ens_bc_df, gfs_ens_bc_sorted_files[i])\n",
    "    prev_date = get_date(prev_ecmwf_eps_df, ecmwf_eps_sorted_files[i-1])\n",
    "    d2 = str(date)[:10]\n",
    "    d1 = str(prev_date)[:10]\n",
    "    if d2 != d1:\n",
    "        offset = 1\n",
    "    else:\n",
    "        offset = 0\n",
    "\n",
    "    changes = []\n",
    "    for day in range(8, 14):\n",
    "        changes.append(gfs_ens_bc_df.iloc[day - offset]['Value'] - prev_ecmwf_eps_df.iloc[day]['Value'])\n",
    "    new_row = pd.DataFrame([changes], columns=gfs_ens_bc_change_df.columns, index=[date])\n",
    "    gfs_ens_bc_change_df = pd.concat([gfs_ens_bc_change_df, new_row])"
   ],
   "metadata": {
    "collapsed": false,
    "ExecuteTime": {
     "start_time": "2023-05-25T11:35:55.065692Z",
     "end_time": "2023-05-25T11:36:01.905053Z"
    }
   }
  },
  {
   "cell_type": "code",
   "execution_count": 14,
   "outputs": [
    {
     "data": {
      "text/plain": "                     gfs-ens-bc_9  gfs-ens-bc_10  gfs-ens-bc_11   \n2018-07-11 00:00:00         0.009          0.006          0.002  \\\n2018-07-11 12:00:00         0.004          0.001          0.000   \n2018-07-12 00:00:00         0.003          0.002          0.002   \n2018-07-12 12:00:00         0.001          0.002          0.004   \n2018-07-13 00:00:00         0.001          0.002          0.002   \n...                           ...            ...            ...   \n2023-05-15 00:00:00         0.332          0.501         -0.605   \n2023-05-15 12:00:00         0.403         -0.348         -0.853   \n2023-05-16 00:00:00         0.336         -0.060         -0.308   \n2023-05-16 12:00:00         0.203          0.060          1.151   \n2023-05-17 00:00:00         0.544          0.049          0.494   \n\n                     gfs-ens-bc_12  gfs-ens-bc_13  gfs-ens-bc_14  \n2018-07-11 00:00:00          0.001          0.013          0.013  \n2018-07-11 12:00:00          0.005          0.008          0.018  \n2018-07-12 00:00:00          0.006          0.009          0.020  \n2018-07-12 12:00:00          0.009          0.021          0.015  \n2018-07-13 00:00:00          0.007          0.019          0.021  \n...                            ...            ...            ...  \n2023-05-15 00:00:00         -1.101          0.168          0.631  \n2023-05-15 12:00:00          0.580          1.175          0.265  \n2023-05-16 00:00:00          0.493          0.187          0.021  \n2023-05-16 12:00:00          0.556          0.098         -0.652  \n2023-05-17 00:00:00          0.197         -0.116         -0.928  \n\n[3483 rows x 6 columns]",
      "text/html": "<div>\n<style scoped>\n    .dataframe tbody tr th:only-of-type {\n        vertical-align: middle;\n    }\n\n    .dataframe tbody tr th {\n        vertical-align: top;\n    }\n\n    .dataframe thead th {\n        text-align: right;\n    }\n</style>\n<table border=\"1\" class=\"dataframe\">\n  <thead>\n    <tr style=\"text-align: right;\">\n      <th></th>\n      <th>gfs-ens-bc_9</th>\n      <th>gfs-ens-bc_10</th>\n      <th>gfs-ens-bc_11</th>\n      <th>gfs-ens-bc_12</th>\n      <th>gfs-ens-bc_13</th>\n      <th>gfs-ens-bc_14</th>\n    </tr>\n  </thead>\n  <tbody>\n    <tr>\n      <th>2018-07-11 00:00:00</th>\n      <td>0.009</td>\n      <td>0.006</td>\n      <td>0.002</td>\n      <td>0.001</td>\n      <td>0.013</td>\n      <td>0.013</td>\n    </tr>\n    <tr>\n      <th>2018-07-11 12:00:00</th>\n      <td>0.004</td>\n      <td>0.001</td>\n      <td>0.000</td>\n      <td>0.005</td>\n      <td>0.008</td>\n      <td>0.018</td>\n    </tr>\n    <tr>\n      <th>2018-07-12 00:00:00</th>\n      <td>0.003</td>\n      <td>0.002</td>\n      <td>0.002</td>\n      <td>0.006</td>\n      <td>0.009</td>\n      <td>0.020</td>\n    </tr>\n    <tr>\n      <th>2018-07-12 12:00:00</th>\n      <td>0.001</td>\n      <td>0.002</td>\n      <td>0.004</td>\n      <td>0.009</td>\n      <td>0.021</td>\n      <td>0.015</td>\n    </tr>\n    <tr>\n      <th>2018-07-13 00:00:00</th>\n      <td>0.001</td>\n      <td>0.002</td>\n      <td>0.002</td>\n      <td>0.007</td>\n      <td>0.019</td>\n      <td>0.021</td>\n    </tr>\n    <tr>\n      <th>...</th>\n      <td>...</td>\n      <td>...</td>\n      <td>...</td>\n      <td>...</td>\n      <td>...</td>\n      <td>...</td>\n    </tr>\n    <tr>\n      <th>2023-05-15 00:00:00</th>\n      <td>0.332</td>\n      <td>0.501</td>\n      <td>-0.605</td>\n      <td>-1.101</td>\n      <td>0.168</td>\n      <td>0.631</td>\n    </tr>\n    <tr>\n      <th>2023-05-15 12:00:00</th>\n      <td>0.403</td>\n      <td>-0.348</td>\n      <td>-0.853</td>\n      <td>0.580</td>\n      <td>1.175</td>\n      <td>0.265</td>\n    </tr>\n    <tr>\n      <th>2023-05-16 00:00:00</th>\n      <td>0.336</td>\n      <td>-0.060</td>\n      <td>-0.308</td>\n      <td>0.493</td>\n      <td>0.187</td>\n      <td>0.021</td>\n    </tr>\n    <tr>\n      <th>2023-05-16 12:00:00</th>\n      <td>0.203</td>\n      <td>0.060</td>\n      <td>1.151</td>\n      <td>0.556</td>\n      <td>0.098</td>\n      <td>-0.652</td>\n    </tr>\n    <tr>\n      <th>2023-05-17 00:00:00</th>\n      <td>0.544</td>\n      <td>0.049</td>\n      <td>0.494</td>\n      <td>0.197</td>\n      <td>-0.116</td>\n      <td>-0.928</td>\n    </tr>\n  </tbody>\n</table>\n<p>3483 rows × 6 columns</p>\n</div>"
     },
     "execution_count": 14,
     "metadata": {},
     "output_type": "execute_result"
    }
   ],
   "source": [
    "gfs_ens_bc_change_df"
   ],
   "metadata": {
    "collapsed": false,
    "ExecuteTime": {
     "start_time": "2023-05-25T11:36:01.911966Z",
     "end_time": "2023-05-25T11:36:01.915269Z"
    }
   }
  },
  {
   "cell_type": "markdown",
   "source": [
    "### step 2.4 the difference between the new cmc-ens forecast for days 9-14 and the new gfs-ens-bc  forecast for days 9-14"
   ],
   "metadata": {
    "collapsed": false,
    "ExecuteTime": {
     "start_time": "2023-05-25T09:15:09.712351Z",
     "end_time": "2023-05-25T09:15:16.855969Z"
    }
   },
   "outputs": [],
   "execution_count": 68
  },
  {
   "cell_type": "code",
   "execution_count": 213,
   "outputs": [],
   "source": [
    "cmc_ens_change_df = pd.DataFrame(columns=['cmc-ens_9', 'cmc-ens_10', 'cmc-ens_11', 'cmc-ens_12',\n",
    "                                  'cmc-ens_13', 'cmc-ens_14'])\n",
    "\n",
    "for i in range(1, len(cmc_ens_sorted_files)):\n",
    "    cmc_ens_df = pd.read_csv(cmc_ens_sorted_files[i])\n",
    "    gfs_ens_bc_df = pd.read_csv(gfs_ens_bc_sorted_files[i])\n",
    "    date = get_date(cmc_ens_df, cmc_ens_sorted_files[i])\n",
    "\n",
    "    changes = []\n",
    "    for day in range(8, 14):\n",
    "        changes.append(cmc_ens_df.iloc[day]['Value'] - gfs_ens_bc_df.iloc[day]['Value'])\n",
    "    new_row = pd.DataFrame([changes], columns=cmc_ens_change_df.columns, index=[date])\n",
    "    cmc_ens_change_df = pd.concat([cmc_ens_change_df, new_row])"
   ],
   "metadata": {
    "collapsed": false,
    "ExecuteTime": {
     "start_time": "2023-05-25T13:26:55.407352Z",
     "end_time": "2023-05-25T13:27:03.550571Z"
    }
   }
  },
  {
   "cell_type": "code",
   "execution_count": 214,
   "outputs": [
    {
     "data": {
      "text/plain": "                     cmc-ens_9  cmc-ens_10  cmc-ens_11  cmc-ens_12   \n2018-07-11 00:00:00     -0.006      -0.003      -0.001      -0.013  \\\n2018-07-11 12:00:00     -0.003      -0.002      -0.001      -0.005   \n2018-07-12 00:00:00     -0.004      -0.002      -0.006      -0.009   \n2018-07-12 12:00:00     -0.002      -0.002      -0.004      -0.008   \n2018-07-13 00:00:00     -0.001      -0.003      -0.008      -0.022   \n...                        ...         ...         ...         ...   \n2023-05-15 00:00:00     -0.631       0.232       0.894      -0.599   \n2023-05-15 12:00:00     -0.591      -0.005       0.499      -1.314   \n2023-05-16 00:00:00     -0.279       0.012      -1.454      -1.532   \n2023-05-16 12:00:00     -0.481      -0.476      -1.847      -1.399   \n2023-05-17 00:00:00     -0.340      -1.170      -1.054      -0.289   \n\n                     cmc-ens_13  cmc-ens_14  \n2018-07-11 00:00:00      -0.014      -0.012  \n2018-07-11 12:00:00      -0.008      -0.016  \n2018-07-12 00:00:00      -0.017      -0.019  \n2018-07-12 12:00:00      -0.013      -0.007  \n2018-07-13 00:00:00      -0.021      -0.013  \n...                         ...         ...  \n2023-05-15 00:00:00      -1.595      -0.775  \n2023-05-15 12:00:00      -2.503      -0.942  \n2023-05-16 00:00:00      -0.951       0.255  \n2023-05-16 12:00:00      -0.814       0.066  \n2023-05-17 00:00:00       0.775       0.560  \n\n[3483 rows x 6 columns]",
      "text/html": "<div>\n<style scoped>\n    .dataframe tbody tr th:only-of-type {\n        vertical-align: middle;\n    }\n\n    .dataframe tbody tr th {\n        vertical-align: top;\n    }\n\n    .dataframe thead th {\n        text-align: right;\n    }\n</style>\n<table border=\"1\" class=\"dataframe\">\n  <thead>\n    <tr style=\"text-align: right;\">\n      <th></th>\n      <th>cmc-ens_9</th>\n      <th>cmc-ens_10</th>\n      <th>cmc-ens_11</th>\n      <th>cmc-ens_12</th>\n      <th>cmc-ens_13</th>\n      <th>cmc-ens_14</th>\n    </tr>\n  </thead>\n  <tbody>\n    <tr>\n      <th>2018-07-11 00:00:00</th>\n      <td>-0.006</td>\n      <td>-0.003</td>\n      <td>-0.001</td>\n      <td>-0.013</td>\n      <td>-0.014</td>\n      <td>-0.012</td>\n    </tr>\n    <tr>\n      <th>2018-07-11 12:00:00</th>\n      <td>-0.003</td>\n      <td>-0.002</td>\n      <td>-0.001</td>\n      <td>-0.005</td>\n      <td>-0.008</td>\n      <td>-0.016</td>\n    </tr>\n    <tr>\n      <th>2018-07-12 00:00:00</th>\n      <td>-0.004</td>\n      <td>-0.002</td>\n      <td>-0.006</td>\n      <td>-0.009</td>\n      <td>-0.017</td>\n      <td>-0.019</td>\n    </tr>\n    <tr>\n      <th>2018-07-12 12:00:00</th>\n      <td>-0.002</td>\n      <td>-0.002</td>\n      <td>-0.004</td>\n      <td>-0.008</td>\n      <td>-0.013</td>\n      <td>-0.007</td>\n    </tr>\n    <tr>\n      <th>2018-07-13 00:00:00</th>\n      <td>-0.001</td>\n      <td>-0.003</td>\n      <td>-0.008</td>\n      <td>-0.022</td>\n      <td>-0.021</td>\n      <td>-0.013</td>\n    </tr>\n    <tr>\n      <th>...</th>\n      <td>...</td>\n      <td>...</td>\n      <td>...</td>\n      <td>...</td>\n      <td>...</td>\n      <td>...</td>\n    </tr>\n    <tr>\n      <th>2023-05-15 00:00:00</th>\n      <td>-0.631</td>\n      <td>0.232</td>\n      <td>0.894</td>\n      <td>-0.599</td>\n      <td>-1.595</td>\n      <td>-0.775</td>\n    </tr>\n    <tr>\n      <th>2023-05-15 12:00:00</th>\n      <td>-0.591</td>\n      <td>-0.005</td>\n      <td>0.499</td>\n      <td>-1.314</td>\n      <td>-2.503</td>\n      <td>-0.942</td>\n    </tr>\n    <tr>\n      <th>2023-05-16 00:00:00</th>\n      <td>-0.279</td>\n      <td>0.012</td>\n      <td>-1.454</td>\n      <td>-1.532</td>\n      <td>-0.951</td>\n      <td>0.255</td>\n    </tr>\n    <tr>\n      <th>2023-05-16 12:00:00</th>\n      <td>-0.481</td>\n      <td>-0.476</td>\n      <td>-1.847</td>\n      <td>-1.399</td>\n      <td>-0.814</td>\n      <td>0.066</td>\n    </tr>\n    <tr>\n      <th>2023-05-17 00:00:00</th>\n      <td>-0.340</td>\n      <td>-1.170</td>\n      <td>-1.054</td>\n      <td>-0.289</td>\n      <td>0.775</td>\n      <td>0.560</td>\n    </tr>\n  </tbody>\n</table>\n<p>3483 rows × 6 columns</p>\n</div>"
     },
     "execution_count": 214,
     "metadata": {},
     "output_type": "execute_result"
    }
   ],
   "source": [
    "cmc_ens_change_df"
   ],
   "metadata": {
    "collapsed": false,
    "ExecuteTime": {
     "start_time": "2023-05-25T13:27:03.553039Z",
     "end_time": "2023-05-25T13:27:03.560220Z"
    }
   }
  },
  {
   "cell_type": "code",
   "execution_count": 215,
   "outputs": [],
   "source": [
    "# add month data"
   ],
   "metadata": {
    "collapsed": false,
    "ExecuteTime": {
     "start_time": "2023-05-25T13:27:07.868404Z",
     "end_time": "2023-05-25T13:27:07.890654Z"
    }
   }
  },
  {
   "cell_type": "code",
   "execution_count": 216,
   "outputs": [],
   "source": [
    "cmc_ens_change_df['month'] = cmc_ens_change_df.index.month"
   ],
   "metadata": {
    "collapsed": false,
    "ExecuteTime": {
     "start_time": "2023-05-25T13:27:08.229136Z",
     "end_time": "2023-05-25T13:27:08.242522Z"
    }
   }
  },
  {
   "cell_type": "code",
   "execution_count": 217,
   "outputs": [],
   "source": [
    "def f(i):\n",
    "    x = 6\n",
    "    y = 1-(1 * (abs(x-i)/x))\n",
    "    return y"
   ],
   "metadata": {
    "collapsed": false,
    "ExecuteTime": {
     "start_time": "2023-05-25T13:27:09.722359Z",
     "end_time": "2023-05-25T13:27:09.735497Z"
    }
   }
  },
  {
   "cell_type": "code",
   "execution_count": 217,
   "outputs": [],
   "source": [],
   "metadata": {
    "collapsed": false,
    "ExecuteTime": {
     "start_time": "2023-05-25T13:27:11.962380Z",
     "end_time": "2023-05-25T13:27:11.974625Z"
    }
   }
  },
  {
   "cell_type": "code",
   "execution_count": 218,
   "outputs": [],
   "source": [
    "cmc_ens_change_df['month'] = cmc_ens_change_df['month'].apply(f)"
   ],
   "metadata": {
    "collapsed": false,
    "ExecuteTime": {
     "start_time": "2023-05-25T13:27:12.315805Z",
     "end_time": "2023-05-25T13:27:12.325161Z"
    }
   }
  },
  {
   "cell_type": "code",
   "execution_count": 219,
   "outputs": [],
   "source": [
    "#add weather data"
   ],
   "metadata": {
    "collapsed": false,
    "ExecuteTime": {
     "start_time": "2023-05-25T13:27:13.093435Z",
     "end_time": "2023-05-25T13:27:13.102061Z"
    }
   }
  },
  {
   "cell_type": "code",
   "execution_count": 220,
   "outputs": [],
   "source": [
    "start_day = gfs_ens_bc_change_df.index[0]\n",
    "end_day = gfs_ens_bc_change_df.index[-1]\n",
    "\n",
    "# Set time period\n",
    "start = datetime(int(str(start_day)[:4]), int(str(start_day)[5:7]), int(str(start_day)[8:10]))\n",
    "end = datetime(int(str(end_day)[:4]), int(str(end_day)[5:7]), int(str(end_day)[8:10]))\n",
    "\n",
    "# Get daily data\n",
    "# KCQT0 is Los Angeles\n",
    "# 71877 is Calgary\n",
    "data = Daily('DHKZ6', start, end)\n",
    "data = data.fetch()"
   ],
   "metadata": {
    "collapsed": false,
    "ExecuteTime": {
     "start_time": "2023-05-25T13:27:14.742756Z",
     "end_time": "2023-05-25T13:27:14.754560Z"
    }
   }
  },
  {
   "cell_type": "code",
   "execution_count": 221,
   "outputs": [],
   "source": [
    "temp_data = data[['tavg', 'tmin', 'tmax', 'prcp']]\n",
    "temp_data = temp_data.diff(1)\n",
    "temp_data.fillna(0, inplace=True)\n",
    "temp_data['date'] = temp_data.index.date"
   ],
   "metadata": {
    "collapsed": false,
    "ExecuteTime": {
     "start_time": "2023-05-25T13:27:16.777906Z",
     "end_time": "2023-05-25T13:27:16.794224Z"
    }
   }
  },
  {
   "cell_type": "code",
   "execution_count": 222,
   "outputs": [],
   "source": [
    "gfs_ens_bc_change_df['date'] = gfs_ens_bc_change_df.index.date\n",
    "merged_df = pd.merge(gfs_ens_bc_change_df, temp_data, on='date', how='left')\n",
    "merged_df.index = gfs_ens_bc_change_df.index\n",
    "merged_df.drop(columns=['date'], inplace=True)"
   ],
   "metadata": {
    "collapsed": false,
    "ExecuteTime": {
     "start_time": "2023-05-25T13:27:19.277259Z",
     "end_time": "2023-05-25T13:27:19.286430Z"
    }
   }
  },
  {
   "cell_type": "code",
   "execution_count": 224,
   "outputs": [],
   "source": [
    "gfs_ens_bc_change_df = merged_df"
   ],
   "metadata": {
    "collapsed": false,
    "ExecuteTime": {
     "start_time": "2023-05-25T13:28:42.142940Z",
     "end_time": "2023-05-25T13:28:42.153119Z"
    }
   }
  },
  {
   "cell_type": "code",
   "execution_count": 224,
   "outputs": [],
   "source": [],
   "metadata": {
    "collapsed": false,
    "ExecuteTime": {
     "start_time": "2023-05-25T13:28:42.744101Z",
     "end_time": "2023-05-25T13:28:42.749840Z"
    }
   }
  },
  {
   "cell_type": "code",
   "execution_count": 225,
   "outputs": [],
   "source": [
    "master_df = pd.concat([gfs_ens_bc_change_df, cmc_ens_change_df, ecmwf_change_df, ecmwf_eps_change_df], axis=1)"
   ],
   "metadata": {
    "collapsed": false,
    "ExecuteTime": {
     "start_time": "2023-05-25T13:28:43.075019Z",
     "end_time": "2023-05-25T13:28:43.088544Z"
    }
   }
  },
  {
   "cell_type": "code",
   "execution_count": 246,
   "outputs": [],
   "source": [
    "master_df.fillna(0, inplace=True)"
   ],
   "metadata": {
    "collapsed": false,
    "ExecuteTime": {
     "start_time": "2023-05-25T13:30:51.305964Z",
     "end_time": "2023-05-25T13:30:51.311855Z"
    }
   }
  },
  {
   "cell_type": "code",
   "execution_count": 246,
   "outputs": [],
   "source": [],
   "metadata": {
    "collapsed": false,
    "ExecuteTime": {
     "start_time": "2023-05-25T13:30:51.967871Z",
     "end_time": "2023-05-25T13:30:51.981205Z"
    }
   }
  },
  {
   "cell_type": "markdown",
   "source": [
    "### random forest - mse=0.1674"
   ],
   "metadata": {
    "collapsed": false,
    "ExecuteTime": {
     "start_time": "2023-05-25T10:52:20.383435Z",
     "end_time": "2023-05-25T10:52:20.385561Z"
    }
   },
   "outputs": [],
   "execution_count": 208
  },
  {
   "cell_type": "code",
   "execution_count": 247,
   "outputs": [],
   "source": [
    "X = master_df.iloc[:, :-6]"
   ],
   "metadata": {
    "collapsed": false,
    "ExecuteTime": {
     "start_time": "2023-05-25T13:30:52.490312Z",
     "end_time": "2023-05-25T13:30:52.500537Z"
    }
   }
  },
  {
   "cell_type": "code",
   "execution_count": 248,
   "outputs": [],
   "source": [
    "y = master_df.iloc[:, -6:]"
   ],
   "metadata": {
    "collapsed": false,
    "ExecuteTime": {
     "start_time": "2023-05-25T13:30:52.837097Z",
     "end_time": "2023-05-25T13:30:52.847626Z"
    }
   }
  },
  {
   "cell_type": "code",
   "execution_count": 249,
   "outputs": [
    {
     "data": {
      "text/plain": "[<matplotlib.lines.Line2D at 0x7fb31556c460>]"
     },
     "execution_count": 249,
     "metadata": {},
     "output_type": "execute_result"
    },
    {
     "data": {
      "text/plain": "<Figure size 640x480 with 1 Axes>",
      "image/png": "[encoded data removed]"
     },
     "metadata": {},
     "output_type": "display_data"
    }
   ],
   "source": [
    "plt.plot(y['ecmwf-eps_9'][600:1000])"
   ],
   "metadata": {
    "collapsed": false,
    "ExecuteTime": {
     "start_time": "2023-05-25T13:30:53.083053Z",
     "end_time": "2023-05-25T13:30:53.325572Z"
    }
   }
  },
  {
   "cell_type": "code",
   "execution_count": 250,
   "outputs": [
    {
     "data": {
      "text/plain": "                     gfs-ens-bc_9  gfs-ens-bc_10  gfs-ens-bc_11   \n2018-07-11 00:00:00         0.009          0.006          0.002  \\\n2018-07-11 12:00:00         0.004          0.001          0.000   \n2018-07-12 00:00:00         0.003          0.002          0.002   \n2018-07-12 12:00:00         0.001          0.002          0.004   \n2018-07-13 00:00:00         0.001          0.002          0.002   \n...                           ...            ...            ...   \n2023-05-15 00:00:00         0.332          0.501         -0.605   \n2023-05-15 12:00:00         0.403         -0.348         -0.853   \n2023-05-16 00:00:00         0.336         -0.060         -0.308   \n2023-05-16 12:00:00         0.203          0.060          1.151   \n2023-05-17 00:00:00         0.544          0.049          0.494   \n\n                     gfs-ens-bc_12  gfs-ens-bc_13  gfs-ens-bc_14  tavg  tmin   \n2018-07-11 00:00:00          0.001          0.013          0.013   0.0   0.0  \\\n2018-07-11 12:00:00          0.005          0.008          0.018   0.0   0.0   \n2018-07-12 00:00:00          0.006          0.009          0.020  -0.7  -2.7   \n2018-07-12 12:00:00          0.009          0.021          0.015  -0.7  -2.7   \n2018-07-13 00:00:00          0.007          0.019          0.021   2.8   0.4   \n...                            ...            ...            ...   ...   ...   \n2023-05-15 00:00:00         -1.101          0.168          0.631   2.0   1.6   \n2023-05-15 12:00:00          0.580          1.175          0.265   2.0   1.6   \n2023-05-16 00:00:00          0.493          0.187          0.021   0.6   4.0   \n2023-05-16 12:00:00          0.556          0.098         -0.652   0.6   4.0   \n2023-05-17 00:00:00          0.197         -0.116         -0.928  -3.2  -4.1   \n\n                     tmax  prcp  cmc-ens_9  cmc-ens_10  cmc-ens_11   \n2018-07-11 00:00:00   0.0   0.0     -0.006      -0.003      -0.001  \\\n2018-07-11 12:00:00   0.0   0.0     -0.003      -0.002      -0.001   \n2018-07-12 00:00:00   1.3  -0.4     -0.004      -0.002      -0.006   \n2018-07-12 12:00:00   1.3  -0.4     -0.002      -0.002      -0.004   \n2018-07-13 00:00:00   5.1   0.0     -0.001      -0.003      -0.008   \n...                   ...   ...        ...         ...         ...   \n2023-05-15 00:00:00   2.7   0.0     -0.631       0.232       0.894   \n2023-05-15 12:00:00   2.7   0.0     -0.591      -0.005       0.499   \n2023-05-16 00:00:00  -2.3   0.0     -0.279       0.012      -1.454   \n2023-05-16 12:00:00  -2.3   0.0     -0.481      -0.476      -1.847   \n2023-05-17 00:00:00  -1.9   2.6     -0.340      -1.170      -1.054   \n\n                     cmc-ens_12  cmc-ens_13  cmc-ens_14     month   \n2018-07-11 00:00:00      -0.013      -0.014      -0.012  0.833333  \\\n2018-07-11 12:00:00      -0.005      -0.008      -0.016  0.833333   \n2018-07-12 00:00:00      -0.009      -0.017      -0.019  0.833333   \n2018-07-12 12:00:00      -0.008      -0.013      -0.007  0.833333   \n2018-07-13 00:00:00      -0.022      -0.021      -0.013  0.833333   \n...                         ...         ...         ...       ...   \n2023-05-15 00:00:00      -0.599      -1.595      -0.775  0.833333   \n2023-05-15 12:00:00      -1.314      -2.503      -0.942  0.833333   \n2023-05-16 00:00:00      -1.532      -0.951       0.255  0.833333   \n2023-05-16 12:00:00      -1.399      -0.814       0.066  0.833333   \n2023-05-17 00:00:00      -0.289       0.775       0.560  0.833333   \n\n                     ecmwf_diff_8  ecmwf_diff_9  \n2018-07-11 00:00:00         0.000         0.001  \n2018-07-11 12:00:00         0.002         0.000  \n2018-07-12 00:00:00         0.002         0.001  \n2018-07-12 12:00:00         0.000         0.002  \n2018-07-13 00:00:00         0.000         0.002  \n...                           ...           ...  \n2023-05-15 00:00:00         0.141        -0.029  \n2023-05-15 12:00:00        -0.251        -0.294  \n2023-05-16 00:00:00        -0.043        -0.260  \n2023-05-16 12:00:00        -0.022         0.218  \n2023-05-17 00:00:00        -0.004        -0.145  \n\n[3483 rows x 19 columns]",
      "text/html": "<div>\n<style scoped>\n    .dataframe tbody tr th:only-of-type {\n        vertical-align: middle;\n    }\n\n    .dataframe tbody tr th {\n        vertical-align: top;\n    }\n\n    .dataframe thead th {\n        text-align: right;\n    }\n</style>\n<table border=\"1\" class=\"dataframe\">\n  <thead>\n    <tr style=\"text-align: right;\">\n      <th></th>\n      <th>gfs-ens-bc_9</th>\n      <th>gfs-ens-bc_10</th>\n      <th>gfs-ens-bc_11</th>\n      <th>gfs-ens-bc_12</th>\n      <th>gfs-ens-bc_13</th>\n      <th>gfs-ens-bc_14</th>\n      <th>tavg</th>\n      <th>tmin</th>\n      <th>tmax</th>\n      <th>prcp</th>\n      <th>cmc-ens_9</th>\n      <th>cmc-ens_10</th>\n      <th>cmc-ens_11</th>\n      <th>cmc-ens_12</th>\n      <th>cmc-ens_13</th>\n      <th>cmc-ens_14</th>\n      <th>month</th>\n      <th>ecmwf_diff_8</th>\n      <th>ecmwf_diff_9</th>\n    </tr>\n  </thead>\n  <tbody>\n    <tr>\n      <th>2018-07-11 00:00:00</th>\n      <td>0.009</td>\n      <td>0.006</td>\n      <td>0.002</td>\n      <td>0.001</td>\n      <td>0.013</td>\n      <td>0.013</td>\n      <td>0.0</td>\n      <td>0.0</td>\n      <td>0.0</td>\n      <td>0.0</td>\n      <td>-0.006</td>\n      <td>-0.003</td>\n      <td>-0.001</td>\n      <td>-0.013</td>\n      <td>-0.014</td>\n      <td>-0.012</td>\n      <td>0.833333</td>\n      <td>0.000</td>\n      <td>0.001</td>\n    </tr>\n    <tr>\n      <th>2018-07-11 12:00:00</th>\n      <td>0.004</td>\n      <td>0.001</td>\n      <td>0.000</td>\n      <td>0.005</td>\n      <td>0.008</td>\n      <td>0.018</td>\n      <td>0.0</td>\n      <td>0.0</td>\n      <td>0.0</td>\n      <td>0.0</td>\n      <td>-0.003</td>\n      <td>-0.002</td>\n      <td>-0.001</td>\n      <td>-0.005</td>\n      <td>-0.008</td>\n      <td>-0.016</td>\n      <td>0.833333</td>\n      <td>0.002</td>\n      <td>0.000</td>\n    </tr>\n    <tr>\n      <th>2018-07-12 00:00:00</th>\n      <td>0.003</td>\n      <td>0.002</td>\n      <td>0.002</td>\n      <td>0.006</td>\n      <td>0.009</td>\n      <td>0.020</td>\n      <td>-0.7</td>\n      <td>-2.7</td>\n      <td>1.3</td>\n      <td>-0.4</td>\n      <td>-0.004</td>\n      <td>-0.002</td>\n      <td>-0.006</td>\n      <td>-0.009</td>\n      <td>-0.017</td>\n      <td>-0.019</td>\n      <td>0.833333</td>\n      <td>0.002</td>\n      <td>0.001</td>\n    </tr>\n    <tr>\n      <th>2018-07-12 12:00:00</th>\n      <td>0.001</td>\n      <td>0.002</td>\n      <td>0.004</td>\n      <td>0.009</td>\n      <td>0.021</td>\n      <td>0.015</td>\n      <td>-0.7</td>\n      <td>-2.7</td>\n      <td>1.3</td>\n      <td>-0.4</td>\n      <td>-0.002</td>\n      <td>-0.002</td>\n      <td>-0.004</td>\n      <td>-0.008</td>\n      <td>-0.013</td>\n      <td>-0.007</td>\n      <td>0.833333</td>\n      <td>0.000</td>\n      <td>0.002</td>\n    </tr>\n    <tr>\n      <th>2018-07-13 00:00:00</th>\n      <td>0.001</td>\n      <td>0.002</td>\n      <td>0.002</td>\n      <td>0.007</td>\n      <td>0.019</td>\n      <td>0.021</td>\n      <td>2.8</td>\n      <td>0.4</td>\n      <td>5.1</td>\n      <td>0.0</td>\n      <td>-0.001</td>\n      <td>-0.003</td>\n      <td>-0.008</td>\n      <td>-0.022</td>\n      <td>-0.021</td>\n      <td>-0.013</td>\n      <td>0.833333</td>\n      <td>0.000</td>\n      <td>0.002</td>\n    </tr>\n    <tr>\n      <th>...</th>\n      <td>...</td>\n      <td>...</td>\n      <td>...</td>\n      <td>...</td>\n      <td>...</td>\n      <td>...</td>\n      <td>...</td>\n      <td>...</td>\n      <td>...</td>\n      <td>...</td>\n      <td>...</td>\n      <td>...</td>\n      <td>...</td>\n      <td>...</td>\n      <td>...</td>\n      <td>...</td>\n      <td>...</td>\n      <td>...</td>\n      <td>...</td>\n    </tr>\n    <tr>\n      <th>2023-05-15 00:00:00</th>\n      <td>0.332</td>\n      <td>0.501</td>\n      <td>-0.605</td>\n      <td>-1.101</td>\n      <td>0.168</td>\n      <td>0.631</td>\n      <td>2.0</td>\n      <td>1.6</td>\n      <td>2.7</td>\n      <td>0.0</td>\n      <td>-0.631</td>\n      <td>0.232</td>\n      <td>0.894</td>\n      <td>-0.599</td>\n      <td>-1.595</td>\n      <td>-0.775</td>\n      <td>0.833333</td>\n      <td>0.141</td>\n      <td>-0.029</td>\n    </tr>\n    <tr>\n      <th>2023-05-15 12:00:00</th>\n      <td>0.403</td>\n      <td>-0.348</td>\n      <td>-0.853</td>\n      <td>0.580</td>\n      <td>1.175</td>\n      <td>0.265</td>\n      <td>2.0</td>\n      <td>1.6</td>\n      <td>2.7</td>\n      <td>0.0</td>\n      <td>-0.591</td>\n      <td>-0.005</td>\n      <td>0.499</td>\n      <td>-1.314</td>\n      <td>-2.503</td>\n      <td>-0.942</td>\n      <td>0.833333</td>\n      <td>-0.251</td>\n      <td>-0.294</td>\n    </tr>\n    <tr>\n      <th>2023-05-16 00:00:00</th>\n      <td>0.336</td>\n      <td>-0.060</td>\n      <td>-0.308</td>\n      <td>0.493</td>\n      <td>0.187</td>\n      <td>0.021</td>\n      <td>0.6</td>\n      <td>4.0</td>\n      <td>-2.3</td>\n      <td>0.0</td>\n      <td>-0.279</td>\n      <td>0.012</td>\n      <td>-1.454</td>\n      <td>-1.532</td>\n      <td>-0.951</td>\n      <td>0.255</td>\n      <td>0.833333</td>\n      <td>-0.043</td>\n      <td>-0.260</td>\n    </tr>\n    <tr>\n      <th>2023-05-16 12:00:00</th>\n      <td>0.203</td>\n      <td>0.060</td>\n      <td>1.151</td>\n      <td>0.556</td>\n      <td>0.098</td>\n      <td>-0.652</td>\n      <td>0.6</td>\n      <td>4.0</td>\n      <td>-2.3</td>\n      <td>0.0</td>\n      <td>-0.481</td>\n      <td>-0.476</td>\n      <td>-1.847</td>\n      <td>-1.399</td>\n      <td>-0.814</td>\n      <td>0.066</td>\n      <td>0.833333</td>\n      <td>-0.022</td>\n      <td>0.218</td>\n    </tr>\n    <tr>\n      <th>2023-05-17 00:00:00</th>\n      <td>0.544</td>\n      <td>0.049</td>\n      <td>0.494</td>\n      <td>0.197</td>\n      <td>-0.116</td>\n      <td>-0.928</td>\n      <td>-3.2</td>\n      <td>-4.1</td>\n      <td>-1.9</td>\n      <td>2.6</td>\n      <td>-0.340</td>\n      <td>-1.170</td>\n      <td>-1.054</td>\n      <td>-0.289</td>\n      <td>0.775</td>\n      <td>0.560</td>\n      <td>0.833333</td>\n      <td>-0.004</td>\n      <td>-0.145</td>\n    </tr>\n  </tbody>\n</table>\n<p>3483 rows × 19 columns</p>\n</div>"
     },
     "execution_count": 250,
     "metadata": {},
     "output_type": "execute_result"
    }
   ],
   "source": [
    "X"
   ],
   "metadata": {
    "collapsed": false,
    "ExecuteTime": {
     "start_time": "2023-05-25T13:30:53.630014Z",
     "end_time": "2023-05-25T13:30:53.652040Z"
    }
   }
  },
  {
   "cell_type": "code",
   "execution_count": 251,
   "outputs": [
    {
     "data": {
      "text/plain": "                     ecmwf-eps_9  ecmwf-eps_10  ecmwf-eps_11  ecmwf-eps_12   \n2018-07-11 00:00:00        0.001        -0.001         0.000         0.000  \\\n2018-07-11 12:00:00        0.001         0.000        -0.001        -0.001   \n2018-07-12 00:00:00       -0.001        -0.001         0.000         0.000   \n2018-07-12 12:00:00        0.000        -0.001         0.001         0.001   \n2018-07-13 00:00:00        0.000        -0.001        -0.001        -0.002   \n...                          ...           ...           ...           ...   \n2023-05-15 00:00:00        0.141         0.055        -0.230        -0.270   \n2023-05-15 12:00:00       -0.195        -0.020        -0.281        -0.132   \n2023-05-16 00:00:00       -0.035        -0.254        -0.293        -0.192   \n2023-05-16 12:00:00        0.261         0.335         0.252         0.221   \n2023-05-17 00:00:00        0.000        -0.169        -0.271         0.025   \n\n                     ecmwf-eps_13  ecmwf-eps_14  \n2018-07-11 00:00:00         0.000         0.000  \n2018-07-11 12:00:00        -0.001        -0.001  \n2018-07-12 00:00:00        -0.001         0.001  \n2018-07-12 12:00:00         0.006         0.003  \n2018-07-13 00:00:00         0.000        -0.001  \n...                           ...           ...  \n2023-05-15 00:00:00        -0.257         0.014  \n2023-05-15 12:00:00         0.050        -0.327  \n2023-05-16 00:00:00        -0.102        -0.086  \n2023-05-16 12:00:00         0.176         0.538  \n2023-05-17 00:00:00        -0.008        -0.078  \n\n[3483 rows x 6 columns]",
      "text/html": "<div>\n<style scoped>\n    .dataframe tbody tr th:only-of-type {\n        vertical-align: middle;\n    }\n\n    .dataframe tbody tr th {\n        vertical-align: top;\n    }\n\n    .dataframe thead th {\n        text-align: right;\n    }\n</style>\n<table border=\"1\" class=\"dataframe\">\n  <thead>\n    <tr style=\"text-align: right;\">\n      <th></th>\n      <th>ecmwf-eps_9</th>\n      <th>ecmwf-eps_10</th>\n      <th>ecmwf-eps_11</th>\n      <th>ecmwf-eps_12</th>\n      <th>ecmwf-eps_13</th>\n      <th>ecmwf-eps_14</th>\n    </tr>\n  </thead>\n  <tbody>\n    <tr>\n      <th>2018-07-11 00:00:00</th>\n      <td>0.001</td>\n      <td>-0.001</td>\n      <td>0.000</td>\n      <td>0.000</td>\n      <td>0.000</td>\n      <td>0.000</td>\n    </tr>\n    <tr>\n      <th>2018-07-11 12:00:00</th>\n      <td>0.001</td>\n      <td>0.000</td>\n      <td>-0.001</td>\n      <td>-0.001</td>\n      <td>-0.001</td>\n      <td>-0.001</td>\n    </tr>\n    <tr>\n      <th>2018-07-12 00:00:00</th>\n      <td>-0.001</td>\n      <td>-0.001</td>\n      <td>0.000</td>\n      <td>0.000</td>\n      <td>-0.001</td>\n      <td>0.001</td>\n    </tr>\n    <tr>\n      <th>2018-07-12 12:00:00</th>\n      <td>0.000</td>\n      <td>-0.001</td>\n      <td>0.001</td>\n      <td>0.001</td>\n      <td>0.006</td>\n      <td>0.003</td>\n    </tr>\n    <tr>\n      <th>2018-07-13 00:00:00</th>\n      <td>0.000</td>\n      <td>-0.001</td>\n      <td>-0.001</td>\n      <td>-0.002</td>\n      <td>0.000</td>\n      <td>-0.001</td>\n    </tr>\n    <tr>\n      <th>...</th>\n      <td>...</td>\n      <td>...</td>\n      <td>...</td>\n      <td>...</td>\n      <td>...</td>\n      <td>...</td>\n    </tr>\n    <tr>\n      <th>2023-05-15 00:00:00</th>\n      <td>0.141</td>\n      <td>0.055</td>\n      <td>-0.230</td>\n      <td>-0.270</td>\n      <td>-0.257</td>\n      <td>0.014</td>\n    </tr>\n    <tr>\n      <th>2023-05-15 12:00:00</th>\n      <td>-0.195</td>\n      <td>-0.020</td>\n      <td>-0.281</td>\n      <td>-0.132</td>\n      <td>0.050</td>\n      <td>-0.327</td>\n    </tr>\n    <tr>\n      <th>2023-05-16 00:00:00</th>\n      <td>-0.035</td>\n      <td>-0.254</td>\n      <td>-0.293</td>\n      <td>-0.192</td>\n      <td>-0.102</td>\n      <td>-0.086</td>\n    </tr>\n    <tr>\n      <th>2023-05-16 12:00:00</th>\n      <td>0.261</td>\n      <td>0.335</td>\n      <td>0.252</td>\n      <td>0.221</td>\n      <td>0.176</td>\n      <td>0.538</td>\n    </tr>\n    <tr>\n      <th>2023-05-17 00:00:00</th>\n      <td>0.000</td>\n      <td>-0.169</td>\n      <td>-0.271</td>\n      <td>0.025</td>\n      <td>-0.008</td>\n      <td>-0.078</td>\n    </tr>\n  </tbody>\n</table>\n<p>3483 rows × 6 columns</p>\n</div>"
     },
     "execution_count": 251,
     "metadata": {},
     "output_type": "execute_result"
    }
   ],
   "source": [
    "y"
   ],
   "metadata": {
    "collapsed": false,
    "ExecuteTime": {
     "start_time": "2023-05-25T13:30:54.305121Z",
     "end_time": "2023-05-25T13:30:54.314509Z"
    }
   }
  },
  {
   "cell_type": "code",
   "execution_count": 252,
   "outputs": [],
   "source": [
    "X_train, X_test, y_train, y_test = train_test_split(X, y, test_size=0.2, random_state=42)"
   ],
   "metadata": {
    "collapsed": false,
    "ExecuteTime": {
     "start_time": "2023-05-25T13:30:54.678995Z",
     "end_time": "2023-05-25T13:30:54.696878Z"
    }
   }
  },
  {
   "cell_type": "code",
   "execution_count": 253,
   "outputs": [],
   "source": [
    "rf_model = RandomForestRegressor(n_estimators=1000, max_depth=100, random_state=42)"
   ],
   "metadata": {
    "collapsed": false,
    "ExecuteTime": {
     "start_time": "2023-05-25T13:30:55.149335Z",
     "end_time": "2023-05-25T13:30:55.155162Z"
    }
   }
  },
  {
   "cell_type": "code",
   "execution_count": 254,
   "outputs": [
    {
     "data": {
      "text/plain": "RandomForestRegressor(max_depth=100, n_estimators=1000, random_state=42)",
      "text/html": "<style>#sk-container-id-2 {color: black;background-color: white;}#sk-container-id-2 pre{padding: 0;}#sk-container-id-2 div.sk-toggleable {background-color: white;}#sk-container-id-2 label.sk-toggleable__label {cursor: pointer;display: block;width: 100%;margin-bottom: 0;padding: 0.3em;box-sizing: border-box;text-align: center;}#sk-container-id-2 label.sk-toggleable__label-arrow:before {content: \"▸\";float: left;margin-right: 0.25em;color: #696969;}#sk-container-id-2 label.sk-toggleable__label-arrow:hover:before {color: black;}#sk-container-id-2 div.sk-estimator:hover label.sk-toggleable__label-arrow:before {color: black;}#sk-container-id-2 div.sk-toggleable__content {max-height: 0;max-width: 0;overflow: hidden;text-align: left;background-color: #f0f8ff;}#sk-container-id-2 div.sk-toggleable__content pre {margin: 0.2em;color: black;border-radius: 0.25em;background-color: #f0f8ff;}#sk-container-id-2 input.sk-toggleable__control:checked~div.sk-toggleable__content {max-height: 200px;max-width: 100%;overflow: auto;}#sk-container-id-2 input.sk-toggleable__control:checked~label.sk-toggleable__label-arrow:before {content: \"▾\";}#sk-container-id-2 div.sk-estimator input.sk-toggleable__control:checked~label.sk-toggleable__label {background-color: #d4ebff;}#sk-container-id-2 div.sk-label input.sk-toggleable__control:checked~label.sk-toggleable__label {background-color: #d4ebff;}#sk-container-id-2 input.sk-hidden--visually {border: 0;clip: rect(1px 1px 1px 1px);clip: rect(1px, 1px, 1px, 1px);height: 1px;margin: -1px;overflow: hidden;padding: 0;position: absolute;width: 1px;}#sk-container-id-2 div.sk-estimator {font-family: monospace;background-color: #f0f8ff;border: 1px dotted black;border-radius: 0.25em;box-sizing: border-box;margin-bottom: 0.5em;}#sk-container-id-2 div.sk-estimator:hover {background-color: #d4ebff;}#sk-container-id-2 div.sk-parallel-item::after {content: \"\";width: 100%;border-bottom: 1px solid gray;flex-grow: 1;}#sk-container-id-2 div.sk-label:hover label.sk-toggleable__label {background-color: #d4ebff;}#sk-container-id-2 div.sk-serial::before {content: \"\";position: absolute;border-left: 1px solid gray;box-sizing: border-box;top: 0;bottom: 0;left: 50%;z-index: 0;}#sk-container-id-2 div.sk-serial {display: flex;flex-direction: column;align-items: center;background-color: white;padding-right: 0.2em;padding-left: 0.2em;position: relative;}#sk-container-id-2 div.sk-item {position: relative;z-index: 1;}#sk-container-id-2 div.sk-parallel {display: flex;align-items: stretch;justify-content: center;background-color: white;position: relative;}#sk-container-id-2 div.sk-item::before, #sk-container-id-2 div.sk-parallel-item::before {content: \"\";position: absolute;border-left: 1px solid gray;box-sizing: border-box;top: 0;bottom: 0;left: 50%;z-index: -1;}#sk-container-id-2 div.sk-parallel-item {display: flex;flex-direction: column;z-index: 1;position: relative;background-color: white;}#sk-container-id-2 div.sk-parallel-item:first-child::after {align-self: flex-end;width: 50%;}#sk-container-id-2 div.sk-parallel-item:last-child::after {align-self: flex-start;width: 50%;}#sk-container-id-2 div.sk-parallel-item:only-child::after {width: 0;}#sk-container-id-2 div.sk-dashed-wrapped {border: 1px dashed gray;margin: 0 0.4em 0.5em 0.4em;box-sizing: border-box;padding-bottom: 0.4em;background-color: white;}#sk-container-id-2 div.sk-label label {font-family: monospace;font-weight: bold;display: inline-block;line-height: 1.2em;}#sk-container-id-2 div.sk-label-container {text-align: center;}#sk-container-id-2 div.sk-container {/* jupyter's `normalize.less` sets `[hidden] { display: none; }` but bootstrap.min.css set `[hidden] { display: none !important; }` so we also need the `!important` here to be able to override the default hidden behavior on the sphinx rendered scikit-learn.org. See: https://github.com/scikit-learn/scikit-learn/issues/21755 */display: inline-block !important;position: relative;}#sk-container-id-2 div.sk-text-repr-fallback {display: none;}</style><div id=\"sk-container-id-2\" class=\"sk-top-container\"><div class=\"sk-text-repr-fallback\"><pre>RandomForestRegressor(max_depth=100, n_estimators=1000, random_state=42)</pre><b>In a Jupyter environment, please rerun this cell to show the HTML representation or trust the notebook. <br />On GitHub, the HTML representation is unable to render, please try loading this page with nbviewer.org.</b></div><div class=\"sk-container\" hidden><div class=\"sk-item\"><div class=\"sk-estimator sk-toggleable\"><input class=\"sk-toggleable__control sk-hidden--visually\" id=\"sk-estimator-id-2\" type=\"checkbox\" checked><label for=\"sk-estimator-id-2\" class=\"sk-toggleable__label sk-toggleable__label-arrow\">RandomForestRegressor</label><div class=\"sk-toggleable__content\"><pre>RandomForestRegressor(max_depth=100, n_estimators=1000, random_state=42)</pre></div></div></div></div></div>"
     },
     "execution_count": 254,
     "metadata": {},
     "output_type": "execute_result"
    }
   ],
   "source": [
    "rf_model.fit(X_train, y_train)"
   ],
   "metadata": {
    "collapsed": false,
    "ExecuteTime": {
     "start_time": "2023-05-25T13:30:55.594791Z",
     "end_time": "2023-05-25T13:31:46.733005Z"
    }
   }
  },
  {
   "cell_type": "code",
   "execution_count": 255,
   "outputs": [],
   "source": [
    "y_pred = rf_model.predict(X_test)"
   ],
   "metadata": {
    "collapsed": false,
    "ExecuteTime": {
     "start_time": "2023-05-25T13:31:46.733866Z",
     "end_time": "2023-05-25T13:31:46.925748Z"
    }
   }
  },
  {
   "cell_type": "code",
   "execution_count": 256,
   "outputs": [
    {
     "name": "stdout",
     "output_type": "stream",
     "text": [
      "Mean Squared Error: 0.18503002396604354\n"
     ]
    }
   ],
   "source": [
    "mse = mean_squared_error(y_test, y_pred)\n",
    "print(\"Mean Squared Error:\", mse)"
   ],
   "metadata": {
    "collapsed": false,
    "ExecuteTime": {
     "start_time": "2023-05-25T13:31:46.927748Z",
     "end_time": "2023-05-25T13:31:46.929984Z"
    }
   }
  },
  {
   "cell_type": "markdown",
   "source": [
    "### RNN (MSE): 0.16733"
   ],
   "metadata": {
    "collapsed": false,
    "ExecuteTime": {
     "start_time": "2023-05-25T10:52:48.671842Z",
     "end_time": "2023-05-25T10:52:48.682232Z"
    }
   },
   "outputs": [],
   "execution_count": 213
  },
  {
   "cell_type": "code",
   "execution_count": 257,
   "outputs": [
    {
     "data": {
      "text/plain": "                     gfs-ens-bc_9  gfs-ens-bc_10  gfs-ens-bc_11   \n2018-07-11 00:00:00         0.009          0.006          0.002  \\\n2018-07-11 12:00:00         0.004          0.001          0.000   \n2018-07-12 00:00:00         0.003          0.002          0.002   \n2018-07-12 12:00:00         0.001          0.002          0.004   \n2018-07-13 00:00:00         0.001          0.002          0.002   \n...                           ...            ...            ...   \n2023-05-15 00:00:00         0.332          0.501         -0.605   \n2023-05-15 12:00:00         0.403         -0.348         -0.853   \n2023-05-16 00:00:00         0.336         -0.060         -0.308   \n2023-05-16 12:00:00         0.203          0.060          1.151   \n2023-05-17 00:00:00         0.544          0.049          0.494   \n\n                     gfs-ens-bc_12  gfs-ens-bc_13  gfs-ens-bc_14  tavg  tmin   \n2018-07-11 00:00:00          0.001          0.013          0.013   0.0   0.0  \\\n2018-07-11 12:00:00          0.005          0.008          0.018   0.0   0.0   \n2018-07-12 00:00:00          0.006          0.009          0.020  -0.7  -2.7   \n2018-07-12 12:00:00          0.009          0.021          0.015  -0.7  -2.7   \n2018-07-13 00:00:00          0.007          0.019          0.021   2.8   0.4   \n...                            ...            ...            ...   ...   ...   \n2023-05-15 00:00:00         -1.101          0.168          0.631   2.0   1.6   \n2023-05-15 12:00:00          0.580          1.175          0.265   2.0   1.6   \n2023-05-16 00:00:00          0.493          0.187          0.021   0.6   4.0   \n2023-05-16 12:00:00          0.556          0.098         -0.652   0.6   4.0   \n2023-05-17 00:00:00          0.197         -0.116         -0.928  -3.2  -4.1   \n\n                     tmax  prcp  ...  cmc-ens_14     month  ecmwf_diff_8   \n2018-07-11 00:00:00   0.0   0.0  ...      -0.012  0.833333         0.000  \\\n2018-07-11 12:00:00   0.0   0.0  ...      -0.016  0.833333         0.002   \n2018-07-12 00:00:00   1.3  -0.4  ...      -0.019  0.833333         0.002   \n2018-07-12 12:00:00   1.3  -0.4  ...      -0.007  0.833333         0.000   \n2018-07-13 00:00:00   5.1   0.0  ...      -0.013  0.833333         0.000   \n...                   ...   ...  ...         ...       ...           ...   \n2023-05-15 00:00:00   2.7   0.0  ...      -0.775  0.833333         0.141   \n2023-05-15 12:00:00   2.7   0.0  ...      -0.942  0.833333        -0.251   \n2023-05-16 00:00:00  -2.3   0.0  ...       0.255  0.833333        -0.043   \n2023-05-16 12:00:00  -2.3   0.0  ...       0.066  0.833333        -0.022   \n2023-05-17 00:00:00  -1.9   2.6  ...       0.560  0.833333        -0.004   \n\n                     ecmwf_diff_9  ecmwf-eps_9  ecmwf-eps_10  ecmwf-eps_11   \n2018-07-11 00:00:00         0.001        0.001        -0.001         0.000  \\\n2018-07-11 12:00:00         0.000        0.001         0.000        -0.001   \n2018-07-12 00:00:00         0.001       -0.001        -0.001         0.000   \n2018-07-12 12:00:00         0.002        0.000        -0.001         0.001   \n2018-07-13 00:00:00         0.002        0.000        -0.001        -0.001   \n...                           ...          ...           ...           ...   \n2023-05-15 00:00:00        -0.029        0.141         0.055        -0.230   \n2023-05-15 12:00:00        -0.294       -0.195        -0.020        -0.281   \n2023-05-16 00:00:00        -0.260       -0.035        -0.254        -0.293   \n2023-05-16 12:00:00         0.218        0.261         0.335         0.252   \n2023-05-17 00:00:00        -0.145        0.000        -0.169        -0.271   \n\n                     ecmwf-eps_12  ecmwf-eps_13  ecmwf-eps_14  \n2018-07-11 00:00:00         0.000         0.000         0.000  \n2018-07-11 12:00:00        -0.001        -0.001        -0.001  \n2018-07-12 00:00:00         0.000        -0.001         0.001  \n2018-07-12 12:00:00         0.001         0.006         0.003  \n2018-07-13 00:00:00        -0.002         0.000        -0.001  \n...                           ...           ...           ...  \n2023-05-15 00:00:00        -0.270        -0.257         0.014  \n2023-05-15 12:00:00        -0.132         0.050        -0.327  \n2023-05-16 00:00:00        -0.192        -0.102        -0.086  \n2023-05-16 12:00:00         0.221         0.176         0.538  \n2023-05-17 00:00:00         0.025        -0.008        -0.078  \n\n[3483 rows x 25 columns]",
      "text/html": "<div>\n<style scoped>\n    .dataframe tbody tr th:only-of-type {\n        vertical-align: middle;\n    }\n\n    .dataframe tbody tr th {\n        vertical-align: top;\n    }\n\n    .dataframe thead th {\n        text-align: right;\n    }\n</style>\n<table border=\"1\" class=\"dataframe\">\n  <thead>\n    <tr style=\"text-align: right;\">\n      <th></th>\n      <th>gfs-ens-bc_9</th>\n      <th>gfs-ens-bc_10</th>\n      <th>gfs-ens-bc_11</th>\n      <th>gfs-ens-bc_12</th>\n      <th>gfs-ens-bc_13</th>\n      <th>gfs-ens-bc_14</th>\n      <th>tavg</th>\n      <th>tmin</th>\n      <th>tmax</th>\n      <th>prcp</th>\n      <th>...</th>\n      <th>cmc-ens_14</th>\n      <th>month</th>\n      <th>ecmwf_diff_8</th>\n      <th>ecmwf_diff_9</th>\n      <th>ecmwf-eps_9</th>\n      <th>ecmwf-eps_10</th>\n      <th>ecmwf-eps_11</th>\n      <th>ecmwf-eps_12</th>\n      <th>ecmwf-eps_13</th>\n      <th>ecmwf-eps_14</th>\n    </tr>\n  </thead>\n  <tbody>\n    <tr>\n      <th>2018-07-11 00:00:00</th>\n      <td>0.009</td>\n      <td>0.006</td>\n      <td>0.002</td>\n      <td>0.001</td>\n      <td>0.013</td>\n      <td>0.013</td>\n      <td>0.0</td>\n      <td>0.0</td>\n      <td>0.0</td>\n      <td>0.0</td>\n      <td>...</td>\n      <td>-0.012</td>\n      <td>0.833333</td>\n      <td>0.000</td>\n      <td>0.001</td>\n      <td>0.001</td>\n      <td>-0.001</td>\n      <td>0.000</td>\n      <td>0.000</td>\n      <td>0.000</td>\n      <td>0.000</td>\n    </tr>\n    <tr>\n      <th>2018-07-11 12:00:00</th>\n      <td>0.004</td>\n      <td>0.001</td>\n      <td>0.000</td>\n      <td>0.005</td>\n      <td>0.008</td>\n      <td>0.018</td>\n      <td>0.0</td>\n      <td>0.0</td>\n      <td>0.0</td>\n      <td>0.0</td>\n      <td>...</td>\n      <td>-0.016</td>\n      <td>0.833333</td>\n      <td>0.002</td>\n      <td>0.000</td>\n      <td>0.001</td>\n      <td>0.000</td>\n      <td>-0.001</td>\n      <td>-0.001</td>\n      <td>-0.001</td>\n      <td>-0.001</td>\n    </tr>\n    <tr>\n      <th>2018-07-12 00:00:00</th>\n      <td>0.003</td>\n      <td>0.002</td>\n      <td>0.002</td>\n      <td>0.006</td>\n      <td>0.009</td>\n      <td>0.020</td>\n      <td>-0.7</td>\n      <td>-2.7</td>\n      <td>1.3</td>\n      <td>-0.4</td>\n      <td>...</td>\n      <td>-0.019</td>\n      <td>0.833333</td>\n      <td>0.002</td>\n      <td>0.001</td>\n      <td>-0.001</td>\n      <td>-0.001</td>\n      <td>0.000</td>\n      <td>0.000</td>\n      <td>-0.001</td>\n      <td>0.001</td>\n    </tr>\n    <tr>\n      <th>2018-07-12 12:00:00</th>\n      <td>0.001</td>\n      <td>0.002</td>\n      <td>0.004</td>\n      <td>0.009</td>\n      <td>0.021</td>\n      <td>0.015</td>\n      <td>-0.7</td>\n      <td>-2.7</td>\n      <td>1.3</td>\n      <td>-0.4</td>\n      <td>...</td>\n      <td>-0.007</td>\n      <td>0.833333</td>\n      <td>0.000</td>\n      <td>0.002</td>\n      <td>0.000</td>\n      <td>-0.001</td>\n      <td>0.001</td>\n      <td>0.001</td>\n      <td>0.006</td>\n      <td>0.003</td>\n    </tr>\n    <tr>\n      <th>2018-07-13 00:00:00</th>\n      <td>0.001</td>\n      <td>0.002</td>\n      <td>0.002</td>\n      <td>0.007</td>\n      <td>0.019</td>\n      <td>0.021</td>\n      <td>2.8</td>\n      <td>0.4</td>\n      <td>5.1</td>\n      <td>0.0</td>\n      <td>...</td>\n      <td>-0.013</td>\n      <td>0.833333</td>\n      <td>0.000</td>\n      <td>0.002</td>\n      <td>0.000</td>\n      <td>-0.001</td>\n      <td>-0.001</td>\n      <td>-0.002</td>\n      <td>0.000</td>\n      <td>-0.001</td>\n    </tr>\n    <tr>\n      <th>...</th>\n      <td>...</td>\n      <td>...</td>\n      <td>...</td>\n      <td>...</td>\n      <td>...</td>\n      <td>...</td>\n      <td>...</td>\n      <td>...</td>\n      <td>...</td>\n      <td>...</td>\n      <td>...</td>\n      <td>...</td>\n      <td>...</td>\n      <td>...</td>\n      <td>...</td>\n      <td>...</td>\n      <td>...</td>\n      <td>...</td>\n      <td>...</td>\n      <td>...</td>\n      <td>...</td>\n    </tr>\n    <tr>\n      <th>2023-05-15 00:00:00</th>\n      <td>0.332</td>\n      <td>0.501</td>\n      <td>-0.605</td>\n      <td>-1.101</td>\n      <td>0.168</td>\n      <td>0.631</td>\n      <td>2.0</td>\n      <td>1.6</td>\n      <td>2.7</td>\n      <td>0.0</td>\n      <td>...</td>\n      <td>-0.775</td>\n      <td>0.833333</td>\n      <td>0.141</td>\n      <td>-0.029</td>\n      <td>0.141</td>\n      <td>0.055</td>\n      <td>-0.230</td>\n      <td>-0.270</td>\n      <td>-0.257</td>\n      <td>0.014</td>\n    </tr>\n    <tr>\n      <th>2023-05-15 12:00:00</th>\n      <td>0.403</td>\n      <td>-0.348</td>\n      <td>-0.853</td>\n      <td>0.580</td>\n      <td>1.175</td>\n      <td>0.265</td>\n      <td>2.0</td>\n      <td>1.6</td>\n      <td>2.7</td>\n      <td>0.0</td>\n      <td>...</td>\n      <td>-0.942</td>\n      <td>0.833333</td>\n      <td>-0.251</td>\n      <td>-0.294</td>\n      <td>-0.195</td>\n      <td>-0.020</td>\n      <td>-0.281</td>\n      <td>-0.132</td>\n      <td>0.050</td>\n      <td>-0.327</td>\n    </tr>\n    <tr>\n      <th>2023-05-16 00:00:00</th>\n      <td>0.336</td>\n      <td>-0.060</td>\n      <td>-0.308</td>\n      <td>0.493</td>\n      <td>0.187</td>\n      <td>0.021</td>\n      <td>0.6</td>\n      <td>4.0</td>\n      <td>-2.3</td>\n      <td>0.0</td>\n      <td>...</td>\n      <td>0.255</td>\n      <td>0.833333</td>\n      <td>-0.043</td>\n      <td>-0.260</td>\n      <td>-0.035</td>\n      <td>-0.254</td>\n      <td>-0.293</td>\n      <td>-0.192</td>\n      <td>-0.102</td>\n      <td>-0.086</td>\n    </tr>\n    <tr>\n      <th>2023-05-16 12:00:00</th>\n      <td>0.203</td>\n      <td>0.060</td>\n      <td>1.151</td>\n      <td>0.556</td>\n      <td>0.098</td>\n      <td>-0.652</td>\n      <td>0.6</td>\n      <td>4.0</td>\n      <td>-2.3</td>\n      <td>0.0</td>\n      <td>...</td>\n      <td>0.066</td>\n      <td>0.833333</td>\n      <td>-0.022</td>\n      <td>0.218</td>\n      <td>0.261</td>\n      <td>0.335</td>\n      <td>0.252</td>\n      <td>0.221</td>\n      <td>0.176</td>\n      <td>0.538</td>\n    </tr>\n    <tr>\n      <th>2023-05-17 00:00:00</th>\n      <td>0.544</td>\n      <td>0.049</td>\n      <td>0.494</td>\n      <td>0.197</td>\n      <td>-0.116</td>\n      <td>-0.928</td>\n      <td>-3.2</td>\n      <td>-4.1</td>\n      <td>-1.9</td>\n      <td>2.6</td>\n      <td>...</td>\n      <td>0.560</td>\n      <td>0.833333</td>\n      <td>-0.004</td>\n      <td>-0.145</td>\n      <td>0.000</td>\n      <td>-0.169</td>\n      <td>-0.271</td>\n      <td>0.025</td>\n      <td>-0.008</td>\n      <td>-0.078</td>\n    </tr>\n  </tbody>\n</table>\n<p>3483 rows × 25 columns</p>\n</div>"
     },
     "execution_count": 257,
     "metadata": {},
     "output_type": "execute_result"
    }
   ],
   "source": [
    "master_df"
   ],
   "metadata": {
    "collapsed": false,
    "ExecuteTime": {
     "start_time": "2023-05-25T13:31:46.933353Z",
     "end_time": "2023-05-25T13:31:46.963073Z"
    }
   }
  },
  {
   "cell_type": "code",
   "execution_count": 257,
   "outputs": [],
   "source": [],
   "metadata": {
    "collapsed": false,
    "ExecuteTime": {
     "start_time": "2023-05-25T13:31:46.950511Z",
     "end_time": "2023-05-25T13:31:46.972016Z"
    }
   }
  },
  {
   "cell_type": "code",
   "execution_count": 257,
   "outputs": [],
   "source": [],
   "metadata": {
    "collapsed": false,
    "ExecuteTime": {
     "start_time": "2023-05-25T13:31:46.953657Z",
     "end_time": "2023-05-25T13:31:46.972131Z"
    }
   }
  },
  {
   "cell_type": "code",
   "execution_count": 257,
   "outputs": [],
   "source": [],
   "metadata": {
    "collapsed": false,
    "ExecuteTime": {
     "start_time": "2023-05-25T13:31:46.956680Z",
     "end_time": "2023-05-25T13:31:46.972170Z"
    }
   }
  },
  {
   "cell_type": "code",
   "execution_count": 258,
   "outputs": [],
   "source": [
    "input_features = master_df.iloc[:, :-6].values ** 2\n",
    "target_variables = master_df.iloc[:, -6:].values\n",
    "\n",
    "# Split the data into training, validation, and testing sets\n",
    "X_train, X_test, y_train, y_test = train_test_split(\n",
    "    input_features, target_variables, test_size=0.2, shuffle=False)\n",
    "\n",
    "X_train, X_val, y_train, y_val = train_test_split(\n",
    "    X_train, y_train, test_size=0.2, shuffle=False)\n",
    "\n",
    "# Scale the input features based on the training data\n",
    "scaler = MinMaxScaler()\n",
    "X_train_scaled = scaler.fit_transform(X_train)\n",
    "\n",
    "# Scale the validation and test data based on the training data\n",
    "X_val_scaled = scaler.transform(X_val)\n",
    "X_test_scaled = scaler.transform(X_test)\n",
    "\n",
    "# Convert the scaled data to PyTorch tensors\n",
    "\n",
    "X_train_tensor = torch.Tensor(X_train_scaled)\n",
    "y_train_tensor = torch.Tensor(y_train)\n",
    "X_val_tensor = torch.Tensor(X_val_scaled)\n",
    "y_val_tensor = torch.Tensor(y_val)\n",
    "X_test_tensor = torch.Tensor(X_test_scaled)\n",
    "y_test_tensor = torch.Tensor(y_test)\n"
   ],
   "metadata": {
    "collapsed": false,
    "ExecuteTime": {
     "start_time": "2023-05-25T13:31:46.961770Z",
     "end_time": "2023-05-25T13:31:46.972572Z"
    }
   }
  },
  {
   "cell_type": "code",
   "execution_count": 259,
   "outputs": [],
   "source": [
    "class RNN(nn.Module):\n",
    "    def __init__(self, input_size, hidden_size, output_size):\n",
    "        super(RNN, self).__init__()\n",
    "\n",
    "        self.hidden_size = hidden_size\n",
    "\n",
    "        self.rnn = nn.RNN(input_size, hidden_size, batch_first=True)\n",
    "        self.fc = nn.Linear(hidden_size, output_size)\n",
    "\n",
    "    def forward(self, x):\n",
    "        h0 = torch.zeros(1, x.size(0), self.hidden_size).to(x.device)  # Update the hidden state dimensions\n",
    "\n",
    "        out, _ = self.rnn(x, h0)  # Remove unsqueeze(0) since x already has a batch dimension\n",
    "        out = self.fc(out[:, -1, :])  # Select the last time step's output for each sequence\n",
    "\n",
    "        return out"
   ],
   "metadata": {
    "collapsed": false,
    "ExecuteTime": {
     "start_time": "2023-05-25T13:31:46.971702Z",
     "end_time": "2023-05-25T13:31:46.980343Z"
    }
   }
  },
  {
   "cell_type": "code",
   "execution_count": 260,
   "outputs": [],
   "source": [
    "class ComplexRNN(nn.Module):\n",
    "    def __init__(self, input_size, hidden_size, output_size, num_layers, dropout):\n",
    "        super(ComplexRNN, self).__init__()\n",
    "\n",
    "        self.hidden_size = hidden_size\n",
    "        self.num_layers = num_layers\n",
    "\n",
    "        self.rnn = nn.RNN(input_size, hidden_size, num_layers, batch_first=True, dropout=dropout)\n",
    "        self.fc1 = nn.Linear(hidden_size, 64)\n",
    "        self.dropout = nn.Dropout(dropout)\n",
    "        self.fc2 = nn.Linear(64, output_size)\n",
    "\n",
    "    def forward(self, x):\n",
    "        h0 = torch.zeros(self.num_layers, x.size(0), self.hidden_size).to(x.device)\n",
    "\n",
    "        out, _ = self.rnn(x, h0)\n",
    "        out = self.fc1(out[:, -1, :])\n",
    "        out = self.dropout(out)\n",
    "        out = self.fc2(out)\n",
    "\n",
    "        return out"
   ],
   "metadata": {
    "collapsed": false,
    "ExecuteTime": {
     "start_time": "2023-05-25T13:31:46.980177Z",
     "end_time": "2023-05-25T13:31:46.983683Z"
    }
   }
  },
  {
   "cell_type": "code",
   "execution_count": 261,
   "outputs": [
    {
     "name": "stdout",
     "output_type": "stream",
     "text": [
      "Epoch [1/100], Training Loss: 0.25623199257726376\n",
      "Epoch [1/100], Validation Loss: 0.1896002069731924\n",
      "Epoch [2/100], Training Loss: 0.18643409503074745\n",
      "Epoch [2/100], Validation Loss: 0.18957704580572113\n",
      "Epoch [3/100], Training Loss: 0.1884783809706717\n",
      "Epoch [3/100], Validation Loss: 0.1896313795353375\n",
      "Epoch [4/100], Training Loss: 0.8193188251047336\n",
      "Epoch [4/100], Validation Loss: 0.1895077657525025\n",
      "Epoch [5/100], Training Loss: 0.19109856262815253\n",
      "Epoch [5/100], Validation Loss: 0.18959502509070322\n",
      "Epoch [6/100], Training Loss: 0.18610183073431494\n",
      "Epoch [6/100], Validation Loss: 0.18960207042382832\n",
      "Epoch [7/100], Training Loss: 0.1864107102378078\n",
      "Epoch [7/100], Validation Loss: 0.1895189466104682\n",
      "Epoch [8/100], Training Loss: 1.4818970189828822\n",
      "Epoch [8/100], Validation Loss: 0.18974730123725347\n",
      "Epoch [9/100], Training Loss: 0.227605253868753\n",
      "Epoch [9/100], Validation Loss: 0.18943297921724753\n",
      "Epoch [10/100], Training Loss: 0.18653164585359056\n",
      "Epoch [10/100], Validation Loss: 0.18954974235021585\n",
      "Epoch [11/100], Training Loss: 0.18626204092787293\n",
      "Epoch [11/100], Validation Loss: 0.18958999083789402\n",
      "Epoch [12/100], Training Loss: 0.18670145406378116\n",
      "Epoch [12/100], Validation Loss: 0.18957384141125408\n",
      "Epoch [13/100], Training Loss: 0.845540253153012\n",
      "Epoch [13/100], Validation Loss: 0.19005573005749693\n",
      "Epoch [14/100], Training Loss: 0.1903375125851512\n",
      "Epoch [14/100], Validation Loss: 0.18956853833546775\n",
      "Epoch [15/100], Training Loss: 0.18612647757337494\n",
      "Epoch [15/100], Validation Loss: 0.18959694792783674\n",
      "Epoch [16/100], Training Loss: 0.18666519475331275\n",
      "Epoch [16/100], Validation Loss: 0.18940244590916003\n",
      "Epoch [17/100], Training Loss: 0.7468270206756871\n",
      "Epoch [17/100], Validation Loss: 0.1894743840403183\n",
      "Epoch [18/100], Training Loss: 0.18607013931496127\n",
      "Epoch [18/100], Validation Loss: 0.18959121789312106\n",
      "Epoch [19/100], Training Loss: 0.18616029736723141\n",
      "Epoch [19/100], Validation Loss: 0.1896046029818417\n",
      "Epoch [20/100], Training Loss: 0.18724044488987163\n",
      "Epoch [20/100], Validation Loss: 0.18961530264165333\n",
      "Epoch [21/100], Training Loss: 0.7961984702377637\n",
      "Epoch [21/100], Validation Loss: 0.189506742649446\n",
      "Epoch [22/100], Training Loss: 0.1860719927790569\n",
      "Epoch [22/100], Validation Loss: 0.18958687350366754\n",
      "Epoch [23/100], Training Loss: 0.1861569188615385\n",
      "Epoch [23/100], Validation Loss: 0.18960334005327534\n",
      "Epoch [24/100], Training Loss: 0.18740207270063\n",
      "Epoch [24/100], Validation Loss: 0.18942327303016157\n",
      "Epoch [25/100], Training Loss: 0.8919786974915457\n",
      "Epoch [25/100], Validation Loss: 0.18852622412484804\n",
      "Epoch [26/100], Training Loss: 0.20943100977720494\n",
      "Epoch [26/100], Validation Loss: 0.18957964012348372\n",
      "Epoch [27/100], Training Loss: 0.1860235712756306\n",
      "Epoch [27/100], Validation Loss: 0.1895939846843406\n",
      "Epoch [28/100], Training Loss: 0.18627597637666735\n",
      "Epoch [28/100], Validation Loss: 0.18959486235103024\n",
      "Epoch [29/100], Training Loss: 0.6457525866801078\n",
      "Epoch [29/100], Validation Loss: 0.20202809540895075\n",
      "Epoch [30/100], Training Loss: 0.20282171167911195\n",
      "Epoch [30/100], Validation Loss: 0.189497065145527\n",
      "Epoch [31/100], Training Loss: 0.18611473364689052\n",
      "Epoch [31/100], Validation Loss: 0.18960073170909797\n",
      "Epoch [32/100], Training Loss: 0.18636611534736766\n",
      "Epoch [32/100], Validation Loss: 0.1895969140502413\n",
      "Epoch [33/100], Training Loss: 0.7643927200787162\n",
      "Epoch [33/100], Validation Loss: 0.1890510324566944\n",
      "Epoch [34/100], Training Loss: 0.2088391872432883\n",
      "Epoch [34/100], Validation Loss: 0.18960790764663585\n",
      "Epoch [35/100], Training Loss: 0.1862161770044018\n",
      "Epoch [35/100], Validation Loss: 0.189589420394028\n",
      "Epoch [36/100], Training Loss: 0.18620352795163198\n",
      "Epoch [36/100], Validation Loss: 0.18960892839159793\n",
      "Epoch [37/100], Training Loss: 0.9481973533561313\n",
      "Epoch [37/100], Validation Loss: 0.18907206622762843\n",
      "Epoch [38/100], Training Loss: 0.20418086852084769\n",
      "Epoch [38/100], Validation Loss: 0.18959080842964623\n",
      "Epoch [39/100], Training Loss: 0.18605871299441\n",
      "Epoch [39/100], Validation Loss: 0.18960011451574385\n",
      "Epoch [40/100], Training Loss: 0.18616333795261478\n",
      "Epoch [40/100], Validation Loss: 0.18960568112092577\n",
      "Epoch [41/100], Training Loss: 0.18830285557777582\n",
      "Epoch [41/100], Validation Loss: 0.18959194781255756\n",
      "Epoch [42/100], Training Loss: 0.9496579690096665\n",
      "Epoch [42/100], Validation Loss: 0.18949536366397043\n",
      "Epoch [43/100], Training Loss: 0.18806773765082815\n",
      "Epoch [43/100], Validation Loss: 0.18960043694050335\n",
      "Epoch [44/100], Training Loss: 0.18614765526080446\n",
      "Epoch [44/100], Validation Loss: 0.18960266435948525\n",
      "Epoch [45/100], Training Loss: 0.18700995505346388\n",
      "Epoch [45/100], Validation Loss: 0.18955706651214127\n",
      "Epoch [46/100], Training Loss: 0.5836659250118821\n",
      "Epoch [46/100], Validation Loss: 0.1890573921296516\n",
      "Epoch [47/100], Training Loss: 0.19760400077222512\n",
      "Epoch [47/100], Validation Loss: 0.1895839983403618\n",
      "Epoch [48/100], Training Loss: 0.1861115801970258\n",
      "Epoch [48/100], Validation Loss: 0.18960522831916332\n",
      "Epoch [49/100], Training Loss: 0.18639276739229602\n",
      "Epoch [49/100], Validation Loss: 0.18958498025170922\n",
      "Epoch [50/100], Training Loss: 2.2173312066764885\n",
      "Epoch [50/100], Validation Loss: 0.19071611451662093\n",
      "Epoch [51/100], Training Loss: 0.20987297803626315\n",
      "Epoch [51/100], Validation Loss: 0.18926084977733587\n",
      "Epoch [52/100], Training Loss: 0.19135444826335798\n",
      "Epoch [52/100], Validation Loss: 0.18953588124982268\n",
      "Epoch [53/100], Training Loss: 0.18618956235844417\n",
      "Epoch [53/100], Validation Loss: 0.18960095644192973\n",
      "Epoch [54/100], Training Loss: 0.18654130667467386\n",
      "Epoch [54/100], Validation Loss: 0.18961975114461319\n",
      "Epoch [55/100], Training Loss: 1.093643152864339\n",
      "Epoch [55/100], Validation Loss: 0.1899198736104134\n",
      "Epoch [56/100], Training Loss: 0.2286323905923065\n",
      "Epoch [56/100], Validation Loss: 0.18946339436715165\n",
      "Epoch [57/100], Training Loss: 0.18664527495795563\n",
      "Epoch [57/100], Validation Loss: 0.18955044913994887\n",
      "Epoch [58/100], Training Loss: 0.18626085812591084\n",
      "Epoch [58/100], Validation Loss: 0.18959207625597146\n",
      "Epoch [59/100], Training Loss: 0.18701590222830794\n",
      "Epoch [59/100], Validation Loss: 0.18953900090661902\n",
      "Epoch [60/100], Training Loss: 0.5251335197919184\n",
      "Epoch [60/100], Validation Loss: 0.18942523200635816\n",
      "Epoch [61/100], Training Loss: 0.18611707478340464\n",
      "Epoch [61/100], Validation Loss: 0.18959727744329982\n",
      "Epoch [62/100], Training Loss: 0.1861480843764278\n",
      "Epoch [62/100], Validation Loss: 0.18960555289229075\n",
      "Epoch [63/100], Training Loss: 0.18825894054307726\n",
      "Epoch [63/100], Validation Loss: 0.1895782762918319\n",
      "Epoch [64/100], Training Loss: 0.9651996620981658\n",
      "Epoch [64/100], Validation Loss: 0.1896421345604763\n",
      "Epoch [65/100], Training Loss: 0.18614485912819417\n",
      "Epoch [65/100], Validation Loss: 0.18958020614556736\n",
      "Epoch [66/100], Training Loss: 0.18615318203588438\n",
      "Epoch [66/100], Validation Loss: 0.18960231299836072\n",
      "Epoch [67/100], Training Loss: 0.18699135987063464\n",
      "Epoch [67/100], Validation Loss: 0.1895811571365422\n",
      "Epoch [68/100], Training Loss: 1.4749311955036308\n",
      "Epoch [68/100], Validation Loss: 0.19110050819977145\n",
      "Epoch [69/100], Training Loss: 0.19424907074397438\n",
      "Epoch [69/100], Validation Loss: 0.1895949892347841\n",
      "Epoch [70/100], Training Loss: 0.18614606544076798\n",
      "Epoch [70/100], Validation Loss: 0.18959118093230895\n",
      "Epoch [71/100], Training Loss: 0.18617485663073835\n",
      "Epoch [71/100], Validation Loss: 0.18960542861251398\n",
      "Epoch [72/100], Training Loss: 2.836717115443723\n",
      "Epoch [72/100], Validation Loss: 0.21289890664873837\n",
      "Epoch [73/100], Training Loss: 0.25471378072996403\n",
      "Epoch [73/100], Validation Loss: 0.18914332719075336\n",
      "Epoch [74/100], Training Loss: 0.18717337593981032\n",
      "Epoch [74/100], Validation Loss: 0.18960936402620548\n",
      "Epoch [75/100], Training Loss: 0.1863111642518955\n",
      "Epoch [75/100], Validation Loss: 0.1895659103608883\n",
      "Epoch [76/100], Training Loss: 0.18638785587010143\n",
      "Epoch [76/100], Validation Loss: 0.18959706097837684\n",
      "Epoch [77/100], Training Loss: 0.5368200912024369\n",
      "Epoch [77/100], Validation Loss: 0.1895131981266607\n",
      "Epoch [78/100], Training Loss: 0.18613433042181524\n",
      "Epoch [78/100], Validation Loss: 0.18957475506811938\n",
      "Epoch [79/100], Training Loss: 0.18631913751635287\n",
      "Epoch [79/100], Validation Loss: 0.1895937661879913\n",
      "Epoch [80/100], Training Loss: 0.18800328822666673\n",
      "Epoch [80/100], Validation Loss: 0.18962604028891072\n",
      "Epoch [81/100], Training Loss: 2.8055842004696743\n",
      "Epoch [81/100], Validation Loss: 0.1909255865015781\n",
      "Epoch [82/100], Training Loss: 0.20595350240462443\n",
      "Epoch [82/100], Validation Loss: 0.18948203259011712\n",
      "Epoch [83/100], Training Loss: 0.18678378954502073\n",
      "Epoch [83/100], Validation Loss: 0.1895304121855233\n",
      "Epoch [84/100], Training Loss: 0.18633124606517282\n",
      "Epoch [84/100], Validation Loss: 0.18959325496978877\n",
      "Epoch [85/100], Training Loss: 1.4658972520056874\n",
      "Epoch [85/100], Validation Loss: 0.19194228468733548\n",
      "Epoch [86/100], Training Loss: 0.2716564198213268\n",
      "Epoch [86/100], Validation Loss: 0.19022603779858582\n",
      "Epoch [87/100], Training Loss: 0.1919391273723114\n",
      "Epoch [87/100], Validation Loss: 0.18955892436857888\n",
      "Epoch [88/100], Training Loss: 0.1866102702062024\n",
      "Epoch [88/100], Validation Loss: 0.18953959784718066\n",
      "Epoch [89/100], Training Loss: 0.18657971843468707\n",
      "Epoch [89/100], Validation Loss: 0.18958869163695535\n",
      "Epoch [90/100], Training Loss: 0.754621805216718\n",
      "Epoch [90/100], Validation Loss: 0.1915769789735896\n",
      "Epoch [91/100], Training Loss: 0.20768363479879376\n",
      "Epoch [91/100], Validation Loss: 0.18959872273278378\n",
      "Epoch [92/100], Training Loss: 0.18620997661649585\n",
      "Epoch [92/100], Validation Loss: 0.18957802895874426\n",
      "Epoch [93/100], Training Loss: 0.1862515872077712\n",
      "Epoch [93/100], Validation Loss: 0.18960626703455655\n",
      "Epoch [94/100], Training Loss: 0.8047280011741927\n",
      "Epoch [94/100], Validation Loss: 0.19096953231619443\n",
      "Epoch [95/100], Training Loss: 0.1985821692752671\n",
      "Epoch [95/100], Validation Loss: 0.18961357894124317\n",
      "Epoch [96/100], Training Loss: 0.18620758438620344\n",
      "Epoch [96/100], Validation Loss: 0.18959788364303723\n",
      "Epoch [97/100], Training Loss: 0.18627503397839887\n",
      "Epoch [97/100], Validation Loss: 0.1895600523557354\n",
      "Epoch [98/100], Training Loss: 0.5476418602033162\n",
      "Epoch [98/100], Validation Loss: 0.19073015799108897\n",
      "Epoch [99/100], Training Loss: 0.19902205211603272\n",
      "Epoch [99/100], Validation Loss: 0.189471338347723\n",
      "Epoch [100/100], Training Loss: 0.18608018009114413\n",
      "Epoch [100/100], Validation Loss: 0.1895991761584629\n"
     ]
    }
   ],
   "source": [
    "input_size = X_train_tensor.shape[1]\n",
    "output_size = y_train_tensor.shape[1]\n",
    "hidden_size = 64\n",
    "num_layers = 2\n",
    "dropout = 0.3\n",
    "lr = 0.01\n",
    "\n",
    "\n",
    "\n",
    "#model = RNN(input_size, hidden_size, output_size)\n",
    "model = ComplexRNN(input_size, hidden_size, output_size, num_layers, dropout)\n",
    "criterion = nn.MSELoss()\n",
    "optimizer = optim.Adam(model.parameters(), lr=lr, weight_decay=0.01)\n",
    "\n",
    "\n",
    "num_epochs = 100\n",
    "sequence_length = 5  # Number of previous days to consider\n",
    "\n",
    "best_loss = float('inf')\n",
    "best_model = None\n",
    "\n",
    "for epoch in range(num_epochs):\n",
    "    model.train()  # Set the model to training mode\n",
    "    total_loss = 0\n",
    "\n",
    "    # Loop through each sequence in the training data\n",
    "    for i in range(sequence_length, X_train_tensor.shape[0]):\n",
    "        # Extract the current sequence and target\n",
    "        input_seq = X_train_tensor[i - sequence_length:i].view(1, sequence_length, -1)\n",
    "        target_seq = y_train_tensor[i]\n",
    "\n",
    "        # Forward pass\n",
    "        output = model(input_seq)\n",
    "        loss = criterion(output, target_seq.unsqueeze(0))\n",
    "\n",
    "        # Backward and optimize\n",
    "        optimizer.zero_grad()\n",
    "        loss.backward()\n",
    "        optimizer.step()\n",
    "\n",
    "        total_loss += loss.item()\n",
    "\n",
    "    # Print the average training loss for the epoch\n",
    "    average_loss = total_loss / (X_train_tensor.shape[0] - sequence_length)\n",
    "    print(f'Epoch [{epoch + 1}/{num_epochs}], Training Loss: {average_loss}')\n",
    "\n",
    "    # Validation stage\n",
    "    model.eval()  # Set the model to evaluation mode\n",
    "    with torch.no_grad():\n",
    "        total_val_loss = 0\n",
    "\n",
    "        for i in range(sequence_length, X_val_tensor.shape[0]):\n",
    "            input_seq = X_val_tensor[i - sequence_length:i].view(1, sequence_length, -1)\n",
    "            target_seq = y_val_tensor[i]\n",
    "\n",
    "            output = model(input_seq)\n",
    "            val_loss = criterion(output, target_seq.unsqueeze(0))\n",
    "\n",
    "            total_val_loss += val_loss.item()\n",
    "\n",
    "        average_val_loss = total_val_loss / (X_val_tensor.shape[0] - sequence_length)\n",
    "        print(f'Epoch [{epoch + 1}/{num_epochs}], Validation Loss: {average_val_loss}')\n",
    "\n",
    "        # Check if current model is the best based on validation loss\n",
    "        if average_val_loss < best_loss:\n",
    "            best_loss = average_val_loss\n",
    "            best_model = copy.deepcopy(model)\n",
    "\n",
    "# After training, use the best model for testing\n",
    "model = best_model"
   ],
   "metadata": {
    "collapsed": false,
    "ExecuteTime": {
     "start_time": "2023-05-25T13:31:46.984336Z",
     "end_time": "2023-05-25T13:39:44.875527Z"
    }
   }
  },
  {
   "cell_type": "code",
   "execution_count": 262,
   "outputs": [
    {
     "data": {
      "text/plain": "0.32433355870224284"
     },
     "execution_count": 262,
     "metadata": {},
     "output_type": "execute_result"
    }
   ],
   "source": [
    "#benchmark error\n",
    "total_mse = 0\n",
    "c = 0\n",
    "for i in range(1, len(y_test_tensor)):\n",
    "    mse = mean_squared_error(y_test_tensor[i], y_test_tensor[i-1])\n",
    "    total_mse += mse\n",
    "    c += 1\n",
    "\n",
    "total_mse/c"
   ],
   "metadata": {
    "collapsed": false,
    "ExecuteTime": {
     "start_time": "2023-05-25T13:39:44.877447Z",
     "end_time": "2023-05-25T13:39:44.960185Z"
    }
   }
  },
  {
   "cell_type": "code",
   "execution_count": 262,
   "outputs": [],
   "source": [],
   "metadata": {
    "collapsed": false,
    "ExecuteTime": {
     "start_time": "2023-05-25T13:39:44.960368Z",
     "end_time": "2023-05-25T13:39:44.962286Z"
    }
   }
  },
  {
   "cell_type": "code",
   "execution_count": 262,
   "outputs": [],
   "source": [],
   "metadata": {
    "collapsed": false,
    "ExecuteTime": {
     "start_time": "2023-05-25T13:39:44.962701Z",
     "end_time": "2023-05-25T13:39:44.964655Z"
    }
   }
  },
  {
   "cell_type": "code",
   "execution_count": 263,
   "outputs": [
    {
     "name": "stdout",
     "output_type": "stream",
     "text": [
      "Test Loss: 0.16717344114691365\n",
      "Mean Squared Error (MSE): 0.16717344049846306\n"
     ]
    }
   ],
   "source": [
    "model.eval()  # Set the model to evaluation mode\n",
    "\n",
    "with torch.no_grad():\n",
    "    test_loss = 0.0\n",
    "    predictions = []\n",
    "\n",
    "    for i in range(sequence_length, X_test_tensor.shape[0]):\n",
    "        input_seq = X_test_tensor[i - sequence_length:i].view(1, sequence_length, -1)\n",
    "        target_seq = y_test_tensor[i]\n",
    "\n",
    "        output = model(input_seq)\n",
    "        loss = criterion(output, target_seq.unsqueeze(0))\n",
    "\n",
    "        test_loss += loss.item()\n",
    "\n",
    "        # Extract the scalar value from the tensor and append it to predictions\n",
    "        predictions.append(output.squeeze().tolist())\n",
    "\n",
    "    average_test_loss = test_loss / (X_test_tensor.shape[0] - sequence_length)\n",
    "    print(f'Test Loss: {average_test_loss}')\n",
    "\n",
    "    # Convert the predictions and target values to numpy arrays\n",
    "    predictions = np.array(predictions)\n",
    "    targets = y_test_tensor[sequence_length:].numpy()\n",
    "\n",
    "    # Evaluate the performance using appropriate metrics\n",
    "    # For example, calculate mean squared error (MSE)\n",
    "    mse = mean_squared_error(targets, predictions)\n",
    "    print(f'Mean Squared Error (MSE): {mse}')"
   ],
   "metadata": {
    "collapsed": false,
    "ExecuteTime": {
     "start_time": "2023-05-25T13:39:44.967800Z",
     "end_time": "2023-05-25T13:39:45.131461Z"
    }
   }
  },
  {
   "cell_type": "code",
   "execution_count": 263,
   "outputs": [],
   "source": [],
   "metadata": {
    "collapsed": false,
    "ExecuteTime": {
     "start_time": "2023-05-25T13:39:45.132313Z",
     "end_time": "2023-05-25T13:39:45.133672Z"
    }
   }
  },
  {
   "cell_type": "code",
   "execution_count": 263,
   "outputs": [],
   "source": [],
   "metadata": {
    "collapsed": false,
    "ExecuteTime": {
     "start_time": "2023-05-25T13:39:45.134675Z",
     "end_time": "2023-05-25T13:39:45.136886Z"
    }
   }
  },
  {
   "cell_type": "code",
   "execution_count": 263,
   "outputs": [],
   "source": [],
   "metadata": {
    "collapsed": false,
    "ExecuteTime": {
     "start_time": "2023-05-25T13:39:45.137268Z",
     "end_time": "2023-05-25T13:39:45.142073Z"
    }
   }
  },
  {
   "cell_type": "markdown",
   "source": [
    "### testing ideas\n"
   ],
   "metadata": {
    "collapsed": false
   }
  },
  {
   "cell_type": "code",
   "execution_count": 123,
   "outputs": [],
   "source": [
    "#get weather data"
   ],
   "metadata": {
    "collapsed": false,
    "ExecuteTime": {
     "start_time": "2023-05-25T12:28:23.514948Z",
     "end_time": "2023-05-25T12:28:23.519067Z"
    }
   }
  },
  {
   "cell_type": "code",
   "execution_count": 194,
   "outputs": [],
   "source": [
    "from meteostat import Stations, Daily\n",
    "\n",
    "start_day = gfs_ens_bc_change_df.index[0]\n",
    "end_day = gfs_ens_bc_change_df.index[-1]\n",
    "\n",
    "# Set time period\n",
    "start = datetime(int(str(start_day)[:4]), int(str(start_day)[5:7]), int(str(start_day)[8:10]))\n",
    "end = datetime(int(str(end_day)[:4]), int(str(end_day)[5:7]), int(str(end_day)[8:10]))\n",
    "\n",
    "# Get daily data\n",
    "# KCQT0 is Los Angeles\n",
    "# 71877 is Calgary\n",
    "data = Daily('DHKZ6', start, end)\n",
    "data = data.fetch()"
   ],
   "metadata": {
    "collapsed": false,
    "ExecuteTime": {
     "start_time": "2023-05-25T13:13:41.342078Z",
     "end_time": "2023-05-25T13:13:41.355820Z"
    }
   }
  },
  {
   "cell_type": "code",
   "execution_count": 195,
   "outputs": [],
   "source": [
    "wind_data = data[['wdir', 'wspd']]"
   ],
   "metadata": {
    "collapsed": false,
    "ExecuteTime": {
     "start_time": "2023-05-25T13:13:43.909790Z",
     "end_time": "2023-05-25T13:13:43.921065Z"
    }
   }
  },
  {
   "cell_type": "code",
   "execution_count": 195,
   "outputs": [],
   "source": [],
   "metadata": {
    "collapsed": false,
    "ExecuteTime": {
     "start_time": "2023-05-25T13:13:44.139246Z",
     "end_time": "2023-05-25T13:13:44.147329Z"
    }
   }
  },
  {
   "cell_type": "code",
   "execution_count": 195,
   "outputs": [],
   "source": [],
   "metadata": {
    "collapsed": false,
    "ExecuteTime": {
     "start_time": "2023-05-25T13:13:44.293630Z",
     "end_time": "2023-05-25T13:13:44.300151Z"
    }
   }
  },
  {
   "cell_type": "code",
   "execution_count": 195,
   "outputs": [],
   "source": [],
   "metadata": {
    "collapsed": false,
    "ExecuteTime": {
     "start_time": "2023-05-25T13:13:44.472954Z",
     "end_time": "2023-05-25T13:13:44.480306Z"
    }
   }
  },
  {
   "cell_type": "code",
   "execution_count": 196,
   "outputs": [],
   "source": [
    "temp_data = data[['tavg', 'tmin', 'tmax', 'prcp']]"
   ],
   "metadata": {
    "collapsed": false,
    "ExecuteTime": {
     "start_time": "2023-05-25T13:13:44.735103Z",
     "end_time": "2023-05-25T13:13:44.740641Z"
    }
   }
  },
  {
   "cell_type": "code",
   "execution_count": 197,
   "outputs": [],
   "source": [
    "temp_data = temp_data.diff(1)"
   ],
   "metadata": {
    "collapsed": false,
    "ExecuteTime": {
     "start_time": "2023-05-25T13:13:45.209818Z",
     "end_time": "2023-05-25T13:13:45.214636Z"
    }
   }
  },
  {
   "cell_type": "code",
   "execution_count": 205,
   "outputs": [],
   "source": [
    "temp_data.fillna(0, inplace=True)\n",
    "temp_data['date'] = temp_data.index.date"
   ],
   "metadata": {
    "collapsed": false,
    "ExecuteTime": {
     "start_time": "2023-05-25T13:21:15.923058Z",
     "end_time": "2023-05-25T13:21:15.933551Z"
    }
   }
  },
  {
   "cell_type": "code",
   "execution_count": 206,
   "outputs": [],
   "source": [],
   "metadata": {
    "collapsed": false,
    "ExecuteTime": {
     "start_time": "2023-05-25T13:21:26.394686Z",
     "end_time": "2023-05-25T13:21:26.403705Z"
    }
   }
  },
  {
   "cell_type": "code",
   "execution_count": 157,
   "outputs": [],
   "source": [
    "stations = Stations()\n",
    "stations = stations.nearby(51.063180, -114.071435)\n",
    "station = stations.fetch(5)"
   ],
   "metadata": {
    "collapsed": false,
    "ExecuteTime": {
     "start_time": "2023-05-25T12:55:51.847037Z",
     "end_time": "2023-05-25T12:55:51.875303Z"
    }
   }
  },
  {
   "cell_type": "code",
   "execution_count": 158,
   "outputs": [
    {
     "data": {
      "text/plain": "                                name country region    wmo  icao  latitude   \nid                                                                           \nDHKZ6               Calgary Int'l CS      CA     AB  71393  <NA>     51.11  \\\n71877  Calgary International Airport      CA     AB  71877  CYYC     51.12   \n71235                      Cop Upper      CA     AB  71235  CWDU     51.08   \n71860             Calgary / Cochrane      CA     AB  71860  CYBW     51.10   \nA4Y76     Calgary Springbank Airport      CA     AB   <NA>  <NA>     51.11   \n\n       longitude  elevation          timezone hourly_start hourly_end   \nid                                                                      \nDHKZ6  -114.0000     1082.0  America/Edmonton   2020-01-01 2022-12-14  \\\n71877  -114.0100     1099.0  America/Edmonton   1955-07-02 2023-05-24   \n71235  -114.2200     1235.0  America/Edmonton   1993-06-07 2023-05-02   \n71860  -114.3667     1200.0  America/Edmonton   2003-03-30 2023-05-24   \nA4Y76  -114.3700     1201.0  America/Edmonton   2020-01-01 2022-12-14   \n\n      daily_start  daily_end monthly_start monthly_end      distance  \nid                                                                    \nDHKZ6  2000-01-01 2022-12-13    2000-01-01  2022-01-01   7211.029781  \n71877  1957-01-02 2023-05-19    1957-01-01  2022-01-01   7637.226218  \n71235  1993-06-07 2023-05-18    1993-01-01  2022-01-01  10547.266944  \n71860  2012-08-09 2022-04-24    2015-01-01  2022-01-01  21027.884923  \nA4Y76  2018-10-29 2022-12-12    2018-01-01  2022-01-01  21493.757262  ",
      "text/html": "<div>\n<style scoped>\n    .dataframe tbody tr th:only-of-type {\n        vertical-align: middle;\n    }\n\n    .dataframe tbody tr th {\n        vertical-align: top;\n    }\n\n    .dataframe thead th {\n        text-align: right;\n    }\n</style>\n<table border=\"1\" class=\"dataframe\">\n  <thead>\n    <tr style=\"text-align: right;\">\n      <th></th>\n      <th>name</th>\n      <th>country</th>\n      <th>region</th>\n      <th>wmo</th>\n      <th>icao</th>\n      <th>latitude</th>\n      <th>longitude</th>\n      <th>elevation</th>\n      <th>timezone</th>\n      <th>hourly_start</th>\n      <th>hourly_end</th>\n      <th>daily_start</th>\n      <th>daily_end</th>\n      <th>monthly_start</th>\n      <th>monthly_end</th>\n      <th>distance</th>\n    </tr>\n    <tr>\n      <th>id</th>\n      <th></th>\n      <th></th>\n      <th></th>\n      <th></th>\n      <th></th>\n      <th></th>\n      <th></th>\n      <th></th>\n      <th></th>\n      <th></th>\n      <th></th>\n      <th></th>\n      <th></th>\n      <th></th>\n      <th></th>\n      <th></th>\n    </tr>\n  </thead>\n  <tbody>\n    <tr>\n      <th>DHKZ6</th>\n      <td>Calgary Int'l CS</td>\n      <td>CA</td>\n      <td>AB</td>\n      <td>71393</td>\n      <td>&lt;NA&gt;</td>\n      <td>51.11</td>\n      <td>-114.0000</td>\n      <td>1082.0</td>\n      <td>America/Edmonton</td>\n      <td>2020-01-01</td>\n      <td>2022-12-14</td>\n      <td>2000-01-01</td>\n      <td>2022-12-13</td>\n      <td>2000-01-01</td>\n      <td>2022-01-01</td>\n      <td>7211.029781</td>\n    </tr>\n    <tr>\n      <th>71877</th>\n      <td>Calgary International Airport</td>\n      <td>CA</td>\n      <td>AB</td>\n      <td>71877</td>\n      <td>CYYC</td>\n      <td>51.12</td>\n      <td>-114.0100</td>\n      <td>1099.0</td>\n      <td>America/Edmonton</td>\n      <td>1955-07-02</td>\n      <td>2023-05-24</td>\n      <td>1957-01-02</td>\n      <td>2023-05-19</td>\n      <td>1957-01-01</td>\n      <td>2022-01-01</td>\n      <td>7637.226218</td>\n    </tr>\n    <tr>\n      <th>71235</th>\n      <td>Cop Upper</td>\n      <td>CA</td>\n      <td>AB</td>\n      <td>71235</td>\n      <td>CWDU</td>\n      <td>51.08</td>\n      <td>-114.2200</td>\n      <td>1235.0</td>\n      <td>America/Edmonton</td>\n      <td>1993-06-07</td>\n      <td>2023-05-02</td>\n      <td>1993-06-07</td>\n      <td>2023-05-18</td>\n      <td>1993-01-01</td>\n      <td>2022-01-01</td>\n      <td>10547.266944</td>\n    </tr>\n    <tr>\n      <th>71860</th>\n      <td>Calgary / Cochrane</td>\n      <td>CA</td>\n      <td>AB</td>\n      <td>71860</td>\n      <td>CYBW</td>\n      <td>51.10</td>\n      <td>-114.3667</td>\n      <td>1200.0</td>\n      <td>America/Edmonton</td>\n      <td>2003-03-30</td>\n      <td>2023-05-24</td>\n      <td>2012-08-09</td>\n      <td>2022-04-24</td>\n      <td>2015-01-01</td>\n      <td>2022-01-01</td>\n      <td>21027.884923</td>\n    </tr>\n    <tr>\n      <th>A4Y76</th>\n      <td>Calgary Springbank Airport</td>\n      <td>CA</td>\n      <td>AB</td>\n      <td>&lt;NA&gt;</td>\n      <td>&lt;NA&gt;</td>\n      <td>51.11</td>\n      <td>-114.3700</td>\n      <td>1201.0</td>\n      <td>America/Edmonton</td>\n      <td>2020-01-01</td>\n      <td>2022-12-14</td>\n      <td>2018-10-29</td>\n      <td>2022-12-12</td>\n      <td>2018-01-01</td>\n      <td>2022-01-01</td>\n      <td>21493.757262</td>\n    </tr>\n  </tbody>\n</table>\n</div>"
     },
     "execution_count": 158,
     "metadata": {},
     "output_type": "execute_result"
    }
   ],
   "source": [
    "station"
   ],
   "metadata": {
    "collapsed": false,
    "ExecuteTime": {
     "start_time": "2023-05-25T12:55:53.025131Z",
     "end_time": "2023-05-25T12:55:53.037873Z"
    }
   }
  },
  {
   "cell_type": "code",
   "execution_count": 202,
   "outputs": [],
   "source": [],
   "metadata": {
    "collapsed": false,
    "ExecuteTime": {
     "start_time": "2023-05-25T13:20:25.942985Z",
     "end_time": "2023-05-25T13:20:25.949973Z"
    }
   }
  },
  {
   "cell_type": "code",
   "execution_count": 203,
   "outputs": [],
   "source": [
    "gfs_ens_bc_change_df['date'] = gfs_ens_bc_change_df.index.date"
   ],
   "metadata": {
    "collapsed": false,
    "ExecuteTime": {
     "start_time": "2023-05-25T13:20:30.628289Z",
     "end_time": "2023-05-25T13:20:30.638719Z"
    }
   }
  },
  {
   "cell_type": "code",
   "execution_count": 207,
   "outputs": [],
   "source": [
    "merged_df = pd.merge(gfs_ens_bc_change_df, temp_data, on='date', how='left')"
   ],
   "metadata": {
    "collapsed": false,
    "ExecuteTime": {
     "start_time": "2023-05-25T13:21:51.717738Z",
     "end_time": "2023-05-25T13:21:51.725770Z"
    }
   }
  },
  {
   "cell_type": "code",
   "execution_count": 210,
   "outputs": [],
   "source": [
    "merged_df.index = gfs_ens_bc_change_df.index"
   ],
   "metadata": {
    "collapsed": false,
    "ExecuteTime": {
     "start_time": "2023-05-25T13:22:41.591486Z",
     "end_time": "2023-05-25T13:22:41.598224Z"
    }
   }
  },
  {
   "cell_type": "code",
   "execution_count": 212,
   "outputs": [],
   "source": [
    "merged_df.drop(columns=['date'], inplace=True)"
   ],
   "metadata": {
    "collapsed": false,
    "ExecuteTime": {
     "start_time": "2023-05-25T13:23:00.252938Z",
     "end_time": "2023-05-25T13:23:00.263802Z"
    }
   }
  },
  {
   "cell_type": "code",
   "execution_count": null,
   "outputs": [],
   "source": [
    "# get data from EIA short term energy outlook, such as average heating days"
   ],
   "metadata": {
    "collapsed": false
   }
  },
  {
   "cell_type": "code",
   "execution_count": null,
   "outputs": [],
   "source": [],
   "metadata": {
    "collapsed": false
   }
  },
  {
   "cell_type": "code",
   "execution_count": null,
   "outputs": [],
   "source": [],
   "metadata": {
    "collapsed": false
   }
  },
  {
   "cell_type": "code",
   "execution_count": null,
   "outputs": [],
   "source": [],
   "metadata": {
    "collapsed": false
   }
  }
 ],
 "metadata": {
  "kernelspec": {
   "display_name": "Python 3",
   "language": "python",
   "name": "python3"
  },
  "language_info": {
   "codemirror_mode": {
    "name": "ipython",
    "version": 2
   },
   "file_extension": ".py",
   "mimetype": "text/x-python",
   "name": "python",
   "nbconvert_exporter": "python",
   "pygments_lexer": "ipython2",
   "version": "2.7.6"
  }
 },
 "nbformat": 4,
 "nbformat_minor": 0
}
