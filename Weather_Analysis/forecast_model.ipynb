{
 "cells": [
  {
   "cell_type": "markdown",
   "source": [
    " use neural network to predict the change in the ecmwf-eps from the previous cycle run 12 hours ago for days 9-14\n",
    " ### current model features\n",
    "- the difference between the new ecmwf forecast for day 9 and the previous emcwf-eps forecast for day 9[x]\n",
    "- the difference between the new emcwf-eps forecast for day 8 and the previous emcwf-eps forecast for day 8[x]\n",
    "- the difference between the new gfs-ens-bc forecast for days 9-14 and the previous emcwf-eps forecast for days 9-14[x]\n",
    "- the difference between the new cmc-ens forecast for days 9-14 and the new gfs-ens-bc  forecast for days 9-14[x]\n",
    "\n",
    "### new feature ideas\n",
    "- rain data\n",
    "- wind data\n",
    "- ???"
   ],
   "metadata": {
    "collapsed": false
   }
  },
  {
   "cell_type": "code",
   "execution_count": 53,
   "outputs": [],
   "source": [
    "import pandas as pd\n",
    "import glob\n",
    "import matplotlib.pyplot as plt"
   ],
   "metadata": {
    "collapsed": false,
    "ExecuteTime": {
     "start_time": "2023-05-18T12:45:51.507757Z",
     "end_time": "2023-05-18T12:45:51.511625Z"
    }
   }
  },
  {
   "cell_type": "code",
   "execution_count": 54,
   "outputs": [],
   "source": [
    "path = \"RawData\""
   ],
   "metadata": {
    "collapsed": false,
    "ExecuteTime": {
     "start_time": "2023-05-18T12:45:51.668022Z",
     "end_time": "2023-05-18T12:45:51.671278Z"
    }
   }
  },
  {
   "cell_type": "code",
   "execution_count": 303,
   "outputs": [],
   "source": [
    "def extract_date_time(filename):\n",
    "    parts = filename.split('.')\n",
    "    date = parts[1]\n",
    "    time = parts[2]\n",
    "    return date, time"
   ],
   "metadata": {
    "collapsed": false,
    "ExecuteTime": {
     "start_time": "2023-05-18T14:00:37.399061Z",
     "end_time": "2023-05-18T14:00:37.404556Z"
    }
   }
  },
  {
   "cell_type": "code",
   "execution_count": null,
   "outputs": [],
   "source": [
    "ecmwf_files = glob.glob(path + '/ecmwf.*.[01][02].gw_hdd.csv')\n",
    "ecmwf_sorted_files = sorted(ecmwf_files, key=lambda x: (x.split('.')[1], x.split('.')[2]))[3:]\n",
    "\n",
    "emcwf_eps_files = glob.glob(path + '/ecmwf-eps.*.[01][02].gw_hdd.csv')\n",
    "emcwf_eps_sorted_files = sorted(emcwf_eps_files, key=lambda x: (x.split('.')[1], x.split('.')[2]))[2:]"
   ],
   "metadata": {
    "collapsed": false
   }
  },
  {
   "cell_type": "code",
   "execution_count": null,
   "outputs": [],
   "source": [
    "set1 = set((extract_date_time(filename) for filename in ecmwf_sorted_files))\n",
    "set2 = set((extract_date_time(filename) for filename in emcwf_eps_sorted_files))"
   ],
   "metadata": {
    "collapsed": false
   }
  },
  {
   "cell_type": "code",
   "execution_count": null,
   "outputs": [],
   "source": [
    "ecmwf_sorted_files = [filename for filename in ecmwf_sorted_files if extract_date_time(filename) in set2]\n",
    "emcwf_eps_sorted_files = [filename for filename in emcwf_eps_sorted_files if extract_date_time(filename) in set1]"
   ],
   "metadata": {
    "collapsed": false
   }
  },
  {
   "cell_type": "code",
   "execution_count": null,
   "outputs": [],
   "source": [],
   "metadata": {
    "collapsed": false
   }
  },
  {
   "cell_type": "code",
   "execution_count": null,
   "outputs": [],
   "source": [],
   "metadata": {
    "collapsed": false
   }
  },
  {
   "cell_type": "markdown",
   "source": [
    "### step 1 get changes in ecmwf-eps compared to 12 hours ago for days 9-14"
   ],
   "metadata": {
    "collapsed": false
   }
  },
  {
   "cell_type": "code",
   "execution_count": 321,
   "outputs": [],
   "source": [],
   "metadata": {
    "collapsed": false,
    "ExecuteTime": {
     "start_time": "2023-05-18T15:24:26.332207Z",
     "end_time": "2023-05-18T15:24:26.339253Z"
    }
   }
  },
  {
   "cell_type": "code",
   "execution_count": 331,
   "outputs": [],
   "source": [
    "change_df = pd.DataFrame(columns=['time', 'diff_9', 'diff_10', 'diff_11', 'diff_12', 'diff_13', 'diff_14'])\n",
    "for i in range(1, len(emcwf_eps_sorted_files)):\n",
    "    emcwf_eps_df = pd.read_csv(emcwf_eps_sorted_files[i])\n",
    "    prev_emcwf_eps_df = pd.read_csv(emcwf_eps_sorted_files[i-1])\n",
    "    date = emcwf_eps_df[emcwf_eps_df.iloc[:, 2] == 0].iloc[-1]['Date']\n",
    "    time = int(emcwf_eps_sorted_files[i-1].split('.')[2])\n",
    "    changes = [time]\n",
    "    for day in range(8, 14):\n",
    "        changes.append(emcwf_eps_df.iloc[day]['Value'] - prev_emcwf_eps_df.iloc[day]['Value'])\n",
    "    new_row = pd.DataFrame([changes], columns=change_df.columns, index=[date])\n",
    "    change_df = pd.concat([change_df, new_row])\n"
   ],
   "metadata": {
    "collapsed": false,
    "ExecuteTime": {
     "start_time": "2023-05-18T15:31:01.237124Z",
     "end_time": "2023-05-18T15:31:10.830450Z"
    }
   }
  },
  {
   "cell_type": "code",
   "execution_count": 334,
   "outputs": [],
   "source": [],
   "metadata": {
    "collapsed": false,
    "ExecuteTime": {
     "start_time": "2023-05-18T15:33:09.214036Z",
     "end_time": "2023-05-18T15:33:09.219687Z"
    }
   }
  },
  {
   "cell_type": "code",
   "execution_count": 334,
   "outputs": [],
   "source": [],
   "metadata": {
    "collapsed": false,
    "ExecuteTime": {
     "start_time": "2023-05-18T15:33:05.847823Z",
     "end_time": "2023-05-18T15:33:05.853515Z"
    }
   }
  },
  {
   "cell_type": "code",
   "execution_count": 334,
   "outputs": [],
   "source": [],
   "metadata": {
    "collapsed": false,
    "ExecuteTime": {
     "start_time": "2023-05-18T15:32:59.950078Z",
     "end_time": "2023-05-18T15:32:59.960692Z"
    }
   }
  },
  {
   "cell_type": "code",
   "execution_count": 328,
   "outputs": [],
   "source": [],
   "metadata": {
    "collapsed": false,
    "ExecuteTime": {
     "start_time": "2023-05-18T15:29:25.547707Z",
     "end_time": "2023-05-18T15:29:25.556661Z"
    }
   }
  },
  {
   "cell_type": "markdown",
   "source": [
    "## step 2 recreate model"
   ],
   "metadata": {
    "collapsed": false
   }
  },
  {
   "cell_type": "markdown",
   "source": [
    "### step 2.1 get difference between the new ecmwf forecast for day 9 and the previous emcwf-eps forecast for day 9"
   ],
   "metadata": {
    "collapsed": false
   }
  },
  {
   "cell_type": "markdown",
   "source": [
    "### problems:\n",
    "- not all dates are in both sets of data"
   ],
   "metadata": {
    "collapsed": false
   }
  },
  {
   "cell_type": "code",
   "execution_count": 275,
   "outputs": [],
   "source": [
    "diff = {}\n",
    "for i in range(2, len(ecmwf_sorted_files)-1):\n",
    "    ecmwf_df = pd.read_csv(ecmwf_sorted_files[i])\n",
    "    emcwf_eps_df = pd.read_csv(emcwf_eps_sorted_files[i-1])\n",
    "\n",
    "    ecmwf = ecmwf_df.iloc[8]\n",
    "    emcwf_eps = emcwf_eps_df.iloc[8]\n",
    "\n",
    "    date = ecmwf['Date']\n",
    "    diff[date] = ecmwf['Value'] - emcwf_eps['Value']"
   ],
   "metadata": {
    "collapsed": false,
    "ExecuteTime": {
     "start_time": "2023-05-18T13:49:04.052531Z",
     "end_time": "2023-05-18T13:49:08.865282Z"
    }
   }
  },
  {
   "cell_type": "code",
   "execution_count": 277,
   "outputs": [],
   "source": [
    "diff_df = pd.DataFrame.from_dict(diff, orient='index', columns=['Value'])"
   ],
   "metadata": {
    "collapsed": false,
    "ExecuteTime": {
     "start_time": "2023-05-18T13:49:27.865863Z",
     "end_time": "2023-05-18T13:49:27.872697Z"
    }
   }
  },
  {
   "cell_type": "code",
   "execution_count": 305,
   "outputs": [
    {
     "data": {
      "text/plain": "            Value\n2018-07-12  0.002\n2018-07-13  0.000\n2018-07-14  0.003\n2018-07-15  0.001\n2018-07-16  0.003\n...           ...\n2023-05-13 -0.277\n2023-05-14 -0.284\n2023-05-15 -0.412\n2023-05-16 -0.251\n2023-05-17 -0.022\n\n[1770 rows x 1 columns]",
      "text/html": "<div>\n<style scoped>\n    .dataframe tbody tr th:only-of-type {\n        vertical-align: middle;\n    }\n\n    .dataframe tbody tr th {\n        vertical-align: top;\n    }\n\n    .dataframe thead th {\n        text-align: right;\n    }\n</style>\n<table border=\"1\" class=\"dataframe\">\n  <thead>\n    <tr style=\"text-align: right;\">\n      <th></th>\n      <th>Value</th>\n    </tr>\n  </thead>\n  <tbody>\n    <tr>\n      <th>2018-07-12</th>\n      <td>0.002</td>\n    </tr>\n    <tr>\n      <th>2018-07-13</th>\n      <td>0.000</td>\n    </tr>\n    <tr>\n      <th>2018-07-14</th>\n      <td>0.003</td>\n    </tr>\n    <tr>\n      <th>2018-07-15</th>\n      <td>0.001</td>\n    </tr>\n    <tr>\n      <th>2018-07-16</th>\n      <td>0.003</td>\n    </tr>\n    <tr>\n      <th>...</th>\n      <td>...</td>\n    </tr>\n    <tr>\n      <th>2023-05-13</th>\n      <td>-0.277</td>\n    </tr>\n    <tr>\n      <th>2023-05-14</th>\n      <td>-0.284</td>\n    </tr>\n    <tr>\n      <th>2023-05-15</th>\n      <td>-0.412</td>\n    </tr>\n    <tr>\n      <th>2023-05-16</th>\n      <td>-0.251</td>\n    </tr>\n    <tr>\n      <th>2023-05-17</th>\n      <td>-0.022</td>\n    </tr>\n  </tbody>\n</table>\n<p>1770 rows × 1 columns</p>\n</div>"
     },
     "execution_count": 305,
     "metadata": {},
     "output_type": "execute_result"
    }
   ],
   "source": [
    "diff_df"
   ],
   "metadata": {
    "collapsed": false,
    "ExecuteTime": {
     "start_time": "2023-05-18T14:03:42.237690Z",
     "end_time": "2023-05-18T14:03:42.242776Z"
    }
   }
  },
  {
   "cell_type": "code",
   "execution_count": 302,
   "outputs": [],
   "source": [],
   "metadata": {
    "collapsed": false,
    "ExecuteTime": {
     "start_time": "2023-05-18T13:57:48.528639Z",
     "end_time": "2023-05-18T13:57:48.533720Z"
    }
   }
  },
  {
   "cell_type": "code",
   "execution_count": 302,
   "outputs": [],
   "source": [],
   "metadata": {
    "collapsed": false,
    "ExecuteTime": {
     "start_time": "2023-05-18T13:57:50.814992Z",
     "end_time": "2023-05-18T13:57:50.825234Z"
    }
   }
  },
  {
   "cell_type": "code",
   "execution_count": 302,
   "outputs": [],
   "source": [],
   "metadata": {
    "collapsed": false,
    "ExecuteTime": {
     "start_time": "2023-05-18T13:57:56.255920Z",
     "end_time": "2023-05-18T13:57:56.278401Z"
    }
   }
  },
  {
   "cell_type": "code",
   "execution_count": 302,
   "outputs": [],
   "source": [],
   "metadata": {
    "collapsed": false,
    "ExecuteTime": {
     "start_time": "2023-05-18T13:58:00.571550Z",
     "end_time": "2023-05-18T13:58:00.579768Z"
    }
   }
  },
  {
   "cell_type": "code",
   "execution_count": 274,
   "outputs": [],
   "source": [],
   "metadata": {
    "collapsed": false,
    "ExecuteTime": {
     "start_time": "2023-05-18T13:48:53.147145Z",
     "end_time": "2023-05-18T13:48:53.150297Z"
    }
   }
  },
  {
   "cell_type": "code",
   "execution_count": 274,
   "outputs": [],
   "source": [],
   "metadata": {
    "collapsed": false,
    "ExecuteTime": {
     "start_time": "2023-05-18T13:48:53.513038Z",
     "end_time": "2023-05-18T13:48:53.517560Z"
    }
   }
  },
  {
   "cell_type": "code",
   "execution_count": 249,
   "outputs": [],
   "source": [],
   "metadata": {
    "collapsed": false,
    "ExecuteTime": {
     "start_time": "2023-05-18T13:43:11.904446Z",
     "end_time": "2023-05-18T13:43:11.907514Z"
    }
   }
  },
  {
   "cell_type": "code",
   "execution_count": null,
   "outputs": [],
   "source": [],
   "metadata": {
    "collapsed": false
   }
  }
 ],
 "metadata": {
  "kernelspec": {
   "display_name": "Python 3",
   "language": "python",
   "name": "python3"
  },
  "language_info": {
   "codemirror_mode": {
    "name": "ipython",
    "version": 2
   },
   "file_extension": ".py",
   "mimetype": "text/x-python",
   "name": "python",
   "nbconvert_exporter": "python",
   "pygments_lexer": "ipython2",
   "version": "2.7.6"
  }
 },
 "nbformat": 4,
 "nbformat_minor": 0
}
